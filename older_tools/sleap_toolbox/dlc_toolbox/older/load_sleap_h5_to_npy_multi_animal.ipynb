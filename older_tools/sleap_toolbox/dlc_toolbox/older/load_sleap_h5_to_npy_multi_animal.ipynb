{
 "cells": [
  {
   "cell_type": "code",
   "execution_count": 1,
   "metadata": {},
   "outputs": [
    {
     "data": {
      "application/javascript": [
       "IPython.notebook.set_autosave_interval(180000)"
      ]
     },
     "metadata": {},
     "output_type": "display_data"
    },
    {
     "name": "stdout",
     "output_type": "stream",
     "text": [
      "Autosaving every 180 seconds\n"
     ]
    },
    {
     "data": {
      "text/html": [
       "<style>.container { width:100% !important; }</style>"
      ],
      "text/plain": [
       "<IPython.core.display.HTML object>"
      ]
     },
     "metadata": {},
     "output_type": "display_data"
    }
   ],
   "source": [
    "import matplotlib\n",
    "#matplotlib.use('Agg')\n",
    "%matplotlib tk\n",
    "%autosave 180\n",
    "import matplotlib.pyplot as plt\n",
    "from IPython.core.display import display, HTML\n",
    "display(HTML(\"<style>.container { width:100% !important; }</style>\"))\n",
    "\n",
    "import matplotlib.cm as cm\n",
    "from matplotlib import gridspec\n",
    "from scipy import signal\n",
    "\n",
    "import numpy as np\n",
    "import pandas as pd\n",
    "import os\n",
    "import shutil\n",
    "import cv2\n",
    "from tqdm import trange\n",
    "\n",
    "#import glob2\n",
    "\n",
    "from scipy.io import loadmat\n",
    "import scipy\n",
    "import h5py\n",
    "#import hdf5storage\n",
    "import csv\n",
    "\n",
    "\n",
    "colors = [    \n",
    "'orange','firebrick','lawngreen','dodgerblue','crimson','orchid','slateblue',\n",
    "'darkgreen','darkorange','indianred','darkviolet','deepskyblue','greenyellow',\n",
    "'peru','cadetblue','forestgreen','slategrey','lightsteelblue','rebeccapurple',\n",
    "'darkmagenta','yellow','hotpink']\n",
    "import glob2"
   ]
  },
  {
   "cell_type": "code",
   "execution_count": 6,
   "metadata": {},
   "outputs": [],
   "source": [
    "# \n",
    "def make_video(fname_h5,\n",
    "              fname_video):\n",
    "    \n",
    "    from tqdm import trange\n",
    "    \n",
    "    colors = [\n",
    "        (0,0,255),\n",
    "        (255,0,0),\n",
    "        (255,255,0),\n",
    "        (0,128,0)\n",
    "        ]\n",
    "\n",
    "    # \n",
    "    names = ['female','male','pup1','pup2']\n",
    "    clrs = ['blue','red','cyan','green']\n",
    "\n",
    "    # convert data from h5 to npy\n",
    "    hf = h5py.File(fname_h5, 'r')\n",
    "    keys = hf.keys()\n",
    "    group2 = hf.get('tracks')\n",
    "    tracks = []\n",
    "    for k in range(len(group2)):\n",
    "        tracks.append(group2[k])\n",
    "\n",
    "    tracks = np.array(tracks).transpose(3,0,2,1)\n",
    "    np.save(fname_h5[:-3]+'.npy',tracks)\n",
    "    print (\"[n_frames, n_animals, n-features, xy,]\", tracks.shape)\n",
    "    \n",
    "    # start loading tracks\n",
    "    start = 0\n",
    "    end = 100 #tracks.shape[0]\n",
    "    \n",
    "    # load and videos    \n",
    "    video_name = fname_video\n",
    "    fname_out = (video_name[:-4]+'_'+str(start)+\"_\"+str(end)+'.mp4')\n",
    "    if os.path.exists(fname_out):\n",
    "        print (\"fname: exists\", fname_out)\n",
    "        return\n",
    "    \n",
    "    # video settings\n",
    "    size_vid = np.array([1280,1024])\n",
    "    dot_size = 4\n",
    "    \n",
    "    # load original vid\n",
    "    original_vid = cv2.VideoCapture(video_name)\n",
    "    fourcc = cv2.VideoWriter_fourcc('M','P','E','G')\n",
    "    video_out = cv2.VideoWriter(fname_out,fourcc, 25, (size_vid[0],size_vid[1]), True)\n",
    "    original_vid.set(cv2.CAP_PROP_POS_FRAMES, start)\n",
    "\n",
    "    # loop over frames\n",
    "    for n in trange(start, end, 1):\n",
    "    #for n in trange(start, 100, 1):\n",
    "        ret, frame = original_vid.read()\n",
    "\n",
    "        for i in range(tracks.shape[1]):\n",
    "            color = colors[i] #(255, 0, 0)\n",
    "\n",
    "            for f in range(tracks.shape[2]):\n",
    "                x = tracks[n,i,f,0]\n",
    "                y = tracks[n,i,f,1]\n",
    "\n",
    "                if np.isnan(x) or np.isnan(y):\n",
    "                    continue\n",
    "\n",
    "                x = int(x)\n",
    "                y = int(y)\n",
    "\n",
    "                # plot cicrl\n",
    "                center_coordinates = (x,y)\n",
    "                radius = dot_size\n",
    "                thickness = dot_size\n",
    "                frame = cv2.circle(frame, center_coordinates, radius, color, thickness)\n",
    "\n",
    "                # plot line\n",
    "                if f<(tracks.shape[2]-1):\n",
    "                    if np.isnan(tracks[n,i,f+1,0])==False:\n",
    "                        start_point = (int(tracks[n,i,f+1,0]),\n",
    "                                       int(tracks[n,i,f+1,1])) \n",
    "\n",
    "                        # End coordinate, here (250, 250) \n",
    "                        # represents the bottom right corner of image \n",
    "                        end_point = center_coordinates\n",
    "\n",
    "                        # Line thickness of 9 px \n",
    "                        thickness = 3\n",
    "\n",
    "                        # Using cv2.line() method \n",
    "                        # Draw a diagonal green line with thickness of 9 px \n",
    "                        frame = cv2.line(frame, \n",
    "                                         start_point, \n",
    "                                         end_point, \n",
    "                                         color, \n",
    "                                         thickness)\n",
    "\n",
    "#                 frame[y-dot_size:y+dot_size,x-dot_size:x+dot_size]= (np.float32(\n",
    "#                     matplotlib.colors.to_rgb(clrs[i]))*255.).astype('uint8')\n",
    "\n",
    "        video_out.write(frame)\n",
    "\n",
    "    video_out.release()\n",
    "    original_vid.release()"
   ]
  },
  {
   "cell_type": "code",
   "execution_count": 8,
   "metadata": {},
   "outputs": [
    {
     "name": "stderr",
     "output_type": "stream",
     "text": [
      "\r",
      "  0%|          | 0/100 [00:00<?, ?it/s]"
     ]
    },
    {
     "name": "stdout",
     "output_type": "stream",
     "text": [
      "[n_frames, n_animals, n-features, xy,] (89987, 4, 14, 2)\n"
     ]
    },
    {
     "name": "stderr",
     "output_type": "stream",
     "text": [
      "100%|██████████| 100/100 [00:02<00:00, 41.30it/s]\n"
     ]
    }
   ],
   "source": [
    "# load h5 names and convert to .npy and make movie\n",
    "fname_h5 = '/media/cat/7e3d5af3-7d7b-424d-bdd5-eb995a4a0c62/dan/cohort1/march_16/2020-3-16_02_54_39_170978_compressed/2020_3_16_02_54_39_170978_compressed.analysis.h5'\n",
    "fname_video = '/media/cat/7e3d5af3-7d7b-424d-bdd5-eb995a4a0c62/dan/cohort1/march_16/2020-3-16_02_54_39_170978_compressed/2020_3_16_02_54_39_170978_compressed.avi'\n",
    "\n",
    "# LOAD h5 file:\n",
    "import parmap\n",
    "if False:\n",
    "    parmap.map(make_video, \n",
    "               filenames,\n",
    "               pm_processes=12,\n",
    "               pm_pbar=True)\n",
    "    \n",
    "else:\n",
    "    make_video(fname_h5,\n",
    "              fname_video)\n",
    "        #make_video(filename)\n",
    "    "
   ]
  },
  {
   "cell_type": "code",
   "execution_count": 3,
   "metadata": {
    "scrolled": true
   },
   "outputs": [
    {
     "name": "stdout",
     "output_type": "stream",
     "text": [
      "(7500, 14, 2)\n",
      "(7500, 2)\n",
      "(7500,)\n",
      "\n",
      "(7500, 14, 2)\n",
      "(7500, 2)\n",
      "(7500,)\n",
      "\n",
      "(7500, 14, 2)\n",
      "(7500, 2)\n",
      "(7500,)\n",
      "\n",
      "(7500, 14, 2)\n",
      "(7500, 2)\n",
      "(7500,)\n",
      "\n"
     ]
    },
    {
     "name": "stderr",
     "output_type": "stream",
     "text": [
      "<ipython-input-3-dab89e9db851>:8: RuntimeWarning: Mean of empty slice\n",
      "  temp = np.nanmean(temp,axis=1)\n",
      "<ipython-input-3-dab89e9db851>:8: RuntimeWarning: Mean of empty slice\n",
      "  temp = np.nanmean(temp,axis=1)\n",
      "<ipython-input-3-dab89e9db851>:8: RuntimeWarning: Mean of empty slice\n",
      "  temp = np.nanmean(temp,axis=1)\n",
      "<ipython-input-3-dab89e9db851>:8: RuntimeWarning: Mean of empty slice\n",
      "  temp = np.nanmean(temp,axis=1)\n"
     ]
    }
   ],
   "source": [
    "###############################\n",
    "clrs = ['red','blue','cyan','green']\n",
    "names = ['female','male','pup1','pup2']\n",
    "t=np.arange(tracks.shape[0])/25.\n",
    "for k in range(tracks.shape[1]):\n",
    "    temp = tracks[:,k]\n",
    "    print (temp.shape)\n",
    "    temp = np.nanmean(temp,axis=1)\n",
    "    print (temp.shape)\n",
    "    \n",
    "    temp = np.sum(temp,axis=1)\n",
    "    print (temp.shape)\n",
    "    plt.plot(t,temp,c=clrs[k],label=names[k])\n",
    "    \n",
    "    print ('')\n",
    "plt.legend(fontsize=20)\n",
    "plt.xlabel(\"Time (sec)\",fontsize=20)\n",
    "plt.show()"
   ]
  },
  {
   "cell_type": "code",
   "execution_count": 4,
   "metadata": {},
   "outputs": [
    {
     "name": "stderr",
     "output_type": "stream",
     "text": [
      "100%|██████████| 7500/7500 [02:16<00:00, 54.98it/s]\n"
     ]
    }
   ],
   "source": [
    "# MAKE COMPARISON OF LABELED VS> UNLABELED VIDEOS\n",
    "# start going through video and \n",
    "\n",
    "    "
   ]
  },
  {
   "cell_type": "code",
   "execution_count": 53,
   "metadata": {},
   "outputs": [],
   "source": [
    "from pykalman import KalmanFilter\n",
    "import numpy as np\n",
    "import matplotlib.pyplot as plt\n",
    "import time\n",
    "\n",
    "measurements = np.asarray([(399,293),(403,299),(409,308),(416,315),(418,318),(420,323),(429,326),(423,328),(429,334),(431,337),(433,342),(434,352),(434,349),(433,350),(431,350),(430,349),(428,347),(427,345),(425,341),(429,338),(431,328),(410,313),(406,306),(402,299),(397,291),(391,294),(376,270),(372,272),(351,248),(336,244),(327,236),(307,220)])\n",
    "\n",
    "initial_state_mean = [measurements[0, 0],\n",
    "                      0,\n",
    "                      measurements[0, 1],\n",
    "                      0]\n",
    "\n",
    "transition_matrix = [[1, 1, 0, 0],\n",
    "                     [0, 1, 0, 0],\n",
    "                     [0, 0, 1, 1],\n",
    "                     [0, 0, 0, 1]]\n",
    "\n",
    "observation_matrix = [[1, 0, 0, 0],\n",
    "                      [0, 0, 1, 0]]\n",
    "\n",
    "kf1 = KalmanFilter(transition_matrices = transition_matrix,\n",
    "                  observation_matrices = observation_matrix,\n",
    "                  initial_state_mean = initial_state_mean)\n",
    "\n",
    "kf1 = kf1.em(measurements, n_iter=5)\n",
    "(smoothed_state_means, smoothed_state_covariances) = kf1.smooth(measurements)\n",
    "\n",
    "plt.figure(1)\n",
    "times = range(measurements.shape[0])\n",
    "plt.plot(times, measurements[:, 0], 'bo',\n",
    "         times, measurements[:, 1], 'ro',\n",
    "         times, smoothed_state_means[:, 0], 'b--',\n",
    "         times, smoothed_state_means[:, 2], 'r--',)\n",
    "plt.show()"
   ]
  },
  {
   "cell_type": "code",
   "execution_count": null,
   "metadata": {},
   "outputs": [],
   "source": []
  }
 ],
 "metadata": {
  "kernelspec": {
   "display_name": "Python 3",
   "language": "python",
   "name": "python3"
  },
  "language_info": {
   "codemirror_mode": {
    "name": "ipython",
    "version": 3
   },
   "file_extension": ".py",
   "mimetype": "text/x-python",
   "name": "python",
   "nbconvert_exporter": "python",
   "pygments_lexer": "ipython3",
   "version": "3.8.5"
  }
 },
 "nbformat": 4,
 "nbformat_minor": 4
}
