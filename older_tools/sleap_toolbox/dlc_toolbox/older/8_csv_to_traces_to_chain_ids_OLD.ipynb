{
 "cells": [
  {
   "cell_type": "code",
   "execution_count": 2,
   "metadata": {
    "colab": {
     "base_uri": "https://localhost:8080/",
     "height": 91,
     "resources": {
      "http://localhost:8080/nbextensions/google.colab/files.js": {
       "data": "Ly8gQ29weXJpZ2h0IDIwMTcgR29vZ2xlIExMQwovLwovLyBMaWNlbnNlZCB1bmRlciB0aGUgQXBhY2hlIExpY2Vuc2UsIFZlcnNpb24gMi4wICh0aGUgIkxpY2Vuc2UiKTsKLy8geW91IG1heSBub3QgdXNlIHRoaXMgZmlsZSBleGNlcHQgaW4gY29tcGxpYW5jZSB3aXRoIHRoZSBMaWNlbnNlLgovLyBZb3UgbWF5IG9idGFpbiBhIGNvcHkgb2YgdGhlIExpY2Vuc2UgYXQKLy8KLy8gICAgICBodHRwOi8vd3d3LmFwYWNoZS5vcmcvbGljZW5zZXMvTElDRU5TRS0yLjAKLy8KLy8gVW5sZXNzIHJlcXVpcmVkIGJ5IGFwcGxpY2FibGUgbGF3IG9yIGFncmVlZCB0byBpbiB3cml0aW5nLCBzb2Z0d2FyZQovLyBkaXN0cmlidXRlZCB1bmRlciB0aGUgTGljZW5zZSBpcyBkaXN0cmlidXRlZCBvbiBhbiAiQVMgSVMiIEJBU0lTLAovLyBXSVRIT1VUIFdBUlJBTlRJRVMgT1IgQ09ORElUSU9OUyBPRiBBTlkgS0lORCwgZWl0aGVyIGV4cHJlc3Mgb3IgaW1wbGllZC4KLy8gU2VlIHRoZSBMaWNlbnNlIGZvciB0aGUgc3BlY2lmaWMgbGFuZ3VhZ2UgZ292ZXJuaW5nIHBlcm1pc3Npb25zIGFuZAovLyBsaW1pdGF0aW9ucyB1bmRlciB0aGUgTGljZW5zZS4KCi8qKgogKiBAZmlsZW92ZXJ2aWV3IEhlbHBlcnMgZm9yIGdvb2dsZS5jb2xhYiBQeXRob24gbW9kdWxlLgogKi8KKGZ1bmN0aW9uKHNjb3BlKSB7CmZ1bmN0aW9uIHNwYW4odGV4dCwgc3R5bGVBdHRyaWJ1dGVzID0ge30pIHsKICBjb25zdCBlbGVtZW50ID0gZG9jdW1lbnQuY3JlYXRlRWxlbWVudCgnc3BhbicpOwogIGVsZW1lbnQudGV4dENvbnRlbnQgPSB0ZXh0OwogIGZvciAoY29uc3Qga2V5IG9mIE9iamVjdC5rZXlzKHN0eWxlQXR0cmlidXRlcykpIHsKICAgIGVsZW1lbnQuc3R5bGVba2V5XSA9IHN0eWxlQXR0cmlidXRlc1trZXldOwogIH0KICByZXR1cm4gZWxlbWVudDsKfQoKLy8gTWF4IG51bWJlciBvZiBieXRlcyB3aGljaCB3aWxsIGJlIHVwbG9hZGVkIGF0IGEgdGltZS4KY29uc3QgTUFYX1BBWUxPQURfU0laRSA9IDEwMCAqIDEwMjQ7CgpmdW5jdGlvbiBfdXBsb2FkRmlsZXMoaW5wdXRJZCwgb3V0cHV0SWQpIHsKICBjb25zdCBzdGVwcyA9IHVwbG9hZEZpbGVzU3RlcChpbnB1dElkLCBvdXRwdXRJZCk7CiAgY29uc3Qgb3V0cHV0RWxlbWVudCA9IGRvY3VtZW50LmdldEVsZW1lbnRCeUlkKG91dHB1dElkKTsKICAvLyBDYWNoZSBzdGVwcyBvbiB0aGUgb3V0cHV0RWxlbWVudCB0byBtYWtlIGl0IGF2YWlsYWJsZSBmb3IgdGhlIG5leHQgY2FsbAogIC8vIHRvIHVwbG9hZEZpbGVzQ29udGludWUgZnJvbSBQeXRob24uCiAgb3V0cHV0RWxlbWVudC5zdGVwcyA9IHN0ZXBzOwoKICByZXR1cm4gX3VwbG9hZEZpbGVzQ29udGludWUob3V0cHV0SWQpOwp9CgovLyBUaGlzIGlzIHJvdWdobHkgYW4gYXN5bmMgZ2VuZXJhdG9yIChub3Qgc3VwcG9ydGVkIGluIHRoZSBicm93c2VyIHlldCksCi8vIHdoZXJlIHRoZXJlIGFyZSBtdWx0aXBsZSBhc3luY2hyb25vdXMgc3RlcHMgYW5kIHRoZSBQeXRob24gc2lkZSBpcyBnb2luZwovLyB0byBwb2xsIGZvciBjb21wbGV0aW9uIG9mIGVhY2ggc3RlcC4KLy8gVGhpcyB1c2VzIGEgUHJvbWlzZSB0byBibG9jayB0aGUgcHl0aG9uIHNpZGUgb24gY29tcGxldGlvbiBvZiBlYWNoIHN0ZXAsCi8vIHRoZW4gcGFzc2VzIHRoZSByZXN1bHQgb2YgdGhlIHByZXZpb3VzIHN0ZXAgYXMgdGhlIGlucHV0IHRvIHRoZSBuZXh0IHN0ZXAuCmZ1bmN0aW9uIF91cGxvYWRGaWxlc0NvbnRpbnVlKG91dHB1dElkKSB7CiAgY29uc3Qgb3V0cHV0RWxlbWVudCA9IGRvY3VtZW50LmdldEVsZW1lbnRCeUlkKG91dHB1dElkKTsKICBjb25zdCBzdGVwcyA9IG91dHB1dEVsZW1lbnQuc3RlcHM7CgogIGNvbnN0IG5leHQgPSBzdGVwcy5uZXh0KG91dHB1dEVsZW1lbnQubGFzdFByb21pc2VWYWx1ZSk7CiAgcmV0dXJuIFByb21pc2UucmVzb2x2ZShuZXh0LnZhbHVlLnByb21pc2UpLnRoZW4oKHZhbHVlKSA9PiB7CiAgICAvLyBDYWNoZSB0aGUgbGFzdCBwcm9taXNlIHZhbHVlIHRvIG1ha2UgaXQgYXZhaWxhYmxlIHRvIHRoZSBuZXh0CiAgICAvLyBzdGVwIG9mIHRoZSBnZW5lcmF0b3IuCiAgICBvdXRwdXRFbGVtZW50Lmxhc3RQcm9taXNlVmFsdWUgPSB2YWx1ZTsKICAgIHJldHVybiBuZXh0LnZhbHVlLnJlc3BvbnNlOwogIH0pOwp9CgovKioKICogR2VuZXJhdG9yIGZ1bmN0aW9uIHdoaWNoIGlzIGNhbGxlZCBiZXR3ZWVuIGVhY2ggYXN5bmMgc3RlcCBvZiB0aGUgdXBsb2FkCiAqIHByb2Nlc3MuCiAqIEBwYXJhbSB7c3RyaW5nfSBpbnB1dElkIEVsZW1lbnQgSUQgb2YgdGhlIGlucHV0IGZpbGUgcGlja2VyIGVsZW1lbnQuCiAqIEBwYXJhbSB7c3RyaW5nfSBvdXRwdXRJZCBFbGVtZW50IElEIG9mIHRoZSBvdXRwdXQgZGlzcGxheS4KICogQHJldHVybiB7IUl0ZXJhYmxlPCFPYmplY3Q+fSBJdGVyYWJsZSBvZiBuZXh0IHN0ZXBzLgogKi8KZnVuY3Rpb24qIHVwbG9hZEZpbGVzU3RlcChpbnB1dElkLCBvdXRwdXRJZCkgewogIGNvbnN0IGlucHV0RWxlbWVudCA9IGRvY3VtZW50LmdldEVsZW1lbnRCeUlkKGlucHV0SWQpOwogIGlucHV0RWxlbWVudC5kaXNhYmxlZCA9IGZhbHNlOwoKICBjb25zdCBvdXRwdXRFbGVtZW50ID0gZG9jdW1lbnQuZ2V0RWxlbWVudEJ5SWQob3V0cHV0SWQpOwogIG91dHB1dEVsZW1lbnQuaW5uZXJIVE1MID0gJyc7CgogIGNvbnN0IHBpY2tlZFByb21pc2UgPSBuZXcgUHJvbWlzZSgocmVzb2x2ZSkgPT4gewogICAgaW5wdXRFbGVtZW50LmFkZEV2ZW50TGlzdGVuZXIoJ2NoYW5nZScsIChlKSA9PiB7CiAgICAgIHJlc29sdmUoZS50YXJnZXQuZmlsZXMpOwogICAgfSk7CiAgfSk7CgogIGNvbnN0IGNhbmNlbCA9IGRvY3VtZW50LmNyZWF0ZUVsZW1lbnQoJ2J1dHRvbicpOwogIGlucHV0RWxlbWVudC5wYXJlbnRFbGVtZW50LmFwcGVuZENoaWxkKGNhbmNlbCk7CiAgY2FuY2VsLnRleHRDb250ZW50ID0gJ0NhbmNlbCB1cGxvYWQnOwogIGNvbnN0IGNhbmNlbFByb21pc2UgPSBuZXcgUHJvbWlzZSgocmVzb2x2ZSkgPT4gewogICAgY2FuY2VsLm9uY2xpY2sgPSAoKSA9PiB7CiAgICAgIHJlc29sdmUobnVsbCk7CiAgICB9OwogIH0pOwoKICAvLyBXYWl0IGZvciB0aGUgdXNlciB0byBwaWNrIHRoZSBmaWxlcy4KICBjb25zdCBmaWxlcyA9IHlpZWxkIHsKICAgIHByb21pc2U6IFByb21pc2UucmFjZShbcGlja2VkUHJvbWlzZSwgY2FuY2VsUHJvbWlzZV0pLAogICAgcmVzcG9uc2U6IHsKICAgICAgYWN0aW9uOiAnc3RhcnRpbmcnLAogICAgfQogIH07CgogIGNhbmNlbC5yZW1vdmUoKTsKCiAgLy8gRGlzYWJsZSB0aGUgaW5wdXQgZWxlbWVudCBzaW5jZSBmdXJ0aGVyIHBpY2tzIGFyZSBub3QgYWxsb3dlZC4KICBpbnB1dEVsZW1lbnQuZGlzYWJsZWQgPSB0cnVlOwoKICBpZiAoIWZpbGVzKSB7CiAgICByZXR1cm4gewogICAgICByZXNwb25zZTogewogICAgICAgIGFjdGlvbjogJ2NvbXBsZXRlJywKICAgICAgfQogICAgfTsKICB9CgogIGZvciAoY29uc3QgZmlsZSBvZiBmaWxlcykgewogICAgY29uc3QgbGkgPSBkb2N1bWVudC5jcmVhdGVFbGVtZW50KCdsaScpOwogICAgbGkuYXBwZW5kKHNwYW4oZmlsZS5uYW1lLCB7Zm9udFdlaWdodDogJ2JvbGQnfSkpOwogICAgbGkuYXBwZW5kKHNwYW4oCiAgICAgICAgYCgke2ZpbGUudHlwZSB8fCAnbi9hJ30pIC0gJHtmaWxlLnNpemV9IGJ5dGVzLCBgICsKICAgICAgICBgbGFzdCBtb2RpZmllZDogJHsKICAgICAgICAgICAgZmlsZS5sYXN0TW9kaWZpZWREYXRlID8gZmlsZS5sYXN0TW9kaWZpZWREYXRlLnRvTG9jYWxlRGF0ZVN0cmluZygpIDoKICAgICAgICAgICAgICAgICAgICAgICAgICAgICAgICAgICAgJ24vYSd9IC0gYCkpOwogICAgY29uc3QgcGVyY2VudCA9IHNwYW4oJzAlIGRvbmUnKTsKICAgIGxpLmFwcGVuZENoaWxkKHBlcmNlbnQpOwoKICAgIG91dHB1dEVsZW1lbnQuYXBwZW5kQ2hpbGQobGkpOwoKICAgIGNvbnN0IGZpbGVEYXRhUHJvbWlzZSA9IG5ldyBQcm9taXNlKChyZXNvbHZlKSA9PiB7CiAgICAgIGNvbnN0IHJlYWRlciA9IG5ldyBGaWxlUmVhZGVyKCk7CiAgICAgIHJlYWRlci5vbmxvYWQgPSAoZSkgPT4gewogICAgICAgIHJlc29sdmUoZS50YXJnZXQucmVzdWx0KTsKICAgICAgfTsKICAgICAgcmVhZGVyLnJlYWRBc0FycmF5QnVmZmVyKGZpbGUpOwogICAgfSk7CiAgICAvLyBXYWl0IGZvciB0aGUgZGF0YSB0byBiZSByZWFkeS4KICAgIGxldCBmaWxlRGF0YSA9IHlpZWxkIHsKICAgICAgcHJvbWlzZTogZmlsZURhdGFQcm9taXNlLAogICAgICByZXNwb25zZTogewogICAgICAgIGFjdGlvbjogJ2NvbnRpbnVlJywKICAgICAgfQogICAgfTsKCiAgICAvLyBVc2UgYSBjaHVua2VkIHNlbmRpbmcgdG8gYXZvaWQgbWVzc2FnZSBzaXplIGxpbWl0cy4gU2VlIGIvNjIxMTU2NjAuCiAgICBsZXQgcG9zaXRpb24gPSAwOwogICAgd2hpbGUgKHBvc2l0aW9uIDwgZmlsZURhdGEuYnl0ZUxlbmd0aCkgewogICAgICBjb25zdCBsZW5ndGggPSBNYXRoLm1pbihmaWxlRGF0YS5ieXRlTGVuZ3RoIC0gcG9zaXRpb24sIE1BWF9QQVlMT0FEX1NJWkUpOwogICAgICBjb25zdCBjaHVuayA9IG5ldyBVaW50OEFycmF5KGZpbGVEYXRhLCBwb3NpdGlvbiwgbGVuZ3RoKTsKICAgICAgcG9zaXRpb24gKz0gbGVuZ3RoOwoKICAgICAgY29uc3QgYmFzZTY0ID0gYnRvYShTdHJpbmcuZnJvbUNoYXJDb2RlLmFwcGx5KG51bGwsIGNodW5rKSk7CiAgICAgIHlpZWxkIHsKICAgICAgICByZXNwb25zZTogewogICAgICAgICAgYWN0aW9uOiAnYXBwZW5kJywKICAgICAgICAgIGZpbGU6IGZpbGUubmFtZSwKICAgICAgICAgIGRhdGE6IGJhc2U2NCwKICAgICAgICB9LAogICAgICB9OwogICAgICBwZXJjZW50LnRleHRDb250ZW50ID0KICAgICAgICAgIGAke01hdGgucm91bmQoKHBvc2l0aW9uIC8gZmlsZURhdGEuYnl0ZUxlbmd0aCkgKiAxMDApfSUgZG9uZWA7CiAgICB9CiAgfQoKICAvLyBBbGwgZG9uZS4KICB5aWVsZCB7CiAgICByZXNwb25zZTogewogICAgICBhY3Rpb246ICdjb21wbGV0ZScsCiAgICB9CiAgfTsKfQoKc2NvcGUuZ29vZ2xlID0gc2NvcGUuZ29vZ2xlIHx8IHt9OwpzY29wZS5nb29nbGUuY29sYWIgPSBzY29wZS5nb29nbGUuY29sYWIgfHwge307CnNjb3BlLmdvb2dsZS5jb2xhYi5fZmlsZXMgPSB7CiAgX3VwbG9hZEZpbGVzLAogIF91cGxvYWRGaWxlc0NvbnRpbnVlLAp9Owp9KShzZWxmKTsK",
       "headers": [
        [
         "content-type",
         "application/javascript"
        ]
       ],
       "ok": true,
       "status": 200,
       "status_text": ""
      }
     }
    },
    "id": "LQyhNZcMFmER",
    "outputId": "b43e8f11-b022-4b62-fd4d-ab5bcf323061"
   },
   "outputs": [
    {
     "data": {
      "application/javascript": [
       "IPython.notebook.set_autosave_interval(180000)"
      ]
     },
     "metadata": {},
     "output_type": "display_data"
    },
    {
     "name": "stdout",
     "output_type": "stream",
     "text": [
      "Autosaving every 180 seconds\n"
     ]
    },
    {
     "data": {
      "text/html": [
       "<style>.container { width:100% !important; }</style>"
      ],
      "text/plain": [
       "<IPython.core.display.HTML object>"
      ]
     },
     "metadata": {},
     "output_type": "display_data"
    }
   ],
   "source": [
    "#####################################################################################################################\n",
    "# FUNCTION THAT CONVERTS SLEAP .SLP FILES TO:\n",
    "#  - *.csv\n",
    "#  - *_traces_inferences.npy - which contains the x, y location for all the features detected\n",
    "#  - *_chain_ids.npy - which contains all the track ids of the sleap output for each group of features\n",
    "# \n",
    "# Note 1: Previous function is sleap-track CLI\n",
    "#  \n",
    "# Note 2: (Optional) Following notebook is 9_train_cnn_classifier pytorch if a trained CNN is not available\n",
    "#\n",
    "# Note 3: Next is 9_predict_using_cnn_classifer\n",
    "#\n",
    "#\n",
    "#\n",
    "\n",
    "\n",
    "import matplotlib\n",
    "#matplotlib.use('Agg')\n",
    "%matplotlib tk\n",
    "%autosave 180\n",
    "import matplotlib.pyplot as plt\n",
    "from IPython.core.display import display, HTML\n",
    "display(HTML(\"<style>.container { width:100% !important; }</style>\"))\n",
    "\n",
    "import matplotlib.cm as cm\n",
    "from matplotlib import gridspec\n",
    "\n",
    "import numpy as np\n",
    "import os\n",
    "import shutil\n",
    "import cv2\n",
    "from tqdm import trange\n",
    "\n",
    "#import glob2\n",
    "\n",
    "import h5py\n",
    "#import hdf5storage\n",
    "import csv\n",
    "\n"
   ]
  },
  {
   "cell_type": "code",
   "execution_count": 19,
   "metadata": {},
   "outputs": [],
   "source": [
    "\n",
    "def csv_to_traces(fname):\n",
    "\n",
    "    ''' Convert csv to the basic 2 files needed to generate traces for all animals\n",
    "        1. traces_reassembled.npz contains tracesx, tracesy which correspond to the\n",
    "        n animals selected. tracesx has dimensions [n_features*n_animals, n_frames]\n",
    "        - For sleap output this is the .csv data reshaped from [n_detections,n_features]\n",
    "          to [ ..., n_frames]\n",
    "          filling in the list of animals whenever there is an animal detected in a particular\n",
    "          frame. \n",
    "\n",
    "        2. chain_id.npy which has shape [n_frames, n_animals] and contains the track_id\n",
    "        for each of the animal features sets in reassembled.\n",
    "    '''\n",
    "\n",
    "    import csv\n",
    "    from tqdm import tqdm\n",
    "    import numpy as np\n",
    "\n",
    "    # LOAD .CSV DATA FIRST\n",
    "    data_tracks = []\n",
    "    with open(fname) as csv_file:\n",
    "        csv_reader = csv.reader(csv_file, delimiter=',')\n",
    "        ctr=0\n",
    "        for row in tqdm(csv_reader):\n",
    "            data_tracks.append([])\n",
    "            for item in row:\n",
    "                if item=='':\n",
    "                    item = 1E10\n",
    "                elif 'track' in item:\n",
    "                    item = item.replace('track_','')\n",
    "                data_tracks[ctr].append(item)\n",
    "            ctr+=1\n",
    "    data_tracks = np.array(data_tracks[1:])\n",
    "    #print (data_tracks[0])\n",
    "\n",
    "    # CONVERT DATA TO FLOAT32 and replace missing data with Nan\n",
    "    #print (data_tracks.shape)\n",
    "    data_tracks = np.float32(data_tracks)\n",
    "    #print (data_tracks)\n",
    "\n",
    "    idx = np.where(data_tracks==1E10)\n",
    "    data_tracks[idx]=np.nan\n",
    "    #print (data_tracks[0])\n",
    "    #print (\"Final tracks data shape: \", data_tracks.shape)\n",
    "    \n",
    "    \n",
    "    #########################################################################\n",
    "    ###### CONVERT data_tracks to inference and chain.npy files #############\n",
    "    #########################################################################\n",
    "    \n",
    "    n_frames = int(np.max(data_tracks[:,1]))+1\n",
    "    #print (\"example data-tracks: \", data_tracks[240000:240002])\n",
    "    #print (\"Final tracks data shape: \", data_tracks.shape, \n",
    "    #       \"  # frames: \", n_frames)\n",
    "\n",
    "\n",
    "    # initialize array to hold track ids: [n_frames, track_id]\n",
    "    n_animals=4+4\n",
    "    n_features=14\n",
    "    traces_reassembled = np.zeros((n_frames,n_animals*n_features,2), 'float32')+np.nan\n",
    "    #print (\"traces reassembled: \", traces_reassembled.shape)\n",
    "\n",
    "    # initizlied chain ids\n",
    "    chain_ids = np.zeros((n_frames, n_animals))+np.nan\n",
    "    #print (\"chain_ids: \", chain_ids.shape)\n",
    "\n",
    "    # placeholder for data\n",
    "    sleap_locs = np.zeros((n_features, 2), 'float32')\n",
    "\n",
    "    # loop over all tracks filling in the data in the \n",
    "    ctr = 0\n",
    "    from tqdm import trange\n",
    "    for k in trange(data_tracks.shape[0]):\n",
    "        track_id = int(data_tracks[k,0])\n",
    "        frame_id = int(data_tracks[k,1])\n",
    "        #print (\"index: \", k, \" track_id: \", track_id,\n",
    "        #       \"  frame_id: \", frame_id, \n",
    "        #       \" data: \", data_tracks[k])\n",
    "        sleap_locs[:,0] = data_tracks[k,2:][::2]  # grab the x vals\n",
    "        sleap_locs[:,1] = data_tracks[k,2:][1::2] # grab the y vals\n",
    "\n",
    "        # find the next empty slot and enter the chain id info\n",
    "        loc = 0\n",
    "        while True:\n",
    "            if np.isnan(chain_ids[frame_id,loc]):\n",
    "                break\n",
    "            loc+=1\n",
    "\n",
    "        # insert the track_id in the chain\n",
    "        chain_ids[frame_id,loc] = track_id\n",
    "\n",
    "        # insert the feature locations \n",
    "        traces_reassembled[frame_id,\n",
    "                           loc*n_features:(loc+1)*n_features] = sleap_locs\n",
    "\n",
    "    # save data\n",
    "    np.save(fname[:-4]+'_chain_ids.npy', chain_ids)\n",
    "    np.save(fname[:-4]+'_traces_reassembled.npy', traces_reassembled)\n",
    "\n",
    "    return chain_ids, traces_reassembled\n",
    "\n"
   ]
  },
  {
   "cell_type": "code",
   "execution_count": 20,
   "metadata": {
    "scrolled": true
   },
   "outputs": [
    {
     "name": "stderr",
     "output_type": "stream",
     "text": [
      "289788it [00:04, 61364.38it/s]\n",
      "100%|██████████| 289787/289787 [00:04<00:00, 60148.73it/s]\n"
     ]
    },
    {
     "name": "stdout",
     "output_type": "stream",
     "text": [
      "chain_ids:  (89987, 8) [[ 0.  1.  2.  3. nan nan nan nan]\n",
      " [ 0.  1.  2.  3. nan nan nan nan]\n",
      " [ 0.  1.  2.  3. nan nan nan nan]\n",
      " [ 0.  1.  2.  3. nan nan nan nan]\n",
      " [ 0.  2.  3. nan nan nan nan nan]]\n",
      "traces_reassembled:  (89987, 112, 2) [[[nan nan]\n",
      "  [nan nan]\n",
      "  [nan nan]\n",
      "  ...\n",
      "  [nan nan]\n",
      "  [nan nan]\n",
      "  [nan nan]]\n",
      "\n",
      " [[nan nan]\n",
      "  [nan nan]\n",
      "  [nan nan]\n",
      "  ...\n",
      "  [nan nan]\n",
      "  [nan nan]\n",
      "  [nan nan]]\n",
      "\n",
      " [[nan nan]\n",
      "  [nan nan]\n",
      "  [nan nan]\n",
      "  ...\n",
      "  [nan nan]\n",
      "  [nan nan]\n",
      "  [nan nan]]\n",
      "\n",
      " [[nan nan]\n",
      "  [nan nan]\n",
      "  [nan nan]\n",
      "  ...\n",
      "  [nan nan]\n",
      "  [nan nan]\n",
      "  [nan nan]]\n",
      "\n",
      " [[nan nan]\n",
      "  [nan nan]\n",
      "  [nan nan]\n",
      "  ...\n",
      "  [nan nan]\n",
      "  [nan nan]\n",
      "  [nan nan]]]\n"
     ]
    }
   ],
   "source": [
    "##################################################################\n",
    "####### .CSV TO traces_inferences.npy and chain_id.npy files #####\n",
    "##################################################################\n",
    "# SELECT THE .CSV FILE\n",
    "fname = '/media/cat/7e3d5af3-7d7b-424d-bdd5-eb995a4a0c62/dan/cohort1/march_9/2020-3-9_12_14_22_815059_compressed/video.mp4.analysis.csv'\n",
    "\n",
    "chain_ids, traces_reassembled = csv_to_traces(fname)\n",
    "print (\"chain_ids: \", chain_ids.shape, chain_ids[:5])\n",
    "print (\"traces_reassembled: \", traces_reassembled.shape, traces_reassembled[:5])\n",
    "\n"
   ]
  },
  {
   "cell_type": "code",
   "execution_count": null,
   "metadata": {},
   "outputs": [],
   "source": []
  },
  {
   "cell_type": "code",
   "execution_count": null,
   "metadata": {},
   "outputs": [],
   "source": []
  },
  {
   "cell_type": "code",
   "execution_count": 18,
   "metadata": {},
   "outputs": [
    {
     "name": "stdout",
     "output_type": "stream",
     "text": [
      "(89987, 112, 2)\n"
     ]
    }
   ],
   "source": [
    "print (traces_reassembled.shape)"
   ]
  },
  {
   "cell_type": "code",
   "execution_count": null,
   "metadata": {},
   "outputs": [],
   "source": []
  },
  {
   "cell_type": "code",
   "execution_count": null,
   "metadata": {},
   "outputs": [],
   "source": []
  },
  {
   "cell_type": "code",
   "execution_count": null,
   "metadata": {},
   "outputs": [],
   "source": []
  },
  {
   "cell_type": "code",
   "execution_count": 44,
   "metadata": {},
   "outputs": [
    {
     "name": "stderr",
     "output_type": "stream",
     "text": [
      "  2%|▏         | 5968/289787 [00:00<00:04, 59673.51it/s]"
     ]
    },
    {
     "name": "stdout",
     "output_type": "stream",
     "text": [
      "example data-tracks:  [[ 2395.      72536.              nan         nan         nan         nan\n",
      "          nan         nan         nan         nan         nan         nan\n",
      "    281.0457    164.48834   271.1698    172.6713    264.94714   192.30534\n",
      "    259.1043    210.41785   243.06102   226.46506   280.88947   258.35266\n",
      "          nan         nan         nan         nan   279.23987   292.46088]\n",
      " [ 2402.      72536.        823.093     261.11435   799.1196    283.18332\n",
      "    838.86835   291.26627   789.022     313.1874    829.20447   324.9848\n",
      "    808.9319    331.14444   797.3017    363.0731    792.94495   392.97885\n",
      "          nan         nan         nan         nan         nan         nan\n",
      "    895.0874    538.9115          nan         nan         nan         nan]]\n",
      "Final tracks data shape:  (289787, 30)   # frames:  89987\n",
      "traces reassembled:  (89987, 112, 2)\n",
      "chain_ids:  (89987, 8)\n"
     ]
    },
    {
     "name": "stderr",
     "output_type": "stream",
     "text": [
      "100%|██████████| 289787/289787 [00:04<00:00, 59768.04it/s]\n"
     ]
    }
   ],
   "source": [
    "######################################################\n",
    "######## LOOP OVER the CSV DATA FILE #################\n",
    "######################################################\n",
    "\n",
    "\n"
   ]
  },
  {
   "cell_type": "code",
   "execution_count": 47,
   "metadata": {},
   "outputs": [
    {
     "name": "stdout",
     "output_type": "stream",
     "text": [
      "[[0.000e+00 1.000e+00 2.000e+00 ...       nan       nan       nan]\n",
      " [0.000e+00 1.000e+00 2.000e+00 ...       nan       nan       nan]\n",
      " [0.000e+00 1.000e+00 2.000e+00 ...       nan       nan       nan]\n",
      " ...\n",
      " [2.848e+03 2.862e+03       nan ...       nan       nan       nan]\n",
      " [2.848e+03 2.862e+03       nan ...       nan       nan       nan]\n",
      " [2.848e+03 2.862e+03       nan ...       nan       nan       nan]]\n",
      "[[      nan       nan]\n",
      " [      nan       nan]\n",
      " [      nan       nan]\n",
      " [      nan       nan]\n",
      " [      nan       nan]\n",
      " [908.91315 164.58955]\n",
      " [900.74615 148.29443]\n",
      " [880.7421  136.36438]\n",
      " [852.91156 128.35283]\n",
      " [      nan       nan]\n",
      " [      nan       nan]\n",
      " [      nan       nan]\n",
      " [      nan       nan]\n",
      " [      nan       nan]\n",
      " [711.9241  136.06058]\n",
      " [723.92346 147.80606]\n",
      " [      nan       nan]\n",
      " [746.0039  151.94868]\n",
      " [754.04016 122.08743]\n",
      " [755.91144 136.23624]\n",
      " [772.03925 141.93369]\n",
      " [791.9203  143.96324]\n",
      " [807.9962  142.30421]\n",
      " [824.0479  140.11755]\n",
      " [835.9752  130.20096]\n",
      " [      nan       nan]\n",
      " [      nan       nan]\n",
      " [      nan       nan]\n",
      " [      nan       nan]\n",
      " [      nan       nan]\n",
      " [      nan       nan]\n",
      " [240.07768 706.71814]\n",
      " [214.03119 676.71124]\n",
      " [230.30634 684.7554 ]\n",
      " [250.18066 658.72754]\n",
      " [272.03033 632.4976 ]\n",
      " [291.97876 608.812  ]\n",
      " [312.17218 590.76904]\n",
      " [      nan       nan]\n",
      " [      nan       nan]\n",
      " [386.06046 584.66187]\n",
      " [      nan       nan]\n",
      " [      nan       nan]\n",
      " [      nan       nan]\n",
      " [849.39594 755.00574]\n",
      " [875.1269  724.9165 ]\n",
      " [831.4491  740.8569 ]\n",
      " [849.2366  724.82196]\n",
      " [839.10614 693.09485]\n",
      " [833.03784 656.7285 ]\n",
      " [829.36346 620.77997]\n",
      " [827.15027 582.8771 ]\n",
      " [821.0313  546.9286 ]\n",
      " [815.32855 506.85812]\n",
      " [      nan       nan]\n",
      " [      nan       nan]\n",
      " [      nan       nan]\n",
      " [      nan       nan]\n",
      " [      nan       nan]\n",
      " [      nan       nan]\n",
      " [      nan       nan]\n",
      " [      nan       nan]\n",
      " [      nan       nan]\n",
      " [      nan       nan]\n",
      " [      nan       nan]\n",
      " [      nan       nan]\n",
      " [      nan       nan]\n",
      " [      nan       nan]\n",
      " [      nan       nan]\n",
      " [      nan       nan]\n",
      " [      nan       nan]\n",
      " [      nan       nan]\n",
      " [      nan       nan]\n",
      " [      nan       nan]\n",
      " [      nan       nan]\n",
      " [      nan       nan]\n",
      " [      nan       nan]\n",
      " [      nan       nan]\n",
      " [      nan       nan]\n",
      " [      nan       nan]\n",
      " [      nan       nan]\n",
      " [      nan       nan]\n",
      " [      nan       nan]\n",
      " [      nan       nan]\n",
      " [      nan       nan]\n",
      " [      nan       nan]\n",
      " [      nan       nan]\n",
      " [      nan       nan]\n",
      " [      nan       nan]\n",
      " [      nan       nan]\n",
      " [      nan       nan]\n",
      " [      nan       nan]\n",
      " [      nan       nan]\n",
      " [      nan       nan]\n",
      " [      nan       nan]\n",
      " [      nan       nan]\n",
      " [      nan       nan]\n",
      " [      nan       nan]\n",
      " [      nan       nan]\n",
      " [      nan       nan]\n",
      " [      nan       nan]\n",
      " [      nan       nan]\n",
      " [      nan       nan]\n",
      " [      nan       nan]\n",
      " [      nan       nan]\n",
      " [      nan       nan]\n",
      " [      nan       nan]\n",
      " [      nan       nan]\n",
      " [      nan       nan]\n",
      " [      nan       nan]\n",
      " [      nan       nan]\n",
      " [      nan       nan]]\n"
     ]
    }
   ],
   "source": []
  },
  {
   "cell_type": "code",
   "execution_count": null,
   "metadata": {},
   "outputs": [],
   "source": []
  },
  {
   "cell_type": "code",
   "execution_count": 20,
   "metadata": {},
   "outputs": [
    {
     "name": "stdout",
     "output_type": "stream",
     "text": [
      "(289787, 30)\n",
      "[[0.0000000e+00 0.0000000e+00 1.0000000e+10 ... 1.0000000e+10\n",
      "  1.0000000e+10 1.0000000e+10]\n",
      " [1.0000000e+00 0.0000000e+00 7.1192407e+02 ... 1.0000000e+10\n",
      "  1.0000000e+10 1.0000000e+10]\n",
      " [2.0000000e+00 0.0000000e+00 1.0000000e+10 ... 5.8466187e+02\n",
      "  1.0000000e+10 1.0000000e+10]\n",
      " ...\n",
      " [2.8620000e+03 8.9985000e+04 1.0000000e+10 ... 1.0000000e+10\n",
      "  1.0000000e+10 1.0000000e+10]\n",
      " [2.8480000e+03 8.9986000e+04 2.4971579e+02 ... 1.0000000e+10\n",
      "  1.0000000e+10 1.0000000e+10]\n",
      " [2.8620000e+03 8.9986000e+04 1.0000000e+10 ... 1.0000000e+10\n",
      "  1.0000000e+10 1.0000000e+10]]\n"
     ]
    }
   ],
   "source": [
    "# CONVERT DATA TO FLOAT32 and replace missing data with Nan\n",
    "print (data.shape)\n",
    "data = np.float32(data)\n",
    "print (data)\n",
    "\n",
    "idx = np.where(data==1E10)\n",
    "data[idx]=np.nan\n",
    "print (data)\n"
   ]
  },
  {
   "cell_type": "code",
   "execution_count": 21,
   "metadata": {},
   "outputs": [
    {
     "name": "stdout",
     "output_type": "stream",
     "text": [
      "[[0.0000000e+00 0.0000000e+00           nan ...           nan\n",
      "            nan           nan]\n",
      " [1.0000000e+00 0.0000000e+00 7.1192407e+02 ...           nan\n",
      "            nan           nan]\n",
      " [2.0000000e+00 0.0000000e+00           nan ... 5.8466187e+02\n",
      "            nan           nan]\n",
      " ...\n",
      " [2.8620000e+03 8.9985000e+04           nan ...           nan\n",
      "            nan           nan]\n",
      " [2.8480000e+03 8.9986000e+04 2.4971579e+02 ...           nan\n",
      "            nan           nan]\n",
      " [2.8620000e+03 8.9986000e+04           nan ...           nan\n",
      "            nan           nan]]\n"
     ]
    }
   ],
   "source": []
  },
  {
   "cell_type": "code",
   "execution_count": 2,
   "metadata": {},
   "outputs": [],
   "source": [
    "import csv\n",
    "\n",
    "traces =[]\n",
    "with open('/media/cat/7e3d5af3-7d7b-424d-bdd5-eb995a4a0c62/dan/cohort1/2020-3-9_12_14_22_815059_compressed/video.mp4.analysis.csv', mode='r') as infile:\n",
    "    reader = csv.reader(infile)\n",
    "    with open('coors_new.csv', mode='w') as outfile:\n",
    "        writer = csv.writer(outfile)\n",
    "        for row in reader:\n",
    "            traces.append(row)\n",
    "        \n",
    "#print (len(mydict))"
   ]
  },
  {
   "cell_type": "code",
   "execution_count": 3,
   "metadata": {},
   "outputs": [
    {
     "name": "stdout",
     "output_type": "stream",
     "text": [
      "['track_0', '0', '', '', '', '', '', '', '', '', '', '', '908.9131469726562', '164.5895538330078', '900.7461547851562', '148.29443359375', '880.7421264648438', '136.3643798828125', '852.9115600585938', '128.3528289794922', '', '', '', '', '', '', '', '', '', '']\n"
     ]
    },
    {
     "ename": "NameError",
     "evalue": "name 'valid_frame_idxs' is not defined",
     "output_type": "error",
     "traceback": [
      "\u001b[0;31m---------------------------------------------------------------------------\u001b[0m",
      "\u001b[0;31mNameError\u001b[0m                                 Traceback (most recent call last)",
      "\u001b[0;32m<ipython-input-3-ada32162ef0b>\u001b[0m in \u001b[0;36m<module>\u001b[0;34m\u001b[0m\n\u001b[1;32m      2\u001b[0m \u001b[0;34m\u001b[0m\u001b[0m\n\u001b[1;32m      3\u001b[0m \u001b[0mprint\u001b[0m \u001b[0;34m(\u001b[0m\u001b[0mtraces\u001b[0m\u001b[0;34m[\u001b[0m\u001b[0;36m0\u001b[0m\u001b[0;34m]\u001b[0m\u001b[0;34m)\u001b[0m\u001b[0;34m\u001b[0m\u001b[0;34m\u001b[0m\u001b[0m\n\u001b[0;32m----> 4\u001b[0;31m \u001b[0mprint\u001b[0m \u001b[0;34m(\u001b[0m\u001b[0mlen\u001b[0m\u001b[0;34m(\u001b[0m\u001b[0mvalid_frame_idxs\u001b[0m\u001b[0;34m)\u001b[0m\u001b[0;34m)\u001b[0m\u001b[0;34m\u001b[0m\u001b[0;34m\u001b[0m\u001b[0m\n\u001b[0m\u001b[1;32m      5\u001b[0m \u001b[0mprint\u001b[0m \u001b[0;34m(\u001b[0m\u001b[0mlen\u001b[0m\u001b[0;34m(\u001b[0m\u001b[0mtraces\u001b[0m\u001b[0;34m)\u001b[0m\u001b[0;34m)\u001b[0m\u001b[0;34m\u001b[0m\u001b[0;34m\u001b[0m\u001b[0m\n",
      "\u001b[0;31mNameError\u001b[0m: name 'valid_frame_idxs' is not defined"
     ]
    }
   ],
   "source": [
    "traces.pop(0)\n",
    "\n",
    "print (traces[0])\n",
    "print (len(valid_frame_idxs))\n",
    "print (len(traces))"
   ]
  },
  {
   "cell_type": "code",
   "execution_count": 6,
   "metadata": {},
   "outputs": [
    {
     "name": "stderr",
     "output_type": "stream",
     "text": [
      "\r",
      "  0%|          | 0/300 [00:00<?, ?it/s]"
     ]
    },
    {
     "name": "stdout",
     "output_type": "stream",
     "text": [
      "START:  0    END:  300\n"
     ]
    },
    {
     "name": "stderr",
     "output_type": "stream",
     "text": [
      "100%|██████████| 300/300 [00:07<00:00, 41.71it/s]\n"
     ]
    }
   ],
   "source": [
    "#########################################################################\n",
    "######################### MAKE VIDEOS ###################################\n",
    "#########################################################################\n",
    "import cv2\n",
    "import matplotlib\n",
    "\n",
    "#          pup1     pup2    female  male\n",
    "colors_4= ['orange','green', 'blue', 'red', 'cyan','white','yellow','pink']\n",
    "\n",
    "video_name = '/media/cat/7e3d5af3-7d7b-424d-bdd5-eb995a4a0c62/dan/cohort1/2020-3-9_12_14_22_815059_compressed/2020-3-9_12_14_22_815059_compressed.avi'\n",
    "original_vid = cv2.VideoCapture(video_name)\n",
    "\n",
    "\n",
    "# SELECT VIDEO SIZE\n",
    "size_vid = np.array([1280,1024])\n",
    "scale = 1\n",
    "dot_size = 8//scale\n",
    "\n",
    "# SET START AND END TIMES\n",
    "start = 0\n",
    "end = 299+1\n",
    "#end = len(valid_frame_idxs)\n",
    "#end = 3000\n",
    "print (\"START: \", start, \"   END: \", end)\n",
    "\n",
    "# SELECT VIDEOS OUT\n",
    "#out_dir = '/media/cat/4TBSSD/dan/march_2/madeline_dlc/2020-3-9_08_18_49_128168/'\n",
    "fname_out = video_name[:-4]+\"_corrected_\"+str(start)+\"_\"+str(end)+\".mp4\"\n",
    "fourcc = cv2.VideoWriter_fourcc('M','P','E','G')\n",
    "video_out = cv2.VideoWriter(fname_out,fourcc, 25, (size_vid[0]//scale,size_vid[1]//scale), True)\n",
    "\n",
    "\n",
    "original_vid.set(cv2.CAP_PROP_POS_FRAMES, start)\n",
    "\n",
    "font = cv2.FONT_HERSHEY_PLAIN\n",
    "\n",
    "ctr_sleap = 0\n",
    "for n in trange(start,end, 1):\n",
    "    ret, frame = original_vid.read()\n",
    "    #print (n, frame.shape)\n",
    "    cv2.putText(frame, str(n), (50, 100), font, 5, (255, 255, 0), 5)\n",
    "    frame = frame[::scale, ::scale]\n",
    "    \n",
    "    # LOAD ALL LAbELS AT THIS TRACES\n",
    "    while True:\n",
    "        temp = traces[ctr_sleap]\n",
    "        #print (temp)\n",
    "        frame_id = int(temp[1])\n",
    "        track_id = int(temp[0].replace('track_',''))\n",
    "        \n",
    "        # TRACK TEXT\n",
    "        track_text = True\n",
    "        #print (locs1)\n",
    "        \n",
    "        # EXIT WHEN HITTING NEXT FRAME INFO\n",
    "        if frame_id>n:\n",
    "            break\n",
    "        \n",
    "        # \n",
    "        locs1 = np.array(temp[2:])  # LOAD x,y locations\n",
    "\n",
    "        y_array = locs1[::2]\n",
    "        #print (x_array)\n",
    "        x_array = locs1[1::2]\n",
    "        \n",
    "        for k in range(len(x_array)):\n",
    "            x = x_array[k]\n",
    "            y = y_array[k]\n",
    "            \n",
    "            if x=='' or y=='':\n",
    "                continue\n",
    "            else:\n",
    "                x=int(float(x))//scale\n",
    "                y=int(float(y))//scale\n",
    "\n",
    "                if track_text:\n",
    "                    cv2.putText(frame, str(track_id), (y,x), font, 5, (255, 255, 0), 5)\n",
    "                    track_text=False\n",
    "                \n",
    "                frame[x-dot_size:x+dot_size,y-dot_size:y+dot_size]= (np.float32(\n",
    "                    matplotlib.colors.to_rgb(colors_4[track_id%8]))*255.).astype('uint8')\n",
    "                #print (colors_4[k])\n",
    "                #frame[y-dot_size:y+dot_size,x-dot_size:x+dot_size]= (np.float32(\n",
    "                #    matplotlib.colors.to_rgb(colors_4[z//14]))*255.).astype('uint8')\n",
    "                \n",
    "        ctr_sleap+=1\n",
    "\n",
    "    #print (\"\")\n",
    "    video_out.write(frame)\n",
    "\n",
    "    #print (\"\")\n",
    "\n",
    "video_out.release()\n",
    "original_vid.release()\n",
    "#cv2.destroyAllWindows()"
   ]
  },
  {
   "cell_type": "code",
   "execution_count": 5,
   "metadata": {},
   "outputs": [
    {
     "ename": "NameError",
     "evalue": "name 'valid_frame_idxs' is not defined",
     "output_type": "error",
     "traceback": [
      "\u001b[0;31m---------------------------------------------------------------------------\u001b[0m",
      "\u001b[0;31mNameError\u001b[0m                                 Traceback (most recent call last)",
      "\u001b[0;32m<ipython-input-5-1bc6d476b938>\u001b[0m in \u001b[0;36m<module>\u001b[0;34m\u001b[0m\n\u001b[1;32m     19\u001b[0m \u001b[0mstart\u001b[0m \u001b[0;34m=\u001b[0m \u001b[0;36m0\u001b[0m\u001b[0;34m\u001b[0m\u001b[0;34m\u001b[0m\u001b[0m\n\u001b[1;32m     20\u001b[0m \u001b[0mend\u001b[0m \u001b[0;34m=\u001b[0m \u001b[0;36m299\u001b[0m\u001b[0;34m+\u001b[0m\u001b[0;36m1\u001b[0m\u001b[0;34m\u001b[0m\u001b[0;34m\u001b[0m\u001b[0m\n\u001b[0;32m---> 21\u001b[0;31m \u001b[0mend\u001b[0m \u001b[0;34m=\u001b[0m \u001b[0mlen\u001b[0m\u001b[0;34m(\u001b[0m\u001b[0mvalid_frame_idxs\u001b[0m\u001b[0;34m)\u001b[0m\u001b[0;34m\u001b[0m\u001b[0;34m\u001b[0m\u001b[0m\n\u001b[0m\u001b[1;32m     22\u001b[0m \u001b[0mend\u001b[0m \u001b[0;34m=\u001b[0m \u001b[0;36m3000\u001b[0m\u001b[0;34m\u001b[0m\u001b[0;34m\u001b[0m\u001b[0m\n\u001b[1;32m     23\u001b[0m \u001b[0mstart\u001b[0m\u001b[0;34m=\u001b[0m\u001b[0;36m225\u001b[0m\u001b[0;34m\u001b[0m\u001b[0;34m\u001b[0m\u001b[0m\n",
      "\u001b[0;31mNameError\u001b[0m: name 'valid_frame_idxs' is not defined"
     ]
    }
   ],
   "source": [
    "import cv2\n",
    "import matplotlib\n",
    "matplotlib.use('Agg')\n",
    "\n",
    "\n",
    "#          pup1     pup2    female  male\n",
    "colors_4= ['orange','green', 'blue', 'red', 'cyan','white','yellow','pink']\n",
    "\n",
    "video_name = '/media/cat/4TBSSD/dan/march_2/sleap_talmo/2020-3-9_12_14_22_815059_compressed.avi'\n",
    "original_vid = cv2.VideoCapture(video_name)\n",
    "\n",
    "\n",
    "# SELECT VIDEO SIZE\n",
    "size_vid = np.array([1280,1024])\n",
    "scale = 1\n",
    "dot_size = 8//scale\n",
    "\n",
    "# SET START AND END TIMES\n",
    "start = 0\n",
    "end = 299+1\n",
    "end = len(valid_frame_idxs)\n",
    "end = 3000\n",
    "start=225\n",
    "end=start+100\n",
    "\n",
    "print (\"START: \", start, \"   END: \", end)\n",
    "\n",
    "# SELECT VIDEOS OUT\n",
    "#out_dir = '/media/cat/4TBSSD/dan/march_2/madeline_dlc/2020-3-9_08_18_49_128168/'\n",
    "fname_out = video_name[:-4]+\"_corrected_\"+str(start)+\"_\"+str(end)+\".mp4\"\n",
    "fourcc = cv2.VideoWriter_fourcc('M','P','E','G')\n",
    "video_out = cv2.VideoWriter(fname_out,fourcc, 25, (size_vid[0]//scale,size_vid[1]//scale), True)\n",
    "\n",
    "\n",
    "original_vid.set(cv2.CAP_PROP_POS_FRAMES, start)\n",
    "\n",
    "font = cv2.FONT_HERSHEY_PLAIN\n",
    "\n",
    "ctr_sleap = 0\n",
    "ctr_show = 0\n",
    "\n",
    "fig=plt.figure(figsize=(20,20))\n",
    "\n",
    "for n in trange(start,end, 1):\n",
    "    ret, frame = original_vid.read()\n",
    "    #print (n, frame.shape)\n",
    "    cv2.putText(frame, str(n), (50, 100), font, 5, (255, 255, 0), 5)\n",
    "    frame = frame[::scale, ::scale]\n",
    "    \n",
    "    # LOAD ALL LAbELS AT THIS TRACES\n",
    "    while True:\n",
    "        temp = traces[ctr_sleap]\n",
    "        #print (temp)\n",
    "        frame_id = int(temp[1])\n",
    "        track_id = int(temp[0].replace('track_',''))\n",
    "        \n",
    "#         if frame_id !=n:\n",
    "#             ctr_sleap+=1\n",
    "\n",
    "#             continue\n",
    "        \n",
    "        # TRACK TEXT\n",
    "        track_text = True\n",
    "        #print (locs1)\n",
    "        \n",
    "        # EXIT WHEN HITTING NEXT FRAME INFO\n",
    "        if frame_id>n:\n",
    "            break\n",
    "        \n",
    "        if frame_id<n:\n",
    "            ctr_sleap+=1\n",
    "            continue\n",
    "        \n",
    "        # \n",
    "        locs1 = np.array(temp[2:])  # LOAD x,y locations\n",
    "\n",
    "        y_array = locs1[::2]\n",
    "        #print (x_array)\n",
    "        x_array = locs1[1::2]\n",
    "        \n",
    "        for k in range(len(x_array)):\n",
    "            x = x_array[k]\n",
    "            y = y_array[k]\n",
    "            \n",
    "            if x=='' or y=='':\n",
    "                continue\n",
    "            else:\n",
    "                x=int(float(x))//scale\n",
    "                y=int(float(y))//scale\n",
    "\n",
    "                if track_text:\n",
    "                    cv2.putText(frame, str(track_id), (y,x), font, 5, (255, 255, 0), 5)\n",
    "                    track_text=False\n",
    "                \n",
    "                frame[x-dot_size:x+dot_size,y-dot_size:y+dot_size]= (np.float32(\n",
    "                    matplotlib.colors.to_rgb(colors_4[track_id%8]))*255.).astype('uint8')\n",
    "\n",
    "        \n",
    "        ctr_sleap+=1\n",
    "\n",
    "    ax=plt.subplot(2,5,ctr_show+1)\n",
    "    plt.imshow(frame)\n",
    "    plt.title(str(n))\n",
    "    \n",
    "    ctr_show+=1\n",
    "fig.savefig('/home/cat/fig2.png',dpi=300)   "
   ]
  },
  {
   "cell_type": "code",
   "execution_count": null,
   "metadata": {},
   "outputs": [],
   "source": [
    "\n",
    "\n",
    "\n"
   ]
  }
 ],
 "metadata": {
  "colab": {
   "collapsed_sections": [],
   "name": "Converting SLEAP Analysis HDF5 to CSV.ipynb",
   "provenance": []
  },
  "kernelspec": {
   "display_name": "Python 3",
   "language": "python",
   "name": "python3"
  },
  "language_info": {
   "codemirror_mode": {
    "name": "ipython",
    "version": 3
   },
   "file_extension": ".py",
   "mimetype": "text/x-python",
   "name": "python",
   "nbconvert_exporter": "python",
   "pygments_lexer": "ipython3",
   "version": "3.8.5"
  }
 },
 "nbformat": 4,
 "nbformat_minor": 1
}
