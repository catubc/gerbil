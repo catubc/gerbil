{
 "cells": [
  {
   "cell_type": "code",
   "execution_count": 1,
   "id": "68e7edb0-e1c0-41b9-87fb-72067184d8df",
   "metadata": {},
   "outputs": [
    {
     "data": {
      "application/javascript": [
       "IPython.notebook.set_autosave_interval(180000)"
      ]
     },
     "metadata": {},
     "output_type": "display_data"
    },
    {
     "name": "stdout",
     "output_type": "stream",
     "text": [
      "Autosaving every 180 seconds\n"
     ]
    },
    {
     "data": {
      "text/html": [
       "<style>.container { width:100% !important; }</style>"
      ],
      "text/plain": [
       "<IPython.core.display.HTML object>"
      ]
     },
     "metadata": {},
     "output_type": "display_data"
    }
   ],
   "source": [
    "import matplotlib\n",
    "#matplotlib.use('Agg')\n",
    "%matplotlib tk\n",
    "%autosave 180\n",
    "\n",
    "%load_ext autoreload\n",
    "%autoreload 2\n",
    "\n",
    "import matplotlib.pyplot as plt\n",
    "from IPython.core.display import display, HTML\n",
    "display(HTML(\"<style>.container { width:100% !important; }</style>\"))\n",
    "\n",
    "import matplotlib.cm as cm\n",
    "from matplotlib import gridspec\n",
    "from scipy import signal\n",
    "from itertools import combinations\n",
    "import matplotlib.patches as mpatches\n",
    "\n",
    "import numpy as np\n",
    "import os\n",
    "import shutil\n",
    "import cv2\n",
    "\n",
    "from tqdm import trange, tqdm\n",
    "\n",
    "#\n",
    "#from numba import jit\n",
    "#from numba.experimental import jitclass\n",
    "from numba import jit\n",
    "#from numba import generated_jit, types\n",
    "\n",
    "# \n",
    "from scipy import signal\n",
    "\n",
    "#    \n",
    "from scipy.io import loadmat\n",
    "import scipy\n",
    "\n",
    "# \n",
    "import csv\n",
    "\n",
    "from Analyze import (plot_pairwise_interactions, \n",
    "                     plot_pairwise_interactions2, \n",
    "                     ethogram_social_huddling)\n",
    "                    \n"
   ]
  },
  {
   "cell_type": "code",
   "execution_count": 2,
   "id": "e1a755a9-cdc2-440e-b145-59a83714d5b5",
   "metadata": {},
   "outputs": [
    {
     "name": "stdout",
     "output_type": "stream",
     "text": [
      "(1872130, 6, 2)\n",
      "(1872130, 6, 2)\n"
     ]
    },
    {
     "name": "stderr",
     "output_type": "stream",
     "text": [
      "/media/cat/4TBSSD/anaconda3/envs/gerbil/lib/python3.7/site-packages/ipykernel_launcher.py:14: RuntimeWarning: invalid value encountered in floor_divide\n",
      "  \n"
     ]
    }
   ],
   "source": [
    "###############################################\n",
    "###############################################\n",
    "###############################################\n",
    "\n",
    "#\n",
    "fname = '/media/cat/256GB/dan/cohort2/cluster_slp_files/track_all_day_[0, 1, 2, 3, 4, 5].npy'\n",
    "locs = np.load(fname)#.astype('float64')\n",
    "print (locs.shape)\n",
    "\n",
    "# binarize data into grid world of 100 pixels \n",
    "bin_size = 100\n",
    "\n",
    "#\n",
    "locs_binned = locs//bin_size\n",
    "print (locs_binned.shape)\n",
    "\n",
    "#\n",
    "\n"
   ]
  },
  {
   "cell_type": "code",
   "execution_count": 3,
   "id": "4e8fca50-cec1-4d45-83b4-b3763d33280f",
   "metadata": {},
   "outputs": [
    {
     "name": "stdout",
     "output_type": "stream",
     "text": [
      "DONE...\n",
      "frame_grid:  (1872130, 12, 12)\n"
     ]
    }
   ],
   "source": [
    "###############################################\n",
    "########### TRY IDENTITY FREE FIRST ###########\n",
    "###############################################\n",
    "\n",
    "@jit\n",
    "def get_binarized_movies_pooled_mice(locs_binned,\n",
    "                                     frame_grid):\n",
    "    \n",
    "    ''' Here we don't care about mice identity\n",
    "    '''\n",
    "\n",
    "    # \n",
    "    for k in range(locs_binned.shape[0]):\n",
    "        #\n",
    "        for a in range(locs_binned.shape[1]):\n",
    "            if np.isnan(locs_binned[k][a]).sum()==0:\n",
    "                x= int(locs_binned[k][a][0])\n",
    "                y= int(locs_binned[k][a][1])\n",
    "                frame_grid[k,\n",
    "                           x, \n",
    "                           y] = 1\n",
    "\n",
    "    return frame_grid\n",
    "\n",
    "#\n",
    "# make a 12 x 12 grid to start\n",
    "frame_grid = np.zeros((locs_binned.shape[0],12,12),dtype='float32')\n",
    "\n",
    "#\n",
    "frame_grid = get_binarized_movies_pooled_mice(locs_binned, \n",
    "                                  frame_grid)\n",
    "print (\"DONE...\")\n",
    "print (\"frame_grid: \", frame_grid.shape)\n",
    "\n",
    "#################################\n",
    "#################################\n",
    "#################################\n",
    "plt.figure()\n",
    "for k in range(100):\n",
    "    ax=plt.subplot(10,10,k+1)\n",
    "    idx = np.random.choice(frame_grid.shape[0])\n",
    "    #idx = k*1000\n",
    "    plt.imshow(frame_grid[idx]\n",
    "               )\n",
    "    plt.xticks([])\n",
    "    plt.yticks([])\n",
    "    plt.title(\"# \"+str(idx),\n",
    "             fontsize=10,\n",
    "             pad=0.9)\n",
    "plt.show()\n"
   ]
  },
  {
   "cell_type": "code",
   "execution_count": 4,
   "id": "02c388b0-bcdf-4136-8a6e-970504f7d487",
   "metadata": {},
   "outputs": [
    {
     "name": "stdout",
     "output_type": "stream",
     "text": [
      "--------------------------------------------------------------------------------\n",
      "TSNE(n_jobs=16, random_state=42, verbose=True)\n",
      "--------------------------------------------------------------------------------\n",
      "===> Finding 90 nearest neighbors using Annoy approximate search using euclidean distance...\n",
      "   --> Time elapsed: 39.89 seconds\n",
      "===> Calculating affinity matrix...\n",
      "   --> Time elapsed: 4.69 seconds\n",
      "===> Calculating PCA-based initialization...\n",
      "   --> Time elapsed: 1.60 seconds\n",
      "===> Running optimization with exaggeration=12.00, lr=15601.08 for 250 iterations...\n",
      "Iteration   50, KL divergence 6.9323, 50 iterations in 10.5187 sec\n",
      "Iteration  100, KL divergence 6.1339, 50 iterations in 10.6761 sec\n",
      "Iteration  150, KL divergence 5.8655, 50 iterations in 10.6589 sec\n",
      "Iteration  200, KL divergence 5.7335, 50 iterations in 10.4239 sec\n",
      "Iteration  250, KL divergence 5.6427, 50 iterations in 10.6449 sec\n",
      "   --> Time elapsed: 52.92 seconds\n",
      "===> Running optimization with exaggeration=1.00, lr=15601.08 for 500 iterations...\n",
      "Iteration   50, KL divergence 4.4401, 50 iterations in 10.2533 sec\n",
      "Iteration  100, KL divergence 4.1997, 50 iterations in 10.1643 sec\n",
      "Iteration  150, KL divergence 4.0873, 50 iterations in 10.6810 sec\n",
      "Iteration  200, KL divergence 4.0449, 50 iterations in 11.1237 sec\n",
      "Iteration  250, KL divergence 3.9762, 50 iterations in 11.4443 sec\n",
      "Iteration  300, KL divergence 4.0443, 50 iterations in 12.0945 sec\n",
      "Iteration  350, KL divergence 3.9582, 50 iterations in 12.0954 sec\n",
      "Iteration  400, KL divergence 3.9571, 50 iterations in 12.6367 sec\n",
      "Iteration  450, KL divergence 3.9311, 50 iterations in 13.0623 sec\n",
      "Iteration  500, KL divergence 3.9446, 50 iterations in 13.4849 sec\n",
      "   --> Time elapsed: 117.04 seconds\n",
      "embedding:  (187213, 2)\n"
     ]
    }
   ],
   "source": [
    "##########################################\n",
    "############### TSNE #####################\n",
    "##########################################\n",
    "\n",
    "from openTSNE import TSNE\n",
    "\n",
    "#\n",
    "X = frame_grid.reshape(frame_grid.shape[0], -1)\n",
    "\n",
    "#\n",
    "tsne = TSNE(\n",
    "    perplexity=30,\n",
    "    metric=\"euclidean\",\n",
    "    n_jobs=16,\n",
    "    random_state=42,\n",
    "    verbose=True,\n",
    ")\n",
    "\n",
    "embedding_tsne = tsne.fit(X[::10])\n",
    "\n",
    "print (\"embedding: \", embedding_tsne.shape)"
   ]
  },
  {
   "cell_type": "code",
   "execution_count": null,
   "id": "9ba99667-9d3f-4f29-81e5-cfa50c5aaef7",
   "metadata": {},
   "outputs": [
    {
     "name": "stderr",
     "output_type": "stream",
     "text": [
      "/media/cat/4TBSSD/anaconda3/envs/gerbil/lib/python3.7/site-packages/numba/np/ufunc/parallel.py:363: NumbaWarning: \u001b[1mThe TBB threading layer requires TBB version 2019.5 or later i.e., TBB_INTERFACE_VERSION >= 11005. Found TBB_INTERFACE_VERSION = 9107. The TBB threading layer is disabled.\u001b[0m\n",
      "  warnings.warn(problem)\n"
     ]
    }
   ],
   "source": [
    "import umap\n",
    "fit = umap.UMAP()\n",
    "u = fit.fit_transform(X[::10])\n",
    "\n",
    "print (\"Umap res: \", u.shape)"
   ]
  },
  {
   "cell_type": "code",
   "execution_count": 12,
   "id": "9bb22ad4-b289-4327-ab7e-86e7e9425498",
   "metadata": {},
   "outputs": [
    {
     "name": "stdout",
     "output_type": "stream",
     "text": [
      "# clusters:  [ -1   0   1   2   3   4   5   6   7   8   9  10  11  12  13  14  15  16\n",
      "  17  18  19  20  21  22  23  24  25  26  27  28  29  30  31  32  33  34\n",
      "  35  36  37  38  39  40  41  42  43  44  45  46  47  48  49  50  51  52\n",
      "  53  54  55  56  57  58  59  60  61  62  63  64  65  66  67  68  69  70\n",
      "  71  72  73  74  75  76  77  78  79  80  81  82  83  84  85  86  87  88\n",
      "  89  90  91  92  93  94  95  96  97  98  99 100 101 102 103 104 105 106\n",
      " 107 108 109 110 111 112 113 114 115 116 117 118 119 120 121 122 123 124\n",
      " 125 126 127 128 129 130 131 132 133 134 135 136 137 138 139 140 141 142\n",
      " 143 144 145 146 147 148 149 150 151 152 153 154 155 156 157 158 159 160\n",
      " 161 162 163 164 165 166 167 168 169 170 171 172 173 174 175 176 177 178\n",
      " 179 180 181 182 183 184 185 186 187 188 189 190 191 192 193 194 195 196\n",
      " 197 198 199 200 201 202 203 204 205 206 207 208 209 210 211 212 213 214\n",
      " 215 216 217 218 219 220 221 222 223]\n",
      "(164622, 2)\n",
      "# unique clusters left:  (54,)\n"
     ]
    }
   ],
   "source": [
    "#######################################################\n",
    "############### TSNE VISUALIZE AND CLUSTER ############\n",
    "#######################################################\n",
    "from sklearn.cluster import DBSCAN\n",
    "#clustering = DBSCAN(eps=1, \n",
    "#                    min_samples=2).fit(embedding_train)\n",
    "\n",
    "#\n",
    "n_clusters = np.unique(clustering.labels_)\n",
    "print (\"# clusters: \", n_clusters)\n",
    "\n",
    "#\n",
    "clrs = np.zeros(embedding_train.shape[0])\n",
    "min_size = 500\n",
    "tsne_locs = []\n",
    "tsne_clrs = []\n",
    "tsne_ids = []\n",
    "ctr=0\n",
    "for k in n_clusters:\n",
    "    idx = np.where(clustering.labels_==k)[0]\n",
    "    \n",
    "    if idx.shape[0]>=min_size:\n",
    "        tsne_locs.append(embedding_train[idx])\n",
    "        tsne_clrs.append(np.zeros(idx.shape[0])+ctr)\n",
    "        tsne_ids.append(idx)\n",
    "        ctr+=1\n",
    "     \n",
    "tsne_locs = np.vstack(tsne_locs)\n",
    "print (tsne_locs.shape)\n",
    "tsne_clrs = np.hstack(tsne_clrs)\n",
    "print (\"# unique clusters left: \", np.unique(tsne_clrs).shape)\n",
    "\n",
    "################################\n",
    "\n",
    "plt.figure()\n",
    "plt.scatter(tsne_locs[:,0],\n",
    "            tsne_locs[:,1],\n",
    "            c=tsne_clrs,\n",
    "            cmap=cm.gist_ncar)\n",
    "\n",
    "plt.show()\n"
   ]
  },
  {
   "cell_type": "code",
   "execution_count": 18,
   "id": "1afbe194-99e7-4c10-9810-c3b195d7c3b5",
   "metadata": {},
   "outputs": [
    {
     "name": "stdout",
     "output_type": "stream",
     "text": [
      "grid_subsampled:  (187213, 144)\n"
     ]
    }
   ],
   "source": [
    "################################\n",
    "grid_subsampled = X[::10]\n",
    "print (\"grid_subsampled: \", grid_subsampled.shape)\n",
    "\n",
    "plt.figure()\n",
    "for k in range(60):\n",
    "    try:\n",
    "        ax=plt.subplot(8,8,k+1)\n",
    "\n",
    "        idx_local = tsne_ids[k]\n",
    "\n",
    "        temp = grid_subsampled[idx_local].reshape(idx_local.shape[0], 12,12)\n",
    "        #print (temp.shape)\n",
    "\n",
    "        plt.imshow(temp.mean(0))\n",
    "\n",
    "        plt.xticks([])\n",
    "        plt.yticks([])\n",
    "        plt.title(\"# \"+str(idx_local.shape[0]),\n",
    "             fontsize=10,\n",
    "             pad=0.9)\n",
    "    except:\n",
    "        break\n",
    "    \n",
    "plt.show()"
   ]
  },
  {
   "cell_type": "code",
   "execution_count": 20,
   "id": "1064f41f-6a16-45b4-81d9-e3b635100165",
   "metadata": {},
   "outputs": [],
   "source": [
    "#########################################\n",
    "#########################################\n",
    "#########################################\n",
    "\n",
    "plt.figure()\n",
    "plt.scatter(embedding_train[:,0],\n",
    "            embedding_train[:,1],\n",
    "            c=np.arange(embedding_train.shape[0]),\n",
    "            cmap=cm.viridis)\n",
    "\n",
    "plt.show()"
   ]
  },
  {
   "cell_type": "code",
   "execution_count": null,
   "id": "ea0c8365-1f55-4355-874b-921913bb38c3",
   "metadata": {},
   "outputs": [],
   "source": []
  },
  {
   "cell_type": "code",
   "execution_count": null,
   "id": "72e9e755-5b36-4cdb-987b-8fd7dd341515",
   "metadata": {},
   "outputs": [],
   "source": []
  },
  {
   "cell_type": "code",
   "execution_count": null,
   "id": "54693113-c68b-4227-aa82-1feadec5aa12",
   "metadata": {},
   "outputs": [],
   "source": []
  },
  {
   "cell_type": "code",
   "execution_count": null,
   "id": "c45057c2-c9da-4c90-aa0c-9938770663c7",
   "metadata": {},
   "outputs": [],
   "source": []
  },
  {
   "cell_type": "code",
   "execution_count": 35,
   "id": "1bb47d1c-cd94-4e2d-8b06-6663a45d9521",
   "metadata": {},
   "outputs": [],
   "source": [
    "from sklearn.cluster import DBSCAN\n",
    "clustering = DBSCAN(eps=1, \n",
    "                    min_samples=2).fit(embedding_train)\n",
    "\n",
    "#\n",
    "n_clusters = np.unique(clustering.labels_)\n",
    "print (\"# clusters: \", n_clusters)\n",
    "\n",
    "#\n",
    "clrs = np.zeros(embedding_train.shape[0])\n",
    "for k in n_clusters:\n",
    "    idx = np.where(clustering.labels_==k)[0]\n",
    "    clrs[idx]=k\n",
    "\n",
    "#############################################\n",
    "plt.figure()\n",
    "plt.scatter(embedding_train[:,0],\n",
    "            embedding_train[:,1],\n",
    "            c=clrs,\n",
    "            cmap=cm.gist_ncar)\n",
    "\n",
    "plt.show()pca_data"
   ]
  },
  {
   "cell_type": "code",
   "execution_count": null,
   "id": "1af169e1-c70f-4363-a3f7-bc66f7c7cadc",
   "metadata": {},
   "outputs": [],
   "source": []
  },
  {
   "cell_type": "code",
   "execution_count": null,
   "id": "2395a319-32c9-4033-b309-8a273e06c442",
   "metadata": {},
   "outputs": [],
   "source": []
  },
  {
   "cell_type": "code",
   "execution_count": null,
   "id": "e9a6a570-7d19-4aad-824c-c3ddb6859966",
   "metadata": {},
   "outputs": [],
   "source": []
  },
  {
   "cell_type": "code",
   "execution_count": null,
   "id": "39db429a-3bf2-4c90-8205-8ee37a71aaf7",
   "metadata": {},
   "outputs": [],
   "source": []
  },
  {
   "cell_type": "code",
   "execution_count": null,
   "id": "def1fead-9d7a-4da0-aa92-3e579f017ff3",
   "metadata": {},
   "outputs": [],
   "source": []
  },
  {
   "cell_type": "code",
   "execution_count": null,
   "id": "2ae0d7b9-d1d2-41fd-aae8-87ddba0f46ec",
   "metadata": {},
   "outputs": [],
   "source": []
  }
 ],
 "metadata": {
  "kernelspec": {
   "display_name": "Python 3",
   "language": "python",
   "name": "python3"
  },
  "language_info": {
   "codemirror_mode": {
    "name": "ipython",
    "version": 3
   },
   "file_extension": ".py",
   "mimetype": "text/x-python",
   "name": "python",
   "nbconvert_exporter": "python",
   "pygments_lexer": "ipython3",
   "version": "3.7.0"
  }
 },
 "nbformat": 4,
 "nbformat_minor": 5
}
