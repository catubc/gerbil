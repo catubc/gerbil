{
 "cells": [
  {
   "cell_type": "code",
   "execution_count": 2,
   "id": "68e7edb0-e1c0-41b9-87fb-72067184d8df",
   "metadata": {},
   "outputs": [
    {
     "data": {
      "application/javascript": [
       "IPython.notebook.set_autosave_interval(180000)"
      ]
     },
     "metadata": {},
     "output_type": "display_data"
    },
    {
     "name": "stdout",
     "output_type": "stream",
     "text": [
      "Autosaving every 180 seconds\n"
     ]
    },
    {
     "data": {
      "text/html": [
       "<style>.container { width:100% !important; }</style>"
      ],
      "text/plain": [
       "<IPython.core.display.HTML object>"
      ]
     },
     "metadata": {},
     "output_type": "display_data"
    }
   ],
   "source": [
    "import matplotlib\n",
    "#matplotlib.use('Agg')\n",
    "%matplotlib tk\n",
    "%autosave 180\n",
    "\n",
    "%load_ext autoreload\n",
    "%autoreload 2\n",
    "\n",
    "import matplotlib.pyplot as plt\n",
    "from IPython.core.display import display, HTML\n",
    "display(HTML(\"<style>.container { width:100% !important; }</style>\"))\n",
    "\n",
    "import matplotlib.cm as cm\n",
    "from matplotlib import gridspec\n",
    "from scipy import signal\n",
    "from itertools import combinations\n",
    "import matplotlib.patches as mpatches\n",
    "\n",
    "import numpy as np\n",
    "import os\n",
    "import shutil\n",
    "import cv2\n",
    "\n",
    "from tqdm import trange, tqdm\n",
    "\n",
    "#\n",
    "#from numba import jit\n",
    "#from numba.experimental import jitclass\n",
    "from numba import jit\n",
    "#from numba import generated_jit, types\n",
    "\n",
    "# \n",
    "from scipy import signal\n",
    "\n",
    "#    \n",
    "from scipy.io import loadmat\n",
    "import scipy\n",
    "\n",
    "# \n",
    "import csv\n",
    "\n",
    "from Analyze import (plot_pairwise_interactions, \n",
    "                     plot_pairwise_interactions2, \n",
    "                     ethogram_social_huddling)\n",
    "                    \n"
   ]
  },
  {
   "cell_type": "code",
   "execution_count": 3,
   "id": "e1a755a9-cdc2-440e-b145-59a83714d5b5",
   "metadata": {},
   "outputs": [
    {
     "name": "stdout",
     "output_type": "stream",
     "text": [
      "(1872130, 6, 2)\n",
      "(1872130, 6, 2)\n"
     ]
    },
    {
     "name": "stderr",
     "output_type": "stream",
     "text": [
      "/media/cat/4TBSSD/anaconda3/envs/gerbil/lib/python3.7/site-packages/ipykernel_launcher.py:14: RuntimeWarning: invalid value encountered in floor_divide\n",
      "  \n"
     ]
    }
   ],
   "source": [
    "###############################################\n",
    "###############################################\n",
    "###############################################\n",
    "\n",
    "#\n",
    "fname = '/media/cat/256GB/dan/cohort2/cluster_slp_files/track_all_day_[0, 1, 2, 3, 4, 5].npy'\n",
    "locs = np.load(fname)#.astype('float64')\n",
    "print (locs.shape)\n",
    "\n",
    "# binarize data into grid world of 100 pixels \n",
    "bin_size = 100\n",
    "\n",
    "#\n",
    "locs_binned = locs//bin_size\n",
    "print (locs_binned.shape)\n",
    "\n",
    "#\n",
    "\n"
   ]
  },
  {
   "cell_type": "code",
   "execution_count": 4,
   "id": "4e8fca50-cec1-4d45-83b4-b3763d33280f",
   "metadata": {},
   "outputs": [
    {
     "name": "stdout",
     "output_type": "stream",
     "text": [
      "DONE...\n",
      "frame_grid:  (1872130, 12, 12)\n"
     ]
    }
   ],
   "source": [
    "###############################################\n",
    "########### TRY IDENTITY FREE FIRST ###########\n",
    "###############################################\n",
    "\n",
    "@jit\n",
    "def get_binarized_movies_pooled_mice(locs_binned,\n",
    "                                     frame_grid):\n",
    "    \n",
    "    ''' Here we don't care about mice identity\n",
    "    '''\n",
    "\n",
    "    # \n",
    "    for k in range(locs_binned.shape[0]):\n",
    "        #\n",
    "        for a in range(locs_binned.shape[1]):\n",
    "            if np.isnan(locs_binned[k][a]).sum()==0:\n",
    "                x= int(locs_binned[k][a][0])\n",
    "                y= int(locs_binned[k][a][1])\n",
    "                frame_grid[k,\n",
    "                           x, \n",
    "                           y] = 1\n",
    "\n",
    "    return frame_grid\n",
    "\n",
    "#\n",
    "# make a 12 x 12 grid to start\n",
    "frame_grid = np.zeros((locs_binned.shape[0],12,12),dtype='float32')\n",
    "\n",
    "#\n",
    "frame_grid = get_binarized_movies_pooled_mice(locs_binned, \n",
    "                                  frame_grid)\n",
    "print (\"DONE...\")\n",
    "print (\"frame_grid: \", frame_grid.shape)\n",
    "\n",
    "#################################\n",
    "plt.figure()\n",
    "for k in range(100):\n",
    "    ax=plt.subplot(10,10,k+1)\n",
    "    idx = np.random.choice(frame_grid.shape[0])\n",
    "    #idx = k*1000\n",
    "    plt.imshow(frame_grid[idx]\n",
    "               )\n",
    "    plt.xticks([])\n",
    "    plt.yticks([])\n",
    "    plt.title(\"# \"+str(idx),\n",
    "             fontsize=10,\n",
    "             pad=0.9)\n",
    "plt.show()\n"
   ]
  },
  {
   "cell_type": "code",
   "execution_count": 5,
   "id": "72950bc6-51df-4057-8a5a-54391237e93d",
   "metadata": {},
   "outputs": [
    {
     "name": "stdout",
     "output_type": "stream",
     "text": [
      "(1872130, 2)\n"
     ]
    }
   ],
   "source": [
    "################################################\n",
    "###################### PCA #####################\n",
    "################################################\n",
    "#\n",
    "from sklearn.decomposition import PCA\n",
    "pca = PCA(n_components=2)\n",
    "\n",
    "#\n",
    "X = frame_grid.reshape(frame_grid.shape[0], -1)\n",
    "                       \n",
    "#                       \n",
    "pca_data = pca.fit_transform(X)\n",
    "print (pca_data.shape)\n",
    "\n",
    "#\n",
    "plt.figure()\n",
    "plt.scatter(pca_data[::10,0],\n",
    "            pca_data[::10,1])\n",
    "\n",
    "plt.show()"
   ]
  },
  {
   "cell_type": "code",
   "execution_count": 19,
   "id": "1bb47d1c-cd94-4e2d-8b06-6663a45d9521",
   "metadata": {},
   "outputs": [
    {
     "name": "stdout",
     "output_type": "stream",
     "text": [
      "GaussianMixture(n_components=20, random_state=0)\n",
      "[ 5 19 19 ... 19 19 19]\n",
      "# clusters:  [ 0  1  2  3  4  5  6  7  8  9 10 11 12 13 14 15 16 17 18 19]\n"
     ]
    }
   ],
   "source": [
    "##############################################\n",
    "from sklearn.cluster import Birch\n",
    "from sklearn.cluster import DBSCAN\n",
    "from sklearn.cluster import OPTICS\n",
    "from sklearn.cluster import SpectralClustering\n",
    "from sklearn.mixture import GaussianMixture\n",
    "\n",
    "#X= pca_data[::10].astype('float32')\n",
    "\n",
    "#gm = GaussianMixture(n_components=20, random_state=0).fit(X)\n",
    "\n",
    "print(gm)\n",
    "#\n",
    "clustering = gm.predict(X)\n",
    "\n",
    "\n",
    "print (clustering)\n",
    "\n",
    "#\n",
    "n_clusters = np.unique(clustering)\n",
    "print (\"# clusters: \", n_clusters)\n",
    "\n",
    "#\n",
    "clrs = np.zeros(X.shape[0])\n",
    "for k in n_clusters:\n",
    "    idx = np.where(clustering==k)[0]\n",
    "    clrs[idx]=k\n",
    "\n",
    "#############################################\n",
    "plt.figure()\n",
    "plt.scatter(X[:,0],\n",
    "            X[:,1],\n",
    "            c=clrs,\n",
    "            cmap=cm.gist_ncar)\n",
    "\n",
    "plt.show()\n",
    "\n",
    "\n",
    "\n"
   ]
  },
  {
   "cell_type": "code",
   "execution_count": null,
   "id": "1af169e1-c70f-4363-a3f7-bc66f7c7cadc",
   "metadata": {},
   "outputs": [],
   "source": [
    "plt.figure()\n",
    "for k in range(100):\n",
    "    ax=plt.subplot(10,10,k+1)\n",
    "    idx = np.random.choice(frame_grid.shape[0])\n",
    "    #idx = k*1000\n",
    "    plt.imshow(frame_grid[idx]\n",
    "               )\n",
    "    plt.xticks([])\n",
    "    plt.yticks([])\n",
    "    plt.title(\"# \"+str(idx),\n",
    "             fontsize=10,\n",
    "             pad=0.9)\n",
    "plt.show()"
   ]
  },
  {
   "cell_type": "code",
   "execution_count": null,
   "id": "2395a319-32c9-4033-b309-8a273e06c442",
   "metadata": {},
   "outputs": [],
   "source": []
  },
  {
   "cell_type": "code",
   "execution_count": null,
   "id": "e9a6a570-7d19-4aad-824c-c3ddb6859966",
   "metadata": {},
   "outputs": [],
   "source": []
  },
  {
   "cell_type": "code",
   "execution_count": null,
   "id": "39db429a-3bf2-4c90-8205-8ee37a71aaf7",
   "metadata": {},
   "outputs": [],
   "source": []
  },
  {
   "cell_type": "code",
   "execution_count": null,
   "id": "def1fead-9d7a-4da0-aa92-3e579f017ff3",
   "metadata": {},
   "outputs": [],
   "source": []
  },
  {
   "cell_type": "code",
   "execution_count": null,
   "id": "2ae0d7b9-d1d2-41fd-aae8-87ddba0f46ec",
   "metadata": {},
   "outputs": [],
   "source": []
  }
 ],
 "metadata": {
  "kernelspec": {
   "display_name": "Python 3",
   "language": "python",
   "name": "python3"
  },
  "language_info": {
   "codemirror_mode": {
    "name": "ipython",
    "version": 3
   },
   "file_extension": ".py",
   "mimetype": "text/x-python",
   "name": "python",
   "nbconvert_exporter": "python",
   "pygments_lexer": "ipython3",
   "version": "3.7.0"
  }
 },
 "nbformat": 4,
 "nbformat_minor": 5
}
