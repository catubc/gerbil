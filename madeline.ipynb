{
 "cells": [
  {
   "cell_type": "code",
   "execution_count": 1,
   "metadata": {},
   "outputs": [
    {
     "data": {
      "application/javascript": [
       "IPython.notebook.set_autosave_interval(180000)"
      ]
     },
     "metadata": {},
     "output_type": "display_data"
    },
    {
     "name": "stdout",
     "output_type": "stream",
     "text": [
      "Autosaving every 180 seconds\n"
     ]
    },
    {
     "data": {
      "text/html": [
       "<style>.container { width:100% !important; }</style>"
      ],
      "text/plain": [
       "<IPython.core.display.HTML object>"
      ]
     },
     "metadata": {},
     "output_type": "display_data"
    }
   ],
   "source": [
    "import matplotlib\n",
    "import matplotlib.pyplot as plt\n",
    "\n",
    "import numpy as np\n",
    "import csv\n"
   ]
  },
  {
   "cell_type": "code",
   "execution_count": 197,
   "metadata": {},
   "outputs": [],
   "source": [
    "\n",
    "data = []\n",
    "with open('/home/cat/Downloads/Error_tracking_spreadsheet - Copy of Sheet1.csv') as csv_file:\n",
    "        \n",
    "    csv_reader = csv.reader(csv_file, delimiter=',')\n",
    "    line_count = 0\n",
    "    for row in csv_reader:\n",
    "        row2 = []\n",
    "        for x in row:\n",
    "            if x=='':\n",
    "                row2.append(0)\n",
    "            else:\n",
    "                row2.append(x)\n",
    "        data.append(row2)\n"
   ]
  },
  {
   "cell_type": "code",
   "execution_count": 225,
   "metadata": {},
   "outputs": [
    {
     "name": "stdout",
     "output_type": "stream",
     "text": [
      "size of loaded array:  (36, 22)\n"
     ]
    }
   ],
   "source": [
    "data= np.array(data)\n",
    "print (\"size of loaded array: \", data.shape)"
   ]
  },
  {
   "cell_type": "code",
   "execution_count": 221,
   "metadata": {},
   "outputs": [
    {
     "name": "stdout",
     "output_type": "stream",
     "text": [
      "all column:  ['cyan, green' 'cyan' 'cyan' 'cyan' 'cyan' 'cyan' 'cyan' 'cyan' 'cyan'\n",
      " 'blue, green' 'blue, green' 'cyan' 'green, cyan' ' ' '0' '0' '0' '0' '0'\n",
      " '0' '0' '0' '0' '0' '0' '0' '0' '0' '0' '0' '0' '0' '0' '0' '0' '0']\n",
      "\n",
      "first element:  cyan, green\n"
     ]
    }
   ],
   "source": [
    "# 2nd column: female error type (note 2nd column has index 1; first column index 0)\n",
    "index = 1\n",
    "print (\"all column: \", data[:,index])\n",
    "print ('')\n",
    "\n",
    "index = 1\n",
    "row = 0\n",
    "print (\"first element: \", data[:,index][0])\n"
   ]
  },
  {
   "cell_type": "code",
   "execution_count": 224,
   "metadata": {},
   "outputs": [
    {
     "name": "stdout",
     "output_type": "stream",
     "text": [
      "all errors:  ['75' '131' '17' '332' '15' '11' '24' '76' '752' '174' '391' '35' '567'\n",
      " '0' '0' '0' '0' '0' '0' '0' '0' '0' '0' '0' '0' '0' '0' '0' '0' '0' '0'\n",
      " '0' '0' '0' '0' '0']\n",
      "# errors first row:  75\n"
     ]
    }
   ],
   "source": [
    "# how many errors for first cell\n",
    "index = 4\n",
    "print (\"all errors: \", data[:,4])\n",
    "\n",
    "\n",
    "index = 4\n",
    "print (\"# errors first row: \", data[:,4][row])"
   ]
  },
  {
   "cell_type": "code",
   "execution_count": 235,
   "metadata": {
    "scrolled": true
   },
   "outputs": [
    {
     "name": "stdout",
     "output_type": "stream",
     "text": [
      "shape:  (36, 22)\n",
      "cyan # errors :  131\n",
      "cyan # errors :  17\n",
      "cyan # errors :  332\n",
      "cyan # errors :  15\n",
      "cyan # errors :  11\n",
      "cyan # errors :  24\n",
      "cyan # errors :  76\n",
      "cyan # errors :  752\n",
      "cyan # errors :  35\n",
      "1393\n"
     ]
    }
   ],
   "source": [
    "# search for cyan errors:\n",
    "print (\"shape: \", data.shape)\n",
    "index=1\n",
    "sums = 0\n",
    "for row in range(data.shape[0]):\n",
    "    if data[row,index]=='cyan':\n",
    "        print (data[row,index], \"# errors : \", data[row,4]) \n",
    "        sums = sums + int(data[row,4])\n",
    "        \n",
    "print (sums)\n",
    "    "
   ]
  },
  {
   "cell_type": "code",
   "execution_count": null,
   "metadata": {},
   "outputs": [],
   "source": [
    "# learn to plot the erorrs using bar plots\n"
   ]
  }
 ],
 "metadata": {
  "kernelspec": {
   "display_name": "Python 3",
   "language": "python",
   "name": "python3"
  },
  "language_info": {
   "codemirror_mode": {
    "name": "ipython",
    "version": 3
   },
   "file_extension": ".py",
   "mimetype": "text/x-python",
   "name": "python",
   "nbconvert_exporter": "python",
   "pygments_lexer": "ipython3",
   "version": "3.6.12"
  }
 },
 "nbformat": 4,
 "nbformat_minor": 4
}
