{
 "cells": [
  {
   "cell_type": "code",
   "execution_count": 1,
   "metadata": {},
   "outputs": [],
   "source": [
    "%matplotlib tk\n",
    "\n",
    "import matplotlib.pyplot as plt\n",
    "import numpy as np"
   ]
  },
  {
   "cell_type": "code",
   "execution_count": 2,
   "metadata": {},
   "outputs": [],
   "source": [
    "import sleap\n"
   ]
  },
  {
   "cell_type": "code",
   "execution_count": 3,
   "metadata": {},
   "outputs": [],
   "source": [
    "fname = '/home/cat/Downloads/2020_3_16_08_59_17_534732_compressed.slp'\n",
    "\n",
    "sl = sleap.load_file(fname)"
   ]
  },
  {
   "cell_type": "code",
   "execution_count": 4,
   "metadata": {},
   "outputs": [
    {
     "name": "stderr",
     "output_type": "stream",
     "text": [
      "100%|██████████| 89989/89989 [00:01<00:00, 75521.75it/s]\n"
     ]
    }
   ],
   "source": [
    "from tqdm import trange\n",
    "\n",
    "n = []\n",
    "tracks = ['female','male','pup shaved', 'pup unshaved']\n",
    "\n",
    "# \n",
    "scores = np.zeros((len(sl),4),'float32')+np.nan\n",
    "found = np.zeros((len(sl),4),'float32')\n",
    "for n in trange(len(sl)):\n",
    "    for a in range(len(sl[n])):\n",
    "        \n",
    "        name = sl[n][a].track.name\n",
    "        #print (name)\n",
    "        idx = tracks.index(name)\n",
    "        scores[n,idx]=sl[n][a].score\n",
    "        \n"
   ]
  },
  {
   "cell_type": "code",
   "execution_count": 5,
   "metadata": {},
   "outputs": [],
   "source": [
    "plt.imshow(found,aspect='auto', )\n",
    "plt.show()"
   ]
  },
  {
   "cell_type": "code",
   "execution_count": 6,
   "metadata": {},
   "outputs": [],
   "source": [
    "width = 0.01\n",
    "for k in range(4):\n",
    "    ax=plt.subplot(2,2,k+1)\n",
    "    y = np.histogram(scores[:,k],bins=np.arange(0,1.02,width))\n",
    "    plt.bar(y[1][:-1],y[0],width*.9)\n",
    "    plt.title(\"animal \"+str(k))\n",
    "    plt.semilogy()\n",
    "plt.show()\n"
   ]
  },
  {
   "cell_type": "code",
   "execution_count": null,
   "metadata": {},
   "outputs": [],
   "source": []
  }
 ],
 "metadata": {
  "kernelspec": {
   "display_name": "Python 3",
   "language": "python",
   "name": "python3"
  },
  "language_info": {
   "codemirror_mode": {
    "name": "ipython",
    "version": 3
   },
   "file_extension": ".py",
   "mimetype": "text/x-python",
   "name": "python",
   "nbconvert_exporter": "python",
   "pygments_lexer": "ipython3",
   "version": "3.6.12"
  }
 },
 "nbformat": 4,
 "nbformat_minor": 4
}
