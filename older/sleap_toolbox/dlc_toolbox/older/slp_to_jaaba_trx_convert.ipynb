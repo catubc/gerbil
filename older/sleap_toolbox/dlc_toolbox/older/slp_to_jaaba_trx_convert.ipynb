{
 "cells": [
  {
   "cell_type": "code",
   "execution_count": 1,
   "metadata": {},
   "outputs": [
    {
     "data": {
      "application/javascript": [
       "IPython.notebook.set_autosave_interval(180000)"
      ]
     },
     "metadata": {},
     "output_type": "display_data"
    },
    {
     "name": "stdout",
     "output_type": "stream",
     "text": [
      "Autosaving every 180 seconds\n"
     ]
    },
    {
     "data": {
      "text/html": [
       "<style>.container { width:100% !important; }</style>"
      ],
      "text/plain": [
       "<IPython.core.display.HTML object>"
      ]
     },
     "metadata": {},
     "output_type": "display_data"
    }
   ],
   "source": [
    "import matplotlib\n",
    "#matplotlib.use('Agg')\n",
    "%matplotlib tk\n",
    "%autosave 180\n",
    "import matplotlib.pyplot as plt\n",
    "from IPython.core.display import display, HTML\n",
    "display(HTML(\"<style>.container { width:100% !important; }</style>\"))\n",
    "\n",
    "import matplotlib.cm as cm\n",
    "from matplotlib import gridspec\n",
    "from scipy import signal\n",
    "\n",
    "import numpy as np\n",
    "import os\n",
    "import shutil\n",
    "import cv2\n",
    "from tqdm import trange\n",
    "\n",
    "#import glob2\n",
    "\n",
    "from scipy.io import loadmat\n",
    "import scipy\n",
    "#import hdf5storage\n",
    "import csv\n",
    "from tqdm import trange\n",
    "\n",
    "import glob"
   ]
  },
  {
   "cell_type": "code",
   "execution_count": 2,
   "metadata": {
    "scrolled": true
   },
   "outputs": [],
   "source": [
    "###########################################################\n",
    "###### CONVERT DATA TO JAABA trx.mat FORMAT ###############\n",
    "###########################################################\n",
    "\n",
    "def convert_npy_to_mat_for_jaaba(fname, \n",
    "                                 sexes,\n",
    "                                 start,\n",
    "                                 end,\n",
    "                                dtype,\n",
    "                                animal_ids,\n",
    "                                 make_video\n",
    "                                ):\n",
    "    \n",
    "    from scipy.io import savemat\n",
    "    \n",
    "    data = np.load(fname)\n",
    "    \n",
    "    if end is None:\n",
    "        end = data.shape[1]\n",
    "        \n",
    "    trx_array=[]\n",
    "    for k in animal_ids:\n",
    "        x = np.array(data[k,start:end,0], dtype) # x-coordinate of the animal in pixels (1 x nframes).\n",
    "        y = np.array(data[k,start:end,1], dtype) # y-coordinate of the animal in pixels (1 x nframes).\n",
    "        \n",
    "        print (' # of data points: ', x.shape)\n",
    "        # rotations and body shrinking/stretching\n",
    "        theta = x*0  # TO BE RECOMPUTED FROM FULL FEATURES:  Orientation of the animal (head) (1 x nframes); \n",
    "        a = x*0+100  # TO BE RECOMPUTED FROM FULL FEATURES:  1/4 of the major-axis length in pixels (1 x nframes).\n",
    "        b = x*0+50  # TO BE RECOMPUTED FROM FULL FEATURES:  1/4 of the minor-axis length in pixels (1 x nframes).\n",
    "\n",
    "        # meta data for the video and animal\n",
    "        nframes = np.array(end-start,dtype)    # Number of frames in the trajectory of the current animal (scalar).\n",
    "        firstframe = np.array(1,dtype)             # First frame of the animal's trajectory (scalar). USE MATLAB INDEXES\n",
    "        endframe = np.array(nframes,dtype)   # Last frame of the animal's trajectory (scalar).\n",
    "        off = 0                    # Offset for computing index into x, y, etc. Always equal to 1 - firstframe (scalar).\n",
    "        id_ = k+1                  # Identity number of the trajectory (scalar). USE MATLAB VALUES\n",
    "\n",
    "        # convert from pixels to distances\n",
    "        pixels_per_mm = 2                       # number of pixels per mm # to figure out\n",
    "        x_mm = x//pixels_per_mm                   # x-coordinate of the animal in mm (1 x nframes).\n",
    "        y_mm = y//pixels_per_mm                   # y-coordinate of the animal in mm (1 x nframes).\n",
    "\n",
    "        theta_mm = theta                     # Orientation of the animal in real coordinates. This is often the same as theta, if no transformation other than translation and scaling is performed between pixels and real coordinates (1 x nframes).\n",
    "\n",
    "        a_mm = a//pixels_per_mm  # 1/4 of the major-axis length in mm (1 x nframes).\n",
    "        b_mm = b//pixels_per_mm  # 1/4 of the major-axis length in mm (1 x nframes).\n",
    "\n",
    "        sex = sexes[k]  # Sex of the animal. Can be just one value ('M' or 'F' or '?') or a cell array of 'M' and 'F' giving the sex for each frame. The size of the cell array should be nframes.\n",
    "\n",
    "        # frame-rate based info\n",
    "        dt = np.ones(int(nframes)-1, dtype)   # Difference in timestamps of the current frame and next frame, in seconds (1 x nframes-1).\n",
    "        fps = 25                               # Average frames-per-second (scalar).\n",
    "\n",
    "        days_per_timestamp = 1./(24*60*60*fps)\n",
    "        timestamps = np.array(np.arange(nframes)*days_per_timestamp,\n",
    "                             dtype) # Timestamp of each frame (optional), in days (1 x nframes). \n",
    "\n",
    "        \n",
    "        trx ={\n",
    "         'x': x,\n",
    "         'y':y,\n",
    "         'theta': theta,\n",
    "         'a': a,\n",
    "         'b': b,\n",
    "         'nframes':nframes,\n",
    "         'firstframe':firstframe,\n",
    "         'endframe':endframe,\n",
    "         'off':off,\n",
    "         'id':id_,\n",
    "         'x_mm':x_mm,\n",
    "         'y_mm':y_mm,\n",
    "         'theta_mm':theta_mm,\n",
    "         'a_mm':a_mm,\n",
    "         'b_mm':b_mm,\n",
    "         'sex':sex,\n",
    "         'dt':dt,\n",
    "         'fps':fps,\n",
    "         'timestamps': timestamps\n",
    "        }\n",
    "        \n",
    "        trx_array.append(trx)\n",
    "\n",
    "    trx_dict = {'a':trx_array[0],\n",
    "                'b':trx_array[1],\n",
    "                'c':trx_array[2],\n",
    "                'd':trx_array[3]               \n",
    "               }\n",
    "        \n",
    "    \n",
    "#     def split_movie(video_name, start, end):\n",
    "#         from tqdm import trange\n",
    "\n",
    "#         fname_out = video_name[:-4]+\"_\"+str(start)+\"_\"+str(end)+\".mp4\"\n",
    "#         if os.path.exists(fname_out):\n",
    "#             return\n",
    "\n",
    "#         #video_name = root_dir + '/' + os.path.split(root_dir)[1]+'.avi'\n",
    "#         original_vid = cv2.VideoCapture(video_name)\n",
    "\n",
    "#         # video sizes\n",
    "#         size_vid = np.array([1280,1024])\n",
    "#         original_vid.set(cv2.CAP_PROP_POS_FRAMES, start)\n",
    "\n",
    "#         # Initialize video out\n",
    "#         fourcc = cv2.VideoWriter_fourcc('M','P','E','G')\n",
    "#         video_out = cv2.VideoWriter(fname_out,fourcc, 25, (size_vid[0],size_vid[1]), True)\n",
    "\n",
    "#         for n in trange(start,end, 1):\n",
    "#             ret, frame = original_vid.read()\n",
    "#             video_out.write(frame)\n",
    "#         video_out.release()\n",
    "#         original_vid.release()\n",
    "\n",
    "#     if make_video:\n",
    "#         video_name = os.path.split(fname)[0]+\"/movie.avi\"\n",
    "\n",
    "#         # \n",
    "#         split_movie(video_name,start,end)\n",
    "    \n",
    "    \n",
    "    savemat(fname[:-4]+'_trx.mat', \n",
    "            {\n",
    "             'trx':trx_dict\n",
    "            }\n",
    "           )\n",
    "    \n",
    "    \n",
    "    #\n",
    "    print (\"*** DONE CONVERSION ***\")\n",
    "    \n",
    "    "
   ]
  },
  {
   "cell_type": "code",
   "execution_count": 7,
   "metadata": {},
   "outputs": [
    {
     "name": "stdout",
     "output_type": "stream",
     "text": [
      " # of data points:  (1500,)\n",
      " # of data points:  (1500,)\n",
      " # of data points:  (1500,)\n",
      " # of data points:  (1500,)\n",
      "*** DONE CONVERSION ***\n"
     ]
    }
   ],
   "source": [
    "\n",
    "fnames = glob.glob('/media/cat/7e3d5af3-7d7b-424d-bdd5-eb995a4a0c62/dan/cohort1/march_16/post_processing/centres/'+\n",
    "                   '*.npy')\n",
    "\n",
    "fname = '/media/cat/7e3d5af3-7d7b-424d-bdd5-eb995a4a0c62/dan/cohort1/march_16/2020_3_16_08_59_17_534732_compressed/2020_3_16_08_59_17_534732_compressed_spine_transposed.npy'\n",
    "    \n",
    "sexes = ['M','M','M','M']\n",
    "sexes = np.ones(4)\n",
    "fps = 25\n",
    "start = int(0*60*fps)\n",
    "end = int(1*60*fps)\n",
    "\n",
    "dtype = 'double'\n",
    "animal_ids = np.arange(4)\n",
    "make_video = False\n",
    "\n",
    "\n",
    "convert_npy_to_mat_for_jaaba(fname, \n",
    "                             sexes,\n",
    "                             start,\n",
    "                             end,\n",
    "                             dtype,\n",
    "                             animal_ids,\n",
    "                             make_video)\n",
    "\n",
    "    "
   ]
  },
  {
   "cell_type": "code",
   "execution_count": 6,
   "metadata": {},
   "outputs": [
    {
     "name": "stdout",
     "output_type": "stream",
     "text": [
      "(4, 89989, 2)\n"
     ]
    }
   ],
   "source": [
    "data = np.load('/media/cat/7e3d5af3-7d7b-424d-bdd5-eb995a4a0c62/dan/cohort1/march_16/2020_3_16_08_59_17_534732_compressed/2020_3_16_08_59_17_534732_compressed_spine.npy').transpose(1,0,2)\n",
    "print (data.shape)\n",
    "\n",
    "np.save('/media/cat/7e3d5af3-7d7b-424d-bdd5-eb995a4a0c62/dan/cohort1/march_16/2020_3_16_08_59_17_534732_compressed/2020_3_16_08_59_17_534732_compressed_spine_transposed.npy',\n",
    "       data)"
   ]
  },
  {
   "cell_type": "code",
   "execution_count": null,
   "metadata": {},
   "outputs": [],
   "source": []
  },
  {
   "cell_type": "code",
   "execution_count": 13,
   "metadata": {},
   "outputs": [
    {
     "name": "stderr",
     "output_type": "stream",
     "text": [
      "100%|██████████| 4/4 [00:00<00:00, 16.14it/s]\n",
      "100%|██████████| 4/4 [00:00<00:00, 15.98it/s]\n",
      "100%|██████████| 4/4 [00:00<00:00, 16.20it/s]\n",
      "100%|██████████| 4/4 [00:00<00:00, 16.29it/s]\n",
      "100%|██████████| 4/4 [00:00<00:00, 16.24it/s]\n",
      "100%|██████████| 4/4 [00:00<00:00, 15.66it/s]\n",
      "100%|██████████| 4/4 [00:00<00:00, 15.38it/s]\n",
      "100%|██████████| 4/4 [00:00<00:00, 15.47it/s]\n",
      "100%|██████████| 4/4 [00:00<00:00, 15.17it/s]\n",
      "100%|██████████| 4/4 [00:00<00:00, 15.94it/s]\n"
     ]
    }
   ],
   "source": [
    "from tqdm import trange\n",
    "clrs = ['red','blue','green','cyan']\n",
    "\n",
    "dirs = np.sort(glob.glob('/media/cat/7e3d5af3-7d7b-424d-bdd5-eb995a4a0c62/trx_files/'+\n",
    "                \"*\"))\n",
    "\n",
    "imgs=[]\n",
    "imgs1 = []\n",
    "for dir_ in dirs:\n",
    "    fname_mat = '/media/cat/7e3d5af3-7d7b-424d-bdd5-eb995a4a0c62/trx_files/2020-3-16_01_54_23_358257_compressed.avi.predictions.analysis_traces_reassembled_centres/scores_run.mat'\n",
    "    data =loadmat(fname_mat)\n",
    "    \n",
    "    # get length\n",
    "    temp = data['allScores'][0][0][0][0][0].squeeze()\n",
    "    length = temp.shape[0]\n",
    "\n",
    "    # get starts/ends\n",
    "    t0s = data['allScores'][0][0][5].squeeze()\n",
    "    #print (t0s.shape)\n",
    "    t1s = data['allScores'][0][0][6].squeeze()\n",
    "    \n",
    "    img = np.zeros((4,length),'float32')\n",
    "    img1 = np.zeros((4,length),'float32')\n",
    "    for k in trange(t0s.shape[0]):\n",
    "    #for k in [0]:\n",
    "        starts = t0s[k].squeeze()\n",
    "        ends = t1s[k].squeeze()\n",
    "        #print (k,starts.shape)\n",
    "        for p in range(starts.shape[0]):\n",
    "            img[k,starts[p]:ends[p]]+=k+1\n",
    "            img1[k,starts[p]:ends[p]]+=1\n",
    "            \n",
    "    idx = np.where(img==0)\n",
    "    img[idx]=np.nan\n",
    "    imgs.append(img)\n",
    "    imgs1.append(img1)\n",
    "    \n",
    "imgs=np.hstack(imgs)\n",
    "imgs1=np.hstack(imgs1)\n"
   ]
  },
  {
   "cell_type": "code",
   "execution_count": 18,
   "metadata": {
    "scrolled": true
   },
   "outputs": [
    {
     "name": "stdout",
     "output_type": "stream",
     "text": [
      "(4, 899880)\n",
      "(899880,)\n"
     ]
    }
   ],
   "source": [
    "matplotlib.use('Agg')\n",
    "\n",
    "fig = plt.figure(figsize=(100,5))\n",
    "ax=plt.subplot(2,1,1)\n",
    "\n",
    "\n",
    "plt.xticks([])\n",
    "print (imgs.shape)\n",
    "names = ['female','male','pup1','pup2']\n",
    "clrs = ['red','blue','magenta','green']\n",
    "plt.yticks(np.arange(4),names)\n",
    "from matplotlib import colors\n",
    "cmap = colors.ListedColormap(clrs)\n",
    "\n",
    "plt.imshow(imgs,aspect='auto',interpolation='none',\n",
    "          cmap=cmap)\n",
    "\n",
    "ax=plt.subplot(2,1,2)\n",
    "sums = np.nansum(imgs1, axis= 0)\n",
    "print (sums.shape)\n",
    "\n",
    "def smooth(y, box_pts):\n",
    "    box = np.ones(box_pts)/box_pts\n",
    "    #y_smooth = np.convolve(y, box, mode='same')\n",
    "    y_smooth = np.convolve(y,np.ones(box_pts,dtype=int),'same')\n",
    "    \n",
    "    return y_smooth\n",
    "\n",
    "window = 60\n",
    "t = np.arange(imgs.shape[1])/25./window\n",
    "img2 = np.zeros((4,imgs.shape[1]))\n",
    "for k in range(4):\n",
    "    temp = imgs1[k]\n",
    "    temp = smooth(temp,25*window)    \n",
    "    #img2[k]=temp\n",
    "    #temp = smooth(temp,25)    \n",
    "    \n",
    "    plt.plot(t,temp,clrs[k])\n",
    "\n",
    "#plt.imshow(img2,aspect='auto',interpolation='none')#    cmap=cmap)    \n",
    "plt.xticks(np.arange(0,600,10))\n",
    "plt.xlim(t[0],t[-1])\n",
    "plt.xlabel(\"Time (minutes)\")\n",
    "plt.suptitle(\"Run behaviors for all animals (\"+str(window)+ \"sec smoothing window)\", fontsize=20)\n",
    "plt.savefig('/home/cat/fig.png')\n",
    "#plt.show()\n",
    "\n"
   ]
  },
  {
   "cell_type": "code",
   "execution_count": 100,
   "metadata": {},
   "outputs": [
    {
     "name": "stdout",
     "output_type": "stream",
     "text": [
      "(89988,)\n"
     ]
    }
   ],
   "source": [
    "temp = data['allScores'][0][0][0][0][k].squeeze()\n",
    "print(temp.shape)\n"
   ]
  },
  {
   "cell_type": "code",
   "execution_count": 63,
   "metadata": {},
   "outputs": [
    {
     "name": "stdout",
     "output_type": "stream",
     "text": [
      "(4,)\n"
     ]
    }
   ],
   "source": [
    "t0s = data['allScores'][0][0][5].squeeze()\n",
    "print (t0s.shape)\n",
    "t1s = data['allScores'][0][0][6].squeeze()"
   ]
  },
  {
   "cell_type": "code",
   "execution_count": null,
   "metadata": {},
   "outputs": [],
   "source": []
  },
  {
   "cell_type": "code",
   "execution_count": 167,
   "metadata": {},
   "outputs": [],
   "source": [
    "fname_mat = '/media/cat/7e3d5af3-7d7b-424d-bdd5-eb995a4a0c62/dan/cohort1/march_16/2020_3_15_11_53_51_617746_compressed/jaaba/trx_all_21300_21500.mat'\n",
    "data = loadmat(fname_mat)"
   ]
  },
  {
   "cell_type": "code",
   "execution_count": 168,
   "metadata": {},
   "outputs": [
    {
     "name": "stdout",
     "output_type": "stream",
     "text": [
      "(1, 4)\n",
      "(1, 200)\n",
      "44.0\n"
     ]
    }
   ],
   "source": [
    "print (data['trx'].shape)\n",
    "print (data['trx'][0][0][1].shape)\n",
    "\n",
    "data['trx'][0][0][1][0][0] = 44\n",
    "data['trx'][0][0][1][0] = np.array(data['trx'][0][0][1][0],dtype)\n",
    "\n",
    "print (data['trx'][0][0][1][0][0])"
   ]
  },
  {
   "cell_type": "code",
   "execution_count": null,
   "metadata": {},
   "outputs": [],
   "source": [
    "  \n",
    "    \n",
    "from numpy.core.records import fromarrays\n",
    "from scipy.io import savemat\n",
    "\n",
    "names = [\n",
    " 'x',\n",
    " 'y',\n",
    " 'theta',\n",
    " 'a',\n",
    " 'b',\n",
    " 'nframes',\n",
    " 'firstframe',\n",
    " 'endframe',\n",
    " 'off',\n",
    " 'id',\n",
    " 'x_mm',\n",
    " 'y_mm',\n",
    " 'theta_mm',\n",
    " 'a_mm',\n",
    " 'b_mm',\n",
    " 'sex',\n",
    " 'dt',\n",
    " 'fps',\n",
    " 'timestamps']\n",
    "\n",
    "data = [\n",
    " x,\n",
    " y,\n",
    " theta,\n",
    " a,\n",
    " b,\n",
    " nframes,\n",
    " firstframe,\n",
    " endframe,\n",
    " off,\n",
    " id_,\n",
    " x_mm,\n",
    " y_mm,\n",
    " theta_mm,\n",
    " a_mm,\n",
    " b_mm,\n",
    " sex,\n",
    " dt,\n",
    " fps,\n",
    " timestamps\n",
    "]\n",
    "\n",
    "\n",
    "            \n",
    "#myrec = fromarrays([[1, 10], [2, 20]], names=['field1', 'field2'])\n",
    "#savemat('p.mat', {'myrec': myrec})\n",
    "\n",
    "myrec = fromarrays(data, \n",
    "                   names=names)\n",
    "#savemat('p.mat', {'myrec': myrec})\n",
    "\n",
    "\n",
    "savemat(\"/media/cat/7e3d5af3-7d7b-424d-bdd5-eb995a4a0c62/dan/cohort1/march_16/2020_3_15_11_53_51_617746_compressed/jaaba/trx.mat\", \n",
    "        {'myrec':myrec})\n",
    "    "
   ]
  },
  {
   "cell_type": "code",
   "execution_count": 11,
   "metadata": {},
   "outputs": [
    {
     "name": "stdout",
     "output_type": "stream",
     "text": [
      "(4, 89988, 2)\n",
      "(4, 89985, 2)\n",
      "(4, 89987, 2)\n",
      "(4, 89988, 2)\n",
      "(4, 89987, 2)\n",
      "(4, 89987, 2)\n",
      "(4, 89988, 2)\n",
      "(4, 89989, 2)\n",
      "(4, 89976, 2)\n",
      "(4, 89988, 2)\n"
     ]
    }
   ],
   "source": [
    "fnames = glob.glob('/media/cat/7e3d5af3-7d7b-424d-bdd5-eb995a4a0c62/dan/cohort1/march_16/post_processing/*.npy')\n",
    "\n",
    "for fname in fnames:\n",
    "    data = np.load(fname)\n",
    "    \n",
    "    data2 = []\n",
    "    for f in range(0,56,14):\n",
    "        temp = data[:,f:f+14]\n",
    "        temp = np.nanmedian(temp,axis=1)\n",
    "        data2.append(temp)\n",
    "        \n",
    "    data2=np.array(data2)\n",
    "    np.save(fname[:-4]+'_centres.npy',data2)\n",
    "    print (data2.shape)"
   ]
  },
  {
   "cell_type": "code",
   "execution_count": null,
   "metadata": {},
   "outputs": [],
   "source": []
  },
  {
   "cell_type": "code",
   "execution_count": null,
   "metadata": {},
   "outputs": [],
   "source": []
  },
  {
   "cell_type": "code",
   "execution_count": null,
   "metadata": {},
   "outputs": [],
   "source": []
  },
  {
   "cell_type": "code",
   "execution_count": null,
   "metadata": {},
   "outputs": [],
   "source": []
  }
 ],
 "metadata": {
  "kernelspec": {
   "display_name": "Python 3",
   "language": "python",
   "name": "python3"
  },
  "language_info": {
   "codemirror_mode": {
    "name": "ipython",
    "version": 3
   },
   "file_extension": ".py",
   "mimetype": "text/x-python",
   "name": "python",
   "nbconvert_exporter": "python",
   "pygments_lexer": "ipython3",
   "version": "3.6.12"
  }
 },
 "nbformat": 4,
 "nbformat_minor": 4
}
