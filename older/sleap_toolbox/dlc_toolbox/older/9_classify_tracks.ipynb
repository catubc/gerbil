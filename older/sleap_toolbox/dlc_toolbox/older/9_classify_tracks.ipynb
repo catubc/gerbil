{
 "cells": [
  {
   "cell_type": "code",
   "execution_count": 1,
   "metadata": {},
   "outputs": [
    {
     "data": {
      "application/javascript": [
       "IPython.notebook.set_autosave_interval(180000)"
      ]
     },
     "metadata": {},
     "output_type": "display_data"
    },
    {
     "name": "stdout",
     "output_type": "stream",
     "text": [
      "Autosaving every 180 seconds\n"
     ]
    }
   ],
   "source": [
    "####################################\n",
    "########### LOAD PKGS ##############\n",
    "####################################\n",
    "%matplotlib tk\n",
    "%autosave 180\n",
    "\n",
    "#%matplotlib inline\n",
    "%config InlineBackend.figure_format = 'retina'\n",
    "import matplotlib.pyplot as plt\n",
    "import numpy as np\n",
    "import os\n",
    "import torch\n",
    "from torch import nn\n",
    "from torch import optim\n",
    "import torch.nn.functional as F\n",
    "from torchvision import datasets, transforms, models\n",
    "\n",
    "import glob\n",
    "\n",
    "from classify_utility import * "
   ]
  },
  {
   "cell_type": "code",
   "execution_count": 13,
   "metadata": {},
   "outputs": [],
   "source": [
    "#################################################\n",
    "########### MAKE DATA LOADER FUNCTION ###########\n",
    "#################################################\n",
    "\n",
    "# FUNCTION REQUIRED FOR TORCH (?) ALSO FOR RESNET fixed sizes\n",
    "train_transforms = transforms.Compose([\n",
    "    transforms.ToPILImage(),\n",
    "        transforms.Resize((224,224)),\n",
    "        transforms.ToTensor(),\n",
    "        #transforms.Normalize([0.46, 0.48, 0.51], [0.32, 0.32, 0.32])\n",
    "    ])\n",
    "\n",
    "# DATA LOADER AND RANDOMIZER FUNCTION\n",
    "def make_trainloader(train_data, \n",
    "                     vals, \n",
    "                     batch_size,\n",
    "                     randomize=True):\n",
    "    \n",
    "    # RANDOMIZE DATA EVERYTIME THIS IS CALLED\n",
    "    if randomize:\n",
    "        idx = np.random.choice(np.arange(vals.shape[0]),\n",
    "                         vals.shape[0],replace=False)\n",
    "        # REARANGE DATA BASED ON RANDOMIZATION FLAG\n",
    "        train_data = train_data[idx]\n",
    "        vals = vals[idx]\n",
    "    else:\n",
    "        idx = np.arange(vals.shape[0])\n",
    "    \n",
    "\n",
    "    # Compute number of batches\n",
    "    n_batches = train_data.shape[0]//batch_size\n",
    "\n",
    "    # make trainign data plus labels\n",
    "    data_train = []\n",
    "    vals_train = []\n",
    "    for k in range(0,n_batches*batch_size,batch_size):\n",
    "        data_train.append(train_data[k:k+batch_size])\n",
    "        vals_train.append(vals[k:k+batch_size])\n",
    "\n",
    "    # \n",
    "    #print (\"# batches: \", n_batches)\n",
    "        \n",
    "    # RATIO OF DATA SPLIT BETWEEN TRAIN AND TEST\n",
    "    split = 0.8\n",
    "    \n",
    "    trainloader = zip(data_train[:int(len(data_train)*split)],\n",
    "                      vals_train[:int(len(data_train)*split)])\n",
    "    \n",
    "    testloader = zip(data_train[int(len(data_train)*split):],\n",
    "                      vals_train[int(len(data_train)*split):])\n",
    "\n",
    "    return trainloader, testloader, n_batches\n",
    "\n",
    "\n",
    "\n",
    "\n",
    "\n",
    "# function to load images and format for ResNet (n_images, rgb, width, height)\n",
    "def load_data(root_dir, max_count=1E10):\n",
    "    \n",
    "    # TODO: remove RGB EVENTUALLY; Find RESNET50 GREY\n",
    "    # make array to load data from 4 classes\n",
    "    data_loaded = np.zeros((0,3,200,200),'uint8')\n",
    "    vals = []\n",
    "    \n",
    "    # LOAD MONOCROME DATA, USUALLY GREEN CHAN\n",
    "    if False:\n",
    "        for k in range(4):\n",
    "            temp = np.repeat(np.load(root_dir+'/'+str(k)+'.npy')[None],3,axis=0).transpose(1,0,2,3)\n",
    "            data_loaded = np.vstack((data_loaded,temp))\n",
    "            vals.extend(np.zeros(temp.shape[0],'int32')+k)\n",
    "    \n",
    "    # LOAD RGB DATA (but NOTE THAT SECONDARY CHANS ARE messy)\n",
    "    if False:\n",
    "        for k in range(4):\n",
    "            temp = np.load(root_dir+'/'+str(k)+'.npy').transpose(0,3,1,2)\n",
    "            print (temp.shape)\n",
    "            data_loaded = np.vstack((data_loaded,temp))\n",
    "            vals.extend(np.zeros(temp.shape[0],'int32')+k)\n",
    "\n",
    "    # LOAD RGB DATA, COPY GREEN CHAN TO EVERYTHING ELSE\n",
    "    if True:\n",
    "        green_chan = 1\n",
    "        max_trials = max_count\n",
    "        for k in range(4):\n",
    "            temp = np.load(root_dir+'/'+str(k)+'.npy').transpose(0,3,1,2)[:,1]\n",
    "            temp = np.repeat(temp[:,None],3,axis=1)\n",
    "            \n",
    "            if (temp[0,0]-temp[0,1]).sum()!=0:\n",
    "                print (\"BREAK ERROR\")\n",
    "                break\n",
    "                \n",
    "            idx = np.random.choice(np.arange(temp.shape[0]),\n",
    "                                   max_trials,replace=False)\n",
    "            \n",
    "            temp = temp[idx]\n",
    "            print (temp.shape)\n",
    "            data_loaded = np.vstack((data_loaded,temp))\n",
    "            vals.extend(np.zeros(temp.shape[0],'int32')+k)\n",
    "\n",
    "    # convert lables to torch tensors\n",
    "    vals = torch.tensor(vals, dtype=torch.long)\n",
    "\n",
    "    # TRANSFORM DATA AS REQUIRED BY RESNET (?)\n",
    "    train_data = []\n",
    "    from tqdm import trange\n",
    "    for k in range(vals.shape[0]):\n",
    "        temp2 = train_transforms(data_loaded[k].transpose(1,2,0))\n",
    "        train_data.append(temp2)  #THIS CAN BE DONE FASTER\n",
    "\n",
    "    all_data = torch.stack(train_data)\n",
    "    print (\"Train data final [# samples, RGB, width, height]: \", all_data.shape)\n",
    "\n",
    "    return all_data, vals\n",
    "        \n",
    "\n",
    "    \n",
    "# same as above but for single images\n",
    "def cnn_proceprocess_track_rgb(root_dir, \n",
    "                               save_formated_data=False):\n",
    "        \n",
    "    max_count = 1E10\n",
    "    \n",
    "    import glob\n",
    "    \n",
    "    # \n",
    "    track_id = os.path.split(root_dir)[1]\n",
    "    fname = os.path.join(root_dir, str(track_id)+'.npz')\n",
    "    #print (\"fname: \", fname)\n",
    "\n",
    "    #\n",
    "    data = np.load(fname)\n",
    "    data_loaded = data['images']\n",
    "    frame_ids = data['frame_id']\n",
    "    \n",
    "#     data_loaded = [] #np.zeros((0,3,200,200),'uint8')\n",
    "#     vals = []\n",
    "#     frame_ids = []\n",
    "#     for fname in fnames:\n",
    "#         temp = np.load(fname)['frame']\n",
    "        \n",
    "#         if len(temp.shape)==2:\n",
    "#             temp = np.repeat(temp[:,:,None],3,axis=2)\n",
    "        \n",
    "#         if temp.shape[0]!=200:\n",
    "#             #print ('wrong size: ', temp.shape)\n",
    "#             temp=temp[temp.shape[0]//2-100 : temp.shape[0]//2+100,\n",
    "#                   temp.shape[0]//2-100 : temp.shape[0]//2+100]\n",
    "            \n",
    "\n",
    "#         data_loaded.append(temp)\n",
    "\n",
    "#         #\n",
    "#         frame_id = int(os.path.split(fname)[1].replace('frame_','')[:7])\n",
    "#         #print (frame_id)\n",
    "#         frame_ids.append(frame_id)\n",
    "    \n",
    "    #\n",
    "    #frame_ids = np.array(frame_ids)\n",
    "    \n",
    "    \n",
    "    # shuffle data; not sure this is needed;\n",
    "    idx = np.random.choice(np.arange(data_loaded.shape[0]),\n",
    "                           data_loaded.shape[0],\n",
    "                           replace=False)\n",
    "\n",
    "    data_loaded = data_loaded[idx]\n",
    "\n",
    "\n",
    "    # save track id: \n",
    "    track_id = int(os.path.split(root_dir)[1])\n",
    "    \n",
    "    # convert lables to torch tensors\n",
    "    train_data = []\n",
    "    from tqdm import trange\n",
    "    for k in range(data_loaded.shape[0]):\n",
    "        #temp2 = train_transforms(data_loaded[k].transpose(1,2,0))\n",
    "        temp2 = train_transforms(data_loaded[k])\n",
    "        train_data.append(temp2)  #THIS CAN BE DONE FASTER\n",
    "\n",
    "    all_data = torch.stack(train_data)\n",
    "    #all_data = np.array(train_data)\n",
    "    #print (\"Train data final [# samples, RGB, width, height]: \", all_data.shape)\n",
    "\n",
    "    #\n",
    "    track_ids = np.zeros(frame_ids.shape[0],'int32')+track_id\n",
    "\n",
    "        \n",
    "    if save_formated_data:\n",
    "        np.savez(fname_save,\n",
    "            all_data = all_data,\n",
    "            track_ids=track_ids,\n",
    "            frame_ids = frame_ids)\n",
    "        \n",
    "    \n",
    "    return all_data, track_id, frame_ids\n",
    "\n",
    "\n",
    "\n",
    "    \n",
    "# same as above but for single images\n",
    "def cnn_proceprocess_directory(root_dir, \n",
    "                               save_formated_data=False):\n",
    "    \n",
    "    \n",
    "    max_count = 1E10\n",
    "    \n",
    "    import glob\n",
    "    \n",
    "    # find all images in directory saved as .npz files each\n",
    "    fnames = np.sort(glob.glob(root_dir + '/*.npz'))\n",
    "\n",
    "    # LOAD RGB DATA, COPY GREEN CHAN TO EVERYTHING ELSE\n",
    "    green_chan = 1\n",
    "    max_trials = max_count\n",
    "    data_loaded = [] #np.zeros((0,3,200,200),'uint8')\n",
    "    vals = []\n",
    "    frame_ids = []\n",
    "    for fname in fnames:\n",
    "        temp = np.load(fname)['frame']\n",
    "        \n",
    "        if len(temp.shape)==2:\n",
    "            temp = np.repeat(temp[:,:,None],3,axis=2)\n",
    "        \n",
    "        if temp.shape[0]!=200:\n",
    "            #print ('wrong size: ', temp.shape)\n",
    "            temp=temp[temp.shape[0]//2-100 : temp.shape[0]//2+100,\n",
    "                  temp.shape[0]//2-100 : temp.shape[0]//2+100]\n",
    "            \n",
    "\n",
    "        data_loaded.append(temp)\n",
    "\n",
    "        #\n",
    "        frame_id = int(os.path.split(fname)[1].replace('frame_','')[:7])\n",
    "        #print (frame_id)\n",
    "        frame_ids.append(frame_id)\n",
    "    \n",
    "    #\n",
    "    frame_ids = np.array(frame_ids)\n",
    "    \n",
    "    \n",
    "    # make stack of images\n",
    "    data_loaded=np.array(data_loaded)\n",
    "    #print (\"data loaded: \", data_loaded.shape)\n",
    "    # shuffle data; not sure this is needed;\n",
    "    idx = np.random.choice(np.arange(data_loaded.shape[0]),\n",
    "                           data_loaded.shape[0],replace=False)\n",
    "\n",
    "    data_loaded = data_loaded[idx]\n",
    "\n",
    "\n",
    "    # save track id: \n",
    "    track_id = int(os.path.split(root_dir)[1])\n",
    "    \n",
    "    # convert lables to torch tensors\n",
    "\n",
    "    # TRANSFORM DATA AS REQUIRED BY RESNET (?)\n",
    "    train_data = []\n",
    "    from tqdm import trange\n",
    "    for k in range(data_loaded.shape[0]):\n",
    "        #temp2 = train_transforms(data_loaded[k].transpose(1,2,0))\n",
    "        temp2 = train_transforms(data_loaded[k])\n",
    "        train_data.append(temp2)  #THIS CAN BE DONE FASTER\n",
    "\n",
    "    all_data = torch.stack(train_data)\n",
    "    #all_data = np.array(train_data)\n",
    "    #print (\"Train data final [# samples, RGB, width, height]: \", all_data.shape)\n",
    "\n",
    "    #\n",
    "    track_ids = np.zeros(frame_ids.shape[0],'int32')+track_id\n",
    "\n",
    "        \n",
    "    if save_formated_data:\n",
    "        np.savez(fname_save,\n",
    "            all_data = all_data,\n",
    "            track_ids=track_ids,\n",
    "            frame_ids = frame_ids)\n",
    "        \n",
    "    \n",
    "    return all_data, track_id, frame_ids\n",
    "\n",
    "# DATA LOADER AND RANDOMIZER FUNCTION\n",
    "def make_testloader(train_data, \n",
    "                    batch_size,\n",
    "                    randomize=False):\n",
    "    \n",
    "    # RANDOMIZE DATA EVERYTIME THIS IS CALLED\n",
    "    if randomize:\n",
    "        idx = np.random.choice(np.arange(vals.shape[0]),\n",
    "                         vals.shape[0],replace=False)\n",
    "        # REARANGE DATA BASED ON RANDOMIZATION FLAG\n",
    "        train_data = train_data[idx]\n",
    "\n",
    "    # Compute number of batches\n",
    "    n_batches = train_data.shape[0]//batch_size\n",
    "    if (train_data.shape[0]/batch_size)!= train_data.shape[0]//batch_size:\n",
    "        n_batches+=1\n",
    "\n",
    "    # make test data\n",
    "    data_predict = []\n",
    "    for k in range(0,n_batches*batch_size,batch_size):\n",
    "        data_predict.append(train_data[k:k+batch_size])\n",
    "\n",
    "    # \n",
    "                      \n",
    "    return data_predict, n_batches\n",
    "\n",
    "\n",
    "\n",
    "def plot_bars(predictions, \n",
    "              confidence,\n",
    "              test_data):\n",
    "    \n",
    "    clrs = ['red','blue','cyan','green']\n",
    "    names = ['female','male','pup1 (shaved)','pup2 (unshaved)']\n",
    "\n",
    "    import matplotlib.patches as mpatches\n",
    "    import matplotlib.gridspec as gridspec\n",
    "\n",
    "    plt.figure(figsize=(4, 4))\n",
    "    G = gridspec.GridSpec(4, 4)\n",
    "\n",
    "    # PLOT BAR GRAPHS FOR ALL PREDICTIONS\n",
    "    axes_1 = plt.subplot(G[:1, 0])\n",
    "    plt.title(\"All predicted labels\")\n",
    "    bins = np.arange(-0.5, 4.5, 1)\n",
    "    y = np.histogram(predictions, bins = bins)\n",
    "    for k in range(4):\n",
    "        plt.bar(y[1][k], y[0][k], 0.9, color=clrs[k])\n",
    "    \n",
    "    # add legend\n",
    "    handles, labels = axes_1.get_legend_handles_labels()\n",
    "    for k in range(4):\n",
    "        patch = mpatches.Patch(color=clrs[k], label=names[k])\n",
    "        handles.append(patch) \n",
    "    plt.legend(handles=handles, loc='upper center')\n",
    "    \n",
    "    \n",
    "    # PLOT BAR GRAPHS - THRESHOLD ON CONFIDENCe\n",
    "    axes_1 = plt.subplot(G[1:2, 0])\n",
    "    plt.title(\"Only high confidence labels\")\n",
    "    bins = np.arange(-0.5, 4.5, 1)\n",
    "    \n",
    "    threshold = 0.9\n",
    "    idx_high_conf = np.where(confidence>threshold)[0]\n",
    "    predictions_high_confidence = predictions[idx_high_conf]\n",
    "    \n",
    "    y_high_conf = np.histogram(predictions_high_confidence, bins = bins)\n",
    "    for k in range(4):\n",
    "        plt.bar(y_high_conf[1][k], y_high_conf[0][k], 0.9, color=clrs[k])\n",
    "    \n",
    "    # add legend\n",
    "    handles, labels = axes_1.get_legend_handles_labels()\n",
    "    for k in range(4):\n",
    "        patch = mpatches.Patch(color=clrs[k], label=names[k])\n",
    "        handles.append(patch) \n",
    "    plt.legend(handles=handles, loc='upper center')\n",
    "    \n",
    "    \n",
    "    # MAKE IMAGE PLOTS\n",
    "    max_id = np.argmax(y[0])\n",
    "    print (\"Main animal \", names[max_id])\n",
    "    \n",
    "    examples =[]\n",
    "    example_ids = []\n",
    "    for p in range(4):\n",
    "        if p==max_id:\n",
    "            continue\n",
    "        example_ids.append(p)\n",
    "        idx = np.where(predictions==p)[0]\n",
    "        try:\n",
    "            if idx.shape[0]>=3:\n",
    "                frames = np.random.choice(idx, 3, replace=False)\n",
    "            else:\n",
    "                frames = np.random.choice(idx, 3)\n",
    "        except:\n",
    "            frames = [0,0,0]\n",
    "            \n",
    "        examples.append(frames)\n",
    "    \n",
    "    for k in range(3):\n",
    "        ctr = 0\n",
    "        frames = examples[k]\n",
    "        for p in range(3):\n",
    "            ax = plt.subplot(G[k,p+1])\n",
    "\n",
    "            # get image\n",
    "            temp = test_data[frames[ctr]].cpu().detach().numpy().transpose(1,2,0)\n",
    "            plt.imshow(temp)\n",
    "\n",
    "            plt.title(\"fr: \"+str(frames[ctr])+ \", \"+\n",
    "                     names[predictions[frames[ctr]]])\n",
    "            plt.xticks([])\n",
    "            plt.yticks([])\n",
    "            ctr+=1\n",
    "            \n",
    "            if p==0:\n",
    "                plt.ylabel(\"examples \\n\"+str(names[example_ids[k]]))\n",
    "\n",
    "\n",
    "    # PLOT TIME\n",
    "    axes_2 = plt.subplot(G[3, :])\n",
    "    clr_out = []\n",
    "    for k in range(predictions.shape[0]):\n",
    "        clr_out.append(clrs[predictions[k]])\n",
    "\n",
    "    time = np.arange(predictions.shape[0])/25.\n",
    "    plt.scatter(time, \n",
    "             np.ones(predictions.shape[0]),\n",
    "             c=clr_out)\n",
    "    \n",
    "    # \n",
    "    clr_out = []\n",
    "    for k in range(predictions_high_confidence.shape[0]):\n",
    "        clr_out.append(clrs[predictions_high_confidence[k]])\n",
    "        \n",
    "    time_high_conf = idx_high_conf/25.\n",
    "    plt.scatter(time_high_conf, \n",
    "             np.ones(predictions_high_confidence.shape[0])+1,\n",
    "             c=clr_out)\n",
    "\n",
    "\n",
    "    plt.xlabel(\"Time (sec)\", fontsize=20)\n",
    "    plt.tick_params(labelsize=20)\n",
    "    plt.yticks([])\n",
    "    plt.suptitle(\"CNN animal detected: \"+names[max_id] + \"(all frames) \"\n",
    "                 + str(round(np.max(y[0])/np.sum(y[0])*100,2))+\"% of total track\"\n",
    "                 + \"\\nCNN animal detected (high confidence predictoin only): \"+names[max_id] + \" \"\n",
    "                 + str(round(np.max(y_high_conf[0])/np.sum(y_high_conf[0])*100,2))+\"% of total track\"\n",
    "                 + \"\\n SLEAP tracklet # \" + selected_track \n",
    "                 + \" (# frames in track \" \n",
    "                 +str(predictions.shape[0])+\")\", fontsize=18)\n",
    "    plt.show()\n",
    "\n",
    "# \n",
    "def load_training_data_run_prediction(fname_track, \n",
    "                                      model,\n",
    "                                      device,\n",
    "                                      recompute=False):\n",
    "    \n",
    "    max_count=1E10\n",
    "    \n",
    "    # grab track_id\n",
    "    track_id = int(os.path.split(fname_track)[1])\n",
    "    \n",
    "    # prep save file;\n",
    "    fname_out = os.path.join(fname_track,\"predictions.npz\")\n",
    "    if os.path.exists(fname_out)==False:\n",
    "\n",
    "        # preformat data\n",
    "        #fname_formated = os.path.join(fname_track,\"data_formated.npz\")\n",
    "        #if os.path.exists(fname_formated)==False:\n",
    "        test_data, track_id, frame_ids = cnn_proceprocess_track_rgb(fname_track)\n",
    "        #test_data = torch.from_numpy(all_data)\n",
    "                \n",
    "        # change model to evaluation mode to avoid batch normalization\n",
    "        model.eval()\n",
    "\n",
    "        # load the test data\n",
    "        test_loader, n_batches = make_testloader(test_data, \n",
    "                                                  batch_size=500)\n",
    "\n",
    "        predictions = []\n",
    "        output_array = []\n",
    "        for inputs in test_loader:\n",
    "            # load to device\n",
    "            inputs = inputs.to(device)\n",
    "\n",
    "            n_trials = inputs.shape[0]\n",
    "\n",
    "            # PREDICT;\n",
    "            outputs = model(inputs)\n",
    "            output_array.extend(outputs.cpu().detach().numpy())\n",
    "\n",
    "            # get best predictions\n",
    "            _, preds = torch.max(outputs, 1)\n",
    "            predictions.extend(preds.cpu().detach().numpy())\n",
    "\n",
    "        predictions = np.array(predictions)\n",
    "        #print (\"predictions: \", predictions.shape, predictions[:10])\n",
    "\n",
    "        #probs = predictions \n",
    "        output_array = np.array(output_array)\n",
    "        #print (\"output array: \", output_array.shape)\n",
    "        sig_pred = 1 / (np.exp(-output_array))  # confidence map\n",
    "\n",
    "        # compute single predictions only\n",
    "        if False:\n",
    "            confidence = []\n",
    "            for k in range(sig_pred.shape[0]):\n",
    "                confidence.append(sig_pred[k][predictions[k]])\n",
    "            confidence=np.array(confidence)\n",
    "        else:\n",
    "            confidence = sig_pred\n",
    "        \n",
    "        \n",
    "        #print (\"confidence; \", confidence[:10])\n",
    "        \n",
    "        np.savez(fname_out,\n",
    "                 predictions=predictions,\n",
    "                 confidence=confidence,\n",
    "                 track_id=track_id,\n",
    "                 frame_ids=frame_ids)\n",
    "        \n",
    "    else:\n",
    "        data = np.load(fname_out)\n",
    "        predictions = data['predictions']\n",
    "        confidence = data['confidence']\n",
    "        \n",
    "    return predictions, confidence\n",
    "\n",
    "\n",
    "\n",
    "def initialize_resnet():\n",
    "\n",
    "    device = torch.device(\"cuda\" if torch.cuda.is_available() \n",
    "                                      else \"cpu\")\n",
    "    model = models.resnet50(pretrained=True)\n",
    "\n",
    "    # Not sure what this does\n",
    "    for param in model.parameters():\n",
    "        param.requires_grad = False\n",
    "\n",
    "    # Note sure what this does, effect on fc layer?\n",
    "    model.fc = nn.Sequential(nn.Linear(2048, 512),\n",
    "                                     nn.ReLU(),\n",
    "                                     nn.Dropout(0.2),\n",
    "                                     nn.Linear(512, 4),\n",
    "                                     nn.LogSoftmax(dim=1))\n",
    "\n",
    "    # todo: look up this loss\n",
    "    criterion = nn.NLLLoss()\n",
    "\n",
    "    # todo: look up this optimizer\n",
    "    optimizer = optim.Adam(model.fc.parameters(), lr=0.003)\n",
    "\n",
    "    # move model to gpu\n",
    "    model.to(device)\n",
    "\n",
    "    \n",
    "    return model, device, criterion, optimizer\n",
    "\n",
    "\n"
   ]
  },
  {
   "cell_type": "code",
   "execution_count": 3,
   "metadata": {},
   "outputs": [],
   "source": [
    "###################################################\n",
    "##### INIT MODEL AND LOAD SAVED MODEL (OPTIONAL) ##\n",
    "###################################################\n",
    "model, device, criterion, optimizer = initialize_resnet()\n",
    "\n",
    "# load prev model params\n",
    "if True:\n",
    "    fname = '/media/cat/7e3d5af3-7d7b-424d-bdd5-eb995a4a0c62/dan/cohort1/march_16/2020_3_15_11_53_51_617746_compressed/cnn_training/model.pt'\n",
    "    model.load_state_dict(torch.load(fname))\n",
    "    #model.eval()"
   ]
  },
  {
   "cell_type": "code",
   "execution_count": 14,
   "metadata": {
    "scrolled": true
   },
   "outputs": [
    {
     "name": "stderr",
     "output_type": "stream",
     "text": [
      "\r",
      "  0%|          | 0/2187 [00:00<?, ?it/s]"
     ]
    },
    {
     "name": "stdout",
     "output_type": "stream",
     "text": [
      "# tracks:  2187\n"
     ]
    },
    {
     "name": "stderr",
     "output_type": "stream",
     "text": [
      "\r",
      "  0%|          | 1/2187 [00:00<19:15,  1.89it/s]"
     ]
    },
    {
     "name": "stdout",
     "output_type": "stream",
     "text": [
      "(array([0, 1, 2, 3]), array([  2,  28, 106,  10]))\n",
      "(array([2, 3]), array([3, 1]))\n"
     ]
    },
    {
     "name": "stderr",
     "output_type": "stream",
     "text": [
      "\r",
      "  0%|          | 3/2187 [00:01<17:37,  2.06it/s]"
     ]
    },
    {
     "name": "stdout",
     "output_type": "stream",
     "text": [
      "(array([0, 1, 2, 3]), array([  2,   2, 200,   3]))\n",
      "(array([1]), array([1]))\n"
     ]
    },
    {
     "name": "stderr",
     "output_type": "stream",
     "text": [
      "\r",
      "  0%|          | 5/2187 [00:04<30:09,  1.21it/s]"
     ]
    },
    {
     "name": "stdout",
     "output_type": "stream",
     "text": [
      "(array([0, 1, 2, 3]), array([ 13,  33, 886, 140]))\n",
      "(array([1]), array([2]))\n"
     ]
    },
    {
     "name": "stderr",
     "output_type": "stream",
     "text": [
      "  0%|          | 8/2187 [00:05<20:18,  1.79it/s]"
     ]
    },
    {
     "name": "stdout",
     "output_type": "stream",
     "text": [
      "(array([0, 1, 2, 3]), array([ 13, 133, 195,  18]))\n",
      "(array([0, 1, 2, 3]), array([ 3,  1, 29,  2]))\n",
      "(array([2]), array([15]))\n"
     ]
    },
    {
     "name": "stderr",
     "output_type": "stream",
     "text": [
      "\r",
      "  1%|          | 11/2187 [00:05<14:34,  2.49it/s]"
     ]
    },
    {
     "name": "stdout",
     "output_type": "stream",
     "text": [
      "(array([2, 3]), array([1, 4]))\n",
      "(array([0]), array([1]))\n",
      "(array([1, 2, 3]), array([424,  64,   1]))\n"
     ]
    },
    {
     "name": "stderr",
     "output_type": "stream",
     "text": [
      "  1%|          | 16/2187 [00:09<22:13,  1.63it/s]"
     ]
    },
    {
     "name": "stdout",
     "output_type": "stream",
     "text": [
      "(array([0, 1, 2, 3]), array([ 22, 560, 158,  46]))\n",
      "(array([1]), array([1]))\n",
      "(array([0]), array([1]))\n",
      "(array([0, 1, 2]), array([1, 2, 1]))\n",
      "(array([2]), array([1]))\n",
      "(array([1]), array([2]))\n",
      "(array([1, 2, 3]), array([3, 7, 2]))\n"
     ]
    },
    {
     "name": "stderr",
     "output_type": "stream",
     "text": [
      "\r",
      "  1%|          | 20/2187 [00:09<15:48,  2.28it/s]"
     ]
    },
    {
     "name": "stdout",
     "output_type": "stream",
     "text": [
      "(array([1]), array([1]))\n",
      "(array([1, 2]), array([1, 3]))\n",
      "(array([1]), array([1]))\n",
      "(array([0, 1, 2, 3]), array([3, 3, 3, 3]))\n"
     ]
    },
    {
     "name": "stderr",
     "output_type": "stream",
     "text": [
      "\r",
      "  1%|          | 24/2187 [00:12<18:41,  1.93it/s]"
     ]
    },
    {
     "name": "stdout",
     "output_type": "stream",
     "text": [
      "(array([0, 1, 2, 3]), array([ 28, 174, 556, 167]))\n"
     ]
    },
    {
     "name": "stderr",
     "output_type": "stream",
     "text": [
      "  1%|▏         | 30/2187 [00:13<10:24,  3.45it/s]"
     ]
    },
    {
     "name": "stdout",
     "output_type": "stream",
     "text": [
      "(array([0, 1, 2, 3]), array([16, 23, 19,  3]))\n",
      "(array([2]), array([14]))\n",
      "(array([1]), array([1]))\n",
      "(array([3]), array([1]))\n",
      "(array([2]), array([1]))\n",
      "(array([0, 1]), array([ 2, 12]))\n",
      "(array([2]), array([1]))\n",
      "(array([0]), array([1]))\n"
     ]
    },
    {
     "name": "stderr",
     "output_type": "stream",
     "text": [
      "\r",
      "  2%|▏         | 34/2187 [00:13<07:34,  4.73it/s]"
     ]
    },
    {
     "name": "stdout",
     "output_type": "stream",
     "text": [
      "(array([0, 1, 2]), array([ 1,  4, 10]))\n",
      "(array([2]), array([2]))\n",
      "(array([2]), array([1]))\n",
      "(array([0, 1, 2, 3]), array([ 19, 275,  79,   6]))\n"
     ]
    },
    {
     "name": "stderr",
     "output_type": "stream",
     "text": [
      "\r",
      "  2%|▏         | 37/2187 [00:15<11:35,  3.09it/s]"
     ]
    },
    {
     "name": "stdout",
     "output_type": "stream",
     "text": [
      "(array([0, 1, 2, 3]), array([ 74,  16, 137,   3]))\n"
     ]
    },
    {
     "name": "stderr",
     "output_type": "stream",
     "text": [
      "\r",
      "  2%|▏         | 39/2187 [00:22<48:47,  1.36s/it]"
     ]
    },
    {
     "name": "stdout",
     "output_type": "stream",
     "text": [
      "(array([0, 1, 2, 3]), array([  24, 1724,  486,   76]))\n",
      "(array([0, 1, 2, 3]), array([ 1,  1, 44, 19]))\n"
     ]
    },
    {
     "name": "stderr",
     "output_type": "stream",
     "text": [
      "\r",
      "  2%|▏         | 41/2187 [00:22<34:47,  1.03it/s]"
     ]
    },
    {
     "name": "stdout",
     "output_type": "stream",
     "text": [
      "(array([0, 1, 2]), array([2, 6, 3]))\n",
      "(array([1, 2, 3]), array([ 2, 13,  7]))\n",
      "(array([2]), array([4]))\n",
      "(array([1]), array([1]))\n",
      "(array([2]), array([4]))\n"
     ]
    },
    {
     "name": "stderr",
     "output_type": "stream",
     "text": [
      "\r",
      "  2%|▏         | 45/2187 [00:23<27:11,  1.31it/s]"
     ]
    },
    {
     "name": "stdout",
     "output_type": "stream",
     "text": [
      "(array([0, 1, 2, 3]), array([  3,  73, 130, 111]))\n",
      "(array([0]), array([1]))\n"
     ]
    },
    {
     "name": "stderr",
     "output_type": "stream",
     "text": [
      "\r",
      "  2%|▏         | 47/2187 [00:24<21:57,  1.62it/s]"
     ]
    },
    {
     "name": "stdout",
     "output_type": "stream",
     "text": [
      "(array([0, 1, 2, 3]), array([ 11,   6, 144,   2]))\n"
     ]
    },
    {
     "name": "stderr",
     "output_type": "stream",
     "text": [
      "  2%|▏         | 49/2187 [00:27<33:43,  1.06it/s]"
     ]
    },
    {
     "name": "stdout",
     "output_type": "stream",
     "text": [
      "(array([0, 1, 2, 3]), array([ 11, 619, 210, 114]))\n",
      "(array([1, 2]), array([ 5, 38]))\n"
     ]
    },
    {
     "name": "stderr",
     "output_type": "stream",
     "text": [
      "\r",
      "  2%|▏         | 50/2187 [00:27<25:38,  1.39it/s]"
     ]
    },
    {
     "name": "stdout",
     "output_type": "stream",
     "text": [
      "(array([1, 2, 3]), array([ 5, 50,  1]))\n",
      "(array([0, 1, 2]), array([2, 3, 5]))\n"
     ]
    },
    {
     "name": "stderr",
     "output_type": "stream",
     "text": [
      "  2%|▏         | 54/2187 [00:27<14:15,  2.49it/s]"
     ]
    },
    {
     "name": "stdout",
     "output_type": "stream",
     "text": [
      "(array([0, 1, 2, 3]), array([ 2, 65,  8,  3]))\n",
      "(array([0, 1]), array([23,  5]))\n",
      "(array([2]), array([1]))\n"
     ]
    },
    {
     "name": "stderr",
     "output_type": "stream",
     "text": [
      "\r",
      "  3%|▎         | 55/2187 [00:28<20:45,  1.71it/s]"
     ]
    },
    {
     "name": "stdout",
     "output_type": "stream",
     "text": [
      "(array([0, 1, 2, 3]), array([  2,  89,  96, 135]))\n",
      "(array([0]), array([2]))\n",
      "(array([0, 2]), array([4, 3]))\n"
     ]
    },
    {
     "name": "stderr",
     "output_type": "stream",
     "text": [
      "\r",
      "  3%|▎         | 58/2187 [00:30<19:45,  1.80it/s]"
     ]
    },
    {
     "name": "stdout",
     "output_type": "stream",
     "text": [
      "(array([0, 1, 2, 3]), array([125, 136, 187,   1]))\n",
      "(array([0, 1, 2, 3]), array([ 1,  4, 14,  1]))\n"
     ]
    },
    {
     "name": "stderr",
     "output_type": "stream",
     "text": [
      "\r",
      "  3%|▎         | 60/2187 [00:31<17:14,  2.06it/s]"
     ]
    },
    {
     "name": "stdout",
     "output_type": "stream",
     "text": [
      "(array([0, 1, 2, 3]), array([  8, 153,  31,   3]))\n"
     ]
    },
    {
     "name": "stderr",
     "output_type": "stream",
     "text": [
      "  3%|▎         | 62/2187 [00:40<1:20:38,  2.28s/it]"
     ]
    },
    {
     "name": "stdout",
     "output_type": "stream",
     "text": [
      "(array([0, 1, 2, 3]), array([   1, 2269,  182,  362]))\n",
      "(array([0, 2]), array([ 2, 36]))\n",
      "(array([1, 2, 3]), array([4, 5, 1]))\n"
     ]
    },
    {
     "name": "stderr",
     "output_type": "stream",
     "text": [
      "\r",
      "  3%|▎         | 64/2187 [00:40<57:00,  1.61s/it]  "
     ]
    },
    {
     "name": "stdout",
     "output_type": "stream",
     "text": [
      "(array([0, 1, 2]), array([5, 1, 3]))\n"
     ]
    },
    {
     "name": "stderr",
     "output_type": "stream",
     "text": [
      "  3%|▎         | 68/2187 [00:41<31:00,  1.14it/s]"
     ]
    },
    {
     "name": "stdout",
     "output_type": "stream",
     "text": [
      "(array([0, 1, 2]), array([ 5, 87,  2]))\n",
      "(array([2]), array([1]))\n",
      "(array([3]), array([7]))\n",
      "(array([0]), array([1]))\n",
      "(array([1, 3]), array([1, 1]))\n"
     ]
    },
    {
     "name": "stderr",
     "output_type": "stream",
     "text": [
      "\r",
      "  3%|▎         | 70/2187 [00:44<39:14,  1.11s/it]"
     ]
    },
    {
     "name": "stdout",
     "output_type": "stream",
     "text": [
      "(array([0, 1, 2, 3]), array([ 53,   8, 879, 187]))\n"
     ]
    },
    {
     "name": "stderr",
     "output_type": "stream",
     "text": [
      "  3%|▎         | 74/2187 [00:56<1:46:46,  3.03s/it]"
     ]
    },
    {
     "name": "stdout",
     "output_type": "stream",
     "text": [
      "(array([0, 1, 2, 3]), array([ 272, 1804, 1021,  265]))\n",
      "(array([0, 1]), array([1, 4]))\n",
      "(array([0, 1, 2]), array([2, 2, 5]))\n",
      "(array([3]), array([2]))\n",
      "(array([0, 2]), array([1, 1]))\n",
      "(array([1, 2]), array([13,  3]))\n"
     ]
    },
    {
     "name": "stderr",
     "output_type": "stream",
     "text": [
      "  4%|▎         | 78/2187 [01:05<1:14:38,  2.12s/it]"
     ]
    },
    {
     "name": "stdout",
     "output_type": "stream",
     "text": [
      "(array([0, 1, 2, 3]), array([  89, 1450,  588,  554]))\n",
      "(array([2, 3]), array([1, 1]))\n"
     ]
    },
    {
     "name": "stderr",
     "output_type": "stream",
     "text": [
      "\r",
      "  4%|▎         | 79/2187 [01:05<57:50,  1.65s/it]  "
     ]
    },
    {
     "name": "stdout",
     "output_type": "stream",
     "text": [
      "(array([0, 1, 2, 3]), array([ 5, 60, 87, 16]))\n",
      "(array([2]), array([1]))\n",
      "(array([1]), array([1]))\n",
      "(array([0, 1, 2]), array([1, 1, 2]))\n"
     ]
    },
    {
     "name": "stderr",
     "output_type": "stream",
     "text": [
      "\r",
      "  4%|▍         | 83/2187 [01:06<41:39,  1.19s/it]"
     ]
    },
    {
     "name": "stdout",
     "output_type": "stream",
     "text": [
      "(array([0, 2]), array([ 2, 97]))\n",
      "(array([3]), array([2]))\n",
      "(array([1]), array([2]))\n",
      "(array([0, 2]), array([1, 2]))\n"
     ]
    },
    {
     "name": "stderr",
     "output_type": "stream",
     "text": [
      "  4%|▍         | 90/2187 [01:08<24:26,  1.43it/s]"
     ]
    },
    {
     "name": "stdout",
     "output_type": "stream",
     "text": [
      "(array([0, 1, 2, 3]), array([  9,  64, 256, 258]))\n",
      "(array([2, 3]), array([1, 1]))\n",
      "(array([0]), array([2]))\n",
      "(array([1]), array([1]))\n"
     ]
    },
    {
     "name": "stderr",
     "output_type": "stream",
     "text": [
      "\r",
      "  4%|▍         | 92/2187 [01:09<21:00,  1.66it/s]"
     ]
    },
    {
     "name": "stdout",
     "output_type": "stream",
     "text": [
      "(array([0, 1, 2, 3]), array([ 10,   4, 203,   5]))\n",
      "(array([3]), array([1]))\n",
      "(array([1, 2]), array([3, 1]))\n",
      "(array([1]), array([1]))\n"
     ]
    },
    {
     "name": "stderr",
     "output_type": "stream",
     "text": [
      "\r",
      "  4%|▍         | 95/2187 [01:09<16:41,  2.09it/s]"
     ]
    },
    {
     "name": "stdout",
     "output_type": "stream",
     "text": [
      "(array([0, 1, 2]), array([ 15,   9, 147]))\n",
      "(array([1, 2]), array([1, 1]))\n"
     ]
    },
    {
     "name": "stderr",
     "output_type": "stream",
     "text": [
      "\r",
      "  4%|▍         | 97/2187 [01:20<1:07:24,  1.94s/it]"
     ]
    },
    {
     "name": "stdout",
     "output_type": "stream",
     "text": [
      "(array([0, 1, 2, 3]), array([ 633,  340, 2155,  389]))\n",
      "(array([1, 2]), array([3, 1]))\n",
      "(array([1, 2]), array([1, 2]))\n"
     ]
    },
    {
     "name": "stderr",
     "output_type": "stream",
     "text": [
      "\r",
      "  5%|▍         | 100/2187 [01:21<51:16,  1.47s/it] "
     ]
    },
    {
     "name": "stdout",
     "output_type": "stream",
     "text": [
      "(array([0, 1, 2, 3]), array([ 19,  35, 159, 125]))\n",
      "(array([2]), array([6]))\n",
      "(array([2]), array([1]))\n"
     ]
    },
    {
     "name": "stderr",
     "output_type": "stream",
     "text": [
      "\r",
      "  5%|▍         | 103/2187 [01:21<36:39,  1.06s/it]"
     ]
    },
    {
     "name": "stdout",
     "output_type": "stream",
     "text": [
      "(array([1, 2, 3]), array([ 2, 30, 11]))\n"
     ]
    },
    {
     "name": "stderr",
     "output_type": "stream",
     "text": [
      "\r",
      "  5%|▍         | 104/2187 [01:22<28:39,  1.21it/s]"
     ]
    },
    {
     "name": "stdout",
     "output_type": "stream",
     "text": [
      "(array([2, 3]), array([18, 48]))\n",
      "(array([2]), array([2]))\n"
     ]
    },
    {
     "name": "stderr",
     "output_type": "stream",
     "text": [
      "\r",
      "  5%|▍         | 106/2187 [01:22<21:50,  1.59it/s]"
     ]
    },
    {
     "name": "stdout",
     "output_type": "stream",
     "text": [
      "(array([1, 2]), array([ 3, 88]))\n",
      "(array([1]), array([1]))\n"
     ]
    },
    {
     "name": "stderr",
     "output_type": "stream",
     "text": [
      "\r",
      "  5%|▍         | 108/2187 [01:22<17:34,  1.97it/s]"
     ]
    },
    {
     "name": "stdout",
     "output_type": "stream",
     "text": [
      "(array([0, 1, 2]), array([  2, 127,   3]))\n",
      "(array([1]), array([2]))\n",
      "(array([2]), array([1]))\n",
      "(array([1]), array([11]))\n"
     ]
    },
    {
     "name": "stderr",
     "output_type": "stream",
     "text": [
      "  5%|▌         | 116/2187 [01:24<10:45,  3.21it/s]"
     ]
    },
    {
     "name": "stdout",
     "output_type": "stream",
     "text": [
      "(array([0, 1, 2, 3]), array([  1, 281,  40,   5]))\n",
      "(array([1]), array([1]))\n",
      "(array([3]), array([1]))\n",
      "(array([1]), array([1]))\n",
      "(array([1]), array([1]))\n",
      "(array([2]), array([1]))\n",
      "(array([1, 3]), array([1, 2]))\n",
      "(array([1, 2, 3]), array([7, 2, 3]))\n"
     ]
    },
    {
     "name": "stderr",
     "output_type": "stream",
     "text": [
      "\r",
      "  5%|▌         | 120/2187 [01:24<07:49,  4.40it/s]"
     ]
    },
    {
     "name": "stdout",
     "output_type": "stream",
     "text": [
      "(array([1]), array([2]))\n"
     ]
    },
    {
     "name": "stderr",
     "output_type": "stream",
     "text": [
      "  6%|▌         | 121/2187 [01:50<4:36:03,  8.02s/it]"
     ]
    },
    {
     "name": "stdout",
     "output_type": "stream",
     "text": [
      "(array([0, 1, 2, 3]), array([ 795, 1694, 4517,  896]))\n",
      "(array([2]), array([2]))\n",
      "(array([1]), array([1]))\n"
     ]
    },
    {
     "name": "stderr",
     "output_type": "stream",
     "text": [
      "  6%|▌         | 127/2187 [01:51<2:18:27,  4.03s/it]"
     ]
    },
    {
     "name": "stdout",
     "output_type": "stream",
     "text": [
      "(array([0, 1, 2, 3]), array([ 16, 120, 170,  84]))\n",
      "(array([1]), array([3]))\n",
      "(array([1]), array([3]))\n",
      "(array([1, 2, 3]), array([11,  9,  5]))\n"
     ]
    },
    {
     "name": "stderr",
     "output_type": "stream",
     "text": [
      "\r",
      "  6%|▌         | 128/2187 [01:53<1:52:59,  3.29s/it]"
     ]
    },
    {
     "name": "stdout",
     "output_type": "stream",
     "text": [
      "(array([0, 1, 2, 3]), array([217, 157,  94,  44]))\n"
     ]
    },
    {
     "name": "stderr",
     "output_type": "stream",
     "text": [
      "  6%|▌         | 133/2187 [01:53<57:33,  1.68s/it]  "
     ]
    },
    {
     "name": "stdout",
     "output_type": "stream",
     "text": [
      "(array([0, 1, 2, 3]), array([ 1,  1, 83,  8]))\n",
      "(array([0, 2]), array([2, 1]))\n",
      "(array([1, 2]), array([3, 1]))\n",
      "(array([3]), array([2]))\n",
      "(array([2]), array([1]))\n",
      "(array([1]), array([1]))\n",
      "(array([2]), array([1]))\n"
     ]
    },
    {
     "name": "stderr",
     "output_type": "stream",
     "text": [
      "  6%|▋         | 141/2187 [01:54<28:38,  1.19it/s]"
     ]
    },
    {
     "name": "stdout",
     "output_type": "stream",
     "text": [
      "(array([2]), array([25]))\n",
      "(array([2]), array([2]))\n",
      "(array([2, 3]), array([6, 1]))\n",
      "(array([3]), array([1]))\n",
      "(array([0]), array([1]))\n",
      "(array([2]), array([1]))\n"
     ]
    },
    {
     "name": "stderr",
     "output_type": "stream",
     "text": [
      "\r",
      "  7%|▋         | 144/2187 [01:54<21:22,  1.59it/s]"
     ]
    },
    {
     "name": "stdout",
     "output_type": "stream",
     "text": [
      "(array([0, 1, 2, 3]), array([ 6, 18, 63, 28]))\n",
      "(array([3]), array([1]))\n",
      "(array([2]), array([1]))\n",
      "(array([0, 1, 2]), array([ 5,  1, 20]))\n"
     ]
    },
    {
     "name": "stderr",
     "output_type": "stream",
     "text": [
      "\r",
      "  7%|▋         | 146/2187 [02:12<1:48:49,  3.20s/it]"
     ]
    },
    {
     "name": "stdout",
     "output_type": "stream",
     "text": [
      "(array([0, 1, 2, 3]), array([2601,  763, 2172,    4]))\n"
     ]
    },
    {
     "name": "stderr",
     "output_type": "stream",
     "text": [
      "\r",
      "  7%|▋         | 147/2187 [02:13<1:19:13,  2.33s/it]"
     ]
    },
    {
     "name": "stdout",
     "output_type": "stream",
     "text": [
      "(array([0, 1, 2, 3]), array([ 3, 11, 71,  7]))\n",
      "(array([1, 2]), array([1, 2]))\n",
      "(array([1, 2]), array([4, 5]))\n"
     ]
    },
    {
     "name": "stderr",
     "output_type": "stream",
     "text": [
      "\r",
      "  7%|▋         | 150/2187 [02:16<1:07:10,  1.98s/it]"
     ]
    },
    {
     "name": "stdout",
     "output_type": "stream",
     "text": [
      "(array([0, 1, 2, 3]), array([ 18,  50, 540, 428]))\n",
      "(array([1]), array([2]))\n"
     ]
    },
    {
     "name": "stderr",
     "output_type": "stream",
     "text": [
      "  7%|▋         | 154/2187 [02:19<44:38,  1.32s/it]  "
     ]
    },
    {
     "name": "stdout",
     "output_type": "stream",
     "text": [
      "(array([0, 1, 2, 3]), array([ 13,  66, 808, 222]))\n",
      "(array([1]), array([2]))\n",
      "(array([0, 1, 2]), array([ 9,  3, 29]))\n",
      "(array([1]), array([1]))\n"
     ]
    },
    {
     "name": "stderr",
     "output_type": "stream",
     "text": [
      "  7%|▋         | 159/2187 [02:29<56:44,  1.68s/it]  "
     ]
    },
    {
     "name": "stdout",
     "output_type": "stream",
     "text": [
      "(array([0, 1, 2, 3]), array([ 139,  362, 2149,  646]))\n",
      "(array([1, 2]), array([3, 9]))\n",
      "(array([2]), array([3]))\n",
      "(array([1, 2]), array([14,  3]))\n",
      "(array([0, 1, 2]), array([9, 4, 4]))\n"
     ]
    },
    {
     "name": "stderr",
     "output_type": "stream",
     "text": [
      "\r",
      "  7%|▋         | 163/2187 [02:29<40:05,  1.19s/it]"
     ]
    },
    {
     "name": "stdout",
     "output_type": "stream",
     "text": [
      "(array([2]), array([1]))\n",
      "(array([1]), array([1]))\n",
      "(array([0, 1]), array([19,  4]))\n",
      "(array([1]), array([1]))\n",
      "(array([2]), array([1]))\n",
      "(array([1]), array([1]))\n",
      "(array([1, 2]), array([2, 1]))\n"
     ]
    },
    {
     "name": "stderr",
     "output_type": "stream",
     "text": [
      "  8%|▊         | 171/2187 [02:32<23:39,  1.42it/s]"
     ]
    },
    {
     "name": "stdout",
     "output_type": "stream",
     "text": [
      "(array([0, 1, 2, 3]), array([ 28, 752,  46,   5]))\n",
      "(array([0, 1, 2]), array([1, 1, 2]))\n",
      "(array([2]), array([2]))\n",
      "(array([1, 2, 3]), array([13,  2,  2]))\n",
      "(array([0]), array([1]))\n",
      "(array([2]), array([1]))\n",
      "(array([2]), array([1]))\n"
     ]
    },
    {
     "name": "stderr",
     "output_type": "stream",
     "text": [
      "\r",
      "  8%|▊         | 176/2187 [02:32<16:43,  2.00it/s]"
     ]
    },
    {
     "name": "stdout",
     "output_type": "stream",
     "text": [
      "(array([0]), array([1]))\n",
      "(array([2]), array([1]))\n",
      "(array([3]), array([1]))\n",
      "(array([2]), array([1]))\n",
      "(array([1]), array([1]))\n",
      "(array([2]), array([1]))\n"
     ]
    },
    {
     "name": "stderr",
     "output_type": "stream",
     "text": [
      "\r",
      "  8%|▊         | 181/2187 [02:32<12:09,  2.75it/s]"
     ]
    },
    {
     "name": "stdout",
     "output_type": "stream",
     "text": [
      "(array([0, 1, 2, 3]), array([ 2, 15, 29,  6]))\n"
     ]
    },
    {
     "name": "stderr",
     "output_type": "stream",
     "text": [
      "\r",
      "  8%|▊         | 184/2187 [02:33<10:19,  3.24it/s]"
     ]
    },
    {
     "name": "stdout",
     "output_type": "stream",
     "text": [
      "(array([0, 1, 2, 3]), array([14,  7, 65, 29]))\n",
      "(array([0, 1, 2]), array([ 9,  9, 33]))\n",
      "(array([1]), array([1]))\n",
      "(array([0, 2]), array([1, 2]))\n",
      "(array([2]), array([4]))\n"
     ]
    },
    {
     "name": "stderr",
     "output_type": "stream",
     "text": [
      "  9%|▊         | 189/2187 [02:34<06:41,  4.97it/s]"
     ]
    },
    {
     "name": "stdout",
     "output_type": "stream",
     "text": [
      "(array([0, 2]), array([  1, 111]))\n",
      "(array([1, 2, 3]), array([1, 5, 1]))\n",
      "(array([0, 1, 2, 3]), array([ 1,  1, 19,  1]))\n",
      "(array([1]), array([1]))\n"
     ]
    },
    {
     "name": "stderr",
     "output_type": "stream",
     "text": [
      "  9%|▉         | 193/2187 [02:34<04:19,  7.68it/s]"
     ]
    },
    {
     "name": "stdout",
     "output_type": "stream",
     "text": [
      "(array([1, 2, 3]), array([ 1, 11,  6]))\n",
      "(array([1, 2]), array([ 2, 31]))\n",
      "(array([2]), array([1]))\n"
     ]
    },
    {
     "name": "stderr",
     "output_type": "stream",
     "text": [
      "\r",
      "  9%|▉         | 195/2187 [02:35<06:49,  4.86it/s]"
     ]
    },
    {
     "name": "stdout",
     "output_type": "stream",
     "text": [
      "(array([1, 2, 3]), array([171,  44,  15]))\n",
      "(array([2]), array([8]))\n"
     ]
    },
    {
     "name": "stderr",
     "output_type": "stream",
     "text": [
      "\r",
      "  9%|▉         | 197/2187 [02:35<06:04,  5.47it/s]"
     ]
    },
    {
     "name": "stdout",
     "output_type": "stream",
     "text": [
      "(array([0, 1, 2]), array([12,  2, 57]))\n",
      "(array([0, 1, 3]), array([1, 2, 1]))\n",
      "(array([2]), array([1]))\n",
      "(array([2]), array([1]))\n"
     ]
    },
    {
     "name": "stderr",
     "output_type": "stream",
     "text": [
      "  9%|▉         | 202/2187 [02:41<18:01,  1.84it/s]"
     ]
    },
    {
     "name": "stdout",
     "output_type": "stream",
     "text": [
      "(array([0, 1, 2, 3]), array([  24, 1729,  317,  105]))\n",
      "(array([0]), array([1]))\n",
      "(array([0, 1, 2]), array([ 4,  6, 27]))\n",
      "(array([2]), array([1]))\n",
      "(array([0, 2]), array([2, 1]))\n"
     ]
    },
    {
     "name": "stderr",
     "output_type": "stream",
     "text": [
      "\r",
      "  9%|▉         | 205/2187 [02:41<12:55,  2.56it/s]"
     ]
    },
    {
     "name": "stdout",
     "output_type": "stream",
     "text": [
      "(array([0, 2]), array([ 3, 12]))\n",
      "(array([2, 3]), array([24,  3]))\n"
     ]
    },
    {
     "name": "stderr",
     "output_type": "stream",
     "text": [
      "\r",
      "  9%|▉         | 207/2187 [02:43<15:29,  2.13it/s]"
     ]
    },
    {
     "name": "stdout",
     "output_type": "stream",
     "text": [
      "(array([0, 1, 2, 3]), array([  6, 368,  31,   3]))\n"
     ]
    },
    {
     "name": "stderr",
     "output_type": "stream",
     "text": [
      " 10%|▉         | 214/2187 [02:43<09:15,  3.55it/s]"
     ]
    },
    {
     "name": "stdout",
     "output_type": "stream",
     "text": [
      "(array([0, 2, 3]), array([  1, 121,   7]))\n",
      "(array([2]), array([1]))\n",
      "(array([3]), array([1]))\n",
      "(array([1]), array([2]))\n",
      "(array([2]), array([1]))\n",
      "(array([1]), array([1]))\n",
      "(array([3]), array([2]))\n"
     ]
    },
    {
     "name": "stderr",
     "output_type": "stream",
     "text": [
      "\r",
      " 10%|▉         | 217/2187 [02:44<10:35,  3.10it/s]"
     ]
    },
    {
     "name": "stdout",
     "output_type": "stream",
     "text": [
      "(array([1, 2]), array([370,   1]))\n",
      "(array([2]), array([2]))\n",
      "(array([0, 1, 2]), array([ 2,  6, 22]))\n"
     ]
    },
    {
     "name": "stderr",
     "output_type": "stream",
     "text": [
      "\r",
      " 10%|█         | 219/2187 [02:46<17:33,  1.87it/s]"
     ]
    },
    {
     "name": "stdout",
     "output_type": "stream",
     "text": [
      "(array([0, 1, 2, 3]), array([158,  41, 412,  33]))\n",
      "(array([2]), array([2]))\n",
      "(array([1]), array([2]))\n",
      "(array([2]), array([1]))\n",
      "(array([0]), array([1]))\n",
      "(array([2]), array([1]))\n"
     ]
    },
    {
     "name": "stderr",
     "output_type": "stream",
     "text": [
      "\r",
      " 10%|█         | 224/2187 [02:47<12:50,  2.55it/s]"
     ]
    },
    {
     "name": "stdout",
     "output_type": "stream",
     "text": [
      "(array([1, 2]), array([ 5, 63]))\n",
      "(array([2]), array([1]))\n",
      "(array([2]), array([1]))\n"
     ]
    },
    {
     "name": "stderr",
     "output_type": "stream",
     "text": [
      "\r",
      " 10%|█         | 227/2187 [02:48<12:30,  2.61it/s]"
     ]
    },
    {
     "name": "stdout",
     "output_type": "stream",
     "text": [
      "(array([0, 1, 2, 3]), array([165,  15, 109,  12]))\n",
      "(array([0, 1]), array([1, 3]))\n"
     ]
    },
    {
     "name": "stderr",
     "output_type": "stream",
     "text": [
      " 11%|█         | 234/2187 [02:50<12:27,  2.61it/s]"
     ]
    },
    {
     "name": "stdout",
     "output_type": "stream",
     "text": [
      "(array([0, 1, 2, 3]), array([ 14, 319, 161, 124]))\n",
      "(array([1]), array([2]))\n",
      "(array([3]), array([1]))\n",
      "(array([3]), array([1]))\n",
      "(array([3]), array([1]))\n",
      "(array([1]), array([2]))\n",
      "(array([1]), array([2]))\n",
      "(array([0]), array([1]))\n",
      "(array([3]), array([2]))\n"
     ]
    },
    {
     "name": "stderr",
     "output_type": "stream",
     "text": [
      "\r",
      " 11%|█         | 239/2187 [02:50<08:56,  3.63it/s]"
     ]
    },
    {
     "name": "stdout",
     "output_type": "stream",
     "text": [
      "(array([0, 2]), array([1, 4]))\n",
      "(array([1, 2]), array([1, 3]))\n",
      "(array([3]), array([1]))\n",
      "(array([1, 2, 3]), array([ 7, 18, 22]))\n"
     ]
    },
    {
     "name": "stderr",
     "output_type": "stream",
     "text": [
      " 11%|█▏        | 247/2187 [03:02<31:51,  1.01it/s]"
     ]
    },
    {
     "name": "stdout",
     "output_type": "stream",
     "text": [
      "(array([0, 1, 2, 3]), array([1063,  929, 1963,  271]))\n",
      "(array([2]), array([1]))\n",
      "(array([1]), array([1]))\n",
      "(array([2]), array([1]))\n",
      "(array([0]), array([1]))\n",
      "(array([0, 2]), array([1, 2]))\n",
      "(array([2]), array([3]))\n",
      "(array([1]), array([3]))\n",
      "(array([2, 3]), array([6, 1]))\n"
     ]
    },
    {
     "name": "stderr",
     "output_type": "stream",
     "text": [
      "\r",
      " 11%|█▏        | 251/2187 [03:06<33:09,  1.03s/it]"
     ]
    },
    {
     "name": "stdout",
     "output_type": "stream",
     "text": [
      "(array([0, 1, 2, 3]), array([ 35, 483, 800, 112]))\n",
      "(array([3]), array([1]))\n",
      "(array([1]), array([1]))\n",
      "(array([1]), array([2]))\n"
     ]
    },
    {
     "name": "stderr",
     "output_type": "stream",
     "text": [
      "\r",
      " 12%|█▏        | 255/2187 [03:07<25:30,  1.26it/s]"
     ]
    },
    {
     "name": "stdout",
     "output_type": "stream",
     "text": [
      "(array([0, 1, 2, 3]), array([  1, 162,  99,   1]))\n",
      "(array([0, 2]), array([1, 3]))\n"
     ]
    },
    {
     "name": "stderr",
     "output_type": "stream",
     "text": [
      " 12%|█▏        | 260/2187 [03:21<57:32,  1.79s/it]  "
     ]
    },
    {
     "name": "stdout",
     "output_type": "stream",
     "text": [
      "(array([0, 1, 2, 3]), array([ 664, 1030, 1692,  462]))\n",
      "(array([1, 2]), array([1, 7]))\n",
      "(array([3]), array([4]))\n",
      "(array([3]), array([3]))\n",
      "(array([2]), array([1]))\n",
      "(array([2]), array([1]))\n"
     ]
    },
    {
     "name": "stderr",
     "output_type": "stream",
     "text": [
      "\r",
      " 12%|█▏        | 263/2187 [03:21<40:42,  1.27s/it]"
     ]
    },
    {
     "name": "stdout",
     "output_type": "stream",
     "text": [
      "(array([0, 1, 2]), array([ 1,  2, 20]))\n",
      "(array([0, 2, 3]), array([ 2, 46,  1]))\n"
     ]
    },
    {
     "name": "stderr",
     "output_type": "stream",
     "text": [
      "\r",
      " 12%|█▏        | 265/2187 [03:21<29:29,  1.09it/s]"
     ]
    },
    {
     "name": "stdout",
     "output_type": "stream",
     "text": [
      "(array([0]), array([1]))\n",
      "(array([1, 2]), array([ 2, 12]))\n"
     ]
    },
    {
     "name": "stderr",
     "output_type": "stream",
     "text": [
      "\r",
      " 12%|█▏        | 267/2187 [03:21<21:47,  1.47it/s]"
     ]
    },
    {
     "name": "stdout",
     "output_type": "stream",
     "text": [
      "(array([0, 1, 2]), array([ 3,  7, 39]))\n",
      "(array([0, 1, 2]), array([15,  1,  7]))\n"
     ]
    },
    {
     "name": "stderr",
     "output_type": "stream",
     "text": [
      "\r",
      " 12%|█▏        | 269/2187 [03:22<17:14,  1.85it/s]"
     ]
    },
    {
     "name": "stdout",
     "output_type": "stream",
     "text": [
      "(array([0, 1, 2, 3]), array([29, 63,  8,  6]))\n"
     ]
    },
    {
     "name": "stderr",
     "output_type": "stream",
     "text": [
      "\r",
      " 12%|█▏        | 270/2187 [03:27<1:00:05,  1.88s/it]"
     ]
    },
    {
     "name": "stdout",
     "output_type": "stream",
     "text": [
      "(array([0, 1, 2, 3]), array([ 11, 952, 468, 111]))\n",
      "(array([1, 2]), array([13,  1]))\n",
      "(array([2]), array([1]))\n"
     ]
    },
    {
     "name": "stderr",
     "output_type": "stream",
     "text": [
      "\r",
      " 12%|█▏        | 273/2187 [03:27<42:45,  1.34s/it]  "
     ]
    },
    {
     "name": "stdout",
     "output_type": "stream",
     "text": [
      "(array([0, 1, 2]), array([ 9, 33, 11]))\n",
      "(array([2]), array([2]))\n",
      "(array([2]), array([1]))\n"
     ]
    },
    {
     "name": "stderr",
     "output_type": "stream",
     "text": [
      " 13%|█▎        | 278/2187 [03:28<24:13,  1.31it/s]"
     ]
    },
    {
     "name": "stdout",
     "output_type": "stream",
     "text": [
      "(array([0, 1, 2, 3]), array([  4,  28, 327,  44]))\n",
      "(array([0, 1]), array([1, 2]))\n",
      "(array([0, 1, 2, 3]), array([ 1, 19, 13,  2]))\n"
     ]
    },
    {
     "name": "stderr",
     "output_type": "stream",
     "text": [
      "\r",
      " 13%|█▎        | 279/2187 [03:29<18:17,  1.74it/s]"
     ]
    },
    {
     "name": "stdout",
     "output_type": "stream",
     "text": [
      "(array([0, 1, 2, 3]), array([ 2,  5, 31,  7]))\n"
     ]
    },
    {
     "name": "stderr",
     "output_type": "stream",
     "text": [
      " 13%|█▎        | 281/2187 [03:30<17:06,  1.86it/s]"
     ]
    },
    {
     "name": "stdout",
     "output_type": "stream",
     "text": [
      "(array([0, 1, 2, 3]), array([  1,   1, 295,  23]))\n",
      "(array([1, 2, 3]), array([ 2, 24,  6]))\n",
      "(array([1, 2]), array([3, 5]))\n",
      "(array([2, 3]), array([2, 5]))\n"
     ]
    },
    {
     "name": "stderr",
     "output_type": "stream",
     "text": [
      "\r",
      " 13%|█▎        | 284/2187 [03:30<12:18,  2.58it/s]"
     ]
    },
    {
     "name": "stdout",
     "output_type": "stream",
     "text": [
      "(array([1, 2, 3]), array([3, 5, 1]))\n",
      "(array([2]), array([3]))\n"
     ]
    },
    {
     "name": "stderr",
     "output_type": "stream",
     "text": [
      "\r",
      " 13%|█▎        | 286/2187 [03:31<13:33,  2.34it/s]"
     ]
    },
    {
     "name": "stdout",
     "output_type": "stream",
     "text": [
      "(array([0, 2, 3]), array([ 19, 322,  24]))\n",
      "(array([0]), array([1]))\n"
     ]
    },
    {
     "name": "stderr",
     "output_type": "stream",
     "text": [
      " 13%|█▎        | 291/2187 [03:32<10:27,  3.02it/s]"
     ]
    },
    {
     "name": "stdout",
     "output_type": "stream",
     "text": [
      "(array([0, 1, 2, 3]), array([  2,   6, 336,   2]))\n",
      "(array([1, 3]), array([1, 2]))\n",
      "(array([2, 3]), array([2, 2]))\n",
      "(array([1, 2]), array([1, 2]))\n",
      "(array([2, 3]), array([15,  1]))\n",
      "(array([1, 2, 3]), array([1, 1, 1]))\n"
     ]
    },
    {
     "name": "stderr",
     "output_type": "stream",
     "text": [
      "\r",
      " 13%|█▎        | 294/2187 [03:32<07:39,  4.12it/s]"
     ]
    },
    {
     "name": "stdout",
     "output_type": "stream",
     "text": [
      "(array([2]), array([2]))\n"
     ]
    },
    {
     "name": "stderr",
     "output_type": "stream",
     "text": [
      "\r",
      " 14%|█▎        | 296/2187 [03:32<06:41,  4.71it/s]"
     ]
    },
    {
     "name": "stdout",
     "output_type": "stream",
     "text": [
      "(array([0, 2, 3]), array([ 2, 62,  3]))\n",
      "(array([2]), array([1]))\n"
     ]
    },
    {
     "name": "stderr",
     "output_type": "stream",
     "text": [
      "\r",
      " 14%|█▎        | 298/2187 [03:33<08:28,  3.72it/s]"
     ]
    },
    {
     "name": "stdout",
     "output_type": "stream",
     "text": [
      "(array([0, 1, 2, 3]), array([ 2, 88, 55, 61]))\n",
      "(array([2, 3]), array([1, 4]))\n",
      "(array([2]), array([10]))\n",
      "(array([1]), array([5]))\n"
     ]
    },
    {
     "name": "stderr",
     "output_type": "stream",
     "text": [
      "\r",
      " 14%|█▍        | 301/2187 [03:33<06:34,  4.78it/s]"
     ]
    },
    {
     "name": "stdout",
     "output_type": "stream",
     "text": [
      "(array([0, 2, 3]), array([ 4, 30,  1]))\n",
      "(array([3]), array([1]))\n"
     ]
    },
    {
     "name": "stderr",
     "output_type": "stream",
     "text": [
      "\r",
      " 14%|█▍        | 303/2187 [03:34<08:22,  3.75it/s]"
     ]
    },
    {
     "name": "stdout",
     "output_type": "stream",
     "text": [
      "(array([0, 1, 2, 3]), array([ 15,  20, 197,   1]))\n",
      "(array([1, 2]), array([10, 17]))\n"
     ]
    },
    {
     "name": "stderr",
     "output_type": "stream",
     "text": [
      "\r",
      " 14%|█▍        | 305/2187 [03:42<39:56,  1.27s/it]"
     ]
    },
    {
     "name": "stdout",
     "output_type": "stream",
     "text": [
      "(array([0, 1, 2, 3]), array([   9, 1895,  334,   14]))\n"
     ]
    },
    {
     "name": "stderr",
     "output_type": "stream",
     "text": [
      "\r",
      " 14%|█▍        | 306/2187 [03:42<30:27,  1.03it/s]"
     ]
    },
    {
     "name": "stdout",
     "output_type": "stream",
     "text": [
      "(array([0, 1, 2, 3]), array([ 8, 43, 28,  4]))\n",
      "(array([1, 3]), array([6, 1]))\n",
      "(array([2]), array([5]))\n"
     ]
    },
    {
     "name": "stderr",
     "output_type": "stream",
     "text": [
      " 14%|█▍        | 313/2187 [03:43<16:52,  1.85it/s]"
     ]
    },
    {
     "name": "stdout",
     "output_type": "stream",
     "text": [
      "(array([0, 2, 3]), array([ 10, 181,   1]))\n",
      "(array([2]), array([5]))\n",
      "(array([2]), array([1]))\n",
      "(array([2, 3]), array([1, 1]))\n",
      "(array([2]), array([9]))\n"
     ]
    },
    {
     "name": "stderr",
     "output_type": "stream",
     "text": [
      "\r",
      " 14%|█▍        | 315/2187 [03:43<12:53,  2.42it/s]"
     ]
    },
    {
     "name": "stdout",
     "output_type": "stream",
     "text": [
      "(array([0, 1, 2, 3]), array([ 1,  3, 41,  7]))\n",
      "(array([1]), array([4]))\n",
      "(array([0, 2]), array([1, 5]))\n"
     ]
    },
    {
     "name": "stderr",
     "output_type": "stream",
     "text": [
      "\r",
      " 14%|█▍        | 317/2187 [03:44<13:12,  2.36it/s]"
     ]
    },
    {
     "name": "stdout",
     "output_type": "stream",
     "text": [
      "(array([0, 1, 2, 3]), array([ 24,  11, 211,  11]))\n"
     ]
    },
    {
     "name": "stderr",
     "output_type": "stream",
     "text": [
      "\r",
      " 15%|█▍        | 318/2187 [03:45<15:43,  1.98it/s]"
     ]
    },
    {
     "name": "stdout",
     "output_type": "stream",
     "text": [
      "(array([0, 2, 3]), array([  5, 180,   1]))\n"
     ]
    },
    {
     "name": "stderr",
     "output_type": "stream",
     "text": [
      " 15%|█▍        | 323/2187 [03:48<26:47,  1.16it/s]"
     ]
    },
    {
     "name": "stdout",
     "output_type": "stream",
     "text": [
      "(array([0, 1, 2, 3]), array([175, 184, 595,  82]))\n",
      "(array([1, 2]), array([1, 3]))\n",
      "(array([1]), array([5]))\n",
      "(array([0]), array([4]))\n",
      "(array([0, 1, 2]), array([ 2,  2, 20]))\n"
     ]
    },
    {
     "name": "stderr",
     "output_type": "stream",
     "text": [
      " 15%|█▍        | 328/2187 [03:48<13:56,  2.22it/s]"
     ]
    },
    {
     "name": "stdout",
     "output_type": "stream",
     "text": [
      "(array([0, 1, 2, 3]), array([7, 6, 4, 3]))\n",
      "(array([2]), array([1]))\n",
      "(array([0, 2]), array([6, 4]))\n",
      "(array([1, 2, 3]), array([1, 3, 1]))\n",
      "(array([0, 2]), array([ 1, 14]))\n"
     ]
    },
    {
     "name": "stderr",
     "output_type": "stream",
     "text": [
      "\r",
      " 15%|█▌        | 330/2187 [03:48<10:58,  2.82it/s]"
     ]
    },
    {
     "name": "stdout",
     "output_type": "stream",
     "text": [
      "(array([1]), array([77]))\n",
      "(array([0, 1, 2]), array([1, 1, 1]))\n",
      "(array([1, 2, 3]), array([39,  8,  1]))\n"
     ]
    },
    {
     "name": "stderr",
     "output_type": "stream",
     "text": [
      " 15%|█▌        | 337/2187 [03:48<06:09,  5.01it/s]"
     ]
    },
    {
     "name": "stdout",
     "output_type": "stream",
     "text": [
      "(array([1]), array([1]))\n",
      "(array([1]), array([1]))\n",
      "(array([0]), array([1]))\n",
      "(array([2]), array([3]))\n",
      "(array([1]), array([1]))\n",
      "(array([1]), array([2]))\n",
      "(array([1]), array([1]))\n",
      "(array([1, 2]), array([7, 3]))\n",
      "(array([1]), array([1]))\n"
     ]
    },
    {
     "name": "stderr",
     "output_type": "stream",
     "text": [
      "\r",
      " 16%|█▌        | 341/2187 [03:53<15:06,  2.04it/s]"
     ]
    },
    {
     "name": "stdout",
     "output_type": "stream",
     "text": [
      "(array([0, 1, 2, 3]), array([ 11, 928, 483,  64]))\n",
      "(array([1]), array([1]))\n"
     ]
    },
    {
     "name": "stderr",
     "output_type": "stream",
     "text": [
      " 16%|█▌        | 345/2187 [03:56<16:34,  1.85it/s]"
     ]
    },
    {
     "name": "stdout",
     "output_type": "stream",
     "text": [
      "(array([0, 1, 2, 3]), array([554, 104, 163,   3]))\n",
      "(array([1]), array([1]))\n",
      "(array([0, 1, 2, 3]), array([ 7, 18,  7,  3]))\n",
      "(array([3]), array([1]))\n"
     ]
    },
    {
     "name": "stderr",
     "output_type": "stream",
     "text": [
      " 16%|█▌        | 351/2187 [03:56<09:03,  3.38it/s]"
     ]
    },
    {
     "name": "stdout",
     "output_type": "stream",
     "text": [
      "(array([0, 1, 2]), array([ 7,  1, 57]))\n",
      "(array([0, 2]), array([1, 2]))\n",
      "(array([2]), array([2]))\n",
      "(array([1]), array([5]))\n",
      "(array([2, 3]), array([13,  3]))\n",
      "(array([3]), array([1]))\n"
     ]
    },
    {
     "name": "stderr",
     "output_type": "stream",
     "text": [
      "\r",
      " 16%|█▌        | 353/2187 [03:59<20:46,  1.47it/s]"
     ]
    },
    {
     "name": "stdout",
     "output_type": "stream",
     "text": [
      "(array([0, 1, 2, 3]), array([  5,  96, 620, 441]))\n",
      "(array([2]), array([1]))\n"
     ]
    },
    {
     "name": "stderr",
     "output_type": "stream",
     "text": [
      " 16%|█▋        | 359/2187 [04:00<11:20,  2.69it/s]"
     ]
    },
    {
     "name": "stdout",
     "output_type": "stream",
     "text": [
      "(array([0, 1, 2]), array([28, 12, 46]))\n",
      "(array([0]), array([1]))\n",
      "(array([1]), array([1]))\n",
      "(array([1]), array([4]))\n",
      "(array([0, 1, 2]), array([1, 7, 5]))\n",
      "(array([2]), array([15]))\n",
      "(array([2]), array([2]))\n"
     ]
    },
    {
     "name": "stderr",
     "output_type": "stream",
     "text": [
      "\r",
      " 17%|█▋        | 362/2187 [04:00<08:13,  3.70it/s]"
     ]
    },
    {
     "name": "stdout",
     "output_type": "stream",
     "text": [
      "(array([2]), array([3]))\n",
      "(array([1, 2]), array([1, 1]))\n",
      "(array([2]), array([1]))\n"
     ]
    },
    {
     "name": "stderr",
     "output_type": "stream",
     "text": [
      " 17%|█▋        | 370/2187 [04:00<04:44,  6.39it/s]"
     ]
    },
    {
     "name": "stdout",
     "output_type": "stream",
     "text": [
      "(array([1, 2, 3]), array([51,  5,  3]))\n",
      "(array([2]), array([1]))\n",
      "(array([1, 2]), array([1, 1]))\n",
      "(array([1]), array([1]))\n",
      "(array([2]), array([1]))\n",
      "(array([0, 1, 2, 3]), array([2, 1, 8, 1]))\n",
      "(array([0, 1, 2, 3]), array([ 5, 29,  9,  3]))\n",
      "(array([0, 1, 2, 3]), array([ 14, 178,  79,  56]))\n"
     ]
    },
    {
     "name": "stderr",
     "output_type": "stream",
     "text": [
      " 17%|█▋        | 377/2187 [04:02<05:28,  5.52it/s]"
     ]
    },
    {
     "name": "stdout",
     "output_type": "stream",
     "text": [
      "(array([0, 2, 3]), array([ 3, 62,  2]))\n",
      "(array([2]), array([9]))\n",
      "(array([1, 3]), array([4, 2]))\n",
      "(array([1]), array([1]))\n",
      "(array([2]), array([1]))\n",
      "(array([0]), array([1]))\n",
      "(array([2]), array([1]))\n",
      "(array([2, 3]), array([5, 1]))\n"
     ]
    },
    {
     "name": "stderr",
     "output_type": "stream",
     "text": [
      "\r",
      " 17%|█▋        | 381/2187 [04:02<04:03,  7.41it/s]"
     ]
    },
    {
     "name": "stdout",
     "output_type": "stream",
     "text": [
      "(array([1, 2, 3]), array([5, 1, 1]))\n"
     ]
    },
    {
     "name": "stderr",
     "output_type": "stream",
     "text": [
      " 18%|█▊        | 386/2187 [04:04<07:46,  3.86it/s]"
     ]
    },
    {
     "name": "stdout",
     "output_type": "stream",
     "text": [
      "(array([0, 1, 2, 3]), array([133, 356, 424,  13]))\n",
      "(array([2, 3]), array([1, 3]))\n",
      "(array([2]), array([6]))\n",
      "(array([0, 2, 3]), array([ 2, 19,  2]))\n",
      "(array([3]), array([1]))\n"
     ]
    },
    {
     "name": "stderr",
     "output_type": "stream",
     "text": [
      "\r",
      " 18%|█▊        | 388/2187 [04:05<08:39,  3.46it/s]"
     ]
    },
    {
     "name": "stdout",
     "output_type": "stream",
     "text": [
      "(array([0, 1, 2]), array([ 39,  42, 148]))\n",
      "(array([1]), array([1]))\n"
     ]
    },
    {
     "name": "stderr",
     "output_type": "stream",
     "text": [
      "\r",
      " 18%|█▊        | 390/2187 [04:09<21:37,  1.38it/s]"
     ]
    },
    {
     "name": "stdout",
     "output_type": "stream",
     "text": [
      "(array([0, 1, 2, 3]), array([340, 140, 534, 126]))\n",
      "(array([3]), array([1]))\n",
      "(array([1, 2]), array([1, 2]))\n"
     ]
    },
    {
     "name": "stderr",
     "output_type": "stream",
     "text": [
      " 18%|█▊        | 392/2187 [04:23<1:21:11,  2.71s/it]"
     ]
    },
    {
     "name": "stdout",
     "output_type": "stream",
     "text": [
      "(array([0, 1, 2, 3]), array([ 382,  905, 2762,  369]))\n",
      "(array([1]), array([1]))\n"
     ]
    },
    {
     "name": "stderr",
     "output_type": "stream",
     "text": [
      " 18%|█▊        | 396/2187 [04:24<43:19,  1.45s/it]  "
     ]
    },
    {
     "name": "stdout",
     "output_type": "stream",
     "text": [
      "(array([0, 1, 2, 3]), array([ 10, 283,   3,   1]))\n",
      "(array([2]), array([7]))\n",
      "(array([1, 2, 3]), array([35,  3,  3]))\n",
      "(array([1, 3]), array([1, 1]))\n"
     ]
    },
    {
     "name": "stderr",
     "output_type": "stream",
     "text": [
      " 18%|█▊        | 402/2187 [04:25<21:47,  1.37it/s]"
     ]
    },
    {
     "name": "stdout",
     "output_type": "stream",
     "text": [
      "(array([2, 3]), array([3, 2]))\n",
      "(array([1, 2]), array([ 1, 14]))\n",
      "(array([1]), array([3]))\n",
      "(array([2]), array([1]))\n",
      "(array([0, 1, 2]), array([ 4,  2, 16]))\n",
      "(array([1]), array([1]))\n"
     ]
    },
    {
     "name": "stderr",
     "output_type": "stream",
     "text": [
      " 19%|█▊        | 408/2187 [04:25<12:01,  2.47it/s]"
     ]
    },
    {
     "name": "stdout",
     "output_type": "stream",
     "text": [
      "(array([1, 2, 3]), array([ 1, 93, 26]))\n",
      "(array([2]), array([2]))\n",
      "(array([1, 2]), array([3, 6]))\n",
      "(array([3]), array([1]))\n",
      "(array([1]), array([1]))\n",
      "(array([2]), array([1]))\n",
      "(array([1]), array([2]))\n",
      "(array([1, 2]), array([3, 1]))\n"
     ]
    },
    {
     "name": "stderr",
     "output_type": "stream",
     "text": [
      "\r",
      " 19%|█▉        | 412/2187 [04:25<08:44,  3.38it/s]"
     ]
    },
    {
     "name": "stdout",
     "output_type": "stream",
     "text": [
      "(array([0, 1, 2]), array([ 5,  2, 18]))\n",
      "(array([2]), array([1]))\n",
      "(array([2]), array([2]))\n",
      "(array([2]), array([2]))\n"
     ]
    },
    {
     "name": "stderr",
     "output_type": "stream",
     "text": [
      "\r",
      " 19%|█▉        | 416/2187 [04:35<26:51,  1.10it/s]"
     ]
    },
    {
     "name": "stdout",
     "output_type": "stream",
     "text": [
      "(array([0, 1, 2, 3]), array([  61, 1515,  775,  372]))\n"
     ]
    },
    {
     "name": "stderr",
     "output_type": "stream",
     "text": [
      " 19%|█▉        | 421/2187 [04:36<16:42,  1.76it/s]"
     ]
    },
    {
     "name": "stdout",
     "output_type": "stream",
     "text": [
      "(array([0, 1, 2, 3]), array([  2, 153, 115,  24]))\n",
      "(array([1]), array([2]))\n",
      "(array([3]), array([1]))\n",
      "(array([0, 2]), array([ 1, 14]))\n",
      "(array([2, 3]), array([10,  6]))\n"
     ]
    },
    {
     "name": "stderr",
     "output_type": "stream",
     "text": [
      "\r",
      " 19%|█▉        | 423/2187 [04:42<39:20,  1.34s/it]"
     ]
    },
    {
     "name": "stdout",
     "output_type": "stream",
     "text": [
      "(array([0, 1, 2, 3]), array([ 45, 434, 536, 981]))\n",
      "(array([0, 2]), array([5, 1]))\n",
      "(array([3]), array([1]))\n"
     ]
    },
    {
     "name": "stderr",
     "output_type": "stream",
     "text": [
      "\r",
      " 19%|█▉        | 425/2187 [04:42<28:10,  1.04it/s]"
     ]
    },
    {
     "name": "stdout",
     "output_type": "stream",
     "text": [
      "(array([1, 2, 3]), array([ 3, 37,  1]))\n",
      "(array([2, 3]), array([1, 1]))\n"
     ]
    },
    {
     "name": "stderr",
     "output_type": "stream",
     "text": [
      " 20%|█▉        | 430/2187 [04:49<34:23,  1.17s/it]"
     ]
    },
    {
     "name": "stdout",
     "output_type": "stream",
     "text": [
      "(array([0, 1, 2, 3]), array([  10, 1805,  171,   62]))\n",
      "(array([0, 1, 2, 3]), array([2, 5, 4, 1]))\n",
      "(array([2]), array([3]))\n",
      "(array([0, 1]), array([1, 3]))\n"
     ]
    },
    {
     "name": "stderr",
     "output_type": "stream",
     "text": [
      "\r",
      " 20%|█▉        | 432/2187 [04:51<31:04,  1.06s/it]"
     ]
    },
    {
     "name": "stdout",
     "output_type": "stream",
     "text": [
      "(array([0, 1, 2, 3]), array([143,  77, 246,   5]))\n",
      "(array([1]), array([1]))\n",
      "(array([1]), array([1]))\n",
      "(array([1, 2, 3]), array([1, 2, 2]))\n"
     ]
    },
    {
     "name": "stderr",
     "output_type": "stream",
     "text": [
      " 20%|█▉        | 437/2187 [04:52<17:57,  1.62it/s]"
     ]
    },
    {
     "name": "stdout",
     "output_type": "stream",
     "text": [
      "(array([0, 1, 2, 3]), array([ 19, 145, 168,  35]))\n",
      "(array([0, 1, 2]), array([14,  4,  3]))\n",
      "(array([3]), array([4]))\n",
      "(array([1, 3]), array([1, 1]))\n"
     ]
    },
    {
     "name": "stderr",
     "output_type": "stream",
     "text": [
      " 20%|██        | 444/2187 [04:57<22:52,  1.27it/s]"
     ]
    },
    {
     "name": "stdout",
     "output_type": "stream",
     "text": [
      "(array([0, 1, 2, 3]), array([  33,   46, 1213,  402]))\n",
      "(array([3]), array([2]))\n",
      "(array([1]), array([2]))\n",
      "(array([1]), array([1]))\n",
      "(array([2]), array([2]))\n",
      "(array([1]), array([2]))\n",
      "(array([2]), array([1]))\n",
      "(array([0]), array([1]))\n"
     ]
    },
    {
     "name": "stderr",
     "output_type": "stream",
     "text": [
      " 21%|██        | 450/2187 [04:57<11:46,  2.46it/s]"
     ]
    },
    {
     "name": "stdout",
     "output_type": "stream",
     "text": [
      "(array([1, 2, 3]), array([ 4, 13,  1]))\n",
      "(array([0, 1]), array([4, 1]))\n",
      "(array([0, 1, 2, 3]), array([ 1,  1, 24,  1]))\n",
      "(array([1]), array([1]))\n",
      "(array([2]), array([1]))\n",
      "(array([1, 2]), array([4, 1]))\n"
     ]
    },
    {
     "name": "stderr",
     "output_type": "stream",
     "text": [
      "\r",
      " 21%|██        | 454/2187 [04:57<08:31,  3.39it/s]"
     ]
    },
    {
     "name": "stdout",
     "output_type": "stream",
     "text": [
      "(array([0, 1]), array([1, 2]))\n",
      "(array([0, 1, 2]), array([13,  3,  4]))\n",
      "(array([0, 1, 2]), array([1, 2, 3]))\n"
     ]
    },
    {
     "name": "stderr",
     "output_type": "stream",
     "text": [
      " 21%|██        | 461/2187 [04:57<04:49,  5.97it/s]"
     ]
    },
    {
     "name": "stdout",
     "output_type": "stream",
     "text": [
      "(array([0, 2]), array([ 5, 40]))\n",
      "(array([2, 3]), array([1, 1]))\n",
      "(array([1, 2]), array([2, 1]))\n",
      "(array([1]), array([3]))\n",
      "(array([2]), array([2]))\n",
      "(array([0, 1, 2, 3]), array([1, 1, 2, 2]))\n"
     ]
    },
    {
     "name": "stderr",
     "output_type": "stream",
     "text": [
      "\r",
      " 21%|██        | 464/2187 [04:57<04:09,  6.90it/s]"
     ]
    },
    {
     "name": "stdout",
     "output_type": "stream",
     "text": [
      "(array([1, 2, 3]), array([ 1, 30,  2]))\n",
      "(array([0, 1, 2, 3]), array([6, 1, 2, 2]))\n",
      "(array([0, 1, 2, 3]), array([18,  9, 18,  1]))\n"
     ]
    },
    {
     "name": "stderr",
     "output_type": "stream",
     "text": [
      "\r",
      " 21%|██▏       | 468/2187 [04:58<03:07,  9.16it/s]"
     ]
    },
    {
     "name": "stdout",
     "output_type": "stream",
     "text": [
      "(array([2]), array([1]))\n",
      "(array([1]), array([2]))\n",
      "(array([0, 1, 2]), array([3, 1, 1]))\n",
      "(array([1, 2, 3]), array([2, 1, 1]))\n",
      "(array([0, 1, 2]), array([1, 5, 1]))\n",
      "(array([1, 3]), array([2, 1]))\n"
     ]
    },
    {
     "name": "stderr",
     "output_type": "stream",
     "text": [
      " 22%|██▏       | 474/2187 [04:58<02:26, 11.73it/s]"
     ]
    },
    {
     "name": "stdout",
     "output_type": "stream",
     "text": [
      "(array([1, 2, 3]), array([51,  9,  7]))\n",
      "(array([2]), array([1]))\n",
      "(array([0, 1, 2, 3]), array([3, 1, 1, 4]))\n",
      "(array([1]), array([23]))\n",
      "(array([2]), array([1]))\n",
      "(array([3]), array([1]))\n",
      "(array([0, 1, 2]), array([2, 1, 1]))\n",
      "(array([1]), array([4]))\n"
     ]
    },
    {
     "name": "stderr",
     "output_type": "stream",
     "text": [
      " 22%|██▏       | 481/2187 [04:59<02:25, 11.73it/s]"
     ]
    },
    {
     "name": "stdout",
     "output_type": "stream",
     "text": [
      "(array([0, 1, 2]), array([21,  1, 88]))\n",
      "(array([1]), array([1]))\n",
      "(array([2, 3]), array([46,  1]))\n",
      "(array([3]), array([1]))\n"
     ]
    },
    {
     "name": "stderr",
     "output_type": "stream",
     "text": [
      "\r",
      " 22%|██▏       | 483/2187 [05:00<09:03,  3.14it/s]"
     ]
    },
    {
     "name": "stdout",
     "output_type": "stream",
     "text": [
      "(array([0, 1, 2, 3]), array([  5, 546,  11,   7]))\n",
      "(array([1]), array([1]))\n"
     ]
    },
    {
     "name": "stderr",
     "output_type": "stream",
     "text": [
      "\r",
      " 22%|██▏       | 485/2187 [05:01<10:27,  2.71it/s]"
     ]
    },
    {
     "name": "stdout",
     "output_type": "stream",
     "text": [
      "(array([0, 1, 2, 3]), array([ 36,  40, 162,  25]))\n",
      "(array([1, 2]), array([1, 1]))\n"
     ]
    },
    {
     "name": "stderr",
     "output_type": "stream",
     "text": [
      " 22%|██▏       | 488/2187 [05:02<07:12,  3.93it/s]"
     ]
    },
    {
     "name": "stdout",
     "output_type": "stream",
     "text": [
      "(array([1, 2, 3]), array([78, 37,  6]))\n",
      "(array([0, 2, 3]), array([ 5, 16,  1]))\n",
      "(array([3]), array([1]))\n",
      "(array([2]), array([1]))\n",
      "(array([2]), array([5]))\n"
     ]
    },
    {
     "name": "stderr",
     "output_type": "stream",
     "text": [
      " 23%|██▎       | 495/2187 [05:02<04:02,  6.97it/s]"
     ]
    },
    {
     "name": "stdout",
     "output_type": "stream",
     "text": [
      "(array([0, 2, 3]), array([1, 3, 4]))\n",
      "(array([1, 2]), array([ 4, 12]))\n",
      "(array([3]), array([1]))\n",
      "(array([1, 2]), array([12,  3]))\n"
     ]
    },
    {
     "name": "stderr",
     "output_type": "stream",
     "text": [
      "\r",
      " 23%|██▎       | 497/2187 [05:02<04:18,  6.54it/s]"
     ]
    },
    {
     "name": "stdout",
     "output_type": "stream",
     "text": [
      "(array([0, 1, 2, 3]), array([ 4, 70,  8, 24]))\n",
      "(array([1]), array([1]))\n",
      "(array([2]), array([1]))\n"
     ]
    },
    {
     "name": "stderr",
     "output_type": "stream",
     "text": [
      " 23%|██▎       | 502/2187 [05:03<05:20,  5.25it/s]"
     ]
    },
    {
     "name": "stdout",
     "output_type": "stream",
     "text": [
      "(array([0, 1, 2, 3]), array([ 98,  63, 109,   3]))\n",
      "(array([2]), array([3]))\n",
      "(array([0, 1, 2]), array([8, 1, 1]))\n",
      "(array([2]), array([3]))\n"
     ]
    },
    {
     "name": "stderr",
     "output_type": "stream",
     "text": [
      "\r",
      " 23%|██▎       | 504/2187 [05:04<04:24,  6.35it/s]"
     ]
    },
    {
     "name": "stdout",
     "output_type": "stream",
     "text": [
      "(array([2, 3]), array([26,  1]))\n",
      "(array([1, 2, 3]), array([1, 7, 1]))\n",
      "(array([2, 3]), array([1, 2]))\n"
     ]
    },
    {
     "name": "stderr",
     "output_type": "stream",
     "text": [
      "\r",
      " 23%|██▎       | 506/2187 [05:06<13:36,  2.06it/s]"
     ]
    },
    {
     "name": "stdout",
     "output_type": "stream",
     "text": [
      "(array([0, 1, 2, 3]), array([216,  13, 460, 106]))\n",
      "(array([0, 1, 2, 3]), array([  3,  16, 524,  47]))\n"
     ]
    },
    {
     "name": "stderr",
     "output_type": "stream",
     "text": [
      " 23%|██▎       | 512/2187 [05:09<14:42,  1.90it/s]"
     ]
    },
    {
     "name": "stdout",
     "output_type": "stream",
     "text": [
      "(array([0, 1, 2, 3]), array([  4,   7, 261,  15]))\n",
      "(array([1]), array([1]))\n",
      "(array([0, 2, 3]), array([1, 1, 7]))\n",
      "(array([3]), array([3]))\n",
      "(array([0, 2, 3]), array([1, 3, 1]))\n",
      "(array([1, 2]), array([2, 1]))\n"
     ]
    },
    {
     "name": "stderr",
     "output_type": "stream",
     "text": [
      "\r",
      " 24%|██▎       | 514/2187 [05:09<11:04,  2.52it/s]"
     ]
    },
    {
     "name": "stdout",
     "output_type": "stream",
     "text": [
      "(array([1, 2]), array([45,  7]))\n",
      "(array([3]), array([3]))\n",
      "(array([2]), array([1]))\n"
     ]
    },
    {
     "name": "stderr",
     "output_type": "stream",
     "text": [
      "\r",
      " 24%|██▎       | 517/2187 [05:12<16:27,  1.69it/s]"
     ]
    },
    {
     "name": "stdout",
     "output_type": "stream",
     "text": [
      "(array([0, 1, 2, 3]), array([   3, 1028,  103,    5]))\n"
     ]
    },
    {
     "name": "stderr",
     "output_type": "stream",
     "text": [
      "\r",
      " 24%|██▎       | 519/2187 [05:14<18:25,  1.51it/s]"
     ]
    },
    {
     "name": "stdout",
     "output_type": "stream",
     "text": [
      "(array([1, 2, 3]), array([422, 105,  13]))\n",
      "(array([0, 1, 2]), array([1, 2, 3]))\n"
     ]
    },
    {
     "name": "stderr",
     "output_type": "stream",
     "text": [
      "\r",
      " 24%|██▍       | 520/2187 [05:15<18:13,  1.52it/s]"
     ]
    },
    {
     "name": "stdout",
     "output_type": "stream",
     "text": [
      "(array([0, 1, 2, 3]), array([  2,   2, 209,   5]))\n",
      "(array([0, 2]), array([3, 4]))\n"
     ]
    },
    {
     "name": "stderr",
     "output_type": "stream",
     "text": [
      " 24%|██▍       | 524/2187 [05:17<16:34,  1.67it/s]"
     ]
    },
    {
     "name": "stdout",
     "output_type": "stream",
     "text": [
      "(array([0, 1, 2, 3]), array([ 37,  23, 712,  20]))\n",
      "(array([2]), array([3]))\n",
      "(array([1, 2]), array([ 8, 11]))\n"
     ]
    },
    {
     "name": "stderr",
     "output_type": "stream",
     "text": [
      "\r",
      " 24%|██▍       | 525/2187 [05:22<54:24,  1.96s/it]"
     ]
    },
    {
     "name": "stdout",
     "output_type": "stream",
     "text": [
      "(array([0, 1, 2, 3]), array([300, 488, 659,  55]))\n",
      "(array([1]), array([1]))\n"
     ]
    },
    {
     "name": "stderr",
     "output_type": "stream",
     "text": [
      "\r",
      " 24%|██▍       | 527/2187 [05:25<50:02,  1.81s/it]"
     ]
    },
    {
     "name": "stdout",
     "output_type": "stream",
     "text": [
      "(array([0, 1, 2, 3]), array([  4, 786,  27, 107]))\n",
      "(array([2]), array([2]))\n",
      "(array([1]), array([1]))\n"
     ]
    },
    {
     "name": "stderr",
     "output_type": "stream",
     "text": [
      "\r",
      " 24%|██▍       | 530/2187 [05:26<36:14,  1.31s/it]"
     ]
    },
    {
     "name": "stdout",
     "output_type": "stream",
     "text": [
      "(array([0, 1, 2, 3]), array([40,  9, 80,  2]))\n",
      "(array([2]), array([1]))\n"
     ]
    },
    {
     "name": "stderr",
     "output_type": "stream",
     "text": [
      " 24%|██▍       | 534/2187 [05:26<19:40,  1.40it/s]"
     ]
    },
    {
     "name": "stdout",
     "output_type": "stream",
     "text": [
      "(array([0, 1, 2, 3]), array([  9,   4, 140,   2]))\n",
      "(array([0, 1, 2, 3]), array([ 2, 14,  9,  4]))\n",
      "(array([2]), array([2]))\n",
      "(array([2]), array([1]))\n",
      "(array([1]), array([1]))\n"
     ]
    },
    {
     "name": "stderr",
     "output_type": "stream",
     "text": [
      "\r",
      " 25%|██▍       | 537/2187 [05:26<14:07,  1.95it/s]"
     ]
    },
    {
     "name": "stdout",
     "output_type": "stream",
     "text": [
      "(array([2, 3]), array([22,  6]))\n",
      "(array([0]), array([1]))\n"
     ]
    },
    {
     "name": "stderr",
     "output_type": "stream",
     "text": [
      " 25%|██▍       | 540/2187 [05:28<12:47,  2.14it/s]"
     ]
    },
    {
     "name": "stdout",
     "output_type": "stream",
     "text": [
      "(array([0, 1, 2, 3]), array([ 34, 132, 317,  43]))\n",
      "(array([0, 1, 2, 3]), array([ 2,  4, 22, 27]))\n"
     ]
    },
    {
     "name": "stderr",
     "output_type": "stream",
     "text": [
      "\r",
      " 25%|██▍       | 543/2187 [05:28<09:15,  2.96it/s]"
     ]
    },
    {
     "name": "stdout",
     "output_type": "stream",
     "text": [
      "(array([2]), array([16]))\n",
      "(array([2]), array([2]))\n",
      "(array([2]), array([8]))\n",
      "(array([1, 2]), array([1, 2]))\n",
      "(array([2]), array([3]))\n"
     ]
    },
    {
     "name": "stderr",
     "output_type": "stream",
     "text": [
      " 25%|██▌       | 549/2187 [05:29<05:25,  5.03it/s]"
     ]
    },
    {
     "name": "stdout",
     "output_type": "stream",
     "text": [
      "(array([0, 1, 2]), array([38,  3, 25]))\n",
      "(array([0, 1, 2]), array([5, 3, 1]))\n",
      "(array([0, 2]), array([7, 1]))\n",
      "(array([1, 2]), array([2, 2]))\n",
      "(array([1, 2]), array([ 5, 14]))\n",
      "(array([0]), array([1]))\n"
     ]
    },
    {
     "name": "stderr",
     "output_type": "stream",
     "text": [
      " 25%|██▌       | 554/2187 [05:29<03:28,  7.83it/s]"
     ]
    },
    {
     "name": "stdout",
     "output_type": "stream",
     "text": [
      "(array([2, 3]), array([29,  2]))\n",
      "(array([3]), array([8]))\n",
      "(array([0, 2]), array([1, 9]))\n",
      "(array([0, 1, 2, 3]), array([ 25,  36, 125,  10]))\n"
     ]
    },
    {
     "name": "stderr",
     "output_type": "stream",
     "text": [
      "\r",
      " 25%|██▌       | 556/2187 [05:34<22:47,  1.19it/s]"
     ]
    },
    {
     "name": "stdout",
     "output_type": "stream",
     "text": [
      "(array([0, 1, 2, 3]), array([108, 281, 935,  95]))\n",
      "(array([2]), array([1]))\n",
      "(array([2]), array([4]))\n"
     ]
    },
    {
     "name": "stderr",
     "output_type": "stream",
     "text": [
      "\r",
      " 26%|██▌       | 559/2187 [05:35<17:46,  1.53it/s]"
     ]
    },
    {
     "name": "stdout",
     "output_type": "stream",
     "text": [
      "(array([0, 1, 2, 3]), array([  5,  18, 169,  10]))\n",
      "(array([1, 2]), array([3, 2]))\n"
     ]
    },
    {
     "name": "stderr",
     "output_type": "stream",
     "text": [
      "\r",
      " 26%|██▌       | 561/2187 [05:38<27:08,  1.00s/it]"
     ]
    },
    {
     "name": "stdout",
     "output_type": "stream",
     "text": [
      "(array([0, 1, 2]), array([477, 593,  19]))\n"
     ]
    },
    {
     "name": "stderr",
     "output_type": "stream",
     "text": [
      "\r",
      " 26%|██▌       | 562/2187 [05:41<38:25,  1.42s/it]"
     ]
    },
    {
     "name": "stdout",
     "output_type": "stream",
     "text": [
      "(array([0, 1, 2, 3]), array([  2, 266, 317, 272]))\n"
     ]
    },
    {
     "name": "stderr",
     "output_type": "stream",
     "text": [
      " 26%|██▌       | 566/2187 [05:42<28:54,  1.07s/it]"
     ]
    },
    {
     "name": "stdout",
     "output_type": "stream",
     "text": [
      "(array([0, 1, 2]), array([ 25,  47, 498]))\n",
      "(array([1]), array([1]))\n",
      "(array([0, 1, 2]), array([5, 2, 2]))\n",
      "(array([1, 2, 3]), array([2, 6, 3]))\n",
      "(array([1]), array([1]))\n"
     ]
    },
    {
     "name": "stderr",
     "output_type": "stream",
     "text": [
      " 26%|██▌       | 572/2187 [05:43<14:58,  1.80it/s]"
     ]
    },
    {
     "name": "stdout",
     "output_type": "stream",
     "text": [
      "(array([1, 2]), array([ 1, 36]))\n",
      "(array([1, 3]), array([1, 1]))\n",
      "(array([0, 1, 2]), array([2, 2, 2]))\n",
      "(array([1]), array([1]))\n",
      "(array([0, 2]), array([ 5, 31]))\n"
     ]
    },
    {
     "name": "stderr",
     "output_type": "stream",
     "text": [
      "\r",
      " 26%|██▋       | 577/2187 [05:43<10:38,  2.52it/s]"
     ]
    },
    {
     "name": "stdout",
     "output_type": "stream",
     "text": [
      "(array([2]), array([3]))\n",
      "(array([3]), array([2]))\n",
      "(array([0, 3]), array([1, 1]))\n",
      "(array([1]), array([2]))\n",
      "(array([2]), array([1]))\n",
      "(array([0, 1, 2, 3]), array([ 3, 12, 16,  1]))\n"
     ]
    },
    {
     "name": "stderr",
     "output_type": "stream",
     "text": [
      "\r",
      " 27%|██▋       | 580/2187 [05:43<07:51,  3.41it/s]"
     ]
    },
    {
     "name": "stdout",
     "output_type": "stream",
     "text": [
      "(array([1, 2]), array([1, 4]))\n",
      "(array([0, 2]), array([2, 2]))\n",
      "(array([1, 2]), array([1, 1]))\n",
      "(array([2]), array([1]))\n",
      "(array([1]), array([4]))\n"
     ]
    },
    {
     "name": "stderr",
     "output_type": "stream",
     "text": [
      " 27%|██▋       | 588/2187 [05:43<04:23,  6.07it/s]"
     ]
    },
    {
     "name": "stdout",
     "output_type": "stream",
     "text": [
      "(array([0, 1, 2, 3]), array([ 7,  8, 36,  1]))\n",
      "(array([1]), array([6]))\n",
      "(array([2]), array([8]))\n",
      "(array([1]), array([1]))\n",
      "(array([2]), array([2]))\n",
      "(array([1, 2]), array([12,  1]))\n"
     ]
    },
    {
     "name": "stderr",
     "output_type": "stream",
     "text": [
      "\r",
      " 27%|██▋       | 591/2187 [05:44<03:34,  7.45it/s]"
     ]
    },
    {
     "name": "stdout",
     "output_type": "stream",
     "text": [
      "(array([1]), array([1]))\n",
      "(array([0, 2]), array([ 7, 29]))\n",
      "(array([2]), array([1]))\n"
     ]
    },
    {
     "name": "stderr",
     "output_type": "stream",
     "text": [
      "\r",
      " 27%|██▋       | 594/2187 [05:45<04:59,  5.32it/s]"
     ]
    },
    {
     "name": "stdout",
     "output_type": "stream",
     "text": [
      "(array([0, 1, 2, 3]), array([ 59,  45, 153,  33]))\n",
      "(array([1, 2]), array([1, 1]))\n"
     ]
    },
    {
     "name": "stderr",
     "output_type": "stream",
     "text": [
      "\r",
      " 27%|██▋       | 596/2187 [05:46<07:12,  3.68it/s]"
     ]
    },
    {
     "name": "stdout",
     "output_type": "stream",
     "text": [
      "(array([0, 1, 2, 3]), array([ 72,   3, 215,   9]))\n",
      "(array([2, 3]), array([2, 1]))\n",
      "(array([1, 2, 3]), array([1, 1, 2]))\n",
      "(array([0, 1, 2]), array([ 1,  1, 15]))\n"
     ]
    },
    {
     "name": "stderr",
     "output_type": "stream",
     "text": [
      "\r",
      " 27%|██▋       | 599/2187 [05:46<05:41,  4.65it/s]"
     ]
    },
    {
     "name": "stdout",
     "output_type": "stream",
     "text": [
      "(array([1, 2, 3]), array([17, 17, 15]))\n",
      "(array([0, 1, 2, 3]), array([35,  8, 74,  1]))\n"
     ]
    },
    {
     "name": "stderr",
     "output_type": "stream",
     "text": [
      "\r",
      " 27%|██▋       | 601/2187 [05:47<09:45,  2.71it/s]"
     ]
    },
    {
     "name": "stdout",
     "output_type": "stream",
     "text": [
      "(array([1, 2, 3]), array([172,  92,  42]))\n"
     ]
    },
    {
     "name": "stderr",
     "output_type": "stream",
     "text": [
      "\r",
      " 28%|██▊       | 602/2187 [05:49<21:45,  1.21it/s]"
     ]
    },
    {
     "name": "stdout",
     "output_type": "stream",
     "text": [
      "(array([0, 1, 2, 3]), array([ 17,  67, 489,  53]))\n"
     ]
    },
    {
     "name": "stderr",
     "output_type": "stream",
     "text": [
      " 28%|██▊       | 608/2187 [05:50<15:26,  1.70it/s]"
     ]
    },
    {
     "name": "stdout",
     "output_type": "stream",
     "text": [
      "(array([0, 1, 2, 3]), array([ 34,  82, 156,   5]))\n",
      "(array([1]), array([3]))\n",
      "(array([0]), array([1]))\n",
      "(array([1]), array([2]))\n",
      "(array([3]), array([1]))\n",
      "(array([1, 2]), array([1, 1]))\n"
     ]
    },
    {
     "name": "stderr",
     "output_type": "stream",
     "text": [
      "\r",
      " 28%|██▊       | 610/2187 [05:51<12:51,  2.04it/s]"
     ]
    },
    {
     "name": "stdout",
     "output_type": "stream",
     "text": [
      "(array([0, 1, 2, 3]), array([ 16,  12, 155,   1]))\n",
      "(array([1, 2, 3]), array([1, 1, 1]))\n",
      "(array([2]), array([1]))\n",
      "(array([1, 2]), array([7, 4]))\n",
      "(array([3]), array([1]))\n"
     ]
    },
    {
     "name": "stderr",
     "output_type": "stream",
     "text": [
      " 28%|██▊       | 616/2187 [05:55<12:02,  2.17it/s]"
     ]
    },
    {
     "name": "stdout",
     "output_type": "stream",
     "text": [
      "(array([0, 1, 2]), array([939,  79, 157]))\n",
      "(array([1, 2]), array([2, 3]))\n",
      "(array([0, 1, 2]), array([ 4,  7, 23]))\n",
      "(array([2]), array([1]))\n"
     ]
    },
    {
     "name": "stderr",
     "output_type": "stream",
     "text": [
      " 28%|██▊       | 623/2187 [05:55<06:17,  4.15it/s]"
     ]
    },
    {
     "name": "stdout",
     "output_type": "stream",
     "text": [
      "(array([2, 3]), array([ 2, 10]))\n",
      "(array([1, 2]), array([4, 7]))\n",
      "(array([2]), array([1]))\n",
      "(array([0]), array([1]))\n",
      "(array([2]), array([7]))\n",
      "(array([2]), array([1]))\n",
      "(array([2]), array([1]))\n",
      "(array([2]), array([1]))\n"
     ]
    },
    {
     "name": "stderr",
     "output_type": "stream",
     "text": [
      " 29%|██▉       | 629/2187 [05:55<03:34,  7.25it/s]"
     ]
    },
    {
     "name": "stdout",
     "output_type": "stream",
     "text": [
      "(array([1]), array([21]))\n",
      "(array([1]), array([1]))\n",
      "(array([0, 1, 2]), array([ 3, 12,  5]))\n",
      "(array([2, 3]), array([3, 1]))\n",
      "(array([0, 1, 2]), array([ 1, 11, 10]))\n"
     ]
    },
    {
     "name": "stderr",
     "output_type": "stream",
     "text": [
      "\r",
      " 29%|██▉       | 632/2187 [05:55<02:48,  9.24it/s]"
     ]
    },
    {
     "name": "stdout",
     "output_type": "stream",
     "text": [
      "(array([3]), array([2]))\n",
      "(array([2]), array([1]))\n",
      "(array([0, 1]), array([2, 6]))\n",
      "(array([0, 1, 2, 3]), array([ 6, 33, 68, 15]))\n"
     ]
    },
    {
     "name": "stderr",
     "output_type": "stream",
     "text": [
      "\r",
      " 29%|██▉       | 635/2187 [06:07<31:49,  1.23s/it]"
     ]
    },
    {
     "name": "stdout",
     "output_type": "stream",
     "text": [
      "(array([0, 1, 2, 3]), array([  61,   50, 3264,   67]))\n"
     ]
    },
    {
     "name": "stderr",
     "output_type": "stream",
     "text": [
      "\r",
      " 29%|██▉       | 636/2187 [06:07<25:14,  1.02it/s]"
     ]
    },
    {
     "name": "stdout",
     "output_type": "stream",
     "text": [
      "(array([0, 1, 2, 3]), array([  7,  13, 102,   1]))\n",
      "(array([2]), array([2]))\n",
      "(array([0, 2]), array([1, 1]))\n",
      "(array([1, 2]), array([4, 3]))\n"
     ]
    },
    {
     "name": "stderr",
     "output_type": "stream",
     "text": [
      "\r",
      " 29%|██▉       | 640/2187 [06:10<22:58,  1.12it/s]"
     ]
    },
    {
     "name": "stdout",
     "output_type": "stream",
     "text": [
      "(array([0, 1, 2, 3]), array([227,  88, 583,   4]))\n"
     ]
    },
    {
     "name": "stderr",
     "output_type": "stream",
     "text": [
      "\r",
      " 29%|██▉       | 641/2187 [06:12<34:32,  1.34s/it]"
     ]
    },
    {
     "name": "stdout",
     "output_type": "stream",
     "text": [
      "(array([0, 1, 2, 3]), array([ 14, 599, 143,  33]))\n"
     ]
    },
    {
     "name": "stderr",
     "output_type": "stream",
     "text": [
      "\r",
      " 29%|██▉       | 642/2187 [06:51<5:22:04, 12.51s/it]"
     ]
    },
    {
     "name": "stdout",
     "output_type": "stream",
     "text": [
      "(array([0, 1, 2, 3]), array([4397,  397, 6818,   49]))\n",
      "(array([1, 2]), array([1, 2]))\n"
     ]
    },
    {
     "name": "stderr",
     "output_type": "stream",
     "text": [
      " 30%|██▉       | 649/2187 [06:51<2:38:24,  6.18s/it]"
     ]
    },
    {
     "name": "stdout",
     "output_type": "stream",
     "text": [
      "(array([0, 1, 2, 3]), array([ 1,  3, 82,  4]))\n",
      "(array([0, 1]), array([1, 4]))\n",
      "(array([1]), array([1]))\n",
      "(array([2]), array([1]))\n",
      "(array([1]), array([1]))\n",
      "(array([2]), array([3]))\n",
      "(array([1]), array([1]))\n",
      "(array([0, 2]), array([2, 2]))\n"
     ]
    },
    {
     "name": "stderr",
     "output_type": "stream",
     "text": [
      "\r",
      " 30%|██▉       | 652/2187 [06:51<1:50:57,  4.34s/it]"
     ]
    },
    {
     "name": "stdout",
     "output_type": "stream",
     "text": [
      "(array([0, 2]), array([ 5, 11]))\n",
      "(array([0, 1]), array([11, 27]))\n"
     ]
    },
    {
     "name": "stderr",
     "output_type": "stream",
     "text": [
      "\r",
      " 30%|██▉       | 654/2187 [06:52<1:18:22,  3.07s/it]"
     ]
    },
    {
     "name": "stdout",
     "output_type": "stream",
     "text": [
      "(array([1, 2, 3]), array([1, 9, 6]))\n",
      "(array([0, 1, 2, 3]), array([  2, 159,  20,   1]))\n"
     ]
    },
    {
     "name": "stderr",
     "output_type": "stream",
     "text": [
      " 30%|███       | 658/2187 [06:53<42:07,  1.65s/it]  "
     ]
    },
    {
     "name": "stdout",
     "output_type": "stream",
     "text": [
      "(array([0, 1, 2, 3]), array([ 36,  14, 128,   5]))\n",
      "(array([1, 2]), array([ 1, 40]))\n",
      "(array([1]), array([1]))\n"
     ]
    },
    {
     "name": "stderr",
     "output_type": "stream",
     "text": [
      "\r",
      " 30%|███       | 660/2187 [06:53<30:17,  1.19s/it]"
     ]
    },
    {
     "name": "stdout",
     "output_type": "stream",
     "text": [
      "(array([2]), array([4]))\n",
      "(array([2]), array([55]))\n"
     ]
    },
    {
     "name": "stderr",
     "output_type": "stream",
     "text": [
      "\r",
      " 30%|███       | 662/2187 [06:53<21:34,  1.18it/s]"
     ]
    },
    {
     "name": "stdout",
     "output_type": "stream",
     "text": [
      "(array([2]), array([7]))\n",
      "(array([0, 2]), array([ 1, 20]))\n"
     ]
    },
    {
     "name": "stderr",
     "output_type": "stream",
     "text": [
      "\r",
      " 30%|███       | 664/2187 [07:01<44:26,  1.75s/it]"
     ]
    },
    {
     "name": "stdout",
     "output_type": "stream",
     "text": [
      "(array([0, 1, 2, 3]), array([ 717,  527, 1062,  393]))\n",
      "(array([2]), array([4]))\n",
      "(array([0, 1, 2, 3]), array([2, 1, 1, 1]))\n",
      "(array([2]), array([1]))\n"
     ]
    },
    {
     "name": "stderr",
     "output_type": "stream",
     "text": [
      "\r",
      " 30%|███       | 667/2187 [07:04<39:41,  1.57s/it]"
     ]
    },
    {
     "name": "stdout",
     "output_type": "stream",
     "text": [
      "(array([0, 1, 2, 3]), array([ 41,  57, 996,   2]))\n",
      "(array([1]), array([1]))\n"
     ]
    },
    {
     "name": "stderr",
     "output_type": "stream",
     "text": [
      "\r",
      " 31%|███       | 669/2187 [07:05<29:10,  1.15s/it]"
     ]
    },
    {
     "name": "stdout",
     "output_type": "stream",
     "text": [
      "(array([0, 1, 2, 3]), array([ 2, 80, 27,  3]))\n"
     ]
    },
    {
     "name": "stderr",
     "output_type": "stream",
     "text": [
      "\r",
      " 31%|███       | 670/2187 [07:05<25:26,  1.01s/it]"
     ]
    },
    {
     "name": "stdout",
     "output_type": "stream",
     "text": [
      "(array([0, 1, 2, 3]), array([ 40, 137,  32,   1]))\n"
     ]
    },
    {
     "name": "stderr",
     "output_type": "stream",
     "text": [
      "\r",
      " 31%|███       | 671/2187 [07:06<19:34,  1.29it/s]"
     ]
    },
    {
     "name": "stdout",
     "output_type": "stream",
     "text": [
      "(array([0, 1, 2]), array([ 5,  1, 61]))\n"
     ]
    },
    {
     "name": "stderr",
     "output_type": "stream",
     "text": [
      " 31%|███       | 677/2187 [07:08<23:50,  1.06it/s]"
     ]
    },
    {
     "name": "stdout",
     "output_type": "stream",
     "text": [
      "(array([0, 1, 2, 3]), array([ 34, 204, 342, 275]))\n",
      "(array([2]), array([1]))\n",
      "(array([2]), array([1]))\n",
      "(array([2]), array([2]))\n",
      "(array([0, 1, 2]), array([2, 1, 1]))\n",
      "(array([2]), array([6]))\n"
     ]
    },
    {
     "name": "stderr",
     "output_type": "stream",
     "text": [
      " 31%|███       | 681/2187 [07:09<12:24,  2.02it/s]"
     ]
    },
    {
     "name": "stdout",
     "output_type": "stream",
     "text": [
      "(array([0, 1, 3]), array([ 1, 21,  2]))\n",
      "(array([1]), array([2]))\n",
      "(array([0, 1, 2, 3]), array([ 1,  9, 14,  2]))\n",
      "(array([0, 2]), array([1, 6]))\n"
     ]
    },
    {
     "name": "stderr",
     "output_type": "stream",
     "text": [
      "\r",
      " 31%|███       | 683/2187 [07:10<12:52,  1.95it/s]"
     ]
    },
    {
     "name": "stdout",
     "output_type": "stream",
     "text": [
      "(array([1, 2, 3]), array([112, 170,  67]))\n",
      "(array([2, 3]), array([ 1, 20]))\n",
      "(array([2]), array([1]))\n"
     ]
    },
    {
     "name": "stderr",
     "output_type": "stream",
     "text": [
      "\r",
      " 31%|███▏      | 685/2187 [07:12<16:07,  1.55it/s]"
     ]
    },
    {
     "name": "stdout",
     "output_type": "stream",
     "text": [
      "(array([0, 1, 2, 3]), array([ 17, 172, 409,  22]))\n",
      "(array([1]), array([2]))\n",
      "(array([1, 3]), array([1, 1]))\n",
      "(array([2]), array([1]))\n",
      "(array([1]), array([2]))\n"
     ]
    },
    {
     "name": "stderr",
     "output_type": "stream",
     "text": [
      "\r",
      " 32%|███▏      | 690/2187 [07:12<11:46,  2.12it/s]"
     ]
    },
    {
     "name": "stdout",
     "output_type": "stream",
     "text": [
      "(array([0, 2, 3]), array([38, 45,  1]))\n",
      "(array([0, 2, 3]), array([ 1, 10,  1]))\n",
      "(array([0, 1, 2]), array([1, 2, 2]))\n"
     ]
    },
    {
     "name": "stderr",
     "output_type": "stream",
     "text": [
      " 32%|███▏      | 695/2187 [07:12<06:32,  3.80it/s]"
     ]
    },
    {
     "name": "stdout",
     "output_type": "stream",
     "text": [
      "(array([0, 2]), array([ 2, 37]))\n",
      "(array([2]), array([8]))\n",
      "(array([0, 1, 2, 3]), array([1, 9, 4, 1]))\n"
     ]
    },
    {
     "name": "stderr",
     "output_type": "stream",
     "text": [
      " 32%|███▏      | 698/2187 [07:15<09:44,  2.55it/s]"
     ]
    },
    {
     "name": "stdout",
     "output_type": "stream",
     "text": [
      "(array([0, 1, 2, 3]), array([ 66, 137, 386,  18]))\n",
      "(array([2]), array([1]))\n",
      "(array([0, 1, 2, 3]), array([22, 12, 11,  2]))\n",
      "(array([1, 2, 3]), array([1, 1, 2]))\n",
      "(array([2]), array([1]))\n"
     ]
    },
    {
     "name": "stderr",
     "output_type": "stream",
     "text": [
      "\r",
      " 32%|███▏      | 701/2187 [07:15<08:09,  3.04it/s]"
     ]
    },
    {
     "name": "stdout",
     "output_type": "stream",
     "text": [
      "(array([0, 1, 2, 3]), array([ 15, 123,  42,   2]))\n",
      "(array([1, 2]), array([1, 8]))\n"
     ]
    },
    {
     "name": "stderr",
     "output_type": "stream",
     "text": [
      "\r",
      " 32%|███▏      | 703/2187 [07:15<06:47,  3.65it/s]"
     ]
    },
    {
     "name": "stdout",
     "output_type": "stream",
     "text": [
      "(array([0, 1, 2, 3]), array([ 7,  3, 62,  8]))\n"
     ]
    },
    {
     "name": "stderr",
     "output_type": "stream",
     "text": [
      " 32%|███▏      | 708/2187 [07:16<04:36,  5.35it/s]"
     ]
    },
    {
     "name": "stdout",
     "output_type": "stream",
     "text": [
      "(array([1, 2, 3]), array([56,  4,  8]))\n",
      "(array([2]), array([1]))\n",
      "(array([2]), array([1]))\n",
      "(array([2]), array([1]))\n",
      "(array([0, 2]), array([ 2, 17]))\n",
      "(array([1]), array([2]))\n",
      "(array([1]), array([2]))\n"
     ]
    },
    {
     "name": "stderr",
     "output_type": "stream",
     "text": [
      " 33%|███▎      | 716/2187 [07:16<02:38,  9.29it/s]"
     ]
    },
    {
     "name": "stdout",
     "output_type": "stream",
     "text": [
      "(array([1, 2, 3]), array([ 5, 15,  3]))\n",
      "(array([1, 2]), array([2, 1]))\n",
      "(array([2]), array([2]))\n",
      "(array([1, 2]), array([1, 4]))\n",
      "(array([3]), array([1]))\n",
      "(array([1]), array([1]))\n",
      "(array([0, 1, 2, 3]), array([ 10, 766, 472,  35]))\n",
      "(array([1]), array([6]))\n"
     ]
    },
    {
     "name": "stderr",
     "output_type": "stream",
     "text": [
      "\r",
      " 33%|███▎      | 719/2187 [07:22<16:32,  1.48it/s]"
     ]
    },
    {
     "name": "stdout",
     "output_type": "stream",
     "text": [
      "(array([0, 1, 2, 3]), array([  2,   1, 596,   4]))\n"
     ]
    },
    {
     "name": "stderr",
     "output_type": "stream",
     "text": [
      "\r",
      " 33%|███▎      | 721/2187 [07:32<48:37,  1.99s/it]"
     ]
    },
    {
     "name": "stdout",
     "output_type": "stream",
     "text": [
      "(array([0, 1, 2, 3]), array([  17, 1465, 1463,  189]))\n",
      "(array([1]), array([1]))\n"
     ]
    },
    {
     "name": "stderr",
     "output_type": "stream",
     "text": [
      "\r",
      " 33%|███▎      | 722/2187 [07:32<35:49,  1.47s/it]"
     ]
    },
    {
     "name": "stdout",
     "output_type": "stream",
     "text": [
      "(array([1, 2]), array([ 5, 72]))\n",
      "(array([0, 3]), array([1, 3]))\n",
      "(array([0]), array([1]))\n"
     ]
    },
    {
     "name": "stderr",
     "output_type": "stream",
     "text": [
      " 33%|███▎      | 728/2187 [07:33<18:42,  1.30it/s]"
     ]
    },
    {
     "name": "stdout",
     "output_type": "stream",
     "text": [
      "(array([0, 1, 2]), array([ 12,   1, 126]))\n",
      "(array([1]), array([3]))\n",
      "(array([1]), array([1]))\n",
      "(array([0, 1, 2, 3]), array([ 3,  5, 27,  7]))\n",
      "(array([2]), array([1]))\n"
     ]
    },
    {
     "name": "stderr",
     "output_type": "stream",
     "text": [
      "\r",
      " 33%|███▎      | 730/2187 [07:34<15:57,  1.52it/s]"
     ]
    },
    {
     "name": "stdout",
     "output_type": "stream",
     "text": [
      "(array([0, 1, 2, 3]), array([ 21,  88, 132,  16]))\n"
     ]
    },
    {
     "name": "stderr",
     "output_type": "stream",
     "text": [
      " 33%|███▎      | 732/2187 [07:34<10:45,  2.25it/s]"
     ]
    },
    {
     "name": "stdout",
     "output_type": "stream",
     "text": [
      "(array([0, 1, 2]), array([10, 16, 99]))\n",
      "(array([0, 1, 2, 3]), array([ 1,  3, 29,  7]))\n",
      "(array([2]), array([1]))\n",
      "(array([2]), array([2]))\n",
      "(array([2]), array([2]))\n"
     ]
    },
    {
     "name": "stderr",
     "output_type": "stream",
     "text": [
      " 34%|███▍      | 742/2187 [07:35<05:30,  4.38it/s]"
     ]
    },
    {
     "name": "stdout",
     "output_type": "stream",
     "text": [
      "(array([1]), array([1]))\n",
      "(array([1]), array([1]))\n",
      "(array([2]), array([1]))\n",
      "(array([2]), array([2]))\n",
      "(array([1]), array([1]))\n",
      "(array([2]), array([1]))\n",
      "(array([3]), array([1]))\n",
      "(array([1]), array([1]))\n",
      "(array([1, 2]), array([1, 3]))\n"
     ]
    },
    {
     "name": "stderr",
     "output_type": "stream",
     "text": [
      "\r",
      " 34%|███▍      | 745/2187 [07:35<04:19,  5.55it/s]"
     ]
    },
    {
     "name": "stdout",
     "output_type": "stream",
     "text": [
      "(array([0, 1, 3]), array([11, 36,  1]))\n"
     ]
    },
    {
     "name": "stderr",
     "output_type": "stream",
     "text": [
      "\r",
      " 34%|███▍      | 748/2187 [07:36<05:52,  4.08it/s]"
     ]
    },
    {
     "name": "stdout",
     "output_type": "stream",
     "text": [
      "(array([1, 2, 3]), array([ 16, 116, 222]))\n",
      "(array([0, 1, 2]), array([ 2,  1, 24]))\n",
      "(array([2]), array([5]))\n",
      "(array([1]), array([1]))\n",
      "(array([3]), array([1]))\n",
      "(array([2]), array([1]))\n",
      "(array([1]), array([2]))\n"
     ]
    },
    {
     "name": "stderr",
     "output_type": "stream",
     "text": [
      " 35%|███▍      | 758/2187 [07:36<03:27,  6.89it/s]"
     ]
    },
    {
     "name": "stdout",
     "output_type": "stream",
     "text": [
      "(array([0, 1, 2, 3]), array([ 9, 51, 24,  8]))\n",
      "(array([1]), array([1]))\n",
      "(array([1]), array([1]))\n",
      "(array([1]), array([2]))\n",
      "(array([2]), array([1]))\n",
      "(array([0, 2]), array([11, 11]))\n",
      "(array([3]), array([9]))\n"
     ]
    },
    {
     "name": "stderr",
     "output_type": "stream",
     "text": [
      "\r",
      " 35%|███▍      | 762/2187 [07:37<02:50,  8.34it/s]"
     ]
    },
    {
     "name": "stdout",
     "output_type": "stream",
     "text": [
      "(array([2]), array([1]))\n",
      "(array([1]), array([1]))\n",
      "(array([2]), array([53]))\n",
      "(array([1, 2]), array([1, 1]))\n",
      "(array([1]), array([3]))\n"
     ]
    },
    {
     "name": "stderr",
     "output_type": "stream",
     "text": [
      "\r",
      " 35%|███▍      | 765/2187 [07:43<17:17,  1.37it/s]"
     ]
    },
    {
     "name": "stdout",
     "output_type": "stream",
     "text": [
      "(array([0, 1, 2, 3]), array([  41, 1550,  344,  133]))\n"
     ]
    },
    {
     "name": "stderr",
     "output_type": "stream",
     "text": [
      "\r",
      " 35%|███▌      | 767/2187 [07:44<14:02,  1.68it/s]"
     ]
    },
    {
     "name": "stdout",
     "output_type": "stream",
     "text": [
      "(array([0, 1, 2, 3]), array([20, 56, 73,  6]))\n",
      "(array([0, 1]), array([ 7, 15]))\n",
      "(array([1, 3]), array([1, 1]))\n",
      "(array([1, 2]), array([1, 3]))\n",
      "(array([0]), array([2]))\n",
      "(array([1]), array([1]))\n"
     ]
    },
    {
     "name": "stderr",
     "output_type": "stream",
     "text": [
      " 35%|███▌      | 774/2187 [07:44<07:52,  2.99it/s]"
     ]
    },
    {
     "name": "stdout",
     "output_type": "stream",
     "text": [
      "(array([0, 1, 2, 3]), array([34, 18, 41,  4]))\n",
      "(array([0, 1, 2, 3]), array([ 1, 20, 25,  6]))\n",
      "(array([0]), array([1]))\n",
      "(array([1]), array([1]))\n",
      "(array([3]), array([1]))\n",
      "(array([1, 2]), array([2, 2]))\n"
     ]
    },
    {
     "name": "stderr",
     "output_type": "stream",
     "text": [
      " 36%|███▌      | 782/2187 [07:46<05:35,  4.19it/s]"
     ]
    },
    {
     "name": "stdout",
     "output_type": "stream",
     "text": [
      "(array([0, 1, 2, 3]), array([ 19,  81, 176, 117]))\n",
      "(array([0]), array([1]))\n",
      "(array([2]), array([1]))\n",
      "(array([0, 2]), array([1, 1]))\n",
      "(array([0, 1, 2]), array([2, 9, 2]))\n"
     ]
    },
    {
     "name": "stderr",
     "output_type": "stream",
     "text": [
      "\r",
      " 36%|███▌      | 784/2187 [07:46<05:10,  4.52it/s]"
     ]
    },
    {
     "name": "stdout",
     "output_type": "stream",
     "text": [
      "(array([0, 1, 2, 3]), array([34, 66, 11,  1]))\n",
      "(array([3]), array([1]))\n",
      "(array([3]), array([1]))\n"
     ]
    },
    {
     "name": "stderr",
     "output_type": "stream",
     "text": [
      "\r",
      " 36%|███▌      | 786/2187 [07:46<04:33,  5.13it/s]"
     ]
    },
    {
     "name": "stdout",
     "output_type": "stream",
     "text": [
      "(array([1, 2]), array([ 3, 76]))\n",
      "(array([3]), array([1]))\n"
     ]
    },
    {
     "name": "stderr",
     "output_type": "stream",
     "text": [
      " 36%|███▋      | 793/2187 [07:47<03:46,  6.15it/s]"
     ]
    },
    {
     "name": "stdout",
     "output_type": "stream",
     "text": [
      "(array([0, 1, 2, 3]), array([52, 23, 76,  9]))\n",
      "(array([1]), array([2]))\n",
      "(array([1, 3]), array([1, 1]))\n",
      "(array([2]), array([1]))\n",
      "(array([1]), array([1]))\n",
      "(array([0, 2, 3]), array([ 2, 25,  1]))\n",
      "(array([1]), array([4]))\n",
      "(array([2]), array([4]))\n"
     ]
    },
    {
     "name": "stderr",
     "output_type": "stream",
     "text": [
      "\r",
      " 36%|███▋      | 796/2187 [07:48<04:36,  5.04it/s]"
     ]
    },
    {
     "name": "stdout",
     "output_type": "stream",
     "text": [
      "(array([0, 1, 2, 3]), array([126,  84,  51,   2]))\n",
      "(array([0, 2]), array([1, 1]))\n",
      "(array([1]), array([1]))\n",
      "(array([2]), array([1]))\n"
     ]
    },
    {
     "name": "stderr",
     "output_type": "stream",
     "text": [
      "\r",
      " 37%|███▋      | 800/2187 [07:48<03:46,  6.13it/s]"
     ]
    },
    {
     "name": "stdout",
     "output_type": "stream",
     "text": [
      "(array([0, 1, 2]), array([ 1,  2, 80]))\n",
      "(array([0, 2]), array([1, 1]))\n"
     ]
    },
    {
     "name": "stderr",
     "output_type": "stream",
     "text": [
      "\r",
      " 37%|███▋      | 802/2187 [07:52<14:06,  1.64it/s]"
     ]
    },
    {
     "name": "stdout",
     "output_type": "stream",
     "text": [
      "(array([0, 1, 2, 3]), array([ 62, 106, 791, 105]))\n",
      "(array([0, 1]), array([8, 3]))\n"
     ]
    },
    {
     "name": "stderr",
     "output_type": "stream",
     "text": [
      "\r",
      " 37%|███▋      | 804/2187 [07:52<12:51,  1.79it/s]"
     ]
    },
    {
     "name": "stdout",
     "output_type": "stream",
     "text": [
      "(array([0, 1, 2, 3]), array([  5, 176,  33,  49]))\n"
     ]
    },
    {
     "name": "stderr",
     "output_type": "stream",
     "text": [
      " 37%|███▋      | 808/2187 [07:53<08:06,  2.84it/s]"
     ]
    },
    {
     "name": "stdout",
     "output_type": "stream",
     "text": [
      "(array([1, 3]), array([88, 14]))\n",
      "(array([0, 2]), array([ 1, 10]))\n",
      "(array([0, 1, 2]), array([4, 1, 6]))\n",
      "(array([1, 2]), array([1, 1]))\n",
      "(array([1]), array([1]))\n",
      "(array([2]), array([1]))\n",
      "(array([2]), array([3]))\n",
      "(array([2]), array([1]))\n"
     ]
    },
    {
     "name": "stderr",
     "output_type": "stream",
     "text": [
      "\r",
      " 37%|███▋      | 813/2187 [07:53<06:09,  3.72it/s]"
     ]
    },
    {
     "name": "stdout",
     "output_type": "stream",
     "text": [
      "(array([0, 1, 2]), array([25,  6, 55]))\n"
     ]
    },
    {
     "name": "stderr",
     "output_type": "stream",
     "text": [
      " 37%|███▋      | 816/2187 [08:03<26:36,  1.16s/it]"
     ]
    },
    {
     "name": "stdout",
     "output_type": "stream",
     "text": [
      "(array([0, 1, 2, 3]), array([1499,  238, 1465,  173]))\n",
      "(array([2]), array([2]))\n",
      "(array([2]), array([31]))\n",
      "(array([1]), array([1]))\n"
     ]
    },
    {
     "name": "stderr",
     "output_type": "stream",
     "text": [
      "\r",
      " 37%|███▋      | 818/2187 [08:04<23:38,  1.04s/it]"
     ]
    },
    {
     "name": "stdout",
     "output_type": "stream",
     "text": [
      "(array([0, 1, 2, 3]), array([  6,   7, 445,   4]))\n",
      "(array([2]), array([1]))\n"
     ]
    },
    {
     "name": "stderr",
     "output_type": "stream",
     "text": [
      " 38%|███▊      | 822/2187 [08:16<39:30,  1.74s/it]"
     ]
    },
    {
     "name": "stdout",
     "output_type": "stream",
     "text": [
      "(array([0, 1, 2, 3]), array([  62,  767, 2250,  611]))\n",
      "(array([1, 2, 3]), array([1, 1, 1]))\n",
      "(array([2]), array([26]))\n",
      "(array([0]), array([1]))\n",
      "(array([1]), array([1]))\n"
     ]
    },
    {
     "name": "stderr",
     "output_type": "stream",
     "text": [
      " 38%|███▊      | 830/2187 [08:19<24:46,  1.10s/it]"
     ]
    },
    {
     "name": "stdout",
     "output_type": "stream",
     "text": [
      "(array([0, 1, 2, 3]), array([  6,  10, 884, 287]))\n",
      "(array([2]), array([3]))\n",
      "(array([3]), array([1]))\n",
      "(array([2]), array([3]))\n",
      "(array([1, 2]), array([1, 2]))\n",
      "(array([2]), array([1]))\n",
      "(array([2, 3]), array([5, 1]))\n",
      "(array([1]), array([1]))\n",
      "(array([2]), array([1]))\n"
     ]
    },
    {
     "name": "stderr",
     "output_type": "stream",
     "text": [
      "\r",
      " 38%|███▊      | 835/2187 [08:20<17:28,  1.29it/s]"
     ]
    },
    {
     "name": "stdout",
     "output_type": "stream",
     "text": [
      "(array([3]), array([2]))\n",
      "(array([1, 2]), array([6, 1]))\n",
      "(array([1]), array([1]))\n"
     ]
    },
    {
     "name": "stderr",
     "output_type": "stream",
     "text": [
      "\r",
      " 38%|███▊      | 838/2187 [08:21<15:58,  1.41it/s]"
     ]
    },
    {
     "name": "stdout",
     "output_type": "stream",
     "text": [
      "(array([0, 1, 2]), array([210, 220,   3]))\n",
      "(array([3]), array([2]))\n",
      "(array([1]), array([1]))\n"
     ]
    },
    {
     "name": "stderr",
     "output_type": "stream",
     "text": [
      "\r",
      " 38%|███▊      | 840/2187 [08:22<13:50,  1.62it/s]"
     ]
    },
    {
     "name": "stdout",
     "output_type": "stream",
     "text": [
      "(array([0, 1, 2, 3]), array([  5,  64, 115,  21]))\n",
      "(array([1, 2]), array([6, 2]))\n"
     ]
    },
    {
     "name": "stderr",
     "output_type": "stream",
     "text": [
      " 39%|███▊      | 845/2187 [08:22<07:40,  2.91it/s]"
     ]
    },
    {
     "name": "stdout",
     "output_type": "stream",
     "text": [
      "(array([0, 1, 2, 3]), array([ 2, 32, 17, 12]))\n",
      "(array([0]), array([2]))\n",
      "(array([2]), array([3]))\n",
      "(array([0, 1]), array([4, 6]))\n",
      "(array([0]), array([2]))\n",
      "(array([2, 3]), array([2, 2]))\n",
      "(array([1]), array([1]))\n"
     ]
    },
    {
     "name": "stderr",
     "output_type": "stream",
     "text": [
      " 39%|███▉      | 854/2187 [08:23<04:01,  5.51it/s]"
     ]
    },
    {
     "name": "stdout",
     "output_type": "stream",
     "text": [
      "(array([2, 3]), array([2, 3]))\n",
      "(array([0]), array([1]))\n",
      "(array([3]), array([1]))\n",
      "(array([1, 2]), array([2, 3]))\n",
      "(array([2, 3]), array([1, 1]))\n",
      "(array([2]), array([3]))\n",
      "(array([2]), array([1]))\n"
     ]
    },
    {
     "name": "stderr",
     "output_type": "stream",
     "text": [
      "\r",
      " 39%|███▉      | 857/2187 [08:28<14:26,  1.53it/s]"
     ]
    },
    {
     "name": "stdout",
     "output_type": "stream",
     "text": [
      "(array([0, 1, 2, 3]), array([  82,  298, 1214,   42]))\n",
      "(array([2]), array([1]))\n",
      "(array([1, 3]), array([1, 1]))\n",
      "(array([2]), array([1]))\n",
      "(array([1, 3]), array([6, 3]))\n"
     ]
    },
    {
     "name": "stderr",
     "output_type": "stream",
     "text": [
      " 39%|███▉      | 863/2187 [08:30<10:10,  2.17it/s]"
     ]
    },
    {
     "name": "stdout",
     "output_type": "stream",
     "text": [
      "(array([0, 1, 2, 3]), array([136, 225, 237,   1]))\n",
      "(array([1]), array([3]))\n",
      "(array([1, 2, 3]), array([ 4, 14,  5]))\n",
      "(array([2]), array([1]))\n",
      "(array([1]), array([1]))\n"
     ]
    },
    {
     "name": "stderr",
     "output_type": "stream",
     "text": [
      "\r",
      " 40%|███▉      | 867/2187 [08:31<07:21,  2.99it/s]"
     ]
    },
    {
     "name": "stdout",
     "output_type": "stream",
     "text": [
      "(array([2]), array([2]))\n",
      "(array([1, 2, 3]), array([ 1, 13,  1]))\n",
      "(array([2]), array([8]))\n"
     ]
    },
    {
     "name": "stderr",
     "output_type": "stream",
     "text": [
      " 40%|███▉      | 871/2187 [08:31<05:02,  4.35it/s]"
     ]
    },
    {
     "name": "stdout",
     "output_type": "stream",
     "text": [
      "(array([0, 1, 2, 3]), array([ 7, 36, 64,  2]))\n",
      "(array([1, 2]), array([2, 5]))\n",
      "(array([0, 1, 2, 3]), array([2, 1, 9, 2]))\n",
      "(array([2, 3]), array([2, 1]))\n",
      "(array([2]), array([3]))\n"
     ]
    },
    {
     "name": "stderr",
     "output_type": "stream",
     "text": [
      "\r",
      " 40%|███▉      | 874/2187 [08:32<05:45,  3.80it/s]"
     ]
    },
    {
     "name": "stdout",
     "output_type": "stream",
     "text": [
      "(array([0, 1, 2, 3]), array([ 19,  81, 148,  76]))\n",
      "(array([1, 3]), array([49,  1]))\n"
     ]
    },
    {
     "name": "stderr",
     "output_type": "stream",
     "text": [
      " 40%|████      | 878/2187 [08:33<03:52,  5.64it/s]"
     ]
    },
    {
     "name": "stdout",
     "output_type": "stream",
     "text": [
      "(array([0, 1, 2]), array([17,  7, 21]))\n",
      "(array([1]), array([1]))\n",
      "(array([0, 1, 2, 3]), array([2, 8, 5, 6]))\n",
      "(array([2]), array([2]))\n",
      "(array([0, 2]), array([1, 1]))\n",
      "(array([1]), array([7]))\n"
     ]
    },
    {
     "name": "stderr",
     "output_type": "stream",
     "text": [
      "\r",
      " 40%|████      | 882/2187 [08:33<02:52,  7.57it/s]"
     ]
    },
    {
     "name": "stdout",
     "output_type": "stream",
     "text": [
      "(array([2, 3]), array([1, 1]))\n",
      "(array([2, 3]), array([4, 1]))\n"
     ]
    },
    {
     "name": "stderr",
     "output_type": "stream",
     "text": [
      "\r",
      " 40%|████      | 885/2187 [08:36<08:57,  2.42it/s]"
     ]
    },
    {
     "name": "stdout",
     "output_type": "stream",
     "text": [
      "(array([0, 1, 2, 3]), array([  8, 765, 216,  19]))\n",
      "(array([0, 1]), array([1, 2]))\n"
     ]
    },
    {
     "name": "stderr",
     "output_type": "stream",
     "text": [
      "\r",
      " 41%|████      | 887/2187 [08:36<07:11,  3.01it/s]"
     ]
    },
    {
     "name": "stdout",
     "output_type": "stream",
     "text": [
      "(array([0, 1, 2, 3]), array([ 4,  1, 53, 24]))\n",
      "(array([0, 1, 2]), array([1, 2, 1]))\n"
     ]
    },
    {
     "name": "stderr",
     "output_type": "stream",
     "text": [
      " 41%|████      | 893/2187 [08:37<04:11,  5.14it/s]"
     ]
    },
    {
     "name": "stdout",
     "output_type": "stream",
     "text": [
      "(array([0, 1, 2]), array([ 4,  3, 38]))\n",
      "(array([1]), array([2]))\n",
      "(array([2, 3]), array([1, 3]))\n",
      "(array([2]), array([1]))\n",
      "(array([2]), array([3]))\n",
      "(array([2, 3]), array([1, 2]))\n",
      "(array([0, 1, 2]), array([ 4,  3, 12]))\n"
     ]
    },
    {
     "name": "stderr",
     "output_type": "stream",
     "text": [
      "\r",
      " 41%|████      | 895/2187 [08:37<05:02,  4.27it/s]"
     ]
    },
    {
     "name": "stdout",
     "output_type": "stream",
     "text": [
      "(array([0, 1, 2]), array([ 25, 125,   7]))\n"
     ]
    },
    {
     "name": "stderr",
     "output_type": "stream",
     "text": [
      "\r",
      " 41%|████      | 897/2187 [08:38<05:05,  4.22it/s]"
     ]
    },
    {
     "name": "stdout",
     "output_type": "stream",
     "text": [
      "(array([0, 1, 2]), array([ 9, 39, 64]))\n",
      "(array([2]), array([4]))\n"
     ]
    },
    {
     "name": "stderr",
     "output_type": "stream",
     "text": [
      "\r",
      " 41%|████      | 899/2187 [08:38<05:41,  3.78it/s]"
     ]
    },
    {
     "name": "stdout",
     "output_type": "stream",
     "text": [
      "(array([0, 1, 2, 3]), array([42, 30, 74,  3]))\n",
      "(array([1]), array([23]))\n",
      "(array([0, 2, 3]), array([ 4, 12,  7]))\n"
     ]
    },
    {
     "name": "stderr",
     "output_type": "stream",
     "text": [
      " 41%|████▏     | 904/2187 [08:39<04:39,  4.60it/s]"
     ]
    },
    {
     "name": "stdout",
     "output_type": "stream",
     "text": [
      "(array([0, 1, 2, 3]), array([ 19,   2, 142,   5]))\n",
      "(array([1]), array([1]))\n",
      "(array([0, 1, 3]), array([1, 2, 1]))\n",
      "(array([2, 3]), array([5, 3]))\n"
     ]
    },
    {
     "name": "stderr",
     "output_type": "stream",
     "text": [
      "\r",
      " 41%|████▏     | 906/2187 [08:44<19:10,  1.11it/s]"
     ]
    },
    {
     "name": "stdout",
     "output_type": "stream",
     "text": [
      "(array([0, 1, 2, 3]), array([ 70, 434, 832, 224]))\n",
      "(array([0, 2]), array([1, 1]))\n",
      "(array([0, 2]), array([2, 3]))\n",
      "(array([1]), array([1]))\n"
     ]
    },
    {
     "name": "stderr",
     "output_type": "stream",
     "text": [
      " 42%|████▏     | 912/2187 [08:45<09:59,  2.13it/s]"
     ]
    },
    {
     "name": "stdout",
     "output_type": "stream",
     "text": [
      "(array([0, 1, 2, 3]), array([25, 21,  5,  1]))\n",
      "(array([2]), array([1]))\n",
      "(array([0, 1, 2]), array([2, 4, 2]))\n",
      "(array([1, 2, 3]), array([16,  4,  5]))\n"
     ]
    },
    {
     "name": "stderr",
     "output_type": "stream",
     "text": [
      "\r",
      " 42%|████▏     | 914/2187 [08:47<13:31,  1.57it/s]"
     ]
    },
    {
     "name": "stdout",
     "output_type": "stream",
     "text": [
      "(array([0, 1, 2, 3]), array([ 55,  21, 462,   1]))\n",
      "(array([2]), array([5]))\n",
      "(array([1, 2]), array([1, 1]))\n"
     ]
    },
    {
     "name": "stderr",
     "output_type": "stream",
     "text": [
      "\r",
      " 42%|████▏     | 916/2187 [08:48<14:18,  1.48it/s]"
     ]
    },
    {
     "name": "stdout",
     "output_type": "stream",
     "text": [
      "(array([0, 1, 2]), array([226, 141, 128]))\n",
      "(array([2]), array([8]))\n",
      "(array([3]), array([1]))\n",
      "(array([1, 3]), array([7, 1]))\n"
     ]
    },
    {
     "name": "stderr",
     "output_type": "stream",
     "text": [
      " 42%|████▏     | 924/2187 [08:48<07:27,  2.82it/s]"
     ]
    },
    {
     "name": "stdout",
     "output_type": "stream",
     "text": [
      "(array([0, 1, 2, 3]), array([ 6, 29, 19, 14]))\n",
      "(array([0, 1]), array([1, 3]))\n",
      "(array([3]), array([1]))\n",
      "(array([2]), array([2]))\n",
      "(array([2]), array([1]))\n",
      "(array([1]), array([1]))\n",
      "(array([0]), array([2]))\n",
      "(array([2]), array([1]))\n",
      "(array([2]), array([1]))\n"
     ]
    },
    {
     "name": "stderr",
     "output_type": "stream",
     "text": [
      "\r",
      " 42%|████▏     | 929/2187 [08:49<05:20,  3.92it/s]"
     ]
    },
    {
     "name": "stdout",
     "output_type": "stream",
     "text": [
      "(array([0, 2]), array([1, 3]))\n",
      "(array([2, 3]), array([34,  1]))\n"
     ]
    },
    {
     "name": "stderr",
     "output_type": "stream",
     "text": [
      " 43%|████▎     | 935/2187 [08:49<03:44,  5.58it/s]"
     ]
    },
    {
     "name": "stdout",
     "output_type": "stream",
     "text": [
      "(array([0, 1, 2, 3]), array([22, 41, 57,  4]))\n",
      "(array([0, 2]), array([ 1, 13]))\n",
      "(array([2]), array([2]))\n",
      "(array([0, 1, 2, 3]), array([ 3,  2, 13,  1]))\n",
      "(array([2]), array([4]))\n"
     ]
    },
    {
     "name": "stderr",
     "output_type": "stream",
     "text": [
      " 43%|████▎     | 942/2187 [08:50<02:09,  9.59it/s]"
     ]
    },
    {
     "name": "stdout",
     "output_type": "stream",
     "text": [
      "(array([2]), array([1]))\n",
      "(array([1]), array([1]))\n",
      "(array([0, 1, 2]), array([1, 1, 1]))\n",
      "(array([1]), array([1]))\n",
      "(array([0, 1, 2]), array([6, 4, 6]))\n",
      "(array([1]), array([1]))\n",
      "(array([2]), array([1]))\n"
     ]
    },
    {
     "name": "stderr",
     "output_type": "stream",
     "text": [
      "\r",
      " 43%|████▎     | 945/2187 [08:50<01:43, 11.95it/s]"
     ]
    },
    {
     "name": "stdout",
     "output_type": "stream",
     "text": [
      "(array([2]), array([2]))\n",
      "(array([0, 2, 3]), array([3, 1, 1]))\n",
      "(array([2]), array([13]))\n",
      "(array([2]), array([8]))\n"
     ]
    },
    {
     "name": "stderr",
     "output_type": "stream",
     "text": [
      " 44%|████▎     | 952/2187 [08:50<01:17, 15.95it/s]"
     ]
    },
    {
     "name": "stdout",
     "output_type": "stream",
     "text": [
      "(array([1, 2]), array([ 2, 30]))\n",
      "(array([3]), array([1]))\n",
      "(array([2]), array([2]))\n",
      "(array([2]), array([1]))\n",
      "(array([1, 2]), array([1, 1]))\n",
      "(array([0, 1, 2]), array([4, 6, 1]))\n",
      "(array([1]), array([2]))\n"
     ]
    },
    {
     "name": "stderr",
     "output_type": "stream",
     "text": [
      " 44%|████▍     | 957/2187 [09:03<29:21,  1.43s/it]"
     ]
    },
    {
     "name": "stdout",
     "output_type": "stream",
     "text": [
      "(array([0, 1, 2, 3]), array([  48, 3887,   14,   99]))\n",
      "(array([1, 2]), array([3, 1]))\n",
      "(array([1]), array([2]))\n",
      "(array([2]), array([6]))\n",
      "(array([2]), array([6]))\n",
      "(array([3]), array([1]))\n"
     ]
    },
    {
     "name": "stderr",
     "output_type": "stream",
     "text": [
      "\r",
      " 44%|████▍     | 960/2187 [09:04<21:01,  1.03s/it]"
     ]
    },
    {
     "name": "stdout",
     "output_type": "stream",
     "text": [
      "(array([0, 2]), array([ 3, 42]))\n",
      "(array([0, 1, 2, 3]), array([1, 2, 3, 2]))\n"
     ]
    },
    {
     "name": "stderr",
     "output_type": "stream",
     "text": [
      " 44%|████▍     | 966/2187 [09:08<20:01,  1.02it/s]"
     ]
    },
    {
     "name": "stdout",
     "output_type": "stream",
     "text": [
      "(array([0, 1, 2, 3]), array([149, 708, 368,  72]))\n",
      "(array([1]), array([1]))\n",
      "(array([1]), array([2]))\n",
      "(array([0, 1]), array([1, 1]))\n",
      "(array([1]), array([1]))\n",
      "(array([1, 2]), array([1, 1]))\n",
      "(array([2, 3]), array([1, 1]))\n",
      "(array([1, 3]), array([1, 1]))\n"
     ]
    },
    {
     "name": "stderr",
     "output_type": "stream",
     "text": [
      "\r",
      " 44%|████▍     | 970/2187 [09:08<14:11,  1.43it/s]"
     ]
    },
    {
     "name": "stdout",
     "output_type": "stream",
     "text": [
      "(array([0, 2]), array([1, 3]))\n",
      "(array([1, 2]), array([2, 1]))\n"
     ]
    },
    {
     "name": "stderr",
     "output_type": "stream",
     "text": [
      " 45%|████▍     | 975/2187 [09:09<07:54,  2.55it/s]"
     ]
    },
    {
     "name": "stdout",
     "output_type": "stream",
     "text": [
      "(array([0, 2, 3]), array([ 1, 53, 32]))\n",
      "(array([3]), array([7]))\n",
      "(array([2]), array([1]))\n",
      "(array([1, 2]), array([1, 1]))\n",
      "(array([0, 1, 2]), array([ 2,  2, 10]))\n"
     ]
    },
    {
     "name": "stderr",
     "output_type": "stream",
     "text": [
      "\r",
      " 45%|████▍     | 977/2187 [09:09<05:55,  3.41it/s]"
     ]
    },
    {
     "name": "stdout",
     "output_type": "stream",
     "text": [
      "(array([2]), array([12]))\n",
      "(array([2]), array([38]))\n"
     ]
    },
    {
     "name": "stderr",
     "output_type": "stream",
     "text": [
      "\r",
      " 45%|████▍     | 979/2187 [09:09<04:51,  4.15it/s]"
     ]
    },
    {
     "name": "stdout",
     "output_type": "stream",
     "text": [
      "(array([2]), array([19]))\n"
     ]
    },
    {
     "name": "stderr",
     "output_type": "stream",
     "text": [
      "\r",
      " 45%|████▍     | 981/2187 [09:10<07:24,  2.71it/s]"
     ]
    },
    {
     "name": "stdout",
     "output_type": "stream",
     "text": [
      "(array([0, 1, 2, 3]), array([ 64,   8, 270,   8]))\n",
      "(array([1]), array([3]))\n",
      "(array([0]), array([2]))\n"
     ]
    },
    {
     "name": "stderr",
     "output_type": "stream",
     "text": [
      "\r",
      " 45%|████▍     | 983/2187 [09:11<06:20,  3.16it/s]"
     ]
    },
    {
     "name": "stdout",
     "output_type": "stream",
     "text": [
      "(array([0, 2, 3]), array([ 4, 94,  1]))\n",
      "(array([3]), array([1]))\n",
      "(array([3]), array([1]))\n"
     ]
    },
    {
     "name": "stderr",
     "output_type": "stream",
     "text": [
      "\r",
      " 45%|████▌     | 986/2187 [09:12<05:42,  3.50it/s]"
     ]
    },
    {
     "name": "stdout",
     "output_type": "stream",
     "text": [
      "(array([0, 1, 2, 3]), array([ 21,  11, 121,  14]))\n",
      "(array([1, 3]), array([3, 1]))\n",
      "(array([2]), array([1]))\n"
     ]
    },
    {
     "name": "stderr",
     "output_type": "stream",
     "text": [
      "\r",
      " 45%|████▌     | 989/2187 [09:12<04:59,  4.00it/s]"
     ]
    },
    {
     "name": "stdout",
     "output_type": "stream",
     "text": [
      "(array([1, 2, 3]), array([38, 70,  6]))\n"
     ]
    },
    {
     "name": "stderr",
     "output_type": "stream",
     "text": [
      " 45%|████▌     | 994/2187 [09:13<05:54,  3.36it/s]"
     ]
    },
    {
     "name": "stdout",
     "output_type": "stream",
     "text": [
      "(array([0, 1, 2, 3]), array([ 61,  26, 106,  18]))\n",
      "(array([1]), array([1]))\n",
      "(array([1]), array([1]))\n",
      "(array([2]), array([1]))\n",
      "(array([1]), array([2]))\n"
     ]
    },
    {
     "name": "stderr",
     "output_type": "stream",
     "text": [
      "\r",
      " 46%|████▌     | 996/2187 [09:14<06:21,  3.12it/s]"
     ]
    },
    {
     "name": "stdout",
     "output_type": "stream",
     "text": [
      "(array([0, 1, 2, 3]), array([ 9, 59, 83, 36]))\n",
      "(array([1]), array([4]))\n",
      "(array([1]), array([1]))\n",
      "(array([1]), array([1]))\n",
      "(array([2]), array([1]))\n"
     ]
    },
    {
     "name": "stderr",
     "output_type": "stream",
     "text": [
      "\r",
      " 46%|████▌     | 1000/2187 [09:15<06:25,  3.08it/s]"
     ]
    },
    {
     "name": "stdout",
     "output_type": "stream",
     "text": [
      "(array([0, 1, 2, 3]), array([  3,  73, 173,  89]))\n"
     ]
    },
    {
     "name": "stderr",
     "output_type": "stream",
     "text": [
      " 46%|████▌     | 1005/2187 [09:16<05:08,  3.83it/s]"
     ]
    },
    {
     "name": "stdout",
     "output_type": "stream",
     "text": [
      "(array([0, 1, 2, 3]), array([16,  9, 97,  3]))\n",
      "(array([2]), array([2]))\n",
      "(array([0, 1]), array([2, 8]))\n",
      "(array([1]), array([1]))\n",
      "(array([2]), array([2]))\n",
      "(array([1, 2, 3]), array([4, 8, 1]))\n",
      "(array([2]), array([1]))\n"
     ]
    },
    {
     "name": "stderr",
     "output_type": "stream",
     "text": [
      "\r",
      " 46%|████▌     | 1008/2187 [09:16<03:47,  5.18it/s]"
     ]
    },
    {
     "name": "stdout",
     "output_type": "stream",
     "text": [
      "(array([2]), array([2]))\n",
      "(array([0, 1, 2, 3]), array([199,  17, 355,  16]))\n"
     ]
    },
    {
     "name": "stderr",
     "output_type": "stream",
     "text": [
      "\r",
      " 46%|████▌     | 1010/2187 [09:21<19:47,  1.01s/it]"
     ]
    },
    {
     "name": "stdout",
     "output_type": "stream",
     "text": [
      "(array([0, 1, 2, 3]), array([ 20, 514, 286, 133]))\n",
      "(array([1, 2]), array([8, 2]))\n"
     ]
    },
    {
     "name": "stderr",
     "output_type": "stream",
     "text": [
      " 46%|████▋     | 1016/2187 [09:23<13:08,  1.48it/s]"
     ]
    },
    {
     "name": "stdout",
     "output_type": "stream",
     "text": [
      "(array([0, 1, 2, 3]), array([ 16, 340, 139,  43]))\n",
      "(array([1, 2, 3]), array([1, 7, 1]))\n",
      "(array([0, 2]), array([1, 1]))\n",
      "(array([0]), array([1]))\n",
      "(array([2]), array([4]))\n",
      "(array([1, 2]), array([11,  4]))\n",
      "(array([2]), array([1]))\n"
     ]
    },
    {
     "name": "stderr",
     "output_type": "stream",
     "text": [
      " 47%|████▋     | 1022/2187 [09:24<06:57,  2.79it/s]"
     ]
    },
    {
     "name": "stdout",
     "output_type": "stream",
     "text": [
      "(array([0, 1]), array([1, 5]))\n",
      "(array([0, 2, 3]), array([ 1, 12,  1]))\n",
      "(array([2]), array([1]))\n",
      "(array([0, 1, 2, 3]), array([ 1,  5, 16,  2]))\n"
     ]
    },
    {
     "name": "stderr",
     "output_type": "stream",
     "text": [
      "\r",
      " 47%|████▋     | 1024/2187 [09:24<06:09,  3.15it/s]"
     ]
    },
    {
     "name": "stdout",
     "output_type": "stream",
     "text": [
      "(array([1, 2, 3]), array([30, 31, 15]))\n",
      "(array([0, 2, 3]), array([ 2, 10, 34]))\n"
     ]
    },
    {
     "name": "stderr",
     "output_type": "stream",
     "text": [
      " 47%|████▋     | 1029/2187 [09:26<06:45,  2.86it/s]"
     ]
    },
    {
     "name": "stdout",
     "output_type": "stream",
     "text": [
      "(array([0, 1, 2, 3]), array([  8, 186, 262,  34]))\n",
      "(array([1, 3]), array([1, 1]))\n",
      "(array([2]), array([2]))\n",
      "(array([2]), array([19]))\n",
      "(array([2, 3]), array([ 2, 12]))\n"
     ]
    },
    {
     "name": "stderr",
     "output_type": "stream",
     "text": [
      " 47%|████▋     | 1033/2187 [09:28<07:53,  2.44it/s]"
     ]
    },
    {
     "name": "stdout",
     "output_type": "stream",
     "text": [
      "(array([0, 1, 2, 3]), array([  1, 617,  24,  78]))\n",
      "(array([1]), array([1]))\n",
      "(array([2]), array([2]))\n",
      "(array([1, 2, 3]), array([18, 16,  1]))\n"
     ]
    },
    {
     "name": "stderr",
     "output_type": "stream",
     "text": [
      " 47%|████▋     | 1038/2187 [09:28<04:18,  4.45it/s]"
     ]
    },
    {
     "name": "stdout",
     "output_type": "stream",
     "text": [
      "(array([2]), array([1]))\n",
      "(array([3]), array([2]))\n",
      "(array([0, 2]), array([2, 7]))\n",
      "(array([3]), array([1]))\n",
      "(array([0, 1, 2]), array([ 1,  2, 15]))\n"
     ]
    },
    {
     "name": "stderr",
     "output_type": "stream",
     "text": [
      " 48%|████▊     | 1044/2187 [09:29<02:30,  7.62it/s]"
     ]
    },
    {
     "name": "stdout",
     "output_type": "stream",
     "text": [
      "(array([1, 2, 3]), array([ 2, 10,  6]))\n",
      "(array([1]), array([3]))\n",
      "(array([2]), array([1]))\n",
      "(array([2]), array([1]))\n",
      "(array([2]), array([4]))\n",
      "(array([3]), array([2]))\n",
      "(array([1]), array([2]))\n"
     ]
    },
    {
     "name": "stderr",
     "output_type": "stream",
     "text": [
      "\r",
      " 48%|████▊     | 1048/2187 [09:29<01:55,  9.90it/s]"
     ]
    },
    {
     "name": "stdout",
     "output_type": "stream",
     "text": [
      "(array([1, 2]), array([1, 1]))\n",
      "(array([2]), array([3]))\n",
      "(array([1]), array([1]))\n",
      "(array([0, 1, 2, 3]), array([  1, 235,  37,   9]))\n",
      "(array([0, 1, 2, 3]), array([  2,   7, 126,  78]))\n"
     ]
    },
    {
     "name": "stderr",
     "output_type": "stream",
     "text": [
      "\r",
      " 48%|████▊     | 1051/2187 [09:31<05:18,  3.57it/s]"
     ]
    },
    {
     "name": "stdout",
     "output_type": "stream",
     "text": [
      "(array([1, 2, 3]), array([ 7, 45, 26]))\n"
     ]
    },
    {
     "name": "stderr",
     "output_type": "stream",
     "text": [
      " 48%|████▊     | 1057/2187 [09:31<03:17,  5.73it/s]"
     ]
    },
    {
     "name": "stdout",
     "output_type": "stream",
     "text": [
      "(array([0, 1, 2, 3]), array([11, 30, 12,  8]))\n",
      "(array([1]), array([1]))\n",
      "(array([3]), array([1]))\n",
      "(array([2]), array([1]))\n",
      "(array([2, 3]), array([2, 3]))\n",
      "(array([1, 2]), array([1, 1]))\n",
      "(array([0, 1, 2, 3]), array([ 3, 93, 45, 20]))\n"
     ]
    },
    {
     "name": "stderr",
     "output_type": "stream",
     "text": [
      " 49%|████▊     | 1063/2187 [09:35<08:30,  2.20it/s]"
     ]
    },
    {
     "name": "stdout",
     "output_type": "stream",
     "text": [
      "(array([0, 1, 2, 3]), array([  2, 745,  96, 124]))\n",
      "(array([2]), array([2]))\n",
      "(array([2]), array([4]))\n",
      "(array([2]), array([1]))\n",
      "(array([1, 2]), array([8, 1]))\n"
     ]
    },
    {
     "name": "stderr",
     "output_type": "stream",
     "text": [
      "\r",
      " 49%|████▊     | 1066/2187 [09:35<06:39,  2.80it/s]"
     ]
    },
    {
     "name": "stdout",
     "output_type": "stream",
     "text": [
      "(array([0, 1, 2]), array([ 5, 54, 29]))\n",
      "(array([2]), array([2]))\n",
      "(array([0, 1, 2]), array([ 3, 11,  6]))\n"
     ]
    },
    {
     "name": "stderr",
     "output_type": "stream",
     "text": [
      "\r",
      " 49%|████▉     | 1068/2187 [09:35<05:15,  3.55it/s]"
     ]
    },
    {
     "name": "stdout",
     "output_type": "stream",
     "text": [
      "(array([0, 2]), array([10, 50]))\n",
      "(array([2]), array([1]))\n",
      "(array([2]), array([2]))\n",
      "(array([2]), array([2]))\n"
     ]
    },
    {
     "name": "stderr",
     "output_type": "stream",
     "text": [
      "\r",
      " 49%|████▉     | 1071/2187 [09:36<04:16,  4.35it/s]"
     ]
    },
    {
     "name": "stdout",
     "output_type": "stream",
     "text": [
      "(array([0, 1, 2]), array([ 9,  7, 76]))\n",
      "(array([2]), array([1]))\n",
      "(array([0, 1]), array([1, 3]))\n"
     ]
    },
    {
     "name": "stderr",
     "output_type": "stream",
     "text": [
      "\r",
      " 49%|████▉     | 1074/2187 [09:36<03:41,  5.02it/s]"
     ]
    },
    {
     "name": "stdout",
     "output_type": "stream",
     "text": [
      "(array([1, 2, 3]), array([ 2, 84, 21]))\n",
      "(array([2, 3]), array([5, 3]))\n"
     ]
    },
    {
     "name": "stderr",
     "output_type": "stream",
     "text": [
      "\r",
      " 49%|████▉     | 1076/2187 [09:45<26:32,  1.43s/it]"
     ]
    },
    {
     "name": "stdout",
     "output_type": "stream",
     "text": [
      "(array([0, 1, 2, 3]), array([1367,  707,  580,    1]))\n",
      "(array([2]), array([1]))\n",
      "(array([2, 3]), array([1, 3]))\n"
     ]
    },
    {
     "name": "stderr",
     "output_type": "stream",
     "text": [
      "\r",
      " 49%|████▉     | 1079/2187 [09:46<21:45,  1.18s/it]"
     ]
    },
    {
     "name": "stdout",
     "output_type": "stream",
     "text": [
      "(array([0, 1, 2, 3]), array([ 28,  15, 493,  62]))\n"
     ]
    },
    {
     "name": "stderr",
     "output_type": "stream",
     "text": [
      " 50%|████▉     | 1084/2187 [09:47<11:33,  1.59it/s]"
     ]
    },
    {
     "name": "stdout",
     "output_type": "stream",
     "text": [
      "(array([0, 1, 2, 3]), array([ 3, 58,  6,  6]))\n",
      "(array([3]), array([1]))\n",
      "(array([1, 2, 3]), array([3, 4, 1]))\n",
      "(array([1]), array([1]))\n",
      "(array([1, 2]), array([1, 5]))\n",
      "(array([2]), array([2]))\n",
      "(array([2]), array([1]))\n"
     ]
    },
    {
     "name": "stderr",
     "output_type": "stream",
     "text": [
      "\r",
      " 50%|████▉     | 1087/2187 [09:48<10:16,  1.78it/s]"
     ]
    },
    {
     "name": "stdout",
     "output_type": "stream",
     "text": [
      "(array([0, 1, 2, 3]), array([  1, 151, 147,  90]))\n"
     ]
    },
    {
     "name": "stderr",
     "output_type": "stream",
     "text": [
      "\r",
      " 50%|████▉     | 1089/2187 [09:48<08:03,  2.27it/s]"
     ]
    },
    {
     "name": "stdout",
     "output_type": "stream",
     "text": [
      "(array([0, 1, 2, 3]), array([27, 18, 30,  2]))\n",
      "(array([2]), array([3]))\n",
      "(array([1]), array([1]))\n",
      "(array([0, 1]), array([ 1, 17]))\n"
     ]
    },
    {
     "name": "stderr",
     "output_type": "stream",
     "text": [
      "\r",
      " 50%|████▉     | 1092/2187 [09:49<06:17,  2.90it/s]"
     ]
    },
    {
     "name": "stdout",
     "output_type": "stream",
     "text": [
      "(array([0, 2]), array([18, 67]))\n"
     ]
    },
    {
     "name": "stderr",
     "output_type": "stream",
     "text": [
      " 50%|█████     | 1097/2187 [09:49<05:14,  3.47it/s]"
     ]
    },
    {
     "name": "stdout",
     "output_type": "stream",
     "text": [
      "(array([0, 1, 2]), array([97, 71,  2]))\n",
      "(array([1, 2]), array([1, 3]))\n",
      "(array([3]), array([1]))\n",
      "(array([2]), array([1]))\n",
      "(array([1, 2, 3]), array([1, 3, 2]))\n",
      "(array([0, 2]), array([1, 3]))\n",
      "(array([2]), array([1]))\n"
     ]
    },
    {
     "name": "stderr",
     "output_type": "stream",
     "text": [
      "\r",
      " 50%|█████     | 1100/2187 [09:49<04:13,  4.29it/s]"
     ]
    },
    {
     "name": "stdout",
     "output_type": "stream",
     "text": [
      "(array([0, 1, 2]), array([ 2, 53, 19]))\n",
      "(array([1, 2, 3]), array([46, 12,  3]))\n"
     ]
    },
    {
     "name": "stderr",
     "output_type": "stream",
     "text": [
      " 51%|█████     | 1105/2187 [09:50<02:50,  6.36it/s]"
     ]
    },
    {
     "name": "stdout",
     "output_type": "stream",
     "text": [
      "(array([0, 2, 3]), array([10, 17,  1]))\n",
      "(array([1]), array([4]))\n",
      "(array([1, 2]), array([1, 1]))\n",
      "(array([1, 2, 3]), array([11,  1,  3]))\n",
      "(array([1]), array([2]))\n",
      "(array([1]), array([6]))\n"
     ]
    },
    {
     "name": "stderr",
     "output_type": "stream",
     "text": [
      "\r",
      " 51%|█████     | 1108/2187 [09:50<02:35,  6.95it/s]"
     ]
    },
    {
     "name": "stdout",
     "output_type": "stream",
     "text": [
      "(array([0, 1, 2, 3]), array([ 4, 43, 18,  4]))\n",
      "(array([1]), array([3]))\n",
      "(array([1, 2]), array([3, 5]))\n"
     ]
    },
    {
     "name": "stderr",
     "output_type": "stream",
     "text": [
      "\r",
      " 51%|█████     | 1111/2187 [09:51<02:21,  7.58it/s]"
     ]
    },
    {
     "name": "stdout",
     "output_type": "stream",
     "text": [
      "(array([0, 1, 2, 3]), array([ 3,  1, 43, 11]))\n",
      "(array([1]), array([3]))\n",
      "(array([3]), array([2]))\n",
      "(array([0]), array([1]))\n"
     ]
    },
    {
     "name": "stderr",
     "output_type": "stream",
     "text": [
      "\r",
      " 51%|█████     | 1115/2187 [09:59<13:03,  1.37it/s]"
     ]
    },
    {
     "name": "stdout",
     "output_type": "stream",
     "text": [
      "(array([0, 1, 2, 3]), array([1062,   93, 1387,    1]))\n",
      "(array([0, 2]), array([1, 3]))\n",
      "(array([3]), array([1]))\n"
     ]
    },
    {
     "name": "stderr",
     "output_type": "stream",
     "text": [
      "\r",
      " 51%|█████     | 1118/2187 [10:00<10:10,  1.75it/s]"
     ]
    },
    {
     "name": "stdout",
     "output_type": "stream",
     "text": [
      "(array([1, 2, 3]), array([16, 73, 85]))\n",
      "(array([0, 3]), array([1, 3]))\n",
      "(array([3]), array([4]))\n",
      "(array([3]), array([1]))\n"
     ]
    },
    {
     "name": "stderr",
     "output_type": "stream",
     "text": [
      " 52%|█████▏    | 1127/2187 [10:01<05:56,  2.97it/s]"
     ]
    },
    {
     "name": "stdout",
     "output_type": "stream",
     "text": [
      "(array([0, 1, 2, 3]), array([  1,  59, 200,  20]))\n",
      "(array([2]), array([6]))\n",
      "(array([1]), array([1]))\n",
      "(array([2]), array([1]))\n",
      "(array([2]), array([1]))\n",
      "(array([3]), array([1]))\n",
      "(array([2, 3]), array([3, 3]))\n",
      "(array([3]), array([1]))\n",
      "(array([2]), array([2]))\n"
     ]
    },
    {
     "name": "stderr",
     "output_type": "stream",
     "text": [
      " 52%|█████▏    | 1134/2187 [10:01<03:11,  5.51it/s]"
     ]
    },
    {
     "name": "stdout",
     "output_type": "stream",
     "text": [
      "(array([0, 1, 2]), array([1, 2, 8]))\n",
      "(array([0, 1]), array([1, 1]))\n",
      "(array([2]), array([17]))\n",
      "(array([1]), array([2]))\n",
      "(array([1]), array([1]))\n",
      "(array([2]), array([1]))\n",
      "(array([1]), array([1]))\n"
     ]
    },
    {
     "name": "stderr",
     "output_type": "stream",
     "text": [
      " 52%|█████▏    | 1142/2187 [10:01<01:50,  9.48it/s]"
     ]
    },
    {
     "name": "stdout",
     "output_type": "stream",
     "text": [
      "(array([1, 2, 3]), array([18,  2,  6]))\n",
      "(array([2]), array([3]))\n",
      "(array([1]), array([1]))\n",
      "(array([2, 3]), array([6, 1]))\n",
      "(array([2]), array([5]))\n",
      "(array([0, 1, 2]), array([ 2,  5, 10]))\n",
      "(array([1, 2]), array([1, 1]))\n"
     ]
    },
    {
     "name": "stderr",
     "output_type": "stream",
     "text": [
      " 52%|█████▏    | 1148/2187 [10:01<01:14, 13.98it/s]"
     ]
    },
    {
     "name": "stdout",
     "output_type": "stream",
     "text": [
      "(array([3]), array([1]))\n",
      "(array([0, 1, 2, 3]), array([2, 1, 4, 1]))\n",
      "(array([3]), array([5]))\n",
      "(array([3]), array([5]))\n",
      "(array([2]), array([1]))\n"
     ]
    },
    {
     "name": "stderr",
     "output_type": "stream",
     "text": [
      " 53%|█████▎    | 1155/2187 [10:03<02:53,  5.93it/s]"
     ]
    },
    {
     "name": "stdout",
     "output_type": "stream",
     "text": [
      "(array([0, 1, 2, 3]), array([  2, 477,  53,   6]))\n",
      "(array([1]), array([1]))\n",
      "(array([0, 1, 2]), array([1, 3, 2]))\n",
      "(array([1]), array([1]))\n",
      "(array([2]), array([3]))\n",
      "(array([1, 2, 3]), array([17,  1,  2]))\n",
      "(array([0, 2]), array([1, 4]))\n"
     ]
    },
    {
     "name": "stderr",
     "output_type": "stream",
     "text": [
      "\r",
      " 53%|█████▎    | 1158/2187 [10:05<04:22,  3.92it/s]"
     ]
    },
    {
     "name": "stdout",
     "output_type": "stream",
     "text": [
      "(array([0, 1, 2, 3]), array([ 37,  22, 342,   1]))\n",
      "(array([2, 3]), array([4, 7]))\n",
      "(array([2]), array([1]))\n",
      "(array([2, 3]), array([18,  1]))\n"
     ]
    },
    {
     "name": "stderr",
     "output_type": "stream",
     "text": [
      "\r",
      " 53%|█████▎    | 1161/2187 [10:05<03:34,  4.79it/s]"
     ]
    },
    {
     "name": "stdout",
     "output_type": "stream",
     "text": [
      "(array([0, 1, 2, 3]), array([ 1, 24, 40,  2]))\n",
      "(array([2]), array([1]))\n"
     ]
    },
    {
     "name": "stderr",
     "output_type": "stream",
     "text": [
      " 53%|█████▎    | 1167/2187 [10:05<02:16,  7.47it/s]"
     ]
    },
    {
     "name": "stdout",
     "output_type": "stream",
     "text": [
      "(array([1, 2]), array([44,  6]))\n",
      "(array([1]), array([1]))\n",
      "(array([2]), array([4]))\n",
      "(array([1]), array([2]))\n",
      "(array([0]), array([1]))\n",
      "(array([1]), array([2]))\n"
     ]
    },
    {
     "name": "stderr",
     "output_type": "stream",
     "text": [
      "\r",
      " 53%|█████▎    | 1169/2187 [10:06<03:33,  4.78it/s]"
     ]
    },
    {
     "name": "stdout",
     "output_type": "stream",
     "text": [
      "(array([0, 1, 2, 3]), array([17, 98, 66, 19]))\n",
      "(array([0, 2, 3]), array([ 2, 10,  1]))\n"
     ]
    },
    {
     "name": "stderr",
     "output_type": "stream",
     "text": [
      "\r",
      " 54%|█████▎    | 1171/2187 [10:07<04:57,  3.41it/s]"
     ]
    },
    {
     "name": "stdout",
     "output_type": "stream",
     "text": [
      "(array([0, 1, 2, 3]), array([ 21, 132,  78,  41]))\n",
      "(array([1, 2, 3]), array([ 2, 64,  1]))\n"
     ]
    },
    {
     "name": "stderr",
     "output_type": "stream",
     "text": [
      " 54%|█████▍    | 1176/2187 [10:09<05:32,  3.04it/s]"
     ]
    },
    {
     "name": "stdout",
     "output_type": "stream",
     "text": [
      "(array([1, 2, 3]), array([  1, 278, 243]))\n",
      "(array([0, 1, 2, 3]), array([ 4,  2, 10,  1]))\n",
      "(array([2]), array([4]))\n",
      "(array([1]), array([1]))\n"
     ]
    },
    {
     "name": "stderr",
     "output_type": "stream",
     "text": [
      "\r",
      " 54%|█████▍    | 1178/2187 [10:10<06:58,  2.41it/s]"
     ]
    },
    {
     "name": "stdout",
     "output_type": "stream",
     "text": [
      "(array([0, 1, 2, 3]), array([128, 136, 104,  25]))\n",
      "(array([0]), array([1]))\n",
      "(array([2]), array([1]))\n",
      "(array([2]), array([1]))\n",
      "(array([1, 2]), array([1, 1]))\n"
     ]
    },
    {
     "name": "stderr",
     "output_type": "stream",
     "text": [
      "\r",
      " 54%|█████▍    | 1182/2187 [10:10<05:12,  3.22it/s]"
     ]
    },
    {
     "name": "stdout",
     "output_type": "stream",
     "text": [
      "(array([0, 1, 2, 3]), array([16,  1, 42,  4]))\n",
      "(array([2]), array([2]))\n",
      "(array([0, 1]), array([5, 2]))\n"
     ]
    },
    {
     "name": "stderr",
     "output_type": "stream",
     "text": [
      "\r",
      " 54%|█████▍    | 1185/2187 [10:11<05:14,  3.19it/s]"
     ]
    },
    {
     "name": "stdout",
     "output_type": "stream",
     "text": [
      "(array([0, 1, 2]), array([ 33,   4, 255]))\n",
      "(array([2]), array([2]))\n",
      "(array([2]), array([2]))\n",
      "(array([2]), array([1]))\n"
     ]
    },
    {
     "name": "stderr",
     "output_type": "stream",
     "text": [
      " 55%|█████▍    | 1193/2187 [10:12<03:03,  5.42it/s]"
     ]
    },
    {
     "name": "stdout",
     "output_type": "stream",
     "text": [
      "(array([0, 1, 2]), array([53, 41,  2]))\n",
      "(array([1]), array([12]))\n",
      "(array([1, 2]), array([1, 1]))\n",
      "(array([2]), array([1]))\n",
      "(array([3]), array([1]))\n",
      "(array([2]), array([15]))\n",
      "(array([0, 1, 2]), array([1, 2, 2]))\n"
     ]
    },
    {
     "name": "stderr",
     "output_type": "stream",
     "text": [
      " 55%|█████▍    | 1198/2187 [10:12<02:06,  7.82it/s]"
     ]
    },
    {
     "name": "stdout",
     "output_type": "stream",
     "text": [
      "(array([0, 1, 2, 3]), array([20,  4,  6,  1]))\n",
      "(array([1, 2]), array([ 3, 21]))\n",
      "(array([0, 1, 2]), array([10, 11,  3]))\n"
     ]
    },
    {
     "name": "stderr",
     "output_type": "stream",
     "text": [
      " 55%|█████▌    | 1203/2187 [10:12<01:26, 11.41it/s]"
     ]
    },
    {
     "name": "stdout",
     "output_type": "stream",
     "text": [
      "(array([2]), array([12]))\n",
      "(array([2]), array([4]))\n",
      "(array([2]), array([3]))\n",
      "(array([2]), array([7]))\n",
      "(array([0, 1, 2]), array([ 2,  2, 22]))\n"
     ]
    },
    {
     "name": "stderr",
     "output_type": "stream",
     "text": [
      "\r",
      " 55%|█████▌    | 1206/2187 [10:13<01:18, 12.53it/s]"
     ]
    },
    {
     "name": "stdout",
     "output_type": "stream",
     "text": [
      "(array([0, 1]), array([1, 3]))\n",
      "(array([2]), array([1]))\n",
      "(array([2, 3]), array([41,  1]))\n"
     ]
    },
    {
     "name": "stderr",
     "output_type": "stream",
     "text": [
      "\r",
      " 55%|█████▌    | 1210/2187 [10:13<01:03, 15.47it/s]"
     ]
    },
    {
     "name": "stdout",
     "output_type": "stream",
     "text": [
      "(array([0, 2]), array([4, 9]))\n",
      "(array([1]), array([1]))\n",
      "(array([2]), array([1]))\n",
      "(array([2]), array([3]))\n",
      "(array([1, 2]), array([2, 2]))\n",
      "(array([0, 1, 2]), array([  3,   1, 157]))\n"
     ]
    },
    {
     "name": "stderr",
     "output_type": "stream",
     "text": [
      "\r",
      " 55%|█████▌    | 1213/2187 [10:27<23:32,  1.45s/it]"
     ]
    },
    {
     "name": "stdout",
     "output_type": "stream",
     "text": [
      "(array([0, 1, 2, 3]), array([ 307, 1084, 2486,  374]))\n"
     ]
    },
    {
     "name": "stderr",
     "output_type": "stream",
     "text": [
      "\r",
      " 56%|█████▌    | 1214/2187 [10:28<20:23,  1.26s/it]"
     ]
    },
    {
     "name": "stdout",
     "output_type": "stream",
     "text": [
      "(array([0, 1, 2, 3]), array([ 42,  99, 147,   6]))\n"
     ]
    },
    {
     "name": "stderr",
     "output_type": "stream",
     "text": [
      " 56%|█████▌    | 1217/2187 [10:28<11:41,  1.38it/s]"
     ]
    },
    {
     "name": "stdout",
     "output_type": "stream",
     "text": [
      "(array([0, 1, 2, 3]), array([33, 33, 46,  8]))\n",
      "(array([1]), array([2]))\n",
      "(array([0, 1, 2, 3]), array([17,  5, 28,  2]))\n",
      "(array([1]), array([1]))\n",
      "(array([0, 2, 3]), array([2, 9, 4]))\n"
     ]
    },
    {
     "name": "stderr",
     "output_type": "stream",
     "text": [
      " 56%|█████▌    | 1225/2187 [10:29<06:14,  2.57it/s]"
     ]
    },
    {
     "name": "stdout",
     "output_type": "stream",
     "text": [
      "(array([0, 1, 2, 3]), array([37, 26, 37,  1]))\n",
      "(array([2]), array([1]))\n",
      "(array([2]), array([1]))\n",
      "(array([1, 2]), array([2, 1]))\n",
      "(array([0, 1]), array([1, 4]))\n",
      "(array([3]), array([2]))\n",
      "(array([2]), array([1]))\n",
      "(array([2]), array([1]))\n",
      "(array([2]), array([1]))\n"
     ]
    },
    {
     "name": "stderr",
     "output_type": "stream",
     "text": [
      "\r",
      " 56%|█████▌    | 1230/2187 [10:29<04:26,  3.59it/s]"
     ]
    },
    {
     "name": "stdout",
     "output_type": "stream",
     "text": [
      "(array([2]), array([1]))\n",
      "(array([0, 2]), array([1, 1]))\n",
      "(array([2]), array([1]))\n"
     ]
    },
    {
     "name": "stderr",
     "output_type": "stream",
     "text": [
      "\r",
      " 56%|█████▋    | 1233/2187 [10:30<04:49,  3.29it/s]"
     ]
    },
    {
     "name": "stdout",
     "output_type": "stream",
     "text": [
      "(array([0, 1, 2, 3]), array([  7,  37, 263,  35]))\n",
      "(array([2, 3]), array([5, 2]))\n"
     ]
    },
    {
     "name": "stderr",
     "output_type": "stream",
     "text": [
      "\r",
      " 56%|█████▋    | 1235/2187 [10:30<04:50,  3.28it/s]"
     ]
    },
    {
     "name": "stdout",
     "output_type": "stream",
     "text": [
      "(array([0, 1, 2, 3]), array([ 16,   3, 119,  19]))\n",
      "(array([0]), array([1]))\n",
      "(array([1]), array([1]))\n"
     ]
    },
    {
     "name": "stderr",
     "output_type": "stream",
     "text": [
      "\r",
      " 57%|█████▋    | 1237/2187 [10:32<06:07,  2.59it/s]"
     ]
    },
    {
     "name": "stdout",
     "output_type": "stream",
     "text": [
      "(array([0, 1, 2, 3]), array([  2, 264,  25,  16]))\n",
      "(array([1, 2]), array([46,  3]))\n"
     ]
    },
    {
     "name": "stderr",
     "output_type": "stream",
     "text": [
      "\r",
      " 57%|█████▋    | 1239/2187 [10:32<04:59,  3.17it/s]"
     ]
    },
    {
     "name": "stdout",
     "output_type": "stream",
     "text": [
      "(array([0, 2]), array([ 6, 20]))\n",
      "(array([1]), array([1]))\n"
     ]
    },
    {
     "name": "stderr",
     "output_type": "stream",
     "text": [
      "\r",
      " 57%|█████▋    | 1241/2187 [10:32<04:21,  3.62it/s]"
     ]
    },
    {
     "name": "stdout",
     "output_type": "stream",
     "text": [
      "(array([0, 1, 2, 3]), array([14, 32, 38,  4]))\n",
      "(array([2]), array([4]))\n"
     ]
    },
    {
     "name": "stderr",
     "output_type": "stream",
     "text": [
      "\r",
      " 57%|█████▋    | 1243/2187 [10:33<04:44,  3.32it/s]"
     ]
    },
    {
     "name": "stdout",
     "output_type": "stream",
     "text": [
      "(array([0, 1, 2, 3]), array([28, 80, 72,  6]))\n"
     ]
    },
    {
     "name": "stderr",
     "output_type": "stream",
     "text": [
      "\r",
      " 57%|█████▋    | 1244/2187 [10:33<05:15,  2.99it/s]"
     ]
    },
    {
     "name": "stdout",
     "output_type": "stream",
     "text": [
      "(array([0, 1, 2, 3]), array([14, 17, 73,  5]))\n"
     ]
    },
    {
     "name": "stderr",
     "output_type": "stream",
     "text": [
      "\r",
      " 57%|█████▋    | 1245/2187 [10:34<05:03,  3.10it/s]"
     ]
    },
    {
     "name": "stdout",
     "output_type": "stream",
     "text": [
      "(array([1, 2, 3]), array([ 9, 35, 35]))\n"
     ]
    },
    {
     "name": "stderr",
     "output_type": "stream",
     "text": [
      "\r",
      " 57%|█████▋    | 1246/2187 [10:35<07:27,  2.10it/s]"
     ]
    },
    {
     "name": "stdout",
     "output_type": "stream",
     "text": [
      "(array([0, 1, 2, 3]), array([  6, 207,   7,   4]))\n",
      "(array([1]), array([1]))\n",
      "(array([2]), array([7]))\n"
     ]
    },
    {
     "name": "stderr",
     "output_type": "stream",
     "text": [
      "\r",
      " 57%|█████▋    | 1249/2187 [10:35<05:34,  2.80it/s]"
     ]
    },
    {
     "name": "stdout",
     "output_type": "stream",
     "text": [
      "(array([1, 2, 3]), array([26, 15,  3]))\n",
      "(array([3]), array([1]))\n"
     ]
    },
    {
     "name": "stderr",
     "output_type": "stream",
     "text": [
      " 57%|█████▋    | 1253/2187 [10:36<04:39,  3.34it/s]"
     ]
    },
    {
     "name": "stdout",
     "output_type": "stream",
     "text": [
      "(array([0, 1, 2, 3]), array([ 19,  69, 130,  49]))\n",
      "(array([2, 3]), array([7, 2]))\n",
      "(array([0, 2]), array([ 4, 10]))\n",
      "(array([2]), array([1]))\n"
     ]
    },
    {
     "name": "stderr",
     "output_type": "stream",
     "text": [
      " 57%|█████▋    | 1257/2187 [10:36<02:56,  5.27it/s]"
     ]
    },
    {
     "name": "stdout",
     "output_type": "stream",
     "text": [
      "(array([0, 2]), array([21, 39]))\n",
      "(array([0, 1, 2]), array([ 1,  1, 14]))\n",
      "(array([2]), array([1]))\n",
      "(array([1]), array([3]))\n",
      "(array([1]), array([1]))\n"
     ]
    },
    {
     "name": "stderr",
     "output_type": "stream",
     "text": [
      " 58%|█████▊    | 1263/2187 [10:37<01:44,  8.84it/s]"
     ]
    },
    {
     "name": "stdout",
     "output_type": "stream",
     "text": [
      "(array([1, 2, 3]), array([2, 2, 6]))\n",
      "(array([1]), array([6]))\n",
      "(array([2, 3]), array([3, 2]))\n",
      "(array([0, 2]), array([1, 4]))\n",
      "(array([1, 2]), array([1, 1]))\n",
      "(array([2]), array([6]))\n"
     ]
    },
    {
     "name": "stderr",
     "output_type": "stream",
     "text": [
      "\r",
      " 58%|█████▊    | 1266/2187 [10:37<01:24, 10.91it/s]"
     ]
    },
    {
     "name": "stdout",
     "output_type": "stream",
     "text": [
      "(array([1, 2]), array([3, 5]))\n",
      "(array([2]), array([1]))\n"
     ]
    },
    {
     "name": "stderr",
     "output_type": "stream",
     "text": [
      "\r",
      " 58%|█████▊    | 1269/2187 [10:38<02:44,  5.58it/s]"
     ]
    },
    {
     "name": "stdout",
     "output_type": "stream",
     "text": [
      "(array([0, 1, 2, 3]), array([ 71, 103, 114,  11]))\n",
      "(array([1]), array([1]))\n",
      "(array([0, 1]), array([1, 1]))\n",
      "(array([1, 2]), array([4, 1]))\n",
      "(array([2]), array([1]))\n"
     ]
    },
    {
     "name": "stderr",
     "output_type": "stream",
     "text": [
      " 58%|█████▊    | 1275/2187 [10:38<01:52,  8.08it/s]"
     ]
    },
    {
     "name": "stdout",
     "output_type": "stream",
     "text": [
      "(array([0, 1, 2]), array([15, 50,  8]))\n",
      "(array([0, 2]), array([ 2, 16]))\n",
      "(array([1]), array([1]))\n",
      "(array([1, 3]), array([3, 1]))\n"
     ]
    },
    {
     "name": "stderr",
     "output_type": "stream",
     "text": [
      " 58%|█████▊    | 1279/2187 [10:39<02:01,  7.47it/s]"
     ]
    },
    {
     "name": "stdout",
     "output_type": "stream",
     "text": [
      "(array([1, 2, 3]), array([114,  18,   3]))\n",
      "(array([0]), array([1]))\n",
      "(array([1, 2, 3]), array([16,  2,  1]))\n",
      "(array([0, 1, 2, 3]), array([ 2,  2, 64,  1]))\n"
     ]
    },
    {
     "name": "stderr",
     "output_type": "stream",
     "text": [
      " 59%|█████▉    | 1285/2187 [10:40<01:52,  7.99it/s]"
     ]
    },
    {
     "name": "stdout",
     "output_type": "stream",
     "text": [
      "(array([0, 1, 2, 3]), array([30,  7, 18,  1]))\n",
      "(array([2]), array([2]))\n",
      "(array([3]), array([1]))\n",
      "(array([2]), array([1]))\n",
      "(array([2]), array([4]))\n",
      "(array([2]), array([1]))\n",
      "(array([1, 2, 3]), array([1, 1, 1]))\n"
     ]
    },
    {
     "name": "stderr",
     "output_type": "stream",
     "text": [
      "\r",
      " 59%|█████▉    | 1289/2187 [10:40<01:26, 10.33it/s]"
     ]
    },
    {
     "name": "stdout",
     "output_type": "stream",
     "text": [
      "(array([1]), array([2]))\n",
      "(array([1, 2]), array([1, 1]))\n",
      "(array([0, 1, 2, 3]), array([ 2,  5, 29, 18]))\n"
     ]
    },
    {
     "name": "stderr",
     "output_type": "stream",
     "text": [
      "\r",
      " 59%|█████▉    | 1292/2187 [10:40<01:42,  8.77it/s]"
     ]
    },
    {
     "name": "stdout",
     "output_type": "stream",
     "text": [
      "(array([0, 1, 2]), array([ 1, 41, 11]))\n",
      "(array([1, 2]), array([4, 2]))\n",
      "(array([1]), array([2]))\n"
     ]
    },
    {
     "name": "stderr",
     "output_type": "stream",
     "text": [
      "\r",
      " 59%|█████▉    | 1294/2187 [10:46<14:14,  1.04it/s]"
     ]
    },
    {
     "name": "stdout",
     "output_type": "stream",
     "text": [
      "(array([0, 1, 2, 3]), array([   4,  285, 1176,   76]))\n"
     ]
    },
    {
     "name": "stderr",
     "output_type": "stream",
     "text": [
      "\r",
      " 59%|█████▉    | 1296/2187 [10:46<10:52,  1.37it/s]"
     ]
    },
    {
     "name": "stdout",
     "output_type": "stream",
     "text": [
      "(array([0, 1, 2, 3]), array([ 1, 13, 65,  7]))\n",
      "(array([2, 3]), array([19,  3]))\n"
     ]
    },
    {
     "name": "stderr",
     "output_type": "stream",
     "text": [
      "\r",
      " 59%|█████▉    | 1297/2187 [10:47<12:08,  1.22it/s]"
     ]
    },
    {
     "name": "stdout",
     "output_type": "stream",
     "text": [
      "(array([0, 2]), array([  4, 274]))\n"
     ]
    },
    {
     "name": "stderr",
     "output_type": "stream",
     "text": [
      " 59%|█████▉    | 1299/2187 [10:48<08:42,  1.70it/s]"
     ]
    },
    {
     "name": "stdout",
     "output_type": "stream",
     "text": [
      "(array([0, 1, 2, 3]), array([  5, 110,  62,  21]))\n",
      "(array([0, 1, 2, 3]), array([ 2,  1, 12, 11]))\n"
     ]
    },
    {
     "name": "stderr",
     "output_type": "stream",
     "text": [
      " 60%|█████▉    | 1303/2187 [10:49<04:49,  3.06it/s]"
     ]
    },
    {
     "name": "stdout",
     "output_type": "stream",
     "text": [
      "(array([0, 1, 2, 3]), array([ 2, 15, 14,  2]))\n",
      "(array([1, 2]), array([2, 2]))\n",
      "(array([1, 2]), array([3, 5]))\n",
      "(array([1, 2]), array([1, 2]))\n"
     ]
    },
    {
     "name": "stderr",
     "output_type": "stream",
     "text": [
      "\r",
      " 60%|█████▉    | 1305/2187 [10:50<07:01,  2.09it/s]"
     ]
    },
    {
     "name": "stdout",
     "output_type": "stream",
     "text": [
      "(array([0, 1, 2, 3]), array([ 24,  48, 357,   4]))\n",
      "(array([0, 1, 2]), array([ 3,  1, 13]))\n"
     ]
    },
    {
     "name": "stderr",
     "output_type": "stream",
     "text": [
      "\r",
      " 60%|█████▉    | 1306/2187 [10:54<21:16,  1.45s/it]"
     ]
    },
    {
     "name": "stdout",
     "output_type": "stream",
     "text": [
      "(array([0, 1, 2, 3]), array([ 21, 624, 347,  98]))\n",
      "(array([1]), array([1]))\n",
      "(array([2]), array([2]))\n",
      "(array([1, 3]), array([1, 1]))\n",
      "(array([1, 2]), array([2, 1]))\n"
     ]
    },
    {
     "name": "stderr",
     "output_type": "stream",
     "text": [
      "\r",
      " 60%|█████▉    | 1311/2187 [10:55<15:46,  1.08s/it]"
     ]
    },
    {
     "name": "stdout",
     "output_type": "stream",
     "text": [
      "(array([0, 1, 2, 3]), array([  5,  51, 258,  24]))\n"
     ]
    },
    {
     "name": "stderr",
     "output_type": "stream",
     "text": [
      " 60%|██████    | 1316/2187 [10:57<13:43,  1.06it/s]"
     ]
    },
    {
     "name": "stdout",
     "output_type": "stream",
     "text": [
      "(array([0, 1, 2, 3]), array([  2,   5, 299, 321]))\n",
      "(array([1]), array([1]))\n",
      "(array([2, 3]), array([5, 1]))\n",
      "(array([0]), array([1]))\n",
      "(array([1, 2, 3]), array([3, 3, 4]))\n",
      "(array([1, 2]), array([1, 2]))\n"
     ]
    },
    {
     "name": "stderr",
     "output_type": "stream",
     "text": [
      " 60%|██████    | 1321/2187 [10:59<09:06,  1.58it/s]"
     ]
    },
    {
     "name": "stdout",
     "output_type": "stream",
     "text": [
      "(array([0, 1, 2, 3]), array([  7, 281, 162,  36]))\n",
      "(array([0, 1]), array([1, 1]))\n",
      "(array([2]), array([15]))\n",
      "(array([1, 2]), array([4, 3]))\n",
      "(array([2]), array([2]))\n",
      "(array([2]), array([5]))\n",
      "(array([1, 2]), array([2, 1]))\n"
     ]
    },
    {
     "name": "stderr",
     "output_type": "stream",
     "text": [
      "\r",
      " 61%|██████    | 1325/2187 [10:59<06:27,  2.22it/s]"
     ]
    },
    {
     "name": "stdout",
     "output_type": "stream",
     "text": [
      "(array([2, 3]), array([2, 1]))\n"
     ]
    },
    {
     "name": "stderr",
     "output_type": "stream",
     "text": [
      " 61%|██████    | 1331/2187 [11:00<04:48,  2.97it/s]"
     ]
    },
    {
     "name": "stdout",
     "output_type": "stream",
     "text": [
      "(array([0, 1, 2, 3]), array([  4,  12, 423,  77]))\n",
      "(array([2]), array([1]))\n",
      "(array([0, 1]), array([1, 3]))\n",
      "(array([0, 1, 2, 3]), array([3, 3, 8, 1]))\n",
      "(array([3]), array([1]))\n",
      "(array([0, 1, 2]), array([1, 8, 8]))\n",
      "(array([2]), array([1]))\n"
     ]
    },
    {
     "name": "stderr",
     "output_type": "stream",
     "text": [
      "\r",
      " 61%|██████    | 1333/2187 [11:01<04:07,  3.46it/s]"
     ]
    },
    {
     "name": "stdout",
     "output_type": "stream",
     "text": [
      "(array([0, 1, 2, 3]), array([20, 13, 66, 11]))\n",
      "(array([1]), array([2]))\n"
     ]
    },
    {
     "name": "stderr",
     "output_type": "stream",
     "text": [
      "\r",
      " 61%|██████    | 1335/2187 [11:01<04:21,  3.26it/s]"
     ]
    },
    {
     "name": "stdout",
     "output_type": "stream",
     "text": [
      "(array([0, 1, 2, 3]), array([79, 50, 66, 27]))\n",
      "(array([2]), array([8]))\n"
     ]
    },
    {
     "name": "stderr",
     "output_type": "stream",
     "text": [
      "\r",
      " 61%|██████    | 1337/2187 [11:02<03:35,  3.95it/s]"
     ]
    },
    {
     "name": "stdout",
     "output_type": "stream",
     "text": [
      "(array([0, 1, 2, 3]), array([15, 10, 44,  2]))\n",
      "(array([3]), array([1]))\n",
      "(array([1]), array([1]))\n",
      "(array([2]), array([1]))\n"
     ]
    },
    {
     "name": "stderr",
     "output_type": "stream",
     "text": [
      "\r",
      " 61%|██████▏   | 1341/2187 [11:02<02:46,  5.08it/s]"
     ]
    },
    {
     "name": "stdout",
     "output_type": "stream",
     "text": [
      "(array([0, 1, 2, 3]), array([ 9,  5, 50,  1]))\n",
      "(array([2]), array([1]))\n"
     ]
    },
    {
     "name": "stderr",
     "output_type": "stream",
     "text": [
      "\r",
      " 61%|██████▏   | 1343/2187 [11:02<02:58,  4.73it/s]"
     ]
    },
    {
     "name": "stdout",
     "output_type": "stream",
     "text": [
      "(array([0, 1, 2, 3]), array([  1,   1, 140,  11]))\n",
      "(array([1, 2]), array([ 1, 20]))\n"
     ]
    },
    {
     "name": "stderr",
     "output_type": "stream",
     "text": [
      " 62%|██████▏   | 1346/2187 [11:05<05:05,  2.76it/s]"
     ]
    },
    {
     "name": "stdout",
     "output_type": "stream",
     "text": [
      "(array([1, 2, 3]), array([ 40, 443,  91]))\n",
      "(array([1, 2]), array([ 1, 26]))\n",
      "(array([3]), array([1]))\n",
      "(array([0, 2]), array([2, 1]))\n"
     ]
    },
    {
     "name": "stderr",
     "output_type": "stream",
     "text": [
      " 62%|██████▏   | 1351/2187 [11:05<03:26,  4.04it/s]"
     ]
    },
    {
     "name": "stdout",
     "output_type": "stream",
     "text": [
      "(array([0, 1, 2]), array([  7, 118,  11]))\n",
      "(array([1]), array([1]))\n",
      "(array([0, 1, 2, 3]), array([20,  5, 14,  1]))\n",
      "(array([1]), array([6]))\n"
     ]
    },
    {
     "name": "stderr",
     "output_type": "stream",
     "text": [
      "\r",
      " 62%|██████▏   | 1353/2187 [11:06<03:21,  4.14it/s]"
     ]
    },
    {
     "name": "stdout",
     "output_type": "stream",
     "text": [
      "(array([0, 1, 2, 3]), array([ 6,  5, 99,  1]))\n"
     ]
    },
    {
     "name": "stderr",
     "output_type": "stream",
     "text": [
      "\r",
      " 62%|██████▏   | 1354/2187 [11:07<06:02,  2.30it/s]"
     ]
    },
    {
     "name": "stdout",
     "output_type": "stream",
     "text": [
      "(array([1, 2]), array([237,   1]))\n"
     ]
    },
    {
     "name": "stderr",
     "output_type": "stream",
     "text": [
      "\r",
      " 62%|██████▏   | 1355/2187 [11:07<05:24,  2.57it/s]"
     ]
    },
    {
     "name": "stdout",
     "output_type": "stream",
     "text": [
      "(array([1, 2, 3]), array([58, 12,  1]))\n"
     ]
    },
    {
     "name": "stderr",
     "output_type": "stream",
     "text": [
      "\r",
      " 62%|██████▏   | 1356/2187 [11:07<04:37,  3.00it/s]"
     ]
    },
    {
     "name": "stdout",
     "output_type": "stream",
     "text": [
      "(array([1, 2]), array([ 1, 52]))\n",
      "(array([2]), array([1]))\n"
     ]
    },
    {
     "name": "stderr",
     "output_type": "stream",
     "text": [
      "\r",
      " 62%|██████▏   | 1358/2187 [11:08<04:18,  3.21it/s]"
     ]
    },
    {
     "name": "stdout",
     "output_type": "stream",
     "text": [
      "(array([1, 2, 3]), array([  4, 121,   7]))\n"
     ]
    },
    {
     "name": "stderr",
     "output_type": "stream",
     "text": [
      " 62%|██████▏   | 1363/2187 [11:09<04:46,  2.87it/s]"
     ]
    },
    {
     "name": "stdout",
     "output_type": "stream",
     "text": [
      "(array([0, 1, 2, 3]), array([ 17,   5, 203,  35]))\n",
      "(array([1]), array([2]))\n",
      "(array([2]), array([3]))\n",
      "(array([0]), array([1]))\n",
      "(array([3]), array([1]))\n",
      "(array([2]), array([2]))\n",
      "(array([0, 2]), array([2, 6]))\n"
     ]
    },
    {
     "name": "stderr",
     "output_type": "stream",
     "text": [
      " 63%|██████▎   | 1369/2187 [11:09<02:40,  5.10it/s]"
     ]
    },
    {
     "name": "stdout",
     "output_type": "stream",
     "text": [
      "(array([0, 2]), array([2, 8]))\n",
      "(array([2]), array([1]))\n",
      "(array([1, 2]), array([1, 1]))\n",
      "(array([1, 2]), array([ 1, 23]))\n",
      "(array([3]), array([1]))\n",
      "(array([2]), array([1]))\n"
     ]
    },
    {
     "name": "stderr",
     "output_type": "stream",
     "text": [
      "\r",
      " 63%|██████▎   | 1372/2187 [11:13<07:24,  1.83it/s]"
     ]
    },
    {
     "name": "stdout",
     "output_type": "stream",
     "text": [
      "(array([0, 1, 2, 3]), array([ 119,   67, 1190,   34]))\n"
     ]
    },
    {
     "name": "stderr",
     "output_type": "stream",
     "text": [
      "\r",
      " 63%|██████▎   | 1374/2187 [11:14<06:19,  2.14it/s]"
     ]
    },
    {
     "name": "stdout",
     "output_type": "stream",
     "text": [
      "(array([0, 1, 2, 3]), array([  2, 115,  44,  10]))\n",
      "(array([3]), array([3]))\n",
      "(array([2]), array([3]))\n",
      "(array([0]), array([1]))\n",
      "(array([2]), array([5]))\n"
     ]
    },
    {
     "name": "stderr",
     "output_type": "stream",
     "text": [
      "\r",
      " 63%|██████▎   | 1378/2187 [11:14<04:37,  2.92it/s]"
     ]
    },
    {
     "name": "stdout",
     "output_type": "stream",
     "text": [
      "(array([0, 1, 2, 3]), array([ 5, 28,  6,  2]))\n",
      "(array([1]), array([1]))\n"
     ]
    },
    {
     "name": "stderr",
     "output_type": "stream",
     "text": [
      "\r",
      " 63%|██████▎   | 1380/2187 [11:17<10:00,  1.34it/s]"
     ]
    },
    {
     "name": "stdout",
     "output_type": "stream",
     "text": [
      "(array([0, 1, 2, 3]), array([  9,  52, 886, 127]))\n",
      "(array([2]), array([1]))\n"
     ]
    },
    {
     "name": "stderr",
     "output_type": "stream",
     "text": [
      " 63%|██████▎   | 1387/2187 [11:18<05:19,  2.50it/s]"
     ]
    },
    {
     "name": "stdout",
     "output_type": "stream",
     "text": [
      "(array([0, 1, 2, 3]), array([ 8, 10, 44, 18]))\n",
      "(array([1]), array([1]))\n",
      "(array([0, 1, 2]), array([1, 1, 1]))\n",
      "(array([1]), array([1]))\n",
      "(array([2]), array([1]))\n",
      "(array([1]), array([1]))\n",
      "(array([0, 1, 2, 3]), array([1, 2, 1, 1]))\n",
      "(array([1]), array([2]))\n",
      "(array([1]), array([1]))\n",
      "(array([0]), array([1]))\n"
     ]
    },
    {
     "name": "stderr",
     "output_type": "stream",
     "text": [
      " 64%|██████▎   | 1394/2187 [11:20<03:58,  3.33it/s]"
     ]
    },
    {
     "name": "stdout",
     "output_type": "stream",
     "text": [
      "(array([0, 1, 2, 3]), array([ 36, 590,   9,   1]))\n",
      "(array([1]), array([1]))\n",
      "(array([1, 2]), array([27,  3]))\n",
      "(array([1, 2]), array([1, 1]))\n",
      "(array([1]), array([1]))\n",
      "(array([1]), array([2]))\n"
     ]
    },
    {
     "name": "stderr",
     "output_type": "stream",
     "text": [
      "\r",
      " 64%|██████▍   | 1399/2187 [11:20<02:51,  4.61it/s]"
     ]
    },
    {
     "name": "stdout",
     "output_type": "stream",
     "text": [
      "(array([0]), array([1]))\n",
      "(array([1]), array([1]))\n",
      "(array([0, 1, 2, 3]), array([ 2,  9, 10,  3]))\n"
     ]
    },
    {
     "name": "stderr",
     "output_type": "stream",
     "text": [
      "\r",
      " 64%|██████▍   | 1402/2187 [11:21<02:58,  4.40it/s]"
     ]
    },
    {
     "name": "stdout",
     "output_type": "stream",
     "text": [
      "(array([0, 1, 2]), array([ 20,   2, 177]))\n",
      "(array([2]), array([11]))\n",
      "(array([0, 2]), array([ 1, 17]))\n",
      "(array([0]), array([1]))\n"
     ]
    },
    {
     "name": "stderr",
     "output_type": "stream",
     "text": [
      "\r",
      " 64%|██████▍   | 1405/2187 [11:21<02:21,  5.55it/s]"
     ]
    },
    {
     "name": "stdout",
     "output_type": "stream",
     "text": [
      "(array([1, 2, 3]), array([25, 15,  1]))\n",
      "(array([1]), array([2]))\n"
     ]
    },
    {
     "name": "stderr",
     "output_type": "stream",
     "text": [
      " 65%|██████▍   | 1411/2187 [11:21<01:39,  7.83it/s]"
     ]
    },
    {
     "name": "stdout",
     "output_type": "stream",
     "text": [
      "(array([0, 2]), array([ 8, 82]))\n",
      "(array([0]), array([3]))\n",
      "(array([1]), array([5]))\n",
      "(array([2]), array([1]))\n",
      "(array([1]), array([2]))\n",
      "(array([1]), array([4]))\n",
      "(array([1, 2]), array([1, 1]))\n",
      "(array([1]), array([1]))\n"
     ]
    },
    {
     "name": "stderr",
     "output_type": "stream",
     "text": [
      "\r",
      " 65%|██████▍   | 1415/2187 [11:21<01:15, 10.18it/s]"
     ]
    },
    {
     "name": "stdout",
     "output_type": "stream",
     "text": [
      "(array([1, 2]), array([2, 1]))\n",
      "(array([1, 2]), array([7, 1]))\n"
     ]
    },
    {
     "name": "stderr",
     "output_type": "stream",
     "text": [
      "\r",
      " 65%|██████▍   | 1418/2187 [11:22<01:41,  7.57it/s]"
     ]
    },
    {
     "name": "stdout",
     "output_type": "stream",
     "text": [
      "(array([0, 1, 2, 3]), array([ 14,  30, 139,   1]))\n",
      "(array([1, 3]), array([9, 1]))\n",
      "(array([2]), array([1]))\n"
     ]
    },
    {
     "name": "stderr",
     "output_type": "stream",
     "text": [
      "\r",
      " 65%|██████▍   | 1420/2187 [11:23<01:59,  6.40it/s]"
     ]
    },
    {
     "name": "stdout",
     "output_type": "stream",
     "text": [
      "(array([0, 1, 2, 3]), array([14, 25, 89,  5]))\n"
     ]
    },
    {
     "name": "stderr",
     "output_type": "stream",
     "text": [
      " 65%|██████▌   | 1424/2187 [11:24<03:31,  3.60it/s]"
     ]
    },
    {
     "name": "stdout",
     "output_type": "stream",
     "text": [
      "(array([1, 2, 3]), array([398, 111,  29]))\n",
      "(array([0, 1, 2]), array([4, 1, 1]))\n",
      "(array([0, 2]), array([ 5, 31]))\n",
      "(array([1, 2]), array([1, 5]))\n"
     ]
    },
    {
     "name": "stderr",
     "output_type": "stream",
     "text": [
      "\r",
      " 65%|██████▌   | 1427/2187 [11:25<02:42,  4.68it/s]"
     ]
    },
    {
     "name": "stdout",
     "output_type": "stream",
     "text": [
      "(array([1]), array([1]))\n",
      "(array([2]), array([10]))\n",
      "(array([0, 1, 2]), array([ 1,  1, 38]))\n",
      "(array([1]), array([3]))\n",
      "(array([1, 2]), array([2, 3]))\n"
     ]
    },
    {
     "name": "stderr",
     "output_type": "stream",
     "text": [
      " 66%|██████▌   | 1434/2187 [11:25<01:40,  7.48it/s]"
     ]
    },
    {
     "name": "stdout",
     "output_type": "stream",
     "text": [
      "(array([1, 2]), array([ 1, 73]))\n",
      "(array([1]), array([5]))\n",
      "(array([1]), array([1]))\n",
      "(array([2]), array([12]))\n",
      "(array([3]), array([1]))\n",
      "(array([1]), array([3]))\n",
      "(array([0]), array([1]))\n"
     ]
    },
    {
     "name": "stderr",
     "output_type": "stream",
     "text": [
      " 66%|██████▌   | 1439/2187 [11:30<04:57,  2.51it/s]"
     ]
    },
    {
     "name": "stdout",
     "output_type": "stream",
     "text": [
      "(array([0, 1, 2, 3]), array([215, 860, 196, 121]))\n",
      "(array([1, 2]), array([1, 1]))\n",
      "(array([0, 2]), array([ 1, 40]))\n",
      "(array([2]), array([4]))\n"
     ]
    },
    {
     "name": "stderr",
     "output_type": "stream",
     "text": [
      " 66%|██████▌   | 1444/2187 [11:30<02:47,  4.45it/s]"
     ]
    },
    {
     "name": "stdout",
     "output_type": "stream",
     "text": [
      "(array([0, 1, 2, 3]), array([ 1, 15,  1,  1]))\n",
      "(array([1]), array([1]))\n",
      "(array([1, 2, 3]), array([31, 11,  2]))\n",
      "(array([1]), array([1]))\n"
     ]
    },
    {
     "name": "stderr",
     "output_type": "stream",
     "text": [
      " 66%|██████▋   | 1449/2187 [11:30<01:45,  7.03it/s]"
     ]
    },
    {
     "name": "stdout",
     "output_type": "stream",
     "text": [
      "(array([0, 1, 2]), array([ 4,  5, 40]))\n",
      "(array([2]), array([1]))\n",
      "(array([1]), array([1]))\n",
      "(array([2]), array([1]))\n",
      "(array([2, 3]), array([25,  1]))\n"
     ]
    },
    {
     "name": "stderr",
     "output_type": "stream",
     "text": [
      " 66%|██████▋   | 1453/2187 [11:30<01:12, 10.12it/s]"
     ]
    },
    {
     "name": "stdout",
     "output_type": "stream",
     "text": [
      "(array([0, 1, 2]), array([ 2, 12,  2]))\n",
      "(array([0, 2]), array([1, 1]))\n",
      "(array([0, 2, 3]), array([ 1, 17,  1]))\n",
      "(array([1, 2]), array([1, 4]))\n",
      "(array([2]), array([1]))\n",
      "(array([3]), array([1]))\n"
     ]
    },
    {
     "name": "stderr",
     "output_type": "stream",
     "text": [
      "\r",
      " 67%|██████▋   | 1456/2187 [11:35<06:08,  1.98it/s]"
     ]
    },
    {
     "name": "stdout",
     "output_type": "stream",
     "text": [
      "(array([0, 1, 2, 3]), array([256,  48, 994,   5]))\n",
      "(array([0, 2]), array([5, 3]))\n",
      "(array([1]), array([3]))\n"
     ]
    },
    {
     "name": "stderr",
     "output_type": "stream",
     "text": [
      "\r",
      " 67%|██████▋   | 1459/2187 [11:35<04:33,  2.66it/s]"
     ]
    },
    {
     "name": "stdout",
     "output_type": "stream",
     "text": [
      "(array([0, 1, 2]), array([ 4,  2, 43]))\n",
      "(array([2]), array([1]))\n",
      "(array([2]), array([1]))\n",
      "(array([1]), array([1]))\n",
      "(array([2]), array([2]))\n"
     ]
    },
    {
     "name": "stderr",
     "output_type": "stream",
     "text": [
      " 67%|██████▋   | 1468/2187 [11:35<02:27,  4.86it/s]"
     ]
    },
    {
     "name": "stdout",
     "output_type": "stream",
     "text": [
      "(array([0, 1, 2, 3]), array([ 3, 32, 35,  1]))\n",
      "(array([1, 2, 3]), array([5, 3, 1]))\n",
      "(array([1]), array([1]))\n",
      "(array([0, 2]), array([1, 2]))\n",
      "(array([3]), array([1]))\n",
      "(array([2]), array([2]))\n"
     ]
    },
    {
     "name": "stderr",
     "output_type": "stream",
     "text": [
      " 67%|██████▋   | 1472/2187 [11:53<22:56,  1.93s/it]"
     ]
    },
    {
     "name": "stdout",
     "output_type": "stream",
     "text": [
      "(array([0, 1, 2, 3]), array([  53, 2624, 1670,  819]))\n",
      "(array([1, 2]), array([12,  8]))\n",
      "(array([1, 2]), array([4, 1]))\n",
      "(array([0, 2, 3]), array([ 1, 21,  2]))\n"
     ]
    },
    {
     "name": "stderr",
     "output_type": "stream",
     "text": [
      " 68%|██████▊   | 1477/2187 [11:56<14:59,  1.27s/it]"
     ]
    },
    {
     "name": "stdout",
     "output_type": "stream",
     "text": [
      "(array([0, 2, 3]), array([ 17, 794,  72]))\n",
      "(array([1, 2]), array([3, 1]))\n",
      "(array([0]), array([3]))\n",
      "(array([3]), array([2]))\n",
      "(array([1, 2]), array([1, 2]))\n",
      "(array([3]), array([1]))\n",
      "(array([2]), array([4]))\n"
     ]
    },
    {
     "name": "stderr",
     "output_type": "stream",
     "text": [
      " 68%|██████▊   | 1484/2187 [11:56<07:31,  1.56it/s]"
     ]
    },
    {
     "name": "stdout",
     "output_type": "stream",
     "text": [
      "(array([1, 2, 3]), array([11, 12,  1]))\n",
      "(array([1]), array([2]))\n",
      "(array([2]), array([5]))\n",
      "(array([0]), array([7]))\n",
      "(array([1, 2]), array([1, 2]))\n",
      "(array([2]), array([1]))\n",
      "(array([3]), array([1]))\n"
     ]
    },
    {
     "name": "stderr",
     "output_type": "stream",
     "text": [
      "\r",
      " 68%|██████▊   | 1488/2187 [11:57<05:40,  2.05it/s]"
     ]
    },
    {
     "name": "stdout",
     "output_type": "stream",
     "text": [
      "(array([0, 1, 2, 3]), array([17, 60, 34,  1]))\n",
      "(array([2]), array([1]))\n"
     ]
    },
    {
     "name": "stderr",
     "output_type": "stream",
     "text": [
      " 68%|██████▊   | 1493/2187 [11:57<03:25,  3.38it/s]"
     ]
    },
    {
     "name": "stdout",
     "output_type": "stream",
     "text": [
      "(array([0, 1, 2, 3]), array([31,  3, 98,  2]))\n",
      "(array([2, 3]), array([ 5, 12]))\n",
      "(array([3]), array([2]))\n",
      "(array([0, 1, 2]), array([1, 1, 1]))\n",
      "(array([0, 1, 2]), array([1, 1, 3]))\n",
      "(array([2]), array([2]))\n",
      "(array([1]), array([1]))\n"
     ]
    },
    {
     "name": "stderr",
     "output_type": "stream",
     "text": [
      "\r",
      " 68%|██████▊   | 1498/2187 [11:57<02:28,  4.64it/s]"
     ]
    },
    {
     "name": "stdout",
     "output_type": "stream",
     "text": [
      "(array([3]), array([1]))\n",
      "(array([0, 2]), array([2, 7]))\n",
      "(array([2]), array([2]))\n",
      "(array([0, 1, 3]), array([17, 12,  1]))\n"
     ]
    },
    {
     "name": "stderr",
     "output_type": "stream",
     "text": [
      "\r",
      " 69%|██████▊   | 1501/2187 [11:57<01:55,  5.95it/s]"
     ]
    },
    {
     "name": "stdout",
     "output_type": "stream",
     "text": [
      "(array([0, 2]), array([1, 9]))\n",
      "(array([0, 2]), array([1, 1]))\n"
     ]
    },
    {
     "name": "stderr",
     "output_type": "stream",
     "text": [
      " 69%|██████▉   | 1506/2187 [12:01<03:31,  3.21it/s]"
     ]
    },
    {
     "name": "stdout",
     "output_type": "stream",
     "text": [
      "(array([0, 1, 2, 3]), array([  2, 175, 362, 396]))\n",
      "(array([1]), array([1]))\n",
      "(array([0, 2]), array([ 1, 12]))\n",
      "(array([1, 2, 3]), array([ 1, 15,  1]))\n",
      "(array([2]), array([2]))\n"
     ]
    },
    {
     "name": "stderr",
     "output_type": "stream",
     "text": [
      "\r",
      " 69%|██████▉   | 1509/2187 [12:01<02:34,  4.38it/s]"
     ]
    },
    {
     "name": "stdout",
     "output_type": "stream",
     "text": [
      "(array([2]), array([7]))\n",
      "(array([2]), array([1]))\n"
     ]
    },
    {
     "name": "stderr",
     "output_type": "stream",
     "text": [
      "\r",
      " 69%|██████▉   | 1511/2187 [12:01<02:39,  4.24it/s]"
     ]
    },
    {
     "name": "stdout",
     "output_type": "stream",
     "text": [
      "(array([0, 1, 2, 3]), array([31, 40, 53,  7]))\n",
      "(array([0, 2]), array([3, 4]))\n",
      "(array([2, 3]), array([1, 1]))\n"
     ]
    },
    {
     "name": "stderr",
     "output_type": "stream",
     "text": [
      " 69%|██████▉   | 1518/2187 [12:01<01:34,  7.04it/s]"
     ]
    },
    {
     "name": "stdout",
     "output_type": "stream",
     "text": [
      "(array([0, 1, 2]), array([ 4, 24, 23]))\n",
      "(array([2]), array([5]))\n",
      "(array([1]), array([2]))\n",
      "(array([2]), array([1]))\n",
      "(array([1]), array([1]))\n",
      "(array([0, 2]), array([1, 2]))\n"
     ]
    },
    {
     "name": "stderr",
     "output_type": "stream",
     "text": [
      "\r",
      " 70%|██████▉   | 1521/2187 [12:02<01:26,  7.70it/s]"
     ]
    },
    {
     "name": "stdout",
     "output_type": "stream",
     "text": [
      "(array([0, 1, 2, 3]), array([14,  3, 39,  1]))\n",
      "(array([0, 2]), array([4, 1]))\n",
      "(array([1, 2, 3]), array([ 4, 25,  1]))\n"
     ]
    },
    {
     "name": "stderr",
     "output_type": "stream",
     "text": [
      "\r",
      " 70%|██████▉   | 1523/2187 [12:08<10:49,  1.02it/s]"
     ]
    },
    {
     "name": "stdout",
     "output_type": "stream",
     "text": [
      "(array([0, 1, 2, 3]), array([  22,   15, 1507,  341]))\n",
      "(array([1]), array([5]))\n",
      "(array([1, 2]), array([1, 9]))\n",
      "(array([2]), array([1]))\n"
     ]
    },
    {
     "name": "stderr",
     "output_type": "stream",
     "text": [
      "\r",
      " 70%|██████▉   | 1526/2187 [12:09<08:34,  1.28it/s]"
     ]
    },
    {
     "name": "stdout",
     "output_type": "stream",
     "text": [
      "(array([0, 1, 2]), array([184,  29,  68]))\n",
      "(array([1, 2]), array([2, 2]))\n",
      "(array([3]), array([1]))\n",
      "(array([2]), array([2]))\n",
      "(array([2]), array([4]))\n"
     ]
    },
    {
     "name": "stderr",
     "output_type": "stream",
     "text": [
      "\r",
      " 70%|███████   | 1531/2187 [12:09<06:22,  1.71it/s]"
     ]
    },
    {
     "name": "stdout",
     "output_type": "stream",
     "text": [
      "(array([0, 1, 2, 3]), array([  9,  26, 120,  23]))\n",
      "(array([1, 2]), array([8, 2]))\n",
      "(array([1]), array([2]))\n"
     ]
    },
    {
     "name": "stderr",
     "output_type": "stream",
     "text": [
      "\r",
      " 70%|███████   | 1534/2187 [12:10<04:57,  2.20it/s]"
     ]
    },
    {
     "name": "stdout",
     "output_type": "stream",
     "text": [
      "(array([0, 1, 2, 3]), array([ 17,   3, 108,   1]))\n",
      "(array([1]), array([1]))\n",
      "(array([2]), array([1]))\n",
      "(array([0]), array([1]))\n"
     ]
    },
    {
     "name": "stderr",
     "output_type": "stream",
     "text": [
      " 70%|███████   | 1541/2187 [12:10<02:38,  4.08it/s]"
     ]
    },
    {
     "name": "stdout",
     "output_type": "stream",
     "text": [
      "(array([0, 1]), array([ 1, 44]))\n",
      "(array([0, 2]), array([ 1, 12]))\n",
      "(array([2]), array([8]))\n",
      "(array([1, 2]), array([1, 1]))\n",
      "(array([1]), array([1]))\n",
      "(array([3]), array([2]))\n"
     ]
    },
    {
     "name": "stderr",
     "output_type": "stream",
     "text": [
      "\r",
      " 71%|███████   | 1544/2187 [12:11<03:21,  3.20it/s]"
     ]
    },
    {
     "name": "stdout",
     "output_type": "stream",
     "text": [
      "(array([0, 1, 2, 3]), array([ 12,  11, 423,   1]))\n",
      "(array([1]), array([1]))\n",
      "(array([0]), array([1]))\n",
      "(array([0, 2]), array([1, 1]))\n"
     ]
    },
    {
     "name": "stderr",
     "output_type": "stream",
     "text": [
      " 71%|███████   | 1552/2187 [12:17<04:43,  2.24it/s]"
     ]
    },
    {
     "name": "stdout",
     "output_type": "stream",
     "text": [
      "(array([0, 1, 2, 3]), array([ 11, 516, 831, 339]))\n",
      "(array([3]), array([2]))\n",
      "(array([1, 2, 3]), array([4, 1, 1]))\n",
      "(array([1, 2, 3]), array([3, 1, 2]))\n",
      "(array([0, 1, 2, 3]), array([ 2, 15,  3,  2]))\n",
      "(array([0, 2]), array([1, 1]))\n",
      "(array([2, 3]), array([11,  4]))\n",
      "(array([2]), array([1]))\n"
     ]
    },
    {
     "name": "stderr",
     "output_type": "stream",
     "text": [
      "\r",
      " 71%|███████   | 1556/2187 [12:18<04:04,  2.59it/s]"
     ]
    },
    {
     "name": "stdout",
     "output_type": "stream",
     "text": [
      "(array([0, 1, 2, 3]), array([  3,  61, 204,  29]))\n",
      "(array([2]), array([1]))\n",
      "(array([2]), array([1]))\n",
      "(array([2]), array([2]))\n",
      "(array([2]), array([1]))\n"
     ]
    },
    {
     "name": "stderr",
     "output_type": "stream",
     "text": [
      "\r",
      " 71%|███████▏  | 1561/2187 [12:18<02:58,  3.51it/s]"
     ]
    },
    {
     "name": "stdout",
     "output_type": "stream",
     "text": [
      "(array([1, 2]), array([41,  4]))\n",
      "(array([2]), array([1]))\n",
      "(array([0, 1, 2, 3]), array([4, 5, 9, 1]))\n"
     ]
    },
    {
     "name": "stderr",
     "output_type": "stream",
     "text": [
      " 72%|███████▏  | 1566/2187 [12:20<02:57,  3.50it/s]"
     ]
    },
    {
     "name": "stdout",
     "output_type": "stream",
     "text": [
      "(array([0, 1, 2, 3]), array([ 14,  28, 339, 192]))\n",
      "(array([2]), array([23]))\n",
      "(array([2, 3]), array([1, 3]))\n",
      "(array([1]), array([1]))\n",
      "(array([1]), array([23]))\n"
     ]
    },
    {
     "name": "stderr",
     "output_type": "stream",
     "text": [
      "\r",
      " 72%|███████▏  | 1569/2187 [12:25<06:38,  1.55it/s]"
     ]
    },
    {
     "name": "stdout",
     "output_type": "stream",
     "text": [
      "(array([0, 1, 2, 3]), array([364, 384, 494, 116]))\n",
      "(array([0, 1]), array([ 1, 12]))\n"
     ]
    },
    {
     "name": "stderr",
     "output_type": "stream",
     "text": [
      " 72%|███████▏  | 1572/2187 [12:25<04:16,  2.40it/s]"
     ]
    },
    {
     "name": "stdout",
     "output_type": "stream",
     "text": [
      "(array([0, 1, 2, 3]), array([ 3, 78, 57,  6]))\n",
      "(array([0, 2, 3]), array([ 1, 45,  1]))\n"
     ]
    },
    {
     "name": "stderr",
     "output_type": "stream",
     "text": [
      "\r",
      " 72%|███████▏  | 1573/2187 [12:44<1:01:50,  6.04s/it]"
     ]
    },
    {
     "name": "stdout",
     "output_type": "stream",
     "text": [
      "(array([0, 1, 2, 3]), array([ 137, 4686,  813,  224]))\n",
      "(array([0, 2]), array([2, 1]))\n"
     ]
    },
    {
     "name": "stderr",
     "output_type": "stream",
     "text": [
      "\r",
      " 72%|███████▏  | 1575/2187 [12:45<44:24,  4.35s/it]  "
     ]
    },
    {
     "name": "stdout",
     "output_type": "stream",
     "text": [
      "(array([0, 1, 2, 3]), array([  1,  28, 190,  42]))\n",
      "(array([1, 2]), array([5, 4]))\n"
     ]
    },
    {
     "name": "stderr",
     "output_type": "stream",
     "text": [
      "\r",
      " 72%|███████▏  | 1577/2187 [12:49<35:53,  3.53s/it]"
     ]
    },
    {
     "name": "stdout",
     "output_type": "stream",
     "text": [
      "(array([0, 1, 2, 3]), array([ 11, 732, 295,  88]))\n",
      "(array([2]), array([1]))\n"
     ]
    },
    {
     "name": "stderr",
     "output_type": "stream",
     "text": [
      "\r",
      " 72%|███████▏  | 1579/2187 [12:49<26:29,  2.61s/it]"
     ]
    },
    {
     "name": "stdout",
     "output_type": "stream",
     "text": [
      "(array([0, 1, 2, 3]), array([  4, 214,  56,  60]))\n",
      "(array([2]), array([5]))\n",
      "(array([2]), array([1]))\n"
     ]
    },
    {
     "name": "stderr",
     "output_type": "stream",
     "text": [
      "\r",
      " 72%|███████▏  | 1582/2187 [12:50<18:41,  1.85s/it]"
     ]
    },
    {
     "name": "stdout",
     "output_type": "stream",
     "text": [
      "(array([1, 2]), array([ 1, 47]))\n"
     ]
    },
    {
     "name": "stderr",
     "output_type": "stream",
     "text": [
      "\r",
      " 72%|███████▏  | 1583/2187 [12:50<14:42,  1.46s/it]"
     ]
    },
    {
     "name": "stdout",
     "output_type": "stream",
     "text": [
      "(array([0, 1, 2, 3]), array([  3,   6, 166,   3]))\n",
      "(array([0, 1, 2]), array([7, 1, 6]))\n",
      "(array([0, 1, 2]), array([3, 1, 4]))\n"
     ]
    },
    {
     "name": "stderr",
     "output_type": "stream",
     "text": [
      " 73%|███████▎  | 1590/2187 [12:51<07:21,  1.35it/s]"
     ]
    },
    {
     "name": "stdout",
     "output_type": "stream",
     "text": [
      "(array([0, 1, 2]), array([ 1,  5, 29]))\n",
      "(array([1]), array([1]))\n",
      "(array([2]), array([13]))\n",
      "(array([1]), array([2]))\n",
      "(array([1]), array([1]))\n",
      "(array([0]), array([1]))\n",
      "(array([1]), array([2]))\n",
      "(array([2]), array([2]))\n"
     ]
    },
    {
     "name": "stderr",
     "output_type": "stream",
     "text": [
      "\r",
      " 73%|███████▎  | 1594/2187 [12:53<07:04,  1.40it/s]"
     ]
    },
    {
     "name": "stdout",
     "output_type": "stream",
     "text": [
      "(array([0, 1, 2, 3]), array([  6, 174, 382, 369]))\n"
     ]
    },
    {
     "name": "stderr",
     "output_type": "stream",
     "text": [
      " 73%|███████▎  | 1598/2187 [12:55<05:18,  1.85it/s]"
     ]
    },
    {
     "name": "stdout",
     "output_type": "stream",
     "text": [
      "(array([0, 1, 2, 3]), array([ 10, 447,  54,   6]))\n",
      "(array([0, 1, 2]), array([5, 1, 1]))\n",
      "(array([0, 1, 2]), array([1, 6, 2]))\n",
      "(array([0, 1]), array([ 5, 13]))\n",
      "(array([0, 1]), array([2, 4]))\n"
     ]
    },
    {
     "name": "stderr",
     "output_type": "stream",
     "text": [
      " 73%|███████▎  | 1603/2187 [12:55<02:49,  3.45it/s]"
     ]
    },
    {
     "name": "stdout",
     "output_type": "stream",
     "text": [
      "(array([0, 1, 2, 3]), array([12,  4,  3,  2]))\n",
      "(array([2]), array([7]))\n",
      "(array([1]), array([1]))\n",
      "(array([2]), array([26]))\n",
      "(array([2]), array([7]))\n",
      "(array([2]), array([3]))\n"
     ]
    },
    {
     "name": "stderr",
     "output_type": "stream",
     "text": [
      " 74%|███████▎  | 1610/2187 [12:58<03:03,  3.14it/s]"
     ]
    },
    {
     "name": "stdout",
     "output_type": "stream",
     "text": [
      "(array([0, 1, 2, 3]), array([ 39,   9, 634,  63]))\n",
      "(array([0, 1, 3]), array([1, 3, 5]))\n",
      "(array([1]), array([6]))\n",
      "(array([2]), array([1]))\n",
      "(array([1, 2]), array([1, 5]))\n",
      "(array([1, 2]), array([11,  1]))\n"
     ]
    },
    {
     "name": "stderr",
     "output_type": "stream",
     "text": [
      " 74%|███████▍  | 1614/2187 [12:58<01:50,  5.20it/s]"
     ]
    },
    {
     "name": "stdout",
     "output_type": "stream",
     "text": [
      "(array([0, 1, 2]), array([ 2,  1, 33]))\n",
      "(array([0, 1, 2]), array([ 4,  4, 23]))\n",
      "(array([2]), array([1]))\n",
      "(array([2, 3]), array([2, 5]))\n",
      "(array([2]), array([1]))\n"
     ]
    },
    {
     "name": "stderr",
     "output_type": "stream",
     "text": [
      "\r",
      " 74%|███████▍  | 1617/2187 [12:58<01:24,  6.73it/s]"
     ]
    },
    {
     "name": "stdout",
     "output_type": "stream",
     "text": [
      "(array([1, 2]), array([21,  4]))\n",
      "(array([0, 2]), array([2, 4]))\n",
      "(array([0, 1, 2]), array([2, 1, 1]))\n"
     ]
    },
    {
     "name": "stderr",
     "output_type": "stream",
     "text": [
      "\r",
      " 74%|███████▍  | 1620/2187 [13:05<07:35,  1.25it/s]"
     ]
    },
    {
     "name": "stdout",
     "output_type": "stream",
     "text": [
      "(array([0, 1, 2, 3]), array([  20, 1906,  223,   38]))\n"
     ]
    },
    {
     "name": "stderr",
     "output_type": "stream",
     "text": [
      "\r",
      " 74%|███████▍  | 1622/2187 [13:06<05:55,  1.59it/s]"
     ]
    },
    {
     "name": "stdout",
     "output_type": "stream",
     "text": [
      "(array([0, 1, 2, 3]), array([ 3, 35, 60, 32]))\n",
      "(array([3]), array([7]))\n"
     ]
    },
    {
     "name": "stderr",
     "output_type": "stream",
     "text": [
      "\r",
      " 74%|███████▍  | 1624/2187 [13:22<26:55,  2.87s/it]"
     ]
    },
    {
     "name": "stdout",
     "output_type": "stream",
     "text": [
      "(array([0, 1, 2, 3]), array([ 514, 1447, 2715,  246]))\n",
      "(array([1]), array([1]))\n"
     ]
    },
    {
     "name": "stderr",
     "output_type": "stream",
     "text": [
      "\r",
      " 74%|███████▍  | 1625/2187 [13:26<29:53,  3.19s/it]"
     ]
    },
    {
     "name": "stdout",
     "output_type": "stream",
     "text": [
      "(array([0, 1, 2, 3]), array([  72,   67, 1032,   93]))\n"
     ]
    },
    {
     "name": "stderr",
     "output_type": "stream",
     "text": [
      " 74%|███████▍  | 1629/2187 [13:26<15:11,  1.63s/it]"
     ]
    },
    {
     "name": "stdout",
     "output_type": "stream",
     "text": [
      "(array([0, 2, 3]), array([ 1, 77,  7]))\n",
      "(array([2]), array([3]))\n",
      "(array([0, 1, 2]), array([8, 1, 7]))\n",
      "(array([1]), array([4]))\n"
     ]
    },
    {
     "name": "stderr",
     "output_type": "stream",
     "text": [
      " 75%|███████▍  | 1632/2187 [13:27<09:01,  1.02it/s]"
     ]
    },
    {
     "name": "stdout",
     "output_type": "stream",
     "text": [
      "(array([0, 1, 2, 3]), array([ 53,  66, 124,   9]))\n",
      "(array([0, 1, 2]), array([ 1,  5, 10]))\n",
      "(array([2]), array([1]))\n",
      "(array([2]), array([2]))\n",
      "(array([0, 1]), array([2, 1]))\n"
     ]
    },
    {
     "name": "stderr",
     "output_type": "stream",
     "text": [
      " 75%|███████▍  | 1640/2187 [13:27<04:36,  1.98it/s]"
     ]
    },
    {
     "name": "stdout",
     "output_type": "stream",
     "text": [
      "(array([0, 1, 2]), array([ 6, 27, 40]))\n",
      "(array([2]), array([1]))\n",
      "(array([3]), array([5]))\n",
      "(array([1]), array([1]))\n",
      "(array([3]), array([1]))\n",
      "(array([0]), array([1]))\n",
      "(array([0, 1, 2, 3]), array([1, 9, 5, 1]))\n",
      "(array([0, 1, 2, 3]), array([  9, 914, 146, 132]))\n"
     ]
    },
    {
     "name": "stderr",
     "output_type": "stream",
     "text": [
      "\r",
      " 75%|███████▌  | 1643/2187 [13:31<06:50,  1.32it/s]"
     ]
    },
    {
     "name": "stdout",
     "output_type": "stream",
     "text": [
      "(array([0, 2, 3]), array([ 16, 170,   1]))\n",
      "(array([1]), array([2]))\n"
     ]
    },
    {
     "name": "stderr",
     "output_type": "stream",
     "text": [
      "\r",
      " 75%|███████▌  | 1645/2187 [13:32<05:14,  1.73it/s]"
     ]
    },
    {
     "name": "stdout",
     "output_type": "stream",
     "text": [
      "(array([1, 2, 3]), array([52, 28, 21]))\n",
      "(array([2]), array([1]))\n"
     ]
    },
    {
     "name": "stderr",
     "output_type": "stream",
     "text": [
      "\r",
      " 75%|███████▌  | 1647/2187 [13:42<18:00,  2.00s/it]"
     ]
    },
    {
     "name": "stdout",
     "output_type": "stream",
     "text": [
      "(array([0, 1, 2, 3]), array([ 107,   32, 2831,  641]))\n",
      "(array([1]), array([1]))\n",
      "(array([2]), array([1]))\n"
     ]
    },
    {
     "name": "stderr",
     "output_type": "stream",
     "text": [
      " 76%|███████▌  | 1653/2187 [13:43<09:03,  1.02s/it]"
     ]
    },
    {
     "name": "stdout",
     "output_type": "stream",
     "text": [
      "(array([1, 2, 3]), array([ 1, 61,  7]))\n",
      "(array([1]), array([1]))\n",
      "(array([2]), array([11]))\n",
      "(array([0, 1, 2]), array([3, 6, 2]))\n",
      "(array([2]), array([3]))\n"
     ]
    },
    {
     "name": "stderr",
     "output_type": "stream",
     "text": [
      "\r",
      " 76%|███████▌  | 1655/2187 [13:43<06:28,  1.37it/s]"
     ]
    },
    {
     "name": "stdout",
     "output_type": "stream",
     "text": [
      "(array([0, 1, 2, 3]), array([4, 5, 8, 1]))\n",
      "(array([2]), array([2]))\n"
     ]
    },
    {
     "name": "stderr",
     "output_type": "stream",
     "text": [
      " 76%|███████▌  | 1660/2187 [13:43<03:37,  2.42it/s]"
     ]
    },
    {
     "name": "stdout",
     "output_type": "stream",
     "text": [
      "(array([0, 1, 2, 3]), array([ 6,  2, 80, 15]))\n",
      "(array([0, 2, 3]), array([1, 2, 3]))\n",
      "(array([1]), array([2]))\n",
      "(array([0, 2]), array([1, 6]))\n",
      "(array([2]), array([3]))\n"
     ]
    },
    {
     "name": "stderr",
     "output_type": "stream",
     "text": [
      " 76%|███████▌  | 1664/2187 [13:44<02:28,  3.52it/s]"
     ]
    },
    {
     "name": "stdout",
     "output_type": "stream",
     "text": [
      "(array([0, 1, 2, 3]), array([ 7, 68, 73, 60]))\n",
      "(array([1, 2, 3]), array([ 9, 12,  1]))\n",
      "(array([2]), array([1]))\n",
      "(array([2]), array([2]))\n",
      "(array([0, 1]), array([1, 2]))\n",
      "(array([0, 1]), array([8, 1]))\n"
     ]
    },
    {
     "name": "stderr",
     "output_type": "stream",
     "text": [
      "\r",
      " 76%|███████▋  | 1668/2187 [13:44<01:47,  4.82it/s]"
     ]
    },
    {
     "name": "stdout",
     "output_type": "stream",
     "text": [
      "(array([1]), array([2]))\n",
      "(array([2]), array([12]))\n"
     ]
    },
    {
     "name": "stderr",
     "output_type": "stream",
     "text": [
      "\r",
      " 76%|███████▋  | 1670/2187 [13:45<02:28,  3.47it/s]"
     ]
    },
    {
     "name": "stdout",
     "output_type": "stream",
     "text": [
      "(array([0, 1, 2, 3]), array([  2,   6, 223,  69]))\n"
     ]
    },
    {
     "name": "stderr",
     "output_type": "stream",
     "text": [
      " 77%|███████▋  | 1674/2187 [13:46<01:40,  5.12it/s]"
     ]
    },
    {
     "name": "stdout",
     "output_type": "stream",
     "text": [
      "(array([0, 1, 2, 3]), array([14, 12, 56,  5]))\n",
      "(array([2]), array([1]))\n",
      "(array([2]), array([1]))\n",
      "(array([0, 1, 2, 3]), array([ 8,  2, 26,  6]))\n",
      "(array([2]), array([1]))\n"
     ]
    },
    {
     "name": "stderr",
     "output_type": "stream",
     "text": [
      "\r",
      " 77%|███████▋  | 1679/2187 [13:46<01:14,  6.78it/s]"
     ]
    },
    {
     "name": "stdout",
     "output_type": "stream",
     "text": [
      "(array([0, 2]), array([1, 2]))\n",
      "(array([1, 2]), array([2, 2]))\n",
      "(array([0, 1, 3]), array([1, 1, 1]))\n",
      "(array([0, 1, 2, 3]), array([ 4,  3, 16,  2]))\n",
      "(array([3]), array([1]))\n",
      "(array([1]), array([1]))\n",
      "(array([1]), array([1]))\n"
     ]
    },
    {
     "name": "stderr",
     "output_type": "stream",
     "text": [
      " 77%|███████▋  | 1687/2187 [13:46<00:45, 11.01it/s]"
     ]
    },
    {
     "name": "stdout",
     "output_type": "stream",
     "text": [
      "(array([0, 1, 2, 3]), array([ 6, 27,  1,  1]))\n",
      "(array([3]), array([2]))\n",
      "(array([1]), array([1]))\n",
      "(array([1]), array([3]))\n",
      "(array([0, 1, 2]), array([ 1, 12,  1]))\n",
      "(array([2]), array([3]))\n",
      "(array([2]), array([1]))\n",
      "(array([1, 2]), array([2, 2]))\n"
     ]
    },
    {
     "name": "stderr",
     "output_type": "stream",
     "text": [
      "\r",
      " 77%|███████▋  | 1692/2187 [13:46<00:38, 13.01it/s]"
     ]
    },
    {
     "name": "stdout",
     "output_type": "stream",
     "text": [
      "(array([1, 2]), array([1, 1]))\n",
      "(array([0, 1, 2]), array([19,  7, 14]))\n",
      "(array([2]), array([6]))\n",
      "(array([1]), array([1]))\n"
     ]
    },
    {
     "name": "stderr",
     "output_type": "stream",
     "text": [
      " 78%|███████▊  | 1700/2187 [13:47<00:25, 19.21it/s]"
     ]
    },
    {
     "name": "stdout",
     "output_type": "stream",
     "text": [
      "(array([1]), array([5]))\n",
      "(array([0, 1]), array([1, 4]))\n",
      "(array([1, 2]), array([6, 1]))\n",
      "(array([1]), array([1]))\n",
      "(array([1]), array([4]))\n",
      "(array([2]), array([4]))\n"
     ]
    },
    {
     "name": "stderr",
     "output_type": "stream",
     "text": [
      "\r",
      " 78%|███████▊  | 1703/2187 [13:47<00:23, 20.61it/s]"
     ]
    },
    {
     "name": "stdout",
     "output_type": "stream",
     "text": [
      "(array([0, 1, 2]), array([ 2, 13,  5]))\n",
      "(array([1]), array([2]))\n",
      "(array([1, 3]), array([4, 1]))\n"
     ]
    },
    {
     "name": "stderr",
     "output_type": "stream",
     "text": [
      " 78%|███████▊  | 1709/2187 [13:47<00:29, 16.22it/s]"
     ]
    },
    {
     "name": "stdout",
     "output_type": "stream",
     "text": [
      "(array([0, 1, 2, 3]), array([ 16,   4, 105,   2]))\n",
      "(array([1]), array([2]))\n",
      "(array([1]), array([1]))\n",
      "(array([1, 2]), array([14,  2]))\n",
      "(array([1]), array([1]))\n",
      "(array([1, 2]), array([1, 1]))\n",
      "(array([0, 1, 2]), array([2, 2, 1]))\n",
      "(array([1]), array([1]))\n"
     ]
    },
    {
     "name": "stderr",
     "output_type": "stream",
     "text": [
      " 78%|███████▊  | 1715/2187 [13:48<00:33, 14.23it/s]"
     ]
    },
    {
     "name": "stdout",
     "output_type": "stream",
     "text": [
      "(array([0, 1, 2, 3]), array([ 2, 84,  4,  2]))\n",
      "(array([1]), array([1]))\n",
      "(array([0, 1, 2, 3]), array([ 1, 11,  5,  1]))\n",
      "(array([0, 1, 2, 3]), array([ 1,  4, 12,  9]))\n"
     ]
    },
    {
     "name": "stderr",
     "output_type": "stream",
     "text": [
      "\r",
      " 79%|███████▊  | 1717/2187 [13:48<00:36, 12.99it/s]"
     ]
    },
    {
     "name": "stdout",
     "output_type": "stream",
     "text": [
      "(array([1, 2]), array([1, 4]))\n",
      "(array([0, 1, 2, 3]), array([22, 12, 13,  2]))\n",
      "(array([2]), array([1]))\n",
      "(array([0, 2]), array([1, 1]))\n"
     ]
    },
    {
     "name": "stderr",
     "output_type": "stream",
     "text": [
      "\r",
      " 79%|███████▊  | 1721/2187 [13:48<00:30, 15.12it/s]"
     ]
    },
    {
     "name": "stdout",
     "output_type": "stream",
     "text": [
      "(array([1]), array([1]))\n",
      "(array([0, 1, 2]), array([ 4, 21,  5]))\n"
     ]
    },
    {
     "name": "stderr",
     "output_type": "stream",
     "text": [
      "\r",
      " 79%|███████▉  | 1723/2187 [13:48<00:38, 12.14it/s]"
     ]
    },
    {
     "name": "stdout",
     "output_type": "stream",
     "text": [
      "(array([1, 2]), array([25,  8]))\n",
      "(array([0, 1, 2, 3]), array([ 2, 31,  8,  1]))\n",
      "(array([3]), array([1]))\n",
      "(array([1]), array([1]))\n"
     ]
    },
    {
     "name": "stderr",
     "output_type": "stream",
     "text": [
      " 79%|███████▉  | 1730/2187 [13:49<00:27, 16.70it/s]"
     ]
    },
    {
     "name": "stdout",
     "output_type": "stream",
     "text": [
      "(array([1, 2]), array([2, 1]))\n",
      "(array([2, 3]), array([7, 2]))\n",
      "(array([1, 2]), array([4, 4]))\n",
      "(array([2]), array([19]))\n",
      "(array([1, 2, 3]), array([1, 1, 1]))\n",
      "(array([1, 2]), array([1, 2]))\n",
      "(array([1, 2]), array([13,  2]))\n"
     ]
    },
    {
     "name": "stderr",
     "output_type": "stream",
     "text": [
      " 79%|███████▉  | 1738/2187 [13:49<00:32, 13.78it/s]"
     ]
    },
    {
     "name": "stdout",
     "output_type": "stream",
     "text": [
      "(array([0, 1, 2, 3]), array([43, 77, 13,  2]))\n",
      "(array([0]), array([1]))\n",
      "(array([2]), array([1]))\n",
      "(array([1]), array([1]))\n",
      "(array([3]), array([1]))\n",
      "(array([0, 2]), array([ 1, 16]))\n",
      "(array([0, 2]), array([ 4, 21]))\n",
      "(array([0, 2]), array([1, 2]))\n"
     ]
    },
    {
     "name": "stderr",
     "output_type": "stream",
     "text": [
      "\r",
      " 80%|███████▉  | 1741/2187 [13:55<04:20,  1.71it/s]"
     ]
    },
    {
     "name": "stdout",
     "output_type": "stream",
     "text": [
      "(array([0, 1, 2, 3]), array([  92,  219, 1132,  224]))\n",
      "(array([2]), array([4]))\n",
      "(array([2]), array([1]))\n"
     ]
    },
    {
     "name": "stderr",
     "output_type": "stream",
     "text": [
      " 80%|███████▉  | 1747/2187 [13:55<02:29,  2.95it/s]"
     ]
    },
    {
     "name": "stdout",
     "output_type": "stream",
     "text": [
      "(array([0, 1, 2, 3]), array([64, 21, 54,  5]))\n",
      "(array([2]), array([1]))\n",
      "(array([2]), array([1]))\n",
      "(array([2, 3]), array([8, 1]))\n",
      "(array([1]), array([18]))\n"
     ]
    },
    {
     "name": "stderr",
     "output_type": "stream",
     "text": [
      " 80%|████████  | 1751/2187 [13:56<01:25,  5.08it/s]"
     ]
    },
    {
     "name": "stdout",
     "output_type": "stream",
     "text": [
      "(array([1, 2]), array([2, 1]))\n",
      "(array([0, 1, 3]), array([3, 1, 8]))\n",
      "(array([1, 2]), array([11,  2]))\n"
     ]
    },
    {
     "name": "stderr",
     "output_type": "stream",
     "text": [
      "\r",
      " 80%|████████  | 1753/2187 [13:56<01:42,  4.21it/s]"
     ]
    },
    {
     "name": "stdout",
     "output_type": "stream",
     "text": [
      "(array([0, 1, 2]), array([ 10, 146,   2]))\n",
      "(array([2]), array([16]))\n"
     ]
    },
    {
     "name": "stderr",
     "output_type": "stream",
     "text": [
      "\r",
      " 80%|████████  | 1755/2187 [13:57<01:47,  4.01it/s]"
     ]
    },
    {
     "name": "stdout",
     "output_type": "stream",
     "text": [
      "(array([0, 1, 2]), array([ 34,  29, 109]))\n",
      "(array([3]), array([2]))\n"
     ]
    },
    {
     "name": "stderr",
     "output_type": "stream",
     "text": [
      " 80%|████████  | 1758/2187 [13:58<03:12,  2.23it/s]"
     ]
    },
    {
     "name": "stdout",
     "output_type": "stream",
     "text": [
      "(array([0, 1, 2, 3]), array([  1, 366,  44,  56]))\n",
      "(array([2]), array([1]))\n",
      "(array([0, 2]), array([ 1, 39]))\n",
      "(array([3]), array([2]))\n",
      "(array([2]), array([1]))\n"
     ]
    },
    {
     "name": "stderr",
     "output_type": "stream",
     "text": [
      "\r",
      " 81%|████████  | 1763/2187 [13:59<02:17,  3.08it/s]"
     ]
    },
    {
     "name": "stdout",
     "output_type": "stream",
     "text": [
      "(array([2, 3]), array([1, 4]))\n",
      "(array([1]), array([1]))\n",
      "(array([0, 2]), array([ 1, 20]))\n"
     ]
    },
    {
     "name": "stderr",
     "output_type": "stream",
     "text": [
      "\r",
      " 81%|████████  | 1765/2187 [14:04<07:35,  1.08s/it]"
     ]
    },
    {
     "name": "stdout",
     "output_type": "stream",
     "text": [
      "(array([0, 1, 2, 3]), array([ 146,  197, 1169,  255]))\n",
      "(array([2]), array([1]))\n",
      "(array([0, 1, 2]), array([5, 1, 2]))\n",
      "(array([2]), array([4]))\n",
      "(array([2]), array([1]))\n"
     ]
    },
    {
     "name": "stderr",
     "output_type": "stream",
     "text": [
      " 81%|████████  | 1771/2187 [14:05<03:56,  1.76it/s]"
     ]
    },
    {
     "name": "stdout",
     "output_type": "stream",
     "text": [
      "(array([0, 1, 2]), array([18,  4, 52]))\n",
      "(array([1, 2, 3]), array([5, 7, 7]))\n",
      "(array([0, 1, 2, 3]), array([ 7,  6, 18,  1]))\n",
      "(array([2]), array([1]))\n"
     ]
    },
    {
     "name": "stderr",
     "output_type": "stream",
     "text": [
      " 81%|████████▏ | 1777/2187 [14:05<02:04,  3.30it/s]"
     ]
    },
    {
     "name": "stdout",
     "output_type": "stream",
     "text": [
      "(array([2]), array([7]))\n",
      "(array([2, 3]), array([2, 2]))\n",
      "(array([3]), array([1]))\n",
      "(array([0, 1, 2, 3]), array([ 3, 11, 20,  1]))\n",
      "(array([1]), array([2]))\n",
      "(array([2, 3]), array([5, 2]))\n",
      "(array([3]), array([3]))\n"
     ]
    },
    {
     "name": "stderr",
     "output_type": "stream",
     "text": [
      " 82%|████████▏ | 1783/2187 [14:07<02:05,  3.22it/s]"
     ]
    },
    {
     "name": "stdout",
     "output_type": "stream",
     "text": [
      "(array([1, 2, 3]), array([483, 172,  16]))\n",
      "(array([0, 1, 2]), array([8, 1, 1]))\n",
      "(array([2]), array([1]))\n",
      "(array([1, 2]), array([3, 1]))\n",
      "(array([2]), array([3]))\n",
      "(array([0]), array([1]))\n",
      "(array([1]), array([1]))\n"
     ]
    },
    {
     "name": "stderr",
     "output_type": "stream",
     "text": [
      "\r",
      " 82%|████████▏ | 1787/2187 [14:07<01:29,  4.45it/s]"
     ]
    },
    {
     "name": "stdout",
     "output_type": "stream",
     "text": [
      "(array([0, 3]), array([5, 1]))\n",
      "(array([2]), array([1]))\n",
      "(array([1]), array([2]))\n"
     ]
    },
    {
     "name": "stderr",
     "output_type": "stream",
     "text": [
      " 82%|████████▏ | 1794/2187 [14:08<00:57,  6.86it/s]"
     ]
    },
    {
     "name": "stdout",
     "output_type": "stream",
     "text": [
      "(array([0, 1, 2, 3]), array([ 4,  4, 69, 10]))\n",
      "(array([2]), array([1]))\n",
      "(array([1]), array([1]))\n",
      "(array([1, 2]), array([1, 3]))\n",
      "(array([2]), array([1]))\n",
      "(array([1, 2, 3]), array([30, 18, 10]))\n",
      "(array([0, 1, 2, 3]), array([  34, 1724, 1387,  362]))\n"
     ]
    },
    {
     "name": "stderr",
     "output_type": "stream",
     "text": [
      " 82%|████████▏ | 1801/2187 [14:21<06:26,  1.00s/it]"
     ]
    },
    {
     "name": "stdout",
     "output_type": "stream",
     "text": [
      "(array([0, 1, 2, 3]), array([  5, 805,   8,   3]))\n",
      "(array([2]), array([6]))\n",
      "(array([2]), array([5]))\n",
      "(array([1]), array([1]))\n",
      "(array([0, 1, 2]), array([2, 1, 7]))\n",
      "(array([0, 2]), array([1, 4]))\n"
     ]
    },
    {
     "name": "stderr",
     "output_type": "stream",
     "text": [
      " 82%|████████▏ | 1804/2187 [14:26<06:46,  1.06s/it]"
     ]
    },
    {
     "name": "stdout",
     "output_type": "stream",
     "text": [
      "(array([0, 1, 2, 3]), array([ 193,  311, 1073,    2]))\n",
      "(array([0, 1, 2, 3]), array([ 1,  2, 47,  1]))\n",
      "(array([2]), array([1]))\n",
      "(array([2]), array([3]))\n",
      "(array([1, 3]), array([6, 1]))\n"
     ]
    },
    {
     "name": "stderr",
     "output_type": "stream",
     "text": [
      "\r",
      " 83%|████████▎ | 1808/2187 [14:26<04:49,  1.31it/s]"
     ]
    },
    {
     "name": "stdout",
     "output_type": "stream",
     "text": [
      "(array([0, 1, 2, 3]), array([22,  3, 35,  4]))\n",
      "(array([2]), array([5]))\n"
     ]
    },
    {
     "name": "stderr",
     "output_type": "stream",
     "text": [
      "\r",
      " 83%|████████▎ | 1810/2187 [14:28<04:25,  1.42it/s]"
     ]
    },
    {
     "name": "stdout",
     "output_type": "stream",
     "text": [
      "(array([0, 1, 2]), array([ 68, 268,  19]))\n",
      "(array([3]), array([1]))\n",
      "(array([1]), array([4]))\n"
     ]
    },
    {
     "name": "stderr",
     "output_type": "stream",
     "text": [
      "\r",
      " 83%|████████▎ | 1813/2187 [14:28<03:28,  1.80it/s]"
     ]
    },
    {
     "name": "stdout",
     "output_type": "stream",
     "text": [
      "(array([0, 1, 2, 3]), array([ 17,   9, 160,   3]))\n",
      "(array([2]), array([1]))\n",
      "(array([2]), array([1]))\n"
     ]
    },
    {
     "name": "stderr",
     "output_type": "stream",
     "text": [
      " 83%|████████▎ | 1819/2187 [14:29<01:52,  3.26it/s]"
     ]
    },
    {
     "name": "stdout",
     "output_type": "stream",
     "text": [
      "(array([1, 2, 3]), array([ 1, 59,  1]))\n",
      "(array([0, 1, 2, 3]), array([2, 7, 9, 1]))\n",
      "(array([2]), array([1]))\n",
      "(array([0, 1, 2, 3]), array([ 3, 21,  2,  3]))\n"
     ]
    },
    {
     "name": "stderr",
     "output_type": "stream",
     "text": [
      " 84%|████████▎ | 1828/2187 [14:29<00:58,  6.16it/s]"
     ]
    },
    {
     "name": "stdout",
     "output_type": "stream",
     "text": [
      "(array([1]), array([1]))\n",
      "(array([1]), array([1]))\n",
      "(array([1]), array([6]))\n",
      "(array([0]), array([2]))\n",
      "(array([2]), array([1]))\n",
      "(array([0, 2]), array([1, 2]))\n",
      "(array([2]), array([1]))\n",
      "(array([2]), array([1]))\n",
      "(array([2]), array([1]))\n"
     ]
    },
    {
     "name": "stderr",
     "output_type": "stream",
     "text": [
      " 84%|████████▍ | 1834/2187 [14:32<01:58,  2.98it/s]"
     ]
    },
    {
     "name": "stdout",
     "output_type": "stream",
     "text": [
      "(array([0, 1, 2, 3]), array([  2, 968, 145,   3]))\n",
      "(array([1]), array([2]))\n",
      "(array([2]), array([6]))\n",
      "(array([2, 3]), array([5, 1]))\n",
      "(array([0, 2, 3]), array([5, 9, 1]))\n",
      "(array([1]), array([1]))\n",
      "(array([1, 2, 3]), array([ 21, 157, 618]))\n"
     ]
    },
    {
     "name": "stderr",
     "output_type": "stream",
     "text": [
      " 84%|████████▍ | 1841/2187 [14:38<03:13,  1.78it/s]"
     ]
    },
    {
     "name": "stdout",
     "output_type": "stream",
     "text": [
      "(array([0, 1, 2, 3]), array([ 10, 324, 466, 267]))\n",
      "(array([0, 2]), array([2, 3]))\n",
      "(array([2]), array([1]))\n",
      "(array([2]), array([1]))\n",
      "(array([0, 2]), array([5, 8]))\n",
      "(array([1, 3]), array([1, 2]))\n",
      "(array([1]), array([1]))\n",
      "(array([1, 2]), array([1, 1]))\n",
      "(array([1]), array([1]))\n",
      "(array([2]), array([1]))\n"
     ]
    },
    {
     "name": "stderr",
     "output_type": "stream",
     "text": [
      " 85%|████████▍ | 1850/2187 [14:39<01:47,  3.14it/s]"
     ]
    },
    {
     "name": "stdout",
     "output_type": "stream",
     "text": [
      "(array([0, 1, 2, 3]), array([  2, 226,  12,   2]))\n",
      "(array([2]), array([1]))\n",
      "(array([2, 3]), array([1, 1]))\n",
      "(array([1]), array([1]))\n",
      "(array([2]), array([14]))\n",
      "(array([1]), array([1]))\n",
      "(array([0, 2]), array([ 3, 17]))\n"
     ]
    },
    {
     "name": "stderr",
     "output_type": "stream",
     "text": [
      " 85%|████████▍ | 1857/2187 [14:41<01:30,  3.63it/s]"
     ]
    },
    {
     "name": "stdout",
     "output_type": "stream",
     "text": [
      "(array([0, 1, 2, 3]), array([152,  79, 250,   6]))\n",
      "(array([0, 2]), array([1, 1]))\n",
      "(array([2]), array([7]))\n",
      "(array([3]), array([4]))\n",
      "(array([2]), array([3]))\n",
      "(array([2]), array([1]))\n"
     ]
    },
    {
     "name": "stderr",
     "output_type": "stream",
     "text": [
      " 85%|████████▌ | 1863/2187 [14:42<01:16,  4.25it/s]"
     ]
    },
    {
     "name": "stdout",
     "output_type": "stream",
     "text": [
      "(array([0, 1, 2, 3]), array([ 41,  37, 285,  15]))\n",
      "(array([0, 1, 2, 3]), array([1, 2, 3, 3]))\n",
      "(array([2]), array([1]))\n",
      "(array([1, 2]), array([7, 3]))\n",
      "(array([1, 2]), array([28,  1]))\n"
     ]
    },
    {
     "name": "stderr",
     "output_type": "stream",
     "text": [
      "\r",
      " 85%|████████▌ | 1865/2187 [14:45<03:06,  1.73it/s]"
     ]
    },
    {
     "name": "stdout",
     "output_type": "stream",
     "text": [
      "(array([0, 1, 2, 3]), array([  1, 131, 765,  66]))\n",
      "(array([1]), array([13]))\n"
     ]
    },
    {
     "name": "stderr",
     "output_type": "stream",
     "text": [
      "\r",
      " 85%|████████▌ | 1867/2187 [14:46<02:58,  1.79it/s]"
     ]
    },
    {
     "name": "stdout",
     "output_type": "stream",
     "text": [
      "(array([0, 1, 2, 3]), array([ 17,  67, 144,  37]))\n",
      "(array([0, 1]), array([1, 4]))\n"
     ]
    },
    {
     "name": "stderr",
     "output_type": "stream",
     "text": [
      "\r",
      " 85%|████████▌ | 1868/2187 [14:46<02:20,  2.27it/s]"
     ]
    },
    {
     "name": "stdout",
     "output_type": "stream",
     "text": [
      "(array([0, 1, 2]), array([ 7, 14, 23]))\n"
     ]
    },
    {
     "name": "stderr",
     "output_type": "stream",
     "text": [
      " 86%|████████▌ | 1872/2187 [14:47<01:40,  3.12it/s]"
     ]
    },
    {
     "name": "stdout",
     "output_type": "stream",
     "text": [
      "(array([0, 1, 2, 3]), array([  7,   4, 101,   4]))\n",
      "(array([3]), array([1]))\n",
      "(array([2]), array([4]))\n",
      "(array([2]), array([13]))\n",
      "(array([0]), array([1]))\n"
     ]
    },
    {
     "name": "stderr",
     "output_type": "stream",
     "text": [
      " 86%|████████▌ | 1877/2187 [14:51<02:57,  1.74it/s]"
     ]
    },
    {
     "name": "stdout",
     "output_type": "stream",
     "text": [
      "(array([0, 1, 2, 3]), array([138, 584, 358,  99]))\n",
      "(array([1]), array([7]))\n",
      "(array([0, 1]), array([1, 1]))\n",
      "(array([1, 2, 3]), array([ 1, 15,  1]))\n",
      "(array([1]), array([1]))\n",
      "(array([2]), array([4]))\n"
     ]
    },
    {
     "name": "stderr",
     "output_type": "stream",
     "text": [
      "\r",
      " 86%|████████▌ | 1881/2187 [14:51<02:05,  2.44it/s]"
     ]
    },
    {
     "name": "stdout",
     "output_type": "stream",
     "text": [
      "(array([2]), array([1]))\n",
      "(array([1]), array([1]))\n",
      "(array([1, 2, 3]), array([1, 1, 7]))\n"
     ]
    },
    {
     "name": "stderr",
     "output_type": "stream",
     "text": [
      "\r",
      " 86%|████████▌ | 1883/2187 [14:51<01:38,  3.10it/s]"
     ]
    },
    {
     "name": "stdout",
     "output_type": "stream",
     "text": [
      "(array([0, 1, 2]), array([ 3, 40,  3]))\n"
     ]
    },
    {
     "name": "stderr",
     "output_type": "stream",
     "text": [
      "\r",
      " 86%|████████▌ | 1885/2187 [14:52<01:45,  2.85it/s]"
     ]
    },
    {
     "name": "stdout",
     "output_type": "stream",
     "text": [
      "(array([0, 1, 2]), array([107,  73,   7]))\n",
      "(array([0, 2, 3]), array([ 3, 33,  2]))\n"
     ]
    },
    {
     "name": "stderr",
     "output_type": "stream",
     "text": [
      " 86%|████████▋ | 1890/2187 [14:52<01:09,  4.26it/s]"
     ]
    },
    {
     "name": "stdout",
     "output_type": "stream",
     "text": [
      "(array([0, 1, 2, 3]), array([21, 75, 35,  2]))\n",
      "(array([1]), array([2]))\n",
      "(array([0, 1, 3]), array([ 1, 11,  1]))\n",
      "(array([1, 2]), array([2, 2]))\n",
      "(array([1, 2, 3]), array([15,  4,  2]))\n",
      "(array([2]), array([6]))\n",
      "(array([0, 2]), array([1, 2]))\n"
     ]
    },
    {
     "name": "stderr",
     "output_type": "stream",
     "text": [
      "\r",
      " 87%|████████▋ | 1893/2187 [14:53<00:59,  4.93it/s]"
     ]
    },
    {
     "name": "stdout",
     "output_type": "stream",
     "text": [
      "(array([0, 1]), array([42, 39]))\n",
      "(array([1]), array([2]))\n"
     ]
    },
    {
     "name": "stderr",
     "output_type": "stream",
     "text": [
      " 87%|████████▋ | 1898/2187 [14:53<00:42,  6.73it/s]"
     ]
    },
    {
     "name": "stdout",
     "output_type": "stream",
     "text": [
      "(array([0, 1, 2]), array([ 1, 70,  2]))\n",
      "(array([2]), array([1]))\n",
      "(array([2]), array([1]))\n",
      "(array([0, 1, 2]), array([18,  1,  7]))\n",
      "(array([2]), array([2]))\n"
     ]
    },
    {
     "name": "stderr",
     "output_type": "stream",
     "text": [
      "\r",
      " 87%|████████▋ | 1901/2187 [14:53<00:33,  8.51it/s]"
     ]
    },
    {
     "name": "stdout",
     "output_type": "stream",
     "text": [
      "(array([1, 2]), array([2, 1]))\n",
      "(array([0, 1, 2]), array([1, 6, 8]))\n",
      "(array([2]), array([9]))\n",
      "(array([0, 2]), array([1, 1]))\n"
     ]
    },
    {
     "name": "stderr",
     "output_type": "stream",
     "text": [
      "\r",
      " 87%|████████▋ | 1904/2187 [14:54<00:30,  9.22it/s]"
     ]
    },
    {
     "name": "stdout",
     "output_type": "stream",
     "text": [
      "(array([0, 1, 2, 3]), array([ 1, 10, 31,  4]))\n"
     ]
    },
    {
     "name": "stderr",
     "output_type": "stream",
     "text": [
      " 87%|████████▋ | 1910/2187 [14:55<00:47,  5.86it/s]"
     ]
    },
    {
     "name": "stdout",
     "output_type": "stream",
     "text": [
      "(array([0, 1, 2, 3]), array([  4, 250,   8,   2]))\n",
      "(array([0, 2, 3]), array([6, 3, 1]))\n",
      "(array([2]), array([1]))\n",
      "(array([1, 2]), array([1, 1]))\n",
      "(array([1]), array([1]))\n",
      "(array([1, 2]), array([4, 1]))\n"
     ]
    },
    {
     "name": "stderr",
     "output_type": "stream",
     "text": [
      "\r",
      " 87%|████████▋ | 1912/2187 [14:55<00:40,  6.85it/s]"
     ]
    },
    {
     "name": "stdout",
     "output_type": "stream",
     "text": [
      "(array([0, 2]), array([1, 1]))\n",
      "(array([0, 1, 2, 3]), array([ 4, 27,  4,  2]))\n",
      "(array([1]), array([2]))\n"
     ]
    },
    {
     "name": "stderr",
     "output_type": "stream",
     "text": [
      "\r",
      " 88%|████████▊ | 1916/2187 [14:55<00:31,  8.62it/s]"
     ]
    },
    {
     "name": "stdout",
     "output_type": "stream",
     "text": [
      "(array([2]), array([1]))\n",
      "(array([2, 3]), array([1, 3]))\n",
      "(array([1, 2]), array([19,  2]))\n",
      "(array([2]), array([7]))\n"
     ]
    },
    {
     "name": "stderr",
     "output_type": "stream",
     "text": [
      "\r",
      " 88%|████████▊ | 1918/2187 [14:55<00:28,  9.49it/s]"
     ]
    },
    {
     "name": "stdout",
     "output_type": "stream",
     "text": [
      "(array([0, 1, 2]), array([ 2,  1, 26]))\n",
      "(array([1, 2, 3]), array([82, 25, 28]))\n"
     ]
    },
    {
     "name": "stderr",
     "output_type": "stream",
     "text": [
      "\r",
      " 88%|████████▊ | 1920/2187 [14:56<00:46,  5.79it/s]"
     ]
    },
    {
     "name": "stdout",
     "output_type": "stream",
     "text": [
      "(array([0, 2]), array([ 4, 62]))\n",
      "(array([2, 3]), array([17,  1]))\n"
     ]
    },
    {
     "name": "stderr",
     "output_type": "stream",
     "text": [
      " 88%|████████▊ | 1926/2187 [14:57<00:35,  7.34it/s]"
     ]
    },
    {
     "name": "stdout",
     "output_type": "stream",
     "text": [
      "(array([0, 1, 2, 3]), array([ 2, 81, 10,  3]))\n",
      "(array([2]), array([1]))\n",
      "(array([3]), array([1]))\n",
      "(array([3]), array([1]))\n",
      "(array([2]), array([40]))\n"
     ]
    },
    {
     "name": "stderr",
     "output_type": "stream",
     "text": [
      "\r",
      " 88%|████████▊ | 1929/2187 [14:57<00:27,  9.40it/s]"
     ]
    },
    {
     "name": "stdout",
     "output_type": "stream",
     "text": [
      "(array([2]), array([14]))\n",
      "(array([1, 2, 3]), array([3, 3, 2]))\n",
      "(array([2]), array([2]))\n",
      "(array([1, 2, 3]), array([2, 5, 1]))\n",
      "(array([1]), array([1]))\n",
      "(array([2]), array([5]))\n"
     ]
    },
    {
     "name": "stderr",
     "output_type": "stream",
     "text": [
      "\r",
      " 88%|████████▊ | 1933/2187 [14:57<00:21, 11.64it/s]"
     ]
    },
    {
     "name": "stdout",
     "output_type": "stream",
     "text": [
      "(array([1, 3]), array([12,  8]))\n",
      "(array([0]), array([1]))\n",
      "(array([1]), array([1]))\n"
     ]
    },
    {
     "name": "stderr",
     "output_type": "stream",
     "text": [
      "\r",
      " 89%|████████▊ | 1936/2187 [14:58<00:31,  7.85it/s]"
     ]
    },
    {
     "name": "stdout",
     "output_type": "stream",
     "text": [
      "(array([0, 1, 2, 3]), array([  1,  57, 127,  41]))\n"
     ]
    },
    {
     "name": "stderr",
     "output_type": "stream",
     "text": [
      "\r",
      " 89%|████████▊ | 1938/2187 [14:59<01:22,  3.01it/s]"
     ]
    },
    {
     "name": "stdout",
     "output_type": "stream",
     "text": [
      "(array([0, 1, 2, 3]), array([ 23, 426,  22,  28]))\n",
      "(array([0, 2]), array([ 1, 13]))\n",
      "(array([2]), array([1]))\n",
      "(array([2]), array([2]))\n"
     ]
    },
    {
     "name": "stderr",
     "output_type": "stream",
     "text": [
      "\r",
      " 89%|████████▉ | 1941/2187 [15:00<01:10,  3.51it/s]"
     ]
    },
    {
     "name": "stdout",
     "output_type": "stream",
     "text": [
      "(array([0, 1, 2, 3]), array([  9,  35, 103,   8]))\n",
      "(array([2]), array([1]))\n",
      "(array([2]), array([1]))\n",
      "(array([0, 1, 2]), array([1, 1, 1]))\n",
      "(array([1, 2]), array([1, 2]))\n"
     ]
    },
    {
     "name": "stderr",
     "output_type": "stream",
     "text": [
      " 89%|████████▉ | 1949/2187 [15:00<00:40,  5.94it/s]"
     ]
    },
    {
     "name": "stdout",
     "output_type": "stream",
     "text": [
      "(array([0, 1, 2, 3]), array([  1,   1, 109,   2]))\n",
      "(array([3]), array([1]))\n",
      "(array([0, 1, 2]), array([ 3, 10,  2]))\n",
      "(array([2]), array([3]))\n"
     ]
    },
    {
     "name": "stderr",
     "output_type": "stream",
     "text": [
      "\r",
      " 89%|████████▉ | 1951/2187 [15:00<00:38,  6.10it/s]"
     ]
    },
    {
     "name": "stdout",
     "output_type": "stream",
     "text": [
      "(array([0, 1, 2, 3]), array([ 4,  3, 79,  5]))\n",
      "(array([1]), array([1]))\n",
      "(array([1, 2]), array([1, 1]))\n"
     ]
    },
    {
     "name": "stderr",
     "output_type": "stream",
     "text": [
      " 90%|████████▉ | 1958/2187 [15:05<01:56,  1.97it/s]"
     ]
    },
    {
     "name": "stdout",
     "output_type": "stream",
     "text": [
      "(array([0, 1, 2, 3]), array([ 36, 193, 623, 425]))\n",
      "(array([2]), array([3]))\n",
      "(array([2, 3]), array([1, 1]))\n",
      "(array([0]), array([4]))\n",
      "(array([2]), array([1]))\n",
      "(array([0, 1, 2]), array([1, 1, 7]))\n"
     ]
    },
    {
     "name": "stderr",
     "output_type": "stream",
     "text": [
      " 90%|████████▉ | 1962/2187 [15:05<01:05,  3.44it/s]"
     ]
    },
    {
     "name": "stdout",
     "output_type": "stream",
     "text": [
      "(array([2]), array([50]))\n",
      "(array([3]), array([1]))\n",
      "(array([0, 1, 2]), array([ 4, 22, 13]))\n",
      "(array([2]), array([1]))\n",
      "(array([2, 3]), array([1, 1]))\n",
      "(array([3]), array([1]))\n"
     ]
    },
    {
     "name": "stderr",
     "output_type": "stream",
     "text": [
      "\r",
      " 90%|████████▉ | 1965/2187 [15:13<03:32,  1.04it/s]"
     ]
    },
    {
     "name": "stdout",
     "output_type": "stream",
     "text": [
      "(array([0, 1, 2, 3]), array([  27, 1362,  532,  297]))\n",
      "(array([1]), array([1]))\n"
     ]
    },
    {
     "name": "stderr",
     "output_type": "stream",
     "text": [
      "\r",
      " 90%|████████▉ | 1967/2187 [15:13<02:41,  1.36it/s]"
     ]
    },
    {
     "name": "stdout",
     "output_type": "stream",
     "text": [
      "(array([0, 1, 2]), array([  7,   4, 124]))\n"
     ]
    },
    {
     "name": "stderr",
     "output_type": "stream",
     "text": [
      " 90%|█████████ | 1970/2187 [15:23<09:08,  2.53s/it]"
     ]
    },
    {
     "name": "stdout",
     "output_type": "stream",
     "text": [
      "(array([0, 1, 2, 3]), array([ 214,  240, 2572,  113]))\n",
      "(array([2]), array([3]))\n",
      "(array([0, 1, 2]), array([14,  2, 24]))\n"
     ]
    },
    {
     "name": "stderr",
     "output_type": "stream",
     "text": [
      "\r",
      " 90%|█████████ | 1975/2187 [15:23<06:16,  1.78s/it]"
     ]
    },
    {
     "name": "stdout",
     "output_type": "stream",
     "text": [
      "(array([1, 2]), array([1, 1]))\n",
      "(array([2]), array([1]))\n",
      "(array([1]), array([1]))\n",
      "(array([0]), array([1]))\n",
      "(array([2]), array([1]))\n"
     ]
    },
    {
     "name": "stderr",
     "output_type": "stream",
     "text": [
      "\r",
      " 90%|█████████ | 1977/2187 [15:24<04:28,  1.28s/it]"
     ]
    },
    {
     "name": "stdout",
     "output_type": "stream",
     "text": [
      "(array([0, 1, 2]), array([41,  6,  3]))\n",
      "(array([2]), array([1]))\n",
      "(array([0, 1, 2, 3]), array([  2,  27, 101,  51]))\n"
     ]
    },
    {
     "name": "stderr",
     "output_type": "stream",
     "text": [
      "\r",
      " 90%|█████████ | 1979/2187 [15:25<03:36,  1.04s/it]"
     ]
    },
    {
     "name": "stdout",
     "output_type": "stream",
     "text": [
      "(array([0, 1, 2, 3]), array([24, 46, 16,  8]))\n",
      "(array([2]), array([1]))\n"
     ]
    },
    {
     "name": "stderr",
     "output_type": "stream",
     "text": [
      " 91%|█████████ | 1984/2187 [15:25<01:52,  1.81it/s]"
     ]
    },
    {
     "name": "stdout",
     "output_type": "stream",
     "text": [
      "(array([0, 1, 2]), array([22,  5, 43]))\n",
      "(array([2]), array([2]))\n",
      "(array([2]), array([8]))\n",
      "(array([0, 1]), array([1, 2]))\n",
      "(array([1, 3]), array([6, 4]))\n"
     ]
    },
    {
     "name": "stderr",
     "output_type": "stream",
     "text": [
      "\r",
      " 91%|█████████ | 1986/2187 [15:25<01:23,  2.40it/s]"
     ]
    },
    {
     "name": "stdout",
     "output_type": "stream",
     "text": [
      "(array([0, 1, 2, 3]), array([ 5, 12, 15,  6]))\n",
      "(array([3]), array([2]))\n"
     ]
    },
    {
     "name": "stderr",
     "output_type": "stream",
     "text": [
      "\r",
      " 91%|█████████ | 1988/2187 [15:25<01:05,  3.03it/s]"
     ]
    },
    {
     "name": "stdout",
     "output_type": "stream",
     "text": [
      "(array([0, 2, 3]), array([ 2, 42, 15]))\n"
     ]
    },
    {
     "name": "stderr",
     "output_type": "stream",
     "text": [
      " 91%|█████████ | 1991/2187 [15:28<01:31,  2.15it/s]"
     ]
    },
    {
     "name": "stdout",
     "output_type": "stream",
     "text": [
      "(array([0, 1, 2, 3]), array([158,  71, 430,   6]))\n",
      "(array([0, 1]), array([3, 9]))\n",
      "(array([2]), array([24]))\n"
     ]
    },
    {
     "name": "stderr",
     "output_type": "stream",
     "text": [
      "\r",
      " 91%|█████████ | 1994/2187 [15:28<01:06,  2.91it/s]"
     ]
    },
    {
     "name": "stdout",
     "output_type": "stream",
     "text": [
      "(array([1]), array([2]))\n",
      "(array([2]), array([4]))\n",
      "(array([0, 1, 2, 3]), array([ 1, 20,  2,  4]))\n",
      "(array([1]), array([4]))\n"
     ]
    },
    {
     "name": "stderr",
     "output_type": "stream",
     "text": [
      "\r",
      " 91%|█████████▏| 1997/2187 [15:28<00:48,  3.92it/s]"
     ]
    },
    {
     "name": "stdout",
     "output_type": "stream",
     "text": [
      "(array([1]), array([1]))\n",
      "(array([0, 1, 2]), array([7, 4, 8]))\n",
      "(array([1, 3]), array([1, 1]))\n",
      "(array([1, 2, 3]), array([5, 3, 1]))\n"
     ]
    },
    {
     "name": "stderr",
     "output_type": "stream",
     "text": [
      " 92%|█████████▏| 2003/2187 [15:29<00:29,  6.25it/s]"
     ]
    },
    {
     "name": "stdout",
     "output_type": "stream",
     "text": [
      "(array([0, 1, 2]), array([16, 21, 22]))\n",
      "(array([3]), array([2]))\n",
      "(array([2]), array([1]))\n",
      "(array([1, 2]), array([15,  2]))\n",
      "(array([1]), array([1]))\n"
     ]
    },
    {
     "name": "stderr",
     "output_type": "stream",
     "text": [
      "\r",
      " 92%|█████████▏| 2005/2187 [15:29<00:35,  5.15it/s]"
     ]
    },
    {
     "name": "stdout",
     "output_type": "stream",
     "text": [
      "(array([0, 1, 2, 3]), array([19, 63, 52,  6]))\n",
      "(array([2]), array([1]))\n",
      "(array([0, 1, 2]), array([1, 4, 1]))\n",
      "(array([0]), array([1]))\n"
     ]
    },
    {
     "name": "stderr",
     "output_type": "stream",
     "text": [
      "\r",
      " 92%|█████████▏| 2009/2187 [15:31<00:44,  4.00it/s]"
     ]
    },
    {
     "name": "stdout",
     "output_type": "stream",
     "text": [
      "(array([0, 1, 2, 3]), array([  2, 191, 153,  49]))\n",
      "(array([2]), array([1]))\n"
     ]
    },
    {
     "name": "stderr",
     "output_type": "stream",
     "text": [
      " 92%|█████████▏| 2013/2187 [15:35<01:34,  1.84it/s]"
     ]
    },
    {
     "name": "stdout",
     "output_type": "stream",
     "text": [
      "(array([0, 1, 2, 3]), array([ 18, 390, 581,  42]))\n",
      "(array([1, 2]), array([13,  1]))\n",
      "(array([1, 2, 3]), array([ 2, 35,  2]))\n"
     ]
    },
    {
     "name": "stderr",
     "output_type": "stream",
     "text": [
      "\r",
      " 92%|█████████▏| 2018/2187 [15:35<01:05,  2.58it/s]"
     ]
    },
    {
     "name": "stdout",
     "output_type": "stream",
     "text": [
      "(array([3]), array([2]))\n",
      "(array([2]), array([1]))\n",
      "(array([1, 2, 3]), array([2, 1, 1]))\n",
      "(array([2]), array([1]))\n",
      "(array([0]), array([4]))\n",
      "(array([2]), array([3]))\n",
      "(array([0, 2]), array([2, 9]))\n"
     ]
    },
    {
     "name": "stderr",
     "output_type": "stream",
     "text": [
      "\r",
      " 92%|█████████▏| 2021/2187 [15:35<00:46,  3.54it/s]"
     ]
    },
    {
     "name": "stdout",
     "output_type": "stream",
     "text": [
      "(array([2]), array([8]))\n",
      "(array([1, 2, 3]), array([1, 1, 1]))\n",
      "(array([2]), array([2]))\n"
     ]
    },
    {
     "name": "stderr",
     "output_type": "stream",
     "text": [
      "\r",
      " 93%|█████████▎| 2024/2187 [15:35<00:36,  4.48it/s]"
     ]
    },
    {
     "name": "stdout",
     "output_type": "stream",
     "text": [
      "(array([0, 1, 2]), array([22,  2, 40]))\n",
      "(array([1, 2, 3]), array([8, 7, 5]))\n"
     ]
    },
    {
     "name": "stderr",
     "output_type": "stream",
     "text": [
      " 93%|█████████▎| 2028/2187 [15:36<00:24,  6.55it/s]"
     ]
    },
    {
     "name": "stdout",
     "output_type": "stream",
     "text": [
      "(array([1, 2]), array([ 1, 47]))\n",
      "(array([3]), array([8]))\n",
      "(array([1, 2, 3]), array([ 2, 23,  5]))\n",
      "(array([0, 1]), array([1, 2]))\n",
      "(array([2]), array([3]))\n",
      "(array([3]), array([1]))\n"
     ]
    },
    {
     "name": "stderr",
     "output_type": "stream",
     "text": [
      " 93%|█████████▎| 2035/2187 [15:36<00:17,  8.84it/s]"
     ]
    },
    {
     "name": "stdout",
     "output_type": "stream",
     "text": [
      "(array([0, 1, 2]), array([24,  8, 66]))\n",
      "(array([1]), array([2]))\n",
      "(array([1, 2]), array([2, 1]))\n",
      "(array([1, 2, 3]), array([24, 18,  1]))\n",
      "(array([2]), array([1]))\n",
      "(array([1, 2, 3]), array([3, 3, 2]))\n"
     ]
    },
    {
     "name": "stderr",
     "output_type": "stream",
     "text": [
      "\r",
      " 93%|█████████▎| 2038/2187 [15:40<01:03,  2.34it/s]"
     ]
    },
    {
     "name": "stdout",
     "output_type": "stream",
     "text": [
      "(array([0, 1, 2, 3]), array([ 44, 232, 833,  88]))\n",
      "(array([1]), array([13]))\n"
     ]
    },
    {
     "name": "stderr",
     "output_type": "stream",
     "text": [
      " 93%|█████████▎| 2044/2187 [15:40<00:34,  4.14it/s]"
     ]
    },
    {
     "name": "stdout",
     "output_type": "stream",
     "text": [
      "(array([0, 1, 2]), array([14, 24,  7]))\n",
      "(array([1, 2]), array([1, 4]))\n",
      "(array([2]), array([2]))\n",
      "(array([3]), array([4]))\n",
      "(array([0]), array([1]))\n"
     ]
    },
    {
     "name": "stderr",
     "output_type": "stream",
     "text": [
      " 94%|█████████▎| 2050/2187 [15:42<00:35,  3.89it/s]"
     ]
    },
    {
     "name": "stdout",
     "output_type": "stream",
     "text": [
      "(array([0, 1, 2, 3]), array([  9, 230,  74,  21]))\n",
      "(array([1, 2, 3]), array([4, 3, 8]))\n",
      "(array([2]), array([2]))\n",
      "(array([2]), array([1]))\n",
      "(array([2]), array([3]))\n",
      "(array([2]), array([3]))\n"
     ]
    },
    {
     "name": "stderr",
     "output_type": "stream",
     "text": [
      " 94%|█████████▍| 2051/2187 [15:58<11:57,  5.28s/it]"
     ]
    },
    {
     "name": "stdout",
     "output_type": "stream",
     "text": [
      "(array([0, 1, 2, 3]), array([ 526, 1871, 1966,  478]))\n",
      "(array([1]), array([1]))\n",
      "(array([3]), array([1]))\n"
     ]
    },
    {
     "name": "stderr",
     "output_type": "stream",
     "text": [
      "\r",
      " 94%|█████████▍| 2054/2187 [16:02<08:58,  4.05s/it]"
     ]
    },
    {
     "name": "stdout",
     "output_type": "stream",
     "text": [
      "(array([0, 1, 2, 3]), array([ 26, 765, 133,  34]))\n",
      "(array([1]), array([2]))\n",
      "(array([2]), array([1]))\n"
     ]
    },
    {
     "name": "stderr",
     "output_type": "stream",
     "text": [
      "\r",
      " 94%|█████████▍| 2057/2187 [16:03<06:20,  2.93s/it]"
     ]
    },
    {
     "name": "stdout",
     "output_type": "stream",
     "text": [
      "(array([0, 1, 2, 3]), array([  3, 133,  83,  73]))\n",
      "(array([2]), array([1]))\n",
      "(array([2, 3]), array([1, 1]))\n",
      "(array([0, 2]), array([2, 1]))\n"
     ]
    },
    {
     "name": "stderr",
     "output_type": "stream",
     "text": [
      " 94%|█████████▍| 2064/2187 [16:04<03:01,  1.47s/it]"
     ]
    },
    {
     "name": "stdout",
     "output_type": "stream",
     "text": [
      "(array([0, 1, 2, 3]), array([ 13,  15, 116,  19]))\n",
      "(array([2]), array([5]))\n",
      "(array([1, 2, 3]), array([1, 2, 8]))\n",
      "(array([1]), array([5]))\n",
      "(array([1, 2, 3]), array([2, 1, 1]))\n"
     ]
    },
    {
     "name": "stderr",
     "output_type": "stream",
     "text": [
      " 95%|█████████▍| 2071/2187 [16:04<01:30,  1.28it/s]"
     ]
    },
    {
     "name": "stdout",
     "output_type": "stream",
     "text": [
      "(array([0, 1, 2, 3]), array([14, 40, 53, 40]))\n",
      "(array([2]), array([3]))\n",
      "(array([1]), array([1]))\n",
      "(array([0]), array([1]))\n",
      "(array([2]), array([5]))\n",
      "(array([1]), array([2]))\n",
      "(array([1]), array([2]))\n"
     ]
    },
    {
     "name": "stderr",
     "output_type": "stream",
     "text": [
      " 95%|█████████▍| 2075/2187 [16:05<00:50,  2.24it/s]"
     ]
    },
    {
     "name": "stdout",
     "output_type": "stream",
     "text": [
      "(array([1, 2, 3]), array([18, 91, 26]))\n",
      "(array([2]), array([2]))\n",
      "(array([2]), array([26]))\n",
      "(array([0, 2, 3]), array([15, 39,  4]))\n"
     ]
    },
    {
     "name": "stderr",
     "output_type": "stream",
     "text": [
      "\r",
      " 95%|█████████▍| 2077/2187 [16:12<02:33,  1.40s/it]"
     ]
    },
    {
     "name": "stdout",
     "output_type": "stream",
     "text": [
      "(array([0, 1, 2, 3]), array([  43, 1395,  761,  241]))\n",
      "(array([1]), array([1]))\n"
     ]
    },
    {
     "name": "stderr",
     "output_type": "stream",
     "text": [
      "\r",
      " 95%|█████████▌| 2079/2187 [16:15<02:35,  1.44s/it]"
     ]
    },
    {
     "name": "stdout",
     "output_type": "stream",
     "text": [
      "(array([0, 1, 2, 3]), array([423,  67, 481,   7]))\n",
      "(array([1]), array([1]))\n"
     ]
    },
    {
     "name": "stderr",
     "output_type": "stream",
     "text": [
      "\r",
      " 95%|█████████▌| 2081/2187 [16:15<01:52,  1.06s/it]"
     ]
    },
    {
     "name": "stdout",
     "output_type": "stream",
     "text": [
      "(array([0, 1, 2, 3]), array([47, 27, 19,  5]))\n",
      "(array([2]), array([1]))\n"
     ]
    },
    {
     "name": "stderr",
     "output_type": "stream",
     "text": [
      " 95%|█████████▌| 2085/2187 [16:17<01:05,  1.56it/s]"
     ]
    },
    {
     "name": "stdout",
     "output_type": "stream",
     "text": [
      "(array([1, 2, 3]), array([195, 125,   3]))\n",
      "(array([3]), array([2]))\n",
      "(array([0, 2, 3]), array([ 1, 23,  3]))\n"
     ]
    },
    {
     "name": "stderr",
     "output_type": "stream",
     "text": [
      "\r",
      " 95%|█████████▌| 2086/2187 [16:23<04:02,  2.40s/it]"
     ]
    },
    {
     "name": "stdout",
     "output_type": "stream",
     "text": [
      "(array([0, 1, 2, 3]), array([498, 633, 969,   7]))\n"
     ]
    },
    {
     "name": "stderr",
     "output_type": "stream",
     "text": [
      "\r",
      " 95%|█████████▌| 2087/2187 [16:24<03:02,  1.82s/it]"
     ]
    },
    {
     "name": "stdout",
     "output_type": "stream",
     "text": [
      "(array([0, 1, 2]), array([20, 76, 51]))\n",
      "(array([1, 2]), array([1, 3]))\n",
      "(array([2]), array([1]))\n",
      "(array([0, 1]), array([3, 5]))\n"
     ]
    },
    {
     "name": "stderr",
     "output_type": "stream",
     "text": [
      " 96%|█████████▌| 2093/2187 [16:34<02:17,  1.46s/it]"
     ]
    },
    {
     "name": "stdout",
     "output_type": "stream",
     "text": [
      "(array([0, 1, 2, 3]), array([1662,  153, 1374,   35]))\n",
      "(array([1, 2]), array([3, 1]))\n",
      "(array([0, 1, 2]), array([ 2, 11, 15]))\n"
     ]
    },
    {
     "name": "stderr",
     "output_type": "stream",
     "text": [
      "\r",
      " 96%|█████████▌| 2094/2187 [16:35<01:51,  1.20s/it]"
     ]
    },
    {
     "name": "stdout",
     "output_type": "stream",
     "text": [
      "(array([0, 1, 2, 3]), array([  1,   8,  33, 148]))\n",
      "(array([2]), array([3]))\n",
      "(array([0, 1, 2]), array([2, 1, 3]))\n",
      "(array([2]), array([4]))\n"
     ]
    },
    {
     "name": "stderr",
     "output_type": "stream",
     "text": [
      " 96%|█████████▌| 2101/2187 [16:35<00:53,  1.61it/s]"
     ]
    },
    {
     "name": "stdout",
     "output_type": "stream",
     "text": [
      "(array([0, 1, 2, 3]), array([29, 15, 71,  4]))\n",
      "(array([3]), array([1]))\n",
      "(array([0, 1, 2]), array([ 8,  4, 11]))\n",
      "(array([2]), array([1]))\n"
     ]
    },
    {
     "name": "stderr",
     "output_type": "stream",
     "text": [
      "\r",
      " 96%|█████████▌| 2103/2187 [16:36<00:41,  2.04it/s]"
     ]
    },
    {
     "name": "stdout",
     "output_type": "stream",
     "text": [
      "(array([1, 2, 3]), array([40, 17, 43]))\n",
      "(array([0, 2]), array([ 3, 14]))\n",
      "(array([1, 2]), array([1, 3]))\n",
      "(array([0, 2, 3]), array([4, 5, 2]))\n"
     ]
    },
    {
     "name": "stderr",
     "output_type": "stream",
     "text": [
      " 96%|█████████▋| 2109/2187 [16:37<00:26,  2.97it/s]"
     ]
    },
    {
     "name": "stdout",
     "output_type": "stream",
     "text": [
      "(array([0, 1, 2, 3]), array([ 17, 312,  54,  22]))\n",
      "(array([2]), array([1]))\n",
      "(array([1]), array([1]))\n",
      "(array([0, 2, 3]), array([ 7, 23,  2]))\n",
      "(array([0, 1, 2]), array([4, 1, 5]))\n"
     ]
    },
    {
     "name": "stderr",
     "output_type": "stream",
     "text": [
      " 97%|█████████▋| 2117/2187 [16:37<00:12,  5.56it/s]"
     ]
    },
    {
     "name": "stdout",
     "output_type": "stream",
     "text": [
      "(array([2, 3]), array([3, 4]))\n",
      "(array([2]), array([4]))\n",
      "(array([2]), array([1]))\n",
      "(array([1, 2]), array([2, 3]))\n",
      "(array([1]), array([2]))\n",
      "(array([2]), array([1]))\n",
      "(array([1]), array([1]))\n"
     ]
    },
    {
     "name": "stderr",
     "output_type": "stream",
     "text": [
      "\r",
      " 97%|█████████▋| 2120/2187 [16:38<00:10,  6.51it/s]"
     ]
    },
    {
     "name": "stdout",
     "output_type": "stream",
     "text": [
      "(array([0, 1, 2, 3]), array([11,  8, 41,  4]))\n",
      "(array([1, 2, 3]), array([7, 2, 8]))\n",
      "(array([2]), array([1]))\n",
      "(array([1]), array([1]))\n",
      "(array([2, 3]), array([1, 1]))\n"
     ]
    },
    {
     "name": "stderr",
     "output_type": "stream",
     "text": [
      " 97%|█████████▋| 2125/2187 [16:39<00:13,  4.71it/s]"
     ]
    },
    {
     "name": "stdout",
     "output_type": "stream",
     "text": [
      "(array([0, 1, 2, 3]), array([261,  13, 219,   7]))\n",
      "(array([1, 2, 3]), array([22,  2,  2]))\n",
      "(array([2]), array([1]))\n",
      "(array([2]), array([3]))\n"
     ]
    },
    {
     "name": "stderr",
     "output_type": "stream",
     "text": [
      "\r",
      " 97%|█████████▋| 2127/2187 [16:40<00:11,  5.12it/s]"
     ]
    },
    {
     "name": "stdout",
     "output_type": "stream",
     "text": [
      "(array([0, 1, 2, 3]), array([31,  8, 52,  4]))\n",
      "(array([0, 1, 2]), array([ 4,  3, 14]))\n",
      "(array([2]), array([1]))\n"
     ]
    },
    {
     "name": "stderr",
     "output_type": "stream",
     "text": [
      " 97%|█████████▋| 2131/2187 [16:42<00:17,  3.18it/s]"
     ]
    },
    {
     "name": "stdout",
     "output_type": "stream",
     "text": [
      "(array([0, 1, 2, 3]), array([ 23,  33, 717,  78]))\n",
      "(array([1, 2]), array([ 1, 30]))\n"
     ]
    },
    {
     "name": "stderr",
     "output_type": "stream",
     "text": [
      "\r",
      " 97%|█████████▋| 2132/2187 [16:43<00:16,  3.35it/s]"
     ]
    },
    {
     "name": "stdout",
     "output_type": "stream",
     "text": [
      "(array([0, 1, 2, 3]), array([ 1,  9, 54, 21]))\n",
      "(array([2]), array([1]))\n",
      "(array([1]), array([1]))\n",
      "(array([2]), array([1]))\n",
      "(array([3]), array([2]))\n"
     ]
    },
    {
     "name": "stderr",
     "output_type": "stream",
     "text": [
      " 98%|█████████▊| 2139/2187 [16:43<00:09,  5.22it/s]"
     ]
    },
    {
     "name": "stdout",
     "output_type": "stream",
     "text": [
      "(array([0, 1, 2]), array([47, 51, 70]))\n",
      "(array([2]), array([1]))\n",
      "(array([1, 2, 3]), array([ 3, 29,  3]))\n"
     ]
    },
    {
     "name": "stderr",
     "output_type": "stream",
     "text": [
      "\r",
      " 98%|█████████▊| 2141/2187 [16:44<00:07,  5.93it/s]"
     ]
    },
    {
     "name": "stdout",
     "output_type": "stream",
     "text": [
      "(array([2]), array([64]))\n",
      "(array([1, 3]), array([1, 2]))\n",
      "(array([2]), array([2]))\n",
      "(array([2]), array([1]))\n"
     ]
    },
    {
     "name": "stderr",
     "output_type": "stream",
     "text": [
      "\r",
      " 98%|█████████▊| 2144/2187 [16:44<00:05,  7.32it/s]"
     ]
    },
    {
     "name": "stdout",
     "output_type": "stream",
     "text": [
      "(array([0, 1, 2, 3]), array([ 5,  5, 31,  4]))\n",
      "(array([1]), array([2]))\n",
      "(array([1]), array([2]))\n",
      "(array([1]), array([1]))\n",
      "(array([2]), array([1]))\n"
     ]
    },
    {
     "name": "stderr",
     "output_type": "stream",
     "text": [
      " 98%|█████████▊| 2151/2187 [16:44<00:03, 10.16it/s]"
     ]
    },
    {
     "name": "stdout",
     "output_type": "stream",
     "text": [
      "(array([0, 1, 2]), array([ 6, 16, 15]))\n",
      "(array([0, 1, 2]), array([ 1,  2, 28]))\n",
      "(array([0, 2]), array([ 5, 10]))\n",
      "(array([2]), array([1]))\n",
      "(array([0]), array([1]))\n",
      "(array([1]), array([1]))\n",
      "(array([2]), array([1]))\n"
     ]
    },
    {
     "name": "stderr",
     "output_type": "stream",
     "text": [
      " 99%|█████████▉| 2160/2187 [16:45<00:02, 11.29it/s]"
     ]
    },
    {
     "name": "stdout",
     "output_type": "stream",
     "text": [
      "(array([0, 1, 2, 3]), array([ 10,   9, 201,   1]))\n",
      "(array([1, 2]), array([2, 1]))\n",
      "(array([0, 1, 2]), array([1, 1, 2]))\n",
      "(array([0, 1, 2, 3]), array([1, 1, 6, 1]))\n",
      "(array([1]), array([1]))\n",
      "(array([1]), array([1]))\n",
      "(array([2]), array([3]))\n",
      "(array([2]), array([1]))\n",
      "(array([2]), array([1]))\n"
     ]
    },
    {
     "name": "stderr",
     "output_type": "stream",
     "text": [
      " 99%|█████████▉| 2168/2187 [16:46<00:01, 12.92it/s]"
     ]
    },
    {
     "name": "stdout",
     "output_type": "stream",
     "text": [
      "(array([2]), array([141]))\n",
      "(array([2]), array([1]))\n",
      "(array([1, 2]), array([ 8, 15]))\n",
      "(array([2]), array([3]))\n"
     ]
    },
    {
     "name": "stderr",
     "output_type": "stream",
     "text": [
      "\r",
      " 99%|█████████▉| 2170/2187 [16:46<00:01,  8.78it/s]"
     ]
    },
    {
     "name": "stdout",
     "output_type": "stream",
     "text": [
      "(array([0, 1, 2]), array([17, 25, 78]))\n",
      "(array([2]), array([5]))\n",
      "(array([2]), array([2]))\n",
      "(array([2]), array([1]))\n",
      "(array([1, 2]), array([1, 1]))\n",
      "(array([2]), array([1]))\n"
     ]
    },
    {
     "name": "stderr",
     "output_type": "stream",
     "text": [
      "100%|█████████▉| 2178/2187 [16:47<00:00, 10.92it/s]"
     ]
    },
    {
     "name": "stdout",
     "output_type": "stream",
     "text": [
      "(array([0, 2, 3]), array([ 14, 153,   5]))\n",
      "(array([1, 2]), array([ 1, 12]))\n",
      "(array([1]), array([1]))\n",
      "(array([1, 3]), array([3, 1]))\n",
      "(array([2]), array([1]))\n"
     ]
    },
    {
     "name": "stderr",
     "output_type": "stream",
     "text": [
      "100%|█████████▉| 2183/2187 [16:47<00:00, 10.53it/s]"
     ]
    },
    {
     "name": "stdout",
     "output_type": "stream",
     "text": [
      "(array([2]), array([90]))\n",
      "(array([1, 2, 3]), array([1, 1, 1]))\n",
      "(array([1]), array([1]))\n",
      "(array([2]), array([9]))\n",
      "(array([2]), array([2]))\n",
      "(array([3]), array([1]))\n"
     ]
    },
    {
     "name": "stderr",
     "output_type": "stream",
     "text": [
      "100%|██████████| 2187/2187 [16:47<00:00,  2.17it/s]"
     ]
    },
    {
     "name": "stdout",
     "output_type": "stream",
     "text": [
      "(array([1]), array([13]))\n",
      "(array([1, 2]), array([3, 1]))\n"
     ]
    },
    {
     "name": "stderr",
     "output_type": "stream",
     "text": [
      "\n"
     ]
    }
   ],
   "source": [
    "#########################################\n",
    "######### PREDICT ON TEST DATA ##########\n",
    "#########################################\n",
    "root_dir = '/media/cat/7e3d5af3-7d7b-424d-bdd5-eb995a4a0c62/dan/cohort1/march_16/2020_3_15_11_53_51_617746_compressed/animal_images/'\n",
    "\n",
    "selected_tracks = glob.glob(root_dir+\"*\")\n",
    "print (\"# tracks: \", len(selected_tracks))\n",
    "\n",
    "from tqdm import tqdm\n",
    "for selected_track in tqdm(selected_tracks):\n",
    "    predictions, confidence = load_training_data_run_prediction(selected_track, \n",
    "                                                                model,\n",
    "                                                                device)\n",
    "    #print (np.unique(predictions, return_counts=True))\n",
    "    "
   ]
  },
  {
   "cell_type": "code",
   "execution_count": 12,
   "metadata": {
    "scrolled": true
   },
   "outputs": [
    {
     "name": "stdout",
     "output_type": "stream",
     "text": [
      "(146, 4)\n",
      "[2 2 2 0 1 2 3 2 1 2 2 2 3 3 2 2 1 2 3 2 2 2 2 1 2 1 1 2 2 2 1 1 1 2 2 2 2\n",
      " 1 2 3 2 2 3 2 2 2 3 2 2 2 2 2 2 2 2 1 3 2 2 2 2 3 2 2 1 2 2 2 2 2 2 2 2 2\n",
      " 2 3 1 2 2 1 2 2 2 1 2 2 2 2 1 2 2 2 2 2 1 2 2 2 2 2]\n",
      "(array([0, 1, 2, 3]), array([  2,  28, 106,  10]))\n"
     ]
    }
   ],
   "source": [
    "# \n",
    "fnames = [\n",
    "'/media/cat/7e3d5af3-7d7b-424d-bdd5-eb995a4a0c62/dan/cohort1/march_16/2020_3_15_11_53_51_617746_compressed/animal_images/831/predictions.npz'\n",
    "]\n",
    "\n",
    "for fname in fnames:\n",
    "    data = np.load(fname)\n",
    "\n",
    "    confidence = data['confidence']\n",
    "    print (confidence.shape)\n",
    "    predictions = data['predictions']\n",
    "    print (predictions[:100])\n",
    "    print (np.unique(predictions, return_counts=True))"
   ]
  },
  {
   "cell_type": "code",
   "execution_count": null,
   "metadata": {},
   "outputs": [],
   "source": []
  },
  {
   "cell_type": "code",
   "execution_count": 16,
   "metadata": {},
   "outputs": [
    {
     "name": "stderr",
     "output_type": "stream",
     "text": [
      "  2%|▏         | 54/2187 [00:00<00:04, 531.85it/s]"
     ]
    },
    {
     "name": "stdout",
     "output_type": "stream",
     "text": [
      "# tracks:  2187\n"
     ]
    },
    {
     "name": "stderr",
     "output_type": "stream",
     "text": [
      "100%|██████████| 2187/2187 [00:04<00:00, 539.80it/s]\n"
     ]
    },
    {
     "name": "stdout",
     "output_type": "stream",
     "text": [
      "/media/cat/7e3d5af3-7d7b-424d-bdd5-eb995a4a0c62/dan/cohort1/march_16/2020_3_15_11_53_51_617746_compressed/classification_output.npz\n"
     ]
    }
   ],
   "source": [
    "#######################################################################\n",
    "######### COMBINE ALL PREDICTIONS INTO classificatoin_output.npz ######\n",
    "#######################################################################\n",
    "''' Combine all predictions into final file:\n",
    "    \n",
    "\n",
    "'''\n",
    "\n",
    "def load_prediction_results(selected_track):\n",
    "\n",
    "# prep save file;\n",
    "    fname_out = os.path.join(selected_track,\"predictions.npz\")\n",
    "    data = np.load(fname_out)\n",
    "    \n",
    "    preds = data['predictions']\n",
    "    conf = data['confidence']\n",
    "    frame_ids = data['frame_ids']\n",
    "    track_id = data['track_id']\n",
    "\n",
    "    track_ids = np.zeros(preds.shape[0])+track_id\n",
    "    \n",
    "    return track_ids, conf, frame_ids, preds\n",
    "   \n",
    "        \n",
    "        \n",
    "root_dir = '/media/cat/7e3d5af3-7d7b-424d-bdd5-eb995a4a0c62/dan/cohort1/march_16/2020_3_15_11_53_51_617746_compressed/animal_images/'\n",
    "\n",
    "selected_tracks = glob.glob(root_dir+\"*\")\n",
    "print (\"# tracks: \", len(selected_tracks))\n",
    "\n",
    "from tqdm import tqdm\n",
    "\n",
    "vals = []\n",
    "classes = []\n",
    "frames_array = []\n",
    "confidence = []\n",
    "for selected_track in tqdm(selected_tracks):\n",
    "    track_ids, conf_temp, frames_temp, preds = load_prediction_results(selected_track)\n",
    "    \n",
    "    vals.extend(track_ids)\n",
    "    confidence.extend(conf_temp)\n",
    "    frames_array.extend(frames_temp)\n",
    "    classes.extend(preds)\n",
    "    \n",
    "# \n",
    "fname_out = os.path.split(root_dir[:-1])[0]+'/classification_output.npz'\n",
    "print (fname_out)\n",
    "np.savez(fname_out,\n",
    "         vals = vals,\n",
    "         classes = classes,\n",
    "         confidence = confidence,\n",
    "         frames_array = frames_array)\n"
   ]
  },
  {
   "cell_type": "code",
   "execution_count": null,
   "metadata": {},
   "outputs": [],
   "source": []
  },
  {
   "cell_type": "code",
   "execution_count": null,
   "metadata": {},
   "outputs": [],
   "source": []
  },
  {
   "cell_type": "markdown",
   "metadata": {},
   "source": [
    "DONE"
   ]
  },
  {
   "cell_type": "code",
   "execution_count": null,
   "metadata": {},
   "outputs": [],
   "source": []
  },
  {
   "cell_type": "code",
   "execution_count": null,
   "metadata": {},
   "outputs": [],
   "source": []
  },
  {
   "cell_type": "code",
   "execution_count": 84,
   "metadata": {},
   "outputs": [
    {
     "name": "stdout",
     "output_type": "stream",
     "text": [
      "Main animal  female\n"
     ]
    }
   ],
   "source": [
    "########################################\n",
    "########### PLOT RESULTS ###############\n",
    "########################################\n",
    "    \n",
    "plot_bars(predictions, confidence, test_data)\n",
    "\n",
    "\n",
    "\n",
    "# #(ctr, ids, classes, logits) = predict_cnn2(x_test, y_test)\n",
    "  \n",
    "# classes = np.hstack(classes)\n",
    "# print (\"classes: \", classes)\n",
    "\n",
    "# np.savez(root_dir+selected_output+'/classification_output.npz',\n",
    "#          track_id=selected_track,\n",
    "#          classes=predictions,\n",
    "#          confidence=confidence,\n",
    "#          )\n",
    "\n",
    "\n",
    "# print ('done')\n",
    "# REVIEW OUTPUT\n",
    "\n",
    "# thresh = 0.8\n",
    "# idx = np.where(confidence>thresh)[0]\n",
    "# a, b = np.unique(predictions[idx], return_counts=True)\n",
    "# if a.shape[0]>0:\n",
    "#     print (\"ids: \", a, \" counts: \", b)\n",
    "#     animal_best = a[np.argmax(b)]\n",
    "#     highest = np.max(b)/predictions[idx].shape[0]\n",
    "#     print ('Best animal predicted: ', animal_best, \"  purity: \", highest, \n",
    "#            \" # total frames: \", predictions.shape[0],\n",
    "#           \" # frames > threshold: \", idx.shape[0])\n",
    "#     #print (predictions[:10])\n",
    "# else:\n",
    "#     print(\"no images over threhsold\")\n",
    "\n",
    "# for k in range(4):\n",
    "#     ax=plt.subplot(2,2,k+1)\n",
    "#     try:\n",
    "#         idx = np.random.choice(np.arange(test_data.shape[0]))\n",
    "#         plt.imshow(test_data[idx].squeeze().cpu().detach().numpy().transpose(1,2,0))\n",
    "#     except:\n",
    "#         pass\n",
    "# plt.show()\n"
   ]
  },
  {
   "cell_type": "code",
   "execution_count": 35,
   "metadata": {},
   "outputs": [
    {
     "name": "stdout",
     "output_type": "stream",
     "text": [
      "(array([0, 2, 3]), array([ 1, 31, 47]))\n"
     ]
    }
   ],
   "source": [
    "idx = np.where(c>0.9)[0]\n",
    "\n",
    "print (np.unique(p[idx], return_counts=True))"
   ]
  },
  {
   "cell_type": "code",
   "execution_count": 60,
   "metadata": {},
   "outputs": [
    {
     "name": "stdout",
     "output_type": "stream",
     "text": [
      "(200, 200)\n"
     ]
    }
   ],
   "source": [
    "data = np.load('/media/cat/7e3d5af3-7d7b-424d-bdd5-eb995a4a0c62/dan/cohort1/march_9/2020-3-9_12_14_22_815059_compressed/cnn_output_10mins/0/frame_0000374_id_0.npz')\n",
    "frame = data['frame']\n",
    "print (frame.shape)"
   ]
  },
  {
   "cell_type": "code",
   "execution_count": 17,
   "metadata": {},
   "outputs": [
    {
     "name": "stdout",
     "output_type": "stream",
     "text": [
      "(831, 200, 200, 3)\n"
     ]
    },
    {
     "ename": "ValueError",
     "evalue": "num must be 1 <= num <= 10, not 11",
     "output_type": "error",
     "traceback": [
      "\u001b[0;31m---------------------------------------------------------------------------\u001b[0m",
      "\u001b[0;31mValueError\u001b[0m                                Traceback (most recent call last)",
      "\u001b[0;32m<ipython-input-17-a80bf16c6ade>\u001b[0m in \u001b[0;36m<module>\u001b[0;34m\u001b[0m\n\u001b[1;32m      6\u001b[0m \u001b[0mctr\u001b[0m\u001b[0;34m=\u001b[0m\u001b[0;36m0\u001b[0m\u001b[0;34m\u001b[0m\u001b[0;34m\u001b[0m\u001b[0m\n\u001b[1;32m      7\u001b[0m \u001b[0;32mfor\u001b[0m \u001b[0mk\u001b[0m \u001b[0;32min\u001b[0m \u001b[0mrange\u001b[0m\u001b[0;34m(\u001b[0m\u001b[0;36m0\u001b[0m\u001b[0;34m,\u001b[0m\u001b[0;36m172\u001b[0m\u001b[0;34m,\u001b[0m\u001b[0;36m10\u001b[0m\u001b[0;34m)\u001b[0m\u001b[0;34m:\u001b[0m\u001b[0;34m\u001b[0m\u001b[0;34m\u001b[0m\u001b[0m\n\u001b[0;32m----> 8\u001b[0;31m     \u001b[0max\u001b[0m\u001b[0;34m=\u001b[0m\u001b[0mplt\u001b[0m\u001b[0;34m.\u001b[0m\u001b[0msubplot\u001b[0m\u001b[0;34m(\u001b[0m\u001b[0;36m2\u001b[0m\u001b[0;34m,\u001b[0m\u001b[0;36m5\u001b[0m\u001b[0;34m,\u001b[0m\u001b[0mctr\u001b[0m\u001b[0;34m+\u001b[0m\u001b[0;36m1\u001b[0m\u001b[0;34m)\u001b[0m\u001b[0;34m\u001b[0m\u001b[0;34m\u001b[0m\u001b[0m\n\u001b[0m\u001b[1;32m      9\u001b[0m     \u001b[0mplt\u001b[0m\u001b[0;34m.\u001b[0m\u001b[0mimshow\u001b[0m\u001b[0;34m(\u001b[0m\u001b[0mimages\u001b[0m\u001b[0;34m[\u001b[0m\u001b[0mk\u001b[0m\u001b[0;34m]\u001b[0m\u001b[0;34m)\u001b[0m\u001b[0;34m\u001b[0m\u001b[0;34m\u001b[0m\u001b[0m\n\u001b[1;32m     10\u001b[0m     \u001b[0mctr\u001b[0m\u001b[0;34m+=\u001b[0m\u001b[0;36m1\u001b[0m\u001b[0;34m\u001b[0m\u001b[0;34m\u001b[0m\u001b[0m\n",
      "\u001b[0;32m~/miniconda3/envs/pytorch/lib/python3.8/site-packages/matplotlib/pyplot.py\u001b[0m in \u001b[0;36msubplot\u001b[0;34m(*args, **kwargs)\u001b[0m\n\u001b[1;32m   1140\u001b[0m \u001b[0;34m\u001b[0m\u001b[0m\n\u001b[1;32m   1141\u001b[0m     \u001b[0mfig\u001b[0m \u001b[0;34m=\u001b[0m \u001b[0mgcf\u001b[0m\u001b[0;34m(\u001b[0m\u001b[0;34m)\u001b[0m\u001b[0;34m\u001b[0m\u001b[0;34m\u001b[0m\u001b[0m\n\u001b[0;32m-> 1142\u001b[0;31m     \u001b[0max\u001b[0m \u001b[0;34m=\u001b[0m \u001b[0mfig\u001b[0m\u001b[0;34m.\u001b[0m\u001b[0madd_subplot\u001b[0m\u001b[0;34m(\u001b[0m\u001b[0;34m*\u001b[0m\u001b[0margs\u001b[0m\u001b[0;34m,\u001b[0m \u001b[0;34m**\u001b[0m\u001b[0mkwargs\u001b[0m\u001b[0;34m)\u001b[0m\u001b[0;34m\u001b[0m\u001b[0;34m\u001b[0m\u001b[0m\n\u001b[0m\u001b[1;32m   1143\u001b[0m     \u001b[0mbbox\u001b[0m \u001b[0;34m=\u001b[0m \u001b[0max\u001b[0m\u001b[0;34m.\u001b[0m\u001b[0mbbox\u001b[0m\u001b[0;34m\u001b[0m\u001b[0;34m\u001b[0m\u001b[0m\n\u001b[1;32m   1144\u001b[0m     \u001b[0maxes_to_delete\u001b[0m \u001b[0;34m=\u001b[0m \u001b[0;34m[\u001b[0m\u001b[0;34m]\u001b[0m\u001b[0;34m\u001b[0m\u001b[0;34m\u001b[0m\u001b[0m\n",
      "\u001b[0;32m~/miniconda3/envs/pytorch/lib/python3.8/site-packages/matplotlib/figure.py\u001b[0m in \u001b[0;36madd_subplot\u001b[0;34m(self, *args, **kwargs)\u001b[0m\n\u001b[1;32m   1400\u001b[0m                     \u001b[0;31m# more similar to add_axes.\u001b[0m\u001b[0;34m\u001b[0m\u001b[0;34m\u001b[0m\u001b[0;34m\u001b[0m\u001b[0m\n\u001b[1;32m   1401\u001b[0m                     \u001b[0mself\u001b[0m\u001b[0;34m.\u001b[0m\u001b[0m_axstack\u001b[0m\u001b[0;34m.\u001b[0m\u001b[0mremove\u001b[0m\u001b[0;34m(\u001b[0m\u001b[0max\u001b[0m\u001b[0;34m)\u001b[0m\u001b[0;34m\u001b[0m\u001b[0;34m\u001b[0m\u001b[0m\n\u001b[0;32m-> 1402\u001b[0;31m             \u001b[0max\u001b[0m \u001b[0;34m=\u001b[0m \u001b[0msubplot_class_factory\u001b[0m\u001b[0;34m(\u001b[0m\u001b[0mprojection_class\u001b[0m\u001b[0;34m)\u001b[0m\u001b[0;34m(\u001b[0m\u001b[0mself\u001b[0m\u001b[0;34m,\u001b[0m \u001b[0;34m*\u001b[0m\u001b[0margs\u001b[0m\u001b[0;34m,\u001b[0m \u001b[0;34m**\u001b[0m\u001b[0mkwargs\u001b[0m\u001b[0;34m)\u001b[0m\u001b[0;34m\u001b[0m\u001b[0;34m\u001b[0m\u001b[0m\n\u001b[0m\u001b[1;32m   1403\u001b[0m \u001b[0;34m\u001b[0m\u001b[0m\n\u001b[1;32m   1404\u001b[0m         \u001b[0;32mreturn\u001b[0m \u001b[0mself\u001b[0m\u001b[0;34m.\u001b[0m\u001b[0m_add_axes_internal\u001b[0m\u001b[0;34m(\u001b[0m\u001b[0mkey\u001b[0m\u001b[0;34m,\u001b[0m \u001b[0max\u001b[0m\u001b[0;34m)\u001b[0m\u001b[0;34m\u001b[0m\u001b[0;34m\u001b[0m\u001b[0m\n",
      "\u001b[0;32m~/miniconda3/envs/pytorch/lib/python3.8/site-packages/matplotlib/axes/_subplots.py\u001b[0m in \u001b[0;36m__init__\u001b[0;34m(self, fig, *args, **kwargs)\u001b[0m\n\u001b[1;32m     37\u001b[0m \u001b[0;34m\u001b[0m\u001b[0m\n\u001b[1;32m     38\u001b[0m         \u001b[0mself\u001b[0m\u001b[0;34m.\u001b[0m\u001b[0mfigure\u001b[0m \u001b[0;34m=\u001b[0m \u001b[0mfig\u001b[0m\u001b[0;34m\u001b[0m\u001b[0;34m\u001b[0m\u001b[0m\n\u001b[0;32m---> 39\u001b[0;31m         \u001b[0mself\u001b[0m\u001b[0;34m.\u001b[0m\u001b[0m_subplotspec\u001b[0m \u001b[0;34m=\u001b[0m \u001b[0mSubplotSpec\u001b[0m\u001b[0;34m.\u001b[0m\u001b[0m_from_subplot_args\u001b[0m\u001b[0;34m(\u001b[0m\u001b[0mfig\u001b[0m\u001b[0;34m,\u001b[0m \u001b[0margs\u001b[0m\u001b[0;34m)\u001b[0m\u001b[0;34m\u001b[0m\u001b[0;34m\u001b[0m\u001b[0m\n\u001b[0m\u001b[1;32m     40\u001b[0m         \u001b[0mself\u001b[0m\u001b[0;34m.\u001b[0m\u001b[0mupdate_params\u001b[0m\u001b[0;34m(\u001b[0m\u001b[0;34m)\u001b[0m\u001b[0;34m\u001b[0m\u001b[0;34m\u001b[0m\u001b[0m\n\u001b[1;32m     41\u001b[0m         \u001b[0;31m# _axes_class is set in the subplot_class_factory\u001b[0m\u001b[0;34m\u001b[0m\u001b[0;34m\u001b[0m\u001b[0;34m\u001b[0m\u001b[0m\n",
      "\u001b[0;32m~/miniconda3/envs/pytorch/lib/python3.8/site-packages/matplotlib/gridspec.py\u001b[0m in \u001b[0;36m_from_subplot_args\u001b[0;34m(figure, args)\u001b[0m\n\u001b[1;32m    687\u001b[0m                     \u001b[0mnum\u001b[0m \u001b[0;34m=\u001b[0m \u001b[0mint\u001b[0m\u001b[0;34m(\u001b[0m\u001b[0mnum\u001b[0m\u001b[0;34m)\u001b[0m\u001b[0;34m\u001b[0m\u001b[0;34m\u001b[0m\u001b[0m\n\u001b[1;32m    688\u001b[0m                 \u001b[0;32mif\u001b[0m \u001b[0mnum\u001b[0m \u001b[0;34m<\u001b[0m \u001b[0;36m1\u001b[0m \u001b[0;32mor\u001b[0m \u001b[0mnum\u001b[0m \u001b[0;34m>\u001b[0m \u001b[0mrows\u001b[0m\u001b[0;34m*\u001b[0m\u001b[0mcols\u001b[0m\u001b[0;34m:\u001b[0m\u001b[0;34m\u001b[0m\u001b[0;34m\u001b[0m\u001b[0m\n\u001b[0;32m--> 689\u001b[0;31m                     raise ValueError(\n\u001b[0m\u001b[1;32m    690\u001b[0m                         f\"num must be 1 <= num <= {rows*cols}, not {num}\")\n\u001b[1;32m    691\u001b[0m                 \u001b[0;32mreturn\u001b[0m \u001b[0mgs\u001b[0m\u001b[0;34m[\u001b[0m\u001b[0mnum\u001b[0m \u001b[0;34m-\u001b[0m \u001b[0;36m1\u001b[0m\u001b[0;34m]\u001b[0m   \u001b[0;31m# -1 due to MATLAB indexing.\u001b[0m\u001b[0;34m\u001b[0m\u001b[0;34m\u001b[0m\u001b[0m\n",
      "\u001b[0;31mValueError\u001b[0m: num must be 1 <= num <= 10, not 11"
     ]
    }
   ],
   "source": [
    "data = np.load('/media/cat/7e3d5af3-7d7b-424d-bdd5-eb995a4a0c62/dan/cohort1/march_16/2020_3_15_11_53_51_617746_compressed/animal_images/749/749.npz')\n",
    "\n",
    "images  = data['images']\n",
    "print (images.shape)\n",
    "\n",
    "ctr=0\n",
    "for k in range(0,172,10):\n",
    "    ax=plt.subplot(2,5,ctr+1)\n",
    "    plt.imshow(images[k])\n",
    "    ctr+=1\n",
    "plt.show()"
   ]
  },
  {
   "cell_type": "code",
   "execution_count": null,
   "metadata": {},
   "outputs": [],
   "source": []
  }
 ],
 "metadata": {
  "kernelspec": {
   "display_name": "Python 3",
   "language": "python",
   "name": "python3"
  },
  "language_info": {
   "codemirror_mode": {
    "name": "ipython",
    "version": 3
   },
   "file_extension": ".py",
   "mimetype": "text/x-python",
   "name": "python",
   "nbconvert_exporter": "python",
   "pygments_lexer": "ipython3",
   "version": "3.8.5"
  }
 },
 "nbformat": 4,
 "nbformat_minor": 4
}
