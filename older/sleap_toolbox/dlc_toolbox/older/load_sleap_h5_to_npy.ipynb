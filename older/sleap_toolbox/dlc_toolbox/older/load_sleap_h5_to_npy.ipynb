{
 "cells": [
  {
   "cell_type": "code",
   "execution_count": 2,
   "metadata": {},
   "outputs": [
    {
     "data": {
      "application/javascript": [
       "IPython.notebook.set_autosave_interval(180000)"
      ]
     },
     "metadata": {},
     "output_type": "display_data"
    },
    {
     "name": "stdout",
     "output_type": "stream",
     "text": [
      "Autosaving every 180 seconds\n"
     ]
    },
    {
     "data": {
      "text/html": [
       "<style>.container { width:100% !important; }</style>"
      ],
      "text/plain": [
       "<IPython.core.display.HTML object>"
      ]
     },
     "metadata": {},
     "output_type": "display_data"
    }
   ],
   "source": [
    "import matplotlib\n",
    "#matplotlib.use('Agg')\n",
    "%matplotlib tk\n",
    "%autosave 180\n",
    "import matplotlib.pyplot as plt\n",
    "from IPython.core.display import display, HTML\n",
    "display(HTML(\"<style>.container { width:100% !important; }</style>\"))\n",
    "\n",
    "import matplotlib.cm as cm\n",
    "from matplotlib import gridspec\n",
    "from scipy import signal\n",
    "\n",
    "import numpy as np\n",
    "import pandas as pd\n",
    "import os\n",
    "import shutil\n",
    "import cv2\n",
    "from tqdm import trange\n",
    "\n",
    "#import glob2\n",
    "\n",
    "from scipy.io import loadmat\n",
    "import scipy\n",
    "import h5py\n",
    "#import hdf5storage\n",
    "import csv\n",
    "\n",
    "\n",
    "colors = [    \n",
    "'orange','firebrick','lawngreen','dodgerblue','crimson','orchid','slateblue',\n",
    "'darkgreen','darkorange','indianred','darkviolet','deepskyblue','greenyellow',\n",
    "'peru','cadetblue','forestgreen','slategrey','lightsteelblue','rebeccapurple',\n",
    "'darkmagenta','yellow','hotpink']"
   ]
  },
  {
   "cell_type": "code",
   "execution_count": 9,
   "metadata": {},
   "outputs": [
    {
     "name": "stdout",
     "output_type": "stream",
     "text": [
      "[n_frames, n_animals, n-features, xy,] (7500, 4, 14, 2)\n"
     ]
    }
   ],
   "source": [
    "# LOAD h5 file:\n",
    "filename = '/home/cat/Downloads/sleap_video.mp4.analysis.h5'\n",
    "\n",
    "hf = h5py.File(filename, 'r')\n",
    "\n",
    "keys = hf.keys()\n",
    "group2 = hf.get('tracks')\n",
    "tracks = []\n",
    "for k in range(len(group2)):\n",
    "    tracks.append(group2[k])\n",
    "    \n",
    "tracks = np.array(tracks).squeeze().transpose(2,1,0)\n",
    "print (tracks.shape)\n"
   ]
  },
  {
   "cell_type": "code",
   "execution_count": 62,
   "metadata": {},
   "outputs": [],
   "source": [
    "# LOAD TRACKLETS + IDS\n",
    "# filename = '/home/cat/Downloads/sleap_video.mp4.tracker_flow.analysis.h5'\n",
    "\n",
    "# hf = h5py.File(filename, 'r')\n",
    "\n",
    "# keys = hf.keys()\n",
    "# print (\"keys; \", keys)\n",
    "# group2 = hf.get('tracks')\n",
    "# tracks_ids = []\n",
    "# print (hf.get('track_names')[0])\n",
    "\n",
    "# for k in range(3000):\n",
    "#     print (np.unique(hf.get('track_occupancy')[k]))\n",
    "\n",
    "\n",
    "# #for k in range(len(group2)):\n",
    "# #    print (k, group2[k].shape)\n",
    "# #     tracks_ids.append(group2[k])\n",
    "    \n",
    "# # tracks_ids = np.array(tracks_ids).squeeze()\n",
    "# # print (tracks_ids.shape)"
   ]
  },
  {
   "cell_type": "code",
   "execution_count": null,
   "metadata": {},
   "outputs": [],
   "source": []
  },
  {
   "cell_type": "code",
   "execution_count": 85,
   "metadata": {},
   "outputs": [
    {
     "name": "stderr",
     "output_type": "stream",
     "text": [
      "100%|██████████| 100/100 [00:01<00:00, 81.38it/s]\n"
     ]
    }
   ],
   "source": [
    "# MAKE COMPARISON OF LABELED VS> UNLABELED VIDEOS\n",
    "# start going through video and \n",
    "video_name = '/home/cat/Downloads/sleap_video.mp4'\n",
    "original_vid = cv2.VideoCapture(video_name)\n",
    "\n",
    "\n",
    "# video sizes\n",
    "size_vid = np.array([1280,1024])\n",
    "dot_size = 16\n",
    "    \n",
    "#out_dir = '/media/cat/4TBSSD/dan/march_2/madeline_dlc/2020-3-9_08_18_49_128168/'\n",
    "fname_out = (video_name[:-4]+'_sleap_labels.mp4')\n",
    "fourcc = cv2.VideoWriter_fourcc('M','P','E','G')\n",
    "video_out = cv2.VideoWriter(fname_out,fourcc, 25, (size_vid[0],size_vid[1]), True)\n",
    "    \n",
    "# go through first videos\n",
    "from tqdm import trange\n",
    "\n",
    "start = 0\n",
    "end = start+100\n",
    "\n",
    "original_vid.set(cv2.CAP_PROP_POS_FRAMES, start)\n",
    "\n",
    "for n in trange(start, end, 1):\n",
    "    ret, frame = original_vid.read()\n",
    "\n",
    "    for i in range(tracks.shape[1]):\n",
    " \n",
    "        x = tracks[n,i,0]\n",
    "        y = tracks[n,i,1]\n",
    "        \n",
    "        if np.isnan(x) or np.isnan(y):\n",
    "            continue\n",
    "            \n",
    "        x = int(x)\n",
    "        y = int(y)\n",
    "        \n",
    "\n",
    "        \n",
    "        frame[y-dot_size:y+dot_size,x-dot_size:x+dot_size]= (np.float32(\n",
    "            #matplotlib.colors.to_rgb(colors[i]))*255.).astype('uint8')\n",
    "            matplotlib.colors.to_rgb('white'))*255.).astype('uint8')\n",
    "\n",
    "    video_out.write(frame)\n",
    "      \n",
    "\n",
    "video_out.release()\n",
    "original_vid.release()\n",
    "    "
   ]
  },
  {
   "cell_type": "code",
   "execution_count": 6,
   "metadata": {
    "scrolled": true
   },
   "outputs": [
    {
     "name": "stderr",
     "output_type": "stream",
     "text": [
      "100%|██████████| 89989/89989 [00:11<00:00, 7526.85it/s] "
     ]
    },
    {
     "name": "stdout",
     "output_type": "stream",
     "text": [
      "(89989, 14)\n"
     ]
    },
    {
     "name": "stderr",
     "output_type": "stream",
     "text": [
      "\n"
     ]
    }
   ],
   "source": [
    "traces_inferences = []\n",
    "ctr=0\n",
    "start = 0\n",
    "end = 89989\n",
    "\n",
    "for n in trange(start, end, 1):\n",
    "    #ind = n\n",
    "    #print (n, frame_names[n])\n",
    "    #print (data)\n",
    "    # load inference locations\n",
    "    traces_inferences.append([])\n",
    "    dets = convertdetectiondict2listoflist(data[frame_names[n]], bpts)\n",
    "    for i, det in enumerate(dets):\n",
    "        traces_inferences[ctr].append([])\n",
    "        for x, y, p, _ in det:\n",
    "            traces_inferences[ctr][i].append([x,y])\n",
    "     \n",
    "    ctr+=1\n",
    "traces_inferences = np.array(traces_inferences)\n",
    "print (traces_inferences.shape)\n",
    "\n",
    "np.save('/media/cat/4TBSSD/dan/march_2/madeline_dlc/march_16/2020-3-16_12_57_12_418305_compressed/traces_inferences.npy', traces_inferences)"
   ]
  },
  {
   "cell_type": "code",
   "execution_count": 2,
   "metadata": {},
   "outputs": [],
   "source": [
    "traces_inferences = np.load('/media/cat/4TBSSD/dan/march_2/madeline_dlc/march_16/2020-3-16_12_57_12_418305_compressed/traces_inferences.npy', allow_pickle=True)\n",
    "print (traces_inferences.shape)"
   ]
  },
  {
   "cell_type": "code",
   "execution_count": 5,
   "metadata": {},
   "outputs": [
    {
     "name": "stdout",
     "output_type": "stream",
     "text": [
      " Data assembled shape:  (56, 89989, 3)\n"
     ]
    }
   ],
   "source": [
    "# import assembled animal output\n",
    "fname_csv_assembled = '/media/cat/4TBSSD/dan/march_2/madeline_dlc/march_16/2020-3-16_12_57_12_418305_compressed/2020-3-16_12_57_12_418305_compressedDLC_resnet50_madeline_july2Jul2shuffle1_100000_bx.csv'\n",
    "data_assembled = load_csv(fname_csv_assembled)[0]\n",
    "data_assembled = np.array(data_assembled)\n",
    "print(\" Data assembled shape: \", data_assembled.shape)"
   ]
  },
  {
   "cell_type": "code",
   "execution_count": 126,
   "metadata": {
    "scrolled": true
   },
   "outputs": [
    {
     "name": "stdout",
     "output_type": "stream",
     "text": [
      "(89989, 14)\n",
      "(56, 3)\n"
     ]
    }
   ],
   "source": [
    "\n",
    "\n"
   ]
  },
  {
   "cell_type": "code",
   "execution_count": null,
   "metadata": {},
   "outputs": [],
   "source": [
    "# LOAD VIDE TO ANNOTATE\n",
    "video_name = \"/media/cat/4TBSSD/dan/march_2/madeline_dlc/2020-3-9_08_18_49_128168/2020-3-9_08_18_49_128168_compressed_snippet.avi\"\n",
    "frame_rate = 25\n"
   ]
  },
  {
   "cell_type": "code",
   "execution_count": null,
   "metadata": {
    "scrolled": true
   },
   "outputs": [],
   "source": [
    "# video writing step\n",
    "#video_out.release()\n",
    "#out.release()\n",
    "#original_vid.release()\n",
    "#cv2.destroyAllWindows()\n",
    "\n",
    "# Robust outlier detection;\n",
    "def reject_outliers(data, m = 2.):\n",
    "    d = np.abs(data - np.median(data))\n",
    "    mdev = np.median(d)\n",
    "    s = d/mdev if mdev else 0.\n",
    "    return data[s<m]\n",
    "\n",
    "       \n",
    "original_vid = cv2.VideoCapture(video_name)\n",
    "#cap = cv2.VideoCapture('chaplin.mp4')\n",
    "\n",
    "ctr=0\n",
    "# figure out index of starting frame and move video to location\n",
    "frame_no1 = 0 #56*60*frame_rate\n",
    "original_vid.set(1,frame_no1)\n",
    "\n",
    "# initialize video writer for file to be saved\n",
    "out_dir = '/media/cat/4TBSSD/dan/march_2/madeline_dlc/2020-3-9_08_18_49_128168/vids_out/'\n",
    "\n",
    "\n",
    "# Read the next frame from the video. If you set frame 749 above then the code will return the last frame.\n",
    "n_sec = 180\n",
    "clrs = ['blue','red','yellow','green']\n",
    "\n",
    "# \n",
    "#for k in range(tracesx.shape[1]):    \n",
    "#for k in range(tracesx.shape[1])[:500]:    \n",
    "ctr=0\n",
    "start = 7*60*25\n",
    "end = start + 120*25\n",
    "\n",
    "fname_out = out_dir+'video_labeled_'+str(start)+\"_\"+str(end)+'.avi'\n",
    "fourcc = cv2.VideoWriter_fourcc('M','P','E','G')\n",
    "# fourcc = cv2.VideoWriter_fourcc(*'MP4V')\n",
    "# fourCc = cv2.VideoWriter_fourcc('m', 'p', '4', 'v')\n",
    "video_out = cv2.VideoWriter(fname_out,fourcc, 25, (1280,1024), True)\n",
    "\n",
    "\n",
    "start_frame_number = start\n",
    "original_vid.set(cv2.CAP_PROP_POS_FRAMES, start_frame_number)\n",
    "\n",
    "for k in range(start,end,1):    \n",
    "    if k %100==0:\n",
    "        print (k)\n",
    "    \n",
    "    #while True:\n",
    "    ret, frame = original_vid.read()\n",
    "    if ret==False:\n",
    "        break\n",
    "\n",
    "#         if ctr==k:\n",
    "#             ctr+=1\n",
    "#             break\n",
    "#         ctr+=1\n",
    "            \n",
    "    #frame_cropped = np.flipud(frame.copy())#[:,150:1174][::2,::2]\n",
    "    frame_cropped = frame.copy()  #[:,150:1174][::2,::2]\n",
    "\n",
    "    # PLOT EVERY FEATURE\n",
    "    threshold = 0.95\n",
    "    if False:\n",
    "        for p in range(tracesx.shape[0]):\n",
    "            l = likelihoods[p,k]\n",
    "            if l < threshold:\n",
    "                continue\n",
    "\n",
    "            x = np.int32(tracesx[p,k])\n",
    "\n",
    "            y = np.int32(tracesy[p,k])\n",
    "\n",
    "\n",
    "            # plot individual features\n",
    "            frame_cropped[y-5:y+5,x-5:x+5]= (np.float32(\n",
    "                matplotlib.colors.to_rgb(clrs[p//14]))*255.).astype('uint8')\n",
    "    \n",
    "    # PLOT MEAN FEATURE\n",
    "    for p in range(0, tracesx.shape[0], 14):\n",
    "        l = likelihoods[p:p+14,k]\n",
    "        idx = np.where(l<threshold)[0]\n",
    "\n",
    "        traces_local = tracesx[p:p+14,k]\n",
    "        traces_local = np.delete(traces_local, idx)\n",
    "        traces_local = reject_outliers(traces_local, m = 1.)\n",
    "        x = np.int32(np.nanmedian(traces_local))\n",
    "        \n",
    "        traces_local = tracesy[p:p+14,k]\n",
    "        traces_local = np.delete(traces_local, idx)\n",
    "        traces_local = reject_outliers(traces_local, m = 1.)\n",
    "        y = np.int32(np.nanmedian(traces_local))\n",
    "        \n",
    "        # plot large bump\n",
    "        frame_cropped[y-15:y+15,x-15:x+15]= (np.float32(\n",
    "            matplotlib.colors.to_rgb(clrs[p//14]))*255.).astype('uint8')\n",
    "    \n",
    "\n",
    "    #cv2.imshow('frame',frame_cropped)\n",
    "    #if cv2.waitKey(1) & 0xFF == ord('q'):\n",
    "    #   break\n",
    "\n",
    "    video_out.write(frame_cropped)\n",
    "    #out.write(frame_cropped)\n",
    "    \n",
    "video_out.release()\n",
    "original_vid.release()\n",
    "cv2.destroyAllWindows()\n",
    "\n",
    "#break\n",
    "    "
   ]
  },
  {
   "cell_type": "code",
   "execution_count": 11,
   "metadata": {},
   "outputs": [
    {
     "name": "stdout",
     "output_type": "stream",
     "text": [
      "(5000, 500, 500, 3)\n"
     ]
    }
   ],
   "source": [
    "fname = '/media/cat/7e3d5af3-7d7b-424d-bdd5-eb995a4a0c62/dan/cohort1/march_16/2020_3_15_11_53_51_617746_compressed/cnn_training/4.npy'\n",
    "data = np.load(fname)\n",
    "print (data.shape)\n",
    "np.save(fname[:-4]+\"44.npy\", \n",
    "        data[:,\n",
    "             data.shape[1]//2-100:data.shape[1]//2+100,\n",
    "             data.shape[2]//2-100:data.shape[2]//2+100]\n",
    "       )\n",
    "\n",
    "plt.imshow(data[0])\n",
    "plt.show()"
   ]
  },
  {
   "cell_type": "code",
   "execution_count": 10,
   "metadata": {},
   "outputs": [
    {
     "name": "stdout",
     "output_type": "stream",
     "text": [
      "(5000, 200, 200, 3)\n"
     ]
    }
   ],
   "source": [
    "data3 = np.load('/media/cat/7e3d5af3-7d7b-424d-bdd5-eb995a4a0c62/dan/cohort1/march_16/2020_3_15_11_53_51_617746_compressed/cnn_training/11.npy')\n",
    "print (data3.shape)\n",
    "plt.imshow(data3[0])\n",
    "plt.show()"
   ]
  },
  {
   "cell_type": "code",
   "execution_count": 5,
   "metadata": {},
   "outputs": [
    {
     "name": "stdout",
     "output_type": "stream",
     "text": [
      "(172, 200, 200, 3)\n"
     ]
    },
    {
     "data": {
      "text/plain": [
       "<matplotlib.image.AxesImage at 0x7fc73a8c7910>"
      ]
     },
     "execution_count": 5,
     "metadata": {},
     "output_type": "execute_result"
    }
   ],
   "source": [
    "fig=plt.figure()\n",
    "data1 = np.load('/media/cat/7e3d5af3-7d7b-424d-bdd5-eb995a4a0c62/dan/cohort1/march_16/2020_3_15_11_53_51_617746_compressed/animal_images/0/0.npz')\n",
    "images = data1['images']\n",
    "print (images.shape)\n",
    "plt.imshow(images[0])\n",
    "plt.show()"
   ]
  },
  {
   "cell_type": "code",
   "execution_count": null,
   "metadata": {},
   "outputs": [],
   "source": []
  }
 ],
 "metadata": {
  "kernelspec": {
   "display_name": "Python 3",
   "language": "python",
   "name": "python3"
  },
  "language_info": {
   "codemirror_mode": {
    "name": "ipython",
    "version": 3
   },
   "file_extension": ".py",
   "mimetype": "text/x-python",
   "name": "python",
   "nbconvert_exporter": "python",
   "pygments_lexer": "ipython3",
   "version": "3.6.12"
  }
 },
 "nbformat": 4,
 "nbformat_minor": 4
}
