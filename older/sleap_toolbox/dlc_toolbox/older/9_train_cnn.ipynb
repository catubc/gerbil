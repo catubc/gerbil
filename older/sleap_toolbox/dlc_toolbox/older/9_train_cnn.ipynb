{
 "cells": [
  {
   "cell_type": "code",
   "execution_count": 2,
   "metadata": {},
   "outputs": [
    {
     "data": {
      "application/javascript": [
       "IPython.notebook.set_autosave_interval(180000)"
      ]
     },
     "metadata": {},
     "output_type": "display_data"
    },
    {
     "name": "stdout",
     "output_type": "stream",
     "text": [
      "Autosaving every 180 seconds\n"
     ]
    }
   ],
   "source": [
    "####################################\n",
    "########### LOAD PKGS ##############\n",
    "####################################\n",
    "%matplotlib tk\n",
    "%autosave 180\n",
    "\n",
    "#%matplotlib inline\n",
    "%config InlineBackend.figure_format = 'retina'\n",
    "import matplotlib.pyplot as plt\n",
    "import numpy as np\n",
    "import os\n",
    "import torch\n",
    "from torch import nn\n",
    "from torch import optim\n",
    "import torch.nn.functional as F\n",
    "from torchvision import datasets, transforms, models\n",
    "\n",
    "import glob\n",
    "\n",
    "from classify_utility import *\n"
   ]
  },
  {
   "cell_type": "markdown",
   "metadata": {},
   "source": [
    "### Notes\n",
    "1.  data loaded is RGB; Resnet expects 3 colrs; results can be similar using GGG \n",
    "2.  Sometimes errors occur because training labels must start at 0 "
   ]
  },
  {
   "cell_type": "code",
   "execution_count": 3,
   "metadata": {},
   "outputs": [],
   "source": [
    "###################################################\n",
    "##### INIT MODEL AND LOAD SAVED MODEL (OPTIONAL) ##\n",
    "###################################################\n",
    "model, device, optimizer, criterion = initialize_resnet()\n",
    "\n",
    "# # load prev model params\n",
    "# if False:\n",
    "#     fname = '/media/cat/7e3d5af3-7d7b-424d-bdd5-eb995a4a0c62/dan/cohort1/march_9/2020-3-9_12_14_22_815059_compressed/model_100epoch_Green3Chan_cnn_training_30mins_data.pt'\n",
    "#     model.load_state_dict(torch.load(fname))\n",
    "#     #model.eval()"
   ]
  },
  {
   "cell_type": "code",
   "execution_count": 4,
   "metadata": {
    "scrolled": false
   },
   "outputs": [
    {
     "name": "stdout",
     "output_type": "stream",
     "text": [
      "final shape:  (3000, 3, 200, 200)\n",
      "final shape:  (3000, 3, 200, 200)\n",
      "final shape:  (3000, 3, 200, 200)\n",
      "final shape:  (3000, 3, 200, 200)\n"
     ]
    },
    {
     "name": "stderr",
     "output_type": "stream",
     "text": [
      "100%|██████████| 12000/12000 [00:32<00:00, 365.82it/s]\n"
     ]
    },
    {
     "name": "stdout",
     "output_type": "stream",
     "text": [
      "Train data final [# samples, RGB, width, height]:  torch.Size([12000, 3, 224, 224])\n"
     ]
    }
   ],
   "source": [
    "####################################\n",
    "########### LOAD DATA ##############\n",
    "####################################\n",
    "max_count = 3000\n",
    "data_location = '/media/cat/7e3d5af3-7d7b-424d-bdd5-eb995a4a0c62/dan/cohort1/march_16/2020_3_15_11_53_51_617746_compressed/cnn_training'\n",
    "\n",
    "all_data, vals = load_data(data_location, max_count)\n"
   ]
  },
  {
   "cell_type": "code",
   "execution_count": 5,
   "metadata": {
    "scrolled": true
   },
   "outputs": [
    {
     "name": "stdout",
     "output_type": "stream",
     "text": [
      "epochs:  0\n",
      "# batches:  24\n",
      "labels:  tensor([2, 0, 0, 2, 3, 3, 2, 1, 0, 1], device='cuda:0')\n",
      "predictions:  tensor([2, 0, 0, 2, 1, 2, 2, 1, 0, 1], device='cuda:0')\n",
      "\n",
      "0 Loss: 0.8332 Acc: 0.6300\n",
      "Saving model...\n",
      "epochs:  1\n",
      "# batches:  24\n",
      "labels:  tensor([0, 1, 2, 1, 3, 3, 3, 0, 1, 1], device='cuda:0')\n",
      "predictions:  tensor([0, 1, 3, 1, 3, 3, 3, 0, 1, 1], device='cuda:0')\n",
      "\n",
      "0 Loss: 0.4700 Acc: 0.8180\n",
      "Saving model...\n",
      "epochs:  2\n",
      "# batches:  24\n",
      "labels:  tensor([0, 3, 2, 3, 2, 1, 0, 0, 3, 2], device='cuda:0')\n",
      "predictions:  tensor([0, 2, 2, 3, 3, 1, 0, 0, 3, 2], device='cuda:0')\n",
      "\n",
      "0 Loss: 0.3349 Acc: 0.8740\n",
      "Saving model...\n",
      "epochs:  3\n",
      "# batches:  24\n",
      "labels:  tensor([1, 3, 2, 2, 0, 3, 2, 1, 2, 3], device='cuda:0')\n",
      "predictions:  tensor([1, 2, 2, 3, 0, 3, 2, 1, 2, 3], device='cuda:0')\n",
      "\n",
      "0 Loss: 0.3123 Acc: 0.8720\n",
      "Saving model...\n",
      "epochs:  4\n",
      "# batches:  24\n",
      "labels:  tensor([0, 1, 1, 2, 2, 1, 2, 3, 1, 2], device='cuda:0')\n",
      "predictions:  tensor([0, 1, 1, 3, 2, 1, 2, 3, 1, 2], device='cuda:0')\n",
      "\n",
      "0 Loss: 0.3129 Acc: 0.8940\n",
      "Saving model...\n",
      "epochs:  5\n",
      "# batches:  24\n",
      "labels:  tensor([2, 1, 0, 0, 1, 0, 2, 3, 1, 0], device='cuda:0')\n",
      "predictions:  tensor([2, 1, 0, 0, 1, 0, 2, 3, 1, 0], device='cuda:0')\n",
      "\n",
      "0 Loss: 0.2876 Acc: 0.9000\n",
      "Saving model...\n",
      "epochs:  6\n",
      "# batches:  24\n",
      "labels:  tensor([0, 0, 3, 3, 1, 0, 2, 2, 2, 1], device='cuda:0')\n",
      "predictions:  tensor([0, 0, 3, 3, 1, 0, 2, 3, 3, 1], device='cuda:0')\n",
      "\n",
      "0 Loss: 0.2514 Acc: 0.9060\n",
      "Saving model...\n",
      "epochs:  7\n",
      "# batches:  24\n",
      "labels:  tensor([2, 1, 2, 1, 1, 1, 3, 2, 2, 2], device='cuda:0')\n",
      "predictions:  tensor([2, 3, 2, 3, 1, 1, 3, 2, 2, 2], device='cuda:0')\n",
      "\n",
      "0 Loss: 0.3363 Acc: 0.8640\n",
      "Saving model...\n",
      "epochs:  8\n",
      "# batches:  24\n",
      "labels:  tensor([3, 2, 1, 1, 3, 2, 2, 0, 0, 2], device='cuda:0')\n",
      "predictions:  tensor([3, 2, 1, 1, 3, 2, 2, 0, 0, 2], device='cuda:0')\n",
      "\n",
      "0 Loss: 0.1935 Acc: 0.9340\n",
      "Saving model...\n",
      "epochs:  9\n",
      "# batches:  24\n",
      "labels:  tensor([0, 2, 3, 1, 1, 2, 0, 1, 2, 2], device='cuda:0')\n",
      "predictions:  tensor([0, 2, 2, 1, 1, 2, 0, 1, 2, 2], device='cuda:0')\n",
      "\n",
      "0 Loss: 0.2361 Acc: 0.9060\n",
      "Saving model...\n",
      "epochs:  10\n",
      "# batches:  24\n",
      "labels:  tensor([3, 3, 1, 0, 2, 3, 0, 1, 1, 3], device='cuda:0')\n",
      "predictions:  tensor([3, 3, 1, 0, 2, 3, 0, 1, 1, 3], device='cuda:0')\n",
      "\n",
      "0 Loss: 0.1968 Acc: 0.9140\n",
      "Saving model...\n",
      "epochs:  11\n",
      "# batches:  24\n",
      "labels:  tensor([3, 0, 1, 0, 3, 0, 0, 2, 0, 2], device='cuda:0')\n",
      "predictions:  tensor([2, 0, 1, 0, 3, 0, 0, 2, 0, 2], device='cuda:0')\n",
      "\n",
      "0 Loss: 0.1639 Acc: 0.9340\n",
      "Saving model...\n",
      "epochs:  12\n",
      "# batches:  24\n",
      "labels:  tensor([1, 0, 3, 2, 1, 3, 2, 1, 2, 1], device='cuda:0')\n",
      "predictions:  tensor([1, 0, 2, 2, 1, 3, 2, 1, 2, 1], device='cuda:0')\n",
      "\n",
      "0 Loss: 0.1435 Acc: 0.9540\n",
      "Saving model...\n",
      "epochs:  13\n",
      "# batches:  24\n",
      "labels:  tensor([0, 1, 3, 3, 3, 1, 2, 1, 1, 0], device='cuda:0')\n",
      "predictions:  tensor([0, 1, 2, 3, 1, 1, 2, 1, 1, 0], device='cuda:0')\n",
      "\n",
      "0 Loss: 0.2543 Acc: 0.9020\n",
      "Saving model...\n",
      "epochs:  14\n",
      "# batches:  24\n",
      "labels:  tensor([3, 1, 2, 0, 0, 1, 2, 3, 3, 2], device='cuda:0')\n",
      "predictions:  tensor([3, 1, 2, 0, 0, 1, 2, 3, 2, 2], device='cuda:0')\n",
      "\n",
      "0 Loss: 0.1965 Acc: 0.9180\n",
      "Saving model...\n",
      "epochs:  15\n",
      "# batches:  24\n",
      "labels:  tensor([2, 2, 0, 0, 0, 1, 3, 1, 3, 2], device='cuda:0')\n",
      "predictions:  tensor([2, 2, 1, 0, 0, 1, 3, 1, 3, 2], device='cuda:0')\n",
      "\n",
      "0 Loss: 0.1635 Acc: 0.9400\n",
      "Saving model...\n",
      "epochs:  16\n",
      "# batches:  24\n",
      "labels:  tensor([1, 1, 1, 0, 2, 2, 3, 1, 2, 2], device='cuda:0')\n",
      "predictions:  tensor([1, 1, 1, 0, 2, 2, 3, 1, 2, 3], device='cuda:0')\n",
      "\n",
      "0 Loss: 0.1776 Acc: 0.9300\n",
      "Saving model...\n",
      "epochs:  17\n",
      "# batches:  24\n",
      "labels:  tensor([3, 2, 3, 1, 2, 3, 1, 0, 2, 2], device='cuda:0')\n",
      "predictions:  tensor([3, 2, 3, 1, 2, 3, 1, 0, 2, 2], device='cuda:0')\n",
      "\n",
      "0 Loss: 0.1395 Acc: 0.9520\n",
      "Saving model...\n",
      "epochs:  18\n",
      "# batches:  24\n",
      "labels:  tensor([0, 0, 0, 3, 1, 2, 0, 1, 1, 0], device='cuda:0')\n",
      "predictions:  tensor([0, 0, 0, 3, 1, 2, 0, 1, 1, 0], device='cuda:0')\n",
      "\n",
      "0 Loss: 0.1743 Acc: 0.9280\n",
      "Saving model...\n",
      "epochs:  19\n",
      "# batches:  24\n",
      "labels:  tensor([2, 1, 3, 0, 3, 1, 1, 2, 0, 0], device='cuda:0')\n",
      "predictions:  tensor([2, 1, 3, 0, 3, 1, 1, 2, 0, 2], device='cuda:0')\n",
      "\n",
      "0 Loss: 0.1427 Acc: 0.9560\n",
      "Saving model...\n",
      "epochs:  20\n",
      "# batches:  24\n",
      "labels:  tensor([3, 2, 1, 0, 1, 3, 2, 2, 0, 0], device='cuda:0')\n",
      "predictions:  tensor([3, 2, 1, 0, 1, 3, 2, 2, 0, 0], device='cuda:0')\n",
      "\n",
      "0 Loss: 0.1239 Acc: 0.9480\n",
      "Saving model...\n",
      "epochs:  21\n",
      "# batches:  24\n",
      "labels:  tensor([0, 1, 1, 3, 3, 1, 2, 3, 3, 2], device='cuda:0')\n",
      "predictions:  tensor([0, 1, 1, 3, 3, 1, 2, 3, 3, 3], device='cuda:0')\n",
      "\n",
      "0 Loss: 0.1702 Acc: 0.9340\n",
      "Saving model...\n",
      "epochs:  22\n",
      "# batches:  24\n",
      "labels:  tensor([3, 2, 1, 3, 0, 2, 0, 3, 3, 0], device='cuda:0')\n",
      "predictions:  tensor([3, 2, 1, 3, 0, 2, 0, 3, 2, 0], device='cuda:0')\n",
      "\n",
      "0 Loss: 0.1201 Acc: 0.9540\n",
      "Saving model...\n",
      "epochs:  23\n",
      "# batches:  24\n",
      "labels:  tensor([0, 3, 1, 3, 2, 3, 0, 3, 1, 0], device='cuda:0')\n",
      "predictions:  tensor([0, 3, 1, 3, 3, 3, 0, 3, 1, 0], device='cuda:0')\n",
      "\n",
      "0 Loss: 0.1003 Acc: 0.9600\n",
      "Saving model...\n",
      "epochs:  24\n",
      "# batches:  24\n",
      "labels:  tensor([0, 1, 3, 2, 0, 0, 2, 2, 0, 1], device='cuda:0')\n",
      "predictions:  tensor([0, 1, 3, 2, 0, 0, 2, 2, 0, 1], device='cuda:0')\n",
      "\n",
      "0 Loss: 0.0798 Acc: 0.9760\n",
      "Saving model...\n",
      "epochs:  25\n",
      "# batches:  24\n",
      "labels:  tensor([3, 3, 3, 1, 3, 3, 1, 1, 2, 2], device='cuda:0')\n",
      "predictions:  tensor([3, 3, 3, 1, 3, 3, 1, 1, 2, 2], device='cuda:0')\n",
      "\n",
      "0 Loss: 0.0875 Acc: 0.9640\n",
      "Saving model...\n",
      "epochs:  26\n",
      "# batches:  24\n",
      "labels:  tensor([2, 2, 0, 2, 2, 0, 1, 1, 2, 0], device='cuda:0')\n",
      "predictions:  tensor([2, 2, 0, 2, 2, 0, 1, 1, 2, 0], device='cuda:0')\n",
      "\n",
      "0 Loss: 0.1024 Acc: 0.9540\n",
      "Saving model...\n",
      "epochs:  27\n",
      "# batches:  24\n",
      "labels:  tensor([3, 3, 1, 3, 3, 3, 1, 0, 3, 1], device='cuda:0')\n",
      "predictions:  tensor([3, 2, 1, 2, 3, 3, 1, 0, 3, 1], device='cuda:0')\n",
      "\n",
      "0 Loss: 0.1207 Acc: 0.9560\n",
      "Saving model...\n",
      "epochs:  28\n",
      "# batches:  24\n",
      "labels:  tensor([2, 2, 2, 1, 0, 2, 0, 0, 3, 3], device='cuda:0')\n",
      "predictions:  tensor([1, 2, 2, 1, 0, 2, 0, 0, 3, 3], device='cuda:0')\n",
      "\n",
      "0 Loss: 0.0827 Acc: 0.9740\n",
      "Saving model...\n",
      "epochs:  29\n",
      "# batches:  24\n",
      "labels:  tensor([2, 0, 2, 2, 3, 2, 1, 2, 3, 2], device='cuda:0')\n",
      "predictions:  tensor([2, 0, 2, 2, 3, 2, 1, 2, 3, 2], device='cuda:0')\n",
      "\n",
      "0 Loss: 0.1097 Acc: 0.9580\n",
      "Saving model...\n"
     ]
    }
   ],
   "source": [
    "#############################################\n",
    "############ TRAIN & SAVE MODEL #############\n",
    "#############################################\n",
    "epochs = 30\n",
    "fname_save_model = data_location+'/model.pt'\n",
    "model = train_model(all_data,\n",
    "                    vals,\n",
    "                    epochs,\n",
    "                    model,\n",
    "                    device,\n",
    "                    optimizer, \n",
    "                    criterion,\n",
    "                    fname_save_model)\n"
   ]
  },
  {
   "cell_type": "code",
   "execution_count": 6,
   "metadata": {},
   "outputs": [
    {
     "name": "stdout",
     "output_type": "stream",
     "text": [
      "# tracks:  2187\n",
      "processing track: /media/cat/7e3d5af3-7d7b-424d-bdd5-eb995a4a0c62/dan/cohort1/march_16/2020_3_15_11_53_51_617746_compressed/animal_images/831\n"
     ]
    },
    {
     "ename": "KeyError",
     "evalue": "'frame is not a file in the archive'",
     "output_type": "error",
     "traceback": [
      "\u001b[0;31m---------------------------------------------------------------------------\u001b[0m",
      "\u001b[0;31mKeyError\u001b[0m                                  Traceback (most recent call last)",
      "\u001b[0;32m<ipython-input-6-27944477ef69>\u001b[0m in \u001b[0;36m<module>\u001b[0;34m\u001b[0m\n\u001b[1;32m     10\u001b[0m     \u001b[0mprint\u001b[0m \u001b[0;34m(\u001b[0m\u001b[0;34m\"processing track:\"\u001b[0m\u001b[0;34m,\u001b[0m \u001b[0mselected_track\u001b[0m\u001b[0;34m)\u001b[0m\u001b[0;34m\u001b[0m\u001b[0;34m\u001b[0m\u001b[0m\n\u001b[1;32m     11\u001b[0m \u001b[0;34m\u001b[0m\u001b[0m\n\u001b[0;32m---> 12\u001b[0;31m     predictions, confidence = load_training_data_run_prediction(selected_track, \n\u001b[0m\u001b[1;32m     13\u001b[0m                                                                  \u001b[0mmodel\u001b[0m\u001b[0;34m,\u001b[0m\u001b[0;34m\u001b[0m\u001b[0;34m\u001b[0m\u001b[0m\n\u001b[1;32m     14\u001b[0m                                                                  device)\n",
      "\u001b[0;32m~/code/dlc_toolbox/classify_utility.py\u001b[0m in \u001b[0;36mload_training_data_run_prediction\u001b[0;34m(fname_track, model, device, recompute)\u001b[0m\n\u001b[1;32m    442\u001b[0m         \u001b[0;31m#fname_formated = os.path.join(fname_track,\"data_formated.npz\")\u001b[0m\u001b[0;34m\u001b[0m\u001b[0;34m\u001b[0m\u001b[0;34m\u001b[0m\u001b[0m\n\u001b[1;32m    443\u001b[0m         \u001b[0;31m#if os.path.exists(fname_formated)==False:\u001b[0m\u001b[0;34m\u001b[0m\u001b[0;34m\u001b[0m\u001b[0;34m\u001b[0m\u001b[0m\n\u001b[0;32m--> 444\u001b[0;31m         \u001b[0mtest_data\u001b[0m\u001b[0;34m,\u001b[0m \u001b[0mtrack_id\u001b[0m\u001b[0;34m,\u001b[0m \u001b[0mframe_ids\u001b[0m \u001b[0;34m=\u001b[0m \u001b[0mcnn_proceprocess_directory\u001b[0m\u001b[0;34m(\u001b[0m\u001b[0mfname_track\u001b[0m\u001b[0;34m)\u001b[0m\u001b[0;34m\u001b[0m\u001b[0;34m\u001b[0m\u001b[0m\n\u001b[0m\u001b[1;32m    445\u001b[0m         \u001b[0;31m#test_data = torch.from_numpy(all_data)\u001b[0m\u001b[0;34m\u001b[0m\u001b[0;34m\u001b[0m\u001b[0;34m\u001b[0m\u001b[0m\n\u001b[1;32m    446\u001b[0m \u001b[0;34m\u001b[0m\u001b[0m\n",
      "\u001b[0;32m~/code/dlc_toolbox/classify_utility.py\u001b[0m in \u001b[0;36mcnn_proceprocess_directory\u001b[0;34m(root_dir, save_formated_data)\u001b[0m\n\u001b[1;32m    207\u001b[0m     \u001b[0mframe_ids\u001b[0m \u001b[0;34m=\u001b[0m \u001b[0;34m[\u001b[0m\u001b[0;34m]\u001b[0m\u001b[0;34m\u001b[0m\u001b[0;34m\u001b[0m\u001b[0m\n\u001b[1;32m    208\u001b[0m     \u001b[0;32mfor\u001b[0m \u001b[0mfname\u001b[0m \u001b[0;32min\u001b[0m \u001b[0mfnames\u001b[0m\u001b[0;34m:\u001b[0m\u001b[0;34m\u001b[0m\u001b[0;34m\u001b[0m\u001b[0m\n\u001b[0;32m--> 209\u001b[0;31m         \u001b[0mtemp\u001b[0m \u001b[0;34m=\u001b[0m \u001b[0mnp\u001b[0m\u001b[0;34m.\u001b[0m\u001b[0mload\u001b[0m\u001b[0;34m(\u001b[0m\u001b[0mfname\u001b[0m\u001b[0;34m)\u001b[0m\u001b[0;34m[\u001b[0m\u001b[0;34m'frame'\u001b[0m\u001b[0;34m]\u001b[0m\u001b[0;34m\u001b[0m\u001b[0;34m\u001b[0m\u001b[0m\n\u001b[0m\u001b[1;32m    210\u001b[0m \u001b[0;34m\u001b[0m\u001b[0m\n\u001b[1;32m    211\u001b[0m         \u001b[0;32mif\u001b[0m \u001b[0mlen\u001b[0m\u001b[0;34m(\u001b[0m\u001b[0mtemp\u001b[0m\u001b[0;34m.\u001b[0m\u001b[0mshape\u001b[0m\u001b[0;34m)\u001b[0m\u001b[0;34m==\u001b[0m\u001b[0;36m2\u001b[0m\u001b[0;34m:\u001b[0m\u001b[0;34m\u001b[0m\u001b[0;34m\u001b[0m\u001b[0m\n",
      "\u001b[0;32m~/miniconda3/envs/pytorch/lib/python3.8/site-packages/numpy/lib/npyio.py\u001b[0m in \u001b[0;36m__getitem__\u001b[0;34m(self, key)\u001b[0m\n\u001b[1;32m    257\u001b[0m                 \u001b[0;32mreturn\u001b[0m \u001b[0mself\u001b[0m\u001b[0;34m.\u001b[0m\u001b[0mzip\u001b[0m\u001b[0;34m.\u001b[0m\u001b[0mread\u001b[0m\u001b[0;34m(\u001b[0m\u001b[0mkey\u001b[0m\u001b[0;34m)\u001b[0m\u001b[0;34m\u001b[0m\u001b[0;34m\u001b[0m\u001b[0m\n\u001b[1;32m    258\u001b[0m         \u001b[0;32melse\u001b[0m\u001b[0;34m:\u001b[0m\u001b[0;34m\u001b[0m\u001b[0;34m\u001b[0m\u001b[0m\n\u001b[0;32m--> 259\u001b[0;31m             \u001b[0;32mraise\u001b[0m \u001b[0mKeyError\u001b[0m\u001b[0;34m(\u001b[0m\u001b[0;34m\"%s is not a file in the archive\"\u001b[0m \u001b[0;34m%\u001b[0m \u001b[0mkey\u001b[0m\u001b[0;34m)\u001b[0m\u001b[0;34m\u001b[0m\u001b[0;34m\u001b[0m\u001b[0m\n\u001b[0m\u001b[1;32m    260\u001b[0m \u001b[0;34m\u001b[0m\u001b[0m\n\u001b[1;32m    261\u001b[0m \u001b[0;34m\u001b[0m\u001b[0m\n",
      "\u001b[0;31mKeyError\u001b[0m: 'frame is not a file in the archive'"
     ]
    }
   ],
   "source": [
    "#########################################\n",
    "######### PREDICT ON TEST DATA ##########\n",
    "#########################################\n",
    "root_dir = '/media/cat/7e3d5af3-7d7b-424d-bdd5-eb995a4a0c62/dan/cohort1/march_16/2020_3_15_11_53_51_617746_compressed/animal_images/'\n",
    "\n",
    "selected_tracks = glob.glob(root_dir+\"*\")\n",
    "print (\"# tracks: \", len(selected_tracks))\n",
    "for selected_track in selected_tracks:\n",
    "    #fname = +str(selected_track)+'/'\n",
    "    print (\"processing track:\", selected_track)\n",
    "\n",
    "    predictions, confidence = load_training_data_run_prediction(selected_track, \n",
    "                                                                 model,\n",
    "                                                                 device)\n",
    "    print (predictions[:10])\n",
    "\n",
    "\n",
    "    "
   ]
  },
  {
   "cell_type": "code",
   "execution_count": null,
   "metadata": {},
   "outputs": [],
   "source": []
  },
  {
   "cell_type": "code",
   "execution_count": null,
   "metadata": {},
   "outputs": [],
   "source": []
  },
  {
   "cell_type": "code",
   "execution_count": null,
   "metadata": {},
   "outputs": [],
   "source": []
  },
  {
   "cell_type": "code",
   "execution_count": 9,
   "metadata": {},
   "outputs": [],
   "source": [
    "########################################\n",
    "########### PLOT RESULTS ###############\n",
    "########################################\n",
    "    \n",
    "#plot_bars(predictions, confidence, test_data)\n",
    "# Not used "
   ]
  },
  {
   "cell_type": "code",
   "execution_count": null,
   "metadata": {},
   "outputs": [],
   "source": []
  }
 ],
 "metadata": {
  "kernelspec": {
   "display_name": "Python 3",
   "language": "python",
   "name": "python3"
  },
  "language_info": {
   "codemirror_mode": {
    "name": "ipython",
    "version": 3
   },
   "file_extension": ".py",
   "mimetype": "text/x-python",
   "name": "python",
   "nbconvert_exporter": "python",
   "pygments_lexer": "ipython3",
   "version": "3.8.5"
  }
 },
 "nbformat": 4,
 "nbformat_minor": 4
}
