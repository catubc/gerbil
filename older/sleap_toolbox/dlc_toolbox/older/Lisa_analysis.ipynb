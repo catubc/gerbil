{
 "cells": [
  {
   "cell_type": "code",
   "execution_count": 1,
   "metadata": {},
   "outputs": [
    {
     "data": {
      "application/javascript": [
       "IPython.notebook.set_autosave_interval(180000)"
      ]
     },
     "metadata": {},
     "output_type": "display_data"
    },
    {
     "name": "stdout",
     "output_type": "stream",
     "text": [
      "Autosaving every 180 seconds\n"
     ]
    },
    {
     "data": {
      "text/html": [
       "<style>.container { width:100% !important; }</style>"
      ],
      "text/plain": [
       "<IPython.core.display.HTML object>"
      ]
     },
     "metadata": {},
     "output_type": "display_data"
    }
   ],
   "source": [
    "import matplotlib\n",
    "#matplotlib.use('Agg')\n",
    "%matplotlib tk\n",
    "%autosave 180\n",
    "\n",
    "import matplotlib.pyplot as plt\n",
    "import matplotlib.cm as cm\n",
    "from IPython.core.display import display, HTML\n",
    "display(HTML(\"<style>.container { width:100% !important; }</style>\"))\n",
    "\n",
    "import numpy as np\n",
    "import pandas as pd\n",
    "import os\n",
    "\n"
   ]
  },
  {
   "cell_type": "code",
   "execution_count": 6,
   "metadata": {},
   "outputs": [
    {
     "name": "stdout",
     "output_type": "stream",
     "text": [
      "(5, 89988, 2)\n"
     ]
    }
   ],
   "source": [
    "# Classifier output for CSUA; using 100 x 100 pixel images;\n",
    "\n",
    "fname_location_arrays_pre_processing = '/home/cat/animal_arrays.npy'\n",
    "fname_location_arrays_post_processing = '/home/cat/locs_array.npy'\n",
    "fname_location_arrays_cleaned = '/home/cat/locs_array_clean.npy'\n",
    "\n",
    "#            \n",
    "locs = np.load(fname_location_arrays_cleaned)\n",
    "print (locs.shape)"
   ]
  },
  {
   "cell_type": "code",
   "execution_count": 7,
   "metadata": {},
   "outputs": [
    {
     "name": "stdout",
     "output_type": "stream",
     "text": [
      "0 [990.281   985.28894 984.965   ... 989.746   990.62195 990.281  ]\n",
      "1 [ 910.481   1329.049   1329.2051  ...  910.92505  910.315    910.481  ]\n",
      "2 [928.552   928.552   927.95996 ... 832.254   832.254   832.254  ]\n",
      "3 [942.734   942.734   941.673   ... 992.45996 992.45996 992.45996]\n"
     ]
    }
   ],
   "source": [
    "############################################\n",
    "############ VISUALIZE TRACES ##############\n",
    "############################################\n",
    "clrs = ['blue','red','yellow','green','cyan']\n",
    "names= ['female','male','pup1','pup2','block']\n",
    "window = 10 * 25\n",
    "metre_per_pixel = 0.5*1E-3\n",
    "\n",
    "for p in range(4):\n",
    "    \n",
    "    # compute differences as movement\n",
    "    positions = locs[p].sum(1)\n",
    "    t = np.arange(positions.shape[0])/25.\n",
    "    print (p, positions)\n",
    "    plt.plot(t, positions, linewidth=3, c=clrs[p], label=names[p])\n",
    "plt.legend(fontsize=20)\n",
    "plt.show()"
   ]
  },
  {
   "cell_type": "code",
   "execution_count": null,
   "metadata": {},
   "outputs": [],
   "source": [
    "\n",
    "\n"
   ]
  },
  {
   "cell_type": "code",
   "execution_count": null,
   "metadata": {},
   "outputs": [],
   "source": [
    "\n",
    "\n"
   ]
  },
  {
   "cell_type": "code",
   "execution_count": null,
   "metadata": {},
   "outputs": [],
   "source": [
    "\n",
    "\n"
   ]
  },
  {
   "cell_type": "code",
   "execution_count": null,
   "metadata": {},
   "outputs": [],
   "source": []
  }
 ],
 "metadata": {
  "kernelspec": {
   "display_name": "Python 3",
   "language": "python",
   "name": "python3"
  },
  "language_info": {
   "codemirror_mode": {
    "name": "ipython",
    "version": 3
   },
   "file_extension": ".py",
   "mimetype": "text/x-python",
   "name": "python",
   "nbconvert_exporter": "python",
   "pygments_lexer": "ipython3",
   "version": "3.8.3"
  }
 },
 "nbformat": 4,
 "nbformat_minor": 4
}
