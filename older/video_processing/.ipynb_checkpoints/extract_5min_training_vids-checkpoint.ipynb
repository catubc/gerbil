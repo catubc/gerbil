{
 "cells": [
  {
   "cell_type": "code",
   "execution_count": 1,
   "id": "e22e9365",
   "metadata": {},
   "outputs": [
    {
     "data": {
      "application/javascript": [
       "IPython.notebook.set_autosave_interval(180000)"
      ]
     },
     "metadata": {},
     "output_type": "display_data"
    },
    {
     "name": "stdout",
     "output_type": "stream",
     "text": [
      "Autosaving every 180 seconds\n"
     ]
    },
    {
     "data": {
      "text/html": [
       "<style>.container { width:100% !important; }</style>"
      ],
      "text/plain": [
       "<IPython.core.display.HTML object>"
      ]
     },
     "metadata": {},
     "output_type": "display_data"
    }
   ],
   "source": [
    "import matplotlib\n",
    "%matplotlib tk\n",
    "%autosave 180\n",
    "import matplotlib.pyplot as plt\n",
    "from IPython.core.display import display, HTML\n",
    "display(HTML(\"<style>.container { width:100% !important; }</style>\"))\n",
    "\n",
    "import numpy as np\n",
    "import os\n",
    "import shutil\n"
   ]
  },
  {
   "cell_type": "code",
   "execution_count": 73,
   "id": "ab2c5b36",
   "metadata": {},
   "outputs": [],
   "source": [
    "fname = '/media/cat/4TBSATA/dan/cohort4/2020_10_06_11_04_55_233341_compressed.mp4'"
   ]
  },
  {
   "cell_type": "code",
   "execution_count": 74,
   "id": "7b034f9a",
   "metadata": {},
   "outputs": [
    {
     "name": "stdout",
     "output_type": "stream",
     "text": [
      "Running :  ffmpeg -i /media/cat/4TBSATA/dan/cohort4/2020_10_06_11_04_55_233341_compressed.mp4 -ss 00:00:00 -to 00:10:10 -c copy /media/cat/4TBSATA/dan/cohort4/2020_10_06_11_04_55_233341_compressed._00:00:00_00:10:10.mp4\n"
     ]
    },
    {
     "data": {
      "text/plain": [
       "0"
      ]
     },
     "execution_count": 74,
     "metadata": {},
     "output_type": "execute_result"
    }
   ],
   "source": [
    "# 33:39\n",
    "#     51:\n",
    "\n",
    "start = '00:00:00'\n",
    "end = '00:10:10'\n",
    "command = 'ffmpeg -i '+fname+' -ss '+start+ ' -to '+end+ ' -c copy ' + fname.replace('mp4','_'+start+\"_\"+end+ '.mp4')\n",
    "print (\"Running : \", command)\n",
    "\n",
    "\n",
    "os.system(command)"
   ]
  },
  {
   "cell_type": "code",
   "execution_count": null,
   "id": "a0fc072b",
   "metadata": {},
   "outputs": [],
   "source": [
    "# make a list of filenames and save them as text\n",
    "# or choose anohter way to parse the filenames\n",
    "#fnames = np.loadtxt('/home/cat/Desktop/lisa_files_march_3.txt',dtype='str')\n",
    "#print (fnames)\n",
    "\n",
    "#fnames = np.loadtxt('/media/cat/4TBSSD/dan/cohort2.txt',dtype='str')\n",
    "\n",
    "out_dir = '/media/cat/4TBSSD/dan/cohort2/compressed/day/'\n",
    "\n",
    "# \n",
    "for fname in fnames_day:\n",
    "    print (\"processing: \", fname)\n",
    "\n",
    "    # \n",
    "    fname_out = out_dir + os.path.split(fname)[1][:-4]+'_compressed.mp4'\n",
    "    print (\"FNAME: OUT: \", fname_out)\n",
    "    if os.path.exists(fname_out):\n",
    "        continue\n",
    "    print (\"COMMAND: \", 'ffmpeg -i '+fname+ ' -c:v libx264 -r 25 -crf 25 '+ fname_out)\n",
    "    os.system('ffmpeg -i '+fname+ ' -c:v libx264 -r 25 -crf 25 '+ fname_out)\n",
    "    #os.system('nice -n -20 ffmpeg -threads 1 -i '+fname+ ' -c:v libx264 -r 25 -crf 25 '+ fname_out)\n",
    "     \n",
    "    print ('')"
   ]
  }
 ],
 "metadata": {
  "kernelspec": {
   "display_name": "Python 3",
   "language": "python",
   "name": "python3"
  },
  "language_info": {
   "codemirror_mode": {
    "name": "ipython",
    "version": 3
   },
   "file_extension": ".py",
   "mimetype": "text/x-python",
   "name": "python",
   "nbconvert_exporter": "python",
   "pygments_lexer": "ipython3",
   "version": "3.7.0"
  }
 },
 "nbformat": 4,
 "nbformat_minor": 5
}
