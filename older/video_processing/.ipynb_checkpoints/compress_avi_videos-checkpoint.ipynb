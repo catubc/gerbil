{
 "cells": [
  {
   "cell_type": "code",
   "execution_count": 1,
   "metadata": {},
   "outputs": [
    {
     "data": {
      "application/javascript": [
       "IPython.notebook.set_autosave_interval(180000)"
      ]
     },
     "metadata": {},
     "output_type": "display_data"
    },
    {
     "name": "stdout",
     "output_type": "stream",
     "text": [
      "Autosaving every 180 seconds\n"
     ]
    },
    {
     "data": {
      "text/html": [
       "<style>.container { width:100% !important; }</style>"
      ],
      "text/plain": [
       "<IPython.core.display.HTML object>"
      ]
     },
     "metadata": {},
     "output_type": "display_data"
    }
   ],
   "source": [
    "import matplotlib\n",
    "%matplotlib tk\n",
    "%autosave 180\n",
    "import matplotlib.pyplot as plt\n",
    "from IPython.core.display import display, HTML\n",
    "display(HTML(\"<style>.container { width:100% !important; }</style>\"))\n",
    "\n",
    "import numpy as np\n",
    "import os\n",
    "import shutil\n"
   ]
  },
  {
   "cell_type": "code",
   "execution_count": 7,
   "metadata": {},
   "outputs": [],
   "source": [
    "fnames_day = [\n",
    "\n",
    "# '/media/cat/4TBSSD/gerbil3/Temporary_links_to_Cohorts/july_19_video/video/2020_07_23_12_34_43_379948/2020_07_23_12_34_43_379948.avi',\n",
    "# '/media/cat/4TBSSD/gerbil3/Temporary_links_to_Cohorts/july_19_video/video/2020_07_24_11_07_26_770344/2020_07_24_11_07_26_770344.avi',\n",
    "# '/media/cat/4TBSSD/gerbil3/Temporary_links_to_Cohorts/july_19_video/video/2020_07_25_11_53_43_289403/2020_07_25_11_53_43_289403.avi',\n",
    "# '/media/cat/4TBSSD/gerbil3/Temporary_links_to_Cohorts/july_19_video/video/2020_07_26_11_33_46_565149/2020_07_26_11_33_46_565149.avi',\n",
    "# '/media/cat/4TBSSD/gerbil3/Temporary_links_to_Cohorts/july_19_video/video/2020_07_27_19_21_59_379709/2020_07_27_19_21_59_379709.avi',\n",
    "# '/media/cat/4TBSSD/gerbil3/Temporary_links_to_Cohorts/july_19_video/video/2020_07_28_11_38_02_143208/2020_07_28_11_38_02_143208.avi',\n",
    "# '/media/cat/4TBSSD/gerbil3/Temporary_links_to_Cohorts/july_19_video/video/2020_07_29_11_36_24_541088/2020_07_29_11_36_24_541088.avi',\n",
    "# '/media/cat/4TBSSD/gerbil3/Temporary_links_to_Cohorts/july_19_video/video/2020_07_30_11_30_11_732262/2020_07_30_11_30_11_732262.avi',\n",
    "# '/media/cat/4TBSSD/gerbil3/Temporary_links_to_Cohorts/july_19_video/video/2020_07_31_11_22_34_209876/2020_07_31_11_22_34_209876.avi',\n",
    "# '/media/cat/4TBSSD/gerbil3/Temporary_links_to_Cohorts/july_19_video/video/2020_08_01_11_27_15_857870/2020_08_01_11_27_15_857870.avi',\n",
    "# '/media/cat/4TBSSD/gerbil3/Temporary_links_to_Cohorts/july_19_video/video/2020_08_02_10_39_34_251768/2020_08_02_10_39_34_251768.avi'    \n",
    "'/media/cat/4TBSSD/dan/cohort2/compressed/day/2020_07_21_11_26_07_855478.avi',\n",
    "#'/media/cat/4TBSSD/dan/cohort2/compressed/day/2020_07_22_11_26_41_511545.avi',    \n",
    "    \n",
    "]\n",
    "\n",
    "'/media/cat/4TBSSD/gerbil3/Temporary_links_to_Cohorts/july_19_video/video/2020_07_21_21_24_11_633092/2020_07_21_21_24_11_633092.avi',\n",
    "'/media/cat/4TBSSD/gerbil3/Temporary_links_to_Cohorts/july_19_video/video/2020_07_22_19_56_32_711641/2020_07_22_19_56_32_711641.avi',\n",
    "\n",
    "\n",
    "fnames_night = [\n",
    "    \n",
    "    \n",
    "    \n",
    "    \n",
    "]"
   ]
  },
  {
   "cell_type": "code",
   "execution_count": 8,
   "metadata": {},
   "outputs": [
    {
     "name": "stdout",
     "output_type": "stream",
     "text": [
      "processing:  /media/cat/4TBSSD/dan/cohort2/compressed/day/2020_07_21_11_26_07_855478.avi\n",
      "FNAME: OUT:  /media/cat/4TBSSD/dan/cohort2/compressed/day/2020_07_21_11_26_07_855478_compressed.mp4\n",
      "COMMAND:  ffmpeg -i /media/cat/4TBSSD/dan/cohort2/compressed/day/2020_07_21_11_26_07_855478.avi -c:v libx264 -r 25 -crf 25 /media/cat/4TBSSD/dan/cohort2/compressed/day/2020_07_21_11_26_07_855478_compressed.mp4\n",
      "\n"
     ]
    }
   ],
   "source": [
    "# make a list of filenames and save them as text\n",
    "# or choose anohter way to parse the filenames\n",
    "#fnames = np.loadtxt('/home/cat/Desktop/lisa_files_march_3.txt',dtype='str')\n",
    "#print (fnames)\n",
    "\n",
    "#fnames = np.loadtxt('/media/cat/4TBSSD/dan/cohort2.txt',dtype='str')\n",
    "\n",
    "out_dir = '/media/cat/4TBSSD/dan/cohort2/compressed/day/'\n",
    "\n",
    "# \n",
    "for fname in fnames_day:\n",
    "    print (\"processing: \", fname)\n",
    "\n",
    "    # \n",
    "    fname_out = out_dir + os.path.split(fname)[1][:-4]+'_compressed.mp4'\n",
    "    print (\"FNAME: OUT: \", fname_out)\n",
    "    if os.path.exists(fname_out):\n",
    "        continue\n",
    "    print (\"COMMAND: \", 'ffmpeg -i '+fname+ ' -c:v libx264 -r 25 -crf 25 '+ fname_out)\n",
    "    os.system('ffmpeg -i '+fname+ ' -c:v libx264 -r 25 -crf 25 '+ fname_out)\n",
    "    #os.system('nice -n -20 ffmpeg -threads 1 -i '+fname+ ' -c:v libx264 -r 25 -crf 25 '+ fname_out)\n",
    "     \n",
    "    print ('')"
   ]
  },
  {
   "cell_type": "code",
   "execution_count": 3,
   "metadata": {
    "collapsed": true
   },
   "outputs": [
    {
     "name": "stdout",
     "output_type": "stream",
     "text": [
      "/mnt/adfe6e7b-b77b-4731-bc9e-e639667faba4/lisa/cohort2-danlab-2020-10-21/videos/2020_07_21_02_34_26_386606_compressed.avi\n",
      "/mnt/adfe6e7b-b77b-4731-bc9e-e639667faba4/lisa/cohort2-danlab-2020-10-21/videos/2020_07_21_14_23_17_757568_compressed.avi\n",
      "/mnt/adfe6e7b-b77b-4731-bc9e-e639667faba4/lisa/cohort2-danlab-2020-10-21/videos/2020_07_22_17_43_24_257193_compressed.avi\n",
      "/mnt/adfe6e7b-b77b-4731-bc9e-e639667faba4/lisa/cohort2-danlab-2020-10-21/videos/2020_07_22_18_27_49_394495_compressed.avi\n",
      "/mnt/adfe6e7b-b77b-4731-bc9e-e639667faba4/lisa/cohort2-danlab-2020-10-21/videos/2020_07_23_00_22_51_500222_compressed.avi\n",
      "/mnt/adfe6e7b-b77b-4731-bc9e-e639667faba4/lisa/cohort2-danlab-2020-10-21/videos/2020_07_23_01_07_14_201452_compressed.avi\n",
      "/mnt/adfe6e7b-b77b-4731-bc9e-e639667faba4/lisa/cohort2-danlab-2020-10-21/videos/2020_07_23_06_40_03_827266-001_compressed.avi\n",
      "/mnt/adfe6e7b-b77b-4731-bc9e-e639667faba4/lisa/cohort2-danlab-2020-10-21/videos/2020_07_23_11_05_59_462129_compressed.avi\n",
      "/mnt/adfe6e7b-b77b-4731-bc9e-e639667faba4/lisa/cohort2-danlab-2020-10-21/videos/2020_07_24_01_08_44_461527_compressed.avi\n",
      "/mnt/adfe6e7b-b77b-4731-bc9e-e639667faba4/lisa/cohort2-danlab-2020-10-21/videos/2020_07_24_01_53_00_013772_compressed.avi\n",
      "/mnt/adfe6e7b-b77b-4731-bc9e-e639667faba4/lisa/cohort2-danlab-2020-10-21/videos/2020_07_24_04_50_33_338210-001_compressed.avi\n",
      "/mnt/adfe6e7b-b77b-4731-bc9e-e639667faba4/lisa/cohort2-danlab-2020-10-21/videos/2020_07_24_14_27_06_034857_compressed.avi\n",
      "/mnt/adfe6e7b-b77b-4731-bc9e-e639667faba4/lisa/cohort2-danlab-2020-10-21/videos/2020_07_25_00_03_43_889092_compressed.avi\n",
      "/mnt/adfe6e7b-b77b-4731-bc9e-e639667faba4/lisa/cohort2-danlab-2020-10-21/videos/2020_07_25_00_48_07_705024_compressed.avi\n",
      "/mnt/adfe6e7b-b77b-4731-bc9e-e639667faba4/lisa/cohort2-danlab-2020-10-21/videos/2020_07_25_01_32_30_706121-001_compressed.avi\n",
      "/mnt/adfe6e7b-b77b-4731-bc9e-e639667faba4/lisa/cohort2-danlab-2020-10-21/videos/2020_07_25_16_19_51_422725_compressed.avi\n",
      "/mnt/adfe6e7b-b77b-4731-bc9e-e639667faba4/lisa/cohort2-danlab-2020-10-21/videos/2020_07_26_13_24_43_381648_compressed.avi\n",
      "/mnt/adfe6e7b-b77b-4731-bc9e-e639667faba4/lisa/cohort2-danlab-2020-10-21/videos/2020_07_27_07_54_02_236260_compressed.avi\n",
      "/mnt/adfe6e7b-b77b-4731-bc9e-e639667faba4/lisa/cohort2-danlab-2020-10-21/videos/2020_07_28_02_01_19_002918_compressed.avi\n",
      "/mnt/adfe6e7b-b77b-4731-bc9e-e639667faba4/lisa/cohort2-danlab-2020-10-21/videos/2020_07_29_11_14_21_836636_compressed.avi\n",
      "/mnt/adfe6e7b-b77b-4731-bc9e-e639667faba4/lisa/cohort2-danlab-2020-10-21/videos/2020_07_29_20_52_16_629344_compressed.avi\n",
      "/mnt/adfe6e7b-b77b-4731-bc9e-e639667faba4/lisa/cohort2-danlab-2020-10-21/videos/2020_07_30_11_06_03_274369_compressed.avi\n",
      "/mnt/adfe6e7b-b77b-4731-bc9e-e639667faba4/lisa/cohort2-danlab-2020-10-21/videos/2020_07_31_11_44_46_025728_compressed.avi\n",
      "/mnt/adfe6e7b-b77b-4731-bc9e-e639667faba4/lisa/cohort2-danlab-2020-10-21/videos/2020_08_01_11_02_57_239373_compressed.avi\n",
      "/mnt/adfe6e7b-b77b-4731-bc9e-e639667faba4/lisa/cohort2-danlab-2020-10-21/videos/2020_08_02_15_28_09_686011_compressed.avi\n",
      "/mnt/adfe6e7b-b77b-4731-bc9e-e639667faba4/lisa/cohort2-danlab-2020-10-21/videos/2020_08_03_15_31_00_800308_compressed.avi\n",
      "/mnt/adfe6e7b-b77b-4731-bc9e-e639667faba4/lisa/cohort2-danlab-2020-10-21/videos/2020_08_04_08_10_24_681621_compressed.avi\n",
      "/mnt/adfe6e7b-b77b-4731-bc9e-e639667faba4/lisa/cohort2-danlab-2020-10-21/videos/2020_08_05_01_11_49_470406_compressed.avi\n",
      "/mnt/adfe6e7b-b77b-4731-bc9e-e639667faba4/lisa/cohort2-danlab-2020-10-21/videos/2020_08_06_01_16_33_760403_compressed.avi\n"
     ]
    }
   ],
   "source": [
    "# OPTIONAL \n",
    "# if need to convert from .avi to .mp4 with same quality\n",
    "for fname in fnames:\n",
    "    print (fname)\n",
    "    #fname_out = os.path.split(fname)[0]+'_compressed.avi'\n",
    "    fname_out = fname[:-4]+'.mp4'\n",
    "    if os.path.exists(fname_out):\n",
    "        continue\n",
    "    os.system('ffmpeg -i '+fname+ ' -c:v copy -c:a copy -y '+ fname_out)\n",
    "    \n",
    "    "
   ]
  },
  {
   "cell_type": "code",
   "execution_count": null,
   "metadata": {},
   "outputs": [],
   "source": []
  },
  {
   "cell_type": "code",
   "execution_count": null,
   "metadata": {},
   "outputs": [],
   "source": []
  },
  {
   "cell_type": "code",
   "execution_count": null,
   "metadata": {},
   "outputs": [],
   "source": []
  },
  {
   "cell_type": "code",
   "execution_count": null,
   "metadata": {},
   "outputs": [],
   "source": []
  }
 ],
 "metadata": {
  "kernelspec": {
   "display_name": "Python 3",
   "language": "python",
   "name": "python3"
  },
  "language_info": {
   "codemirror_mode": {
    "name": "ipython",
    "version": 3
   },
   "file_extension": ".py",
   "mimetype": "text/x-python",
   "name": "python",
   "nbconvert_exporter": "python",
   "pygments_lexer": "ipython3",
   "version": "3.8.5"
  }
 },
 "nbformat": 4,
 "nbformat_minor": 4
}
