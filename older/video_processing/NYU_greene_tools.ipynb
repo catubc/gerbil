{
 "cells": [
  {
   "cell_type": "code",
   "execution_count": 1,
   "id": "8e0dba21",
   "metadata": {},
   "outputs": [],
   "source": [
    "import numpy as np\n",
    "import os\n",
    "import glob"
   ]
  },
  {
   "cell_type": "code",
   "execution_count": 12,
   "id": "abcb9e72",
   "metadata": {},
   "outputs": [
    {
     "name": "stdout",
     "output_type": "stream",
     "text": [
      "463\n",
      "(491,)\n",
      "missing:  2020_3_3_12_41_22_463160\n",
      "missing:  2020_3_5_05_53_48_416546\n",
      "missing:  2020_3_9_05_15_28_638628\n",
      "missing:  2020_3_11_01_25_28_998506\n",
      "missing:  2020_3_15_02_48_38_496323\n",
      "missing:  2020_3_15_09_53_22_025852\n",
      "missing:  2020_3_19_09_18_53_471782\n"
     ]
    }
   ],
   "source": [
    "root_dir = '/mnt/f418adc0-4ff9-410c-93c9-d6d21a1e9c35/dan/cohort1/compressed_slp/'\n",
    "fnames_slp = glob.glob(root_dir+\"*.slp\")\n",
    "print (len(fnames_slp))\n",
    "\n",
    "# \n",
    "fnames_all = '/mnt/f418adc0-4ff9-410c-93c9-d6d21a1e9c35/dan/cohort1/filenames_reordered_clean.txt'\n",
    "fnames = np.loadtxt(fnames_all,dtype='str')\n",
    "print (fnames.shape)\n",
    "\n",
    "for fname in fnames:\n",
    "    found=False\n",
    "    for fname_slp in fnames_slp:\n",
    "        if fname in fname_slp:\n",
    "            found=True\n",
    "            break\n",
    "    if found==False and fname!='break' and fname!='done':\n",
    "        print (\"missing: \", fname)\n"
   ]
  },
  {
   "cell_type": "code",
   "execution_count": null,
   "id": "b5e7d1a6",
   "metadata": {},
   "outputs": [],
   "source": []
  }
 ],
 "metadata": {
  "kernelspec": {
   "display_name": "Python 3",
   "language": "python",
   "name": "python3"
  },
  "language_info": {
   "codemirror_mode": {
    "name": "ipython",
    "version": 3
   },
   "file_extension": ".py",
   "mimetype": "text/x-python",
   "name": "python",
   "nbconvert_exporter": "python",
   "pygments_lexer": "ipython3",
   "version": "3.6.13"
  }
 },
 "nbformat": 4,
 "nbformat_minor": 5
}
