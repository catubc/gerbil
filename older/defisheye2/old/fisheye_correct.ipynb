{
 "cells": [
  {
   "cell_type": "code",
   "execution_count": 1,
   "id": "71ee6c74",
   "metadata": {},
   "outputs": [],
   "source": [
    "from defisheye import Defisheye\n",
    "import numpy as np"
   ]
  },
  {
   "cell_type": "code",
   "execution_count": 2,
   "id": "d29176d7",
   "metadata": {
    "collapsed": true
   },
   "outputs": [
    {
     "ename": "AttributeError",
     "evalue": "'NoneType' object has no attribute 'shape'",
     "output_type": "error",
     "traceback": [
      "\u001b[0;31m---------------------------------------------------------------------------\u001b[0m",
      "\u001b[0;31mAttributeError\u001b[0m                            Traceback (most recent call last)",
      "\u001b[0;32m<ipython-input-2-d5387a4faa37>\u001b[0m in \u001b[0;36m<module>\u001b[0;34m\u001b[0m\n\u001b[1;32m      7\u001b[0m \u001b[0mimg_out\u001b[0m \u001b[0;34m=\u001b[0m \u001b[0;34mf\"/home/cat/Downloads/cohort2/11988{dtype}_{format}_{pfov}_{fov}.jpg\"\u001b[0m\u001b[0;34m\u001b[0m\u001b[0m\n\u001b[1;32m      8\u001b[0m \u001b[0;34m\u001b[0m\u001b[0m\n\u001b[0;32m----> 9\u001b[0;31m \u001b[0mobj\u001b[0m \u001b[0;34m=\u001b[0m \u001b[0mDefisheye\u001b[0m\u001b[0;34m(\u001b[0m\u001b[0mimg\u001b[0m\u001b[0;34m,\u001b[0m \u001b[0mdtype\u001b[0m\u001b[0;34m=\u001b[0m\u001b[0mdtype\u001b[0m\u001b[0;34m,\u001b[0m \u001b[0mformat\u001b[0m\u001b[0;34m=\u001b[0m\u001b[0mformat\u001b[0m\u001b[0;34m,\u001b[0m \u001b[0mfov\u001b[0m\u001b[0;34m=\u001b[0m\u001b[0mfov\u001b[0m\u001b[0;34m,\u001b[0m \u001b[0mpfov\u001b[0m\u001b[0;34m=\u001b[0m\u001b[0mpfov\u001b[0m\u001b[0;34m)\u001b[0m\u001b[0;34m\u001b[0m\u001b[0m\n\u001b[0m\u001b[1;32m     10\u001b[0m \u001b[0mobj\u001b[0m\u001b[0;34m.\u001b[0m\u001b[0mconvert\u001b[0m\u001b[0;34m(\u001b[0m\u001b[0mimg_out\u001b[0m\u001b[0;34m)\u001b[0m\u001b[0;34m\u001b[0m\u001b[0m\n",
      "\u001b[0;32m~/anaconda3/envs/fish/lib/python3.7/site-packages/defisheye/defisheye.py\u001b[0m in \u001b[0;36m__init__\u001b[0;34m(self, infile, **kwargs)\u001b[0m\n\u001b[1;32m     65\u001b[0m             \u001b[0;32mraise\u001b[0m \u001b[0mNameError\u001b[0m\u001b[0;34m(\u001b[0m\u001b[0;34m\"Image format not recognized\"\u001b[0m\u001b[0;34m)\u001b[0m\u001b[0;34m\u001b[0m\u001b[0m\n\u001b[1;32m     66\u001b[0m \u001b[0;34m\u001b[0m\u001b[0m\n\u001b[0;32m---> 67\u001b[0;31m         \u001b[0mwidth\u001b[0m \u001b[0;34m=\u001b[0m \u001b[0m_image\u001b[0m\u001b[0;34m.\u001b[0m\u001b[0mshape\u001b[0m\u001b[0;34m[\u001b[0m\u001b[0;36m1\u001b[0m\u001b[0;34m]\u001b[0m\u001b[0;34m\u001b[0m\u001b[0m\n\u001b[0m\u001b[1;32m     68\u001b[0m         \u001b[0mheight\u001b[0m \u001b[0;34m=\u001b[0m \u001b[0m_image\u001b[0m\u001b[0;34m.\u001b[0m\u001b[0mshape\u001b[0m\u001b[0;34m[\u001b[0m\u001b[0;36m0\u001b[0m\u001b[0;34m]\u001b[0m\u001b[0;34m\u001b[0m\u001b[0m\n\u001b[1;32m     69\u001b[0m         \u001b[0mxcenter\u001b[0m \u001b[0;34m=\u001b[0m \u001b[0mwidth\u001b[0m \u001b[0;34m//\u001b[0m \u001b[0;36m2\u001b[0m\u001b[0;34m\u001b[0m\u001b[0m\n",
      "\u001b[0;31mAttributeError\u001b[0m: 'NoneType' object has no attribute 'shape'"
     ]
    }
   ],
   "source": [
    "\n",
    "dtype = 'linear'\n",
    "format = 'fullframe'\n",
    "fov = 190\n",
    "pfov = 140\n",
    "\n",
    "img = \"/home/cat/Downloads/cohort2/11988.jpg\"\n",
    "img_out = f\"/home/cat/Downloads/cohort2/11988{dtype}_{format}_{pfov}_{fov}.jpg\"\n",
    "\n",
    "obj = Defisheye(img, dtype=dtype, format=format, fov=fov, pfov=pfov)\n",
    "obj.convert(img_out)"
   ]
  },
  {
   "cell_type": "code",
   "execution_count": 86,
   "id": "f1f2665c",
   "metadata": {},
   "outputs": [
    {
     "name": "stdout",
     "output_type": "stream",
     "text": [
      "Camera(Maker: Nikon Corporation; Model: Nikon D3S; Mount: Nikon F AF; Crop Factor: 1.0; Score: 0)\n",
      "Lens(Maker: Nikon; Model: Nikon AF Nikkor 28mm f/1.4D; Type: RECTILINEAR; Focal: 28.0-28.0; Aperture: 1.399999976158142-None; Crop factor: 1.0; Score: 95)\n"
     ]
    }
   ],
   "source": [
    "import lensfunpy\n",
    "import cv2 # OpenCV library\n",
    "\n",
    "cam_maker = 'NIKON CORPORATION'\n",
    "cam_model = 'NIKON D3S'\n",
    "lens_maker = 'Nikon'\n",
    "lens_model = 'Nikkor 28mm f/1.4D AF'\n",
    "\n",
    "db = lensfunpy.Database()\n",
    "cam = db.find_cameras(cam_maker, cam_model)[0]\n",
    "print (cam)\n",
    "lens = db.find_lenses(cam, lens_maker, lens_model)[0]\n",
    "print (lens)\n",
    "\n"
   ]
  },
  {
   "cell_type": "code",
   "execution_count": 85,
   "id": "79bb366a",
   "metadata": {},
   "outputs": [],
   "source": [
    "# #print (lensfunpy.Database.find_cameras(maker=None, model=None, loose_search=False))\n",
    "\n",
    "# db = lensfunpy.Database()\n",
    "# cam = db.find_cameras('flir')\n",
    "# print (cam)\n",
    "# lens = db.find_lenses(cam, 'Nikon', 'Nikkor AF 20mm f/2.8D')[0]\n",
    "\n"
   ]
  },
  {
   "cell_type": "code",
   "execution_count": 6,
   "id": "2c1a3bbc",
   "metadata": {},
   "outputs": [
    {
     "name": "stderr",
     "output_type": "stream",
     "text": [
      "100%|██████████| 6/6 [01:37<00:00, 16.21s/it]"
     ]
    },
    {
     "name": "stdout",
     "output_type": "stream",
     "text": [
      "DONE\n"
     ]
    },
    {
     "name": "stderr",
     "output_type": "stream",
     "text": [
      "\n"
     ]
    }
   ],
   "source": [
    "import glob\n",
    "from tqdm import tqdm, trange\n",
    "import os\n",
    "import parmap\n",
    "import lensfunpy\n",
    "import cv2 # OpenCV library\n",
    "\n",
    "focal_length = 4.5\n",
    "aperture = 1.8\n",
    "distance = 60\n",
    "root_dir = '/home/cat/Downloads/cohort2/late/jpgs/'\n",
    "root_dir_fixed = '//home/cat/Downloads/cohort2/late/jpgs_fixed/'\n",
    "fnames = np.sort(glob.glob(root_dir+'/*.jpg'))\n",
    "\n",
    "# \n",
    "#\n",
    "def correct(fnames\n",
    "            ):\n",
    "\n",
    "    cam_maker = 'NIKON CORPORATION'\n",
    "    cam_model = 'NIKON D3S'\n",
    "    lens_maker = 'Nikon'\n",
    "    lens_model = 'Nikkor 28mm f/1.4D AF'\n",
    "\n",
    "    db = lensfunpy.Database()\n",
    "    cam = db.find_cameras(cam_maker, cam_model)[0]\n",
    "    lens = db.find_lenses(cam, lens_maker, lens_model)[0]\n",
    "\n",
    "    for image_path in fnames:\n",
    "        im_undistorted = cv2.imread(image_path)\n",
    "        for k in range(6):\n",
    "            if k==0:\n",
    "                im_undistorted = np.roll(im_undistorted, -40, 0)\n",
    "                im_undistorted = np.roll(im_undistorted, -40, 1)\n",
    "\n",
    "            height, width = im_undistorted.shape[0], im_undistorted.shape[1]\n",
    "\n",
    "            mod = lensfunpy.Modifier(lens, cam.crop_factor, width, height)\n",
    "            mod.initialize(focal_length, aperture, distance)\n",
    "\n",
    "            undist_coords = mod.apply_geometry_distortion()\n",
    "            im_undistorted = cv2.remap(im_undistorted, undist_coords, None, cv2.INTER_LANCZOS4)\n",
    "\n",
    "        undistorted_image_path = root_dir_fixed + os.path.split(image_path)[1]\n",
    "        cv2.imwrite(undistorted_image_path, im_undistorted)\n",
    "\n",
    "    \n",
    "if True:\n",
    "    fnames_split = np.array_split(fnames, 6)\n",
    "    parmap.map(correct, \n",
    "               fnames_split,\n",
    "               pm_processes=6,\n",
    "              pm_pbar=True)\n",
    "    \n",
    "\n",
    "print (\"DONE\")\n",
    "        \n"
   ]
  },
  {
   "cell_type": "code",
   "execution_count": null,
   "id": "9460a1e0",
   "metadata": {},
   "outputs": [],
   "source": []
  }
 ],
 "metadata": {
  "kernelspec": {
   "display_name": "Python 3",
   "language": "python",
   "name": "python3"
  },
  "language_info": {
   "codemirror_mode": {
    "name": "ipython",
    "version": 3
   },
   "file_extension": ".py",
   "mimetype": "text/x-python",
   "name": "python",
   "nbconvert_exporter": "python",
   "pygments_lexer": "ipython3",
   "version": "3.7.0"
  }
 },
 "nbformat": 4,
 "nbformat_minor": 5
}
