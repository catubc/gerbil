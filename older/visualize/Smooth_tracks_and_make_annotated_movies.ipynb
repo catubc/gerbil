{
 "cells": [
  {
   "cell_type": "code",
   "execution_count": 1,
   "metadata": {},
   "outputs": [
    {
     "data": {
      "application/javascript": [
       "IPython.notebook.set_autosave_interval(180000)"
      ]
     },
     "metadata": {},
     "output_type": "display_data"
    },
    {
     "name": "stdout",
     "output_type": "stream",
     "text": [
      "Autosaving every 180 seconds\n"
     ]
    },
    {
     "data": {
      "text/html": [
       "<style>.container { width:100% !important; }</style>"
      ],
      "text/plain": [
       "<IPython.core.display.HTML object>"
      ]
     },
     "metadata": {},
     "output_type": "display_data"
    }
   ],
   "source": [
    "%load_ext autoreload\n",
    "%autoreload 2\n",
    "\n",
    "import matplotlib\n",
    "#matplotlib.use('Agg')\n",
    "%matplotlib tk\n",
    "%autosave 180\n",
    "\n",
    "#\n",
    "import matplotlib.pyplot as plt\n",
    "from IPython.core.display import display, HTML\n",
    "display(HTML(\"<style>.container { width:100% !important; }</style>\"))\n",
    "\n",
    "#\n",
    "import matplotlib.cm as cm\n",
    "from matplotlib import gridspec\n",
    "from scipy import signal\n",
    "\n",
    "#\n",
    "import numpy as np\n",
    "import pandas as pd\n",
    "import os\n",
    "import shutil\n",
    "import cv2\n",
    "from tqdm import trange\n",
    "\n",
    "# \n",
    "from scipy.io import loadmat\n",
    "import scipy\n",
    "import h5py\n",
    "\n",
    "# \n",
    "import csv\n",
    "import sleap\n",
    "\n",
    "# \n",
    "from visualize import Visualize\n",
    "from track import Track\n"
   ]
  },
  {
   "cell_type": "code",
   "execution_count": 3,
   "metadata": {},
   "outputs": [],
   "source": [
    "###################################################\n",
    "###################################################\n",
    "###################################################\n",
    "# \n",
    "def save_two_animal_slp(animal_ids, fname_slp):\n",
    "    # select first to animals\n",
    "    labels = sleap.load_file(fname_slp)\n",
    "\n",
    "    # Change this to specify which pair of tracks to save:\n",
    "    keep_tracks = [labels.tracks[animal_ids[0]], labels.tracks[animal_ids[1]]]\n",
    "\n",
    "    # Remove instances that aren't in keep_tracks\n",
    "    for lf in labels:\n",
    "        lf.instances = [inst for inst in lf.instances if inst.track in keep_tracks]\n",
    "\n",
    "    # Keep only those tracks in the labels\n",
    "    labels.tracks = keep_tracks\n",
    "\n",
    "    # Remove frames that are now empty due to the track filtering\n",
    "    labels.remove_empty_frames()\n",
    "\n",
    "    # Save the result with the specified tracks in the filename\n",
    "    labels.save(fname_slp[:-4] + \"_\"+str(animal_ids[0])+\"_\"+str(animal_ids[1])+\".slp\")\n",
    "    \n",
    "#\n",
    "fname_slp = '/media/cat/256GB/dan/simba/2020_07_31_20_15_17_668937_compressed_defished_shrink_cropped.slp'\n",
    "fname_vid = '/media/cat/256GB/dan/simba/2020_07_31_20_15_17_668937_compressed_defished_shrink_cropped.mp4'\n",
    "\n",
    "#\n",
    "animal_ids = [0,1]\n",
    "save_two_animal_slp(animal_ids, fname_slp)\n",
    "\n",
    "#\n"
   ]
  },
  {
   "cell_type": "code",
   "execution_count": 5,
   "metadata": {},
   "outputs": [
    {
     "name": "stderr",
     "output_type": "stream",
     "text": [
      "  0%|          | 9/2000 [00:00<00:24, 81.75it/s]"
     ]
    },
    {
     "name": "stdout",
     "output_type": "stream",
     "text": [
      "width, heigh:  900.0 700.0\n",
      "Histories:  (2, 5, 2)\n"
     ]
    },
    {
     "name": "stderr",
     "output_type": "stream",
     "text": [
      "100%|██████████| 2000/2000 [00:23<00:00, 83.91it/s]\n"
     ]
    }
   ],
   "source": [
    "######################################################## \n",
    "############## GENERATE FIXED TRACK MOVIE ##############\n",
    "########################################################\n",
    "#\n",
    "fps = 25\n",
    "shrink = 1 # shrink image factor\n",
    "fname_video_out = 'fixed'\n",
    "fname_video = '/media/cat/256GB/dan/simba/2020_07_31_20_15_17_668937_compressed_defished_shrink_cropped.mp4'\n",
    "\n",
    "# \n",
    "track = Track('/media/cat/256GB/dan/simba/2020_07_31_20_15_17_668937_compressed_defished_shrink_cropped_0_1.slp')\n",
    "track.animal_ids = [0,1]\n",
    "track.tracks_names = ['female','male']\n",
    "track.recompute_spine_centres=True\n",
    "track.verbose = True                      # gives additional printouts\n",
    "track.n_animals = 2                       # number of animals\n",
    "track.filter_width = 10                   # this is the median filter width in frames; e.g. 10 ~=0.4 seconds\n",
    "                                          # higher values provide more stability, but less temporally precise locations\n",
    "# \n",
    "track.load_tracks()\n",
    "\n",
    "######################################################\n",
    "### OPTIONAL 1 - MEDIAN FILTER ALL BODY PARTS ########\n",
    "######################################################\n",
    "if False:\n",
    "    track.filter_tracks()\n",
    "            \n",
    "######################################################\n",
    "### OPTIONAL 2 - ALGORITHM TO REASSIGN CHUNKING ######\n",
    "######################################################\n",
    "if False:\n",
    "    # parameters for fixing track chunking\n",
    "\n",
    "    track.max_jump_single_frame = 100   # max distance that an animal can move in a single frame\n",
    "    track.max_time_automerge = 3        # time to automerget chunks from same animal ???\n",
    "    track.max_dist_automerge = 25       # distance to auto merge chunks from same animal separated by single time skip\n",
    "\n",
    "    # \n",
    "    track.get_scores()\n",
    "\n",
    "    #\n",
    "    track.make_tracks_chunks()\n",
    "\n",
    "    # \n",
    "    track.time_threshold = 25          # window to search for nearest chunks\n",
    "    track.safe_chunk_length = 15       # chunks this long will not change id\n",
    "    track.min_chunk_len = 4            # min length of chukn to be used for anchoring/correcting\n",
    "    track.max_distance_merge = 75      # max pix diff allowed for merging when using model\n",
    "    \n",
    "    # track.memory_length = 25         # how many frames back is it ok to remember a prev animal\n",
    "    track.verbose = False\n",
    "    track.update_tracks = True\n",
    "\n",
    "    track.fix_tracks()\n",
    "\n",
    "else:\n",
    "    # recompute spine centres from scratch\n",
    "    track.get_track_spine_centers()\n",
    "    \n",
    "######################################################\n",
    "### OPTIONAL 3 - MEDIAN FILTER SPINE CENTRES #########\n",
    "######################################################\n",
    "if False:\n",
    "    track.filter_tracks_centres() \n",
    "    \n",
    "####################################################\n",
    "########## MAKE MOVIES OF SPINE CENTRES ############\n",
    "####################################################\n",
    "vis = Visualize()\n",
    "start = 0   # frame to start\n",
    "end = 2000   # frame to end\n",
    "vis.make_video_centroid(track.tracks_spine,                # visualize centres locations\n",
    "                        fname_video,\n",
    "                        fname_video_out,\n",
    "                        start,\n",
    "                        end,\n",
    "                        fps,\n",
    "                        shrink) \n",
    "\n",
    "\n",
    "# "
   ]
  },
  {
   "cell_type": "code",
   "execution_count": null,
   "metadata": {},
   "outputs": [],
   "source": []
  },
  {
   "cell_type": "code",
   "execution_count": null,
   "metadata": {},
   "outputs": [],
   "source": []
  },
  {
   "cell_type": "code",
   "execution_count": 21,
   "metadata": {},
   "outputs": [],
   "source": []
  },
  {
   "cell_type": "code",
   "execution_count": null,
   "metadata": {},
   "outputs": [],
   "source": []
  },
  {
   "cell_type": "code",
   "execution_count": null,
   "metadata": {},
   "outputs": [],
   "source": []
  }
 ],
 "metadata": {
  "kernelspec": {
   "display_name": "Python 3",
   "language": "python",
   "name": "python3"
  },
  "language_info": {
   "codemirror_mode": {
    "name": "ipython",
    "version": 3
   },
   "file_extension": ".py",
   "mimetype": "text/x-python",
   "name": "python",
   "nbconvert_exporter": "python",
   "pygments_lexer": "ipython3",
   "version": "3.7.0"
  }
 },
 "nbformat": 4,
 "nbformat_minor": 4
}
