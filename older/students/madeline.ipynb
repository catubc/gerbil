{
 "cells": [
  {
   "cell_type": "code",
   "execution_count": 2,
   "metadata": {},
   "outputs": [],
   "source": [
    "import matplotlib\n",
    "%matplotlib tk\n",
    "import matplotlib.pyplot as plt\n",
    "\n",
    "import numpy as np\n",
    "import csv\n"
   ]
  },
  {
   "cell_type": "code",
   "execution_count": 48,
   "metadata": {},
   "outputs": [
    {
     "name": "stdout",
     "output_type": "stream",
     "text": [
      "(10, 17)\n",
      "(7, 17)\n",
      "(6, 17)\n",
      "(10, 17)\n",
      "(9, 17)\n",
      "(11, 17)\n"
     ]
    }
   ],
   "source": [
    "# data = []\n",
    "# with open('/Users/maddiegamer/Downloads/Error_tracking_spreadsheet - Copy of Sheet1.csv') as csv_file:\n",
    "        \n",
    "#     csv_reader = csv.reader(csv_file, delimiter=',')\n",
    "#     line_count = 0\n",
    "#     for row in csv_reader:\n",
    "#         row2 = []\n",
    "#         for x in row:\n",
    "#             if x=='':\n",
    "#                 row2.append(0)\n",
    "#             else:\n",
    "#                 row2.append(x)\n",
    "#         data.append(row2)\n",
    "# data= np.array(data)\n",
    "\n",
    "\n",
    "fnames = [\n",
    "'/home/cat/Downloads/Downloads/2020_3_16_09_59_34_731308_day.csv',\n",
    "'/home/cat/Downloads/Downloads/2020_3_16_08_59_17_193818_day.csv',\n",
    "'/home/cat/Downloads/Downloads/2020_3_16_08_59_17_534732_day.csv',\n",
    "'/home/cat/Downloads/Downloads/2020_3_16_08_59_17_358257_night.csv',\n",
    "'/home/cat/Downloads/Downloads/2020_3_16_12_54_07_193951_night.csv',\n",
    "'/home/cat/Downloads/Downloads/2020_3_16_10_59_50_448686_night.csv',\n",
    "]\n",
    "\n",
    "data_a = []\n",
    "for fname in fnames:\n",
    "    data = []\n",
    "    with open(fname) as csv_file:\n",
    "\n",
    "        csv_reader = csv.reader(csv_file, delimiter=',')\n",
    "        line_count = 0\n",
    "        for row in csv_reader:\n",
    "            row2 = []\n",
    "            for x in row:\n",
    "                if x=='':\n",
    "                    row2.append(0)\n",
    "                else:\n",
    "                    row2.append(x)\n",
    "            data.append(row2)\n",
    "    data=np.array(data)\n",
    "    print(data.shape)\n",
    "    data_a.append(data)\n"
   ]
  },
  {
   "cell_type": "code",
   "execution_count": 123,
   "metadata": {
    "scrolled": true
   },
   "outputs": [],
   "source": [
    "# search for cyan errors:\n",
    "import os\n",
    "animal_names = ['female','male','pup1','pup2']\n",
    "error_type = [\"red\", \"blue\", \"cyan\", \"green\"]\n",
    "\n",
    "# \n",
    "animal_starting_columns = [1,5,9,13]\n",
    "\n",
    "daytime_errors = np.zeros((3,4,4),'int32')\n",
    "nighttime_errors = np.zeros((3,4,4),'int32')\n",
    "dd=0\n",
    "nn=0\n",
    "ctr=0\n",
    "for ctr_data, data in enumerate(data_a):\n",
    "    for animal_id, animal_col in enumerate(animal_starting_columns):\n",
    "        #animal_col= 1\n",
    "        name = \"female\"\n",
    "        animal_col_total = 4  # but we dont' have it\n",
    "\n",
    "        sums = np.zeros(4)\n",
    "        for i in range(data.shape[0]):\n",
    "            for e in range(len(error_type)):\n",
    "                if error_type[e] in data[i, animal_col]:\n",
    "                    #sums_block [e] += int(data[i, animal_col_total])\n",
    "                    sums [e] += int(data[i, animal_col+2]) - int(data[i, animal_col+1])\n",
    "\n",
    "        #print (animal_names[ctr], sums)\n",
    "        #sums+=1\n",
    "        #print (sums)\n",
    "        ax=plt.subplot(6,4,ctr+1)\n",
    "        plt.title(animal_names[animal_id])\n",
    "        for k in range(4):\n",
    "            if sums[k]>0:\n",
    "                ax.bar(k, sums[k], .9, color = error_type[k])\n",
    "        ctr+=1\n",
    "\n",
    "\n",
    "        colors = {'female '+str(sums[0]):'red', \n",
    "                  'male '+str(sums[1]):'blue',\n",
    "                 'pup1 '+str(sums[2]):'cyan',\n",
    "                 'pup2 '+str(sums[3]):'green'}         \n",
    "        labels = list(colors.keys())\n",
    "        handles = [plt.Rectangle((0,0),1,1, color=colors[label]) for label in labels]\n",
    "        plt.legend(handles, labels,fontsize=6)\n",
    "        #plt.semilogy(1,1E5)\n",
    "        plt.ylim(1,1E4)\n",
    "        plt.xlim(-0.5,3.5)\n",
    "        if animal_id==0:\n",
    "            if 'night' in fnames[ctr_data]:\n",
    "                plt.ylabel('night', fontsize=10)\n",
    "            else:\n",
    "                plt.ylabel('day', fontsize=10)\n",
    "\n",
    "        if 'day' in fnames[ctr_data]:\n",
    "            daytime_errors[dd,animal_id]=sums\n",
    "        else:\n",
    "            nighttime_errors[nn,animal_id]=sums\n",
    "            \n",
    "    if 'day' in fnames[ctr_data]:\n",
    "        dd+=1            \n",
    "    else:\n",
    "        nn+=1\n",
    "\n",
    "plt.show()\n",
    "    \n",
    "    "
   ]
  },
  {
   "cell_type": "code",
   "execution_count": 124,
   "metadata": {},
   "outputs": [
    {
     "name": "stdout",
     "output_type": "stream",
     "text": [
      "[[[    0     0   468    30]\n",
      "  [   74     0  2271   289]\n",
      "  [ 2418   370     0  2651]\n",
      "  [    0    46 15347     0]]\n",
      "\n",
      " [[    0     0    68     0]\n",
      "  [    0     0    84   173]\n",
      "  [  101     0     0  2241]\n",
      "  [    0     0  1792     0]]\n",
      "\n",
      " [[    0     0  1420  1692]\n",
      "  [    0     0   609  3727]\n",
      "  [    0   762     0 16140]\n",
      "  [    0   251  2006     0]]]\n",
      "[[[   0    0 5574    0]\n",
      "  [   0    0    0    0]\n",
      "  [1408    0    0 2108]\n",
      "  [   0    0 3604    0]]\n",
      "\n",
      " [[   0    0    0    0]\n",
      "  [   0    0    0    0]\n",
      "  [   0    0    0 6271]\n",
      "  [   0    0  183    0]]\n",
      "\n",
      " [[   0    0 4936   32]\n",
      "  [   0    0    0    0]\n",
      "  [   0    0    0  955]\n",
      "  [   0  521  698    0]]]\n",
      "temp:  [0 0 0]\n",
      "temp:  [0 0 0]\n",
      "temp:  [ 468   68 1420]\n",
      "temp:  [  30    0 1692]\n",
      "temp:  [74  0  0]\n",
      "temp:  [0 0 0]\n",
      "temp:  [2271   84  609]\n",
      "temp:  [ 289  173 3727]\n",
      "temp:  [2418  101    0]\n",
      "temp:  [370   0 762]\n",
      "temp:  [0 0 0]\n",
      "temp:  [ 2651  2241 16140]\n",
      "temp:  [0 0 0]\n",
      "temp:  [ 46   0 251]\n",
      "temp:  [15347  1792  2006]\n",
      "temp:  [0 0 0]\n"
     ]
    }
   ],
   "source": [
    "clrs = [\"red\", \"blue\", \"cyan\", \"green\"]\n",
    "\n",
    "\n",
    "print (nighttime_errors)\n",
    "print (daytime_errors)\n",
    "\n",
    "# \n",
    "for k in range(4):\n",
    "    ax=plt.subplot(2,2,k+1)\n",
    "    for p in range(4):\n",
    "        temp = nighttime_errors[:,k,p]\n",
    "        print (\"temp: \", temp)\n",
    "\n",
    "        # \n",
    "        plt.scatter(np.zeros(temp.shape[0])+p, \n",
    "                    temp, \n",
    "                    s=200,\n",
    "                    alpha=.5,\n",
    "                    c=clrs[p])\n",
    "\n",
    "        mean_all = temp.mean()\n",
    "        plt.scatter(np.zeros(1)+p, mean_all, s=500,\n",
    "                    alpha=1,\n",
    "                    c=clrs[p])\n",
    "    plt.xlim(-0.5,4)\n",
    "    plt.ylim(0,10000)\n",
    "    plt.title(animal_names[k])\n",
    "    plt.xticks(np.arange(4), animal_names)\n",
    "plt.suptitle(\"NIGHTIME\",fontsize=30)\n",
    "plt.show()\n"
   ]
  },
  {
   "cell_type": "code",
   "execution_count": null,
   "metadata": {},
   "outputs": [],
   "source": []
  },
  {
   "cell_type": "code",
   "execution_count": null,
   "metadata": {},
   "outputs": [],
   "source": []
  },
  {
   "cell_type": "code",
   "execution_count": 31,
   "metadata": {},
   "outputs": [
    {
     "ename": "NameError",
     "evalue": "name 'sums_female' is not defined",
     "output_type": "error",
     "traceback": [
      "\u001b[0;31m---------------------------------------------------------------------------\u001b[0m",
      "\u001b[0;31mNameError\u001b[0m                                 Traceback (most recent call last)",
      "\u001b[0;32m<ipython-input-31-92f99d6108bb>\u001b[0m in \u001b[0;36m<module>\u001b[0;34m\u001b[0m\n\u001b[1;32m      1\u001b[0m \u001b[0mf\u001b[0m\u001b[0;34m,\u001b[0m \u001b[0;34m(\u001b[0m\u001b[0max\u001b[0m\u001b[0;34m,\u001b[0m \u001b[0max2\u001b[0m\u001b[0;34m)\u001b[0m \u001b[0;34m=\u001b[0m \u001b[0mplt\u001b[0m\u001b[0;34m.\u001b[0m\u001b[0msubplots\u001b[0m\u001b[0;34m(\u001b[0m\u001b[0;36m1\u001b[0m\u001b[0;34m,\u001b[0m\u001b[0;36m2\u001b[0m\u001b[0;34m,\u001b[0m\u001b[0msharex\u001b[0m\u001b[0;34m=\u001b[0m\u001b[0;32mTrue\u001b[0m\u001b[0;34m,\u001b[0m \u001b[0mfacecolor\u001b[0m \u001b[0;34m=\u001b[0m \u001b[0;34m'w'\u001b[0m\u001b[0;34m)\u001b[0m\u001b[0;34m\u001b[0m\u001b[0m\n\u001b[1;32m      2\u001b[0m \u001b[0;34m\u001b[0m\u001b[0m\n\u001b[0;32m----> 3\u001b[0;31m \u001b[0max\u001b[0m\u001b[0;34m.\u001b[0m\u001b[0mbar\u001b[0m\u001b[0;34m(\u001b[0m\u001b[0;34m[\u001b[0m\u001b[0;36m1\u001b[0m\u001b[0;34m,\u001b[0m\u001b[0;36m2\u001b[0m\u001b[0;34m,\u001b[0m\u001b[0;36m3\u001b[0m\u001b[0;34m,\u001b[0m\u001b[0;36m4\u001b[0m\u001b[0;34m]\u001b[0m\u001b[0;34m,\u001b[0m \u001b[0msums_female\u001b[0m\u001b[0;34m,\u001b[0m \u001b[0;36m.9\u001b[0m\u001b[0;34m,\u001b[0m \u001b[0mcolor\u001b[0m \u001b[0;34m=\u001b[0m \u001b[0merror_type\u001b[0m\u001b[0;34m)\u001b[0m\u001b[0;34m\u001b[0m\u001b[0m\n\u001b[0m\u001b[1;32m      4\u001b[0m \u001b[0max\u001b[0m\u001b[0;34m.\u001b[0m\u001b[0mbar\u001b[0m\u001b[0;34m(\u001b[0m\u001b[0;34m[\u001b[0m\u001b[0;36m11\u001b[0m\u001b[0;34m,\u001b[0m\u001b[0;36m12\u001b[0m\u001b[0;34m,\u001b[0m\u001b[0;36m13\u001b[0m\u001b[0;34m,\u001b[0m\u001b[0;36m14\u001b[0m\u001b[0;34m]\u001b[0m\u001b[0;34m,\u001b[0m \u001b[0msums_male\u001b[0m\u001b[0;34m,\u001b[0m \u001b[0;36m.9\u001b[0m\u001b[0;34m,\u001b[0m \u001b[0mcolor\u001b[0m \u001b[0;34m=\u001b[0m \u001b[0merror_type\u001b[0m\u001b[0;34m)\u001b[0m\u001b[0;34m\u001b[0m\u001b[0m\n\u001b[1;32m      5\u001b[0m \u001b[0max\u001b[0m\u001b[0;34m.\u001b[0m\u001b[0mbar\u001b[0m\u001b[0;34m(\u001b[0m\u001b[0;34m[\u001b[0m\u001b[0;36m21\u001b[0m\u001b[0;34m,\u001b[0m\u001b[0;36m22\u001b[0m\u001b[0;34m,\u001b[0m\u001b[0;36m23\u001b[0m\u001b[0;34m,\u001b[0m\u001b[0;36m24\u001b[0m\u001b[0;34m]\u001b[0m\u001b[0;34m,\u001b[0m \u001b[0msums_unshaved\u001b[0m\u001b[0;34m,\u001b[0m \u001b[0;36m.9\u001b[0m\u001b[0;34m,\u001b[0m \u001b[0mcolor\u001b[0m \u001b[0;34m=\u001b[0m \u001b[0merror_type\u001b[0m\u001b[0;34m)\u001b[0m\u001b[0;34m\u001b[0m\u001b[0m\n",
      "\u001b[0;31mNameError\u001b[0m: name 'sums_female' is not defined"
     ]
    }
   ],
   "source": [
    "f, (ax, ax2) = plt.subplots(1,2,sharex=True, facecolor = 'w')\n",
    "\n",
    "ax.bar([1,2,3,4], sums_female, .9, color = error_type)\n",
    "ax.bar([11,12,13,14], sums_male, .9, color = error_type)\n",
    "ax.bar([21,22,23,24], sums_unshaved, .9, color = error_type)\n",
    "ax.bar([31,32,33,34], sums_shaved, .9, color = error_type)\n",
    "ax.bar([41,42,43,44], sums_block, .9, color = error_type)\n",
    "\n",
    "ax2.bar([1,2,3,4], sums_female, .9, color = error_type)\n",
    "ax2.bar([11,12,13,14], sums_male, .9, color = error_type)\n",
    "ax2.bar([21,22,23,24], sums_unshaved, .9, color = error_type)\n",
    "ax2.bar([31,32,33,34], sums_shaved, .9, color = error_type)\n",
    "ax2.bar([41,42,43,44], sums_block, .9, color = error_type)\n",
    "\n",
    "ax.set_ylim(0,6000)\n",
    "ax2.set_ylim(60000,65000)\n",
    "\n",
    "\n",
    "# hide the spines between ax and ax2\n",
    "ax.spines['right'].set_visible(False)\n",
    "ax2.spines['left'].set_visible(False)\n",
    "ax.xaxis.tick_bottom()\n",
    "ax.tick_params(labelright='off')\n",
    "ax2.xaxis.tick_top()\n",
    "\n",
    "# This looks pretty good, and was fairly painless, but you can get that\n",
    "# cut-out diagonal lines look with just a bit more work. The important\n",
    "# thing to know here is that in axes coordinates, which are always\n",
    "# between 0-1, spine endpoints are at these locations (0,0), (0,1),\n",
    "# (1,0), and (1,1).  Thus, we just need to put the diagonals in the\n",
    "# appropriate corners of each of our axes, and so long as we use the\n",
    "# right transform and disable clipping.\n",
    "\n",
    "d = .015 # how big to make the diagonal lines in axes coordinates\n",
    "# arguments to pass plot, just so we don't keep repeating them\n",
    "kwargs = dict(transform=ax.transAxes, color='k', clip_on=False)\n",
    "ax.plot((1-d,1+d), (-d,+d), **kwargs)\n",
    "ax.plot((1-d,1+d),(1-d,1+d), **kwargs)\n",
    "\n",
    "kwargs.update(transform=ax2.transAxes)  # switch to the bottom axes\n",
    "ax2.plot((-d,+d), (1-d,1+d), **kwargs)\n",
    "ax2.plot((-d,+d), (-d,+d), **kwargs)\n",
    "\n",
    "# What's cool about this is that now if we vary the distance between\n",
    "# ax and ax2 via f.subplots_adjust(hspace=...) or plt.subplot_tool(),\n",
    "# the diagonal lines will move accordingly, and stay right at the tips\n",
    "# of the spines they are 'breaking'\n",
    "\n",
    "plt.show()"
   ]
  },
  {
   "cell_type": "code",
   "execution_count": null,
   "metadata": {},
   "outputs": [],
   "source": [
    "#wooden block\n",
    "print (\"shape: \", data.shape)\n",
    "animal_col= 17\n",
    "name = \"block\"\n",
    "animal_col_total = 20\n",
    "\n",
    "sums_block = np.zeros(4)\n",
    "for i in range(data.shape[0]):\n",
    "    \n",
    "    for e in range(len(error_type)):\n",
    "        if error_type[e] in data[i, animal_col]:\n",
    "            sums_block [e]=sums_block[e]+ int(data[i, animal_col_total])\n",
    "        \n",
    "print (\"error_type\", error_type)        \n",
    "print (\"sums\", sums)"
   ]
  },
  {
   "cell_type": "code",
   "execution_count": 40,
   "metadata": {},
   "outputs": [
    {
     "data": {
      "image/png": "[encoded data removed]",
      "text/plain": [
       "<Figure size 432x288 with 1 Axes>"
      ]
     },
     "metadata": {
      "needs_background": "light"
     },
     "output_type": "display_data"
    }
   ],
   "source": [
    "plt.bar([1,2,3,4], sums_block, .9, color = error_type)\n",
    "\n",
    "plt.ylim(0,70000)\n",
    "plt.show()"
   ]
  },
  {
   "cell_type": "code",
   "execution_count": 267,
   "metadata": {
    "scrolled": true
   },
   "outputs": [
    {
     "name": "stdout",
     "output_type": "stream",
     "text": [
      "shape:  (40, 22)\n",
      "cyan, green # errors :  75\n",
      "cyan, green # errors :  567\n",
      "642\n"
     ]
    }
   ],
   "source": [
    "# search for cyan, green errors\n",
    "print (\"shape: \", data.shape)\n",
    "index = 1\n",
    "sums = 0\n",
    "for row in range (data.shape[0]):\n",
    "    if data[row, index]=='cyan, green':\n",
    "        print (data[row, index], \"# errors : \", data[row, 4])\n",
    "        sums = sums + int(data[row, 4])\n",
    "        \n",
    "print (sums)"
   ]
  },
  {
   "cell_type": "code",
   "execution_count": 268,
   "metadata": {},
   "outputs": [
    {
     "name": "stdout",
     "output_type": "stream",
     "text": [
      "shape:  (40, 22)\n",
      "blue, green # errors :  174\n",
      "blue, green # errors :  391\n",
      "565\n"
     ]
    }
   ],
   "source": [
    "# search for blue, green errors\n",
    "print (\"shape: \", data.shape)\n",
    "index = 1\n",
    "sums = 0\n",
    "for row in range (data.shape[0]):\n",
    "    if data [row, index]=='blue, green':\n",
    "        print (data[row, index], \"# errors : \", data [row, 4])\n",
    "        sums = sums + int (data[row, 4])\n",
    "        \n",
    "print (sums)"
   ]
  },
  {
   "cell_type": "code",
   "execution_count": 269,
   "metadata": {},
   "outputs": [
    {
     "name": "stdout",
     "output_type": "stream",
     "text": [
      "all column:  ['0' '0' '0' 'Male\\n(error type)' 'cyan' 'cyan' 'red' 'green' '0' '0' '0'\n",
      " '0' '0' '0' '0' '0' '0' '0' '0' '0' '0' '0' '0' '0' '0' '0' '0' '0' '0'\n",
      " '0' '0' '0' '0' '0' '0' '0' '0' '0' '0' '0']\n",
      "\n",
      "second element:  0\n"
     ]
    }
   ],
   "source": [
    "# 6th column: male error type\n",
    "index = 5\n",
    "\n",
    "print (\"all column: \", data[:, index])\n",
    "print ('')\n",
    "\n",
    "index = 5\n",
    "row = 0\n",
    "\n",
    "print (\"second element: \", data[:, index][0])"
   ]
  },
  {
   "cell_type": "code",
   "execution_count": 270,
   "metadata": {},
   "outputs": [
    {
     "name": "stdout",
     "output_type": "stream",
     "text": [
      "all errors:  ['0' '0' '0' 'TOTAL' '11' '40' '25' '92' '0' '0' '0' '0' '0' '0' '0' '0'\n",
      " '0' '0' '0' '0' '0' '0' '0' '0' '0' '0' '0' '0' '0' '0' '0' '0' '0' '0'\n",
      " '0' '0' '0' '0' '0' '0']\n",
      "# errors first row:  0\n"
     ]
    }
   ],
   "source": [
    "# how many errors for second cell\n",
    "index = 8\n",
    "print (\"all errors: \", data[:,8])\n",
    "\n",
    "\n",
    "index = 8\n",
    "print (\"# errors second row: \", data[:,8][row])"
   ]
  },
  {
   "cell_type": "code",
   "execution_count": 271,
   "metadata": {},
   "outputs": [
    {
     "name": "stdout",
     "output_type": "stream",
     "text": [
      "shape:  (40, 22)\n",
      "cyan # errors :  11\n",
      "cyan # errors :  40\n",
      "51\n"
     ]
    }
   ],
   "source": [
    "# search for cyan errors:\n",
    "print (\"shape: \", data.shape)\n",
    "index = 5\n",
    "sums = 0\n",
    "for row in range(data.shape[0]):\n",
    "    if data[row,index]=='cyan':\n",
    "        print (data[row,index], \"# errors : \", data[row, 8]) \n",
    "        sums = sums + int(data[row, 8])\n",
    "        \n",
    "print (sums)"
   ]
  },
  {
   "cell_type": "code",
   "execution_count": 272,
   "metadata": {},
   "outputs": [
    {
     "name": "stdout",
     "output_type": "stream",
     "text": [
      "shape:  (40, 22)\n",
      "red # errors :  25\n",
      "25\n"
     ]
    }
   ],
   "source": [
    "# search for red errors:\n",
    "print (\"shape: \", data.shape)\n",
    "index = 5\n",
    "sums = 0\n",
    "for row in range(data.shape[0]):\n",
    "    if data[row,index]=='red':\n",
    "        print (data[row,index], \"# errors : \", data[row, 8]) \n",
    "        sums = sums + int(data[row, 8])\n",
    "        \n",
    "print (sums)"
   ]
  },
  {
   "cell_type": "code",
   "execution_count": 273,
   "metadata": {},
   "outputs": [
    {
     "name": "stdout",
     "output_type": "stream",
     "text": [
      "shape:  (40, 22)\n",
      "green # errors :  92\n",
      "92\n"
     ]
    }
   ],
   "source": [
    "# search for green errors:\n",
    "print (\"shape: \", data.shape)\n",
    "index= 5\n",
    "sums = 0\n",
    "for row in range(data.shape[0]):\n",
    "    if data[row,index]=='green':\n",
    "        print (data[row,index], \"# errors : \", data[row, 8]) \n",
    "        sums = sums + int(data[row, 8])\n",
    "        \n",
    "print (sums)"
   ]
  },
  {
   "cell_type": "code",
   "execution_count": 274,
   "metadata": {},
   "outputs": [
    {
     "name": "stdout",
     "output_type": "stream",
     "text": [
      "all column:  ['0' '0' '0' 'Pup1 \\n(unshaved)\\nError type' 'blue' 'red' 'red' 'red'\n",
      " 'blue' 'red' 'red' 'blue, cyan, red' 'blue, red' 'cyan' 'cyan' 'cyan'\n",
      " 'blue' 'blue, cyan' 'blue' 'blue' 'blue' '0' '0' '0' '0' '0' '0' '0' '0'\n",
      " '0' '0' '0' '0' '0' '0' '0' '0' '0' '0' '0']\n",
      "\n",
      "second element:  0\n"
     ]
    }
   ],
   "source": [
    "# 10th column: unshaved pup error type\n",
    "index = 9\n",
    "\n",
    "print (\"all column: \", data[:, index])\n",
    "print ('')\n",
    "\n",
    "index = 9\n",
    "row = 0\n",
    "\n",
    "print (\"third element: \", data[:, index][0])"
   ]
  },
  {
   "cell_type": "code",
   "execution_count": 275,
   "metadata": {},
   "outputs": [
    {
     "name": "stdout",
     "output_type": "stream",
     "text": [
      "all errors:  ['0' '0' '0' 'TOTAL' '318' '18' '515' '518' '717' '50' '144' '198' '12'\n",
      " '144' '77' '629' '73' '68' '59' '24' '58' '0' '0' '0' '0' '0' '0' '0' '0'\n",
      " '0' '0' '0' '0' '0' '0' '0' '0' '0' '0' '0']\n",
      "# errors first row:  0\n"
     ]
    }
   ],
   "source": [
    "# how many errors for third cell\n",
    "index = 12\n",
    "print (\"all errors: \", data[:,12])\n",
    "\n",
    "\n",
    "index = 12\n",
    "print (\"# errors third row: \", data[:,12][row])"
   ]
  },
  {
   "cell_type": "code",
   "execution_count": 276,
   "metadata": {},
   "outputs": [
    {
     "name": "stdout",
     "output_type": "stream",
     "text": [
      "shape:  (40, 22)\n",
      "blue # errors :  318\n",
      "blue # errors :  717\n",
      "blue # errors :  73\n",
      "blue # errors :  59\n",
      "blue # errors :  24\n",
      "blue # errors :  58\n",
      "1249\n"
     ]
    }
   ],
   "source": [
    "# search for blue errors:\n",
    "print (\"shape: \", data.shape)\n",
    "index = 9\n",
    "sums = 0\n",
    "for row in range(data.shape[0]):\n",
    "    if data[row,index]=='blue':\n",
    "        print (data[row,index], \"# errors : \", data[row, 12]) \n",
    "        sums = sums + int(data[row, 12])\n",
    "        \n",
    "print (sums)"
   ]
  },
  {
   "cell_type": "code",
   "execution_count": 277,
   "metadata": {},
   "outputs": [
    {
     "name": "stdout",
     "output_type": "stream",
     "text": [
      "shape:  (40, 22)\n",
      "red # errors :  18\n",
      "18\n",
      "red # errors :  515\n",
      "515\n",
      "red # errors :  518\n",
      "518\n",
      "red # errors :  50\n",
      "50\n",
      "red # errors :  144\n",
      "144\n",
      "1245\n"
     ]
    }
   ],
   "source": [
    "# search for red errors:\n",
    "print (\"shape: \", data.shape)\n",
    "index = 9\n",
    "sums = 0\n",
    "for row in range(data.shape[0]):\n",
    "    if data[row,index]=='red':\n",
    "        print (data[row,index], \"# errors : \", data[row, 12]) \n",
    "        print(data[row, 12])\n",
    "        sums = sums + int(data[row, 12])\n",
    "        \n",
    "print (sums)"
   ]
  },
  {
   "cell_type": "code",
   "execution_count": 278,
   "metadata": {
    "scrolled": true
   },
   "outputs": [
    {
     "name": "stdout",
     "output_type": "stream",
     "text": [
      "shape:  (40, 22)\n",
      "blue, cyan, red # errors :  198\n",
      "198\n",
      "198\n"
     ]
    }
   ],
   "source": [
    "# search for blue, cyan, red errors:\n",
    "print (\"shape: \", data.shape)\n",
    "index = 9\n",
    "sums = 0\n",
    "for row in range(data.shape[0]):\n",
    "    if data[row,index]=='blue, cyan, red':\n",
    "        print (data[row,index], \"# errors : \", data[row, 12]) \n",
    "        print(data[row, 12])\n",
    "        sums = sums + int(data[row, 12])\n",
    "        \n",
    "print(sums)"
   ]
  },
  {
   "cell_type": "code",
   "execution_count": 280,
   "metadata": {},
   "outputs": [
    {
     "name": "stdout",
     "output_type": "stream",
     "text": [
      "shape:  (40, 22)\n",
      "blue, red # errors :  12\n",
      "12\n",
      "12\n"
     ]
    }
   ],
   "source": [
    "# search for blue, red errors:\n",
    "print (\"shape: \", data.shape)\n",
    "index = 9\n",
    "sums = 0\n",
    "for row in range(data.shape[0]):\n",
    "    if data[row,index]=='blue, red':\n",
    "        print (data[row,index], \"# errors : \", data[row, 12]) \n",
    "        print(data[row, 12])\n",
    "        sums = sums + int(data[row, 12])\n",
    "        \n",
    "print (sums)"
   ]
  },
  {
   "cell_type": "code",
   "execution_count": 281,
   "metadata": {},
   "outputs": [
    {
     "name": "stdout",
     "output_type": "stream",
     "text": [
      "shape:  (40, 22)\n",
      "blue, cyan # errors :  68\n",
      "68\n",
      "68\n"
     ]
    }
   ],
   "source": [
    "# search for blue, cyan errors:\n",
    "print (\"shape: \", data.shape)\n",
    "index = 9\n",
    "sums = 0\n",
    "for row in range(data.shape[0]):\n",
    "    if data[row,index]=='blue, cyan':\n",
    "        print (data[row,index], \"# errors : \", data[row, 12]) \n",
    "        print(data[row, 12])\n",
    "        sums = sums + int(data[row, 12])\n",
    "        \n",
    "print (sums)"
   ]
  },
  {
   "cell_type": "code",
   "execution_count": 282,
   "metadata": {},
   "outputs": [
    {
     "name": "stdout",
     "output_type": "stream",
     "text": [
      "all column:  ['0' '0' '0' 'Pup2\\n(shaved)\\nError type' 'red' 'green' 'green' 'green'\n",
      " 'green' 'green' 'green' 'red' 'red' 'green' 'blue' 'green' 'green'\n",
      " 'green' 'blue' 'blue' 'green' 'red' 'green' 'blue' 'red' 'green' 'green'\n",
      " 'green' 'red' 'green' 'green, red' 'green' 'green' 'green, red' 'green'\n",
      " 'green' 'green, red' 'green' 'blue, green' 'green']\n",
      "\n",
      "fourth element:  0\n"
     ]
    }
   ],
   "source": [
    "# 14th column: shaved pup error type\n",
    "index = 13\n",
    "\n",
    "print (\"all column: \", data[:, index])\n",
    "print ('')\n",
    "\n",
    "index = 13\n",
    "row = 0\n",
    "\n",
    "print (\"fourth element: \", data[:, index][0])"
   ]
  },
  {
   "cell_type": "code",
   "execution_count": 283,
   "metadata": {},
   "outputs": [
    {
     "name": "stdout",
     "output_type": "stream",
     "text": [
      "all errors:  ['0' '0' '0' 'TOTAL' '916' '164' '211' '714' '186' '19' '80' '65' '12'\n",
      " '21' '21' '7' '91' '162' '72' '554' '56' '86' '47' '141' '34' '67' '285'\n",
      " '31' '144' '301' '431' '508' '279' '511' '96' '493' '132' '370' '161'\n",
      " '152']\n",
      "# errors fourth row:  0\n"
     ]
    }
   ],
   "source": [
    "# how many errors for fourth cell\n",
    "index = 16\n",
    "print (\"all errors: \", data[:,16])\n",
    "\n",
    "\n",
    "index = 16\n",
    "print (\"# errors fourth row: \", data[:,16][row])"
   ]
  },
  {
   "cell_type": "code",
   "execution_count": 284,
   "metadata": {},
   "outputs": [
    {
     "name": "stdout",
     "output_type": "stream",
     "text": [
      "shape:  (40, 22)\n",
      "red # errors :  916\n",
      "red # errors :  65\n",
      "red # errors :  12\n",
      "red # errors :  86\n",
      "red # errors :  34\n",
      "red # errors :  144\n",
      "1257\n"
     ]
    }
   ],
   "source": [
    "# search for red errors:\n",
    "print (\"shape: \", data.shape)\n",
    "index = 13\n",
    "sums = 0\n",
    "for row in range(data.shape[0]):\n",
    "    if data[row,index]=='red':\n",
    "        print (data[row,index], \"# errors : \", data[row, 16]) \n",
    "        sums = sums + int(data[row, 16])\n",
    "        \n",
    "print (sums)"
   ]
  },
  {
   "cell_type": "code",
   "execution_count": 285,
   "metadata": {},
   "outputs": [
    {
     "name": "stdout",
     "output_type": "stream",
     "text": [
      "shape:  (40, 22)\n",
      "green # errors :  164\n",
      "green # errors :  211\n",
      "green # errors :  714\n",
      "green # errors :  186\n",
      "green # errors :  19\n",
      "green # errors :  80\n",
      "green # errors :  21\n",
      "green # errors :  7\n",
      "green # errors :  91\n",
      "green # errors :  162\n",
      "green # errors :  56\n",
      "green # errors :  47\n",
      "green # errors :  67\n",
      "green # errors :  285\n",
      "green # errors :  31\n",
      "green # errors :  301\n",
      "green # errors :  508\n",
      "green # errors :  279\n",
      "green # errors :  96\n",
      "green # errors :  493\n",
      "green # errors :  370\n",
      "green # errors :  152\n",
      "4340\n"
     ]
    }
   ],
   "source": [
    "# search for green errors:\n",
    "print (\"shape: \", data.shape)\n",
    "index = 13\n",
    "sums = 0\n",
    "for row in range(data.shape[0]):\n",
    "    if data[row,index]=='green':\n",
    "        print (data[row,index], \"# errors : \", data[row, 16]) \n",
    "        sums = sums + int(data[row, 16])\n",
    "        \n",
    "print (sums)"
   ]
  },
  {
   "cell_type": "code",
   "execution_count": 286,
   "metadata": {},
   "outputs": [
    {
     "name": "stdout",
     "output_type": "stream",
     "text": [
      "shape:  (40, 22)\n",
      "blue # errors :  21\n",
      "blue # errors :  72\n",
      "blue # errors :  554\n",
      "blue # errors :  141\n",
      "788\n"
     ]
    }
   ],
   "source": [
    "# search for blue errors:\n",
    "print (\"shape: \", data.shape)\n",
    "index = 13\n",
    "sums = 0\n",
    "for row in range(data.shape[0]):\n",
    "    if data[row,index]=='blue':\n",
    "        print (data[row,index], \"# errors : \", data[row, 16]) \n",
    "        sums = sums + int(data[row, 16])\n",
    "        \n",
    "print (sums)"
   ]
  },
  {
   "cell_type": "code",
   "execution_count": 287,
   "metadata": {},
   "outputs": [
    {
     "name": "stdout",
     "output_type": "stream",
     "text": [
      "shape:  (40, 22)\n",
      "green, red # errors :  431\n",
      "green, red # errors :  511\n",
      "green, red # errors :  132\n",
      "1074\n"
     ]
    }
   ],
   "source": [
    "# search for green, red errors:\n",
    "print (\"shape: \", data.shape)\n",
    "index = 13\n",
    "sums = 0\n",
    "for row in range(data.shape[0]):\n",
    "    if data[row,index]=='green, red':\n",
    "        print (data[row,index], \"# errors : \", data[row, 16]) \n",
    "        sums = sums + int(data[row, 16])\n",
    "        \n",
    "print (sums)"
   ]
  },
  {
   "cell_type": "code",
   "execution_count": 288,
   "metadata": {},
   "outputs": [
    {
     "name": "stdout",
     "output_type": "stream",
     "text": [
      "shape:  (40, 22)\n",
      "blue, green # errors :  161\n",
      "161\n"
     ]
    }
   ],
   "source": [
    "# search for blue, green errors:\n",
    "print (\"shape: \", data.shape)\n",
    "index = 13\n",
    "sums = 0\n",
    "for row in range(data.shape[0]):\n",
    "    if data[row,index]=='blue, green':\n",
    "        print (data[row,index], \"# errors : \", data[row, 16]) \n",
    "        sums = sums + int(data[row, 16])\n",
    "        \n",
    "print (sums)"
   ]
  },
  {
   "cell_type": "code",
   "execution_count": 289,
   "metadata": {},
   "outputs": [
    {
     "name": "stdout",
     "output_type": "stream",
     "text": [
      "all column:  ['0' '0' '0' 'Wooden\\nBlock\\nError type' 'green' 'green' 'green' 'cyan'\n",
      " 'green' 'green' 'green' 'green' 'green' 'green' 'green' 'green' 'cyan'\n",
      " 'cyan' 'cyan' '0' '0' '0' '0' '0' '0' '0' '0' '0' '0' '0' '0' '0' '0' '0'\n",
      " '0' '0' '0' '**blank area in bottom left corner' '0' '0']\n",
      "\n",
      "fifth element:  0\n"
     ]
    }
   ],
   "source": [
    "# 18th column: wooden block error type\n",
    "index = 17\n",
    "\n",
    "print (\"all column: \", data[:, index])\n",
    "print ('')\n",
    "\n",
    "index = 17\n",
    "row = 0\n",
    "\n",
    "print (\"fifth element: \", data[:, index][0])"
   ]
  },
  {
   "cell_type": "code",
   "execution_count": 290,
   "metadata": {},
   "outputs": [
    {
     "name": "stdout",
     "output_type": "stream",
     "text": [
      "all errors:  ['0' '0' '0' 'TOTAL' '16044' '170' '4020' '17' '551' '198' '41' '39' '95'\n",
      " '4796' '4146' '32652' '13' '21' '100' '0' '0' '0' '0' '0' '0' '0' '0' '0'\n",
      " '0' '0' '0' '0' '0' '0' '0' '0' '0' '66057' '0' '0']\n",
      "# errors fifth row:  0\n"
     ]
    }
   ],
   "source": [
    "# how many errors for fifth cell\n",
    "index = 20\n",
    "print (\"all errors: \", data[:,20])\n",
    "\n",
    "\n",
    "index = 20\n",
    "print (\"# errors fifth row: \", data[:,20][row])"
   ]
  },
  {
   "cell_type": "code",
   "execution_count": 291,
   "metadata": {},
   "outputs": [
    {
     "name": "stdout",
     "output_type": "stream",
     "text": [
      "shape:  (40, 22)\n",
      "green # errors :  16044\n",
      "green # errors :  170\n",
      "green # errors :  4020\n",
      "green # errors :  551\n",
      "green # errors :  198\n",
      "green # errors :  41\n",
      "green # errors :  39\n",
      "green # errors :  95\n",
      "green # errors :  4796\n",
      "green # errors :  4146\n",
      "green # errors :  32652\n",
      "62752\n"
     ]
    }
   ],
   "source": [
    "# search for green errors:\n",
    "print (\"shape: \", data.shape)\n",
    "index = 17\n",
    "sums = 0\n",
    "for row in range(data.shape[0]):\n",
    "    if data[row,index]=='green':\n",
    "        print (data[row,index], \"# errors : \", data[row, 20]) \n",
    "        sums = sums + int(data[row, 20])\n",
    "        \n",
    "print (sums)"
   ]
  },
  {
   "cell_type": "code",
   "execution_count": 292,
   "metadata": {},
   "outputs": [
    {
     "name": "stdout",
     "output_type": "stream",
     "text": [
      "shape:  (40, 22)\n",
      "cyan # errors :  17\n",
      "cyan # errors :  13\n",
      "cyan # errors :  21\n",
      "cyan # errors :  100\n",
      "151\n"
     ]
    }
   ],
   "source": [
    "# search for cyan errors:\n",
    "print (\"shape: \", data.shape)\n",
    "index = 17\n",
    "sums = 0\n",
    "for row in range(data.shape[0]):\n",
    "    if data[row,index]=='cyan':\n",
    "        print (data[row,index], \"# errors : \", data[row, 20]) \n",
    "        sums = sums + int(data[row, 20])\n",
    "        \n",
    "print (sums)"
   ]
  },
  {
   "cell_type": "code",
   "execution_count": null,
   "metadata": {},
   "outputs": [],
   "source": [
    "#bar graph\n",
    "\n",
    "objects = ('blue', 'cyan', 'green', 'red', 'blue, green', 'blue, cyan', 'blue, red','cyan, green', 'green, red', 'blue, cyan, red')\n",
    "y_pos = np.arange(len(objects))\n",
    "sums = [10,8,6,4,2,1]\n",
    "\n",
    "plt.bar(y_pos, performance, align='center', alpha=0.5)\n",
    "plt.xticks(y_pos, objects)\n",
    "plt.ylabel('Usage')\n",
    "plt.title('Programming language usage')\n",
    "\n",
    "plt.show()"
   ]
  }
 ],
 "metadata": {
  "kernelspec": {
   "display_name": "Python 3",
   "language": "python",
   "name": "python3"
  },
  "language_info": {
   "codemirror_mode": {
    "name": "ipython",
    "version": 3
   },
   "file_extension": ".py",
   "mimetype": "text/x-python",
   "name": "python",
   "nbconvert_exporter": "python",
   "pygments_lexer": "ipython3",
   "version": "3.7.0"
  }
 },
 "nbformat": 4,
 "nbformat_minor": 4
}
