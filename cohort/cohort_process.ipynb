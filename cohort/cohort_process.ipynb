{
 "cells": [
  {
   "cell_type": "code",
   "execution_count": 25,
   "id": "35748575",
   "metadata": {
    "tags": []
   },
   "outputs": [
    {
     "data": {
      "application/javascript": [
       "IPython.notebook.set_autosave_interval(180000)"
      ]
     },
     "metadata": {},
     "output_type": "display_data"
    },
    {
     "name": "stdout",
     "output_type": "stream",
     "text": [
      "Autosaving every 180 seconds\n",
      "The autoreload extension is already loaded. To reload it, use:\n",
      "  %reload_ext autoreload\n"
     ]
    },
    {
     "data": {
      "text/html": [
       "<style>.container { width:100% !important; }</style>"
      ],
      "text/plain": [
       "<IPython.core.display.HTML object>"
      ]
     },
     "metadata": {},
     "output_type": "display_data"
    }
   ],
   "source": [
    "import matplotlib\n",
    "%matplotlib tk\n",
    "%autosave 180\n",
    "%load_ext autoreload\n",
    "%autoreload 2\n",
    "\n",
    "import nest_asyncio\n",
    "\n",
    "%config Completer.use_jedi = False\n",
    "\n",
    "#\n",
    "import matplotlib.pyplot as plt\n",
    "from IPython.core.display import display, HTML\n",
    "display(HTML(\"<style>.container { width:100% !important; }</style>\"))\n",
    "\n",
    "# \n",
    "import matplotlib.cm as cm\n",
    "import numpy as np\n",
    "import os\n",
    "from tqdm import tqdm\n",
    "\n",
    "#\n",
    "import sys\n",
    "sys.path.append('/home/cat/code/gerbil/')\n",
    "\n",
    "# \n",
    "from utils.track import track\n",
    "from utils.convert import convert\n",
    "from utils.ethogram import ethogram\n",
    "from utils.cohort import cohort\n",
    "from utils.cohort.cohort import CohortProcessor\n",
    "from utils.ethogram import ethogram"
   ]
  },
  {
   "cell_type": "code",
   "execution_count": 30,
   "id": "1cd83edf",
   "metadata": {
    "tags": []
   },
   "outputs": [
    {
     "name": "stdout",
     "output_type": "stream",
     "text": [
      "DF:     Unnamed: 0  Cohort NN Type                                   Filename Dev Day  # of Gerbils Time of Light Switch  Shaved?  Predicted?                                     Slp filename Start time\n",
      "0           0       3     Day  2020_08_23_16_00_38_413695_compressed.mp4     P15             6                  NaN        1           1    2020_08_23_16_00_38_413695_compressed_Day.slp   16:00:38\n",
      "1           1       3     Day  2020_08_23_17_06_55_680620_compressed.mp4     P15             6                  NaN        1           1    2020_08_23_17_06_55_680620_compressed_Day.slp   17:06:55\n",
      "2           2       3     Day  2020_08_23_18_13_11_710750_compressed.mp4     P15             6                  NaN        1           1    2020_08_23_18_13_11_710750_compressed_Day.slp   18:13:11\n",
      "3           3       3    Both  2020_08_23_19_19_27_606024_compressed.mp4     P15             6    47:43, day, night        1           1    2020_08_23_19_19_27_606024_compressed_Day.slp   19:19:27\n",
      "4           4       3    Both  2020_08_23_19_19_27_606024_compressed.mp4     P15             6    47:43, day, night        1           1  2020_08_23_19_19_27_606024_compressed_Night.slp   19:19:27\n",
      "Loading only recordings with 6 animals...\n",
      " ... total # :  352  /  352\n"
     ]
    }
   ],
   "source": [
    "######################################################\n",
    "############# LOAD ANIMAL DATABASE ###################\n",
    "######################################################\n",
    "fname_spreadsheet = '/mnt/b3a68699-495d-4ebb-9ab1-ac74f11c68c5/gerbil/cohort3/database.xlsx'\n",
    "# fname_spreadsheet = '/media/cat/4TBSSD/dan/cohort2/P21_P28/database.xlsx'\n",
    "\n",
    "#\n",
    "cohort = CohortProcessor(fname_spreadsheet)\n",
    "#cohort.fname_spreadsheet = '/mnt/b3a68699-495d-4ebb-9ab1-ac74f11c68c5/gerbil/cohort2/database.xlsx'\n",
    "cohort.load_database()\n",
    "\n",
    "#\n",
    "cohort.ethogram = ethogram"
   ]
  },
  {
   "cell_type": "code",
   "execution_count": 31,
   "id": "7ee0b3b1",
   "metadata": {
    "tags": []
   },
   "outputs": [
    {
     "name": "stdout",
     "output_type": "stream",
     "text": [
      "Found # of Day/night slp files:  300\n"
     ]
    },
    {
     "name": "stderr",
     "output_type": "stream",
     "text": [
      "100%|█████████████████████████████████████████████| 300/300 [00:00<00:00, 46453.69it/s]"
     ]
    },
    {
     "name": "stdout",
     "output_type": "stream",
     "text": [
      "Found # of both slp files:  104\n"
     ]
    },
    {
     "name": "stderr",
     "output_type": "stream",
     "text": [
      "\n",
      "100%|██████████████████████████████████████████████| 104/104 [00:00<00:00, 4668.87it/s]\n"
     ]
    },
    {
     "name": "stdout",
     "output_type": "stream",
     "text": [
      "Missing:  /mnt/b3a68699-495d-4ebb-9ab1-ac74f11c68c5/gerbil/cohort3/features/2020_08_23_19_19_27_606024_compressed_Day.slp\n",
      "Missing:  /mnt/b3a68699-495d-4ebb-9ab1-ac74f11c68c5/gerbil/cohort3/features/2020_08_23_19_19_27_606024_compressed_Day.slp\n",
      "Missing:  /mnt/b3a68699-495d-4ebb-9ab1-ac74f11c68c5/gerbil/cohort3/features/2020_08_26_08_05_30_493031_compressed_Day.slp\n",
      "Missing:  /mnt/b3a68699-495d-4ebb-9ab1-ac74f11c68c5/gerbil/cohort3/features/2020_08_26_08_05_30_493031_compressed_Day.slp\n",
      "Missing:  /mnt/b3a68699-495d-4ebb-9ab1-ac74f11c68c5/gerbil/cohort3/features/2020_08_27_07_18_45_501143_compressed_Day.slp\n",
      "Missing:  /mnt/b3a68699-495d-4ebb-9ab1-ac74f11c68c5/gerbil/cohort3/features/2020_08_27_07_18_45_501143_compressed_Day.slp\n",
      "Missing:  /mnt/b3a68699-495d-4ebb-9ab1-ac74f11c68c5/gerbil/cohort3/features/2020_08_27_19_55_02_593991_compressed_Day.slp\n",
      "Missing:  /mnt/b3a68699-495d-4ebb-9ab1-ac74f11c68c5/gerbil/cohort3/features/2020_08_27_19_55_02_593991_compressed_Day.slp\n",
      "Missing:  /mnt/b3a68699-495d-4ebb-9ab1-ac74f11c68c5/gerbil/cohort3/features/2020_09_01_19_51_45_102931_compressed_Day.slp\n",
      "Missing:  /mnt/b3a68699-495d-4ebb-9ab1-ac74f11c68c5/gerbil/cohort3/features/2020_09_01_19_51_45_102931_compressed_Day.slp\n",
      "DONE...\n"
     ]
    }
   ],
   "source": [
    "######################################################\n",
    "############# PREPROCESS FEATURE TRACKS ##############\n",
    "######################################################\n",
    "\n",
    "# NOTE The hybrid video processing seems to break when using parallel flag\n",
    "\n",
    "#\n",
    "cohort.n_cores = 30\n",
    "cohort.parallel = True\n",
    "cohort.interpolate_flag = True\n",
    "cohort.exclude_huddles = False   # Don't use this here yet; \n",
    "                                 # NEED TO FIRST FIX THE HUDDLES THEN RUN THIS\n",
    "                                 # See cell 3 below which does this after\n",
    "cohort.fps = 24\n",
    "cohort.preprocess_feature_tracks()\n",
    "\n",
    "#\n",
    "print (\"DONE...\")"
   ]
  },
  {
   "cell_type": "code",
   "execution_count": 32,
   "id": "883c620d",
   "metadata": {
    "tags": []
   },
   "outputs": [
    {
     "name": "stdout",
     "output_type": "stream",
     "text": [
      "# of huddle day/night huddle files found:  296\n"
     ]
    },
    {
     "name": "stderr",
     "output_type": "stream",
     "text": [
      "100%|████████████████████████████████████████████| 296/296 [00:00<00:00, 105490.18it/s]\n"
     ]
    },
    {
     "name": "stdout",
     "output_type": "stream",
     "text": [
      "# of huddle hybrid huddle files found:  104\n"
     ]
    },
    {
     "name": "stderr",
     "output_type": "stream",
     "text": [
      "100%|█████████████████████████████████████████████| 104/104 [00:00<00:00, 75014.21it/s]"
     ]
    },
    {
     "name": "stdout",
     "output_type": "stream",
     "text": [
      "light_switch time:  47:43 68712 ['day', 'night']\n"
     ]
    },
    {
     "name": "stderr",
     "output_type": "stream",
     "text": [
      "\n"
     ]
    },
    {
     "name": "stdout",
     "output_type": "stream",
     "text": [
      "light_switch time:  47:43 68712 ['day', 'night']\n",
      "light_switch time:  38:50 55920 ['night', 'day']\n",
      "light_switch time:  38:50 55920 ['night', 'day']\n",
      "light_switch time:  29:55 43080 ['day', 'night']\n",
      "light_switch time:  29:55 43080 ['day', 'night']\n",
      "light_switch time:  20:33 29592 ['night', 'day']\n",
      "light_switch time:  20:33 29592 ['night', 'day']\n",
      "light_switch time:  11:21 16344 ['day', 'night']\n",
      "light_switch time:  11:21 16344 ['day', 'night']\n",
      "light_switch time:  1:42 2448 ['night', 'day']\n",
      "light_switch time:  1:42 2448 ['night', 'day']\n",
      "light_switch time:  48:27 69768 ['night', 'day']\n",
      "light_switch time:  48:27 69768 ['night', 'day']\n",
      "light_switch time:  12:10 17520 ['day', 'night']\n",
      "light_switch time:  12:10 17520 ['day', 'night']\n",
      "light_switch time:  6:43 9672 ['night', 'day']\n",
      "light_switch time:  6:43 9672 ['night', 'day']\n",
      "light_switch time:  1:22 1968 ['day', 'night']\n",
      "light_switch time:  1:22 1968 ['day', 'night']\n",
      "light_switch time:  59:16 85344 ['day', 'night']\n",
      "light_switch time:  59:16 85344 ['day', 'night']\n",
      "light_switch time:  49:31 71304 ['night', 'day']\n",
      "light_switch time:  49:31 71304 ['night', 'day']\n",
      "light_switch time:  41:53 60312 ['day', 'night']\n",
      "light_switch time:  41:53 60312 ['day', 'night']\n",
      "light_switch time:  34:16 49344 ['night', 'day']\n",
      "light_switch time:  34:16 49344 ['night', 'day']\n",
      "light_switch time:  27:56 40224 ['day', 'night']\n",
      "light_switch time:  27:56 40224 ['day', 'night']\n",
      "light_switch time:  21:23 30792 ['night', 'day']\n",
      "light_switch time:  21:23 30792 ['night', 'day']\n",
      "light_switch time:  15:30 22320 ['day', 'night']\n",
      "light_switch time:  15:30 22320 ['day', 'night']\n",
      "light_switch time:  9:13 13272 ['night', 'day']\n",
      "light_switch time:  9:13 13272 ['night', 'day']\n",
      "light_switch time:  3:25 4920 ['day', 'night']\n",
      "light_switch time:  3:25 4920 ['day', 'night']\n",
      "light_switch time:  52:11 75144 ['night', 'day']\n",
      "light_switch time:  52:11 75144 ['night', 'day']\n",
      "light_switch time:  46:39 67176 ['day', 'night']\n",
      "light_switch time:  46:39 67176 ['day', 'night']\n",
      "light_switch time:  4:49 6936 ['night', 'day']\n",
      "light_switch time:  4:49 6936 ['night', 'day']\n",
      "light_switch time:  35:05 50520 ['day', 'night']\n",
      "light_switch time:  35:05 50520 ['day', 'night']\n",
      "light_switch time:  28:53 41592 ['night', 'day']\n",
      "light_switch time:  28:53 41592 ['night', 'day']\n",
      "light_switch time:  22:15 32040 ['day', 'night']\n",
      "light_switch time:  22:15 32040 ['day', 'night']\n",
      "light_switch time:  15:24 22176 ['night', 'day']\n",
      "light_switch time:  15:24 22176 ['night', 'day']\n",
      "DONE...\n"
     ]
    }
   ],
   "source": [
    "#########################################################\n",
    "############## PREPROCESS HUDDLES #######################\n",
    "#########################################################\n",
    "\n",
    "# NOTE The hybrid video processing seems to break when using parallel flag\n",
    "\n",
    "# \n",
    "cohort.n_cores = 30 \n",
    "cohort.parallel = False \n",
    "cohort.recompute_flag = False \n",
    "\n",
    "# track fix parms\n",
    "cohort.fix_track_flag = True       \n",
    "cohort.max_jump_allowed = 50   # maximum distance that a gerbil/huddle can move in 1 frame\n",
    "cohort.max_dist_to_join = 50   # maximum distnace between 2 chunks that can safely be merged\n",
    "cohort.min_chunk_len = 24      # shortest duration of huddle; everything else gets deleted\n",
    "\n",
    "# interploation params\n",
    "cohort.interpolate_flag = True \n",
    "cohort.max_distance_huddle = 50           # how far away we can merge huddles together (pixels)\n",
    "cohort.max_time_to_join_huddle = 5*24    # how far in time can we merge huddle chunks (seconds x frames)\n",
    "cohort.min_huddle_time = 24            # minimum huddle duration in frames\n",
    "              \n",
    "#\n",
    "cohort.fps = 24\n",
    "cohort.preprocess_huddle_tracks()\n",
    "\n",
    "# \n",
    "print (\"DONE...\")\n",
    "\n"
   ]
  },
  {
   "cell_type": "code",
   "execution_count": 34,
   "id": "b91ebfaf-55fd-4dc6-bb5e-8d75ce7caf08",
   "metadata": {
    "tags": []
   },
   "outputs": [
    {
     "name": "stdout",
     "output_type": "stream",
     "text": [
      "# file pairs found:  342  (if less  than above, please check missing)\n"
     ]
    },
    {
     "name": "stderr",
     "output_type": "stream",
     "text": [
      " 12%|██████                                           | 42/342 [02:48<17:15,  3.45s/it]"
     ]
    },
    {
     "name": "stdout",
     "output_type": "stream",
     "text": [
      "missing: /mnt/b3a68699-495d-4ebb-9ab1-ac74f11c68c5/gerbil/cohort3/huddles/2020_08_26_13_37_04_739828_compressed_Day_huddle_spine_fixed_interpolated.npy /mnt/b3a68699-495d-4ebb-9ab1-ac74f11c68c5/gerbil/cohort3/features/2020_08_26_13_37_04_739828_compressed_Day_spine.npy\n"
     ]
    },
    {
     "name": "stderr",
     "output_type": "stream",
     "text": [
      " 39%|██████████████████▉                             | 135/342 [06:08<12:14,  3.55s/it]"
     ]
    },
    {
     "name": "stdout",
     "output_type": "stream",
     "text": [
      "missing: /mnt/b3a68699-495d-4ebb-9ab1-ac74f11c68c5/gerbil/cohort3/huddles/2020_08_27_17_43_13_620087_compressed_Day_huddle_spine_fixed_interpolated.npy /mnt/b3a68699-495d-4ebb-9ab1-ac74f11c68c5/gerbil/cohort3/features/2020_08_27_17_43_13_620087_compressed_Day_spine.npy\n"
     ]
    },
    {
     "name": "stderr",
     "output_type": "stream",
     "text": [
      " 64%|██████████████████████████████▋                 | 219/342 [09:40<04:01,  1.96s/it]"
     ]
    },
    {
     "name": "stdout",
     "output_type": "stream",
     "text": [
      "missing: /mnt/b3a68699-495d-4ebb-9ab1-ac74f11c68c5/gerbil/cohort3/huddles/2020_09_05_04_08_31_474256_compressed_Night_huddle_spine_fixed_interpolated.npy /mnt/b3a68699-495d-4ebb-9ab1-ac74f11c68c5/gerbil/cohort3/features/2020_09_05_04_08_31_474256_compressed_Night_spine.npy\n"
     ]
    },
    {
     "name": "stderr",
     "output_type": "stream",
     "text": [
      "100%|████████████████████████████████████████████████| 342/342 [15:01<00:00,  2.64s/it]\n"
     ]
    },
    {
     "ename": "UnboundLocalError",
     "evalue": "local variable 'huddles' referenced before assignment",
     "output_type": "error",
     "traceback": [
      "\u001b[0;31m---------------------------------------------------------------------------\u001b[0m",
      "\u001b[0;31mRemoteTraceback\u001b[0m                           Traceback (most recent call last)",
      "\u001b[0;31mRemoteTraceback\u001b[0m: \n\"\"\"\nTraceback (most recent call last):\n  File \"/home/cat/miniconda3/envs/sleap_new/lib/python3.7/multiprocessing/pool.py\", line 121, in worker\n    result = (True, func(*args, **kwds))\n  File \"/home/cat/miniconda3/envs/sleap_new/lib/python3.7/multiprocessing/pool.py\", line 44, in mapstar\n    return list(map(*args))\n  File \"/home/cat/miniconda3/envs/sleap_new/lib/python3.7/site-packages/parmap/parmap.py\", line 94, in _func_star_single\n    **func_item_args[3])\n  File \"/home/cat/code/gerbil/utils/cohort/cohort.py\", line 1874, in remove_huddles\n    for k in range(huddles.shape[0]):\nUnboundLocalError: local variable 'huddles' referenced before assignment\n\"\"\"",
      "\nThe above exception was the direct cause of the following exception:\n",
      "\u001b[0;31mUnboundLocalError\u001b[0m                         Traceback (most recent call last)",
      "\u001b[0;32m/tmp/ipykernel_14066/66645746.py\u001b[0m in \u001b[0;36m<module>\u001b[0;34m\u001b[0m\n\u001b[1;32m     10\u001b[0m \u001b[0mcohort\u001b[0m\u001b[0;34m.\u001b[0m\u001b[0mparallel\u001b[0m \u001b[0;34m=\u001b[0m \u001b[0;32mTrue\u001b[0m\u001b[0;34m\u001b[0m\u001b[0;34m\u001b[0m\u001b[0m\n\u001b[1;32m     11\u001b[0m \u001b[0mcohort\u001b[0m\u001b[0;34m.\u001b[0m\u001b[0mn_cores\u001b[0m \u001b[0;34m=\u001b[0m \u001b[0;36m30\u001b[0m\u001b[0;34m\u001b[0m\u001b[0;34m\u001b[0m\u001b[0m\n\u001b[0;32m---> 12\u001b[0;31m \u001b[0mcohort\u001b[0m\u001b[0;34m.\u001b[0m\u001b[0mremove_huddles_from_feature_tracks\u001b[0m\u001b[0;34m(\u001b[0m\u001b[0;34m)\u001b[0m\u001b[0;34m\u001b[0m\u001b[0;34m\u001b[0m\u001b[0m\n\u001b[0m\u001b[1;32m     13\u001b[0m \u001b[0;34m\u001b[0m\u001b[0m\n\u001b[1;32m     14\u001b[0m \u001b[0;31m#\u001b[0m\u001b[0;34m\u001b[0m\u001b[0;34m\u001b[0m\u001b[0;34m\u001b[0m\u001b[0m\n",
      "\u001b[0;32m~/code/gerbil/utils/cohort/cohort.py\u001b[0m in \u001b[0;36mremove_huddles_from_feature_tracks\u001b[0;34m(self)\u001b[0m\n\u001b[1;32m     81\u001b[0m                        \u001b[0mself\u001b[0m\u001b[0;34m.\u001b[0m\u001b[0mhuddle_min_distance\u001b[0m\u001b[0;34m,\u001b[0m\u001b[0;34m\u001b[0m\u001b[0;34m\u001b[0m\u001b[0m\n\u001b[1;32m     82\u001b[0m                        \u001b[0mpm_processes\u001b[0m\u001b[0;34m=\u001b[0m\u001b[0mself\u001b[0m\u001b[0;34m.\u001b[0m\u001b[0mn_cores\u001b[0m\u001b[0;34m,\u001b[0m\u001b[0;34m\u001b[0m\u001b[0;34m\u001b[0m\u001b[0m\n\u001b[0;32m---> 83\u001b[0;31m                        pm_pbar = True)\n\u001b[0m\u001b[1;32m     84\u001b[0m         \u001b[0;32melse\u001b[0m\u001b[0;34m:\u001b[0m\u001b[0;34m\u001b[0m\u001b[0;34m\u001b[0m\u001b[0m\n\u001b[1;32m     85\u001b[0m             \u001b[0;32mfor\u001b[0m \u001b[0mfnames\u001b[0m \u001b[0;32min\u001b[0m \u001b[0mtqdm\u001b[0m\u001b[0;34m(\u001b[0m\u001b[0mfnames_all\u001b[0m\u001b[0;34m)\u001b[0m\u001b[0;34m:\u001b[0m\u001b[0;34m\u001b[0m\u001b[0;34m\u001b[0m\u001b[0m\n",
      "\u001b[0;32m~/miniconda3/envs/sleap_new/lib/python3.7/site-packages/parmap/parmap.py\u001b[0m in \u001b[0;36mmap\u001b[0;34m(function, iterable, *args, **kwargs)\u001b[0m\n\u001b[1;32m    294\u001b[0m        \u001b[0;34m:\u001b[0m\u001b[0mtype\u001b[0m \u001b[0mpm_pbar\u001b[0m\u001b[0;34m:\u001b[0m \u001b[0mbool\u001b[0m \u001b[0;32mor\u001b[0m \u001b[0mdict\u001b[0m\u001b[0;34m\u001b[0m\u001b[0;34m\u001b[0m\u001b[0m\n\u001b[1;32m    295\u001b[0m     \"\"\"\n\u001b[0;32m--> 296\u001b[0;31m     \u001b[0;32mreturn\u001b[0m \u001b[0m_map_or_starmap\u001b[0m\u001b[0;34m(\u001b[0m\u001b[0mfunction\u001b[0m\u001b[0;34m,\u001b[0m \u001b[0miterable\u001b[0m\u001b[0;34m,\u001b[0m \u001b[0margs\u001b[0m\u001b[0;34m,\u001b[0m \u001b[0mkwargs\u001b[0m\u001b[0;34m,\u001b[0m \u001b[0;34m\"map\"\u001b[0m\u001b[0;34m)\u001b[0m\u001b[0;34m\u001b[0m\u001b[0;34m\u001b[0m\u001b[0m\n\u001b[0m\u001b[1;32m    297\u001b[0m \u001b[0;34m\u001b[0m\u001b[0m\n\u001b[1;32m    298\u001b[0m \u001b[0;34m\u001b[0m\u001b[0m\n",
      "\u001b[0;32m~/miniconda3/envs/sleap_new/lib/python3.7/site-packages/parmap/parmap.py\u001b[0m in \u001b[0;36m_map_or_starmap\u001b[0;34m(function, iterable, args, kwargs, map_or_starmap)\u001b[0m\n\u001b[1;32m    271\u001b[0m         \u001b[0m_do_pbar\u001b[0m\u001b[0;34m(\u001b[0m\u001b[0mresult\u001b[0m\u001b[0;34m,\u001b[0m \u001b[0mnum_tasks\u001b[0m\u001b[0;34m,\u001b[0m \u001b[0mchunksize\u001b[0m\u001b[0;34m,\u001b[0m \u001b[0mtqdm_options\u001b[0m\u001b[0;34m=\u001b[0m\u001b[0mtqdm_options\u001b[0m\u001b[0;34m)\u001b[0m\u001b[0;34m\u001b[0m\u001b[0;34m\u001b[0m\u001b[0m\n\u001b[1;32m    272\u001b[0m     \u001b[0;32mfinally\u001b[0m\u001b[0;34m:\u001b[0m\u001b[0;34m\u001b[0m\u001b[0;34m\u001b[0m\u001b[0m\n\u001b[0;32m--> 273\u001b[0;31m         \u001b[0moutput\u001b[0m \u001b[0;34m=\u001b[0m \u001b[0mresult\u001b[0m\u001b[0;34m.\u001b[0m\u001b[0mget\u001b[0m\u001b[0;34m(\u001b[0m\u001b[0;34m)\u001b[0m\u001b[0;34m\u001b[0m\u001b[0;34m\u001b[0m\u001b[0m\n\u001b[0m\u001b[1;32m    274\u001b[0m         \u001b[0;32mif\u001b[0m \u001b[0mclose_pool\u001b[0m\u001b[0;34m:\u001b[0m\u001b[0;34m\u001b[0m\u001b[0;34m\u001b[0m\u001b[0m\n\u001b[1;32m    275\u001b[0m             \u001b[0mpool\u001b[0m\u001b[0;34m.\u001b[0m\u001b[0mjoin\u001b[0m\u001b[0;34m(\u001b[0m\u001b[0;34m)\u001b[0m\u001b[0;34m\u001b[0m\u001b[0;34m\u001b[0m\u001b[0m\n",
      "\u001b[0;32m~/miniconda3/envs/sleap_new/lib/python3.7/multiprocessing/pool.py\u001b[0m in \u001b[0;36mget\u001b[0;34m(self, timeout)\u001b[0m\n\u001b[1;32m    655\u001b[0m             \u001b[0;32mreturn\u001b[0m \u001b[0mself\u001b[0m\u001b[0;34m.\u001b[0m\u001b[0m_value\u001b[0m\u001b[0;34m\u001b[0m\u001b[0;34m\u001b[0m\u001b[0m\n\u001b[1;32m    656\u001b[0m         \u001b[0;32melse\u001b[0m\u001b[0;34m:\u001b[0m\u001b[0;34m\u001b[0m\u001b[0;34m\u001b[0m\u001b[0m\n\u001b[0;32m--> 657\u001b[0;31m             \u001b[0;32mraise\u001b[0m \u001b[0mself\u001b[0m\u001b[0;34m.\u001b[0m\u001b[0m_value\u001b[0m\u001b[0;34m\u001b[0m\u001b[0;34m\u001b[0m\u001b[0m\n\u001b[0m\u001b[1;32m    658\u001b[0m \u001b[0;34m\u001b[0m\u001b[0m\n\u001b[1;32m    659\u001b[0m     \u001b[0;32mdef\u001b[0m \u001b[0m_set\u001b[0m\u001b[0;34m(\u001b[0m\u001b[0mself\u001b[0m\u001b[0;34m,\u001b[0m \u001b[0mi\u001b[0m\u001b[0;34m,\u001b[0m \u001b[0mobj\u001b[0m\u001b[0;34m)\u001b[0m\u001b[0;34m:\u001b[0m\u001b[0;34m\u001b[0m\u001b[0;34m\u001b[0m\u001b[0m\n",
      "\u001b[0;31mUnboundLocalError\u001b[0m: local variable 'huddles' referenced before assignment"
     ]
    }
   ],
   "source": [
    "#######################################################\n",
    "########### REMOVE HUDDLES FROM FEATURE TRACKS ########\n",
    "#######################################################\n",
    "\n",
    "#\n",
    "cohort.huddle_min_distance = 200    # min distance from huddle in pixels for feature to be kept\n",
    "\n",
    "# this uses the _spine.npy data for tracks; and _huddle_spine_fixed_interpolated.npy for huddles\n",
    "# if we want to use something else, we can also code it\n",
    "cohort.parallel = True\n",
    "cohort.n_cores = 30\n",
    "cohort.remove_huddles_from_feature_tracks()\n",
    "\n",
    "#\n"
   ]
  },
  {
   "cell_type": "code",
   "execution_count": null,
   "id": "26f0dd22-6963-442d-8a1d-0b7cd350dd7e",
   "metadata": {},
   "outputs": [],
   "source": []
  },
  {
   "cell_type": "code",
   "execution_count": null,
   "id": "8b52b8b1-1d9a-44f2-9e0b-3ec83a5ecdf4",
   "metadata": {},
   "outputs": [],
   "source": []
  },
  {
   "cell_type": "code",
   "execution_count": null,
   "id": "172cb45b-afee-4946-b7a0-041ddd7edcaf",
   "metadata": {},
   "outputs": [],
   "source": []
  },
  {
   "cell_type": "code",
   "execution_count": null,
   "id": "add804cc-9c3a-49fb-9b76-5b52e82f4c66",
   "metadata": {},
   "outputs": [],
   "source": []
  },
  {
   "cell_type": "code",
   "execution_count": null,
   "id": "65bb3243-beeb-400d-b165-4a3d93b71195",
   "metadata": {},
   "outputs": [],
   "source": []
  },
  {
   "cell_type": "code",
   "execution_count": null,
   "id": "ef175a13-b3b1-4575-af98-fb54e57b0e58",
   "metadata": {},
   "outputs": [],
   "source": []
  },
  {
   "cell_type": "code",
   "execution_count": null,
   "id": "2204bd79-70b1-41a8-ada5-0cc951c68e3d",
   "metadata": {},
   "outputs": [],
   "source": []
  },
  {
   "cell_type": "code",
   "execution_count": null,
   "id": "12dce189-65d1-447d-a6cd-d8d9b9c3f905",
   "metadata": {},
   "outputs": [],
   "source": []
  },
  {
   "cell_type": "code",
   "execution_count": null,
   "id": "2fbf457c-e84f-4108-a991-6d37fb1b0f6c",
   "metadata": {},
   "outputs": [],
   "source": []
  },
  {
   "cell_type": "code",
   "execution_count": null,
   "id": "51d3ce12-fd48-474c-addd-d01e23d45c06",
   "metadata": {},
   "outputs": [],
   "source": []
  },
  {
   "cell_type": "code",
   "execution_count": null,
   "id": "609cc33f-a807-40c9-8b5b-e45f4c32b40d",
   "metadata": {},
   "outputs": [],
   "source": []
  },
  {
   "cell_type": "code",
   "execution_count": null,
   "id": "94000d6a-9db8-4ea6-9a8e-0cbf424f5710",
   "metadata": {},
   "outputs": [],
   "source": []
  },
  {
   "cell_type": "code",
   "execution_count": null,
   "id": "a719e593-ef45-4dba-9ab5-f5aa5be8c448",
   "metadata": {},
   "outputs": [],
   "source": []
  },
  {
   "cell_type": "code",
   "execution_count": null,
   "id": "2a4eff95-0768-41a5-9a7d-098936e9298e",
   "metadata": {},
   "outputs": [],
   "source": []
  },
  {
   "cell_type": "code",
   "execution_count": null,
   "id": "fb88202f-fdcd-4fac-890f-421eda3bb6d0",
   "metadata": {},
   "outputs": [],
   "source": []
  },
  {
   "cell_type": "code",
   "execution_count": null,
   "id": "45f4f1c3-0f5f-4a67-827a-5ba613bc3292",
   "metadata": {},
   "outputs": [],
   "source": []
  },
  {
   "cell_type": "code",
   "execution_count": null,
   "id": "9d5e0288-5ece-4f2a-ba0e-2e5626d68ae5",
   "metadata": {},
   "outputs": [],
   "source": []
  },
  {
   "cell_type": "code",
   "execution_count": null,
   "id": "fa30a113-4dc7-431a-bff6-d058f29e3456",
   "metadata": {},
   "outputs": [],
   "source": []
  },
  {
   "cell_type": "code",
   "execution_count": null,
   "id": "49de6031-44cf-4e5c-a07f-1f0c0293bfd2",
   "metadata": {},
   "outputs": [],
   "source": []
  }
 ],
 "metadata": {
  "kernelspec": {
   "display_name": "sleap_new",
   "language": "python",
   "name": "sleap_new"
  },
  "language_info": {
   "codemirror_mode": {
    "name": "ipython",
    "version": 3
   },
   "file_extension": ".py",
   "mimetype": "text/x-python",
   "name": "python",
   "nbconvert_exporter": "python",
   "pygments_lexer": "ipython3",
   "version": "3.7.12"
  }
 },
 "nbformat": 4,
 "nbformat_minor": 5
}
