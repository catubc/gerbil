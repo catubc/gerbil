{
 "cells": [
  {
   "cell_type": "code",
   "execution_count": 9,
   "id": "35748575",
   "metadata": {
    "tags": []
   },
   "outputs": [
    {
     "data": {
      "application/javascript": [
       "IPython.notebook.set_autosave_interval(180000)"
      ]
     },
     "metadata": {},
     "output_type": "display_data"
    },
    {
     "name": "stdout",
     "output_type": "stream",
     "text": [
      "Autosaving every 180 seconds\n",
      "The autoreload extension is already loaded. To reload it, use:\n",
      "  %reload_ext autoreload\n"
     ]
    },
    {
     "data": {
      "text/html": [
       "<style>.container { width:100% !important; }</style>"
      ],
      "text/plain": [
       "<IPython.core.display.HTML object>"
      ]
     },
     "metadata": {},
     "output_type": "display_data"
    }
   ],
   "source": [
    "import matplotlib\n",
    "%matplotlib tk\n",
    "%autosave 180\n",
    "%load_ext autoreload\n",
    "%autoreload 2\n",
    "\n",
    "import nest_asyncio\n",
    "\n",
    "%config Completer.use_jedi = False\n",
    "\n",
    "#\n",
    "import matplotlib.pyplot as plt\n",
    "from IPython.core.display import display, HTML\n",
    "display(HTML(\"<style>.container { width:100% !important; }</style>\"))\n",
    "\n",
    "# \n",
    "import matplotlib.cm as cm\n",
    "import numpy as np\n",
    "import os\n",
    "from tqdm import tqdm\n",
    "\n",
    "#\n",
    "import sys\n",
    "sys.path.append('/home/cat/code/gerbil/')\n",
    "\n",
    "# \n",
    "from utils.track import track\n",
    "from utils.convert import convert\n",
    "from utils.ethogram import ethogram\n",
    "from utils.cohort import cohort\n",
    "from utils.cohort.cohort import CohortProcessor\n",
    "from utils.ethogram import ethogram"
   ]
  },
  {
   "cell_type": "code",
   "execution_count": 10,
   "id": "1cd83edf",
   "metadata": {
    "tags": []
   },
   "outputs": [
    {
     "name": "stdout",
     "output_type": "stream",
     "text": [
      "DF:     Unnamed: 0  Cohort NN Type                                   Filename Dev Day  # of Gerbils Time of Light Switch  Shaved?  Predicted?                                   Slp filename Start time\n",
      "0           0       4     Day  2020_09_22_14_09_44_904384_compressed.mp4     P15             6                  NaN        1           1  2020_09_22_14_09_44_904384_compressed_Day.slp   14:09:44\n",
      "1           1       4     Day  2020_09_22_15_16_28_547483_compressed.mp4     P15             6                  NaN        1           1  2020_09_22_15_16_28_547483_compressed_Day.slp   15:16:28\n",
      "2           2       4     Day  2020_09_22_16_23_20_653413_compressed.mp4     P15             6                  NaN        1           1  2020_09_22_16_23_20_653413_compressed_Day.slp   16:23:20\n",
      "3           3       4     Day  2020_09_22_17_30_03_197326_compressed.mp4     P15             6                  NaN        1           1  2020_09_22_17_30_03_197326_compressed_Day.slp   17:30:03\n",
      "4           4       4     Day  2020_09_22_18_36_53_237550_compressed.mp4     P15             6                  NaN        1           1  2020_09_22_18_36_53_237550_compressed_Day.slp   18:36:53\n",
      "Loading only recordings with 6 animals...\n",
      " ... total # :  334  /  334\n"
     ]
    }
   ],
   "source": [
    "######################################################\n",
    "############# LOAD ANIMAL DATABASE ###################\n",
    "######################################################\n",
    "fname_spreadsheet = '/mnt/b3a68699-495d-4ebb-9ab1-ac74f11c68c5/gerbil/cohort4/database.xlsx'\n",
    "# fname_spreadsheet = '/media/cat/4TBSSD/dan/cohort2/P21_P28/database.xlsx'\n",
    "\n",
    "#\n",
    "cohort = CohortProcessor(fname_spreadsheet)\n",
    "#cohort.fname_spreadsheet = '/mnt/b3a68699-495d-4ebb-9ab1-ac74f11c68c5/gerbil/cohort2/database.xlsx'\n",
    "cohort.load_database()\n",
    "\n",
    "#\n",
    "cohort.ethogram = ethogram"
   ]
  },
  {
   "cell_type": "code",
   "execution_count": 14,
   "id": "7ee0b3b1",
   "metadata": {
    "tags": []
   },
   "outputs": [
    {
     "name": "stdout",
     "output_type": "stream",
     "text": [
      "Found # of Day/night slp files:  282\n"
     ]
    },
    {
     "name": "stderr",
     "output_type": "stream",
     "text": [
      "100%|███████████████████████████████████████| 282/282 [00:00<00:00, 9893.05it/s]"
     ]
    },
    {
     "name": "stdout",
     "output_type": "stream",
     "text": [
      "Found # of both slp files:  104\n"
     ]
    },
    {
     "name": "stderr",
     "output_type": "stream",
     "text": [
      "\n",
      "100%|███████████████████████████████████████| 104/104 [00:00<00:00, 5968.42it/s]\n"
     ]
    },
    {
     "name": "stdout",
     "output_type": "stream",
     "text": [
      "DONE...\n"
     ]
    }
   ],
   "source": [
    "######################################################\n",
    "############# PREPROCESS FEATURE TRACKS ##############\n",
    "######################################################\n",
    "\n",
    "# NOTE The hybrid video processing seems to break when using parallel flag\n",
    "\n",
    "#\n",
    "cohort.n_cores = 30\n",
    "cohort.parallel = True\n",
    "cohort.interpolate_flag = True\n",
    "cohort.exclude_huddles = False   # Don't use this here yet; \n",
    "                                 # NEED TO FIRST FIX THE HUDDLES THEN RUN THIS\n",
    "                                 # See cell 3 below which does this after\n",
    "cohort.fps = 24\n",
    "cohort.preprocess_feature_tracks()\n",
    "\n",
    "#\n",
    "print (\"DONE...\")"
   ]
  },
  {
   "cell_type": "code",
   "execution_count": 15,
   "id": "883c620d",
   "metadata": {
    "tags": []
   },
   "outputs": [
    {
     "name": "stdout",
     "output_type": "stream",
     "text": [
      "# of huddle day/night huddle files found:  282\n"
     ]
    },
    {
     "name": "stderr",
     "output_type": "stream",
     "text": [
      "100%|██████████████████████████████████████| 282/282 [00:00<00:00, 17691.40it/s]\n"
     ]
    },
    {
     "name": "stdout",
     "output_type": "stream",
     "text": [
      "# of huddle hybrid huddle files found:  104\n"
     ]
    },
    {
     "name": "stderr",
     "output_type": "stream",
     "text": [
      "100%|██████████████████████████████████████| 104/104 [00:00<00:00, 49858.00it/s]"
     ]
    },
    {
     "name": "stdout",
     "output_type": "stream",
     "text": [
      "light_switch time:  23:41 34104 ['day', 'night']\n"
     ]
    },
    {
     "name": "stderr",
     "output_type": "stream",
     "text": [
      "\n"
     ]
    },
    {
     "name": "stdout",
     "output_type": "stream",
     "text": [
      "light_switch time:  23:41 34104 ['day', 'night']\n",
      "light_switch time:  7:53 11352 ['night', 'day']\n",
      "light_switch time:  7:53 11352 ['night', 'day']\n",
      "light_switch time:  57:28 82752 ['day', 'night']\n",
      "light_switch time:  57:28 82752 ['day', 'night']\n",
      "light_switch time:  38:03 54792 ['night', 'day']\n",
      "light_switch time:  38:03 54792 ['night', 'day']\n",
      "light_switch time:  40:01 57624 ['day', 'night']\n",
      "light_switch time:  40:01 57624 ['day', 'night']\n",
      "light_switch time:  31:40 45600 ['night', 'day']\n",
      "light_switch time:  31:40 45600 ['night', 'day']\n",
      "light_switch time:  23:28 33792 ['day', 'night']\n",
      "light_switch time:  23:28 33792 ['day', 'night']\n",
      "light_switch time:  14:48 21312 ['night', 'day']\n",
      "light_switch time:  14:48 21312 ['night', 'day']\n",
      "light_switch time:  6:06 8784 ['day', 'night']\n",
      "light_switch time:  6:06 8784 ['day', 'night']\n",
      "light_switch time:  53:52 77568 ['day', 'night']\n",
      "light_switch time:  53:52 77568 ['day', 'night']\n",
      "light_switch time:  44:13 63672 ['night', 'day']\n",
      "light_switch time:  44:13 63672 ['night', 'day']\n",
      "light_switch time:  36:54 53136 ['day', 'night']\n",
      "light_switch time:  36:54 53136 ['day', 'night']\n",
      "light_switch time:  30:31 43944 ['night', 'day']\n",
      "light_switch time:  30:31 43944 ['night', 'day']\n",
      "light_switch time:  24:27 35208 ['day', 'night']\n",
      "light_switch time:  24:27 35208 ['day', 'night']\n",
      "light_switch time:  17:43 25512 ['night', 'day']\n",
      "light_switch time:  17:43 25512 ['night', 'day']\n",
      "light_switch time:  11:05 15960 ['day', 'night']\n",
      "light_switch time:  11:05 15960 ['day', 'night']\n",
      "light_switch time:  4:19 6216 ['night', 'day']\n",
      "light_switch time:  4:19 6216 ['night', 'day']\n",
      "light_switch time:  56:55 81960 ['night', 'day']\n",
      "light_switch time:  56:55 81960 ['night', 'day']\n",
      "light_switch time:  51:12 73728 ['day', 'night']\n",
      "light_switch time:  51:12 73728 ['day', 'night']\n",
      "light_switch time:  44:28 64032 ['night', 'day']\n",
      "light_switch time:  44:28 64032 ['night', 'day']\n",
      "light_switch time:  38:31 55464 ['day', 'night']\n",
      "light_switch time:  38:31 55464 ['day', 'night']\n",
      "light_switch time:  32:03 46152 ['night', 'day']\n",
      "light_switch time:  32:03 46152 ['night', 'day']\n",
      "light_switch time:  26:40 38400 ['day', 'night']\n",
      "light_switch time:  26:40 38400 ['day', 'night']\n",
      "light_switch time:  20:35 29640 ['night', 'day']\n",
      "light_switch time:  20:35 29640 ['night', 'day']\n",
      "light_switch time:  14:30 20880 ['day', 'night']\n",
      "light_switch time:  14:30 20880 ['day', 'night']\n",
      "light_switch time:  7:40 11040 ['night', 'day']\n",
      "light_switch time:  7:40 11040 ['night', 'day']\n",
      "DONE...\n"
     ]
    }
   ],
   "source": [
    "#########################################################\n",
    "############## PREPROCESS HUDDLES #######################\n",
    "#########################################################\n",
    "\n",
    "# NOTE The hybrid video processing seems to break when using parallel flag\n",
    "\n",
    "# \n",
    "cohort.n_cores = 30 \n",
    "cohort.parallel = False \n",
    "cohort.recompute_flag = False \n",
    "\n",
    "# track fix parms\n",
    "cohort.fix_track_flag = True       \n",
    "cohort.max_jump_allowed = 50   # maximum distance that a gerbil/huddle can move in 1 frame\n",
    "cohort.max_dist_to_join = 50   # maximum distnace between 2 chunks that can safely be merged\n",
    "cohort.min_chunk_len = 24      # shortest duration of huddle; everything else gets deleted\n",
    "\n",
    "# interploation params\n",
    "cohort.interpolate_flag = True \n",
    "cohort.max_distance_huddle = 50           # how far away we can merge huddles together (pixels)\n",
    "cohort.max_time_to_join_huddle = 5*24    # how far in time can we merge huddle chunks (seconds x frames)\n",
    "cohort.min_huddle_time = 24            # minimum huddle duration in frames\n",
    "              \n",
    "#\n",
    "cohort.fps = 24\n",
    "cohort.preprocess_huddle_tracks()\n",
    "\n",
    "# \n",
    "print (\"DONE...\")\n",
    "\n"
   ]
  },
  {
   "cell_type": "code",
   "execution_count": 16,
   "id": "b91ebfaf-55fd-4dc6-bb5e-8d75ce7caf08",
   "metadata": {
    "tags": []
   },
   "outputs": [
    {
     "name": "stdout",
     "output_type": "stream",
     "text": [
      "# file pairs found:  334  (if less  than above, please check missing)\n"
     ]
    },
    {
     "name": "stderr",
     "output_type": "stream",
     "text": [
      "100%|█████████████████████████████████████████| 334/334 [05:05<00:00,  1.09it/s]"
     ]
    },
    {
     "name": "stdout",
     "output_type": "stream",
     "text": [
      "DONE...\n"
     ]
    },
    {
     "name": "stderr",
     "output_type": "stream",
     "text": [
      "\n"
     ]
    }
   ],
   "source": [
    "#######################################################\n",
    "########### REMOVE HUDDLES FROM FEATURE TRACKS ########\n",
    "#######################################################\n",
    "\n",
    "#\n",
    "cohort.huddle_min_distance = 200    # min distance from huddle in pixels for feature to be kept\n",
    "\n",
    "# this uses the _spine.npy data for tracks; and _huddle_spine_fixed_interpolated.npy for huddles\n",
    "# if we want to use something else, we can also code it\n",
    "cohort.parallel = True\n",
    "cohort.n_cores = 30\n",
    "cohort.remove_huddles_from_feature_tracks()\n",
    "\n",
    "#\n",
    "print (\"DONE...\")"
   ]
  },
  {
   "cell_type": "code",
   "execution_count": null,
   "id": "26f0dd22-6963-442d-8a1d-0b7cd350dd7e",
   "metadata": {},
   "outputs": [],
   "source": []
  },
  {
   "cell_type": "code",
   "execution_count": null,
   "id": "8b52b8b1-1d9a-44f2-9e0b-3ec83a5ecdf4",
   "metadata": {},
   "outputs": [],
   "source": []
  },
  {
   "cell_type": "code",
   "execution_count": null,
   "id": "172cb45b-afee-4946-b7a0-041ddd7edcaf",
   "metadata": {},
   "outputs": [],
   "source": []
  },
  {
   "cell_type": "code",
   "execution_count": null,
   "id": "add804cc-9c3a-49fb-9b76-5b52e82f4c66",
   "metadata": {},
   "outputs": [],
   "source": []
  },
  {
   "cell_type": "code",
   "execution_count": null,
   "id": "65bb3243-beeb-400d-b165-4a3d93b71195",
   "metadata": {},
   "outputs": [],
   "source": []
  },
  {
   "cell_type": "code",
   "execution_count": null,
   "id": "ef175a13-b3b1-4575-af98-fb54e57b0e58",
   "metadata": {},
   "outputs": [],
   "source": []
  },
  {
   "cell_type": "code",
   "execution_count": null,
   "id": "2204bd79-70b1-41a8-ada5-0cc951c68e3d",
   "metadata": {},
   "outputs": [],
   "source": []
  },
  {
   "cell_type": "code",
   "execution_count": null,
   "id": "12dce189-65d1-447d-a6cd-d8d9b9c3f905",
   "metadata": {},
   "outputs": [],
   "source": []
  },
  {
   "cell_type": "code",
   "execution_count": null,
   "id": "2fbf457c-e84f-4108-a991-6d37fb1b0f6c",
   "metadata": {},
   "outputs": [],
   "source": []
  },
  {
   "cell_type": "code",
   "execution_count": null,
   "id": "51d3ce12-fd48-474c-addd-d01e23d45c06",
   "metadata": {},
   "outputs": [],
   "source": []
  },
  {
   "cell_type": "code",
   "execution_count": null,
   "id": "609cc33f-a807-40c9-8b5b-e45f4c32b40d",
   "metadata": {},
   "outputs": [],
   "source": []
  },
  {
   "cell_type": "code",
   "execution_count": null,
   "id": "94000d6a-9db8-4ea6-9a8e-0cbf424f5710",
   "metadata": {},
   "outputs": [],
   "source": []
  },
  {
   "cell_type": "code",
   "execution_count": null,
   "id": "a719e593-ef45-4dba-9ab5-f5aa5be8c448",
   "metadata": {},
   "outputs": [],
   "source": []
  },
  {
   "cell_type": "code",
   "execution_count": null,
   "id": "2a4eff95-0768-41a5-9a7d-098936e9298e",
   "metadata": {},
   "outputs": [],
   "source": []
  },
  {
   "cell_type": "code",
   "execution_count": null,
   "id": "fb88202f-fdcd-4fac-890f-421eda3bb6d0",
   "metadata": {},
   "outputs": [],
   "source": []
  },
  {
   "cell_type": "code",
   "execution_count": null,
   "id": "45f4f1c3-0f5f-4a67-827a-5ba613bc3292",
   "metadata": {},
   "outputs": [],
   "source": []
  },
  {
   "cell_type": "code",
   "execution_count": null,
   "id": "9d5e0288-5ece-4f2a-ba0e-2e5626d68ae5",
   "metadata": {},
   "outputs": [],
   "source": []
  },
  {
   "cell_type": "code",
   "execution_count": null,
   "id": "fa30a113-4dc7-431a-bff6-d058f29e3456",
   "metadata": {},
   "outputs": [],
   "source": []
  },
  {
   "cell_type": "code",
   "execution_count": 20,
   "id": "49de6031-44cf-4e5c-a07f-1f0c0293bfd2",
   "metadata": {},
   "outputs": [
    {
     "name": "stdout",
     "output_type": "stream",
     "text": [
      "(27, 4)\n",
      "first swtich frames info:  [13745 13746     2     3]\n",
      "track,:  (86407, 6, 2)\n",
      "[316.18600464 659.28106689]\n",
      "[327.49484253 667.49035645]\n",
      "[327.49484253 667.49035645]\n",
      "[339.19869995 672.85693359]\n",
      "[344.81295776 671.51342773]\n",
      "[340.71337891 664.4163208 ]\n"
     ]
    }
   ],
   "source": [
    "d = np.load('/mnt/b3a68699-495d-4ebb-9ab1-ac74f11c68c5/id_switch/cohort4/input_dir/2020_09_22_17_30_03_197326_compressed_all_frames_with_switches.npy')\n",
    "print (d.shape)\n",
    "\n",
    "print (\"first swtich frames info: \", d[0])\n",
    "\n",
    "track = np.load('/mnt/b3a68699-495d-4ebb-9ab1-ac74f11c68c5/id_switch/cohort4/input_dir/2020_09_22_17_30_03_197326_compressed_Day_spine.npy')\n",
    "\n",
    "print (\"track,: \", track.shape)\n",
    "\n",
    "frame_ids = [0,1,2]\n",
    "for frame_id in frame_ids:\n",
    "    print (track[d[frame_id][0],d[frame_id][2]])\n",
    "    print (track[d[frame_id][1],d[frame_id][3]])"
   ]
  },
  {
   "cell_type": "code",
   "execution_count": null,
   "id": "322f57e9-fe12-4c0c-b95c-8c518eca25af",
   "metadata": {},
   "outputs": [],
   "source": []
  }
 ],
 "metadata": {
  "kernelspec": {
   "display_name": "sleap_new",
   "language": "python",
   "name": "sleap_new"
  },
  "language_info": {
   "codemirror_mode": {
    "name": "ipython",
    "version": 3
   },
   "file_extension": ".py",
   "mimetype": "text/x-python",
   "name": "python",
   "nbconvert_exporter": "python",
   "pygments_lexer": "ipython3",
   "version": "3.7.12"
  }
 },
 "nbformat": 4,
 "nbformat_minor": 5
}
