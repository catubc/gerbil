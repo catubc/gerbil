{
 "cells": [
  {
   "cell_type": "code",
   "execution_count": 2,
   "id": "35748575",
   "metadata": {
    "tags": []
   },
   "outputs": [
    {
     "data": {
      "application/javascript": [
       "IPython.notebook.set_autosave_interval(180000)"
      ]
     },
     "metadata": {},
     "output_type": "display_data"
    },
    {
     "name": "stdout",
     "output_type": "stream",
     "text": [
      "Autosaving every 180 seconds\n"
     ]
    },
    {
     "data": {
      "text/html": [
       "<style>.container { width:100% !important; }</style>"
      ],
      "text/plain": [
       "<IPython.core.display.HTML object>"
      ]
     },
     "metadata": {},
     "output_type": "display_data"
    }
   ],
   "source": [
    "import matplotlib\n",
    "%matplotlib tk\n",
    "%autosave 180\n",
    "%load_ext autoreload\n",
    "%autoreload 2\n",
    "\n",
    "import nest_asyncio\n",
    "\n",
    "%config Completer.use_jedi = False\n",
    "\n",
    "#\n",
    "import matplotlib.pyplot as plt\n",
    "from IPython.core.display import display, HTML\n",
    "display(HTML(\"<style>.container { width:100% !important; }</style>\"))\n",
    "\n",
    "# \n",
    "import matplotlib.cm as cm\n",
    "import numpy as np\n",
    "import os\n",
    "from tqdm import tqdm\n",
    "\n",
    "#\n",
    "import sys\n",
    "sys.path.append('/home/cat/code/gerbil/')\n",
    "\n",
    "# \n",
    "from utils.track import track\n",
    "from utils.convert import convert\n",
    "from utils.ethogram import ethogram\n",
    "from utils.cohort import cohort\n",
    "from utils.ethogram import ethogram"
   ]
  },
  {
   "cell_type": "code",
   "execution_count": 3,
   "id": "1cd83edf",
   "metadata": {
    "tags": []
   },
   "outputs": [
    {
     "name": "stdout",
     "output_type": "stream",
     "text": [
      "DF:     Unnamed: 0  Cohort NN Type                                   Filename Dev Day  # of Gerbils Time of Light Switch  Shaved?  Predicted?                                   Slp filename Start time\n",
      "0           0       2     Day  2020_07_20_09_53_59_813912_compressed.mp4     P15             6                  NaN        1           1  2020_07_20_09_53_59_813912_compressed_Day.slp   09:53:59\n",
      "1           1       2     Day  2020_07_20_10_16_08_629297_compressed.mp4     P15             6                  NaN        1           1  2020_07_20_10_16_08_629297_compressed_Day.slp   10:16:08\n",
      "2           2       2     Day  2020_07_20_10_38_20_043555_compressed.mp4     P15             6                  NaN        1           1  2020_07_20_10_38_20_043555_compressed_Day.slp   10:38:20\n",
      "3           3       2     Day  2020_07_20_11_00_31_566455_compressed.mp4     P15             6                  NaN        1           1  2020_07_20_11_00_31_566455_compressed_Day.slp   11:00:31\n",
      "4           4       2     Day  2020_07_20_11_22_36_823934_compressed.mp4     P15             6                  NaN        1           1  2020_07_20_11_22_36_823934_compressed_Day.slp   11:22:36\n",
      "Loading only recordings with 6 animals...\n",
      " ... total # :  991  /  991\n"
     ]
    }
   ],
   "source": [
    "######################################################\n",
    "############# LOAD ANIMAL DATABASE ###################\n",
    "######################################################\n",
    "fname_spreadsheet = '/mnt/b3a68699-495d-4ebb-9ab1-ac74f11c68c5/gerbil/cohort2/database.xlsx'\n",
    "# fname_spreadsheet = '/media/cat/4TBSSD/dan/cohort2/P21_P28/database.xlsx'\n",
    "\n",
    "#\n",
    "cohort = cohort.CohortProcessor(fname_spreadsheet)\n",
    "#cohort.fname_spreadsheet = '/mnt/b3a68699-495d-4ebb-9ab1-ac74f11c68c5/gerbil/cohort2/database.xlsx'\n",
    "cohort.load_database()\n",
    "\n",
    "#\n",
    "cohort.ethogram = ethogram\n",
    "\n",
    "# print (list(zip(cohort.PDays,cohort.Start_times))[0])\n",
    "# print (list(zip(cohort.PDays,cohort.Start_times))[1])\n",
    "# print (list(zip(cohort.PDays,cohort.Start_times))[100])"
   ]
  },
  {
   "cell_type": "code",
   "execution_count": 29,
   "id": "7ee0b3b1",
   "metadata": {
    "tags": []
   },
   "outputs": [
    {
     "name": "stderr",
     "output_type": "stream",
     "text": [
      "100%|██████████████████████████████████████| 939/939 [00:00<00:00, 91032.99it/s]\n",
      "100%|██████████████████████████████████████| 104/104 [00:00<00:00, 89865.60it/s]\n"
     ]
    },
    {
     "name": "stdout",
     "output_type": "stream",
     "text": [
      "DONE...\n"
     ]
    }
   ],
   "source": [
    "######################################################\n",
    "############# PREPROCESS FEATURE TRACKS ##############\n",
    "######################################################\n",
    "\n",
    "# NOTE The hybrid video processing seems to break when using parallel flag\n",
    "\n",
    "#\n",
    "cohort.n_cores = 30\n",
    "cohort.parallel = False\n",
    "cohort.interpolate_flag = False\n",
    "cohort.exclude_huddles = False   # Don't use this here yet; \n",
    "                                 # NEED TO FIRST FIX THE HUDDLES THEN RUN THIS\n",
    "                                 # See cell 3 below which does this after\n",
    "cohort.fps = 24\n",
    "cohort.preprocess_feature_tracks()\n",
    "\n",
    "#\n",
    "print (\"DONE...\")"
   ]
  },
  {
   "cell_type": "code",
   "execution_count": 17,
   "id": "883c620d",
   "metadata": {
    "tags": []
   },
   "outputs": [
    {
     "name": "stdout",
     "output_type": "stream",
     "text": [
      "# of files:  117\n"
     ]
    },
    {
     "name": "stderr",
     "output_type": "stream",
     "text": [
      "100%|█████████████████████████████████████| 939/939 [00:00<00:00, 106407.25it/s]\n",
      "100%|██████████████████████████████████████| 104/104 [00:00<00:00, 50522.08it/s]"
     ]
    },
    {
     "name": "stdout",
     "output_type": "stream",
     "text": [
      "light_switch time:  9:36 13824 ['day', 'night']\n",
      "light_switch time:  9:36 13824 ['day', 'night']\n",
      "light_switch time:  9:22 13488 ['day', 'night']\n",
      "light_switch time:  9:22 13488 ['day', 'night']\n",
      "light_switch time:  8:26 12144 ['day', 'night']\n",
      "light_switch time:  8:26 12144 ['day', 'night']\n",
      "light_switch time:  18:20 26400 ['night', 'day']\n",
      "light_switch time:  18:20 26400 ['night', 'day']\n",
      "light_switch time:  8:52 12768 ['day', 'night']\n",
      "light_switch time:  8:52 12768 ['day', 'night']\n",
      "light_switch time:  18:55 27240 ['night', 'day']\n",
      "light_switch time:  18:55 27240 ['night', 'day']\n",
      "light_switch time:  7:19 10536 ['day', 'night']\n",
      "light_switch time:  7:19 10536 ['day', 'night']\n",
      "light_switch time:  17:11 24744 ['night', 'day']\n",
      "light_switch time:  17:11 24744 ['night', 'day']\n",
      "light_switch time:  5:08 7392 ['day', 'night']\n",
      "light_switch time:  5:08 7392 ['day', 'night']\n",
      "light_switch time:  15:09 21816 ['night', 'day']\n",
      "light_switch time:  15:09 21816 ['night', 'day']\n",
      "light_switch time:  2:59 4296 ['day', 'night']\n",
      "light_switch time:  2:59 4296 ['day', 'night']\n",
      "light_switch time:  12:55 18600 ['night', 'day']\n",
      "light_switch time:  12:55 18600 ['night', 'day']\n",
      "light_switch time:  0:35 840 ['day', 'night']\n",
      "light_switch time:  0:35 840 ['day', 'night']\n",
      "light_switch time:  10:45 15480 ['night', 'day']\n",
      "light_switch time:  10:45 15480 ['night', 'day']\n",
      "light_switch time:  8:06 11664 ['night', 'day']\n",
      "light_switch time:  8:06 11664 ['night', 'day']\n",
      "light_switch time:  8:38 12432 ['night', 'day']\n",
      "light_switch time:  8:38 12432 ['night', 'day']\n",
      "light_switch time:  19:02 27408 ['day', 'night']\n",
      "light_switch time:  19:02 27408 ['day', 'night']\n",
      "light_switch time:  6:05 8760 ['night', 'day']\n",
      "light_switch time:  6:05 8760 ['night', 'day']\n",
      "light_switch time:  13:54 20016 ['day', 'night']\n",
      "light_switch time:  13:54 20016 ['day', 'night']\n",
      "light_switch time:  1:31 2184 ['night', 'day']\n",
      "light_switch time:  1:31 2184 ['night', 'day']\n",
      "light_switch time:  2:48 4032 ['day', 'night']\n",
      "light_switch time:  2:48 4032 ['day', 'night']\n",
      "light_switch time:  11:44 16896 ['night', 'day']\n",
      "light_switch time:  11:44 16896 ['night', 'day']\n",
      "light_switch time:  12:28 17952 ['day', 'night']\n",
      "light_switch time:  12:28 17952 ['day', 'night']\n",
      "light_switch time:  0:08 192 ['night', 'day']\n",
      "light_switch time:  0:08 192 ['night', 'day']\n",
      "light_switch time:  9:35 13800 ['day', 'night']\n",
      "light_switch time:  9:35 13800 ['day', 'night']\n",
      "light_switch time:  18:49 27096 ['night', 'day']\n",
      "light_switch time:  18:49 27096 ['night', 'day']\n",
      "DONE...\n"
     ]
    },
    {
     "name": "stderr",
     "output_type": "stream",
     "text": [
      "\n"
     ]
    }
   ],
   "source": [
    "#########################################################\n",
    "############## PREPROCESS HUDDLES #######################\n",
    "#########################################################\n",
    "\n",
    "# NOTE The hybrid video processing seems to break when using parallel flag\n",
    "\n",
    "# \n",
    "cohort.n_cores = 30 \n",
    "cohort.parallel = False \n",
    "cohort.fix_track_flag = True \n",
    "cohort.interpolate_flag = True \n",
    "cohort.overwrite_flag = False \n",
    "cohort.no_huddle_features = True    # THIS ISN'T USED HERE!\n",
    "cohort.exclude_huddles = False\n",
    "cohort.fps = 24\n",
    "cohort.preprocess_huddle_tracks()\n",
    "\n",
    "# \n",
    "print (\"DONE...\")\n",
    "\n"
   ]
  },
  {
   "cell_type": "code",
   "execution_count": 21,
   "id": "b91ebfaf-55fd-4dc6-bb5e-8d75ce7caf08",
   "metadata": {},
   "outputs": [
    {
     "name": "stdout",
     "output_type": "stream",
     "text": [
      "# file pairs found:  991  (if less  than above, please check missing)\n"
     ]
    },
    {
     "data": {
      "application/vnd.jupyter.widget-view+json": {
       "model_id": "f63c82f35a614f50b41dc21c176fab18",
       "version_major": 2,
       "version_minor": 0
      },
      "text/plain": [
       "  0%|          | 0/991 [00:00<?, ?it/s]"
      ]
     },
     "metadata": {},
     "output_type": "display_data"
    }
   ],
   "source": [
    "#######################################################\n",
    "########### REMOVE HUDDLES FROM FEATURE TRACKS ########\n",
    "#######################################################\n",
    "\n",
    "#\n",
    "cohort.huddle_min_distance = 200    # min distance from huddle in pixels for feature to be kept\n",
    "\n",
    "# this uses the _spine.npy data for tracks; and _huddle_spine_fixed_interpolated.npy for huddles\n",
    "# if we want to use something else, we can also code it\n",
    "cohort.parallel = True\n",
    "cohort.n_cores = 30\n",
    "cohort.remove_huddles_from_feature_tracks()\n",
    "\n",
    "#\n"
   ]
  },
  {
   "cell_type": "code",
   "execution_count": null,
   "id": "26f0dd22-6963-442d-8a1d-0b7cd350dd7e",
   "metadata": {},
   "outputs": [],
   "source": []
  },
  {
   "cell_type": "code",
   "execution_count": null,
   "id": "8b52b8b1-1d9a-44f2-9e0b-3ec83a5ecdf4",
   "metadata": {},
   "outputs": [],
   "source": []
  },
  {
   "cell_type": "code",
   "execution_count": null,
   "id": "172cb45b-afee-4946-b7a0-041ddd7edcaf",
   "metadata": {},
   "outputs": [],
   "source": []
  },
  {
   "cell_type": "code",
   "execution_count": null,
   "id": "add804cc-9c3a-49fb-9b76-5b52e82f4c66",
   "metadata": {},
   "outputs": [],
   "source": []
  },
  {
   "cell_type": "code",
   "execution_count": null,
   "id": "65bb3243-beeb-400d-b165-4a3d93b71195",
   "metadata": {},
   "outputs": [],
   "source": []
  },
  {
   "cell_type": "code",
   "execution_count": null,
   "id": "ef175a13-b3b1-4575-af98-fb54e57b0e58",
   "metadata": {},
   "outputs": [],
   "source": []
  },
  {
   "cell_type": "code",
   "execution_count": null,
   "id": "2204bd79-70b1-41a8-ada5-0cc951c68e3d",
   "metadata": {},
   "outputs": [],
   "source": []
  },
  {
   "cell_type": "code",
   "execution_count": null,
   "id": "12dce189-65d1-447d-a6cd-d8d9b9c3f905",
   "metadata": {},
   "outputs": [],
   "source": []
  },
  {
   "cell_type": "code",
   "execution_count": null,
   "id": "2fbf457c-e84f-4108-a991-6d37fb1b0f6c",
   "metadata": {},
   "outputs": [],
   "source": []
  },
  {
   "cell_type": "code",
   "execution_count": null,
   "id": "51d3ce12-fd48-474c-addd-d01e23d45c06",
   "metadata": {},
   "outputs": [],
   "source": []
  },
  {
   "cell_type": "code",
   "execution_count": null,
   "id": "609cc33f-a807-40c9-8b5b-e45f4c32b40d",
   "metadata": {},
   "outputs": [],
   "source": []
  },
  {
   "cell_type": "code",
   "execution_count": null,
   "id": "94000d6a-9db8-4ea6-9a8e-0cbf424f5710",
   "metadata": {},
   "outputs": [],
   "source": []
  },
  {
   "cell_type": "code",
   "execution_count": null,
   "id": "a719e593-ef45-4dba-9ab5-f5aa5be8c448",
   "metadata": {},
   "outputs": [],
   "source": []
  },
  {
   "cell_type": "code",
   "execution_count": null,
   "id": "2a4eff95-0768-41a5-9a7d-098936e9298e",
   "metadata": {},
   "outputs": [],
   "source": []
  },
  {
   "cell_type": "code",
   "execution_count": null,
   "id": "fb88202f-fdcd-4fac-890f-421eda3bb6d0",
   "metadata": {},
   "outputs": [],
   "source": []
  },
  {
   "cell_type": "code",
   "execution_count": null,
   "id": "45f4f1c3-0f5f-4a67-827a-5ba613bc3292",
   "metadata": {},
   "outputs": [],
   "source": []
  },
  {
   "cell_type": "code",
   "execution_count": null,
   "id": "9d5e0288-5ece-4f2a-ba0e-2e5626d68ae5",
   "metadata": {},
   "outputs": [],
   "source": []
  },
  {
   "cell_type": "code",
   "execution_count": null,
   "id": "fa30a113-4dc7-431a-bff6-d058f29e3456",
   "metadata": {},
   "outputs": [],
   "source": []
  },
  {
   "cell_type": "code",
   "execution_count": null,
   "id": "49de6031-44cf-4e5c-a07f-1f0c0293bfd2",
   "metadata": {},
   "outputs": [],
   "source": []
  }
 ],
 "metadata": {
  "kernelspec": {
   "display_name": "sleap",
   "language": "python",
   "name": "sleap"
  },
  "language_info": {
   "codemirror_mode": {
    "name": "ipython",
    "version": 3
   },
   "file_extension": ".py",
   "mimetype": "text/x-python",
   "name": "python",
   "nbconvert_exporter": "python",
   "pygments_lexer": "ipython3",
   "version": "3.7.12"
  }
 },
 "nbformat": 4,
 "nbformat_minor": 5
}
