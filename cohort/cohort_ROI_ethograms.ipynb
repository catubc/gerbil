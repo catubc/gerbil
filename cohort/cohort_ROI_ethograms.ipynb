{
 "cells": [
  {
   "cell_type": "code",
   "execution_count": 1,
   "id": "35748575",
   "metadata": {
    "tags": []
   },
   "outputs": [
    {
     "data": {
      "application/javascript": [
       "IPython.notebook.set_autosave_interval(180000)"
      ]
     },
     "metadata": {},
     "output_type": "display_data"
    },
    {
     "name": "stdout",
     "output_type": "stream",
     "text": [
      "Autosaving every 180 seconds\n"
     ]
    },
    {
     "data": {
      "text/html": [
       "<style>.container { width:100% !important; }</style>"
      ],
      "text/plain": [
       "<IPython.core.display.HTML object>"
      ]
     },
     "metadata": {},
     "output_type": "display_data"
    }
   ],
   "source": [
    "import matplotlib\n",
    "%matplotlib tk\n",
    "%autosave 180\n",
    "%load_ext autoreload\n",
    "%autoreload 2\n",
    "\n",
    "import nest_asyncio\n",
    "\n",
    "%config Completer.use_jedi = False\n",
    "\n",
    "#\n",
    "import matplotlib.pyplot as plt\n",
    "from IPython.core.display import display, HTML\n",
    "display(HTML(\"<style>.container { width:100% !important; }</style>\"))\n",
    "\n",
    "# \n",
    "import matplotlib.cm as cm\n",
    "import numpy as np\n",
    "import os\n",
    "from tqdm import tqdm\n",
    "\n",
    "#\n",
    "import sys\n",
    "sys.path.append('/home/cat/code/gerbil/')\n",
    "\n",
    "# \n",
    "from utils.track import track\n",
    "from utils.convert import convert\n",
    "from utils.ethogram import ethogram\n",
    "from utils.database import database\n",
    "from utils.ethogram import ethogram"
   ]
  },
  {
   "cell_type": "code",
   "execution_count": 2,
   "id": "1cd83edf",
   "metadata": {
    "tags": []
   },
   "outputs": [
    {
     "name": "stdout",
     "output_type": "stream",
     "text": [
      "DF:     Unnamed: 0  Cohort NN Type                                   Filename Dev Day  # of Gerbils Time of Light Switch  Shaved?  Predicted?                                   Slp filename Start time\n",
      "0         0.0     2.0     Day  2020_07_20_09_53_59_813912_compressed.mp4     P15           6.0                  NaN      1.0         1.0  2020_07_20_09_53_59_813912_compressed_Day.slp   09:53:59\n",
      "1         1.0     2.0     Day  2020_07_20_10_16_08_629297_compressed.mp4     P15           6.0                  NaN      1.0         1.0  2020_07_20_10_16_08_629297_compressed_Day.slp   10:16:08\n",
      "2         2.0     2.0     Day  2020_07_20_10_38_20_043555_compressed.mp4     P15           6.0                  NaN      1.0         1.0  2020_07_20_10_38_20_043555_compressed_Day.slp   10:38:20\n",
      "3         3.0     2.0     Day  2020_07_20_11_00_31_566455_compressed.mp4     P15           6.0                  NaN      1.0         1.0  2020_07_20_11_00_31_566455_compressed_Day.slp   11:00:31\n",
      "4         4.0     2.0     Day  2020_07_20_11_22_36_823934_compressed.mp4     P15           6.0                  NaN      1.0         1.0  2020_07_20_11_22_36_823934_compressed_Day.slp   11:22:36\n",
      "Loading only recordings with 6 animals...\n",
      " ... total # :  991  /  991\n"
     ]
    }
   ],
   "source": [
    "######################################################\n",
    "############# LOAD ANIMAL DATABASE ###################\n",
    "######################################################\n",
    "fname_spreadsheet = '/mnt/b3a68699-495d-4ebb-9ab1-ac74f11c68c5/gerbil/cohort2/database.xlsx'\n",
    "# fname_spreadsheet = '/media/cat/4TBSSD/dan/cohort2/P21_P28/database.xlsx'\n",
    "\n",
    "#\n",
    "cohort = database.CohortProcessor(fname_spreadsheet)\n",
    "#cohort.fname_spreadsheet = '/mnt/b3a68699-495d-4ebb-9ab1-ac74f11c68c5/gerbil/cohort2/database.xlsx'\n",
    "cohort.load_database()\n",
    "\n",
    "# print (list(zip(cohort.PDays,cohort.Start_times))[0])\n",
    "# print (list(zip(cohort.PDays,cohort.Start_times))[1])\n",
    "# print (list(zip(cohort.PDays,cohort.Start_times))[100])"
   ]
  },
  {
   "cell_type": "code",
   "execution_count": 4,
   "id": "b4018721",
   "metadata": {},
   "outputs": [
    {
     "name": "stdout",
     "output_type": "stream",
     "text": [
      "ASSUMING VIDEO IS 700 x 900... this only works for cohort2...\n",
      "<generator object at 0x7fa3d6850f70>\n",
      "(28802, 6, 2)\n",
      "rectangular coords:  [[330.46774194 556.93430657]\n",
      " [552.89950372 620.44743578]]\n",
      "circular coords:  [[0. 0.]\n",
      " [0. 0.]]\n"
     ]
    }
   ],
   "source": [
    "################################################\n",
    "########### CREATE ROI OF INTEREST #############\n",
    "################################################\n",
    "# need to select 1 video and 1 slp for visualization purposes;\n",
    "# make sure the video is shirnk cropped and matches the traces from the slop also.\n",
    "cohort.fname_video ='/mnt/b3a68699-495d-4ebb-9ab1-ac74f11c68c5/gerbil/cohort2/2020_07_26_00_05_52_835502_compressed_defished_shrink_cropped.mp4'\n",
    "cohort.fname_slp_npy =  '/mnt/b3a68699-495d-4ebb-9ab1-ac74f11c68c5/gerbil/cohort2/features/2020_07_26_00_05_52_835502_compressed_Night_spine.npy'\n",
    "\n",
    "# cat's workstation; comment out\n",
    "# cohort.fname_video ='/media/cat/4TBSSD/dan/cohort2/P21_P28/2020_07_26_00_05_52_835502_compressed_defished_shrink_cropped.mp4'\n",
    "# cohort.fname_slp_npy =  '/media/cat/4TBSSD/dan/cohort2/P21_P28/features/2020_07_26_00_05_52_835502_compressed_Night_spine.npy'\n",
    "\n",
    "\n",
    "#\n",
    "cohort.load_video2()\n",
    "\n",
    "#\n",
    "cohort.set_roi()\n",
    "\n",
    "print (\"rectangular coords: \", cohort.rect_coords)\n",
    "print (\"circular coords: \", cohort.circle_coords)\n"
   ]
  },
  {
   "cell_type": "code",
   "execution_count": 12,
   "id": "3241dbff",
   "metadata": {},
   "outputs": [
    {
     "name": "stderr",
     "output_type": "stream",
     "text": [
      "100%|██████████| 1500/1500 [00:00<00:00, 4168.29it/s]\n",
      "100%|██████████| 1500/1500 [00:00<00:00, 4533.97it/s]\n",
      "100%|██████████| 1500/1500 [00:00<00:00, 4508.70it/s]\n",
      "100%|██████████| 1500/1500 [00:00<00:00, 4534.54it/s]\n",
      "100%|██████████| 1500/1500 [00:00<00:00, 4556.96it/s]\n",
      "100%|██████████| 1500/1500 [00:00<00:00, 4618.68it/s]\n"
     ]
    }
   ],
   "source": [
    "################################################\n",
    "########### COMPUTE CIRCLE OCCUPANCY ###########\n",
    "################################################\n",
    "\n",
    "#\n",
    "behavior_name = 'circular_region'\n",
    "\n",
    "# select animals\n",
    "cohort.exclude_huddles = True\n",
    "\n",
    "# select animals\n",
    "animal_ids = [0,1,2,3,4,5]\n",
    "\n",
    "#\n",
    "for animal_id in animal_ids:\n",
    "\n",
    "    #\n",
    "    #cohort.animals = animal_id\n",
    "    cohort.animal_ids = animal_id\n",
    "\n",
    "    #\n",
    "    cohort.get_circle_occupancy(cohort.animal_ids)\n",
    "\n",
    "    #\n",
    "    cohort.format_behavior()\n",
    "    \n",
    "    #\n",
    "    ethogram.generate_ethogram_hourly( \n",
    "                                      behavior_name,\n",
    "                                      cohort,\n",
    "                                      cohort.exclude_huddles)"
   ]
  },
  {
   "cell_type": "code",
   "execution_count": 15,
   "id": "8e234868-46e2-4ce0-a3da-ecfd1cf7e51a",
   "metadata": {},
   "outputs": [],
   "source": [
    "##########################################\n",
    "########### SHOW CIRCLE ETHOGRAM #########\n",
    "##########################################\n",
    "for animal_id in animal_ids:\n",
    "\n",
    "    cohort.animal_ids = animal_id\n",
    "    \n",
    "    cohort.exclude_huddles = True\n",
    "    ethogram.plot_ethogram_hourly(\n",
    "                                 behavior_name,\n",
    "                                 cohort,\n",
    "                                 cohort.exclude_huddles,\n",
    "                                 vmax=50)"
   ]
  },
  {
   "cell_type": "code",
   "execution_count": 9,
   "id": "067b161b",
   "metadata": {},
   "outputs": [
    {
     "name": "stderr",
     "output_type": "stream",
     "text": [
      "100%|██████████████████████████████████████| 1500/1500 [00:02<00:00, 630.41it/s]\n"
     ]
    },
    {
     "name": "stdout",
     "output_type": "stream",
     "text": [
      "res:  (1500,)\n"
     ]
    },
    {
     "name": "stderr",
     "output_type": "stream",
     "text": [
      "100%|██████████████████████████████████████| 1500/1500 [00:02<00:00, 667.08it/s]\n"
     ]
    },
    {
     "name": "stdout",
     "output_type": "stream",
     "text": [
      "res:  (1500,)\n"
     ]
    },
    {
     "name": "stderr",
     "output_type": "stream",
     "text": [
      "100%|██████████████████████████████████████| 1500/1500 [00:02<00:00, 708.00it/s]\n"
     ]
    },
    {
     "name": "stdout",
     "output_type": "stream",
     "text": [
      "res:  (1500,)\n"
     ]
    },
    {
     "name": "stderr",
     "output_type": "stream",
     "text": [
      "100%|██████████████████████████████████████| 1500/1500 [00:02<00:00, 707.79it/s]\n"
     ]
    },
    {
     "name": "stdout",
     "output_type": "stream",
     "text": [
      "res:  (1500,)\n"
     ]
    },
    {
     "name": "stderr",
     "output_type": "stream",
     "text": [
      "100%|██████████████████████████████████████| 1500/1500 [00:02<00:00, 701.17it/s]\n"
     ]
    },
    {
     "name": "stdout",
     "output_type": "stream",
     "text": [
      "res:  (1500,)\n"
     ]
    },
    {
     "name": "stderr",
     "output_type": "stream",
     "text": [
      "  3%|█▎                                      | 47/1500 [00:00<00:03, 461.69it/s]"
     ]
    },
    {
     "name": "stdout",
     "output_type": "stream",
     "text": [
      "error loading track:  54\n",
      "error loading track:  61\n"
     ]
    },
    {
     "name": "stderr",
     "output_type": "stream",
     "text": [
      "100%|██████████████████████████████████████| 1500/1500 [00:02<00:00, 704.96it/s]\n"
     ]
    },
    {
     "name": "stdout",
     "output_type": "stream",
     "text": [
      "res:  (1500,)\n"
     ]
    }
   ],
   "source": [
    "################################################\n",
    "########### COMPUTE RECTANGLE ETHOGRAMS ########\n",
    "################################################\n",
    "\n",
    "#\n",
    "behavior_name = 'rectangular_region'\n",
    "\n",
    "# select animals\n",
    "cohort.exclude_huddles = True\n",
    "cohort.recompute = True\n",
    "\n",
    "# select animals\n",
    "animal_ids = [0,1,2,3,4,5]\n",
    "\n",
    "#\n",
    "for animal_id in animal_ids:\n",
    "\n",
    "    #\n",
    "    cohort.animal_ids = animal_id\n",
    "\n",
    "    #\n",
    "    cohort.get_rectangle_occupancy(cohort.animal_ids)\n",
    "\n",
    "    #\n",
    "    cohort.format_behavior()\n",
    "    \n",
    "    #\n",
    "    ethogram.generate_ethogram_hourly( \n",
    "                                      behavior_name,\n",
    "                                      cohort,\n",
    "                                      cohort.exclude_huddles)"
   ]
  },
  {
   "cell_type": "code",
   "execution_count": 17,
   "id": "efaba07d-de01-4466-8033-e90fb9a25a78",
   "metadata": {},
   "outputs": [],
   "source": [
    "################################################\n",
    "########### SHOW RECTANGLE ETHOGRAM ############\n",
    "################################################\n",
    "\n",
    "for animal_id in animal_ids:\n",
    "\n",
    "    cohort.animal_ids = animal_id\n",
    "    \n",
    "    cohort.exclude_huddles = True\n",
    "    ethogram.plot_ethogram_hourly(\n",
    "                                 behavior_name,\n",
    "                                 cohort,\n",
    "                                 cohort.exclude_huddles,\n",
    "                                 vmax=50)\n",
    "    "
   ]
  },
  {
   "cell_type": "code",
   "execution_count": 19,
   "id": "b90328d9-ceee-476e-92c6-95dd1b9115bf",
   "metadata": {},
   "outputs": [
    {
     "name": "stdout",
     "output_type": "stream",
     "text": [
      "[0, 1, 2, 3, 4, 5]\n",
      "(96, 24)\n",
      "sums:  1704.5969029928478\n",
      "X_pca:  (96, 3)\n",
      "removing zeros:  (84,)\n"
     ]
    }
   ],
   "source": [
    "######################################\n",
    "########### PCA SCATTER PLOTS ########\n",
    "######################################\n",
    "\n",
    "#\n",
    "cohort.animal_ids  = [0,1,2,3,4,5]\n",
    "\n",
    "# choose one of these behaviors\n",
    "cohort.behavior_name = 'rectangular_region'\n",
    "# cohort.behavior_name = 'circular_region'\n",
    "\n",
    "#\n",
    "cohort.remove_zeros=True\n",
    "cohort.show_developmental_trajectories()\n",
    "\n",
    "#\n"
   ]
  },
  {
   "cell_type": "code",
   "execution_count": null,
   "id": "89761e65-b295-4caf-8c53-4622e40d1a7f",
   "metadata": {},
   "outputs": [],
   "source": []
  },
  {
   "cell_type": "code",
   "execution_count": null,
   "id": "44d66a8a-82e7-429e-97b8-2db93aec1085",
   "metadata": {},
   "outputs": [],
   "source": []
  },
  {
   "cell_type": "code",
   "execution_count": null,
   "id": "206e6f1d",
   "metadata": {},
   "outputs": [],
   "source": []
  },
  {
   "cell_type": "code",
   "execution_count": null,
   "id": "9d5e0288-5ece-4f2a-ba0e-2e5626d68ae5",
   "metadata": {},
   "outputs": [],
   "source": []
  },
  {
   "cell_type": "code",
   "execution_count": null,
   "id": "fa30a113-4dc7-431a-bff6-d058f29e3456",
   "metadata": {},
   "outputs": [],
   "source": []
  },
  {
   "cell_type": "code",
   "execution_count": null,
   "id": "49de6031-44cf-4e5c-a07f-1f0c0293bfd2",
   "metadata": {},
   "outputs": [],
   "source": []
  }
 ],
 "metadata": {
  "kernelspec": {
   "display_name": "Python 3",
   "language": "python",
   "name": "python3"
  },
  "language_info": {
   "codemirror_mode": {
    "name": "ipython",
    "version": 3
   },
   "file_extension": ".py",
   "mimetype": "text/x-python",
   "name": "python",
   "nbconvert_exporter": "python",
   "pygments_lexer": "ipython3",
   "version": "3.7.0"
  }
 },
 "nbformat": 4,
 "nbformat_minor": 5
}
