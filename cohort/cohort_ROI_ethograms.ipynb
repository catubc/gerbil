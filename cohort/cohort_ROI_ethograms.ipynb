{
 "cells": [
  {
   "cell_type": "code",
   "execution_count": 247,
   "id": "35748575",
   "metadata": {
    "tags": []
   },
   "outputs": [
    {
     "data": {
      "application/javascript": [
       "IPython.notebook.set_autosave_interval(180000)"
      ]
     },
     "metadata": {},
     "output_type": "display_data"
    },
    {
     "name": "stdout",
     "output_type": "stream",
     "text": [
      "Autosaving every 180 seconds\n",
      "The autoreload extension is already loaded. To reload it, use:\n",
      "  %reload_ext autoreload\n"
     ]
    },
    {
     "data": {
      "text/html": [
       "<style>.container { width:100% !important; }</style>"
      ],
      "text/plain": [
       "<IPython.core.display.HTML object>"
      ]
     },
     "metadata": {},
     "output_type": "display_data"
    }
   ],
   "source": [
    "import matplotlib\n",
    "%matplotlib tk\n",
    "%autosave 180\n",
    "%load_ext autoreload\n",
    "%autoreload 2\n",
    "\n",
    "import nest_asyncio\n",
    "\n",
    "%config Completer.use_jedi = False\n",
    "\n",
    "#\n",
    "import matplotlib.pyplot as plt\n",
    "from IPython.core.display import display, HTML\n",
    "display(HTML(\"<style>.container { width:100% !important; }</style>\"))\n",
    "\n",
    "# \n",
    "import matplotlib.cm as cm\n",
    "import numpy as np\n",
    "import os\n",
    "from tqdm import tqdm\n",
    "\n",
    "#\n",
    "import sys\n",
    "sys.path.append('/home/cat/code/gerbil/')\n",
    "\n",
    "# \n",
    "from utils.track import track\n",
    "from utils.convert import convert\n",
    "from utils.ethogram import ethogram\n",
    "from utils.cohort import cohort\n",
    "from utils.cohort.cohort import CohortProcessor"
   ]
  },
  {
   "cell_type": "code",
   "execution_count": 248,
   "id": "1cd83edf",
   "metadata": {
    "tags": []
   },
   "outputs": [
    {
     "name": "stdout",
     "output_type": "stream",
     "text": [
      "DF:     Unnamed: 0  Cohort NN Type                                   Filename Dev Day  # of Gerbils Time of Light Switch  Shaved?  Predicted?                                   Slp filename Start time\n",
      "0           0       2     Day  2020_07_20_09_53_59_813912_compressed.mp4     P15             6                  NaN        1           1  2020_07_20_09_53_59_813912_compressed_Day.slp   09:53:59\n",
      "1           1       2     Day  2020_07_20_10_16_08_629297_compressed.mp4     P15             6                  NaN        1           1  2020_07_20_10_16_08_629297_compressed_Day.slp   10:16:08\n",
      "2           2       2     Day  2020_07_20_10_38_20_043555_compressed.mp4     P15             6                  NaN        1           1  2020_07_20_10_38_20_043555_compressed_Day.slp   10:38:20\n",
      "3           3       2     Day  2020_07_20_11_00_31_566455_compressed.mp4     P15             6                  NaN        1           1  2020_07_20_11_00_31_566455_compressed_Day.slp   11:00:31\n",
      "4           4       2     Day  2020_07_20_11_22_36_823934_compressed.mp4     P15             6                  NaN        1           1  2020_07_20_11_22_36_823934_compressed_Day.slp   11:22:36\n",
      "Loading only recordings with 6 animals...\n",
      " ... total # :  991  /  991\n"
     ]
    }
   ],
   "source": [
    "######################################################\n",
    "############# LOAD ANIMAL DATABASE ###################\n",
    "######################################################\n",
    "fname_spreadsheet = '/mnt/b3a68699-495d-4ebb-9ab1-ac74f11c68c5/gerbil/cohort2/database.xlsx'\n",
    "\n",
    "#\n",
    "cohort = CohortProcessor(fname_spreadsheet)\n",
    "cohort.load_database()\n",
    "\n",
    "#\n",
    "cohort.ethogram = ethogram"
   ]
  },
  {
   "cell_type": "code",
   "execution_count": 249,
   "id": "b4018721",
   "metadata": {},
   "outputs": [
    {
     "name": "stdout",
     "output_type": "stream",
     "text": [
      "ASSUMING VIDEO IS 700 x 900... this only works for cohort2...\n",
      "<generator object at 0x7fa49cfab730>\n",
      "(28802, 6, 2)\n",
      "rectangular coords:  [[280.44292804 500.05687743]\n",
      " [576.12531017 636.56270737]]\n",
      "circular coords:  [[576.12531017 636.56270737]\n",
      " [576.12531017 636.56270737]]\n"
     ]
    }
   ],
   "source": [
    "################################################\n",
    "########### CREATE ROI OF INTEREST #############\n",
    "################################################\n",
    "# need to select 1 video and 1 slp for visualization purposes;\n",
    "# make sure the video is shirnk cropped and matches the traces from the slop also.\n",
    "cohort.fname_video ='/mnt/b3a68699-495d-4ebb-9ab1-ac74f11c68c5/gerbil/cohort2/2020_07_26_00_05_52_835502_compressed_defished_shrink_cropped.mp4'\n",
    "cohort.fname_slp_npy =  '/mnt/b3a68699-495d-4ebb-9ab1-ac74f11c68c5/gerbil/cohort2/features/2020_07_26_00_05_52_835502_compressed_Night_spine.npy'\n",
    "\n",
    "# cat's workstation; comment out\n",
    "# cohort.fname_video ='/media/cat/4TBSSD/dan/cohort2/P21_P28/2020_07_26_00_05_52_835502_compressed_defished_shrink_cropped.mp4'\n",
    "# cohort.fname_slp_npy =  '/media/cat/4TBSSD/dan/cohort2/P21_P28/features/2020_07_26_00_05_52_835502_compressed_Night_spine.npy'\n",
    "\n",
    "\n",
    "#\n",
    "cohort.load_video2()\n",
    "\n",
    "#\n",
    "cohort.set_roi()\n",
    "\n",
    "print (\"rectangular coords: \", cohort.rect_coords)\n",
    "print (\"circular coords: \", cohort.circle_coords)\n"
   ]
  },
  {
   "cell_type": "code",
   "execution_count": 30,
   "id": "3241dbff",
   "metadata": {},
   "outputs": [
    {
     "name": "stderr",
     "output_type": "stream",
     "text": [
      "100%|█████████████████████████████████████████████| 1500/1500 [00:02<00:00, 524.88it/s]\n"
     ]
    },
    {
     "name": "stdout",
     "output_type": "stream",
     "text": [
      "DONE\n"
     ]
    }
   ],
   "source": [
    "################################################\n",
    "########### COMPUTE CIRCLE OCCUPANCY ###########\n",
    "################################################\n",
    "\n",
    "#\n",
    "behavior_name = 'circular_region'   # \"circular_region' or 'rectangular_region\"\n",
    "\n",
    "# select animals\n",
    "cohort.exclude_huddles = True\n",
    "\n",
    "# select animals\n",
    "animal_ids = [0,1,2,3,4,5]\n",
    "animal_ids = [0]\n",
    "\n",
    "#\n",
    "for animal_id in animal_ids:\n",
    "\n",
    "    #\n",
    "    #cohort.animals = animal_id\n",
    "    cohort.animal_ids = animal_id\n",
    "\n",
    "    #\n",
    "    cohort.get_circle_occupancy(cohort.animal_ids)\n",
    "\n",
    "    #\n",
    "    cohort.format_behavior()\n",
    "    \n",
    "    #\n",
    "    ethogram.generate_ethogram_hourly( \n",
    "                                      behavior_name,\n",
    "                                      cohort,\n",
    "                                      cohort.exclude_huddles)\n",
    "print (\"DONE\")"
   ]
  },
  {
   "cell_type": "code",
   "execution_count": 31,
   "id": "8e234868-46e2-4ce0-a3da-ecfd1cf7e51a",
   "metadata": {},
   "outputs": [],
   "source": [
    "##########################################\n",
    "########### SHOW CIRCLE ETHOGRAM #########\n",
    "##########################################\n",
    "for animal_id in animal_ids:\n",
    "\n",
    "    cohort.animal_ids = animal_id\n",
    "    \n",
    "    cohort.exclude_huddles = True\n",
    "    ethogram.plot_ethogram_hourly(\n",
    "                                 behavior_name,\n",
    "                                 cohort,\n",
    "                                 cohort.exclude_huddles,\n",
    "                                 vmax=50)"
   ]
  },
  {
   "cell_type": "code",
   "execution_count": 69,
   "id": "e262c64d-4f70-4f77-946a-e299103d84d8",
   "metadata": {
    "tags": []
   },
   "outputs": [
    {
     "name": "stdout",
     "output_type": "stream",
     "text": [
      "[[775.33126551 277.28694663]\n",
      " [899.5        417.58460518]]\n"
     ]
    }
   ],
   "source": [
    "print (cohort.rect_coords)"
   ]
  },
  {
   "cell_type": "code",
   "execution_count": 250,
   "id": "067b161b",
   "metadata": {},
   "outputs": [
    {
     "name": "stdout",
     "output_type": "stream",
     "text": [
      "# of feature tracks:  991 , missing:  0\n"
     ]
    },
    {
     "name": "stderr",
     "output_type": "stream",
     "text": [
      "1001it [03:24,  4.90it/s]                                                              \n"
     ]
    }
   ],
   "source": [
    "################################################\n",
    "########### COMPUTE RECTANGLE ETHOGRAMS ########\n",
    "################################################\n",
    "\n",
    "#\n",
    "#\n",
    "cohort.video_frame_rate = 24\n",
    "cohort.parallel_flag = True\n",
    "\n",
    "# set the flags for the huddle corrections\n",
    "cohort.fix_track_flag = True\n",
    "cohort.interpolate_flag = True\n",
    "#cohort.load_huddle_tracks()\n",
    "\n",
    "# # this just loads the _spine.npy files;\n",
    "cohort.use_nohuddle = True\n",
    "cohort.load_feature_tracks()\n",
    "\n",
    "# # this computes mode-based occupancy in the nest with 1min bins\n",
    "cohort.median_filter_width = cohort.video_frame_rate*5+1 # 1: there is no smotthing; n x frame rate gives you n seconds of somothing (always add 1 to get odd number)\n",
    "#cohort.n_frames_per_bin = cohort.video_frame_rate  # single second resolution\n",
    "cohort.n_frames_per_bin = cohort.video_frame_rate #*60  # single second resolution\n",
    "cohort.n_cores = 24\n",
    "\n",
    "#\n",
    "cohort.compute_rectangle_composition()\n"
   ]
  },
  {
   "cell_type": "code",
   "execution_count": 252,
   "id": "38d98a67-9f84-49f6-8c7a-fe4121c07430",
   "metadata": {
    "tags": []
   },
   "outputs": [
    {
     "name": "stderr",
     "output_type": "stream",
     "text": [
      "100%|██████████████████████████████████████████████| 991/991 [00:00<00:00, 2992.86it/s]\n"
     ]
    }
   ],
   "source": [
    "################################################\n",
    "########### SHOW RECTANGLE ETHOGRAM ############\n",
    "################################################\n",
    "\n",
    "#%matplotlib qt\n",
    "\n",
    "#\n",
    "cohort.forward_padding = 20 # padding in percent\n",
    "cohort.generate_rectangle_composition_ethograms()\n",
    "\n",
    "#\n",
    "cohort.show_rectangle_composition_ethogram_all_animals()\n",
    "\n",
    "#\n",
    "#cohort.show_huddle_composition_ethogram_full_huddle()\n",
    "\n",
    "#\n",
    "#animal_ids = np.arange(6)\n",
    "# cohort.show_huddle_composition_ethogram_specific_animals(animal_ids)\n",
    "    "
   ]
  },
  {
   "cell_type": "code",
   "execution_count": 254,
   "id": "6da6c595-bbd8-42ef-ae07-229aeea5aa29",
   "metadata": {
    "tags": []
   },
   "outputs": [
    {
     "data": {
      "text/plain": [
       "(112, 86400)"
      ]
     },
     "execution_count": 254,
     "metadata": {},
     "output_type": "execute_result"
    }
   ],
   "source": [
    "test = np.load('/home/cat/Downloads/rois/foodhopper.npy')\n",
    "test.shape"
   ]
  },
  {
   "cell_type": "code",
   "execution_count": 246,
   "id": "f4a79914-ada9-4341-b2f7-a603a63a7f8b",
   "metadata": {
    "tags": []
   },
   "outputs": [
    {
     "name": "stdout",
     "output_type": "stream",
     "text": [
      "(112, 86400)\n"
     ]
    },
    {
     "name": "stderr",
     "output_type": "stream",
     "text": [
      "computing correlogram: 100%|████████████████████████| 720/720 [00:05<00:00, 140.40it/s]\n",
      "computing correlogram: 100%|████████████████████████| 720/720 [00:04<00:00, 146.76it/s]\n",
      "computing correlogram: 100%|████████████████████████| 720/720 [00:05<00:00, 141.68it/s]\n",
      "computing correlogram: 100%|████████████████████████| 720/720 [00:04<00:00, 148.99it/s]\n",
      "computing correlogram: 100%|████████████████████████| 720/720 [00:05<00:00, 143.41it/s]\n",
      "computing correlogram: 100%|████████████████████████| 720/720 [00:04<00:00, 147.07it/s]\n"
     ]
    }
   ],
   "source": [
    "##################################################\n",
    "########### COMPUTE CORRELOGRAMS PER ANIMAL ######\n",
    "##################################################\n",
    "\n",
    "print (cohort.rectangle_ethogram.shape)\n",
    "\n",
    "a1 = 1\n",
    "a2 = 2\n",
    "\n",
    "a2_array = [0,1,2,3,4,5]\n",
    "plt.figure()\n",
    "clrs = ['black','blue','red','green','magenta','orange']\n",
    "for a2 in a2_array:\n",
    "\n",
    "    idx1 = np.arange(a1, 16*7, 7)+1\n",
    "    idx2 = np.arange(a2, 16*7, 7)+1\n",
    "\n",
    "    #\n",
    "    #print (cohort.rectangle_ethogram.shape)\n",
    "    #print (\"idx1: \", idx1.shape)\n",
    "    eth1 = np.hstack(cohort.rectangle_ethogram[::-1][idx1])\n",
    "    eth2 = np.hstack(cohort.rectangle_ethogram[::-1][idx2])\n",
    "    idx3 = np.where(np.isnan(eth1))[0]\n",
    "    #print (\"# of nans: \", idx3.shape)\n",
    "    #print (\"eth1: \", eth1.shape)\n",
    "\n",
    "    #\n",
    "    eth1[np.isnan(eth1)]=0\n",
    "    eth2[np.isnan(eth2)]=0\n",
    "\n",
    "    n_mins = 1 \n",
    "    width = n_mins#*60\n",
    "    text = 'Time (sec)'\n",
    "    if width > 1:\n",
    "        idx1 = np.arange(width,eth1.shape[0],width)\n",
    "        eth1 = np.vstack(np.split(eth1, idx1))\n",
    "        idx2 = np.arange(width,eth2.shape[0],width)\n",
    "        eth2 = np.vstack(np.split(eth2, idx2))\n",
    "\n",
    "        #\n",
    "        eth1 = np.nansum(eth1,axis=1)\n",
    "        eth2 = np.nansum(eth2,axis=1)\n",
    "        text = 'Time (mins)'\n",
    "        \n",
    "    # compute the correlograms between each pair of animals\n",
    "    from scipy.stats import pearsonr\n",
    "\n",
    "    #\n",
    "    window = 360\n",
    "    t = np.arange(-window,window,1)\n",
    "    from tqdm import trange \n",
    "\n",
    "    #\n",
    "    cc = []\n",
    "    for z in trange(-window, window,1, desc='computing correlogram'):\n",
    "        #temp = (np.roll(single_animal_eth,z)*single_animal_eth).sum()\n",
    "        temp = (np.roll(eth1,z)*eth2).sum()\n",
    "\n",
    "        cc.append(temp)\n",
    "    #\n",
    "    plt.plot(t,cc, label = str(a1)+\" vs \"+str(a2),\n",
    "            c=clrs[a2])\n",
    "plt.plot([0,0],[-1,1],'--',c='black')\n",
    "plt.legend()\n",
    "#\n",
    "plt.title(\"Animal: \"+str(a1))\n",
    "plt.xlabel(text)\n",
    "plt.semilogy()\n",
    "plt.show()\n",
    "\n",
    "\n"
   ]
  },
  {
   "cell_type": "code",
   "execution_count": 242,
   "id": "b81ff85c-d8de-4a64-82a8-86ac335b99d1",
   "metadata": {
    "tags": []
   },
   "outputs": [
    {
     "name": "stdout",
     "output_type": "stream",
     "text": [
      "(112, 86400)\n",
      "0 0\n"
     ]
    },
    {
     "name": "stderr",
     "output_type": "stream",
     "text": [
      "computing correlogram: 100%|███████████████████████| 720/720 [00:00<00:00, 3140.89it/s]\n"
     ]
    },
    {
     "name": "stdout",
     "output_type": "stream",
     "text": [
      "7 7\n"
     ]
    },
    {
     "name": "stderr",
     "output_type": "stream",
     "text": [
      "computing correlogram: 100%|███████████████████████| 720/720 [00:00<00:00, 3121.91it/s]\n"
     ]
    },
    {
     "name": "stdout",
     "output_type": "stream",
     "text": [
      "14 14\n"
     ]
    },
    {
     "name": "stderr",
     "output_type": "stream",
     "text": [
      "computing correlogram: 100%|███████████████████████| 720/720 [00:00<00:00, 3089.64it/s]\n"
     ]
    },
    {
     "name": "stdout",
     "output_type": "stream",
     "text": [
      "21 21\n"
     ]
    },
    {
     "name": "stderr",
     "output_type": "stream",
     "text": [
      "computing correlogram: 100%|███████████████████████| 720/720 [00:00<00:00, 3202.28it/s]\n"
     ]
    },
    {
     "name": "stdout",
     "output_type": "stream",
     "text": [
      "28 28\n"
     ]
    },
    {
     "name": "stderr",
     "output_type": "stream",
     "text": [
      "computing correlogram: 100%|███████████████████████| 720/720 [00:00<00:00, 3192.80it/s]\n"
     ]
    },
    {
     "name": "stdout",
     "output_type": "stream",
     "text": [
      "35 35\n"
     ]
    },
    {
     "name": "stderr",
     "output_type": "stream",
     "text": [
      "computing correlogram: 100%|███████████████████████| 720/720 [00:00<00:00, 3101.63it/s]\n"
     ]
    },
    {
     "name": "stdout",
     "output_type": "stream",
     "text": [
      "42 42\n"
     ]
    },
    {
     "name": "stderr",
     "output_type": "stream",
     "text": [
      "computing correlogram: 100%|███████████████████████| 720/720 [00:00<00:00, 3162.85it/s]\n"
     ]
    },
    {
     "name": "stdout",
     "output_type": "stream",
     "text": [
      "49 49\n"
     ]
    },
    {
     "name": "stderr",
     "output_type": "stream",
     "text": [
      "computing correlogram: 100%|███████████████████████| 720/720 [00:00<00:00, 3209.19it/s]\n"
     ]
    },
    {
     "name": "stdout",
     "output_type": "stream",
     "text": [
      "56 56\n"
     ]
    },
    {
     "name": "stderr",
     "output_type": "stream",
     "text": [
      "computing correlogram: 100%|███████████████████████| 720/720 [00:00<00:00, 3186.28it/s]\n"
     ]
    },
    {
     "name": "stdout",
     "output_type": "stream",
     "text": [
      "63 63\n"
     ]
    },
    {
     "name": "stderr",
     "output_type": "stream",
     "text": [
      "computing correlogram: 100%|███████████████████████| 720/720 [00:00<00:00, 3176.34it/s]\n"
     ]
    },
    {
     "name": "stdout",
     "output_type": "stream",
     "text": [
      "70 70\n"
     ]
    },
    {
     "name": "stderr",
     "output_type": "stream",
     "text": [
      "computing correlogram: 100%|███████████████████████| 720/720 [00:00<00:00, 3183.21it/s]\n"
     ]
    },
    {
     "name": "stdout",
     "output_type": "stream",
     "text": [
      "77 77\n"
     ]
    },
    {
     "name": "stderr",
     "output_type": "stream",
     "text": [
      "computing correlogram: 100%|███████████████████████| 720/720 [00:00<00:00, 3212.37it/s]\n"
     ]
    },
    {
     "name": "stdout",
     "output_type": "stream",
     "text": [
      "84 84\n"
     ]
    },
    {
     "name": "stderr",
     "output_type": "stream",
     "text": [
      "computing correlogram: 100%|███████████████████████| 720/720 [00:00<00:00, 3172.07it/s]\n"
     ]
    },
    {
     "name": "stdout",
     "output_type": "stream",
     "text": [
      "91 91\n"
     ]
    },
    {
     "name": "stderr",
     "output_type": "stream",
     "text": [
      "computing correlogram: 100%|███████████████████████| 720/720 [00:00<00:00, 3147.49it/s]\n"
     ]
    },
    {
     "name": "stdout",
     "output_type": "stream",
     "text": [
      "98 98\n"
     ]
    },
    {
     "name": "stderr",
     "output_type": "stream",
     "text": [
      "computing correlogram: 100%|███████████████████████| 720/720 [00:00<00:00, 3189.65it/s]\n"
     ]
    },
    {
     "name": "stdout",
     "output_type": "stream",
     "text": [
      "105 105\n"
     ]
    },
    {
     "name": "stderr",
     "output_type": "stream",
     "text": [
      "computing correlogram: 100%|███████████████████████| 720/720 [00:00<00:00, 3171.73it/s]"
     ]
    },
    {
     "name": "stdout",
     "output_type": "stream",
     "text": [
      "WARNING:matplotlib.legend:No artists with labels found to put in legend.  Note that artists whose label start with an underscore are ignored when legend() is called with no argument.\n"
     ]
    },
    {
     "name": "stderr",
     "output_type": "stream",
     "text": [
      "\n"
     ]
    }
   ],
   "source": [
    "\n",
    "print (cohort.rectangle_ethogram.shape)\n",
    "\n",
    "a1 = 0\n",
    "a2 = 0\n",
    "\n",
    "#a2_array = [0,1,2,3,4,5]\n",
    "idx1 = np.arange(a1, 16*7, 7)\n",
    "idx2 = np.arange(a2, 16*7, 7)\n",
    "\n",
    "#\n",
    "plt.figure()\n",
    "clrs = ['black','blue','red','green','magenta','orange']\n",
    "cmap = plt.get_cmap(\"viridis\", 16)\n",
    "ctr=0\n",
    "for id1, id2 in zip(idx1,idx2):\n",
    "\n",
    "    #\n",
    "    print (id1, id2)\n",
    "    #print (cohort.rectangle_ethogram.shape)\n",
    "    #print (\"idx1: \", idx1.shape)\n",
    "    eth1 = np.hstack(cohort.rectangle_ethogram[::-1][id1])\n",
    "    eth2 = np.hstack(cohort.rectangle_ethogram[::-1][id2])\n",
    "    idx3 = np.where(np.isnan(eth1))[0]\n",
    "    #print (\"# of nans: \", idx3.shape)\n",
    "    #print (\"eth1: \", eth1.shape)\n",
    "\n",
    "    #\n",
    "    eth1[np.isnan(eth1)]=0\n",
    "    eth2[np.isnan(eth2)]=0\n",
    "\n",
    "    n_mins = 1 \n",
    "    width = n_mins#*60\n",
    "    text = 'Time (sec)'\n",
    "    if width > 1:\n",
    "        idx1 = np.arange(width,eth1.shape[0],width)\n",
    "        eth1 = np.vstack(np.split(eth1, idx1))\n",
    "        idx2 = np.arange(width,eth2.shape[0],width)\n",
    "        eth2 = np.vstack(np.split(eth2, idx2))\n",
    "\n",
    "        #\n",
    "        eth1 = np.nansum(eth1,axis=1)\n",
    "        eth2 = np.nansum(eth2,axis=1)\n",
    "        text = 'Time (mins)'\n",
    "        \n",
    "    # compute the correlograms between each pair of animals\n",
    "    from scipy.stats import pearsonr\n",
    "\n",
    "    #\n",
    "    window = 360\n",
    "    t = np.arange(-window,window,1)\n",
    "    from tqdm import trange \n",
    "\n",
    "    #\n",
    "    cc = []\n",
    "    for z in trange(-window, window,1, desc='computing correlogram'):\n",
    "        #temp = (np.roll(single_animal_eth,z)*single_animal_eth).sum()\n",
    "        temp = (np.roll(eth1,z)*eth2).sum()\n",
    "\n",
    "        cc.append(temp)\n",
    "    #\n",
    "    plt.plot(t,cc, \n",
    "             #label = str(a1)+\" vs \"+str(a2),\n",
    "            c=cmap(ctr))\n",
    "    \n",
    "    ctr+=1\n",
    "    \n",
    "    \n",
    "plt.plot([0,0],[-1,1],'--',c='black')\n",
    "plt.legend()\n",
    "#\n",
    "plt.xlabel(text)\n",
    "plt.semilogy()\n",
    "plt.show()\n",
    "\n"
   ]
  },
  {
   "cell_type": "code",
   "execution_count": 240,
   "id": "aa84d9da-3250-4a2b-bde7-a227894efb55",
   "metadata": {},
   "outputs": [],
   "source": [
    "plt.figure()\n",
    "\n",
    "plt.imshow(cohort.rectangle_ethogram,\n",
    "          aspect='auto',\n",
    "          #interpolation='none'\n",
    "          )\n",
    "\n",
    "plt.show()"
   ]
  },
  {
   "cell_type": "code",
   "execution_count": null,
   "id": "ecd8bdaf-37d0-4256-a23d-d8994a63c46c",
   "metadata": {},
   "outputs": [],
   "source": []
  },
  {
   "cell_type": "code",
   "execution_count": 23,
   "id": "efaba07d-de01-4466-8033-e90fb9a25a78",
   "metadata": {},
   "outputs": [],
   "source": []
  },
  {
   "cell_type": "code",
   "execution_count": 19,
   "id": "b90328d9-ceee-476e-92c6-95dd1b9115bf",
   "metadata": {},
   "outputs": [
    {
     "name": "stdout",
     "output_type": "stream",
     "text": [
      "[0, 1, 2, 3, 4, 5]\n",
      "(96, 24)\n",
      "sums:  1704.5969029928478\n",
      "X_pca:  (96, 3)\n",
      "removing zeros:  (84,)\n"
     ]
    }
   ],
   "source": [
    "######################################\n",
    "########### PCA SCATTER PLOTS ########\n",
    "######################################\n",
    "\n",
    "#\n",
    "cohort.animal_ids  = [0,1,2,3,4,5]\n",
    "\n",
    "# choose one of these behaviors\n",
    "cohort.behavior_name = 'rectangular_region'\n",
    "# cohort.behavior_name = 'circular_region'\n",
    "\n",
    "#\n",
    "cohort.remove_zeros=True\n",
    "cohort.show_developmental_trajectories()\n",
    "\n",
    "#\n"
   ]
  },
  {
   "cell_type": "code",
   "execution_count": null,
   "id": "89761e65-b295-4caf-8c53-4622e40d1a7f",
   "metadata": {},
   "outputs": [],
   "source": []
  },
  {
   "cell_type": "code",
   "execution_count": null,
   "id": "44d66a8a-82e7-429e-97b8-2db93aec1085",
   "metadata": {},
   "outputs": [],
   "source": []
  },
  {
   "cell_type": "code",
   "execution_count": null,
   "id": "206e6f1d",
   "metadata": {},
   "outputs": [],
   "source": []
  },
  {
   "cell_type": "code",
   "execution_count": null,
   "id": "9d5e0288-5ece-4f2a-ba0e-2e5626d68ae5",
   "metadata": {},
   "outputs": [],
   "source": []
  },
  {
   "cell_type": "code",
   "execution_count": null,
   "id": "fa30a113-4dc7-431a-bff6-d058f29e3456",
   "metadata": {},
   "outputs": [],
   "source": []
  },
  {
   "cell_type": "code",
   "execution_count": null,
   "id": "49de6031-44cf-4e5c-a07f-1f0c0293bfd2",
   "metadata": {},
   "outputs": [],
   "source": []
  }
 ],
 "metadata": {
  "kernelspec": {
   "display_name": "sleap_new",
   "language": "python",
   "name": "sleap_new"
  },
  "language_info": {
   "codemirror_mode": {
    "name": "ipython",
    "version": 3
   },
   "file_extension": ".py",
   "mimetype": "text/x-python",
   "name": "python",
   "nbconvert_exporter": "python",
   "pygments_lexer": "ipython3",
   "version": "3.7.12"
  }
 },
 "nbformat": 4,
 "nbformat_minor": 5
}
