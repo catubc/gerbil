{
 "cells": [
  {
   "cell_type": "code",
   "execution_count": 110,
   "id": "35748575",
   "metadata": {
    "tags": []
   },
   "outputs": [
    {
     "data": {
      "application/javascript": [
       "IPython.notebook.set_autosave_interval(180000)"
      ]
     },
     "metadata": {},
     "output_type": "display_data"
    },
    {
     "name": "stdout",
     "output_type": "stream",
     "text": [
      "Autosaving every 180 seconds\n",
      "The autoreload extension is already loaded. To reload it, use:\n",
      "  %reload_ext autoreload\n"
     ]
    },
    {
     "data": {
      "text/html": [
       "<style>.container { width:100% !important; }</style>"
      ],
      "text/plain": [
       "<IPython.core.display.HTML object>"
      ]
     },
     "metadata": {},
     "output_type": "display_data"
    }
   ],
   "source": [
    "import matplotlib\n",
    "#%matplotlib tk\n",
    "%matplotlib inline\n",
    "%autosave 180\n",
    "%load_ext autoreload\n",
    "%autoreload 2\n",
    "\n",
    "import nest_asyncio\n",
    "\n",
    "%config Completer.use_jedi = False\n",
    "\n",
    "#\n",
    "import matplotlib.pyplot as plt\n",
    "from IPython.core.display import display, HTML\n",
    "display(HTML(\"<style>.container { width:100% !important; }</style>\"))\n",
    "\n",
    "# \n",
    "import matplotlib.cm as cm\n",
    "import numpy as np\n",
    "import os\n",
    "from tqdm import tqdm\n",
    "\n",
    "#\n",
    "import sys\n",
    "sys.path.append('/home/cat/code/gerbil/')\n",
    "\n",
    "# \n",
    "from utils.track import track\n",
    "from utils.convert import convert\n",
    "from utils.ethogram import ethogram\n",
    "from utils.cohort import cohort\n",
    "from utils.ethogram import ethogram"
   ]
  },
  {
   "cell_type": "code",
   "execution_count": 113,
   "id": "1cd83edf",
   "metadata": {
    "tags": []
   },
   "outputs": [
    {
     "name": "stdout",
     "output_type": "stream",
     "text": [
      "DF:     Unnamed: 0  Cohort NN Type                                   Filename Dev Day  # of Gerbils Time of Light Switch  Shaved?  Predicted?                                   Slp filename Start time\n",
      "0           0       2     Day  2020_07_20_09_53_59_813912_compressed.mp4     P15             6                  NaN        1           1  2020_07_20_09_53_59_813912_compressed_Day.slp   09:53:59\n",
      "1           1       2     Day  2020_07_20_10_16_08_629297_compressed.mp4     P15             6                  NaN        1           1  2020_07_20_10_16_08_629297_compressed_Day.slp   10:16:08\n",
      "2           2       2     Day  2020_07_20_10_38_20_043555_compressed.mp4     P15             6                  NaN        1           1  2020_07_20_10_38_20_043555_compressed_Day.slp   10:38:20\n",
      "3           3       2     Day  2020_07_20_11_00_31_566455_compressed.mp4     P15             6                  NaN        1           1  2020_07_20_11_00_31_566455_compressed_Day.slp   11:00:31\n",
      "4           4       2     Day  2020_07_20_11_22_36_823934_compressed.mp4     P15             6                  NaN        1           1  2020_07_20_11_22_36_823934_compressed_Day.slp   11:22:36\n",
      "Loading only recordings with 6 animals...\n",
      " ... total # :  991  /  991\n"
     ]
    }
   ],
   "source": [
    "######################################################\n",
    "############# LOAD ANIMAL DATABASE ###################\n",
    "######################################################\n",
    "fname_spreadsheet = '/mnt/b3a68699-495d-4ebb-9ab1-ac74f11c68c5/gerbil/cohort2/database.xlsx'\n",
    "#fname_spreadsheet = '/media/cat/4TBSSD/dan/cohort2/P21_P28/database.xlsx'\n",
    "\n",
    "#\n",
    "cohort = cohort.CohortProcessor(fname_spreadsheet)\n",
    "#cohort.fname_spreadsheet = '/mnt/b3a68699-495d-4ebb-9ab1-ac74f11c68c5/gerbil/cohort2/database.xlsx'\n",
    "cohort.load_database()\n",
    "\n",
    "#\n",
    "cohort.ethogram = ethogram\n",
    "\n",
    "# print (list(zip(cohort.PDays,cohort.Start_times))[0])\n",
    "# print (list(zip(cohort.PDays,cohort.Start_times))[1])\n",
    "# print (list(zip(cohort.PDays,cohort.Start_times))[100])"
   ]
  },
  {
   "cell_type": "code",
   "execution_count": 114,
   "id": "b91ebfaf-55fd-4dc6-bb5e-8d75ce7caf08",
   "metadata": {
    "tags": []
   },
   "outputs": [
    {
     "name": "stdout",
     "output_type": "stream",
     "text": [
      " # of files:  991 example:  /mnt/b3a68699-495d-4ebb-9ab1-ac74f11c68c5/gerbil/cohort2/huddles/2020_07_20_09_53_59_813912_compressed_Day_huddle_spine_fixed_interpolated.npy\n",
      "# of feature tracks:  991\n"
     ]
    },
    {
     "data": {
      "application/vnd.jupyter.widget-view+json": {
       "model_id": "4ef298d94ffe41508974ca802266b1f6",
       "version_major": 2,
       "version_minor": 0
      },
      "text/plain": [
       "  0%|          | 0/991 [00:00<?, ?it/s]"
      ]
     },
     "metadata": {},
     "output_type": "display_data"
    },
    {
     "name": "stdout",
     "output_type": "stream",
     "text": [
      "# of huddle composition arrays:  991 (6, 1201)\n"
     ]
    }
   ],
   "source": [
    "#################################################\n",
    "########### COMPUTE HUDDLE COMPOSITION ##########\n",
    "#################################################\n",
    "\n",
    "#\n",
    "cohort.video_frame_rate = 24\n",
    "cohort.parallel_flag = True\n",
    "\n",
    "# set the flags for the huddle corrections\n",
    "cohort.fix_track_flag = True\n",
    "cohort.interpolate_flag = True\n",
    "cohort.load_huddle_tracks()\n",
    "\n",
    "# # this just loads the _spine.npy files;\n",
    "cohort.use_nohuddle = True\n",
    "cohort.load_feature_tracks()\n",
    "\n",
    "# # this computes mode-based occupancy in the nest with 1min bins\n",
    "cohort.median_filter_width = cohort.video_frame_rate*5+1 # 1: there is no smotthing; n x frame rate gives you n seconds of somothing (always add 1 to get odd number)\n",
    "#cohort.n_frames_per_bin = cohort.video_frame_rate  # single second resolution\n",
    "cohort.n_frames_per_bin = cohort.video_frame_rate #*60  # single second resolution\n",
    "cohort.n_cores = 24\n",
    "cohort.compute_huddle_composition()\n",
    "print (\"# of huddle composition arrays: \", len(cohort.huddle_comps_binned), cohort.huddle_comps_binned[0].shape)\n"
   ]
  },
  {
   "cell_type": "code",
   "execution_count": 123,
   "id": "94043093-aa53-4900-93a4-98c20b048bd0",
   "metadata": {
    "tags": []
   },
   "outputs": [
    {
     "name": "stdout",
     "output_type": "stream",
     "text": [
      "size of img:  (86400, 96)  size of flatten image:  (1382400, 6)\n"
     ]
    },
    {
     "name": "stderr",
     "output_type": "stream",
     "text": [
      "100%|███████████████████████████████████████| 991/991 [00:00<00:00, 2695.47it/s]\n"
     ]
    },
    {
     "data": {
      "image/png": "[encoded data removed]",
      "text/plain": [
       "<Figure size 1000x500 with 1 Axes>"
      ]
     },
     "metadata": {},
     "output_type": "display_data"
    }
   ],
   "source": [
    "#################################################\n",
    "########### DISPLAY HUDDLE COMPOSITION ##########\n",
    "#################################################\n",
    "\n",
    "#\n",
    "cohort.forward_padding = 20 # padding in percent\n",
    "cohort.generate_huddle_composition_ethograms()\n",
    "\n",
    "#\n",
    "cohort.show_huddle_composition_ethogram_all_animals()\n",
    "\n",
    "#\n",
    "#cohort.show_huddle_composition_ethogram_full_huddle()\n",
    "\n",
    "#\n",
    "animal_ids = np.arange(6)\n",
    "# cohort.show_huddle_composition_ethogram_specific_animals(animal_ids)\n"
   ]
  },
  {
   "cell_type": "code",
   "execution_count": 104,
   "id": "615b5a23",
   "metadata": {},
   "outputs": [
    {
     "name": "stdout",
     "output_type": "stream",
     "text": [
      "(86400, 96)\n",
      "(6, 1382400)\n"
     ]
    }
   ],
   "source": [
    "##########################################################\n",
    "########### COMPUTE FLATTENED VERSION OF ETHOGRAM ########\n",
    "##########################################################\n",
    "\n",
    "# OPTIONAL\n",
    "# print (cohort.huddle_ethogram.shape)\n",
    "\n",
    "# # flatten the ethogram\n",
    "# ethogram_flat = []\n",
    "\n",
    "# for k in range(0,cohort.huddle_ethogram.shape[1],6):\n",
    "#     ethogram_flat.append(cohort.huddle_ethogram[:,k:k+6])\n",
    "# ethogram_flat = np.vstack(ethogram_flat).T\n",
    "# print (ethogram_flat.shape)\n",
    "\n",
    "# # optional visualize\n",
    "# if False:\n",
    "#     plt.figure()\n",
    "\n",
    "#     plt.imshow(ethogram_flat, aspect='auto', \n",
    "#                interpolation='none',  cmap='jet')\n",
    "#     plt.show()"
   ]
  },
  {
   "cell_type": "code",
   "execution_count": 7,
   "id": "8b52b8b1-1d9a-44f2-9e0b-3ec83a5ecdf4",
   "metadata": {
    "tags": []
   },
   "outputs": [
    {
     "name": "stdout",
     "output_type": "stream",
     "text": [
      "(6, 1382400)\n"
     ]
    },
    {
     "name": "stderr",
     "output_type": "stream",
     "text": [
      "100%|█████████████████████████████████████████████| 5/5 [01:35<00:00, 19.06s/it]\n",
      "100%|█████████████████████████████████████████████| 4/4 [01:14<00:00, 18.73s/it]\n",
      "100%|█████████████████████████████████████████████| 3/3 [00:58<00:00, 19.55s/it]\n",
      "100%|█████████████████████████████████████████████| 2/2 [00:38<00:00, 19.18s/it]\n",
      "100%|█████████████████████████████████████████████| 1/1 [00:18<00:00, 18.99s/it]\n",
      "0it [00:00, ?it/s]\n"
     ]
    }
   ],
   "source": [
    "##############################################################################\n",
    "########### COMPUTE FLATTENED VERSION OF ETHOGRAM + CORRELATION ARRAY ########\n",
    "##############################################################################\n",
    "\n",
    "# FIGURE 1: CORRELOGRAMS <- not super informative!\n",
    "# flatten the ethogram\n",
    "ethogram_flat = []\n",
    "\n",
    "for k in range(0,cohort.huddle_ethogram.shape[1],6):\n",
    "    ethogram_flat.append(cohort.huddle_ethogram[:,k:k+6])\n",
    "ethogram_flat = np.vstack(ethogram_flat).T\n",
    "print (ethogram_flat.shape)\n",
    "\n",
    "# compute the correlograms between each pair of animals\n",
    "from scipy.stats import pearsonr\n",
    "\n",
    "#\n",
    "window = 100\n",
    "t = np.arange(-window,window,1)\n",
    "from tqdm import trange \n",
    "\n",
    "#\n",
    "cc_array = []\n",
    "plt.figure()\n",
    "for k in range(6):\n",
    "    for p in trange(k+1,6,1):\n",
    "        cc = []\n",
    "        for z in range(-window, window,1):\n",
    "            cc.append(pearsonr(np.roll(ethogram_flat[k],z), \n",
    "                                    ethogram_flat[p])[0])\n",
    "        cc_array.append([k,p,cc])\n",
    "\n",
    "        #\n",
    "        ax=plt.subplot(6,6,k*6+p+1)\n",
    "        plt.plot(t,cc)\n",
    "        plt.plot([0,0],[-1,1],'--',c='black')\n",
    "#\n",
    "\n",
    "plt.show()"
   ]
  },
  {
   "cell_type": "code",
   "execution_count": 115,
   "id": "2a5a0c7c",
   "metadata": {},
   "outputs": [
    {
     "name": "stderr",
     "output_type": "stream",
     "text": [
      "100%|██████████| 2000/2000 [00:10<00:00, 182.76it/s]\n"
     ]
    }
   ],
   "source": [
    "# cc = []\n",
    "# k = 0\n",
    "# p = 1\n",
    "# window = 1000\n",
    "# t=np.arange(-window,window,1)\n",
    "# t1 = ethogram_flat[k][520000:630000].copy()\n",
    "# idx = np.where(t1>0)\n",
    "# t1[idx] = 1\n",
    "# diffs = t1[1:]-t1[:-1]\n",
    "# idx1 = np.where(diffs>0)\n",
    "# idx2 = np.where(diffs<0)\n",
    "# t1[:] = 0\n",
    "# t1[idx1] = 1\n",
    "# t1[idx2] = -1\n",
    "\n",
    "# #\n",
    "# t2 = ethogram_flat[p][520000:630000].copy()\n",
    "# idx = np.where(t2>0)\n",
    "# t2[idx] = 1\n",
    "# diffs = t2[1:]-t2[:-1]\n",
    "# idx1 = np.where(diffs>0)\n",
    "# idx2 = np.where(diffs<0)\n",
    "# t2[:] = 0\n",
    "# t2[idx1] = 1\n",
    "# t2[idx2] = -1\n",
    "\n",
    "# #\n",
    "# for z in trange(-window, window,1):\n",
    "#     cc.append(pearsonr(np.roll(t1,z), \n",
    "#                         t2)[0])\n",
    "\n",
    "# #\n",
    "# #plt.plot([0,0],[0,1],'--',c='black')\n",
    "# plt.xlabel(\"seconds\")\n",
    "# #plt.plot([0,0],[50,50],'--',c='black')\n",
    "# plt.plot(t,cc)\n",
    "# plt.show()"
   ]
  },
  {
   "cell_type": "code",
   "execution_count": 106,
   "id": "172cb45b-afee-4946-b7a0-041ddd7edcaf",
   "metadata": {},
   "outputs": [
    {
     "name": "stderr",
     "output_type": "stream",
     "text": [
      "100%|██████████| 6/6 [00:00<00:00, 12.49it/s]\n"
     ]
    }
   ],
   "source": [
    "####################################################\n",
    "########### COMPUTE PAIR WISE SCATTER PLOTS ########\n",
    "####################################################\n",
    "\n",
    "# # flatten the ethogram\n",
    "# ethogram_flat = []\n",
    "\n",
    "# for k in range(0,cohort.huddle_ethogram.shape[1],6):\n",
    "#     ethogram_flat.append(cohort.huddle_ethogram[:,k:k+6])\n",
    "# ethogram_flat = np.vstack(ethogram_flat).T\n",
    "# print (ethogram_flat.shape)\n",
    "\n",
    "# plt.figure(figsize=(6,6))\n",
    "# clrs = ['red','blue','green','black','purple','orange']\n",
    "# markers = [\",\" , \"o\" , \"v\" , \"^\" , \"<\", \">\"]\n",
    "\n",
    "# #\n",
    "# for k in trange(6):\n",
    "#     for p in range(k+1,6,1):\n",
    "#         t1 = ethogram_flat[k].copy()\n",
    "#         idx = np.where(t1>0)\n",
    "#         t1[idx] = 1\n",
    "#         t2 = ethogram_flat[p].copy()\n",
    "#         idx = np.where(t2>0)\n",
    "#         t2[idx] = 1\n",
    "\n",
    "#         # find order of events\n",
    "#         diff = t1-t2\n",
    "#         diff2 = diff[1:] - diff[:-1]\n",
    "\n",
    "#         #\n",
    "#         idx1 = np.where(diff2==2)[0]\n",
    "#         idx2 = np.where(diff2==-2)[0]\n",
    "#         plt.scatter(idx1.shape[0],\n",
    "#                     idx2.shape[0],\n",
    "#                     marker=markers[k],\n",
    "#                     s=100,\n",
    "#                     c=clrs[p],\n",
    "#                     label=str(k)+'->'+str(p))\n",
    "\n",
    "# #\n",
    "# plt.plot([0,70],[0,70],'--',c='black')\n",
    "# plt.legend()\n",
    "# plt.title(\"# of behavior sequences (1sec resolution))\")\n",
    "# plt.xlim(left=0)\n",
    "# plt.ylim(bottom=0)\n",
    "# plt.xlabel(\"Animal 1 precedes animal 2\")\n",
    "# plt.ylabel(\"Animal 2 precedes animal 1\")\n",
    "# plt.show()\n",
    "\n"
   ]
  },
  {
   "cell_type": "code",
   "execution_count": 108,
   "id": "e6bfa765-f6bc-40d0-969b-6907d842e3da",
   "metadata": {
    "tags": []
   },
   "outputs": [
    {
     "name": "stdout",
     "output_type": "stream",
     "text": [
      "# animals, # seconds:  (6, 1382400)\n",
      "times:  [ 86400  86401  86402 ... 604797 604798 604799]\n",
      "(6, 518400)\n"
     ]
    }
   ],
   "source": [
    "####################################################\n",
    "########### SELECT DAY OF ETHOGRAM TO ANALYZ #######\n",
    "####################################################\n",
    "\n",
    "print (\"# animals, # seconds: \", ethogram_flat.shape)\n",
    "\n",
    "# here P15 is day 0 for clarity\n",
    "day_start = 1\n",
    "day_end = 7\n",
    "\n",
    "#\n",
    "times = np.arange(day_start*24*60*60,\n",
    "                  day_end*24*60*60)\n",
    "print (\"times: \", times)\n",
    "\n",
    "#\n",
    "ethogram_flat_selected = ethogram_flat[:,times].copy()\n",
    "print (ethogram_flat_selected.shape)\n",
    "\n",
    "\n"
   ]
  },
  {
   "cell_type": "code",
   "execution_count": 109,
   "id": "add804cc-9c3a-49fb-9b76-5b52e82f4c66",
   "metadata": {
    "tags": []
   },
   "outputs": [
    {
     "name": "stderr",
     "output_type": "stream",
     "text": [
      "100%|█████████████████████████████████████████████| 6/6 [01:09<00:00, 11.64s/it]\n"
     ]
    }
   ],
   "source": [
    "####################################################\n",
    "########### COMPUTE PAIR WISE SCATTER PLOTS ########\n",
    "####################################################\n",
    "\n",
    "plt.figure(figsize=(6,6))\n",
    "clrs = ['red','blue','green','black','purple','orange']\n",
    "clrs = ['#cb3311', '#4477aa', '#ccbb44', '#228833', '#ee7733', '#66ccee']\n",
    "markers = [\",\" , \"o\" , \"v\" , \"^\" , \"<\", \">\"]\n",
    "\n",
    "#\n",
    "follow_window = 10\n",
    "xlim=0\n",
    "for k in trange(6):\n",
    "    #for p in range(k+1,6,1):\n",
    "    for p in range(6):\n",
    "        t1 = ethogram_flat_selected[k].copy()\n",
    "        idx1 = np.where(t1>0)[0]\n",
    "        t1[idx1] = 1\n",
    "        t2 = ethogram_flat_selected[p].copy()\n",
    "        idx2 = np.where(t2>0)[0]\n",
    "        t2[idx2] = 1\n",
    "\n",
    "        # find order of events\n",
    "        a1 = 0\n",
    "        \n",
    "        #\n",
    "        ctr = 0\n",
    "        while ctr<idx1.shape[0]:\n",
    "        #for i in idx1:\n",
    "            \n",
    "            # check to see if there is a switch from 0\n",
    "            if t2[idx1[ctr]]==0:\n",
    "                # to a 1 in the next window\n",
    "                if np.sum(t2[idx1[ctr]:idx1[ctr]+follow_window])>0:\n",
    "                    a1+=1\n",
    "                    \n",
    "                    # also advance the ctr value at least 10 sec\n",
    "                    ctr0 = ctr\n",
    "                    try:\n",
    "                        while idx1[ctr+1]<(idx1[ctr0]+follow_window) and (ctr<idx1.shape[0]-2):\n",
    "                            ctr+=1\n",
    "                            continue\n",
    "                    except:\n",
    "                        pass\n",
    "            ctr+=1\n",
    "        \n",
    "        #\n",
    "        a2 = 0\n",
    "        ctr = 0\n",
    "        while ctr<idx2.shape[0]:\n",
    "        #for i in idx1:\n",
    "            \n",
    "            # check to see if there is a switch from 0\n",
    "            if t1[idx2[ctr]]==0:\n",
    "                # to a 1 in the next window\n",
    "                if np.sum(t1[idx2[ctr]:idx2[ctr]+follow_window])>0:\n",
    "                    a2+=1\n",
    "                    \n",
    "                    # also advance the ctr value at least 10 sec\n",
    "                    ctr0 = ctr\n",
    "                    try:\n",
    "                        while idx2[ctr+1]<(idx2[ctr0]+follow_window) and (ctr<idx2.shape[0]-2):\n",
    "                            ctr+=1\n",
    "                            continue\n",
    "                    except:\n",
    "                        pass\n",
    "            ctr+=1\n",
    "        xlim = np.max((xlim,a1,a2))\n",
    "        plt.scatter(a1,\n",
    "                    a2,\n",
    "                    #marker=markers[k],\n",
    "                    marker=markers[p],\n",
    "                    s=100,\n",
    "                    #c=clrs[p],\n",
    "                    c=clrs[k],\n",
    "\n",
    "                    label=str(k)+'->'+str(p))\n",
    "\n",
    "#\n",
    "plt.plot([0,xlim*1.25],[0,xlim*1.25],'--',c='black')\n",
    "plt.legend(fontsize=8, ncol=6)\n",
    "plt.title(\"# of behavior sequences (1sec resulution; 10sec follow window))\")\n",
    "plt.xlim(0,3000) \n",
    "# plt.xlim(left=0)\n",
    "plt.ylim(0,3000) \n",
    "# plt.ylim(bottom=0)\n",
    "plt.title(\"start day: \"+str(day_start) + \",  day end: \"+str(day_end))\n",
    "plt.xlabel(\"Animal 1 precedes animal 2\")\n",
    "plt.ylabel(\"Animal 2 precedes animal 1\")\n",
    "plt.show()\n",
    "# plt.savefig('/home/cat/Downloads/P17.png')\n"
   ]
  },
  {
   "cell_type": "code",
   "execution_count": null,
   "id": "65bb3243-beeb-400d-b165-4a3d93b71195",
   "metadata": {},
   "outputs": [],
   "source": []
  },
  {
   "cell_type": "code",
   "execution_count": null,
   "id": "ef175a13-b3b1-4575-af98-fb54e57b0e58",
   "metadata": {},
   "outputs": [],
   "source": []
  },
  {
   "cell_type": "code",
   "execution_count": null,
   "id": "2204bd79-70b1-41a8-ada5-0cc951c68e3d",
   "metadata": {},
   "outputs": [],
   "source": []
  },
  {
   "cell_type": "code",
   "execution_count": null,
   "id": "12dce189-65d1-447d-a6cd-d8d9b9c3f905",
   "metadata": {},
   "outputs": [],
   "source": []
  },
  {
   "cell_type": "code",
   "execution_count": null,
   "id": "2fbf457c-e84f-4108-a991-6d37fb1b0f6c",
   "metadata": {},
   "outputs": [],
   "source": []
  },
  {
   "cell_type": "code",
   "execution_count": null,
   "id": "51d3ce12-fd48-474c-addd-d01e23d45c06",
   "metadata": {},
   "outputs": [],
   "source": []
  },
  {
   "cell_type": "code",
   "execution_count": null,
   "id": "609cc33f-a807-40c9-8b5b-e45f4c32b40d",
   "metadata": {},
   "outputs": [],
   "source": []
  },
  {
   "cell_type": "code",
   "execution_count": null,
   "id": "94000d6a-9db8-4ea6-9a8e-0cbf424f5710",
   "metadata": {},
   "outputs": [],
   "source": []
  },
  {
   "cell_type": "code",
   "execution_count": null,
   "id": "a719e593-ef45-4dba-9ab5-f5aa5be8c448",
   "metadata": {},
   "outputs": [],
   "source": []
  },
  {
   "cell_type": "code",
   "execution_count": null,
   "id": "2a4eff95-0768-41a5-9a7d-098936e9298e",
   "metadata": {},
   "outputs": [],
   "source": []
  },
  {
   "cell_type": "code",
   "execution_count": null,
   "id": "fb88202f-fdcd-4fac-890f-421eda3bb6d0",
   "metadata": {},
   "outputs": [],
   "source": []
  },
  {
   "cell_type": "code",
   "execution_count": null,
   "id": "45f4f1c3-0f5f-4a67-827a-5ba613bc3292",
   "metadata": {},
   "outputs": [],
   "source": []
  },
  {
   "cell_type": "code",
   "execution_count": null,
   "id": "9d5e0288-5ece-4f2a-ba0e-2e5626d68ae5",
   "metadata": {},
   "outputs": [],
   "source": []
  },
  {
   "cell_type": "code",
   "execution_count": null,
   "id": "fa30a113-4dc7-431a-bff6-d058f29e3456",
   "metadata": {},
   "outputs": [],
   "source": []
  },
  {
   "cell_type": "code",
   "execution_count": null,
   "id": "49de6031-44cf-4e5c-a07f-1f0c0293bfd2",
   "metadata": {},
   "outputs": [],
   "source": []
  }
 ],
 "metadata": {
  "kernelspec": {
   "display_name": "Python 3 (ipykernel)",
   "language": "python",
   "name": "python3"
  },
  "language_info": {
   "codemirror_mode": {
    "name": "ipython",
    "version": 3
   },
   "file_extension": ".py",
   "mimetype": "text/x-python",
   "name": "python",
   "nbconvert_exporter": "python",
   "pygments_lexer": "ipython3",
   "version": "3.7.12"
  }
 },
 "nbformat": 4,
 "nbformat_minor": 5
}
