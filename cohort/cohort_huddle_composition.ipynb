{
 "cells": [
  {
   "cell_type": "code",
   "execution_count": 1,
   "id": "35748575",
   "metadata": {
    "tags": []
   },
   "outputs": [
    {
     "data": {
      "application/javascript": [
       "IPython.notebook.set_autosave_interval(180000)"
      ]
     },
     "metadata": {},
     "output_type": "display_data"
    },
    {
     "name": "stdout",
     "output_type": "stream",
     "text": [
      "Autosaving every 180 seconds\n"
     ]
    },
    {
     "data": {
      "text/html": [
       "<style>.container { width:100% !important; }</style>"
      ],
      "text/plain": [
       "<IPython.core.display.HTML object>"
      ]
     },
     "metadata": {},
     "output_type": "display_data"
    }
   ],
   "source": [
    "import matplotlib\n",
    "%matplotlib tk\n",
    "%autosave 180\n",
    "%load_ext autoreload\n",
    "%autoreload 2\n",
    "\n",
    "import nest_asyncio\n",
    "\n",
    "%config Completer.use_jedi = False\n",
    "\n",
    "#\n",
    "import matplotlib.pyplot as plt\n",
    "from IPython.core.display import display, HTML\n",
    "display(HTML(\"<style>.container { width:100% !important; }</style>\"))\n",
    "\n",
    "# \n",
    "import matplotlib.cm as cm\n",
    "import numpy as np\n",
    "import os\n",
    "from tqdm import tqdm\n",
    "\n",
    "#\n",
    "import sys\n",
    "sys.path.append('/home/cat/code/gerbil/')\n",
    "\n",
    "# \n",
    "from utils.track import track\n",
    "from utils.convert import convert\n",
    "from utils.ethogram import ethogram\n",
    "from utils.cohort import cohort\n",
    "from utils.ethogram import ethogram"
   ]
  },
  {
   "cell_type": "code",
   "execution_count": 2,
   "id": "1cd83edf",
   "metadata": {
    "tags": []
   },
   "outputs": [
    {
     "name": "stdout",
     "output_type": "stream",
     "text": [
      "DF:     Unnamed: 0  Cohort NN Type                                   Filename Dev Day  # of Gerbils Time of Light Switch  Shaved?  Predicted?                                   Slp filename Start time\n",
      "0           0       2     Day  2020_07_20_09_53_59_813912_compressed.mp4     P15             6                  NaN        1           1  2020_07_20_09_53_59_813912_compressed_Day.slp   09:53:59\n",
      "1           1       2     Day  2020_07_20_10_16_08_629297_compressed.mp4     P15             6                  NaN        1           1  2020_07_20_10_16_08_629297_compressed_Day.slp   10:16:08\n",
      "2           2       2     Day  2020_07_20_10_38_20_043555_compressed.mp4     P15             6                  NaN        1           1  2020_07_20_10_38_20_043555_compressed_Day.slp   10:38:20\n",
      "3           3       2     Day  2020_07_20_11_00_31_566455_compressed.mp4     P15             6                  NaN        1           1  2020_07_20_11_00_31_566455_compressed_Day.slp   11:00:31\n",
      "4           4       2     Day  2020_07_20_11_22_36_823934_compressed.mp4     P15             6                  NaN        1           1  2020_07_20_11_22_36_823934_compressed_Day.slp   11:22:36\n",
      "Loading only recordings with 6 animals...\n",
      " ... total # :  991  /  991\n"
     ]
    }
   ],
   "source": [
    "######################################################\n",
    "############# LOAD ANIMAL DATABASE ###################\n",
    "######################################################\n",
    "fname_spreadsheet = '/mnt/b3a68699-495d-4ebb-9ab1-ac74f11c68c5/gerbil/cohort2/database.xlsx'\n",
    "# fname_spreadsheet = '/media/cat/4TBSSD/dan/cohort2/P21_P28/database.xlsx'\n",
    "\n",
    "#\n",
    "cohort = cohort.CohortProcessor(fname_spreadsheet)\n",
    "#cohort.fname_spreadsheet = '/mnt/b3a68699-495d-4ebb-9ab1-ac74f11c68c5/gerbil/cohort2/database.xlsx'\n",
    "cohort.load_database()\n",
    "\n",
    "#\n",
    "cohort.ethogram = ethogram\n",
    "\n",
    "# print (list(zip(cohort.PDays,cohort.Start_times))[0])\n",
    "# print (list(zip(cohort.PDays,cohort.Start_times))[1])\n",
    "# print (list(zip(cohort.PDays,cohort.Start_times))[100])"
   ]
  },
  {
   "cell_type": "code",
   "execution_count": 3,
   "id": "b91ebfaf-55fd-4dc6-bb5e-8d75ce7caf08",
   "metadata": {
    "tags": []
   },
   "outputs": [
    {
     "name": "stdout",
     "output_type": "stream",
     "text": [
      " # of files:  991 example:  /mnt/b3a68699-495d-4ebb-9ab1-ac74f11c68c5/gerbil/cohort2/huddles/2020_07_20_09_53_59_813912_compressed_Day_huddle_spine_fixed_interpolated.npy\n",
      "# of feature tracks:  991\n"
     ]
    },
    {
     "name": "stderr",
     "output_type": "stream",
     "text": [
      "1001it [02:43,  6.14it/s]                                                       \n"
     ]
    },
    {
     "name": "stdout",
     "output_type": "stream",
     "text": [
      "# of huddle composition arrays:  991 (6, 1201)\n"
     ]
    }
   ],
   "source": [
    "#################################################\n",
    "########### COMPUTE HUDDLE COMPOSITION ##########\n",
    "#################################################\n",
    "\n",
    "#\n",
    "cohort.video_frame_rate = 24\n",
    "\n",
    "# set the flags for the huddle corrections\n",
    "cohort.fix_track_flag = True\n",
    "cohort.interpolate_flag = True\n",
    "cohort.load_huddle_tracks()\n",
    "\n",
    "# # this just loads the _spine.npy files;\n",
    "cohort.use_nohuddle = True\n",
    "cohort.load_feature_tracks()\n",
    "\n",
    "# # this computes mode-based occupancy in the nest with 1min bins\n",
    "cohort.median_filter_width = cohort.video_frame_rate*5+1 # 1: there is no smotthing; n x frame rate gives you n seconds of somothing (always add 1 to get odd number)\n",
    "cohort.n_frames_per_bin = cohort.video_frame_rate  # single second resolution\n",
    "cohort.n_cores = 24\n",
    "cohort.compute_huddle_composition()\n",
    "print (\"# of huddle composition arrays: \", len(cohort.huddle_comps_binned), cohort.huddle_comps_binned[0].shape)\n"
   ]
  },
  {
   "cell_type": "code",
   "execution_count": 44,
   "id": "94043093-aa53-4900-93a4-98c20b048bd0",
   "metadata": {
    "tags": []
   },
   "outputs": [
    {
     "name": "stdout",
     "output_type": "stream",
     "text": [
      "size of img:  (86400, 96)  size of flatten image:  (1382400, 6)\n"
     ]
    },
    {
     "name": "stderr",
     "output_type": "stream",
     "text": [
      "100%|███████████████████████████████████████| 991/991 [00:00<00:00, 2270.41it/s]\n"
     ]
    }
   ],
   "source": [
    "#################################################\n",
    "########### DISPLAY HUDDLE COMPOSITION ##########\n",
    "#################################################\n",
    "\n",
    "#\n",
    "cohort.forward_padding = 20 # padding in percent\n",
    "cohort.generate_huddle_composition_ethograms()\n",
    "\n",
    "#\n"
   ]
  },
  {
   "cell_type": "code",
   "execution_count": null,
   "id": "8b52b8b1-1d9a-44f2-9e0b-3ec83a5ecdf4",
   "metadata": {},
   "outputs": [],
   "source": []
  },
  {
   "cell_type": "code",
   "execution_count": null,
   "id": "172cb45b-afee-4946-b7a0-041ddd7edcaf",
   "metadata": {},
   "outputs": [],
   "source": []
  },
  {
   "cell_type": "code",
   "execution_count": null,
   "id": "add804cc-9c3a-49fb-9b76-5b52e82f4c66",
   "metadata": {},
   "outputs": [],
   "source": []
  },
  {
   "cell_type": "code",
   "execution_count": null,
   "id": "65bb3243-beeb-400d-b165-4a3d93b71195",
   "metadata": {},
   "outputs": [],
   "source": []
  },
  {
   "cell_type": "code",
   "execution_count": null,
   "id": "ef175a13-b3b1-4575-af98-fb54e57b0e58",
   "metadata": {},
   "outputs": [],
   "source": []
  },
  {
   "cell_type": "code",
   "execution_count": null,
   "id": "2204bd79-70b1-41a8-ada5-0cc951c68e3d",
   "metadata": {},
   "outputs": [],
   "source": []
  },
  {
   "cell_type": "code",
   "execution_count": null,
   "id": "12dce189-65d1-447d-a6cd-d8d9b9c3f905",
   "metadata": {},
   "outputs": [],
   "source": []
  },
  {
   "cell_type": "code",
   "execution_count": null,
   "id": "2fbf457c-e84f-4108-a991-6d37fb1b0f6c",
   "metadata": {},
   "outputs": [],
   "source": []
  },
  {
   "cell_type": "code",
   "execution_count": null,
   "id": "51d3ce12-fd48-474c-addd-d01e23d45c06",
   "metadata": {},
   "outputs": [],
   "source": []
  },
  {
   "cell_type": "code",
   "execution_count": null,
   "id": "609cc33f-a807-40c9-8b5b-e45f4c32b40d",
   "metadata": {},
   "outputs": [],
   "source": []
  },
  {
   "cell_type": "code",
   "execution_count": null,
   "id": "94000d6a-9db8-4ea6-9a8e-0cbf424f5710",
   "metadata": {},
   "outputs": [],
   "source": []
  },
  {
   "cell_type": "code",
   "execution_count": null,
   "id": "a719e593-ef45-4dba-9ab5-f5aa5be8c448",
   "metadata": {},
   "outputs": [],
   "source": []
  },
  {
   "cell_type": "code",
   "execution_count": null,
   "id": "2a4eff95-0768-41a5-9a7d-098936e9298e",
   "metadata": {},
   "outputs": [],
   "source": []
  },
  {
   "cell_type": "code",
   "execution_count": null,
   "id": "fb88202f-fdcd-4fac-890f-421eda3bb6d0",
   "metadata": {},
   "outputs": [],
   "source": []
  },
  {
   "cell_type": "code",
   "execution_count": null,
   "id": "45f4f1c3-0f5f-4a67-827a-5ba613bc3292",
   "metadata": {},
   "outputs": [],
   "source": []
  },
  {
   "cell_type": "code",
   "execution_count": null,
   "id": "9d5e0288-5ece-4f2a-ba0e-2e5626d68ae5",
   "metadata": {},
   "outputs": [],
   "source": []
  },
  {
   "cell_type": "code",
   "execution_count": null,
   "id": "fa30a113-4dc7-431a-bff6-d058f29e3456",
   "metadata": {},
   "outputs": [],
   "source": []
  },
  {
   "cell_type": "code",
   "execution_count": null,
   "id": "49de6031-44cf-4e5c-a07f-1f0c0293bfd2",
   "metadata": {},
   "outputs": [],
   "source": []
  }
 ],
 "metadata": {
  "kernelspec": {
   "display_name": "sleap_new",
   "language": "python",
   "name": "sleap_new"
  },
  "language_info": {
   "codemirror_mode": {
    "name": "ipython",
    "version": 3
   },
   "file_extension": ".py",
   "mimetype": "text/x-python",
   "name": "python",
   "nbconvert_exporter": "python",
   "pygments_lexer": "ipython3",
   "version": "3.7.12"
  }
 },
 "nbformat": 4,
 "nbformat_minor": 5
}
