{
 "cells": [
  {
   "cell_type": "code",
   "execution_count": 1,
   "metadata": {},
   "outputs": [],
   "source": [
    "import numpy as np\n",
    "\n"
   ]
  },
  {
   "cell_type": "code",
   "execution_count": 25,
   "metadata": {},
   "outputs": [
    {
     "name": "stdout",
     "output_type": "stream",
     "text": [
      "starts ends:  [[ 1  2]\n",
      " [10 20]\n",
      " [30 34]\n",
      " [55 60]]\n",
      "starts ends:  [[10 20]\n",
      " [55 60]]\n",
      "[array([1., 1., 1., 1., 1., 1., 1., 1., 1., 1.]), array([1., 1., 1., 1., 1.])]\n",
      "[1. 1. 1. 1. 1. 1. 1. 1. 1. 1. 1. 1. 1. 1. 1.]\n"
     ]
    }
   ],
   "source": [
    "\n",
    "idx = np.zeros(100)\n",
    "\n",
    "idx[1:2] = 1\n",
    "idx[10:20] = 1\n",
    "idx[30:34] = 1\n",
    "idx[55:60] = 1\n",
    "\n",
    "# find all the 1's in idx that repeat for at least 5 consecutive values using scipy.signal.find_peaks\n",
    "from scipy.signal import find_peaks, peak_widths\n",
    "peaks, _ = find_peaks(idx)  # middle of the pluse/peak\n",
    "widths, heights, starts, ends = peak_widths(idx, peaks)\n",
    "\n",
    "#\n",
    "starts_ends = np.int32(np.vstack((starts, ends)).T+0.5)\n",
    "print (\"starts ends: \", starts_ends)\n",
    "\n",
    "# keep only starts_ends that are at least 5 in width\n",
    "starts_ends = starts_ends[widths >= 5]\n",
    "print (\"starts ends: \", starts_ends)\n",
    "\n",
    "# keep only starts_end from idx array\n",
    "idx2 = []\n",
    "for i in range(starts_ends.shape[0]):\n",
    "    idx2.append(idx[starts_ends[i,0]:starts_ends[i,1]])\n",
    "\n",
    "print (idx2)\n",
    "\n",
    "# flatten idx2\n",
    "idx2 = np.hstack(idx2)\n",
    "print (idx2)\n",
    "\n",
    "# make xticks fr\n"
   ]
  },
  {
   "cell_type": "code",
   "execution_count": null,
   "metadata": {},
   "outputs": [],
   "source": []
  }
 ],
 "metadata": {
  "kernelspec": {
   "display_name": "gerbil",
   "language": "python",
   "name": "python3"
  },
  "language_info": {
   "codemirror_mode": {
    "name": "ipython",
    "version": 3
   },
   "file_extension": ".py",
   "mimetype": "text/x-python",
   "name": "python",
   "nbconvert_exporter": "python",
   "pygments_lexer": "ipython3",
   "version": "3.7.0"
  },
  "orig_nbformat": 4
 },
 "nbformat": 4,
 "nbformat_minor": 2
}
