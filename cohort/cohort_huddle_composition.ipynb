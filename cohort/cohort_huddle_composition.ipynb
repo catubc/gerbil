{
 "cells": [
  {
   "cell_type": "code",
   "execution_count": 2,
   "id": "35748575",
   "metadata": {
    "tags": []
   },
   "outputs": [
    {
     "data": {
      "application/javascript": [
       "IPython.notebook.set_autosave_interval(180000)"
      ]
     },
     "metadata": {},
     "output_type": "display_data"
    },
    {
     "name": "stdout",
     "output_type": "stream",
     "text": [
      "Autosaving every 180 seconds\n"
     ]
    },
    {
     "data": {
      "text/html": [
       "<style>.container { width:100% !important; }</style>"
      ],
      "text/plain": [
       "<IPython.core.display.HTML object>"
      ]
     },
     "metadata": {},
     "output_type": "display_data"
    }
   ],
   "source": [
    "import matplotlib\n",
    "#%matplotlib tk\n",
    "%matplotlib inline\n",
    "%autosave 180\n",
    "%load_ext autoreload\n",
    "%autoreload 2\n",
    "\n",
    "import nest_asyncio\n",
    "\n",
    "%config Completer.use_jedi = False\n",
    "\n",
    "#\n",
    "import matplotlib.pyplot as plt\n",
    "from IPython.core.display import display, HTML\n",
    "display(HTML(\"<style>.container { width:100% !important; }</style>\"))\n",
    "\n",
    "# \n",
    "import matplotlib.cm as cm\n",
    "import numpy as np\n",
    "import os\n",
    "from tqdm import tqdm\n",
    "\n",
    "#\n",
    "import sys\n",
    "sys.path.append('/home/cat/code/gerbil/')\n",
    "\n",
    "# \n",
    "from utils.track import track\n",
    "from utils.convert import convert\n",
    "from utils.ethogram import ethogram\n",
    "from utils.cohort import cohort\n",
    "from utils.cohort.cohort import CohortProcessor\n",
    "from utils.ethogram import ethogram"
   ]
  },
  {
   "cell_type": "code",
   "execution_count": 3,
   "id": "1cd83edf",
   "metadata": {
    "tags": []
   },
   "outputs": [
    {
     "name": "stdout",
     "output_type": "stream",
     "text": [
      "DF:     Unnamed: 0  Cohort NN Type                                   Filename Dev Day  # of Gerbils Time of Light Switch  Shaved?  Predicted?                                     Slp filename Start time\n",
      "0           0       3     Day  2020_08_23_16_00_38_413695_compressed.mp4     P15             6                  NaN        1           1    2020_08_23_16_00_38_413695_compressed_Day.slp   16:00:38\n",
      "1           1       3     Day  2020_08_23_17_06_55_680620_compressed.mp4     P15             6                  NaN        1           1    2020_08_23_17_06_55_680620_compressed_Day.slp   17:06:55\n",
      "2           2       3     Day  2020_08_23_18_13_11_710750_compressed.mp4     P15             6                  NaN        1           1    2020_08_23_18_13_11_710750_compressed_Day.slp   18:13:11\n",
      "3           3       3    Both  2020_08_23_19_19_27_606024_compressed.mp4     P15             6    47:43, day, night        1           1    2020_08_23_19_19_27_606024_compressed_Day.slp   19:19:27\n",
      "4           4       3    Both  2020_08_23_19_19_27_606024_compressed.mp4     P15             6    47:43, day, night        1           1  2020_08_23_19_19_27_606024_compressed_Night.slp   19:19:27\n",
      "Loading only recordings with 6 animals...\n",
      " ... total # :  352  /  352\n"
     ]
    }
   ],
   "source": [
    "######################################################\n",
    "############# LOAD ANIMAL DATABASE ###################\n",
    "######################################################\n",
    "fname_spreadsheet = '/mnt/b3a68699-495d-4ebb-9ab1-ac74f11c68c5/gerbil/cohort3/database.xlsx'\n",
    "#fname_spreadsheet = '/media/cat/4TBSSD/dan/cohort2/P21_P28/database.xlsx'\n",
    "\n",
    "#\n",
    "cohort = cohort.CohortProcessor(fname_spreadsheet)\n",
    "#cohort.fname_spreadsheet = '/mnt/b3a68699-495d-4ebb-9ab1-ac74f11c68c5/gerbil/cohort2/database.xlsx'\n",
    "cohort.load_database()\n",
    "\n",
    "#\n",
    "cohort.ethogram = ethogram\n",
    "\n",
    "# print (list(zip(cohort.PDays,cohort.Start_times))[0])\n",
    "# print (list(zip(cohort.PDays,cohort.Start_times))[1])\n",
    "# print (list(zip(cohort.PDays,cohort.Start_times))[100])"
   ]
  },
  {
   "cell_type": "code",
   "execution_count": 4,
   "id": "b91ebfaf-55fd-4dc6-bb5e-8d75ce7caf08",
   "metadata": {
    "tags": []
   },
   "outputs": [
    {
     "name": "stdout",
     "output_type": "stream",
     "text": [
      " # of files:  352 example:  /mnt/b3a68699-495d-4ebb-9ab1-ac74f11c68c5/gerbil/cohort3/huddles/2020_08_23_16_00_38_413695_compressed_Day_huddle_spine_fixed_interpolated.npy\n",
      "# of feature tracks:  352 , missing:  0\n"
     ]
    },
    {
     "name": "stderr",
     "output_type": "stream",
     "text": [
      "100%|█████████████████████████████████████████| 352/352 [02:51<00:00,  2.05it/s]"
     ]
    },
    {
     "name": "stdout",
     "output_type": "stream",
     "text": [
      "# of huddle composition arrays:  352 (6, 3601)\n"
     ]
    },
    {
     "name": "stderr",
     "output_type": "stream",
     "text": [
      "\n"
     ]
    }
   ],
   "source": [
    "#################################################\n",
    "########### COMPUTE HUDDLE COMPOSITION ##########\n",
    "#################################################\n",
    "\n",
    "#\n",
    "cohort.video_frame_rate = 24\n",
    "cohort.parallel_flag = True\n",
    "\n",
    "# set the flags for the huddle corrections\n",
    "cohort.fix_track_flag = True\n",
    "cohort.interpolate_flag = True\n",
    "cohort.load_huddle_tracks()\n",
    "\n",
    "# # this just loads the _spine.npy files;\n",
    "cohort.use_nohuddle = True\n",
    "cohort.load_feature_tracks()\n",
    "\n",
    "# # this computes mode-based occupancy in the nest with 1min bins\n",
    "cohort.median_filter_width = cohort.video_frame_rate*5+1 # 1: there is no smotthing; n x frame rate gives you n seconds of somothing (always add 1 to get odd number)\n",
    "#cohort.n_frames_per_bin = cohort.video_frame_rate  # single second resolution\n",
    "cohort.n_frames_per_bin = cohort.video_frame_rate #*60  # single second resolution\n",
    "cohort.n_cores = 24\n",
    "cohort.compute_huddle_composition()\n",
    "print (\"# of huddle composition arrays: \", len(cohort.huddle_comps_binned), cohort.huddle_comps_binned[0].shape)\n"
   ]
  },
  {
   "cell_type": "code",
   "execution_count": 10,
   "id": "94043093-aa53-4900-93a4-98c20b048bd0",
   "metadata": {
    "tags": []
   },
   "outputs": [
    {
     "name": "stdout",
     "output_type": "stream",
     "text": [
      "size of img:  (86400, 96)  size of flatten image:  (1382400, 6)\n"
     ]
    },
    {
     "name": "stderr",
     "output_type": "stream",
     "text": [
      "100%|███████████████████████████████████████| 352/352 [00:00<00:00, 1070.98it/s]\n"
     ]
    }
   ],
   "source": [
    "#################################################\n",
    "########### DISPLAY HUDDLE COMPOSITION ##########\n",
    "#################################################\n",
    "%matplotlib qt\n",
    "\n",
    "#\n",
    "cohort.forward_padding = 20 # padding in percent\n",
    "cohort.generate_huddle_composition_ethograms()\n",
    "\n",
    "#\n",
    "cohort.show_huddle_composition_ethogram_all_animals()\n",
    "\n",
    "#\n",
    "#cohort.show_huddle_composition_ethogram_full_huddle()\n",
    "\n",
    "#\n",
    "animal_ids = np.arange(6)\n",
    "# cohort.show_huddle_composition_ethogram_specific_animals(animal_ids)\n"
   ]
  },
  {
   "cell_type": "code",
   "execution_count": 14,
   "id": "aae41b48-602f-456b-b621-94130d144054",
   "metadata": {
    "tags": []
   },
   "outputs": [],
   "source": [
    "np.save('/home/cat/Downloads/cohort3_huddle_comp.npy', cohort.huddle_ethogram)"
   ]
  },
  {
   "cell_type": "code",
   "execution_count": 19,
   "id": "ca79d8d9-0a9b-4ffb-b15a-1fb059093f8d",
   "metadata": {
    "tags": []
   },
   "outputs": [],
   "source": [
    "cohort.show_combined_ethogram()"
   ]
  },
  {
   "cell_type": "code",
   "execution_count": 104,
   "id": "615b5a23",
   "metadata": {},
   "outputs": [
    {
     "name": "stdout",
     "output_type": "stream",
     "text": [
      "(86400, 96)\n",
      "(6, 1382400)\n"
     ]
    }
   ],
   "source": [
    "##########################################################\n",
    "########### COMPUTE FLATTENED VERSION OF ETHOGRAM ########\n",
    "##########################################################\n",
    "\n",
    "# OPTIONAL\n",
    "# print (cohort.huddle_ethogram.shape)\n",
    "\n",
    "# # flatten the ethogram\n",
    "# ethogram_flat = []\n",
    "\n",
    "# for k in range(0,cohort.huddle_ethogram.shape[1],6):\n",
    "#     ethogram_flat.append(cohort.huddle_ethogram[:,k:k+6])\n",
    "# ethogram_flat = np.vstack(ethogram_flat).T\n",
    "# print (ethogram_flat.shape)\n",
    "\n",
    "# # optional visualize\n",
    "# if False:\n",
    "#     plt.figure()\n",
    "\n",
    "#     plt.imshow(ethogram_flat, aspect='auto', \n",
    "#                interpolation='none',  cmap='jet')\n",
    "#     plt.show()"
   ]
  },
  {
   "cell_type": "code",
   "execution_count": 16,
   "id": "8b52b8b1-1d9a-44f2-9e0b-3ec83a5ecdf4",
   "metadata": {
    "tags": []
   },
   "outputs": [
    {
     "name": "stdout",
     "output_type": "stream",
     "text": [
      "(6, 1382400)\n"
     ]
    },
    {
     "name": "stderr",
     "output_type": "stream",
     "text": [
      "100%|█████████████████████████████████████████████| 5/5 [01:19<00:00, 15.81s/it]\n",
      "100%|█████████████████████████████████████████████| 4/4 [01:03<00:00, 16.00s/it]\n",
      "100%|█████████████████████████████████████████████| 3/3 [00:46<00:00, 15.53s/it]\n",
      "100%|█████████████████████████████████████████████| 2/2 [00:30<00:00, 15.47s/it]\n",
      "100%|█████████████████████████████████████████████| 1/1 [00:15<00:00, 15.53s/it]\n",
      "0it [00:00, ?it/s]\n"
     ]
    }
   ],
   "source": [
    "##############################################################################\n",
    "########### COMPUTE FLATTENED VERSION OF ETHOGRAM + CORRELATION ARRAY ########\n",
    "##############################################################################\n",
    "\n",
    "# FIGURE 1: CORRELOGRAMS <- not super informative!\n",
    "# flatten the ethogram\n",
    "ethogram_flat = []\n",
    "\n",
    "for k in range(0,cohort.huddle_ethogram.shape[1],6):\n",
    "    ethogram_flat.append(cohort.huddle_ethogram[:,k:k+6])\n",
    "ethogram_flat = np.vstack(ethogram_flat).T\n",
    "print (ethogram_flat.shape)\n",
    "\n",
    "# compute the correlograms between each pair of animals\n",
    "from scipy.stats import pearsonr\n",
    "\n",
    "#\n",
    "window = 100\n",
    "t = np.arange(-window,window,1)\n",
    "from tqdm import trange \n",
    "\n",
    "#\n",
    "cc_array = []\n",
    "plt.figure()\n",
    "for k in range(6):\n",
    "    for p in trange(k+1,6,1):\n",
    "        cc = []\n",
    "        for z in range(-window, window,1):\n",
    "            cc.append(pearsonr(np.roll(ethogram_flat[k],z), \n",
    "                                    ethogram_flat[p])[0])\n",
    "        cc_array.append([k,p,cc])\n",
    "\n",
    "        #\n",
    "        ax=plt.subplot(6,6,k*6+p+1)\n",
    "        plt.plot(t,cc)\n",
    "        plt.plot([0,0],[-1,1],'--',c='black')\n",
    "#\n",
    "\n",
    "plt.show()"
   ]
  },
  {
   "cell_type": "code",
   "execution_count": 20,
   "id": "e6bfa765-f6bc-40d0-969b-6907d842e3da",
   "metadata": {
    "tags": []
   },
   "outputs": [
    {
     "name": "stdout",
     "output_type": "stream",
     "text": [
      "# animals, # seconds:  (6, 1382400)\n",
      "times:  [      0       1       2 ... 1382397 1382398 1382399]\n",
      "(6, 1382400)\n"
     ]
    }
   ],
   "source": [
    "####################################################\n",
    "########### SELECT DAY OF ETHOGRAM TO ANALYZ #######\n",
    "####################################################\n",
    "\n",
    "print (\"# animals, # seconds: \", ethogram_flat.shape)\n",
    "\n",
    "# here P15 is day 0 for clarity\n",
    "day_start = 0\n",
    "day_end = 16\n",
    "\n",
    "#\n",
    "times = np.arange(day_start*24*60*60,\n",
    "                  day_end*24*60*60)\n",
    "print (\"times: \", times)\n",
    "\n",
    "#\n",
    "ethogram_flat_selected = ethogram_flat[:,times].copy()\n",
    "print (ethogram_flat_selected.shape)\n",
    "\n",
    "\n"
   ]
  },
  {
   "cell_type": "code",
   "execution_count": 21,
   "id": "add804cc-9c3a-49fb-9b76-5b52e82f4c66",
   "metadata": {
    "tags": []
   },
   "outputs": [
    {
     "name": "stderr",
     "output_type": "stream",
     "text": [
      "100%|█████████████████████████████████████████████| 6/6 [02:39<00:00, 26.61s/it]\n"
     ]
    }
   ],
   "source": [
    "####################################################\n",
    "########### COMPUTE PAIR WISE SCATTER PLOTS ########\n",
    "####################################################\n",
    "\n",
    "%matplotlib qt\n",
    "\n",
    "plt.figure(figsize=(6,6))\n",
    "clrs = ['red','blue','green','black','purple','orange']\n",
    "clrs = ['#cb3311', '#4477aa', '#ccbb44', '#228833', '#ee7733', '#66ccee']\n",
    "markers = [\",\" , \"o\" , \"v\" , \"^\" , \"<\", \">\"]\n",
    "\n",
    "#\n",
    "follow_window = 10\n",
    "xlim=0\n",
    "ratios=[]\n",
    "for k in trange(6):\n",
    "# for k in [0]:\n",
    "    # for p in range(k+1,6,1):\n",
    "    for p in range(6):\n",
    "    # for p in [1]:\n",
    "        if k==p:\n",
    "            continue\n",
    "        t1 = ethogram_flat_selected[k].copy()\n",
    "        idx1 = np.where(t1>0)[0]\n",
    "        t1[idx1] = 1\n",
    "        t2 = ethogram_flat_selected[p].copy()\n",
    "        idx2 = np.where(t2>0)[0]\n",
    "        t2[idx2] = 1\n",
    "\n",
    "        # find order of events\n",
    "        a1 = 0     #the number of times animal 1 precedes animal 2\n",
    "        a2 = 0     # same but opposite order\n",
    "\n",
    "        #\n",
    "        ctr = 0\n",
    "        while ctr<idx1.shape[0]:\n",
    "        #for i in idx1:\n",
    "\n",
    "            # check to see if there is a switch from 0\n",
    "            if t2[idx1[ctr]]==0:\n",
    "                # to a 1 in the next window\n",
    "                if np.sum(t2[idx1[ctr]:idx1[ctr]+follow_window])>0:\n",
    "                    a1+=1\n",
    "\n",
    "                    # also advance the ctr value at least 10 sec\n",
    "                    ctr0 = ctr\n",
    "                    try:\n",
    "                        while idx1[ctr+1]<(idx1[ctr0]+follow_window) and (ctr<idx1.shape[0]-2):\n",
    "                            ctr+=1\n",
    "                            continue\n",
    "                    except:\n",
    "                        pass\n",
    "            ctr+=1\n",
    "\n",
    "        #\n",
    "        ctr = 0\n",
    "        while ctr<idx2.shape[0]:\n",
    "        #for i in idx1:\n",
    "\n",
    "            # check to see if there is a switch from 0\n",
    "            if t1[idx2[ctr]]==0:\n",
    "                # to a 1 in the next window\n",
    "                if np.sum(t1[idx2[ctr]:idx2[ctr]+follow_window])>0:\n",
    "                    a2+=1\n",
    "\n",
    "                    # also advance the ctr value at least 10 sec\n",
    "                    ctr0 = ctr\n",
    "                    try:\n",
    "                        while idx2[ctr+1]<(idx2[ctr0]+follow_window) and (ctr<idx2.shape[0]-2):\n",
    "                            ctr+=1\n",
    "                            continue\n",
    "                    except:\n",
    "                        pass\n",
    "            ctr+=1\n",
    "        xlim = np.max((xlim,a1,a2))\n",
    "        plt.scatter(a1,\n",
    "                    a2,\n",
    "                    #marker=markers[k],\n",
    "                    marker=markers[p],\n",
    "                    s=100,\n",
    "                    #c=clrs[p],\n",
    "                    c=clrs[k],\n",
    "\n",
    "                    label=str(k)+'->'+str(p))\n",
    "\n",
    "\n",
    "        # print (\"animal1 : \", k, \", animal2: \", p, \"# of leading behaviours: \", a1)\n",
    "        # print (\"animal1 : \", k, \", animal2: \", p, \"# of following behaviours: \", a2)\n",
    "        ratio = a1/(a1+a2)\n",
    "        # print (\"ratio: \", ratio)\n",
    "        ratios.append([a1,a2,ratio])\n",
    "        #print (\"a2: \", a2)\n",
    "#\n",
    "plt.plot([0,xlim*1.25],[0,xlim*1.25],'--',c='black')\n",
    "plt.legend(fontsize=8, ncol=6)\n",
    "plt.title(\"# of behavior sequences (1sec resulution; 10sec follow window))\")\n",
    "plt.xlim(0,700) \n",
    "# plt.xlim(left=0)\n",
    "plt.ylim(0,700) \n",
    "# plt.ylim(bottom=0)\n",
    "plt.title(\"start day: \"+str(day_start) + \",  day end: \"+str(day_end))\n",
    "plt.xlabel(\"Animal 1 precedes animal 2\")\n",
    "plt.ylabel(\"Animal 2 precedes animal 1\")\n",
    "plt.show()\n",
    "# plt.savefig('/home/cat/Downloads/P26-.png')\n"
   ]
  },
  {
   "cell_type": "code",
   "execution_count": 33,
   "id": "65bb3243-beeb-400d-b165-4a3d93b71195",
   "metadata": {
    "tags": []
   },
   "outputs": [
    {
     "name": "stdout",
     "output_type": "stream",
     "text": [
      "times:  [    0     1     2 ... 86397 86398 86399]\n",
      "times:  [ 86400  86401  86402 ... 172797 172798 172799]\n",
      "times:  [172800 172801 172802 ... 259197 259198 259199]\n",
      "times:  [259200 259201 259202 ... 345597 345598 345599]\n",
      "times:  [345600 345601 345602 ... 431997 431998 431999]\n",
      "times:  [432000 432001 432002 ... 518397 518398 518399]\n",
      "times:  [518400 518401 518402 ... 604797 604798 604799]\n",
      "times:  [604800 604801 604802 ... 691197 691198 691199]\n",
      "times:  [691200 691201 691202 ... 777597 777598 777599]\n",
      "times:  [777600 777601 777602 ... 863997 863998 863999]\n",
      "times:  [864000 864001 864002 ... 950397 950398 950399]\n",
      "times:  [ 950400  950401  950402 ... 1036797 1036798 1036799]\n",
      "times:  [1036800 1036801 1036802 ... 1123197 1123198 1123199]\n",
      "times:  [1123200 1123201 1123202 ... 1209597 1209598 1209599]\n",
      "times:  [1209600 1209601 1209602 ... 1295997 1295998 1295999]\n",
      "times:  [1296000 1296001 1296002 ... 1382397 1382398 1382399]\n",
      "DONE...\n"
     ]
    }
   ],
   "source": [
    "#########################################################################################\n",
    "########### COMPUTE PAIR WISE SCATTER PLOTS - FOR SINGLE ANIMAL OVER DEVELOPMENT ########\n",
    "#########################################################################################\n",
    "\n",
    "plt.figure(figsize=(6,6))\n",
    "clrs = ['red','blue','green','black','purple','orange']\n",
    "clrs = ['#cb3311', '#4477aa', '#ccbb44', '#228833', '#ee7733', '#66ccee']\n",
    "markers = [\",\" , \"o\" , \"v\" , \"^\" , \"<\", \">\"]\n",
    "\n",
    "#\n",
    "follow_window = 10\n",
    "xlim=0\n",
    "ratios = np.empty((16,6,6))\n",
    "ratios[:] = np.nan\n",
    "\n",
    "day_starts = np.arange(17)\n",
    "day_ends = np.arange(1,17,1)\n",
    "\n",
    "for d in range(16):\n",
    "    day_start = day_starts[d]\n",
    "    day_end = day_ends[d]\n",
    "    #\n",
    "    times = np.arange(day_start*24*60*60,\n",
    "                      day_end*24*60*60)\n",
    "    print (\"times: \", times)\n",
    "\n",
    "    #\n",
    "    ethogram_flat_selected = ethogram_flat[:,times].copy()\n",
    "\n",
    "    #for k in trange(6):\n",
    "    for k in [1]:\n",
    "        #for p in range(k+1,6,1):\n",
    "        for p in range(6):\n",
    "        # for p in [3]:\n",
    "            if k==p:\n",
    "                continue\n",
    "            t1 = ethogram_flat_selected[k].copy()\n",
    "            idx1 = np.where(t1>0)[0]\n",
    "            t1[idx1] = 1\n",
    "            t2 = ethogram_flat_selected[p].copy()\n",
    "            idx2 = np.where(t2>0)[0]\n",
    "            t2[idx2] = 1\n",
    "\n",
    "            # find order of events\n",
    "            a1 = 0     #the number of times animal 1 precedes animal 2\n",
    "            a2 = 0     # same but opposite order\n",
    "\n",
    "            #\n",
    "            ctr = 0\n",
    "            while ctr<idx1.shape[0]:\n",
    "            #for i in idx1:\n",
    "\n",
    "                # check to see if there is a switch from 0\n",
    "                if t2[idx1[ctr]]==0:\n",
    "                    # to a 1 in the next window\n",
    "                    if np.sum(t2[idx1[ctr]:idx1[ctr]+follow_window])>0:\n",
    "                        a1+=1\n",
    "\n",
    "                        # also advance the ctr value at least 10 sec\n",
    "                        ctr0 = ctr\n",
    "                        try:\n",
    "                            while idx1[ctr+1]<(idx1[ctr0]+follow_window) and (ctr<idx1.shape[0]-2):\n",
    "                                ctr+=1\n",
    "                                continue\n",
    "                        except:\n",
    "                            pass\n",
    "                ctr+=1\n",
    "\n",
    "            #\n",
    "            ctr = 0\n",
    "            while ctr<idx2.shape[0]:\n",
    "            #for i in idx1:\n",
    "\n",
    "                # check to see if there is a switch from 0\n",
    "                if t1[idx2[ctr]]==0:\n",
    "                    # to a 1 in the next window\n",
    "                    if np.sum(t1[idx2[ctr]:idx2[ctr]+follow_window])>0:\n",
    "                        a2+=1\n",
    "\n",
    "                        # also advance the ctr value at least 10 sec\n",
    "                        ctr0 = ctr\n",
    "                        try:\n",
    "                            while idx2[ctr+1]<(idx2[ctr0]+follow_window) and (ctr<idx2.shape[0]-2):\n",
    "                                ctr+=1\n",
    "                                continue\n",
    "                        except:\n",
    "                            pass\n",
    "                ctr+=1\n",
    "            xlim = np.max((xlim,a1,a2))\n",
    "            \n",
    "            # plt.scatter(a1,\n",
    "            #             a2,\n",
    "            #             #marker=markers[k],\n",
    "            #             marker=markers[p],\n",
    "            #             # alpha = a,\n",
    "            #             s=100,\n",
    "            #             c=clrs[p],\n",
    "            #             # c=clrs[k],\n",
    "            #             label=str(k)+'->'+str(p))\n",
    "\n",
    "\n",
    "            # print (\"animal1 : \", k, \", animal2: \", p, \"# of leading behaviours: \", a1)\n",
    "            # print (\"animal1 : \", k, \", animal2: \", p, \"# of following behaviours: \", a2)\n",
    "            ratio = a1/(a1+a2)\n",
    "            # print (\"ratio: \", ratio)\n",
    "            # ratios.append(ratio)\n",
    "            #print (d,p,k)\n",
    "            ratios[d,p,k] = ratio\n",
    "            #print (\"a2: \", a2)\n",
    "    #\n",
    "# plt.plot([0,xlim*1.25],[0,xlim*1.25],'--',c='black')\n",
    "# plt.legend(fontsize=8, ncol=6)\n",
    "# plt.title(\"# of behavior sequences (1sec resulution; 10sec follow window))\")\n",
    "# plt.xlim(0,700) \n",
    "# # plt.xlim(left=0)\n",
    "# plt.ylim(0,700) \n",
    "# # plt.ylim(bottom=0)\n",
    "# plt.title(\"start day: \"+str(day_start) + \",  day end: \"+str(day_end))\n",
    "# plt.xlabel(\"Animal 1 precedes animal 2\")\n",
    "# plt.ylabel(\"Animal 2 precedes animal 1\")\n",
    "# plt.show()\n",
    "# plt.savefig('/home/cat/Downloads/P17.png')\n",
    "print (\"DONE...\")\n",
    "# ratios"
   ]
  },
  {
   "cell_type": "code",
   "execution_count": 34,
   "id": "a7aec682-fba2-4b6c-84ef-f293d08cc1a3",
   "metadata": {
    "tags": []
   },
   "outputs": [],
   "source": [
    "np.save('/home/cat/Downloads/cohort3_ratios.npy', ratios)"
   ]
  },
  {
   "cell_type": "code",
   "execution_count": 35,
   "id": "cd6423eb-0419-439f-b08f-ba30151d2cd3",
   "metadata": {
    "tags": []
   },
   "outputs": [
    {
     "data": {
      "text/plain": [
       "(16, 6, 6)"
      ]
     },
     "execution_count": 35,
     "metadata": {},
     "output_type": "execute_result"
    }
   ],
   "source": [
    "ratios.shape"
   ]
  },
  {
   "cell_type": "code",
   "execution_count": 57,
   "id": "eafe0f61-9af0-446f-81fd-82bc2f79c0a3",
   "metadata": {
    "tags": []
   },
   "outputs": [
    {
     "data": {
      "text/plain": [
       "[0.8539857306528456,\n",
       " 0.7694813224517404,\n",
       " 0.7322209906583048,\n",
       " 0.7695127147796919,\n",
       " 0.6046667594776838,\n",
       " 0.6243599160470578,\n",
       " 0.6190702561939789,\n",
       " 0.6252256095932701,\n",
       " 0.5593026318295464,\n",
       " 0.5222075822998591,\n",
       " 0.5969263611231177,\n",
       " 0.5537297019231595,\n",
       " 0.5609164266377038,\n",
       " 0.4233959808454939,\n",
       " 0.43136218757139,\n",
       " 0.6021275461515856]"
      ]
     },
     "execution_count": 57,
     "metadata": {},
     "output_type": "execute_result"
    }
   ],
   "source": [
    "adults_vs_pups = np.nanmean(np.nanmean(ratios[:,2:,0:2], axis = 2), axis = 1)\n",
    "adults_vs_pups = [1 - x for x in adults_vs_pups]\n",
    "adults_vs_pups"
   ]
  },
  {
   "cell_type": "code",
   "execution_count": 61,
   "id": "cdd72926-3254-4853-8d1b-759296e5ac07",
   "metadata": {
    "tags": []
   },
   "outputs": [
    {
     "data": {
      "text/plain": [
       "array([0.43971631, 0.56065089, 0.49910873, 0.40378007, 0.47107438,\n",
       "       0.52837327, 0.48431105, 0.46779141, 0.5988024 , 0.5597561 ,\n",
       "       0.48412698, 0.52741228, 0.44275701, 0.53666667, 0.51338766,\n",
       "       0.44957265])"
      ]
     },
     "execution_count": 61,
     "metadata": {},
     "output_type": "execute_result"
    }
   ],
   "source": [
    "male_vs_female = ratios[:,0,1]\n",
    "male_vs_female"
   ]
  },
  {
   "cell_type": "code",
   "execution_count": 62,
   "id": "a4748c06-4b38-4bca-a4e7-a8f150f53e95",
   "metadata": {
    "tags": []
   },
   "outputs": [
    {
     "name": "stdout",
     "output_type": "stream",
     "text": [
      "(16, 6, 6)\n"
     ]
    },
    {
     "name": "stderr",
     "output_type": "stream",
     "text": [
      "Gtk-Message: 11:27:46.469: GtkDialog mapped without a transient parent. This is discouraged.\n",
      "Gtk-Message: 11:28:02.455: GtkDialog mapped without a transient parent. This is discouraged.\n"
     ]
    }
   ],
   "source": [
    "%matplotlib qt\n",
    "\n",
    "print (ratios.shape)\n",
    "\n",
    "plt.figure()\n",
    "\n",
    "plt.plot(adults_vs_pups, color ='black', marker = 'o', linewidth = 3, label = 'all pups')\n",
    "plt.plot(male_vs_female, color ='red', marker = 'o', linewidth = 3)\n",
    "    \n",
    "plt.xlim(0,15)\n",
    "plt.xticks(ticks = np.arange(0,16), labels = np.arange(15,31))\n",
    "plt.xlabel(\"Postnatal day\")\n",
    "\n",
    "plt.ylim(0,1)\n",
    "plt.yticks(np.arange(0,1.1,0.1))\n",
    "plt.ylabel(\"Leader / Follower ratio\")\n",
    "\n",
    "plt.hlines(0.5,0,15, color = 'black', linestyle = 'dashdot')\n",
    "\n",
    "plt.legend()\n",
    "\n",
    "plt.title(\"Adults  vs All pups\")\n",
    "\n",
    "# plt.fill_between(np.arange(0,16), np.array([t-s for t,s in zip(test,sdt)]), np.array([t+s for t,s in zip(test,sdt)]))\n",
    "\n",
    "plt.show()\n"
   ]
  },
  {
   "cell_type": "code",
   "execution_count": 9,
   "id": "ef175a13-b3b1-4575-af98-fb54e57b0e58",
   "metadata": {
    "tags": []
   },
   "outputs": [
    {
     "name": "stdout",
     "output_type": "stream",
     "text": [
      "(16, 6, 6)\n"
     ]
    },
    {
     "name": "stderr",
     "output_type": "stream",
     "text": [
      "Gtk-Message: 12:23:48.983: GtkDialog mapped without a transient parent. This is discouraged.\n",
      "\n",
      "(python:5649): Gtk-WARNING **: 12:23:49.215: Failed to measure available space: The specified location is not supported\n"
     ]
    }
   ],
   "source": [
    "%matplotlib qt\n",
    "\n",
    "print (ratios.shape)\n",
    "\n",
    "animals = ['female', 'male', 'pup1', 'pup2', 'pup3', 'pup4']\n",
    "\n",
    "plt.figure()\n",
    "\n",
    "clrs = ['#cb3311', '#4477aa', '#ccbb44', '#228833', '#ee7733', '#66ccee']\n",
    "\n",
    "for i, a in enumerate(clrs):\n",
    "    \n",
    "    plt.plot(ratios[:,i,1], color = a, linewidth = 3, label = animals[i])\n",
    "    \n",
    "    plt.xlim(0,15)\n",
    "    plt.xticks(ticks = np.arange(0,16), labels = np.arange(15,31))\n",
    "    plt.xlabel(\"Postnatal day\")\n",
    "    \n",
    "    plt.ylim(0,1)\n",
    "    plt.yticks(np.arange(0,1.1,0.1))\n",
    "    plt.ylabel(\"Leader / Follower ratio\")\n",
    "    \n",
    "    plt.hlines(0.5,0,15, color = 'black', linestyle = 'dashdot')\n",
    "    \n",
    "    plt.legend()\n",
    "    \n",
    "    plt.title(\"Male\")\n",
    "\n",
    "plt.show()\n"
   ]
  },
  {
   "cell_type": "code",
   "execution_count": null,
   "id": "2204bd79-70b1-41a8-ada5-0cc951c68e3d",
   "metadata": {},
   "outputs": [],
   "source": []
  },
  {
   "cell_type": "code",
   "execution_count": null,
   "id": "12dce189-65d1-447d-a6cd-d8d9b9c3f905",
   "metadata": {},
   "outputs": [],
   "source": []
  },
  {
   "cell_type": "code",
   "execution_count": null,
   "id": "2fbf457c-e84f-4108-a991-6d37fb1b0f6c",
   "metadata": {},
   "outputs": [],
   "source": []
  },
  {
   "cell_type": "code",
   "execution_count": null,
   "id": "51d3ce12-fd48-474c-addd-d01e23d45c06",
   "metadata": {},
   "outputs": [],
   "source": []
  },
  {
   "cell_type": "code",
   "execution_count": null,
   "id": "609cc33f-a807-40c9-8b5b-e45f4c32b40d",
   "metadata": {},
   "outputs": [],
   "source": []
  },
  {
   "cell_type": "code",
   "execution_count": null,
   "id": "94000d6a-9db8-4ea6-9a8e-0cbf424f5710",
   "metadata": {},
   "outputs": [],
   "source": []
  },
  {
   "cell_type": "code",
   "execution_count": null,
   "id": "a719e593-ef45-4dba-9ab5-f5aa5be8c448",
   "metadata": {},
   "outputs": [],
   "source": []
  },
  {
   "cell_type": "code",
   "execution_count": null,
   "id": "2a4eff95-0768-41a5-9a7d-098936e9298e",
   "metadata": {},
   "outputs": [],
   "source": []
  },
  {
   "cell_type": "code",
   "execution_count": null,
   "id": "fb88202f-fdcd-4fac-890f-421eda3bb6d0",
   "metadata": {},
   "outputs": [],
   "source": []
  },
  {
   "cell_type": "code",
   "execution_count": null,
   "id": "45f4f1c3-0f5f-4a67-827a-5ba613bc3292",
   "metadata": {},
   "outputs": [],
   "source": []
  },
  {
   "cell_type": "code",
   "execution_count": null,
   "id": "9d5e0288-5ece-4f2a-ba0e-2e5626d68ae5",
   "metadata": {},
   "outputs": [],
   "source": []
  },
  {
   "cell_type": "code",
   "execution_count": null,
   "id": "fa30a113-4dc7-431a-bff6-d058f29e3456",
   "metadata": {},
   "outputs": [],
   "source": []
  },
  {
   "cell_type": "code",
   "execution_count": null,
   "id": "49de6031-44cf-4e5c-a07f-1f0c0293bfd2",
   "metadata": {},
   "outputs": [],
   "source": []
  }
 ],
 "metadata": {
  "kernelspec": {
   "display_name": "sleap_new",
   "language": "python",
   "name": "sleap_new"
  },
  "language_info": {
   "codemirror_mode": {
    "name": "ipython",
    "version": 3
   },
   "file_extension": ".py",
   "mimetype": "text/x-python",
   "name": "python",
   "nbconvert_exporter": "python",
   "pygments_lexer": "ipython3",
   "version": "3.7.12"
  }
 },
 "nbformat": 4,
 "nbformat_minor": 5
}
