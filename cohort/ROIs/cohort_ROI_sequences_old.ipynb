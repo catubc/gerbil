{
 "cells": [
  {
   "cell_type": "code",
   "execution_count": 1,
   "id": "35748575",
   "metadata": {
    "tags": []
   },
   "outputs": [
    {
     "data": {
      "application/javascript": [
       "IPython.notebook.set_autosave_interval(180000)"
      ]
     },
     "metadata": {},
     "output_type": "display_data"
    },
    {
     "name": "stdout",
     "output_type": "stream",
     "text": [
      "Autosaving every 180 seconds\n"
     ]
    },
    {
     "data": {
      "text/html": [
       "<style>.container { width:100% !important; }</style>"
      ],
      "text/plain": [
       "<IPython.core.display.HTML object>"
      ]
     },
     "metadata": {},
     "output_type": "display_data"
    }
   ],
   "source": [
    "import matplotlib\n",
    "%matplotlib tk\n",
    "#matplotlib inline\n",
    "%autosave 180\n",
    "%load_ext autoreload\n",
    "%autoreload 2\n",
    "\n",
    "import nest_asyncio\n",
    "\n",
    "%config Completer.use_jedi = False\n",
    "\n",
    "#\n",
    "import matplotlib.pyplot as plt\n",
    "from IPython.core.display import display, HTML\n",
    "display(HTML(\"<style>.container { width:100% !important; }</style>\"))\n",
    "\n",
    "# \n",
    "import matplotlib.cm as cm\n",
    "import numpy as np\n",
    "import os\n",
    "from tqdm import tqdm\n",
    "\n",
    "#\n",
    "import sys\n",
    "sys.path.append('/home/cat/code/gerbil/')\n",
    "\n",
    "# \n",
    "from utils.track import track\n",
    "from utils.convert import convert\n",
    "from utils.ethogram import ethogram\n",
    "from utils.cohort import cohort\n",
    "from utils.ethogram import ethogram"
   ]
  },
  {
   "cell_type": "code",
   "execution_count": 2,
   "id": "1cd83edf",
   "metadata": {
    "tags": []
   },
   "outputs": [
    {
     "name": "stdout",
     "output_type": "stream",
     "text": [
      "DF:     Unnamed: 0  Cohort NN Type                                   Filename Dev Day  # of Gerbils Time of Light Switch  Shaved?  Predicted?                                   Slp filename Start time\n",
      "0           0       2     Day  2020_07_20_09_53_59_813912_compressed.mp4     P15             6                  NaN        1           1  2020_07_20_09_53_59_813912_compressed_Day.slp   09:53:59\n",
      "1           1       2     Day  2020_07_20_10_16_08_629297_compressed.mp4     P15             6                  NaN        1           1  2020_07_20_10_16_08_629297_compressed_Day.slp   10:16:08\n",
      "2           2       2     Day  2020_07_20_10_38_20_043555_compressed.mp4     P15             6                  NaN        1           1  2020_07_20_10_38_20_043555_compressed_Day.slp   10:38:20\n",
      "3           3       2     Day  2020_07_20_11_00_31_566455_compressed.mp4     P15             6                  NaN        1           1  2020_07_20_11_00_31_566455_compressed_Day.slp   11:00:31\n",
      "4           4       2     Day  2020_07_20_11_22_36_823934_compressed.mp4     P15             6                  NaN        1           1  2020_07_20_11_22_36_823934_compressed_Day.slp   11:22:36\n",
      "Loading only recordings with 6 animals...\n",
      " ... total # :  991  /  991\n"
     ]
    }
   ],
   "source": [
    "######################################################\n",
    "############# LOAD ANIMAL DATABASE ###################\n",
    "######################################################\n",
    "fname_spreadsheet = '/mnt/b3a68699-495d-4ebb-9ab1-ac74f11c68c5/gerbil/cohort2/database.xlsx'\n",
    "#fname_spreadsheet = '/media/cat/4TBSSD/dan/cohort2/P21_P28/database.xlsx'\n",
    "\n",
    "#\n",
    "cohort = cohort.CohortProcessor(fname_spreadsheet)\n",
    "#cohort.fname_spreadsheet = '/mnt/b3a68699-495d-4ebb-9ab1-ac74f11c68c5/gerbil/cohort2/database.xlsx'\n",
    "cohort.load_database()\n",
    "\n",
    "#\n",
    "cohort.ethogram = ethogram\n",
    "\n",
    "# print (list(zip(cohort.PDays,cohort.Start_times))[0])\n",
    "# print (list(zip(cohort.PDays,cohort.Start_times))[1])\n",
    "# print (list(zip(cohort.PDays,cohort.Start_times))[100])"
   ]
  },
  {
   "cell_type": "code",
   "execution_count": 4,
   "id": "8b1fb489-ac75-4272-9b41-537719d21cad",
   "metadata": {
    "tags": []
   },
   "outputs": [
    {
     "name": "stdout",
     "output_type": "stream",
     "text": [
      "<generator object at 0x7fdfa8d67680>\n",
      "(28802, 6, 2)\n",
      "rectangular coords:  [[265.25682382 628.03109299]\n",
      " [601.13771712 519.01602048]]\n",
      "circular coords:  [[0. 0.]\n",
      " [0. 0.]]\n"
     ]
    }
   ],
   "source": [
    "################################################\n",
    "########### CREATE ROI OF INTEREST #############\n",
    "################################################\n",
    "# need to select 1 video and 1 slp for visualization purposes;\n",
    "# make sure the video is shirnk cropped and matches the traces from the slop also.\n",
    "\n",
    "# cohort 2\n",
    "cohort.fname_video ='/mnt/b3a68699-495d-4ebb-9ab1-ac74f11c68c5/gerbil/cohort2/2020_07_26_00_05_52_835502_compressed_defished_shrink_cropped.mp4'\n",
    "cohort.fname_slp_npy =  '/mnt/b3a68699-495d-4ebb-9ab1-ac74f11c68c5/gerbil/cohort2/features/2020_07_26_00_05_52_835502_compressed_Night_spine.npy'\n",
    "\n",
    "# cohort 3 (works for 4 as well)\n",
    "#cohort.fname_video = '/mnt/b3a68699-495d-4ebb-9ab1-ac74f11c68c5/gerbil/cohort3/2020_08_26_19_08_47_120266_compressed_shrink_cropped.mp4'\n",
    "#cohort.fname_slp_npy =  '/mnt/b3a68699-495d-4ebb-9ab1-ac74f11c68c5/gerbil/cohort3/features/2020_08_26_19_08_47_120266_compressed_Day_spine.npy'\n",
    "\n",
    "# cat's workstation; comment out\n",
    "# cohort.fname_video ='/media/cat/4TBSSD/dan/cohort2/P21_P28/2020_07_26_00_05_52_835502_compressed_defished_shrink_cropped.mp4'\n",
    "# cohort.fname_slp_npy =  '/media/cat/4TBSSD/dan/cohort2/P21_P28/features/2020_07_26_00_05_52_835502_compressed_Night_spine.npy'\n",
    "\n",
    "\n",
    "# cohorts 2\n",
    "cohort.max_x = 900\n",
    "cohort.max_y = 700\n",
    "\n",
    "# cohorts 3 and 4\n",
    "#cohort.max_x = 1160\n",
    "#cohort.max_y = 830\n",
    "\n",
    "#\n",
    "cohort.load_video2()\n",
    "\n",
    "#\n",
    "cohort.set_roi()\n",
    "\n",
    "print (\"rectangular coords: \", cohort.rect_coords)\n",
    "print (\"circular coords: \", cohort.circle_coords)"
   ]
  },
  {
   "cell_type": "code",
   "execution_count": 5,
   "id": "2248429a-f04f-4240-aa1c-8de06bd55338",
   "metadata": {
    "tags": []
   },
   "outputs": [
    {
     "name": "stderr",
     "output_type": "stream",
     "text": [
      "100%|███████████████████████████████████████| 1500/1500 [00:30<00:00, 49.28it/s]\n"
     ]
    },
    {
     "ename": "AttributeError",
     "evalue": "'CohortProcessor' object has no attribute 'recompute'",
     "output_type": "error",
     "traceback": [
      "\u001b[0;31m---------------------------------------------------------------------------\u001b[0m",
      "\u001b[0;31mAttributeError\u001b[0m                            Traceback (most recent call last)",
      "\u001b[0;32m/tmp/ipykernel_19766/117112157.py\u001b[0m in \u001b[0;36m<module>\u001b[0;34m\u001b[0m\n\u001b[1;32m     30\u001b[0m                                       \u001b[0mbehavior_name\u001b[0m\u001b[0;34m,\u001b[0m\u001b[0;34m\u001b[0m\u001b[0;34m\u001b[0m\u001b[0m\n\u001b[1;32m     31\u001b[0m                                       \u001b[0mcohort\u001b[0m\u001b[0;34m,\u001b[0m\u001b[0;34m\u001b[0m\u001b[0;34m\u001b[0m\u001b[0m\n\u001b[0;32m---> 32\u001b[0;31m                                       cohort.exclude_huddles)\n\u001b[0m\u001b[1;32m     33\u001b[0m \u001b[0mprint\u001b[0m \u001b[0;34m(\u001b[0m\u001b[0;34m\"DONE\"\u001b[0m\u001b[0;34m)\u001b[0m\u001b[0;34m\u001b[0m\u001b[0;34m\u001b[0m\u001b[0m\n",
      "\u001b[0;32m~/code/gerbil/utils/ethogram/ethogram.py\u001b[0m in \u001b[0;36mgenerate_ethogram_hourly\u001b[0;34m(behavior_name, cohort, exclude_huddles)\u001b[0m\n\u001b[1;32m   1277\u001b[0m                              +str(exclude_huddles)+ '.npy')\n\u001b[1;32m   1278\u001b[0m \u001b[0;34m\u001b[0m\u001b[0m\n\u001b[0;32m-> 1279\u001b[0;31m     \u001b[0;32mif\u001b[0m \u001b[0mos\u001b[0m\u001b[0;34m.\u001b[0m\u001b[0mpath\u001b[0m\u001b[0;34m.\u001b[0m\u001b[0mexists\u001b[0m\u001b[0;34m(\u001b[0m\u001b[0mfname_out\u001b[0m\u001b[0;34m)\u001b[0m \u001b[0;32mand\u001b[0m \u001b[0mcohort\u001b[0m\u001b[0;34m.\u001b[0m\u001b[0mrecompute\u001b[0m\u001b[0;34m==\u001b[0m\u001b[0;32mFalse\u001b[0m\u001b[0;34m:\u001b[0m\u001b[0;34m\u001b[0m\u001b[0;34m\u001b[0m\u001b[0m\n\u001b[0m\u001b[1;32m   1280\u001b[0m         \u001b[0;32mreturn\u001b[0m \u001b[0;32mNone\u001b[0m\u001b[0;34m\u001b[0m\u001b[0;34m\u001b[0m\u001b[0m\n\u001b[1;32m   1281\u001b[0m \u001b[0;34m\u001b[0m\u001b[0m\n",
      "\u001b[0;31mAttributeError\u001b[0m: 'CohortProcessor' object has no attribute 'recompute'"
     ]
    }
   ],
   "source": [
    "################################################\n",
    "########### COMPUTE CIRCLE OCCUPANCY ###########\n",
    "################################################\n",
    "\n",
    "#\n",
    "behavior_name = 'rectangular_region'   # \"circular_region' or 'rectangular_region\"\n",
    "\n",
    "# select animals\n",
    "cohort.exclude_huddles = True\n",
    "\n",
    "# select animals\n",
    "animal_ids = [0,1,2,3,4,5]\n",
    "animal_ids = [0]\n",
    "\n",
    "#\n",
    "for animal_id in animal_ids:\n",
    "\n",
    "    #\n",
    "    #cohort.animals = animal_id\n",
    "    cohort.animal_ids = animal_id\n",
    "\n",
    "    #\n",
    "    cohort.get_circle_occupancy(cohort.animal_ids)\n",
    "\n",
    "    #\n",
    "    cohort.format_behavior()\n",
    "    \n",
    "    #\n",
    "    ethogram.generate_ethogram_hourly( \n",
    "                                      behavior_name,\n",
    "                                      cohort,\n",
    "                                      cohort.exclude_huddles)\n",
    "print (\"DONE\")"
   ]
  },
  {
   "cell_type": "code",
   "execution_count": null,
   "id": "8fb8ccc0-2391-40e8-bf6d-c9e725a1b7cd",
   "metadata": {},
   "outputs": [],
   "source": []
  },
  {
   "cell_type": "code",
   "execution_count": null,
   "id": "fabeb014-23dc-4691-9ad8-279c9790e6da",
   "metadata": {},
   "outputs": [],
   "source": []
  },
  {
   "cell_type": "code",
   "execution_count": null,
   "id": "d7864425-37af-4a56-ac27-bbf5ba6ab4fa",
   "metadata": {},
   "outputs": [],
   "source": []
  },
  {
   "cell_type": "code",
   "execution_count": null,
   "id": "3012faf4-a5f7-421a-b5e7-f90abde496f5",
   "metadata": {},
   "outputs": [],
   "source": []
  },
  {
   "cell_type": "code",
   "execution_count": null,
   "id": "ff39b48e-69cc-49fb-8cfa-69d3ce13eb18",
   "metadata": {},
   "outputs": [],
   "source": []
  },
  {
   "cell_type": "code",
   "execution_count": null,
   "id": "2d122cd9-11fb-4781-91c7-d5fd1405a0d7",
   "metadata": {},
   "outputs": [],
   "source": []
  },
  {
   "cell_type": "code",
   "execution_count": null,
   "id": "6acea09c-43ae-40d7-8fae-f228a5b04278",
   "metadata": {},
   "outputs": [],
   "source": []
  },
  {
   "cell_type": "code",
   "execution_count": null,
   "id": "12c204c9-d6eb-40a3-aab1-226eac101b9c",
   "metadata": {},
   "outputs": [],
   "source": []
  },
  {
   "cell_type": "code",
   "execution_count": 11,
   "id": "e6bfa765-f6bc-40d0-969b-6907d842e3da",
   "metadata": {
    "tags": []
   },
   "outputs": [
    {
     "name": "stdout",
     "output_type": "stream",
     "text": [
      "(6, 1382400)\n",
      "# animals, # seconds:  (6, 1382400)\n",
      "(6, 1382400)\n"
     ]
    }
   ],
   "source": [
    "####################################################\n",
    "########### SELECT DAY OF ETHOGRAM TO ANALYZ #######\n",
    "####################################################\n",
    "\n",
    "# NEED TO run previous cell to compute \"huddle_ethogram\" values\n",
    "\n",
    "#\n",
    "ethogram_flat = []\n",
    "\n",
    "for k in range(0,cohort.huddle_ethogram.shape[1],7):\n",
    "    ethogram_flat.append(cohort.huddle_ethogram[:,k:k+6])\n",
    "ethogram_flat = np.vstack(ethogram_flat).T\n",
    "print (ethogram_flat.shape)\n",
    "\n",
    "# here P15 is day 0 for clarity\n",
    "day_start = 0\n",
    "day_end = 16\n",
    "\n",
    "#\n",
    "times = np.arange(day_start*24*60*60,\n",
    "                  day_end*24*60*60)\n",
    "print (\"# animals, # seconds: \", ethogram_flat.shape)\n",
    "\n",
    "#\n",
    "ethogram_flat_selected = ethogram_flat[:,times].copy()\n",
    "print (ethogram_flat_selected.shape)\n",
    "\n",
    "\n"
   ]
  },
  {
   "cell_type": "code",
   "execution_count": 12,
   "id": "add804cc-9c3a-49fb-9b76-5b52e82f4c66",
   "metadata": {
    "tags": []
   },
   "outputs": [
    {
     "name": "stderr",
     "output_type": "stream",
     "text": [
      "100%|████████████████████████████████████████████████████| 6/6 [02:47<00:00, 27.95s/it]\n"
     ]
    }
   ],
   "source": [
    "####################################################\n",
    "########### COMPUTE PAIR WISE SCATTER PLOTS ########\n",
    "####################################################\n",
    "\n",
    "%matplotlib qt\n",
    "from tqdm import trange\n",
    "\n",
    "plt.figure(figsize=(6,6))\n",
    "clrs = ['red','blue','green','black','purple','orange']\n",
    "clrs = ['#cb3311', '#4477aa', '#ccbb44', '#228833', '#ee7733', '#66ccee']\n",
    "markers = [\",\" , \"o\" , \"v\" , \"^\" , \"<\", \">\"]\n",
    "\n",
    "#\n",
    "follow_window = 10\n",
    "xlim=0\n",
    "ratios=[]\n",
    "for k in trange(6):\n",
    "# for k in [0]:\n",
    "    # for p in range(k+1,6,1):\n",
    "    for p in range(6):\n",
    "    # for p in [1]:\n",
    "        if k==p:\n",
    "            continue\n",
    "        t1 = ethogram_flat_selected[k].copy()\n",
    "        idx1 = np.where(t1>0)[0]\n",
    "        t1[idx1] = 1\n",
    "        t2 = ethogram_flat_selected[p].copy()\n",
    "        idx2 = np.where(t2>0)[0]\n",
    "        t2[idx2] = 1\n",
    "\n",
    "        # find order of events\n",
    "        a1 = 0     #the number of times animal 1 precedes animal 2\n",
    "        a2 = 0     # same but opposite order\n",
    "\n",
    "        #\n",
    "        ctr = 0\n",
    "        while ctr<idx1.shape[0]:\n",
    "        #for i in idx1:\n",
    "\n",
    "            # check to see if there is a switch from 0\n",
    "            if t2[idx1[ctr]]==0:\n",
    "                # to a 1 in the next window\n",
    "                if np.sum(t2[idx1[ctr]:idx1[ctr]+follow_window])>0:\n",
    "                    a1+=1\n",
    "\n",
    "                    # also advance the ctr value at least 10 sec\n",
    "                    ctr0 = ctr\n",
    "                    try:\n",
    "                        while idx1[ctr+1]<(idx1[ctr0]+follow_window) and (ctr<idx1.shape[0]-2):\n",
    "                            ctr+=1\n",
    "                            continue\n",
    "                    except:\n",
    "                        pass\n",
    "            ctr+=1\n",
    "\n",
    "        #\n",
    "        ctr = 0\n",
    "        while ctr<idx2.shape[0]:\n",
    "        #for i in idx1:\n",
    "\n",
    "            # check to see if there is a switch from 0\n",
    "            if t1[idx2[ctr]]==0:\n",
    "                # to a 1 in the next window\n",
    "                if np.sum(t1[idx2[ctr]:idx2[ctr]+follow_window])>0:\n",
    "                    a2+=1\n",
    "\n",
    "                    # also advance the ctr value at least 10 sec\n",
    "                    ctr0 = ctr\n",
    "                    try:\n",
    "                        while idx2[ctr+1]<(idx2[ctr0]+follow_window) and (ctr<idx2.shape[0]-2):\n",
    "                            ctr+=1\n",
    "                            continue\n",
    "                    except:\n",
    "                        pass\n",
    "            ctr+=1\n",
    "        xlim = np.max((xlim,a1,a2))\n",
    "        plt.scatter(a1,\n",
    "                    a2,\n",
    "                    #marker=markers[k],\n",
    "                    marker=markers[p],\n",
    "                    s=100,\n",
    "                    #c=clrs[p],\n",
    "                    c=clrs[k],\n",
    "\n",
    "                    label=str(k)+'->'+str(p))\n",
    "\n",
    "\n",
    "        # print (\"animal1 : \", k, \", animal2: \", p, \"# of leading behaviours: \", a1)\n",
    "        # print (\"animal1 : \", k, \", animal2: \", p, \"# of following behaviours: \", a2)\n",
    "        ratio = a1/(a1+a2)\n",
    "        # print (\"ratio: \", ratio)\n",
    "        ratios.append([a1,a2,ratio])\n",
    "        #print (\"a2: \", a2)\n",
    "#\n",
    "plt.plot([0,xlim*1.25],[0,xlim*1.25],'--',c='black')\n",
    "plt.legend(fontsize=8, ncol=6)\n",
    "plt.title(\"# of behavior sequences (1sec resulution; 10sec follow window))\")\n",
    "#plt.xlim(0,700) \n",
    "# plt.xlim(left=0)\n",
    "#plt.ylim(0,700) \n",
    "# plt.ylim(bottom=0)\n",
    "plt.title(\"start day: \"+str(day_start) + \",  day end: \"+str(day_end))\n",
    "plt.xlabel(\"Animal 1 precedes animal 2\")\n",
    "plt.ylabel(\"Animal 2 precedes animal 1\")\n",
    "plt.show()\n",
    "# plt.savefig('/home/cat/Downloads/P26-.png')\n"
   ]
  },
  {
   "cell_type": "code",
   "execution_count": 14,
   "id": "65bb3243-beeb-400d-b165-4a3d93b71195",
   "metadata": {
    "tags": []
   },
   "outputs": [
    {
     "name": "stderr",
     "output_type": "stream",
     "text": [
      "100%|██████████████████████████████████████████████████| 16/16 [00:29<00:00,  1.87s/it]\n"
     ]
    }
   ],
   "source": [
    "#########################################################################################\n",
    "########### COMPUTE PAIR WISE SCATTER PLOTS - FOR SINGLE ANIMAL OVER DEVELOPMENT ########\n",
    "#########################################################################################\n",
    "\n",
    "plt.figure(figsize=(6,6))\n",
    "clrs = ['red','blue','green','black','purple','orange']\n",
    "clrs = ['#cb3311', '#4477aa', '#ccbb44', '#228833', '#ee7733', '#66ccee']\n",
    "markers = [\",\" , \"o\" , \"v\" , \"^\" , \"<\", \">\"]\n",
    "\n",
    "#\n",
    "follow_window = 10\n",
    "xlim=0\n",
    "ratios = np.empty((16,6,6))\n",
    "ratios[:] = np.nan\n",
    "\n",
    "day_starts = np.arange(17)\n",
    "day_ends = np.arange(1,17,1)\n",
    "\n",
    "\n",
    "#\n",
    "for d in trange(16):\n",
    "    day_start = day_starts[d]\n",
    "    day_end = day_ends[d]\n",
    "    #\n",
    "    times = np.arange(day_start*24*60*60,\n",
    "                      day_end*24*60*60)\n",
    "    #print (\"times: \", times)\n",
    "\n",
    "    #\n",
    "    ethogram_flat_selected = ethogram_flat[:,times].copy()\n",
    "\n",
    "    #for k in trange(6):\n",
    "    for k in [1]:\n",
    "        #for p in range(k+1,6,1):\n",
    "        for p in range(6):\n",
    "        # for p in [3]:\n",
    "            if k==p:\n",
    "                continue\n",
    "            t1 = ethogram_flat_selected[k].copy()\n",
    "            idx1 = np.where(t1>0)[0]\n",
    "            t1[idx1] = 1\n",
    "            t2 = ethogram_flat_selected[p].copy()\n",
    "            idx2 = np.where(t2>0)[0]\n",
    "            t2[idx2] = 1\n",
    "\n",
    "            # find order of events\n",
    "            a1 = 0     #the number of times animal 1 precedes animal 2\n",
    "            a2 = 0     # same but opposite order\n",
    "\n",
    "            #\n",
    "            ctr = 0\n",
    "            while ctr<idx1.shape[0]:\n",
    "            #for i in idx1:\n",
    "\n",
    "                # check to see if there is a switch from 0\n",
    "                if t2[idx1[ctr]]==0:\n",
    "                    # to a 1 in the next window\n",
    "                    if np.nansum(t2[idx1[ctr]:idx1[ctr]+follow_window])>0:\n",
    "                        a1+=1\n",
    "\n",
    "                        # also advance the ctr value at least 10 sec\n",
    "                        ctr0 = ctr\n",
    "                        try:\n",
    "                            while idx1[ctr+1]<(idx1[ctr0]+follow_window) and (ctr<idx1.shape[0]-2):\n",
    "                                ctr+=1\n",
    "                                continue\n",
    "                        except:\n",
    "                            pass\n",
    "                ctr+=1\n",
    "\n",
    "            #\n",
    "            ctr = 0\n",
    "            while ctr<idx2.shape[0]:\n",
    "            #for i in idx1:\n",
    "\n",
    "                # check to see if there is a switch from 0\n",
    "                if t1[idx2[ctr]]==0:\n",
    "                    # to a 1 in the next window\n",
    "                    if np.nansum(t1[idx2[ctr]:idx2[ctr]+follow_window])>0:\n",
    "                        a2+=1\n",
    "\n",
    "                        # also advance the ctr value at least 10 sec\n",
    "                        ctr0 = ctr\n",
    "                        try:\n",
    "                            while idx2[ctr+1]<(idx2[ctr0]+follow_window) and (ctr<idx2.shape[0]-2):\n",
    "                                ctr+=1\n",
    "                                continue\n",
    "                        except:\n",
    "                            pass\n",
    "                ctr+=1\n",
    "            xlim = np.max((xlim,a1,a2))\n",
    "\n",
    "\n",
    "\n",
    "            # print (\"animal1 : \", k, \", animal2: \", p, \"# of leading behaviours: \", a1)\n",
    "            # print (\"animal1 : \", k, \", animal2: \", p, \"# of following behaviours: \", a2)\n",
    "            ratio = a1/(a1+a2)\n",
    "            # print (\"ratio: \", ratio)\n",
    "            # ratios.append(ratio)\n",
    "            #print (ratios)\n",
    "            #print (d,p,k,ratio)\n",
    "            ratios[d,p,k] = ratio\n",
    "            #print (\"a2: \", a2)\n",
    "    #\n",
    "# plt.plot([0,xlim*1.25],[0,xlim*1.25],'--',c='black')\n",
    "# plt.legend(fontsize=8, ncol=6)\n",
    "# plt.title(\"# of behavior sequences (1sec resulution; 10sec follow window))\")\n",
    "# plt.xlim(0,700) \n",
    "# # plt.xlim(left=0)\n",
    "# plt.ylim(0,700) \n",
    "# # plt.ylim(bottom=0)\n",
    "# plt.title(\"start day: \"+str(day_start) + \",  day end: \"+str(day_end))\n",
    "# plt.xlabel(\"Animal 1 precedes animal 2\")\n",
    "# plt.ylabel(\"Animal 2 precedes animal 1\")\n",
    "# plt.show()\n",
    "# plt.savefig('/home/cat/Downloads/P17.png')\n",
    "\n"
   ]
  },
  {
   "cell_type": "code",
   "execution_count": 18,
   "id": "0d71472f-4174-4f12-962a-a68c780282bc",
   "metadata": {
    "tags": []
   },
   "outputs": [
    {
     "name": "stdout",
     "output_type": "stream",
     "text": [
      "Done:  3913\n",
      "[  36594   37160   37655 ... 1332963 1332973 1333332]\n",
      "Sequence array is the times_absolute aray:  (1382400,)\n",
      "times absolute:  [0. 0. 0. ... 0. 0. 0.]\n"
     ]
    }
   ],
   "source": [
    "###########################################################################\n",
    "########### GET ALL the times of the starts of following behaviors ########\n",
    "###########################################################################\n",
    "\n",
    "clrs = ['red','blue','green','black','purple','orange']\n",
    "clrs = ['#cb3311', '#4477aa', '#ccbb44', '#228833', '#ee7733', '#66ccee']\n",
    "markers = [\",\" , \"o\" , \"v\" , \"^\" , \"<\", \">\"]\n",
    "\n",
    "#\n",
    "follow_window = 10\n",
    "xlim=0\n",
    "ratios = np.empty((16,6,6))\n",
    "ratios[:] = np.nan\n",
    "\n",
    "day_starts = np.arange(17)\n",
    "day_ends = np.arange(1,17,1)\n",
    "\n",
    "#\n",
    "animal1 = 0\n",
    "animal2 = 1\n",
    "\n",
    "# computing times of when animal 1 follows animal2\n",
    "#ethogram_flat_selected = ethogram_flat[:,times].copy()\n",
    "\n",
    "# get times of animal 1\n",
    "t1 = ethogram_flat[animal1].copy()\n",
    "idx1 = np.where(t1>0)[0]\n",
    "t1[idx1] = 1\n",
    "\n",
    "# get times of animal 2\n",
    "t2 = ethogram_flat[animal2].copy()\n",
    "idx2 = np.where(t2>0)[0]\n",
    "t2[idx2] = 1\n",
    "\n",
    "# find order of events\n",
    "a1 = 0     #the number of times animal 1 precedes animal 2\n",
    "\n",
    "#\n",
    "ctr = 0\n",
    "times = []\n",
    "while ctr<idx1.shape[0]:\n",
    "#for i in idx1:\n",
    "\n",
    "    # check to see if there is a switch from 0\n",
    "    if t2[idx1[ctr]]==0:\n",
    "        # to a 1 in the next window\n",
    "        if np.sum(t2[idx1[ctr]:idx1[ctr]+follow_window])>0:\n",
    "            a1+=1\n",
    "            times.append(idx1[ctr])\n",
    "\n",
    "            # also advance the ctr value at least 10 sec\n",
    "            ctr0 = ctr\n",
    "            try:\n",
    "                while idx1[ctr+1]<(idx1[ctr0]+follow_window) and (ctr<idx1.shape[0]-2):\n",
    "                    ctr+=1\n",
    "                    continue\n",
    "            except:\n",
    "                pass\n",
    "    ctr+=1\n",
    "\n",
    "print (\"Done: \", a1)\n",
    "times = np.array(times)\n",
    "print (times)\n",
    "\n",
    "plt.figure()\n",
    "x = np.arange(ethogram_flat.shape[1])/60/60\n",
    "times_absolute = np.zeros(x.shape[0])\n",
    "times_absolute[times]=1\n",
    "\n",
    "#import scipy\n",
    "#times_absolute_smooth = scipy.signal.savgol_filter(times_absolute,101,2)\n",
    "plt.plot(x,times_absolute)\n",
    "\n",
    "plt.show()\n",
    "\n",
    "\n",
    "print (\"Sequence array is the times_absolute aray: \", times_absolute.shape)\n",
    "print (\"times absolute: \", times_absolute)\n",
    "np.save('/home/cat/Downloads/timeseries.npy', times_absolute)\n"
   ]
  },
  {
   "cell_type": "code",
   "execution_count": 244,
   "id": "3414ce25-488d-4aea-8c17-ede555dd583e",
   "metadata": {
    "tags": []
   },
   "outputs": [
    {
     "data": {
      "text/plain": [
       "array([0.48427673, 0.49908592, 0.46300211, 0.58646617, 0.43883495,\n",
       "       0.51442308, 0.39106145, 0.48926014, 0.50680787, 0.43835616,\n",
       "       0.45875543, 0.40865385, 0.45537341, 0.4939577 , 0.44193548,\n",
       "       0.54883721])"
      ]
     },
     "execution_count": 244,
     "metadata": {},
     "output_type": "execute_result"
    }
   ],
   "source": [
    "np.save('/home/cat/Downloads/leader-follower/ratios.npy', ratios)\n",
    "\n",
    "ratios[:,1,0]"
   ]
  },
  {
   "cell_type": "code",
   "execution_count": 4,
   "id": "a7aec682-fba2-4b6c-84ef-f293d08cc1a3",
   "metadata": {
    "tags": []
   },
   "outputs": [],
   "source": [
    "ratios = np.load('/home/cat/Downloads/leader-follower/ratios.npy')"
   ]
  },
  {
   "cell_type": "code",
   "execution_count": null,
   "id": "3b96c4a9-4261-4241-9f5c-164d939df42a",
   "metadata": {
    "tags": []
   },
   "outputs": [],
   "source": [
    "test = np.mean(np.mean(ratios[:,2:,0:2], axis = 2), axis = 1)\n",
    "test.shape\n",
    "\n",
    "sdt = np.std(np.std(ratios[:,2:,0:2], axis = 2), axis = 1)\n",
    "sdt.shape"
   ]
  },
  {
   "cell_type": "code",
   "execution_count": 35,
   "id": "eafe0f61-9af0-446f-81fd-82bc2f79c0a3",
   "metadata": {
    "tags": []
   },
   "outputs": [
    {
     "data": {
      "text/plain": [
       "(16,)"
      ]
     },
     "execution_count": 35,
     "metadata": {},
     "output_type": "execute_result"
    }
   ],
   "source": [
    "test = np.mean(ratios[:,2:,1], axis = 1)\n",
    "test.shape\n",
    "\n",
    "sdt = np.std(ratios[:,2:,1], axis = 1)\n",
    "sdt.shape"
   ]
  },
  {
   "cell_type": "code",
   "execution_count": 36,
   "id": "a4748c06-4b38-4bca-a4e7-a8f150f53e95",
   "metadata": {
    "tags": []
   },
   "outputs": [
    {
     "name": "stdout",
     "output_type": "stream",
     "text": [
      "(16, 6, 6)\n"
     ]
    },
    {
     "name": "stderr",
     "output_type": "stream",
     "text": [
      "Gtk-Message: 13:22:14.692: GtkDialog mapped without a transient parent. This is discouraged.\n",
      "\n",
      "(python:5649): Gtk-WARNING **: 13:22:14.971: Failed to measure available space: The specified location is not supported\n"
     ]
    }
   ],
   "source": [
    "%matplotlib qt\n",
    "\n",
    "print (ratios.shape)\n",
    "\n",
    "plt.figure()\n",
    "\n",
    "plt.plot(test, color ='red', linewidth = 3, label = 'all pups')\n",
    "    \n",
    "plt.xlim(0,15)\n",
    "plt.xticks(ticks = np.arange(0,16), labels = np.arange(15,31))\n",
    "plt.xlabel(\"Postnatal day\")\n",
    "\n",
    "plt.ylim(0,1)\n",
    "plt.yticks(np.arange(0,1.1,0.1))\n",
    "plt.ylabel(\"Leader / Follower ratio\")\n",
    "\n",
    "plt.hlines(0.5,0,15, color = 'black', linestyle = 'dashdot')\n",
    "\n",
    "plt.legend()\n",
    "\n",
    "plt.title(\"Male  vs All pups\")\n",
    "\n",
    "plt.fill_between(np.arange(0,16), np.array([t-s for t,s in zip(test,sdt)]), np.array([t+s for t,s in zip(test,sdt)]))\n",
    "\n",
    "plt.show()\n"
   ]
  },
  {
   "cell_type": "code",
   "execution_count": 9,
   "id": "ef175a13-b3b1-4575-af98-fb54e57b0e58",
   "metadata": {
    "tags": []
   },
   "outputs": [
    {
     "name": "stdout",
     "output_type": "stream",
     "text": [
      "(16, 6, 6)\n"
     ]
    },
    {
     "name": "stderr",
     "output_type": "stream",
     "text": [
      "Gtk-Message: 12:23:48.983: GtkDialog mapped without a transient parent. This is discouraged.\n",
      "\n",
      "(python:5649): Gtk-WARNING **: 12:23:49.215: Failed to measure available space: The specified location is not supported\n"
     ]
    }
   ],
   "source": [
    "%matplotlib qt\n",
    "\n",
    "print (ratios.shape)\n",
    "\n",
    "animals = ['female', 'male', 'pup1', 'pup2', 'pup3', 'pup4']\n",
    "\n",
    "plt.figure()\n",
    "\n",
    "clrs = ['#cb3311', '#4477aa', '#ccbb44', '#228833', '#ee7733', '#66ccee']\n",
    "\n",
    "for i, a in enumerate(clrs):\n",
    "    \n",
    "    plt.plot(ratios[:,i,1], color = a, linewidth = 3, label = animals[i])\n",
    "    \n",
    "    plt.xlim(0,15)\n",
    "    plt.xticks(ticks = np.arange(0,16), labels = np.arange(15,31))\n",
    "    plt.xlabel(\"Postnatal day\")\n",
    "    \n",
    "    plt.ylim(0,1)\n",
    "    plt.yticks(np.arange(0,1.1,0.1))\n",
    "    plt.ylabel(\"Leader / Follower ratio\")\n",
    "    \n",
    "    plt.hlines(0.5,0,15, color = 'black', linestyle = 'dashdot')\n",
    "    \n",
    "    plt.legend()\n",
    "    \n",
    "    plt.title(\"Male\")\n",
    "\n",
    "plt.show()\n"
   ]
  },
  {
   "cell_type": "code",
   "execution_count": null,
   "id": "2204bd79-70b1-41a8-ada5-0cc951c68e3d",
   "metadata": {},
   "outputs": [],
   "source": []
  },
  {
   "cell_type": "code",
   "execution_count": null,
   "id": "12dce189-65d1-447d-a6cd-d8d9b9c3f905",
   "metadata": {},
   "outputs": [],
   "source": []
  },
  {
   "cell_type": "code",
   "execution_count": null,
   "id": "2fbf457c-e84f-4108-a991-6d37fb1b0f6c",
   "metadata": {},
   "outputs": [],
   "source": []
  },
  {
   "cell_type": "code",
   "execution_count": null,
   "id": "51d3ce12-fd48-474c-addd-d01e23d45c06",
   "metadata": {},
   "outputs": [],
   "source": []
  },
  {
   "cell_type": "code",
   "execution_count": null,
   "id": "609cc33f-a807-40c9-8b5b-e45f4c32b40d",
   "metadata": {},
   "outputs": [],
   "source": []
  },
  {
   "cell_type": "code",
   "execution_count": null,
   "id": "94000d6a-9db8-4ea6-9a8e-0cbf424f5710",
   "metadata": {},
   "outputs": [],
   "source": []
  },
  {
   "cell_type": "code",
   "execution_count": null,
   "id": "a719e593-ef45-4dba-9ab5-f5aa5be8c448",
   "metadata": {},
   "outputs": [],
   "source": []
  },
  {
   "cell_type": "code",
   "execution_count": null,
   "id": "2a4eff95-0768-41a5-9a7d-098936e9298e",
   "metadata": {},
   "outputs": [],
   "source": []
  },
  {
   "cell_type": "code",
   "execution_count": null,
   "id": "fb88202f-fdcd-4fac-890f-421eda3bb6d0",
   "metadata": {},
   "outputs": [],
   "source": []
  },
  {
   "cell_type": "code",
   "execution_count": null,
   "id": "45f4f1c3-0f5f-4a67-827a-5ba613bc3292",
   "metadata": {},
   "outputs": [],
   "source": []
  },
  {
   "cell_type": "code",
   "execution_count": null,
   "id": "9d5e0288-5ece-4f2a-ba0e-2e5626d68ae5",
   "metadata": {},
   "outputs": [],
   "source": []
  },
  {
   "cell_type": "code",
   "execution_count": null,
   "id": "fa30a113-4dc7-431a-bff6-d058f29e3456",
   "metadata": {},
   "outputs": [],
   "source": []
  },
  {
   "cell_type": "code",
   "execution_count": null,
   "id": "49de6031-44cf-4e5c-a07f-1f0c0293bfd2",
   "metadata": {},
   "outputs": [],
   "source": []
  }
 ],
 "metadata": {
  "kernelspec": {
   "display_name": "sleap_new",
   "language": "python",
   "name": "sleap_new"
  },
  "language_info": {
   "codemirror_mode": {
    "name": "ipython",
    "version": 3
   },
   "file_extension": ".py",
   "mimetype": "text/x-python",
   "name": "python",
   "nbconvert_exporter": "python",
   "pygments_lexer": "ipython3",
   "version": "3.7.12"
  }
 },
 "nbformat": 4,
 "nbformat_minor": 5
}
