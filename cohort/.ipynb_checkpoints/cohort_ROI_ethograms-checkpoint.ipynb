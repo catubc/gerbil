{
 "cells": [
  {
   "cell_type": "code",
   "execution_count": 176,
   "id": "35748575",
   "metadata": {
    "tags": []
   },
   "outputs": [
    {
     "data": {
      "application/javascript": [
       "IPython.notebook.set_autosave_interval(180000)"
      ]
     },
     "metadata": {},
     "output_type": "display_data"
    },
    {
     "name": "stdout",
     "output_type": "stream",
     "text": [
      "Autosaving every 180 seconds\n",
      "The autoreload extension is already loaded. To reload it, use:\n",
      "  %reload_ext autoreload\n"
     ]
    },
    {
     "data": {
      "text/html": [
       "<style>.container { width:100% !important; }</style>"
      ],
      "text/plain": [
       "<IPython.core.display.HTML object>"
      ]
     },
     "metadata": {},
     "output_type": "display_data"
    }
   ],
   "source": [
    "import matplotlib\n",
    "%matplotlib tk\n",
    "%autosave 180\n",
    "%load_ext autoreload\n",
    "%autoreload 2\n",
    "\n",
    "import nest_asyncio\n",
    "\n",
    "%config Completer.use_jedi = False\n",
    "\n",
    "#\n",
    "import matplotlib.pyplot as plt\n",
    "from IPython.core.display import display, HTML\n",
    "display(HTML(\"<style>.container { width:100% !important; }</style>\"))\n",
    "\n",
    "# \n",
    "import matplotlib.cm as cm\n",
    "import numpy as np\n",
    "import os\n",
    "from tqdm import tqdm\n",
    "\n",
    "#\n",
    "import sys\n",
    "sys.path.append('/home/cat/code/gerbil/')\n",
    "\n",
    "# \n",
    "from utils.track import track\n",
    "from utils.convert import convert\n",
    "from utils.ethogram import ethogram\n",
    "from utils.cohort import cohort\n",
    "from utils.cohort.cohort import CohortProcessor"
   ]
  },
  {
   "cell_type": "code",
   "execution_count": 177,
   "id": "1cd83edf",
   "metadata": {
    "tags": []
   },
   "outputs": [
    {
     "name": "stdout",
     "output_type": "stream",
     "text": [
      "DF:     Unnamed: 0  Cohort NN Type                                   Filename Dev Day  # of Gerbils Time of Light Switch  Shaved?  Predicted?                                   Slp filename Start time\n",
      "0           0       2     Day  2020_07_20_09_53_59_813912_compressed.mp4     P15             6                  NaN        1           1  2020_07_20_09_53_59_813912_compressed_Day.slp   09:53:59\n",
      "1           1       2     Day  2020_07_20_10_16_08_629297_compressed.mp4     P15             6                  NaN        1           1  2020_07_20_10_16_08_629297_compressed_Day.slp   10:16:08\n",
      "2           2       2     Day  2020_07_20_10_38_20_043555_compressed.mp4     P15             6                  NaN        1           1  2020_07_20_10_38_20_043555_compressed_Day.slp   10:38:20\n",
      "3           3       2     Day  2020_07_20_11_00_31_566455_compressed.mp4     P15             6                  NaN        1           1  2020_07_20_11_00_31_566455_compressed_Day.slp   11:00:31\n",
      "4           4       2     Day  2020_07_20_11_22_36_823934_compressed.mp4     P15             6                  NaN        1           1  2020_07_20_11_22_36_823934_compressed_Day.slp   11:22:36\n",
      "Loading only recordings with 6 animals...\n",
      " ... total # :  991  /  991\n"
     ]
    }
   ],
   "source": [
    "######################################################\n",
    "############# LOAD ANIMAL DATABASE ###################\n",
    "######################################################\n",
    "fname_spreadsheet = '/mnt/b3a68699-495d-4ebb-9ab1-ac74f11c68c5/gerbil/cohort2/database.xlsx'\n",
    "\n",
    "#\n",
    "cohort = CohortProcessor(fname_spreadsheet)\n",
    "cohort.load_database()\n",
    "\n",
    "#\n",
    "cohort.ethogram = ethogram"
   ]
  },
  {
   "cell_type": "code",
   "execution_count": 178,
   "id": "b4018721",
   "metadata": {},
   "outputs": [
    {
     "name": "stdout",
     "output_type": "stream",
     "text": [
      "ASSUMING VIDEO IS 700 x 900... this only works for cohort2...\n",
      "<generator object at 0x7fa35b2641b0>\n",
      "(28802, 6, 2)\n",
      "rectangular coords:  [[295.62903226 495.31709167]\n",
      " [597.56451613 647.93819319]]\n",
      "circular coords:  [[462.67617866 594.85259266]\n",
      " [362.62655087 585.37302114]]\n"
     ]
    }
   ],
   "source": [
    "################################################\n",
    "########### CREATE ROI OF INTEREST #############\n",
    "################################################\n",
    "# need to select 1 video and 1 slp for visualization purposes;\n",
    "# make sure the video is shirnk cropped and matches the traces from the slop also.\n",
    "cohort.fname_video ='/mnt/b3a68699-495d-4ebb-9ab1-ac74f11c68c5/gerbil/cohort2/2020_07_26_00_05_52_835502_compressed_defished_shrink_cropped.mp4'\n",
    "cohort.fname_slp_npy =  '/mnt/b3a68699-495d-4ebb-9ab1-ac74f11c68c5/gerbil/cohort2/features/2020_07_26_00_05_52_835502_compressed_Night_spine.npy'\n",
    "\n",
    "# cat's workstation; comment out\n",
    "# cohort.fname_video ='/media/cat/4TBSSD/dan/cohort2/P21_P28/2020_07_26_00_05_52_835502_compressed_defished_shrink_cropped.mp4'\n",
    "# cohort.fname_slp_npy =  '/media/cat/4TBSSD/dan/cohort2/P21_P28/features/2020_07_26_00_05_52_835502_compressed_Night_spine.npy'\n",
    "\n",
    "\n",
    "#\n",
    "cohort.load_video2()\n",
    "\n",
    "#\n",
    "cohort.set_roi()\n",
    "\n",
    "print (\"rectangular coords: \", cohort.rect_coords)\n",
    "print (\"circular coords: \", cohort.circle_coords)\n"
   ]
  },
  {
   "cell_type": "code",
   "execution_count": 30,
   "id": "3241dbff",
   "metadata": {},
   "outputs": [
    {
     "name": "stderr",
     "output_type": "stream",
     "text": [
      "100%|█████████████████████████████████████████████| 1500/1500 [00:02<00:00, 524.88it/s]\n"
     ]
    },
    {
     "name": "stdout",
     "output_type": "stream",
     "text": [
      "DONE\n"
     ]
    }
   ],
   "source": [
    "################################################\n",
    "########### COMPUTE CIRCLE OCCUPANCY ###########\n",
    "################################################\n",
    "\n",
    "#\n",
    "behavior_name = 'circular_region'   # \"circular_region' or 'rectangular_region\"\n",
    "\n",
    "# select animals\n",
    "cohort.exclude_huddles = True\n",
    "\n",
    "# select animals\n",
    "animal_ids = [0,1,2,3,4,5]\n",
    "animal_ids = [0]\n",
    "\n",
    "#\n",
    "for animal_id in animal_ids:\n",
    "\n",
    "    #\n",
    "    #cohort.animals = animal_id\n",
    "    cohort.animal_ids = animal_id\n",
    "\n",
    "    #\n",
    "    cohort.get_circle_occupancy(cohort.animal_ids)\n",
    "\n",
    "    #\n",
    "    cohort.format_behavior()\n",
    "    \n",
    "    #\n",
    "    ethogram.generate_ethogram_hourly( \n",
    "                                      behavior_name,\n",
    "                                      cohort,\n",
    "                                      cohort.exclude_huddles)\n",
    "print (\"DONE\")"
   ]
  },
  {
   "cell_type": "code",
   "execution_count": 31,
   "id": "8e234868-46e2-4ce0-a3da-ecfd1cf7e51a",
   "metadata": {},
   "outputs": [],
   "source": [
    "##########################################\n",
    "########### SHOW CIRCLE ETHOGRAM #########\n",
    "##########################################\n",
    "for animal_id in animal_ids:\n",
    "\n",
    "    cohort.animal_ids = animal_id\n",
    "    \n",
    "    cohort.exclude_huddles = True\n",
    "    ethogram.plot_ethogram_hourly(\n",
    "                                 behavior_name,\n",
    "                                 cohort,\n",
    "                                 cohort.exclude_huddles,\n",
    "                                 vmax=50)"
   ]
  },
  {
   "cell_type": "code",
   "execution_count": 69,
   "id": "e262c64d-4f70-4f77-946a-e299103d84d8",
   "metadata": {
    "tags": []
   },
   "outputs": [
    {
     "name": "stdout",
     "output_type": "stream",
     "text": [
      "[[775.33126551 277.28694663]\n",
      " [899.5        417.58460518]]\n"
     ]
    }
   ],
   "source": [
    "print (cohort.rect_coords)"
   ]
  },
  {
   "cell_type": "code",
   "execution_count": 207,
   "id": "067b161b",
   "metadata": {},
   "outputs": [
    {
     "name": "stdout",
     "output_type": "stream",
     "text": [
      "# of feature tracks:  991\n"
     ]
    },
    {
     "name": "stderr",
     "output_type": "stream",
     "text": [
      "1001it [02:44,  6.07it/s]                                                              \n"
     ]
    }
   ],
   "source": [
    "################################################\n",
    "########### COMPUTE RECTANGLE ETHOGRAMS ########\n",
    "################################################\n",
    "\n",
    "#\n",
    "#\n",
    "cohort.video_frame_rate = 24\n",
    "cohort.parallel_flag = True\n",
    "\n",
    "# set the flags for the huddle corrections\n",
    "cohort.fix_track_flag = True\n",
    "cohort.interpolate_flag = True\n",
    "#cohort.load_huddle_tracks()\n",
    "\n",
    "# # this just loads the _spine.npy files;\n",
    "cohort.use_nohuddle = True\n",
    "cohort.load_feature_tracks()\n",
    "\n",
    "# # this computes mode-based occupancy in the nest with 1min bins\n",
    "cohort.median_filter_width = cohort.video_frame_rate*5+1 # 1: there is no smotthing; n x frame rate gives you n seconds of somothing (always add 1 to get odd number)\n",
    "#cohort.n_frames_per_bin = cohort.video_frame_rate  # single second resolution\n",
    "cohort.n_frames_per_bin = cohort.video_frame_rate #*60  # single second resolution\n",
    "cohort.n_cores = 24\n",
    "\n",
    "#\n",
    "cohort.compute_rectangle_composition()\n"
   ]
  },
  {
   "cell_type": "code",
   "execution_count": 208,
   "id": "38d98a67-9f84-49f6-8c7a-fe4121c07430",
   "metadata": {
    "tags": []
   },
   "outputs": [
    {
     "name": "stderr",
     "output_type": "stream",
     "text": [
      "100%|██████████████████████████████████████████████| 991/991 [00:00<00:00, 2242.22it/s]\n"
     ]
    }
   ],
   "source": [
    "################################################\n",
    "########### SHOW RECTANGLE ETHOGRAM ############\n",
    "################################################\n",
    "\n",
    "#%matplotlib qt\n",
    "\n",
    "#\n",
    "cohort.forward_padding = 20 # padding in percent\n",
    "cohort.generate_rectangle_composition_ethograms()\n",
    "\n",
    "#\n",
    "cohort.show_rectangle_composition_ethogram_all_animals()\n",
    "\n",
    "#\n",
    "#cohort.show_huddle_composition_ethogram_full_huddle()\n",
    "\n",
    "#\n",
    "#animal_ids = np.arange(6)\n",
    "# cohort.show_huddle_composition_ethogram_specific_animals(animal_ids)\n",
    "    "
   ]
  },
  {
   "cell_type": "code",
   "execution_count": 210,
   "id": "f4a79914-ada9-4341-b2f7-a603a63a7f8b",
   "metadata": {
    "tags": []
   },
   "outputs": [
    {
     "name": "stdout",
     "output_type": "stream",
     "text": [
      "(112, 86400)\n"
     ]
    },
    {
     "ename": "ValueError",
     "evalue": "all the input array dimensions for the concatenation axis must match exactly, but along dimension 1, the array at index 0 has size 60 and the array at index 29 has size 52",
     "output_type": "error",
     "traceback": [
      "\u001b[0;31m---------------------------------------------------------------------------\u001b[0m",
      "\u001b[0;31mValueError\u001b[0m                                Traceback (most recent call last)",
      "\u001b[0;32m/tmp/ipykernel_3550/2461160970.py\u001b[0m in \u001b[0;36m<module>\u001b[0;34m\u001b[0m\n\u001b[1;32m     28\u001b[0m     \u001b[0;32mif\u001b[0m \u001b[0mwidth\u001b[0m \u001b[0;34m>\u001b[0m \u001b[0;36m1\u001b[0m\u001b[0;34m:\u001b[0m\u001b[0;34m\u001b[0m\u001b[0;34m\u001b[0m\u001b[0m\n\u001b[1;32m     29\u001b[0m         \u001b[0midx1\u001b[0m \u001b[0;34m=\u001b[0m \u001b[0mnp\u001b[0m\u001b[0;34m.\u001b[0m\u001b[0marange\u001b[0m\u001b[0;34m(\u001b[0m\u001b[0mwidth\u001b[0m\u001b[0;34m,\u001b[0m\u001b[0meth1\u001b[0m\u001b[0;34m.\u001b[0m\u001b[0mshape\u001b[0m\u001b[0;34m[\u001b[0m\u001b[0;36m0\u001b[0m\u001b[0;34m]\u001b[0m\u001b[0;34m,\u001b[0m\u001b[0mwidth\u001b[0m\u001b[0;34m)\u001b[0m\u001b[0;34m\u001b[0m\u001b[0;34m\u001b[0m\u001b[0m\n\u001b[0;32m---> 30\u001b[0;31m         \u001b[0meth1\u001b[0m \u001b[0;34m=\u001b[0m \u001b[0mnp\u001b[0m\u001b[0;34m.\u001b[0m\u001b[0mvstack\u001b[0m\u001b[0;34m(\u001b[0m\u001b[0mnp\u001b[0m\u001b[0;34m.\u001b[0m\u001b[0msplit\u001b[0m\u001b[0;34m(\u001b[0m\u001b[0meth1\u001b[0m\u001b[0;34m,\u001b[0m \u001b[0midx1\u001b[0m\u001b[0;34m)\u001b[0m\u001b[0;34m)\u001b[0m\u001b[0;34m\u001b[0m\u001b[0;34m\u001b[0m\u001b[0m\n\u001b[0m\u001b[1;32m     31\u001b[0m         \u001b[0midx2\u001b[0m \u001b[0;34m=\u001b[0m \u001b[0mnp\u001b[0m\u001b[0;34m.\u001b[0m\u001b[0marange\u001b[0m\u001b[0;34m(\u001b[0m\u001b[0mwidth\u001b[0m\u001b[0;34m,\u001b[0m\u001b[0meth2\u001b[0m\u001b[0;34m.\u001b[0m\u001b[0mshape\u001b[0m\u001b[0;34m[\u001b[0m\u001b[0;36m0\u001b[0m\u001b[0;34m]\u001b[0m\u001b[0;34m,\u001b[0m\u001b[0mwidth\u001b[0m\u001b[0;34m)\u001b[0m\u001b[0;34m\u001b[0m\u001b[0;34m\u001b[0m\u001b[0m\n\u001b[1;32m     32\u001b[0m         \u001b[0meth2\u001b[0m \u001b[0;34m=\u001b[0m \u001b[0mnp\u001b[0m\u001b[0;34m.\u001b[0m\u001b[0mvstack\u001b[0m\u001b[0;34m(\u001b[0m\u001b[0mnp\u001b[0m\u001b[0;34m.\u001b[0m\u001b[0msplit\u001b[0m\u001b[0;34m(\u001b[0m\u001b[0meth2\u001b[0m\u001b[0;34m,\u001b[0m \u001b[0midx2\u001b[0m\u001b[0;34m)\u001b[0m\u001b[0;34m)\u001b[0m\u001b[0;34m\u001b[0m\u001b[0;34m\u001b[0m\u001b[0m\n",
      "\u001b[0;32m<__array_function__ internals>\u001b[0m in \u001b[0;36mvstack\u001b[0;34m(*args, **kwargs)\u001b[0m\n",
      "\u001b[0;32m~/miniconda3/envs/sleap_new/lib/python3.7/site-packages/numpy/core/shape_base.py\u001b[0m in \u001b[0;36mvstack\u001b[0;34m(tup)\u001b[0m\n\u001b[1;32m    281\u001b[0m     \u001b[0;32mif\u001b[0m \u001b[0;32mnot\u001b[0m \u001b[0misinstance\u001b[0m\u001b[0;34m(\u001b[0m\u001b[0marrs\u001b[0m\u001b[0;34m,\u001b[0m \u001b[0mlist\u001b[0m\u001b[0;34m)\u001b[0m\u001b[0;34m:\u001b[0m\u001b[0;34m\u001b[0m\u001b[0;34m\u001b[0m\u001b[0m\n\u001b[1;32m    282\u001b[0m         \u001b[0marrs\u001b[0m \u001b[0;34m=\u001b[0m \u001b[0;34m[\u001b[0m\u001b[0marrs\u001b[0m\u001b[0;34m]\u001b[0m\u001b[0;34m\u001b[0m\u001b[0;34m\u001b[0m\u001b[0m\n\u001b[0;32m--> 283\u001b[0;31m     \u001b[0;32mreturn\u001b[0m \u001b[0m_nx\u001b[0m\u001b[0;34m.\u001b[0m\u001b[0mconcatenate\u001b[0m\u001b[0;34m(\u001b[0m\u001b[0marrs\u001b[0m\u001b[0;34m,\u001b[0m \u001b[0;36m0\u001b[0m\u001b[0;34m)\u001b[0m\u001b[0;34m\u001b[0m\u001b[0;34m\u001b[0m\u001b[0m\n\u001b[0m\u001b[1;32m    284\u001b[0m \u001b[0;34m\u001b[0m\u001b[0m\n\u001b[1;32m    285\u001b[0m \u001b[0;34m\u001b[0m\u001b[0m\n",
      "\u001b[0;32m<__array_function__ internals>\u001b[0m in \u001b[0;36mconcatenate\u001b[0;34m(*args, **kwargs)\u001b[0m\n",
      "\u001b[0;31mValueError\u001b[0m: all the input array dimensions for the concatenation axis must match exactly, but along dimension 1, the array at index 0 has size 60 and the array at index 29 has size 52"
     ]
    }
   ],
   "source": [
    "##################################################\n",
    "########### COMPUTE CORRELOGRAMS PER ANIMAL ######\n",
    "##################################################\n",
    "\n",
    "print (cohort.rectangle_ethogram.shape)\n",
    "\n",
    "a1 = 0\n",
    "a2 = 2\n",
    "\n",
    "a2_array = [0,1,2,3,4,5]\n",
    "plt.figure()\n",
    "for a2 in a2_array:\n",
    "\n",
    "    idx1 = np.arange(a1, 16*7, 7)#[:3]\n",
    "    idx2 = np.arange(a2, 16*7, 7)#[:3]\n",
    "\n",
    "    #\n",
    "    eth1 = np.hstack(cohort.rectangle_ethogram[:,idx1])\n",
    "    eth2 = np.hstack(cohort.rectangle_ethogram[:,idx2])\n",
    "    print (\"eth1: \", eth1.shape)\n",
    "\n",
    "    #\n",
    "    eth1[np.isnan(eth1)]=0\n",
    "    eth2[np.isnan(eth2)]=0\n",
    "\n",
    "    n_mins = 1\n",
    "    width = n_mins*60\n",
    "    text = 'Time (sec)'\n",
    "    if width > 1:\n",
    "        idx1 = np.arange(width,eth1.shape[0],width)\n",
    "        eth1 = np.vstack(np.split(eth1, idx1))\n",
    "        idx2 = np.arange(width,eth2.shape[0],width)\n",
    "        eth2 = np.vstack(np.split(eth2, idx2))\n",
    "\n",
    "        #\n",
    "        eth1 = np.nansum(eth1,axis=1)\n",
    "        eth2 = np.nansum(eth2,axis=1)\n",
    "        text = 'Time (mins)'\n",
    "        \n",
    "    # compute the correlograms between each pair of animals\n",
    "    from scipy.stats import pearsonr\n",
    "\n",
    "    #\n",
    "    window = 60\n",
    "    t = np.arange(-window,window,1)\n",
    "    from tqdm import trange \n",
    "\n",
    "    #\n",
    "    #plt.figure()\n",
    "    cc = []\n",
    "    #for z in trange(-window, window,1, desc='computing correlogram'):\n",
    "    #    cc.append(pearsonr(np.roll(single_animal_eth,z), \n",
    "                                   #single_animal_eth)[0])\n",
    "\n",
    "    for z in trange(-window, window,1, desc='computing correlogram'):\n",
    "        #temp = (np.roll(single_animal_eth,z)*single_animal_eth).sum()\n",
    "        temp = (np.roll(eth1,z)*eth2).sum()\n",
    "\n",
    "        cc.append(temp)\n",
    "    #\n",
    "    plt.plot(t,cc)\n",
    "plt.plot([0,0],[-1,1],'--',c='black')\n",
    "#\n",
    "plt.xlabel(text)\n",
    "plt.show()\n",
    "\n",
    "\n"
   ]
  },
  {
   "cell_type": "code",
   "execution_count": 200,
   "id": "b81ff85c-d8de-4a64-82a8-86ac335b99d1",
   "metadata": {
    "tags": []
   },
   "outputs": [
    {
     "name": "stdout",
     "output_type": "stream",
     "text": [
      "[  0   7  14  21  28  35  42  49  56  63  70  77  84  91  98 105]\n",
      "(86400, 112)\n",
      "(1382400,)\n",
      "(86400,)\n"
     ]
    }
   ],
   "source": [
    "idx1 = np.arange(a1, 16*7, 7)#[:3]\n",
    "print (idx1)\n",
    "print (cohort.rectangle_ethogram.shape)\n",
    "eth_raw = np.hstack(cohort.rectangle_ethogram[:,idx1])\n",
    "print (eth_raw.shape)\n",
    "\n",
    "eth_raw = cohort.rectangle_ethogram[:,0]\n",
    "print (eth_raw.shape)\n",
    "    \n",
    "plt.figure()\n",
    "#plt.plot(eth1)\n",
    "plt.plot(eth_raw[:10000])\n",
    "plt.show()\n",
    "\n"
   ]
  },
  {
   "cell_type": "code",
   "execution_count": 204,
   "id": "aa84d9da-3250-4a2b-bde7-a227894efb55",
   "metadata": {},
   "outputs": [],
   "source": [
    "plt.figure()\n",
    "\n",
    "plt.imshow(cohort.rectangle_ethogram[::-1],\n",
    "          aspect='auto')\n",
    "\n",
    "plt.show()"
   ]
  },
  {
   "cell_type": "code",
   "execution_count": null,
   "id": "ecd8bdaf-37d0-4256-a23d-d8994a63c46c",
   "metadata": {},
   "outputs": [],
   "source": []
  },
  {
   "cell_type": "code",
   "execution_count": 23,
   "id": "efaba07d-de01-4466-8033-e90fb9a25a78",
   "metadata": {},
   "outputs": [],
   "source": []
  },
  {
   "cell_type": "code",
   "execution_count": 19,
   "id": "b90328d9-ceee-476e-92c6-95dd1b9115bf",
   "metadata": {},
   "outputs": [
    {
     "name": "stdout",
     "output_type": "stream",
     "text": [
      "[0, 1, 2, 3, 4, 5]\n",
      "(96, 24)\n",
      "sums:  1704.5969029928478\n",
      "X_pca:  (96, 3)\n",
      "removing zeros:  (84,)\n"
     ]
    }
   ],
   "source": [
    "######################################\n",
    "########### PCA SCATTER PLOTS ########\n",
    "######################################\n",
    "\n",
    "#\n",
    "cohort.animal_ids  = [0,1,2,3,4,5]\n",
    "\n",
    "# choose one of these behaviors\n",
    "cohort.behavior_name = 'rectangular_region'\n",
    "# cohort.behavior_name = 'circular_region'\n",
    "\n",
    "#\n",
    "cohort.remove_zeros=True\n",
    "cohort.show_developmental_trajectories()\n",
    "\n",
    "#\n"
   ]
  },
  {
   "cell_type": "code",
   "execution_count": null,
   "id": "89761e65-b295-4caf-8c53-4622e40d1a7f",
   "metadata": {},
   "outputs": [],
   "source": []
  },
  {
   "cell_type": "code",
   "execution_count": null,
   "id": "44d66a8a-82e7-429e-97b8-2db93aec1085",
   "metadata": {},
   "outputs": [],
   "source": []
  },
  {
   "cell_type": "code",
   "execution_count": null,
   "id": "206e6f1d",
   "metadata": {},
   "outputs": [],
   "source": []
  },
  {
   "cell_type": "code",
   "execution_count": null,
   "id": "9d5e0288-5ece-4f2a-ba0e-2e5626d68ae5",
   "metadata": {},
   "outputs": [],
   "source": []
  },
  {
   "cell_type": "code",
   "execution_count": null,
   "id": "fa30a113-4dc7-431a-bff6-d058f29e3456",
   "metadata": {},
   "outputs": [],
   "source": []
  },
  {
   "cell_type": "code",
   "execution_count": null,
   "id": "49de6031-44cf-4e5c-a07f-1f0c0293bfd2",
   "metadata": {},
   "outputs": [],
   "source": []
  }
 ],
 "metadata": {
  "kernelspec": {
   "display_name": "sleap_new",
   "language": "python",
   "name": "sleap_new"
  },
  "language_info": {
   "codemirror_mode": {
    "name": "ipython",
    "version": 3
   },
   "file_extension": ".py",
   "mimetype": "text/x-python",
   "name": "python",
   "nbconvert_exporter": "python",
   "pygments_lexer": "ipython3",
   "version": "3.7.12"
  }
 },
 "nbformat": 4,
 "nbformat_minor": 5
}
