{
 "cells": [
  {
   "cell_type": "code",
   "execution_count": 1,
   "id": "35748575",
   "metadata": {
    "tags": []
   },
   "outputs": [
    {
     "data": {
      "application/javascript": [
       "IPython.notebook.set_autosave_interval(180000)"
      ]
     },
     "metadata": {},
     "output_type": "display_data"
    },
    {
     "name": "stdout",
     "output_type": "stream",
     "text": [
      "Autosaving every 180 seconds\n"
     ]
    },
    {
     "data": {
      "text/html": [
       "<style>.container { width:100% !important; }</style>"
      ],
      "text/plain": [
       "<IPython.core.display.HTML object>"
      ]
     },
     "metadata": {},
     "output_type": "display_data"
    }
   ],
   "source": [
    "import matplotlib\n",
    "%matplotlib tk\n",
    "%autosave 180\n",
    "%load_ext autoreload\n",
    "%autoreload 2\n",
    "\n",
    "import nest_asyncio\n",
    "\n",
    "%config Completer.use_jedi = False\n",
    "\n",
    "#\n",
    "import matplotlib.pyplot as plt\n",
    "from IPython.core.display import display, HTML\n",
    "display(HTML(\"<style>.container { width:100% !important; }</style>\"))\n",
    "\n",
    "# \n",
    "import matplotlib.cm as cm\n",
    "import numpy as np\n",
    "import os\n",
    "from tqdm import tqdm\n",
    "\n",
    "#\n",
    "import sys\n",
    "sys.path.append('/home/cat/code/gerbil/')\n",
    "\n",
    "# \n",
    "from utils.track import track\n",
    "from utils.convert import convert\n",
    "from utils.ethogram import ethogram\n",
    "from utils.cohort import cohort\n",
    "from utils.ethogram import ethogram"
   ]
  },
  {
   "cell_type": "code",
   "execution_count": 2,
   "id": "1cd83edf",
   "metadata": {
    "tags": []
   },
   "outputs": [
    {
     "name": "stdout",
     "output_type": "stream",
     "text": [
      "DF:     Unnamed: 0  Cohort NN Type                                   Filename Dev Day  # of Gerbils Time of Light Switch  Shaved?  Predicted?                                   Slp filename Start time\n",
      "0           0       2     Day  2020_07_20_09_53_59_813912_compressed.mp4     P15             6                  NaN        1           1  2020_07_20_09_53_59_813912_compressed_Day.slp   09:53:59\n",
      "1           1       2     Day  2020_07_20_10_16_08_629297_compressed.mp4     P15             6                  NaN        1           1  2020_07_20_10_16_08_629297_compressed_Day.slp   10:16:08\n",
      "2           2       2     Day  2020_07_20_10_38_20_043555_compressed.mp4     P15             6                  NaN        1           1  2020_07_20_10_38_20_043555_compressed_Day.slp   10:38:20\n",
      "3           3       2     Day  2020_07_20_11_00_31_566455_compressed.mp4     P15             6                  NaN        1           1  2020_07_20_11_00_31_566455_compressed_Day.slp   11:00:31\n",
      "4           4       2     Day  2020_07_20_11_22_36_823934_compressed.mp4     P15             6                  NaN        1           1  2020_07_20_11_22_36_823934_compressed_Day.slp   11:22:36\n",
      "Loading only recordings with 6 animals...\n",
      " ... total # :  991  /  991\n"
     ]
    }
   ],
   "source": [
    "######################################################\n",
    "############# LOAD ANIMAL DATABASE ###################\n",
    "######################################################\n",
    "#fname_spreadsheet = '/mnt/b3a68699-495d-4ebb-9ab1-ac74f11c68c5/gerbil/cohort2/database.xlsx'\n",
    "fname_spreadsheet = '/media/cat/4TBSSD/dan/cohort2/P21_P28/database.xlsx'\n",
    "\n",
    "#\n",
    "cohort = cohort.CohortProcessor(fname_spreadsheet)\n",
    "#cohort.fname_spreadsheet = '/mnt/b3a68699-495d-4ebb-9ab1-ac74f11c68c5/gerbil/cohort2/database.xlsx'\n",
    "cohort.load_database()\n",
    "\n",
    "#\n",
    "cohort.ethogram = ethogram\n",
    "\n",
    "# print (list(zip(cohort.PDays,cohort.Start_times))[0])\n",
    "# print (list(zip(cohort.PDays,cohort.Start_times))[1])\n",
    "# print (list(zip(cohort.PDays,cohort.Start_times))[100])"
   ]
  },
  {
   "cell_type": "code",
   "execution_count": 42,
   "id": "b91ebfaf-55fd-4dc6-bb5e-8d75ce7caf08",
   "metadata": {},
   "outputs": [
    {
     "name": "stdout",
     "output_type": "stream",
     "text": [
      " # of files:  126\n",
      "# of feature tracks:  126\n"
     ]
    },
    {
     "name": "stderr",
     "output_type": "stream",
     "text": [
      "100%|██████████| 126/126 [00:00<00:00, 155.23it/s]"
     ]
    },
    {
     "name": "stdout",
     "output_type": "stream",
     "text": [
      "# of huddle composition arrays:  126\n"
     ]
    },
    {
     "name": "stderr",
     "output_type": "stream",
     "text": [
      "\n"
     ]
    }
   ],
   "source": [
    "#################################################\n",
    "########### COMPUTE HUDDLE COMPOSITION ##########\n",
    "#################################################\n",
    "\n",
    "# set the flags for the huddle corrections\n",
    "cohort.fix_track_flag = True\n",
    "cohort.interpolate_flag = True\n",
    "cohort.load_huddle_tracks()\n",
    "\n",
    "# this just loads the _spine.npy files;\n",
    "cohort.load_feature_tracks()\n",
    "\n",
    "# this computes mode-based occupancy in the nest with 1min bins\n",
    "cohort.median_filter_width = 1 # we don't need to smooth anymore because we're runnin gmode in 1min bins\n",
    "cohort.compute_huddle_composition()\n",
    "print (\"# of huddle composition arrays: \", len(cohort.huddle_comps_min))\n"
   ]
  },
  {
   "cell_type": "code",
   "execution_count": 51,
   "id": "94043093-aa53-4900-93a4-98c20b048bd0",
   "metadata": {},
   "outputs": [
    {
     "name": "stdout",
     "output_type": "stream",
     "text": [
      "(1440, 96)\n",
      "8645 start row:  6\n",
      "8668 start row:  6\n",
      "8690 start row:  6\n",
      "8712 start row:  6\n",
      "8734 start row:  6\n",
      "8756 start row:  6\n",
      "8779 start row:  6\n",
      "8801 start row:  6\n",
      "8823 start row:  6\n",
      "8845 start row:  6\n",
      "8867 start row:  6\n",
      "8889 start row:  6\n",
      "8912 start row:  6\n",
      "8934 start row:  6\n",
      "8956 start row:  6\n",
      "8978 start row:  6\n",
      "9000 start row:  6\n",
      "9023 start row:  6\n",
      "9045 start row:  6\n",
      "9067 start row:  6\n",
      "9089 start row:  6\n",
      "9134 start row:  6\n",
      "9156 start row:  6\n",
      "9178 start row:  6\n",
      "9200 start row:  6\n",
      "9222 start row:  6\n",
      "9245 start row:  6\n",
      "9267 start row:  6\n",
      "9289 start row:  6\n",
      "9311 start row:  6\n",
      "9333 start row:  6\n",
      "9355 start row:  6\n",
      "9378 start row:  6\n",
      "9400 start row:  6\n",
      "9422 start row:  6\n",
      "9444 start row:  6\n",
      "9466 start row:  6\n",
      "9489 start row:  6\n",
      "9511 start row:  6\n",
      "9533 start row:  6\n",
      "9555 start row:  6\n",
      "9577 start row:  6\n",
      "9599 start row:  6\n",
      "9622 start row:  6\n",
      "9644 start row:  6\n",
      "9666 start row:  6\n",
      "9688 start row:  6\n",
      "9710 start row:  6\n",
      "9733 start row:  6\n",
      "9755 start row:  6\n",
      "9777 start row:  6\n",
      "9799 start row:  6\n",
      "9821 start row:  6\n",
      "9866 start row:  6\n",
      "9888 start row:  6\n",
      "9910 start row:  6\n",
      "9932 start row:  6\n",
      "9955 start row:  6\n",
      "9977 start row:  6\n",
      "9999 start row:  6\n",
      "10021 start row:  6\n",
      "10043 start row:  6\n",
      "10065 start row:  6\n",
      "18728 start row:  13\n",
      "18750 start row:  13\n",
      "18773 start row:  13\n",
      "18795 start row:  13\n",
      "18817 start row:  13\n",
      "18839 start row:  13\n",
      "18862 start row:  13\n",
      "18884 start row:  13\n",
      "18906 start row:  13\n",
      "18928 start row:  13\n",
      "18950 start row:  13\n",
      "18973 start row:  13\n",
      "18995 start row:  13\n",
      "19017 start row:  13\n",
      "19039 start row:  13\n",
      "19061 start row:  13\n",
      "19084 start row:  13\n",
      "19106 start row:  13\n",
      "19128 start row:  13\n",
      "19150 start row:  13\n",
      "19173 start row:  13\n",
      "19217 start row:  13\n",
      "19239 start row:  13\n",
      "19264 start row:  13\n",
      "19286 start row:  13\n",
      "19310 start row:  13\n",
      "19335 start row:  13\n",
      "19359 start row:  13\n",
      "19381 start row:  13\n",
      "19403 start row:  13\n",
      "19426 start row:  13\n",
      "19448 start row:  13\n",
      "19470 start row:  13\n",
      "19492 start row:  13\n",
      "19514 start row:  13\n",
      "19537 start row:  13\n",
      "19559 start row:  13\n",
      "19581 start row:  13\n",
      "19603 start row:  13\n",
      "19625 start row:  13\n",
      "19648 start row:  13\n",
      "19670 start row:  13\n",
      "19692 start row:  13\n",
      "19714 start row:  13\n",
      "19737 start row:  13\n",
      "19759 start row:  13\n",
      "19781 start row:  13\n",
      "19803 start row:  13\n",
      "19825 start row:  13\n",
      "19847 start row:  13\n",
      "19870 start row:  13\n",
      "19892 start row:  13\n",
      "19936 start row:  13\n",
      "19958 start row:  13\n",
      "19981 start row:  13\n",
      "20003 start row:  13\n",
      "20025 start row:  13\n",
      "20047 start row:  13\n",
      "20069 start row:  13\n",
      "20092 start row:  13\n",
      "20114 start row:  13\n",
      "20136 start row:  13\n",
      "20158 start row:  13\n"
     ]
    }
   ],
   "source": [
    "#\n",
    "img = np.zeros((24*60,16*6))\n",
    "print (img.shape)\n",
    "\n",
    "#\n",
    "for ctr,start in enumerate(cohort.tracks_features_start_times_absolute_mins):\n",
    "    #\n",
    "    start_row = start//(24*60)#+15\n",
    "    start_col = start%(24*60)\n",
    "    print (start, \"start row: \", start_row)\n",
    "    \n",
    "    #\n",
    "    for k in range(6):\n",
    "        #if k>2:\n",
    "        #    break\n",
    "        temp = cohort.huddle_comps_min[ctr][k].squeeze()\n",
    "        idx = np.where(temp==1)[0]\n",
    "        temp[idx] = k+1\n",
    "        len_ = min(img[start_col:start_col+temp.shape[0]].shape[0], temp.shape[0])\n",
    "        img[start_col:start_col+len_,start_row*6+k] = temp[:len_]\n",
    "\n",
    "#\n",
    "plt.figure(figsize=(10,5))\n",
    "plt.imshow(img.T[::-1],\n",
    "          aspect='auto',\n",
    "          interpolation = \"None\",\n",
    "          extent= [0,24,14.5,30.5],\n",
    "          cmap=\"Accent_r\"\n",
    "          )\n",
    "\n",
    "# \n",
    "#yticks = np.arange(0,96,6)\n",
    "#yticks_new = yticks//6 + 15\n",
    "plt.ylabel(\"PDay\")\n",
    "plt.xlabel(\"Time (hr)\")\n",
    "plt.show()"
   ]
  },
  {
   "cell_type": "code",
   "execution_count": 82,
   "id": "13023056-b0da-44cb-b624-871d70ba2598",
   "metadata": {},
   "outputs": [
    {
     "ename": "AttributeError",
     "evalue": "'list' object has no attribute 'shape'",
     "output_type": "error",
     "traceback": [
      "\u001b[0;31m---------------------------------------------------------------------------\u001b[0m",
      "\u001b[0;31mAttributeError\u001b[0m                            Traceback (most recent call last)",
      "\u001b[0;32m<ipython-input-82-86956d0e09ec>\u001b[0m in \u001b[0;36m<module>\u001b[0;34m\u001b[0m\n\u001b[1;32m      2\u001b[0m cohort.ethogram.make_huddle_composition_ethogram_hourly(cohort.root_dir,\n\u001b[1;32m      3\u001b[0m                                                         \u001b[0mcohort\u001b[0m\u001b[0;34m.\u001b[0m\u001b[0mhuddle_comps\u001b[0m\u001b[0;34m,\u001b[0m\u001b[0;34m\u001b[0m\u001b[0m\n\u001b[0;32m----> 4\u001b[0;31m                                                         cohort.tracks_features_start_times_absolute_mins)\n\u001b[0m",
      "\u001b[0;32m~/code/gerbil/utils/ethogram/ethogram.py\u001b[0m in \u001b[0;36mmake_huddle_composition_ethogram_hourly\u001b[0;34m(root_dir, huddle_comps, tracks_features_start_times_absolute_mins)\u001b[0m\n\u001b[1;32m   1296\u001b[0m     \u001b[0;31m#\u001b[0m\u001b[0;34m\u001b[0m\u001b[0;34m\u001b[0m\u001b[0m\n\u001b[1;32m   1297\u001b[0m     \u001b[0mimg\u001b[0m\u001b[0;34m=\u001b[0m\u001b[0;34m[\u001b[0m\u001b[0;34m]\u001b[0m\u001b[0;34m\u001b[0m\u001b[0m\n\u001b[0;32m-> 1298\u001b[0;31m     \u001b[0;32mwhile\u001b[0m \u001b[0mdata\u001b[0m\u001b[0;34m.\u001b[0m\u001b[0mshape\u001b[0m\u001b[0;34m[\u001b[0m\u001b[0;36m0\u001b[0m\u001b[0;34m]\u001b[0m\u001b[0;34m>\u001b[0m\u001b[0;36m0\u001b[0m\u001b[0;34m:\u001b[0m\u001b[0;34m\u001b[0m\u001b[0m\n\u001b[0m\u001b[1;32m   1299\u001b[0m \u001b[0;34m\u001b[0m\u001b[0m\n\u001b[1;32m   1300\u001b[0m         \u001b[0;31m# grab the time\u001b[0m\u001b[0;34m\u001b[0m\u001b[0;34m\u001b[0m\u001b[0m\n",
      "\u001b[0;31mAttributeError\u001b[0m: 'list' object has no attribute 'shape'"
     ]
    }
   ],
   "source": [
    "\n",
    "#\n",
    "cohort.ethogram.make_huddle_composition_ethogram_hourly(cohort.root_dir,\n",
    "                                                        cohort.huddle_comps,\n",
    "                                                        cohort.tracks_features_start_times_absolute_mins)"
   ]
  },
  {
   "cell_type": "code",
   "execution_count": 71,
   "id": "26f0dd22-6963-442d-8a1d-0b7cd350dd7e",
   "metadata": {},
   "outputs": [
    {
     "name": "stdout",
     "output_type": "stream",
     "text": [
      "(6, 2881)\n"
     ]
    }
   ],
   "source": [
    "\n",
    "#def show_huddle_composition():\n",
    "    \n",
    "# downsample huddle comp\n",
    "downsample_rate = 10\n",
    "\n",
    "#\n",
    "huddle_comp = cohort.huddle_comps[10].T.copy()\n",
    "huddle_comp = huddle_comp[:,::downsample_rate]\n",
    "\n",
    "#\n",
    "for k in range(6):\n",
    "    huddle_comp[k]*=k+1\n",
    "print (huddle_comp.shape)\n",
    "\n",
    "\n",
    "\n",
    "#\n",
    "plt.figure()\n",
    "plt.imshow(huddle_comp,\n",
    "           aspect='auto',\n",
    "           interpolation=\"none\",\n",
    "           #extent = [     ],\n",
    "           cmap=\"Set1_r\")\n",
    "plt.show()"
   ]
  },
  {
   "cell_type": "code",
   "execution_count": null,
   "id": "8b52b8b1-1d9a-44f2-9e0b-3ec83a5ecdf4",
   "metadata": {},
   "outputs": [],
   "source": []
  },
  {
   "cell_type": "code",
   "execution_count": null,
   "id": "172cb45b-afee-4946-b7a0-041ddd7edcaf",
   "metadata": {},
   "outputs": [],
   "source": []
  },
  {
   "cell_type": "code",
   "execution_count": null,
   "id": "add804cc-9c3a-49fb-9b76-5b52e82f4c66",
   "metadata": {},
   "outputs": [],
   "source": []
  },
  {
   "cell_type": "code",
   "execution_count": null,
   "id": "65bb3243-beeb-400d-b165-4a3d93b71195",
   "metadata": {},
   "outputs": [],
   "source": []
  },
  {
   "cell_type": "code",
   "execution_count": null,
   "id": "ef175a13-b3b1-4575-af98-fb54e57b0e58",
   "metadata": {},
   "outputs": [],
   "source": []
  },
  {
   "cell_type": "code",
   "execution_count": null,
   "id": "2204bd79-70b1-41a8-ada5-0cc951c68e3d",
   "metadata": {},
   "outputs": [],
   "source": []
  },
  {
   "cell_type": "code",
   "execution_count": null,
   "id": "12dce189-65d1-447d-a6cd-d8d9b9c3f905",
   "metadata": {},
   "outputs": [],
   "source": []
  },
  {
   "cell_type": "code",
   "execution_count": null,
   "id": "2fbf457c-e84f-4108-a991-6d37fb1b0f6c",
   "metadata": {},
   "outputs": [],
   "source": []
  },
  {
   "cell_type": "code",
   "execution_count": null,
   "id": "51d3ce12-fd48-474c-addd-d01e23d45c06",
   "metadata": {},
   "outputs": [],
   "source": []
  },
  {
   "cell_type": "code",
   "execution_count": null,
   "id": "609cc33f-a807-40c9-8b5b-e45f4c32b40d",
   "metadata": {},
   "outputs": [],
   "source": []
  },
  {
   "cell_type": "code",
   "execution_count": null,
   "id": "94000d6a-9db8-4ea6-9a8e-0cbf424f5710",
   "metadata": {},
   "outputs": [],
   "source": []
  },
  {
   "cell_type": "code",
   "execution_count": null,
   "id": "a719e593-ef45-4dba-9ab5-f5aa5be8c448",
   "metadata": {},
   "outputs": [],
   "source": []
  },
  {
   "cell_type": "code",
   "execution_count": null,
   "id": "2a4eff95-0768-41a5-9a7d-098936e9298e",
   "metadata": {},
   "outputs": [],
   "source": []
  },
  {
   "cell_type": "code",
   "execution_count": null,
   "id": "fb88202f-fdcd-4fac-890f-421eda3bb6d0",
   "metadata": {},
   "outputs": [],
   "source": []
  },
  {
   "cell_type": "code",
   "execution_count": null,
   "id": "45f4f1c3-0f5f-4a67-827a-5ba613bc3292",
   "metadata": {},
   "outputs": [],
   "source": []
  },
  {
   "cell_type": "code",
   "execution_count": null,
   "id": "9d5e0288-5ece-4f2a-ba0e-2e5626d68ae5",
   "metadata": {},
   "outputs": [],
   "source": []
  },
  {
   "cell_type": "code",
   "execution_count": null,
   "id": "fa30a113-4dc7-431a-bff6-d058f29e3456",
   "metadata": {},
   "outputs": [],
   "source": []
  },
  {
   "cell_type": "code",
   "execution_count": null,
   "id": "49de6031-44cf-4e5c-a07f-1f0c0293bfd2",
   "metadata": {},
   "outputs": [],
   "source": []
  }
 ],
 "metadata": {
  "kernelspec": {
   "display_name": "Python 3",
   "language": "python",
   "name": "python3"
  },
  "language_info": {
   "codemirror_mode": {
    "name": "ipython",
    "version": 3
   },
   "file_extension": ".py",
   "mimetype": "text/x-python",
   "name": "python",
   "nbconvert_exporter": "python",
   "pygments_lexer": "ipython3",
   "version": "3.7.0"
  }
 },
 "nbformat": 4,
 "nbformat_minor": 5
}
