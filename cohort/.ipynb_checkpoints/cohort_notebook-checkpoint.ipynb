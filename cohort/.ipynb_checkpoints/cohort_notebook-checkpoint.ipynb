{
 "cells": [
  {
   "cell_type": "code",
   "execution_count": 1,
   "id": "35748575",
   "metadata": {
    "tags": []
   },
   "outputs": [
    {
     "data": {
      "application/javascript": [
       "IPython.notebook.set_autosave_interval(180000)"
      ]
     },
     "metadata": {},
     "output_type": "display_data"
    },
    {
     "name": "stdout",
     "output_type": "stream",
     "text": [
      "Autosaving every 180 seconds\n"
     ]
    },
    {
     "data": {
      "text/html": [
       "<style>.container { width:100% !important; }</style>"
      ],
      "text/plain": [
       "<IPython.core.display.HTML object>"
      ]
     },
     "metadata": {},
     "output_type": "display_data"
    }
   ],
   "source": [
    "import matplotlib\n",
    "%matplotlib tk\n",
    "%autosave 180\n",
    "%load_ext autoreload\n",
    "%autoreload 2\n",
    "\n",
    "import nest_asyncio\n",
    "\n",
    "%config Completer.use_jedi = False\n",
    "\n",
    "#\n",
    "import matplotlib.pyplot as plt\n",
    "from IPython.core.display import display, HTML\n",
    "display(HTML(\"<style>.container { width:100% !important; }</style>\"))\n",
    "\n",
    "# \n",
    "import matplotlib.cm as cm\n",
    "import numpy as np\n",
    "import os\n",
    "from tqdm import tqdm\n",
    "\n",
    "#\n",
    "import sys\n",
    "sys.path.append('/home/cat/code/gerbil/')\n",
    "\n",
    "# \n",
    "from utils.track import track\n",
    "from utils.convert import convert\n",
    "from utils.ethogram import ethogram\n",
    "from utils.database import database\n",
    "from utils.ethogram import ethogram"
   ]
  },
  {
   "cell_type": "code",
   "execution_count": 2,
   "id": "1cd83edf",
   "metadata": {
    "tags": []
   },
   "outputs": [
    {
     "name": "stdout",
     "output_type": "stream",
     "text": [
      "DF:     Unnamed: 0  Cohort NN Type                                   Filename Dev Day  # of Gerbils Time of Light Switch  Shaved?  Predicted?                                   Slp filename Start time\n",
      "0         0.0     2.0     Day  2020_07_20_09_53_59_813912_compressed.mp4     P15           6.0                  NaN      1.0         1.0  2020_07_20_09_53_59_813912_compressed_Day.slp   09:53:59\n",
      "1         1.0     2.0     Day  2020_07_20_10_16_08_629297_compressed.mp4     P15           6.0                  NaN      1.0         1.0  2020_07_20_10_16_08_629297_compressed_Day.slp   10:16:08\n",
      "2         2.0     2.0     Day  2020_07_20_10_38_20_043555_compressed.mp4     P15           6.0                  NaN      1.0         1.0  2020_07_20_10_38_20_043555_compressed_Day.slp   10:38:20\n",
      "3         3.0     2.0     Day  2020_07_20_11_00_31_566455_compressed.mp4     P15           6.0                  NaN      1.0         1.0  2020_07_20_11_00_31_566455_compressed_Day.slp   11:00:31\n",
      "4         4.0     2.0     Day  2020_07_20_11_22_36_823934_compressed.mp4     P15           6.0                  NaN      1.0         1.0  2020_07_20_11_22_36_823934_compressed_Day.slp   11:22:36\n",
      "Loading only recordings with 6 animals...\n",
      " ... total # :  991  /  991\n"
     ]
    }
   ],
   "source": [
    "######################################################\n",
    "############# LOAD ANIMAL DATABASE ###################\n",
    "######################################################\n",
    "fname_spreadsheet = '/mnt/b3a68699-495d-4ebb-9ab1-ac74f11c68c5/gerbil/cohort2/database.xlsx'\n",
    "# fname_spreadsheet = '/media/cat/4TBSSD/dan/cohort2/P21_P28/database.xlsx'\n",
    "\n",
    "#\n",
    "cohort = database.CohortProcessor(fname_spreadsheet)\n",
    "#cohort.fname_spreadsheet = '/mnt/b3a68699-495d-4ebb-9ab1-ac74f11c68c5/gerbil/cohort2/database.xlsx'\n",
    "cohort.load_database()\n",
    "\n",
    "# print (list(zip(cohort.PDays,cohort.Start_times))[0])\n",
    "# print (list(zip(cohort.PDays,cohort.Start_times))[1])\n",
    "# print (list(zip(cohort.PDays,cohort.Start_times))[100])"
   ]
  },
  {
   "cell_type": "code",
   "execution_count": 4,
   "id": "7ee0b3b1",
   "metadata": {
    "tags": []
   },
   "outputs": [
    {
     "name": "stderr",
     "output_type": "stream",
     "text": [
      "100%|██████████| 126/126 [00:00<00:00, 105233.43it/s]\n"
     ]
    }
   ],
   "source": [
    "######################################################\n",
    "############# PREPROCESS FEATURE TRACKS ##############\n",
    "######################################################\n",
    "cohort.n_cores = 30\n",
    "cohort.parallel = False\n",
    "cohort.interpolate_flag = False\n",
    "cohort.preprocess_feature_tracks()\n",
    "\n",
    "#"
   ]
  },
  {
   "cell_type": "code",
   "execution_count": 5,
   "id": "883c620d",
   "metadata": {
    "tags": []
   },
   "outputs": [
    {
     "name": "stderr",
     "output_type": "stream",
     "text": [
      "100%|██████████| 126/126 [00:00<00:00, 1016.11it/s]\n"
     ]
    }
   ],
   "source": [
    "#########################################################\n",
    "############## PREPROCESS HUDDLES #######################\n",
    "#########################################################\n",
    "\n",
    "# \n",
    "cohort.n_cores = 30\n",
    "cohort.parallel = True\n",
    "cohort.fix_track_flag = True\n",
    "cohort.interpolate_flag = True\n",
    "cohort.overwrite_flag = False\n",
    "cohort.no_huddle_features = True\n",
    "cohort.preprocess_huddle_tracks()\n",
    "\n",
    "#"
   ]
  },
  {
   "cell_type": "code",
   "execution_count": 6,
   "id": "b91ebfaf-55fd-4dc6-bb5e-8d75ce7caf08",
   "metadata": {},
   "outputs": [
    {
     "name": "stdout",
     "output_type": "stream",
     "text": [
      "# file pairs found:  126  (if less  than above, please check missing)\n"
     ]
    },
    {
     "name": "stderr",
     "output_type": "stream",
     "text": [
      "100%|██████████| 126/126 [00:10<00:00, 12.35it/s]\n"
     ]
    }
   ],
   "source": [
    "#######################################################\n",
    "########### REMOVE HUDDLES FROM FEATURE TRACKS ########\n",
    "#######################################################\n",
    "\n",
    "#\n",
    "cohort.huddle_min_distance = 200    # min distance from huddle in pixels for feature to be kept\n",
    "\n",
    "# this uses the _spine.npy data for tracks; and _huddle_spine_fixed_interpolated.npy for huddles\n",
    "# if we want to use something else, we can also code it\n",
    "cohort.parallel = True\n",
    "cohort.n_cores = 30\n",
    "cohort.remove_huddles_from_feature_tracks()\n",
    "\n",
    "#\n"
   ]
  },
  {
   "cell_type": "code",
   "execution_count": 8,
   "id": "3ef3925c",
   "metadata": {},
   "outputs": [
    {
     "name": "stdout",
     "output_type": "stream",
     "text": [
      "all_pairs:  [(0, 1), (0, 2), (0, 3), (0, 4), (0, 5), (1, 2), (1, 3), (1, 4), (1, 5), (2, 3), (2, 4), (2, 5), (3, 4), (3, 5), (4, 5)]\n"
     ]
    },
    {
     "name": "stderr",
     "output_type": "stream",
     "text": [
      "100%|███████████████████████████████████████| 1500/1500 [00:25<00:00, 58.10it/s]\n",
      "100%|███████████████████████████████████████| 1500/1500 [00:28<00:00, 53.36it/s]\n",
      "100%|███████████████████████████████████████| 1500/1500 [00:27<00:00, 54.84it/s]\n",
      "100%|███████████████████████████████████████| 1500/1500 [00:25<00:00, 59.78it/s]\n",
      "  4%|█▋                                       | 62/1500 [00:01<00:33, 42.63it/s]"
     ]
    },
    {
     "name": "stdout",
     "output_type": "stream",
     "text": [
      "Missing animal track...\n",
      "Missing animal track...\n"
     ]
    },
    {
     "name": "stderr",
     "output_type": "stream",
     "text": [
      "100%|███████████████████████████████████████| 1500/1500 [00:26<00:00, 56.86it/s]\n",
      "100%|███████████████████████████████████████| 1500/1500 [00:23<00:00, 63.27it/s]\n",
      "100%|███████████████████████████████████████| 1500/1500 [00:23<00:00, 64.17it/s]\n",
      "100%|███████████████████████████████████████| 1500/1500 [00:24<00:00, 60.17it/s]\n",
      "  4%|█▋                                       | 62/1500 [00:01<00:40, 35.67it/s]"
     ]
    },
    {
     "name": "stdout",
     "output_type": "stream",
     "text": [
      "Missing animal track...\n",
      "Missing animal track...\n"
     ]
    },
    {
     "name": "stderr",
     "output_type": "stream",
     "text": [
      "100%|███████████████████████████████████████| 1500/1500 [00:28<00:00, 53.48it/s]\n",
      "100%|███████████████████████████████████████| 1500/1500 [00:28<00:00, 52.41it/s]\n",
      "100%|███████████████████████████████████████| 1500/1500 [00:28<00:00, 52.36it/s]\n",
      "  4%|█▌                                       | 58/1500 [00:01<00:42, 34.16it/s]"
     ]
    },
    {
     "name": "stdout",
     "output_type": "stream",
     "text": [
      "Missing animal track...\n"
     ]
    },
    {
     "name": "stderr",
     "output_type": "stream",
     "text": [
      "  4%|█▊                                       | 66/1500 [00:01<00:42, 33.85it/s]"
     ]
    },
    {
     "name": "stdout",
     "output_type": "stream",
     "text": [
      "Missing animal track...\n"
     ]
    },
    {
     "name": "stderr",
     "output_type": "stream",
     "text": [
      "100%|███████████████████████████████████████| 1500/1500 [00:28<00:00, 52.95it/s]\n",
      "100%|███████████████████████████████████████| 1500/1500 [00:28<00:00, 52.66it/s]\n",
      "  4%|█▋                                       | 62/1500 [00:01<00:40, 35.10it/s]"
     ]
    },
    {
     "name": "stdout",
     "output_type": "stream",
     "text": [
      "Missing animal track...\n",
      "Missing animal track...\n"
     ]
    },
    {
     "name": "stderr",
     "output_type": "stream",
     "text": [
      "100%|███████████████████████████████████████| 1500/1500 [00:28<00:00, 52.81it/s]\n",
      "  4%|█▌                                       | 58/1500 [00:01<00:41, 34.68it/s]"
     ]
    },
    {
     "name": "stdout",
     "output_type": "stream",
     "text": [
      "Missing animal track...\n"
     ]
    },
    {
     "name": "stderr",
     "output_type": "stream",
     "text": [
      "  4%|█▊                                       | 66/1500 [00:01<00:41, 34.41it/s]"
     ]
    },
    {
     "name": "stdout",
     "output_type": "stream",
     "text": [
      "Missing animal track...\n"
     ]
    },
    {
     "name": "stderr",
     "output_type": "stream",
     "text": [
      "100%|███████████████████████████████████████| 1500/1500 [00:28<00:00, 52.50it/s]\n"
     ]
    }
   ],
   "source": [
    "######################################################\n",
    "########## TIME IN PROXIMITY BEHAVIOR ################\n",
    "######################################################\n",
    "\n",
    "#\n",
    "cohort.track_type = 'features'\n",
    "cohort.exclude_huddles = True\n",
    "cohort.recompute = True\n",
    "\n",
    "#\n",
    "n_partitions = 24\n",
    "behavior_name = 'pairwise_proximity'\n",
    "\n",
    "# select animals\n",
    "cohort.animal_ids = [0,1,2,3,4,5]\n",
    "\n",
    "all_pairs = [(a, b) for idx, a in enumerate(animal_ids) for b in animal_ids[idx + 1:]]\n",
    "print (\"all_pairs: \", all_pairs)\n",
    "\n",
    "#\n",
    "for pair in all_pairs:\n",
    "\n",
    "    cohort.animal_ids = [pair[0],pair[1]]\n",
    "    \n",
    "    #\n",
    "    cohort.get_pairwise_interaction_time(pair[0],\n",
    "                                         pair[1])\n",
    "\n",
    "    #\n",
    "    cohort.format_behavior()\n",
    "\n",
    "    #\n",
    "    ethogram.generate_ethogram_hourly(n_partitions, \n",
    "                                      behavior_name,\n",
    "                                      cohort,\n",
    "                                      cohort.exclude_huddles)\n"
   ]
  },
  {
   "cell_type": "code",
   "execution_count": 9,
   "id": "93064afa-a526-486a-ac23-27ffe7103e82",
   "metadata": {},
   "outputs": [
    {
     "name": "stdout",
     "output_type": "stream",
     "text": [
      "all_pairs:  [(0, 1), (0, 2), (0, 3), (0, 4), (0, 5), (1, 2), (1, 3), (1, 4), (1, 5), (2, 3), (2, 4), (2, 5), (3, 4), (3, 5), (4, 5)]\n"
     ]
    }
   ],
   "source": [
    "#####################################\n",
    "########## SHOW ETHOGRAMS ###########\n",
    "#####################################\n",
    "\n",
    "cohort.animal_ids = [0,1,2,3,4,5]\n",
    "\n",
    "all_pairs = [(a, b) for idx, a in enumerate(animal_ids) for b in animal_ids[idx + 1:]]\n",
    "print (\"all_pairs: \", all_pairs)\n",
    "\n",
    "#\n",
    "for pair in all_pairs:\n",
    "\n",
    "    cohort.animal_ids = [pair[0],pair[1]]\n",
    "    \n",
    "    cohort.exclude_huddles = True\n",
    "    ethogram.plot_ethogram_hourly(n_partitions,\n",
    "                                 behavior_name,\n",
    "                                 cohort,\n",
    "                                 cohort.exclude_huddles,\n",
    "                                 vmax=50)\n"
   ]
  },
  {
   "cell_type": "code",
   "execution_count": 70,
   "id": "b4018721",
   "metadata": {},
   "outputs": [
    {
     "name": "stdout",
     "output_type": "stream",
     "text": [
      "ASSUMING VIDEO IS 700 x 900... this only works for cohort2...\n",
      "<generator object at 0x7f5fedf86940>\n",
      "(28802, 6, 2)\n",
      "rectangular coords:  [[0. 0.]\n",
      " [0. 0.]]\n",
      "circular coords:  [[170.56699752 487.73343445]\n",
      " [247.39081886 558.83022087]]\n"
     ]
    }
   ],
   "source": [
    "################################################\n",
    "########### CREATE ROI OF INTEREST #############\n",
    "################################################\n",
    "# need to select 1 video and 1 slp for visualization purposes;\n",
    "# make sure the video is shirnk cropped and matches the traces from the slop also.\n",
    "cohort.fname_video ='/mnt/b3a68699-495d-4ebb-9ab1-ac74f11c68c5/gerbil/cohort2/2020_07_26_00_05_52_835502_compressed_defished_shrink_cropped.mp4'\n",
    "cohort.fname_slp_npy =  '/mnt/b3a68699-495d-4ebb-9ab1-ac74f11c68c5/gerbil/cohort2/features/2020_07_26_00_05_52_835502_compressed_Night_spine.npy'\n",
    "\n",
    "#\n",
    "cohort.load_video2()\n",
    "\n",
    "#\n",
    "cohort.set_roi()\n",
    "\n",
    "print (\"rectangular coords: \", cohort.rect_coords)\n",
    "print (\"circular coords: \", cohort.circle_coords)\n"
   ]
  },
  {
   "cell_type": "code",
   "execution_count": 59,
   "id": "3241dbff",
   "metadata": {},
   "outputs": [
    {
     "name": "stderr",
     "output_type": "stream",
     "text": [
      "100%|██████████| 1500/1500 [00:00<00:00, 4240.66it/s]\n",
      "100%|██████████| 1500/1500 [00:00<00:00, 4546.79it/s]\n",
      "100%|██████████| 1500/1500 [00:00<00:00, 4506.34it/s]\n",
      "100%|██████████| 1500/1500 [00:00<00:00, 4468.04it/s]\n",
      "100%|██████████| 1500/1500 [00:00<00:00, 4537.94it/s]\n",
      "100%|██████████| 1500/1500 [00:00<00:00, 4617.35it/s]\n"
     ]
    }
   ],
   "source": [
    "################################################\n",
    "########### COMPUTE CIRCLE OCCUPANCY ###########\n",
    "################################################\n",
    "\n",
    "#\n",
    "behavior_name = 'circular_region'\n",
    "\n",
    "# select animals\n",
    "cohort.exclude_huddles = True\n",
    "\n",
    "# select animals\n",
    "animal_ids = [0,1,2,3,4,5]\n",
    "\n",
    "#\n",
    "for animal_id in animal_ids:\n",
    "\n",
    "    #\n",
    "    #cohort.animals = animal_id\n",
    "    cohort.animal_ids = animal_id\n",
    "\n",
    "    #\n",
    "    cohort.get_circle_occupancy(cohort.animal_ids)\n",
    "\n",
    "    #\n",
    "    cohort.format_behavior()\n",
    "    \n",
    "    #\n",
    "    ethogram.generate_ethogram_hourly(n_partitions, \n",
    "                                      behavior_name,\n",
    "                                      cohort,\n",
    "                                      cohort.exclude_huddles)"
   ]
  },
  {
   "cell_type": "code",
   "execution_count": 64,
   "id": "067b161b",
   "metadata": {},
   "outputs": [
    {
     "name": "stderr",
     "output_type": "stream",
     "text": [
      "100%|██████████| 1500/1500 [00:00<00:00, 5187.88it/s]\n"
     ]
    },
    {
     "name": "stdout",
     "output_type": "stream",
     "text": [
      "res:  (1500,)\n"
     ]
    },
    {
     "name": "stderr",
     "output_type": "stream",
     "text": [
      "100%|██████████| 1500/1500 [00:00<00:00, 5652.57it/s]\n"
     ]
    },
    {
     "name": "stdout",
     "output_type": "stream",
     "text": [
      "res:  (1500,)\n"
     ]
    },
    {
     "name": "stderr",
     "output_type": "stream",
     "text": [
      "100%|██████████| 1500/1500 [00:00<00:00, 5699.60it/s]\n"
     ]
    },
    {
     "name": "stdout",
     "output_type": "stream",
     "text": [
      "res:  (1500,)\n"
     ]
    },
    {
     "name": "stderr",
     "output_type": "stream",
     "text": [
      "100%|██████████| 1500/1500 [00:00<00:00, 5620.74it/s]\n"
     ]
    },
    {
     "name": "stdout",
     "output_type": "stream",
     "text": [
      "res:  (1500,)\n"
     ]
    },
    {
     "name": "stderr",
     "output_type": "stream",
     "text": [
      "100%|██████████| 1500/1500 [00:00<00:00, 5590.20it/s]\n"
     ]
    },
    {
     "name": "stdout",
     "output_type": "stream",
     "text": [
      "res:  (1500,)\n"
     ]
    },
    {
     "name": "stderr",
     "output_type": "stream",
     "text": [
      "100%|██████████| 1500/1500 [00:00<00:00, 5738.32it/s]"
     ]
    },
    {
     "name": "stdout",
     "output_type": "stream",
     "text": [
      "res:  (1500,)\n"
     ]
    },
    {
     "name": "stderr",
     "output_type": "stream",
     "text": [
      "\n"
     ]
    }
   ],
   "source": [
    "################################################\n",
    "########### COMPUTE RECTANGLE OCCUPANCY ########\n",
    "################################################\n",
    "\n",
    "#\n",
    "behavior_name = 'rectangular_region'\n",
    "\n",
    "# select animals\n",
    "cohort.exclude_huddles = True\n",
    "\n",
    "# select animals\n",
    "animal_ids = [0,1,2,3,4,5]\n",
    "\n",
    "#\n",
    "for animal_id in animal_ids:\n",
    "\n",
    "    #\n",
    "    cohort.animal_ids = animal_id\n",
    "\n",
    "    #\n",
    "    cohort.get_rectangle_occupancy(cohort.animal_ids)\n",
    "\n",
    "    #\n",
    "    cohort.format_behavior()\n",
    "    \n",
    "    #\n",
    "    ethogram.generate_ethogram_hourly(n_partitions, \n",
    "                                      behavior_name,\n",
    "                                      cohort,\n",
    "                                      cohort.exclude_huddles)"
   ]
  },
  {
   "cell_type": "code",
   "execution_count": 10,
   "id": "b90328d9-ceee-476e-92c6-95dd1b9115bf",
   "metadata": {},
   "outputs": [
    {
     "name": "stdout",
     "output_type": "stream",
     "text": [
      "[(0, 1), (0, 2), (0, 3), (0, 4), (0, 5), (1, 2), (1, 3), (1, 4), (1, 5), (2, 3), (2, 4), (2, 5), (3, 4), (3, 5), (4, 5)]\n",
      "(240, 24)\n",
      "sums:  7639.942249380831\n",
      "X_pca:  (240, 3)\n",
      "removing zeros:  (0,)\n"
     ]
    }
   ],
   "source": [
    "######################################\n",
    "########### PCA SCATTER PLOTS ########\n",
    "######################################\n",
    "\n",
    "#\n",
    "animal_ids = [0,1,2,3,4,5]\n",
    "\n",
    "# choose one of these behaviors\n",
    "# cohort.behavior_name = 'rectangular_region'\n",
    "#cohort.behavior_name = 'circular_region'\n",
    "cohort.behavior_name = 'pairwise_proximity'\n",
    "\n",
    "# for single animal behaviors\n",
    "if cohort.behavior_name=='pairwise_proximity':\n",
    "    cohort.animal_ids = list((a, b) for idx, a in enumerate(animal_ids) for b in animal_ids[idx + 1:])\n",
    "else:\n",
    "    cohort.animal_ids = animal_ids\n",
    "\n",
    "#\n",
    "cohort.remove_zeros=True\n",
    "cohort.show_developmental_trajectories()\n",
    "\n",
    "#\n"
   ]
  },
  {
   "cell_type": "code",
   "execution_count": null,
   "id": "89761e65-b295-4caf-8c53-4622e40d1a7f",
   "metadata": {},
   "outputs": [],
   "source": []
  },
  {
   "cell_type": "code",
   "execution_count": null,
   "id": "33341191-e391-4dd8-9942-a1904d93c8e9",
   "metadata": {},
   "outputs": [],
   "source": []
  },
  {
   "cell_type": "code",
   "execution_count": null,
   "id": "84f379ab-81c2-444f-b46d-f6f21737d663",
   "metadata": {},
   "outputs": [],
   "source": []
  },
  {
   "cell_type": "code",
   "execution_count": null,
   "id": "4288b42b-9bd0-4980-a0d0-ab5afe1aac13",
   "metadata": {},
   "outputs": [],
   "source": []
  },
  {
   "cell_type": "code",
   "execution_count": null,
   "id": "d6c48260-18d0-4eab-813c-7e717c401cc8",
   "metadata": {},
   "outputs": [],
   "source": []
  },
  {
   "cell_type": "code",
   "execution_count": 36,
   "id": "9918851d-3d7c-4a7c-8b92-d246f8458f3b",
   "metadata": {},
   "outputs": [],
   "source": []
  },
  {
   "cell_type": "code",
   "execution_count": null,
   "id": "74dcc8a9-36c2-48e8-b710-6a50dab7e50b",
   "metadata": {},
   "outputs": [],
   "source": []
  },
  {
   "cell_type": "code",
   "execution_count": null,
   "id": "2b5e3f88-82e4-438b-86d4-f70c0c80018b",
   "metadata": {},
   "outputs": [],
   "source": []
  },
  {
   "cell_type": "code",
   "execution_count": null,
   "id": "44d66a8a-82e7-429e-97b8-2db93aec1085",
   "metadata": {},
   "outputs": [],
   "source": []
  },
  {
   "cell_type": "code",
   "execution_count": 16,
   "id": "206e25d9",
   "metadata": {},
   "outputs": [
    {
     "name": "stdout",
     "output_type": "stream",
     "text": [
      "(28802, 1, 2)\n",
      "(28802, 6, 2)\n"
     ]
    }
   ],
   "source": [
    "#######################################################\n",
    "########### REMOVE HUDDLES FROM FEATURE TRACKS ########\n",
    "#######################################################\n",
    "\n",
    "#\n",
    "track1 = np.load('/media/cat/4TBSSD/dan/cohort2/P21_P28/features/2020_07_26_00_05_52_835502_compressed_Night_spine.npy')\n",
    "track2 = np.load('/media/cat/4TBSSD/dan/cohort2/P21_P28/features/2020_07_26_00_05_52_835502_compressed_Night_spine_nohuddle.npy')\n",
    "\n",
    "#\n",
    "huddle = np.load('/media/cat/4TBSSD/dan/cohort2/P21_P28/huddles/2020_07_26_00_05_52_835502_compressed_Night_huddle_spine_fixed_interpolated.npy')\n",
    "print (huddle.shape)\n",
    "\n",
    "print (track1.shape)\n",
    "animal_id = 0\n",
    "\n",
    "# \n",
    "plt.figure()\n",
    "# plt.plot(track1[:,animal_id,0],\n",
    "#         track1[:,animal_id,1],\n",
    "#         c='red',\n",
    "#         alpha=.5)\n",
    "# \n",
    "plt.plot(track2[:,animal_id,0],\n",
    "        track2[:,animal_id,1]+10,\n",
    "        c='blue',\n",
    "        alpha=.5)\n",
    "# \n",
    "plt.scatter(huddle[:,0,0], huddle[:,0,1],\n",
    "           s=50,\n",
    "           alpha=.5)\n",
    "plt.xlim(0,900)\n",
    "plt.ylim(0,700)\n",
    "plt.show()\n",
    "\n",
    "# \n",
    "\n",
    "\n"
   ]
  },
  {
   "cell_type": "code",
   "execution_count": null,
   "id": "206e6f1d",
   "metadata": {},
   "outputs": [],
   "source": []
  },
  {
   "cell_type": "code",
   "execution_count": null,
   "id": "9d5e0288-5ece-4f2a-ba0e-2e5626d68ae5",
   "metadata": {},
   "outputs": [],
   "source": []
  },
  {
   "cell_type": "code",
   "execution_count": null,
   "id": "fa30a113-4dc7-431a-bff6-d058f29e3456",
   "metadata": {},
   "outputs": [],
   "source": []
  },
  {
   "cell_type": "code",
   "execution_count": null,
   "id": "49de6031-44cf-4e5c-a07f-1f0c0293bfd2",
   "metadata": {},
   "outputs": [],
   "source": []
  }
 ],
 "metadata": {
  "kernelspec": {
   "display_name": "sleap_new",
   "language": "python",
   "name": "sleap_new"
  },
  "language_info": {
   "codemirror_mode": {
    "name": "ipython",
    "version": 3
   },
   "file_extension": ".py",
   "mimetype": "text/x-python",
   "name": "python",
   "nbconvert_exporter": "python",
   "pygments_lexer": "ipython3",
   "version": "3.7.12"
  }
 },
 "nbformat": 4,
 "nbformat_minor": 5
}
