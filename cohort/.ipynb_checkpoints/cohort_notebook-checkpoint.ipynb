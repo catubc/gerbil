{
 "cells": [
  {
   "cell_type": "code",
   "execution_count": 1,
   "id": "35748575",
   "metadata": {
    "tags": []
   },
   "outputs": [
    {
     "data": {
      "application/javascript": [
       "IPython.notebook.set_autosave_interval(180000)"
      ]
     },
     "metadata": {},
     "output_type": "display_data"
    },
    {
     "name": "stdout",
     "output_type": "stream",
     "text": [
      "Autosaving every 180 seconds\n"
     ]
    },
    {
     "data": {
      "text/html": [
       "<style>.container { width:100% !important; }</style>"
      ],
      "text/plain": [
       "<IPython.core.display.HTML object>"
      ]
     },
     "metadata": {},
     "output_type": "display_data"
    }
   ],
   "source": [
    "import matplotlib\n",
    "%matplotlib tk\n",
    "%autosave 180\n",
    "%load_ext autoreload\n",
    "%autoreload 2\n",
    "\n",
    "import nest_asyncio\n",
    "\n",
    "%config Completer.use_jedi = False\n",
    "\n",
    "#\n",
    "import matplotlib.pyplot as plt\n",
    "from IPython.core.display import display, HTML\n",
    "display(HTML(\"<style>.container { width:100% !important; }</style>\"))\n",
    "\n",
    "# \n",
    "import matplotlib.cm as cm\n",
    "import numpy as np\n",
    "import os\n",
    "from tqdm import tqdm\n",
    "\n",
    "#\n",
    "import sys\n",
    "sys.path.append('/home/cat/code/gerbil/')\n",
    "\n",
    "# \n",
    "from utils.track import track\n",
    "from utils.convert import convert\n",
    "from utils.ethogram import ethogram\n",
    "from utils.database import database\n",
    "from utils.ethogram import ethogram"
   ]
  },
  {
   "cell_type": "code",
   "execution_count": 4,
   "id": "1cd83edf",
   "metadata": {
    "tags": []
   },
   "outputs": [
    {
     "name": "stdout",
     "output_type": "stream",
     "text": [
      "DF:     Unnamed: 0  Cohort NN Type                                   Filename Dev Day  # of Gerbils Time of Light Switch  Shaved?  Predicted?                                   Slp filename Start time\n",
      "0           0       2     Day  2020_07_20_09_53_59_813912_compressed.mp4     P15             6                  NaN        1           1  2020_07_20_09_53_59_813912_compressed_Day.slp   09:53:59\n",
      "1           1       2     Day  2020_07_20_10_16_08_629297_compressed.mp4     P15             6                  NaN        1           1  2020_07_20_10_16_08_629297_compressed_Day.slp   10:16:08\n",
      "2           2       2     Day  2020_07_20_10_38_20_043555_compressed.mp4     P15             6                  NaN        1           1  2020_07_20_10_38_20_043555_compressed_Day.slp   10:38:20\n",
      "3           3       2     Day  2020_07_20_11_00_31_566455_compressed.mp4     P15             6                  NaN        1           1  2020_07_20_11_00_31_566455_compressed_Day.slp   11:00:31\n",
      "4           4       2     Day  2020_07_20_11_22_36_823934_compressed.mp4     P15             6                  NaN        1           1  2020_07_20_11_22_36_823934_compressed_Day.slp   11:22:36\n",
      "Loading only recordings with 6 animals...\n",
      " ... total # :  991  /  991\n"
     ]
    }
   ],
   "source": [
    "######################################################\n",
    "############# LOAD ANIMAL DATABASE ###################\n",
    "######################################################\n",
    "cohort = database.CohortProcessor()\n",
    "cohort.fname_spreadsheet = '/mnt/b3a68699-495d-4ebb-9ab1-ac74f11c68c5/gerbil/cohort2/database.xlsx'\n",
    "cohort.fname_spreadsheet = '/media/cat/4TBSSD/dan/cohort2/P21_P28/database.xlsx'\n",
    "cohort.load_database()\n",
    "\n",
    "# print (list(zip(cohort.PDays,cohort.Start_times))[0])\n",
    "# print (list(zip(cohort.PDays,cohort.Start_times))[1])\n",
    "# print (list(zip(cohort.PDays,cohort.Start_times))[100])"
   ]
  },
  {
   "cell_type": "code",
   "execution_count": 9,
   "id": "7ee0b3b1",
   "metadata": {
    "tags": []
   },
   "outputs": [
    {
     "name": "stderr",
     "output_type": "stream",
     "text": [
      "100%|████████████████████████████████████████████████████████████████████████████████████████████████████████████| 939/939 [00:00<00:00, 72835.82it/s]\n"
     ]
    }
   ],
   "source": [
    "######################################################\n",
    "############# PREPROCESS FEATURE TRACKS ##############\n",
    "######################################################\n",
    "cohort.n_cores = 30\n",
    "cohort.parallel = False\n",
    "cohort.interpolate_flag = False\n",
    "cohort.preprocess_feature_tracks()\n",
    "\n"
   ]
  },
  {
   "cell_type": "code",
   "execution_count": 10,
   "id": "883c620d",
   "metadata": {
    "tags": []
   },
   "outputs": [
    {
     "name": "stderr",
     "output_type": "stream",
     "text": [
      "100%|███████████████████████████████████████████████████████████████████████████████████████████████████████████| 939/939 [00:00<00:00, 110024.90it/s]\n"
     ]
    }
   ],
   "source": [
    "#########################################################\n",
    "############## PREPROCESS HUDDLES #######################\n",
    "#########################################################\n",
    "\n",
    "# \n",
    "cohort.parallel = False\n",
    "cohort.fix_track_flag = True\n",
    "cohort.interpolate_flag = True\n",
    "cohort.overwrite_flag = False\n",
    "cohort.preprocess_huddle_tracks()\n",
    "\n"
   ]
  },
  {
   "cell_type": "code",
   "execution_count": 182,
   "id": "3ef3925c",
   "metadata": {},
   "outputs": [
    {
     "name": "stderr",
     "output_type": "stream",
     "text": [
      "100%|██████████| 1500/1500 [00:03<00:00, 468.65it/s]\n"
     ]
    },
    {
     "name": "stdout",
     "output_type": "stream",
     "text": [
      "res:  (1500,)\n",
      "[[15.  9.  0.]\n",
      " [15. 10.  0.]\n",
      " [15. 10.  0.]\n",
      " ...\n",
      " [30.  9.  0.]\n",
      " [30.  9.  0.]\n",
      " [30. 10.  0.]]\n",
      "start day:  15.0\n",
      "start time:  9.0\n"
     ]
    }
   ],
   "source": [
    "######################################################\n",
    "########## TIME IN PROXIMITY BEHAVIOR ################\n",
    "######################################################\n",
    "\n",
    "#\n",
    "names = ['female','male','pup1','pup2','pup3','pup4']\n",
    "cohort.track_type = 'features'\n",
    "n_partitions = 24\n",
    "behavior_name = 'time in proximity'\n",
    "\n",
    "# select animals\n",
    "cohort.animals = [0,5]\n",
    "\n",
    "\n",
    "#\n",
    "cohort.animals_interacting = ''+names[cohort.animals[0]] + \" \" + names[cohort.animals[1]]\n",
    "cohort.get_pairwise_interaction_time(cohort.animals[0], cohort.animals[1])\n",
    "\n",
    "#\n",
    "cohort.format_behavior()\n",
    "ethogram.plot_ethogram_hourly(n_partitions, \n",
    "                              behavior_name,\n",
    "                              cohort,\n",
    "                              vmax=50)\n"
   ]
  },
  {
   "cell_type": "code",
   "execution_count": 191,
   "id": "b4018721",
   "metadata": {},
   "outputs": [
    {
     "name": "stdout",
     "output_type": "stream",
     "text": [
      "(28802, 6, 2)\n",
      "rectangular coords:  [[ 56.22456576 383.63636364]\n",
      " [267.04342432 608.18181818]]\n",
      "circular coords:  [[155.3808933  504.54545455]\n",
      " [223.27171216 392.72727273]]\n"
     ]
    }
   ],
   "source": [
    "################################################\n",
    "########### CREATE ROI OF INTEREST #############\n",
    "################################################\n",
    "# need to select 1 video and 1 slp for visualization purposes;\n",
    "# make sure the video is shirnk cropped and matches the traces from the slop also.\n",
    "cohort.fname_video ='/media/cat/4TBSSD/dan/cohort2/P21_P28/2020_07_26_00_05_52_835502_compressed_defished_shrink_cropped.mp4'\n",
    "cohort.fname_slp_npy =  '/media/cat/4TBSSD/dan/cohort2/P21_P28/features/2020_07_26_00_05_52_835502_compressed_Night_spine.npy'\n",
    "\n",
    "#\n",
    "cohort.load_video()\n",
    "\n",
    "#\n",
    "cohort.set_roi()\n",
    "\n",
    "print (\"rectangular coords: \", cohort.rect_coords)\n",
    "print (\"circular coords: \", cohort.circle_coords)\n"
   ]
  },
  {
   "cell_type": "code",
   "execution_count": 197,
   "id": "3241dbff",
   "metadata": {},
   "outputs": [
    {
     "name": "stderr",
     "output_type": "stream",
     "text": [
      "100%|██████████| 1500/1500 [00:00<00:00, 3507.42it/s]\n"
     ]
    },
    {
     "name": "stdout",
     "output_type": "stream",
     "text": [
      "res:  (1500,)\n",
      "[[15.  9.  0.]\n",
      " [15. 10.  0.]\n",
      " [15. 10.  0.]\n",
      " ...\n",
      " [30.  9.  0.]\n",
      " [30.  9.  0.]\n",
      " [30. 10.  0.]]\n",
      "start day:  15.0\n",
      "start time:  9.0\n"
     ]
    }
   ],
   "source": [
    "################################################\n",
    "########### COMPUTE CIRCLE OCCUPANCY ###########\n",
    "################################################\n",
    "\n",
    "#\n",
    "behavior_name = 'huddle - circular'\n",
    "\n",
    "# select animals\n",
    "cohort.animals = 0\n",
    "\n",
    "\n",
    "#\n",
    "cohort.get_circle_occupancy(cohort.animals)\n",
    "\n",
    "#\n",
    "cohort.format_behavior()\n",
    "ethogram.plot_ethogram_hourly(n_partitions, \n",
    "                              behavior_name,\n",
    "                              cohort,\n",
    "                              vmax=50)\n"
   ]
  },
  {
   "cell_type": "code",
   "execution_count": 198,
   "id": "067b161b",
   "metadata": {},
   "outputs": [
    {
     "name": "stderr",
     "output_type": "stream",
     "text": [
      "100%|██████████| 1500/1500 [00:00<00:00, 3714.08it/s]\n"
     ]
    },
    {
     "name": "stdout",
     "output_type": "stream",
     "text": [
      "res:  (1500,)\n",
      "[[15.  9.  0.]\n",
      " [15. 10.  0.]\n",
      " [15. 10.  0.]\n",
      " ...\n",
      " [30.  9.  0.]\n",
      " [30.  9.  0.]\n",
      " [30. 10.  0.]]\n",
      "start day:  15.0\n",
      "start time:  9.0\n"
     ]
    }
   ],
   "source": [
    "################################################\n",
    "########### COMPUTE RECTANGLE OCCUPANCY ########\n",
    "################################################\n",
    "\n",
    "#\n",
    "behavior_name = 'food hopper occupancy - rectangle'\n",
    "\n",
    "# select animals\n",
    "cohort.animals = 0\n",
    "\n",
    "#\n",
    "cohort.get_rectangle_occupancy(cohort.animals)\n",
    "\n",
    "#\n",
    "cohort.format_behavior()\n",
    "ethogram.plot_ethogram_hourly(n_partitions, \n",
    "                              behavior_name,\n",
    "                              cohort,\n",
    "                              vmax=50)\n"
   ]
  },
  {
   "cell_type": "code",
   "execution_count": null,
   "id": "206e25d9",
   "metadata": {},
   "outputs": [],
   "source": []
  },
  {
   "cell_type": "code",
   "execution_count": null,
   "id": "206e6f1d",
   "metadata": {},
   "outputs": [],
   "source": []
  }
 ],
 "metadata": {
  "kernelspec": {
   "display_name": "Python 3",
   "language": "python",
   "name": "python3"
  },
  "language_info": {
   "codemirror_mode": {
    "name": "ipython",
    "version": 3
   },
   "file_extension": ".py",
   "mimetype": "text/x-python",
   "name": "python",
   "nbconvert_exporter": "python",
   "pygments_lexer": "ipython3",
   "version": "3.7.0"
  }
 },
 "nbformat": 4,
 "nbformat_minor": 5
}
