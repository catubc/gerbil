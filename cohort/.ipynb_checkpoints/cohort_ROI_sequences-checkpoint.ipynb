{
 "cells": [
  {
   "cell_type": "code",
   "execution_count": 19,
   "id": "35748575",
   "metadata": {
    "tags": []
   },
   "outputs": [
    {
     "data": {
      "application/javascript": [
       "IPython.notebook.set_autosave_interval(180000)"
      ]
     },
     "metadata": {},
     "output_type": "display_data"
    },
    {
     "name": "stdout",
     "output_type": "stream",
     "text": [
      "Autosaving every 180 seconds\n",
      "The autoreload extension is already loaded. To reload it, use:\n",
      "  %reload_ext autoreload\n"
     ]
    },
    {
     "data": {
      "text/html": [
       "<style>.container { width:100% !important; }</style>"
      ],
      "text/plain": [
       "<IPython.core.display.HTML object>"
      ]
     },
     "metadata": {},
     "output_type": "display_data"
    }
   ],
   "source": [
    "import matplotlib\n",
    "%matplotlib tk\n",
    "#%matplotlib inline\n",
    "%autosave 180\n",
    "%load_ext autoreload\n",
    "%autoreload 2\n",
    "\n",
    "import nest_asyncio\n",
    "\n",
    "%config Completer.use_jedi = False\n",
    "\n",
    "#\n",
    "import matplotlib.pyplot as plt\n",
    "from IPython.core.display import display, HTML\n",
    "display(HTML(\"<style>.container { width:100% !important; }</style>\"))\n",
    "\n",
    "# \n",
    "import matplotlib.cm as cm\n",
    "import numpy as np\n",
    "import os\n",
    "from tqdm import tqdm, trange\n",
    "\n",
    "#\n",
    "import sys\n",
    "sys.path.append('/home/cat/code/gerbil/')\n",
    "\n",
    "# \n",
    "from utils.track import track\n",
    "from utils.convert import convert\n",
    "from utils.ethogram import ethogram\n",
    "from utils.cohort import cohort\n",
    "from utils.cohort.cohort import generate_developmental_roi_sequences, flatten_invert_ethogram\n",
    "from utils.ethogram import ethogram\n",
    "\n",
    "from utils_local.utils import get_ratio2\n"
   ]
  },
  {
   "cell_type": "code",
   "execution_count": 2,
   "id": "1cd83edf",
   "metadata": {
    "tags": []
   },
   "outputs": [
    {
     "name": "stdout",
     "output_type": "stream",
     "text": [
      "DF:     Unnamed: 0  Cohort NN Type                                   Filename Dev Day  # of Gerbils Time of Light Switch  Shaved?  Predicted?                                   Slp filename Start time\n",
      "0           0       2     Day  2020_07_20_09_53_59_813912_compressed.mp4     P15             6                  NaN        1           1  2020_07_20_09_53_59_813912_compressed_Day.slp   09:53:59\n",
      "1           1       2     Day  2020_07_20_10_16_08_629297_compressed.mp4     P15             6                  NaN        1           1  2020_07_20_10_16_08_629297_compressed_Day.slp   10:16:08\n",
      "2           2       2     Day  2020_07_20_10_38_20_043555_compressed.mp4     P15             6                  NaN        1           1  2020_07_20_10_38_20_043555_compressed_Day.slp   10:38:20\n",
      "3           3       2     Day  2020_07_20_11_00_31_566455_compressed.mp4     P15             6                  NaN        1           1  2020_07_20_11_00_31_566455_compressed_Day.slp   11:00:31\n",
      "4           4       2     Day  2020_07_20_11_22_36_823934_compressed.mp4     P15             6                  NaN        1           1  2020_07_20_11_22_36_823934_compressed_Day.slp   11:22:36\n",
      "Loading only recordings with 6 animals...\n",
      " ... total # :  991  /  991\n"
     ]
    }
   ],
   "source": [
    "######################################################\n",
    "############# LOAD ANIMAL DATABASE ###################\n",
    "######################################################\n",
    "fname_spreadsheet = '/mnt/b3a68699-495d-4ebb-9ab1-ac74f11c68c5/gerbil/cohort2/database.xlsx'\n",
    "#fname_spreadsheet = '/media/cat/4TBSSD/dan/cohort2/P21_P28/database.xlsx'\n",
    "\n",
    "#\n",
    "cohort = cohort.CohortProcessor(fname_spreadsheet)\n",
    "#cohort.fname_spreadsheet = '/mnt/b3a68699-495d-4ebb-9ab1-ac74f11c68c5/gerbil/cohort2/database.xlsx'\n",
    "cohort.load_database()\n",
    "\n",
    "#\n",
    "cohort.ethogram = ethogram\n",
    "\n",
    "# print (list(zip(cohort.PDays,cohort.Start_times))[0])\n",
    "# print (list(zip(cohort.PDays,cohort.Start_times))[1])\n",
    "# print (list(zip(cohort.PDays,cohort.Start_times))[100])"
   ]
  },
  {
   "cell_type": "code",
   "execution_count": 3,
   "id": "f7d87293-8290-46b6-ba59-77988c2c500d",
   "metadata": {
    "tags": []
   },
   "outputs": [
    {
     "name": "stdout",
     "output_type": "stream",
     "text": [
      "<generator object at 0x7f1a64151d60>\n",
      "(28802, 6, 2)\n",
      "rectangular coords:  [[575.23200993 395.78159067]\n",
      " [833.39578164 577.78936392]]\n",
      "circular coords:  [[0. 0.]\n",
      " [0. 0.]]\n"
     ]
    }
   ],
   "source": [
    "################################################\n",
    "########### CREATE ROI OF INTEREST #############\n",
    "################################################\n",
    "# need to select 1 video and 1 slp for visualization purposes;\n",
    "# make sure the video is shirnk cropped and matches the traces from the slop also.\n",
    "\n",
    "# cohort 2\n",
    "cohort.fname_video ='/mnt/b3a68699-495d-4ebb-9ab1-ac74f11c68c5/gerbil/cohort2/2020_07_26_00_05_52_835502_compressed_defished_shrink_cropped.mp4'\n",
    "cohort.fname_slp_npy =  '/mnt/b3a68699-495d-4ebb-9ab1-ac74f11c68c5/gerbil/cohort2/features/2020_07_26_00_05_52_835502_compressed_Night_spine.npy'\n",
    "\n",
    "# cohort 3 (works for 4 as well)\n",
    "#cohort.fname_video = '/mnt/b3a68699-495d-4ebb-9ab1-ac74f11c68c5/gerbil/cohort3/2020_08_26_19_08_47_120266_compressed_shrink_cropped.mp4'\n",
    "#cohort.fname_slp_npy =  '/mnt/b3a68699-495d-4ebb-9ab1-ac74f11c68c5/gerbil/cohort3/features/2020_08_26_19_08_47_120266_compressed_Day_spine.npy'\n",
    "\n",
    "# cat's workstation; comment out\n",
    "# cohort.fname_video ='/media/cat/4TBSSD/dan/cohort2/P21_P28/2020_07_26_00_05_52_835502_compressed_defished_shrink_cropped.mp4'\n",
    "# cohort.fname_slp_npy =  '/media/cat/4TBSSD/dan/cohort2/P21_P28/features/2020_07_26_00_05_52_835502_compressed_Night_spine.npy'\n",
    "\n",
    "\n",
    "# cohorts 2\n",
    "cohort.max_x = 900\n",
    "cohort.max_y = 700\n",
    "\n",
    "# cohorts 3 and 4\n",
    "#cohort.max_x = 1160\n",
    "#cohort.max_y = 830\n",
    "\n",
    "#\n",
    "cohort.load_video2()\n",
    "\n",
    "#\n",
    "cohort.set_roi()\n",
    "\n",
    "print (\"rectangular coords: \", cohort.rect_coords)\n",
    "print (\"circular coords: \", cohort.circle_coords)"
   ]
  },
  {
   "cell_type": "code",
   "execution_count": 4,
   "id": "d50a5204-f611-4bd1-b4ec-799a481ce6ff",
   "metadata": {
    "tags": []
   },
   "outputs": [],
   "source": [
    "# print (\"rectangular coords: \", cohort.rect_coords)\n",
    "# plt.figure()\n",
    "# plt.scatter(cohort.rect_coords[0,0],\n",
    "#             cohort.rect_coords[0,1], c='red')\n",
    "# plt.scatter(cohort.rect_coords[1,0],\n",
    "#             cohort.rect_coords[1,1], c='blue')\n",
    "\n",
    "# plt.show()\n"
   ]
  },
  {
   "cell_type": "code",
   "execution_count": 5,
   "id": "ebe8a534-5d20-4f74-87eb-b6c677c09e2d",
   "metadata": {
    "tags": []
   },
   "outputs": [
    {
     "name": "stderr",
     "output_type": "stream",
     "text": [
      "checking up to 1500 .slp files: 100%|██████| 1500/1500 [00:03<00:00, 412.41it/s]\n"
     ]
    },
    {
     "name": "stdout",
     "output_type": "stream",
     "text": [
      "res:  (1500,)\n"
     ]
    },
    {
     "name": "stderr",
     "output_type": "stream",
     "text": [
      "checking up to 1500 .slp files: 100%|██████| 1500/1500 [00:03<00:00, 391.14it/s]\n"
     ]
    },
    {
     "name": "stdout",
     "output_type": "stream",
     "text": [
      "res:  (1500,)\n"
     ]
    },
    {
     "name": "stderr",
     "output_type": "stream",
     "text": [
      "checking up to 1500 .slp files: 100%|██████| 1500/1500 [00:02<00:00, 543.05it/s]\n"
     ]
    },
    {
     "name": "stdout",
     "output_type": "stream",
     "text": [
      "res:  (1500,)\n"
     ]
    },
    {
     "name": "stderr",
     "output_type": "stream",
     "text": [
      "checking up to 1500 .slp files: 100%|██████| 1500/1500 [00:03<00:00, 498.84it/s]\n"
     ]
    },
    {
     "name": "stdout",
     "output_type": "stream",
     "text": [
      "res:  (1500,)\n"
     ]
    },
    {
     "name": "stderr",
     "output_type": "stream",
     "text": [
      "checking up to 1500 .slp files: 100%|██████| 1500/1500 [00:02<00:00, 530.42it/s]\n"
     ]
    },
    {
     "name": "stdout",
     "output_type": "stream",
     "text": [
      "res:  (1500,)\n"
     ]
    },
    {
     "name": "stderr",
     "output_type": "stream",
     "text": [
      "checking up to 1500 .slp files:   3%|▏       | 41/1500 [00:00<00:03, 408.69it/s]"
     ]
    },
    {
     "name": "stdout",
     "output_type": "stream",
     "text": [
      "anima; 5 error loading track:  35\n",
      "anima; 5 error loading track:  42\n",
      "anima; 5 error loading track:  61\n"
     ]
    },
    {
     "name": "stderr",
     "output_type": "stream",
     "text": [
      "checking up to 1500 .slp files:   5%|▍       | 82/1500 [00:00<00:03, 407.25it/s]"
     ]
    },
    {
     "name": "stdout",
     "output_type": "stream",
     "text": [
      "anima; 5 error loading track:  64\n"
     ]
    },
    {
     "name": "stderr",
     "output_type": "stream",
     "text": [
      "checking up to 1500 .slp files:  14%|▉      | 209/1500 [00:00<00:03, 415.18it/s]"
     ]
    },
    {
     "name": "stdout",
     "output_type": "stream",
     "text": [
      "anima; 5 error loading track:  166\n"
     ]
    },
    {
     "name": "stderr",
     "output_type": "stream",
     "text": [
      "checking up to 1500 .slp files:  25%|█▋     | 373/1500 [00:00<00:03, 373.90it/s]"
     ]
    },
    {
     "name": "stdout",
     "output_type": "stream",
     "text": [
      "anima; 5 error loading track:  329\n"
     ]
    },
    {
     "name": "stderr",
     "output_type": "stream",
     "text": [
      "checking up to 1500 .slp files: 100%|██████| 1500/1500 [00:02<00:00, 551.03it/s]\n"
     ]
    },
    {
     "name": "stdout",
     "output_type": "stream",
     "text": [
      "res:  (1500,)\n",
      "DONE\n"
     ]
    }
   ],
   "source": [
    "################################################\n",
    "########### COMPUTE CIRCLE OCCUPANCY ###########\n",
    "################################################\n",
    "\n",
    "#\n",
    "behavior_name = 'rectangular_region'   # \"circular_region' or 'rectangular_region\"\n",
    "\n",
    "# select animals\n",
    "cohort.exclude_huddles = False\n",
    "cohort.recompute = True\n",
    "\n",
    "# select animals\n",
    "animal_ids = [0,1,2,3,4,5]\n",
    "#animal_ids = [0]\n",
    "\n",
    "#\n",
    "for animal_id in animal_ids:\n",
    "\n",
    "    #\n",
    "    #cohort.animals = animal_id\n",
    "    cohort.animal_ids = animal_id\n",
    "\n",
    "    #\n",
    "    cohort.get_rectangle_occupancy(cohort.animal_ids)\n",
    "\n",
    "    #\n",
    "    cohort.format_behavior()\n",
    "    \n",
    "    #\n",
    "    ethogram.generate_ethogram_hourly( \n",
    "                                      behavior_name,\n",
    "                                      cohort,\n",
    "                                      cohort.exclude_huddles)\n",
    "print (\"DONE\")"
   ]
  },
  {
   "cell_type": "code",
   "execution_count": 6,
   "id": "77e9179c-caee-4014-8df4-3bd9f90eb445",
   "metadata": {
    "tags": []
   },
   "outputs": [
    {
     "name": "stdout",
     "output_type": "stream",
     "text": [
      "# of feature tracks:  991 , missing:  0\n"
     ]
    },
    {
     "name": "stderr",
     "output_type": "stream",
     "text": [
      "1001it [02:42,  6.16it/s]                                                       \n"
     ]
    }
   ],
   "source": [
    "################################################\n",
    "########### COMPUTE RECTANGLE ETHOGRAMS ########\n",
    "################################################\n",
    "\n",
    "#\n",
    "#\n",
    "cohort.video_frame_rate = 24\n",
    "cohort.parallel_flag = True\n",
    "\n",
    "# set the flags for the huddle corrections\n",
    "cohort.fix_track_flag = True\n",
    "cohort.interpolate_flag = True\n",
    "#cohort.load_huddle_tracks()\n",
    "\n",
    "# # this just loads the _spine.npy files;\n",
    "cohort.use_nohuddle = True\n",
    "cohort.load_feature_tracks()\n",
    "\n",
    "# # this computes mode-based occupancy in the nest with 1min bins\n",
    "cohort.median_filter_width = cohort.video_frame_rate*5+1 # 1: there is no smotthing; n x frame rate gives you n seconds of somothing (always add 1 to get odd number)\n",
    "#cohort.n_frames_per_bin = cohort.video_frame_rate  # single second resolution\n",
    "cohort.n_frames_per_bin = cohort.video_frame_rate #*60  # single second resolution\n",
    "cohort.n_cores = 24\n",
    "\n",
    "#\n",
    "cohort.compute_rectangle_composition()"
   ]
  },
  {
   "cell_type": "code",
   "execution_count": 9,
   "id": "65520c70-ad41-408f-a22b-20ed590da206",
   "metadata": {
    "tags": []
   },
   "outputs": [
    {
     "name": "stderr",
     "output_type": "stream",
     "text": [
      "100%|███████████████████████████████████████| 991/991 [00:00<00:00, 2092.28it/s]\n"
     ]
    }
   ],
   "source": [
    "################################################\n",
    "########### SHOW RECTANGLE ETHOGRAM ############\n",
    "################################################\n",
    "\n",
    "#%matplotlib qt\n",
    "\n",
    "#\n",
    "cohort.forward_padding = 20 # padding in percent\n",
    "cohort.generate_rectangle_composition_ethograms()\n",
    "\n",
    "fname_ethogram = '/home/cat/random_rectangle_ethogram_cohort2.npy'\n",
    "np.save(fname_ethogram, cohort.rectangle_ethogram)\n",
    "\n",
    "#\n",
    "cohort.show_rectangle_composition_ethogram_all_animals()\n"
   ]
  },
  {
   "cell_type": "code",
   "execution_count": 10,
   "id": "566eca6d-378e-4942-9b2e-74e87a713ed2",
   "metadata": {
    "tags": []
   },
   "outputs": [
    {
     "name": "stdout",
     "output_type": "stream",
     "text": [
      "(112, 86400)\n"
     ]
    }
   ],
   "source": [
    "# #np.save('/home/cat/rectangle_ethogram.npy', cohort.rectangle_ethogram)\n",
    "# cohort.rectangle_ethogram = np.load(fname_ethogram)\n",
    "# print (cohort.rectangle_ethogram.shape)\n"
   ]
  },
  {
   "cell_type": "code",
   "execution_count": 24,
   "id": "e6bfa765-f6bc-40d0-969b-6907d842e3da",
   "metadata": {
    "tags": []
   },
   "outputs": [
    {
     "ename": "AttributeError",
     "evalue": "module 'utils.cohort.cohort' has no attribute 'rectangle_ethogram'",
     "output_type": "error",
     "traceback": [
      "\u001b[0;31m---------------------------------------------------------------------------\u001b[0m",
      "\u001b[0;31mAttributeError\u001b[0m                            Traceback (most recent call last)",
      "\u001b[0;32m/tmp/ipykernel_21969/117163269.py\u001b[0m in \u001b[0;36m<module>\u001b[0;34m\u001b[0m\n\u001b[1;32m      5\u001b[0m \u001b[0;34m\u001b[0m\u001b[0m\n\u001b[1;32m      6\u001b[0m \u001b[0;31m# NEED TO run previous cell to compute \"huddle_ethogram\" values\u001b[0m\u001b[0;34m\u001b[0m\u001b[0;34m\u001b[0m\u001b[0;34m\u001b[0m\u001b[0m\n\u001b[0;32m----> 7\u001b[0;31m \u001b[0methogram_flat_selected\u001b[0m \u001b[0;34m=\u001b[0m \u001b[0mcohort\u001b[0m\u001b[0;34m.\u001b[0m\u001b[0mflatten_invert_ethogram\u001b[0m\u001b[0;34m(\u001b[0m\u001b[0mcohort\u001b[0m\u001b[0;34m)\u001b[0m\u001b[0;34m\u001b[0m\u001b[0;34m\u001b[0m\u001b[0m\n\u001b[0m",
      "\u001b[0;32m~/code/gerbil/utils/cohort/cohort.py\u001b[0m in \u001b[0;36mflatten_invert_ethogram\u001b[0;34m(cohort)\u001b[0m\n\u001b[1;32m   2934\u001b[0m \u001b[0;32mdef\u001b[0m \u001b[0mflatten_invert_ethogram\u001b[0m\u001b[0;34m(\u001b[0m\u001b[0mcohort\u001b[0m\u001b[0;34m)\u001b[0m\u001b[0;34m:\u001b[0m\u001b[0;34m\u001b[0m\u001b[0;34m\u001b[0m\u001b[0m\n\u001b[1;32m   2935\u001b[0m \u001b[0;34m\u001b[0m\u001b[0m\n\u001b[0;32m-> 2936\u001b[0;31m     \u001b[0mprint\u001b[0m \u001b[0;34m(\u001b[0m\u001b[0;34m\"rectangle ethogram: \"\u001b[0m\u001b[0;34m,\u001b[0m \u001b[0mcohort\u001b[0m\u001b[0;34m.\u001b[0m\u001b[0mrectangle_ethogram\u001b[0m\u001b[0;34m.\u001b[0m\u001b[0mshape\u001b[0m\u001b[0;34m)\u001b[0m\u001b[0;34m\u001b[0m\u001b[0;34m\u001b[0m\u001b[0m\n\u001b[0m\u001b[1;32m   2937\u001b[0m \u001b[0;34m\u001b[0m\u001b[0m\n\u001b[1;32m   2938\u001b[0m     \u001b[0;31m#\u001b[0m\u001b[0;34m\u001b[0m\u001b[0;34m\u001b[0m\u001b[0;34m\u001b[0m\u001b[0m\n",
      "\u001b[0;31mAttributeError\u001b[0m: module 'utils.cohort.cohort' has no attribute 'rectangle_ethogram'"
     ]
    }
   ],
   "source": [
    "####################################################\n",
    "########### SELECT DAY OF ETHOGRAM TO ANALYZ #######\n",
    "####################################################\n",
    "from utils.cohort import cohort as cohort2\n",
    "\n",
    "# NEED TO run previous cell to compute \"huddle_ethogram\" values\n",
    "ethogram_flat_selected = cohort.flatten_invert_ethogram(cohort)\n"
   ]
  },
  {
   "cell_type": "code",
   "execution_count": 14,
   "id": "65bb3243-beeb-400d-b165-4a3d93b71195",
   "metadata": {
    "tags": []
   },
   "outputs": [
    {
     "name": "stdout",
     "output_type": "stream",
     "text": [
      "(112, 86400)\n"
     ]
    },
    {
     "name": "stderr",
     "output_type": "stream",
     "text": [
      "100%|███████████████████████████████████████████| 16/16 [00:01<00:00, 10.74it/s]\n"
     ]
    },
    {
     "name": "stdout",
     "output_type": "stream",
     "text": [
      "ratios:  (16, 6, 6)\n"
     ]
    }
   ],
   "source": [
    "#########################################################################################\n",
    "########### COMPUTE PAIR WISE SCATTER PLOTS - FOR SINGLE ANIMAL OVER DEVELOPMENT ########\n",
    "#########################################################################################\n",
    "  \n",
    "##########################################################\n",
    "\n",
    "clrs = ['red','blue','green','black','purple','orange']\n",
    "clrs = ['#cb3311', '#4477aa', '#ccbb44', '#228833', '#ee7733', '#66ccee']\n",
    "markers = [\",\" , \"o\" , \"v\" , \"^\" , \"<\", \">\"]\n",
    "\n",
    "cohort.rectangle_ethogram = np.load('/home/cat/rectangle_ethogram_cohort2.npy')\n",
    "print (cohort.rectangle_ethogram.shape)\n",
    "\n",
    "\n",
    "#\n",
    "behavior_type = 'enter_roi'   # 'enter_roi', 'exit_roi'\n",
    "\n",
    "#\n",
    "animal_selected = 3\n",
    "follow_window = 30\n",
    "\n",
    "#\n",
    "root_dir = os.path.split(cohort.fname_spreadsheet)[0]\n",
    "\n",
    "generate_developmental_roi_sequences(root_dir, \n",
    "                             follow_window,\n",
    "                             ethogram_flat_selected,\n",
    "                             behavior_type,\n",
    "                             animal_selected)\n",
    "\n",
    "#############################################################################\n",
    "#############################################################################\n",
    "#############################################################################\n",
    "labels = ['female','male','pup1','pup2','pup3','pup4']\n",
    "\n",
    "# \n",
    "ymax = 150\n",
    "\n",
    "plt.figure(figsize=(15,5))\n",
    "ax=plt.subplot(131)\n",
    "t = np.arange(ratios.shape[0])+15\n",
    "for k in range(6):\n",
    "    if k == animal_selected:\n",
    "        continue\n",
    "    plt.plot(t,ratios[:,animal_selected,k], c= clrs[k], label = labels [k])\n",
    "plt.legend()\n",
    "plt.ylim(0,1)\n",
    "plt.plot([t[0], t[-1]],\n",
    "         [0.5, 0.5],\n",
    "         '--')\n",
    "plt.xlabel(\"Pday\")\n",
    "plt.ylabel(\"Ratios\")\n",
    "\n",
    "#############################################################################\n",
    "# show absolute values\n",
    "ax2=plt.subplot(132)\n",
    "for k in range(6):\n",
    "    if k == animal_selected:\n",
    "        continue\n",
    "    ax2.plot(t,a1_array[:,animal_selected,k], c= clrs[k], label = labels [k])\n",
    "plt.legend()\n",
    "plt.ylim(0,ymax)\n",
    "#plt.plot([t[0], t[-1]],\n",
    "#         [0.5, 0.5],\n",
    "#         '--')\n",
    "plt.xlabel(\"Pday\")\n",
    "plt.ylabel(\"Absolute #s \" + str(animal_selected)+ \" first\")\n",
    "\n",
    "#############################################################################\n",
    "# show absolute values\n",
    "ax3=plt.subplot(133)\n",
    "for k in range(6):\n",
    "    if k == animal_selected:\n",
    "        continue\n",
    "    ax3.plot(t,a2_array[:,animal_selected,k], c= clrs[k], label = labels [k])\n",
    "plt.legend()\n",
    "plt.ylim(0,ymax)\n",
    "#plt.plot([t[0], t[-1]],\n",
    "#         [0.5, 0.5],\n",
    "#         '--')\n",
    "\n",
    "plt.xlabel(\"Pday\")\n",
    "plt.ylabel(\"Absolute #s (other animals first)\")\n",
    "\n",
    "#plt.title(labels[animal_selected]+ \" \" + behavior_type)\n",
    "if behavior_type=='enter_roi':\n",
    "    plt.suptitle(\"Animals following \"+labels[animal_selected]+  \" into roi (\"+str(follow_window)+ \" sec window)\")\n",
    "else:\n",
    "    plt.suptitle(\"Animals following \"+labels[animal_selected]+  \" exiting roi (\"+str(follow_window)+ \" sec window)\")\n",
    "plt.show()"
   ]
  },
  {
   "cell_type": "code",
   "execution_count": 15,
   "id": "add804cc-9c3a-49fb-9b76-5b52e82f4c66",
   "metadata": {
    "tags": []
   },
   "outputs": [
    {
     "name": "stdout",
     "output_type": "stream",
     "text": [
      "Warning: Cannot change to a different GUI toolkit: qt. Using tk instead.\n"
     ]
    },
    {
     "name": "stderr",
     "output_type": "stream",
     "text": [
      "100%|█████████████████████████████████████████████| 6/6 [00:10<00:00,  1.80s/it]\n"
     ]
    }
   ],
   "source": [
    "####################################################\n",
    "########### COMPUTE PAIR WISE SCATTER PLOTS ########\n",
    "####################################################\n",
    "\n",
    "%matplotlib qt\n",
    "from tqdm import trange\n",
    "\n",
    "plt.figure(figsize=(6,6))\n",
    "clrs = ['red','blue','green','black','purple','orange']\n",
    "clrs = ['#cb3311', '#4477aa', '#ccbb44', '#228833', '#ee7733', '#66ccee']\n",
    "markers = [\",\" , \"o\" , \"v\" , \"^\" , \"<\", \">\"]\n",
    "\n",
    "#\n",
    "follow_window = 10\n",
    "xlim=0\n",
    "ratios=[]\n",
    "\n",
    "#\n",
    "day_starts = np.arange(17)\n",
    "day_ends = np.arange(1,17,1)\n",
    "day_selected = 'all'    # number or 'all'\n",
    "\n",
    "#\n",
    "for k in trange(6):\n",
    "    for p in range(6):\n",
    "        if k==p:\n",
    "            continue\n",
    "            \n",
    "        if day_selected != 'all':\n",
    "            day_start = day_starts[day_selected]\n",
    "            day_end = day_ends[day_selected]\n",
    "\n",
    "            # note we're converting day to seconds ; our ethogram is in seconds!\n",
    "            times = np.arange(day_start*24*60*60,\n",
    "                              day_end*24*60*60)\n",
    "\n",
    "            #\n",
    "            ethogram_flat_selected2 = ethogram_flat_selected[:,times].copy()\n",
    "        else:\n",
    "            ethogram_flat_selected2 = ethogram_flat_selected.copy()\n",
    "\n",
    "        t1 = ethogram_flat_selected2[k].copy()\n",
    "        idx1 = np.where(t1>0)[0]\n",
    "        t1[idx1] = 1\n",
    "        t2 = ethogram_flat_selected2[p].copy()\n",
    "        idx2 = np.where(t2>0)[0]\n",
    "        t2[idx2] = 1\n",
    "\n",
    "        #            \n",
    "        ratio, a1, a2 = get_ratio2(t1, t2, idx1, idx2, follow_window)\n",
    "            \n",
    "        # print (\"ratio: \", ratio)\n",
    "        ratios.append([a1,a2,ratio])\n",
    "        #print (\"a2: \", a2)\n",
    "        \n",
    "        xlim = np.max((xlim,a1,a2))\n",
    "        plt.scatter(a1,\n",
    "                    a2,\n",
    "                    #marker=markers[k],\n",
    "                    marker=markers[p],\n",
    "                    s=100,\n",
    "                    #c=clrs[p],\n",
    "                    c=clrs[k],\n",
    "\n",
    "                    label=str(k)+'->'+str(p))\n",
    "\n",
    "#\n",
    "plt.plot([0,xlim*1.25],[0,xlim*1.25],'--',c='black')\n",
    "plt.legend(fontsize=8, ncol=6)\n",
    "plt.title(\"# of behavior sequences (1sec resulution; 10sec follow window))\")\n",
    "#plt.xlim(0,700) \n",
    "# plt.xlim(left=0)\n",
    "#plt.ylim(0,700) \n",
    "# plt.ylim(bottom=0)\n",
    "plt.title(\"start day: \"+str(day_starts[0]) + \",  day end: \"+str(day_ends[-1]))\n",
    "plt.xlabel(\"Animal 1 precedes animal 2\")\n",
    "plt.ylabel(\"Animal 2 precedes animal 1\")\n",
    "plt.show()\n",
    "# plt.savefig('/home/cat/Downloads/P26-.png')\n"
   ]
  },
  {
   "cell_type": "code",
   "execution_count": 57,
   "id": "1db746f4-b936-4f14-964c-63cebec3a2d7",
   "metadata": {
    "tags": []
   },
   "outputs": [
    {
     "name": "stdout",
     "output_type": "stream",
     "text": [
      "(16, 6)\n"
     ]
    }
   ],
   "source": [
    "#\n",
    "print (total_entries_absolute.shape)\n",
    "plt.figure(figsize=(5,5))\n",
    "for k in range(total_entries_absolute.shape[1]):\n",
    "    plt.plot(t,total_entries_absolute[:,k],c=clrs[k], label=labels[k])\n",
    "plt.legend()\n",
    "if behavior_type=='enter_roi':\n",
    "    plt.suptitle(\"Animals absolute # of entries into ROI\")\n",
    "else:\n",
    "    plt.suptitle(\"Animals following # of exists from ROI\")\n",
    "plt.show()\n",
    "\n",
    "plt.show()"
   ]
  },
  {
   "cell_type": "code",
   "execution_count": 23,
   "id": "0d71472f-4174-4f12-962a-a68c780282bc",
   "metadata": {
    "tags": []
   },
   "outputs": [
    {
     "name": "stdout",
     "output_type": "stream",
     "text": [
      "Done:  720\n",
      "Sequence array is the times_absolute aray:  (1382400,)\n",
      "times absolute:  [0. 0. 0. ... 0. 0. 0.]\n"
     ]
    }
   ],
   "source": [
    "###########################################################################\n",
    "########### GET ALL the times of the starts of following behaviors ########\n",
    "###########################################################################\n",
    "\n",
    "clrs = ['red','blue','green','black','purple','orange']\n",
    "clrs = ['#cb3311', '#4477aa', '#ccbb44', '#228833', '#ee7733', '#66ccee']\n",
    "markers = [\",\" , \"o\" , \"v\" , \"^\" , \"<\", \">\"]\n",
    "\n",
    "#\n",
    "follow_window = 10\n",
    "xlim=0\n",
    "ratios = np.empty((16,6,6))\n",
    "ratios[:] = np.nan\n",
    "\n",
    "day_starts = np.arange(17)\n",
    "day_ends = np.arange(1,17,1)\n",
    "\n",
    "#\n",
    "animal1 = 0\n",
    "animal2 = 1\n",
    "\n",
    "# computing times of when animal 1 follows animal2\n",
    "#ethogram_flat_selected = ethogram_flat[:,times].copy()\n",
    "\n",
    "# get times of animal 1\n",
    "t1 = ethogram_flat[animal1].copy()\n",
    "idx1 = np.where(t1>0)[0]\n",
    "t1[idx1] = 1\n",
    "\n",
    "# get times of animal 2\n",
    "t2 = ethogram_flat[animal2].copy()\n",
    "idx2 = np.where(t2>0)[0]\n",
    "t2[idx2] = 1\n",
    "\n",
    "# find order of events\n",
    "a1 = 0     #the number of times animal 1 precedes animal 2\n",
    "\n",
    "#\n",
    "ctr = 0\n",
    "times = []\n",
    "while ctr<idx1.shape[0]:\n",
    "#for i in idx1:\n",
    "\n",
    "    # check to see if there is a switch from 0\n",
    "    if t2[idx1[ctr]]==0:\n",
    "        # to a 1 in the next window\n",
    "        if np.sum(t2[idx1[ctr]:idx1[ctr]+follow_window])>0:\n",
    "            a1+=1\n",
    "            times.append(idx1[ctr])\n",
    "\n",
    "            # also advance the ctr value at least 10 sec\n",
    "            ctr0 = ctr\n",
    "            try:\n",
    "                while idx1[ctr+1]<(idx1[ctr0]+follow_window) and (ctr<idx1.shape[0]-2):\n",
    "                    ctr+=1\n",
    "                    continue\n",
    "            except:\n",
    "                pass\n",
    "    ctr+=1\n",
    "\n",
    "print (\"Done: \", a1)\n",
    "times = np.array(times)\n",
    "#print (times)\n",
    "\n",
    "plt.figure()\n",
    "x = np.arange(ethogram_flat.shape[1])/60/60\n",
    "times_absolute = np.zeros(x.shape[0])\n",
    "times_absolute[times]=1\n",
    "\n",
    "#import scipy\n",
    "#times_absolute_smooth = scipy.signal.savgol_filter(times_absolute,101,2)\n",
    "plt.plot(x,times_absolute)\n",
    "\n",
    "plt.show()\n",
    "\n",
    "\n",
    "print (\"Sequence array is the times_absolute aray: \", times_absolute.shape)\n",
    "print (\"times absolute: \", times_absolute)\n",
    "np.save('/home/cat/Downloads/timeseries_backup.npy', times_absolute)\n"
   ]
  },
  {
   "cell_type": "code",
   "execution_count": 18,
   "id": "3414ce25-488d-4aea-8c17-ede555dd583e",
   "metadata": {
    "tags": []
   },
   "outputs": [
    {
     "data": {
      "text/plain": [
       "array([nan, nan, nan, nan, nan, nan, nan, nan, nan, nan, nan, nan, nan,\n",
       "       nan, nan, nan])"
      ]
     },
     "execution_count": 18,
     "metadata": {},
     "output_type": "execute_result"
    }
   ],
   "source": [
    "np.save('/home/cat/Downloads/foodhopper_ratios.npy', ratios)\n",
    "\n",
    "ratios[:,1,0]"
   ]
  },
  {
   "cell_type": "code",
   "execution_count": 19,
   "id": "b108e2f8-bf1d-4c2a-8493-e7841c35da47",
   "metadata": {
    "tags": []
   },
   "outputs": [
    {
     "data": {
      "text/plain": [
       "(16,)"
      ]
     },
     "execution_count": 19,
     "metadata": {},
     "output_type": "execute_result"
    }
   ],
   "source": [
    "test = np.nanmean(np.nanmean(ratios[:,0:2,2:], axis = 2), axis = 1)\n",
    "test.shape\n",
    "\n",
    "sdt = np.nanstd(np.nanstd(ratios[:,0:2,2:], axis = 2), axis = 1)\n",
    "sdt.shape"
   ]
  },
  {
   "cell_type": "code",
   "execution_count": 20,
   "id": "eafe0f61-9af0-446f-81fd-82bc2f79c0a3",
   "metadata": {
    "tags": []
   },
   "outputs": [
    {
     "data": {
      "text/plain": [
       "(16,)"
      ]
     },
     "execution_count": 20,
     "metadata": {},
     "output_type": "execute_result"
    }
   ],
   "source": [
    "test = ratios[:,1,0]\n",
    "test.shape\n",
    "\n",
    "sdt = ratios[:,1,0]\n",
    "sdt.shape"
   ]
  },
  {
   "cell_type": "code",
   "execution_count": 21,
   "id": "a4748c06-4b38-4bca-a4e7-a8f150f53e95",
   "metadata": {
    "tags": []
   },
   "outputs": [
    {
     "name": "stdout",
     "output_type": "stream",
     "text": [
      "Warning: Cannot change to a different GUI toolkit: qt. Using tk instead.\n",
      "(16, 6, 6)\n"
     ]
    }
   ],
   "source": [
    "%matplotlib qt\n",
    "\n",
    "print (ratios.shape)\n",
    "\n",
    "plt.figure()\n",
    "\n",
    "plt.plot(test[::-1], color ='red', linewidth = 3, label = 'all pups')\n",
    "    \n",
    "plt.xlim(0,15)\n",
    "plt.xticks(ticks = np.arange(0,16), labels = np.arange(15,31))\n",
    "plt.xlabel(\"Postnatal day\")\n",
    "\n",
    "plt.ylim(0,1)\n",
    "plt.yticks(np.arange(0,1.1,0.1))\n",
    "plt.ylabel(\"Leader / Follower ratio\")\n",
    "\n",
    "plt.hlines(0.5,0,15, color = 'black', linestyle = 'dashdot')\n",
    "\n",
    "plt.legend()\n",
    "\n",
    "# plt.title(\"Adults vs All pups\")\n",
    "plt.title(\"Male vs Female\")\n",
    "\n",
    "# plt.fill_between(np.arange(0,16), np.array([t-s for t,s in zip(test,sdt)]), np.array([t+s for t,s in zip(test,sdt)]))\n",
    "\n",
    "plt.show()\n"
   ]
  },
  {
   "cell_type": "code",
   "execution_count": 22,
   "id": "ef175a13-b3b1-4575-af98-fb54e57b0e58",
   "metadata": {
    "tags": []
   },
   "outputs": [
    {
     "name": "stdout",
     "output_type": "stream",
     "text": [
      "Warning: Cannot change to a different GUI toolkit: qt. Using tk instead.\n",
      "(16, 6, 6)\n"
     ]
    }
   ],
   "source": [
    "%matplotlib qt\n",
    "\n",
    "print (ratios.shape)\n",
    "\n",
    "animals = ['female', 'male', 'pup1', 'pup2', 'pup3', 'pup4']\n",
    "\n",
    "plt.figure()\n",
    "\n",
    "clrs = ['#cb3311', '#4477aa', '#ccbb44', '#228833', '#ee7733', '#66ccee']\n",
    "\n",
    "for i, a in enumerate(clrs):\n",
    "    \n",
    "    plt.plot(ratios[:,i,1], color = a, linewidth = 3, label = animals[i])\n",
    "    \n",
    "    plt.xlim(0,15)\n",
    "    plt.xticks(ticks = np.arange(0,16), labels = np.arange(15,31))\n",
    "    plt.xlabel(\"Postnatal day\")\n",
    "    \n",
    "    plt.ylim(0,1)\n",
    "    plt.yticks(np.arange(0,1.1,0.1))\n",
    "    plt.ylabel(\"Leader / Follower ratio\")\n",
    "    \n",
    "    plt.hlines(0.5,0,15, color = 'black', linestyle = 'dashdot')\n",
    "    \n",
    "    plt.legend()\n",
    "    \n",
    "    plt.title(\"Male\")\n",
    "\n",
    "plt.show()\n"
   ]
  },
  {
   "cell_type": "code",
   "execution_count": null,
   "id": "2204bd79-70b1-41a8-ada5-0cc951c68e3d",
   "metadata": {},
   "outputs": [],
   "source": []
  },
  {
   "cell_type": "code",
   "execution_count": null,
   "id": "12dce189-65d1-447d-a6cd-d8d9b9c3f905",
   "metadata": {},
   "outputs": [],
   "source": []
  },
  {
   "cell_type": "code",
   "execution_count": null,
   "id": "2fbf457c-e84f-4108-a991-6d37fb1b0f6c",
   "metadata": {},
   "outputs": [],
   "source": []
  },
  {
   "cell_type": "code",
   "execution_count": null,
   "id": "51d3ce12-fd48-474c-addd-d01e23d45c06",
   "metadata": {},
   "outputs": [],
   "source": []
  },
  {
   "cell_type": "code",
   "execution_count": null,
   "id": "609cc33f-a807-40c9-8b5b-e45f4c32b40d",
   "metadata": {},
   "outputs": [],
   "source": []
  },
  {
   "cell_type": "code",
   "execution_count": null,
   "id": "94000d6a-9db8-4ea6-9a8e-0cbf424f5710",
   "metadata": {},
   "outputs": [],
   "source": []
  },
  {
   "cell_type": "code",
   "execution_count": null,
   "id": "a719e593-ef45-4dba-9ab5-f5aa5be8c448",
   "metadata": {},
   "outputs": [],
   "source": []
  },
  {
   "cell_type": "code",
   "execution_count": null,
   "id": "2a4eff95-0768-41a5-9a7d-098936e9298e",
   "metadata": {},
   "outputs": [],
   "source": []
  },
  {
   "cell_type": "code",
   "execution_count": null,
   "id": "fb88202f-fdcd-4fac-890f-421eda3bb6d0",
   "metadata": {},
   "outputs": [],
   "source": []
  },
  {
   "cell_type": "code",
   "execution_count": null,
   "id": "45f4f1c3-0f5f-4a67-827a-5ba613bc3292",
   "metadata": {},
   "outputs": [],
   "source": []
  },
  {
   "cell_type": "code",
   "execution_count": null,
   "id": "9d5e0288-5ece-4f2a-ba0e-2e5626d68ae5",
   "metadata": {},
   "outputs": [],
   "source": []
  },
  {
   "cell_type": "code",
   "execution_count": null,
   "id": "fa30a113-4dc7-431a-bff6-d058f29e3456",
   "metadata": {},
   "outputs": [],
   "source": []
  },
  {
   "cell_type": "code",
   "execution_count": null,
   "id": "49de6031-44cf-4e5c-a07f-1f0c0293bfd2",
   "metadata": {},
   "outputs": [],
   "source": []
  }
 ],
 "metadata": {
  "kernelspec": {
   "display_name": "sleap_new",
   "language": "python",
   "name": "sleap_new"
  },
  "language_info": {
   "codemirror_mode": {
    "name": "ipython",
    "version": 3
   },
   "file_extension": ".py",
   "mimetype": "text/x-python",
   "name": "python",
   "nbconvert_exporter": "python",
   "pygments_lexer": "ipython3",
   "version": "3.7.12"
  }
 },
 "nbformat": 4,
 "nbformat_minor": 5
}
