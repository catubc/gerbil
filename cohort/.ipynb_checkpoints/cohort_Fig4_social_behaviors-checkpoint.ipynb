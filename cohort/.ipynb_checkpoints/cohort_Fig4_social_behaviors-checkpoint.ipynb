{
 "cells": [
  {
   "cell_type": "code",
   "execution_count": 1,
   "id": "35748575",
   "metadata": {
    "tags": []
   },
   "outputs": [
    {
     "data": {
      "application/javascript": [
       "IPython.notebook.set_autosave_interval(180000)"
      ]
     },
     "metadata": {},
     "output_type": "display_data"
    },
    {
     "name": "stdout",
     "output_type": "stream",
     "text": [
      "Autosaving every 180 seconds\n"
     ]
    },
    {
     "data": {
      "text/html": [
       "<style>.container { width:100% !important; }</style>"
      ],
      "text/plain": [
       "<IPython.core.display.HTML object>"
      ]
     },
     "metadata": {},
     "output_type": "display_data"
    }
   ],
   "source": [
    "import matplotlib\n",
    "%matplotlib tk\n",
    "%autosave 180\n",
    "%load_ext autoreload\n",
    "%autoreload 2\n",
    "\n",
    "import nest_asyncio\n",
    "\n",
    "%config Completer.use_jedi = False\n",
    "\n",
    "#\n",
    "import matplotlib.pyplot as plt\n",
    "from IPython.core.display import display, HTML\n",
    "display(HTML(\"<style>.container { width:100% !important; }</style>\"))\n",
    "\n",
    "# \n",
    "import matplotlib.cm as cm\n",
    "import numpy as np\n",
    "import os\n",
    "from tqdm import tqdm\n",
    "\n",
    "#\n",
    "import sys\n",
    "sys.path.append('/home/cat/code/gerbil/')\n",
    "\n",
    "# \n",
    "from utils.track import track\n",
    "from utils.convert import convert\n",
    "from utils.ethogram import ethogram\n",
    "from utils.cohort import cohort\n",
    "from utils.cohort.cohort import CohortProcessor\n",
    "from utils.ethogram import ethogram"
   ]
  },
  {
   "cell_type": "code",
   "execution_count": 2,
   "id": "1cd83edf",
   "metadata": {
    "tags": []
   },
   "outputs": [
    {
     "name": "stdout",
     "output_type": "stream",
     "text": [
      "DF:     Unnamed: 0  Cohort NN Type                                   Filename Dev Day  # of Gerbils Time of Light Switch  Shaved?  Predicted?                                   Slp filename Start time\n",
      "0           0       2     Day  2020_07_20_09_53_59_813912_compressed.mp4     P15             6                  NaN        1           1  2020_07_20_09_53_59_813912_compressed_Day.slp   09:53:59\n",
      "1           1       2     Day  2020_07_20_10_16_08_629297_compressed.mp4     P15             6                  NaN        1           1  2020_07_20_10_16_08_629297_compressed_Day.slp   10:16:08\n",
      "2           2       2     Day  2020_07_20_10_38_20_043555_compressed.mp4     P15             6                  NaN        1           1  2020_07_20_10_38_20_043555_compressed_Day.slp   10:38:20\n",
      "3           3       2     Day  2020_07_20_11_00_31_566455_compressed.mp4     P15             6                  NaN        1           1  2020_07_20_11_00_31_566455_compressed_Day.slp   11:00:31\n",
      "4           4       2     Day  2020_07_20_11_22_36_823934_compressed.mp4     P15             6                  NaN        1           1  2020_07_20_11_22_36_823934_compressed_Day.slp   11:22:36\n",
      "Loading only recordings with 6 animals...\n",
      " ... total # :  991  /  991\n"
     ]
    }
   ],
   "source": [
    "######################################################\n",
    "############# LOAD ANIMAL DATABASE ###################\n",
    "######################################################\n",
    "fname_spreadsheet = '/mnt/b3a68699-495d-4ebb-9ab1-ac74f11c68c5/gerbil/cohort2/database.xlsx'\n",
    "# fname_spreadsheet = '/media/cat/4TBSSD/dan/cohort2/P21_P28/database.xlsx'\n",
    "\n",
    "#\n",
    "cohort = CohortProcessor(fname_spreadsheet)\n",
    "#cohort.fname_spreadsheet = '/mnt/b3a68699-495d-4ebb-9ab1-ac74f11c68c5/gerbil/cohort2/database.xlsx'\n",
    "cohort.load_database()\n",
    "\n",
    "#\n",
    "cohort.ethogram = ethogram"
   ]
  },
  {
   "cell_type": "code",
   "execution_count": 3,
   "id": "35bcc573-8003-416f-86a0-f85188bbc41b",
   "metadata": {
    "tags": []
   },
   "outputs": [
    {
     "name": "stdout",
     "output_type": "stream",
     "text": [
      "/mnt/b3a68699-495d-4ebb-9ab1-ac74f11c68c5/gerbil/cohort2\n",
      "['Day']\n"
     ]
    }
   ],
   "source": [
    "print (cohort.root_dir)\n",
    "print (cohort.NN_type[0])"
   ]
  },
  {
   "cell_type": "code",
   "execution_count": 4,
   "id": "7ee0b3b1",
   "metadata": {
    "tags": []
   },
   "outputs": [
    {
     "name": "stdout",
     "output_type": "stream",
     "text": [
      "fname:  /mnt/b3a68699-495d-4ebb-9ab1-ac74f11c68c5/gerbil/cohort2/features/2020_07_20_09_53_59_813912_compressed_Day_spine_nohuddle.npy\n",
      "found:  991  of total :  991\n"
     ]
    }
   ],
   "source": [
    "######################################################\n",
    "############# LOAD NON-HUDDLE FEATURE TRACKS #########\n",
    "######################################################\n",
    "\n",
    "# NOTE The hybrid video processing seems to break when using parallel flag\n",
    "\n",
    "#\n",
    "cohort.n_cores = 30\n",
    "cohort.parallel = True\n",
    "cohort.interpolate_flag = True\n",
    "cohort.exclude_huddles = False   # Don't use this here yet; \n",
    "                                 # NEED TO FIRST FIX THE HUDDLES THEN RUN THIS\n",
    "                                 # See cell 3 below which does this after\n",
    "cohort.fps = 24\n",
    "\n",
    "#\n",
    "cohort.load_features_no_huddles()"
   ]
  },
  {
   "cell_type": "code",
   "execution_count": 92,
   "id": "b91ebfaf-55fd-4dc6-bb5e-8d75ce7caf08",
   "metadata": {
    "tags": []
   },
   "outputs": [
    {
     "name": "stderr",
     "output_type": "stream",
     "text": [
      "100%|████████████████████████████████████████████████████████████████████| 28802/28802 [00:00<00:00, 155169.60it/s]\n",
      "100%|█████████████████████████████████████████████████████████████████████| 28802/28802 [00:00<00:00, 37834.96it/s]\n",
      "100%|████████████████████████████████████████████████████████████████████| 28802/28802 [00:00<00:00, 167376.30it/s]\n",
      "100%|█████████████████████████████████████████████████████████████████████| 28802/28802 [00:00<00:00, 37775.77it/s]\n",
      "100%|█████████████████████████████████████████████████████████████████████| 28802/28802 [00:00<00:00, 63293.18it/s]\n",
      "100%|█████████████████████████████████████████████████████████████████████| 28802/28802 [00:00<00:00, 31065.51it/s]\n",
      "100%|████████████████████████████████████████████████████████████████████| 28802/28802 [00:00<00:00, 165903.11it/s]\n",
      "100%|█████████████████████████████████████████████████████████████████████| 28802/28802 [00:00<00:00, 38975.86it/s]\n",
      "100%|████████████████████████████████████████████████████████████████████| 28802/28802 [00:00<00:00, 154672.13it/s]\n",
      "100%|█████████████████████████████████████████████████████████████████████| 28802/28802 [00:00<00:00, 36649.38it/s]\n",
      "100%|████████████████████████████████████████████████████████████████████| 28802/28802 [00:00<00:00, 162829.94it/s]\n",
      "100%|█████████████████████████████████████████████████████████████████████| 28802/28802 [00:00<00:00, 38612.91it/s]\n",
      "100%|████████████████████████████████████████████████████████████████████| 28802/28802 [00:00<00:00, 161724.32it/s]\n",
      "100%|█████████████████████████████████████████████████████████████████████| 28802/28802 [00:00<00:00, 37518.87it/s]\n",
      "100%|████████████████████████████████████████████████████████████████████| 28802/28802 [00:00<00:00, 165303.79it/s]\n",
      "100%|█████████████████████████████████████████████████████████████████████| 28802/28802 [00:00<00:00, 38219.21it/s]\n",
      "100%|████████████████████████████████████████████████████████████████████| 28802/28802 [00:00<00:00, 109581.25it/s]\n",
      "100%|█████████████████████████████████████████████████████████████████████| 28802/28802 [00:00<00:00, 35991.94it/s]\n",
      "100%|████████████████████████████████████████████████████████████████████| 28802/28802 [00:00<00:00, 164998.54it/s]\n",
      "100%|█████████████████████████████████████████████████████████████████████| 28802/28802 [00:00<00:00, 38843.17it/s]\n",
      "100%|████████████████████████████████████████████████████████████████████| 28802/28802 [00:00<00:00, 109842.00it/s]\n",
      "100%|█████████████████████████████████████████████████████████████████████| 28802/28802 [00:00<00:00, 35220.33it/s]\n",
      "100%|█████████████████████████████████████████████████████████████████████| 28802/28802 [00:00<00:00, 95296.37it/s]\n",
      "100%|█████████████████████████████████████████████████████████████████████| 28802/28802 [00:00<00:00, 35135.86it/s]\n",
      "100%|████████████████████████████████████████████████████████████████████| 28802/28802 [00:00<00:00, 163548.36it/s]\n",
      "100%|█████████████████████████████████████████████████████████████████████| 28802/28802 [00:00<00:00, 37583.04it/s]\n",
      "100%|████████████████████████████████████████████████████████████████████| 28802/28802 [00:00<00:00, 150763.08it/s]\n",
      "100%|█████████████████████████████████████████████████████████████████████| 28802/28802 [00:00<00:00, 37541.62it/s]\n",
      "100%|████████████████████████████████████████████████████████████████████| 28802/28802 [00:00<00:00, 166845.08it/s]\n",
      "100%|█████████████████████████████████████████████████████████████████████| 28802/28802 [00:00<00:00, 36688.36it/s]\n",
      "100%|█████████████████████████████████████████████████████████████████████| 28802/28802 [00:00<00:00, 83054.50it/s]\n",
      "100%|█████████████████████████████████████████████████████████████████████| 28802/28802 [00:00<00:00, 33873.74it/s]\n",
      " 45%|██████████████████████████████▎                                     | 12841/28802 [00:00<00:00, 157608.90it/s]\n"
     ]
    },
    {
     "ename": "KeyboardInterrupt",
     "evalue": "",
     "output_type": "error",
     "traceback": [
      "\u001b[0;31m---------------------------------------------------------------------------\u001b[0m",
      "\u001b[0;31mKeyboardInterrupt\u001b[0m                         Traceback (most recent call last)",
      "\u001b[0;32m/tmp/ipykernel_6443/1782848138.py\u001b[0m in \u001b[0;36m<module>\u001b[0;34m\u001b[0m\n\u001b[1;32m    208\u001b[0m                                          \u001b[0mrecording_id\u001b[0m\u001b[0;34m,\u001b[0m\u001b[0;34m\u001b[0m\u001b[0;34m\u001b[0m\u001b[0m\n\u001b[1;32m    209\u001b[0m                                          \u001b[0mwidth\u001b[0m\u001b[0;34m,\u001b[0m\u001b[0;34m\u001b[0m\u001b[0;34m\u001b[0m\u001b[0m\n\u001b[0;32m--> 210\u001b[0;31m                                          recompute)\n\u001b[0m\u001b[1;32m    211\u001b[0m \u001b[0;34m\u001b[0m\u001b[0m\n\u001b[1;32m    212\u001b[0m \u001b[0;31m#\u001b[0m\u001b[0;34m\u001b[0m\u001b[0;34m\u001b[0m\u001b[0;34m\u001b[0m\u001b[0m\n",
      "\u001b[0;32m/tmp/ipykernel_6443/1782848138.py\u001b[0m in \u001b[0;36mmake_grid_tracks\u001b[0;34m(root_dir, track, animal_id, recording_id, width, recompute)\u001b[0m\n\u001b[1;32m     72\u001b[0m \u001b[0;34m\u001b[0m\u001b[0m\n\u001b[1;32m     73\u001b[0m         \u001b[0mtemp\u001b[0m \u001b[0;34m=\u001b[0m \u001b[0mtrack\u001b[0m\u001b[0;34m[\u001b[0m\u001b[0mk\u001b[0m\u001b[0;34m]\u001b[0m\u001b[0;34m\u001b[0m\u001b[0;34m\u001b[0m\u001b[0m\n\u001b[0;32m---> 74\u001b[0;31m         \u001b[0midx\u001b[0m \u001b[0;34m=\u001b[0m \u001b[0mfind_closest_grid\u001b[0m\u001b[0;34m(\u001b[0m\u001b[0mtemp\u001b[0m\u001b[0;34m,\u001b[0m \u001b[0mgrid_centres\u001b[0m\u001b[0;34m)\u001b[0m\u001b[0;34m\u001b[0m\u001b[0;34m\u001b[0m\u001b[0m\n\u001b[0m\u001b[1;32m     75\u001b[0m         \u001b[0mtracks_grid\u001b[0m\u001b[0;34m.\u001b[0m\u001b[0mappend\u001b[0m\u001b[0;34m(\u001b[0m\u001b[0midx\u001b[0m\u001b[0;34m)\u001b[0m\u001b[0;34m\u001b[0m\u001b[0;34m\u001b[0m\u001b[0m\n\u001b[1;32m     76\u001b[0m \u001b[0;34m\u001b[0m\u001b[0m\n",
      "\u001b[0;32m/tmp/ipykernel_6443/1782848138.py\u001b[0m in \u001b[0;36mfind_closest_grid\u001b[0;34m(temp, grid_centres)\u001b[0m\n\u001b[1;32m      4\u001b[0m \u001b[0;32mdef\u001b[0m \u001b[0mfind_closest_grid\u001b[0m\u001b[0;34m(\u001b[0m\u001b[0mtemp\u001b[0m\u001b[0;34m,\u001b[0m \u001b[0mgrid_centres\u001b[0m\u001b[0;34m)\u001b[0m\u001b[0;34m:\u001b[0m\u001b[0;34m\u001b[0m\u001b[0;34m\u001b[0m\u001b[0m\n\u001b[1;32m      5\u001b[0m \u001b[0;34m\u001b[0m\u001b[0m\n\u001b[0;32m----> 6\u001b[0;31m     \u001b[0;32mif\u001b[0m \u001b[0mnp\u001b[0m\u001b[0;34m.\u001b[0m\u001b[0misnan\u001b[0m\u001b[0;34m(\u001b[0m\u001b[0mtemp\u001b[0m\u001b[0;34m[\u001b[0m\u001b[0;36m0\u001b[0m\u001b[0;34m]\u001b[0m\u001b[0;34m)\u001b[0m\u001b[0;34m:\u001b[0m\u001b[0;34m\u001b[0m\u001b[0;34m\u001b[0m\u001b[0m\n\u001b[0m\u001b[1;32m      7\u001b[0m         \u001b[0;32mreturn\u001b[0m \u001b[0mnp\u001b[0m\u001b[0;34m.\u001b[0m\u001b[0mnan\u001b[0m\u001b[0;34m\u001b[0m\u001b[0;34m\u001b[0m\u001b[0m\n\u001b[1;32m      8\u001b[0m \u001b[0;34m\u001b[0m\u001b[0m\n",
      "\u001b[0;31mKeyboardInterrupt\u001b[0m: "
     ]
    }
   ],
   "source": [
    "#######################################################\n",
    "########### PARTITION SPACE AND TEST  #################\n",
    "#######################################################\n",
    "def find_closest_grid(temp, grid_centres):\n",
    "    \n",
    "    if np.isnan(temp[0]):\n",
    "        return np.nan\n",
    "    \n",
    "    diff = np.abs(temp-grid_centres)\n",
    "    \n",
    "    dist = np.linalg.norm(diff, axis=1)\n",
    "    \n",
    "    closest_idx = np.argmin(dist)\n",
    "    \n",
    "    return closest_idx\n",
    "\n",
    "\n",
    "\n",
    "def make_grid_tracks(animal_id,\n",
    "                     track_all,\n",
    "                     root_dir,\n",
    "                     animal_id,\n",
    "                     recording_id,\n",
    "                     width,\n",
    "                     recompute=False):\n",
    "    \n",
    "    #    \n",
    "    track = track_all[:,animal_id]\n",
    "    \n",
    "                        \n",
    "    # 4 step process:\n",
    "    # 1. partition the space into squares of width 50\n",
    "    # 2. map tracks onto partitioned space\n",
    "    # 3. make a \"sequence\" map which holds triplets for each square describing the grid location of an animal for 3 seconds OR 3 squares whichever comes first\n",
    "    #      - so for example: [10,10,10] means the gerbil was stationary at grid #10 for 3 sec\n",
    "    #                        [10,15,17] means the gerbil started at grid 10 and then moved to 15 and then 17\n",
    "    # 4. compare these sequences maps between animals and see when they are off by some lag\n",
    "\n",
    "    \n",
    "    fname_out = os.path.join(root_dir,\n",
    "                             \"recID_\"+ str(recording_id)+\n",
    "                             \"_animalID_\"+str(animal_id)+\n",
    "                             \"_width_\"+str(width)+\n",
    "                             '.npz')\n",
    "    \n",
    "    #\n",
    "    if os.path.exists(fname_out) and recompute==False:\n",
    "        return\n",
    "\n",
    "    #########################################################################\n",
    "    # STEP 1- partition the space by mapping tracks into grid numbers\n",
    "    # make grid ids:\n",
    "    grid_ids = []\n",
    "    grid_centres = []\n",
    "    ctr=0\n",
    "    for k in range(0,1000,width):\n",
    "        for p in range(0,1000, width):\n",
    "            temp_centre = [k+width//2,\n",
    "                           p+width//2]\n",
    "            #\n",
    "            grid_centres.append(temp_centre)\n",
    "\n",
    "            #\n",
    "            grid_ids.append(ctr)\n",
    "\n",
    "            ctr+=1\n",
    "\n",
    "    #\n",
    "    grid_centres = np.array(grid_centres)\n",
    "    #print (\"grid centres: \", grid_centres.shape)\n",
    "\n",
    "    #########################################################################\n",
    "    # STEP 2: map tracks onto grid space\n",
    "    tracks_grid = []\n",
    "    for k in trange(track.shape[0]):\n",
    "        \n",
    "\n",
    "        temp = track[k]\n",
    "        idx = find_closest_grid(temp, grid_centres)\n",
    "        tracks_grid.append(idx)\n",
    "\n",
    "    tracks_grid = np.array(tracks_grid)\n",
    "\n",
    "    idx = np.where(tracks_grid==0)[0]\n",
    "    #########################################################################\n",
    "    # STEP 3: loop over grid locations and make a sequence of locations \n",
    "    tracks_grid_seq = np.zeros((len(tracks_grid), 3))+np.nan\n",
    "    #\n",
    "    fps = 24 # frames per second\n",
    "    for k in trange(len(tracks_grid)):\n",
    "\n",
    "        temp = tracks_grid[k:k+fps*3]\n",
    "\n",
    "        ctr = 0\n",
    "        tracks_grid_seq[k,:] = temp[0]\n",
    "        for p in range(1,len(temp),1):\n",
    "\n",
    "            # if we find a location diffrent than current add it\n",
    "            if temp[p] != tracks_grid_seq[k,ctr]:\n",
    "                ctr+=1\n",
    "                tracks_grid_seq[k,ctr:] = temp[p]\n",
    "\n",
    "            if ctr==2:\n",
    "                break\n",
    "\n",
    "        if np.any(np.isnan(tracks_grid_seq[k])):\n",
    "            tracks_grid_seq[k] = np.nan\n",
    "    \n",
    "    np.savez(fname_out,\n",
    "             track = track,\n",
    "            grid_ids = grid_ids,\n",
    "            grid_centres = grid_centres,\n",
    "            tracks_grid = tracks_grid,\n",
    "            tracks_grid_seq = tracks_grid_seq\n",
    "           )\n",
    "    \n",
    "    \n",
    "    \n",
    "def show_grid(width,\n",
    "              track_test):\n",
    "    \n",
    "    \n",
    "    #########################################################################\n",
    "    # STEP 1- partition the space by mapping tracks into grid numbers\n",
    "    # make grid ids:\n",
    "    grid_ids = []\n",
    "    grid_centres = []\n",
    "    ctr=0\n",
    "    for k in range(0,1000,width):\n",
    "        for p in range(0,1000, width):\n",
    "            temp_centre = [k+width//2,\n",
    "                           p+width//2]\n",
    "            #\n",
    "            grid_centres.append(temp_centre)\n",
    "\n",
    "            #\n",
    "            grid_ids.append(ctr)\n",
    "\n",
    "            ctr+=1\n",
    "\n",
    "    #\n",
    "    grid_centres = np.array(grid_centres)\n",
    "   # print (\"grid centres: \", grid_centres.shape)\n",
    "    \n",
    "    \n",
    "    plt.figure()\n",
    "\n",
    "    # plot partition \n",
    "    for k in range(0,1000,width):\n",
    "        plt.plot([k,k],\n",
    "                 [0,1000],\n",
    "                    c='black')\n",
    "\n",
    "    for k in range(0,1000,width):\n",
    "        plt.plot([0,1000],\n",
    "                 [k,k],\n",
    "                    c='black')\n",
    "\n",
    "    #\n",
    "    for k in range(len(grid_centres)):\n",
    "        plt.scatter(grid_centres[k][0],\n",
    "                    grid_centres[k][1],\n",
    "                    c='red')\n",
    "        plt.text(grid_centres[k][0],\n",
    "                    grid_centres[k][1],\n",
    "                 str(k))\n",
    "\n",
    "    #\n",
    "    plt.plot(track_test[:,0],\n",
    "             track_test[:,1])\n",
    "\n",
    "    #\n",
    "    plt.xlim(0,900)\n",
    "    plt.ylim(0,700)\n",
    "\n",
    "    #\n",
    "    plt.show()\n",
    "\n",
    "#    \n",
    "from tqdm import trange\n",
    "\n",
    "###############################\n",
    "\n",
    "#\n",
    "root_dir = '/mnt/b3a68699-495d-4ebb-9ab1-ac74f11c68c5/gerbil/cohort2/sequences/'\n",
    "\n",
    "#\n",
    "animal_ids = np.arange(6)\n",
    "\n",
    "#\n",
    "width = 200\n",
    "\n",
    "    \n",
    "#\n",
    "recording_id = 852\n",
    "recording_ids = np.arange(840, 870,1)\n",
    "\n",
    "for recording_id in recording_ids:\n",
    "\n",
    "\n",
    "    recompute = True\n",
    "\n",
    "    #\n",
    "    for animal_id in animal_ids:\n",
    "        #animal_id = 5\n",
    "\n",
    "        #track = cohort.tracks[recording_id][:,animal_id]\n",
    "        track_parallel = cohort.tracks[recording_id]#.transpose(1,0,2) #[:,animal_id]\n",
    "        \n",
    "\n",
    "        # set box width\n",
    "        if True:\n",
    "            \n",
    "            parmap.map(make_grid_tracks,\n",
    "                       animal_ids,\n",
    "                       track_parallel, \n",
    "                       root_dir,\n",
    "                       recording_id,\n",
    "                       width,\n",
    "                       recompute,\n",
    "                      pm_processes = 6,\n",
    "                      pm_pbar=True)\n",
    "#\n",
    "print (\"DONE...\")"
   ]
  },
  {
   "cell_type": "code",
   "execution_count": 91,
   "id": "c4872919-43e5-42c7-9edd-31efbb3199a3",
   "metadata": {
    "tags": []
   },
   "outputs": [
    {
     "name": "stderr",
     "output_type": "stream",
     "text": [
      " 50%|████████████████████████████████████████                                        | 3/6 [00:13<00:13,  4.36s/it]"
     ]
    },
    {
     "name": "stdout",
     "output_type": "stream",
     "text": [
      "found matches:  0\n"
     ]
    },
    {
     "name": "stderr",
     "output_type": "stream",
     "text": [
      "100%|████████████████████████████████████████████████████████████████████████████████| 6/6 [00:16<00:00,  2.81s/it]"
     ]
    },
    {
     "name": "stdout",
     "output_type": "stream",
     "text": [
      "DONe..., # of matches:  1\n"
     ]
    },
    {
     "name": "stderr",
     "output_type": "stream",
     "text": [
      "\n"
     ]
    }
   ],
   "source": [
    "\n",
    "##############################################################################\n",
    "# STEP 4: see if any of the sequences match within some limit of time, e.g. 1 second\n",
    "fps = 24\n",
    "\n",
    "#\n",
    "clrs = ['red','blue','green', 'cyan','magenta','pink']\n",
    "\n",
    "    \n",
    "#\n",
    "plt.figure()\n",
    "#\n",
    "match=0\n",
    "\n",
    "for a0 in trange(6):\n",
    "    \n",
    "    #\n",
    "    data_a0 = np.load('/mnt/b3a68699-495d-4ebb-9ab1-ac74f11c68c5/gerbil/cohort2/sequences/'\n",
    "                            +\"recID_\"+str(recording_id)\n",
    "                            +\"_animalID_\"+str(a0)\n",
    "                            +\"_width_\"+str(width)\n",
    "                            +'.npz',\n",
    "                           allow_pickle=True)\n",
    "    \n",
    "    #\n",
    "    for a1 in range(a0+1,6):\n",
    "        #\n",
    "        data_a1 = np.load('/mnt/b3a68699-495d-4ebb-9ab1-ac74f11c68c5/gerbil/cohort2/sequences/'\n",
    "                            +\"recID_\"+str(recording_id)\n",
    "                            +\"_animalID_\"+str(a1)\n",
    "                            +\"_width_\"+str(width)\n",
    "                            +'.npz',\n",
    "                           allow_pickle=True)\n",
    "\n",
    "\n",
    "        #\n",
    "        tracks1 = data_a0['track']\n",
    "        tracks2 = data_a1['track']\n",
    "\n",
    "        tracks_g1 = data_a0['tracks_grid_seq']\n",
    "        tracks_g2 = data_a1['tracks_grid_seq']\n",
    "\n",
    "\n",
    "        #print (tracks_g1.shape, tracks_g2.shape)\n",
    "\n",
    "#         cmap1 = plt.get_cmap(\"viridis\")\n",
    "#         cmap2 = plt.get_cmap(\"magma\")\n",
    "#         norm = plt.Normalize(0, 24-1)\n",
    "\n",
    "        #\n",
    "        ctr = fps\n",
    "        while ctr<tracks_g1.shape[0]:\n",
    "\n",
    "            #\n",
    "            unique_vals = np.unique(tracks_g1[ctr])\n",
    "            if unique_vals.shape[0]!=3:\n",
    "                ctr+=1\n",
    "                continue\n",
    "\n",
    "            #\n",
    "            diffs = np.abs(tracks_g2[ctr:ctr+fps]-tracks_g1[ctr])\n",
    "\n",
    "            # sum\n",
    "            sums = np.sum(diffs, axis=1)\n",
    "\n",
    "            #\n",
    "            idx = np.where(sums==0)[0]\n",
    "\n",
    "            #\n",
    "            if idx.shape[0]>0:\n",
    "                print (\"found matches: \", match)\n",
    "\n",
    "\n",
    "                # plot \n",
    "                t1 = tracks1[ctr:ctr+fps*3]\n",
    "                t2 = tracks2[ctr:ctr+fps*3]\n",
    "                # print (\"t1: \", t1)\n",
    "                # print (\"t2: \", t2)\n",
    "\n",
    "                #\n",
    "                #for i in range(23):\n",
    "                plt.plot(t1[:,0],\n",
    "                         t1[:,1],\n",
    "                         color = clrs[a0]\n",
    "                         #color=cmap1(norm(i))\n",
    "                        )\n",
    "                plt.scatter(t1[:,0],\n",
    "                         t1[:,1],\n",
    "                         color = clrs[a0],\n",
    "                            s = np.linspace(10,100,t1.shape[0])\n",
    "                         #color=cmap1(norm(i))\n",
    "                        )\n",
    "\n",
    "                #for i in range(23):\n",
    "                plt.plot(t2[:,0],\n",
    "                         t2[:,1],\n",
    "                         color = clrs[a1],\n",
    "                         linestyle = '--'\n",
    "                            )\n",
    "                plt.scatter(t2[:,0],\n",
    "                         t2[:,1],\n",
    "                         color = clrs[a1],\n",
    "                            s = np.linspace(10,100,t2.shape[0])\n",
    "                         #color=cmap1(norm(i))\n",
    "                        )\n",
    "\n",
    "                \n",
    "                \n",
    "                # advance counter by 1 second\n",
    "                ctr+=fps\n",
    "                match+=1\n",
    "\n",
    "\n",
    "            #\n",
    "            ctr+=1\n",
    "    \n",
    "plt.xlim(0,900)\n",
    "plt.ylim(0,700)\n",
    "\n",
    "plt.suptitle(str(a0) + \"  \" + str(a1) + \", # matches \" + str(match))\n",
    "    \n",
    "print (\"DONe..., # of matches: \", match)"
   ]
  },
  {
   "cell_type": "code",
   "execution_count": null,
   "id": "9b027e0a-e260-4d82-8e01-da84b8af4df5",
   "metadata": {},
   "outputs": [],
   "source": []
  },
  {
   "cell_type": "code",
   "execution_count": null,
   "id": "ee2c4ba9-1a1e-4e2a-bf80-ccf0fd965534",
   "metadata": {},
   "outputs": [],
   "source": []
  },
  {
   "cell_type": "code",
   "execution_count": 74,
   "id": "26f0dd22-6963-442d-8a1d-0b7cd350dd7e",
   "metadata": {},
   "outputs": [
    {
     "name": "stdout",
     "output_type": "stream",
     "text": [
      "(28802, 3)\n"
     ]
    },
    {
     "name": "stderr",
     "output_type": "stream",
     "text": [
      "100%|██████████████████████████████████████████████████████████████████████| 28802/28802 [00:18<00:00, 1549.11it/s]\n"
     ]
    }
   ],
   "source": [
    "print (tracks_grid_seq.shape)\n",
    "\n",
    "#\n",
    "plt.figure()\n",
    "for k in trange(tracks_grid_seq.shape[0]):\n",
    "    \n",
    "    #\n",
    "    seq = tracks_grid_seq[k]\n",
    "    \n",
    "    # convert back to centres:\n",
    "    if np.isnan(seq[0]):\n",
    "        continue\n",
    "    \n",
    "    #try:\n",
    "    centres = grid_centres[np.int32(seq)]\n",
    "    \n",
    "    #print (k,seq)\n",
    "    #print (centres)\n",
    "    jitter = np.random.uniform(size=(2,3))*20-10\n",
    "        \n",
    "    plt.plot(centres[:,0]+jitter[0],\n",
    "             centres[:,1]+jitter[1])\n",
    "    \n",
    "    \n",
    "    #break\n",
    "plt.xlim(0,900)\n",
    "plt.ylim(0,700)\n",
    "plt.show()"
   ]
  },
  {
   "cell_type": "code",
   "execution_count": null,
   "id": "8b52b8b1-1d9a-44f2-9e0b-3ec83a5ecdf4",
   "metadata": {},
   "outputs": [],
   "source": []
  },
  {
   "cell_type": "code",
   "execution_count": null,
   "id": "172cb45b-afee-4946-b7a0-041ddd7edcaf",
   "metadata": {},
   "outputs": [],
   "source": []
  },
  {
   "cell_type": "code",
   "execution_count": null,
   "id": "add804cc-9c3a-49fb-9b76-5b52e82f4c66",
   "metadata": {},
   "outputs": [],
   "source": []
  },
  {
   "cell_type": "code",
   "execution_count": null,
   "id": "65bb3243-beeb-400d-b165-4a3d93b71195",
   "metadata": {},
   "outputs": [],
   "source": []
  },
  {
   "cell_type": "code",
   "execution_count": null,
   "id": "ef175a13-b3b1-4575-af98-fb54e57b0e58",
   "metadata": {},
   "outputs": [],
   "source": []
  },
  {
   "cell_type": "code",
   "execution_count": null,
   "id": "2204bd79-70b1-41a8-ada5-0cc951c68e3d",
   "metadata": {},
   "outputs": [],
   "source": []
  },
  {
   "cell_type": "code",
   "execution_count": null,
   "id": "12dce189-65d1-447d-a6cd-d8d9b9c3f905",
   "metadata": {},
   "outputs": [],
   "source": []
  },
  {
   "cell_type": "code",
   "execution_count": null,
   "id": "2fbf457c-e84f-4108-a991-6d37fb1b0f6c",
   "metadata": {},
   "outputs": [],
   "source": []
  },
  {
   "cell_type": "code",
   "execution_count": null,
   "id": "51d3ce12-fd48-474c-addd-d01e23d45c06",
   "metadata": {},
   "outputs": [],
   "source": []
  },
  {
   "cell_type": "code",
   "execution_count": null,
   "id": "609cc33f-a807-40c9-8b5b-e45f4c32b40d",
   "metadata": {},
   "outputs": [],
   "source": []
  },
  {
   "cell_type": "code",
   "execution_count": null,
   "id": "94000d6a-9db8-4ea6-9a8e-0cbf424f5710",
   "metadata": {},
   "outputs": [],
   "source": []
  },
  {
   "cell_type": "code",
   "execution_count": null,
   "id": "a719e593-ef45-4dba-9ab5-f5aa5be8c448",
   "metadata": {},
   "outputs": [],
   "source": []
  },
  {
   "cell_type": "code",
   "execution_count": null,
   "id": "2a4eff95-0768-41a5-9a7d-098936e9298e",
   "metadata": {},
   "outputs": [],
   "source": []
  },
  {
   "cell_type": "code",
   "execution_count": null,
   "id": "fb88202f-fdcd-4fac-890f-421eda3bb6d0",
   "metadata": {},
   "outputs": [],
   "source": []
  },
  {
   "cell_type": "code",
   "execution_count": null,
   "id": "45f4f1c3-0f5f-4a67-827a-5ba613bc3292",
   "metadata": {},
   "outputs": [],
   "source": []
  },
  {
   "cell_type": "code",
   "execution_count": null,
   "id": "9d5e0288-5ece-4f2a-ba0e-2e5626d68ae5",
   "metadata": {},
   "outputs": [],
   "source": []
  },
  {
   "cell_type": "code",
   "execution_count": null,
   "id": "fa30a113-4dc7-431a-bff6-d058f29e3456",
   "metadata": {},
   "outputs": [],
   "source": []
  },
  {
   "cell_type": "code",
   "execution_count": 20,
   "id": "49de6031-44cf-4e5c-a07f-1f0c0293bfd2",
   "metadata": {},
   "outputs": [
    {
     "name": "stdout",
     "output_type": "stream",
     "text": [
      "(27, 4)\n",
      "first swtich frames info:  [13745 13746     2     3]\n",
      "track,:  (86407, 6, 2)\n",
      "[316.18600464 659.28106689]\n",
      "[327.49484253 667.49035645]\n",
      "[327.49484253 667.49035645]\n",
      "[339.19869995 672.85693359]\n",
      "[344.81295776 671.51342773]\n",
      "[340.71337891 664.4163208 ]\n"
     ]
    }
   ],
   "source": [
    "d = np.load('/mnt/b3a68699-495d-4ebb-9ab1-ac74f11c68c5/id_switch/cohort4/input_dir/2020_09_22_17_30_03_197326_compressed_all_frames_with_switches.npy')\n",
    "print (d.shape)\n",
    "\n",
    "print (\"first swtich frames info: \", d[0])\n",
    "\n",
    "track = np.load('/mnt/b3a68699-495d-4ebb-9ab1-ac74f11c68c5/id_switch/cohort4/input_dir/2020_09_22_17_30_03_197326_compressed_Day_spine.npy')\n",
    "\n",
    "print (\"track,: \", track.shape)\n",
    "\n",
    "frame_ids = [0,1,2]\n",
    "for frame_id in frame_ids:\n",
    "    print (track[d[frame_id][0],d[frame_id][2]])\n",
    "    print (track[d[frame_id][1],d[frame_id][3]])"
   ]
  },
  {
   "cell_type": "code",
   "execution_count": null,
   "id": "322f57e9-fe12-4c0c-b95c-8c518eca25af",
   "metadata": {},
   "outputs": [],
   "source": []
  }
 ],
 "metadata": {
  "kernelspec": {
   "display_name": "sleap_new",
   "language": "python",
   "name": "sleap_new"
  },
  "language_info": {
   "codemirror_mode": {
    "name": "ipython",
    "version": 3
   },
   "file_extension": ".py",
   "mimetype": "text/x-python",
   "name": "python",
   "nbconvert_exporter": "python",
   "pygments_lexer": "ipython3",
   "version": "3.7.12"
  }
 },
 "nbformat": 4,
 "nbformat_minor": 5
}
