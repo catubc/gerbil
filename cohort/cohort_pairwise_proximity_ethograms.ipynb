{
 "cells": [
  {
   "cell_type": "code",
   "execution_count": 1,
   "id": "35748575",
   "metadata": {
    "tags": []
   },
   "outputs": [
    {
     "data": {
      "application/javascript": [
       "IPython.notebook.set_autosave_interval(180000)"
      ]
     },
     "metadata": {},
     "output_type": "display_data"
    },
    {
     "name": "stdout",
     "output_type": "stream",
     "text": [
      "Autosaving every 180 seconds\n"
     ]
    },
    {
     "data": {
      "text/html": [
       "<style>.container { width:100% !important; }</style>"
      ],
      "text/plain": [
       "<IPython.core.display.HTML object>"
      ]
     },
     "metadata": {},
     "output_type": "display_data"
    },
    {
     "name": "stderr",
     "output_type": "stream",
     "text": [
      "/home/cat/miniconda3/envs/sleap_new/lib/python3.7/site-packages/tqdm/auto.py:21: TqdmWarning: IProgress not found. Please update jupyter and ipywidgets. See https://ipywidgets.readthedocs.io/en/stable/user_install.html\n",
      "  from .autonotebook import tqdm as notebook_tqdm\n"
     ]
    }
   ],
   "source": [
    "import matplotlib\n",
    "%matplotlib tk\n",
    "%autosave 180\n",
    "%load_ext autoreload\n",
    "%autoreload 2\n",
    "\n",
    "import nest_asyncio\n",
    "\n",
    "%config Completer.use_jedi = False\n",
    "\n",
    "#\n",
    "import matplotlib.pyplot as plt\n",
    "from IPython.core.display import display, HTML\n",
    "display(HTML(\"<style>.container { width:100% !important; }</style>\"))\n",
    "\n",
    "# \n",
    "import matplotlib.cm as cm\n",
    "import numpy as np\n",
    "import os\n",
    "from tqdm import tqdm\n",
    "\n",
    "#\n",
    "import sys\n",
    "sys.path.append('/home/cat/code/gerbil/')\n",
    "\n",
    "# \n",
    "from utils.cohort import cohort as Cohort\n",
    "from utils.track import track\n",
    "from utils.convert import convert\n",
    "from utils.ethogram import ethogram\n",
    "#from utils.database import database\n",
    "from utils.ethogram import ethogram"
   ]
  },
  {
   "cell_type": "code",
   "execution_count": 2,
   "id": "1cd83edf",
   "metadata": {
    "tags": []
   },
   "outputs": [
    {
     "name": "stdout",
     "output_type": "stream",
     "text": [
      "DF:     Unnamed: 0  Cohort NN Type                                   Filename Dev Day  # of Gerbils Time of Light Switch  Shaved?  Predicted?                                   Slp filename Start time\n",
      "0           0       4     Day  2020_09_22_14_09_44_904384_compressed.mp4     P15             6                  NaN        1           1  2020_09_22_14_09_44_904384_compressed_Day.slp   14:09:44\n",
      "1           1       4     Day  2020_09_22_15_16_28_547483_compressed.mp4     P15             6                  NaN        1           1  2020_09_22_15_16_28_547483_compressed_Day.slp   15:16:28\n",
      "2           2       4     Day  2020_09_22_16_23_20_653413_compressed.mp4     P15             6                  NaN        1           1  2020_09_22_16_23_20_653413_compressed_Day.slp   16:23:20\n",
      "3           3       4     Day  2020_09_22_17_30_03_197326_compressed.mp4     P15             6                  NaN        1           1  2020_09_22_17_30_03_197326_compressed_Day.slp   17:30:03\n",
      "4           4       4     Day  2020_09_22_18_36_53_237550_compressed.mp4     P15             6                  NaN        1           1  2020_09_22_18_36_53_237550_compressed_Day.slp   18:36:53\n",
      "Loading only recordings with 6 animals...\n",
      " ... total # :  334  /  334\n"
     ]
    }
   ],
   "source": [
    "######################################################\n",
    "############# LOAD ANIMAL DATABASE ###################\n",
    "######################################################\n",
    "fname_spreadsheet = '/mnt/b3a68699-495d-4ebb-9ab1-ac74f11c68c5/gerbil/cohort4/database.xlsx'\n",
    "#fname_spreadsheet = '/media/cat/4TBSSD/dan/cohort2/P21_P28/database.xlsx'\n",
    "\n",
    "#\n",
    "cohort = Cohort.CohortProcessor(fname_spreadsheet)\n",
    "#cohort.fname_spreadsheet = '/mnt/b3a68699-495d-4ebb-9ab1-ac74f11c68c5/gerbil/cohort2/database.xlsx'\n",
    "cohort.load_database()\n",
    "\n"
   ]
  },
  {
   "cell_type": "code",
   "execution_count": 14,
   "id": "7ef62df7-41e5-4ba5-a50c-cab45ab6102e",
   "metadata": {
    "tags": []
   },
   "outputs": [
    {
     "name": "stdout",
     "output_type": "stream",
     "text": [
      "# of pairs:  [(0, 1), (0, 2), (0, 3), (0, 4), (0, 5), (1, 2), (1, 3), (1, 4), (1, 5), (2, 3), (2, 4), (2, 5), (3, 4), (3, 5), (4, 5)]\n",
      "video scaling factor:  1.3\n"
     ]
    },
    {
     "name": "stderr",
     "output_type": "stream",
     "text": [
      "100%|███████████████████████████████████████████| 15/15 [00:35<00:00,  2.35s/it]"
     ]
    },
    {
     "name": "stdout",
     "output_type": "stream",
     "text": [
      "...DONE....\n"
     ]
    },
    {
     "name": "stderr",
     "output_type": "stream",
     "text": [
      "\n"
     ]
    }
   ],
   "source": [
    "######################################################\n",
    "########## TIME IN PROXIMITY BEHAVIOR ################\n",
    "######################################################\n",
    "#\n",
    "def compute_proximity_parallel(pair, \n",
    "                              cohort):\n",
    "    \n",
    "    #\n",
    "    cohort.animal_ids = [pair[0],pair[1]]\n",
    "\n",
    "    #\n",
    "    cohort.get_pairwise_interaction_time_nohuddle(pair[0],\n",
    "                                                  pair[1])\n",
    "\n",
    "    #\n",
    "    cohort.format_behavior()\n",
    "\n",
    "    #\n",
    "    ethogram.generate_ethogram_hourly( \n",
    "                                      behavior_name,\n",
    "                                      cohort,\n",
    "                                      cohort.exclude_huddles)\n",
    "    #\n",
    "    return cohort.data\n",
    "\n",
    "#\n",
    "import parmap\n",
    "\n",
    "#\n",
    "cohort.track_type = 'features'\n",
    "cohort.exclude_huddles = True\n",
    "cohort.recompute = True\n",
    "\n",
    "#\n",
    "cohort.video_scaling_factor = 1.0\n",
    "if 'cohort3' in fname_spreadsheet or 'cohort4' in fname_spreadsheet:\n",
    "    cohort.video_scaling_factor = 1.3\n",
    "\n",
    "#\n",
    "behavior_name = 'pairwise_proximity'\n",
    "\n",
    "# select animals\n",
    "# cohort.animal_ids = [2,3] #,2,3,4,5]\n",
    "cohort.animal_ids = np.arange(6)\n",
    "\n",
    "all_pairs = [(a, b) for idx, a in enumerate(cohort.animal_ids) for b in cohort.animal_ids[idx + 1:]]\n",
    "print (\"# of pairs: \", all_pairs)\n",
    "\n",
    "#\n",
    "print (\"video scaling factor: \", cohort.video_scaling_factor)\n",
    "\n",
    "#                \n",
    "if True:\n",
    "    res = parmap.map(compute_proximity_parallel,\n",
    "                                     all_pairs, \n",
    "                                     cohort,\n",
    "                                     pm_processes=20,\n",
    "                                     pm_pbar=True)            \n",
    "#                                                            \n",
    "else:\n",
    "    #\n",
    "    for pair in tqdm(all_pairs):\n",
    "\n",
    "        cohort.animal_ids = [pair[0],pair[1]]\n",
    "\n",
    "        #\n",
    "        cohort.get_pairwise_interaction_time_nohuddle(pair[0],\n",
    "                                                      pair[1])\n",
    "\n",
    "        #\n",
    "        cohort.format_behavior()\n",
    "\n",
    "        #\n",
    "        ethogram.generate_ethogram_hourly( \n",
    "                                          behavior_name,\n",
    "                                          cohort,\n",
    "                                          cohort.exclude_huddles)\n",
    "        \n",
    "        break\n",
    "        \n",
    "print (\"...DONE....\")"
   ]
  },
  {
   "cell_type": "code",
   "execution_count": 15,
   "id": "93064afa-a526-486a-ac23-27ffe7103e82",
   "metadata": {
    "tags": []
   },
   "outputs": [],
   "source": [
    "# ##################################################################\n",
    "# ####### SHOW PAIRWISE PROXIMITY IMAGE PLOTS 24hrs x 15days #######\n",
    "# ##################################################################\n",
    "\n",
    "# Not used so much now...\n",
    "if False:\n",
    "    for pair in all_pairs:\n",
    "\n",
    "        cohort.animal_ids = [pair[0],pair[1]]\n",
    "\n",
    "        cohort.exclude_huddles = True\n",
    "        ethogram.plot_ethogram_hourly(\n",
    "                                     behavior_name,\n",
    "                                     cohort,\n",
    "                                     cohort.exclude_huddles,\n",
    "                                     vmax=50)\n"
   ]
  },
  {
   "cell_type": "code",
   "execution_count": 30,
   "id": "c12ee299-2bb5-4375-9380-45a4ecf7d187",
   "metadata": {},
   "outputs": [],
   "source": [
    "##################################################################\n",
    "########## SHOW PAIRWISE PROXIMITY AS DEVELOPMENT CURVES #########\n",
    "##################################################################\n",
    "#\n",
    "\n",
    "# cohort.animal_ids = np.arange(6)\n",
    "\n",
    "# #\n",
    "# all_pairs = [(a, b) for idx, a in enumerate(cohort.animal_ids) for b in cohort.animal_ids[idx + 1:]]\n",
    "# print (\"# of pairs: \", all_pairs)\n",
    "# all_pairs = [[0,1], [3,4]]\n",
    "# #all_pairs = [[2,3]]\n",
    "# #\n",
    "# plt.figure()\n",
    "# for pair_id in range(len(all_pairs)):\n",
    "\n",
    "#     cohort.animal_ids = [all_pairs[pair_id][0],all_pairs[pair_id][1]]\n",
    "\n",
    "#     #\n",
    "#     ethogram.plot_ethogram_development(\n",
    "#                                  behavior_name,\n",
    "#                                  cohort,\n",
    "#                                  cohort.exclude_huddles,\n",
    "#                                  vmax=50)\n",
    "#     #\n",
    "#     plt.legend()\n",
    "    \n",
    "# #\n",
    "# plt.ylabel(\"% spent together\")\n",
    "    \n",
    "# #\n",
    "# plt.title(\"Average % time spent together (non-huddle)\")\n",
    "    \n",
    "# #\n",
    "# plt.xlabel(\"PDay\")\n",
    "# plt.show()"
   ]
  },
  {
   "cell_type": "code",
   "execution_count": 33,
   "id": "8349a0cd-d472-4a27-9118-d8a6432c3eee",
   "metadata": {},
   "outputs": [
    {
     "name": "stdout",
     "output_type": "stream",
     "text": [
      "# of pairs:  [(0, 1), (0, 2), (0, 3), (0, 4), (0, 5), (1, 2), (1, 3), (1, 4), (1, 5), (2, 3), (2, 4), (2, 5), (3, 4), (3, 5), (4, 5)]\n",
      "img in: :  (16, 24)\n",
      "img in: :  (16, 24)\n",
      "img in: :  (16, 24)\n",
      "img in: :  (16, 24)\n",
      "img in: :  (16, 24)\n",
      "img in: :  (16, 24)\n"
     ]
    }
   ],
   "source": [
    "##################################################################\n",
    "########## SHOW PAIRWISE PROXIMITY AS DEVELOPMENT CURVES #########\n",
    "##################################################################\n",
    "cohort.root_dir = '/mnt/b3a68699-495d-4ebb-9ab1-ac74f11c68c5/gerbil/cohort2/pairwise_analysis/'\n",
    "\n",
    "behavior_name = 'pairwise_proximity'\n",
    "\n",
    "\n",
    "# same but now for averates\n",
    "\n",
    "plt.figure()\n",
    "\n",
    "# plot adults first\n",
    "cohort.animal_ids = [0,1]\n",
    "\n",
    "#\n",
    "fname_in = os.path.join(cohort.root_dir,\n",
    "                         behavior_name+\"_\"+str(cohort.animal_ids) +\"_excludehuddles_\"\n",
    "                         +str(True)+ '.npy')\n",
    "\n",
    "img_adult = np.load(fname_in)[::-1]\n",
    "temp = np.mean(img_adult,1)\n",
    "#temp = np.median(img_adult,1)\n",
    "\n",
    "plt.plot(temp, label='adults')\n",
    "\n",
    "fname_out = os.path.join(root_dir,\n",
    "                         str(cohort.animal_ids)+'.npy')\n",
    "np.save(fname_out,\n",
    "        temp)\n",
    "\n",
    "#\n",
    "\n",
    "\n",
    "#################################################\n",
    "# next do pups\n",
    "cohort.animal_ids = np.arange(6)\n",
    "\n",
    "all_pairs = [(a, b) for idx, a in enumerate(cohort.animal_ids) for b in cohort.animal_ids[idx + 1:]]\n",
    "print (\"# of pairs: \", all_pairs)\n",
    "#all_pairs = [[0,1], [0,3], [3,4]]\n",
    "#\n",
    "for pair in all_pairs:\n",
    "    \n",
    "    ###################\n",
    "    # exclude the adults\n",
    "    if pair[0]==0 or pair[0]==1:\n",
    "        continue\n",
    "        \n",
    "    if pair[1]==1 or pair[1]==1:\n",
    "        continue\n",
    "\n",
    "    ######################################\n",
    "    cohort.animal_ids = [pair[0],pair[1]]\n",
    "    #\n",
    "    fname_in = os.path.join(cohort.root_dir,\n",
    "                             behavior_name+\"_\"+str(cohort.animal_ids) +\"_excludehuddles_\"\n",
    "                             +str(True)+ '.npy')\n",
    "\n",
    "    img = np.load(fname_in)[::-1]\n",
    "    print (\"img in: : \", img.shape)\n",
    "    temp = np.mean(img,1)\n",
    "    #temp = np.median(img, 1)\n",
    "    \n",
    "    #\n",
    "    plt.plot(temp,\n",
    "             label=str(cohort.animal_ids)\n",
    "            #\n",
    "            )\n",
    "    \n",
    "    # \n",
    "    fname_out = os.path.join(root_dir,\n",
    "                             str(pair)+'.npy')\n",
    "    np.save(fname_out,\n",
    "            temp)\n",
    "\n",
    "    \n",
    "plt.ylabel(\"% spent together in the open field\")\n",
    "    \n",
    "#\n",
    "plt.title(\"Average % time spent together (non-huddle)\")\n",
    "\n",
    "x_labels = np.arange(15,30,1)\n",
    "plt.xticks(np.arange(15), x_labels)\n",
    "    \n",
    "#\n",
    "plt.xlabel(\"PDay\")\n",
    "\n",
    "#\n",
    "plt.legend()\n",
    " \n",
    "#\n",
    "plt.show()\n",
    "    \n",
    "    "
   ]
  },
  {
   "cell_type": "code",
   "execution_count": 25,
   "id": "8c77d2d2-5aa8-4ffa-a3e7-908ec06a8498",
   "metadata": {},
   "outputs": [
    {
     "name": "stdout",
     "output_type": "stream",
     "text": [
      "# of pairs:  [(0, 1), (0, 2), (0, 3), (0, 4), (0, 5), (1, 2), (1, 3), (1, 4), (1, 5), (2, 3), (2, 4), (2, 5), (3, 4), (3, 5), (4, 5)]\n",
      "img in: :  (16, 24)\n",
      "img in: :  (16, 24)\n",
      "img in: :  (16, 24)\n",
      "img in: :  (16, 24)\n",
      "img in: :  (16, 24)\n",
      "img in: :  (16, 24)\n",
      "img in: :  (16, 24)\n",
      "img in: :  (16, 24)\n"
     ]
    }
   ],
   "source": [
    "\n",
    "##################################################################\n",
    "########## SHOW PAIRWISE PROXIMITY AS DEVELOPMENT CURVES #########\n",
    "##################################################################\n",
    "root_dir = '/mnt/b3a68699-495d-4ebb-9ab1-ac74f11c68c5/gerbil/cohort4/'\n",
    "\n",
    "behavior_name = 'pairwise_proximity'\n",
    "\n",
    "\n",
    "# same but now for averates\n",
    "\n",
    "plt.figure()\n",
    "\n",
    "# plot adults first\n",
    "cohort.animal_ids = [0,1]\n",
    "\n",
    "#\n",
    "fname_in = os.path.join(cohort.root_dir,\n",
    "                         behavior_name+\"_\"+str(cohort.animal_ids) +\"_excludehuddles_\"\n",
    "                         +str(True)+ '.npy')\n",
    "\n",
    "img_adult = np.load(fname_in)[::-1]\n",
    "temp = np.mean(img_adult,0)\n",
    "#temp = np.median(img_adult,1)\n",
    "\n",
    "plt.plot(temp, label='adults')\n",
    "\n",
    "fname_out = os.path.join(root_dir,\n",
    "                         str(cohort.animal_ids)+'.npy')\n",
    "np.save(fname_out,\n",
    "        temp)\n",
    "\n",
    "#################################################\n",
    "# next do pups\n",
    "cohort.animal_ids = np.arange(6)\n",
    "\n",
    "all_pairs = [(a, b) for idx, a in enumerate(cohort.animal_ids) for b in cohort.animal_ids[idx + 1:]]\n",
    "print (\"# of pairs: \", all_pairs)\n",
    "#all_pairs = [[0,1], [0,3], [3,4]]\n",
    "#\n",
    "for pair in all_pairs:\n",
    "    \n",
    "    ###################\n",
    "    # exclude the adults\n",
    "    if pair[0]==0 or pair[0]==1:\n",
    "        if pair[1]!=0 and pair[1]!=1:\n",
    "            pass\n",
    "        else:\n",
    "            continue\n",
    "    else:\n",
    "        continue\n",
    "\n",
    "    ######################################\n",
    "    cohort.animal_ids = [pair[0],pair[1]]\n",
    "    #\n",
    "    fname_in = os.path.join(cohort.root_dir,\n",
    "                             behavior_name+\"_\"+str(cohort.animal_ids) +\"_excludehuddles_\"\n",
    "                             +str(True)+ '.npy')\n",
    "\n",
    "    img = np.load(fname_in)[::-1]\n",
    "    print (\"img in: : \", img.shape)\n",
    "    temp = np.mean(img,0)\n",
    "    #temp = np.median(img, 0)\n",
    "    \n",
    "    #\n",
    "    plt.plot(temp,\n",
    "             label=str(cohort.animal_ids)\n",
    "            #\n",
    "            )\n",
    "    \n",
    "    # \n",
    "    fname_out = os.path.join(root_dir,\n",
    "                             str(pair)+'.npy')\n",
    "    np.save(fname_out,\n",
    "            temp)\n",
    "\n",
    "    \n",
    "plt.ylabel(\"% spent together in the open field\")\n",
    "    \n",
    "#\n",
    "plt.title(\"Average % time spent together (non-huddle)\")\n",
    "\n",
    "x_labels = np.arange(0,24,1)\n",
    "plt.xticks(np.arange(24), x_labels)\n",
    "    \n",
    "#\n",
    "plt.xlabel(\"Hour of day\")\n",
    "\n",
    "#\n",
    "plt.legend()\n",
    " \n",
    "#\n",
    "plt.show()\n",
    "    \n"
   ]
  },
  {
   "cell_type": "code",
   "execution_count": 20,
   "id": "d3b59b81-6fd0-4865-ab5c-9d6f971eb4ca",
   "metadata": {
    "tags": []
   },
   "outputs": [],
   "source": [
    "plt.figure()\n",
    "plt.imshow(img_adult,\n",
    "          vmin=0,\n",
    "          vmax=5)\n",
    "    \n",
    "    \n",
    "    \n",
    "plt.show()"
   ]
  },
  {
   "cell_type": "code",
   "execution_count": 37,
   "id": "7de373b3-f639-4fe0-b714-de0a3e77a752",
   "metadata": {},
   "outputs": [
    {
     "name": "stdout",
     "output_type": "stream",
     "text": [
      "[1.97321976e+00 4.86071730e-02 3.35620957e-02 7.86973278e-02\n",
      " 5.39308158e-01 7.98546414e-02 4.14318284e-01 0.00000000e+00\n",
      " 3.24047820e-02 1.15731364e-02 3.00901547e-01 0.00000000e+00\n",
      " 0.00000000e+00 2.68427326e+01 0.00000000e+00 0.00000000e+00]\n"
     ]
    }
   ],
   "source": [
    "animal_ks = [2,3]\n",
    "\n",
    "plt.figure(figsize=(15,5))\n",
    "plt.suptitle(\"Animals: \"+str(animal_ks))\n",
    "for k in range(3):\n",
    "    ax=plt.subplot(1,3,k+1)\n",
    "    d = np.load('/mnt/b3a68699-495d-4ebb-9ab1-ac74f11c68c5/gerbil/cohort'+str(k+2)+'/pairwise_proximity_['+str(animal_ks[0])+', '\n",
    "                +str(animal_ks[1])+']_excludehuddles_True.npy')\n",
    "    plt.title(\"cohort: \"+str(k+2))\n",
    "    plt.imshow(d,\n",
    "              vmin=0,\n",
    "              vmax=10)\n",
    "\n",
    "    plt.colorbar()\n",
    "plt.show()\n",
    "\n",
    "print (d[:,0])"
   ]
  },
  {
   "cell_type": "code",
   "execution_count": null,
   "id": "0825d4dd-f30c-4c22-88cb-7f6a920459d3",
   "metadata": {},
   "outputs": [],
   "source": []
  },
  {
   "cell_type": "code",
   "execution_count": null,
   "id": "569b6cd5-a392-4100-99e8-eece22e4332b",
   "metadata": {},
   "outputs": [],
   "source": []
  },
  {
   "cell_type": "code",
   "execution_count": null,
   "id": "fa30a113-4dc7-431a-bff6-d058f29e3456",
   "metadata": {},
   "outputs": [],
   "source": []
  },
  {
   "cell_type": "code",
   "execution_count": null,
   "id": "49de6031-44cf-4e5c-a07f-1f0c0293bfd2",
   "metadata": {},
   "outputs": [],
   "source": []
  },
  {
   "cell_type": "code",
   "execution_count": null,
   "id": "48720940-df57-4b7d-967b-90fe8e0a8637",
   "metadata": {},
   "outputs": [],
   "source": []
  },
  {
   "cell_type": "code",
   "execution_count": null,
   "id": "8dd9b57e-4ac9-4063-b597-0e8e6925be4f",
   "metadata": {},
   "outputs": [],
   "source": []
  },
  {
   "cell_type": "code",
   "execution_count": null,
   "id": "435da1f4-ee4a-4125-91a5-fc153090e562",
   "metadata": {},
   "outputs": [],
   "source": []
  },
  {
   "cell_type": "code",
   "execution_count": 4,
   "id": "f2056f3b-5ca9-45c6-a249-d707d7569810",
   "metadata": {
    "tags": []
   },
   "outputs": [],
   "source": [
    "import sleap\n"
   ]
  },
  {
   "cell_type": "code",
   "execution_count": 6,
   "id": "65c0f072-693a-41de-99d5-44b9d987beca",
   "metadata": {
    "tags": []
   },
   "outputs": [],
   "source": [
    "fname = '/home/cat/Downloads/2020_09_23_09_06_31_558986_compressed_Day.slp'\n",
    "\n",
    "#\n",
    "track = sleap.load_file(fname)\n"
   ]
  },
  {
   "cell_type": "code",
   "execution_count": 11,
   "id": "348fe8be-4666-4487-b1d6-5c898cbc0182",
   "metadata": {
    "tags": []
   },
   "outputs": [
    {
     "name": "stdout",
     "output_type": "stream",
     "text": [
      "[LabeledFrame(video=MediaVideo('/mnt/b3a68699-495d-4ebb-9ab1-ac74f11c68c5/sleap/cohort2/cluster/huddles/2020_09_23_09_06_31_558986_compressed_defished_shrink_cropped.mp4'), frame_idx=0, instances=1), LabeledFrame(video=MediaVideo('/mnt/b3a68699-495d-4ebb-9ab1-ac74f11c68c5/sleap/cohort2/cluster/huddles/2020_09_23_09_06_31_558986_compressed_defished_shrink_cropped.mp4'), frame_idx=1, instances=1), LabeledFrame(video=MediaVideo('/mnt/b3a68699-495d-4ebb-9ab1-ac74f11c68c5/sleap/cohort2/cluster/huddles/2020_09_23_09_06_31_558986_compressed_defished_shrink_cropped.mp4'), frame_idx=2, instances=1), LabeledFrame(video=MediaVideo('/mnt/b3a68699-495d-4ebb-9ab1-ac74f11c68c5/sleap/cohort2/cluster/huddles/2020_09_23_09_06_31_558986_compressed_defished_shrink_cropped.mp4'), frame_idx=3, instances=1), LabeledFrame(video=MediaVideo('/mnt/b3a68699-495d-4ebb-9ab1-ac74f11c68c5/sleap/cohort2/cluster/huddles/2020_09_23_09_06_31_558986_compressed_defished_shrink_cropped.mp4'), frame_idx=4, instances=1), LabeledFrame(video=MediaVideo('/mnt/b3a68699-495d-4ebb-9ab1-ac74f11c68c5/sleap/cohort2/cluster/huddles/2020_09_23_09_06_31_558986_compressed_defished_shrink_cropped.mp4'), frame_idx=5, instances=1), LabeledFrame(video=MediaVideo('/mnt/b3a68699-495d-4ebb-9ab1-ac74f11c68c5/sleap/cohort2/cluster/huddles/2020_09_23_09_06_31_558986_compressed_defished_shrink_cropped.mp4'), frame_idx=6, instances=1), LabeledFrame(video=MediaVideo('/mnt/b3a68699-495d-4ebb-9ab1-ac74f11c68c5/sleap/cohort2/cluster/huddles/2020_09_23_09_06_31_558986_compressed_defished_shrink_cropped.mp4'), frame_idx=7, instances=1), LabeledFrame(video=MediaVideo('/mnt/b3a68699-495d-4ebb-9ab1-ac74f11c68c5/sleap/cohort2/cluster/huddles/2020_09_23_09_06_31_558986_compressed_defished_shrink_cropped.mp4'), frame_idx=8, instances=1), LabeledFrame(video=MediaVideo('/mnt/b3a68699-495d-4ebb-9ab1-ac74f11c68c5/sleap/cohort2/cluster/huddles/2020_09_23_09_06_31_558986_compressed_defished_shrink_cropped.mp4'), frame_idx=9, instances=1)]\n"
     ]
    }
   ],
   "source": [
    "print (track.has)"
   ]
  },
  {
   "cell_type": "code",
   "execution_count": null,
   "id": "2598708b-777a-422d-bce8-a45d9933e44d",
   "metadata": {},
   "outputs": [],
   "source": []
  }
 ],
 "metadata": {
  "kernelspec": {
   "display_name": "Python 3 (ipykernel)",
   "language": "python",
   "name": "python3"
  },
  "language_info": {
   "codemirror_mode": {
    "name": "ipython",
    "version": 3
   },
   "file_extension": ".py",
   "mimetype": "text/x-python",
   "name": "python",
   "nbconvert_exporter": "python",
   "pygments_lexer": "ipython3",
   "version": "3.7.12"
  }
 },
 "nbformat": 4,
 "nbformat_minor": 5
}
