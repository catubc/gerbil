{
 "cells": [
  {
   "cell_type": "code",
   "execution_count": 1,
   "id": "35748575",
   "metadata": {
    "tags": []
   },
   "outputs": [
    {
     "data": {
      "application/javascript": [
       "IPython.notebook.set_autosave_interval(180000)"
      ]
     },
     "metadata": {},
     "output_type": "display_data"
    },
    {
     "name": "stdout",
     "output_type": "stream",
     "text": [
      "Autosaving every 180 seconds\n"
     ]
    },
    {
     "data": {
      "text/html": [
       "<style>.container { width:100% !important; }</style>"
      ],
      "text/plain": [
       "<IPython.core.display.HTML object>"
      ]
     },
     "metadata": {},
     "output_type": "display_data"
    }
   ],
   "source": [
    "import matplotlib\n",
    "%matplotlib tk\n",
    "%autosave 180\n",
    "%load_ext autoreload\n",
    "%autoreload 2\n",
    "\n",
    "import nest_asyncio\n",
    "\n",
    "%config Completer.use_jedi = False\n",
    "\n",
    "#\n",
    "import matplotlib.pyplot as plt\n",
    "from IPython.core.display import display, HTML\n",
    "display(HTML(\"<style>.container { width:100% !important; }</style>\"))\n",
    "\n",
    "# \n",
    "import matplotlib.cm as cm\n",
    "import numpy as np\n",
    "import os\n",
    "from tqdm import tqdm\n",
    "\n",
    "#\n",
    "import sys\n",
    "sys.path.append('/home/cat/code/gerbil/')\n",
    "\n",
    "# \n",
    "from utils.track import track\n",
    "from utils.convert import convert\n",
    "from utils.ethogram import ethogram\n",
    "from utils.database import database\n",
    "from utils.ethogram import ethogram"
   ]
  },
  {
   "cell_type": "code",
   "execution_count": 2,
   "id": "1cd83edf",
   "metadata": {
    "tags": []
   },
   "outputs": [
    {
     "name": "stdout",
     "output_type": "stream",
     "text": [
      "DF:     Unnamed: 0  Cohort NN Type                                   Filename Dev Day  # of Gerbils Time of Light Switch  Shaved?  Predicted?                                   Slp filename Start time\n",
      "0           0       2     Day  2020_07_20_09_53_59_813912_compressed.mp4     P15             6                  NaN        1           1  2020_07_20_09_53_59_813912_compressed_Day.slp   09:53:59\n",
      "1           1       2     Day  2020_07_20_10_16_08_629297_compressed.mp4     P15             6                  NaN        1           1  2020_07_20_10_16_08_629297_compressed_Day.slp   10:16:08\n",
      "2           2       2     Day  2020_07_20_10_38_20_043555_compressed.mp4     P15             6                  NaN        1           1  2020_07_20_10_38_20_043555_compressed_Day.slp   10:38:20\n",
      "3           3       2     Day  2020_07_20_11_00_31_566455_compressed.mp4     P15             6                  NaN        1           1  2020_07_20_11_00_31_566455_compressed_Day.slp   11:00:31\n",
      "4           4       2     Day  2020_07_20_11_22_36_823934_compressed.mp4     P15             6                  NaN        1           1  2020_07_20_11_22_36_823934_compressed_Day.slp   11:22:36\n",
      "Loading only recordings with 6 animals...\n",
      " ... total # :  991  /  991\n"
     ]
    }
   ],
   "source": [
    "######################################################\n",
    "############# LOAD ANIMAL DATABASE ###################\n",
    "######################################################\n",
    "fname_spreadsheet = '/mnt/b3a68699-495d-4ebb-9ab1-ac74f11c68c5/gerbil/cohort2/database.xlsx'\n",
    "fname_spreadsheet = '/media/cat/4TBSSD/dan/cohort2/P21_P28/database.xlsx'\n",
    "\n",
    "#\n",
    "cohort = database.CohortProcessor(fname_spreadsheet)\n",
    "#cohort.fname_spreadsheet = '/mnt/b3a68699-495d-4ebb-9ab1-ac74f11c68c5/gerbil/cohort2/database.xlsx'\n",
    "cohort.load_database()\n",
    "\n",
    "# print (list(zip(cohort.PDays,cohort.Start_times))[0])\n",
    "# print (list(zip(cohort.PDays,cohort.Start_times))[1])\n",
    "# print (list(zip(cohort.PDays,cohort.Start_times))[100])"
   ]
  },
  {
   "cell_type": "code",
   "execution_count": 6,
   "id": "7ef62df7-41e5-4ba5-a50c-cab45ab6102e",
   "metadata": {},
   "outputs": [
    {
     "name": "stdout",
     "output_type": "stream",
     "text": [
      "all_pairs:  [(0, 1), (0, 2), (0, 3), (0, 4), (0, 5), (1, 2), (1, 3), (1, 4), (1, 5), (2, 3), (2, 4), (2, 5), (3, 4), (3, 5), (4, 5)]\n"
     ]
    },
    {
     "name": "stderr",
     "output_type": "stream",
     "text": [
      "100%|██████████| 1500/1500 [00:04<00:00, 342.91it/s]\n",
      "100%|██████████| 1500/1500 [00:03<00:00, 481.18it/s]\n",
      "100%|██████████| 1500/1500 [00:03<00:00, 478.65it/s]\n",
      "100%|██████████| 1500/1500 [00:03<00:00, 480.08it/s]\n",
      "100%|██████████| 1500/1500 [00:03<00:00, 481.84it/s]\n",
      "100%|██████████| 1500/1500 [00:03<00:00, 483.54it/s]\n",
      "100%|██████████| 1500/1500 [00:03<00:00, 484.68it/s]\n",
      "100%|██████████| 1500/1500 [00:03<00:00, 480.57it/s]\n",
      "100%|██████████| 1500/1500 [00:03<00:00, 485.29it/s]\n",
      "100%|██████████| 1500/1500 [00:03<00:00, 475.44it/s]\n",
      "100%|██████████| 1500/1500 [00:03<00:00, 481.86it/s]\n",
      "100%|██████████| 1500/1500 [00:03<00:00, 480.93it/s]\n",
      "100%|██████████| 1500/1500 [00:03<00:00, 479.90it/s]\n",
      "100%|██████████| 1500/1500 [00:03<00:00, 472.13it/s]\n",
      "100%|██████████| 1500/1500 [00:03<00:00, 484.37it/s]\n"
     ]
    }
   ],
   "source": [
    "######################################################\n",
    "########## TIME IN PROXIMITY BEHAVIOR ################\n",
    "######################################################\n",
    "\n",
    "#\n",
    "cohort.track_type = 'features'\n",
    "cohort.exclude_huddles = True\n",
    "cohort.recompute = True\n",
    "\n",
    "#\n",
    "behavior_name = 'pairwise_proximity'\n",
    "\n",
    "# select animals\n",
    "cohort.animal_ids = [0,1,2,3,4,5]\n",
    "\n",
    "all_pairs = [(a, b) for idx, a in enumerate(cohort.animal_ids) for b in cohort.animal_ids[idx + 1:]]\n",
    "print (\"all_pairs: \", all_pairs)\n",
    "\n",
    "#\n",
    "for pair in all_pairs:\n",
    "\n",
    "    cohort.animal_ids = [pair[0],pair[1]]\n",
    "    \n",
    "    #\n",
    "    cohort.get_pairwise_interaction_time(pair[0],\n",
    "                                         pair[1])\n",
    "\n",
    "    #\n",
    "    cohort.format_behavior()\n",
    "\n",
    "    #\n",
    "    ethogram.generate_ethogram_hourly( \n",
    "                                      behavior_name,\n",
    "                                      cohort,\n",
    "                                      cohort.exclude_huddles)"
   ]
  },
  {
   "cell_type": "code",
   "execution_count": 9,
   "id": "93064afa-a526-486a-ac23-27ffe7103e82",
   "metadata": {},
   "outputs": [],
   "source": [
    "##############################################\n",
    "########## SHOW PAIRWISE PROXIMITY ###########\n",
    "##############################################\n",
    "\n",
    "#\n",
    "for pair in all_pairs:\n",
    "\n",
    "    cohort.animal_ids = [pair[0],pair[1]]\n",
    "    \n",
    "    cohort.exclude_huddles = True\n",
    "    ethogram.plot_ethogram_hourly(\n",
    "                                 behavior_name,\n",
    "                                 cohort,\n",
    "                                 cohort.exclude_huddles,\n",
    "                                 vmax=50)\n",
    "    "
   ]
  },
  {
   "cell_type": "code",
   "execution_count": null,
   "id": "c12ee299-2bb5-4375-9380-45a4ecf7d187",
   "metadata": {},
   "outputs": [],
   "source": []
  },
  {
   "cell_type": "code",
   "execution_count": null,
   "id": "8349a0cd-d472-4a27-9118-d8a6432c3eee",
   "metadata": {},
   "outputs": [],
   "source": []
  },
  {
   "cell_type": "code",
   "execution_count": null,
   "id": "8c77d2d2-5aa8-4ffa-a3e7-908ec06a8498",
   "metadata": {},
   "outputs": [],
   "source": []
  },
  {
   "cell_type": "code",
   "execution_count": null,
   "id": "7de373b3-f639-4fe0-b714-de0a3e77a752",
   "metadata": {},
   "outputs": [],
   "source": []
  },
  {
   "cell_type": "code",
   "execution_count": null,
   "id": "0825d4dd-f30c-4c22-88cb-7f6a920459d3",
   "metadata": {},
   "outputs": [],
   "source": []
  },
  {
   "cell_type": "code",
   "execution_count": null,
   "id": "569b6cd5-a392-4100-99e8-eece22e4332b",
   "metadata": {},
   "outputs": [],
   "source": []
  },
  {
   "cell_type": "code",
   "execution_count": null,
   "id": "fa30a113-4dc7-431a-bff6-d058f29e3456",
   "metadata": {},
   "outputs": [],
   "source": []
  },
  {
   "cell_type": "code",
   "execution_count": null,
   "id": "49de6031-44cf-4e5c-a07f-1f0c0293bfd2",
   "metadata": {},
   "outputs": [],
   "source": []
  }
 ],
 "metadata": {
  "kernelspec": {
   "display_name": "Python 3",
   "language": "python",
   "name": "python3"
  },
  "language_info": {
   "codemirror_mode": {
    "name": "ipython",
    "version": 3
   },
   "file_extension": ".py",
   "mimetype": "text/x-python",
   "name": "python",
   "nbconvert_exporter": "python",
   "pygments_lexer": "ipython3",
   "version": "3.7.0"
  }
 },
 "nbformat": 4,
 "nbformat_minor": 5
}
