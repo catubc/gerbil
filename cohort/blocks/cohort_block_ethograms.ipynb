{
 "cells": [
  {
   "cell_type": "code",
   "execution_count": 1,
   "id": "35748575",
   "metadata": {
    "tags": []
   },
   "outputs": [
    {
     "data": {
      "application/javascript": [
       "IPython.notebook.set_autosave_interval(180000)"
      ]
     },
     "metadata": {},
     "output_type": "display_data"
    },
    {
     "name": "stdout",
     "output_type": "stream",
     "text": [
      "Autosaving every 180 seconds\n"
     ]
    },
    {
     "data": {
      "text/html": [
       "<style>.container { width:100% !important; }</style>"
      ],
      "text/plain": [
       "<IPython.core.display.HTML object>"
      ]
     },
     "metadata": {},
     "output_type": "display_data"
    }
   ],
   "source": [
    "import matplotlib\n",
    "#%matplotlib tk\n",
    "%matplotlib inline\n",
    "%autosave 180\n",
    "%load_ext autoreload\n",
    "%autoreload 2\n",
    "\n",
    "import nest_asyncio\n",
    "\n",
    "%config Completer.use_jedi = False\n",
    "\n",
    "#\n",
    "import matplotlib.pyplot as plt\n",
    "from IPython.core.display import display, HTML\n",
    "display(HTML(\"<style>.container { width:100% !important; }</style>\"))\n",
    "\n",
    "# \n",
    "import matplotlib.cm as cm\n",
    "import numpy as np\n",
    "import os\n",
    "from tqdm import tqdm\n",
    "\n",
    "#\n",
    "import sys\n",
    "sys.path.append('/home/cat/code/gerbil/')\n",
    "\n",
    "# \n",
    "from utils.track import track\n",
    "from utils.convert import convert\n",
    "from utils.ethogram import ethogram\n",
    "#from utils.cohort import cohort\n",
    "from utils.cohort.cohort import CohortProcessor, cleanup_block_tracks\n",
    "from utils.ethogram import ethogram"
   ]
  },
  {
   "cell_type": "code",
   "execution_count": 2,
   "id": "1cd83edf",
   "metadata": {
    "tags": []
   },
   "outputs": [
    {
     "name": "stdout",
     "output_type": "stream",
     "text": [
      "DF:     Unnamed: 0  Cohort NN Type                                   Filename Dev Day  # of Gerbils Time of Light Switch  Shaved?  Predicted?                                   Slp filename Start time\n",
      "0           0       2     Day  2020_07_20_09_53_59_813912_compressed.mp4     P15             6                  NaN        1           1  2020_07_20_09_53_59_813912_compressed_Day.slp   09:53:59\n",
      "1           1       2     Day  2020_07_20_10_16_08_629297_compressed.mp4     P15             6                  NaN        1           1  2020_07_20_10_16_08_629297_compressed_Day.slp   10:16:08\n",
      "2           2       2     Day  2020_07_20_10_38_20_043555_compressed.mp4     P15             6                  NaN        1           1  2020_07_20_10_38_20_043555_compressed_Day.slp   10:38:20\n",
      "3           3       2     Day  2020_07_20_11_00_31_566455_compressed.mp4     P15             6                  NaN        1           1  2020_07_20_11_00_31_566455_compressed_Day.slp   11:00:31\n",
      "4           4       2     Day  2020_07_20_11_22_36_823934_compressed.mp4     P15             6                  NaN        1           1  2020_07_20_11_22_36_823934_compressed_Day.slp   11:22:36\n",
      "Loading only recordings with 6 animals...\n",
      " ... total # :  991  /  991\n"
     ]
    }
   ],
   "source": [
    "######################################################\n",
    "############# LOAD ANIMAL DATABASE ###################\n",
    "######################################################\n",
    "#fname_spreadsheet = '/mnt/b3a68699-495d-4ebb-9ab1-ac74f11c68c5/gerbil/cohort3/database.xlsx'\n",
    "fname_spreadsheet = '/mnt/b3a68699-495d-4ebb-9ab1-ac74f11c68c5/gerbil/cohort2/database.xlsx'\n",
    "#fname_spreadsheet = '/media/cat/4TBSSD/dan/cohort2/P21_P28/database.xlsx'\n",
    "\n",
    "#\n",
    "cohort = CohortProcessor(fname_spreadsheet)\n",
    "#cohort.fname_spreadsheet = '/mnt/b3a68699-495d-4ebb-9ab1-ac74f11c68c5/gerbil/cohort2/database.xlsx'\n",
    "cohort.load_database()\n",
    "\n",
    "#\n",
    "cohort.ethogram = ethogram\n",
    "\n",
    "# print (list(zip(cohort.PDays,cohort.Start_times))[0])\n",
    "# print (list(zip(cohort.PDays,cohort.Start_times))[1])\n",
    "# print (list(zip(cohort.PDays,cohort.Start_times))[100])"
   ]
  },
  {
   "cell_type": "code",
   "execution_count": 4,
   "id": "57746e92-5e4a-400e-973f-1fb9447a97a3",
   "metadata": {
    "tags": []
   },
   "outputs": [
    {
     "name": "stdout",
     "output_type": "stream",
     "text": [
      " # of files:  991\n",
      "... parallel converting .slp -> .npy...\n"
     ]
    },
    {
     "name": "stderr",
     "output_type": "stream",
     "text": [
      " 66%|███████████████████████████▏             | 656/991 [00:36<00:20, 16.32it/s]"
     ]
    },
    {
     "name": "stdout",
     "output_type": "stream",
     "text": [
      "Conversion prcess failed:  /mnt/b3a68699-495d-4ebb-9ab1-ac74f11c68c5/gerbil/cohort2/blocks/2020_07_29_04_39_11_439022_compressed_Night.slp\n"
     ]
    },
    {
     "name": "stderr",
     "output_type": "stream",
     "text": [
      " 94%|██████████████████████████████████████▍  | 928/991 [01:22<00:11,  5.48it/s]"
     ]
    },
    {
     "name": "stdout",
     "output_type": "stream",
     "text": [
      "Conversion prcess failed:  /mnt/b3a68699-495d-4ebb-9ab1-ac74f11c68c5/gerbil/cohort2/blocks/2020_07_28_22_44_11_314502_compressed_Night.slp\n"
     ]
    },
    {
     "name": "stderr",
     "output_type": "stream",
     "text": [
      "992it [02:03,  8.04it/s]                                                        \n"
     ]
    }
   ],
   "source": [
    "##########################################################\n",
    "##########################################################\n",
    "##########################################################\n",
    "#\n",
    "cohort.load_block_tracks_names()\n",
    "\n",
    "#\n",
    "cohort.convert_block_slp_to_npy()\n"
   ]
  },
  {
   "cell_type": "code",
   "execution_count": 6,
   "id": "4fd0d4e5-7279-48cc-9b96-bed10417c290",
   "metadata": {
    "tags": []
   },
   "outputs": [
    {
     "name": "stdout",
     "output_type": "stream",
     "text": [
      "light_switch time:  9:36 13824 ['day', 'night']\n",
      "light_switch time:  9:36 13824 ['day', 'night']\n",
      "light_switch time:  9:22 13488 ['day', 'night']\n",
      "light_switch time:  9:22 13488 ['day', 'night']\n",
      "light_switch time:  8:26 12144 ['day', 'night']\n",
      "light_switch time:  8:26 12144 ['day', 'night']\n",
      "light_switch time:  18:20 26400 ['night', 'day']\n",
      "light_switch time:  18:20 26400 ['night', 'day']\n",
      "light_switch time:  8:52 12768 ['day', 'night']\n",
      "light_switch time:  8:52 12768 ['day', 'night']\n",
      "light_switch time:  18:55 27240 ['night', 'day']\n",
      "light_switch time:  18:55 27240 ['night', 'day']\n",
      "light_switch time:  7:19 10536 ['day', 'night']\n",
      "light_switch time:  7:19 10536 ['day', 'night']\n",
      "light_switch time:  17:11 24744 ['night', 'day']\n",
      "light_switch time:  17:11 24744 ['night', 'day']\n",
      "light_switch time:  5:08 7392 ['day', 'night']\n",
      "light_switch time:  5:08 7392 ['day', 'night']\n",
      "light_switch time:  15:09 21816 ['night', 'day']\n",
      "light_switch time:  15:09 21816 ['night', 'day']\n",
      "light_switch time:  2:59 4296 ['day', 'night']\n",
      "light_switch time:  2:59 4296 ['day', 'night']\n",
      "light_switch time:  12:55 18600 ['night', 'day']\n",
      "light_switch time:  12:55 18600 ['night', 'day']\n",
      "light_switch time:  0:35 840 ['day', 'night']\n",
      "light_switch time:  0:35 840 ['day', 'night']\n",
      "light_switch time:  10:45 15480 ['night', 'day']\n",
      "light_switch time:  10:45 15480 ['night', 'day']\n",
      "light_switch time:  8:06 11664 ['night', 'day']\n",
      "light_switch time:  8:06 11664 ['night', 'day']\n",
      "light_switch time:  8:38 12432 ['night', 'day']\n",
      "light_switch time:  8:38 12432 ['night', 'day']\n",
      "light_switch time:  19:02 27408 ['day', 'night']\n",
      "light_switch time:  19:02 27408 ['day', 'night']\n",
      "light_switch time:  6:05 8760 ['night', 'day']\n",
      "light_switch time:  6:05 8760 ['night', 'day']\n",
      "light_switch time:  13:54 20016 ['day', 'night']\n",
      "light_switch time:  13:54 20016 ['day', 'night']\n",
      "light_switch time:  1:31 2184 ['night', 'day']\n",
      "light_switch time:  1:31 2184 ['night', 'day']\n",
      "light_switch time:  2:48 4032 ['day', 'night']\n",
      "light_switch time:  2:48 4032 ['day', 'night']\n",
      "light_switch time:  11:44 16896 ['night', 'day']\n",
      "light_switch time:  11:44 16896 ['night', 'day']\n",
      "light_switch time:  12:28 17952 ['day', 'night']\n",
      "light_switch time:  12:28 17952 ['day', 'night']\n",
      "light_switch time:  0:08 192 ['night', 'day']\n",
      "light_switch time:  0:08 192 ['night', 'day']\n",
      "light_switch time:  9:35 13800 ['day', 'night']\n",
      "light_switch time:  9:35 13800 ['day', 'night']\n",
      "light_switch time:  18:49 27096 ['night', 'day']\n",
      "light_switch time:  18:49 27096 ['night', 'day']\n"
     ]
    }
   ],
   "source": [
    "################################################\n",
    "################################################\n",
    "################################################\n",
    "\n",
    "# this code takes the day + night predictions and makes a \"both\" file that contains the correct features from each side of the day\n",
    "cohort.root_dir_huddles = '/mnt/b3a68699-495d-4ebb-9ab1-ac74f11c68c5/gerbil/cohort2/huddles'\n",
    "cohort.merge_block_tracks_both()"
   ]
  },
  {
   "cell_type": "code",
   "execution_count": 7,
   "id": "841881a1-7c20-4517-9157-2471949caaf1",
   "metadata": {
    "tags": []
   },
   "outputs": [
    {
     "name": "stderr",
     "output_type": "stream",
     "text": [
      " 11%|████▎                                  | 110/991 [00:00<00:00, 1089.36it/s]"
     ]
    },
    {
     "name": "stdout",
     "output_type": "stream",
     "text": [
      "missing :  /mnt/b3a68699-495d-4ebb-9ab1-ac74f11c68c5/gerbil/cohort2/blocks/2020_07_20_19_55_21_569517_compressed_Both.npy\n",
      "missing :  /mnt/b3a68699-495d-4ebb-9ab1-ac74f11c68c5/gerbil/cohort2/blocks/2020_07_20_19_55_21_569517_compressed_Both.npy\n",
      "missing :  /mnt/b3a68699-495d-4ebb-9ab1-ac74f11c68c5/gerbil/cohort2/blocks/2020_07_21_19_55_36_310972_compressed_Both.npy\n",
      "missing :  /mnt/b3a68699-495d-4ebb-9ab1-ac74f11c68c5/gerbil/cohort2/blocks/2020_07_21_19_55_36_310972_compressed_Both.npy\n",
      "missing :  /mnt/b3a68699-495d-4ebb-9ab1-ac74f11c68c5/gerbil/cohort2/blocks/2020_07_22_19_56_32_711641_compressed_Both.npy\n",
      "missing :  /mnt/b3a68699-495d-4ebb-9ab1-ac74f11c68c5/gerbil/cohort2/blocks/2020_07_22_19_56_32_711641_compressed_Both.npy\n",
      "missing :  /mnt/b3a68699-495d-4ebb-9ab1-ac74f11c68c5/gerbil/cohort2/blocks/2020_07_23_07_46_39_462276_compressed_Both.npy\n",
      "missing :  /mnt/b3a68699-495d-4ebb-9ab1-ac74f11c68c5/gerbil/cohort2/blocks/2020_07_23_07_46_39_462276_compressed_Both.npy\n"
     ]
    },
    {
     "name": "stderr",
     "output_type": "stream",
     "text": [
      " 22%|████████▊                               | 219/991 [00:00<00:01, 540.02it/s]"
     ]
    },
    {
     "name": "stdout",
     "output_type": "stream",
     "text": [
      "missing :  /mnt/b3a68699-495d-4ebb-9ab1-ac74f11c68c5/gerbil/cohort2/blocks/2020_07_23_19_58_03_909312_compressed_Both.npy\n",
      "missing :  /mnt/b3a68699-495d-4ebb-9ab1-ac74f11c68c5/gerbil/cohort2/blocks/2020_07_23_19_58_03_909312_compressed_Both.npy\n",
      "missing :  /mnt/b3a68699-495d-4ebb-9ab1-ac74f11c68c5/gerbil/cohort2/blocks/2020_07_24_07_48_00_521958_compressed_Both.npy\n",
      "missing :  /mnt/b3a68699-495d-4ebb-9ab1-ac74f11c68c5/gerbil/cohort2/blocks/2020_07_24_07_48_00_521958_compressed_Both.npy\n"
     ]
    },
    {
     "name": "stderr",
     "output_type": "stream",
     "text": [
      " 38%|███████████████▍                        | 381/991 [00:00<00:01, 539.24it/s]"
     ]
    },
    {
     "name": "stdout",
     "output_type": "stream",
     "text": [
      "missing :  /mnt/b3a68699-495d-4ebb-9ab1-ac74f11c68c5/gerbil/cohort2/blocks/2020_07_24_19_59_37_489342_compressed_Both.npy\n",
      "missing :  /mnt/b3a68699-495d-4ebb-9ab1-ac74f11c68c5/gerbil/cohort2/blocks/2020_07_24_19_59_37_489342_compressed_Both.npy\n",
      "missing :  /mnt/b3a68699-495d-4ebb-9ab1-ac74f11c68c5/gerbil/cohort2/blocks/2020_07_25_07_49_45_729250_compressed_Both.npy\n",
      "missing :  /mnt/b3a68699-495d-4ebb-9ab1-ac74f11c68c5/gerbil/cohort2/blocks/2020_07_25_07_49_45_729250_compressed_Both.npy\n",
      "missing :  /mnt/b3a68699-495d-4ebb-9ab1-ac74f11c68c5/gerbil/cohort2/blocks/2020_07_25_20_01_48_433012_compressed_Both.npy\n",
      "missing :  /mnt/b3a68699-495d-4ebb-9ab1-ac74f11c68c5/gerbil/cohort2/blocks/2020_07_25_20_01_48_433012_compressed_Both.npy\n",
      "missing :  /mnt/b3a68699-495d-4ebb-9ab1-ac74f11c68c5/gerbil/cohort2/blocks/2020_07_26_07_51_47_287474_compressed_Both.npy\n",
      "missing :  /mnt/b3a68699-495d-4ebb-9ab1-ac74f11c68c5/gerbil/cohort2/blocks/2020_07_26_07_51_47_287474_compressed_Both.npy\n",
      "missing :  /mnt/b3a68699-495d-4ebb-9ab1-ac74f11c68c5/gerbil/cohort2/blocks/2020_07_26_20_03_58_248000_compressed_Both.npy\n",
      "missing :  /mnt/b3a68699-495d-4ebb-9ab1-ac74f11c68c5/gerbil/cohort2/blocks/2020_07_26_20_03_58_248000_compressed_Both.npy\n"
     ]
    },
    {
     "name": "stderr",
     "output_type": "stream",
     "text": [
      " 45%|██████████████████                      | 449/991 [00:00<00:00, 557.00it/s]"
     ]
    },
    {
     "name": "stdout",
     "output_type": "stream",
     "text": [
      "missing :  /mnt/b3a68699-495d-4ebb-9ab1-ac74f11c68c5/gerbil/cohort2/blocks/2020_07_27_07_54_02_236260_compressed_Both.npy\n",
      "missing :  /mnt/b3a68699-495d-4ebb-9ab1-ac74f11c68c5/gerbil/cohort2/blocks/2020_07_27_07_54_02_236260_compressed_Both.npy\n",
      "missing :  /mnt/b3a68699-495d-4ebb-9ab1-ac74f11c68c5/gerbil/cohort2/blocks/2020_07_27_20_06_22_603634_compressed_Both.npy\n",
      "missing :  /mnt/b3a68699-495d-4ebb-9ab1-ac74f11c68c5/gerbil/cohort2/blocks/2020_07_27_20_06_22_603634_compressed_Both.npy\n"
     ]
    },
    {
     "name": "stderr",
     "output_type": "stream",
     "text": [
      " 52%|████████████████████▋                   | 514/991 [00:01<00:01, 349.39it/s]"
     ]
    },
    {
     "name": "stdout",
     "output_type": "stream",
     "text": [
      "missing :  /mnt/b3a68699-495d-4ebb-9ab1-ac74f11c68c5/gerbil/cohort2/blocks/2020_07_28_07_56_12_916962_compressed_Both.npy\n",
      "missing :  /mnt/b3a68699-495d-4ebb-9ab1-ac74f11c68c5/gerbil/cohort2/blocks/2020_07_28_07_56_12_916962_compressed_Both.npy\n"
     ]
    },
    {
     "name": "stderr",
     "output_type": "stream",
     "text": [
      " 57%|██████████████████████▋                 | 563/991 [00:01<00:02, 207.84it/s]"
     ]
    },
    {
     "name": "stdout",
     "output_type": "stream",
     "text": [
      "missing :  /mnt/b3a68699-495d-4ebb-9ab1-ac74f11c68c5/gerbil/cohort2/blocks/2020_07_28_22_44_11_314502_compressed_Night.npy\n"
     ]
    },
    {
     "name": "stderr",
     "output_type": "stream",
     "text": [
      " 60%|████████████████████████▏               | 599/991 [00:02<00:03, 105.78it/s]"
     ]
    },
    {
     "name": "stdout",
     "output_type": "stream",
     "text": [
      "missing :  /mnt/b3a68699-495d-4ebb-9ab1-ac74f11c68c5/gerbil/cohort2/blocks/2020_07_29_04_39_11_439022_compressed_Night.npy\n",
      "missing :  /mnt/b3a68699-495d-4ebb-9ab1-ac74f11c68c5/gerbil/cohort2/blocks/2020_07_29_07_58_52_895618_compressed_Both.npy\n",
      "missing :  /mnt/b3a68699-495d-4ebb-9ab1-ac74f11c68c5/gerbil/cohort2/blocks/2020_07_29_07_58_52_895618_compressed_Both.npy\n"
     ]
    },
    {
     "name": "stderr",
     "output_type": "stream",
     "text": [
      " 77%|██████████████████████████████▋         | 761/991 [00:02<00:01, 224.83it/s]"
     ]
    },
    {
     "name": "stdout",
     "output_type": "stream",
     "text": [
      "missing :  /mnt/b3a68699-495d-4ebb-9ab1-ac74f11c68c5/gerbil/cohort2/blocks/2020_07_30_07_58_21_812233_compressed_Both.npy\n",
      "missing :  /mnt/b3a68699-495d-4ebb-9ab1-ac74f11c68c5/gerbil/cohort2/blocks/2020_07_30_07_58_21_812233_compressed_Both.npy\n",
      "missing :  /mnt/b3a68699-495d-4ebb-9ab1-ac74f11c68c5/gerbil/cohort2/blocks/2020_07_30_19_47_56_767380_compressed_Both.npy\n",
      "missing :  /mnt/b3a68699-495d-4ebb-9ab1-ac74f11c68c5/gerbil/cohort2/blocks/2020_07_30_19_47_56_767380_compressed_Both.npy\n",
      "missing :  /mnt/b3a68699-495d-4ebb-9ab1-ac74f11c68c5/gerbil/cohort2/blocks/2020_07_31_08_00_54_541312_compressed_Both.npy\n",
      "missing :  /mnt/b3a68699-495d-4ebb-9ab1-ac74f11c68c5/gerbil/cohort2/blocks/2020_07_31_08_00_54_541312_compressed_Both.npy\n",
      "missing :  /mnt/b3a68699-495d-4ebb-9ab1-ac74f11c68c5/gerbil/cohort2/blocks/2020_07_31_19_53_05_251829_compressed_Both.npy\n",
      "missing :  /mnt/b3a68699-495d-4ebb-9ab1-ac74f11c68c5/gerbil/cohort2/blocks/2020_07_31_19_53_05_251829_compressed_Both.npy\n",
      "missing :  /mnt/b3a68699-495d-4ebb-9ab1-ac74f11c68c5/gerbil/cohort2/blocks/2020_08_01_08_05_28_550500_compressed_Both.npy\n",
      "missing :  /mnt/b3a68699-495d-4ebb-9ab1-ac74f11c68c5/gerbil/cohort2/blocks/2020_08_01_08_05_28_550500_compressed_Both.npy\n"
     ]
    },
    {
     "name": "stderr",
     "output_type": "stream",
     "text": [
      " 82%|████████████████████████████████▉       | 816/991 [00:03<00:00, 263.47it/s]"
     ]
    },
    {
     "name": "stdout",
     "output_type": "stream",
     "text": [
      "missing :  /mnt/b3a68699-495d-4ebb-9ab1-ac74f11c68c5/gerbil/cohort2/blocks/2020_08_01_20_04_11_490071_compressed_Both.npy\n",
      "missing :  /mnt/b3a68699-495d-4ebb-9ab1-ac74f11c68c5/gerbil/cohort2/blocks/2020_08_01_20_04_11_490071_compressed_Both.npy\n",
      "missing :  /mnt/b3a68699-495d-4ebb-9ab1-ac74f11c68c5/gerbil/cohort2/blocks/2020_08_02_07_55_16_153343_compressed_Both.npy\n",
      "missing :  /mnt/b3a68699-495d-4ebb-9ab1-ac74f11c68c5/gerbil/cohort2/blocks/2020_08_02_07_55_16_153343_compressed_Both.npy\n"
     ]
    },
    {
     "name": "stderr",
     "output_type": "stream",
     "text": [
      " 92%|████████████████████████████████████▊   | 911/991 [00:04<00:00, 138.30it/s]"
     ]
    },
    {
     "name": "stdout",
     "output_type": "stream",
     "text": [
      "missing :  /mnt/b3a68699-495d-4ebb-9ab1-ac74f11c68c5/gerbil/cohort2/blocks/2020_08_02_19_54_32_204143_compressed_Both.npy\n",
      "missing :  /mnt/b3a68699-495d-4ebb-9ab1-ac74f11c68c5/gerbil/cohort2/blocks/2020_08_02_19_54_32_204143_compressed_Both.npy\n",
      "missing :  /mnt/b3a68699-495d-4ebb-9ab1-ac74f11c68c5/gerbil/cohort2/blocks/2020_08_03_08_06_52_830453_compressed_Both.npy\n",
      "missing :  /mnt/b3a68699-495d-4ebb-9ab1-ac74f11c68c5/gerbil/cohort2/blocks/2020_08_03_08_06_52_830453_compressed_Both.npy\n"
     ]
    },
    {
     "name": "stderr",
     "output_type": "stream",
     "text": [
      " 95%|██████████████████████████████████████  | 943/991 [00:04<00:00, 149.64it/s]"
     ]
    },
    {
     "name": "stdout",
     "output_type": "stream",
     "text": [
      "missing :  /mnt/b3a68699-495d-4ebb-9ab1-ac74f11c68c5/gerbil/cohort2/blocks/2020_08_03_19_57_26_087619_compressed_Both.npy\n",
      "missing :  /mnt/b3a68699-495d-4ebb-9ab1-ac74f11c68c5/gerbil/cohort2/blocks/2020_08_03_19_57_26_087619_compressed_Both.npy\n"
     ]
    },
    {
     "name": "stderr",
     "output_type": "stream",
     "text": [
      "100%|████████████████████████████████████████| 991/991 [00:06<00:00, 161.96it/s]"
     ]
    },
    {
     "name": "stdout",
     "output_type": "stream",
     "text": [
      "missing :  /mnt/b3a68699-495d-4ebb-9ab1-ac74f11c68c5/gerbil/cohort2/blocks/2020_08_04_07_48_11_839158_compressed_Both.npy\n",
      "missing :  /mnt/b3a68699-495d-4ebb-9ab1-ac74f11c68c5/gerbil/cohort2/blocks/2020_08_04_07_48_11_839158_compressed_Both.npy\n"
     ]
    },
    {
     "name": "stderr",
     "output_type": "stream",
     "text": [
      "\n"
     ]
    }
   ],
   "source": [
    "#################################################\n",
    "############### CLEANUP BLOCK  ##################\n",
    "#################################################\n",
    "cohort.cleanup_blocks()\n"
   ]
  },
  {
   "cell_type": "code",
   "execution_count": 6,
   "id": "ff3be092-95c3-4a6d-add5-25e0229daea6",
   "metadata": {
    "tags": []
   },
   "outputs": [],
   "source": [
    "#################################################\n",
    "############### COMPUTE BLOCK  ##################\n",
    "#################################################\n",
    "\n",
    "#load_blocks()\n",
    "\n",
    "\n",
    "\n",
    "#/mnt/b3a68699-495d-4ebb-9ab1-ac74f11c68c5/gerbil/cohort2/blocks/2020_07_20_09_53_59_813912_compressed_Day.npy\n",
    "#/mnt/b3a68699-495d-4ebb-9ab1-ac74f11c68c5/gerbil/cohort2/blocks/2020_07_20_09_53_59_813912_compressed.npy"
   ]
  },
  {
   "cell_type": "code",
   "execution_count": 8,
   "id": "b91ebfaf-55fd-4dc6-bb5e-8d75ce7caf08",
   "metadata": {
    "tags": []
   },
   "outputs": [
    {
     "name": "stdout",
     "output_type": "stream",
     "text": [
      " # of block files:  991 , missing:  54\n",
      "# of feature tracks:  991 , missing:  0\n"
     ]
    },
    {
     "name": "stderr",
     "output_type": "stream",
     "text": [
      "  0%|                                                   | 0/991 [00:00<?, ?it/s]"
     ]
    },
    {
     "name": "stdout",
     "output_type": "stream",
     "text": [
      "Missing file... making empty:  2020_07_21_19_55_36_310972_compressed_Both_cleanedup.npy\n",
      "Missing file... making empty:  2020_07_22_19_56_32_711641_compressed_Both_cleanedup.npy\n",
      "Missing file... making empty:  2020_07_23_07_46_39_462276_compressed_Both_cleanedup.npy\n",
      "Missing file... making empty:  2020_07_20_19_55_21_569517_compressed_Both_cleanedup.npy\n",
      "Missing file... making empty:  2020_07_21_19_55_36_310972_compressed_Both_cleanedup.npy\n",
      "Missing file... making empty:  2020_07_22_19_56_32_711641_compressed_Both_cleanedup.npy\n",
      "Missing file... making empty:  2020_07_23_07_46_39_462276_compressed_Both_cleanedup.npy\n",
      "Missing file... making empty:  2020_07_20_19_55_21_569517_compressed_Both_cleanedup.npy\n",
      "Missing file... making empty:  2020_07_24_07_48_00_521958_compressed_Both_cleanedup.npy\n",
      "Missing file... making empty:  2020_07_23_19_58_03_909312_compressed_Both_cleanedup.npy\n",
      "Missing file... making empty:  2020_07_24_07_48_00_521958_compressed_Both_cleanedup.npy\n",
      "Missing file... making empty:  2020_07_23_19_58_03_909312_compressed_Both_cleanedup.npy\n"
     ]
    },
    {
     "name": "stderr",
     "output_type": "stream",
     "text": [
      " 27%|██████████▉                              | 264/991 [00:46<01:12, 10.05it/s]"
     ]
    },
    {
     "name": "stdout",
     "output_type": "stream",
     "text": [
      "Missing file... making empty:  2020_07_24_19_59_37_489342_compressed_Both_cleanedup.npy\n",
      "Missing file... making empty:  2020_07_24_19_59_37_489342_compressed_Both_cleanedup.npy\n"
     ]
    },
    {
     "name": "stderr",
     "output_type": "stream",
     "text": [
      " 27%|██████████▉                              | 264/991 [01:01<01:12, 10.05it/s]"
     ]
    },
    {
     "name": "stdout",
     "output_type": "stream",
     "text": [
      "Missing file... making empty:  2020_07_25_07_49_45_729250_compressed_Both_cleanedup.npy\n",
      "Missing file... making empty:  2020_07_25_07_49_45_729250_compressed_Both_cleanedup.npy\n",
      "Missing file... making empty:  2020_07_25_20_01_48_433012_compressed_Both_cleanedup.npy\n",
      "Missing file... making empty:  2020_07_26_07_51_47_287474_compressed_Both_cleanedup.npy\n",
      "Missing file... making empty:  2020_07_25_20_01_48_433012_compressed_Both_cleanedup.npy\n",
      "Missing file... making empty:  2020_07_26_07_51_47_287474_compressed_Both_cleanedup.npy\n",
      "Missing file... making empty:  2020_07_26_20_03_58_248000_compressed_Both_cleanedup.npy\n",
      "Missing file... making empty:  2020_07_27_07_54_02_236260_compressed_Both_cleanedup.npy\n"
     ]
    },
    {
     "name": "stderr",
     "output_type": "stream",
     "text": [
      " 28%|███████████▍                             | 275/991 [01:14<03:25,  3.48it/s]"
     ]
    },
    {
     "name": "stdout",
     "output_type": "stream",
     "text": [
      "Missing file... making empty:  2020_07_26_20_03_58_248000_compressed_Both_cleanedup.npy\n",
      "Missing file... making empty:  2020_07_27_07_54_02_236260_compressed_Both_cleanedup.npy\n"
     ]
    },
    {
     "name": "stderr",
     "output_type": "stream",
     "text": [
      " 30%|████████████▎                            | 297/991 [01:18<03:03,  3.77it/s]"
     ]
    },
    {
     "name": "stdout",
     "output_type": "stream",
     "text": [
      "Missing file... making empty:  2020_07_27_20_06_22_603634_compressed_Both_cleanedup.npy\n",
      "Missing file... making empty:  2020_07_28_07_56_12_916962_compressed_Both_cleanedup.npy\n",
      "Missing file... making empty:  2020_07_29_04_39_11_439022_compressed_Night_cleanedup.npy\n",
      "Missing file... making empty:  2020_07_27_20_06_22_603634_compressed_Both_cleanedup.npy\n"
     ]
    },
    {
     "name": "stderr",
     "output_type": "stream",
     "text": [
      " 34%|██████████████                           | 341/991 [01:20<01:53,  5.74it/s]"
     ]
    },
    {
     "name": "stdout",
     "output_type": "stream",
     "text": [
      "Missing file... making empty:  2020_07_28_07_56_12_916962_compressed_Both_cleanedup.npy\n"
     ]
    },
    {
     "name": "stderr",
     "output_type": "stream",
     "text": [
      " 53%|█████████████████████▊                   | 528/991 [01:26<00:26, 17.59it/s]"
     ]
    },
    {
     "name": "stdout",
     "output_type": "stream",
     "text": [
      "Missing file... making empty:  2020_07_30_19_47_56_767380_compressed_Both_cleanedup.npy\n",
      "Missing file... making empty:  2020_07_30_19_47_56_767380_compressed_Both_cleanedup.npy\n",
      "Missing file... making empty:  2020_07_30_07_58_21_812233_compressed_Both_cleanedup.npy\n",
      "Missing file... making empty:  2020_07_30_07_58_21_812233_compressed_Both_cleanedup.npy\n",
      "Missing file... making empty:  2020_07_31_08_00_54_541312_compressed_Both_cleanedup.npy\n",
      "Missing file... making empty:  2020_07_31_19_53_05_251829_compressed_Both_cleanedup.npy\n",
      "Missing file... making empty:  2020_07_31_08_00_54_541312_compressed_Both_cleanedup.npy\n",
      "Missing file... making empty:  2020_07_31_19_53_05_251829_compressed_Both_cleanedup.npy\n",
      "Missing file... making empty:  2020_08_01_08_05_28_550500_compressed_Both_cleanedup.npy\n",
      "Missing file... making empty:  2020_07_28_22_44_11_314502_compressed_Night_cleanedup.npy\n"
     ]
    },
    {
     "name": "stderr",
     "output_type": "stream",
     "text": [
      " 53%|█████████████████████▊                   | 528/991 [01:41<00:26, 17.59it/s]"
     ]
    },
    {
     "name": "stdout",
     "output_type": "stream",
     "text": [
      "Missing file... making empty:  2020_08_01_08_05_28_550500_compressed_Both_cleanedup.npy\n",
      "Missing file... making empty:  2020_07_29_07_58_52_895618_compressed_Both_cleanedup.npy\n",
      "Missing file... making empty:  2020_07_29_07_58_52_895618_compressed_Both_cleanedup.npy\n"
     ]
    },
    {
     "name": "stderr",
     "output_type": "stream",
     "text": [
      " 79%|████████████████████████████████▎        | 781/991 [02:06<00:14, 14.71it/s]"
     ]
    },
    {
     "name": "stdout",
     "output_type": "stream",
     "text": [
      "Missing file... making empty:  2020_08_01_20_04_11_490071_compressed_Both_cleanedup.npy\n"
     ]
    },
    {
     "name": "stderr",
     "output_type": "stream",
     "text": [
      " 80%|████████████████████████████████▊        | 792/991 [02:08<00:15, 12.94it/s]"
     ]
    },
    {
     "name": "stdout",
     "output_type": "stream",
     "text": [
      "Missing file... making empty:  2020_08_01_20_04_11_490071_compressed_Both_cleanedup.npy\n"
     ]
    },
    {
     "name": "stderr",
     "output_type": "stream",
     "text": [
      " 81%|█████████████████████████████████▏       | 803/991 [02:10<00:16, 11.33it/s]"
     ]
    },
    {
     "name": "stdout",
     "output_type": "stream",
     "text": [
      "Missing file... making empty:  2020_08_02_07_55_16_153343_compressed_Both_cleanedup.npy\n",
      "Missing file... making empty:  2020_08_02_19_54_32_204143_compressed_Both_cleanedup.npy\n",
      "Missing file... making empty:  2020_08_02_07_55_16_153343_compressed_Both_cleanedup.npy\n",
      "Missing file... making empty:  2020_08_02_19_54_32_204143_compressed_Both_cleanedup.npy\n",
      "Missing file... making empty:  2020_08_03_08_06_52_830453_compressed_Both_cleanedup.npy\n",
      "Missing file... making empty:  2020_08_03_19_57_26_087619_compressed_Both_cleanedup.npy\n",
      "Missing file... making empty:  2020_08_03_08_06_52_830453_compressed_Both_cleanedup.npy\n",
      "Missing file... making empty:  2020_08_03_19_57_26_087619_compressed_Both_cleanedup.npy\n",
      "Missing file... making empty:  2020_08_04_07_48_11_839158_compressed_Both_cleanedup.npy\n",
      "Missing file... making empty:  2020_08_04_07_48_11_839158_compressed_Both_cleanedup.npy\n"
     ]
    },
    {
     "name": "stderr",
     "output_type": "stream",
     "text": [
      "1001it [02:36,  6.40it/s]                                                       \n"
     ]
    }
   ],
   "source": [
    "#################################################\n",
    "############### COMPUTE BLOCK  ##################\n",
    "#################################################\n",
    "\n",
    "#\n",
    "cohort.video_frame_rate = 24\n",
    "cohort.parallel_flag = True\n",
    "\n",
    "# set the flags for the huddle corrections\n",
    "#cohort.fix_track_flag = True\n",
    "#cohort.interpolate_flag = True\n",
    "cohort.load_block_tracks_clean()\n",
    "\n",
    "# # # this just loads the _spine.npy files;\n",
    "cohort.use_nohuddle = True\n",
    "cohort.load_feature_tracks()\n",
    "\n",
    "#\n",
    "cohort.threshold_dist = 50    # number of pixesl between the blocks and gerbil to be considered an interaction\n",
    "\n",
    "# # # this computes mode-based occupancy in the nest with 1min bins\n",
    "cohort.median_filter_width = cohort.video_frame_rate*5+1 # 1: there is no smotthing; n x frame rate gives you n seconds of somothing (always add 1 to get odd number)\n",
    "#cohort.n_frames_per_bin = cohort.video_frame_rate  # single second resolution\n",
    "cohort.n_frames_per_bin = cohort.video_frame_rate #*60  # single second resolution\n",
    "cohort.n_cores = 24\n",
    "cohort.compute_huddle_proximity()\n",
    "# print (\"# of huddle composition arrays: \", len(cohort.huddle_comps_binned), cohort.huddle_comps_binned[0].shape)\n"
   ]
  },
  {
   "cell_type": "code",
   "execution_count": 9,
   "id": "94043093-aa53-4900-93a4-98c20b048bd0",
   "metadata": {
    "tags": []
   },
   "outputs": [
    {
     "name": "stdout",
     "output_type": "stream",
     "text": [
      "size of img:  (86400, 96)  size of flatten image:  (1382400, 6)\n"
     ]
    },
    {
     "name": "stderr",
     "output_type": "stream",
     "text": [
      "100%|███████████████████████████████████████| 991/991 [00:00<00:00, 2805.45it/s]\n"
     ]
    }
   ],
   "source": [
    "#################################################\n",
    "########### DISPLAY HUDDLE COMPOSITION ##########\n",
    "#################################################\n",
    "%matplotlib qt\n",
    "\n",
    "#\n",
    "cohort.forward_padding = 20 # padding in percent\n",
    "cohort.generate_block_proximity_ethogram()\n",
    "\n",
    "#\n",
    "cohort.show_block_proxmity_ethogram()\n"
   ]
  },
  {
   "cell_type": "code",
   "execution_count": 40,
   "id": "ca79d8d9-0a9b-4ffb-b15a-1fb059093f8d",
   "metadata": {
    "tags": []
   },
   "outputs": [],
   "source": [
    "cohort.show_combined_ethogram()"
   ]
  },
  {
   "cell_type": "code",
   "execution_count": 104,
   "id": "615b5a23",
   "metadata": {},
   "outputs": [
    {
     "name": "stdout",
     "output_type": "stream",
     "text": [
      "(86400, 96)\n",
      "(6, 1382400)\n"
     ]
    }
   ],
   "source": [
    "##########################################################\n",
    "########### COMPUTE FLATTENED VERSION OF ETHOGRAM ########\n",
    "##########################################################\n",
    "\n",
    "# OPTIONAL\n",
    "# print (cohort.huddle_ethogram.shape)\n",
    "\n",
    "# # flatten the ethogram\n",
    "# ethogram_flat = []\n",
    "\n",
    "# for k in range(0,cohort.huddle_ethogram.shape[1],6):\n",
    "#     ethogram_flat.append(cohort.huddle_ethogram[:,k:k+6])\n",
    "# ethogram_flat = np.vstack(ethogram_flat).T\n",
    "# print (ethogram_flat.shape)\n",
    "\n",
    "# # optional visualize\n",
    "# if False:\n",
    "#     plt.figure()\n",
    "\n",
    "#     plt.imshow(ethogram_flat, aspect='auto', \n",
    "#                interpolation='none',  cmap='jet')\n",
    "#     plt.show()"
   ]
  },
  {
   "cell_type": "code",
   "execution_count": 172,
   "id": "8b52b8b1-1d9a-44f2-9e0b-3ec83a5ecdf4",
   "metadata": {
    "tags": []
   },
   "outputs": [
    {
     "name": "stdout",
     "output_type": "stream",
     "text": [
      "(6, 1382400)\n"
     ]
    },
    {
     "name": "stderr",
     "output_type": "stream",
     "text": [
      "100%|█████████████████████████████████████████████| 5/5 [01:25<00:00, 17.11s/it]\n",
      "100%|█████████████████████████████████████████████| 4/4 [01:07<00:00, 16.76s/it]\n",
      "100%|█████████████████████████████████████████████| 3/3 [00:48<00:00, 16.02s/it]\n",
      "100%|█████████████████████████████████████████████| 2/2 [00:32<00:00, 16.39s/it]\n",
      "100%|█████████████████████████████████████████████| 1/1 [00:17<00:00, 17.01s/it]\n",
      "0it [00:00, ?it/s]\n"
     ]
    },
    {
     "data": {
      "image/png": "[encoded data removed]",
      "text/plain": [
       "<Figure size 640x480 with 15 Axes>"
      ]
     },
     "metadata": {},
     "output_type": "display_data"
    }
   ],
   "source": [
    "##############################################################################\n",
    "########### COMPUTE FLATTENED VERSION OF ETHOGRAM + CORRELATION ARRAY ########\n",
    "##############################################################################\n",
    "\n",
    "# FIGURE 1: CORRELOGRAMS <- not super informative!\n",
    "# flatten the ethogram\n",
    "ethogram_flat = []\n",
    "\n",
    "for k in range(0,cohort.huddle_ethogram.shape[1],6):\n",
    "    ethogram_flat.append(cohort.huddle_ethogram[:,k:k+6])\n",
    "ethogram_flat = np.vstack(ethogram_flat).T\n",
    "print (ethogram_flat.shape)\n",
    "\n",
    "# compute the correlograms between each pair of animals\n",
    "from scipy.stats import pearsonr\n",
    "\n",
    "#\n",
    "window = 100\n",
    "t = np.arange(-window,window,1)\n",
    "from tqdm import trange \n",
    "\n",
    "#\n",
    "cc_array = []\n",
    "plt.figure()\n",
    "for k in range(6):\n",
    "    for p in trange(k+1,6,1):\n",
    "        cc = []\n",
    "        for z in range(-window, window,1):\n",
    "            cc.append(pearsonr(np.roll(ethogram_flat[k],z), \n",
    "                                    ethogram_flat[p])[0])\n",
    "        cc_array.append([k,p,cc])\n",
    "\n",
    "        #\n",
    "        ax=plt.subplot(6,6,k*6+p+1)\n",
    "        plt.plot(t,cc)\n",
    "        plt.plot([0,0],[-1,1],'--',c='black')\n",
    "#\n",
    "\n",
    "plt.show()"
   ]
  },
  {
   "cell_type": "code",
   "execution_count": 115,
   "id": "2a5a0c7c",
   "metadata": {},
   "outputs": [
    {
     "name": "stderr",
     "output_type": "stream",
     "text": [
      "100%|██████████| 2000/2000 [00:10<00:00, 182.76it/s]\n"
     ]
    }
   ],
   "source": [
    "# cc = []\n",
    "# k = 0\n",
    "# p = 1\n",
    "# window = 1000\n",
    "# t=np.arange(-window,window,1)\n",
    "# t1 = ethogram_flat[k][520000:630000].copy()\n",
    "# idx = np.where(t1>0)\n",
    "# t1[idx] = 1\n",
    "# diffs = t1[1:]-t1[:-1]\n",
    "# idx1 = np.where(diffs>0)\n",
    "# idx2 = np.where(diffs<0)\n",
    "# t1[:] = 0\n",
    "# t1[idx1] = 1\n",
    "# t1[idx2] = -1\n",
    "\n",
    "# #\n",
    "# t2 = ethogram_flat[p][520000:630000].copy()\n",
    "# idx = np.where(t2>0)\n",
    "# t2[idx] = 1\n",
    "# diffs = t2[1:]-t2[:-1]\n",
    "# idx1 = np.where(diffs>0)\n",
    "# idx2 = np.where(diffs<0)\n",
    "# t2[:] = 0\n",
    "# t2[idx1] = 1\n",
    "# t2[idx2] = -1\n",
    "\n",
    "# #\n",
    "# for z in trange(-window, window,1):\n",
    "#     cc.append(pearsonr(np.roll(t1,z), \n",
    "#                         t2)[0])\n",
    "\n",
    "# #\n",
    "# #plt.plot([0,0],[0,1],'--',c='black')\n",
    "# plt.xlabel(\"seconds\")\n",
    "# #plt.plot([0,0],[50,50],'--',c='black')\n",
    "# plt.plot(t,cc)\n",
    "# plt.show()"
   ]
  },
  {
   "cell_type": "code",
   "execution_count": 106,
   "id": "172cb45b-afee-4946-b7a0-041ddd7edcaf",
   "metadata": {},
   "outputs": [
    {
     "name": "stderr",
     "output_type": "stream",
     "text": [
      "100%|██████████| 6/6 [00:00<00:00, 12.49it/s]\n"
     ]
    }
   ],
   "source": [
    "####################################################\n",
    "########### COMPUTE PAIR WISE SCATTER PLOTS ########\n",
    "####################################################\n",
    "\n",
    "# # flatten the ethogram\n",
    "# ethogram_flat = []\n",
    "\n",
    "# for k in range(0,cohort.huddle_ethogram.shape[1],6):\n",
    "#     ethogram_flat.append(cohort.huddle_ethogram[:,k:k+6])\n",
    "# ethogram_flat = np.vstack(ethogram_flat).T\n",
    "# print (ethogram_flat.shape)\n",
    "\n",
    "# plt.figure(figsize=(6,6))\n",
    "# clrs = ['red','blue','green','black','purple','orange']\n",
    "# markers = [\",\" , \"o\" , \"v\" , \"^\" , \"<\", \">\"]\n",
    "\n",
    "# #\n",
    "# for k in trange(6):\n",
    "#     for p in range(k+1,6,1):\n",
    "#         t1 = ethogram_flat[k].copy()\n",
    "#         idx = np.where(t1>0)\n",
    "#         t1[idx] = 1\n",
    "#         t2 = ethogram_flat[p].copy()\n",
    "#         idx = np.where(t2>0)\n",
    "#         t2[idx] = 1\n",
    "\n",
    "#         # find order of events\n",
    "#         diff = t1-t2\n",
    "#         diff2 = diff[1:] - diff[:-1]\n",
    "\n",
    "#         #\n",
    "#         idx1 = np.where(diff2==2)[0]\n",
    "#         idx2 = np.where(diff2==-2)[0]\n",
    "#         plt.scatter(idx1.shape[0],\n",
    "#                     idx2.shape[0],\n",
    "#                     marker=markers[k],\n",
    "#                     s=100,\n",
    "#                     c=clrs[p],\n",
    "#                     label=str(k)+'->'+str(p))\n",
    "\n",
    "# #\n",
    "# plt.plot([0,70],[0,70],'--',c='black')\n",
    "# plt.legend()\n",
    "# plt.title(\"# of behavior sequences (1sec resolution))\")\n",
    "# plt.xlim(left=0)\n",
    "# plt.ylim(bottom=0)\n",
    "# plt.xlabel(\"Animal 1 precedes animal 2\")\n",
    "# plt.ylabel(\"Animal 2 precedes animal 1\")\n",
    "# plt.show()\n",
    "\n"
   ]
  },
  {
   "cell_type": "code",
   "execution_count": 180,
   "id": "e6bfa765-f6bc-40d0-969b-6907d842e3da",
   "metadata": {
    "tags": []
   },
   "outputs": [
    {
     "name": "stdout",
     "output_type": "stream",
     "text": [
      "# animals, # seconds:  (6, 1382400)\n",
      "times:  [    0     1     2 ... 86397 86398 86399]\n",
      "(6, 86400)\n"
     ]
    }
   ],
   "source": [
    "####################################################\n",
    "########### SELECT DAY OF ETHOGRAM TO ANALYZ #######\n",
    "####################################################\n",
    "\n",
    "print (\"# animals, # seconds: \", ethogram_flat.shape)\n",
    "\n",
    "# here P15 is day 0 for clarity\n",
    "day_start = 0\n",
    "day_end = 1\n",
    "\n",
    "#\n",
    "times = np.arange(day_start*24*60*60,\n",
    "                  day_end*24*60*60)\n",
    "print (\"times: \", times)\n",
    "\n",
    "#\n",
    "ethogram_flat_selected = ethogram_flat[:,times].copy()\n",
    "print (ethogram_flat_selected.shape)\n",
    "\n",
    "\n"
   ]
  },
  {
   "cell_type": "code",
   "execution_count": 179,
   "id": "add804cc-9c3a-49fb-9b76-5b52e82f4c66",
   "metadata": {
    "tags": []
   },
   "outputs": [
    {
     "name": "stdout",
     "output_type": "stream",
     "text": [
      "Warning: Cannot change to a different GUI toolkit: qt. Using tk instead.\n"
     ]
    },
    {
     "name": "stderr",
     "output_type": "stream",
     "text": [
      "100%|█████████████████████████████████████████████| 6/6 [00:09<00:00,  1.57s/it]\n"
     ]
    }
   ],
   "source": [
    "####################################################\n",
    "########### COMPUTE PAIR WISE SCATTER PLOTS ########\n",
    "####################################################\n",
    "\n",
    "%matplotlib qt\n",
    "\n",
    "plt.figure(figsize=(6,6))\n",
    "clrs = ['red','blue','green','black','purple','orange']\n",
    "clrs = ['#cb3311', '#4477aa', '#ccbb44', '#228833', '#ee7733', '#66ccee']\n",
    "markers = [\",\" , \"o\" , \"v\" , \"^\" , \"<\", \">\"]\n",
    "\n",
    "#\n",
    "follow_window = 10\n",
    "xlim=0\n",
    "ratios=[]\n",
    "for k in trange(6):\n",
    "# for k in [0]:\n",
    "    # for p in range(k+1,6,1):\n",
    "    for p in range(6):\n",
    "    # for p in [1]:\n",
    "        if k==p:\n",
    "            continue\n",
    "        t1 = ethogram_flat_selected[k].copy()\n",
    "        idx1 = np.where(t1>0)[0]\n",
    "        t1[idx1] = 1\n",
    "        t2 = ethogram_flat_selected[p].copy()\n",
    "        idx2 = np.where(t2>0)[0]\n",
    "        t2[idx2] = 1\n",
    "\n",
    "        # find order of events\n",
    "        a1 = 0     #the number of times animal 1 precedes animal 2\n",
    "        a2 = 0     # same but opposite order\n",
    "\n",
    "        #\n",
    "        ctr = 0\n",
    "        while ctr<idx1.shape[0]:\n",
    "        #for i in idx1:\n",
    "\n",
    "            # check to see if there is a switch from 0\n",
    "            if t2[idx1[ctr]]==0:\n",
    "                # to a 1 in the next window\n",
    "                if np.sum(t2[idx1[ctr]:idx1[ctr]+follow_window])>0:\n",
    "                    a1+=1\n",
    "\n",
    "                    # also advance the ctr value at least 10 sec\n",
    "                    ctr0 = ctr\n",
    "                    try:\n",
    "                        while idx1[ctr+1]<(idx1[ctr0]+follow_window) and (ctr<idx1.shape[0]-2):\n",
    "                            ctr+=1\n",
    "                            continue\n",
    "                    except:\n",
    "                        pass\n",
    "            ctr+=1\n",
    "\n",
    "        #\n",
    "        ctr = 0\n",
    "        while ctr<idx2.shape[0]:\n",
    "        #for i in idx1:\n",
    "\n",
    "            # check to see if there is a switch from 0\n",
    "            if t1[idx2[ctr]]==0:\n",
    "                # to a 1 in the next window\n",
    "                if np.sum(t1[idx2[ctr]:idx2[ctr]+follow_window])>0:\n",
    "                    a2+=1\n",
    "\n",
    "                    # also advance the ctr value at least 10 sec\n",
    "                    ctr0 = ctr\n",
    "                    try:\n",
    "                        while idx2[ctr+1]<(idx2[ctr0]+follow_window) and (ctr<idx2.shape[0]-2):\n",
    "                            ctr+=1\n",
    "                            continue\n",
    "                    except:\n",
    "                        pass\n",
    "            ctr+=1\n",
    "        xlim = np.max((xlim,a1,a2))\n",
    "        plt.scatter(a1,\n",
    "                    a2,\n",
    "                    #marker=markers[k],\n",
    "                    marker=markers[p],\n",
    "                    s=100,\n",
    "                    #c=clrs[p],\n",
    "                    c=clrs[k],\n",
    "\n",
    "                    label=str(k)+'->'+str(p))\n",
    "\n",
    "\n",
    "        # print (\"animal1 : \", k, \", animal2: \", p, \"# of leading behaviours: \", a1)\n",
    "        # print (\"animal1 : \", k, \", animal2: \", p, \"# of following behaviours: \", a2)\n",
    "        ratio = a1/(a1+a2)\n",
    "        # print (\"ratio: \", ratio)\n",
    "        ratios.append([a1,a2,ratio])\n",
    "        #print (\"a2: \", a2)\n",
    "#\n",
    "plt.plot([0,xlim*1.25],[0,xlim*1.25],'--',c='black')\n",
    "plt.legend(fontsize=8, ncol=6)\n",
    "plt.title(\"# of behavior sequences (1sec resulution; 10sec follow window))\")\n",
    "plt.xlim(0,700) \n",
    "# plt.xlim(left=0)\n",
    "plt.ylim(0,700) \n",
    "# plt.ylim(bottom=0)\n",
    "plt.title(\"start day: \"+str(day_start) + \",  day end: \"+str(day_end))\n",
    "plt.xlabel(\"Animal 1 precedes animal 2\")\n",
    "plt.ylabel(\"Animal 2 precedes animal 1\")\n",
    "plt.show()\n",
    "# plt.savefig('/home/cat/Downloads/P26-.png')\n"
   ]
  },
  {
   "cell_type": "code",
   "execution_count": 242,
   "id": "65bb3243-beeb-400d-b165-4a3d93b71195",
   "metadata": {
    "tags": []
   },
   "outputs": [
    {
     "name": "stdout",
     "output_type": "stream",
     "text": [
      "times:  [    0     1     2 ... 86397 86398 86399]\n",
      "times:  [ 86400  86401  86402 ... 172797 172798 172799]\n",
      "times:  [172800 172801 172802 ... 259197 259198 259199]\n",
      "times:  [259200 259201 259202 ... 345597 345598 345599]\n",
      "times:  [345600 345601 345602 ... 431997 431998 431999]\n",
      "times:  [432000 432001 432002 ... 518397 518398 518399]\n",
      "times:  [518400 518401 518402 ... 604797 604798 604799]\n",
      "times:  [604800 604801 604802 ... 691197 691198 691199]\n",
      "times:  [691200 691201 691202 ... 777597 777598 777599]\n",
      "times:  [777600 777601 777602 ... 863997 863998 863999]\n",
      "times:  [864000 864001 864002 ... 950397 950398 950399]\n",
      "times:  [ 950400  950401  950402 ... 1036797 1036798 1036799]\n",
      "times:  [1036800 1036801 1036802 ... 1123197 1123198 1123199]\n",
      "times:  [1123200 1123201 1123202 ... 1209597 1209598 1209599]\n",
      "times:  [1209600 1209601 1209602 ... 1295997 1295998 1295999]\n",
      "times:  [1296000 1296001 1296002 ... 1382397 1382398 1382399]\n"
     ]
    }
   ],
   "source": [
    "#########################################################################################\n",
    "########### COMPUTE PAIR WISE SCATTER PLOTS - FOR SINGLE ANIMAL OVER DEVELOPMENT ########\n",
    "#########################################################################################\n",
    "\n",
    "plt.figure(figsize=(6,6))\n",
    "clrs = ['red','blue','green','black','purple','orange']\n",
    "clrs = ['#cb3311', '#4477aa', '#ccbb44', '#228833', '#ee7733', '#66ccee']\n",
    "markers = [\",\" , \"o\" , \"v\" , \"^\" , \"<\", \">\"]\n",
    "\n",
    "#\n",
    "follow_window = 10\n",
    "xlim=0\n",
    "# ratios = np.empty((16,6,6))\n",
    "# ratios[:] = np.nan\n",
    "\n",
    "day_starts = np.arange(17)\n",
    "day_ends = np.arange(1,17,1)\n",
    "\n",
    "for d in range(16):\n",
    "    day_start = day_starts[d]\n",
    "    day_end = day_ends[d]\n",
    "    #\n",
    "    times = np.arange(day_start*24*60*60,\n",
    "                      day_end*24*60*60)\n",
    "    print (\"times: \", times)\n",
    "\n",
    "    #\n",
    "    ethogram_flat_selected = ethogram_flat[:,times].copy()\n",
    "\n",
    "    #for k in trange(6):\n",
    "    for k in [1]:\n",
    "        #for p in range(k+1,6,1):\n",
    "        for p in range(6):\n",
    "        # for p in [3]:\n",
    "            if k==p:\n",
    "                continue\n",
    "            t1 = ethogram_flat_selected[k].copy()\n",
    "            idx1 = np.where(t1>0)[0]\n",
    "            t1[idx1] = 1\n",
    "            t2 = ethogram_flat_selected[p].copy()\n",
    "            idx2 = np.where(t2>0)[0]\n",
    "            t2[idx2] = 1\n",
    "\n",
    "            # find order of events\n",
    "            a1 = 0     #the number of times animal 1 precedes animal 2\n",
    "            a2 = 0     # same but opposite order\n",
    "\n",
    "            #\n",
    "            ctr = 0\n",
    "            while ctr<idx1.shape[0]:\n",
    "            #for i in idx1:\n",
    "\n",
    "                # check to see if there is a switch from 0\n",
    "                if t2[idx1[ctr]]==0:\n",
    "                    # to a 1 in the next window\n",
    "                    if np.sum(t2[idx1[ctr]:idx1[ctr]+follow_window])>0:\n",
    "                        a1+=1\n",
    "\n",
    "                        # also advance the ctr value at least 10 sec\n",
    "                        ctr0 = ctr\n",
    "                        try:\n",
    "                            while idx1[ctr+1]<(idx1[ctr0]+follow_window) and (ctr<idx1.shape[0]-2):\n",
    "                                ctr+=1\n",
    "                                continue\n",
    "                        except:\n",
    "                            pass\n",
    "                ctr+=1\n",
    "\n",
    "            #\n",
    "            ctr = 0\n",
    "            while ctr<idx2.shape[0]:\n",
    "            #for i in idx1:\n",
    "\n",
    "                # check to see if there is a switch from 0\n",
    "                if t1[idx2[ctr]]==0:\n",
    "                    # to a 1 in the next window\n",
    "                    if np.sum(t1[idx2[ctr]:idx2[ctr]+follow_window])>0:\n",
    "                        a2+=1\n",
    "\n",
    "                        # also advance the ctr value at least 10 sec\n",
    "                        ctr0 = ctr\n",
    "                        try:\n",
    "                            while idx2[ctr+1]<(idx2[ctr0]+follow_window) and (ctr<idx2.shape[0]-2):\n",
    "                                ctr+=1\n",
    "                                continue\n",
    "                        except:\n",
    "                            pass\n",
    "                ctr+=1\n",
    "            xlim = np.max((xlim,a1,a2))\n",
    "            \n",
    "            # plt.scatter(a1,\n",
    "            #             a2,\n",
    "            #             #marker=markers[k],\n",
    "            #             marker=markers[p],\n",
    "            #             # alpha = a,\n",
    "            #             s=100,\n",
    "            #             c=clrs[p],\n",
    "            #             # c=clrs[k],\n",
    "            #             label=str(k)+'->'+str(p))\n",
    "\n",
    "\n",
    "            # print (\"animal1 : \", k, \", animal2: \", p, \"# of leading behaviours: \", a1)\n",
    "            # print (\"animal1 : \", k, \", animal2: \", p, \"# of following behaviours: \", a2)\n",
    "            ratio = a1/(a1+a2)\n",
    "            # print (\"ratio: \", ratio)\n",
    "            # ratios.append(ratio)\n",
    "            ratios[d,p,k] = ratio\n",
    "            #print (\"a2: \", a2)\n",
    "    #\n",
    "# plt.plot([0,xlim*1.25],[0,xlim*1.25],'--',c='black')\n",
    "# plt.legend(fontsize=8, ncol=6)\n",
    "# plt.title(\"# of behavior sequences (1sec resulution; 10sec follow window))\")\n",
    "# plt.xlim(0,700) \n",
    "# # plt.xlim(left=0)\n",
    "# plt.ylim(0,700) \n",
    "# # plt.ylim(bottom=0)\n",
    "# plt.title(\"start day: \"+str(day_start) + \",  day end: \"+str(day_end))\n",
    "# plt.xlabel(\"Animal 1 precedes animal 2\")\n",
    "# plt.ylabel(\"Animal 2 precedes animal 1\")\n",
    "# plt.show()\n",
    "# plt.savefig('/home/cat/Downloads/P17.png')\n",
    "\n"
   ]
  },
  {
   "cell_type": "code",
   "execution_count": 244,
   "id": "3414ce25-488d-4aea-8c17-ede555dd583e",
   "metadata": {
    "tags": []
   },
   "outputs": [
    {
     "data": {
      "text/plain": [
       "array([0.48427673, 0.49908592, 0.46300211, 0.58646617, 0.43883495,\n",
       "       0.51442308, 0.39106145, 0.48926014, 0.50680787, 0.43835616,\n",
       "       0.45875543, 0.40865385, 0.45537341, 0.4939577 , 0.44193548,\n",
       "       0.54883721])"
      ]
     },
     "execution_count": 244,
     "metadata": {},
     "output_type": "execute_result"
    }
   ],
   "source": [
    "np.save('/home/cat/Downloads/leader-follower/ratios.npy', ratios)\n",
    "\n",
    "ratios[:,1,0]"
   ]
  },
  {
   "cell_type": "code",
   "execution_count": 4,
   "id": "a7aec682-fba2-4b6c-84ef-f293d08cc1a3",
   "metadata": {
    "tags": []
   },
   "outputs": [],
   "source": [
    "ratios = np.load('/home/cat/Downloads/leader-follower/ratios.npy')"
   ]
  },
  {
   "cell_type": "code",
   "execution_count": null,
   "id": "3b96c4a9-4261-4241-9f5c-164d939df42a",
   "metadata": {
    "tags": []
   },
   "outputs": [],
   "source": [
    "test = np.mean(np.mean(ratios[:,2:,0:2], axis = 2), axis = 1)\n",
    "test.shape\n",
    "\n",
    "sdt = np.std(np.std(ratios[:,2:,0:2], axis = 2), axis = 1)\n",
    "sdt.shape"
   ]
  },
  {
   "cell_type": "code",
   "execution_count": 35,
   "id": "eafe0f61-9af0-446f-81fd-82bc2f79c0a3",
   "metadata": {
    "tags": []
   },
   "outputs": [
    {
     "data": {
      "text/plain": [
       "(16,)"
      ]
     },
     "execution_count": 35,
     "metadata": {},
     "output_type": "execute_result"
    }
   ],
   "source": [
    "test = np.mean(ratios[:,2:,1], axis = 1)\n",
    "test.shape\n",
    "\n",
    "sdt = np.std(ratios[:,2:,1], axis = 1)\n",
    "sdt.shape"
   ]
  },
  {
   "cell_type": "code",
   "execution_count": 36,
   "id": "a4748c06-4b38-4bca-a4e7-a8f150f53e95",
   "metadata": {
    "tags": []
   },
   "outputs": [
    {
     "name": "stdout",
     "output_type": "stream",
     "text": [
      "(16, 6, 6)\n"
     ]
    },
    {
     "name": "stderr",
     "output_type": "stream",
     "text": [
      "Gtk-Message: 13:22:14.692: GtkDialog mapped without a transient parent. This is discouraged.\n",
      "\n",
      "(python:5649): Gtk-WARNING **: 13:22:14.971: Failed to measure available space: The specified location is not supported\n"
     ]
    }
   ],
   "source": [
    "%matplotlib qt\n",
    "\n",
    "print (ratios.shape)\n",
    "\n",
    "plt.figure()\n",
    "\n",
    "plt.plot(test, color ='red', linewidth = 3, label = 'all pups')\n",
    "    \n",
    "plt.xlim(0,15)\n",
    "plt.xticks(ticks = np.arange(0,16), labels = np.arange(15,31))\n",
    "plt.xlabel(\"Postnatal day\")\n",
    "\n",
    "plt.ylim(0,1)\n",
    "plt.yticks(np.arange(0,1.1,0.1))\n",
    "plt.ylabel(\"Leader / Follower ratio\")\n",
    "\n",
    "plt.hlines(0.5,0,15, color = 'black', linestyle = 'dashdot')\n",
    "\n",
    "plt.legend()\n",
    "\n",
    "plt.title(\"Male  vs All pups\")\n",
    "\n",
    "plt.fill_between(np.arange(0,16), np.array([t-s for t,s in zip(test,sdt)]), np.array([t+s for t,s in zip(test,sdt)]))\n",
    "\n",
    "plt.show()\n"
   ]
  },
  {
   "cell_type": "code",
   "execution_count": 9,
   "id": "ef175a13-b3b1-4575-af98-fb54e57b0e58",
   "metadata": {
    "tags": []
   },
   "outputs": [
    {
     "name": "stdout",
     "output_type": "stream",
     "text": [
      "(16, 6, 6)\n"
     ]
    },
    {
     "name": "stderr",
     "output_type": "stream",
     "text": [
      "Gtk-Message: 12:23:48.983: GtkDialog mapped without a transient parent. This is discouraged.\n",
      "\n",
      "(python:5649): Gtk-WARNING **: 12:23:49.215: Failed to measure available space: The specified location is not supported\n"
     ]
    }
   ],
   "source": [
    "%matplotlib qt\n",
    "\n",
    "print (ratios.shape)\n",
    "\n",
    "animals = ['female', 'male', 'pup1', 'pup2', 'pup3', 'pup4']\n",
    "\n",
    "plt.figure()\n",
    "\n",
    "clrs = ['#cb3311', '#4477aa', '#ccbb44', '#228833', '#ee7733', '#66ccee']\n",
    "\n",
    "for i, a in enumerate(clrs):\n",
    "    \n",
    "    plt.plot(ratios[:,i,1], color = a, linewidth = 3, label = animals[i])\n",
    "    \n",
    "    plt.xlim(0,15)\n",
    "    plt.xticks(ticks = np.arange(0,16), labels = np.arange(15,31))\n",
    "    plt.xlabel(\"Postnatal day\")\n",
    "    \n",
    "    plt.ylim(0,1)\n",
    "    plt.yticks(np.arange(0,1.1,0.1))\n",
    "    plt.ylabel(\"Leader / Follower ratio\")\n",
    "    \n",
    "    plt.hlines(0.5,0,15, color = 'black', linestyle = 'dashdot')\n",
    "    \n",
    "    plt.legend()\n",
    "    \n",
    "    plt.title(\"Male\")\n",
    "\n",
    "plt.show()\n"
   ]
  },
  {
   "cell_type": "code",
   "execution_count": null,
   "id": "2204bd79-70b1-41a8-ada5-0cc951c68e3d",
   "metadata": {},
   "outputs": [],
   "source": []
  },
  {
   "cell_type": "code",
   "execution_count": null,
   "id": "12dce189-65d1-447d-a6cd-d8d9b9c3f905",
   "metadata": {},
   "outputs": [],
   "source": []
  },
  {
   "cell_type": "code",
   "execution_count": null,
   "id": "2fbf457c-e84f-4108-a991-6d37fb1b0f6c",
   "metadata": {},
   "outputs": [],
   "source": []
  },
  {
   "cell_type": "code",
   "execution_count": null,
   "id": "51d3ce12-fd48-474c-addd-d01e23d45c06",
   "metadata": {},
   "outputs": [],
   "source": []
  },
  {
   "cell_type": "code",
   "execution_count": null,
   "id": "609cc33f-a807-40c9-8b5b-e45f4c32b40d",
   "metadata": {},
   "outputs": [],
   "source": []
  },
  {
   "cell_type": "code",
   "execution_count": null,
   "id": "94000d6a-9db8-4ea6-9a8e-0cbf424f5710",
   "metadata": {},
   "outputs": [],
   "source": []
  },
  {
   "cell_type": "code",
   "execution_count": null,
   "id": "a719e593-ef45-4dba-9ab5-f5aa5be8c448",
   "metadata": {},
   "outputs": [],
   "source": []
  },
  {
   "cell_type": "code",
   "execution_count": null,
   "id": "2a4eff95-0768-41a5-9a7d-098936e9298e",
   "metadata": {},
   "outputs": [],
   "source": []
  },
  {
   "cell_type": "code",
   "execution_count": null,
   "id": "fb88202f-fdcd-4fac-890f-421eda3bb6d0",
   "metadata": {},
   "outputs": [],
   "source": []
  },
  {
   "cell_type": "code",
   "execution_count": null,
   "id": "45f4f1c3-0f5f-4a67-827a-5ba613bc3292",
   "metadata": {},
   "outputs": [],
   "source": []
  },
  {
   "cell_type": "code",
   "execution_count": null,
   "id": "9d5e0288-5ece-4f2a-ba0e-2e5626d68ae5",
   "metadata": {},
   "outputs": [],
   "source": []
  },
  {
   "cell_type": "code",
   "execution_count": null,
   "id": "fa30a113-4dc7-431a-bff6-d058f29e3456",
   "metadata": {},
   "outputs": [],
   "source": []
  },
  {
   "cell_type": "code",
   "execution_count": null,
   "id": "49de6031-44cf-4e5c-a07f-1f0c0293bfd2",
   "metadata": {},
   "outputs": [],
   "source": []
  }
 ],
 "metadata": {
  "kernelspec": {
   "display_name": "sleap_new",
   "language": "python",
   "name": "sleap_new"
  },
  "language_info": {
   "codemirror_mode": {
    "name": "ipython",
    "version": 3
   },
   "file_extension": ".py",
   "mimetype": "text/x-python",
   "name": "python",
   "nbconvert_exporter": "python",
   "pygments_lexer": "ipython3",
   "version": "3.7.12"
  }
 },
 "nbformat": 4,
 "nbformat_minor": 5
}
