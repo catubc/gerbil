{
 "cells": [
  {
   "cell_type": "code",
   "execution_count": 1,
   "metadata": {},
   "outputs": [
    {
     "data": {
      "application/javascript": [
       "IPython.notebook.set_autosave_interval(180000)"
      ]
     },
     "metadata": {},
     "output_type": "display_data"
    },
    {
     "name": "stdout",
     "output_type": "stream",
     "text": [
      "Autosaving every 180 seconds\n"
     ]
    },
    {
     "data": {
      "text/html": [
       "<style>.container { width:100% !important; }</style>"
      ],
      "text/plain": [
       "<IPython.core.display.HTML object>"
      ]
     },
     "metadata": {},
     "output_type": "display_data"
    }
   ],
   "source": [
    "%matplotlib tk\n",
    "%autosave 180\n",
    "%load_ext autoreload\n",
    "%autoreload 2\n",
    "\n",
    "#\n",
    "import matplotlib\n",
    "import matplotlib.pyplot as plt\n",
    "from IPython.core.display import display, HTML\n",
    "display(HTML(\"<style>.container { width:100% !important; }</style>\"))\n",
    "\n",
    "# \n",
    "import matplotlib.cm as cm\n",
    "from matplotlib import gridspec\n",
    "from scipy import signal\n",
    "\n",
    "\n",
    "# \n",
    "import numpy as np\n",
    "import os\n",
    "from tqdm import trange\n",
    "\n",
    "# \n",
    "from scipy.io import loadmat\n",
    "import scipy\n",
    "\n",
    "# \n",
    "from Convert import Convert"
   ]
  },
  {
   "cell_type": "code",
   "execution_count": 2,
   "metadata": {},
   "outputs": [],
   "source": [
    "# # data = np.load('/media/cat/7e3d5af3-7d7b-424d-bdd5-eb995a4a0c62/dan/cohort1/march_16/post_processing/centres/2020-3-16_01_54_23_358257_compressed.avi.predictions.analysis_traces_reassembled_centres.npy')\n",
    "# # print (data.shape)\n",
    "# data = np.load('/media/cat/7e3d5af3-7d7b-424d-bdd5-eb995a4a0c62/dan/cohort1/march_16/2020_3_16_08_59_17_534732_compressed/2020_3_16_08_59_17_534732_compressed_fixed.npy')\n",
    "# print (data.shape)"
   ]
  },
  {
   "cell_type": "code",
   "execution_count": 161,
   "metadata": {
    "scrolled": true
   },
   "outputs": [
    {
     "name": "stderr",
     "output_type": "stream",
     "text": [
      "  3%|▎         | 209/7500 [00:00<00:03, 2080.46it/s]"
     ]
    },
    {
     "name": "stdout",
     "output_type": "stream",
     "text": [
      " full features track data:  (7500, 4, 14, 2)\n"
     ]
    },
    {
     "name": "stderr",
     "output_type": "stream",
     "text": [
      "100%|██████████| 7500/7500 [00:03<00:00, 2451.32it/s]\n",
      "100%|██████████| 7500/7500 [00:03<00:00, 2071.35it/s]\n",
      "100%|██████████| 7500/7500 [00:02<00:00, 3033.00it/s]\n",
      "100%|██████████| 7500/7500 [00:01<00:00, 4013.71it/s]\n",
      "  3%|▎         | 215/7500 [00:00<00:03, 2145.24it/s]"
     ]
    },
    {
     "name": "stdout",
     "output_type": "stream",
     "text": [
      " full features track data:  (7500, 4, 14, 2)\n"
     ]
    },
    {
     "name": "stderr",
     "output_type": "stream",
     "text": [
      "100%|██████████| 7500/7500 [00:03<00:00, 2107.77it/s]\n",
      "100%|██████████| 7500/7500 [00:03<00:00, 2112.46it/s]\n",
      "100%|██████████| 7500/7500 [00:00<00:00, 15874.41it/s]\n",
      "100%|██████████| 7500/7500 [00:02<00:00, 3054.11it/s]\n",
      "  3%|▎         | 207/7500 [00:00<00:03, 2060.12it/s]"
     ]
    },
    {
     "name": "stdout",
     "output_type": "stream",
     "text": [
      " full features track data:  (7500, 4, 14, 2)\n"
     ]
    },
    {
     "name": "stderr",
     "output_type": "stream",
     "text": [
      "100%|██████████| 7500/7500 [00:03<00:00, 2080.75it/s]\n",
      "100%|██████████| 7500/7500 [00:03<00:00, 2088.41it/s]\n",
      "100%|██████████| 7500/7500 [00:03<00:00, 2474.69it/s]\n",
      "100%|██████████| 7500/7500 [00:03<00:00, 2352.45it/s]\n",
      "100%|██████████| 7500/7500 [00:00<00:00, 83195.67it/s]"
     ]
    },
    {
     "name": "stdout",
     "output_type": "stream",
     "text": [
      " full features track data:  (7500, 4, 14, 2)\n"
     ]
    },
    {
     "name": "stderr",
     "output_type": "stream",
     "text": [
      "\n",
      "100%|██████████| 7500/7500 [00:03<00:00, 2102.64it/s]\n",
      "100%|██████████| 7500/7500 [00:03<00:00, 2084.37it/s]\n",
      "100%|██████████| 7500/7500 [00:02<00:00, 2550.36it/s]\n",
      "  3%|▎         | 212/7500 [00:00<00:03, 2112.16it/s]"
     ]
    },
    {
     "name": "stdout",
     "output_type": "stream",
     "text": [
      " full features track data:  (7500, 4, 14, 2)\n"
     ]
    },
    {
     "name": "stderr",
     "output_type": "stream",
     "text": [
      "100%|██████████| 7500/7500 [00:03<00:00, 2310.60it/s]\n",
      "100%|██████████| 7500/7500 [00:03<00:00, 2100.58it/s]\n",
      "100%|██████████| 7500/7500 [00:03<00:00, 2425.80it/s]\n",
      "100%|██████████| 7500/7500 [00:01<00:00, 3981.09it/s]\n",
      "  3%|▎         | 212/7500 [00:00<00:03, 2111.40it/s]"
     ]
    },
    {
     "name": "stdout",
     "output_type": "stream",
     "text": [
      " full features track data:  (7500, 4, 14, 2)\n"
     ]
    },
    {
     "name": "stderr",
     "output_type": "stream",
     "text": [
      "100%|██████████| 7500/7500 [00:03<00:00, 2109.20it/s]\n",
      "100%|██████████| 7500/7500 [00:03<00:00, 2104.13it/s]\n",
      "100%|██████████| 7500/7500 [00:03<00:00, 2263.37it/s]\n",
      "100%|██████████| 7500/7500 [00:01<00:00, 3920.93it/s]\n",
      "  3%|▎         | 211/7500 [00:00<00:03, 2108.52it/s]"
     ]
    },
    {
     "name": "stdout",
     "output_type": "stream",
     "text": [
      " full features track data:  (7500, 4, 14, 2)\n"
     ]
    },
    {
     "name": "stderr",
     "output_type": "stream",
     "text": [
      "100%|██████████| 7500/7500 [00:03<00:00, 2113.30it/s]\n",
      "100%|██████████| 7500/7500 [00:03<00:00, 2173.27it/s]\n",
      "100%|██████████| 7500/7500 [00:01<00:00, 5159.69it/s]\n",
      "100%|██████████| 7500/7500 [00:02<00:00, 3696.62it/s] \n",
      "  3%|▎         | 212/7500 [00:00<00:03, 2118.15it/s]"
     ]
    },
    {
     "name": "stdout",
     "output_type": "stream",
     "text": [
      " full features track data:  (7500, 4, 14, 2)\n"
     ]
    },
    {
     "name": "stderr",
     "output_type": "stream",
     "text": [
      "100%|██████████| 7500/7500 [00:03<00:00, 2113.71it/s]\n",
      "100%|██████████| 7500/7500 [00:03<00:00, 2129.23it/s]\n",
      "100%|██████████| 7500/7500 [00:03<00:00, 2163.39it/s]\n",
      "100%|██████████| 7500/7500 [00:03<00:00, 2392.04it/s]\n",
      "  3%|▎         | 213/7500 [00:00<00:03, 2121.20it/s]"
     ]
    },
    {
     "name": "stdout",
     "output_type": "stream",
     "text": [
      " full features track data:  (7500, 4, 14, 2)\n"
     ]
    },
    {
     "name": "stderr",
     "output_type": "stream",
     "text": [
      "100%|██████████| 7500/7500 [00:03<00:00, 2113.90it/s]\n",
      "100%|██████████| 7500/7500 [00:03<00:00, 2117.99it/s]\n",
      "100%|██████████| 7500/7500 [00:03<00:00, 2448.97it/s]\n",
      "100%|██████████| 7500/7500 [00:01<00:00, 6333.98it/s] \n",
      "  3%|▎         | 213/7500 [00:00<00:03, 2124.08it/s]"
     ]
    },
    {
     "name": "stdout",
     "output_type": "stream",
     "text": [
      " full features track data:  (7500, 4, 14, 2)\n"
     ]
    },
    {
     "name": "stderr",
     "output_type": "stream",
     "text": [
      "100%|██████████| 7500/7500 [00:03<00:00, 2126.77it/s]\n",
      "100%|██████████| 7500/7500 [00:03<00:00, 2120.63it/s]\n",
      "100%|██████████| 7500/7500 [00:03<00:00, 2338.02it/s]\n",
      "100%|██████████| 7500/7500 [00:03<00:00, 2283.09it/s]\n",
      "  7%|▋         | 550/7500 [00:00<00:01, 5484.60it/s]"
     ]
    },
    {
     "name": "stdout",
     "output_type": "stream",
     "text": [
      " full features track data:  (7500, 4, 14, 2)\n"
     ]
    },
    {
     "name": "stderr",
     "output_type": "stream",
     "text": [
      "100%|██████████| 7500/7500 [00:03<00:00, 2202.09it/s]\n",
      "100%|██████████| 7500/7500 [00:03<00:00, 2172.82it/s]\n",
      "100%|██████████| 7500/7500 [00:03<00:00, 2418.70it/s]\n",
      "100%|██████████| 7500/7500 [00:03<00:00, 2379.99it/s]\n"
     ]
    }
   ],
   "source": [
    "# \n",
    "fnames = [\n",
    "'/media/cat/4TBSSD/dan/cohort1/cohort1_training_daytime_processed/2020-3-6_0day_5mins_compressedTalmo_fixed.npy',\n",
    "'/media/cat/4TBSSD/dan/cohort1/cohort1_training_daytime_processed/2020-3-8_0day_5mins_compressedTalmo_fixed.npy',\n",
    "'/media/cat/4TBSSD/dan/cohort1/cohort1_training_daytime_processed/2020-3-9_1day_5mins_compressedTalmo_fixed.npy',\n",
    "'/media/cat/4TBSSD/dan/cohort1/cohort1_training_daytime_processed/2020-3-11_day_5mins_compressedTalmo_fixed.npy',\n",
    "'/media/cat/4TBSSD/dan/cohort1/cohort1_training_daytime_processed/2020-3-12_day_5mins_compressedTalmo_fixed.npy',\n",
    "'/media/cat/4TBSSD/dan/cohort1/cohort1_training_daytime_processed/2020-3-13_day_5mins_compressedTalmo_fixed.npy',\n",
    "'/media/cat/4TBSSD/dan/cohort1/cohort1_training_daytime_processed/2020-3-14_day_5mins_compressedTalmo_fixed.npy',\n",
    "'/media/cat/4TBSSD/dan/cohort1/cohort1_training_daytime_processed/2020-3-15_day_5mins_compressedTalmo_fixed.npy',\n",
    "'/media/cat/4TBSSD/dan/cohort1/cohort1_training_daytime_processed/2020-3-16_day_5mins_compressedTalmo_fixed.npy',\n",
    "'/media/cat/4TBSSD/dan/cohort1/cohort1_training_daytime_processed/2020-3-10_daytime_5mins_compressedTalmo_fixed.npy',\n",
    "'/media/cat/4TBSSD/dan/cohort1/cohort1_training_daytime_processed/2020-3-7_daytime_0_300sec_compressedTalmo_fixed.npy'\n",
    "]\n",
    "\n",
    "# \n",
    "for fname in fnames:\n",
    "    #\n",
    "    convert = Convert(fname)\n",
    "\n",
    "    # \n",
    "    # convert.sexes = ['F','M','M','M']\n",
    "    convert.sexes = [0,1,1,1]\n",
    "    convert.fps = 25\n",
    "    convert.start = 0 #int(0*60*convert.fps)\n",
    "    convert.end = None #None #int(1*60*convert.fps)\n",
    "\n",
    "    # start = 0\n",
    "    # end = None\n",
    "    \n",
    "    convert.apply_median_filter = True\n",
    "    convert.dtype = 'double'\n",
    "    convert.animal_ids = np.arange(4)\n",
    "    convert.scale = 1\n",
    "    convert.make_movie = False\n",
    "    #convert.axes_scale = 4\n",
    "\n",
    "    # \n",
    "    convert.extension = '.avi'\n",
    "    convert.convert_npy_to_jaaba()\n",
    "\n",
    "    #break\n",
    "\n",
    "    "
   ]
  },
  {
   "cell_type": "code",
   "execution_count": null,
   "metadata": {},
   "outputs": [],
   "source": []
  },
  {
   "cell_type": "code",
   "execution_count": null,
   "metadata": {},
   "outputs": [],
   "source": []
  },
  {
   "cell_type": "code",
   "execution_count": null,
   "metadata": {},
   "outputs": [],
   "source": []
  },
  {
   "cell_type": "code",
   "execution_count": null,
   "metadata": {},
   "outputs": [],
   "source": []
  },
  {
   "cell_type": "code",
   "execution_count": 25,
   "metadata": {
    "scrolled": true
   },
   "outputs": [
    {
     "name": "stdout",
     "output_type": "stream",
     "text": [
      "4\n",
      "19\n",
      "(array([[796.33959961, 799.7789917 , 799.82263184, ..., 784.55865479,\n",
      "        815.82635498, 812.80975342]]), array([[271.59109497, 271.86141968, 271.94561768, ..., 284.5559082 ,\n",
      "        277.05532837, 277.10379028]]), array([[-0.05180243, -0.19633077, -0.1984491 , ..., -0.65860766,\n",
      "        -0.506515  , -0.52507293]], dtype=float32), array([[103.545685, 103.53456 , 103.32587 , ..., 104.99651 ,  88.57386 ,\n",
      "         85.40443 ]], dtype=float32), array([[43.991497, 36.096703, 36.092815, ..., 79.368355, 18.490385,\n",
      "        18.395884]], dtype=float32), array([[7500]], dtype=uint16), array([[1]], dtype=uint8), array([[7500]], dtype=uint16), array([[0]]), array([[1]]), array([[398., 399., 399., ..., 392., 407., 406.]]), array([[135., 135., 135., ..., 142., 138., 138.]]), array([[-0.05180243, -0.19633077, -0.1984491 , ..., -0.65860766,\n",
      "        -0.506515  , -0.52507293]], dtype=float32), array([[51., 51., 51., ..., 52., 44., 42.]], dtype=float32), array([[21., 18., 18., ..., 39.,  9.,  9.]], dtype=float32), array([[0]]), array([[1, 1, 1, ..., 1, 1, 1]], dtype=uint8), array([[25]]), array([[0.00000000e+00, 4.62962963e-07, 9.25925926e-07, ...,\n",
      "        3.47083333e-03, 3.47129630e-03, 3.47175926e-03]]))\n",
      "(7500,)\n"
     ]
    }
   ],
   "source": [
    "fname = '/media/cat/4TBSSD/dan/cohort1/jaaba_test/movie1/trx.mat'\n",
    "\n",
    "data = loadmat(fname)\n",
    "print (len(data))\n",
    "print (len(data['trx'][0][0]))\n",
    "print (data['trx'][0][0])\n",
    "theta = data['trx'][0][2][2].squeeze()\n",
    "print (theta.shape)\n",
    "plt.plot(theta)\n",
    "plt.show()"
   ]
  },
  {
   "cell_type": "code",
   "execution_count": 152,
   "metadata": {},
   "outputs": [
    {
     "name": "stderr",
     "output_type": "stream",
     "text": [
      "100%|██████████| 1000/1000 [00:00<00:00, 15624.04it/s]\n",
      "100%|██████████| 1000/1000 [00:00<00:00, 15434.59it/s]\n",
      "100%|██████████| 1000/1000 [00:00<00:00, 16661.58it/s]\n",
      "100%|██████████| 1000/1000 [00:00<00:00, 24303.96it/s]"
     ]
    },
    {
     "name": "stdout",
     "output_type": "stream",
     "text": [
      "(7500, 4, 14, 2)\n"
     ]
    },
    {
     "name": "stderr",
     "output_type": "stream",
     "text": [
      "\n"
     ]
    }
   ],
   "source": [
    "# \n",
    "from tqdm import tqdm\n",
    "import warnings\n",
    "\n",
    "from math import *\n",
    "PI = 3.1415926535\n",
    "\n",
    "def angle_trunc(a):\n",
    "    while a < 0.0:\n",
    "        a += pi * 2\n",
    "    return a\n",
    "\n",
    "def getAngleBetweenPoints(x_orig, y_orig, x_landmark, y_landmark):\n",
    "    deltaY = y_landmark - y_orig\n",
    "    deltaX = x_landmark - x_orig\n",
    "    return angle_trunc(atan2(deltaY, deltaX)) #* 180 / PI\n",
    "\n",
    "\n",
    "# \n",
    "tracks = np.load('/media/cat/4TBSSD/dan/cohort1/cohort1_training_daytime_processed/2020-3-6_0day_5mins_compressedTalmo_fixed.npy')\n",
    "print (tracks.shape)\n",
    "\n",
    "# \n",
    "start =0\n",
    "end = 1000\n",
    "\n",
    "# \n",
    "angles = np.zeros((end-start,\n",
    "                        tracks.shape[1]),\n",
    "                        'float32')+np.nan\n",
    "axes = np.zeros((end-start,\n",
    "                          tracks.shape[1],\n",
    "                          2),\n",
    "                            'float32')+np.nan\n",
    "intercepts = np.zeros((end-start,\n",
    "                        tracks.shape[1]),\n",
    "                        'float32')+np.nan\n",
    "\n",
    "#\n",
    "deg_scale = 180/3.1415926\n",
    "#deg_scale = 1\n",
    "        \n",
    "#      \n",
    "for a in range(tracks.shape[1]):\n",
    "    for k in tqdm(range(start, end,1)):\n",
    "        #x = self.tracks[k,a,:,0]\n",
    "        #y = self.tracks[k,a,:,1]\n",
    "        x = tracks[k,a,5:10,0]\n",
    "        y = tracks[k,a,5:10,1]\n",
    "        idx = np.where(np.isnan(x)==False)[0]\n",
    "        if idx.shape[0]>0:\n",
    "            x=x[idx]\n",
    "            y=y[idx]\n",
    "            \n",
    "            if x.shape[0]>=2:\n",
    "                angle = getAngleBetweenPoints(x[0], y[0], \n",
    "                                              x[-1], y[-1])\n",
    "            else:\n",
    "                continue\n",
    "            \n",
    "            angles[k,a] = angle\n",
    "            #intercepts[k,a] = \n",
    "            # stack locations\n",
    "            locs = np.vstack((x,y)).T\n",
    "\n",
    "            # rotate\n",
    "            theta = np.radians(angle)\n",
    "            c, s = np.cos(theta), np.sin(theta)\n",
    "            R = np.array(((c, -s), (s, c)))\n",
    "            locs_r = locs@R\n",
    "\n",
    "            \n",
    "#             # Reject outliers that are substantially outside of data\n",
    "#             x = reject_outliers(locs_r[:,0])\n",
    "#             y = reject_outliers(locs_r[:,1])\n",
    "\n",
    "#             axes[k,a,0] = np.max(x)-np.min(x)\n",
    "#             axes[k,a,1] = np.max(y)-np.min(y)\n",
    "\n",
    "\n",
    "#             self.angles[k,a] = np.arctan(m)*deg_scale\n",
    "    while True:\n",
    "        idx = np.where(np.isnan(angles[:,a]))[0]\n",
    "        if idx.shape[0]==0:\n",
    "            break\n",
    "        angles[idx,a] = angles[idx-1,a]\n",
    "    \n",
    "    angles[:,a] = scipy.ndimage.median_filter(angles[:,a], size=25)\n"
   ]
  },
  {
   "cell_type": "code",
   "execution_count": 153,
   "metadata": {},
   "outputs": [],
   "source": [
    "fig=plt.figure()\n",
    "plt.plot(angles[:,0]*180/pi)\n",
    "plt.show()"
   ]
  },
  {
   "cell_type": "code",
   "execution_count": 112,
   "metadata": {},
   "outputs": [],
   "source": [
    "idx = np.random.choice(np.arange(1000), 10)\n",
    "ctr=0\n",
    "import math\n",
    "for k in idx:\n",
    "    ax=plt.subplot(2,5,ctr+1)\n",
    "\n",
    "    for a in range(4):\n",
    "        x = tracks[k,a,5:10,0]\n",
    "        y = tracks[k,a,5:10,1]\n",
    "        idx = np.where(np.isnan(x)==False)[0]\n",
    "        if idx.shape[0]>0:\n",
    "            x=x[idx]\n",
    "            y=y[idx]\n",
    "            \n",
    "            #x = x-x[0]\n",
    "            \n",
    "            intercept = 0\n",
    "            #print (math.radians(angles[k,a])*x,angles[k,a]*x )\n",
    "            fit_eq = math.radians(angles[k,a])*x + y #-y[-1]\n",
    "            \n",
    "            \n",
    "            #Plotting the data\n",
    "            ax.plot(x, fit_eq, color = 'r', alpha = 0.5, label = 'Linear fit')\n",
    "\n",
    "            plt.scatter(x,y)\n",
    "    \n",
    "    ctr+=1\n",
    "plt.show()"
   ]
  },
  {
   "cell_type": "code",
   "execution_count": null,
   "metadata": {},
   "outputs": [],
   "source": [
    "\n",
    "# get length\n",
    "temp = data['allScores'][0][0][0][0][0].squeeze()\n",
    "length = temp.shape[0]\n",
    "\n",
    "# get starts/ends\n",
    "t0s = data['allScores'][0][0][5].squeeze()\n",
    "#print (t0s.shape)\n",
    "t1s = data['allScores'][0][0][6].squeeze()\n",
    "\n",
    "img = np.zeros((4,length),'float32')\n",
    "img1 = np.zeros((4,length),'float32')\n",
    "for k in trange(t0s.shape[0]):\n",
    "#for k in [0]:\n",
    "    starts = t0s[k].squeeze()\n",
    "    ends = t1s[k].squeeze()\n",
    "    #print (k,starts.shape)\n",
    "    for p in range(starts.shape[0]):\n",
    "        img[k,starts[p]:ends[p]]+=k+1\n",
    "        img1[k,starts[p]:ends[p]]+=1\n",
    "            "
   ]
  },
  {
   "cell_type": "code",
   "execution_count": null,
   "metadata": {},
   "outputs": [],
   "source": []
  },
  {
   "cell_type": "code",
   "execution_count": 13,
   "metadata": {},
   "outputs": [
    {
     "name": "stderr",
     "output_type": "stream",
     "text": [
      "100%|██████████| 4/4 [00:00<00:00, 16.14it/s]\n",
      "100%|██████████| 4/4 [00:00<00:00, 15.98it/s]\n",
      "100%|██████████| 4/4 [00:00<00:00, 16.20it/s]\n",
      "100%|██████████| 4/4 [00:00<00:00, 16.29it/s]\n",
      "100%|██████████| 4/4 [00:00<00:00, 16.24it/s]\n",
      "100%|██████████| 4/4 [00:00<00:00, 15.66it/s]\n",
      "100%|██████████| 4/4 [00:00<00:00, 15.38it/s]\n",
      "100%|██████████| 4/4 [00:00<00:00, 15.47it/s]\n",
      "100%|██████████| 4/4 [00:00<00:00, 15.17it/s]\n",
      "100%|██████████| 4/4 [00:00<00:00, 15.94it/s]\n"
     ]
    }
   ],
   "source": [
    "from tqdm import trange\n",
    "clrs = ['red','blue','green','cyan']\n",
    "\n",
    "dirs = np.sort(glob.glob('/media/cat/7e3d5af3-7d7b-424d-bdd5-eb995a4a0c62/trx_files/'+\n",
    "                \"*\"))\n",
    "\n",
    "imgs=[]\n",
    "imgs1 = []\n",
    "for dir_ in dirs:\n",
    "    fname_mat = '/media/cat/7e3d5af3-7d7b-424d-bdd5-eb995a4a0c62/trx_files/2020-3-16_01_54_23_358257_compressed.avi.predictions.analysis_traces_reassembled_centres/scores_run.mat'\n",
    "    data =loadmat(fname_mat)\n",
    "    \n",
    "    # get length\n",
    "    temp = data['allScores'][0][0][0][0][0].squeeze()\n",
    "    length = temp.shape[0]\n",
    "\n",
    "    # get starts/ends\n",
    "    t0s = data['allScores'][0][0][5].squeeze()\n",
    "    #print (t0s.shape)\n",
    "    t1s = data['allScores'][0][0][6].squeeze()\n",
    "    \n",
    "    img = np.zeros((4,length),'float32')\n",
    "    img1 = np.zeros((4,length),'float32')\n",
    "    for k in trange(t0s.shape[0]):\n",
    "    #for k in [0]:\n",
    "        starts = t0s[k].squeeze()\n",
    "        ends = t1s[k].squeeze()\n",
    "        #print (k,starts.shape)\n",
    "        for p in range(starts.shape[0]):\n",
    "            img[k,starts[p]:ends[p]]+=k+1\n",
    "            img1[k,starts[p]:ends[p]]+=1\n",
    "            \n",
    "    idx = np.where(img==0)\n",
    "    img[idx]=np.nan\n",
    "    imgs.append(img)\n",
    "    imgs1.append(img1)\n",
    "    \n",
    "imgs=np.hstack(imgs)\n",
    "imgs1=np.hstack(imgs1)\n"
   ]
  },
  {
   "cell_type": "code",
   "execution_count": 18,
   "metadata": {
    "scrolled": true
   },
   "outputs": [
    {
     "name": "stdout",
     "output_type": "stream",
     "text": [
      "(4, 899880)\n",
      "(899880,)\n"
     ]
    }
   ],
   "source": [
    "matplotlib.use('Agg')\n",
    "\n",
    "fig = plt.figure(figsize=(100,5))\n",
    "ax=plt.subplot(2,1,1)\n",
    "\n",
    "\n",
    "plt.xticks([])\n",
    "print (imgs.shape)\n",
    "names = ['female','male','pup1','pup2']\n",
    "clrs = ['red','blue','magenta','green']\n",
    "plt.yticks(np.arange(4),names)\n",
    "from matplotlib import colors\n",
    "cmap = colors.ListedColormap(clrs)\n",
    "\n",
    "plt.imshow(imgs,aspect='auto',interpolation='none',\n",
    "          cmap=cmap)\n",
    "\n",
    "ax=plt.subplot(2,1,2)\n",
    "sums = np.nansum(imgs1, axis= 0)\n",
    "print (sums.shape)\n",
    "\n",
    "def smooth(y, box_pts):\n",
    "    box = np.ones(box_pts)/box_pts\n",
    "    #y_smooth = np.convolve(y, box, mode='same')\n",
    "    y_smooth = np.convolve(y,np.ones(box_pts,dtype=int),'same')\n",
    "    \n",
    "    return y_smooth\n",
    "\n",
    "window = 60\n",
    "t = np.arange(imgs.shape[1])/25./window\n",
    "img2 = np.zeros((4,imgs.shape[1]))\n",
    "for k in range(4):\n",
    "    temp = imgs1[k]\n",
    "    temp = smooth(temp,25*window)    \n",
    "    #img2[k]=temp\n",
    "    #temp = smooth(temp,25)    \n",
    "    \n",
    "    plt.plot(t,temp,clrs[k])\n",
    "\n",
    "#plt.imshow(img2,aspect='auto',interpolation='none')#    cmap=cmap)    \n",
    "plt.xticks(np.arange(0,600,10))\n",
    "plt.xlim(t[0],t[-1])\n",
    "plt.xlabel(\"Time (minutes)\")\n",
    "plt.suptitle(\"Run behaviors for all animals (\"+str(window)+ \"sec smoothing window)\", fontsize=20)\n",
    "plt.savefig('/home/cat/fig.png')\n",
    "#plt.show()\n",
    "\n"
   ]
  },
  {
   "cell_type": "code",
   "execution_count": 100,
   "metadata": {},
   "outputs": [
    {
     "name": "stdout",
     "output_type": "stream",
     "text": [
      "(89988,)\n"
     ]
    }
   ],
   "source": [
    "temp = data['allScores'][0][0][0][0][k].squeeze()\n",
    "print(temp.shape)\n"
   ]
  },
  {
   "cell_type": "code",
   "execution_count": 63,
   "metadata": {},
   "outputs": [
    {
     "name": "stdout",
     "output_type": "stream",
     "text": [
      "(4,)\n"
     ]
    }
   ],
   "source": [
    "t0s = data['allScores'][0][0][5].squeeze()\n",
    "print (t0s.shape)\n",
    "t1s = data['allScores'][0][0][6].squeeze()"
   ]
  },
  {
   "cell_type": "code",
   "execution_count": null,
   "metadata": {},
   "outputs": [],
   "source": []
  },
  {
   "cell_type": "code",
   "execution_count": 167,
   "metadata": {},
   "outputs": [],
   "source": [
    "fname_mat = '/media/cat/7e3d5af3-7d7b-424d-bdd5-eb995a4a0c62/dan/cohort1/march_16/2020_3_15_11_53_51_617746_compressed/jaaba/trx_all_21300_21500.mat'\n",
    "data = loadmat(fname_mat)"
   ]
  },
  {
   "cell_type": "code",
   "execution_count": 168,
   "metadata": {},
   "outputs": [
    {
     "name": "stdout",
     "output_type": "stream",
     "text": [
      "(1, 4)\n",
      "(1, 200)\n",
      "44.0\n"
     ]
    }
   ],
   "source": [
    "print (data['trx'].shape)\n",
    "print (data['trx'][0][0][1].shape)\n",
    "\n",
    "data['trx'][0][0][1][0][0] = 44\n",
    "data['trx'][0][0][1][0] = np.array(data['trx'][0][0][1][0],dtype)\n",
    "\n",
    "print (data['trx'][0][0][1][0][0])"
   ]
  },
  {
   "cell_type": "code",
   "execution_count": null,
   "metadata": {},
   "outputs": [],
   "source": [
    "  \n",
    "    \n",
    "from numpy.core.records import fromarrays\n",
    "from scipy.io import savemat\n",
    "\n",
    "names = [\n",
    " 'x',\n",
    " 'y',\n",
    " 'theta',\n",
    " 'a',\n",
    " 'b',\n",
    " 'nframes',\n",
    " 'firstframe',\n",
    " 'endframe',\n",
    " 'off',\n",
    " 'id',\n",
    " 'x_mm',\n",
    " 'y_mm',\n",
    " 'theta_mm',\n",
    " 'a_mm',\n",
    " 'b_mm',\n",
    " 'sex',\n",
    " 'dt',\n",
    " 'fps',\n",
    " 'timestamps']\n",
    "\n",
    "data = [\n",
    " x,\n",
    " y,\n",
    " theta,\n",
    " a,\n",
    " b,\n",
    " nframes,\n",
    " firstframe,\n",
    " endframe,\n",
    " off,\n",
    " id_,\n",
    " x_mm,\n",
    " y_mm,\n",
    " theta_mm,\n",
    " a_mm,\n",
    " b_mm,\n",
    " sex,\n",
    " dt,\n",
    " fps,\n",
    " timestamps\n",
    "]\n",
    "\n",
    "\n",
    "            \n",
    "#myrec = fromarrays([[1, 10], [2, 20]], names=['field1', 'field2'])\n",
    "#savemat('p.mat', {'myrec': myrec})\n",
    "\n",
    "myrec = fromarrays(data, \n",
    "                   names=names)\n",
    "#savemat('p.mat', {'myrec': myrec})\n",
    "\n",
    "\n",
    "savemat(\"/media/cat/7e3d5af3-7d7b-424d-bdd5-eb995a4a0c62/dan/cohort1/march_16/2020_3_15_11_53_51_617746_compressed/jaaba/trx.mat\", \n",
    "        {'myrec':myrec})\n",
    "    "
   ]
  },
  {
   "cell_type": "code",
   "execution_count": 11,
   "metadata": {},
   "outputs": [
    {
     "name": "stdout",
     "output_type": "stream",
     "text": [
      "(4, 89988, 2)\n",
      "(4, 89985, 2)\n",
      "(4, 89987, 2)\n",
      "(4, 89988, 2)\n",
      "(4, 89987, 2)\n",
      "(4, 89987, 2)\n",
      "(4, 89988, 2)\n",
      "(4, 89989, 2)\n",
      "(4, 89976, 2)\n",
      "(4, 89988, 2)\n"
     ]
    }
   ],
   "source": [
    "fnames = glob.glob('/media/cat/7e3d5af3-7d7b-424d-bdd5-eb995a4a0c62/dan/cohort1/march_16/post_processing/*.npy')\n",
    "\n",
    "for fname in fnames:\n",
    "    data = np.load(fname)\n",
    "    \n",
    "    data2 = []\n",
    "    for f in range(0,56,14):\n",
    "        temp = data[:,f:f+14]\n",
    "        temp = np.nanmedian(temp,axis=1)\n",
    "        data2.append(temp)\n",
    "        \n",
    "    data2=np.array(data2)\n",
    "    np.save(fname[:-4]+'_centres.npy',data2)\n",
    "    print (data2.shape)"
   ]
  },
  {
   "cell_type": "code",
   "execution_count": 23,
   "metadata": {},
   "outputs": [
    {
     "name": "stdout",
     "output_type": "stream",
     "text": [
      "                        PC1       PC2       PC2       PC3\n",
      "sepal length (cm)  0.521066  0.377418 -0.719566 -0.261286\n",
      "sepal width (cm)  -0.269347  0.923296  0.244382  0.123510\n",
      "petal length (cm)  0.580413  0.024492  0.142126  0.801449\n",
      "petal width (cm)   0.564857  0.066942  0.634273 -0.523597\n"
     ]
    }
   ],
   "source": [
    "import numpy as np\n",
    "import matplotlib.pyplot as plt\n",
    "import pandas as pd\n",
    "\n",
    "from sklearn import decomposition\n",
    "from sklearn import datasets\n",
    "from sklearn.preprocessing import scale\n",
    "\n",
    "# load iris dataset\n",
    "iris = datasets.load_iris()\n",
    "\n",
    "X = scale(iris.data)\n",
    "y = iris.target\n",
    "\n",
    "# apply PCA\n",
    "pca = decomposition.PCA(n_components=4)\n",
    "X = pca.fit_transform(X)\n",
    "\n",
    "loadings = pd.DataFrame(pca.components_.T, columns=['PC1', 'PC2', \"PC2\", \"PC3\"], index=iris.feature_names)\n",
    "print (loadings)\n"
   ]
  },
  {
   "cell_type": "code",
   "execution_count": 18,
   "metadata": {},
   "outputs": [
    {
     "name": "stdout",
     "output_type": "stream",
     "text": [
      "(89989, 4, 14, 2)\n"
     ]
    }
   ],
   "source": [
    "d1 = np.load('/media/cat/7e3d5af3-7d7b-424d-bdd5-eb995a4a0c62/dan/cohort1/march_16/2020_3_16_08_59_17_534732_compressed/2020_3_16_08_59_17_534732_compressed_fixed.npy')\n",
    "print (d1.shape)"
   ]
  },
  {
   "cell_type": "code",
   "execution_count": 19,
   "metadata": {},
   "outputs": [
    {
     "name": "stderr",
     "output_type": "stream",
     "text": [
      "100%|██████████| 10000/10000 [00:06<00:00, 1578.38it/s]\n"
     ]
    }
   ],
   "source": [
    "# angles = np.zeros((track.tracks.shape[0], \n",
    "#                    track.tracks.shape[1], \n",
    "#                    'float32'))\n",
    "\n",
    "angles = np.zeros((d1.shape[0], \n",
    "                   d1.shape[1]), \n",
    "                   'float32')\n",
    "\n",
    "deg_scale = 180/3.1415926\n",
    "\n",
    "for k in trange(10000):\n",
    "    for a in range(d1.shape[1]):\n",
    "        x = d1[k,a,:,0]\n",
    "        y = d1[k,a,:,1]\n",
    "        idx = np.where(np.isnan(x)==False)[0]\n",
    "        if idx.shape[0]>0:\n",
    "            x=x[idx]\n",
    "            y=y[idx]\n",
    "            m,b = np.polyfit(x, y, 1)\n",
    "            #print (\"slope :\", m, \"  intercept: \", b)\n",
    "            angle = np.arctan(m)*deg_scale\n",
    "            angles[k,a] = angle\n",
    "            #print (\"agnel: \", angle)      \n",
    "            "
   ]
  },
  {
   "cell_type": "code",
   "execution_count": null,
   "metadata": {},
   "outputs": [],
   "source": [
    "plt.scatter()"
   ]
  },
  {
   "cell_type": "code",
   "execution_count": null,
   "metadata": {},
   "outputs": [],
   "source": []
  },
  {
   "cell_type": "code",
   "execution_count": 87,
   "metadata": {},
   "outputs": [
    {
     "name": "stdout",
     "output_type": "stream",
     "text": [
      "angle:  155.36937322044065\n",
      "angle:  156.3964094037172\n",
      "angle:  158.820461411969\n",
      "angle:  162.98178696290174\n",
      "angle:  163.0214896740499\n",
      "angle:  163.20703257794614\n",
      "angle:  163.1095933974912\n",
      "angle:  164.4740648932155\n",
      "angle:  165.45458477460073\n",
      "angle:  169.03968922275195\n"
     ]
    }
   ],
   "source": [
    "# remove outliars\n",
    "def reject_outliers(data, m = 20):\n",
    "    d = np.abs(data - np.median(data))\n",
    "    mdev = np.median(d)\n",
    "    s = d/mdev if mdev else 0.\n",
    "    idx = np.where(s<m)[0]\n",
    "    \n",
    "    return idx\n",
    "    #return data[s<m]\n",
    "        \n",
    "deg_scale = 180/3.1415926\n",
    "\n",
    "k_start= 1060\n",
    "a = 0\n",
    "ctr=1\n",
    "for k in range(k_start,k_start+10,1):\n",
    "    #ax = plt.gca()\n",
    "    ax =plt.subplot(2,5,ctr)\n",
    "    x = d1[k,a,5:10,0]\n",
    "    y = d1[k,a,5:10,1]\n",
    "    idx = np.where(np.isnan(x)==False)[0]\n",
    "    if idx.shape[0]>0:\n",
    "        x=x[idx]\n",
    "        y=y[idx]\n",
    "        m,b = np.polyfit(y, x, 1)\n",
    "        angle = np.arctan(m)*deg_scale #+90\n",
    "        if x[0]<x[-1]:\n",
    "            angle+=180\n",
    "        print (\"angle: \", angle) \n",
    "        \n",
    "    plt.title(str(round(angle,1))+\" \"+str(k))\n",
    "\n",
    "    locs = np.vstack((x,y)).T\n",
    "    plt.scatter(locs[:,0],\n",
    "                locs[:,1],\n",
    "                c='blue',\n",
    "                label='original')\n",
    "    y_vals = np.array(ax.get_ylim())\n",
    "    x_vals = b + m * y_vals\n",
    "    plt.plot(x_vals, y_vals, '--')\n",
    "    plt.xlim(0,1280)\n",
    "    plt.ylim(1024,0)\n",
    "\n",
    "    # rotate the thang\n",
    "    if False:\n",
    "        theta = np.radians(angle)\n",
    "        c, s = np.cos(theta), np.sin(theta)\n",
    "        R = np.array(((c, -s), (s, c)))\n",
    "        print (locs.shape)\n",
    "        #locs = R*locs.T\n",
    "        locs = locs@R\n",
    "\n",
    "\n",
    "\n",
    "        # Reject outliers that are substantially outside of data\n",
    "        x = reject_outliers(locs[:,0])\n",
    "        y = reject_outliers(locs[:,1])\n",
    "\n",
    "        major = np.max(x)-np.min(x)\n",
    "        minor = np.max(y)-np.min(y)\n",
    "        print (\"major: \", major, \"  minor: \", minor)\n",
    "\n",
    "        # \n",
    "        plt.scatter(locs[:,0], \n",
    "                    locs[:,1],\n",
    "                    c='red',\n",
    "                   label='rotated')\n",
    "    \n",
    "    ctr+=1\n",
    "plt.legend()\n",
    "plt.show()"
   ]
  },
  {
   "cell_type": "code",
   "execution_count": null,
   "metadata": {},
   "outputs": [],
   "source": []
  },
  {
   "cell_type": "code",
   "execution_count": null,
   "metadata": {},
   "outputs": [],
   "source": []
  },
  {
   "cell_type": "code",
   "execution_count": null,
   "metadata": {},
   "outputs": [],
   "source": []
  },
  {
   "cell_type": "code",
   "execution_count": null,
   "metadata": {},
   "outputs": [],
   "source": []
  },
  {
   "cell_type": "code",
   "execution_count": null,
   "metadata": {},
   "outputs": [],
   "source": []
  },
  {
   "cell_type": "code",
   "execution_count": null,
   "metadata": {},
   "outputs": [],
   "source": []
  }
 ],
 "metadata": {
  "kernelspec": {
   "display_name": "Python 3",
   "language": "python",
   "name": "python3"
  },
  "language_info": {
   "codemirror_mode": {
    "name": "ipython",
    "version": 3
   },
   "file_extension": ".py",
   "mimetype": "text/x-python",
   "name": "python",
   "nbconvert_exporter": "python",
   "pygments_lexer": "ipython3",
   "version": "3.7.0"
  }
 },
 "nbformat": 4,
 "nbformat_minor": 4
}
