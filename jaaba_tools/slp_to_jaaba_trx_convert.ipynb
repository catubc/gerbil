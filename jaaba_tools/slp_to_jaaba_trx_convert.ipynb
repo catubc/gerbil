{
 "cells": [
  {
   "cell_type": "code",
   "execution_count": 2,
   "metadata": {},
   "outputs": [
    {
     "data": {
      "application/javascript": [
       "IPython.notebook.set_autosave_interval(180000)"
      ]
     },
     "metadata": {},
     "output_type": "display_data"
    },
    {
     "name": "stdout",
     "output_type": "stream",
     "text": [
      "Autosaving every 180 seconds\n",
      "The autoreload extension is already loaded. To reload it, use:\n",
      "  %reload_ext autoreload\n"
     ]
    },
    {
     "data": {
      "text/html": [
       "<style>.container { width:100% !important; }</style>"
      ],
      "text/plain": [
       "<IPython.core.display.HTML object>"
      ]
     },
     "metadata": {},
     "output_type": "display_data"
    }
   ],
   "source": [
    "%matplotlib tk\n",
    "%autosave 180\n",
    "%load_ext autoreload\n",
    "%autoreload 2\n",
    "\n",
    "#\n",
    "import matplotlib\n",
    "import matplotlib.pyplot as plt\n",
    "from IPython.core.display import display, HTML\n",
    "display(HTML(\"<style>.container { width:100% !important; }</style>\"))\n",
    "\n",
    "# \n",
    "import matplotlib.cm as cm\n",
    "from matplotlib import gridspec\n",
    "from scipy import signal\n",
    "\n",
    "\n",
    "# \n",
    "import numpy as np\n",
    "import os\n",
    "from tqdm import trange\n",
    "\n",
    "# \n",
    "from scipy.io import loadmat\n",
    "import scipy\n",
    "\n",
    "# \n",
    "from Convert import Convert"
   ]
  },
  {
   "cell_type": "code",
   "execution_count": 18,
   "metadata": {},
   "outputs": [],
   "source": [
    "# # data = np.load('/media/cat/7e3d5af3-7d7b-424d-bdd5-eb995a4a0c62/dan/cohort1/march_16/post_processing/centres/2020-3-16_01_54_23_358257_compressed.avi.predictions.analysis_traces_reassembled_centres.npy')\n",
    "# # print (data.shape)\n",
    "# data = np.load('/media/cat/7e3d5af3-7d7b-424d-bdd5-eb995a4a0c62/dan/cohort1/march_16/2020_3_16_08_59_17_534732_compressed/2020_3_16_08_59_17_534732_compressed_fixed.npy')\n",
    "# print (data.shape)"
   ]
  },
  {
   "cell_type": "code",
   "execution_count": 3,
   "metadata": {
    "scrolled": true
   },
   "outputs": [
    {
     "name": "stderr",
     "output_type": "stream",
     "text": [
      "  1%|          | 40/7500 [00:00<00:19, 392.21it/s]"
     ]
    },
    {
     "name": "stdout",
     "output_type": "stream",
     "text": [
      " full features track data:  (7500, 4, 14, 2)\n"
     ]
    },
    {
     "name": "stderr",
     "output_type": "stream",
     "text": [
      "100%|██████████| 7500/7500 [00:17<00:00, 437.46it/s]\n",
      "100%|██████████| 7500/7500 [00:29<00:00, 251.83it/s]\n",
      "  1%|          | 65/7500 [00:00<00:11, 637.36it/s]"
     ]
    },
    {
     "name": "stdout",
     "output_type": "stream",
     "text": [
      " full features track data:  (7500, 4, 14, 2)\n"
     ]
    },
    {
     "name": "stderr",
     "output_type": "stream",
     "text": [
      "100%|██████████| 7500/7500 [00:14<00:00, 506.08it/s]\n",
      "100%|██████████| 7500/7500 [00:29<00:00, 257.60it/s]\n",
      "  1%|          | 45/7500 [00:00<00:16, 448.37it/s]"
     ]
    },
    {
     "name": "stdout",
     "output_type": "stream",
     "text": [
      " full features track data:  (7500, 4, 14, 2)\n"
     ]
    },
    {
     "name": "stderr",
     "output_type": "stream",
     "text": [
      "100%|██████████| 7500/7500 [00:19<00:00, 381.61it/s]\n",
      "100%|██████████| 7500/7500 [00:28<00:00, 261.47it/s]\n",
      "  1%|          | 48/7500 [00:00<00:15, 479.74it/s]"
     ]
    },
    {
     "name": "stdout",
     "output_type": "stream",
     "text": [
      " full features track data:  (7500, 4, 14, 2)\n"
     ]
    },
    {
     "name": "stderr",
     "output_type": "stream",
     "text": [
      "100%|██████████| 7500/7500 [00:15<00:00, 494.28it/s]\n",
      "100%|██████████| 7500/7500 [00:29<00:00, 253.92it/s]\n",
      "  0%|          | 37/7500 [00:00<00:20, 365.44it/s]"
     ]
    },
    {
     "name": "stdout",
     "output_type": "stream",
     "text": [
      " full features track data:  (7500, 4, 14, 2)\n"
     ]
    },
    {
     "name": "stderr",
     "output_type": "stream",
     "text": [
      "100%|██████████| 7500/7500 [00:18<00:00, 411.77it/s]\n",
      "100%|██████████| 7500/7500 [00:30<00:00, 247.12it/s]\n",
      "  1%|          | 41/7500 [00:00<00:18, 406.67it/s]"
     ]
    },
    {
     "name": "stdout",
     "output_type": "stream",
     "text": [
      " full features track data:  (7500, 4, 14, 2)\n"
     ]
    },
    {
     "name": "stderr",
     "output_type": "stream",
     "text": [
      "100%|██████████| 7500/7500 [00:17<00:00, 418.23it/s]\n",
      "100%|██████████| 7500/7500 [00:28<00:00, 261.19it/s]\n",
      "  1%|          | 69/7500 [00:00<00:10, 682.29it/s]"
     ]
    },
    {
     "name": "stdout",
     "output_type": "stream",
     "text": [
      " full features track data:  (7500, 4, 14, 2)\n"
     ]
    },
    {
     "name": "stderr",
     "output_type": "stream",
     "text": [
      "100%|██████████| 7500/7500 [00:15<00:00, 475.17it/s]\n",
      "100%|██████████| 7500/7500 [00:28<00:00, 266.51it/s]\n",
      "  0%|          | 35/7500 [00:00<00:21, 344.54it/s]"
     ]
    },
    {
     "name": "stdout",
     "output_type": "stream",
     "text": [
      " full features track data:  (7500, 4, 14, 2)\n"
     ]
    },
    {
     "name": "stderr",
     "output_type": "stream",
     "text": [
      "100%|██████████| 7500/7500 [00:20<00:00, 374.08it/s]\n",
      "100%|██████████| 7500/7500 [00:28<00:00, 264.06it/s]\n",
      "  1%|          | 47/7500 [00:00<00:16, 461.74it/s]"
     ]
    },
    {
     "name": "stdout",
     "output_type": "stream",
     "text": [
      " full features track data:  (7500, 4, 14, 2)\n"
     ]
    },
    {
     "name": "stderr",
     "output_type": "stream",
     "text": [
      "100%|██████████| 7500/7500 [00:17<00:00, 433.43it/s]\n",
      "100%|██████████| 7500/7500 [00:28<00:00, 260.05it/s]\n",
      "  0%|          | 35/7500 [00:00<00:21, 347.93it/s]"
     ]
    },
    {
     "name": "stdout",
     "output_type": "stream",
     "text": [
      " full features track data:  (7500, 4, 14, 2)\n"
     ]
    },
    {
     "name": "stderr",
     "output_type": "stream",
     "text": [
      "100%|██████████| 7500/7500 [00:19<00:00, 381.63it/s]\n",
      "100%|██████████| 7500/7500 [00:28<00:00, 266.88it/s]\n",
      "  2%|▏         | 113/7500 [00:00<00:06, 1119.32it/s]"
     ]
    },
    {
     "name": "stdout",
     "output_type": "stream",
     "text": [
      " full features track data:  (7500, 4, 14, 2)\n"
     ]
    },
    {
     "name": "stderr",
     "output_type": "stream",
     "text": [
      "100%|██████████| 7500/7500 [00:19<00:00, 389.93it/s]\n",
      "100%|██████████| 7500/7500 [00:27<00:00, 272.77it/s]\n"
     ]
    }
   ],
   "source": [
    "# \n",
    "fnames = [\n",
    "'/media/cat/4TBSSD/dan/cohort1/cohort1_training_daytime_processed/2020-3-6_0day_5mins_compressedTalmo_fixed.npy',\n",
    "'/media/cat/4TBSSD/dan/cohort1/cohort1_training_daytime_processed/2020-3-7_daytime_0_300sec_compressedTalmo_fixed.npy',\n",
    "'/media/cat/4TBSSD/dan/cohort1/cohort1_training_daytime_processed/2020-3-8_0day_5mins_compressedTalmo_fixed.npy',\n",
    "'/media/cat/4TBSSD/dan/cohort1/cohort1_training_daytime_processed/2020-3-9_1day_5mins_compressedTalmo_fixed.npy',\n",
    "'/media/cat/4TBSSD/dan/cohort1/cohort1_training_daytime_processed/2020-3-10_daytime_5mins_compressedTalmo_fixed.npy',\n",
    "'/media/cat/4TBSSD/dan/cohort1/cohort1_training_daytime_processed/2020-3-11_day_5mins_compressedTalmo_fixed.npy',\n",
    "'/media/cat/4TBSSD/dan/cohort1/cohort1_training_daytime_processed/2020-3-12_day_5mins_compressedTalmo_fixed.npy',\n",
    "'/media/cat/4TBSSD/dan/cohort1/cohort1_training_daytime_processed/2020-3-13_day_5mins_compressedTalmo_fixed.npy',\n",
    "'/media/cat/4TBSSD/dan/cohort1/cohort1_training_daytime_processed/2020-3-14_day_5mins_compressedTalmo_fixed.npy',\n",
    "'/media/cat/4TBSSD/dan/cohort1/cohort1_training_daytime_processed/2020-3-15_day_5mins_compressedTalmo_fixed.npy',\n",
    "'/media/cat/4TBSSD/dan/cohort1/cohort1_training_daytime_processed/2020-3-16_day_5mins_compressedTalmo_fixed.npy',\n",
    "]\n",
    "\n",
    "# \n",
    "for fname in fnames:\n",
    "    #\n",
    "    convert = Convert(fname)\n",
    "\n",
    "    # \n",
    "    # convert.sexes = ['F','M','M','M']\n",
    "    convert.sexes = [0,1,1,1]\n",
    "    convert.fps = 25\n",
    "    convert.start = 0 #int(0*60*convert.fps)\n",
    "    convert.end = None #None #int(1*60*convert.fps)\n",
    "\n",
    "    # start = 0\n",
    "    # end = None\n",
    "\n",
    "    convert.dtype = 'double'\n",
    "    convert.animal_ids = np.arange(4)\n",
    "    convert.scale = 4\n",
    "    convert.make_movie = True\n",
    "    #convert.axes_scale = 4\n",
    "\n",
    "    # \n",
    "    convert.extension = '.avi'\n",
    "    convert.convert_npy_to_jaaba()\n",
    "\n",
    "    #break\n",
    "\n",
    "    "
   ]
  },
  {
   "cell_type": "code",
   "execution_count": null,
   "metadata": {},
   "outputs": [],
   "source": []
  },
  {
   "cell_type": "code",
   "execution_count": null,
   "metadata": {},
   "outputs": [],
   "source": []
  },
  {
   "cell_type": "code",
   "execution_count": null,
   "metadata": {},
   "outputs": [],
   "source": []
  },
  {
   "cell_type": "code",
   "execution_count": null,
   "metadata": {},
   "outputs": [],
   "source": []
  },
  {
   "cell_type": "code",
   "execution_count": null,
   "metadata": {},
   "outputs": [],
   "source": []
  },
  {
   "cell_type": "code",
   "execution_count": null,
   "metadata": {},
   "outputs": [],
   "source": []
  },
  {
   "cell_type": "code",
   "execution_count": null,
   "metadata": {},
   "outputs": [],
   "source": []
  },
  {
   "cell_type": "code",
   "execution_count": 13,
   "metadata": {},
   "outputs": [
    {
     "name": "stderr",
     "output_type": "stream",
     "text": [
      "100%|██████████| 4/4 [00:00<00:00, 16.14it/s]\n",
      "100%|██████████| 4/4 [00:00<00:00, 15.98it/s]\n",
      "100%|██████████| 4/4 [00:00<00:00, 16.20it/s]\n",
      "100%|██████████| 4/4 [00:00<00:00, 16.29it/s]\n",
      "100%|██████████| 4/4 [00:00<00:00, 16.24it/s]\n",
      "100%|██████████| 4/4 [00:00<00:00, 15.66it/s]\n",
      "100%|██████████| 4/4 [00:00<00:00, 15.38it/s]\n",
      "100%|██████████| 4/4 [00:00<00:00, 15.47it/s]\n",
      "100%|██████████| 4/4 [00:00<00:00, 15.17it/s]\n",
      "100%|██████████| 4/4 [00:00<00:00, 15.94it/s]\n"
     ]
    }
   ],
   "source": [
    "from tqdm import trange\n",
    "clrs = ['red','blue','green','cyan']\n",
    "\n",
    "dirs = np.sort(glob.glob('/media/cat/7e3d5af3-7d7b-424d-bdd5-eb995a4a0c62/trx_files/'+\n",
    "                \"*\"))\n",
    "\n",
    "imgs=[]\n",
    "imgs1 = []\n",
    "for dir_ in dirs:\n",
    "    fname_mat = '/media/cat/7e3d5af3-7d7b-424d-bdd5-eb995a4a0c62/trx_files/2020-3-16_01_54_23_358257_compressed.avi.predictions.analysis_traces_reassembled_centres/scores_run.mat'\n",
    "    data =loadmat(fname_mat)\n",
    "    \n",
    "    # get length\n",
    "    temp = data['allScores'][0][0][0][0][0].squeeze()\n",
    "    length = temp.shape[0]\n",
    "\n",
    "    # get starts/ends\n",
    "    t0s = data['allScores'][0][0][5].squeeze()\n",
    "    #print (t0s.shape)\n",
    "    t1s = data['allScores'][0][0][6].squeeze()\n",
    "    \n",
    "    img = np.zeros((4,length),'float32')\n",
    "    img1 = np.zeros((4,length),'float32')\n",
    "    for k in trange(t0s.shape[0]):\n",
    "    #for k in [0]:\n",
    "        starts = t0s[k].squeeze()\n",
    "        ends = t1s[k].squeeze()\n",
    "        #print (k,starts.shape)\n",
    "        for p in range(starts.shape[0]):\n",
    "            img[k,starts[p]:ends[p]]+=k+1\n",
    "            img1[k,starts[p]:ends[p]]+=1\n",
    "            \n",
    "    idx = np.where(img==0)\n",
    "    img[idx]=np.nan\n",
    "    imgs.append(img)\n",
    "    imgs1.append(img1)\n",
    "    \n",
    "imgs=np.hstack(imgs)\n",
    "imgs1=np.hstack(imgs1)\n"
   ]
  },
  {
   "cell_type": "code",
   "execution_count": 18,
   "metadata": {
    "scrolled": true
   },
   "outputs": [
    {
     "name": "stdout",
     "output_type": "stream",
     "text": [
      "(4, 899880)\n",
      "(899880,)\n"
     ]
    }
   ],
   "source": [
    "matplotlib.use('Agg')\n",
    "\n",
    "fig = plt.figure(figsize=(100,5))\n",
    "ax=plt.subplot(2,1,1)\n",
    "\n",
    "\n",
    "plt.xticks([])\n",
    "print (imgs.shape)\n",
    "names = ['female','male','pup1','pup2']\n",
    "clrs = ['red','blue','magenta','green']\n",
    "plt.yticks(np.arange(4),names)\n",
    "from matplotlib import colors\n",
    "cmap = colors.ListedColormap(clrs)\n",
    "\n",
    "plt.imshow(imgs,aspect='auto',interpolation='none',\n",
    "          cmap=cmap)\n",
    "\n",
    "ax=plt.subplot(2,1,2)\n",
    "sums = np.nansum(imgs1, axis= 0)\n",
    "print (sums.shape)\n",
    "\n",
    "def smooth(y, box_pts):\n",
    "    box = np.ones(box_pts)/box_pts\n",
    "    #y_smooth = np.convolve(y, box, mode='same')\n",
    "    y_smooth = np.convolve(y,np.ones(box_pts,dtype=int),'same')\n",
    "    \n",
    "    return y_smooth\n",
    "\n",
    "window = 60\n",
    "t = np.arange(imgs.shape[1])/25./window\n",
    "img2 = np.zeros((4,imgs.shape[1]))\n",
    "for k in range(4):\n",
    "    temp = imgs1[k]\n",
    "    temp = smooth(temp,25*window)    \n",
    "    #img2[k]=temp\n",
    "    #temp = smooth(temp,25)    \n",
    "    \n",
    "    plt.plot(t,temp,clrs[k])\n",
    "\n",
    "#plt.imshow(img2,aspect='auto',interpolation='none')#    cmap=cmap)    \n",
    "plt.xticks(np.arange(0,600,10))\n",
    "plt.xlim(t[0],t[-1])\n",
    "plt.xlabel(\"Time (minutes)\")\n",
    "plt.suptitle(\"Run behaviors for all animals (\"+str(window)+ \"sec smoothing window)\", fontsize=20)\n",
    "plt.savefig('/home/cat/fig.png')\n",
    "#plt.show()\n",
    "\n"
   ]
  },
  {
   "cell_type": "code",
   "execution_count": 100,
   "metadata": {},
   "outputs": [
    {
     "name": "stdout",
     "output_type": "stream",
     "text": [
      "(89988,)\n"
     ]
    }
   ],
   "source": [
    "temp = data['allScores'][0][0][0][0][k].squeeze()\n",
    "print(temp.shape)\n"
   ]
  },
  {
   "cell_type": "code",
   "execution_count": 63,
   "metadata": {},
   "outputs": [
    {
     "name": "stdout",
     "output_type": "stream",
     "text": [
      "(4,)\n"
     ]
    }
   ],
   "source": [
    "t0s = data['allScores'][0][0][5].squeeze()\n",
    "print (t0s.shape)\n",
    "t1s = data['allScores'][0][0][6].squeeze()"
   ]
  },
  {
   "cell_type": "code",
   "execution_count": null,
   "metadata": {},
   "outputs": [],
   "source": []
  },
  {
   "cell_type": "code",
   "execution_count": 167,
   "metadata": {},
   "outputs": [],
   "source": [
    "fname_mat = '/media/cat/7e3d5af3-7d7b-424d-bdd5-eb995a4a0c62/dan/cohort1/march_16/2020_3_15_11_53_51_617746_compressed/jaaba/trx_all_21300_21500.mat'\n",
    "data = loadmat(fname_mat)"
   ]
  },
  {
   "cell_type": "code",
   "execution_count": 168,
   "metadata": {},
   "outputs": [
    {
     "name": "stdout",
     "output_type": "stream",
     "text": [
      "(1, 4)\n",
      "(1, 200)\n",
      "44.0\n"
     ]
    }
   ],
   "source": [
    "print (data['trx'].shape)\n",
    "print (data['trx'][0][0][1].shape)\n",
    "\n",
    "data['trx'][0][0][1][0][0] = 44\n",
    "data['trx'][0][0][1][0] = np.array(data['trx'][0][0][1][0],dtype)\n",
    "\n",
    "print (data['trx'][0][0][1][0][0])"
   ]
  },
  {
   "cell_type": "code",
   "execution_count": null,
   "metadata": {},
   "outputs": [],
   "source": [
    "  \n",
    "    \n",
    "from numpy.core.records import fromarrays\n",
    "from scipy.io import savemat\n",
    "\n",
    "names = [\n",
    " 'x',\n",
    " 'y',\n",
    " 'theta',\n",
    " 'a',\n",
    " 'b',\n",
    " 'nframes',\n",
    " 'firstframe',\n",
    " 'endframe',\n",
    " 'off',\n",
    " 'id',\n",
    " 'x_mm',\n",
    " 'y_mm',\n",
    " 'theta_mm',\n",
    " 'a_mm',\n",
    " 'b_mm',\n",
    " 'sex',\n",
    " 'dt',\n",
    " 'fps',\n",
    " 'timestamps']\n",
    "\n",
    "data = [\n",
    " x,\n",
    " y,\n",
    " theta,\n",
    " a,\n",
    " b,\n",
    " nframes,\n",
    " firstframe,\n",
    " endframe,\n",
    " off,\n",
    " id_,\n",
    " x_mm,\n",
    " y_mm,\n",
    " theta_mm,\n",
    " a_mm,\n",
    " b_mm,\n",
    " sex,\n",
    " dt,\n",
    " fps,\n",
    " timestamps\n",
    "]\n",
    "\n",
    "\n",
    "            \n",
    "#myrec = fromarrays([[1, 10], [2, 20]], names=['field1', 'field2'])\n",
    "#savemat('p.mat', {'myrec': myrec})\n",
    "\n",
    "myrec = fromarrays(data, \n",
    "                   names=names)\n",
    "#savemat('p.mat', {'myrec': myrec})\n",
    "\n",
    "\n",
    "savemat(\"/media/cat/7e3d5af3-7d7b-424d-bdd5-eb995a4a0c62/dan/cohort1/march_16/2020_3_15_11_53_51_617746_compressed/jaaba/trx.mat\", \n",
    "        {'myrec':myrec})\n",
    "    "
   ]
  },
  {
   "cell_type": "code",
   "execution_count": 11,
   "metadata": {},
   "outputs": [
    {
     "name": "stdout",
     "output_type": "stream",
     "text": [
      "(4, 89988, 2)\n",
      "(4, 89985, 2)\n",
      "(4, 89987, 2)\n",
      "(4, 89988, 2)\n",
      "(4, 89987, 2)\n",
      "(4, 89987, 2)\n",
      "(4, 89988, 2)\n",
      "(4, 89989, 2)\n",
      "(4, 89976, 2)\n",
      "(4, 89988, 2)\n"
     ]
    }
   ],
   "source": [
    "fnames = glob.glob('/media/cat/7e3d5af3-7d7b-424d-bdd5-eb995a4a0c62/dan/cohort1/march_16/post_processing/*.npy')\n",
    "\n",
    "for fname in fnames:\n",
    "    data = np.load(fname)\n",
    "    \n",
    "    data2 = []\n",
    "    for f in range(0,56,14):\n",
    "        temp = data[:,f:f+14]\n",
    "        temp = np.nanmedian(temp,axis=1)\n",
    "        data2.append(temp)\n",
    "        \n",
    "    data2=np.array(data2)\n",
    "    np.save(fname[:-4]+'_centres.npy',data2)\n",
    "    print (data2.shape)"
   ]
  },
  {
   "cell_type": "code",
   "execution_count": 23,
   "metadata": {},
   "outputs": [
    {
     "name": "stdout",
     "output_type": "stream",
     "text": [
      "                        PC1       PC2       PC2       PC3\n",
      "sepal length (cm)  0.521066  0.377418 -0.719566 -0.261286\n",
      "sepal width (cm)  -0.269347  0.923296  0.244382  0.123510\n",
      "petal length (cm)  0.580413  0.024492  0.142126  0.801449\n",
      "petal width (cm)   0.564857  0.066942  0.634273 -0.523597\n"
     ]
    }
   ],
   "source": [
    "import numpy as np\n",
    "import matplotlib.pyplot as plt\n",
    "import pandas as pd\n",
    "\n",
    "from sklearn import decomposition\n",
    "from sklearn import datasets\n",
    "from sklearn.preprocessing import scale\n",
    "\n",
    "# load iris dataset\n",
    "iris = datasets.load_iris()\n",
    "\n",
    "X = scale(iris.data)\n",
    "y = iris.target\n",
    "\n",
    "# apply PCA\n",
    "pca = decomposition.PCA(n_components=4)\n",
    "X = pca.fit_transform(X)\n",
    "\n",
    "loadings = pd.DataFrame(pca.components_.T, columns=['PC1', 'PC2', \"PC2\", \"PC3\"], index=iris.feature_names)\n",
    "print (loadings)\n"
   ]
  },
  {
   "cell_type": "code",
   "execution_count": 18,
   "metadata": {},
   "outputs": [
    {
     "name": "stdout",
     "output_type": "stream",
     "text": [
      "(89989, 4, 14, 2)\n"
     ]
    }
   ],
   "source": [
    "d1 = np.load('/media/cat/7e3d5af3-7d7b-424d-bdd5-eb995a4a0c62/dan/cohort1/march_16/2020_3_16_08_59_17_534732_compressed/2020_3_16_08_59_17_534732_compressed_fixed.npy')\n",
    "print (d1.shape)"
   ]
  },
  {
   "cell_type": "code",
   "execution_count": 19,
   "metadata": {},
   "outputs": [
    {
     "name": "stderr",
     "output_type": "stream",
     "text": [
      "100%|██████████| 10000/10000 [00:06<00:00, 1578.38it/s]\n"
     ]
    }
   ],
   "source": [
    "# angles = np.zeros((track.tracks.shape[0], \n",
    "#                    track.tracks.shape[1], \n",
    "#                    'float32'))\n",
    "\n",
    "angles = np.zeros((d1.shape[0], \n",
    "                   d1.shape[1]), \n",
    "                   'float32')\n",
    "\n",
    "deg_scale = 180/3.1415926\n",
    "\n",
    "for k in trange(10000):\n",
    "    for a in range(d1.shape[1]):\n",
    "        x = d1[k,a,:,0]\n",
    "        y = d1[k,a,:,1]\n",
    "        idx = np.where(np.isnan(x)==False)[0]\n",
    "        if idx.shape[0]>0:\n",
    "            x=x[idx]\n",
    "            y=y[idx]\n",
    "            m,b = np.polyfit(x, y, 1)\n",
    "            #print (\"slope :\", m, \"  intercept: \", b)\n",
    "            angle = np.arctan(m)*deg_scale\n",
    "            angles[k,a] = angle\n",
    "            #print (\"agnel: \", angle)      \n",
    "            "
   ]
  },
  {
   "cell_type": "code",
   "execution_count": null,
   "metadata": {},
   "outputs": [],
   "source": [
    "plt.scatter()"
   ]
  },
  {
   "cell_type": "code",
   "execution_count": null,
   "metadata": {},
   "outputs": [],
   "source": []
  },
  {
   "cell_type": "code",
   "execution_count": 87,
   "metadata": {},
   "outputs": [
    {
     "name": "stdout",
     "output_type": "stream",
     "text": [
      "angle:  155.36937322044065\n",
      "angle:  156.3964094037172\n",
      "angle:  158.820461411969\n",
      "angle:  162.98178696290174\n",
      "angle:  163.0214896740499\n",
      "angle:  163.20703257794614\n",
      "angle:  163.1095933974912\n",
      "angle:  164.4740648932155\n",
      "angle:  165.45458477460073\n",
      "angle:  169.03968922275195\n"
     ]
    }
   ],
   "source": [
    "# remove outliars\n",
    "def reject_outliers(data, m = 20):\n",
    "    d = np.abs(data - np.median(data))\n",
    "    mdev = np.median(d)\n",
    "    s = d/mdev if mdev else 0.\n",
    "    idx = np.where(s<m)[0]\n",
    "    \n",
    "    return idx\n",
    "    #return data[s<m]\n",
    "        \n",
    "deg_scale = 180/3.1415926\n",
    "\n",
    "k_start= 1060\n",
    "a = 0\n",
    "ctr=1\n",
    "for k in range(k_start,k_start+10,1):\n",
    "    #ax = plt.gca()\n",
    "    ax =plt.subplot(2,5,ctr)\n",
    "    x = d1[k,a,5:10,0]\n",
    "    y = d1[k,a,5:10,1]\n",
    "    idx = np.where(np.isnan(x)==False)[0]\n",
    "    if idx.shape[0]>0:\n",
    "        x=x[idx]\n",
    "        y=y[idx]\n",
    "        m,b = np.polyfit(y, x, 1)\n",
    "        angle = np.arctan(m)*deg_scale #+90\n",
    "        if x[0]<x[-1]:\n",
    "            angle+=180\n",
    "        print (\"angle: \", angle) \n",
    "        \n",
    "    plt.title(str(round(angle,1))+\" \"+str(k))\n",
    "\n",
    "    locs = np.vstack((x,y)).T\n",
    "    plt.scatter(locs[:,0],\n",
    "                locs[:,1],\n",
    "                c='blue',\n",
    "                label='original')\n",
    "    y_vals = np.array(ax.get_ylim())\n",
    "    x_vals = b + m * y_vals\n",
    "    plt.plot(x_vals, y_vals, '--')\n",
    "    plt.xlim(0,1280)\n",
    "    plt.ylim(1024,0)\n",
    "\n",
    "    # rotate the thang\n",
    "    if False:\n",
    "        theta = np.radians(angle)\n",
    "        c, s = np.cos(theta), np.sin(theta)\n",
    "        R = np.array(((c, -s), (s, c)))\n",
    "        print (locs.shape)\n",
    "        #locs = R*locs.T\n",
    "        locs = locs@R\n",
    "\n",
    "\n",
    "\n",
    "        # Reject outliers that are substantially outside of data\n",
    "        x = reject_outliers(locs[:,0])\n",
    "        y = reject_outliers(locs[:,1])\n",
    "\n",
    "        major = np.max(x)-np.min(x)\n",
    "        minor = np.max(y)-np.min(y)\n",
    "        print (\"major: \", major, \"  minor: \", minor)\n",
    "\n",
    "        # \n",
    "        plt.scatter(locs[:,0], \n",
    "                    locs[:,1],\n",
    "                    c='red',\n",
    "                   label='rotated')\n",
    "    \n",
    "    ctr+=1\n",
    "plt.legend()\n",
    "plt.show()"
   ]
  },
  {
   "cell_type": "code",
   "execution_count": null,
   "metadata": {},
   "outputs": [],
   "source": []
  },
  {
   "cell_type": "code",
   "execution_count": null,
   "metadata": {},
   "outputs": [],
   "source": []
  },
  {
   "cell_type": "code",
   "execution_count": null,
   "metadata": {},
   "outputs": [],
   "source": []
  },
  {
   "cell_type": "code",
   "execution_count": null,
   "metadata": {},
   "outputs": [],
   "source": []
  },
  {
   "cell_type": "code",
   "execution_count": null,
   "metadata": {},
   "outputs": [],
   "source": []
  },
  {
   "cell_type": "code",
   "execution_count": null,
   "metadata": {},
   "outputs": [],
   "source": []
  }
 ],
 "metadata": {
  "kernelspec": {
   "display_name": "Python 3",
   "language": "python",
   "name": "python3"
  },
  "language_info": {
   "codemirror_mode": {
    "name": "ipython",
    "version": 3
   },
   "file_extension": ".py",
   "mimetype": "text/x-python",
   "name": "python",
   "nbconvert_exporter": "python",
   "pygments_lexer": "ipython3",
   "version": "3.7.0"
  }
 },
 "nbformat": 4,
 "nbformat_minor": 4
}
