{
 "cells": [
  {
   "cell_type": "code",
   "execution_count": 3,
   "id": "c6535eed-6f2d-4a71-acfc-c71c8706cbca",
   "metadata": {},
   "outputs": [],
   "source": [
    "#\n",
    "import pandas as pd\n",
    "import numpy as np\n",
    "from sklearn.model_selection import train_test_split\n",
    "from sklearn.metrics import (precision_recall_fscore_support,\n",
    "                             precision_recall_curve)\n",
    "\n",
    "#\n",
    "from sklearn.ensemble import RandomForestClassifier\n",
    "import matplotlib.pyplot as plt\n",
    "\n",
    "#\n",
    "from gerbilmodelcreator import GerbilModelCreator\n",
    "from featurizer import GerbilFeaturizer\n"
   ]
  },
  {
   "cell_type": "code",
   "execution_count": 4,
   "id": "95ff5ef7-5a9b-466c-9d45-c7f5acc867fe",
   "metadata": {
    "collapsed": true,
    "jupyter": {
     "outputs_hidden": true
    },
    "tags": []
   },
   "outputs": [
    {
     "ename": "NameError",
     "evalue": "name 'GerbilFeaturizerRaw' is not defined",
     "output_type": "error",
     "traceback": [
      "\u001b[0;31m---------------------------------------------------------------------------\u001b[0m",
      "\u001b[0;31mNameError\u001b[0m                                 Traceback (most recent call last)",
      "\u001b[0;32m<ipython-input-4-1a31f57dd5df>\u001b[0m in \u001b[0;36m<module>\u001b[0;34m\u001b[0m\n\u001b[1;32m      6\u001b[0m \u001b[0mfname_npy\u001b[0m \u001b[0;34m=\u001b[0m \u001b[0;34m''\u001b[0m\u001b[0;34m\u001b[0m\u001b[0m\n\u001b[1;32m      7\u001b[0m \u001b[0;34m\u001b[0m\u001b[0m\n\u001b[0;32m----> 8\u001b[0;31m \u001b[0mGerbilFeaturizerRaw\u001b[0m\u001b[0;34m(\u001b[0m\u001b[0mfname_npy\u001b[0m\u001b[0;34m)\u001b[0m\u001b[0;34m\u001b[0m\u001b[0m\n\u001b[0m\u001b[1;32m      9\u001b[0m \u001b[0;34m\u001b[0m\u001b[0m\n",
      "\u001b[0;31mNameError\u001b[0m: name 'GerbilFeaturizerRaw' is not defined"
     ]
    }
   ],
   "source": [
    "#################################################################\n",
    "########## LOAD A PAIRWISE .NPY FILE AND FEATURIZE IT ###########\n",
    "#################################################################\n",
    "\n",
    "# note the npy/slp file does not have labels, it's a raw file with locaitons only\n",
    "fname_npy = ''\n",
    "\n",
    "# here we need either a new class, or some method in the original class that converts the raw .npy to features\n",
    "GerbilFeaturizerRaw(fname_npy)\n",
    "\n"
   ]
  },
  {
   "cell_type": "code",
   "execution_count": 11,
   "id": "891bc9ef-6479-4d67-8eef-2d42a4d1d1d1",
   "metadata": {
    "collapsed": true,
    "jupyter": {
     "outputs_hidden": true
    },
    "tags": []
   },
   "outputs": [
    {
     "data": {
      "image/png": "[encoded data removed]",
      "text/plain": [
       "<Figure size 432x288 with 1 Axes>"
      ]
     },
     "metadata": {
      "needs_background": "light"
     },
     "output_type": "display_data"
    }
   ],
   "source": [
    "#############################################\n",
    "########## LOAD AN EXISTING MODEL ###########\n",
    "#############################################\n",
    "\n",
    "# or just make a new model from scratch\n",
    "test = GerbilModelCreator(in_path='/media/cat/256GB/dan/simba/simon_npy_arrays_july29_2022/output/features_20220812181402.parquet',\n",
    "                          train_size=0.8,\n",
    "                          test_size=0.2)\n",
    "test.find_and_count_labelled_bouts()\n",
    "test.sample_targets()\n",
    "test.sample_non_targets()\n",
    "test.create_model()\n",
    "test.test_model()\n",
    "\n",
    "\n",
    "print (\"DONE training\")\n"
   ]
  },
  {
   "cell_type": "code",
   "execution_count": 13,
   "id": "adbb411e-13e3-4234-8574-38f271e927f5",
   "metadata": {},
   "outputs": [
    {
     "name": "stdout",
     "output_type": "stream",
     "text": [
      "(811288, 39)\n"
     ]
    }
   ],
   "source": [
    "#################################################################\n",
    "######## USE MODEL TO PREDICT ON .NPY FEATURIZED FILE ###########\n",
    "#################################################################\n",
    "\n",
    "# \n",
    "labels = test.predict_new_track(fname_parquet)\n",
    "\n"
   ]
  },
  {
   "cell_type": "code",
   "execution_count": null,
   "id": "0c8752e6-3c3f-4866-9266-230f0b176ee9",
   "metadata": {},
   "outputs": [],
   "source": [
    "#######################################################\n",
    "########### SAVE PREDICTIONS AND MAKE MOVIE ###########\n",
    "#######################################################\n",
    "\n",
    "# \n",
    "def make_annotated_movie(fname_movie,\n",
    "                         fname_npy,\n",
    "                         labels):\n",
    "    \n",
    "    # This fucntion should load the movie and apply the body centres for the 2 animals \n",
    "    # and then also add a label for when the behavior occurs\n",
    "    \n",
    "    # Lisa should have this code\n",
    "    # \n",
    "    pass\n",
    "\n",
    "#\n",
    "fname_movie = '.avi'\n",
    "\n",
    "#\n",
    "make_annotated_movie(fname_movie,\n",
    "                     fname_npy,\n",
    "                     labels)\n",
    "\n"
   ]
  }
 ],
 "metadata": {
  "kernelspec": {
   "display_name": "Python 3",
   "language": "python",
   "name": "python3"
  },
  "language_info": {
   "codemirror_mode": {
    "name": "ipython",
    "version": 3
   },
   "file_extension": ".py",
   "mimetype": "text/x-python",
   "name": "python",
   "nbconvert_exporter": "python",
   "pygments_lexer": "ipython3",
   "version": "3.7.0"
  }
 },
 "nbformat": 4,
 "nbformat_minor": 5
}
