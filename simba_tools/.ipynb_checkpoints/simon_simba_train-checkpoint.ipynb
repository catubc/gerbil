{
 "cells": [
  {
   "cell_type": "code",
   "execution_count": 15,
   "id": "c6535eed-6f2d-4a71-acfc-c71c8706cbca",
   "metadata": {},
   "outputs": [],
   "source": [
    "\n",
    "import pandas as pd\n",
    "import numpy as np\n",
    "from sklearn.model_selection import train_test_split\n",
    "from sklearn.metrics import (precision_recall_fscore_support,\n",
    "                             precision_recall_curve)\n",
    "from sklearn.ensemble import RandomForestClassifier\n",
    "import matplotlib.pyplot as plt\n",
    "\n",
    "from gerbilmodelcreator import GerbilModelCreator\n"
   ]
  },
  {
   "cell_type": "code",
   "execution_count": 9,
   "id": "95ff5ef7-5a9b-466c-9d45-c7f5acc867fe",
   "metadata": {},
   "outputs": [
    {
     "name": "stderr",
     "output_type": "stream",
     "text": [
      "[Parallel(n_jobs=-1)]: Using backend ThreadingBackend with 32 concurrent workers.\n",
      "[Parallel(n_jobs=-1)]: Done 136 tasks      | elapsed:    1.8s\n",
      "[Parallel(n_jobs=-1)]: Done 386 tasks      | elapsed:    4.3s\n",
      "[Parallel(n_jobs=-1)]: Done 500 out of 500 | elapsed:    5.5s finished\n",
      "[Parallel(n_jobs=32)]: Using backend ThreadingBackend with 32 concurrent workers.\n",
      "[Parallel(n_jobs=32)]: Done 136 tasks      | elapsed:    0.9s\n",
      "[Parallel(n_jobs=32)]: Done 386 tasks      | elapsed:    2.3s\n",
      "[Parallel(n_jobs=32)]: Done 500 out of 500 | elapsed:    2.9s finished\n"
     ]
    },
    {
     "data": {
      "image/png": "[encoded data removed]",
      "text/plain": [
       "<Figure size 432x288 with 1 Axes>"
      ]
     },
     "metadata": {
      "needs_background": "light"
     },
     "output_type": "display_data"
    },
    {
     "name": "stdout",
     "output_type": "stream",
     "text": [
      "DONE training\n"
     ]
    }
   ],
   "source": [
    "#################################################################\n",
    "################## BUILD MODELS AND TEST THEM ###################\n",
    "#################################################################\n",
    "test = GerbilModelCreator(in_path='/media/cat/256GB/dan/simba/simon_npy_arrays_july29_2022/output/features_20220812181402.parquet',\n",
    "                          train_size=0.8,\n",
    "                          test_size=0.2)\n",
    "test.find_and_count_labelled_bouts()\n",
    "test.sample_targets()\n",
    "test.sample_non_targets()\n",
    "test.create_model()\n",
    "test.test_model()\n",
    "\n",
    "\n",
    "print (\"DONE training\")\n"
   ]
  },
  {
   "cell_type": "code",
   "execution_count": 13,
   "id": "adbb411e-13e3-4234-8574-38f271e927f5",
   "metadata": {},
   "outputs": [
    {
     "name": "stdout",
     "output_type": "stream",
     "text": [
      "(811288, 39)\n"
     ]
    }
   ],
   "source": [
    "print (test.test_df.values.shape)"
   ]
  },
  {
   "cell_type": "code",
   "execution_count": null,
   "id": "0c8752e6-3c3f-4866-9266-230f0b176ee9",
   "metadata": {},
   "outputs": [],
   "source": []
  }
 ],
 "metadata": {
  "kernelspec": {
   "display_name": "Python 3",
   "language": "python",
   "name": "python3"
  },
  "language_info": {
   "codemirror_mode": {
    "name": "ipython",
    "version": 3
   },
   "file_extension": ".py",
   "mimetype": "text/x-python",
   "name": "python",
   "nbconvert_exporter": "python",
   "pygments_lexer": "ipython3",
   "version": "3.7.0"
  }
 },
 "nbformat": 4,
 "nbformat_minor": 5
}
