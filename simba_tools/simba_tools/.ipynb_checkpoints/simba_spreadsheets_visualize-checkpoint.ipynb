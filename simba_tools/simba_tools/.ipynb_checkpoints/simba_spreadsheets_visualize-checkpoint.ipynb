{
 "cells": [
  {
   "cell_type": "code",
   "execution_count": 1,
   "id": "2043adaf-0330-4103-ba6f-c659d69340d5",
   "metadata": {},
   "outputs": [
    {
     "data": {
      "application/javascript": [
       "IPython.notebook.set_autosave_interval(180000)"
      ]
     },
     "metadata": {},
     "output_type": "display_data"
    },
    {
     "name": "stdout",
     "output_type": "stream",
     "text": [
      "Autosaving every 180 seconds\n"
     ]
    },
    {
     "data": {
      "text/html": [
       "<style>.container { width:100% !important; }</style>"
      ],
      "text/plain": [
       "<IPython.core.display.HTML object>"
      ]
     },
     "metadata": {},
     "output_type": "display_data"
    },
    {
     "name": "stderr",
     "output_type": "stream",
     "text": [
      "/home/cat/miniconda3/envs/sleap_new/lib/python3.7/site-packages/tqdm/auto.py:21: TqdmWarning: IProgress not found. Please update jupyter and ipywidgets. See https://ipywidgets.readthedocs.io/en/stable/user_install.html\n",
      "  from .autonotebook import tqdm as notebook_tqdm\n"
     ]
    }
   ],
   "source": [
    "import matplotlib\n",
    "%matplotlib tk\n",
    "%autosave 180\n",
    "%load_ext autoreload\n",
    "%autoreload 2\n",
    "\n",
    "#\n",
    "import matplotlib.pyplot as plt\n",
    "from IPython.core.display import display, HTML\n",
    "display(HTML(\"<style>.container { width:100% !important; }</style>\"))\n",
    "\n",
    "# \n",
    "import matplotlib.cm as cm\n",
    "import numpy as np\n",
    "import os\n",
    "from tqdm import trange\n",
    "import pandas as pd\n",
    "\n",
    "from utils import plot_me, smooth_traces, generate_track_interactions, generate_track_interactions_all\n",
    "\n",
    "from track import Track\n"
   ]
  },
  {
   "cell_type": "code",
   "execution_count": 2,
   "id": "dedc797d-3677-4a89-a612-6d08a4b9c8cd",
   "metadata": {},
   "outputs": [],
   "source": [
    "##############################################################\n",
    "################# LOAD DATA FRAME AND ID PAIRS ###############\n",
    "##############################################################\n",
    "\n",
    "# these are the ids of the gerbils that Lisa decided to label\n",
    "# ids 0->5 correspond to female->pup4\n",
    "id_pairs = [\n",
    "    [0,1],\n",
    "    [1,0],\n",
    "    [4,5],\n",
    "    [5,4],\n",
    "    [0,2],\n",
    "    [2,0],\n",
    "    [1,3],\n",
    "    [3,1]\n",
    "]\n",
    "\n",
    "#\n",
    "# dataframe = pd.read_csv(\"/mnt/b3a68699-495d-4ebb-9ab1-ac74f11c68c5/simba/approach.csv\")\n",
    "dataframe = pd.read_csv('/mnt/b3a68699-495d-4ebb-9ab1-ac74f11c68c5/simba/chasing.csv')\n",
    "\n",
    "#\n",
    "# dataframe\n",
    "\n"
   ]
  },
  {
   "cell_type": "code",
   "execution_count": 3,
   "id": "39eb274c-11d1-4c82-bbed-778de76dada4",
   "metadata": {},
   "outputs": [
    {
     "name": "stdout",
     "output_type": "stream",
     "text": [
      "(14, 16)\n",
      "(14,)\n"
     ]
    }
   ],
   "source": [
    "##############################################################\n",
    "####################### CONVERT TO NUMPY #####################\n",
    "##############################################################\n",
    "\n",
    "# load the data frame times into the numpy arrays\n",
    "data = dataframe.to_numpy()[:,1:]\n",
    "print (data.shape)\n",
    "\n",
    "# get the filenames\n",
    "fnames = dataframe.to_numpy()[:,0]\n",
    "print (fnames.shape)\n"
   ]
  },
  {
   "cell_type": "code",
   "execution_count": null,
   "id": "8e898f53-9dc4-4597-9a2a-ad729053fba8",
   "metadata": {},
   "outputs": [],
   "source": []
  },
  {
   "cell_type": "code",
   "execution_count": 4,
   "id": "f19fc28c-83a9-47fb-a466-ddd3464118ba",
   "metadata": {
    "tags": []
   },
   "outputs": [
    {
     "name": "stdout",
     "output_type": "stream",
     "text": [
      "2020_08_02_15_50_24_856237\n",
      "2020_08_02_15_50_24_856237\n",
      "2020_08_02_15_50_24_856237\n",
      "2020_08_02_15_50_24_856237\n",
      "2020_08_02_15_50_24_856237\n",
      "2020_08_02_15_50_24_856237\n",
      "2020_08_01_11_02_57_239373\n",
      "2020_07_29_11_58_37_808577\n",
      "2020_07_29_11_58_37_808577\n",
      "2020_07_27_10_07_16_505127\n",
      "2020_07_25_12_15_56_892610\n",
      "2020_07_24_14_49_21_129654\n",
      "2020_07_24_14_49_21_129654\n",
      "2020_07_24_14_49_21_129654\n"
     ]
    }
   ],
   "source": [
    "##############################################################\n",
    "############ CONVERT THE .SLP FILES to .NPY FORMAT ###########\n",
    "##############################################################\n",
    "root_dir = '/mnt/b3a68699-495d-4ebb-9ab1-ac74f11c68c5/simba/'\n",
    "# root_dir = '/home/cat/Downloads/'\n",
    "\n",
    "#\n",
    "for fname in fnames:\n",
    "    print (fname)\n",
    "    #\n",
    "    track = Track(os.path.join(root_dir, \n",
    "                               fname+'_compressed_Day.slp'))\n",
    "    track.animal_ids = [0,1,2,3,4,5]\n",
    "    track.tracks_names = ['female','male','pup1','pup2','pup3','pup4']\n",
    "    track.recompute_spine_centres=True\n",
    "    track.verbose = True                         # gives additional printouts\n",
    "    track.n_animals = len(track.animal_ids)      # number of animals\n",
    "    track.filter_width = 10                      # this is the median filter width in frames; e.g. 10 ~=0.4 seconds\n",
    "                                                 # higher values provide more stability, but less temporally precise locations\n",
    "    # \n",
    "    track.load_tracks()\n",
    "\n",
    "    \n",
    "    "
   ]
  },
  {
   "cell_type": "code",
   "execution_count": 18,
   "id": "eae81eaa-b6d9-471b-bf1a-189b6119c2be",
   "metadata": {},
   "outputs": [
    {
     "name": "stdout",
     "output_type": "stream",
     "text": [
      "id pair:  [0, 1]\n"
     ]
    }
   ],
   "source": [
    "#######################################################\n",
    "################## VISUALIZE DATA #####################\n",
    "#######################################################\n",
    "\n",
    "root_dir = '/mnt/b3a68699-495d-4ebb-9ab1-ac74f11c68c5/simba'\n",
    "# root_dir = '/home/cat/Downloads/'\n",
    "\n",
    "# select which pair of animals to look at; there are 8 pairs that were labeled\n",
    "id_ = 0\n",
    "\n",
    "generate_track_interactions(id_,\n",
    "                           id_pairs,\n",
    "                           fnames,\n",
    "                           root_dir,\n",
    "                           track,\n",
    "                           data)\n"
   ]
  },
  {
   "cell_type": "code",
   "execution_count": 20,
   "id": "ab4f1028-a3af-42ed-8edd-b1ef70fe27fa",
   "metadata": {
    "tags": []
   },
   "outputs": [
    {
     "name": "stderr",
     "output_type": "stream",
     "text": [
      "[autoreload of utils failed: Traceback (most recent call last):\n",
      "  File \"/home/cat/miniconda3/envs/sleap_new/lib/python3.7/site-packages/IPython/extensions/autoreload.py\", line 245, in check\n",
      "    superreload(m, reload, self.old_objects)\n",
      "  File \"/home/cat/miniconda3/envs/sleap_new/lib/python3.7/site-packages/IPython/extensions/autoreload.py\", line 394, in superreload\n",
      "    module = reload(module)\n",
      "  File \"/home/cat/miniconda3/envs/sleap_new/lib/python3.7/imp.py\", line 314, in reload\n",
      "    return importlib.reload(module)\n",
      "  File \"/home/cat/miniconda3/envs/sleap_new/lib/python3.7/importlib/__init__.py\", line 169, in reload\n",
      "    _bootstrap._exec(spec, module)\n",
      "  File \"<frozen importlib._bootstrap>\", line 630, in _exec\n",
      "  File \"<frozen importlib._bootstrap_external>\", line 724, in exec_module\n",
      "  File \"<frozen importlib._bootstrap_external>\", line 860, in get_code\n",
      "  File \"<frozen importlib._bootstrap_external>\", line 791, in source_to_code\n",
      "  File \"<frozen importlib._bootstrap>\", line 219, in _call_with_frames_removed\n",
      "  File \"/home/cat/code/gerbil/simba_tools/simba_tools/utils.py\", line 146\n",
      "    plt.show()\n",
      "      ^\n",
      "SyntaxError: invalid syntax\n",
      "]\n"
     ]
    },
    {
     "ename": "NameError",
     "evalue": "name 'generate_track_interactions_all' is not defined",
     "output_type": "error",
     "traceback": [
      "\u001b[0;31m---------------------------------------------------------------------------\u001b[0m",
      "\u001b[0;31mNameError\u001b[0m                                 Traceback (most recent call last)",
      "\u001b[0;32m/tmp/ipykernel_14487/1120375658.py\u001b[0m in \u001b[0;36m<module>\u001b[0;34m\u001b[0m\n\u001b[1;32m      5\u001b[0m \u001b[0mid_\u001b[0m \u001b[0;34m=\u001b[0m \u001b[0;36m0\u001b[0m\u001b[0;34m\u001b[0m\u001b[0;34m\u001b[0m\u001b[0m\n\u001b[1;32m      6\u001b[0m \u001b[0;34m\u001b[0m\u001b[0m\n\u001b[0;32m----> 7\u001b[0;31m generate_track_interactions_all(id_,\n\u001b[0m\u001b[1;32m      8\u001b[0m                            \u001b[0mid_pairs\u001b[0m\u001b[0;34m,\u001b[0m\u001b[0;34m\u001b[0m\u001b[0;34m\u001b[0m\u001b[0m\n\u001b[1;32m      9\u001b[0m                            \u001b[0mfnames\u001b[0m\u001b[0;34m,\u001b[0m\u001b[0;34m\u001b[0m\u001b[0;34m\u001b[0m\u001b[0m\n",
      "\u001b[0;31mNameError\u001b[0m: name 'generate_track_interactions_all' is not defined"
     ]
    }
   ],
   "source": [
    "root_dir = '/mnt/b3a68699-495d-4ebb-9ab1-ac74f11c68c5/simba'\n",
    "# root_dir = '/home/cat/Downloads/'\n",
    "\n",
    "# select which pair of animals to look at; there are 8 pairs that were labeled\n",
    "id_ = 0\n",
    "\n",
    "generate_track_interactions_all(id_,\n",
    "                           id_pairs,\n",
    "                           fnames,\n",
    "                           root_dir,\n",
    "                           track,\n",
    "                           data)"
   ]
  },
  {
   "cell_type": "code",
   "execution_count": null,
   "id": "af958d3b-3af6-4101-b2c9-4178d5bc76ae",
   "metadata": {},
   "outputs": [],
   "source": []
  },
  {
   "cell_type": "code",
   "execution_count": null,
   "id": "d1e0d790-726f-44eb-a3b5-22ac82971f03",
   "metadata": {},
   "outputs": [],
   "source": []
  },
  {
   "cell_type": "code",
   "execution_count": 21,
   "id": "e96b3dd0-a3b5-4b46-9d3b-52a8a02e4aeb",
   "metadata": {},
   "outputs": [],
   "source": [
    "#########################################################\n",
    "#########################################################\n",
    "#########################################################\n",
    "\n",
    "    "
   ]
  },
  {
   "cell_type": "code",
   "execution_count": null,
   "id": "5b626464-3746-4910-befb-fb49def724c2",
   "metadata": {},
   "outputs": [],
   "source": []
  },
  {
   "cell_type": "code",
   "execution_count": null,
   "id": "768dd8ef-5bda-4a48-970f-f80ee9936826",
   "metadata": {},
   "outputs": [],
   "source": []
  },
  {
   "cell_type": "code",
   "execution_count": null,
   "id": "ba2517d8-093e-4c49-8153-8575df45a3b4",
   "metadata": {},
   "outputs": [],
   "source": []
  },
  {
   "cell_type": "code",
   "execution_count": null,
   "id": "f1ba22f2-dc4c-40a8-91bf-29352aac7fe3",
   "metadata": {},
   "outputs": [],
   "source": []
  }
 ],
 "metadata": {
  "kernelspec": {
   "display_name": "sleap_new",
   "language": "python",
   "name": "sleap_new"
  },
  "language_info": {
   "codemirror_mode": {
    "name": "ipython",
    "version": 3
   },
   "file_extension": ".py",
   "mimetype": "text/x-python",
   "name": "python",
   "nbconvert_exporter": "python",
   "pygments_lexer": "ipython3",
   "version": "3.7.12"
  }
 },
 "nbformat": 4,
 "nbformat_minor": 5
}
