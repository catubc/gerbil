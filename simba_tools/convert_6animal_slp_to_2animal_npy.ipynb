{
 "cells": [
  {
   "cell_type": "code",
   "execution_count": 2,
   "id": "2043adaf-0330-4103-ba6f-c659d69340d5",
   "metadata": {},
   "outputs": [
    {
     "data": {
      "application/javascript": [
       "IPython.notebook.set_autosave_interval(180000)"
      ]
     },
     "metadata": {},
     "output_type": "display_data"
    },
    {
     "name": "stdout",
     "output_type": "stream",
     "text": [
      "Autosaving every 180 seconds\n"
     ]
    },
    {
     "data": {
      "text/html": [
       "<style>.container { width:100% !important; }</style>"
      ],
      "text/plain": [
       "<IPython.core.display.HTML object>"
      ]
     },
     "metadata": {},
     "output_type": "display_data"
    }
   ],
   "source": [
    "import matplotlib\n",
    "%matplotlib tk\n",
    "%autosave 180\n",
    "%load_ext autoreload\n",
    "%autoreload 2\n",
    "\n",
    "#\n",
    "import matplotlib.pyplot as plt\n",
    "from IPython.core.display import display, HTML\n",
    "display(HTML(\"<style>.container { width:100% !important; }</style>\"))\n",
    "\n",
    "# \n",
    "import matplotlib.cm as cm\n",
    "import numpy as np\n",
    "import os\n",
    "from tqdm import trange\n",
    "import pandas as pd\n",
    "\n",
    "from utils import plot_me, smooth_traces, generate_track_interactions\n",
    "\n",
    "from track import Track\n"
   ]
  },
  {
   "cell_type": "code",
   "execution_count": 3,
   "id": "40b5fbaa-5f5e-4e6b-b6de-1986480d3823",
   "metadata": {},
   "outputs": [],
   "source": [
    "##########################################################################\n",
    "####################### HELPER FUNCTIONS #################################\n",
    "##########################################################################\n",
    "#\n",
    "def make_pairwise_npy_files_for_simba(fname_slp,\n",
    "                                      root_dir,\n",
    "                                      animal_id):\n",
    "    #\n",
    "    animal_ids=[0,1]\n",
    "    \n",
    "\n",
    "    fname_out = os.path.join(root_dir,'simon_npy_arrays_july29_2022',\n",
    "                        fname_slp+\"_animals_\"+str(animal_ids[0])+\"_\"+str(animal_ids[1])+'.npy')\n",
    "\n",
    "    #\n",
    "    if os.path.exists(fname_out):\n",
    "        return\n",
    "\n",
    "    #\n",
    "    print (\"PROCESSING: \")\n",
    "    print (fname_slp)\n",
    "    print (animal_ids)\n",
    "\n",
    "    #\n",
    "    track = Track(fname_slp)\n",
    "    track.animal_ids = animal_ids\n",
    "    track.tracks_names = ['female','male','pup1','pup2','pup3','pup4']\n",
    "    track.recompute_spine_centres=True\n",
    "    track.verbose = True                         # gives additional printouts\n",
    "    track.n_animals = len(track.animal_ids)      # number of animals\n",
    "    track.filter_width = 10                      # this is the median filter width in frames; e.g. 10 ~=0.4 seconds\n",
    "                                                 # higher values provide more stability, but less temporally precise locations\n",
    "    # \n",
    "    track.load_tracks()\n",
    "\n",
    "    #\n",
    "    data_out = track.tracks_spine[:,animal_ids]\n",
    "\n",
    "    #\n",
    "    np.save(fname_out, data_out)\n",
    "        "
   ]
  },
  {
   "cell_type": "code",
   "execution_count": 4,
   "id": "e9ac99c5-eefc-45f3-96c7-dbe153bc0f22",
   "metadata": {},
   "outputs": [
    {
     "name": "stdout",
     "output_type": "stream",
     "text": [
      "PROCESSING: \n",
      "/media/cat/4TBSSD/dan/simba_tests_aug_2022/2020_07_30_11_06_03_274369_compressed_Day.slp\n",
      "[0, 1]\n"
     ]
    }
   ],
   "source": [
    "######################################################\n",
    "######################################################\n",
    "######################################################\n",
    "\n",
    "# this code takes an slp and an animal pair by id, and makes a 2-animal .npy file with tracks\n",
    "root_dir = '/media/cat/4TBSSD/dan/simba_tests_aug_2022/'\n",
    "fname_slp = '/media/cat/4TBSSD/dan/simba_tests_aug_2022/2020_07_30_11_06_03_274369_compressed_Day.slp'\n",
    "\n",
    "#\n",
    "animal_id = [0,1]\n",
    "make_pairwise_npy_files_for_simba(fname_slp, \n",
    "                                  root_dir, \n",
    "                                  animal_id)\n",
    "\n"
   ]
  },
  {
   "cell_type": "code",
   "execution_count": null,
   "id": "6029ae22-5347-4520-bbb3-ee707fa1e2ce",
   "metadata": {},
   "outputs": [],
   "source": []
  },
  {
   "cell_type": "code",
   "execution_count": null,
   "id": "768dd8ef-5bda-4a48-970f-f80ee9936826",
   "metadata": {},
   "outputs": [],
   "source": []
  },
  {
   "cell_type": "code",
   "execution_count": null,
   "id": "ba2517d8-093e-4c49-8153-8575df45a3b4",
   "metadata": {},
   "outputs": [],
   "source": []
  },
  {
   "cell_type": "code",
   "execution_count": null,
   "id": "f1ba22f2-dc4c-40a8-91bf-29352aac7fe3",
   "metadata": {},
   "outputs": [],
   "source": []
  }
 ],
 "metadata": {
  "kernelspec": {
   "display_name": "Python 3 (ipykernel)",
   "language": "python",
   "name": "python3"
  },
  "language_info": {
   "codemirror_mode": {
    "name": "ipython",
    "version": 3
   },
   "file_extension": ".py",
   "mimetype": "text/x-python",
   "name": "python",
   "nbconvert_exporter": "python",
   "pygments_lexer": "ipython3",
   "version": "3.7.12"
  }
 },
 "nbformat": 4,
 "nbformat_minor": 5
}
