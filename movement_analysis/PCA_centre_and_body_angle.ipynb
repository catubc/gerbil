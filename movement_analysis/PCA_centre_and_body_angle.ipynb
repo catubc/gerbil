{
 "cells": [
  {
   "cell_type": "code",
   "execution_count": 2,
   "metadata": {},
   "outputs": [
    {
     "data": {
      "application/javascript": [
       "IPython.notebook.set_autosave_interval(180000)"
      ]
     },
     "metadata": {},
     "output_type": "display_data"
    },
    {
     "name": "stdout",
     "output_type": "stream",
     "text": [
      "Autosaving every 180 seconds\n",
      "The autoreload extension is already loaded. To reload it, use:\n",
      "  %reload_ext autoreload\n"
     ]
    },
    {
     "data": {
      "text/html": [
       "<style>.container { width:100% !important; }</style>"
      ],
      "text/plain": [
       "<IPython.core.display.HTML object>"
      ]
     },
     "metadata": {},
     "output_type": "display_data"
    }
   ],
   "source": [
    "%matplotlib tk\n",
    "%autosave 180\n",
    "%load_ext autoreload\n",
    "%autoreload 2\n",
    "\n",
    "#\n",
    "import matplotlib\n",
    "import matplotlib.pyplot as plt\n",
    "from IPython.core.display import display, HTML\n",
    "display(HTML(\"<style>.container { width:100% !important; }</style>\"))\n",
    "\n",
    "# \n",
    "import matplotlib.cm as cm\n",
    "\n",
    "# \n",
    "import numpy as np\n",
    "import os\n",
    "from tqdm import trange\n",
    "import parmap\n",
    "import glob\n",
    "\n",
    "# \n",
    "from scipy.io import loadmat\n",
    "import scipy\n",
    "\n",
    "# "
   ]
  },
  {
   "cell_type": "code",
   "execution_count": null,
   "metadata": {},
   "outputs": [],
   "source": [
    "###################################\n",
    "######## USE .mat DATASETS ########\n",
    "###################################\n",
    "# trx = {\n",
    "#  'x': x,                          0\n",
    "#  'y':y,                           1\n",
    "#  'theta': self.angles[:,k],       2 \n",
    "#  'a': self.axes[:,k,0],           3\n",
    "#  'b': self.axes[:,k,1],           4\n",
    "#  'nframes':nframes,               5\n",
    "#  'firstframe':firstframe,         6\n",
    "#  'endframe':endframe,             7\n",
    "#  'off':off,                       8 \n",
    "#  'id':id_,                        9\n",
    "#  'x_mm':x_mm,                    10\n",
    "#  'y_mm':y_mm,                    11\n",
    "#  'theta_mm':theta_mm[:,k],       12\n",
    "#  'a_mm':a_mm,                    13\n",
    "#  'b_mm':b_mm,                    14\n",
    "#  'sex':sex,                      15 \n",
    "#  'dt':dt,                        16\n",
    "#  'fps':self.fps,                 17\n",
    "#  'timestamps': timestamps        18\n",
    "# }\n",
    "\n",
    "# \n",
    "fnames = np.loadtxt('/media/cat/1TB/dan/cohort1/slp.txt',\n",
    "                   dtype='str')\n",
    "\n",
    "# \n",
    "X4 = []\n",
    "for k in range(4):\n",
    "    X4.append([])\n",
    "\n",
    "#\n",
    "animal_ids = np.arange(4)\n",
    "for fname in fnames:\n",
    "    data = loadmat(fname)\n",
    "\n",
    "    for animal_id in animal_ids:\n",
    "        #print (data['trx'][0][0][animal_id][0][0][2].squeeze())\n",
    "        data_animal = data['trx'][0][0][animal_id][0][0]\n",
    "\n",
    "        x = data_animal[0]\n",
    "        y = data_animal[1]\n",
    "        angle = data_animal[2]\n",
    "\n",
    "        locs = np.vstack((x, y, angle)).T\n",
    "        #print (locs.shape)\n",
    "\n",
    "        vel = np.sqrt((locs[1:,0]-locs[:-1,0])**2+\n",
    "                      (locs[1:,1]-locs[:-1,1])**2\n",
    "                     )\n",
    "        \n",
    "        # find locations where velocity > first initial large peak\n",
    "        # first visualize where peak in movements start\n",
    "        # width = 1\n",
    "        # bins = np.arange(1,100,width)\n",
    "        # y = np.histogram(vel,bins=bins)\n",
    "        # plt.plot(y[1][:-1],y[0])\n",
    "        idx = np.where(vel>=5)[0]\n",
    "\n",
    "        # look for starts that are separated by at least X\n",
    "        window = 25\n",
    "        starts = []\n",
    "        for k in range(1, idx.shape[0],1):\n",
    "            if idx[k]-idx[k-1]>=window:\n",
    "                starts.append(idx[k-1])\n",
    "\n",
    "        starts = np.array(starts)\n",
    "        #print (starts.shape)\n",
    "\n",
    "        X = []\n",
    "        for k in range(starts.shape[0]):\n",
    "            temp = locs[starts[k] : starts[k]+window]\n",
    "            \n",
    "            if np.where(np.isnan(temp))[0].shape[0]==0:\n",
    "                \n",
    "                # featurize to velocity and angle\n",
    "                if False:\n",
    "                    wrong\n",
    "                    temp = vel([1:,0]-temp[:-1,0])\n",
    "                    #print (vel.shape, temp[1:,2].shape)\n",
    "                    temp = np.vstack((vel, temp[1:,2]))\n",
    "            \n",
    "                X.append(temp)\n",
    "\n",
    "        X = np.array(X)\n",
    "        #print (X.shape)\n",
    "        X4[animal_id].extend(X)\n",
    "        \n",
    "# \n",
    "for k in range(len(X4)):\n",
    "    temp = X4[k]\n",
    "    temp = np.array(temp)\n",
    "    X4[k] = temp\n",
    "\n",
    "print (X4[0].shape)"
   ]
  },
  {
   "cell_type": "code",
   "execution_count": 37,
   "metadata": {},
   "outputs": [
    {
     "name": "stdout",
     "output_type": "stream",
     "text": [
      "(11594, 48)\n",
      "(13104, 48)\n",
      "(13240, 48)\n",
      "(12227, 48)\n",
      "(50165, 48)\n",
      "(50165, 3)\n",
      "plotting:  (50165, 3)\n"
     ]
    }
   ],
   "source": [
    "##############################################\n",
    "########## FEATURIZE BEHAVIOR CHUNKS #########\n",
    "##############################################\n",
    "from sklearn import decomposition\n",
    "import sklearn\n",
    "\n",
    "fig = plt.figure()\n",
    "X_all = []\n",
    "n_events = []\n",
    "for animal_id in animal_ids:\n",
    "    X = X4[animal_id].copy()\n",
    "    X = X.reshape(X.shape[0], -1)\n",
    "    print (X.shape)\n",
    "    X_all.append(X)\n",
    "    n_events.append(X.shape[0])\n",
    "\n",
    "#     \n",
    "X_all = np.vstack(X_all)\n",
    "print (X_all.shape)\n",
    "X = sklearn.preprocessing.normalize(X_all)\n",
    "\n",
    "#\n",
    "if True:\n",
    "    pca = decomposition.PCA(n_components=3)\n",
    "\n",
    "    X_pca = pca.fit_transform(X_all)\n",
    "    print (X_pca.shape)\n",
    "    \n",
    "if False:\n",
    "    import umap\n",
    "    umap = umap.UMAP(n_components=2,\n",
    "                    init='random',\n",
    "                    random_state=0)\n",
    "\n",
    "    umap_ = umap.fit(X_all[::10])\n",
    "\n",
    "    X_pca = umap_.transform(X_all)\n",
    "        \n",
    "\n",
    "print (\"plotting: \", X_pca.shape)\n",
    "\n",
    "\n",
    "print (n_events)\n",
    "fig=plt.figure()\n",
    "for k in range(4):\n",
    "    ax = plt.subplot(2,2,k+1)\n",
    "    start = np.int32(n_events[:k]).sum()\n",
    "    end = np.int32(n_events[:k+1]).sum()\n",
    "    print (start, end)\n",
    "    plt.scatter(X_pca[start:end,0],\n",
    "                X_pca[start:end,1],\n",
    "               alpha=.1)\n",
    "\n",
    "plt.show()\n"
   ]
  },
  {
   "cell_type": "code",
   "execution_count": 38,
   "metadata": {},
   "outputs": [
    {
     "name": "stdout",
     "output_type": "stream",
     "text": [
      "[11594, 13104, 13240, 12227]\n",
      "0 11594\n",
      "11594 24698\n",
      "24698 37938\n",
      "37938 50165\n"
     ]
    }
   ],
   "source": [
    "##########################################\n",
    "##########################################\n",
    "##########################################\n",
    "\n",
    "\n"
   ]
  },
  {
   "cell_type": "code",
   "execution_count": null,
   "metadata": {},
   "outputs": [],
   "source": []
  },
  {
   "cell_type": "code",
   "execution_count": null,
   "metadata": {},
   "outputs": [],
   "source": []
  },
  {
   "cell_type": "code",
   "execution_count": null,
   "metadata": {},
   "outputs": [],
   "source": []
  },
  {
   "cell_type": "code",
   "execution_count": null,
   "metadata": {},
   "outputs": [],
   "source": []
  },
  {
   "cell_type": "code",
   "execution_count": null,
   "metadata": {},
   "outputs": [],
   "source": []
  },
  {
   "cell_type": "code",
   "execution_count": null,
   "metadata": {},
   "outputs": [],
   "source": []
  }
 ],
 "metadata": {
  "kernelspec": {
   "display_name": "Python 3",
   "language": "python",
   "name": "python3"
  },
  "language_info": {
   "codemirror_mode": {
    "name": "ipython",
    "version": 3
   },
   "file_extension": ".py",
   "mimetype": "text/x-python",
   "name": "python",
   "nbconvert_exporter": "python",
   "pygments_lexer": "ipython3",
   "version": "3.8.3"
  }
 },
 "nbformat": 4,
 "nbformat_minor": 4
}
