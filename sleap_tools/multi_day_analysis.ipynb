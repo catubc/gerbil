{
 "cells": [
  {
   "cell_type": "code",
   "execution_count": 1,
   "id": "98fa42e6",
   "metadata": {},
   "outputs": [
    {
     "data": {
      "application/javascript": [
       "IPython.notebook.set_autosave_interval(180000)"
      ]
     },
     "metadata": {},
     "output_type": "display_data"
    },
    {
     "name": "stdout",
     "output_type": "stream",
     "text": [
      "Autosaving every 180 seconds\n"
     ]
    },
    {
     "data": {
      "text/html": [
       "<style>.container { width:100% !important; }</style>"
      ],
      "text/plain": [
       "<IPython.core.display.HTML object>"
      ]
     },
     "metadata": {},
     "output_type": "display_data"
    }
   ],
   "source": [
    "import matplotlib\n",
    "#matplotlib.use('Agg')\n",
    "%matplotlib tk\n",
    "%autosave 180\n",
    "import matplotlib.pyplot as plt\n",
    "from IPython.core.display import display, HTML\n",
    "display(HTML(\"<style>.container { width:100% !important; }</style>\"))\n",
    "\n",
    "import matplotlib.cm as cm\n",
    "from matplotlib import gridspec\n",
    "from scipy import signal\n",
    "from itertools import combinations\n",
    "import matplotlib.patches as mpatches\n",
    "\n",
    "import numpy as np\n",
    "import os\n",
    "import shutil\n",
    "import cv2\n",
    "\n",
    "from tqdm import trange, tqdm\n",
    "\n",
    "# \n",
    "from scipy import signal\n",
    "\n",
    "#    \n",
    "from scipy.io import loadmat\n",
    "import scipy\n",
    "\n",
    "# \n",
    "import csv\n",
    "\n",
    "from Analyze import plot_pairwise_interactions, ethogram_social_huddling\n",
    "                    \n"
   ]
  },
  {
   "cell_type": "code",
   "execution_count": 3,
   "id": "11495a14",
   "metadata": {},
   "outputs": [
    {
     "name": "stdout",
     "output_type": "stream",
     "text": [
      "470\n",
      "470\n"
     ]
    }
   ],
   "source": [
    "fnames_fixed = np.loadtxt('/home/cat/Downloads/Downloads/fnames_fixed.txt',dtype='str')\n",
    "print (len(fnames_fixed))\n",
    "models_fixed = np.loadtxt('/home/cat/Downloads/Downloads/models_fixed.txt',dtype='str')\n",
    "print (len(models_fixed))"
   ]
  },
  {
   "cell_type": "code",
   "execution_count": 4,
   "id": "8cddad02",
   "metadata": {},
   "outputs": [],
   "source": [
    "\n",
    "#def plot_pairwise_interactions2(locs_multi_hour):\n",
    "def plot_pairwise_interactions2(locs_multi_hour):\n",
    "    \n",
    "\n",
    "    names= ['female','male','pup1','pup2']\n",
    "    clrs = ['red','blue','cyan','green']\n",
    "\n",
    "    x_ticks=['female','male','pup1','pup2']\n",
    "    text_clr = 'red'\n",
    "\n",
    "    distance_threshold = 250 # # of pixels away assume 1 pixel ~= 0.5mm -> 20cm\n",
    "    time_window = 1*25 # no of seconds to consider\n",
    "    smoothing_window = 3\n",
    "    min_distance = 25 # number of frames window\n",
    "    #\n",
    "\n",
    "    # COMPUTE PAIRWISE INTERACTIONS\n",
    "    pair_interaction_times2 = []\n",
    "    triples_interaction_time2 = []\n",
    "    quad_interaction_times2 = []\n",
    "    multi_animal_durations2 = []\n",
    "    interactions2 = []\n",
    "    duration_matrix2 = []\n",
    "    \n",
    "    for locs in tqdm(locs_multi_hour):\n",
    "\n",
    "        #\n",
    "        locs = locs.transpose(1,0,2)\n",
    "        #print (\"locs: \", locs.shape)\n",
    "        \n",
    "        #\n",
    "        traces_23hrs = locs\n",
    "        \n",
    "        animals=np.arange(locs.shape[0])\n",
    "        interactions = np.zeros((animals.shape[0],animals.shape[0]),'int32') + np.nan\n",
    "        durations_matrix = np.zeros((animals.shape[0], animals.shape[0]),'int32') + np.nan\n",
    "\n",
    "        # loop over all pairwise combinations\n",
    "        pair_interaction_times = []\n",
    "        pairs1 = list(combinations(animals,2))\n",
    "        for ctr_x, pair in enumerate(pairs1):\n",
    "            traces = []\n",
    "\n",
    "            # smooth out traces;\n",
    "            for k in pair:\n",
    "                traces1=traces_23hrs[k].copy()\n",
    "                traces1[:,0]=np.convolve(traces_23hrs[k,:,0], np.ones((smoothing_window,))/smoothing_window, mode='same')\n",
    "                traces1[:,1]=np.convolve(traces_23hrs[k,:,1], np.ones((smoothing_window,))/smoothing_window, mode='same')\n",
    "                traces1 = traces1\n",
    "                traces.append(traces1)\n",
    "\n",
    "            # COMPUTE PAIRWISE DISTANCES AND NEARBY TIMES POINTS\n",
    "            idx_array = []\n",
    "            diffs = np.sqrt((traces[0][:,0]-traces[1][:,0])**2+\n",
    "                            (traces[0][:,1]-traces[1][:,1])**2)\n",
    "            idx = np.where(diffs<distance_threshold)[0]\n",
    "\n",
    "            # COMPUTE TOTAL TIME TOGETHER\n",
    "            #print (\"Pairwise: \", pair, idx.shape)\n",
    "            durations_matrix[pair[0],pair[1]]=idx.shape[0]/25\n",
    "\n",
    "            # COMPUTE # OF INTERACTIONS;\n",
    "            diffs_idx = idx[1:]-idx[:-1]\n",
    "            idx2 = np.where(diffs_idx>5)[0]\n",
    "            interactions[pair[0],pair[1]]=idx2.shape[0]\n",
    "\n",
    "            # SAVE TIMES OF INTERACTION\n",
    "            pair_interaction_times.append(idx)\n",
    "\n",
    "        # SYMMETRIZE MATRICES\n",
    "        for k in range(durations_matrix.shape[0]):\n",
    "            for j in range(durations_matrix.shape[1]):\n",
    "                if np.isnan(durations_matrix[k,j])==False:\n",
    "                    durations_matrix[j,k]=durations_matrix[k,j]\n",
    "                    interactions[j,k]=interactions[k,j]\n",
    "\n",
    "\n",
    "        #############################\n",
    "        # COMPUTE TRIPLE INTERACTIONS\n",
    "\n",
    "        multi_animal_durations = [] #np.zeros((animals.shape[0]+4),'int32') + np.nan\n",
    "        names_multi_animal =[]\n",
    "        ctr=0\n",
    "\n",
    "        pairs3 = list(combinations(animals,3))\n",
    "        triples_interaction_times = []\n",
    "        for ctr_x, pair in enumerate(pairs3):\n",
    "            names_multi_animal.append(names[pair[0]]+\"\\n\"+ names[pair[1]]+\"\\n\"+names[pair[2]]+\"\\n\")\n",
    "            #names_multi_animal.append(names[pair[0]]+\" - \"+ names[pair[1]]+\" - \"+names[pair[2]])\n",
    "            traces = []\n",
    "\n",
    "            # COMPUTE LOCATIONS\n",
    "            for k in pair:\n",
    "                traces1=traces_23hrs[k].copy()\n",
    "                traces1[:,0]=np.convolve(traces_23hrs[k,:,0], np.ones((smoothing_window,))/smoothing_window, mode='same')\n",
    "                traces1[:,1]=np.convolve(traces_23hrs[k,:,1], np.ones((smoothing_window,))/smoothing_window, mode='same')\n",
    "                traces1 = traces1\n",
    "                traces.append(traces1)\n",
    "\n",
    "            # COMPUTE PAIRWISE DISTANCES AND NEARBY TIMES POINTS\n",
    "            idx_array = []\n",
    "            pairs2 = list(combinations(np.arange(3),2))\n",
    "            for pair_ in pairs2:\n",
    "                #print (\"pair_\", pair_)\n",
    "                diffs = np.sqrt((traces[pair_[0]][:,0]-traces[pair_[1]][:,0])**2+\n",
    "                                (traces[pair_[0]][:,1]-traces[pair_[1]][:,1])**2)\n",
    "                idx_temp = np.where(diffs<distance_threshold)[0]\n",
    "                #print (\"pair_: \", pair_, idx_temp.shape)\n",
    "                idx_array.append(idx_temp)\n",
    "\n",
    "            # COMPUTE OVERLAP\n",
    "            idx3 = np.unique(np.hstack(set.intersection(*[set(x) for x in idx_array])))\n",
    "            #print (pair, \"IDX3 4: \", len(idx3))\n",
    "            multi_animal_durations.append(len(idx3)/25)\n",
    "\n",
    "            # SAVE TIMES OF INTERACTION\n",
    "            triples_interaction_times.append(idx3)\n",
    "\n",
    "        #print (\"\")\n",
    "\n",
    "        #################################\n",
    "        # COMPUTE 4 ANIMAL INTERACTIONS\n",
    "        pairs = list(combinations(animals,4))\n",
    "        quad_interaction_times = []\n",
    "        for ctr_x, pair in enumerate(pairs):\n",
    "            names_multi_animal.append(names[pair[0]]+\"\\n\"+ names[pair[1]]+\"\\n\"+names[pair[2]]+\"\\n\"+names[pair[3]])\n",
    "            #names_multi_animal.append(names[pair[0]]+\" - \"+ names[pair[1]]+\" - \"+names[pair[2]]+\"  - \"+names[pair[3]])\n",
    "            #print (pair)\n",
    "            traces = []\n",
    "            for k in pair:\n",
    "                traces1=traces_23hrs[k].copy()\n",
    "                traces1[:,0]=np.convolve(traces_23hrs[k,:,0], np.ones((smoothing_window,))/smoothing_window, mode='same')\n",
    "                traces1[:,1]=np.convolve(traces_23hrs[k,:,1], np.ones((smoothing_window,))/smoothing_window, mode='same')\n",
    "                traces1 = traces1\n",
    "                traces.append(traces1)\n",
    "\n",
    "            # loop over all combinations and get distances\n",
    "            pairs2 = list(combinations(animals,2))\n",
    "            idx_array = []\n",
    "            for pair2 in pairs2:\n",
    "                diffs = np.sqrt((traces[pair2[0]][:,0]-traces[pair2[1]][:,0])**2+\n",
    "                                 (traces[pair2[0]][:,1]-traces[pair2[1]][:,1])**2)\n",
    "                idx_temp = np.where(diffs<distance_threshold)[0]\n",
    "                #print (\"pair2: \", pair2, idx_temp.shape)\n",
    "                idx_array.append(idx_temp)\n",
    "\n",
    "            # COMPUTE TOTAL TIME TOGETHER\n",
    "            #print (\"idx_array: \", idx_array)\n",
    "            idx3 = set.intersection(*[set(x) for x in idx_array])\n",
    "            #print (\"4 animals 4: \", len(idx3))\n",
    "            multi_animal_durations.append(len(idx3)/25)\n",
    "\n",
    "            # SAVE TIMES OF INTERACTION\n",
    "            quad_interaction_times.append(list(idx3)  )\n",
    "\n",
    "            ctr+=1\n",
    "\n",
    "        pair_interaction_times2.append(pair_interaction_times)\n",
    "        triples_interaction_time2.append(triples_interaction_times)\n",
    "        quad_interaction_times2.append(quad_interaction_times)\n",
    "        multi_animal_durations2.append(multi_animal_durations)\n",
    "        interactions2.append(interactions)\n",
    "        duration_matrix2.append(durations_matrix)\n",
    "    \n",
    "\n",
    "    return (pair_interaction_times2,triples_interaction_time2, quad_interaction_times2, multi_animal_durations2, names_multi_animal, interactions2, duration_matrix2)\n"
   ]
  },
  {
   "cell_type": "code",
   "execution_count": 6,
   "id": "f4739180",
   "metadata": {
    "scrolled": true
   },
   "outputs": [
    {
     "name": "stderr",
     "output_type": "stream",
     "text": [
      "  1%|          | 5/491 [00:00<00:10, 47.55it/s]"
     ]
    },
    {
     "name": "stdout",
     "output_type": "stream",
     "text": [
      "469\n",
      "(470, 90000, 4, 2)\n"
     ]
    },
    {
     "name": "stderr",
     "output_type": "stream",
     "text": [
      "100%|██████████| 491/491 [00:12<00:00, 38.71it/s]"
     ]
    },
    {
     "name": "stdout",
     "output_type": "stream",
     "text": [
      "locs:  (470, 90000, 4, 2)\n",
      "day times:  469\n"
     ]
    },
    {
     "name": "stderr",
     "output_type": "stream",
     "text": [
      "\n"
     ]
    }
   ],
   "source": [
    "#\n",
    "fnames_spine_fixed = np.loadtxt('/media/cat/4TBSSD/dan/cohort1/filenames_spine_fixed.txt',dtype='str')\n",
    "print (len(fnames_spine_fixed))\n",
    "\n",
    "# \n",
    "fnames_order = np.loadtxt('/media/cat/4TBSSD/dan/cohort1/filenames_reordered_clean.txt', dtype='str')\n",
    "\n",
    "#\n",
    "fname_out = '/media/cat/4TBSSD/dan/cohort1/all_locs.npy'\n",
    "\n",
    "\n",
    "if os.path.exists(fname_out)==False:\n",
    "    \n",
    "    day_times = []\n",
    "    #locs = np.zeros((90000*470,4,2), 'float32')\n",
    "    locs = np.zeros((470,90000, 4,2), 'float32')\n",
    "    print (locs.shape)\n",
    "    shift =0\n",
    "    hour=0\n",
    "    for fname_order in tqdm(fnames_order):\n",
    "        # \n",
    "        for ctr in range(len(fnames_spine_fixed)):\n",
    "       \n",
    "            if fname_order in fnames_spine_fixed[ctr]:\n",
    "                # \n",
    "                #print (fnames_spine_fixed[ctr])\n",
    "                temp = np.load(fnames_spine_fixed[ctr])#.transpose(1,0,2)\n",
    "                # \n",
    "                #locs[shift:shift+temp.shape[0]] = temp\n",
    "                if '2020_3_8_03_09_25_132594' in fname_order:\n",
    "                    locs[hour,:temp.shape[0]//2] = temp[:temp.shape[0]//2]\n",
    "                    hour+=1\n",
    "                    locs[hour,:temp.shape[0]-temp.shape[0]//2] = temp[temp.shape[0]//2:]\n",
    "                else:\n",
    "                    locs[hour,:temp.shape[0]] = temp\n",
    "\n",
    "                day_times.append(fname_order)\n",
    "                    \n",
    "                hour+=1\n",
    "                \n",
    "                break\n",
    "\n",
    "print (\"locs: \", locs.shape)\n",
    "print (\"day times: \", len(day_times))"
   ]
  },
  {
   "cell_type": "code",
   "execution_count": 7,
   "id": "1bfc2d70",
   "metadata": {},
   "outputs": [
    {
     "name": "stderr",
     "output_type": "stream",
     "text": [
      "  0%|          | 0/470 [00:00<?, ?it/s]/media/cat/4TBSSD/anaconda3/envs/gerbil/lib/python3.7/site-packages/ipykernel_launcher.py:56: RuntimeWarning: invalid value encountered in less\n",
      "/media/cat/4TBSSD/anaconda3/envs/gerbil/lib/python3.7/site-packages/ipykernel_launcher.py:107: RuntimeWarning: invalid value encountered in less\n",
      "/media/cat/4TBSSD/anaconda3/envs/gerbil/lib/python3.7/site-packages/ipykernel_launcher.py:112: FutureWarning: arrays to stack must be passed as a \"sequence\" type such as list or tuple. Support for non-sequence iterables such as generators is deprecated as of NumPy 1.16 and will raise an error in the future.\n",
      "/media/cat/4TBSSD/anaconda3/envs/gerbil/lib/python3.7/site-packages/ipykernel_launcher.py:143: RuntimeWarning: invalid value encountered in less\n",
      "100%|██████████| 470/470 [00:50<00:00,  9.33it/s]\n"
     ]
    }
   ],
   "source": [
    "##################################################################\n",
    "#################### EXTRACT PAIR INTERACTIONS ###################\n",
    "##################################################################\n",
    "# \n",
    "suptitle = \"Behavior interactions 48hrs (March 15th-16th)\"\n",
    "suptitle = \"20 days movement\"\n",
    "(pair_interaction_times2,\n",
    " triples_interaction_time2, \n",
    " quad_interaction_times2, \n",
    " multi_animal_durations2,\n",
    " names_multi_animal, \n",
    " interactions2, \n",
    " duration_matrix2) = plot_pairwise_interactions2(locs)\n"
   ]
  },
  {
   "cell_type": "code",
   "execution_count": 8,
   "id": "ec201534",
   "metadata": {},
   "outputs": [
    {
     "name": "stdout",
     "output_type": "stream",
     "text": [
      "470 469\n",
      "(470, 4, 4)\n"
     ]
    }
   ],
   "source": [
    "print (len(interactions2), len(day_times))\n",
    "print (np.array(interactions2).shape)"
   ]
  },
  {
   "cell_type": "code",
   "execution_count": 12,
   "id": "1127c6b0",
   "metadata": {},
   "outputs": [
    {
     "name": "stdout",
     "output_type": "stream",
     "text": [
      "(470, 4, 4)\n"
     ]
    }
   ],
   "source": [
    "###############################################################\n",
    "#################### PLOT PAIR INTERACTIONS ###################\n",
    "###############################################################\n",
    "temp = np.array(interactions2)\n",
    "print (temp.shape)\n",
    "#print (interactions2.shape)\n",
    "temp = temp.reshape(temp.shape[0],-1)\n",
    "x_ticks=['female','male','pup1','pup2']\n",
    "\n",
    "ctr=0\n",
    "for k in range(16):\n",
    "    ax=plt.subplot(4,4,ctr+1)\n",
    "    #if k%4==0\n",
    "    #    continue\n",
    "        \n",
    "    if k!=12:\n",
    "        plt.xticks([])\n",
    "        plt.yticks([])\n",
    "    else:\n",
    "        plt.xlabel(\"Time of day\")\n",
    "        plt.ylabel('Day of study')\n",
    "        \n",
    "    temp1 = temp[:,k]\n",
    "    \n",
    "    # \n",
    "    temp2 = []\n",
    "    for p in range(0,temp1.shape[0],24):\n",
    "        chunk = temp1[p:p+24]\n",
    "        if chunk.shape[0]==24:\n",
    "            temp2.append(chunk)\n",
    "    temp2 = np.array(temp2)\n",
    "    #print (temp2.shape)\n",
    "    \n",
    "    plt.title(x_ticks[k//4]+ \" \" + x_ticks[k%4])\n",
    "    temp2 = np.roll(temp2,-5,axis=1)\n",
    "    plt.imshow(temp2,vmin=0,vmax=1500,\n",
    "               interpolation='none')\n",
    "    ctr+=1\n",
    "    \n",
    "\n",
    "#plt.imshow(temp, aspect='auto', interpolation='none')\n",
    "plt.suptitle(\"# of interactions per hour (0=min, 1500=max)\")\n",
    "plt.show()"
   ]
  },
  {
   "cell_type": "code",
   "execution_count": null,
   "id": "83a89e2f",
   "metadata": {},
   "outputs": [],
   "source": []
  },
  {
   "cell_type": "code",
   "execution_count": null,
   "id": "556396db",
   "metadata": {},
   "outputs": [],
   "source": [
    "\n",
    "##############################################\n",
    "############ PLOT PAIRWISE DURATIONS ########\n",
    "#################################################\n",
    "ax2=plt.subplot(1,2,2)\n",
    "im = plt.imshow(durations_matrix, cmap='viridis')\n",
    "\n",
    "x_ticks=['female','male','pup1','pup2']\n",
    "plt.xticks(np.arange(locs.shape[0]), x_ticks,rotation=15)\n",
    "plt.yticks(np.arange(locs.shape[0]), x_ticks,rotation=75)\n",
    "plt.tick_params(labelsize=20)\n",
    "\n",
    "cbar = plt.colorbar()\n",
    "cbar.set_label(\"time together (sec)\", fontsize=20)\n",
    "\n",
    "\n",
    "# # Loop over data dimensions and create text annotations.\n",
    "# if False:\n",
    "#     for i in range(durations_matrix.shape[0]):\n",
    "#         for j in range(durations_matrix.shape[1]):\n",
    "#             if np.isnan(durations_matrix[i, j])==True:\n",
    "#                 continue\n",
    "#             text = ax2.text(j, i, durations_matrix[i, j],\n",
    "#                            ha=\"center\", va=\"center\", color=text_clr,\n",
    "#                            fontsize=13)\n",
    "\n",
    "ax2.set_title('time together (sec)',fontsize=20)\n",
    "\n",
    "plt.suptitle(suptitle, fontsize=15)\n",
    "\n",
    "plt.show()"
   ]
  },
  {
   "cell_type": "code",
   "execution_count": 6,
   "id": "4f34566b",
   "metadata": {
    "scrolled": true
   },
   "outputs": [
    {
     "ename": "KeyboardInterrupt",
     "evalue": "",
     "output_type": "error",
     "traceback": [
      "\u001b[0;31m---------------------------------------------------------------------------\u001b[0m",
      "\u001b[0;31mKeyboardInterrupt\u001b[0m                         Traceback (most recent call last)",
      "\u001b[0;32m<ipython-input-6-46202be357ba>\u001b[0m in \u001b[0;36m<module>\u001b[0;34m()\u001b[0m\n\u001b[1;32m      4\u001b[0m ethogram_social_huddling(pair_interaction_times,\n\u001b[1;32m      5\u001b[0m                          \u001b[0mtriples_interaction_time\u001b[0m\u001b[0;34m,\u001b[0m\u001b[0;34m\u001b[0m\u001b[0;34m\u001b[0m\u001b[0m\n\u001b[0;32m----> 6\u001b[0;31m                          quad_interaction_times)\n\u001b[0m",
      "\u001b[0;32m/home/cat/code/gerbil/sleap_tools/Analyze.py\u001b[0m in \u001b[0;36methogram_social_huddling\u001b[0;34m(pair_interaction_times, triples_interaction_time, quad_interaction_times)\u001b[0m\n\u001b[1;32m    279\u001b[0m \u001b[0;34m\u001b[0m\u001b[0m\n\u001b[1;32m    280\u001b[0m         \u001b[0;32mfor\u001b[0m \u001b[0mp\u001b[0m \u001b[0;32min\u001b[0m \u001b[0mrange\u001b[0m\u001b[0;34m(\u001b[0m\u001b[0mlen\u001b[0m\u001b[0;34m(\u001b[0m\u001b[0mchunk_start\u001b[0m\u001b[0;34m)\u001b[0m\u001b[0;34m)\u001b[0m\u001b[0;34m:\u001b[0m\u001b[0;34m\u001b[0m\u001b[0;34m\u001b[0m\u001b[0m\n\u001b[0;32m--> 281\u001b[0;31m             \u001b[0max\u001b[0m\u001b[0;34m.\u001b[0m\u001b[0maxvspan\u001b[0m\u001b[0;34m(\u001b[0m\u001b[0mchunk_start\u001b[0m\u001b[0;34m[\u001b[0m\u001b[0mp\u001b[0m\u001b[0;34m]\u001b[0m\u001b[0;34m,\u001b[0m \u001b[0mchunk_end\u001b[0m\u001b[0;34m[\u001b[0m\u001b[0mp\u001b[0m\u001b[0;34m]\u001b[0m\u001b[0;34m,\u001b[0m \u001b[0mymin\u001b[0m\u001b[0;34m=\u001b[0m\u001b[0mk\u001b[0m\u001b[0;34m*\u001b[0m\u001b[0mspan\u001b[0m\u001b[0;34m,\u001b[0m \u001b[0mymax\u001b[0m\u001b[0;34m=\u001b[0m\u001b[0mk\u001b[0m\u001b[0;34m*\u001b[0m\u001b[0mspan\u001b[0m\u001b[0;34m+\u001b[0m\u001b[0mspan\u001b[0m\u001b[0;34m,\u001b[0m \u001b[0malpha\u001b[0m\u001b[0;34m=\u001b[0m\u001b[0;36m0.5\u001b[0m\u001b[0;34m,\u001b[0m \u001b[0mcolor\u001b[0m\u001b[0;34m=\u001b[0m\u001b[0mclrs\u001b[0m\u001b[0;34m[\u001b[0m\u001b[0;36m0\u001b[0m\u001b[0;34m]\u001b[0m\u001b[0;34m)\u001b[0m\u001b[0;34m\u001b[0m\u001b[0;34m\u001b[0m\u001b[0m\n\u001b[0m\u001b[1;32m    282\u001b[0m \u001b[0;34m\u001b[0m\u001b[0m\n\u001b[1;32m    283\u001b[0m     \u001b[0;31m# Interactions triples\u001b[0m\u001b[0;34m\u001b[0m\u001b[0;34m\u001b[0m\u001b[0;34m\u001b[0m\u001b[0m\n",
      "\u001b[0;32m/mnt/f418adc0-4ff9-410c-93c9-d6d21a1e9c35/anaconda3/envs/sleap/lib/python3.6/site-packages/matplotlib/axes/_axes.py\u001b[0m in \u001b[0;36maxvspan\u001b[0;34m(self, xmin, xmax, ymin, ymax, **kwargs)\u001b[0m\n\u001b[1;32m   1111\u001b[0m         \u001b[0mp\u001b[0m \u001b[0;34m=\u001b[0m \u001b[0mmpatches\u001b[0m\u001b[0;34m.\u001b[0m\u001b[0mPolygon\u001b[0m\u001b[0;34m(\u001b[0m\u001b[0mverts\u001b[0m\u001b[0;34m,\u001b[0m \u001b[0;34m**\u001b[0m\u001b[0mkwargs\u001b[0m\u001b[0;34m)\u001b[0m\u001b[0;34m\u001b[0m\u001b[0;34m\u001b[0m\u001b[0m\n\u001b[1;32m   1112\u001b[0m         \u001b[0mp\u001b[0m\u001b[0;34m.\u001b[0m\u001b[0mset_transform\u001b[0m\u001b[0;34m(\u001b[0m\u001b[0mtrans\u001b[0m\u001b[0;34m)\u001b[0m\u001b[0;34m\u001b[0m\u001b[0;34m\u001b[0m\u001b[0m\n\u001b[0;32m-> 1113\u001b[0;31m         \u001b[0mself\u001b[0m\u001b[0;34m.\u001b[0m\u001b[0madd_patch\u001b[0m\u001b[0;34m(\u001b[0m\u001b[0mp\u001b[0m\u001b[0;34m)\u001b[0m\u001b[0;34m\u001b[0m\u001b[0;34m\u001b[0m\u001b[0m\n\u001b[0m\u001b[1;32m   1114\u001b[0m         \u001b[0mself\u001b[0m\u001b[0;34m.\u001b[0m\u001b[0m_request_autoscale_view\u001b[0m\u001b[0;34m(\u001b[0m\u001b[0mscaley\u001b[0m\u001b[0;34m=\u001b[0m\u001b[0;32mFalse\u001b[0m\u001b[0;34m)\u001b[0m\u001b[0;34m\u001b[0m\u001b[0;34m\u001b[0m\u001b[0m\n\u001b[1;32m   1115\u001b[0m         \u001b[0;32mreturn\u001b[0m \u001b[0mp\u001b[0m\u001b[0;34m\u001b[0m\u001b[0;34m\u001b[0m\u001b[0m\n",
      "\u001b[0;32m/mnt/f418adc0-4ff9-410c-93c9-d6d21a1e9c35/anaconda3/envs/sleap/lib/python3.6/site-packages/matplotlib/axes/_base.py\u001b[0m in \u001b[0;36madd_patch\u001b[0;34m(self, p)\u001b[0m\n\u001b[1;32m   2031\u001b[0m         \u001b[0;32mif\u001b[0m \u001b[0mp\u001b[0m\u001b[0;34m.\u001b[0m\u001b[0mget_clip_path\u001b[0m\u001b[0;34m(\u001b[0m\u001b[0;34m)\u001b[0m \u001b[0;32mis\u001b[0m \u001b[0;32mNone\u001b[0m\u001b[0;34m:\u001b[0m\u001b[0;34m\u001b[0m\u001b[0;34m\u001b[0m\u001b[0m\n\u001b[1;32m   2032\u001b[0m             \u001b[0mp\u001b[0m\u001b[0;34m.\u001b[0m\u001b[0mset_clip_path\u001b[0m\u001b[0;34m(\u001b[0m\u001b[0mself\u001b[0m\u001b[0;34m.\u001b[0m\u001b[0mpatch\u001b[0m\u001b[0;34m)\u001b[0m\u001b[0;34m\u001b[0m\u001b[0;34m\u001b[0m\u001b[0m\n\u001b[0;32m-> 2033\u001b[0;31m         \u001b[0mself\u001b[0m\u001b[0;34m.\u001b[0m\u001b[0m_update_patch_limits\u001b[0m\u001b[0;34m(\u001b[0m\u001b[0mp\u001b[0m\u001b[0;34m)\u001b[0m\u001b[0;34m\u001b[0m\u001b[0;34m\u001b[0m\u001b[0m\n\u001b[0m\u001b[1;32m   2034\u001b[0m         \u001b[0mself\u001b[0m\u001b[0;34m.\u001b[0m\u001b[0mpatches\u001b[0m\u001b[0;34m.\u001b[0m\u001b[0mappend\u001b[0m\u001b[0;34m(\u001b[0m\u001b[0mp\u001b[0m\u001b[0;34m)\u001b[0m\u001b[0;34m\u001b[0m\u001b[0;34m\u001b[0m\u001b[0m\n\u001b[1;32m   2035\u001b[0m         \u001b[0mp\u001b[0m\u001b[0;34m.\u001b[0m\u001b[0m_remove_method\u001b[0m \u001b[0;34m=\u001b[0m \u001b[0mself\u001b[0m\u001b[0;34m.\u001b[0m\u001b[0mpatches\u001b[0m\u001b[0;34m.\u001b[0m\u001b[0mremove\u001b[0m\u001b[0;34m\u001b[0m\u001b[0;34m\u001b[0m\u001b[0m\n",
      "\u001b[0;32m/mnt/f418adc0-4ff9-410c-93c9-d6d21a1e9c35/anaconda3/envs/sleap/lib/python3.6/site-packages/matplotlib/axes/_base.py\u001b[0m in \u001b[0;36m_update_patch_limits\u001b[0;34m(self, patch)\u001b[0m\n\u001b[1;32m   2054\u001b[0m             \u001b[0;32mif\u001b[0m \u001b[0mpatch\u001b[0m\u001b[0;34m.\u001b[0m\u001b[0mget_data_transform\u001b[0m\u001b[0;34m(\u001b[0m\u001b[0;34m)\u001b[0m \u001b[0;34m!=\u001b[0m \u001b[0mself\u001b[0m\u001b[0;34m.\u001b[0m\u001b[0mtransData\u001b[0m\u001b[0;34m:\u001b[0m\u001b[0;34m\u001b[0m\u001b[0;34m\u001b[0m\u001b[0m\n\u001b[1;32m   2055\u001b[0m                 patch_to_data = (patch.get_data_transform() -\n\u001b[0;32m-> 2056\u001b[0;31m                                  self.transData)\n\u001b[0m\u001b[1;32m   2057\u001b[0m                 \u001b[0mxys\u001b[0m \u001b[0;34m=\u001b[0m \u001b[0mpatch_to_data\u001b[0m\u001b[0;34m.\u001b[0m\u001b[0mtransform\u001b[0m\u001b[0;34m(\u001b[0m\u001b[0mxys\u001b[0m\u001b[0;34m)\u001b[0m\u001b[0;34m\u001b[0m\u001b[0;34m\u001b[0m\u001b[0m\n\u001b[1;32m   2058\u001b[0m \u001b[0;34m\u001b[0m\u001b[0m\n",
      "\u001b[0;32m/mnt/f418adc0-4ff9-410c-93c9-d6d21a1e9c35/anaconda3/envs/sleap/lib/python3.6/site-packages/matplotlib/transforms.py\u001b[0m in \u001b[0;36m__sub__\u001b[0;34m(self, other)\u001b[0m\n\u001b[1;32m   1378\u001b[0m             \u001b[0;32mif\u001b[0m \u001b[0msub_tree\u001b[0m \u001b[0;34m==\u001b[0m \u001b[0mother\u001b[0m\u001b[0;34m:\u001b[0m\u001b[0;34m\u001b[0m\u001b[0;34m\u001b[0m\u001b[0m\n\u001b[1;32m   1379\u001b[0m                 \u001b[0;32mreturn\u001b[0m \u001b[0mremainder\u001b[0m\u001b[0;34m\u001b[0m\u001b[0;34m\u001b[0m\u001b[0m\n\u001b[0;32m-> 1380\u001b[0;31m         \u001b[0;32mfor\u001b[0m \u001b[0mremainder\u001b[0m\u001b[0;34m,\u001b[0m \u001b[0msub_tree\u001b[0m \u001b[0;32min\u001b[0m \u001b[0mother\u001b[0m\u001b[0;34m.\u001b[0m\u001b[0m_iter_break_from_left_to_right\u001b[0m\u001b[0;34m(\u001b[0m\u001b[0;34m)\u001b[0m\u001b[0;34m:\u001b[0m\u001b[0;34m\u001b[0m\u001b[0;34m\u001b[0m\u001b[0m\n\u001b[0m\u001b[1;32m   1381\u001b[0m             \u001b[0;32mif\u001b[0m \u001b[0msub_tree\u001b[0m \u001b[0;34m==\u001b[0m \u001b[0mself\u001b[0m\u001b[0;34m:\u001b[0m\u001b[0;34m\u001b[0m\u001b[0;34m\u001b[0m\u001b[0m\n\u001b[1;32m   1382\u001b[0m                 \u001b[0;32mif\u001b[0m \u001b[0;32mnot\u001b[0m \u001b[0mremainder\u001b[0m\u001b[0;34m.\u001b[0m\u001b[0mhas_inverse\u001b[0m\u001b[0;34m:\u001b[0m\u001b[0;34m\u001b[0m\u001b[0;34m\u001b[0m\u001b[0m\n",
      "\u001b[0;32m/mnt/f418adc0-4ff9-410c-93c9-d6d21a1e9c35/anaconda3/envs/sleap/lib/python3.6/site-packages/matplotlib/transforms.py\u001b[0m in \u001b[0;36m_iter_break_from_left_to_right\u001b[0;34m(self)\u001b[0m\n\u001b[1;32m   2328\u001b[0m         \u001b[0;32mfor\u001b[0m \u001b[0mleft\u001b[0m\u001b[0;34m,\u001b[0m \u001b[0mright\u001b[0m \u001b[0;32min\u001b[0m \u001b[0mself\u001b[0m\u001b[0;34m.\u001b[0m\u001b[0m_a\u001b[0m\u001b[0;34m.\u001b[0m\u001b[0m_iter_break_from_left_to_right\u001b[0m\u001b[0;34m(\u001b[0m\u001b[0;34m)\u001b[0m\u001b[0;34m:\u001b[0m\u001b[0;34m\u001b[0m\u001b[0;34m\u001b[0m\u001b[0m\n\u001b[1;32m   2329\u001b[0m             \u001b[0;32myield\u001b[0m \u001b[0mleft\u001b[0m\u001b[0;34m,\u001b[0m \u001b[0mright\u001b[0m \u001b[0;34m+\u001b[0m \u001b[0mself\u001b[0m\u001b[0;34m.\u001b[0m\u001b[0m_b\u001b[0m\u001b[0;34m\u001b[0m\u001b[0;34m\u001b[0m\u001b[0m\n\u001b[0;32m-> 2330\u001b[0;31m         \u001b[0;32mfor\u001b[0m \u001b[0mleft\u001b[0m\u001b[0;34m,\u001b[0m \u001b[0mright\u001b[0m \u001b[0;32min\u001b[0m \u001b[0mself\u001b[0m\u001b[0;34m.\u001b[0m\u001b[0m_b\u001b[0m\u001b[0;34m.\u001b[0m\u001b[0m_iter_break_from_left_to_right\u001b[0m\u001b[0;34m(\u001b[0m\u001b[0;34m)\u001b[0m\u001b[0;34m:\u001b[0m\u001b[0;34m\u001b[0m\u001b[0;34m\u001b[0m\u001b[0m\n\u001b[0m\u001b[1;32m   2331\u001b[0m             \u001b[0;32myield\u001b[0m \u001b[0mself\u001b[0m\u001b[0;34m.\u001b[0m\u001b[0m_a\u001b[0m \u001b[0;34m+\u001b[0m \u001b[0mleft\u001b[0m\u001b[0;34m,\u001b[0m \u001b[0mright\u001b[0m\u001b[0;34m\u001b[0m\u001b[0;34m\u001b[0m\u001b[0m\n\u001b[1;32m   2332\u001b[0m \u001b[0;34m\u001b[0m\u001b[0m\n",
      "\u001b[0;32m/mnt/f418adc0-4ff9-410c-93c9-d6d21a1e9c35/anaconda3/envs/sleap/lib/python3.6/site-packages/matplotlib/transforms.py\u001b[0m in \u001b[0;36m_iter_break_from_left_to_right\u001b[0;34m(self)\u001b[0m\n\u001b[1;32m   2327\u001b[0m     \u001b[0;32mdef\u001b[0m \u001b[0m_iter_break_from_left_to_right\u001b[0m\u001b[0;34m(\u001b[0m\u001b[0mself\u001b[0m\u001b[0;34m)\u001b[0m\u001b[0;34m:\u001b[0m\u001b[0;34m\u001b[0m\u001b[0;34m\u001b[0m\u001b[0m\n\u001b[1;32m   2328\u001b[0m         \u001b[0;32mfor\u001b[0m \u001b[0mleft\u001b[0m\u001b[0;34m,\u001b[0m \u001b[0mright\u001b[0m \u001b[0;32min\u001b[0m \u001b[0mself\u001b[0m\u001b[0;34m.\u001b[0m\u001b[0m_a\u001b[0m\u001b[0;34m.\u001b[0m\u001b[0m_iter_break_from_left_to_right\u001b[0m\u001b[0;34m(\u001b[0m\u001b[0;34m)\u001b[0m\u001b[0;34m:\u001b[0m\u001b[0;34m\u001b[0m\u001b[0;34m\u001b[0m\u001b[0m\n\u001b[0;32m-> 2329\u001b[0;31m             \u001b[0;32myield\u001b[0m \u001b[0mleft\u001b[0m\u001b[0;34m,\u001b[0m \u001b[0mright\u001b[0m \u001b[0;34m+\u001b[0m \u001b[0mself\u001b[0m\u001b[0;34m.\u001b[0m\u001b[0m_b\u001b[0m\u001b[0;34m\u001b[0m\u001b[0;34m\u001b[0m\u001b[0m\n\u001b[0m\u001b[1;32m   2330\u001b[0m         \u001b[0;32mfor\u001b[0m \u001b[0mleft\u001b[0m\u001b[0;34m,\u001b[0m \u001b[0mright\u001b[0m \u001b[0;32min\u001b[0m \u001b[0mself\u001b[0m\u001b[0;34m.\u001b[0m\u001b[0m_b\u001b[0m\u001b[0;34m.\u001b[0m\u001b[0m_iter_break_from_left_to_right\u001b[0m\u001b[0;34m(\u001b[0m\u001b[0;34m)\u001b[0m\u001b[0;34m:\u001b[0m\u001b[0;34m\u001b[0m\u001b[0;34m\u001b[0m\u001b[0m\n\u001b[1;32m   2331\u001b[0m             \u001b[0;32myield\u001b[0m \u001b[0mself\u001b[0m\u001b[0;34m.\u001b[0m\u001b[0m_a\u001b[0m \u001b[0;34m+\u001b[0m \u001b[0mleft\u001b[0m\u001b[0;34m,\u001b[0m \u001b[0mright\u001b[0m\u001b[0;34m\u001b[0m\u001b[0;34m\u001b[0m\u001b[0m\n",
      "\u001b[0;32m/mnt/f418adc0-4ff9-410c-93c9-d6d21a1e9c35/anaconda3/envs/sleap/lib/python3.6/site-packages/matplotlib/transforms.py\u001b[0m in \u001b[0;36m__add__\u001b[0;34m(self, other)\u001b[0m\n\u001b[1;32m   1273\u001b[0m         \"\"\"\n\u001b[1;32m   1274\u001b[0m         return (composite_transform_factory(self, other)\n\u001b[0;32m-> 1275\u001b[0;31m                 \u001b[0;32mif\u001b[0m \u001b[0misinstance\u001b[0m\u001b[0;34m(\u001b[0m\u001b[0mother\u001b[0m\u001b[0;34m,\u001b[0m \u001b[0mTransform\u001b[0m\u001b[0;34m)\u001b[0m \u001b[0;32melse\u001b[0m\u001b[0;34m\u001b[0m\u001b[0;34m\u001b[0m\u001b[0m\n\u001b[0m\u001b[1;32m   1276\u001b[0m                 NotImplemented)\n\u001b[1;32m   1277\u001b[0m \u001b[0;34m\u001b[0m\u001b[0m\n",
      "\u001b[0;32m/mnt/f418adc0-4ff9-410c-93c9-d6d21a1e9c35/anaconda3/envs/sleap/lib/python3.6/site-packages/matplotlib/transforms.py\u001b[0m in \u001b[0;36mcomposite_transform_factory\u001b[0;34m(a, b)\u001b[0m\n\u001b[1;32m   2455\u001b[0m     \u001b[0;32melif\u001b[0m \u001b[0misinstance\u001b[0m\u001b[0;34m(\u001b[0m\u001b[0ma\u001b[0m\u001b[0;34m,\u001b[0m \u001b[0mAffine2D\u001b[0m\u001b[0;34m)\u001b[0m \u001b[0;32mand\u001b[0m \u001b[0misinstance\u001b[0m\u001b[0;34m(\u001b[0m\u001b[0mb\u001b[0m\u001b[0;34m,\u001b[0m \u001b[0mAffine2D\u001b[0m\u001b[0;34m)\u001b[0m\u001b[0;34m:\u001b[0m\u001b[0;34m\u001b[0m\u001b[0;34m\u001b[0m\u001b[0m\n\u001b[1;32m   2456\u001b[0m         \u001b[0;32mreturn\u001b[0m \u001b[0mCompositeAffine2D\u001b[0m\u001b[0;34m(\u001b[0m\u001b[0ma\u001b[0m\u001b[0;34m,\u001b[0m \u001b[0mb\u001b[0m\u001b[0;34m)\u001b[0m\u001b[0;34m\u001b[0m\u001b[0;34m\u001b[0m\u001b[0m\n\u001b[0;32m-> 2457\u001b[0;31m     \u001b[0;32mreturn\u001b[0m \u001b[0mCompositeGenericTransform\u001b[0m\u001b[0;34m(\u001b[0m\u001b[0ma\u001b[0m\u001b[0;34m,\u001b[0m \u001b[0mb\u001b[0m\u001b[0;34m)\u001b[0m\u001b[0;34m\u001b[0m\u001b[0;34m\u001b[0m\u001b[0m\n\u001b[0m\u001b[1;32m   2458\u001b[0m \u001b[0;34m\u001b[0m\u001b[0m\n\u001b[1;32m   2459\u001b[0m \u001b[0;34m\u001b[0m\u001b[0m\n",
      "\u001b[0;32m/mnt/f418adc0-4ff9-410c-93c9-d6d21a1e9c35/anaconda3/envs/sleap/lib/python3.6/site-packages/matplotlib/transforms.py\u001b[0m in \u001b[0;36m__init__\u001b[0;34m(self, a, b, **kwargs)\u001b[0m\n\u001b[1;32m   2292\u001b[0m         \u001b[0mself\u001b[0m\u001b[0;34m.\u001b[0m\u001b[0m_a\u001b[0m \u001b[0;34m=\u001b[0m \u001b[0ma\u001b[0m\u001b[0;34m\u001b[0m\u001b[0;34m\u001b[0m\u001b[0m\n\u001b[1;32m   2293\u001b[0m         \u001b[0mself\u001b[0m\u001b[0;34m.\u001b[0m\u001b[0m_b\u001b[0m \u001b[0;34m=\u001b[0m \u001b[0mb\u001b[0m\u001b[0;34m\u001b[0m\u001b[0;34m\u001b[0m\u001b[0m\n\u001b[0;32m-> 2294\u001b[0;31m         \u001b[0mself\u001b[0m\u001b[0;34m.\u001b[0m\u001b[0mset_children\u001b[0m\u001b[0;34m(\u001b[0m\u001b[0ma\u001b[0m\u001b[0;34m,\u001b[0m \u001b[0mb\u001b[0m\u001b[0;34m)\u001b[0m\u001b[0;34m\u001b[0m\u001b[0;34m\u001b[0m\u001b[0m\n\u001b[0m\u001b[1;32m   2295\u001b[0m \u001b[0;34m\u001b[0m\u001b[0m\n\u001b[1;32m   2296\u001b[0m     \u001b[0;32mdef\u001b[0m \u001b[0mfrozen\u001b[0m\u001b[0;34m(\u001b[0m\u001b[0mself\u001b[0m\u001b[0;34m)\u001b[0m\u001b[0;34m:\u001b[0m\u001b[0;34m\u001b[0m\u001b[0;34m\u001b[0m\u001b[0m\n",
      "\u001b[0;32m/mnt/f418adc0-4ff9-410c-93c9-d6d21a1e9c35/anaconda3/envs/sleap/lib/python3.6/site-packages/matplotlib/transforms.py\u001b[0m in \u001b[0;36mset_children\u001b[0;34m(self, *children)\u001b[0m\n\u001b[1;32m    199\u001b[0m             ref = weakref.ref(\n\u001b[1;32m    200\u001b[0m                 self, lambda _, pop=child._parents.pop, k=id(self): pop(k))\n\u001b[0;32m--> 201\u001b[0;31m             \u001b[0mchild\u001b[0m\u001b[0;34m.\u001b[0m\u001b[0m_parents\u001b[0m\u001b[0;34m[\u001b[0m\u001b[0mid\u001b[0m\u001b[0;34m(\u001b[0m\u001b[0mself\u001b[0m\u001b[0;34m)\u001b[0m\u001b[0;34m]\u001b[0m \u001b[0;34m=\u001b[0m \u001b[0mref\u001b[0m\u001b[0;34m\u001b[0m\u001b[0;34m\u001b[0m\u001b[0m\n\u001b[0m\u001b[1;32m    202\u001b[0m \u001b[0;34m\u001b[0m\u001b[0m\n\u001b[1;32m    203\u001b[0m     \u001b[0;32mdef\u001b[0m \u001b[0mfrozen\u001b[0m\u001b[0;34m(\u001b[0m\u001b[0mself\u001b[0m\u001b[0;34m)\u001b[0m\u001b[0;34m:\u001b[0m\u001b[0;34m\u001b[0m\u001b[0;34m\u001b[0m\u001b[0m\n",
      "\u001b[0;31mKeyboardInterrupt\u001b[0m: "
     ]
    }
   ],
   "source": [
    "#######################################\n",
    "####### TIME SPENT TOGETHER PLOTS #####\n",
    "#######################################\n",
    "ethogram_social_huddling(pair_interaction_times,\n",
    "                         triples_interaction_time,\n",
    "                         quad_interaction_times)\n"
   ]
  },
  {
   "cell_type": "code",
   "execution_count": 8,
   "id": "2a336482",
   "metadata": {},
   "outputs": [
    {
     "name": "stderr",
     "output_type": "stream",
     "text": [
      "\r",
      "  0%|          | 0/2 [00:00<?, ?it/s]"
     ]
    },
    {
     "name": "stdout",
     "output_type": "stream",
     "text": [
      "(4, 4229429, 2)\n"
     ]
    },
    {
     "name": "stderr",
     "output_type": "stream",
     "text": [
      "100%|██████████| 2/2 [00:00<00:00,  5.51it/s]\n",
      "100%|██████████| 2/2 [00:00<00:00,  5.51it/s]\n",
      "100%|██████████| 2/2 [00:00<00:00,  5.51it/s]\n",
      "100%|██████████| 2/2 [00:00<00:00,  5.49it/s]\n"
     ]
    }
   ],
   "source": [
    "############################\n",
    "####### SMOOTH TRACES ######\n",
    "############################\n",
    "def smooth(y, box_pts):\n",
    "    box = np.ones(box_pts)/box_pts\n",
    "    y_smooth = np.convolve(y, box, mode='same')\n",
    "    return y_smooth\n",
    "\n",
    "from tqdm import trange\n",
    "\n",
    "box_width = 25\n",
    "print (locs.shape)\n",
    "locs_smooth = locs.copy()\n",
    "for k in range(locs.shape[0]):\n",
    "    for p in trange(locs.shape[2]):\n",
    "        locs_smooth[k,:,p] = smooth(locs_smooth[k,:,p],box_width)\n"
   ]
  },
  {
   "cell_type": "code",
   "execution_count": 9,
   "id": "e720e964",
   "metadata": {},
   "outputs": [
    {
     "name": "stderr",
     "output_type": "stream",
     "text": [
      "/mnt/f418adc0-4ff9-410c-93c9-d6d21a1e9c35/anaconda3/envs/sleap/lib/python3.6/site-packages/ipykernel_launcher.py:34: RuntimeWarning: invalid value encountered in less_equal\n"
     ]
    },
    {
     "name": "stdout",
     "output_type": "stream",
     "text": [
      "0 (3331470,)\n",
      "0 (12565, 2)\n",
      "1 (3230966,)\n",
      "1 (12399, 2)\n",
      "2 (1591152,)\n",
      "2 (19123, 2)\n",
      "3 (1377801,)\n",
      "3 (16620, 2)\n",
      "(4, 4229429)\n"
     ]
    }
   ],
   "source": [
    "##############################################################\n",
    "####### FIND MOVEMENT INITIATIONS AND WHO FOLLOWS WHO ########\n",
    "##############################################################\n",
    "        \n",
    "# compute velocities for each animal\n",
    "vel = []\n",
    "for k in range(locs_smooth.shape[0]):\n",
    "    temp = locs_smooth[k]\n",
    "    temp_vel = np.sqrt((temp[1:,0]-temp[:-1,0])**2+\n",
    "                       (temp[1:,1]-temp[:-1,1])**2)\n",
    "    vel.append(temp_vel)\n",
    "    \n",
    "vel = np.array(vel)\n",
    "\n",
    "\n",
    "clrs = ['red','blue','cyan','green','magenta', 'black']\n",
    "animal_names = ['female','male','pup1','pup2']\n",
    "\n",
    "# detect movement from any period of rest\n",
    "frame_rate = 25\n",
    "min_rest_period = 5 * frame_rate\n",
    "\n",
    "# walk vs. running thresholds\n",
    "rest_velocity = 3  #very slowly moving / stationary threshold\n",
    "                   # measured in pixels/frame movement; \n",
    "min_rest_duration = int(.25 * frame_rate)  # movement < n frames between rest will be discarded (i.e. counted as rest)\n",
    "run_velocity = 30\n",
    "\n",
    "# detect movement initiations from rest\n",
    "mov_initiations = np.zeros((4, locs.shape[1]),'float32')\n",
    "rest_array = []\n",
    "for k in range(4):\n",
    "    temp = vel[k]\n",
    "    idx = np.where(temp<=rest_velocity)[0]\n",
    "    print (k, idx.shape)\n",
    "    \n",
    "    # compute time differences for rest periods; search for periods > some duration to detect  rather than\n",
    "    # artifactual trace jitter\n",
    "    diff = idx[1:]-idx[:-1]\n",
    "    \n",
    "    rest_start = []\n",
    "    rest_end = []\n",
    "    rest_start.append(idx[0])\n",
    "    for p in range(1,idx.shape[0],1):\n",
    "        # check to see if moving to new rest state\n",
    "        if (idx[p]-idx[p-1])>min_rest_duration:\n",
    "            rest_end.append(idx[p-1])\n",
    "            rest_start.append(idx[p])\n",
    "    rest_end.append(idx[p])\n",
    "    \n",
    "    #\n",
    "    rests = np.zeros((len(rest_start),2),'int32')\n",
    "    rests[:,0] = rest_start\n",
    "    rests[:,1] = rest_end\n",
    "    rests = rests\n",
    "    print (k, rests.shape)\n",
    "    \n",
    "\n",
    "    rest_array.append(rests)\n",
    "    # connect all rests periods that are less than threshold apart:\n",
    "    mov_initiations[k,rests[:,1]] += 1\n",
    "    #for p in range(rests.shape[0]):\n",
    "    \n",
    "    # plot movement intiations as the end of rest periods:\n",
    "    #plt.scatter(rests[:,1],rests[:,1]*0+k, c=clrs[k])\n",
    "    \n",
    "print (mov_initiations.shape)\n",
    "#plt.show()\n",
    "\n",
    "# PROCESS MOVEMENTS\n",
    "fig = plt.figure()\n",
    "frame_rate = 25\n",
    "n_sec_window = 1\n",
    "\n",
    "# make matrix to hold 10 second window of time. \n",
    "matrix = np.zeros((4,4),'float32')  # no. of animals, x no. of \n",
    "# loop over all animals\n",
    "for k in range(len(rest_array)):\n",
    "    # loop over each rest period\n",
    "    for p in range(rest_array[k].shape[0]):\n",
    "        # loop over all other animals        \n",
    "        for a in range(4):\n",
    "            diffs = rest_array[k][p,1]-rest_array[a][:,1]\n",
    "            idx = np.where(diffs>=0)[0]\n",
    "            #\n",
    "            if idx.shape[0]>0:\n",
    "                diffs=diffs[idx]\n",
    "                # check \n",
    "                if np.min(diffs)<=(frame_rate*n_sec_window):\n",
    "                    matrix[k,a]+=1\n"
   ]
  },
  {
   "cell_type": "code",
   "execution_count": 11,
   "id": "ac9cb75e",
   "metadata": {},
   "outputs": [
    {
     "name": "stdout",
     "output_type": "stream",
     "text": [
      "[       nan 0.11372861 0.17341822 0.14293674]\n",
      "[0.11871925        nan 0.1696911  0.15081862]\n",
      "[0.1023375  0.10887413        nan 0.15212049]\n",
      "[0.10036101 0.10475331 0.18194945        nan]\n"
     ]
    }
   ],
   "source": [
    "################################################################# \n",
    "#################################################################\n",
    "#################################################################\n",
    "#\n",
    "for j in range(4):\n",
    "    matrix[j,j]=np.nan\n",
    "plt.imshow(matrix)\n",
    "plt.colorbar()\n",
    "\n",
    "x_ticks=['female','male','pup1','pup2']\n",
    "plt.xticks(np.arange(4),x_ticks)\n",
    "plt.yticks(np.arange(4),x_ticks)\n",
    "plt.ylabel(\"Leader\")\n",
    "plt.xlabel(\"Follower\")\n",
    "\n",
    "\n",
    "fig = plt.figure()\n",
    "for k in range(4):\n",
    "    print (matrix[k]/rest_array[k].shape[0])\n",
    "    plt.scatter(np.arange(4), \n",
    "                matrix[k]/rest_array[k].shape[0], \n",
    "                s=100,\n",
    "                c=clrs[k], label=animal_names[k])\n",
    "\n",
    "#x_ticks=['female','male','pup1','pup2']\n",
    "plt.xticks(np.arange(4),x_ticks)\n",
    "\n",
    "plt.legend(fontsize=20)\n",
    "plt.ylim(bottom=0)\n",
    "plt.title(\"Probability of following leader within \"+ \n",
    "          str(n_sec_window) + 'sec' , fontsize=20)\n",
    "plt.xlabel(\"Leader\",fontsize=20)\n",
    "plt.tick_params(labelsize=20)\n",
    "plt.ylabel(\"Probability (%)\", fontsize=20)\n",
    "plt.show()\n"
   ]
  },
  {
   "cell_type": "code",
   "execution_count": null,
   "id": "adfe15f3",
   "metadata": {},
   "outputs": [],
   "source": [
    "################################################################\n",
    "####### FIND PROBABILITIES OF CHASING WITHIN 10 SEC OF MOVING ##\n",
    "################################################################\n",
    "# make matrix to hold 10 second window of time. \n",
    "matrix = np.zeros((4,11,4),'float32')  # no. of animals, x no. of animals, x 10 sec\n",
    "# loop over all animals\n",
    "for k in range(len(rest_array)):\n",
    "    # loop over each rest period\n",
    "    for p in range(rest_array[k].shape[0]):\n",
    "        # loop over all other animals        \n",
    "        for a in range(4):\n",
    "            diffs = rest_array[k][p,1]-rest_array[a][:,1]\n",
    "            idx = np.where(diffs>=0)[0]\n",
    "            #\n",
    "            if idx.shape[0]>0:\n",
    "                diffs=diffs[idx]\n",
    "                \n",
    "                # check \n",
    "                #if np.min(diffs)<=(frame_rate*n_sec_window):\n",
    "                # add all the values\n",
    "                for q in range(0,11,1):\n",
    "                    idx3 = np.where(np.logical_and(diffs>=(q*frame_rate),\n",
    "                                                  diffs<((q+1)*frame_rate)))[0]\n",
    "                    matrix[k,q,a]+=idx3.shape[0]\n",
    "            \n",
    "#\n",
    "fig=plt.figure()\n",
    "ax=plt.subplot()\n",
    "fontsize=30\n",
    "#for animal in range(4):\n",
    "t=np.arange(11)+0.5\n",
    "for animal in range(1):\n",
    "    #ax=plt.subplot(4,1,animal+1)\n",
    "    for k in range(4):\n",
    "        if k==animal:\n",
    "            continue\n",
    "        plt.plot(t,matrix[animal,:,k]/rest_array[k].shape[0],\n",
    "                 linewidth=5,\n",
    "                label=animal_names[k] + \" follows \"+animal_names[animal])\n",
    "    plt.legend(fontsize=fontsize)\n",
    "    plt.xticks([])\n",
    "    plt.xlim(0,10)\n",
    "plt.xticks(np.arange(11))\n",
    "plt.tick_params(labelsize=fontsize)\n",
    "plt.ylim(bottom=0)\n",
    "ax.axvspan(0,1, ymin=0, ymax=1, alpha=0.1, color='black')\n",
    "\n",
    "plt.plot([0,10],[0.1, 0.1],'r--',linewidth=5, c='black')\n",
    "\n",
    "plt.xlabel(\"Time (sec)\", fontsize=fontsize)\n",
    "plt.title(\"Predicting chase behaviour\", fontsize=fontsize)\n",
    "plt.show()"
   ]
  },
  {
   "cell_type": "code",
   "execution_count": null,
   "id": "29ce2339",
   "metadata": {},
   "outputs": [],
   "source": []
  },
  {
   "cell_type": "code",
   "execution_count": null,
   "id": "6975399d",
   "metadata": {},
   "outputs": [],
   "source": []
  },
  {
   "cell_type": "code",
   "execution_count": null,
   "id": "3227b385",
   "metadata": {},
   "outputs": [],
   "source": []
  },
  {
   "cell_type": "code",
   "execution_count": null,
   "id": "7c5d202a",
   "metadata": {},
   "outputs": [],
   "source": []
  },
  {
   "cell_type": "code",
   "execution_count": null,
   "id": "74544031",
   "metadata": {},
   "outputs": [],
   "source": []
  },
  {
   "cell_type": "code",
   "execution_count": null,
   "id": "95125c02",
   "metadata": {},
   "outputs": [],
   "source": []
  },
  {
   "cell_type": "code",
   "execution_count": null,
   "id": "62c2697a",
   "metadata": {},
   "outputs": [],
   "source": []
  }
 ],
 "metadata": {
  "kernelspec": {
   "display_name": "Python 3",
   "language": "python",
   "name": "python3"
  },
  "language_info": {
   "codemirror_mode": {
    "name": "ipython",
    "version": 3
   },
   "file_extension": ".py",
   "mimetype": "text/x-python",
   "name": "python",
   "nbconvert_exporter": "python",
   "pygments_lexer": "ipython3",
   "version": "3.7.0"
  }
 },
 "nbformat": 4,
 "nbformat_minor": 5
}
