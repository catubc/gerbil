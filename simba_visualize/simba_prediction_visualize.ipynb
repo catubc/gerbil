{
 "cells": [
  {
   "cell_type": "code",
   "execution_count": 5,
   "id": "9522044b-e419-457c-acbe-3c8f56669c97",
   "metadata": {},
   "outputs": [
    {
     "name": "stdout",
     "output_type": "stream",
     "text": [
      "The autoreload extension is already loaded. To reload it, use:\n",
      "  %reload_ext autoreload\n"
     ]
    },
    {
     "data": {
      "application/javascript": [
       "IPython.notebook.set_autosave_interval(180000)"
      ]
     },
     "metadata": {},
     "output_type": "display_data"
    },
    {
     "name": "stdout",
     "output_type": "stream",
     "text": [
      "Autosaving every 180 seconds\n"
     ]
    }
   ],
   "source": [
    "%load_ext autoreload\n",
    "%autoreload 2\n",
    "\n",
    "import matplotlib\n",
    "import matplotlib.pyplot as plt\n",
    "#matplotlib.use('Agg')\n",
    "%matplotlib tk\n",
    "%autosave 180\n",
    "\n",
    "import sys\n",
    "sys.path.append('/home/cat/code/gerbil/utils/')\n",
    "\n",
    "#\n",
    "import os\n",
    "import numpy as np\n",
    "\n",
    "#\n",
    "import scipy\n",
    "\n",
    "#\n",
    "from visualize import Visualize\n",
    "from track import Track\n"
   ]
  },
  {
   "cell_type": "code",
   "execution_count": 35,
   "id": "3d5765ee-dea2-4a5c-8594-8f99159941ff",
   "metadata": {},
   "outputs": [
    {
     "name": "stdout",
     "output_type": "stream",
     "text": [
      "(28802,)\n"
     ]
    }
   ],
   "source": [
    "############\n",
    "fname = '/media/cat/256GB/dan/simba/2020_08_01_10_18_35_455807.npy'\n",
    "\n",
    "\n",
    "data = np.load(fname)\n",
    "print (data.shape)\n",
    "\n",
    "window_length = 123\n",
    "polyorder = 2\n",
    "thresh = 0.2\n",
    "\n",
    "plt.figure()\n",
    "\n",
    "data = scipy.signal.savgol_filter(data, window_length, polyorder)\n",
    "t = np.arange(data.shape[0])/25\n",
    "plt.plot(t, data)\n",
    "plt.xlabel(\"Time (sec)\")\n",
    "plt.ylabel(\"Approach likelihood\")\n",
    "\n",
    "\n",
    "plt.plot([t[0], t[-1]],\n",
    "         [thresh, thresh],\n",
    "         '--',\n",
    "         label='approach threshold'\n",
    "        )\n",
    "\n",
    "idx = np.where(data>thresh)[0]\n",
    "\n",
    "plt.scatter(t[idx],\n",
    "         np.zeros(idx.shape[0])+.5,\n",
    "        c='red',\n",
    "            label='detected approaches'\n",
    "        )\n",
    "\n",
    "plt.xlim(t[0],t[-1])\n",
    "plt.ylim(bottom=0)\n",
    "plt.suptitle(fname)\n",
    "plt.legend()\n",
    "plt.show()\n"
   ]
  },
  {
   "cell_type": "code",
   "execution_count": null,
   "id": "c8f67f49-09be-490e-ac0b-cf26d6a951b0",
   "metadata": {},
   "outputs": [],
   "source": []
  }
 ],
 "metadata": {
  "kernelspec": {
   "display_name": "Python 3",
   "language": "python",
   "name": "python3"
  },
  "language_info": {
   "codemirror_mode": {
    "name": "ipython",
    "version": 3
   },
   "file_extension": ".py",
   "mimetype": "text/x-python",
   "name": "python",
   "nbconvert_exporter": "python",
   "pygments_lexer": "ipython3",
   "version": "3.7.0"
  }
 },
 "nbformat": 4,
 "nbformat_minor": 5
}
