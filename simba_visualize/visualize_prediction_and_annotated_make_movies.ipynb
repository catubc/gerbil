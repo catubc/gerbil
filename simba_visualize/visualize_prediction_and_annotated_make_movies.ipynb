{
 "cells": [
  {
   "cell_type": "code",
   "execution_count": 1,
   "id": "9522044b-e419-457c-acbe-3c8f56669c97",
   "metadata": {},
   "outputs": [
    {
     "data": {
      "application/javascript": [
       "IPython.notebook.set_autosave_interval(180000)"
      ]
     },
     "metadata": {},
     "output_type": "display_data"
    },
    {
     "name": "stdout",
     "output_type": "stream",
     "text": [
      "Autosaving every 180 seconds\n"
     ]
    }
   ],
   "source": [
    "%load_ext autoreload\n",
    "%autoreload 2\n",
    "\n",
    "import matplotlib\n",
    "import matplotlib.pyplot as plt\n",
    "#matplotlib.use('Agg')\n",
    "%matplotlib tk\n",
    "%autosave 180\n",
    "\n",
    "import sys\n",
    "sys.path.append('/home/cat/code/gerbil/utils/')\n",
    "\n",
    "#\n",
    "import os\n",
    "import numpy as np\n",
    "\n",
    "#\n",
    "import scipy\n",
    "\n",
    "#\n",
    "from visualize import Visualize\n",
    "from track import Track\n",
    "from track import filter_trace\n"
   ]
  },
  {
   "cell_type": "code",
   "execution_count": 2,
   "id": "fd8db951-b3e2-43dd-a023-2e1c32cbeb17",
   "metadata": {},
   "outputs": [],
   "source": [
    "#####################################################\n",
    "#####################################################\n",
    "#####################################################\n",
    "\n",
    "def find_behaviors(track,\n",
    "                   threshold = 0.2,   # probability threshold\n",
    "                   duration = 1.0,     # duration in seconds\n",
    "                   fps = 25,\n",
    "                   threshold_abs = 0.02,\n",
    "                   ):\n",
    "    \n",
    "    ''' Function that searches for N frames in a row above some threshold\n",
    "    \n",
    "    '''\n",
    "\n",
    "    # smooth probabilities\n",
    "    fc = 1 # 1 hz filter applied\n",
    "    track = filter_trace(track,\n",
    "                           fc)\n",
    "\n",
    "\n",
    "\n",
    "    # find bouts    \n",
    "    idx = np.where(track>threshold)[0]\n",
    "    \n",
    "    # find bouts above threshold\n",
    "    bouts = []\n",
    "    start = None\n",
    "    if track[0]>threshold:\n",
    "        start = 0\n",
    "    #\n",
    "    for k in range(1,track.shape[0],1):\n",
    "\n",
    "        # within or starting a bout\n",
    "        if track[k]>=threshold:\n",
    "            if start == None:\n",
    "                start = k\n",
    "        # outside or exiting a bout\n",
    "        else:\n",
    "            if start!= None:  # i.e. within a bout laready\n",
    "                \n",
    "                if (k-start)>=(duration*fps):\n",
    "                    \n",
    "                    # go backwards in time until probability is < abs_min\n",
    "                    for p in range(k,start,-1):\n",
    "                        if track[p]<threshold_abs:\n",
    "                            start = p\n",
    "                            break\n",
    "                    \n",
    "                    bouts.append(np.arange(start,k,1))\n",
    "\n",
    "                #    \n",
    "                start = None\n",
    "    bouts = np.hstack(bouts)\n",
    "    \n",
    "\n",
    "    \n",
    "    behaviors = track.copy()*0 + np.nan\n",
    "    \n",
    "    behaviors[bouts] = 1\n",
    "    \n",
    "    return behaviors\n",
    "    \n",
    "    "
   ]
  },
  {
   "cell_type": "code",
   "execution_count": 6,
   "id": "aeb634e1-ffa6-4815-a9da-c98a767c5959",
   "metadata": {},
   "outputs": [
    {
     "name": "stdout",
     "output_type": "stream",
     "text": [
      "width, height:  900 700\n"
     ]
    },
    {
     "name": "stderr",
     "output_type": "stream",
     "text": [
      "100%|██████████| 28802/28802 [01:03<00:00, 455.33it/s]\n"
     ]
    }
   ],
   "source": [
    "#####################################################\n",
    "#####################################################\n",
    "#####################################################\n",
    "\n",
    "################## FIND APPROACH BEHAVIORS #################\n",
    "#fname = '/media/cat/256GB/dan/simba/simon_classifier/2020_07_20_10_38_20_043555.npy'\n",
    "fname = '/media/cat/256GB/dan/simba/2020_07_20_10_38_20_043555.npy'\n",
    "fname_video = fname.replace('.npy', '.mp4')\n",
    "fname_video_out_tag = 'annotated'\n",
    "\n",
    "# run track through behavior detection algorithm\n",
    "track = np.load(fname)\n",
    "threshold = 0.15\n",
    "duration = 0.25\n",
    "\n",
    "#\n",
    "behaviors = find_behaviors(track,\n",
    "                          threshold,\n",
    "                          duration)\n",
    "\n",
    "\n",
    "################### MAKE VIDEO WITH ANNOTATIONS ################\n",
    "v = Visualize()\n",
    "\n",
    "# time to tag\n",
    "start = 0           # video start\n",
    "end = None         # video end\n",
    "scale = 4           # downsample video for faster processing\n",
    "\n",
    "#\n",
    "tag_loc = [600,100]\n",
    "\n",
    "#\n",
    "v.make_annotated_video_single_track(behaviors,\n",
    "                                    fname_video,\n",
    "                                    fname_video_out_tag,\n",
    "                                    tag_loc,\n",
    "                                    start,\n",
    "                                    end,\n",
    "                                    scale)\n",
    "\n",
    "#"
   ]
  },
  {
   "cell_type": "code",
   "execution_count": 7,
   "id": "b54e3495-9f3a-49d4-b286-147638f7e88f",
   "metadata": {},
   "outputs": [
    {
     "name": "stdout",
     "output_type": "stream",
     "text": [
      "(28802,)\n"
     ]
    }
   ],
   "source": [
    "############\n",
    "\n",
    "data = np.load(fname)\n",
    "print (data.shape)\n",
    "\n",
    "#\n",
    "thresh = 0.15\n",
    "\n",
    "#\n",
    "fc = 1 # 1 hz filter applied\n",
    "data = filter_trace(data,\n",
    "                   fc)\n",
    "\n",
    "#\n",
    "t = np.arange(data.shape[0])/25\n",
    "\n",
    "#\n",
    "plt.figure()\n",
    "plt.plot(t, data)\n",
    "plt.xlabel(\"Time (sec)\")\n",
    "plt.ylabel(\"Approach likelihood\")\n",
    "\n",
    "plt.plot([t[0], t[-1]],\n",
    "         [thresh, thresh],\n",
    "         '--',\n",
    "         label='approach threshold'\n",
    "        )\n",
    "\n",
    "idx = np.where(data>thresh)[0]\n",
    "\n",
    "plt.scatter(t[idx],\n",
    "         np.zeros(idx.shape[0])+.5,\n",
    "        c='red',\n",
    "            label='detected approaches'\n",
    "        )\n",
    "\n",
    "plt.xlim(t[0],t[-1])\n",
    "plt.ylim(bottom=0)\n",
    "plt.suptitle(fname)\n",
    "plt.legend()\n",
    "plt.show()"
   ]
  },
  {
   "cell_type": "code",
   "execution_count": null,
   "id": "7949d0ef-3e77-4d75-9b7e-82e9b307e277",
   "metadata": {},
   "outputs": [],
   "source": []
  },
  {
   "cell_type": "code",
   "execution_count": null,
   "id": "d482cd9c-60ed-4969-a53d-9cce44639632",
   "metadata": {},
   "outputs": [],
   "source": []
  },
  {
   "cell_type": "code",
   "execution_count": null,
   "id": "b5ef394b-f302-40d2-a386-89460996a937",
   "metadata": {},
   "outputs": [],
   "source": []
  },
  {
   "cell_type": "code",
   "execution_count": null,
   "id": "83f5baf1-d427-41fb-8a3e-85335ab3176a",
   "metadata": {},
   "outputs": [],
   "source": []
  },
  {
   "cell_type": "code",
   "execution_count": null,
   "id": "c8f67f49-09be-490e-ac0b-cf26d6a951b0",
   "metadata": {},
   "outputs": [],
   "source": []
  }
 ],
 "metadata": {
  "kernelspec": {
   "display_name": "Python 3 (ipykernel)",
   "language": "python",
   "name": "python3"
  },
  "language_info": {
   "codemirror_mode": {
    "name": "ipython",
    "version": 3
   },
   "file_extension": ".py",
   "mimetype": "text/x-python",
   "name": "python",
   "nbconvert_exporter": "python",
   "pygments_lexer": "ipython3",
   "version": "3.7.12"
  }
 },
 "nbformat": 4,
 "nbformat_minor": 5
}
