{
 "cells": [
  {
   "cell_type": "code",
   "execution_count": 1,
   "metadata": {},
   "outputs": [
    {
     "name": "stderr",
     "output_type": "stream",
     "text": [
      "/home/cat/miniconda3/lib/python3.11/site-packages/tqdm/auto.py:21: TqdmWarning: IProgress not found. Please update jupyter and ipywidgets. See https://ipywidgets.readthedocs.io/en/stable/user_install.html\n",
      "  from .autonotebook import tqdm as notebook_tqdm\n"
     ]
    }
   ],
   "source": [
    "%matplotlib tk\n",
    "%load_ext autoreload\n",
    "%autoreload 2\n",
    "#\n",
    "import matplotlib.pyplot as plt\n",
    "\n",
    "#\n",
    "from utils import GerbilPCA\n",
    "import glob\n",
    "import numpy as np"
   ]
  },
  {
   "cell_type": "code",
   "execution_count": 2,
   "metadata": {},
   "outputs": [],
   "source": [
    "root_dir = '/home/cat/code/gerbil/meta_data/fig3/'\n",
    "\n",
    "# # use glob to load all  *.npy files from the root_dir\n",
    "# files = glob.glob(root_dir + '*.npy')\n",
    "\n",
    "# print (\"# files: \", len(files))\n",
    "\n",
    "# # make a list of behaviors using files by removing the '.npy' extension\n",
    "# behaviors = []\n",
    "# for file in files:\n",
    "#     behaviors.append(file.split('/')[-1][:-4])\n",
    "\n",
    "# print (\"behaviors: \", np.vstack(behaviors).shape)"
   ]
  },
  {
   "cell_type": "code",
   "execution_count": 57,
   "metadata": {},
   "outputs": [],
   "source": [
    "behaviors = [\n",
    "\n",
    "#################################\n",
    "####### EXPLORATION TIME ########\n",
    "#################################\n",
    "'adult_female_exploration',\n",
    "'adult_male_exploration',\n",
    "# 'pup_female_exploration',\n",
    "# 'pup_male_exploration',\n",
    "\n",
    "#################################\n",
    "### DISTANCE TRAVELLED ##########\n",
    "#################################\n",
    "# 'adult_female_distance',\n",
    "# 'adult_male_distance',\n",
    "#  'pup_female_distance',\n",
    "#  'pup_male_distance',\n",
    "\n",
    "\n",
    "#################################\n",
    "######## FOOD PROXIMITY #########\n",
    "#################################\n",
    "# 'adult_female_food',\n",
    "# 'adult_male_food',\n",
    "# 'pup_female_food',\n",
    "# 'pup_male_food',\n",
    "\n",
    "#################################\n",
    "####### WATER PROXIMITY #########\n",
    "#################################\n",
    "# 'adult_female_water',\n",
    "# 'adult_male_water',\n",
    "# 'pup_female_water',\n",
    "# 'pup_male_water',\n",
    "\n",
    "#################################\n",
    "########## NEST EXITS ###########\n",
    "#################################\n",
    "\n",
    "# # SEQUENCES OF EXITS\n",
    "# 'adult_female_exits',\n",
    "# 'adult_male_exits',\n",
    "# 'pup_female_exits',\n",
    "#  'pup_male_exits',\n",
    " \n",
    "#################################\n",
    "######### HUDDLING TIME #########\n",
    "#################################\n",
    "\n",
    "# # # HUDDLING TIME  - INVERSE OF EXPLORATION TIME <- NO NEED TO SHOW BOTH\n",
    "# 'adult_female_huddling',\n",
    "# 'adult_male_huddling',\n",
    "# 'pup_female_huddling',\n",
    "# 'pup_male_huddling',\n",
    "\n",
    "#################################\n",
    "#### PAIRWISE TIME TOGETHER #####\n",
    "#################################\n",
    "#  'femaleadult_femalepup_pairwise',\n",
    "#  'femaleadult_malepup_pairwise',\n",
    "\n",
    "# 'maleadult_femalepup_pairwise',\n",
    "# 'maleadult_malepup_pairwise',\n",
    "\n",
    "#'malepup_malepup_pairwise',\n",
    "# 'femalepup_femalepup_pairwise',\n",
    "# 'femalepup_malepup_pairwise',\n",
    "\n",
    "#################################\n",
    "########## APPROACHES ###########\n",
    "#################################\n",
    "\n",
    "# # ADULT - ADULT approaches\n",
    "# 'femaleadult_to_maleadult_approaches',\n",
    "# 'maleadult_to_femaleadult_approaches',\n",
    "\n",
    "# PUP - PUP approaches\n",
    "#'femalepup_to_femalepup_approaches',\n",
    "#'femalepup_to_malepup_approaches',\n",
    "#'malepup_to_femalepup_approaches',\n",
    "#'malepup_to_malepup_approaches',\n",
    "\n",
    "# # ADULT FEMALE - PUP approaches\n",
    "#'femaleadult_to_femalepup_approaches',\n",
    "# 'femaleadult_to_malepup_approaches',\n",
    "# 'malepup_to_femaleadult_approaches',\n",
    "#'femalepup_to_femaleadult_approaches',\n",
    "\n",
    "# # ADULT MALE - PUP approaches\n",
    "#'maleadult_to_femalepup_approaches',\n",
    "#'maleadult_to_malepup_approaches',\n",
    "#'malepup_to_maleadult_approaches',\n",
    "# 'femalepup_to_maleadult_approaches',\n",
    "\n",
    "]\n",
    "\n"
   ]
  },
  {
   "cell_type": "code",
   "execution_count": 58,
   "metadata": {},
   "outputs": [
    {
     "name": "stdout",
     "output_type": "stream",
     "text": [
      "behavior:  adult_female_exploration (3, 14)\n",
      "behavior:  adult_male_exploration (3, 14)\n"
     ]
    },
    {
     "name": "stderr",
     "output_type": "stream",
     "text": [
      "  0%|          | 0/2 [00:00<?, ?it/s]"
     ]
    },
    {
     "name": "stderr",
     "output_type": "stream",
     "text": [
      "100%|██████████| 2/2 [00:00<00:00, 1017.29it/s]"
     ]
    },
    {
     "name": "stdout",
     "output_type": "stream",
     "text": [
      "s:  (3, 14)\n",
      "mean:  6.03647156084656  std:  0.9026350940660829\n",
      "s:  (3, 14)\n",
      "mean:  4.6876256613756615  std:  0.8333062979573549\n",
      "auc_f mean:  78.6699537037037  ,std:  5.046261563336128\n",
      "auc_m mean:  61.29050925925926  ,std:  1.4408277831818639\n",
      "ks test:  1.00e-01\n",
      "ttest:  9.42e-03\n",
      "anova:  9.42e-03\n"
     ]
    },
    {
     "name": "stderr",
     "output_type": "stream",
     "text": [
      "\n"
     ]
    }
   ],
   "source": [
    "#\n",
    "g = GerbilPCA(root_dir, \n",
    "              behaviors)\n",
    "\n",
    "#\n",
    "g.smooth = False\n",
    "g.smooth_window = 5\n",
    "g.smooth_order = 2\n",
    "g.standardize = True\n",
    "g.n_dimensions = 2\n",
    "g.scatter_size = 600\n",
    "\n",
    "#\n",
    "g.load_data()\n",
    "\n",
    "#\n",
    "g.n_samples_kde = 1000\n",
    "g.sliding_window_size = 2\n",
    "g.dist_method = '2sample_ks_test'  # options: t_test, 2sample_ks_test\n",
    "g.pval_thresh = 0.01\n",
    "g.show_plots = True\n",
    "g.smooth_pval = True\n",
    "g.size=500\n",
    "g.interpolate_first_value = False\n",
    "g.get_rapid_dev_plots()\n",
    "\n",
    "# visualize averages\n",
    "g.plot_mean_behavior()\n",
    "\n",
    "# compute areas under curve for pairs\n",
    "g.get_area_under_curve()\n",
    "# get exponential notatoin two signifcant figures for g.ks_[1]\n",
    "\n"
   ]
  },
  {
   "cell_type": "code",
   "execution_count": 62,
   "metadata": {},
   "outputs": [
    {
     "name": "stdout",
     "output_type": "stream",
     "text": [
      "adult females:  (3, 14) , adult males:  (3, 14)\n",
      "ks test:  KstestResult(statistic=0.4188095238095238, pvalue=4.055053786486966e-07, statistic_location=0.151944444444446, statistic_sign=-1)\n",
      "ttest:  TtestResult(statistic=9.553659455437224, pvalue=5.507882132837428e-12, df=41)\n"
     ]
    },
    {
     "name": "stderr",
     "output_type": "stream",
     "text": [
      "/home/cat/code/gerbil/paper_code/utils.py:520: UserWarning: color is redundantly defined by the 'color' keyword argument and the fmt string \"k--\" (-> color='k'). The keyword argument will take precedence.\n",
      "  bins = np.linspace(ymin, ymax, n_bins)\n",
      "/home/cat/code/gerbil/paper_code/utils.py:546: UserWarning: color is redundantly defined by the 'color' keyword argument and the fmt string \"k--\" (-> color='k'). The keyword argument will take precedence.\n",
      "  # show ks test result as title\n"
     ]
    }
   ],
   "source": [
    "# compute areas under the curve for each animal\n",
    "# g.get_area_under_curve()\n",
    "\n",
    "# compute intra-cohort diffs\n",
    "if 'adult' in behaviors[0] and 'pup' not in behaviors[0]:\n",
    "    g.intra_cohort_stats_adults()\n",
    "else:\n",
    "    g.intra_cohort_stats_pups()\n"
   ]
  },
  {
   "cell_type": "code",
   "execution_count": 15,
   "metadata": {},
   "outputs": [
    {
     "name": "stdout",
     "output_type": "stream",
     "text": [
      "2\n",
      "(9, 14)\n",
      "(3, 14)\n",
      "c1_females:  (2, 14)\n",
      "c2_females:  (3, 14)\n",
      "idx_fem:  [0. 0. 1. 1. 1. 2. 2. 2. 2.]\n",
      "idx male:  [0. 0. 1.]\n",
      "c1 male average over dev:  (14,)\n",
      "c2 male average over dev:  (14,)\n",
      "(5, 14)\n",
      "ks test:  KstestResult(statistic=0.44285714285714284, pvalue=0.2503177111126175, statistic_location=0.3306944444444446, statistic_sign=1)\n",
      "ttest:  TtestResult(statistic=2.748893780370343, pvalue=0.007626025181799955, df=69)\n"
     ]
    }
   ],
   "source": [
    "# Here we have to subtract the female from the male pup by matching across cohort (not as strivial as adults)\n",
    "g.intra_cohort_stats_pups()"
   ]
  },
  {
   "cell_type": "code",
   "execution_count": 24,
   "metadata": {},
   "outputs": [
    {
     "name": "stdout",
     "output_type": "stream",
     "text": [
      "self.stack:  2\n"
     ]
    }
   ],
   "source": [
    "#\n",
    "g.show_convex_hull = True\n",
    "g.remove_outlier_point= False\n",
    "g.show_cohorts = False\n",
    "g.run_pca()"
   ]
  },
  {
   "cell_type": "code",
   "execution_count": 25,
   "metadata": {},
   "outputs": [],
   "source": [
    "#\n",
    "g.find_overlaps()\n",
    "\n"
   ]
  },
  {
   "cell_type": "code",
   "execution_count": 77,
   "metadata": {},
   "outputs": [],
   "source": [
    "import os\n",
    "\n",
    "#\n",
    "root_dir = '/home/cat/code/gerbil/meta_data/fig3/'\n",
    "\n",
    "# save cohort sex for pups\n",
    "c1 = np.zeros(4)\n",
    "c1[0]=1\n",
    "c1[3]=1\n",
    "\n",
    "np.save(os.path.join(root_dir,\n",
    "                     \"c1_pup_sex.npy\"),c1)\n",
    "#\n",
    "c2 = np.zeros(4)\n",
    "c2[2]=1\n",
    "\n",
    "np.save(os.path.join(root_dir,\n",
    "                     \"c2_pup_sex.npy\"),c2)\n",
    "\n",
    "#\n",
    "c3 = np.zeros(4)\n",
    "\n",
    "np.save(os.path.join(root_dir,\n",
    "                     \"c3_pup_sex.npy\"),c3)\n",
    "\n",
    "# indicate the cohort for each female pup\n",
    "cf = np.zeros(9)\n",
    "cf[:2] = 0\n",
    "cf[2:5] = 1\n",
    "cf[5:] = 2\n",
    "\n",
    "np.save(os.path.join(root_dir,\n",
    "                     \"female_pup_cohort_ids.npy\"),cf)\n",
    "\n",
    "# same for male pups\n",
    "cm = np.zeros(3)\n",
    "cm[:2] = 0\n",
    "cm[2:] = 1\n",
    "\n",
    "np.save(os.path.join(root_dir,\n",
    "                     \"male_pup_cohort_ids.npy\"),cm)\n",
    "\n"
   ]
  },
  {
   "cell_type": "code",
   "execution_count": 21,
   "metadata": {},
   "outputs": [
    {
     "name": "stdout",
     "output_type": "stream",
     "text": [
      "(3, 14, 24)\n",
      "(3, 14)\n"
     ]
    }
   ],
   "source": [
    "fname = '/home/cat/code/gerbil/meta_data/fig3/maleadult_malepup_pairwise.npy'\n",
    "d = np.load(fname)\n",
    "\n",
    "print (d.shape)\n",
    "d = np.mean(d, axis=2)\n",
    "print (d.shape)\n",
    "np.save(fname, d)"
   ]
  },
  {
   "cell_type": "code",
   "execution_count": null,
   "metadata": {},
   "outputs": [],
   "source": []
  },
  {
   "cell_type": "code",
   "execution_count": null,
   "metadata": {},
   "outputs": [],
   "source": []
  },
  {
   "cell_type": "code",
   "execution_count": 31,
   "metadata": {},
   "outputs": [],
   "source": [
    "#\n",
    "#g.run_umap()"
   ]
  },
  {
   "cell_type": "code",
   "execution_count": 10,
   "metadata": {},
   "outputs": [
    {
     "name": "stdout",
     "output_type": "stream",
     "text": [
      "(1, 14)\n"
     ]
    }
   ],
   "source": [
    "\n",
    "d = np.load('/home/cat/code/gerbil/meta_data/fig3/malepup_malepup_pairwise.npy')\n",
    "\n",
    "print (d.shape)\n",
    "\n",
    "#np.save('/home/cat/code/gerbil/meta_data/fig3/malepup_malepup_pairwise.npy', d)\n"
   ]
  },
  {
   "cell_type": "code",
   "execution_count": null,
   "metadata": {},
   "outputs": [],
   "source": []
  },
  {
   "cell_type": "code",
   "execution_count": 26,
   "metadata": {},
   "outputs": [
    {
     "name": "stdout",
     "output_type": "stream",
     "text": [
      "(48, 14)\n",
      "(48, 2)\n"
     ]
    }
   ],
   "source": [
    "g.n_dimensions = 2\n",
    "g.fit_gmm_pca()\n",
    "\n"
   ]
  },
  {
   "cell_type": "code",
   "execution_count": 27,
   "metadata": {},
   "outputs": [
    {
     "name": "stdout",
     "output_type": "stream",
     "text": [
      "(48, 2)\n"
     ]
    }
   ],
   "source": [
    "#\n"
   ]
  },
  {
   "cell_type": "code",
   "execution_count": 151,
   "metadata": {},
   "outputs": [
    {
     "name": "stdout",
     "output_type": "stream",
     "text": [
      "(50, 3)\n"
     ]
    }
   ],
   "source": [
    "import numpy as np\n",
    "import matplotlib.pyplot as plt\n",
    "from scipy.spatial import ConvexHull\n",
    "from mpl_toolkits.mplot3d.art3d import Poly3DCollection\n",
    "\n",
    "# Step 1: Generate or load your 3D data (replace this with your actual data)\n",
    "np.random.seed(0)\n",
    "data = np.random.rand(50, 3)  # 50 points in 3D\n",
    "\n",
    "# Step 2: Compute the convex hull\n",
    "hull = ConvexHull(data)\n",
    "vertices = data[hull.vertices]  # Vertices of the convex hull\n",
    "\n",
    "# get the ids of the vertices\n",
    "# make a larger vertices array and fill in the missing vertices with zeros\n",
    "vertices = np.zeros((data.shape[0],3))\n",
    "vertices[hull.vertices] = data[hull.vertices]\n",
    "\n",
    "print (vertices.shape)\n",
    "\n",
    "#\n",
    "\n",
    "# Step 3: Extract the valid edges and vertices from the convex hull\n",
    "edges = []\n",
    "for simplex in hull.simplices:\n",
    "    n_bad = 0\n",
    "    for v in simplex:\n",
    "        #print (v)\n",
    "        if v < 0 or v >= len(data):\n",
    "            n_bad += 1\n",
    "\n",
    "    if n_bad == 0:\n",
    "        edges.append(simplex)\n",
    "\n",
    "# Step 4: Create the 3D plot\n",
    "fig = plt.figure()\n",
    "ax = fig.add_subplot(111, projection='3d')\n",
    "\n",
    "# Step 5: Create a Poly3DCollection for the 3D polygon\n",
    "poly3d = [[vertices[edge[0]], vertices[edge[1]], vertices[edge[2]]] for edge in edges]\n",
    "\n",
    "ax.add_collection3d(Poly3DCollection(poly3d, \n",
    "                                     facecolors='black', \n",
    "                                     linewidths=1, \n",
    "                                     edgecolors='black', \n",
    "                                     alpha=0.25))\n",
    "\n",
    "# Step 6: Set axis labels and display the plot\n",
    "ax.set_xlabel('X-axis')\n",
    "ax.set_ylabel('Y-axis')\n",
    "ax.set_zlabel('Z-axis')\n",
    "\n",
    "plt.show()\n"
   ]
  },
  {
   "cell_type": "code",
   "execution_count": 254,
   "metadata": {},
   "outputs": [
    {
     "ename": "AttributeError",
     "evalue": "module 'vedo.shapes' has no attribute 'Poly'",
     "output_type": "error",
     "traceback": [
      "\u001b[0;31m---------------------------------------------------------------------------\u001b[0m",
      "\u001b[0;31mAttributeError\u001b[0m                            Traceback (most recent call last)",
      "\u001b[1;32m/home/cat/code/gerbil/explore_pca.ipynb Cell 11\u001b[0m line \u001b[0;36m4\n\u001b[1;32m     <a href='vscode-notebook-cell:/home/cat/code/gerbil/explore_pca.ipynb#X22sZmlsZQ%3D%3D?line=37'>38</a>\u001b[0m faces2 \u001b[39m=\u001b[39m [\n\u001b[1;32m     <a href='vscode-notebook-cell:/home/cat/code/gerbil/explore_pca.ipynb#X22sZmlsZQ%3D%3D?line=38'>39</a>\u001b[0m     [\u001b[39m0\u001b[39m, \u001b[39m1\u001b[39m, \u001b[39m2\u001b[39m, \u001b[39m3\u001b[39m],  \u001b[39m# Bottom face\u001b[39;00m\n\u001b[1;32m     <a href='vscode-notebook-cell:/home/cat/code/gerbil/explore_pca.ipynb#X22sZmlsZQ%3D%3D?line=39'>40</a>\u001b[0m     [\u001b[39m4\u001b[39m, \u001b[39m5\u001b[39m, \u001b[39m6\u001b[39m, \u001b[39m7\u001b[39m],  \u001b[39m# Top face\u001b[39;00m\n\u001b[0;32m   (...)\u001b[0m\n\u001b[1;32m     <a href='vscode-notebook-cell:/home/cat/code/gerbil/explore_pca.ipynb#X22sZmlsZQ%3D%3D?line=43'>44</a>\u001b[0m     [\u001b[39m3\u001b[39m, \u001b[39m0\u001b[39m, \u001b[39m4\u001b[39m, \u001b[39m7\u001b[39m]   \u001b[39m# Side 4\u001b[39;00m\n\u001b[1;32m     <a href='vscode-notebook-cell:/home/cat/code/gerbil/explore_pca.ipynb#X22sZmlsZQ%3D%3D?line=44'>45</a>\u001b[0m ]\n\u001b[1;32m     <a href='vscode-notebook-cell:/home/cat/code/gerbil/explore_pca.ipynb#X22sZmlsZQ%3D%3D?line=46'>47</a>\u001b[0m \u001b[39m# Create the two polyhedron objects\u001b[39;00m\n\u001b[0;32m---> <a href='vscode-notebook-cell:/home/cat/code/gerbil/explore_pca.ipynb#X22sZmlsZQ%3D%3D?line=47'>48</a>\u001b[0m polyhedron1 \u001b[39m=\u001b[39m vedo\u001b[39m.\u001b[39;49mshapes\u001b[39m.\u001b[39;49mPoly(vertices1, faces1)\n\u001b[1;32m     <a href='vscode-notebook-cell:/home/cat/code/gerbil/explore_pca.ipynb#X22sZmlsZQ%3D%3D?line=48'>49</a>\u001b[0m polyhedron2 \u001b[39m=\u001b[39m vedo\u001b[39m.\u001b[39mshapes\u001b[39m.\u001b[39mPoly(vertices2, faces2)\n\u001b[1;32m     <a href='vscode-notebook-cell:/home/cat/code/gerbil/explore_pca.ipynb#X22sZmlsZQ%3D%3D?line=50'>51</a>\u001b[0m \u001b[39m# Compute the intersection between the two polyhedrons\u001b[39;00m\n",
      "\u001b[0;31mAttributeError\u001b[0m: module 'vedo.shapes' has no attribute 'Poly'"
     ]
    }
   ],
   "source": [
    "import vedo\n",
    "\n",
    "# Define the vertices of the first polyhedron\n",
    "vertices1 = [\n",
    "    [0, 0, 0],\n",
    "    [1, 0, 0],\n",
    "    [1, 1, 0],\n",
    "    [0, 1, 0],\n",
    "    [0, 0, 1],\n",
    "    [1, 0, 1],\n",
    "    [1, 1, 1],\n",
    "    [0, 1, 1]\n",
    "]\n",
    "\n",
    "# Define the faces for the first polyhedron\n",
    "faces1 = [\n",
    "    [0, 1, 2, 3],  # Bottom face\n",
    "    [4, 5, 6, 7],  # Top face\n",
    "    [0, 1, 5, 4],  # Side 1\n",
    "    [1, 2, 6, 5],  # Side 2\n",
    "    [2, 3, 7, 6],  # Side 3\n",
    "    [3, 0, 4, 7]   # Side 4\n",
    "]\n",
    "\n",
    "# Define the vertices of the second polyhedron\n",
    "vertices2 = [\n",
    "    [0.5, 0.5, 0],\n",
    "    [1.5, 0.5, 0],\n",
    "    [1.5, 1.5, 0],\n",
    "    [0.5, 1.5, 0],\n",
    "    [0.5, 0.5, 1],\n",
    "    [1.5, 0.5, 1],\n",
    "    [1.5, 1.5, 1],\n",
    "    [0.5, 1.5, 1]\n",
    "]\n",
    "\n",
    "# Define the faces for the second polyhedron\n",
    "faces2 = [\n",
    "    [0, 1, 2, 3],  # Bottom face\n",
    "    [4, 5, 6, 7],  # Top face\n",
    "    [0, 1, 5, 4],  # Side 1\n",
    "    [1, 2, 6, 5],  # Side 2\n",
    "    [2, 3, 7, 6],  # Side 3\n",
    "    [3, 0, 4, 7]   # Side 4\n",
    "]\n",
    "\n",
    "# Create the two polyhedron objects\n",
    "polyhedron1 = vedo.shapes.Poly(vertices1, faces1)\n",
    "polyhedron2 = vedo.shapes.Poly(vertices2, faces2)\n",
    "\n",
    "# Compute the intersection between the two polyhedrons\n",
    "intersection = polyhedron1.intersectWith(polyhedron2)\n",
    "\n",
    "# Visualize the intersection\n",
    "show(intersection)\n"
   ]
  },
  {
   "cell_type": "code",
   "execution_count": null,
   "metadata": {},
   "outputs": [],
   "source": []
  }
 ],
 "metadata": {
  "kernelspec": {
   "display_name": "base",
   "language": "python",
   "name": "python3"
  },
  "language_info": {
   "codemirror_mode": {
    "name": "ipython",
    "version": 3
   },
   "file_extension": ".py",
   "mimetype": "text/x-python",
   "name": "python",
   "nbconvert_exporter": "python",
   "pygments_lexer": "ipython3",
   "version": "3.11.4"
  },
  "orig_nbformat": 4
 },
 "nbformat": 4,
 "nbformat_minor": 2
}
