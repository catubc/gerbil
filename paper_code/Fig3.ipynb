{
 "cells": [
  {
   "cell_type": "code",
   "execution_count": 1,
   "metadata": {},
   "outputs": [
    {
     "name": "stderr",
     "output_type": "stream",
     "text": [
      "/home/cat/miniconda3/lib/python3.11/site-packages/tqdm/auto.py:21: TqdmWarning: IProgress not found. Please update jupyter and ipywidgets. See https://ipywidgets.readthedocs.io/en/stable/user_install.html\n",
      "  from .autonotebook import tqdm as notebook_tqdm\n"
     ]
    }
   ],
   "source": [
    "%matplotlib tk\n",
    "%load_ext autoreload\n",
    "%autoreload 2\n",
    "#\n",
    "import matplotlib.pyplot as plt\n",
    "\n",
    "#\n",
    "from utils import GerbilPCA\n",
    "import glob\n",
    "import numpy as np"
   ]
  },
  {
   "cell_type": "code",
   "execution_count": 2,
   "metadata": {},
   "outputs": [],
   "source": [
    "root_dir = '/home/cat/code/gerbil/meta_data/fig3/'\n",
    "\n",
    "# # use glob to load all  *.npy files from the root_dir\n",
    "# files = glob.glob(root_dir + '*.npy')\n",
    "\n",
    "# print (\"# files: \", len(files))\n",
    "\n",
    "# # make a list of behaviors using files by removing the '.npy' extension\n",
    "# behaviors = []\n",
    "# for file in files:\n",
    "#     behaviors.append(file.split('/')[-1][:-4])\n",
    "\n",
    "# print (\"behaviors: \", np.vstack(behaviors).shape)"
   ]
  },
  {
   "cell_type": "code",
   "execution_count": 45,
   "metadata": {},
   "outputs": [],
   "source": [
    "behaviors = [\n",
    "\n",
    "#################################\n",
    "####### EXPLORATION TIME ########\n",
    "#################################\n",
    "# 'adult_female_exploration',\n",
    "# 'adult_male_exploration',\n",
    "# 'pup_female_exploration',\n",
    "# 'pup_male_exploration',\n",
    "\n",
    "#################################\n",
    "### DISTANCE TRAVELLED ##########\n",
    "#################################\n",
    "# 'adult_female_distance',\n",
    "# 'adult_male_distance',\n",
    "#  'pup_female_distance',\n",
    "#  'pup_male_distance',\n",
    "\n",
    "\n",
    "#################################\n",
    "######## FOOD PROXIMITY #########\n",
    "#################################\n",
    "# 'adult_female_food',\n",
    "# 'adult_male_food',\n",
    "# 'pup_female_food',\n",
    "# 'pup_male_food',\n",
    "\n",
    "#################################\n",
    "####### WATER PROXIMITY #########\n",
    "#################################\n",
    "# 'adult_female_water',\n",
    "# 'adult_male_water',\n",
    "# 'pup_female_water',\n",
    "# 'pup_male_water',\n",
    "\n",
    "#################################\n",
    "########## NEST EXITS ###########\n",
    "#################################\n",
    "\n",
    "# # SEQUENCES OF EXITS\n",
    "# 'adult_female_exits',\n",
    "# 'adult_male_exits',\n",
    "# 'pup_female_exits',\n",
    "#  'pup_male_exits',\n",
    " \n",
    "#################################\n",
    "######### HUDDLING TIME #########\n",
    "#################################\n",
    "\n",
    "# # # HUDDLING TIME  - INVERSE OF EXPLORATION TIME <- NO NEED TO SHOW BOTH\n",
    "# 'adult_female_huddling',\n",
    "# 'adult_male_huddling',\n",
    "# 'pup_female_huddling',\n",
    "# 'pup_male_huddling',\n",
    "\n",
    "#################################\n",
    "#### PAIRWISE TIME TOGETHER #####\n",
    "#################################\n",
    "#  'femaleadult_femalepup_pairwise',\n",
    "#  'femaleadult_malepup_pairwise',\n",
    "\n",
    "# 'maleadult_femalepup_pairwise',\n",
    "# 'maleadult_malepup_pairwise',\n",
    "\n",
    "#'malepup_malepup_pairwise',\n",
    "# 'femalepup_femalepup_pairwise',\n",
    "# 'femalepup_malepup_pairwise',\n",
    "\n",
    "#################################\n",
    "########## APPROACHES ###########\n",
    "#################################\n",
    "\n",
    "# # ADULT - ADULT approaches\n",
    "# 'femaleadult_to_maleadult_approaches',\n",
    "# 'maleadult_to_femaleadult_approaches',\n",
    "\n",
    "# PUP - PUP approaches\n",
    "'femalepup_to_femalepup_approaches',\n",
    "'femalepup_to_malepup_approaches',\n",
    "#'malepup_to_femalepup_approaches',\n",
    "#'malepup_to_malepup_approaches',\n",
    "\n",
    "# # ADULT FEMALE - PUP approaches\n",
    "#'femaleadult_to_femalepup_approaches',\n",
    "#'femalepup_to_femaleadult_approaches',\n",
    "\n",
    "# 'femaleadult_to_malepup_approaches',\n",
    "# 'malepup_to_femaleadult_approaches',\n",
    "\n",
    "# # ADULT MALE - PUP approaches\n",
    "# 'maleadult_to_femalepup_approaches',\n",
    "# 'maleadult_to_malepup_approaches',\n",
    "# 'malepup_to_maleadult_approaches',\n",
    "# 'femalepup_to_maleadult_approaches',\n",
    "\n",
    "]\n",
    "\n"
   ]
  },
  {
   "cell_type": "code",
   "execution_count": 46,
   "metadata": {},
   "outputs": [
    {
     "name": "stdout",
     "output_type": "stream",
     "text": [
      "behavior:  femalepup_to_femalepup_approaches (20, 14)\n",
      "behavior:  femalepup_to_malepup_approaches (7, 14)\n"
     ]
    },
    {
     "name": "stderr",
     "output_type": "stream",
     "text": [
      "  0%|          | 0/2 [00:00<?, ?it/s]"
     ]
    },
    {
     "name": "stderr",
     "output_type": "stream",
     "text": [
      "100%|██████████| 2/2 [00:00<00:00, 1491.31it/s]"
     ]
    },
    {
     "name": "stdout",
     "output_type": "stream",
     "text": [
      "s:  (20, 14)\n",
      "mean:  20.010714285714286  std:  16.664222567390002\n",
      "s:  (7, 14)\n",
      "mean:  21.153061224489797  std:  17.857915435182495\n",
      "auc_f mean:  259.975  ,std:  73.17470105849425\n",
      "auc_m mean:  270.0  ,std:  102.07210336675877\n",
      "ks test:  8.83e-01\n",
      "ttest:  7.90e-01\n",
      "anova:  7.90e-01\n"
     ]
    },
    {
     "name": "stderr",
     "output_type": "stream",
     "text": [
      "\n"
     ]
    }
   ],
   "source": [
    "#\n",
    "g = GerbilPCA(root_dir, \n",
    "              behaviors)\n",
    "\n",
    "#\n",
    "g.smooth = False\n",
    "g.smooth_window = 5\n",
    "g.smooth_order = 2\n",
    "g.standardize = True\n",
    "g.n_dimensions = 2\n",
    "g.scatter_size = 600\n",
    "\n",
    "#\n",
    "g.load_data()\n",
    "\n",
    "#\n",
    "g.n_samples_kde = 1000\n",
    "g.sliding_window_size = 2\n",
    "g.dist_method = '2sample_ks_test'  # options: t_test, 2sample_ks_test\n",
    "g.pval_thresh = 0.01\n",
    "g.show_plots = True\n",
    "g.smooth_pval = True\n",
    "g.size=500\n",
    "g.interpolate_first_value = False\n",
    "g.get_rapid_dev_plots()\n",
    "\n",
    "# visualize averages\n",
    "g.plot_mean_behavior()\n",
    "\n",
    "# compute areas under curve for pairs\n",
    "g.get_area_under_curve()\n",
    "# get exponential notatoin two signifcant figures for g.ks_[1]\n",
    "\n"
   ]
  },
  {
   "cell_type": "code",
   "execution_count": 49,
   "metadata": {},
   "outputs": [
    {
     "name": "stdout",
     "output_type": "stream",
     "text": [
      "behaviors:  ['femalepup_to_femalepup_approaches', 'femalepup_to_malepup_approaches']\n",
      "2\n",
      "(20, 14)\n",
      "(7, 14)\n",
      "c1_females:  (1, 14)\n",
      "c2_females:  (3, 14)\n",
      "c1 male average over dev:  (14,) [ 3.    5.5   5.75  6.5   9.25 10.5  15.25 11.25 21.25 32.   35.25 35.\n",
      " 42.25 46.75]\n",
      "c2 male average over dev:  (14,) [ 7.          7.66666667  8.66666667  9.66666667  5.66666667 10.\n",
      " 16.33333333 19.33333333 32.33333333 46.         37.66666667 33.33333333\n",
      " 36.         48.66666667]\n",
      "c1 diff:  [ -1.    -2.5   -1.75  -0.5   10.75   1.5   -0.25   1.75   4.75   8.\n",
      "   0.75  21.   -11.25 -12.75]\n",
      "c2 diff:  [ -3.          -4.66666667  -4.66666667  -3.66666667  16.33333333\n",
      "   4.          -0.33333333  10.66666667   9.66666667   9.\n",
      "  16.33333333  21.66666667  -2.         -13.66666667]\n",
      "c2 diff:  [-4.         -0.66666667 -3.66666667 -6.66666667 -0.66666667 -3.\n",
      " -9.33333333 -6.33333333 -3.33333333 -1.         -8.66666667 -9.33333333\n",
      "  3.         -6.66666667]\n",
      "c2 diff:  [-6.          1.33333333 -3.66666667 -7.66666667 -2.66666667 -5.\n",
      " -1.33333333 -7.33333333 -6.33333333 -6.         -3.66666667  5.66666667\n",
      " 30.         12.33333333]\n",
      "diffs:  (56,)\n",
      "diffs:  [ -1.          -2.5         -1.75        -0.5         10.75\n",
      "   1.5         -0.25         1.75         4.75         8.\n",
      "   0.75        21.         -11.25       -12.75        -3.\n",
      "  -4.66666667  -4.66666667  -3.66666667  16.33333333   4.\n",
      "  -0.33333333  10.66666667   9.66666667   9.          16.33333333\n",
      "  21.66666667  -2.         -13.66666667  -4.          -0.66666667\n",
      "  -3.66666667  -6.66666667  -0.66666667  -3.          -9.33333333\n",
      "  -6.33333333  -3.33333333  -1.          -8.66666667  -9.33333333\n",
      "   3.          -6.66666667  -6.           1.33333333  -3.66666667\n",
      "  -7.66666667  -2.66666667  -5.          -1.33333333  -7.33333333\n",
      "  -6.33333333  -6.          -3.66666667   5.66666667  30.\n",
      "  12.33333333]\n",
      "ks test:  KstestResult(statistic=0.16589285714285715, pvalue=0.08424214398659682, statistic_location=-0.25, statistic_sign=1)\n",
      "ttest:  TtestResult(statistic=0.20355783750220527, pvalue=0.8394503213121363, df=55)\n"
     ]
    },
    {
     "name": "stderr",
     "output_type": "stream",
     "text": [
      "/home/cat/code/gerbil/paper_code/utils.py:676: UserWarning: color is redundantly defined by the 'color' keyword argument and the fmt string \"k--\" (-> color='k'). The keyword argument will take precedence.\n",
      "  # test the distributions for significance using ttest\n",
      "/home/cat/code/gerbil/paper_code/utils.py:702: UserWarning: color is redundantly defined by the 'color' keyword argument and the fmt string \"k--\" (-> color='k'). The keyword argument will take precedence.\n",
      "  starts.append(idx[0])\n"
     ]
    }
   ],
   "source": [
    "# compute areas under the curve for each animal\n",
    "# g.get_area_under_curve()\n",
    "\n",
    "# compute intra-cohort diffs\n",
    "if 'adult' in behaviors[0] and 'pup' not in behaviors[0]:\n",
    "    g.intra_cohort_stats_adults()\n",
    "else:\n",
    "    g.intra_cohort_stats_pups()\n",
    "\n",
    "#\n"
   ]
  },
  {
   "cell_type": "code",
   "execution_count": 15,
   "metadata": {},
   "outputs": [
    {
     "name": "stdout",
     "output_type": "stream",
     "text": [
      "2\n",
      "(9, 14)\n",
      "(3, 14)\n",
      "c1_females:  (2, 14)\n",
      "c2_females:  (3, 14)\n",
      "idx_fem:  [0. 0. 1. 1. 1. 2. 2. 2. 2.]\n",
      "idx male:  [0. 0. 1.]\n",
      "c1 male average over dev:  (14,)\n",
      "c2 male average over dev:  (14,)\n",
      "(5, 14)\n",
      "ks test:  KstestResult(statistic=0.44285714285714284, pvalue=0.2503177111126175, statistic_location=0.3306944444444446, statistic_sign=1)\n",
      "ttest:  TtestResult(statistic=2.748893780370343, pvalue=0.007626025181799955, df=69)\n"
     ]
    }
   ],
   "source": [
    "# Here we have to subtract the female from the male pup by matching across cohort (not as strivial as adults)\n",
    "g.intra_cohort_stats_pups()"
   ]
  },
  {
   "cell_type": "code",
   "execution_count": 24,
   "metadata": {},
   "outputs": [
    {
     "name": "stdout",
     "output_type": "stream",
     "text": [
      "self.stack:  2\n"
     ]
    }
   ],
   "source": [
    "#\n",
    "g.show_convex_hull = True\n",
    "g.remove_outlier_point= False\n",
    "g.show_cohorts = False\n",
    "g.run_pca()"
   ]
  },
  {
   "cell_type": "code",
   "execution_count": 25,
   "metadata": {},
   "outputs": [],
   "source": [
    "#\n",
    "g.find_overlaps()\n",
    "\n"
   ]
  },
  {
   "cell_type": "code",
   "execution_count": 77,
   "metadata": {},
   "outputs": [],
   "source": [
    "import os\n",
    "\n",
    "#\n",
    "root_dir = '/home/cat/code/gerbil/meta_data/fig3/'\n",
    "\n",
    "# save cohort sex for pups\n",
    "c1 = np.zeros(4)\n",
    "c1[0]=1\n",
    "c1[3]=1\n",
    "\n",
    "np.save(os.path.join(root_dir,\n",
    "                     \"c1_pup_sex.npy\"),c1)\n",
    "#\n",
    "c2 = np.zeros(4)\n",
    "c2[2]=1\n",
    "\n",
    "np.save(os.path.join(root_dir,\n",
    "                     \"c2_pup_sex.npy\"),c2)\n",
    "\n",
    "#\n",
    "c3 = np.zeros(4)\n",
    "\n",
    "np.save(os.path.join(root_dir,\n",
    "                     \"c3_pup_sex.npy\"),c3)\n",
    "\n",
    "# indicate the cohort for each female pup\n",
    "cf = np.zeros(9)\n",
    "cf[:2] = 0\n",
    "cf[2:5] = 1\n",
    "cf[5:] = 2\n",
    "\n",
    "np.save(os.path.join(root_dir,\n",
    "                     \"female_pup_cohort_ids.npy\"),cf)\n",
    "\n",
    "# same for male pups\n",
    "cm = np.zeros(3)\n",
    "cm[:2] = 0\n",
    "cm[2:] = 1\n",
    "\n",
    "np.save(os.path.join(root_dir,\n",
    "                     \"male_pup_cohort_ids.npy\"),cm)\n",
    "\n"
   ]
  },
  {
   "cell_type": "code",
   "execution_count": 50,
   "metadata": {},
   "outputs": [
    {
     "name": "stdout",
     "output_type": "stream",
     "text": [
      "(20, 14)\n"
     ]
    },
    {
     "ename": "AxisError",
     "evalue": "axis 2 is out of bounds for array of dimension 2",
     "output_type": "error",
     "traceback": [
      "\u001b[0;31m---------------------------------------------------------------------------\u001b[0m",
      "\u001b[0;31mAxisError\u001b[0m                                 Traceback (most recent call last)",
      "\u001b[1;32m/home/cat/code/gerbil/paper_code/Fig3.ipynb Cell 10\u001b[0m line \u001b[0;36m5\n\u001b[1;32m      <a href='vscode-notebook-cell:/home/cat/code/gerbil/paper_code/Fig3.ipynb#X12sZmlsZQ%3D%3D?line=1'>2</a>\u001b[0m d \u001b[39m=\u001b[39m np\u001b[39m.\u001b[39mload(fname)\n\u001b[1;32m      <a href='vscode-notebook-cell:/home/cat/code/gerbil/paper_code/Fig3.ipynb#X12sZmlsZQ%3D%3D?line=3'>4</a>\u001b[0m \u001b[39mprint\u001b[39m (d\u001b[39m.\u001b[39mshape)\n\u001b[0;32m----> <a href='vscode-notebook-cell:/home/cat/code/gerbil/paper_code/Fig3.ipynb#X12sZmlsZQ%3D%3D?line=4'>5</a>\u001b[0m d \u001b[39m=\u001b[39m np\u001b[39m.\u001b[39;49mmean(d, axis\u001b[39m=\u001b[39;49m\u001b[39m2\u001b[39;49m)\n\u001b[1;32m      <a href='vscode-notebook-cell:/home/cat/code/gerbil/paper_code/Fig3.ipynb#X12sZmlsZQ%3D%3D?line=5'>6</a>\u001b[0m \u001b[39mprint\u001b[39m (d\u001b[39m.\u001b[39mshape)\n\u001b[1;32m      <a href='vscode-notebook-cell:/home/cat/code/gerbil/paper_code/Fig3.ipynb#X12sZmlsZQ%3D%3D?line=6'>7</a>\u001b[0m \u001b[39m#np.save(fname, d)\u001b[39;00m\n",
      "File \u001b[0;32m~/miniconda3/lib/python3.11/site-packages/numpy/core/fromnumeric.py:3504\u001b[0m, in \u001b[0;36mmean\u001b[0;34m(a, axis, dtype, out, keepdims, where)\u001b[0m\n\u001b[1;32m   3501\u001b[0m     \u001b[39melse\u001b[39;00m:\n\u001b[1;32m   3502\u001b[0m         \u001b[39mreturn\u001b[39;00m mean(axis\u001b[39m=\u001b[39maxis, dtype\u001b[39m=\u001b[39mdtype, out\u001b[39m=\u001b[39mout, \u001b[39m*\u001b[39m\u001b[39m*\u001b[39mkwargs)\n\u001b[0;32m-> 3504\u001b[0m \u001b[39mreturn\u001b[39;00m _methods\u001b[39m.\u001b[39;49m_mean(a, axis\u001b[39m=\u001b[39;49maxis, dtype\u001b[39m=\u001b[39;49mdtype,\n\u001b[1;32m   3505\u001b[0m                       out\u001b[39m=\u001b[39;49mout, \u001b[39m*\u001b[39;49m\u001b[39m*\u001b[39;49mkwargs)\n",
      "File \u001b[0;32m~/miniconda3/lib/python3.11/site-packages/numpy/core/_methods.py:106\u001b[0m, in \u001b[0;36m_mean\u001b[0;34m(a, axis, dtype, out, keepdims, where)\u001b[0m\n\u001b[1;32m    102\u001b[0m arr \u001b[39m=\u001b[39m asanyarray(a)\n\u001b[1;32m    104\u001b[0m is_float16_result \u001b[39m=\u001b[39m \u001b[39mFalse\u001b[39;00m\n\u001b[0;32m--> 106\u001b[0m rcount \u001b[39m=\u001b[39m _count_reduce_items(arr, axis, keepdims\u001b[39m=\u001b[39;49mkeepdims, where\u001b[39m=\u001b[39;49mwhere)\n\u001b[1;32m    107\u001b[0m \u001b[39mif\u001b[39;00m rcount \u001b[39m==\u001b[39m \u001b[39m0\u001b[39m \u001b[39mif\u001b[39;00m where \u001b[39mis\u001b[39;00m \u001b[39mTrue\u001b[39;00m \u001b[39melse\u001b[39;00m umr_any(rcount \u001b[39m==\u001b[39m \u001b[39m0\u001b[39m, axis\u001b[39m=\u001b[39m\u001b[39mNone\u001b[39;00m):\n\u001b[1;32m    108\u001b[0m     warnings\u001b[39m.\u001b[39mwarn(\u001b[39m\"\u001b[39m\u001b[39mMean of empty slice.\u001b[39m\u001b[39m\"\u001b[39m, \u001b[39mRuntimeWarning\u001b[39;00m, stacklevel\u001b[39m=\u001b[39m\u001b[39m2\u001b[39m)\n",
      "File \u001b[0;32m~/miniconda3/lib/python3.11/site-packages/numpy/core/_methods.py:77\u001b[0m, in \u001b[0;36m_count_reduce_items\u001b[0;34m(arr, axis, keepdims, where)\u001b[0m\n\u001b[1;32m     75\u001b[0m     items \u001b[39m=\u001b[39m \u001b[39m1\u001b[39m\n\u001b[1;32m     76\u001b[0m     \u001b[39mfor\u001b[39;00m ax \u001b[39min\u001b[39;00m axis:\n\u001b[0;32m---> 77\u001b[0m         items \u001b[39m*\u001b[39m\u001b[39m=\u001b[39m arr\u001b[39m.\u001b[39mshape[mu\u001b[39m.\u001b[39mnormalize_axis_index(ax, arr\u001b[39m.\u001b[39mndim)]\n\u001b[1;32m     78\u001b[0m     items \u001b[39m=\u001b[39m nt\u001b[39m.\u001b[39mintp(items)\n\u001b[1;32m     79\u001b[0m \u001b[39melse\u001b[39;00m:\n\u001b[1;32m     80\u001b[0m     \u001b[39m# TODO: Optimize case when `where` is broadcast along a non-reduction\u001b[39;00m\n\u001b[1;32m     81\u001b[0m     \u001b[39m# axis and full sum is more excessive than needed.\u001b[39;00m\n\u001b[1;32m     82\u001b[0m \n\u001b[1;32m     83\u001b[0m     \u001b[39m# guarded to protect circular imports\u001b[39;00m\n",
      "\u001b[0;31mAxisError\u001b[0m: axis 2 is out of bounds for array of dimension 2"
     ]
    }
   ],
   "source": [
    "fname = '/home/cat/code/gerbil/meta_data/fig3/femalepup_to_femalepup_approaches.npy'\n",
    "d = np.load(fname)\n",
    "\n",
    "print (d.shape)\n",
    "d = np.mean(d, axis=2)\n",
    "print (d.shape)\n",
    "#np.save(fname, d)"
   ]
  },
  {
   "cell_type": "code",
   "execution_count": 51,
   "metadata": {},
   "outputs": [],
   "source": [
    "datasets_to_process = {\n",
    "    'adults_pairwise': ['fem_male_c2', 'fem_male_c3', 'fem_male_c4'],\n",
    "    'femaleadult_femalepup_pairwise': ['fem_pup2_c2', 'fem_pup3_c2', 'fem_pup1_c3', 'fem_pup2_c3', 'fem_pup4_c3', 'fem_pup1_c4', 'fem_pup2_c4', 'fem_pup3_c4', 'fem_pup4_c4'],\n",
    "    'femaleadult_malepup_pairwise': ['fem_pup1_c2', 'fem_pup4_c2', 'fem_pup3_c3'],\n",
    "    'maleadult_femalepup_pairwise': ['male_pup2_c2', 'male_pup3_c2', 'male_pup1_c3', 'male_pup2_c3', 'male_pup4_c3', 'male_pup1_c4', 'male_pup2_c4', 'male_pup3_c4', 'male_pup4_c4'],\n",
    "    'maleadult_malepup_pairwise': ['male_pup1_c2', 'male_pup4_c2', 'male_pup3_c3'],\n",
    "    'femalepup_femalepup_pairwise': ['pup2_pup3_c2', 'pup1_pup2_c3', 'pup1_pup4_c3', 'pup2_pup4_c3', 'pup1_pup2_c4', 'pup1_pup3_c4', 'pup1_pup4_c4', 'pup2_pup3_c4', 'pup2_pup4_c4', 'pup3_pup4_c4'],\n",
    "    'malepup_malepup_pairwise': ['pup1_pup4_c4'],\n",
    "    'femalepup_malepup_pairwise': ['pup1_pup2_c2', 'pup1_pup3_c2', 'pup2_pup4_c2', 'pup3_pup4_c2', 'pup1_pup3_c3', 'pup2_pup3_c3', 'pup3_pup4_c3']\n",
    "}"
   ]
  },
  {
   "cell_type": "code",
   "execution_count": 53,
   "metadata": {},
   "outputs": [
    {
     "name": "stdout",
     "output_type": "stream",
     "text": [
      "['pup1_pup2_c2', 'pup1_pup3_c2', 'pup2_pup4_c2', 'pup3_pup4_c2', 'pup1_pup3_c3', 'pup2_pup3_c3', 'pup3_pup4_c3']\n"
     ]
    }
   ],
   "source": [
    "print (datasets_to_process['femalepup_malepup_pairwise'])"
   ]
  },
  {
   "cell_type": "code",
   "execution_count": 31,
   "metadata": {},
   "outputs": [],
   "source": [
    "#\n",
    "#g.run_umap()"
   ]
  },
  {
   "cell_type": "code",
   "execution_count": 10,
   "metadata": {},
   "outputs": [
    {
     "name": "stdout",
     "output_type": "stream",
     "text": [
      "(1, 14)\n"
     ]
    }
   ],
   "source": [
    "\n",
    "d = np.load('/home/cat/code/gerbil/meta_data/fig3/malepup_malepup_pairwise.npy')\n",
    "\n",
    "print (d.shape)\n",
    "\n",
    "#np.save('/home/cat/code/gerbil/meta_data/fig3/malepup_malepup_pairwise.npy', d)\n"
   ]
  },
  {
   "cell_type": "code",
   "execution_count": null,
   "metadata": {},
   "outputs": [],
   "source": []
  },
  {
   "cell_type": "code",
   "execution_count": 26,
   "metadata": {},
   "outputs": [
    {
     "name": "stdout",
     "output_type": "stream",
     "text": [
      "(48, 14)\n",
      "(48, 2)\n"
     ]
    }
   ],
   "source": [
    "g.n_dimensions = 2\n",
    "g.fit_gmm_pca()\n",
    "\n"
   ]
  },
  {
   "cell_type": "code",
   "execution_count": 27,
   "metadata": {},
   "outputs": [
    {
     "name": "stdout",
     "output_type": "stream",
     "text": [
      "(48, 2)\n"
     ]
    }
   ],
   "source": [
    "#\n"
   ]
  },
  {
   "cell_type": "code",
   "execution_count": 151,
   "metadata": {},
   "outputs": [
    {
     "name": "stdout",
     "output_type": "stream",
     "text": [
      "(50, 3)\n"
     ]
    }
   ],
   "source": [
    "import numpy as np\n",
    "import matplotlib.pyplot as plt\n",
    "from scipy.spatial import ConvexHull\n",
    "from mpl_toolkits.mplot3d.art3d import Poly3DCollection\n",
    "\n",
    "# Step 1: Generate or load your 3D data (replace this with your actual data)\n",
    "np.random.seed(0)\n",
    "data = np.random.rand(50, 3)  # 50 points in 3D\n",
    "\n",
    "# Step 2: Compute the convex hull\n",
    "hull = ConvexHull(data)\n",
    "vertices = data[hull.vertices]  # Vertices of the convex hull\n",
    "\n",
    "# get the ids of the vertices\n",
    "# make a larger vertices array and fill in the missing vertices with zeros\n",
    "vertices = np.zeros((data.shape[0],3))\n",
    "vertices[hull.vertices] = data[hull.vertices]\n",
    "\n",
    "print (vertices.shape)\n",
    "\n",
    "#\n",
    "\n",
    "# Step 3: Extract the valid edges and vertices from the convex hull\n",
    "edges = []\n",
    "for simplex in hull.simplices:\n",
    "    n_bad = 0\n",
    "    for v in simplex:\n",
    "        #print (v)\n",
    "        if v < 0 or v >= len(data):\n",
    "            n_bad += 1\n",
    "\n",
    "    if n_bad == 0:\n",
    "        edges.append(simplex)\n",
    "\n",
    "# Step 4: Create the 3D plot\n",
    "fig = plt.figure()\n",
    "ax = fig.add_subplot(111, projection='3d')\n",
    "\n",
    "# Step 5: Create a Poly3DCollection for the 3D polygon\n",
    "poly3d = [[vertices[edge[0]], vertices[edge[1]], vertices[edge[2]]] for edge in edges]\n",
    "\n",
    "ax.add_collection3d(Poly3DCollection(poly3d, \n",
    "                                     facecolors='black', \n",
    "                                     linewidths=1, \n",
    "                                     edgecolors='black', \n",
    "                                     alpha=0.25))\n",
    "\n",
    "# Step 6: Set axis labels and display the plot\n",
    "ax.set_xlabel('X-axis')\n",
    "ax.set_ylabel('Y-axis')\n",
    "ax.set_zlabel('Z-axis')\n",
    "\n",
    "plt.show()\n"
   ]
  },
  {
   "cell_type": "code",
   "execution_count": 254,
   "metadata": {},
   "outputs": [
    {
     "ename": "AttributeError",
     "evalue": "module 'vedo.shapes' has no attribute 'Poly'",
     "output_type": "error",
     "traceback": [
      "\u001b[0;31m---------------------------------------------------------------------------\u001b[0m",
      "\u001b[0;31mAttributeError\u001b[0m                            Traceback (most recent call last)",
      "\u001b[1;32m/home/cat/code/gerbil/explore_pca.ipynb Cell 11\u001b[0m line \u001b[0;36m4\n\u001b[1;32m     <a href='vscode-notebook-cell:/home/cat/code/gerbil/explore_pca.ipynb#X22sZmlsZQ%3D%3D?line=37'>38</a>\u001b[0m faces2 \u001b[39m=\u001b[39m [\n\u001b[1;32m     <a href='vscode-notebook-cell:/home/cat/code/gerbil/explore_pca.ipynb#X22sZmlsZQ%3D%3D?line=38'>39</a>\u001b[0m     [\u001b[39m0\u001b[39m, \u001b[39m1\u001b[39m, \u001b[39m2\u001b[39m, \u001b[39m3\u001b[39m],  \u001b[39m# Bottom face\u001b[39;00m\n\u001b[1;32m     <a href='vscode-notebook-cell:/home/cat/code/gerbil/explore_pca.ipynb#X22sZmlsZQ%3D%3D?line=39'>40</a>\u001b[0m     [\u001b[39m4\u001b[39m, \u001b[39m5\u001b[39m, \u001b[39m6\u001b[39m, \u001b[39m7\u001b[39m],  \u001b[39m# Top face\u001b[39;00m\n\u001b[0;32m   (...)\u001b[0m\n\u001b[1;32m     <a href='vscode-notebook-cell:/home/cat/code/gerbil/explore_pca.ipynb#X22sZmlsZQ%3D%3D?line=43'>44</a>\u001b[0m     [\u001b[39m3\u001b[39m, \u001b[39m0\u001b[39m, \u001b[39m4\u001b[39m, \u001b[39m7\u001b[39m]   \u001b[39m# Side 4\u001b[39;00m\n\u001b[1;32m     <a href='vscode-notebook-cell:/home/cat/code/gerbil/explore_pca.ipynb#X22sZmlsZQ%3D%3D?line=44'>45</a>\u001b[0m ]\n\u001b[1;32m     <a href='vscode-notebook-cell:/home/cat/code/gerbil/explore_pca.ipynb#X22sZmlsZQ%3D%3D?line=46'>47</a>\u001b[0m \u001b[39m# Create the two polyhedron objects\u001b[39;00m\n\u001b[0;32m---> <a href='vscode-notebook-cell:/home/cat/code/gerbil/explore_pca.ipynb#X22sZmlsZQ%3D%3D?line=47'>48</a>\u001b[0m polyhedron1 \u001b[39m=\u001b[39m vedo\u001b[39m.\u001b[39;49mshapes\u001b[39m.\u001b[39;49mPoly(vertices1, faces1)\n\u001b[1;32m     <a href='vscode-notebook-cell:/home/cat/code/gerbil/explore_pca.ipynb#X22sZmlsZQ%3D%3D?line=48'>49</a>\u001b[0m polyhedron2 \u001b[39m=\u001b[39m vedo\u001b[39m.\u001b[39mshapes\u001b[39m.\u001b[39mPoly(vertices2, faces2)\n\u001b[1;32m     <a href='vscode-notebook-cell:/home/cat/code/gerbil/explore_pca.ipynb#X22sZmlsZQ%3D%3D?line=50'>51</a>\u001b[0m \u001b[39m# Compute the intersection between the two polyhedrons\u001b[39;00m\n",
      "\u001b[0;31mAttributeError\u001b[0m: module 'vedo.shapes' has no attribute 'Poly'"
     ]
    }
   ],
   "source": [
    "import vedo\n",
    "\n",
    "# Define the vertices of the first polyhedron\n",
    "vertices1 = [\n",
    "    [0, 0, 0],\n",
    "    [1, 0, 0],\n",
    "    [1, 1, 0],\n",
    "    [0, 1, 0],\n",
    "    [0, 0, 1],\n",
    "    [1, 0, 1],\n",
    "    [1, 1, 1],\n",
    "    [0, 1, 1]\n",
    "]\n",
    "\n",
    "# Define the faces for the first polyhedron\n",
    "faces1 = [\n",
    "    [0, 1, 2, 3],  # Bottom face\n",
    "    [4, 5, 6, 7],  # Top face\n",
    "    [0, 1, 5, 4],  # Side 1\n",
    "    [1, 2, 6, 5],  # Side 2\n",
    "    [2, 3, 7, 6],  # Side 3\n",
    "    [3, 0, 4, 7]   # Side 4\n",
    "]\n",
    "\n",
    "# Define the vertices of the second polyhedron\n",
    "vertices2 = [\n",
    "    [0.5, 0.5, 0],\n",
    "    [1.5, 0.5, 0],\n",
    "    [1.5, 1.5, 0],\n",
    "    [0.5, 1.5, 0],\n",
    "    [0.5, 0.5, 1],\n",
    "    [1.5, 0.5, 1],\n",
    "    [1.5, 1.5, 1],\n",
    "    [0.5, 1.5, 1]\n",
    "]\n",
    "\n",
    "# Define the faces for the second polyhedron\n",
    "faces2 = [\n",
    "    [0, 1, 2, 3],  # Bottom face\n",
    "    [4, 5, 6, 7],  # Top face\n",
    "    [0, 1, 5, 4],  # Side 1\n",
    "    [1, 2, 6, 5],  # Side 2\n",
    "    [2, 3, 7, 6],  # Side 3\n",
    "    [3, 0, 4, 7]   # Side 4\n",
    "]\n",
    "\n",
    "# Create the two polyhedron objects\n",
    "polyhedron1 = vedo.shapes.Poly(vertices1, faces1)\n",
    "polyhedron2 = vedo.shapes.Poly(vertices2, faces2)\n",
    "\n",
    "# Compute the intersection between the two polyhedrons\n",
    "intersection = polyhedron1.intersectWith(polyhedron2)\n",
    "\n",
    "# Visualize the intersection\n",
    "show(intersection)\n"
   ]
  },
  {
   "cell_type": "code",
   "execution_count": null,
   "metadata": {},
   "outputs": [],
   "source": []
  }
 ],
 "metadata": {
  "kernelspec": {
   "display_name": "base",
   "language": "python",
   "name": "python3"
  },
  "language_info": {
   "codemirror_mode": {
    "name": "ipython",
    "version": 3
   },
   "file_extension": ".py",
   "mimetype": "text/x-python",
   "name": "python",
   "nbconvert_exporter": "python",
   "pygments_lexer": "ipython3",
   "version": "3.11.4"
  },
  "orig_nbformat": 4
 },
 "nbformat": 4,
 "nbformat_minor": 2
}
