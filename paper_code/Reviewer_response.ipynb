{
 "cells": [
  {
   "cell_type": "code",
   "execution_count": 1,
   "metadata": {},
   "outputs": [
    {
     "name": "stderr",
     "output_type": "stream",
     "text": [
      "/home/cat/miniconda3/lib/python3.11/site-packages/tqdm/auto.py:21: TqdmWarning: IProgress not found. Please update jupyter and ipywidgets. See https://ipywidgets.readthedocs.io/en/stable/user_install.html\n",
      "  from .autonotebook import tqdm as notebook_tqdm\n"
     ]
    }
   ],
   "source": [
    "%matplotlib tk\n",
    "%load_ext autoreload\n",
    "%autoreload 2\n",
    "#\n",
    "import matplotlib.pyplot as plt\n",
    "\n",
    "#\n",
    "from utils import GerbilPCA\n",
    "import glob\n",
    "import numpy as np"
   ]
  },
  {
   "cell_type": "code",
   "execution_count": 2,
   "metadata": {},
   "outputs": [
    {
     "name": "stdout",
     "output_type": "stream",
     "text": [
      "(112, 86400)\n"
     ]
    }
   ],
   "source": [
    "# \n",
    "fname2 = '/home/cat/Downloads/npy_files (1)/npy_files/cohort2_foodhopper.npy'\n",
    "data2 = np.load(fname2)\n",
    "print (data2.shape)\n",
    "\n"
   ]
  },
  {
   "cell_type": "code",
   "execution_count": 3,
   "metadata": {},
   "outputs": [],
   "source": [
    "behaviors = [\n",
    "\n",
    "    # FOODHOPPER PROXIMITY\n",
    "    'foodhopper_proximity',\n",
    "\n",
    "    # # WATERSPOUT PROXIMITY\n",
    "    #'waterspout_proximity',\n",
    "\n",
    "    # # PAIRWISE PROXIMITY\n",
    "   #'pairwise_proximity',\n",
    "\n",
    "]\n",
    "\n",
    "\n"
   ]
  },
  {
   "cell_type": "code",
   "execution_count": 4,
   "metadata": {},
   "outputs": [],
   "source": [
    "#\n",
    "g = GerbilPCA(root_dir, \n",
    "              behaviors)\n",
    "\n",
    "#\n",
    "#g.periods = periods\n",
    "\n",
    "#\n",
    "g.smooth = False\n",
    "g.smooth_window = 5\n",
    "g.smooth_order = 2\n",
    "g.standardize = True\n",
    "g.n_dimensions = 2\n",
    "g.scatter_size = 600\n",
    "\n",
    "\n",
    "#\n",
    "g.process_data_circadian()\n",
    "\n"
   ]
  },
  {
   "cell_type": "code",
   "execution_count": 5,
   "metadata": {},
   "outputs": [
    {
     "name": "stdout",
     "output_type": "stream",
     "text": [
      "\n",
      "Starting behavior:  foodhopper_proximity\n",
      "\n",
      "starting: class:  adults\n",
      "data.shape:  (6, 14, 24)\n",
      "p: , temp.shape:  (0, 2) (2, 24)\n",
      "p: , temp.shape:  (2, 11) (9, 24)\n",
      "p: , temp.shape:  (11, 14) (3, 24)\n",
      "idxs:  [[0, 6], [6, 12], [12, 18]]\n",
      "stacked cl array:  (18, 24)\n",
      "variance explained for 3pcs:  0.656924540046659\n",
      "class temp size:  (6, 3)\n",
      "class temp size:  (6, 3)\n",
      "class temp size:  (6, 3)\n",
      "0 vol:  101196653.60641488\n",
      "1 vol:  13057611.962026786\n",
      "2 vol:  8053921.68922192\n",
      "0 1 0.15030065622039848\n",
      "0 2 0.0011642902713699444\n",
      "1 0 1.1648319377681708\n",
      "1 2 0.07048234230520523\n",
      "2 0 0.014629181141259023\n",
      "2 1 0.11427117266706692\n",
      "\n",
      "starting: class:  pups\n",
      "data.shape:  (12, 14, 24)\n",
      "p: , temp.shape:  (0, 2) (2, 24)\n",
      "p: , temp.shape:  (2, 11) (9, 24)\n",
      "p: , temp.shape:  (11, 14) (3, 24)\n",
      "idxs:  [[0, 12], [12, 24], [24, 36]]\n",
      "stacked cl array:  (36, 24)\n",
      "variance explained for 3pcs:  0.8688520613303358\n",
      "class temp size:  (12, 3)\n",
      "class temp size:  (12, 3)\n",
      "class temp size:  (12, 3)\n",
      "0 vol:  135049.409505352\n",
      "1 vol:  1715171.3662502335\n",
      "2 vol:  218394319.15564972\n",
      "0 1 0.0\n",
      "0 2 0.0\n",
      "1 0 0.0\n",
      "1 2 0.0\n",
      "2 0 0.0\n",
      "2 1 0.0\n",
      "\n",
      "starting: class:  pups_adults\n"
     ]
    }
   ],
   "source": [
    "# dev periods\n",
    "g.plot_3d = True\n",
    "t1 = 18\n",
    "t2 = 27\n",
    "g.dev_windows = [t1,t2]\n",
    "g.periods = [\n",
    "        [16, t1],\n",
    "        [t1, t2],\n",
    "        [t2, 30],\n",
    "]\n",
    "\n",
    "#\n",
    "g.circadian_plots()\n"
   ]
  },
  {
   "cell_type": "code",
   "execution_count": 8,
   "metadata": {},
   "outputs": [],
   "source": [
    "# compute bhattacharyya distance\n",
    "g.selected_class = 'pups'  # 'pups', 'adults'...\n",
    "\n",
    "g.optimize_t1_t2()"
   ]
  },
  {
   "cell_type": "code",
   "execution_count": 7,
   "metadata": {},
   "outputs": [],
   "source": [
    "#\n",
    "# g.show_convex_hull = True\n",
    "# g.remove_outlier_point= False\n",
    "# g.show_cohorts = True\n",
    "\n",
    "\n",
    "# #\n",
    "# g.run_pca()"
   ]
  },
  {
   "cell_type": "code",
   "execution_count": 8,
   "metadata": {},
   "outputs": [],
   "source": [
    "#\n",
    "# g.find_overlaps()"
   ]
  },
  {
   "cell_type": "code",
   "execution_count": null,
   "metadata": {},
   "outputs": [],
   "source": []
  },
  {
   "cell_type": "code",
   "execution_count": null,
   "metadata": {},
   "outputs": [],
   "source": []
  },
  {
   "cell_type": "code",
   "execution_count": 13,
   "metadata": {},
   "outputs": [
    {
     "name": "stdout",
     "output_type": "stream",
     "text": [
      "[ 8  9 10 11 12 13 14 15 16 17 18 19]\n",
      "[ 0  1  2  3  4  5  6  7 20 21 22 23]\n",
      "\n",
      "\n",
      "Starting behavior:  foodhopper_proximity\n",
      "\n",
      "starting: class:  adults\n",
      "data.shape:  (6, 14, 24)\n",
      "d.shape:  (14, 24)\n",
      "dur_daytime:  28894.333333333332\n",
      "dur_nighttime:  22168.666666666664\n",
      "light ratio:  56.59  , std:  0.53\n",
      "dark ratio:  43.41  , std:  0.46\n",
      "\n",
      "starting: class:  pups\n",
      "data.shape:  (12, 14, 24)\n",
      "d.shape:  (14, 24)\n",
      "dur_daytime:  28966.916666666664\n",
      "dur_nighttime:  19639.166666666668\n",
      "light ratio:  59.6  , std:  2.62\n",
      "dark ratio:  40.4  , std:  2.53\n",
      "\n",
      "starting: class:  pups_adults\n"
     ]
    }
   ],
   "source": [
    "import os\n",
    "# get total behavior for day vs. night cycle\n",
    "\n",
    "g.get_circadian_total_behavior_sums()\n",
    "\n",
    "        "
   ]
  },
  {
   "cell_type": "code",
   "execution_count": null,
   "metadata": {},
   "outputs": [],
   "source": []
  },
  {
   "cell_type": "code",
   "execution_count": null,
   "metadata": {},
   "outputs": [],
   "source": []
  },
  {
   "cell_type": "code",
   "execution_count": null,
   "metadata": {},
   "outputs": [],
   "source": []
  },
  {
   "cell_type": "code",
   "execution_count": null,
   "metadata": {},
   "outputs": [],
   "source": []
  },
  {
   "cell_type": "code",
   "execution_count": null,
   "metadata": {},
   "outputs": [],
   "source": []
  },
  {
   "cell_type": "code",
   "execution_count": null,
   "metadata": {},
   "outputs": [],
   "source": []
  },
  {
   "cell_type": "code",
   "execution_count": 30,
   "metadata": {},
   "outputs": [
    {
     "name": "stdout",
     "output_type": "stream",
     "text": [
      "temp_stack:  (6, 14)\n",
      "temp_starts:  (2, 2)\n",
      "[[0 3]\n",
      " [3 6]]\n",
      "ks test:  KstestResult(statistic=1.0, pvalue=0.09999999999999999)\n",
      "ttest:  Ttest_indResult(statistic=2.0072925072275902, pvalue=0.11515405792257753)\n"
     ]
    }
   ],
   "source": [
    "# compute areas under the curve for each animal\n",
    "g.get_area_under_curve()"
   ]
  },
  {
   "cell_type": "code",
   "execution_count": null,
   "metadata": {},
   "outputs": [],
   "source": [
    "#\n",
    "g.show_convex_hull = True\n",
    "g.remove_outlier_point= False\n",
    "g.show_cohorts = False\n",
    "g.run_pca()"
   ]
  },
  {
   "cell_type": "code",
   "execution_count": 113,
   "metadata": {},
   "outputs": [],
   "source": [
    "#\n",
    "g.find_overlaps()\n",
    "\n"
   ]
  },
  {
   "cell_type": "code",
   "execution_count": null,
   "metadata": {},
   "outputs": [],
   "source": []
  },
  {
   "cell_type": "code",
   "execution_count": 94,
   "metadata": {},
   "outputs": [
    {
     "name": "stdout",
     "output_type": "stream",
     "text": [
      "[[0.85409747 1.51309115 4.16478603 2.21157815 2.93465807 1.91916357\n",
      "  2.20043901 2.37760444 1.57626118 2.48152156 2.63308142 2.47293815\n",
      "  2.43156419 2.13664209]]\n"
     ]
    }
   ],
   "source": [
    "d = np.load('/home/cat/Downloads/sex_npy_files/npy files/malepup_malepup_pairwise.npy')[None]\n",
    "\n",
    "print (d)\n",
    "\n",
    "np.save('/home/cat/Downloads/sex_npy_files/npy files/malepup_malepup_pairwise.npy', d)"
   ]
  },
  {
   "cell_type": "code",
   "execution_count": 36,
   "metadata": {},
   "outputs": [
    {
     "name": "stdout",
     "output_type": "stream",
     "text": [
      "(18, 2)\n"
     ]
    },
    {
     "ename": "ValueError",
     "evalue": "'c' argument has 4 elements, which is inconsistent with 'x' and 'y' with size 3.",
     "output_type": "error",
     "traceback": [
      "\u001b[0;31m---------------------------------------------------------------------------\u001b[0m",
      "\u001b[0;31mValueError\u001b[0m                                Traceback (most recent call last)",
      "\u001b[1;32m/home/cat/code/gerbil/explore_pca_sex_diffs.ipynb Cell 8\u001b[0m line \u001b[0;36m2\n\u001b[1;32m      <a href='vscode-notebook-cell:/home/cat/code/gerbil/explore_pca_sex_diffs.ipynb#X21sZmlsZQ%3D%3D?line=0'>1</a>\u001b[0m \u001b[39m#\u001b[39;00m\n\u001b[0;32m----> <a href='vscode-notebook-cell:/home/cat/code/gerbil/explore_pca_sex_diffs.ipynb#X21sZmlsZQ%3D%3D?line=1'>2</a>\u001b[0m g\u001b[39m.\u001b[39;49mrun_umap()\n",
      "File \u001b[0;32m~/code/gerbil/utils.py:655\u001b[0m, in \u001b[0;36mGerbilPCA.run_umap\u001b[0;34m(self)\u001b[0m\n\u001b[1;32m    653\u001b[0m         cc \u001b[39m=\u001b[39m [\u001b[39mself\u001b[39m\u001b[39m.\u001b[39mclrs[ctr]]\u001b[39m*\u001b[39m\u001b[39m4\u001b[39m\n\u001b[1;32m    654\u001b[0m         \u001b[39m#print (cc)\u001b[39;00m\n\u001b[0;32m--> 655\u001b[0m         ax\u001b[39m.\u001b[39;49mscatter( embedded_data[\u001b[39mself\u001b[39;49m\u001b[39m.\u001b[39;49mstarts[ctr][\u001b[39m0\u001b[39;49m]\u001b[39m+\u001b[39;49mk:\n\u001b[1;32m    656\u001b[0m                             \u001b[39mself\u001b[39;49m\u001b[39m.\u001b[39;49mstarts[ctr][\u001b[39m0\u001b[39;49m]\u001b[39m+\u001b[39;49mk\u001b[39m+\u001b[39;49m\u001b[39m4\u001b[39;49m, \u001b[39m0\u001b[39;49m],\n\u001b[1;32m    657\u001b[0m                 embedded_data[\u001b[39mself\u001b[39;49m\u001b[39m.\u001b[39;49mstarts[ctr][\u001b[39m0\u001b[39;49m]\u001b[39m+\u001b[39;49mk:\n\u001b[1;32m    658\u001b[0m                         \u001b[39mself\u001b[39;49m\u001b[39m.\u001b[39;49mstarts[ctr][\u001b[39m0\u001b[39;49m]\u001b[39m+\u001b[39;49mk\u001b[39m+\u001b[39;49m\u001b[39m4\u001b[39;49m, \u001b[39m1\u001b[39;49m],\n\u001b[1;32m    659\u001b[0m                     s\u001b[39m=\u001b[39;49m\u001b[39m350\u001b[39;49m,\n\u001b[1;32m    660\u001b[0m                 color\u001b[39m=\u001b[39;49mcc,\n\u001b[1;32m    661\u001b[0m                 marker \u001b[39m=\u001b[39;49m markers[k\u001b[39m/\u001b[39;49m\u001b[39m/\u001b[39;49m\u001b[39m4\u001b[39;49m],\n\u001b[1;32m    662\u001b[0m                 label \u001b[39m=\u001b[39;49m \u001b[39mself\u001b[39;49m\u001b[39m.\u001b[39;49mbehaviors[ctr] \u001b[39m+\u001b[39;49m \u001b[39m\"\u001b[39;49m\u001b[39m - c\u001b[39;49m\u001b[39m\"\u001b[39;49m\u001b[39m+\u001b[39;49m\u001b[39mstr\u001b[39;49m(\u001b[39m2\u001b[39;49m\u001b[39m+\u001b[39;49mk\u001b[39m/\u001b[39;49m\u001b[39m/\u001b[39;49m\u001b[39m4\u001b[39;49m)\n\u001b[1;32m    663\u001b[0m                 )\n\u001b[1;32m    664\u001b[0m \u001b[39m#\u001b[39;00m\n\u001b[1;32m    665\u001b[0m \u001b[39m#\u001b[39;00m\n\u001b[1;32m    666\u001b[0m plt\u001b[39m.\u001b[39mlegend()\n",
      "File \u001b[0;32m~/miniconda3/lib/python3.11/site-packages/matplotlib/__init__.py:1465\u001b[0m, in \u001b[0;36m_preprocess_data.<locals>.inner\u001b[0;34m(ax, data, *args, **kwargs)\u001b[0m\n\u001b[1;32m   1462\u001b[0m \u001b[39m@functools\u001b[39m\u001b[39m.\u001b[39mwraps(func)\n\u001b[1;32m   1463\u001b[0m \u001b[39mdef\u001b[39;00m \u001b[39minner\u001b[39m(ax, \u001b[39m*\u001b[39margs, data\u001b[39m=\u001b[39m\u001b[39mNone\u001b[39;00m, \u001b[39m*\u001b[39m\u001b[39m*\u001b[39mkwargs):\n\u001b[1;32m   1464\u001b[0m     \u001b[39mif\u001b[39;00m data \u001b[39mis\u001b[39;00m \u001b[39mNone\u001b[39;00m:\n\u001b[0;32m-> 1465\u001b[0m         \u001b[39mreturn\u001b[39;00m func(ax, \u001b[39m*\u001b[39;49m\u001b[39mmap\u001b[39;49m(sanitize_sequence, args), \u001b[39m*\u001b[39;49m\u001b[39m*\u001b[39;49mkwargs)\n\u001b[1;32m   1467\u001b[0m     bound \u001b[39m=\u001b[39m new_sig\u001b[39m.\u001b[39mbind(ax, \u001b[39m*\u001b[39margs, \u001b[39m*\u001b[39m\u001b[39m*\u001b[39mkwargs)\n\u001b[1;32m   1468\u001b[0m     auto_label \u001b[39m=\u001b[39m (bound\u001b[39m.\u001b[39marguments\u001b[39m.\u001b[39mget(label_namer)\n\u001b[1;32m   1469\u001b[0m                   \u001b[39mor\u001b[39;00m bound\u001b[39m.\u001b[39mkwargs\u001b[39m.\u001b[39mget(label_namer))\n",
      "File \u001b[0;32m~/miniconda3/lib/python3.11/site-packages/matplotlib/axes/_axes.py:4670\u001b[0m, in \u001b[0;36mAxes.scatter\u001b[0;34m(self, x, y, s, c, marker, cmap, norm, vmin, vmax, alpha, linewidths, edgecolors, plotnonfinite, **kwargs)\u001b[0m\n\u001b[1;32m   4667\u001b[0m \u001b[39mif\u001b[39;00m edgecolors \u001b[39mis\u001b[39;00m \u001b[39mNone\u001b[39;00m:\n\u001b[1;32m   4668\u001b[0m     orig_edgecolor \u001b[39m=\u001b[39m kwargs\u001b[39m.\u001b[39mget(\u001b[39m'\u001b[39m\u001b[39medgecolor\u001b[39m\u001b[39m'\u001b[39m, \u001b[39mNone\u001b[39;00m)\n\u001b[1;32m   4669\u001b[0m c, colors, edgecolors \u001b[39m=\u001b[39m \\\n\u001b[0;32m-> 4670\u001b[0m     \u001b[39mself\u001b[39;49m\u001b[39m.\u001b[39;49m_parse_scatter_color_args(\n\u001b[1;32m   4671\u001b[0m         c, edgecolors, kwargs, x\u001b[39m.\u001b[39;49msize,\n\u001b[1;32m   4672\u001b[0m         get_next_color_func\u001b[39m=\u001b[39;49m\u001b[39mself\u001b[39;49m\u001b[39m.\u001b[39;49m_get_patches_for_fill\u001b[39m.\u001b[39;49mget_next_color)\n\u001b[1;32m   4674\u001b[0m \u001b[39mif\u001b[39;00m plotnonfinite \u001b[39mand\u001b[39;00m colors \u001b[39mis\u001b[39;00m \u001b[39mNone\u001b[39;00m:\n\u001b[1;32m   4675\u001b[0m     c \u001b[39m=\u001b[39m np\u001b[39m.\u001b[39mma\u001b[39m.\u001b[39mmasked_invalid(c)\n",
      "File \u001b[0;32m~/miniconda3/lib/python3.11/site-packages/matplotlib/axes/_axes.py:4499\u001b[0m, in \u001b[0;36mAxes._parse_scatter_color_args\u001b[0;34m(c, edgecolors, kwargs, xsize, get_next_color_func)\u001b[0m\n\u001b[1;32m   4495\u001b[0m     \u001b[39melse\u001b[39;00m:\n\u001b[1;32m   4496\u001b[0m         \u001b[39mif\u001b[39;00m \u001b[39mlen\u001b[39m(colors) \u001b[39mnot\u001b[39;00m \u001b[39min\u001b[39;00m (\u001b[39m0\u001b[39m, \u001b[39m1\u001b[39m, xsize):\n\u001b[1;32m   4497\u001b[0m             \u001b[39m# NB: remember that a single color is also acceptable.\u001b[39;00m\n\u001b[1;32m   4498\u001b[0m             \u001b[39m# Besides *colors* will be an empty array if c == 'none'.\u001b[39;00m\n\u001b[0;32m-> 4499\u001b[0m             \u001b[39mraise\u001b[39;00m invalid_shape_exception(\u001b[39mlen\u001b[39m(colors), xsize)\n\u001b[1;32m   4500\u001b[0m \u001b[39melse\u001b[39;00m:\n\u001b[1;32m   4501\u001b[0m     colors \u001b[39m=\u001b[39m \u001b[39mNone\u001b[39;00m  \u001b[39m# use cmap, norm after collection is created\u001b[39;00m\n",
      "\u001b[0;31mValueError\u001b[0m: 'c' argument has 4 elements, which is inconsistent with 'x' and 'y' with size 3."
     ]
    }
   ],
   "source": [
    "#\n",
    "g.run_umap()"
   ]
  },
  {
   "cell_type": "code",
   "execution_count": 10,
   "metadata": {},
   "outputs": [
    {
     "name": "stdout",
     "output_type": "stream",
     "text": [
      "(1, 14)\n"
     ]
    }
   ],
   "source": [
    "\n",
    "d = np.load('/home/cat/code/gerbil/meta_data/fig3/malepup_malepup_pairwise.npy')\n",
    "\n",
    "print (d.shape)\n",
    "\n",
    "#np.save('/home/cat/code/gerbil/meta_data/fig3/malepup_malepup_pairwise.npy', d)\n"
   ]
  },
  {
   "cell_type": "code",
   "execution_count": 120,
   "metadata": {},
   "outputs": [
    {
     "name": "stdout",
     "output_type": "stream",
     "text": [
      "(48, 14, 24)\n",
      "771.0714285714287\n"
     ]
    }
   ],
   "source": [
    "d = np.load('/home/cat/code/gerbil/meta_data/fig4/pairwise_proximity_pups.npy')\n",
    "print (d.shape)\n",
    "\n",
    "plt.figure()\n",
    "\n",
    "plt.imshow(d[0],\n",
    "          aspect = 'auto',\n",
    ")\n",
    "plt.colorbar()\n",
    "\n",
    "plt.figure()\n",
    "\n",
    "plt.plot(d[0].mean(0))\n",
    "\n",
    "print (d[0].mean(0).sum())\n",
    "plt.title(\"Pup-pup average proximity (for some random pup pair)\")\n",
    "plt.ylabel(\"Time (sec)\")  \n",
    "plt.show()"
   ]
  },
  {
   "cell_type": "code",
   "execution_count": 26,
   "metadata": {},
   "outputs": [
    {
     "name": "stdout",
     "output_type": "stream",
     "text": [
      "(48, 14)\n",
      "(48, 2)\n"
     ]
    }
   ],
   "source": [
    "g.n_dimensions = 2\n",
    "g.fit_gmm_pca()\n",
    "\n"
   ]
  },
  {
   "cell_type": "code",
   "execution_count": 27,
   "metadata": {},
   "outputs": [
    {
     "name": "stdout",
     "output_type": "stream",
     "text": [
      "(48, 2)\n"
     ]
    }
   ],
   "source": [
    "#\n"
   ]
  },
  {
   "cell_type": "code",
   "execution_count": 151,
   "metadata": {},
   "outputs": [
    {
     "name": "stdout",
     "output_type": "stream",
     "text": [
      "(50, 3)\n"
     ]
    }
   ],
   "source": [
    "import numpy as np\n",
    "import matplotlib.pyplot as plt\n",
    "from scipy.spatial import ConvexHull\n",
    "from mpl_toolkits.mplot3d.art3d import Poly3DCollection\n",
    "\n",
    "# Step 1: Generate or load your 3D data (replace this with your actual data)\n",
    "np.random.seed(0)\n",
    "data = np.random.rand(50, 3)  # 50 points in 3D\n",
    "\n",
    "# Step 2: Compute the convex hull\n",
    "hull = ConvexHull(data)\n",
    "vertices = data[hull.vertices]  # Vertices of the convex hull\n",
    "\n",
    "# get the ids of the vertices\n",
    "# make a larger vertices array and fill in the missing vertices with zeros\n",
    "vertices = np.zeros((data.shape[0],3))\n",
    "vertices[hull.vertices] = data[hull.vertices]\n",
    "\n",
    "print (vertices.shape)\n",
    "\n",
    "#\n",
    "\n",
    "# Step 3: Extract the valid edges and vertices from the convex hull\n",
    "edges = []\n",
    "for simplex in hull.simplices:\n",
    "    n_bad = 0\n",
    "    for v in simplex:\n",
    "        #print (v)\n",
    "        if v < 0 or v >= len(data):\n",
    "            n_bad += 1\n",
    "\n",
    "    if n_bad == 0:\n",
    "        edges.append(simplex)\n",
    "\n",
    "# Step 4: Create the 3D plot\n",
    "fig = plt.figure()\n",
    "ax = fig.add_subplot(111, projection='3d')\n",
    "\n",
    "# Step 5: Create a Poly3DCollection for the 3D polygon\n",
    "poly3d = [[vertices[edge[0]], vertices[edge[1]], vertices[edge[2]]] for edge in edges]\n",
    "\n",
    "ax.add_collection3d(Poly3DCollection(poly3d, \n",
    "                                     facecolors='black', \n",
    "                                     linewidths=1, \n",
    "                                     edgecolors='black', \n",
    "                                     alpha=0.25))\n",
    "\n",
    "# Step 6: Set axis labels and display the plot\n",
    "ax.set_xlabel('X-axis')\n",
    "ax.set_ylabel('Y-axis')\n",
    "ax.set_zlabel('Z-axis')\n",
    "\n",
    "plt.show()\n"
   ]
  },
  {
   "cell_type": "code",
   "execution_count": 254,
   "metadata": {},
   "outputs": [
    {
     "ename": "AttributeError",
     "evalue": "module 'vedo.shapes' has no attribute 'Poly'",
     "output_type": "error",
     "traceback": [
      "\u001b[0;31m---------------------------------------------------------------------------\u001b[0m",
      "\u001b[0;31mAttributeError\u001b[0m                            Traceback (most recent call last)",
      "\u001b[1;32m/home/cat/code/gerbil/explore_pca.ipynb Cell 11\u001b[0m line \u001b[0;36m4\n\u001b[1;32m     <a href='vscode-notebook-cell:/home/cat/code/gerbil/explore_pca.ipynb#X22sZmlsZQ%3D%3D?line=37'>38</a>\u001b[0m faces2 \u001b[39m=\u001b[39m [\n\u001b[1;32m     <a href='vscode-notebook-cell:/home/cat/code/gerbil/explore_pca.ipynb#X22sZmlsZQ%3D%3D?line=38'>39</a>\u001b[0m     [\u001b[39m0\u001b[39m, \u001b[39m1\u001b[39m, \u001b[39m2\u001b[39m, \u001b[39m3\u001b[39m],  \u001b[39m# Bottom face\u001b[39;00m\n\u001b[1;32m     <a href='vscode-notebook-cell:/home/cat/code/gerbil/explore_pca.ipynb#X22sZmlsZQ%3D%3D?line=39'>40</a>\u001b[0m     [\u001b[39m4\u001b[39m, \u001b[39m5\u001b[39m, \u001b[39m6\u001b[39m, \u001b[39m7\u001b[39m],  \u001b[39m# Top face\u001b[39;00m\n\u001b[0;32m   (...)\u001b[0m\n\u001b[1;32m     <a href='vscode-notebook-cell:/home/cat/code/gerbil/explore_pca.ipynb#X22sZmlsZQ%3D%3D?line=43'>44</a>\u001b[0m     [\u001b[39m3\u001b[39m, \u001b[39m0\u001b[39m, \u001b[39m4\u001b[39m, \u001b[39m7\u001b[39m]   \u001b[39m# Side 4\u001b[39;00m\n\u001b[1;32m     <a href='vscode-notebook-cell:/home/cat/code/gerbil/explore_pca.ipynb#X22sZmlsZQ%3D%3D?line=44'>45</a>\u001b[0m ]\n\u001b[1;32m     <a href='vscode-notebook-cell:/home/cat/code/gerbil/explore_pca.ipynb#X22sZmlsZQ%3D%3D?line=46'>47</a>\u001b[0m \u001b[39m# Create the two polyhedron objects\u001b[39;00m\n\u001b[0;32m---> <a href='vscode-notebook-cell:/home/cat/code/gerbil/explore_pca.ipynb#X22sZmlsZQ%3D%3D?line=47'>48</a>\u001b[0m polyhedron1 \u001b[39m=\u001b[39m vedo\u001b[39m.\u001b[39;49mshapes\u001b[39m.\u001b[39;49mPoly(vertices1, faces1)\n\u001b[1;32m     <a href='vscode-notebook-cell:/home/cat/code/gerbil/explore_pca.ipynb#X22sZmlsZQ%3D%3D?line=48'>49</a>\u001b[0m polyhedron2 \u001b[39m=\u001b[39m vedo\u001b[39m.\u001b[39mshapes\u001b[39m.\u001b[39mPoly(vertices2, faces2)\n\u001b[1;32m     <a href='vscode-notebook-cell:/home/cat/code/gerbil/explore_pca.ipynb#X22sZmlsZQ%3D%3D?line=50'>51</a>\u001b[0m \u001b[39m# Compute the intersection between the two polyhedrons\u001b[39;00m\n",
      "\u001b[0;31mAttributeError\u001b[0m: module 'vedo.shapes' has no attribute 'Poly'"
     ]
    }
   ],
   "source": [
    "import vedo\n",
    "\n",
    "# Define the vertices of the first polyhedron\n",
    "vertices1 = [\n",
    "    [0, 0, 0],\n",
    "    [1, 0, 0],\n",
    "    [1, 1, 0],\n",
    "    [0, 1, 0],\n",
    "    [0, 0, 1],\n",
    "    [1, 0, 1],\n",
    "    [1, 1, 1],\n",
    "    [0, 1, 1]\n",
    "]\n",
    "\n",
    "# Define the faces for the first polyhedron\n",
    "faces1 = [\n",
    "    [0, 1, 2, 3],  # Bottom face\n",
    "    [4, 5, 6, 7],  # Top face\n",
    "    [0, 1, 5, 4],  # Side 1\n",
    "    [1, 2, 6, 5],  # Side 2\n",
    "    [2, 3, 7, 6],  # Side 3\n",
    "    [3, 0, 4, 7]   # Side 4\n",
    "]\n",
    "\n",
    "# Define the vertices of the second polyhedron\n",
    "vertices2 = [\n",
    "    [0.5, 0.5, 0],\n",
    "    [1.5, 0.5, 0],\n",
    "    [1.5, 1.5, 0],\n",
    "    [0.5, 1.5, 0],\n",
    "    [0.5, 0.5, 1],\n",
    "    [1.5, 0.5, 1],\n",
    "    [1.5, 1.5, 1],\n",
    "    [0.5, 1.5, 1]\n",
    "]\n",
    "\n",
    "# Define the faces for the second polyhedron\n",
    "faces2 = [\n",
    "    [0, 1, 2, 3],  # Bottom face\n",
    "    [4, 5, 6, 7],  # Top face\n",
    "    [0, 1, 5, 4],  # Side 1\n",
    "    [1, 2, 6, 5],  # Side 2\n",
    "    [2, 3, 7, 6],  # Side 3\n",
    "    [3, 0, 4, 7]   # Side 4\n",
    "]\n",
    "\n",
    "# Create the two polyhedron objects\n",
    "polyhedron1 = vedo.shapes.Poly(vertices1, faces1)\n",
    "polyhedron2 = vedo.shapes.Poly(vertices2, faces2)\n",
    "\n",
    "# Compute the intersection between the two polyhedrons\n",
    "intersection = polyhedron1.intersectWith(polyhedron2)\n",
    "\n",
    "# Visualize the intersection\n",
    "show(intersection)\n"
   ]
  },
  {
   "cell_type": "code",
   "execution_count": null,
   "metadata": {},
   "outputs": [],
   "source": []
  }
 ],
 "metadata": {
  "kernelspec": {
   "display_name": "base",
   "language": "python",
   "name": "python3"
  },
  "language_info": {
   "codemirror_mode": {
    "name": "ipython",
    "version": 3
   },
   "file_extension": ".py",
   "mimetype": "text/x-python",
   "name": "python",
   "nbconvert_exporter": "python",
   "pygments_lexer": "ipython3",
   "version": "3.11.4"
  },
  "orig_nbformat": 4
 },
 "nbformat": 4,
 "nbformat_minor": 2
}
