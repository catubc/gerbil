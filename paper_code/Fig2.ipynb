{
 "cells": [
  {
   "cell_type": "code",
   "execution_count": 1,
   "metadata": {
    "tags": []
   },
   "outputs": [
    {
     "name": "stderr",
     "output_type": "stream",
     "text": [
      "/home/cat/miniconda3/lib/python3.11/site-packages/tqdm/auto.py:21: TqdmWarning: IProgress not found. Please update jupyter and ipywidgets. See https://ipywidgets.readthedocs.io/en/stable/user_install.html\n",
      "  from .autonotebook import tqdm as notebook_tqdm\n"
     ]
    }
   ],
   "source": [
    "%matplotlib tk\n",
    "%load_ext autoreload\n",
    "%autoreload 2\n",
    "\n",
    "#\n",
    "from utils import GerbilPCA\n",
    "import numpy as np\n",
    "import matplotlib.pyplot as plt"
   ]
  },
  {
   "cell_type": "code",
   "execution_count": 4,
   "metadata": {
    "tags": []
   },
   "outputs": [],
   "source": [
    "#root_dir = '/mnt/b3a68699-495d-4ebb-9ab1-ac74f11c68c5/gerbil/aggregate_data/fig2'\n",
    "root_dir = '/home/cat/code/gerbil/meta_data/fig2/'\n",
    "\n",
    "behaviors = [\n",
    "\n",
    "   # #  ##NEST BEHAVIORS\n",
    "   #  'exits',\n",
    "   #   'huddling',\n",
    "\n",
    "   # #  # # # ###APPROACHES\n",
    "   # ### 'adult_pup_approaches',\n",
    "   #  'pup_adult_approaches',\n",
    "   #  'pup_pup_approaches',\n",
    "\n",
    "   #  # ##PAIRWISE PROXMITY\n",
    "   #   'pairwise_adult_pup',\n",
    "   #   'pairwise_pup_pup',\n",
    "\n",
    "    # AUTONOMY \n",
    "   'distance',\n",
    "    'exploration',\n",
    "   'food',\n",
    "   'water'\n",
    "]"
   ]
  },
  {
   "cell_type": "code",
   "execution_count": 12,
   "metadata": {
    "tags": []
   },
   "outputs": [
    {
     "name": "stdout",
     "output_type": "stream",
     "text": [
      "behavior:  distance (12, 14)\n",
      "behavior:  exploration (12, 14)\n",
      "behavior:  food (12, 14)\n",
      "behavior:  water (12, 14)\n"
     ]
    },
    {
     "name": "stderr",
     "output_type": "stream",
     "text": [
      "100%|██████████| 4/4 [00:00<00:00, 1899.38it/s]"
     ]
    },
    {
     "name": "stdout",
     "output_type": "stream",
     "text": [
      "mean:  0.5129425364090142  std:  0.2818123533918446\n",
      "mean:  0.66631102176174  std:  0.32671675125258526\n",
      "mean:  0.9716016829849133  std:  0.8367028113374393\n",
      "mean:  0.3489278244255058  std:  0.35387316149735215\n",
      "(12, 14)\n",
      "(12, 14)\n",
      "(12, 14)\n",
      "(12, 14)\n",
      "auc_f : (4, 12)\n",
      "auc_f mean:  [ 6.72110509  8.7367093  12.51487943  4.5104799 ]  ,std:  [0.67674495 1.13146915 3.35604301 1.12542997]\n",
      "anova:  F_onewayResult(statistic=35.65030451813826, pvalue=7.612729167613185e-12)\n"
     ]
    },
    {
     "name": "stderr",
     "output_type": "stream",
     "text": [
      "\n"
     ]
    }
   ],
   "source": [
    "g = GerbilPCA(root_dir, \n",
    "              behaviors)\n",
    "\n",
    "#\n",
    "g.smooth = False\n",
    "g.smooth_window = 5\n",
    "g.smooth_order = 2\n",
    "g.standardize = False\n",
    "g.n_dimensions = 2\n",
    "g.scatter_size = 600\n",
    "\n",
    "#\n",
    "g.load_data()\n",
    "\n",
    "#\n",
    "g.n_samples_kde = 1000\n",
    "g.sliding_window_size = 2\n",
    "g.dist_method = '2sample_ks_test'  # options: t_test, 2sample_ks_test\n",
    "g.pval_thresh = 0.05\n",
    "g.show_plots = True\n",
    "g.smooth_pval = True\n",
    "g.size=500\n",
    "g.interpolate_first_value = False\n",
    "g.get_rapid_dev_plots()\n",
    "\n",
    "#data\n",
    "g.plot_mean_behavior()\n",
    "\n",
    "#\n",
    "g.get_area_under_curve_Fig2()\n"
   ]
  },
  {
   "cell_type": "code",
   "execution_count": 28,
   "metadata": {},
   "outputs": [
    {
     "name": "stdout",
     "output_type": "stream",
     "text": [
      "self.stack:  10\n"
     ]
    }
   ],
   "source": [
    "#\n",
    "g.show_convex_hull = True\n",
    "g.remove_outlier_point= False\n",
    "g.show_cohorts = True\n",
    "\n",
    "\n",
    "#\n",
    "g.run_pca()\n"
   ]
  },
  {
   "cell_type": "code",
   "execution_count": 29,
   "metadata": {
    "tags": []
   },
   "outputs": [],
   "source": [
    "#\n",
    "g.find_overlaps()\n"
   ]
  },
  {
   "cell_type": "code",
   "execution_count": 36,
   "metadata": {
    "tags": []
   },
   "outputs": [],
   "source": [
    "# compute KL distance across deveopmental windows\n",
    "# split the data at 2 differnt time points and then compute the KL for sequential chunks\n",
    "\n",
    "\n",
    "#\n",
    "g.compute_dev_stages_histogram()\n",
    "\n",
    "#\n",
    "#g.plot_summary_devs()\n"
   ]
  },
  {
   "cell_type": "code",
   "execution_count": 46,
   "metadata": {},
   "outputs": [],
   "source": [
    "#\n",
    "#g.compute_mahalanobis_distance_distributions()\n",
    "#\n",
    "# g.n_bins = 13\n",
    "# g.compute_mahalanobis_distance_histograms()\n",
    "\n"
   ]
  },
  {
   "cell_type": "code",
   "execution_count": 7,
   "metadata": {
    "tags": []
   },
   "outputs": [
    {
     "name": "stdout",
     "output_type": "stream",
     "text": [
      "(4, 14)\n"
     ]
    }
   ],
   "source": [
    "g.show_dev_stage_similarties()"
   ]
  },
  {
   "cell_type": "code",
   "execution_count": null,
   "metadata": {},
   "outputs": [],
   "source": []
  },
  {
   "cell_type": "code",
   "execution_count": 68,
   "metadata": {},
   "outputs": [
    {
     "name": "stdout",
     "output_type": "stream",
     "text": [
      "[0. 1. 0. 0. 1. 0. 1. 1. 0. 0. 0. 0. 0. 0.]\n",
      "1.0 0.0 0.0\n",
      "[0. 0. 0. 0. 0. 0. 1. 1. 0. 0. 0. 0. 0. 0.]\n"
     ]
    }
   ],
   "source": [
    "\n",
    "def replace_isolated_ones_with_zeros(temp):\n",
    "    \n",
    "    # This switches the first value if its followed by a 2+ sequence\n",
    "    start_idx = 1\n",
    "    if temp[start_idx]!=temp[start_idx+1]:\n",
    "        print(temp[start_idx], temp[start_idx+1], temp[start_idx+2])\n",
    "        if temp[start_idx+1]==temp[start_idx+2]:\n",
    "            temp[start_idx] = temp[start_idx+1]\n",
    "\n",
    "    # rest of the values\n",
    "    for k in range(start_idx+1,temp.shape[0]-1):\n",
    "        #\n",
    "        if temp[k]==temp[k-1]:\n",
    "            continue\n",
    "        elif temp[k]!=temp[k+1]:\n",
    "            temp[k] = temp[k+1]\n",
    "\n",
    "    # \n",
    "    return temp\n",
    "\n",
    "\n",
    "temp = np.zeros(14)\n",
    "\n",
    "#temp [2:4] = 1\n",
    "temp[1] = 1\n",
    "temp[4] = 1\n",
    "\n",
    "temp[6] = 1\n",
    "temp[7] = 1\n",
    "\n",
    "print (temp)\n",
    "\n",
    "temp = replace_isolated_ones_with_zeros(temp)\n",
    "print (temp)\n"
   ]
  },
  {
   "cell_type": "code",
   "execution_count": null,
   "metadata": {},
   "outputs": [],
   "source": []
  },
  {
   "cell_type": "code",
   "execution_count": null,
   "metadata": {},
   "outputs": [],
   "source": []
  },
  {
   "cell_type": "code",
   "execution_count": null,
   "metadata": {},
   "outputs": [],
   "source": []
  },
  {
   "cell_type": "code",
   "execution_count": null,
   "metadata": {},
   "outputs": [],
   "source": []
  },
  {
   "cell_type": "code",
   "execution_count": null,
   "metadata": {},
   "outputs": [],
   "source": []
  },
  {
   "cell_type": "code",
   "execution_count": null,
   "metadata": {},
   "outputs": [],
   "source": []
  },
  {
   "cell_type": "code",
   "execution_count": 85,
   "metadata": {},
   "outputs": [
    {
     "name": "stderr",
     "output_type": "stream",
     "text": [
      "100%|██████████| 30/30 [00:04<00:00,  7.15it/s]\n",
      "/tmp/ipykernel_140888/892830536.py:43: RuntimeWarning: Mean of empty slice\n",
      "  t1_m = np.nanmean(t1_m,0)\n",
      "/tmp/ipykernel_140888/892830536.py:44: RuntimeWarning: Mean of empty slice\n",
      "  t2_m = np.nanmean(t2_m,0)\n"
     ]
    }
   ],
   "source": [
    "#\n",
    "from tqdm import trange\n",
    "import parmap\n",
    "\n",
    "# compute KL distance across deveopmental windows\n",
    "# split the data at 2 differnt time points and then compute the KL for sequential chunks\n",
    "g.behavior_id = 3\n",
    "g.n_samples_kde = 1000\n",
    "#g.dist_method = 'js_div'\n",
    "#g.dist_method = 'gausianity'\n",
    "g.dist_method = 'wasserstein_distance'\n",
    "#g.dist_method = 'kl_div'\n",
    "\n",
    "\n",
    "#\n",
    "n_runs = 30\n",
    "#\n",
    "if True:\n",
    "    res = parmap.map(g.get_kl_matrix, \n",
    "                     range(n_runs), \n",
    "                     pm_processes=10,\n",
    "                     pm_pbar=True)\n",
    "    \n",
    "    t1_m = []\n",
    "    t2_m = []\n",
    "    for k in range(len(res)):\n",
    "        t1_m.append(res[k][0])\n",
    "        t2_m.append(res[k][1])\n",
    "\n",
    "else:\n",
    "    t1_m = []\n",
    "    t2_m = []\n",
    "    for k in trange(n_runs):\n",
    "        t1,t2 = g.get_kl_matrix(k)\n",
    "        t1_m.append(t1)\n",
    "        t2_m.append(t2)\n",
    "\n",
    "#\n",
    "t1_m = np.array(t1_m)\n",
    "t2_m = np.array(t2_m)\n",
    "\n",
    "# take averages over axis 0\n",
    "t1_m = np.nanmean(t1_m,0)\n",
    "t2_m = np.nanmean(t2_m,0)\n",
    "\n",
    "#\n",
    "labels = np.arange(16,30,1)\n",
    "plt.figure()\n",
    "plt.subplot(121)\n",
    "plt.imshow(t1_m,\n",
    "           # use divergent colormap with white in the middle\n",
    "            #  cmap='RdBu_r',\n",
    "           )\n",
    "plt.xticks(np.arange(14),labels)\n",
    "plt.yticks(np.arange(14),labels)\n",
    "plt.colorbar()\n",
    "plt.xlabel(\"t2\")\n",
    "plt.ylabel(\"t1\")\n",
    "\n",
    "#\n",
    "plt.subplot(122)\n",
    "plt.imshow(t2_m,\n",
    "           #cmap='RdBu_r',\n",
    "           )\n",
    "plt.xticks(np.arange(14),labels)\n",
    "plt.yticks(np.arange(14),labels)\n",
    "plt.colorbar()\n",
    "\n",
    "# rewrite xlabel so it starts at 15 instead of 0    \n",
    "# \n",
    "plt.xlabel(\"t2\")\n",
    "plt.ylabel(\"t1\")\n",
    "\n",
    "#\n",
    "plt.show()\n",
    "        "
   ]
  },
  {
   "cell_type": "code",
   "execution_count": null,
   "metadata": {},
   "outputs": [],
   "source": []
  },
  {
   "cell_type": "code",
   "execution_count": null,
   "metadata": {},
   "outputs": [],
   "source": []
  },
  {
   "cell_type": "code",
   "execution_count": 186,
   "metadata": {},
   "outputs": [
    {
     "name": "stdout",
     "output_type": "stream",
     "text": [
      "(12, 8) (12, 3)\n"
     ]
    }
   ],
   "source": [
    "# plot the distribution of points from day 0 to 8\n",
    "behavvior_id = 0\n",
    "temp1 = g.data[behavior_id][:,:8]\n",
    "temp2 = g.data[behavior_id][:,8:8+3]\n",
    "print (temp1.shape, temp2.shape)\n",
    "\n",
    "plt.figure()\n",
    "plt.plot(np.mean(temp1,0))\n",
    "plt.plot(np.mean(temp2,0))\n",
    "plt.show()\n",
    "\n",
    "plt.figure()\n",
    "plt.scatter(temp1*0,\n",
    "            temp1,\n",
    "            c='blue',\n",
    "            #alpha=.1,\n",
    "            s=1)\n",
    "plt.scatter(temp2*0+1,\n",
    "            temp2,\n",
    "            c='red',\n",
    "            #alpha=.1,\n",
    "            s=1)\n",
    "\n",
    "plt.show()\n",
    "\n"
   ]
  },
  {
   "cell_type": "code",
   "execution_count": null,
   "metadata": {},
   "outputs": [],
   "source": [
    "\n",
    "\n"
   ]
  },
  {
   "cell_type": "code",
   "execution_count": 94,
   "metadata": {},
   "outputs": [],
   "source": [
    "import numpy as np\n",
    "import statsmodels.api as sm\n",
    "import matplotlib.pyplot as plt\n",
    "\n",
    "# Sample data (replace with your data)\n",
    "#data = np.random.uniform(0, 10, 1000)\n",
    "\n",
    "# Perform kernel density estimation (KDE) with an Epanechnikov kernel\n",
    "data = temp1.copy()\n",
    "kde = sm.nonparametric.KDEUnivariate(data)\n",
    "kde.fit()  # Use \"epa\" for Epanechnikov kernel\n",
    "\n",
    "# Evaluate the estimated density at a set of values\n",
    "\n",
    "x = np.linspace(min(data), max(data), 1000)\n",
    "pdf = kde.evaluate(x)\n",
    "\n",
    "# get weighted samples from the KDE\n",
    "# Generate random samples from the estimated density\n",
    "num_samples = 1000\n",
    "samples = np.random.choice(x, size=num_samples, p=pdf/pdf.sum())\n",
    "\n",
    "\n",
    "# Plot the estimated density\n",
    "plt.plot(x, pdf)\n",
    "plt.hist(samples, density=True, alpha=0.5)\n",
    "plt.title(\"Kernel Density Estimation (Epanechnikov Kernel)\")\n",
    "plt.xlabel(\"x\")\n",
    "plt.ylabel(\"Density\")\n",
    "plt.show()\n"
   ]
  },
  {
   "cell_type": "code",
   "execution_count": null,
   "metadata": {},
   "outputs": [],
   "source": []
  },
  {
   "cell_type": "code",
   "execution_count": null,
   "metadata": {},
   "outputs": [],
   "source": []
  },
  {
   "cell_type": "code",
   "execution_count": null,
   "metadata": {},
   "outputs": [],
   "source": []
  },
  {
   "cell_type": "code",
   "execution_count": 40,
   "metadata": {},
   "outputs": [],
   "source": [
    "# Step 2: Compute the convex hull\n",
    "import matplotlib.pyplot as plt\n",
    "from scipy.spatial import ConvexHull\n",
    "from mpl_toolkits.mplot3d.art3d import Poly3DCollection\n",
    "import numpy as np\n",
    "\n",
    "def plot_polyhedron(ax,temp, ctr):\n",
    "\n",
    "    clrs = ['black','blue','red']\n",
    "    hull = ConvexHull(temp)\n",
    "    vertices = temp[hull.vertices]  # Vertices of the convex hull\n",
    "\n",
    "    # get the ids of the vertices\n",
    "    # make a larger vertices array and fill in the missing vertices with zeros\n",
    "    vertices = np.zeros((temp.shape[0],3))\n",
    "    vertices[hull.vertices] = temp[hull.vertices]\n",
    "    #\n",
    "\n",
    "    # Step 3: Extract the valid edges and vertices from the convex hull\n",
    "    edges = []\n",
    "    for simplex in hull.simplices:\n",
    "        n_bad = 0\n",
    "        for v in simplex:\n",
    "            #print (v)\n",
    "            if v < 0 or v >= len(temp):\n",
    "                n_bad += 1\n",
    "\n",
    "        if n_bad == 0:\n",
    "            edges.append(simplex)\n",
    "\n",
    "    # Step 5: Create a Poly3DCollection for the 3D polygon\n",
    "    poly3d = [[vertices[edge[0]], vertices[edge[1]], vertices[edge[2]]] for edge in edges]\n",
    "\n",
    "    ax.add_collection3d(Poly3DCollection(poly3d, \n",
    "                                        facecolors=clrs[ctr], \n",
    "                                        linewidths=1, \n",
    "                                        edgecolors=clrs[ctr], \n",
    "                                        alpha=0.5))\n",
    "    \n",
    "#\n",
    "fig = plt.figure()\n",
    "ax = fig.add_subplot(111, projection='3d')\n",
    "\n",
    "plot_polyhedron(ax,g.polygon_array[0], 0)\n",
    "plot_polyhedron(ax,g.polygon_array[1], 1)\n",
    "plot_polyhedron(ax,cc.points(), 2)\n",
    "\n",
    "ax.set_xlim(-10,10)\n",
    "ax.set_ylim(-10,10)\n",
    "ax.set_zlim(-10,10)\n",
    "\n",
    "\n",
    "plt.show()"
   ]
  },
  {
   "cell_type": "code",
   "execution_count": 32,
   "metadata": {},
   "outputs": [
    {
     "name": "stdout",
     "output_type": "stream",
     "text": [
      "[[-0.702962    0.7062842  -0.26558292]\n",
      " [-0.8063882  -0.17914958 -0.3446897 ]\n",
      " [-0.81119835 -0.28091145 -0.35484204]\n",
      " [-0.7396896   1.3807548  -0.36920157]\n",
      " [-0.85529685 -0.37352386 -0.4178022 ]\n",
      " [-1.0109018  -0.8226008  -0.6443445 ]\n",
      " [-1.1583123  -0.07611743 -0.85183734]\n",
      " [-1.0330684   0.45338902 -0.71459347]\n",
      " [-1.0984539  -0.5606807  -0.7533681 ]\n",
      " [-1.1302632  -0.37038487 -0.78956896]]\n"
     ]
    }
   ],
   "source": [
    "print (cc.points())"
   ]
  },
  {
   "cell_type": "code",
   "execution_count": 249,
   "metadata": {},
   "outputs": [
    {
     "name": "stdout",
     "output_type": "stream",
     "text": [
      "polygon array:  [array([[ 1.10918594,  0.95192086,  2.28657032],\n",
      "       [ 4.38407873, -0.23680002,  1.25295694],\n",
      "       [ 3.90056015,  0.63616137,  1.36920365],\n",
      "       [ 0.05088653,  6.13126071,  0.38957656],\n",
      "       [ 5.4099821 , -3.95657028, -0.85071022],\n",
      "       [ 2.85869699,  0.65861864, -0.42668024],\n",
      "       [-1.46358674, -0.56719916, -1.24742684],\n",
      "       [-1.74267848, -1.59532024, -1.66173092],\n",
      "       [ 1.16584881, -0.14581732, -2.68784599]]), array([[-0.53556641, -0.44382364, -0.41356438],\n",
      "       [-1.13124266, -0.09174938, -0.28665785],\n",
      "       [-0.31425656, -0.36563015, -1.03345376],\n",
      "       [-0.88934806,  1.98686823, -0.10081344],\n",
      "       [ 0.21566913, -1.4671115 , -0.92678335],\n",
      "       [-0.51894257,  0.48673448, -0.76507539],\n",
      "       [-3.27458569,  0.36686849, -0.12309288],\n",
      "       [-2.43665007,  0.36235476, -0.57677616]])]\n"
     ]
    },
    {
     "ename": "AttributeError",
     "evalue": "module 'Geometry3D' has no attribute 'ConvexHull'",
     "output_type": "error",
     "traceback": [
      "\u001b[0;31m---------------------------------------------------------------------------\u001b[0m",
      "\u001b[0;31mAttributeError\u001b[0m                            Traceback (most recent call last)",
      "\u001b[1;32m/home/cat/code/gerbil/explore_pca.ipynb Cell 4\u001b[0m line \u001b[0;36m1\n\u001b[0;32m----> <a href='vscode-notebook-cell:/home/cat/code/gerbil/explore_pca.ipynb#X21sZmlsZQ%3D%3D?line=0'>1</a>\u001b[0m g\u001b[39m.\u001b[39;49mplot_overlap_volumes()\n",
      "File \u001b[0;32m~/code/gerbil/utils.py:385\u001b[0m, in \u001b[0;36mGerbilPCA.plot_overlap_volumes\u001b[0;34m(self)\u001b[0m\n\u001b[1;32m    370\u001b[0m ax\u001b[39m.\u001b[39mscatter( polygon[:, \u001b[39m0\u001b[39m],\n\u001b[1;32m    371\u001b[0m             polygon[:,\u001b[39m1\u001b[39m],\n\u001b[1;32m    372\u001b[0m             polygon[:,\u001b[39m2\u001b[39m],\n\u001b[0;32m   (...)\u001b[0m\n\u001b[1;32m    379\u001b[0m                 edgecolors\u001b[39m=\u001b[39m\u001b[39m'\u001b[39m\u001b[39mk\u001b[39m\u001b[39m'\u001b[39m\n\u001b[1;32m    380\u001b[0m             )\n\u001b[1;32m    384\u001b[0m \u001b[39m# Compute the convex hull\u001b[39;00m\n\u001b[0;32m--> 385\u001b[0m convex_hull \u001b[39m=\u001b[39m g3d\u001b[39m.\u001b[39;49mConvexHull(polygon)\n\u001b[1;32m    387\u001b[0m \u001b[39m# Get the vertices of the convex hull\u001b[39;00m\n\u001b[1;32m    388\u001b[0m hull_vertices \u001b[39m=\u001b[39m convex_hull\u001b[39m.\u001b[39mget_vertices()\n",
      "\u001b[0;31mAttributeError\u001b[0m: module 'Geometry3D' has no attribute 'ConvexHull'"
     ]
    }
   ],
   "source": [
    "g.plot_overlap_volumes()\n"
   ]
  },
  {
   "cell_type": "code",
   "execution_count": 261,
   "metadata": {},
   "outputs": [
    {
     "name": "stdout",
     "output_type": "stream",
     "text": [
      "[[ 1.10918594  0.95192086  2.28657032]\n",
      " [ 4.38407873 -0.23680002  1.25295694]\n",
      " [ 3.90056015  0.63616137  1.36920365]\n",
      " [ 0.05088653  6.13126071  0.38957656]\n",
      " [ 5.4099821  -3.95657028 -0.85071022]\n",
      " [ 2.85869699  0.65861864 -0.42668024]\n",
      " [-1.46358674 -0.56719916 -1.24742684]\n",
      " [-1.74267848 -1.59532024 -1.66173092]\n",
      " [ 1.16584881 -0.14581732 -2.68784599]]\n",
      "0.0\n"
     ]
    }
   ],
   "source": [
    "\n"
   ]
  },
  {
   "cell_type": "code",
   "execution_count": null,
   "metadata": {},
   "outputs": [],
   "source": []
  },
  {
   "cell_type": "code",
   "execution_count": null,
   "metadata": {},
   "outputs": [],
   "source": []
  },
  {
   "cell_type": "code",
   "execution_count": null,
   "metadata": {},
   "outputs": [],
   "source": []
  },
  {
   "cell_type": "code",
   "execution_count": null,
   "metadata": {},
   "outputs": [],
   "source": []
  },
  {
   "cell_type": "code",
   "execution_count": 57,
   "metadata": {},
   "outputs": [
    {
     "name": "stdout",
     "output_type": "stream",
     "text": [
      "(198, 2)\n"
     ]
    }
   ],
   "source": [
    "#\n",
    "g.run_umap()"
   ]
  },
  {
   "cell_type": "code",
   "execution_count": 231,
   "metadata": {},
   "outputs": [
    {
     "ename": "ModuleNotFoundError",
     "evalue": "No module named 'triintersect'",
     "output_type": "error",
     "traceback": [
      "\u001b[0;31m---------------------------------------------------------------------------\u001b[0m",
      "\u001b[0;31mModuleNotFoundError\u001b[0m                       Traceback (most recent call last)",
      "\u001b[1;32m/home/cat/code/gerbil/explore_pca.ipynb Cell 6\u001b[0m line \u001b[0;36m2\n\u001b[1;32m      <a href='vscode-notebook-cell:/home/cat/code/gerbil/explore_pca.ipynb#X15sZmlsZQ%3D%3D?line=0'>1</a>\u001b[0m \u001b[39mimport\u001b[39;00m \u001b[39mnumpy\u001b[39;00m \u001b[39mas\u001b[39;00m \u001b[39mnp\u001b[39;00m\n\u001b[0;32m----> <a href='vscode-notebook-cell:/home/cat/code/gerbil/explore_pca.ipynb#X15sZmlsZQ%3D%3D?line=1'>2</a>\u001b[0m \u001b[39mimport\u001b[39;00m \u001b[39mtriintersect\u001b[39;00m\n\u001b[1;32m      <a href='vscode-notebook-cell:/home/cat/code/gerbil/explore_pca.ipynb#X15sZmlsZQ%3D%3D?line=3'>4</a>\u001b[0m \u001b[39m# Define the vertices of the two polygons\u001b[39;00m\n\u001b[1;32m      <a href='vscode-notebook-cell:/home/cat/code/gerbil/explore_pca.ipynb#X15sZmlsZQ%3D%3D?line=4'>5</a>\u001b[0m polygon1 \u001b[39m=\u001b[39m np\u001b[39m.\u001b[39marray([[\u001b[39m0\u001b[39m, \u001b[39m0\u001b[39m, \u001b[39m0\u001b[39m], [\u001b[39m1\u001b[39m, \u001b[39m0\u001b[39m, \u001b[39m0\u001b[39m], [\u001b[39m0\u001b[39m, \u001b[39m1\u001b[39m, \u001b[39m0\u001b[39m], [\u001b[39m0\u001b[39m, \u001b[39m0\u001b[39m, \u001b[39m1\u001b[39m]])\n",
      "\u001b[0;31mModuleNotFoundError\u001b[0m: No module named 'triintersect'"
     ]
    }
   ],
   "source": [
    "import numpy as np\n",
    "import triintersect\n",
    "\n",
    "# Define the vertices of the two polygons\n",
    "polygon1 = np.array([[0, 0, 0], [1, 0, 0], [0, 1, 0], [0, 0, 1]])\n",
    "polygon2 = np.array([[0, 0, 0], [1, 0, 0], [0, 1, 0], [0, 0, 1]])\n",
    "\n",
    "# Triangulate the polygons\n",
    "triangles1 = triintersect.triangulate(polygon1)\n",
    "triangles2 = triintersect.triangulate(polygon2)\n",
    "\n",
    "# Initialize a variable to store the intersection volume\n",
    "intersection_volume = 0\n",
    "\n",
    "# Iterate through the triangles of the first polygon\n",
    "for triangle1 in triangles1:\n",
    "    # Iterate through the triangles of the second polygon\n",
    "    for triangle2 in triangles2:\n",
    "        # Compute the intersection of the two triangles\n",
    "        intersection = triintersect.intersection(triangle1, triangle2)\n",
    "        if intersection:\n",
    "            # Calculate the volume of the intersection and add it to the total\n",
    "            intersection_volume += triintersect.volume(intersection)\n",
    "\n",
    "print(\"Intersection Volume:\", intersection_volume)\n"
   ]
  },
  {
   "cell_type": "code",
   "execution_count": null,
   "metadata": {},
   "outputs": [],
   "source": []
  },
  {
   "cell_type": "code",
   "execution_count": 26,
   "metadata": {},
   "outputs": [
    {
     "name": "stdout",
     "output_type": "stream",
     "text": [
      "(48, 14)\n",
      "(48, 2)\n"
     ]
    }
   ],
   "source": [
    "g.n_dimensions = 2\n",
    "g.fit_gmm_pca()\n",
    "\n"
   ]
  },
  {
   "cell_type": "code",
   "execution_count": 27,
   "metadata": {},
   "outputs": [
    {
     "name": "stdout",
     "output_type": "stream",
     "text": [
      "(48, 2)\n"
     ]
    }
   ],
   "source": [
    "#\n"
   ]
  },
  {
   "cell_type": "code",
   "execution_count": 2,
   "metadata": {},
   "outputs": [
    {
     "name": "stdout",
     "output_type": "stream",
     "text": [
      "(18, 14)\n"
     ]
    }
   ],
   "source": [
    "import numpy as np\n",
    "d = np.load('/home/cat/Downloads/Downloads/pup_pup_pairwise.npy')\n",
    "print (d.shape)"
   ]
  },
  {
   "cell_type": "code",
   "execution_count": null,
   "metadata": {},
   "outputs": [],
   "source": []
  }
 ],
 "metadata": {
  "kernelspec": {
   "display_name": "Python 3 (ipykernel)",
   "language": "python",
   "name": "python3"
  },
  "language_info": {
   "codemirror_mode": {
    "name": "ipython",
    "version": 3
   },
   "file_extension": ".py",
   "mimetype": "text/x-python",
   "name": "python",
   "nbconvert_exporter": "python",
   "pygments_lexer": "ipython3",
   "version": "3.11.4"
  }
 },
 "nbformat": 4,
 "nbformat_minor": 4
}
