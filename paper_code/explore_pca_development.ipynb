{
 "cells": [
  {
   "cell_type": "code",
   "execution_count": 1,
   "metadata": {
    "tags": []
   },
   "outputs": [
    {
     "name": "stderr",
     "output_type": "stream",
     "text": [
      "/home/cat/miniconda3/envs/sleap_new/lib/python3.7/site-packages/tqdm/auto.py:21: TqdmWarning: IProgress not found. Please update jupyter and ipywidgets. See https://ipywidgets.readthedocs.io/en/stable/user_install.html\n",
      "  from .autonotebook import tqdm as notebook_tqdm\n"
     ]
    }
   ],
   "source": [
    "%matplotlib tk\n",
    "%load_ext autoreload\n",
    "%autoreload 2\n",
    "\n",
    "#\n",
    "from utils import GerbilPCA\n",
    "import numpy as np\n",
    "import matplotlib.pyplot as plt"
   ]
  },
  {
   "cell_type": "code",
   "execution_count": 3,
   "metadata": {
    "tags": []
   },
   "outputs": [],
   "source": [
    "root_dir = '/mnt/b3a68699-495d-4ebb-9ab1-ac74f11c68c5/gerbil/aggregate_data/fig2'\n",
    "\n",
    "behaviors = [\n",
    "\n",
    "    # # ###APPROACHES\n",
    "    # 'adult_pup_approaches',\n",
    "    # 'pup_adult_approaches',\n",
    "    # 'pup_pup_approaches',\n",
    "\n",
    "    # ###NEST BEHAVIORS\n",
    "    # 'nest_exits',\n",
    "    #  'huddling',\n",
    "\n",
    "    # ###PAIRWISE PROXMITY\n",
    "    #  'adult_pup_pairwise',\n",
    "    #  'pup_pup_pairwise',\n",
    "\n",
    "    # AUTONOMY \n",
    "    'distance',\n",
    "    'exploration',\n",
    "    'food',\n",
    "    'water'\n",
    "]"
   ]
  },
  {
   "cell_type": "code",
   "execution_count": 4,
   "metadata": {
    "tags": []
   },
   "outputs": [
    {
     "name": "stdout",
     "output_type": "stream",
     "text": [
      "behavior:  distance (12, 14)\n",
      "behavior:  exploration (12, 14)\n",
      "behavior:  food (12, 14)\n",
      "behavior:  water (12, 14)\n",
      "self.stack:  4\n"
     ]
    }
   ],
   "source": [
    "g = GerbilPCA(root_dir, \n",
    "              behaviors)\n",
    "\n",
    "#\n",
    "g.smooth = False\n",
    "g.smooth_window = 5\n",
    "g.smooth_order = 2\n",
    "g.standardize = True\n",
    "g.n_dimensions = 3\n",
    "g.scatter_size = 600\n",
    "\n",
    "#\n",
    "g.load_data()\n",
    "\n",
    "#data\n",
    "#g.plot_mean_behavior()\n",
    "\n",
    "#\n",
    "g.show_convex_hull = True\n",
    "g.remove_outlier_point= False\n",
    "g.show_cohorts = True\n",
    "\n",
    "\n",
    "#\n",
    "g.run_pca()\n"
   ]
  },
  {
   "cell_type": "code",
   "execution_count": 5,
   "metadata": {
    "tags": []
   },
   "outputs": [],
   "source": [
    "#\n",
    "g.find_overlaps()\n"
   ]
  },
  {
   "cell_type": "code",
   "execution_count": 50,
   "metadata": {},
   "outputs": [],
   "source": [
    "#\n",
    "# g.n_bins = 13\n",
    "# g.compute_mahalanobis_distance_histograms()\n"
   ]
  },
  {
   "cell_type": "code",
   "execution_count": 8,
   "metadata": {},
   "outputs": [],
   "source": [
    "#\n",
    "g.compute_mahalanobis_distance_distributions()"
   ]
  },
  {
   "cell_type": "code",
   "execution_count": 11,
   "metadata": {
    "tags": []
   },
   "outputs": [
    {
     "name": "stderr",
     "output_type": "stream",
     "text": [
      "100%|█████████████████████████████████████████████████████████████████████████████████████████████████████████████████████████| 4/4 [00:00<00:00, 15.06it/s]\n"
     ]
    }
   ],
   "source": [
    "# compute KL distance across deveopmental windows\n",
    "# split the data at 2 differnt time points and then compute the KL for sequential chunks\n",
    "g.n_samples_kde = 1000\n",
    "g.sliding_window_size = 2\n",
    "g.dist_method = '2sample_ks_test'  # options: t_test, 2sample_ks_test\n",
    "g.pval_thresh = 0.01\n",
    "g.show_plots = True\n",
    "\n",
    "#\n",
    "g.get_dev_plots()\n",
    "\n",
    "#\n",
    "g.compute_dev_stages_histogram()\n"
   ]
  },
  {
   "cell_type": "code",
   "execution_count": 7,
   "metadata": {
    "tags": []
   },
   "outputs": [
    {
     "name": "stdout",
     "output_type": "stream",
     "text": [
      "(4, 14)\n"
     ]
    }
   ],
   "source": [
    "g.show_dev_stage_similarties()"
   ]
  },
  {
   "cell_type": "code",
   "execution_count": null,
   "metadata": {},
   "outputs": [],
   "source": []
  },
  {
   "cell_type": "code",
   "execution_count": null,
   "metadata": {},
   "outputs": [],
   "source": []
  },
  {
   "cell_type": "code",
   "execution_count": null,
   "metadata": {},
   "outputs": [],
   "source": []
  },
  {
   "cell_type": "code",
   "execution_count": null,
   "metadata": {},
   "outputs": [],
   "source": []
  },
  {
   "cell_type": "code",
   "execution_count": null,
   "metadata": {},
   "outputs": [],
   "source": []
  },
  {
   "cell_type": "code",
   "execution_count": null,
   "metadata": {},
   "outputs": [],
   "source": []
  },
  {
   "cell_type": "code",
   "execution_count": null,
   "metadata": {},
   "outputs": [],
   "source": []
  },
  {
   "cell_type": "code",
   "execution_count": null,
   "metadata": {},
   "outputs": [],
   "source": []
  },
  {
   "cell_type": "code",
   "execution_count": 85,
   "metadata": {},
   "outputs": [
    {
     "name": "stderr",
     "output_type": "stream",
     "text": [
      "100%|██████████| 30/30 [00:04<00:00,  7.15it/s]\n",
      "/tmp/ipykernel_140888/892830536.py:43: RuntimeWarning: Mean of empty slice\n",
      "  t1_m = np.nanmean(t1_m,0)\n",
      "/tmp/ipykernel_140888/892830536.py:44: RuntimeWarning: Mean of empty slice\n",
      "  t2_m = np.nanmean(t2_m,0)\n"
     ]
    }
   ],
   "source": [
    "#\n",
    "from tqdm import trange\n",
    "import parmap\n",
    "\n",
    "# compute KL distance across deveopmental windows\n",
    "# split the data at 2 differnt time points and then compute the KL for sequential chunks\n",
    "g.behavior_id = 3\n",
    "g.n_samples_kde = 1000\n",
    "#g.dist_method = 'js_div'\n",
    "#g.dist_method = 'gausianity'\n",
    "g.dist_method = 'wasserstein_distance'\n",
    "#g.dist_method = 'kl_div'\n",
    "\n",
    "\n",
    "#\n",
    "n_runs = 30\n",
    "#\n",
    "if True:\n",
    "    res = parmap.map(g.get_kl_matrix, \n",
    "                     range(n_runs), \n",
    "                     pm_processes=10,\n",
    "                     pm_pbar=True)\n",
    "    \n",
    "    t1_m = []\n",
    "    t2_m = []\n",
    "    for k in range(len(res)):\n",
    "        t1_m.append(res[k][0])\n",
    "        t2_m.append(res[k][1])\n",
    "\n",
    "else:\n",
    "    t1_m = []\n",
    "    t2_m = []\n",
    "    for k in trange(n_runs):\n",
    "        t1,t2 = g.get_kl_matrix(k)\n",
    "        t1_m.append(t1)\n",
    "        t2_m.append(t2)\n",
    "\n",
    "#\n",
    "t1_m = np.array(t1_m)\n",
    "t2_m = np.array(t2_m)\n",
    "\n",
    "# take averages over axis 0\n",
    "t1_m = np.nanmean(t1_m,0)\n",
    "t2_m = np.nanmean(t2_m,0)\n",
    "\n",
    "#\n",
    "labels = np.arange(16,30,1)\n",
    "plt.figure()\n",
    "plt.subplot(121)\n",
    "plt.imshow(t1_m,\n",
    "           # use divergent colormap with white in the middle\n",
    "            #  cmap='RdBu_r',\n",
    "           )\n",
    "plt.xticks(np.arange(14),labels)\n",
    "plt.yticks(np.arange(14),labels)\n",
    "plt.colorbar()\n",
    "plt.xlabel(\"t2\")\n",
    "plt.ylabel(\"t1\")\n",
    "\n",
    "#\n",
    "plt.subplot(122)\n",
    "plt.imshow(t2_m,\n",
    "           #cmap='RdBu_r',\n",
    "           )\n",
    "plt.xticks(np.arange(14),labels)\n",
    "plt.yticks(np.arange(14),labels)\n",
    "plt.colorbar()\n",
    "\n",
    "# rewrite xlabel so it starts at 15 instead of 0    \n",
    "# \n",
    "plt.xlabel(\"t2\")\n",
    "plt.ylabel(\"t1\")\n",
    "\n",
    "#\n",
    "plt.show()\n",
    "        "
   ]
  },
  {
   "cell_type": "code",
   "execution_count": null,
   "metadata": {},
   "outputs": [],
   "source": []
  },
  {
   "cell_type": "code",
   "execution_count": null,
   "metadata": {},
   "outputs": [],
   "source": []
  },
  {
   "cell_type": "code",
   "execution_count": 186,
   "metadata": {},
   "outputs": [
    {
     "name": "stdout",
     "output_type": "stream",
     "text": [
      "(12, 8) (12, 3)\n"
     ]
    }
   ],
   "source": [
    "# plot the distribution of points from day 0 to 8\n",
    "behavvior_id = 0\n",
    "temp1 = g.data[behavior_id][:,:8]\n",
    "temp2 = g.data[behavior_id][:,8:8+3]\n",
    "print (temp1.shape, temp2.shape)\n",
    "\n",
    "plt.figure()\n",
    "plt.plot(np.mean(temp1,0))\n",
    "plt.plot(np.mean(temp2,0))\n",
    "plt.show()\n",
    "\n",
    "plt.figure()\n",
    "plt.scatter(temp1*0,\n",
    "            temp1,\n",
    "            c='blue',\n",
    "            #alpha=.1,\n",
    "            s=1)\n",
    "plt.scatter(temp2*0+1,\n",
    "            temp2,\n",
    "            c='red',\n",
    "            #alpha=.1,\n",
    "            s=1)\n",
    "\n",
    "plt.show()\n",
    "\n"
   ]
  },
  {
   "cell_type": "code",
   "execution_count": null,
   "metadata": {},
   "outputs": [],
   "source": [
    "\n",
    "\n"
   ]
  },
  {
   "cell_type": "code",
   "execution_count": 94,
   "metadata": {},
   "outputs": [],
   "source": [
    "import numpy as np\n",
    "import statsmodels.api as sm\n",
    "import matplotlib.pyplot as plt\n",
    "\n",
    "# Sample data (replace with your data)\n",
    "#data = np.random.uniform(0, 10, 1000)\n",
    "\n",
    "# Perform kernel density estimation (KDE) with an Epanechnikov kernel\n",
    "data = temp1.copy()\n",
    "kde = sm.nonparametric.KDEUnivariate(data)\n",
    "kde.fit()  # Use \"epa\" for Epanechnikov kernel\n",
    "\n",
    "# Evaluate the estimated density at a set of values\n",
    "\n",
    "x = np.linspace(min(data), max(data), 1000)\n",
    "pdf = kde.evaluate(x)\n",
    "\n",
    "# get weighted samples from the KDE\n",
    "# Generate random samples from the estimated density\n",
    "num_samples = 1000\n",
    "samples = np.random.choice(x, size=num_samples, p=pdf/pdf.sum())\n",
    "\n",
    "\n",
    "# Plot the estimated density\n",
    "plt.plot(x, pdf)\n",
    "plt.hist(samples, density=True, alpha=0.5)\n",
    "plt.title(\"Kernel Density Estimation (Epanechnikov Kernel)\")\n",
    "plt.xlabel(\"x\")\n",
    "plt.ylabel(\"Density\")\n",
    "plt.show()\n"
   ]
  },
  {
   "cell_type": "code",
   "execution_count": null,
   "metadata": {},
   "outputs": [],
   "source": []
  },
  {
   "cell_type": "code",
   "execution_count": null,
   "metadata": {},
   "outputs": [],
   "source": []
  },
  {
   "cell_type": "code",
   "execution_count": null,
   "metadata": {},
   "outputs": [],
   "source": []
  },
  {
   "cell_type": "code",
   "execution_count": 40,
   "metadata": {},
   "outputs": [],
   "source": [
    "# Step 2: Compute the convex hull\n",
    "import matplotlib.pyplot as plt\n",
    "from scipy.spatial import ConvexHull\n",
    "from mpl_toolkits.mplot3d.art3d import Poly3DCollection\n",
    "import numpy as np\n",
    "\n",
    "def plot_polyhedron(ax,temp, ctr):\n",
    "\n",
    "    clrs = ['black','blue','red']\n",
    "    hull = ConvexHull(temp)\n",
    "    vertices = temp[hull.vertices]  # Vertices of the convex hull\n",
    "\n",
    "    # get the ids of the vertices\n",
    "    # make a larger vertices array and fill in the missing vertices with zeros\n",
    "    vertices = np.zeros((temp.shape[0],3))\n",
    "    vertices[hull.vertices] = temp[hull.vertices]\n",
    "    #\n",
    "\n",
    "    # Step 3: Extract the valid edges and vertices from the convex hull\n",
    "    edges = []\n",
    "    for simplex in hull.simplices:\n",
    "        n_bad = 0\n",
    "        for v in simplex:\n",
    "            #print (v)\n",
    "            if v < 0 or v >= len(temp):\n",
    "                n_bad += 1\n",
    "\n",
    "        if n_bad == 0:\n",
    "            edges.append(simplex)\n",
    "\n",
    "    # Step 5: Create a Poly3DCollection for the 3D polygon\n",
    "    poly3d = [[vertices[edge[0]], vertices[edge[1]], vertices[edge[2]]] for edge in edges]\n",
    "\n",
    "    ax.add_collection3d(Poly3DCollection(poly3d, \n",
    "                                        facecolors=clrs[ctr], \n",
    "                                        linewidths=1, \n",
    "                                        edgecolors=clrs[ctr], \n",
    "                                        alpha=0.5))\n",
    "    \n",
    "#\n",
    "fig = plt.figure()\n",
    "ax = fig.add_subplot(111, projection='3d')\n",
    "\n",
    "plot_polyhedron(ax,g.polygon_array[0], 0)\n",
    "plot_polyhedron(ax,g.polygon_array[1], 1)\n",
    "plot_polyhedron(ax,cc.points(), 2)\n",
    "\n",
    "ax.set_xlim(-10,10)\n",
    "ax.set_ylim(-10,10)\n",
    "ax.set_zlim(-10,10)\n",
    "\n",
    "\n",
    "plt.show()"
   ]
  },
  {
   "cell_type": "code",
   "execution_count": 32,
   "metadata": {},
   "outputs": [
    {
     "name": "stdout",
     "output_type": "stream",
     "text": [
      "[[-0.702962    0.7062842  -0.26558292]\n",
      " [-0.8063882  -0.17914958 -0.3446897 ]\n",
      " [-0.81119835 -0.28091145 -0.35484204]\n",
      " [-0.7396896   1.3807548  -0.36920157]\n",
      " [-0.85529685 -0.37352386 -0.4178022 ]\n",
      " [-1.0109018  -0.8226008  -0.6443445 ]\n",
      " [-1.1583123  -0.07611743 -0.85183734]\n",
      " [-1.0330684   0.45338902 -0.71459347]\n",
      " [-1.0984539  -0.5606807  -0.7533681 ]\n",
      " [-1.1302632  -0.37038487 -0.78956896]]\n"
     ]
    }
   ],
   "source": [
    "print (cc.points())"
   ]
  },
  {
   "cell_type": "code",
   "execution_count": 249,
   "metadata": {},
   "outputs": [
    {
     "name": "stdout",
     "output_type": "stream",
     "text": [
      "polygon array:  [array([[ 1.10918594,  0.95192086,  2.28657032],\n",
      "       [ 4.38407873, -0.23680002,  1.25295694],\n",
      "       [ 3.90056015,  0.63616137,  1.36920365],\n",
      "       [ 0.05088653,  6.13126071,  0.38957656],\n",
      "       [ 5.4099821 , -3.95657028, -0.85071022],\n",
      "       [ 2.85869699,  0.65861864, -0.42668024],\n",
      "       [-1.46358674, -0.56719916, -1.24742684],\n",
      "       [-1.74267848, -1.59532024, -1.66173092],\n",
      "       [ 1.16584881, -0.14581732, -2.68784599]]), array([[-0.53556641, -0.44382364, -0.41356438],\n",
      "       [-1.13124266, -0.09174938, -0.28665785],\n",
      "       [-0.31425656, -0.36563015, -1.03345376],\n",
      "       [-0.88934806,  1.98686823, -0.10081344],\n",
      "       [ 0.21566913, -1.4671115 , -0.92678335],\n",
      "       [-0.51894257,  0.48673448, -0.76507539],\n",
      "       [-3.27458569,  0.36686849, -0.12309288],\n",
      "       [-2.43665007,  0.36235476, -0.57677616]])]\n"
     ]
    },
    {
     "ename": "AttributeError",
     "evalue": "module 'Geometry3D' has no attribute 'ConvexHull'",
     "output_type": "error",
     "traceback": [
      "\u001b[0;31m---------------------------------------------------------------------------\u001b[0m",
      "\u001b[0;31mAttributeError\u001b[0m                            Traceback (most recent call last)",
      "\u001b[1;32m/home/cat/code/gerbil/explore_pca.ipynb Cell 4\u001b[0m line \u001b[0;36m1\n\u001b[0;32m----> <a href='vscode-notebook-cell:/home/cat/code/gerbil/explore_pca.ipynb#X21sZmlsZQ%3D%3D?line=0'>1</a>\u001b[0m g\u001b[39m.\u001b[39;49mplot_overlap_volumes()\n",
      "File \u001b[0;32m~/code/gerbil/utils.py:385\u001b[0m, in \u001b[0;36mGerbilPCA.plot_overlap_volumes\u001b[0;34m(self)\u001b[0m\n\u001b[1;32m    370\u001b[0m ax\u001b[39m.\u001b[39mscatter( polygon[:, \u001b[39m0\u001b[39m],\n\u001b[1;32m    371\u001b[0m             polygon[:,\u001b[39m1\u001b[39m],\n\u001b[1;32m    372\u001b[0m             polygon[:,\u001b[39m2\u001b[39m],\n\u001b[0;32m   (...)\u001b[0m\n\u001b[1;32m    379\u001b[0m                 edgecolors\u001b[39m=\u001b[39m\u001b[39m'\u001b[39m\u001b[39mk\u001b[39m\u001b[39m'\u001b[39m\n\u001b[1;32m    380\u001b[0m             )\n\u001b[1;32m    384\u001b[0m \u001b[39m# Compute the convex hull\u001b[39;00m\n\u001b[0;32m--> 385\u001b[0m convex_hull \u001b[39m=\u001b[39m g3d\u001b[39m.\u001b[39;49mConvexHull(polygon)\n\u001b[1;32m    387\u001b[0m \u001b[39m# Get the vertices of the convex hull\u001b[39;00m\n\u001b[1;32m    388\u001b[0m hull_vertices \u001b[39m=\u001b[39m convex_hull\u001b[39m.\u001b[39mget_vertices()\n",
      "\u001b[0;31mAttributeError\u001b[0m: module 'Geometry3D' has no attribute 'ConvexHull'"
     ]
    }
   ],
   "source": [
    "g.plot_overlap_volumes()\n"
   ]
  },
  {
   "cell_type": "code",
   "execution_count": 261,
   "metadata": {},
   "outputs": [
    {
     "name": "stdout",
     "output_type": "stream",
     "text": [
      "[[ 1.10918594  0.95192086  2.28657032]\n",
      " [ 4.38407873 -0.23680002  1.25295694]\n",
      " [ 3.90056015  0.63616137  1.36920365]\n",
      " [ 0.05088653  6.13126071  0.38957656]\n",
      " [ 5.4099821  -3.95657028 -0.85071022]\n",
      " [ 2.85869699  0.65861864 -0.42668024]\n",
      " [-1.46358674 -0.56719916 -1.24742684]\n",
      " [-1.74267848 -1.59532024 -1.66173092]\n",
      " [ 1.16584881 -0.14581732 -2.68784599]]\n",
      "0.0\n"
     ]
    }
   ],
   "source": [
    "\n"
   ]
  },
  {
   "cell_type": "code",
   "execution_count": null,
   "metadata": {},
   "outputs": [],
   "source": []
  },
  {
   "cell_type": "code",
   "execution_count": null,
   "metadata": {},
   "outputs": [],
   "source": []
  },
  {
   "cell_type": "code",
   "execution_count": null,
   "metadata": {},
   "outputs": [],
   "source": []
  },
  {
   "cell_type": "code",
   "execution_count": null,
   "metadata": {},
   "outputs": [],
   "source": []
  },
  {
   "cell_type": "code",
   "execution_count": 57,
   "metadata": {},
   "outputs": [
    {
     "name": "stdout",
     "output_type": "stream",
     "text": [
      "(198, 2)\n"
     ]
    }
   ],
   "source": [
    "#\n",
    "g.run_umap()"
   ]
  },
  {
   "cell_type": "code",
   "execution_count": 231,
   "metadata": {},
   "outputs": [
    {
     "ename": "ModuleNotFoundError",
     "evalue": "No module named 'triintersect'",
     "output_type": "error",
     "traceback": [
      "\u001b[0;31m---------------------------------------------------------------------------\u001b[0m",
      "\u001b[0;31mModuleNotFoundError\u001b[0m                       Traceback (most recent call last)",
      "\u001b[1;32m/home/cat/code/gerbil/explore_pca.ipynb Cell 6\u001b[0m line \u001b[0;36m2\n\u001b[1;32m      <a href='vscode-notebook-cell:/home/cat/code/gerbil/explore_pca.ipynb#X15sZmlsZQ%3D%3D?line=0'>1</a>\u001b[0m \u001b[39mimport\u001b[39;00m \u001b[39mnumpy\u001b[39;00m \u001b[39mas\u001b[39;00m \u001b[39mnp\u001b[39;00m\n\u001b[0;32m----> <a href='vscode-notebook-cell:/home/cat/code/gerbil/explore_pca.ipynb#X15sZmlsZQ%3D%3D?line=1'>2</a>\u001b[0m \u001b[39mimport\u001b[39;00m \u001b[39mtriintersect\u001b[39;00m\n\u001b[1;32m      <a href='vscode-notebook-cell:/home/cat/code/gerbil/explore_pca.ipynb#X15sZmlsZQ%3D%3D?line=3'>4</a>\u001b[0m \u001b[39m# Define the vertices of the two polygons\u001b[39;00m\n\u001b[1;32m      <a href='vscode-notebook-cell:/home/cat/code/gerbil/explore_pca.ipynb#X15sZmlsZQ%3D%3D?line=4'>5</a>\u001b[0m polygon1 \u001b[39m=\u001b[39m np\u001b[39m.\u001b[39marray([[\u001b[39m0\u001b[39m, \u001b[39m0\u001b[39m, \u001b[39m0\u001b[39m], [\u001b[39m1\u001b[39m, \u001b[39m0\u001b[39m, \u001b[39m0\u001b[39m], [\u001b[39m0\u001b[39m, \u001b[39m1\u001b[39m, \u001b[39m0\u001b[39m], [\u001b[39m0\u001b[39m, \u001b[39m0\u001b[39m, \u001b[39m1\u001b[39m]])\n",
      "\u001b[0;31mModuleNotFoundError\u001b[0m: No module named 'triintersect'"
     ]
    }
   ],
   "source": [
    "import numpy as np\n",
    "import triintersect\n",
    "\n",
    "# Define the vertices of the two polygons\n",
    "polygon1 = np.array([[0, 0, 0], [1, 0, 0], [0, 1, 0], [0, 0, 1]])\n",
    "polygon2 = np.array([[0, 0, 0], [1, 0, 0], [0, 1, 0], [0, 0, 1]])\n",
    "\n",
    "# Triangulate the polygons\n",
    "triangles1 = triintersect.triangulate(polygon1)\n",
    "triangles2 = triintersect.triangulate(polygon2)\n",
    "\n",
    "# Initialize a variable to store the intersection volume\n",
    "intersection_volume = 0\n",
    "\n",
    "# Iterate through the triangles of the first polygon\n",
    "for triangle1 in triangles1:\n",
    "    # Iterate through the triangles of the second polygon\n",
    "    for triangle2 in triangles2:\n",
    "        # Compute the intersection of the two triangles\n",
    "        intersection = triintersect.intersection(triangle1, triangle2)\n",
    "        if intersection:\n",
    "            # Calculate the volume of the intersection and add it to the total\n",
    "            intersection_volume += triintersect.volume(intersection)\n",
    "\n",
    "print(\"Intersection Volume:\", intersection_volume)\n"
   ]
  },
  {
   "cell_type": "code",
   "execution_count": null,
   "metadata": {},
   "outputs": [],
   "source": []
  },
  {
   "cell_type": "code",
   "execution_count": 26,
   "metadata": {},
   "outputs": [
    {
     "name": "stdout",
     "output_type": "stream",
     "text": [
      "(48, 14)\n",
      "(48, 2)\n"
     ]
    }
   ],
   "source": [
    "g.n_dimensions = 2\n",
    "g.fit_gmm_pca()\n",
    "\n"
   ]
  },
  {
   "cell_type": "code",
   "execution_count": 27,
   "metadata": {},
   "outputs": [
    {
     "name": "stdout",
     "output_type": "stream",
     "text": [
      "(48, 2)\n"
     ]
    }
   ],
   "source": [
    "#\n"
   ]
  },
  {
   "cell_type": "code",
   "execution_count": 151,
   "metadata": {},
   "outputs": [
    {
     "name": "stdout",
     "output_type": "stream",
     "text": [
      "(50, 3)\n"
     ]
    }
   ],
   "source": [
    "import numpy as np\n",
    "import matplotlib.pyplot as plt\n",
    "from scipy.spatial import ConvexHull\n",
    "from mpl_toolkits.mplot3d.art3d import Poly3DCollection\n",
    "\n",
    "# Step 1: Generate or load your 3D data (replace this with your actual data)\n",
    "np.random.seed(0)\n",
    "data = np.random.rand(50, 3)  # 50 points in 3D\n",
    "\n",
    "# Step 2: Compute the convex hull\n",
    "hull = ConvexHull(data)\n",
    "vertices = data[hull.vertices]  # Vertices of the convex hull\n",
    "\n",
    "# get the ids of the vertices\n",
    "# make a larger vertices array and fill in the missing vertices with zeros\n",
    "vertices = np.zeros((data.shape[0],3))\n",
    "vertices[hull.vertices] = data[hull.vertices]\n",
    "\n",
    "print (vertices.shape)\n",
    "\n",
    "#\n",
    "\n",
    "# Step 3: Extract the valid edges and vertices from the convex hull\n",
    "edges = []\n",
    "for simplex in hull.simplices:\n",
    "    n_bad = 0\n",
    "    for v in simplex:\n",
    "        #print (v)\n",
    "        if v < 0 or v >= len(data):\n",
    "            n_bad += 1\n",
    "\n",
    "    if n_bad == 0:\n",
    "        edges.append(simplex)\n",
    "\n",
    "# Step 4: Create the 3D plot\n",
    "fig = plt.figure()\n",
    "ax = fig.add_subplot(111, projection='3d')\n",
    "\n",
    "# Step 5: Create a Poly3DCollection for the 3D polygon\n",
    "poly3d = [[vertices[edge[0]], vertices[edge[1]], vertices[edge[2]]] for edge in edges]\n",
    "\n",
    "ax.add_collection3d(Poly3DCollection(poly3d, \n",
    "                                     facecolors='black', \n",
    "                                     linewidths=1, \n",
    "                                     edgecolors='black', \n",
    "                                     alpha=0.25))\n",
    "\n",
    "# Step 6: Set axis labels and display the plot\n",
    "ax.set_xlabel('X-axis')\n",
    "ax.set_ylabel('Y-axis')\n",
    "ax.set_zlabel('Z-axis')\n",
    "\n",
    "plt.show()\n"
   ]
  },
  {
   "cell_type": "code",
   "execution_count": 254,
   "metadata": {},
   "outputs": [
    {
     "ename": "AttributeError",
     "evalue": "module 'vedo.shapes' has no attribute 'Poly'",
     "output_type": "error",
     "traceback": [
      "\u001b[0;31m---------------------------------------------------------------------------\u001b[0m",
      "\u001b[0;31mAttributeError\u001b[0m                            Traceback (most recent call last)",
      "\u001b[1;32m/home/cat/code/gerbil/explore_pca.ipynb Cell 11\u001b[0m line \u001b[0;36m4\n\u001b[1;32m     <a href='vscode-notebook-cell:/home/cat/code/gerbil/explore_pca.ipynb#X22sZmlsZQ%3D%3D?line=37'>38</a>\u001b[0m faces2 \u001b[39m=\u001b[39m [\n\u001b[1;32m     <a href='vscode-notebook-cell:/home/cat/code/gerbil/explore_pca.ipynb#X22sZmlsZQ%3D%3D?line=38'>39</a>\u001b[0m     [\u001b[39m0\u001b[39m, \u001b[39m1\u001b[39m, \u001b[39m2\u001b[39m, \u001b[39m3\u001b[39m],  \u001b[39m# Bottom face\u001b[39;00m\n\u001b[1;32m     <a href='vscode-notebook-cell:/home/cat/code/gerbil/explore_pca.ipynb#X22sZmlsZQ%3D%3D?line=39'>40</a>\u001b[0m     [\u001b[39m4\u001b[39m, \u001b[39m5\u001b[39m, \u001b[39m6\u001b[39m, \u001b[39m7\u001b[39m],  \u001b[39m# Top face\u001b[39;00m\n\u001b[0;32m   (...)\u001b[0m\n\u001b[1;32m     <a href='vscode-notebook-cell:/home/cat/code/gerbil/explore_pca.ipynb#X22sZmlsZQ%3D%3D?line=43'>44</a>\u001b[0m     [\u001b[39m3\u001b[39m, \u001b[39m0\u001b[39m, \u001b[39m4\u001b[39m, \u001b[39m7\u001b[39m]   \u001b[39m# Side 4\u001b[39;00m\n\u001b[1;32m     <a href='vscode-notebook-cell:/home/cat/code/gerbil/explore_pca.ipynb#X22sZmlsZQ%3D%3D?line=44'>45</a>\u001b[0m ]\n\u001b[1;32m     <a href='vscode-notebook-cell:/home/cat/code/gerbil/explore_pca.ipynb#X22sZmlsZQ%3D%3D?line=46'>47</a>\u001b[0m \u001b[39m# Create the two polyhedron objects\u001b[39;00m\n\u001b[0;32m---> <a href='vscode-notebook-cell:/home/cat/code/gerbil/explore_pca.ipynb#X22sZmlsZQ%3D%3D?line=47'>48</a>\u001b[0m polyhedron1 \u001b[39m=\u001b[39m vedo\u001b[39m.\u001b[39;49mshapes\u001b[39m.\u001b[39;49mPoly(vertices1, faces1)\n\u001b[1;32m     <a href='vscode-notebook-cell:/home/cat/code/gerbil/explore_pca.ipynb#X22sZmlsZQ%3D%3D?line=48'>49</a>\u001b[0m polyhedron2 \u001b[39m=\u001b[39m vedo\u001b[39m.\u001b[39mshapes\u001b[39m.\u001b[39mPoly(vertices2, faces2)\n\u001b[1;32m     <a href='vscode-notebook-cell:/home/cat/code/gerbil/explore_pca.ipynb#X22sZmlsZQ%3D%3D?line=50'>51</a>\u001b[0m \u001b[39m# Compute the intersection between the two polyhedrons\u001b[39;00m\n",
      "\u001b[0;31mAttributeError\u001b[0m: module 'vedo.shapes' has no attribute 'Poly'"
     ]
    }
   ],
   "source": [
    "import vedo\n",
    "\n",
    "# Define the vertices of the first polyhedron\n",
    "vertices1 = [\n",
    "    [0, 0, 0],\n",
    "    [1, 0, 0],\n",
    "    [1, 1, 0],\n",
    "    [0, 1, 0],\n",
    "    [0, 0, 1],\n",
    "    [1, 0, 1],\n",
    "    [1, 1, 1],\n",
    "    [0, 1, 1]\n",
    "]\n",
    "\n",
    "# Define the faces for the first polyhedron\n",
    "faces1 = [\n",
    "    [0, 1, 2, 3],  # Bottom face\n",
    "    [4, 5, 6, 7],  # Top face\n",
    "    [0, 1, 5, 4],  # Side 1\n",
    "    [1, 2, 6, 5],  # Side 2\n",
    "    [2, 3, 7, 6],  # Side 3\n",
    "    [3, 0, 4, 7]   # Side 4\n",
    "]\n",
    "\n",
    "# Define the vertices of the second polyhedron\n",
    "vertices2 = [\n",
    "    [0.5, 0.5, 0],\n",
    "    [1.5, 0.5, 0],\n",
    "    [1.5, 1.5, 0],\n",
    "    [0.5, 1.5, 0],\n",
    "    [0.5, 0.5, 1],\n",
    "    [1.5, 0.5, 1],\n",
    "    [1.5, 1.5, 1],\n",
    "    [0.5, 1.5, 1]\n",
    "]\n",
    "\n",
    "# Define the faces for the second polyhedron\n",
    "faces2 = [\n",
    "    [0, 1, 2, 3],  # Bottom face\n",
    "    [4, 5, 6, 7],  # Top face\n",
    "    [0, 1, 5, 4],  # Side 1\n",
    "    [1, 2, 6, 5],  # Side 2\n",
    "    [2, 3, 7, 6],  # Side 3\n",
    "    [3, 0, 4, 7]   # Side 4\n",
    "]\n",
    "\n",
    "# Create the two polyhedron objects\n",
    "polyhedron1 = vedo.shapes.Poly(vertices1, faces1)\n",
    "polyhedron2 = vedo.shapes.Poly(vertices2, faces2)\n",
    "\n",
    "# Compute the intersection between the two polyhedrons\n",
    "intersection = polyhedron1.intersectWith(polyhedron2)\n",
    "\n",
    "# Visualize the intersection\n",
    "show(intersection)\n"
   ]
  },
  {
   "cell_type": "code",
   "execution_count": null,
   "metadata": {},
   "outputs": [],
   "source": []
  }
 ],
 "metadata": {
  "kernelspec": {
   "display_name": "Python 3 (ipykernel)",
   "language": "python",
   "name": "python3"
  },
  "language_info": {
   "codemirror_mode": {
    "name": "ipython",
    "version": 3
   },
   "file_extension": ".py",
   "mimetype": "text/x-python",
   "name": "python",
   "nbconvert_exporter": "python",
   "pygments_lexer": "ipython3",
   "version": "3.7.12"
  }
 },
 "nbformat": 4,
 "nbformat_minor": 4
}
