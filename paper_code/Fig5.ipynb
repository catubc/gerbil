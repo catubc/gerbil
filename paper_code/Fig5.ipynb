{
 "cells": [
  {
   "cell_type": "code",
   "execution_count": 19,
   "metadata": {},
   "outputs": [
    {
     "name": "stdout",
     "output_type": "stream",
     "text": [
      "The autoreload extension is already loaded. To reload it, use:\n",
      "  %reload_ext autoreload\n"
     ]
    }
   ],
   "source": [
    "%matplotlib tk\n",
    "%load_ext autoreload\n",
    "%autoreload 2\n",
    "#\n",
    "import matplotlib.pyplot as plt\n",
    "\n",
    "#\n",
    "from utils import GerbilPCA\n",
    "import glob\n",
    "from tqdm import trange\n",
    "import numpy as np"
   ]
  },
  {
   "cell_type": "code",
   "execution_count": 2,
   "metadata": {},
   "outputs": [],
   "source": [
    "# # OPTINAL CONVERT SECONDS TO HOURLY ETHOGRAMS\n",
    "# from utils import generate_hourly_ethogram2\n",
    "\n",
    "# filename_in = ''\n",
    "# animal_id = 0\n",
    "\n",
    "# #\n",
    "# generate_hourly_ethogram2(filename_in,\n",
    "#                               animal_id)"
   ]
  },
  {
   "cell_type": "code",
   "execution_count": 37,
   "metadata": {},
   "outputs": [
    {
     "name": "stdout",
     "output_type": "stream",
     "text": [
      "(112, 86400)\n"
     ]
    }
   ],
   "source": [
    "fname = '/media/cat/4TBSSD/dan/meta_data/ethogram_seconds_foodhopper_proximity.npy'\n",
    "rectangle_ethogram = np.load(fname)\n",
    "print (rectangle_ethogram.shape)\n",
    "\n",
    "#\n",
    "plt.figure()\n",
    "plt.imshow(rectangle_ethogram,\n",
    "           aspect='auto',\n",
    "           interpolation='none')\n",
    "plt.show()"
   ]
  },
  {
   "cell_type": "code",
   "execution_count": 38,
   "metadata": {},
   "outputs": [],
   "source": [
    "# grab the entire ethogram for a single animal;\n",
    "\n",
    "def get_eth(rectangle_ethogram, id_):\n",
    "\n",
    "    #\n",
    "    idxs = np.arange(1,rectangle_ethogram.shape[0],7)+(5-id_)\n",
    "    idxs = idxs[::-1]\n",
    "\n",
    "    #\n",
    "    eth = np.hstack(rectangle_ethogram[idxs])\n",
    "\n",
    "    #\n",
    "    return eth"
   ]
  },
  {
   "cell_type": "code",
   "execution_count": 84,
   "metadata": {},
   "outputs": [
    {
     "name": "stderr",
     "output_type": "stream",
     "text": [
      "100%|██████████| 6/6 [00:34<00:00,  5.81s/it]\n"
     ]
    }
   ],
   "source": [
    "# compute coincidence of time for two animals in the same time bin\n",
    "clrs = ['red','blue','green','black','magenta','cyan']\n",
    "hatch_styles = ['/', '\\\\', '|', '-', '+', 'x', 'o', '*', '.']\n",
    "\n",
    "#\n",
    "plt.figure()\n",
    "ctr2 = 0\n",
    "for a1 in trange(6):\n",
    "    eth1 = get_eth(rectangle_ethogram, a1)\n",
    "    idx3 = np.where(eth1>0)[0]\n",
    "    ctr=0\n",
    "    for a2 in range(6):\n",
    "        if a1==a2:\n",
    "            ctr+=1\n",
    "            continue\n",
    "        #\n",
    "        eth2 = get_eth(rectangle_ethogram, a2)\n",
    "\n",
    "        #\n",
    "        window = 5 # search within a 5 sec window\n",
    "        s = 0\n",
    "        for k in idx3:\n",
    "            if eth1[k]>0:\n",
    "                # \n",
    "                if np.nanmax(eth2[k-window:k+window])>0:\n",
    "                    s+=1\n",
    "\n",
    "        # plot bar graph\n",
    "        plt.bar(a1+ctr2+ctr/6, \n",
    "                s, \n",
    "                1/6.*.9,\n",
    "                label=str(a1)+' vs '+str(a2),\n",
    "                color=clrs[a1],\n",
    "                hatch=hatch_styles[a2]\n",
    "                )\n",
    "        \n",
    "        ctr+=1\n",
    "       # break  \n",
    "    \n",
    "    #\n",
    "    ctr2+=1\n",
    "   # if a1==2:\n",
    "   #     break\n",
    "\n",
    "#\n",
    "plt.legend()\n",
    "plt.show()\n"
   ]
  },
  {
   "cell_type": "code",
   "execution_count": null,
   "metadata": {},
   "outputs": [],
   "source": []
  },
  {
   "cell_type": "code",
   "execution_count": null,
   "metadata": {},
   "outputs": [],
   "source": []
  },
  {
   "cell_type": "code",
   "execution_count": null,
   "metadata": {},
   "outputs": [],
   "source": []
  },
  {
   "cell_type": "code",
   "execution_count": null,
   "metadata": {},
   "outputs": [],
   "source": []
  },
  {
   "cell_type": "code",
   "execution_count": null,
   "metadata": {},
   "outputs": [],
   "source": []
  },
  {
   "cell_type": "code",
   "execution_count": null,
   "metadata": {},
   "outputs": [],
   "source": []
  },
  {
   "cell_type": "code",
   "execution_count": null,
   "metadata": {},
   "outputs": [],
   "source": []
  },
  {
   "cell_type": "code",
   "execution_count": null,
   "metadata": {},
   "outputs": [],
   "source": []
  },
  {
   "cell_type": "code",
   "execution_count": null,
   "metadata": {},
   "outputs": [],
   "source": []
  },
  {
   "cell_type": "code",
   "execution_count": null,
   "metadata": {},
   "outputs": [],
   "source": []
  },
  {
   "cell_type": "code",
   "execution_count": null,
   "metadata": {},
   "outputs": [],
   "source": []
  },
  {
   "cell_type": "code",
   "execution_count": 54,
   "metadata": {},
   "outputs": [
    {
     "name": "stderr",
     "output_type": "stream",
     "text": [
      "100%|██████████| 240/240 [01:38<00:00,  2.43it/s]\n",
      "100%|██████████| 240/240 [01:44<00:00,  2.30it/s]\n",
      "100%|██████████| 240/240 [01:45<00:00,  2.27it/s]\n",
      "100%|██████████| 240/240 [01:46<00:00,  2.26it/s]\n",
      "100%|██████████| 240/240 [01:47<00:00,  2.22it/s]\n",
      "100%|██████████| 240/240 [01:46<00:00,  2.25it/s]\n",
      "100%|██████████| 240/240 [01:44<00:00,  2.31it/s]\n",
      "100%|██████████| 240/240 [01:46<00:00,  2.26it/s]\n",
      "100%|██████████| 240/240 [01:49<00:00,  2.20it/s]\n",
      "100%|██████████| 240/240 [01:48<00:00,  2.20it/s]\n",
      "100%|██████████| 240/240 [01:44<00:00,  2.29it/s]\n",
      "100%|██████████| 240/240 [01:47<00:00,  2.24it/s]\n",
      "100%|██████████| 240/240 [01:48<00:00,  2.21it/s]\n",
      "100%|██████████| 240/240 [01:46<00:00,  2.26it/s]\n",
      "100%|██████████| 240/240 [01:44<00:00,  2.29it/s]\n",
      "100%|██████████| 15/15 [01:53<00:00,  7.57s/it]\n"
     ]
    }
   ],
   "source": [
    "###########################################\n",
    "########### CORRELATION ANALYSIS ##########\n",
    "###########################################\n",
    "\n",
    "# NOT EVERY INSIGHTFUL FOR NOW\n",
    "\n",
    "# compute a cross correlogram by shifting one ethogram against the other from -30 to +30 seconds\n",
    "# use pearson correlation \n",
    "\n",
    "def get_xcorr(aas, rectangle_ethogram, window):\n",
    "\n",
    "    #\n",
    "    a1, a2 = aas\n",
    "\n",
    "    #\n",
    "    eth1 = get_eth(rectangle_ethogram, a1)\n",
    "\n",
    "    #\n",
    "    eth2 = get_eth(rectangle_ethogram, a2)\n",
    "\n",
    "    from scipy.stats import pearsonr\n",
    "    #\n",
    "    #window = 60\n",
    "    cc = []\n",
    "    idx1 = np.where(np.isnan(eth1))[0]\n",
    "    for k in trange(-window,window,1):\n",
    "\n",
    "        #\n",
    "        temp = np.roll(eth2,k).copy()\n",
    "\n",
    "        # find nans \n",
    "        idx2 = np.where(np.isnan(temp))[0]\n",
    "\n",
    "        # find union of idx1 and idx2\n",
    "        idx = np.union1d(idx1,idx2)\n",
    "\n",
    "        # delete idx from both eth1 and temp\n",
    "        temp2 = np.delete(eth1,idx).copy()\n",
    "        temp = np.delete(temp,idx).copy()\n",
    "\n",
    "        #    \n",
    "        corr, _ = pearsonr(temp2, temp)  \n",
    "        #print (corr, pva)\n",
    "        cc.append(corr)\n",
    "\n",
    "    return cc\n",
    "\n",
    "#########################################\n",
    "\n",
    "# \n",
    "aas = []\n",
    "for a1 in range(6):\n",
    "    for a2 in range(a1+1,6,1):\n",
    "        aas.append([a1,a2])\n",
    "\n",
    "#\n",
    "print (\"# of comparisons\", len(aas))\n",
    "#\n",
    "window = 120\n",
    "\n",
    "#\n",
    "import parmap\n",
    "if True:\n",
    "    ccs = parmap.map(get_xcorr,\n",
    "                     aas,\n",
    "                        rectangle_ethogram,\n",
    "                        window,\n",
    "                        pm_processes = 15,\n",
    "                        pm_pbar = True)\n",
    "    \n",
    "#\n",
    "plt.figure()\n",
    "t = np.arange(-window,window,1)\n",
    "ctr=0\n",
    "for a1 in range(6):\n",
    "    for a2 in range(a1+1,6,1):\n",
    "        cc = ccs[ctr]\n",
    "        #\n",
    "        plt.plot(t, cc,\n",
    "                 label = str(a1)+' '+str(a2))\n",
    "        plt.show()\n",
    "\n",
    "        ctr+=1\n",
    "\n",
    "# get y limits from plot \n",
    "ymin, ymax = plt.ylim()\n",
    "\n",
    "# plot vertical line at 0\n",
    "plt.plot([t[window],t[window]],\n",
    "            [ymin,ymax],\n",
    "            '--',\n",
    "            c='black')\n",
    "\n",
    "#\n",
    "plt.legend()\n",
    "plt.show()\n",
    "\n",
    "\n"
   ]
  },
  {
   "cell_type": "code",
   "execution_count": null,
   "metadata": {},
   "outputs": [],
   "source": []
  },
  {
   "cell_type": "code",
   "execution_count": null,
   "metadata": {},
   "outputs": [],
   "source": []
  },
  {
   "cell_type": "code",
   "execution_count": null,
   "metadata": {},
   "outputs": [],
   "source": []
  },
  {
   "cell_type": "code",
   "execution_count": null,
   "metadata": {},
   "outputs": [],
   "source": []
  },
  {
   "cell_type": "code",
   "execution_count": null,
   "metadata": {},
   "outputs": [],
   "source": []
  },
  {
   "cell_type": "code",
   "execution_count": null,
   "metadata": {},
   "outputs": [],
   "source": []
  },
  {
   "cell_type": "code",
   "execution_count": null,
   "metadata": {},
   "outputs": [],
   "source": []
  },
  {
   "cell_type": "code",
   "execution_count": null,
   "metadata": {},
   "outputs": [],
   "source": []
  },
  {
   "cell_type": "code",
   "execution_count": null,
   "metadata": {},
   "outputs": [],
   "source": []
  },
  {
   "cell_type": "code",
   "execution_count": 40,
   "metadata": {},
   "outputs": [],
   "source": [
    "behaviors = [\n",
    "\n",
    "#################################\n",
    "####### EXPLORATION TIME ########\n",
    "#################################\n",
    "# 'adult_female_exploration',\n",
    "# 'adult_male_exploration',\n",
    "# 'pup_female_exploration',\n",
    "# 'pup_male_exploration',\n",
    "\n",
    "#################################\n",
    "### DISTANCE TRAVELLED ##########\n",
    "#################################\n",
    " #'pup_female_distance',\n",
    " #'pup_male_distance',\n",
    "# 'adult_female_distance',\n",
    "# 'adult_male_distance',\n",
    "\n",
    "#################################\n",
    "######## FOOD PROXIMITY #########\n",
    "#################################\n",
    "# 'adult_female_food',\n",
    "# 'adult_male_food',\n",
    "# 'pup_female_food',\n",
    "# 'pup_male_food',\n",
    "\n",
    "#################################\n",
    "####### WATER PROXIMITY #########\n",
    "#################################\n",
    "\n",
    "# 'adult_female_water',\n",
    "# 'adult_male_water',\n",
    "# 'pup_female_water',\n",
    "# 'pup_male_water',\n",
    "\n",
    "\n",
    "#################################\n",
    "########## NEST EXITS ###########\n",
    "#################################\n",
    "\n",
    "# # SEQUENCES OF EXITS\n",
    "# 'adult_female_exits',\n",
    "# 'adult_male_exits',\n",
    "#  'pup_female_exits',\n",
    "#  'pup_male_exits',\n",
    " \n",
    "#################################\n",
    "######### HUDDLING TIME #########\n",
    "#################################\n",
    "\n",
    "# # # HUDDLING TIME  - INVERSE OF EXPLORATION TIME <- NO NEED TO SHOW BOTH\n",
    "# 'adult_female_huddling',\n",
    "# 'adult_male_huddling',\n",
    "# 'pup_female_huddling',\n",
    "# 'pup_male_huddling',\n",
    "\n",
    "\n",
    "#################################\n",
    "#### PAIRWISE TIME TOGETHER #####\n",
    "#################################\n",
    "# 'femaleadult_femalepup_pairwise',\n",
    "# 'femaleadult_malepup_pairwise',\n",
    "\n",
    "# 'maleadult_femalepup_pairwise',\n",
    "# 'maleadult_malepup_pairwise',\n",
    "\n",
    "#'malepup_malepup_pairwise',\n",
    "'femalepup_femalepup_pairwise',\n",
    "'femalepup_malepup_pairwise',\n",
    "\n",
    "#################################\n",
    "########## APPROACHES ###########\n",
    "#################################\n",
    "\n",
    "# # ADULT - ADULT approaches\n",
    "# 'femaleadult_to_maleadult_approaches',\n",
    "# 'maleadult_to_femaleadult_approaches',\n",
    "\n",
    "# PUP - PUP approaches\n",
    "#'femalepup_to_femalepup_approaches',\n",
    "#'femalepup_to_malepup_approaches',\n",
    "#'malepup_to_femalepup_approaches',\n",
    "#'malepup_to_malepup_approaches',\n",
    "\n",
    "# # ADULT FEMALE - PUP approaches\n",
    "#'femaleadult_to_femalepup_approaches',\n",
    "# 'femaleadult_to_malepup_approaches',\n",
    "# 'malepup_to_femaleadult_approaches',\n",
    "#'femalepup_to_femaleadult_approaches',\n",
    "\n",
    "# # ADULT MALE - PUP approaches\n",
    "#'maleadult_to_femalepup_approaches',\n",
    "#'maleadult_to_malepup_approaches',\n",
    "#'malepup_to_maleadult_approaches',\n",
    "# 'femalepup_to_maleadult_approaches',\n",
    "\n",
    "]\n",
    "\n"
   ]
  },
  {
   "cell_type": "code",
   "execution_count": 41,
   "metadata": {},
   "outputs": [
    {
     "name": "stdout",
     "output_type": "stream",
     "text": [
      "behavior:  femalepup_femalepup_pairwise (10, 14)\n",
      "behavior:  femalepup_malepup_pairwise (7, 14)\n"
     ]
    },
    {
     "name": "stderr",
     "output_type": "stream",
     "text": [
      "  0%|          | 0/2 [00:00<?, ?it/s]"
     ]
    },
    {
     "name": "stderr",
     "output_type": "stream",
     "text": [
      "100%|██████████| 2/2 [00:00<00:00, 273.84it/s]"
     ]
    },
    {
     "name": "stdout",
     "output_type": "stream",
     "text": [
      "mean:  1.2702058531746032  std:  0.5071105367325097\n",
      "mean:  0.7802437641723354  std:  0.45444027526429814\n"
     ]
    },
    {
     "name": "stderr",
     "output_type": "stream",
     "text": [
      "\n"
     ]
    },
    {
     "name": "stdout",
     "output_type": "stream",
     "text": [
      "auc_f mean:  16.834131944444444  ,std:  2.8278842364350507\n",
      "auc_m mean:  10.17986111111111  ,std:  2.2649103773231287\n"
     ]
    },
    {
     "data": {
      "text/plain": [
       "Text(0.5, 0.98, 'ks pval: 8.23e-04, ttest: pval 2.09e-04')"
      ]
     },
     "execution_count": 41,
     "metadata": {},
     "output_type": "execute_result"
    }
   ],
   "source": [
    "#\n",
    "g = GerbilPCA(root_dir, \n",
    "              behaviors)\n",
    "\n",
    "#\n",
    "g.smooth = False\n",
    "g.smooth_window = 5\n",
    "g.smooth_order = 2\n",
    "g.standardize = True\n",
    "g.n_dimensions = 2\n",
    "g.scatter_size = 600\n",
    "\n",
    "#\n",
    "g.load_data()\n",
    "\n",
    "#\n",
    "g.n_samples_kde = 1000\n",
    "g.sliding_window_size = 2\n",
    "g.dist_method = '2sample_ks_test'  # options: t_test, 2sample_ks_test\n",
    "g.pval_thresh = 0.01\n",
    "g.show_plots = True\n",
    "g.smooth_pval = True\n",
    "g.size=500\n",
    "g.interpolate_first_value = False\n",
    "g.get_rapid_dev_plots()\n",
    "\n",
    "# visualize averages\n",
    "g.plot_mean_behavior()\n",
    "\n",
    "# compute areas under curve for pairs\n",
    "g.get_area_under_curve()\n",
    "# get exponential notatoin two signifcant figures for g.ks_[1]\n",
    "text1 = \"{:.2e}\".format(g.ks_[1])\n",
    "text2 = \"{:.2e}\".format(g.ttest[1])\n",
    "plt.suptitle(\"ks pval: \"+text1 + \", ttest: pval \" + text2)\n"
   ]
  },
  {
   "cell_type": "code",
   "execution_count": 30,
   "metadata": {},
   "outputs": [
    {
     "name": "stdout",
     "output_type": "stream",
     "text": [
      "temp_stack:  (6, 14)\n",
      "temp_starts:  (2, 2)\n",
      "[[0 3]\n",
      " [3 6]]\n",
      "ks test:  KstestResult(statistic=1.0, pvalue=0.09999999999999999)\n",
      "ttest:  Ttest_indResult(statistic=2.0072925072275902, pvalue=0.11515405792257753)\n"
     ]
    }
   ],
   "source": [
    "# compute areas under the curve for each animal\n",
    "g.get_area_under_curve()"
   ]
  },
  {
   "cell_type": "code",
   "execution_count": null,
   "metadata": {},
   "outputs": [],
   "source": [
    "#\n",
    "g.show_convex_hull = True\n",
    "g.remove_outlier_point= False\n",
    "g.show_cohorts = False\n",
    "g.run_pca()"
   ]
  },
  {
   "cell_type": "code",
   "execution_count": 113,
   "metadata": {},
   "outputs": [],
   "source": [
    "#\n",
    "g.find_overlaps()\n",
    "\n"
   ]
  },
  {
   "cell_type": "code",
   "execution_count": null,
   "metadata": {},
   "outputs": [],
   "source": []
  },
  {
   "cell_type": "code",
   "execution_count": 39,
   "metadata": {},
   "outputs": [
    {
     "name": "stdout",
     "output_type": "stream",
     "text": [
      "(1, 14, 24)\n",
      "(1, 14)\n"
     ]
    }
   ],
   "source": [
    "fname = '/home/cat/code/gerbil/meta_data/fig3/malepup_malepup_pairwise.npy'\n",
    "d = np.load(fname)\n",
    "\n",
    "print (d.shape)\n",
    "d = np.mean(d, axis=2)\n",
    "print (d.shape)\n",
    "np.save(fname, d)"
   ]
  },
  {
   "cell_type": "code",
   "execution_count": null,
   "metadata": {},
   "outputs": [],
   "source": []
  },
  {
   "cell_type": "code",
   "execution_count": null,
   "metadata": {},
   "outputs": [],
   "source": []
  },
  {
   "cell_type": "code",
   "execution_count": 31,
   "metadata": {},
   "outputs": [],
   "source": [
    "#\n",
    "#g.run_umap()"
   ]
  },
  {
   "cell_type": "code",
   "execution_count": 10,
   "metadata": {},
   "outputs": [
    {
     "name": "stdout",
     "output_type": "stream",
     "text": [
      "(1, 14)\n"
     ]
    }
   ],
   "source": [
    "\n",
    "d = np.load('/home/cat/code/gerbil/meta_data/fig3/malepup_malepup_pairwise.npy')\n",
    "\n",
    "print (d.shape)\n",
    "\n",
    "#np.save('/home/cat/code/gerbil/meta_data/fig3/malepup_malepup_pairwise.npy', d)\n"
   ]
  },
  {
   "cell_type": "code",
   "execution_count": null,
   "metadata": {},
   "outputs": [],
   "source": []
  },
  {
   "cell_type": "code",
   "execution_count": 26,
   "metadata": {},
   "outputs": [
    {
     "name": "stdout",
     "output_type": "stream",
     "text": [
      "(48, 14)\n",
      "(48, 2)\n"
     ]
    }
   ],
   "source": [
    "g.n_dimensions = 2\n",
    "g.fit_gmm_pca()\n",
    "\n"
   ]
  },
  {
   "cell_type": "code",
   "execution_count": 27,
   "metadata": {},
   "outputs": [
    {
     "name": "stdout",
     "output_type": "stream",
     "text": [
      "(48, 2)\n"
     ]
    }
   ],
   "source": [
    "#\n"
   ]
  },
  {
   "cell_type": "code",
   "execution_count": 151,
   "metadata": {},
   "outputs": [
    {
     "name": "stdout",
     "output_type": "stream",
     "text": [
      "(50, 3)\n"
     ]
    }
   ],
   "source": [
    "import numpy as np\n",
    "import matplotlib.pyplot as plt\n",
    "from scipy.spatial import ConvexHull\n",
    "from mpl_toolkits.mplot3d.art3d import Poly3DCollection\n",
    "\n",
    "# Step 1: Generate or load your 3D data (replace this with your actual data)\n",
    "np.random.seed(0)\n",
    "data = np.random.rand(50, 3)  # 50 points in 3D\n",
    "\n",
    "# Step 2: Compute the convex hull\n",
    "hull = ConvexHull(data)\n",
    "vertices = data[hull.vertices]  # Vertices of the convex hull\n",
    "\n",
    "# get the ids of the vertices\n",
    "# make a larger vertices array and fill in the missing vertices with zeros\n",
    "vertices = np.zeros((data.shape[0],3))\n",
    "vertices[hull.vertices] = data[hull.vertices]\n",
    "\n",
    "print (vertices.shape)\n",
    "\n",
    "#\n",
    "\n",
    "# Step 3: Extract the valid edges and vertices from the convex hull\n",
    "edges = []\n",
    "for simplex in hull.simplices:\n",
    "    n_bad = 0\n",
    "    for v in simplex:\n",
    "        #print (v)\n",
    "        if v < 0 or v >= len(data):\n",
    "            n_bad += 1\n",
    "\n",
    "    if n_bad == 0:\n",
    "        edges.append(simplex)\n",
    "\n",
    "# Step 4: Create the 3D plot\n",
    "fig = plt.figure()\n",
    "ax = fig.add_subplot(111, projection='3d')\n",
    "\n",
    "# Step 5: Create a Poly3DCollection for the 3D polygon\n",
    "poly3d = [[vertices[edge[0]], vertices[edge[1]], vertices[edge[2]]] for edge in edges]\n",
    "\n",
    "ax.add_collection3d(Poly3DCollection(poly3d, \n",
    "                                     facecolors='black', \n",
    "                                     linewidths=1, \n",
    "                                     edgecolors='black', \n",
    "                                     alpha=0.25))\n",
    "\n",
    "# Step 6: Set axis labels and display the plot\n",
    "ax.set_xlabel('X-axis')\n",
    "ax.set_ylabel('Y-axis')\n",
    "ax.set_zlabel('Z-axis')\n",
    "\n",
    "plt.show()\n"
   ]
  },
  {
   "cell_type": "code",
   "execution_count": 254,
   "metadata": {},
   "outputs": [
    {
     "ename": "AttributeError",
     "evalue": "module 'vedo.shapes' has no attribute 'Poly'",
     "output_type": "error",
     "traceback": [
      "\u001b[0;31m---------------------------------------------------------------------------\u001b[0m",
      "\u001b[0;31mAttributeError\u001b[0m                            Traceback (most recent call last)",
      "\u001b[1;32m/home/cat/code/gerbil/explore_pca.ipynb Cell 11\u001b[0m line \u001b[0;36m4\n\u001b[1;32m     <a href='vscode-notebook-cell:/home/cat/code/gerbil/explore_pca.ipynb#X22sZmlsZQ%3D%3D?line=37'>38</a>\u001b[0m faces2 \u001b[39m=\u001b[39m [\n\u001b[1;32m     <a href='vscode-notebook-cell:/home/cat/code/gerbil/explore_pca.ipynb#X22sZmlsZQ%3D%3D?line=38'>39</a>\u001b[0m     [\u001b[39m0\u001b[39m, \u001b[39m1\u001b[39m, \u001b[39m2\u001b[39m, \u001b[39m3\u001b[39m],  \u001b[39m# Bottom face\u001b[39;00m\n\u001b[1;32m     <a href='vscode-notebook-cell:/home/cat/code/gerbil/explore_pca.ipynb#X22sZmlsZQ%3D%3D?line=39'>40</a>\u001b[0m     [\u001b[39m4\u001b[39m, \u001b[39m5\u001b[39m, \u001b[39m6\u001b[39m, \u001b[39m7\u001b[39m],  \u001b[39m# Top face\u001b[39;00m\n\u001b[0;32m   (...)\u001b[0m\n\u001b[1;32m     <a href='vscode-notebook-cell:/home/cat/code/gerbil/explore_pca.ipynb#X22sZmlsZQ%3D%3D?line=43'>44</a>\u001b[0m     [\u001b[39m3\u001b[39m, \u001b[39m0\u001b[39m, \u001b[39m4\u001b[39m, \u001b[39m7\u001b[39m]   \u001b[39m# Side 4\u001b[39;00m\n\u001b[1;32m     <a href='vscode-notebook-cell:/home/cat/code/gerbil/explore_pca.ipynb#X22sZmlsZQ%3D%3D?line=44'>45</a>\u001b[0m ]\n\u001b[1;32m     <a href='vscode-notebook-cell:/home/cat/code/gerbil/explore_pca.ipynb#X22sZmlsZQ%3D%3D?line=46'>47</a>\u001b[0m \u001b[39m# Create the two polyhedron objects\u001b[39;00m\n\u001b[0;32m---> <a href='vscode-notebook-cell:/home/cat/code/gerbil/explore_pca.ipynb#X22sZmlsZQ%3D%3D?line=47'>48</a>\u001b[0m polyhedron1 \u001b[39m=\u001b[39m vedo\u001b[39m.\u001b[39;49mshapes\u001b[39m.\u001b[39;49mPoly(vertices1, faces1)\n\u001b[1;32m     <a href='vscode-notebook-cell:/home/cat/code/gerbil/explore_pca.ipynb#X22sZmlsZQ%3D%3D?line=48'>49</a>\u001b[0m polyhedron2 \u001b[39m=\u001b[39m vedo\u001b[39m.\u001b[39mshapes\u001b[39m.\u001b[39mPoly(vertices2, faces2)\n\u001b[1;32m     <a href='vscode-notebook-cell:/home/cat/code/gerbil/explore_pca.ipynb#X22sZmlsZQ%3D%3D?line=50'>51</a>\u001b[0m \u001b[39m# Compute the intersection between the two polyhedrons\u001b[39;00m\n",
      "\u001b[0;31mAttributeError\u001b[0m: module 'vedo.shapes' has no attribute 'Poly'"
     ]
    }
   ],
   "source": [
    "import vedo\n",
    "\n",
    "# Define the vertices of the first polyhedron\n",
    "vertices1 = [\n",
    "    [0, 0, 0],\n",
    "    [1, 0, 0],\n",
    "    [1, 1, 0],\n",
    "    [0, 1, 0],\n",
    "    [0, 0, 1],\n",
    "    [1, 0, 1],\n",
    "    [1, 1, 1],\n",
    "    [0, 1, 1]\n",
    "]\n",
    "\n",
    "# Define the faces for the first polyhedron\n",
    "faces1 = [\n",
    "    [0, 1, 2, 3],  # Bottom face\n",
    "    [4, 5, 6, 7],  # Top face\n",
    "    [0, 1, 5, 4],  # Side 1\n",
    "    [1, 2, 6, 5],  # Side 2\n",
    "    [2, 3, 7, 6],  # Side 3\n",
    "    [3, 0, 4, 7]   # Side 4\n",
    "]\n",
    "\n",
    "# Define the vertices of the second polyhedron\n",
    "vertices2 = [\n",
    "    [0.5, 0.5, 0],\n",
    "    [1.5, 0.5, 0],\n",
    "    [1.5, 1.5, 0],\n",
    "    [0.5, 1.5, 0],\n",
    "    [0.5, 0.5, 1],\n",
    "    [1.5, 0.5, 1],\n",
    "    [1.5, 1.5, 1],\n",
    "    [0.5, 1.5, 1]\n",
    "]\n",
    "\n",
    "# Define the faces for the second polyhedron\n",
    "faces2 = [\n",
    "    [0, 1, 2, 3],  # Bottom face\n",
    "    [4, 5, 6, 7],  # Top face\n",
    "    [0, 1, 5, 4],  # Side 1\n",
    "    [1, 2, 6, 5],  # Side 2\n",
    "    [2, 3, 7, 6],  # Side 3\n",
    "    [3, 0, 4, 7]   # Side 4\n",
    "]\n",
    "\n",
    "# Create the two polyhedron objects\n",
    "polyhedron1 = vedo.shapes.Poly(vertices1, faces1)\n",
    "polyhedron2 = vedo.shapes.Poly(vertices2, faces2)\n",
    "\n",
    "# Compute the intersection between the two polyhedrons\n",
    "intersection = polyhedron1.intersectWith(polyhedron2)\n",
    "\n",
    "# Visualize the intersection\n",
    "show(intersection)\n"
   ]
  },
  {
   "cell_type": "code",
   "execution_count": null,
   "metadata": {},
   "outputs": [],
   "source": []
  }
 ],
 "metadata": {
  "kernelspec": {
   "display_name": "base",
   "language": "python",
   "name": "python3"
  },
  "language_info": {
   "codemirror_mode": {
    "name": "ipython",
    "version": 3
   },
   "file_extension": ".py",
   "mimetype": "text/x-python",
   "name": "python",
   "nbconvert_exporter": "python",
   "pygments_lexer": "ipython3",
   "version": "3.7.0"
  },
  "orig_nbformat": 4
 },
 "nbformat": 4,
 "nbformat_minor": 2
}
