{
 "cells": [
  {
   "cell_type": "code",
   "execution_count": 1,
   "metadata": {},
   "outputs": [],
   "source": [
    "import matplotlib\n",
    "import matplotlib.pyplot as plt\n",
    "\n",
    "import numpy as np\n",
    "import csv\n"
   ]
  },
  {
   "cell_type": "code",
   "execution_count": 13,
   "metadata": {},
   "outputs": [
    {
     "name": "stdout",
     "output_type": "stream",
     "text": [
      "(10, 17)\n",
      "(11, 17)\n",
      "(6, 17)\n",
      "(10, 17)\n",
      "(7, 17)\n",
      "(9, 17)\n"
     ]
    }
   ],
   "source": [
    "fnames = [\n",
    "'/home/cat/Downloads/Downloads/Error_tracking_spreadsheet - 2020_3_16_09_59_34_731308_day.csv',\n",
    "'/home/cat/Downloads/Downloads/Error_tracking_spreadsheet - 2020_3_16_10_59_50_448686_night.csv',\n",
    "'/home/cat/Downloads/Downloads/Error_tracking_spreadsheet - 2020_3_16_08_59_17_534732_day.csv',\n",
    "'/home/cat/Downloads/Downloads/Error_tracking_spreadsheet - 2020_3_16_08_59_17_358257_night.csv',\n",
    "'/home/cat/Downloads/Downloads/Error_tracking_spreadsheet - 2020_3_16_08_59_17_193818_day.csv',\n",
    "'/home/cat/Downloads/Downloads/Error_tracking_spreadsheet - 2020_3_16_12_54_07_193951_night.csv'\n",
    "]\n",
    "\n",
    "for fname in fnames:\n",
    "    data = []\n",
    "    with open(fname) as csv_file:\n",
    "\n",
    "        csv_reader = csv.reader(csv_file, delimiter=',')\n",
    "        line_count = 0\n",
    "        for row in csv_reader:\n",
    "            row2 = []\n",
    "            for x in row:\n",
    "                if x=='':\n",
    "                    row2.append(0)\n",
    "                else:\n",
    "                    row2.append(x)\n",
    "            data.append(row2)\n",
    "    data=np.array(data)\n",
    "    print(data.shape)"
   ]
  },
  {
   "cell_type": "code",
   "execution_count": 11,
   "metadata": {},
   "outputs": [
    {
     "name": "stdout",
     "output_type": "stream",
     "text": [
      "size of loaded array:  (7, 17)\n"
     ]
    }
   ],
   "source": [
    "data= np.array(data)\n",
    "print (\"size of loaded array: \", data.shape)\n",
    "\n"
   ]
  },
  {
   "cell_type": "code",
   "execution_count": 7,
   "metadata": {},
   "outputs": [
    {
     "name": "stdout",
     "output_type": "stream",
     "text": [
      "all column:  ['cyan' '0' '0' '0' '0' '0' '0' '0' '0']\n",
      "\n",
      "first element:  cyan\n"
     ]
    }
   ],
   "source": [
    "# 2nd column: female error type (note 2nd column has index 1; first column index 0)\n",
    "index = 1\n",
    "print (\"all column: \", data[:,index])\n",
    "print ('')\n",
    "\n",
    "index = 1\n",
    "row = 0\n",
    "print (\"first element: \", data[:,index][0])\n"
   ]
  },
  {
   "cell_type": "code",
   "execution_count": 8,
   "metadata": {},
   "outputs": [
    {
     "name": "stdout",
     "output_type": "stream",
     "text": [
      "all errors:  ['0' '0' '0' '0' '0' '0' '0' '0' '0']\n",
      "# errors first row:  0\n"
     ]
    }
   ],
   "source": [
    "# how many errors for first cell\n",
    "index = 4\n",
    "print (\"all errors: \", data[:,4])\n",
    "\n",
    "\n",
    "index = 4\n",
    "print (\"# errors first row: \", data[:,4][row])"
   ]
  },
  {
   "cell_type": "code",
   "execution_count": 9,
   "metadata": {
    "scrolled": true
   },
   "outputs": [
    {
     "name": "stdout",
     "output_type": "stream",
     "text": [
      "shape:  (9, 17)\n",
      "cyan # errors :  0\n",
      "0\n"
     ]
    }
   ],
   "source": [
    "# search for cyan errors:\n",
    "print (\"shape: \", data.shape)\n",
    "index=1\n",
    "sums = 0\n",
    "for row in range(data.shape[0]):\n",
    "    if data[row,index]=='cyan':\n",
    "        print (data[row,index], \"# errors : \", data[row,4]) \n",
    "        sums = sums + int(data[row,4])\n",
    "        \n",
    "print (sums)\n",
    "    "
   ]
  },
  {
   "cell_type": "code",
   "execution_count": null,
   "metadata": {},
   "outputs": [],
   "source": [
    "# learn to plot the erorrs using bar plots\n"
   ]
  }
 ],
 "metadata": {
  "kernelspec": {
   "display_name": "Python 3",
   "language": "python",
   "name": "python3"
  },
  "language_info": {
   "codemirror_mode": {
    "name": "ipython",
    "version": 3
   },
   "file_extension": ".py",
   "mimetype": "text/x-python",
   "name": "python",
   "nbconvert_exporter": "python",
   "pygments_lexer": "ipython3",
   "version": "3.7.0"
  }
 },
 "nbformat": 4,
 "nbformat_minor": 4
}
