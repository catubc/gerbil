{
 "cells": [
  {
   "cell_type": "code",
   "execution_count": 1,
   "metadata": {},
   "outputs": [
    {
     "data": {
      "application/javascript": [
       "IPython.notebook.set_autosave_interval(180000)"
      ]
     },
     "metadata": {},
     "output_type": "display_data"
    },
    {
     "name": "stdout",
     "output_type": "stream",
     "text": [
      "Autosaving every 180 seconds\n"
     ]
    },
    {
     "data": {
      "text/html": [
       "<style>.container { width:100% !important; }</style>"
      ],
      "text/plain": [
       "<IPython.core.display.HTML object>"
      ]
     },
     "metadata": {},
     "output_type": "display_data"
    }
   ],
   "source": [
    "%load_ext autoreload\n",
    "%autoreload 2\n",
    "\n",
    "import matplotlib\n",
    "#matplotlib.use('Agg')\n",
    "%matplotlib tk\n",
    "%autosave 180\n",
    "\n",
    "#\n",
    "import matplotlib.pyplot as plt\n",
    "from IPython.core.display import display, HTML\n",
    "display(HTML(\"<style>.container { width:100% !important; }</style>\"))\n",
    "\n",
    "import matplotlib.cm as cm\n",
    "from matplotlib import gridspec\n",
    "\n",
    "import numpy as np\n",
    "import os\n",
    "import sys\n",
    "sys.path.append('/home/cat/code/gerbil/utils/')\n",
    "\n",
    "#\n",
    "from track import Track\n"
   ]
  },
  {
   "cell_type": "code",
   "execution_count": 41,
   "metadata": {},
   "outputs": [
    {
     "name": "stdout",
     "output_type": "stream",
     "text": [
      " [# frames, # animals, xy]:  (28802, 6, 2)\n"
     ]
    }
   ],
   "source": [
    "###################################################\n",
    "############### BINNING THE DATA ##################\n",
    "###################################################\n",
    "#  \n",
    "fname_slp = '/media/cat/256GB/dan/testing_track_cleanup_code/2020_08_02_18_47_58_241873_compressed_Day/2020_08_02_18_47_58_241873_compressed_Day.slp'\n",
    "track = Track(fname_slp)\n",
    "track.recompute_spine_centres=False\n",
    "\n",
    "# load the fixed spine centres\n",
    "track.get_track_spine_centers()\n",
    "print (\" [# frames, # animals, xy]: \", track.tracks_spine.shape)\n",
    "\n",
    "#\n",
    "track.filter_width = 5\n",
    "track.filter_tracks_spines()\n",
    "\n",
    "# get a copy of the original track spines before binning\n",
    "track.tracks_spine_smooth = track.tracks_spine.copy()\n",
    "\n",
    "\n",
    "# bin the track to some resolution\n",
    "track.bining_bin_size = 25  # in pixels\n",
    "track.bin_track_spines()\n",
    "\n",
    "# save the binned centroid \n",
    "track.save_binned_centroid()"
   ]
  },
  {
   "cell_type": "code",
   "execution_count": 42,
   "metadata": {},
   "outputs": [],
   "source": [
    "###################################################\n",
    "########## VISUALIZE THE BINNED TRACKS ############\n",
    "###################################################\n",
    "#\n",
    "plt.figure()\n",
    "for k in range(1,6,1):\n",
    "    #\n",
    "   # ax=plt.subplot(2,3,k+1)\n",
    "    plt.plot(track.tracks_spine_smooth[:,k,0],\n",
    "             track.tracks_spine_smooth[:,k,1],\n",
    "             label='centroid original',\n",
    "            )\n",
    "\n",
    "    #\n",
    "    plt.plot(track.tracks_spine[:,k,0],\n",
    "             track.tracks_spine[:,k,1],\n",
    "             label='centroid binned '+str(track.bining_bin_size),\n",
    "            )\n",
    "   \n",
    "    if k==1:\n",
    "        plt.legend()\n",
    "    plt.xlim(0,1000)\n",
    "    plt.ylim(0,800)\n",
    "    break\n",
    "\n",
    "#\n",
    "plt.show()"
   ]
  },
  {
   "cell_type": "code",
   "execution_count": null,
   "metadata": {},
   "outputs": [],
   "source": []
  },
  {
   "cell_type": "code",
   "execution_count": null,
   "metadata": {},
   "outputs": [],
   "source": []
  },
  {
   "cell_type": "code",
   "execution_count": null,
   "metadata": {},
   "outputs": [],
   "source": []
  },
  {
   "cell_type": "code",
   "execution_count": null,
   "metadata": {},
   "outputs": [],
   "source": []
  },
  {
   "cell_type": "code",
   "execution_count": null,
   "metadata": {},
   "outputs": [],
   "source": []
  },
  {
   "cell_type": "code",
   "execution_count": null,
   "metadata": {},
   "outputs": [],
   "source": []
  },
  {
   "cell_type": "code",
   "execution_count": null,
   "metadata": {},
   "outputs": [],
   "source": []
  }
 ],
 "metadata": {
  "kernelspec": {
   "display_name": "Python 3",
   "language": "python",
   "name": "python3"
  },
  "language_info": {
   "codemirror_mode": {
    "name": "ipython",
    "version": 3
   },
   "file_extension": ".py",
   "mimetype": "text/x-python",
   "name": "python",
   "nbconvert_exporter": "python",
   "pygments_lexer": "ipython3",
   "version": "3.7.0"
  }
 },
 "nbformat": 4,
 "nbformat_minor": 4
}
