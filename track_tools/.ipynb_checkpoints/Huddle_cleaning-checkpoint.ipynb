{
 "cells": [
  {
   "cell_type": "code",
   "execution_count": 2,
   "metadata": {},
   "outputs": [
    {
     "name": "stdout",
     "output_type": "stream",
     "text": [
      "The autoreload extension is already loaded. To reload it, use:\n",
      "  %reload_ext autoreload\n"
     ]
    },
    {
     "data": {
      "application/javascript": [
       "IPython.notebook.set_autosave_interval(180000)"
      ]
     },
     "metadata": {},
     "output_type": "display_data"
    },
    {
     "name": "stdout",
     "output_type": "stream",
     "text": [
      "Autosaving every 180 seconds\n"
     ]
    },
    {
     "name": "stderr",
     "output_type": "stream",
     "text": [
      "2022-10-19 08:11:45.175158: W tensorflow/stream_executor/platform/default/dso_loader.cc:64] Could not load dynamic library 'libcudart.so.11.0'; dlerror: libcudart.so.11.0: cannot open shared object file: No such file or directory; LD_LIBRARY_PATH: /home/cat/miniconda3/envs/gerbils/lib/python3.10/site-packages/cv2/../../lib64:\n",
      "2022-10-19 08:11:45.175175: I tensorflow/stream_executor/cuda/cudart_stub.cc:29] Ignore above cudart dlerror if you do not have a GPU set up on your machine.\n"
     ]
    }
   ],
   "source": [
    "%load_ext autoreload\n",
    "%autoreload 2\n",
    "\n",
    "import matplotlib\n",
    "import matplotlib.pyplot as plt\n",
    "#matplotlib.use('Agg')\n",
    "%matplotlib tk\n",
    "%autosave 180\n",
    "\n",
    "import sys\n",
    "sys.path.append('/home/cat/code/gerbil/utils/')\n",
    "\n",
    "#\n",
    "import numpy as np\n",
    "\n",
    "#\n",
    "from visualize import Visualize\n",
    "from track import Track\n"
   ]
  },
  {
   "cell_type": "code",
   "execution_count": 12,
   "metadata": {
    "tags": []
   },
   "outputs": [
    {
     "name": "stdout",
     "output_type": "stream",
     "text": [
      "spine tracks:  (28802, 1, 2)\n"
     ]
    },
    {
     "name": "stderr",
     "output_type": "stream",
     "text": [
      "cleaning animal tracks: 100%|████████████████████████████████████████████████████████████████████████████████████████████| 1/1 [00:00<00:00,  6.20it/s]\n"
     ]
    },
    {
     "name": "stdout",
     "output_type": "stream",
     "text": [
      "tracks spine:  (28802, 1, 2)\n",
      "... Making tracks chunks...\n"
     ]
    },
    {
     "name": "stderr",
     "output_type": "stream",
     "text": [
      "100%|████████████████████████████████████████████████████████████████████████████████████████████████████████| 28801/28801 [00:00<00:00, 520856.43it/s]\n",
      "cleaning animal tracks: 100%|████████████████████████████████████████████████████████████████████████████████████████████| 1/1 [00:00<00:00,  6.16it/s]\n"
     ]
    },
    {
     "name": "stdout",
     "output_type": "stream",
     "text": [
      "Done...\n"
     ]
    }
   ],
   "source": [
    "######################################################## \n",
    "################ GENERATE FIXED TRACK ##################\n",
    "########################################################\n",
    "\n",
    "# \n",
    "fname_slp = '/home/cat/Downloads/2020_08_03_08_06_52_830453_compressed_Day_huddle.slp'\n",
    "track = Track(fname_slp)\n",
    "\n",
    "##### run track fixer #######\n",
    "track.fix_huddles()\n",
    "\n",
    "##### join spatially close but temporally distant chunks #####\n",
    "if True:\n",
    "    #\n",
    "    max_distance = 100                               # how far away we can merge huddles together\n",
    "    track.memory_interpolate_huddle(max_distance)\n",
    "\n",
    "##### save the fixed spines will overwrite the previous/defatul spine values####\n",
    "track.save_centroid()\n",
    "\n",
    "#\n",
    "track.save_updated_huddle_tracks()\n",
    "    \n",
    "#\n",
    "print (\"Done...\")"
   ]
  },
  {
   "cell_type": "code",
   "execution_count": 13,
   "metadata": {},
   "outputs": [
    {
     "name": "stdout",
     "output_type": "stream",
     "text": [
      "(28802, 4, 2)\n"
     ]
    }
   ],
   "source": [
    "#########################################################\n",
    "############### LOAD THE MULTI HUDDLE TRACK #############\n",
    "#########################################################\n",
    "\n",
    "data = np.load('/home/cat/Downloads/2020_08_03_08_06_52_830453_compressed_Day_huddle_multi_track_huddles.npy')\n",
    "\n",
    "print (data.shape)\n",
    "\n",
    "plt.figure()\n",
    "for k in range(data.shape[1]):\n",
    "    \n",
    "    seg = data[:,k]\n",
    "    \n",
    "    plt.plot(seg[:,0],\n",
    "             seg[:,1])\n",
    "    \n",
    "\n",
    "\n",
    "plt.show()\n"
   ]
  },
  {
   "cell_type": "code",
   "execution_count": null,
   "metadata": {},
   "outputs": [],
   "source": []
  },
  {
   "cell_type": "code",
   "execution_count": null,
   "metadata": {},
   "outputs": [],
   "source": []
  },
  {
   "cell_type": "code",
   "execution_count": null,
   "metadata": {},
   "outputs": [],
   "source": []
  },
  {
   "cell_type": "code",
   "execution_count": null,
   "metadata": {},
   "outputs": [],
   "source": []
  },
  {
   "cell_type": "code",
   "execution_count": null,
   "metadata": {},
   "outputs": [],
   "source": []
  },
  {
   "cell_type": "code",
   "execution_count": null,
   "metadata": {},
   "outputs": [],
   "source": []
  },
  {
   "cell_type": "code",
   "execution_count": null,
   "metadata": {},
   "outputs": [],
   "source": [
    "## OLD CODE BELOW ##"
   ]
  },
  {
   "cell_type": "markdown",
   "metadata": {},
   "source": [
    "### The code above outputs 2 lists of lists\n",
    "track.final_merged_times\n",
    "- this contains all the time segments that were merged into a single array plus the interpolated times\n",
    "\n",
    "track.final_merged_locs\n",
    "- this contains the locations of the animals from each of these lists\n",
    "\n",
    "There can be several huddles, depending on how far away we merge them\n",
    "- recommended distance is 100 pixels\n"
   ]
  },
  {
   "cell_type": "code",
   "execution_count": 4,
   "metadata": {},
   "outputs": [
    {
     "name": "stdout",
     "output_type": "stream",
     "text": [
      "# of huddles:  4\n",
      "times:  [25011, 29, 10412, 5762]\n",
      "# of huddle segs :  203\n",
      "(25011, 2)\n",
      "# of huddle segs :  3\n",
      "(29, 2)\n",
      "# of huddle segs :  105\n",
      "(10412, 2)\n",
      "# of huddle segs :  9\n",
      "(5762, 2)\n"
     ]
    }
   ],
   "source": [
    "####################################################\n",
    "########## MAKE PLOTS OF SPINE CENTRES #############\n",
    "####################################################\n",
    "    \n",
    "#\n",
    "print (\"# of huddles: \", len(track.final_merged_times))\n",
    "\n",
    "#\n",
    "times = []\n",
    "for k in range(len(track.final_merged_times)):\n",
    "    segs = track.final_merged_times[k]\n",
    "    \n",
    "    total_time = 0\n",
    "    for seg in segs:\n",
    "        #print (k, seg)\n",
    "        total_time+=seg[1]-seg[0]\n",
    "    \n",
    "    times.append(total_time)\n",
    "\n",
    "print (\"times: \", times)\n",
    "    \n",
    "    \n",
    "#############################################################\n",
    "###################### PLOT THE HUDDLES #####################\n",
    "#############################################################\n",
    "plt.figure()\n",
    "colors = plt.cm.rainbow(np.linspace(0,1,len(track.final_merged_times)))\n",
    "for k in range(len(track.final_merged_times)):\n",
    "    segs = track.final_merged_locs[k]\n",
    "    \n",
    "    #\n",
    "    print (\"# of huddle segs : \", len(segs))\n",
    "    \n",
    "    segs = np.vstack(segs)\n",
    "    print (segs.shape)\n",
    "    \n",
    "    #\n",
    "    plt.plot(segs[:,0], \n",
    "             segs[:,1],\n",
    "             color=colors[k],\n",
    "             label='huddle #' + str(k) + \", time: \"+str(segs.shape[0]/25)+ \"sec\" + \", \"+\n",
    "             str(int(segs.shape[0]/track.tracks.shape[0]*100))+\"%\")\n",
    "   \n",
    "        \n",
    "#\n",
    "plt.legend()\n",
    "\n",
    "#        \n",
    "plt.xlim(0,1000)\n",
    "plt.ylim(0,800)\n",
    "#break\n",
    "plt.show()"
   ]
  },
  {
   "cell_type": "code",
   "execution_count": null,
   "metadata": {},
   "outputs": [],
   "source": []
  },
  {
   "cell_type": "code",
   "execution_count": null,
   "metadata": {},
   "outputs": [],
   "source": []
  },
  {
   "cell_type": "code",
   "execution_count": null,
   "metadata": {},
   "outputs": [],
   "source": []
  },
  {
   "cell_type": "code",
   "execution_count": null,
   "metadata": {},
   "outputs": [],
   "source": []
  },
  {
   "cell_type": "code",
   "execution_count": null,
   "metadata": {},
   "outputs": [],
   "source": []
  }
 ],
 "metadata": {
  "kernelspec": {
   "display_name": "Python 3 (ipykernel)",
   "language": "python",
   "name": "python3"
  },
  "language_info": {
   "codemirror_mode": {
    "name": "ipython",
    "version": 3
   },
   "file_extension": ".py",
   "mimetype": "text/x-python",
   "name": "python",
   "nbconvert_exporter": "python",
   "pygments_lexer": "ipython3",
   "version": "3.10.6"
  }
 },
 "nbformat": 4,
 "nbformat_minor": 4
}
