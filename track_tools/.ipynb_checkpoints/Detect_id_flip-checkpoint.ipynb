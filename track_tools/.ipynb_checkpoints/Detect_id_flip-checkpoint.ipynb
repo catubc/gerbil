{
 "cells": [
  {
   "cell_type": "code",
   "execution_count": 21,
   "metadata": {},
   "outputs": [
    {
     "name": "stdout",
     "output_type": "stream",
     "text": [
      "The autoreload extension is already loaded. To reload it, use:\n",
      "  %reload_ext autoreload\n"
     ]
    },
    {
     "data": {
      "application/javascript": [
       "IPython.notebook.set_autosave_interval(180000)"
      ]
     },
     "metadata": {},
     "output_type": "display_data"
    },
    {
     "name": "stdout",
     "output_type": "stream",
     "text": [
      "Autosaving every 180 seconds\n"
     ]
    }
   ],
   "source": [
    "%load_ext autoreload\n",
    "%autoreload 2\n",
    "\n",
    "import matplotlib\n",
    "import matplotlib.pyplot as plt\n",
    "#matplotlib.use('Agg')\n",
    "%matplotlib tk\n",
    "%autosave 180\n",
    "\n",
    "import sys\n",
    "sys.path.append('/home/cat/code/gerbil/utils/')\n",
    "\n",
    "#\n",
    "import numpy as np\n",
    "from tqdm import trange\n",
    "\n",
    "#\n",
    "from visualize import Visualize\n",
    "from track import Track\n",
    "\n"
   ]
  },
  {
   "cell_type": "code",
   "execution_count": 8,
   "metadata": {},
   "outputs": [
    {
     "name": "stdout",
     "output_type": "stream",
     "text": [
      "(28802, 6, 6, 2)\n"
     ]
    }
   ],
   "source": [
    "######################################################## \n",
    "################ GENERATE FIXED TRACK ##################\n",
    "########################################################\n",
    "\n",
    "# \n",
    "fname_slp = '/home/cat/data/dan/2020_07_22_18_27_49_394495_compressed/2020_07_22_18_27_49_394495_compressed_Day.slp'\n",
    "track = Track(fname_slp)\n",
    "track.track_type = 'features'\n",
    "track.use_dynamic_centroid = True   # True: alg. serches for the first non-nan value in this body order [2,3,1,0,4,5]\n",
    "track.load_tracks()\n",
    "\n",
    "print (track.tracks.shape)\n",
    "\n",
    "# ###### parameters for computing body centroid #######\n",
    "#                                      # - advantage: much more robust to lost features\n",
    "#                                      # False: we fix the centroid to a specific body part\n",
    "#                                      # - advantage less jitter for some applications\n",
    "# track.centroid_body_id = [2]         # if centroid flag is False; we use this body part instead\n",
    "\n",
    "# # ##### run track fixer #######\n",
    "# # track.fix_all_tracks()\n",
    "\n",
    "# # ##### join spatially close but temporally distant chunks #####\n",
    "# # if False:\n",
    "# #     #\n",
    "# #     track.memory_interpolate_tracks_spine()\n",
    "\n",
    "# ##### save the fixed spines will overwrite the previous/defatul spine values####\n",
    "# track.save_centroid()\n",
    "    \n",
    "# #\n",
    "# print (\"Done...\")"
   ]
  },
  {
   "cell_type": "code",
   "execution_count": 29,
   "metadata": {},
   "outputs": [
    {
     "name": "stdout",
     "output_type": "stream",
     "text": [
      "[1 2 3 4 5]\n",
      "(28802, 6, 2)\n"
     ]
    },
    {
     "name": "stderr",
     "output_type": "stream",
     "text": [
      " 10%|████▊                                              | 2743/28801 [00:00<00:01, 13769.40it/s]"
     ]
    },
    {
     "name": "stdout",
     "output_type": "stream",
     "text": [
      "2\n",
      "[       nan        nan 3.24632307 3.19083309 3.45381266 5.47456626]\n",
      "3.3500678632145\n"
     ]
    },
    {
     "name": "stderr",
     "output_type": "stream",
     "text": [
      " 14%|███████▍                                            | 4120/28801 [00:00<00:04, 5853.84it/s]"
     ]
    },
    {
     "name": "stdout",
     "output_type": "stream",
     "text": [
      "1\n",
      "[ 8.27142636  8.36899136 11.69720889  8.69164214  7.61284039         nan]\n",
      "8.368991361536667\n"
     ]
    },
    {
     "name": "stderr",
     "output_type": "stream",
     "text": [
      " 28%|██████████████▎                                     | 7949/28801 [00:01<00:02, 8187.26it/s]"
     ]
    },
    {
     "name": "stdout",
     "output_type": "stream",
     "text": [
      "2\n",
      "[       nan 3.07798188 0.86506652 0.38778557 0.66569982        nan]\n",
      "0.7653831670409841\n"
     ]
    },
    {
     "name": "stderr",
     "output_type": "stream",
     "text": [
      " 35%|█████████████████▊                                 | 10090/28801 [00:01<00:03, 5010.09it/s]"
     ]
    },
    {
     "name": "stdout",
     "output_type": "stream",
     "text": [
      "2\n",
      "[       nan 0.74010628 3.08530608 0.47137927 0.67622218        nan]\n",
      "0.7081642315733097\n",
      "0\n",
      "[16.82070998  3.8422767   0.75137552  5.73001486  8.33129251  0.89842493]\n",
      "4.786145780894827\n",
      "1\n",
      "[       nan 8.05919825 7.50618852 5.40586    4.10885203 5.9905914 ]\n",
      "5.99059140314476\n"
     ]
    },
    {
     "name": "stderr",
     "output_type": "stream",
     "text": [
      " 70%|███████████████████████████████████▋               | 20173/28801 [00:02<00:01, 8427.28it/s]"
     ]
    },
    {
     "name": "stdout",
     "output_type": "stream",
     "text": [
      "2\n",
      "[        nan  6.63774869  4.18439991  4.1739241  20.05103278         nan]\n",
      "5.411074300147389\n"
     ]
    },
    {
     "name": "stderr",
     "output_type": "stream",
     "text": [
      "100%|███████████████████████████████████████████████████| 28801/28801 [00:04<00:00, 6984.76it/s]\n"
     ]
    }
   ],
   "source": [
    "#\n",
    "def extract_movie_frame(fname_movie,\n",
    "                       frame_number):\n",
    "    \n",
    "    import cv2\n",
    "    cap = cv2.VideoCapture(fname_movie)\n",
    "    cap.set(cv2.CAP_PROP_POS_FRAMES, frame_number-1)\n",
    "    res, frame0 = cap.read()\n",
    "    res, frame1 = cap.read()\n",
    "\n",
    "    return frame0, frame1\n",
    "\n",
    "#\n",
    "def detect_id_switch(fname_movie,\n",
    "                     tracks, \n",
    "                     animal_id,\n",
    "                     min_n_features=4):\n",
    "    \n",
    "    #\n",
    "    other_animal_ids = np.int32(np.delete(np.arange(6), animal_id))\n",
    "    print (other_animal_ids)\n",
    "    \n",
    "    \n",
    "    # check for continuity in a track\n",
    "    track = tracks[:,animal_id]\n",
    "    print (track.shape)\n",
    "    \n",
    "    # calculate the feature-wise distance between current frame and next frame\n",
    "    for k in trange(tracks.shape[0]-1):\n",
    "        feats0 = track[k]\n",
    "        \n",
    "        for a in other_animal_ids:\n",
    "            feats1 = tracks[k+1,a]\n",
    "            \n",
    "            #\n",
    "            dists = np.linalg.norm(feats1-feats0,axis=1)\n",
    "            #print (dists)\n",
    "\n",
    "            # \n",
    "            sums = np.nanmedian(dists)\n",
    "            #print (sums)\n",
    "            \n",
    "            if sums<10:\n",
    "                n = np.count_nonzero(np.isnan(dists))\n",
    "                if n<=(6-min_n_features):\n",
    "                    print (n)\n",
    "                    print (dists)\n",
    "                    print (sums)\n",
    "                    frame0, frame1 = extract_movie_frame(fname_movie,\n",
    "                                                k)\n",
    "                    \n",
    "                    plot_flip(frame0,\n",
    "                              frame1,\n",
    "                              feats0,\n",
    "                              feats1)\n",
    "                    \n",
    "                #break\n",
    "                \n",
    "        #if sums<10:\n",
    "        #    break\n",
    "\n",
    "#\n",
    "def plot_flip(frame0,\n",
    "              frame1,\n",
    "              feats0,\n",
    "              feats1):\n",
    "    \n",
    "    plt.figure()\n",
    "    \n",
    "    ax=plt.subplot(121)\n",
    "    ax.imshow(frame0)\n",
    "    plt.scatter(feats0[:,1],\n",
    "               feats0[:,0])\n",
    "    \n",
    "    #\n",
    "    ax=plt.subplot(122)\n",
    "    ax.imshow(frame1)\n",
    "    plt.scatter(feats1[:,1],\n",
    "               feats1[:,0])\n",
    "    \n",
    "    plt.show()\n",
    "    \n",
    "    \n",
    "    \n",
    "\n",
    "\n",
    "\n",
    "\n",
    "\n",
    "\n",
    "fname_movie = '/home/cat/data/dan/2020_07_22_18_27_49_394495_compressed/2020_07_22_18_27_49_394495_compressed.mp4'\n",
    "animal_id = 0\n",
    "detect_id_switch(fname_movie,\n",
    "                 track.tracks, \n",
    "                 animal_id)"
   ]
  },
  {
   "cell_type": "code",
   "execution_count": null,
   "metadata": {},
   "outputs": [],
   "source": []
  },
  {
   "cell_type": "code",
   "execution_count": null,
   "metadata": {},
   "outputs": [],
   "source": []
  },
  {
   "cell_type": "code",
   "execution_count": 10,
   "metadata": {},
   "outputs": [],
   "source": [
    "####################################################\n",
    "########## MAKE PLOTS OF SPINE CENTRES #############\n",
    "####################################################\n",
    "plt.figure()\n",
    "for k in range(0,6,1):\n",
    "    #\n",
    "    #ax=plt.subplot(2,3,k+1)\n",
    "    plt.plot(track.tracks_spine[:,k,0],\n",
    "             track.tracks_spine[:,k,1],\n",
    "             label='spine2',\n",
    "             \n",
    "            )\n",
    "    #\n",
    "    # #print (track.tracks.shape)\n",
    "    # plt.plot(np.nanmedian(track.tracks[:,k,:,0]+2,axis=1),\n",
    "    #          np.nanmedian(track.tracks[:,k,:,1]+2,axis=1),\n",
    "    #          label='raw (median of all body parts)',\n",
    "    #          alpha=.5\n",
    "    #         )\n",
    "   \n",
    "    if k==1:\n",
    "        plt.legend()\n",
    "    plt.xlim(0,1000)\n",
    "    plt.ylim(0,800)\n",
    "    #break\n",
    "plt.show()"
   ]
  },
  {
   "cell_type": "code",
   "execution_count": 13,
   "metadata": {
    "tags": []
   },
   "outputs": [
    {
     "name": "stderr",
     "output_type": "stream",
     "text": [
      "  0%|          | 5/1500 [00:00<00:32, 46.07it/s]"
     ]
    },
    {
     "name": "stdout",
     "output_type": "stream",
     "text": [
      "\n",
      "Making movie...\n",
      "track shape:  (28802, 10, 2)\n",
      "width, heigh:  1280.0 1024.0\n",
      "Histories:  (10, 5, 2)\n"
     ]
    },
    {
     "name": "stderr",
     "output_type": "stream",
     "text": [
      "100%|██████████| 1500/1500 [00:28<00:00, 52.92it/s]"
     ]
    },
    {
     "name": "stdout",
     "output_type": "stream",
     "text": [
      "DONE...\n"
     ]
    },
    {
     "name": "stderr",
     "output_type": "stream",
     "text": [
      "\n"
     ]
    }
   ],
   "source": [
    "####################################################\n",
    "########## MAKE MOVIES OF SPINE CENTRES ############\n",
    "####################################################\n",
    "print (\"\")\n",
    "print (\"Making movie...\")\n",
    "\n",
    "#\n",
    "vis = Visualize()\n",
    "fps = 25\n",
    "start = 0*fps       # frame to start in seconds\n",
    "end = 60*fps        # frame to end in seconds\n",
    "fps = 25\n",
    "\n",
    "#\n",
    "fname_video = '/media/cat/256GB/dan/testing_track_cleanup_code/2020_07_26_18_35_09_660833_compressed_Day_huddle/2020_07_26_18_35_09_660833_compressed.mp4'\n",
    "fname_video_extension = '_fixed'  # the extension to be added to the filename\n",
    "\n",
    "# Note; thre is also a version of this that plots all body parts\n",
    "# - this function takes in only a single animal location \n",
    "shrink = 1 # shrink image factor\n",
    "\n",
    "fname_track = '/media/cat/256GB/dan/testing_track_cleanup_code/2020_07_26_18_35_09_660833_compressed_Day_huddle/2020_07_26_18_35_09_660833_compressed_Day_huddle_multi_track_huddles.npy'\n",
    "track = np.load(fname_track)\n",
    "print (\"track shape: \", track.shape)\n",
    "#print (track.tracks_spine.shape)\n",
    "#\n",
    "vis.make_video_centroid(track,                # visualize centres locations\n",
    "                        fname_video,\n",
    "                        fname_video_extension,\n",
    "                        start,\n",
    "                        end,\n",
    "                        fps,\n",
    "                        shrink) \n",
    "\n",
    "# \n",
    "print (\"DONE...\")"
   ]
  },
  {
   "cell_type": "code",
   "execution_count": null,
   "metadata": {},
   "outputs": [],
   "source": []
  },
  {
   "cell_type": "code",
   "execution_count": null,
   "metadata": {},
   "outputs": [],
   "source": []
  },
  {
   "cell_type": "code",
   "execution_count": null,
   "metadata": {},
   "outputs": [],
   "source": []
  },
  {
   "cell_type": "code",
   "execution_count": null,
   "metadata": {},
   "outputs": [],
   "source": []
  },
  {
   "cell_type": "code",
   "execution_count": null,
   "metadata": {},
   "outputs": [],
   "source": []
  }
 ],
 "metadata": {
  "kernelspec": {
   "display_name": "Python 3 (ipykernel)",
   "language": "python",
   "name": "python3"
  },
  "language_info": {
   "codemirror_mode": {
    "name": "ipython",
    "version": 3
   },
   "file_extension": ".py",
   "mimetype": "text/x-python",
   "name": "python",
   "nbconvert_exporter": "python",
   "pygments_lexer": "ipython3",
   "version": "3.10.6"
  }
 },
 "nbformat": 4,
 "nbformat_minor": 4
}
