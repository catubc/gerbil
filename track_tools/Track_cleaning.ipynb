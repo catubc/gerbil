{
 "cells": [
  {
   "cell_type": "code",
   "execution_count": 7,
   "metadata": {},
   "outputs": [
    {
     "name": "stdout",
     "output_type": "stream",
     "text": [
      "The autoreload extension is already loaded. To reload it, use:\n",
      "  %reload_ext autoreload\n"
     ]
    },
    {
     "data": {
      "application/javascript": [
       "IPython.notebook.set_autosave_interval(180000)"
      ]
     },
     "metadata": {},
     "output_type": "display_data"
    },
    {
     "name": "stdout",
     "output_type": "stream",
     "text": [
      "Autosaving every 180 seconds\n"
     ]
    }
   ],
   "source": [
    "%load_ext autoreload\n",
    "%autoreload 2\n",
    "\n",
    "import matplotlib\n",
    "import matplotlib.pyplot as plt\n",
    "#matplotlib.use('Agg')\n",
    "%matplotlib tk\n",
    "%autosave 180\n",
    "\n",
    "import sys\n",
    "sys.path.append('/home/cat/code/gerbil/utils/')\n",
    "\n",
    "#\n",
    "import numpy as np\n",
    "\n",
    "#\n",
    "from visualize import Visualize\n",
    "from track import Track\n"
   ]
  },
  {
   "cell_type": "code",
   "execution_count": 9,
   "metadata": {},
   "outputs": [
    {
     "name": "stderr",
     "output_type": "stream",
     "text": [
      "cleaning animal tracks: 100%|██████████| 6/6 [00:03<00:00,  1.59it/s]\n"
     ]
    },
    {
     "name": "stdout",
     "output_type": "stream",
     "text": [
      "... Making tracks chunks...\n",
      "... Fixing tracks...\n"
     ]
    },
    {
     "name": "stderr",
     "output_type": "stream",
     "text": [
      "cleaning animal tracks:   0%|          | 0/6 [00:00<?, ?it/s]"
     ]
    },
    {
     "name": "stdout",
     "output_type": "stream",
     "text": [
      "UPDATING TRACKS\n"
     ]
    },
    {
     "name": "stderr",
     "output_type": "stream",
     "text": [
      "cleaning animal tracks: 100%|██████████| 6/6 [00:03<00:00,  1.63it/s]"
     ]
    },
    {
     "name": "stdout",
     "output_type": "stream",
     "text": [
      "saving centroid\n",
      "Done...\n"
     ]
    },
    {
     "name": "stderr",
     "output_type": "stream",
     "text": [
      "\n"
     ]
    }
   ],
   "source": [
    "######################################################## \n",
    "################ GENERATE FIXED TRACK ##################\n",
    "########################################################\n",
    "\n",
    "# \n",
    "fname_slp = '/media/cat/256GB/dan/testing_track_cleanup_code/2020_07_31_20_15_17_668937_compressed/2020_07_31_20_15_17_668937_compressed_Night.slp'\n",
    "track = Track(fname_slp)\n",
    "track.track_type = 'features'\n",
    "\n",
    "###### parameters for computing body centroid #######\n",
    "track.use_dynamic_centroid = True   # True: alg. serches for the first non-nan value in this body order [2,3,1,0,4,5]\n",
    "                                     # - advantage: much more robust to lost features\n",
    "                                     # False: we fix the centroid to a specific body part\n",
    "                                     # - advantage less jitter for some applications\n",
    "track.centroid_body_id = [2]         # if centroid flag is False; we use this body part instead\n",
    "\n",
    "##### run track fixer #######\n",
    "track.fix_all_tracks()\n",
    "\n",
    "##### join spatially close but temporally distant chunks #####\n",
    "if False:\n",
    "    #\n",
    "    track.memory_interpolate_tracks_spine()\n",
    "\n",
    "##### save the fixed spines will overwrite the previous/defatul spine values####\n",
    "track.save_centroid()\n",
    "    \n",
    "#\n",
    "print (\"Done...\")"
   ]
  },
  {
   "cell_type": "code",
   "execution_count": 10,
   "metadata": {},
   "outputs": [],
   "source": [
    "####################################################\n",
    "########## MAKE PLOTS OF SPINE CENTRES #############\n",
    "####################################################\n",
    "plt.figure()\n",
    "for k in range(0,6,1):\n",
    "    #\n",
    "    #ax=plt.subplot(2,3,k+1)\n",
    "    plt.plot(track.tracks_spine[:,k,0],\n",
    "             track.tracks_spine[:,k,1],\n",
    "             label='spine2',\n",
    "             \n",
    "            )\n",
    "    #\n",
    "    # #print (track.tracks.shape)\n",
    "    # plt.plot(np.nanmedian(track.tracks[:,k,:,0]+2,axis=1),\n",
    "    #          np.nanmedian(track.tracks[:,k,:,1]+2,axis=1),\n",
    "    #          label='raw (median of all body parts)',\n",
    "    #          alpha=.5\n",
    "    #         )\n",
    "   \n",
    "    if k==1:\n",
    "        plt.legend()\n",
    "    plt.xlim(0,1000)\n",
    "    plt.ylim(0,800)\n",
    "    #break\n",
    "plt.show()"
   ]
  },
  {
   "cell_type": "code",
   "execution_count": 13,
   "metadata": {
    "tags": []
   },
   "outputs": [
    {
     "name": "stderr",
     "output_type": "stream",
     "text": [
      "  0%|          | 5/1500 [00:00<00:32, 46.07it/s]"
     ]
    },
    {
     "name": "stdout",
     "output_type": "stream",
     "text": [
      "\n",
      "Making movie...\n",
      "track shape:  (28802, 10, 2)\n",
      "width, heigh:  1280.0 1024.0\n",
      "Histories:  (10, 5, 2)\n"
     ]
    },
    {
     "name": "stderr",
     "output_type": "stream",
     "text": [
      "100%|██████████| 1500/1500 [00:28<00:00, 52.92it/s]"
     ]
    },
    {
     "name": "stdout",
     "output_type": "stream",
     "text": [
      "DONE...\n"
     ]
    },
    {
     "name": "stderr",
     "output_type": "stream",
     "text": [
      "\n"
     ]
    }
   ],
   "source": [
    "####################################################\n",
    "########## MAKE MOVIES OF SPINE CENTRES ############\n",
    "####################################################\n",
    "print (\"\")\n",
    "print (\"Making movie...\")\n",
    "\n",
    "#\n",
    "vis = Visualize()\n",
    "fps = 25\n",
    "start = 0*fps       # frame to start in seconds\n",
    "end = 60*fps        # frame to end in seconds\n",
    "fps = 25\n",
    "\n",
    "#\n",
    "fname_video = '/media/cat/256GB/dan/testing_track_cleanup_code/2020_07_26_18_35_09_660833_compressed_Day_huddle/2020_07_26_18_35_09_660833_compressed.mp4'\n",
    "fname_video_extension = '_fixed'  # the extension to be added to the filename\n",
    "\n",
    "# Note; thre is also a version of this that plots all body parts\n",
    "# - this function takes in only a single animal location \n",
    "shrink = 1 # shrink image factor\n",
    "\n",
    "fname_track = '/media/cat/256GB/dan/testing_track_cleanup_code/2020_07_26_18_35_09_660833_compressed_Day_huddle/2020_07_26_18_35_09_660833_compressed_Day_huddle_multi_track_huddles.npy'\n",
    "track = np.load(fname_track)\n",
    "print (\"track shape: \", track.shape)\n",
    "#print (track.tracks_spine.shape)\n",
    "#\n",
    "vis.make_video_centroid(track,                # visualize centres locations\n",
    "                        fname_video,\n",
    "                        fname_video_extension,\n",
    "                        start,\n",
    "                        end,\n",
    "                        fps,\n",
    "                        shrink) \n",
    "\n",
    "# \n",
    "print (\"DONE...\")"
   ]
  },
  {
   "cell_type": "code",
   "execution_count": null,
   "metadata": {},
   "outputs": [],
   "source": []
  },
  {
   "cell_type": "code",
   "execution_count": null,
   "metadata": {},
   "outputs": [],
   "source": []
  },
  {
   "cell_type": "code",
   "execution_count": null,
   "metadata": {},
   "outputs": [],
   "source": []
  },
  {
   "cell_type": "code",
   "execution_count": null,
   "metadata": {},
   "outputs": [],
   "source": []
  },
  {
   "cell_type": "code",
   "execution_count": null,
   "metadata": {},
   "outputs": [],
   "source": []
  }
 ],
 "metadata": {
  "kernelspec": {
   "display_name": "Python 3",
   "language": "python",
   "name": "python3"
  },
  "language_info": {
   "codemirror_mode": {
    "name": "ipython",
    "version": 3
   },
   "file_extension": ".py",
   "mimetype": "text/x-python",
   "name": "python",
   "nbconvert_exporter": "python",
   "pygments_lexer": "ipython3",
   "version": "3.7.0"
  }
 },
 "nbformat": 4,
 "nbformat_minor": 4
}
