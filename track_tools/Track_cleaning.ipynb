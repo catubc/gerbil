{
 "cells": [
  {
   "cell_type": "code",
   "execution_count": 1,
   "metadata": {},
   "outputs": [
    {
     "data": {
      "application/javascript": [
       "IPython.notebook.set_autosave_interval(180000)"
      ]
     },
     "metadata": {},
     "output_type": "display_data"
    },
    {
     "name": "stdout",
     "output_type": "stream",
     "text": [
      "Autosaving every 180 seconds\n"
     ]
    }
   ],
   "source": [
    "%load_ext autoreload\n",
    "%autoreload 2\n",
    "\n",
    "import matplotlib\n",
    "#matplotlib.use('Agg')\n",
    "%matplotlib tk\n",
    "%autosave 180\n",
    "\n",
    "import sys\n",
    "sys.path.append('/home/cat/code/gerbil/utils/')\n",
    "\n",
    "#\n",
    "from visualize import Visualize\n",
    "from track import Track\n"
   ]
  },
  {
   "cell_type": "code",
   "execution_count": 2,
   "metadata": {},
   "outputs": [
    {
     "name": "stdout",
     "output_type": "stream",
     "text": [
      "... npy missing, converting...\n",
      "... h5 file missing, converting now...\n",
      "... done loading slp\n",
      "track_names: 6\n",
      "node_names: 6\n",
      "tracks: (28802, 6, 2, 6)\n",
      "track_occupancy: (6, 28802)\n",
      "Saved as /media/cat/256GB/dan/testing_track_cleanup_code/2020_07_31_20_15_17_668937_compressed/2020_07_31_20_15_17_668937_compressed_Night.h5\n",
      "... done loading h5\n",
      "group2:  <HDF5 dataset \"tracks\": shape (6, 2, 6, 28802), type \"<f8\">\n",
      "... done loading npy\n",
      "... slp file loading...\n"
     ]
    },
    {
     "name": "stderr",
     "output_type": "stream",
     "text": [
      "100%|██████████| 28802/28802 [00:00<00:00, 58181.39it/s]\n"
     ]
    },
    {
     "name": "stdout",
     "output_type": "stream",
     "text": [
      "... Making tracks chunks...\n",
      "Deleting chunks <  8\n",
      "... Fixing tracks...\n",
      "UPDATING TRACKS\n"
     ]
    }
   ],
   "source": [
    "######################################################## \n",
    "################ GENERATE FIXED TRACK ##################\n",
    "########################################################\n",
    "\n",
    "# \n",
    "fname_slp = '/media/cat/256GB/dan/testing_track_cleanup_code/2020_07_31_20_15_17_668937_compressed/2020_07_31_20_15_17_668937_compressed_Night.slp'\n",
    "\n",
    "#\n",
    "track = Track(fname_slp)\n",
    "\n",
    "#\n",
    "track.fix_all_tracks()\n",
    "\n",
    "# option to also interpolate between nearby segments\n",
    "if True:\n",
    "    #\n",
    "    track.memory_interpolate_tracks_spine()\n"
   ]
  },
  {
   "cell_type": "code",
   "execution_count": 3,
   "metadata": {
    "tags": []
   },
   "outputs": [
    {
     "name": "stderr",
     "output_type": "stream",
     "text": [
      "  4%|▎         | 9/250 [00:00<00:03, 79.44it/s]"
     ]
    },
    {
     "name": "stdout",
     "output_type": "stream",
     "text": [
      "\n",
      "Making movie...\n",
      "width, heigh:  900.0 700.0\n",
      "Histories:  (6, 5, 2)\n"
     ]
    },
    {
     "name": "stderr",
     "output_type": "stream",
     "text": [
      "100%|██████████| 250/250 [00:03<00:00, 75.46it/s]"
     ]
    },
    {
     "name": "stdout",
     "output_type": "stream",
     "text": [
      "DONE...\n"
     ]
    },
    {
     "name": "stderr",
     "output_type": "stream",
     "text": [
      "\n"
     ]
    }
   ],
   "source": [
    "#####################################################\n",
    "########## MAKE MOVIES OF SPINE CENTRES ############\n",
    "####################################################\n",
    "print (\"\")\n",
    "print (\"Making movie...\")\n",
    "\n",
    "#\n",
    "vis = Visualize()\n",
    "fps = 25\n",
    "start = 0*fps       # frame to start in seconds\n",
    "end = 10*fps        # frame to end in seconds\n",
    "fps = 25\n",
    "\n",
    "#\n",
    "fname_video = '/media/cat/256GB/dan/testing_track_cleanup_code/2020_07_31_20_15_17_668937_compressed/2020_07_31_20_15_17_668937_compressed_defished_shrink_cropped.mp4'\n",
    "fname_video_extension = '_filtered_track_fixed_centroid_merge_raw'  # the extension to be added to the filename\n",
    "\n",
    "# Note; thre is also a version of this that plots all body parts\n",
    "# - this function takes in only a single animal location \n",
    "shrink = 1 # shrink image factor\n",
    "\n",
    "#\n",
    "vis.make_video_centroid(track.tracks_spine,                # visualize centres locations\n",
    "                        fname_video,\n",
    "                        fname_video_extension,\n",
    "                        start,\n",
    "                        end,\n",
    "                        fps,\n",
    "                        shrink) \n",
    "\n",
    "# \n",
    "print (\"DONE...\")"
   ]
  },
  {
   "cell_type": "code",
   "execution_count": 21,
   "metadata": {},
   "outputs": [],
   "source": []
  },
  {
   "cell_type": "code",
   "execution_count": null,
   "metadata": {},
   "outputs": [],
   "source": []
  },
  {
   "cell_type": "code",
   "execution_count": null,
   "metadata": {},
   "outputs": [],
   "source": []
  },
  {
   "cell_type": "code",
   "execution_count": null,
   "metadata": {},
   "outputs": [],
   "source": []
  },
  {
   "cell_type": "code",
   "execution_count": null,
   "metadata": {},
   "outputs": [],
   "source": []
  },
  {
   "cell_type": "code",
   "execution_count": null,
   "metadata": {},
   "outputs": [],
   "source": []
  }
 ],
 "metadata": {
  "kernelspec": {
   "display_name": "Python 3",
   "language": "python",
   "name": "python3"
  },
  "language_info": {
   "codemirror_mode": {
    "name": "ipython",
    "version": 3
   },
   "file_extension": ".py",
   "mimetype": "text/x-python",
   "name": "python",
   "nbconvert_exporter": "python",
   "pygments_lexer": "ipython3",
   "version": "3.7.0"
  }
 },
 "nbformat": 4,
 "nbformat_minor": 4
}
