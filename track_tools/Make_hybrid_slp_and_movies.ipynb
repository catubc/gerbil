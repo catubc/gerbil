{
 "cells": [
  {
   "cell_type": "code",
   "execution_count": 30,
   "metadata": {},
   "outputs": [
    {
     "name": "stdout",
     "output_type": "stream",
     "text": [
      "The autoreload extension is already loaded. To reload it, use:\n",
      "  %reload_ext autoreload\n"
     ]
    },
    {
     "data": {
      "application/javascript": [
       "IPython.notebook.set_autosave_interval(180000)"
      ]
     },
     "metadata": {},
     "output_type": "display_data"
    },
    {
     "name": "stdout",
     "output_type": "stream",
     "text": [
      "Autosaving every 180 seconds\n"
     ]
    }
   ],
   "source": [
    "%load_ext autoreload\n",
    "%autoreload 2\n",
    "\n",
    "import matplotlib\n",
    "import matplotlib.pyplot as plt\n",
    "#matplotlib.use('Agg')\n",
    "#%matplotlib tk\n",
    "%autosave 180\n",
    "\n",
    "import sys\n",
    "sys.path.append('/home/cat/code/gerbil/utils/')\n",
    "\n",
    "#\n",
    "import numpy as np\n",
    "from tqdm import trange\n",
    "\n",
    "#\n",
    "from visualize import Visualize\n",
    "from track import Track, detect_id_switch_parallel, find_id_switches, make_deleted_slp_files, make_hybrid_slp\n",
    "\n",
    "#\n",
    "import sleap\n",
    "\n",
    "#\n",
    "import cv2\n",
    "import os\n",
    "\n",
    "#\n",
    "from tqdm import tqdm\n",
    "import parmap"
   ]
  },
  {
   "cell_type": "code",
   "execution_count": 16,
   "metadata": {},
   "outputs": [
    {
     "name": "stdout",
     "output_type": "stream",
     "text": [
      "filename completed:  /home/cat/data/dan/id_switch/night/2020_07_30_04_38_30_582799_compressed_Night.slp\n",
      "all frames:  (4, 4)\n",
      "filename completed:  /home/cat/data/dan/id_switch/night/2020_07_30_07_58_21_812233_compressed_Night.slp\n",
      "all frames:  (49, 4)\n",
      "filename completed:  /home/cat/data/dan/id_switch/night/2020_07_30_21_38_50_943525_compressed_Night.slp\n",
      "all frames:  (107, 4)\n",
      "filename completed:  /home/cat/data/dan/id_switch/night/2020_07_30_23_29_47_808871_compressed_Night.slp\n",
      "all frames:  (23, 4)\n",
      "filename completed:  /home/cat/data/dan/id_switch/night/2020_07_30_00_34_28_393297_compressed_Night.slp\n",
      "all frames:  (38, 4)\n"
     ]
    }
   ],
   "source": [
    "######################################################## \n",
    "######### FIND ID SWTICHES IN PARALLEL AND SAVE ########\n",
    "########################################################\n",
    "\n",
    "#\n",
    "fnames_slp_list = '/home/cat/data/dan/id_switch/night/fnames.txt'\n",
    "\n",
    "#\n",
    "find_id_switches(fnames_slp_list)"
   ]
  },
  {
   "cell_type": "code",
   "execution_count": 22,
   "metadata": {
    "tags": []
   },
   "outputs": [
    {
     "name": "stderr",
     "output_type": "stream",
     "text": [
      "OpenCV: FFMPEG: tag 0x44495658/'XVID' is not supported with codec id 12 and format 'mp4 / MP4 (MPEG-4 Part 14)'\n",
      "OpenCV: FFMPEG: fallback to use tag 0x7634706d/'mp4v'\n"
     ]
    },
    {
     "name": "stdout",
     "output_type": "stream",
     "text": [
      "Fname hybrid movie:  /home/cat/data/dan/id_switch/night/fnames_daytime_hybrid_cropped.mp4\n",
      "fname found:  /home/cat/data/dan/id_switch/night/2020_07_30_04_38_30_582799_compressed_defished_shrink_cropped.mp4\n"
     ]
    },
    {
     "name": "stderr",
     "output_type": "stream",
     "text": [
      "adding frames to movies: 100%|████████████████████| 4/4 [00:00<00:00,  4.95it/s]\n"
     ]
    },
    {
     "name": "stdout",
     "output_type": "stream",
     "text": [
      "fname found:  /home/cat/data/dan/id_switch/night/2020_07_30_07_58_21_812233_compressed_defished_shrink_cropped.mp4\n"
     ]
    },
    {
     "name": "stderr",
     "output_type": "stream",
     "text": [
      "adding frames to movies: 100%|██████████████████| 49/49 [00:07<00:00,  6.15it/s]\n"
     ]
    },
    {
     "name": "stdout",
     "output_type": "stream",
     "text": [
      "fname found:  /home/cat/data/dan/id_switch/night/2020_07_30_21_38_50_943525_compressed_defished_shrink_cropped.mp4\n"
     ]
    },
    {
     "name": "stderr",
     "output_type": "stream",
     "text": [
      "adding frames to movies: 100%|████████████████| 107/107 [00:25<00:00,  4.13it/s]\n"
     ]
    },
    {
     "name": "stdout",
     "output_type": "stream",
     "text": [
      "fname found:  /home/cat/data/dan/id_switch/night/2020_07_30_23_29_47_808871_compressed_defished_shrink_cropped.mp4\n"
     ]
    },
    {
     "name": "stderr",
     "output_type": "stream",
     "text": [
      "adding frames to movies: 100%|██████████████████| 23/23 [00:06<00:00,  3.31it/s]\n"
     ]
    },
    {
     "name": "stdout",
     "output_type": "stream",
     "text": [
      "fname found:  /home/cat/data/dan/id_switch/night/2020_07_30_00_34_28_393297_compressed_defished_shrink_cropped.mp4\n"
     ]
    },
    {
     "name": "stderr",
     "output_type": "stream",
     "text": [
      "adding frames to movies: 100%|██████████████████| 38/38 [00:08<00:00,  4.73it/s]"
     ]
    },
    {
     "name": "stdout",
     "output_type": "stream",
     "text": [
      "DONE...\n"
     ]
    },
    {
     "name": "stderr",
     "output_type": "stream",
     "text": [
      "\n"
     ]
    }
   ],
   "source": [
    "###################################################\n",
    "###################################################\n",
    "###################################################\n",
    "\n",
    "# make hybrid video\n",
    "make_hybrid_video(fnames_slp_list)"
   ]
  },
  {
   "cell_type": "code",
   "execution_count": 29,
   "metadata": {},
   "outputs": [
    {
     "name": "stderr",
     "output_type": "stream",
     "text": [
      " 20%|█████████                                    | 1/5 [00:02<00:11,  2.93s/it]"
     ]
    },
    {
     "name": "stdout",
     "output_type": "stream",
     "text": [
      "Done...\n"
     ]
    },
    {
     "name": "stderr",
     "output_type": "stream",
     "text": [
      " 40%|██████████████████                           | 2/5 [00:07<00:10,  3.65s/it]"
     ]
    },
    {
     "name": "stdout",
     "output_type": "stream",
     "text": [
      "Done...\n"
     ]
    },
    {
     "name": "stderr",
     "output_type": "stream",
     "text": [
      " 60%|███████████████████████████                  | 3/5 [00:11<00:07,  3.95s/it]"
     ]
    },
    {
     "name": "stdout",
     "output_type": "stream",
     "text": [
      "Done...\n"
     ]
    },
    {
     "name": "stderr",
     "output_type": "stream",
     "text": [
      " 80%|████████████████████████████████████         | 4/5 [00:15<00:03,  3.97s/it]"
     ]
    },
    {
     "name": "stdout",
     "output_type": "stream",
     "text": [
      "Done...\n"
     ]
    },
    {
     "name": "stderr",
     "output_type": "stream",
     "text": [
      "100%|█████████████████████████████████████████████| 5/5 [00:19<00:00,  3.95s/it]"
     ]
    },
    {
     "name": "stdout",
     "output_type": "stream",
     "text": [
      "Done...\n"
     ]
    },
    {
     "name": "stderr",
     "output_type": "stream",
     "text": [
      "\n"
     ]
    }
   ],
   "source": [
    "##############################################################\n",
    "################# CLEAN UP .SLP FILES ########################\n",
    "##############################################################\n",
    "\n",
    "#\n",
    "fnames_slp_list = '/home/cat/data/dan/id_switch/night/fnames.txt'\n",
    "\n",
    "#\n",
    "make_deleted_slp_files(fnames_slp_list)"
   ]
  },
  {
   "cell_type": "code",
   "execution_count": 31,
   "metadata": {},
   "outputs": [
    {
     "name": "stdout",
     "output_type": "stream",
     "text": [
      "Video(filename=/home/cat/data/dan/id_switch/night/fnames_hybrid_cropped.mp4, shape=(None, None, None, None), backend=MediaVideo)\n",
      "DONE...\n"
     ]
    }
   ],
   "source": [
    "##############################################################\n",
    "################# MAKE HYBRID .SLP FILE ######################\n",
    "##############################################################\n",
    "\n",
    "#\n",
    "fname_hybrid_video = '/home/cat/data/dan/id_switch/night/fnames_hybrid_cropped.mp4'\n",
    "fnames_slp_list = '/home/cat/data/dan/id_switch/night/fnames.txt'\n",
    "make_hybrid_slp(fnames_slp_list,\n",
    "                fname_hybrid_video)\n"
   ]
  },
  {
   "cell_type": "code",
   "execution_count": null,
   "metadata": {},
   "outputs": [],
   "source": []
  },
  {
   "cell_type": "code",
   "execution_count": null,
   "metadata": {},
   "outputs": [],
   "source": []
  },
  {
   "cell_type": "code",
   "execution_count": null,
   "metadata": {},
   "outputs": [],
   "source": []
  },
  {
   "cell_type": "code",
   "execution_count": null,
   "metadata": {},
   "outputs": [],
   "source": []
  },
  {
   "cell_type": "code",
   "execution_count": null,
   "metadata": {},
   "outputs": [],
   "source": []
  },
  {
   "cell_type": "code",
   "execution_count": null,
   "metadata": {},
   "outputs": [],
   "source": []
  },
  {
   "cell_type": "code",
   "execution_count": null,
   "metadata": {},
   "outputs": [],
   "source": []
  },
  {
   "cell_type": "code",
   "execution_count": null,
   "metadata": {},
   "outputs": [],
   "source": []
  },
  {
   "cell_type": "code",
   "execution_count": null,
   "metadata": {},
   "outputs": [],
   "source": []
  },
  {
   "cell_type": "code",
   "execution_count": null,
   "metadata": {},
   "outputs": [],
   "source": []
  },
  {
   "cell_type": "code",
   "execution_count": null,
   "metadata": {},
   "outputs": [],
   "source": []
  },
  {
   "cell_type": "code",
   "execution_count": null,
   "metadata": {},
   "outputs": [],
   "source": []
  }
 ],
 "metadata": {
  "kernelspec": {
   "display_name": "Python 3 (ipykernel)",
   "language": "python",
   "name": "python3"
  },
  "language_info": {
   "codemirror_mode": {
    "name": "ipython",
    "version": 3
   },
   "file_extension": ".py",
   "mimetype": "text/x-python",
   "name": "python",
   "nbconvert_exporter": "python",
   "pygments_lexer": "ipython3",
   "version": "3.10.6"
  }
 },
 "nbformat": 4,
 "nbformat_minor": 4
}
