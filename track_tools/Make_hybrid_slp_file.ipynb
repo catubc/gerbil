{
 "cells": [
  {
   "cell_type": "code",
   "execution_count": 1,
   "metadata": {},
   "outputs": [
    {
     "data": {
      "application/javascript": [
       "IPython.notebook.set_autosave_interval(180000)"
      ]
     },
     "metadata": {},
     "output_type": "display_data"
    },
    {
     "name": "stdout",
     "output_type": "stream",
     "text": [
      "Autosaving every 180 seconds\n"
     ]
    },
    {
     "name": "stderr",
     "output_type": "stream",
     "text": [
      "2022-12-12 08:04:18.555348: W tensorflow/stream_executor/platform/default/dso_loader.cc:64] Could not load dynamic library 'libcudart.so.11.0'; dlerror: libcudart.so.11.0: cannot open shared object file: No such file or directory; LD_LIBRARY_PATH: /home/cat/miniconda3/envs/gerbils/lib/python3.10/site-packages/cv2/../../lib64:\n",
      "2022-12-12 08:04:18.555383: I tensorflow/stream_executor/cuda/cudart_stub.cc:29] Ignore above cudart dlerror if you do not have a GPU set up on your machine.\n"
     ]
    }
   ],
   "source": [
    "%load_ext autoreload\n",
    "%autoreload 2\n",
    "\n",
    "import matplotlib\n",
    "import matplotlib.pyplot as plt\n",
    "#matplotlib.use('Agg')\n",
    "%matplotlib tk\n",
    "%autosave 180\n",
    "\n",
    "import sys\n",
    "sys.path.append('/home/cat/code/gerbil/utils/')\n",
    "\n",
    "#\n",
    "import os\n",
    "import numpy as np\n",
    "\n",
    "#\n",
    "from visualize import Visualize\n",
    "from track import Track, detect_id_switch3\n",
    "\n",
    "\n",
    "from tqdm import trange\n",
    "\n",
    "#\n",
    "import sleap\n",
    "from tqdm import tqdm\n",
    "import os\n",
    "import glob"
   ]
  },
  {
   "cell_type": "code",
   "execution_count": 2,
   "metadata": {},
   "outputs": [
    {
     "name": "stdout",
     "output_type": "stream",
     "text": [
      "Loading:  /home/cat/data/dan/id_switch/day/2020_07_30_07_58_21_812233_compressed_Day.slp\n",
      "movie:  /home/cat/data/dan/id_switch/day/2020_07_30_07_58_21_812233_compressed.mp4\n"
     ]
    },
    {
     "name": "stderr",
     "output_type": "stream",
     "text": [
      "finding id switches in movie: 100%|█████| 28801/28801 [00:06<00:00, 4251.99it/s]\n"
     ]
    },
    {
     "name": "stdout",
     "output_type": "stream",
     "text": [
      "found:  0  switches\n"
     ]
    },
    {
     "name": "stderr",
     "output_type": "stream",
     "text": [
      "finding id switches in movie: 100%|█████| 28801/28801 [00:05<00:00, 5642.54it/s]\n"
     ]
    },
    {
     "name": "stdout",
     "output_type": "stream",
     "text": [
      "found:  0  switches\n"
     ]
    },
    {
     "name": "stderr",
     "output_type": "stream",
     "text": [
      "finding id switches in movie: 100%|█████| 28801/28801 [00:04<00:00, 5807.04it/s]\n"
     ]
    },
    {
     "name": "stdout",
     "output_type": "stream",
     "text": [
      "found:  6  switches\n"
     ]
    },
    {
     "name": "stderr",
     "output_type": "stream",
     "text": [
      "finding id switches in movie: 100%|█████| 28801/28801 [00:05<00:00, 5353.31it/s]\n"
     ]
    },
    {
     "name": "stdout",
     "output_type": "stream",
     "text": [
      "found:  0  switches\n"
     ]
    },
    {
     "name": "stderr",
     "output_type": "stream",
     "text": [
      "finding id switches in movie: 100%|█████| 28801/28801 [00:05<00:00, 5350.48it/s]\n"
     ]
    },
    {
     "name": "stdout",
     "output_type": "stream",
     "text": [
      "found:  3  switches\n"
     ]
    },
    {
     "name": "stderr",
     "output_type": "stream",
     "text": [
      "finding id switches in movie: 100%|█████| 28801/28801 [00:06<00:00, 4477.85it/s]"
     ]
    },
    {
     "name": "stdout",
     "output_type": "stream",
     "text": [
      "found:  1  switches\n",
      "DONE...\n"
     ]
    },
    {
     "name": "stderr",
     "output_type": "stream",
     "text": [
      "\n"
     ]
    }
   ],
   "source": [
    "\n",
    "\n",
    "\n",
    "#\n",
    "fnames_list = '/home/cat/data/dan/id_switch/day/fnames_day.txt'\n",
    "\n",
    "#\n",
    "fnames = np.loadtxt(fnames_list, \n",
    "                    dtype='str')\n",
    "\n",
    "#\n",
    "animal_ids = np.arange(6)\n",
    "all_frames = []\n",
    "#\n",
    "for fname_slp in fnames:\n",
    "    print (\"Loading: \", fname_slp)\n",
    "    \n",
    "    #fname_slp = '/home/cat/data/dan/2020_07_30_00_34_28_393297/day/2020_07_30_07_58_21_812233_compressed_Day.slp'\n",
    "    track = Track(fname_slp)\n",
    "    track.track_type = 'features'\n",
    "    track.use_dynamic_centroid = True   # True: alg. serches for the first non-nan value in this body order [2,3,1,0,4,5]\n",
    "    track.load_tracks()\n",
    "    \n",
    "    #\n",
    "    fname_movie = glob.glob(fname_slp[:-10]+\"*.mp4\")[0]\n",
    "    print (\"movie: \", fname_movie)\n",
    "    \n",
    "    #### FIND ALL ID SWITCHES IN MOVIE ####\n",
    "    all_frames = []\n",
    "    \n",
    "    for animal_id in animal_ids:\n",
    "    #for animal_id in [2]:\n",
    "        frame_ids = detect_id_switch3(track.tracks, \n",
    "                                      animal_id)\n",
    "        if len(frame_ids)>0:\n",
    "            all_frames.append(frame_ids)\n",
    "    break\n",
    "    \n",
    "print (\"DONE...\")"
   ]
  },
  {
   "cell_type": "code",
   "execution_count": null,
   "metadata": {},
   "outputs": [],
   "source": [
    "# from tqdm import tqdm\n",
    "    \n",
    "# #\n",
    "# search_frames = np.int32(np.vstack(all_frames.copy()))\n",
    "# #search_frames = np.vstack((search_frames,\n",
    "# #                           [1000000,1000000,10]))\n",
    "\n",
    "# idx = np.argsort(search_frames[:,0])\n",
    "# search_frames = search_frames[idx]\n",
    "# print (search_frames[:,0])\n",
    "# #print (search_frames)\n",
    "\n",
    "\n",
    "# fname = '/home/cat/data/dan/id_switch/day/2020_07_30_07_58_21_812233_compressed_Day.slp'\n",
    "\n",
    "# #\n",
    "# names = ['female','male','pup1','pup2','pup3','pup4']\n",
    "\n",
    "\n",
    "# labels = sleap.load_file(fname)\n",
    "# n_videos = len(labels.videos)\n",
    "\n",
    "# #\n",
    "# n_all=0\n",
    "# for video_idx in range(n_videos):\n",
    "    \n",
    "#     # Change this select the video of interest from the labels.video list\n",
    "#     video = labels.videos[video_idx]\n",
    "#     labeled_frames_from_video = labels.get(video)\n",
    "    \n",
    "#     # Find indices of labeled frames to keep, note these are the indices of the `LabeledFrame`s in the labels.labeled_frames list\n",
    "#     lf_indices = search_frames[:,0] #[0, 2, 7, 101]  # Replace with list of labeled frame indices (NOT the same as video indices)\n",
    "    \n",
    "#     # Create a new `Labels` object containing only the matched `LabeledFrame`s\n",
    "#     labels_keep = labels.extract(lf_indices, copy=True)\n",
    "\n",
    "#     # Loop through matched `LabeledFrame`s\n",
    "#     ctr=0\n",
    "#     for lf, track_to_keep in zip(labels_keep.labeled_frames, tracks_to_keep):\n",
    "        \n",
    "#         #\n",
    "#         for inst_idx, inst in enumerate(lf.predicted_instances):\n",
    "            \n",
    "#             # get the predicted name\n",
    "#             name_predicted = lf.predicted_instances[inst_idx].track.name\n",
    "\n",
    "#             #  see if it matches the track to keep name \n",
    "#             if name_predicted!=track_to_keep:\n",
    "#                 lf.predicted_instances.remove(inst)                                                   #<----- dosn't work\n",
    "#                 del labels_keep.labeled_frames[ctr].predicted_instances[inst_idx]   #<-------------these functions don'tseem to work\n",
    "#                 labels_keep.labeled_frames[ctr].predicted_instances.remove(inst)    #  i.e. the saved file has all the tracks still\n",
    "#         ctr+=1\n",
    "        \n",
    "# # Save new slp\n",
    "# new_slp_path = fname[:-4]+\"_deleted.slp\"\n",
    "# labels_keep.save_file(labels_keep, new_slp_path)                          #<----- these files still have all the tracks in each predicted instance\n",
    "# sleap.Labels.save_file(labels_keep, new_slp_path[:-4]+\"_2.slp\")    #<----- same\n",
    "\n"
   ]
  },
  {
   "cell_type": "code",
   "execution_count": 6,
   "metadata": {},
   "outputs": [
    {
     "name": "stdout",
     "output_type": "stream",
     "text": [
      "[12959 13016 14522 14566 14658 14678 15137 15173 16416 16580]\n",
      "['pup1', 'pup1', 'pup3', 'pup1', 'pup3', 'pup1', 'pup4', 'pup3', 'pup1', 'pup1']\n",
      "instd idx:  0\n",
      "instd idx:  1\n",
      "instd idx:  2\n",
      "instd idx:  0\n",
      "instd idx:  1\n",
      "instd idx:  2\n",
      "instd idx:  3\n",
      "instd idx:  4\n",
      "instd idx:  0\n",
      "instd idx:  1\n",
      "instd idx:  2\n",
      "instd idx:  3\n",
      "instd idx:  4\n",
      "instd idx:  0\n",
      "instd idx:  1\n",
      "instd idx:  2\n",
      "instd idx:  3\n",
      "instd idx:  4\n",
      "instd idx:  0\n",
      "instd idx:  1\n",
      "instd idx:  2\n",
      "instd idx:  3\n",
      "instd idx:  4\n",
      "instd idx:  0\n",
      "instd idx:  1\n",
      "instd idx:  2\n",
      "instd idx:  3\n",
      "instd idx:  4\n",
      "instd idx:  0\n",
      "instd idx:  1\n",
      "instd idx:  2\n",
      "instd idx:  3\n",
      "instd idx:  0\n",
      "instd idx:  1\n",
      "instd idx:  2\n",
      "instd idx:  3\n",
      "instd idx:  4\n",
      "instd idx:  0\n",
      "instd idx:  1\n",
      "instd idx:  2\n",
      "instd idx:  3\n",
      "instd idx:  4\n",
      "instd idx:  0\n",
      "instd idx:  1\n",
      "instd idx:  2\n",
      "instd idx:  3\n",
      "Done...\n"
     ]
    }
   ],
   "source": [
    "\n",
    "\n",
    "search_frames = np.vstack(all_frames.copy())\n",
    "#print (search_frames)\n",
    "#search_frames = np.vstack((search_frames,\n",
    "#                           [1000000,1000000,6,6]))\n",
    "\n",
    "idx = np.argsort(search_frames[:,0])\n",
    "search_frames = search_frames[idx]\n",
    "print (search_frames[:,0])\n",
    "#print (search_frames)\n",
    "\n",
    "#\n",
    "fname = '/home/cat/data/dan/id_switch/day/2020_07_30_07_58_21_812233_compressed_Day.slp'\n",
    "\n",
    "#\n",
    "names = ['female','male','pup1','pup2','pup3','pup4','none']\n",
    "\n",
    "#\n",
    "names_idx = search_frames[:,2]\n",
    "tracks_to_keep = []\n",
    "for idx in names_idx:\n",
    "    #print (idx)\n",
    "    tracks_to_keep.append(names[idx])\n",
    "#\n",
    "print (tracks_to_keep)\n",
    "\n",
    "#\n",
    "labels = sleap.load_file(fname)\n",
    "n_videos = len(labels.videos)\n",
    "\n",
    "#\n",
    "n_all=0\n",
    "for video_idx in range(n_videos):\n",
    "    \n",
    "    # Change this select the video of interest from the labels.video list\n",
    "    video = labels.videos[video_idx]\n",
    "    labeled_frames_from_video = labels.get(video)\n",
    "    \n",
    "    # Find indices of labeled frames to keep, note these are the indices of the `LabeledFrame`s in the labels.labeled_frames list\n",
    "    lf_indices = search_frames[:,0] #[0, 2, 7, 101]  # Replace with list of labeled frame indices (NOT the same as video indices)\n",
    "    \n",
    "    # Create a new `Labels` object containing only the matched `LabeledFrame`s\n",
    "    labels_keep = labels.extract(lf_indices, copy=True)\n",
    "\n",
    "    # Loop through matched `LabeledFrame`s\n",
    "    ctr=0\n",
    "    for lf, track_to_keep in zip(labels_keep.labeled_frames, tracks_to_keep):\n",
    "        \n",
    "        #\n",
    "        ctr_del = 0\n",
    "        for inst_idx, inst in enumerate(lf.predicted_instances):\n",
    "            \n",
    "            # get the predicted name\n",
    "            #print (\"instd idx: \", inst_idx)\n",
    "            name_predicted = lf.predicted_instances[inst_idx+ctr_del].track.name\n",
    "\n",
    "            #  see if it matches the track to keep name \n",
    "            if name_predicted!=track_to_keep:\n",
    "                lf.instances.remove(inst)\n",
    "                \n",
    "                \n",
    "                ctr_del-=1\n",
    "                #del labels_keep.labeled_frames[ctr].predicted_instances[inst_idx]   #<-------------these functions don'tseem to work\n",
    "                #labels_keep.labeled_frames[ctr].predicted_instances.remove(inst)    #  i.e. the saved file has all the tracks still\n",
    "        ctr+=1\n",
    "        \n",
    "# Save new slp\n",
    "new_slp_path = fname[:-4]+\"_deleted.slp\"\n",
    "labels_keep.save_file(labels_keep, new_slp_path)\n",
    "sleap.Labels.save_file(labels_keep, new_slp_path[:-4]+\"_2.slp\")\n",
    "\n",
    "print (\"Done...\")\n"
   ]
  },
  {
   "cell_type": "code",
   "execution_count": null,
   "metadata": {},
   "outputs": [],
   "source": []
  },
  {
   "cell_type": "code",
   "execution_count": null,
   "metadata": {},
   "outputs": [],
   "source": []
  },
  {
   "cell_type": "code",
   "execution_count": null,
   "metadata": {},
   "outputs": [],
   "source": []
  },
  {
   "cell_type": "code",
   "execution_count": 8,
   "metadata": {},
   "outputs": [
    {
     "name": "stderr",
     "output_type": "stream",
     "text": [
      " 33%|███▎      | 4/12 [00:00<00:00, 25.63it/s]"
     ]
    },
    {
     "name": "stdout",
     "output_type": "stream",
     "text": [
      "127\n",
      "205\n",
      "173\n",
      "359\n",
      "287\n"
     ]
    },
    {
     "name": "stderr",
     "output_type": "stream",
     "text": [
      " 58%|█████▊    | 7/12 [00:00<00:00, 17.16it/s]"
     ]
    },
    {
     "name": "stdout",
     "output_type": "stream",
     "text": [
      "464\n",
      "512\n",
      "306\n"
     ]
    },
    {
     "name": "stderr",
     "output_type": "stream",
     "text": [
      " 92%|█████████▏| 11/12 [00:00<00:00, 15.17it/s]"
     ]
    },
    {
     "name": "stdout",
     "output_type": "stream",
     "text": [
      "590\n",
      "354\n",
      "377\n"
     ]
    },
    {
     "name": "stderr",
     "output_type": "stream",
     "text": [
      "100%|██████████| 12/12 [00:01<00:00, 11.81it/s]"
     ]
    },
    {
     "name": "stdout",
     "output_type": "stream",
     "text": [
      "504\n",
      "4258\n",
      "locs:  (25548, 2)\n"
     ]
    },
    {
     "name": "stderr",
     "output_type": "stream",
     "text": [
      "\n"
     ]
    }
   ],
   "source": [
    "####################################################\n",
    "############ VISUALIZE DELETED TRACKS ##############\n",
    "####################################################\n",
    "\n",
    "fname = \"/media/cat/256GB/dan/testing_track_cleanup_code/cohort2_night_1000/videos/cohort2_night.1000_deleted.slp\"\n",
    "labels = sleap.load_file(fname)\n",
    "\n",
    "labels.videos  # Use in ipython to print list of videos in the labels object\n",
    "n_videos = len(labels.videos)\n",
    "\n",
    "#\n",
    "locs = []\n",
    "for video_idx in trange(n_videos):\n",
    "    #video_idx =   # Change this select the video of interest from the labels.video list\n",
    "    video = labels.videos[video_idx]\n",
    "    labeled_frames_from_video = labels.get(video)\n",
    "\n",
    "    # Loop through all labeled frames (from a specific video)\n",
    "    n_frames = 0\n",
    "    for ctr1, lf in enumerate(labeled_frames_from_video):\n",
    "\n",
    "        # Loop through all user instances in the current labeled frame\n",
    "        for ctr2, inst in enumerate(lf.user_instances):\n",
    "\n",
    "            #\n",
    "            remove_inst = False\n",
    "            points_array = inst.points_array  # Returns a (num_nodes, 2) np.recarray\n",
    "            \n",
    "            #\n",
    "            #print (points_array[:,0])\n",
    "            #print (points_array[:,1])\n",
    "            idx1 = np.where(points_array[:,0]<200)[0]\n",
    "            idx2 = np.where(points_array[:,1]<200)[0]\n",
    "            \n",
    "            inter = list(set(idx1) & set(idx2))\n",
    "            locs.append(points_array)\n",
    "            \n",
    "            n_all+=1\n",
    "            n_frames+=1\n",
    "    print (n_frames)\n",
    "    \n",
    "print (n_all)\n",
    "locs = np.vstack(locs)\n",
    "print (\"locs: \", locs.shape)\n",
    "\n",
    "#\n",
    "plt.figure()\n",
    "plt.scatter(locs[:,0],\n",
    "            locs[:,1])\n",
    "plt.xlim(0,900)\n",
    "plt.ylim(0,700)\n",
    "plt.show()\n"
   ]
  },
  {
   "cell_type": "code",
   "execution_count": null,
   "metadata": {},
   "outputs": [],
   "source": []
  },
  {
   "cell_type": "code",
   "execution_count": null,
   "metadata": {},
   "outputs": [],
   "source": []
  },
  {
   "cell_type": "code",
   "execution_count": null,
   "metadata": {},
   "outputs": [],
   "source": []
  },
  {
   "cell_type": "code",
   "execution_count": null,
   "metadata": {},
   "outputs": [],
   "source": []
  },
  {
   "cell_type": "code",
   "execution_count": null,
   "metadata": {},
   "outputs": [],
   "source": []
  },
  {
   "cell_type": "code",
   "execution_count": null,
   "metadata": {},
   "outputs": [],
   "source": []
  },
  {
   "cell_type": "code",
   "execution_count": null,
   "metadata": {},
   "outputs": [],
   "source": []
  },
  {
   "cell_type": "code",
   "execution_count": null,
   "metadata": {},
   "outputs": [],
   "source": []
  }
 ],
 "metadata": {
  "kernelspec": {
   "display_name": "Python 3 (ipykernel)",
   "language": "python",
   "name": "python3"
  },
  "language_info": {
   "codemirror_mode": {
    "name": "ipython",
    "version": 3
   },
   "file_extension": ".py",
   "mimetype": "text/x-python",
   "name": "python",
   "nbconvert_exporter": "python",
   "pygments_lexer": "ipython3",
   "version": "3.10.6"
  }
 },
 "nbformat": 4,
 "nbformat_minor": 4
}
