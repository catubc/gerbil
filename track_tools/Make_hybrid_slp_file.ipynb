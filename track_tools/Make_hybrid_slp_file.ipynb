{
 "cells": [
  {
   "cell_type": "code",
   "execution_count": 20,
   "metadata": {},
   "outputs": [
    {
     "name": "stdout",
     "output_type": "stream",
     "text": [
      "The autoreload extension is already loaded. To reload it, use:\n",
      "  %reload_ext autoreload\n"
     ]
    },
    {
     "data": {
      "application/javascript": [
       "IPython.notebook.set_autosave_interval(180000)"
      ]
     },
     "metadata": {},
     "output_type": "display_data"
    },
    {
     "name": "stdout",
     "output_type": "stream",
     "text": [
      "Autosaving every 180 seconds\n"
     ]
    }
   ],
   "source": [
    "%load_ext autoreload\n",
    "%autoreload 2\n",
    "\n",
    "import matplotlib\n",
    "import matplotlib.pyplot as plt\n",
    "#matplotlib.use('Agg')\n",
    "%matplotlib tk\n",
    "%autosave 180\n",
    "\n",
    "import sys\n",
    "sys.path.append('/home/cat/code/gerbil/utils/')\n",
    "\n",
    "#\n",
    "import os\n",
    "import numpy as np\n",
    "\n",
    "#\n",
    "from visualize import Visualize\n",
    "from track import Track, detect_id_switch3\n",
    "\n",
    "\n",
    "from tqdm import trange\n",
    "\n",
    "#\n",
    "import sleap\n",
    "from tqdm import tqdm\n",
    "import os\n",
    "import glob"
   ]
  },
  {
   "cell_type": "code",
   "execution_count": 21,
   "metadata": {},
   "outputs": [
    {
     "name": "stdout",
     "output_type": "stream",
     "text": [
      "Loading:  /media/cat/256GB/dan/id_switch/day/2020_07_30_17_34_43_625922_compressed_Day.slp\n",
      "movie:  /media/cat/256GB/dan/id_switch/day/2020_07_30_17_34_43_625922_compressed_defished_shrink_cropped.mp4\n"
     ]
    },
    {
     "name": "stderr",
     "output_type": "stream",
     "text": [
      "finding id switches in movie: 100%|██████████| 28801/28801 [00:10<00:00, 2632.72it/s]\n"
     ]
    },
    {
     "name": "stdout",
     "output_type": "stream",
     "text": [
      "found:  0  switches\n"
     ]
    },
    {
     "name": "stderr",
     "output_type": "stream",
     "text": [
      "finding id switches in movie: 100%|██████████| 28801/28801 [00:10<00:00, 2638.74it/s]\n"
     ]
    },
    {
     "name": "stdout",
     "output_type": "stream",
     "text": [
      "found:  5  switches\n"
     ]
    },
    {
     "name": "stderr",
     "output_type": "stream",
     "text": [
      "finding id switches in movie: 100%|██████████| 28801/28801 [00:08<00:00, 3202.07it/s]\n"
     ]
    },
    {
     "name": "stdout",
     "output_type": "stream",
     "text": [
      "found:  2  switches\n"
     ]
    },
    {
     "name": "stderr",
     "output_type": "stream",
     "text": [
      "finding id switches in movie: 100%|██████████| 28801/28801 [00:08<00:00, 3531.70it/s]\n"
     ]
    },
    {
     "name": "stdout",
     "output_type": "stream",
     "text": [
      "found:  15  switches\n"
     ]
    },
    {
     "name": "stderr",
     "output_type": "stream",
     "text": [
      "finding id switches in movie: 100%|██████████| 28801/28801 [00:08<00:00, 3412.44it/s]\n"
     ]
    },
    {
     "name": "stdout",
     "output_type": "stream",
     "text": [
      "found:  5  switches\n"
     ]
    },
    {
     "name": "stderr",
     "output_type": "stream",
     "text": [
      "finding id switches in movie: 100%|██████████| 28801/28801 [00:09<00:00, 3155.13it/s]"
     ]
    },
    {
     "name": "stdout",
     "output_type": "stream",
     "text": [
      "found:  14  switches\n"
     ]
    },
    {
     "name": "stderr",
     "output_type": "stream",
     "text": [
      "\n"
     ]
    }
   ],
   "source": [
    "\n",
    "\n",
    "\n",
    "#\n",
    "fnames_list = '/media/cat/256GB/dan/id_switch/day/fnames.txt'\n",
    "\n",
    "#\n",
    "fnames = np.loadtxt(fnames_list, \n",
    "                    dtype='str')\n",
    "\n",
    "#\n",
    "animal_ids = np.arange(6)\n",
    "\n",
    "#\n",
    "for fname_slp in fnames:\n",
    "    print (\"Loading: \", fname_slp)\n",
    "    \n",
    "    #fname_slp = '/home/cat/data/dan/2020_07_30_00_34_28_393297/day/2020_07_30_07_58_21_812233_compressed_Day.slp'\n",
    "    track = Track(fname_slp)\n",
    "    track.track_type = 'features'\n",
    "    track.use_dynamic_centroid = True   # True: alg. serches for the first non-nan value in this body order [2,3,1,0,4,5]\n",
    "    track.load_tracks()\n",
    "    \n",
    "    #\n",
    "    fname_movie = glob.glob(fname_slp[:-10]+\"*.mp4\")[0]\n",
    "    print (\"movie: \", fname_movie)\n",
    "    \n",
    "    #### FIND ALL ID SWITCHES IN MOVIE ####\n",
    "    all_frames = []\n",
    "    \n",
    "    for animal_id in animal_ids:\n",
    "    #for animal_id in [2]:\n",
    "        frame_ids = detect_id_switch3(track.tracks, \n",
    "                                      animal_id)\n",
    "        if len(frame_ids)>0:\n",
    "            all_frames.append(frame_ids)\n",
    "    break"
   ]
  },
  {
   "cell_type": "code",
   "execution_count": 18,
   "metadata": {},
   "outputs": [
    {
     "name": "stdout",
     "output_type": "stream",
     "text": [
      "[   4718    5111    5112    5113    6202    6258    7603    7608    7610\n",
      "    7618    7831    8388    8392    8440    8544    8573    8591    8592\n",
      "    8634    8644    8876    9135    9189    9302    9383   16224   16225\n",
      "   16491   16493   17159   20936   22341   22351   22730   23393   23394\n",
      "   23395   24003   24004   24005   26591 1000000]\n",
      "Labels(labeled_frames=8802, videos=1, skeletons=1, tracks=6)\n",
      "DONE...\n"
     ]
    }
   ],
   "source": [
    "from tqdm import tqdm\n",
    "    \n",
    "#\n",
    "search_frames = all_frames.copy()\n",
    "search_frames = np.vstack((search_frames,\n",
    "                           [1000000,1000000,10]))\n",
    "\n",
    "idx = np.argsort(search_frames[:,0])\n",
    "search_frames = search_frames[idx]\n",
    "print (search_frames[:,0])\n",
    "#print (search_frames)\n",
    "\n",
    "\n",
    "fname = '/media/cat/256GB/dan/id_switch/day/2020_07_30_17_34_43_625922_compressed_Day.slp'\n",
    "\n",
    "#\n",
    "names = ['female','male','pup1','pup2','pup3','pup4']\n",
    "\n",
    "#\n",
    "labels = sleap.load_file(fname)\n",
    "\n",
    "n_videos = len(labels.videos)\n",
    "\n",
    "#\n",
    "n_all=0\n",
    "for video_idx in range(n_videos):\n",
    "    \n",
    "    # Change this select the video of interest from the labels.video list\n",
    "    video = labels.videos[video_idx]\n",
    "    labeled_frames_from_video = labels.get(video)\n",
    "    \n",
    "    #labels = sleap.load_file(ds)  # All the data for the slp project is stored here\n",
    "\n",
    "    #labels.videos  # This prints all the videos in the slp project (use this to set video_idx below)\n",
    "    #video_idx = 0  # CHANGE THIS to be the index of the video to delete labeled frames from\n",
    "    #video = labels.videos[video_idx]\n",
    "\n",
    "#     # Note that frame_idx starts at 0 in the API, but starts at 1 in the GUI\n",
    "#     labeled_frame_indices = np.arange(20000) #[0, 3, 255, 344]  # CHANGE THIS to be the list of frame indices to delete\n",
    "#     for frame_idx in labeled_frame_indices:\n",
    "#         # Note that frame_idx starts at 0 in the API, but starts at 1 in the GUI\n",
    "#         lf_to_remove = labels.get(video, frame_idx)  # Get the labeled frame in video at frame_idx\n",
    "#         labels.labeled_frames.remove(lf_to_remove)  # Remove the labeled frame from the project\n",
    "\n",
    "for video_idx in range(n_videos):\n",
    "    \n",
    "    # Change this select the video of interest from the labels.video list\n",
    "    video = labels.videos[video_idx]\n",
    "    labeled_frames_from_video = labels.get(video)\n",
    "        \n",
    "    # Loop through all labeled frames (from a specific video)\n",
    "    n_frames = 0\n",
    "    ctr1=0\n",
    "    for lf in tqdm(labeled_frames_from_video):\n",
    "        \n",
    "        # some LOGIC/CONDITIONAL - DOESN\"T MATTER\n",
    "        if ctr1==search_frames[0,0]:\n",
    "\n",
    "            print (ctr1, lf.has_predicted_instances)\n",
    "            #\n",
    "            name_switched = names[search_frames[0][2]]\n",
    "            \n",
    "            #\n",
    "            n_inst = np.arange(len(lf.predicted_instances))\n",
    "            \n",
    "            #\n",
    "            for k, inst in zip(n_inst, lf.predicted_instances):\n",
    "                \n",
    "                #\n",
    "                name_predicted = lf.predicted_instances[k].track.name\n",
    "                \n",
    "                # delete the non-matched instances:\n",
    "                if name_predicted != name_switched:\n",
    "                    lf.predicted_instances.remove(inst)\n",
    "                    \n",
    "            search_frames = search_frames[1:]\n",
    "        \n",
    "        # IF NOT <- DEEP DELETE THE ENTIRE FRAME + VIDEO FRAME + PREDICTION + INSTANCE\n",
    "        else:\n",
    "            labels.remove_frame(lf)   # NOT SURE WHAT\"S CORRECT HERE\n",
    "            labels.remove_frames(lf)\n",
    "\n",
    "            \n",
    "        ctr1+=1\n",
    "        \n",
    "    #\n",
    "\n",
    "    # Save the modified slp\n",
    "    new_filename = fname[:-4]+\"_deleted.slp\"  # Use a different path from the current slp to be safe\n",
    "    labels.save_file(labels, new_filename)\n",
    "print (\"DONE...\")"
   ]
  },
  {
   "cell_type": "code",
   "execution_count": 43,
   "metadata": {},
   "outputs": [
    {
     "name": "stdout",
     "output_type": "stream",
     "text": [
      "[ 4718  5111  5112  5113  6202  6258  7603  7608  7610  7618  7831  8388\n",
      "  8392  8440  8544  8573  8591  8592  8634  8644  8876  9135  9189  9302\n",
      "  9383 16224 16225 16491 16493 17159 20936 22341 22351 22730 23393 23394\n",
      " 23395 24003 24004 24005 26591]\n",
      "['male', 'pup4', 'male', 'pup2', 'pup3', 'pup1', 'pup3', 'pup4', 'pup1', 'pup4', 'pup2', 'pup4', 'pup2', 'pup4', 'pup4', 'pup3', 'pup4', 'pup2', 'pup4', 'pup2', 'pup2', 'pup2', 'pup2', 'pup4', 'pup2', 'male', 'pup4', 'pup4', 'pup2', 'pup4', 'pup4', 'pup3', 'pup2', 'male', 'pup2', 'pup4', 'pup2', 'pup2', 'male', 'pup2', 'pup3']\n",
      "lf_indices:  [ 4718  5111  5112  5113  6202  6258  7603  7608  7610  7618  7831  8388\n",
      "  8392  8440  8544  8573  8591  8592  8634  8644  8876  9135  9189  9302\n",
      "  9383 16224 16225 16491 16493 17159 20936 22341 22351 22730 23393 23394\n",
      " 23395 24003 24004 24005 26591]\n",
      "name predicted:  female , track to keep:  male\n",
      "name predicted:  male , track to keep:  male\n",
      "name predicted:  pup1 , track to keep:  male\n",
      "name predicted:  pup2 , track to keep:  male\n",
      "name predicted:  pup4 , track to keep:  male\n",
      "name predicted:  female , track to keep:  pup4\n",
      "name predicted:  pup1 , track to keep:  pup4\n",
      "name predicted:  pup2 , track to keep:  pup4\n",
      "name predicted:  pup4 , track to keep:  pup4\n",
      "name predicted:  female , track to keep:  male\n",
      "name predicted:  male , track to keep:  male\n",
      "name predicted:  pup1 , track to keep:  male\n",
      "name predicted:  female , track to keep:  pup2\n",
      "name predicted:  pup1 , track to keep:  pup2\n",
      "name predicted:  pup2 , track to keep:  pup2\n",
      "name predicted:  female , track to keep:  pup3\n",
      "name predicted:  pup3 , track to keep:  pup3\n",
      "name predicted:  pup4 , track to keep:  pup3\n",
      "name predicted:  female , track to keep:  pup1\n",
      "name predicted:  male , track to keep:  pup1\n",
      "name predicted:  pup1 , track to keep:  pup1\n",
      "name predicted:  female , track to keep:  pup3\n",
      "name predicted:  male , track to keep:  pup3\n",
      "name predicted:  pup3 , track to keep:  pup3\n",
      "name predicted:  female , track to keep:  pup4\n",
      "name predicted:  male , track to keep:  pup4\n",
      "name predicted:  pup4 , track to keep:  pup4\n",
      "name predicted:  female , track to keep:  pup1\n",
      "name predicted:  male , track to keep:  pup1\n",
      "name predicted:  pup1 , track to keep:  pup1\n",
      "name predicted:  female , track to keep:  pup4\n",
      "name predicted:  male , track to keep:  pup4\n",
      "name predicted:  pup4 , track to keep:  pup4\n",
      "name predicted:  female , track to keep:  pup2\n",
      "name predicted:  pup2 , track to keep:  pup2\n",
      "name predicted:  pup4 , track to keep:  pup2\n",
      "name predicted:  female , track to keep:  pup4\n",
      "name predicted:  male , track to keep:  pup4\n",
      "name predicted:  pup4 , track to keep:  pup4\n",
      "name predicted:  female , track to keep:  pup2\n",
      "name predicted:  male , track to keep:  pup2\n",
      "name predicted:  pup2 , track to keep:  pup2\n",
      "name predicted:  female , track to keep:  pup4\n",
      "name predicted:  male , track to keep:  pup4\n",
      "name predicted:  pup4 , track to keep:  pup4\n",
      "name predicted:  female , track to keep:  pup4\n",
      "name predicted:  male , track to keep:  pup4\n",
      "name predicted:  pup4 , track to keep:  pup4\n",
      "name predicted:  female , track to keep:  pup3\n",
      "name predicted:  male , track to keep:  pup3\n",
      "name predicted:  pup3 , track to keep:  pup3\n",
      "name predicted:  female , track to keep:  pup4\n",
      "name predicted:  pup4 , track to keep:  pup4\n",
      "name predicted:  female , track to keep:  pup2\n",
      "name predicted:  pup2 , track to keep:  pup2\n",
      "name predicted:  female , track to keep:  pup4\n",
      "name predicted:  male , track to keep:  pup4\n",
      "name predicted:  pup4 , track to keep:  pup4\n",
      "name predicted:  female , track to keep:  pup2\n",
      "name predicted:  male , track to keep:  pup2\n",
      "name predicted:  pup2 , track to keep:  pup2\n",
      "name predicted:  female , track to keep:  pup2\n",
      "name predicted:  male , track to keep:  pup2\n",
      "name predicted:  pup2 , track to keep:  pup2\n",
      "name predicted:  female , track to keep:  pup2\n",
      "name predicted:  male , track to keep:  pup2\n",
      "name predicted:  pup2 , track to keep:  pup2\n",
      "name predicted:  female , track to keep:  pup2\n",
      "name predicted:  male , track to keep:  pup2\n",
      "name predicted:  pup2 , track to keep:  pup2\n",
      "name predicted:  female , track to keep:  pup4\n",
      "name predicted:  male , track to keep:  pup4\n",
      "name predicted:  pup4 , track to keep:  pup4\n",
      "name predicted:  female , track to keep:  pup2\n",
      "name predicted:  male , track to keep:  pup2\n",
      "name predicted:  pup2 , track to keep:  pup2\n",
      "name predicted:  female , track to keep:  male\n",
      "name predicted:  male , track to keep:  male\n",
      "name predicted:  pup1 , track to keep:  male\n",
      "name predicted:  pup2 , track to keep:  male\n",
      "name predicted:  pup3 , track to keep:  male\n",
      "name predicted:  female , track to keep:  pup4\n",
      "name predicted:  pup1 , track to keep:  pup4\n",
      "name predicted:  pup2 , track to keep:  pup4\n",
      "name predicted:  pup3 , track to keep:  pup4\n",
      "name predicted:  pup4 , track to keep:  pup4\n",
      "name predicted:  female , track to keep:  pup4\n",
      "name predicted:  male , track to keep:  pup4\n",
      "name predicted:  pup4 , track to keep:  pup4\n",
      "name predicted:  female , track to keep:  pup2\n",
      "name predicted:  male , track to keep:  pup2\n",
      "name predicted:  pup1 , track to keep:  pup2\n",
      "name predicted:  pup2 , track to keep:  pup2\n",
      "name predicted:  pup3 , track to keep:  pup2\n",
      "name predicted:  pup4 , track to keep:  pup2\n",
      "name predicted:  female , track to keep:  pup4\n",
      "name predicted:  male , track to keep:  pup4\n",
      "name predicted:  pup1 , track to keep:  pup4\n",
      "name predicted:  pup2 , track to keep:  pup4\n",
      "name predicted:  pup3 , track to keep:  pup4\n",
      "name predicted:  pup4 , track to keep:  pup4\n",
      "name predicted:  female , track to keep:  pup4\n",
      "name predicted:  male , track to keep:  pup4\n",
      "name predicted:  pup1 , track to keep:  pup4\n",
      "name predicted:  pup2 , track to keep:  pup4\n",
      "name predicted:  pup3 , track to keep:  pup4\n",
      "name predicted:  pup4 , track to keep:  pup4\n",
      "name predicted:  female , track to keep:  pup3\n",
      "name predicted:  male , track to keep:  pup3\n",
      "name predicted:  pup1 , track to keep:  pup3\n",
      "name predicted:  pup2 , track to keep:  pup3\n",
      "name predicted:  pup3 , track to keep:  pup3\n",
      "name predicted:  pup4 , track to keep:  pup3\n",
      "name predicted:  female , track to keep:  pup2\n",
      "name predicted:  pup1 , track to keep:  pup2\n",
      "name predicted:  pup2 , track to keep:  pup2\n",
      "name predicted:  pup3 , track to keep:  pup2\n",
      "name predicted:  pup4 , track to keep:  pup2\n",
      "name predicted:  female , track to keep:  male\n",
      "name predicted:  male , track to keep:  male\n",
      "name predicted:  pup1 , track to keep:  male\n",
      "name predicted:  pup2 , track to keep:  male\n",
      "name predicted:  pup3 , track to keep:  male\n",
      "name predicted:  pup4 , track to keep:  male\n",
      "name predicted:  female , track to keep:  pup2\n",
      "name predicted:  male , track to keep:  pup2\n",
      "name predicted:  pup1 , track to keep:  pup2\n",
      "name predicted:  pup2 , track to keep:  pup2\n",
      "name predicted:  pup3 , track to keep:  pup2\n",
      "name predicted:  female , track to keep:  pup4\n",
      "name predicted:  male , track to keep:  pup4\n",
      "name predicted:  pup1 , track to keep:  pup4\n",
      "name predicted:  pup2 , track to keep:  pup4\n",
      "name predicted:  pup3 , track to keep:  pup4\n",
      "name predicted:  pup4 , track to keep:  pup4\n",
      "name predicted:  female , track to keep:  pup2\n",
      "name predicted:  male , track to keep:  pup2\n",
      "name predicted:  pup1 , track to keep:  pup2\n",
      "name predicted:  pup2 , track to keep:  pup2\n",
      "name predicted:  pup3 , track to keep:  pup2\n",
      "name predicted:  pup4 , track to keep:  pup2\n",
      "name predicted:  female , track to keep:  pup2\n",
      "name predicted:  pup1 , track to keep:  pup2\n",
      "name predicted:  pup2 , track to keep:  pup2\n",
      "name predicted:  pup4 , track to keep:  pup2\n",
      "name predicted:  female , track to keep:  male\n",
      "name predicted:  male , track to keep:  male\n",
      "name predicted:  pup1 , track to keep:  male\n",
      "name predicted:  pup4 , track to keep:  male\n",
      "name predicted:  female , track to keep:  pup2\n",
      "name predicted:  pup1 , track to keep:  pup2\n",
      "name predicted:  pup2 , track to keep:  pup2\n",
      "name predicted:  pup4 , track to keep:  pup2\n",
      "name predicted:  female , track to keep:  pup3\n",
      "name predicted:  male , track to keep:  pup3\n",
      "name predicted:  pup1 , track to keep:  pup3\n",
      "name predicted:  pup2 , track to keep:  pup3\n",
      "name predicted:  pup3 , track to keep:  pup3\n",
      "name predicted:  pup4 , track to keep:  pup3\n"
     ]
    }
   ],
   "source": [
    "\n",
    "\n",
    "search_frames = np.vstack(all_frames.copy())\n",
    "#print (search_frames)\n",
    "#search_frames = np.vstack((search_frames,\n",
    "#                           [1000000,1000000,6,6]))\n",
    "\n",
    "idx = np.argsort(search_frames[:,0])\n",
    "search_frames = search_frames[idx]\n",
    "print (search_frames[:,0])\n",
    "#print (search_frames)\n",
    "\n",
    "\n",
    "fname = '/media/cat/256GB/dan/id_switch/day/2020_07_30_17_34_43_625922_compressed_Day.slp'\n",
    "\n",
    "#\n",
    "names = ['female','male','pup1','pup2','pup3','pup4','none']\n",
    "\n",
    "#\n",
    "names_idx = search_frames[:,2]\n",
    "tracks_to_keep = []\n",
    "for idx in names_idx:\n",
    "    #print (idx)\n",
    "    tracks_to_keep.append(names[idx])\n",
    "#\n",
    "print (tracks_to_keep)\n",
    "\n",
    "#\n",
    "labels = sleap.load_file(fname)\n",
    "n_videos = len(labels.videos)\n",
    "\n",
    "#\n",
    "n_all=0\n",
    "for video_idx in range(n_videos):\n",
    "    \n",
    "    # Change this select the video of interest from the labels.video list\n",
    "    video = labels.videos[video_idx]\n",
    "    labeled_frames_from_video = labels.get(video)\n",
    "    \n",
    "    # Find indices of labeled frames to keep, note these are the indices of the `LabeledFrame`s in the labels.labeled_frames list\n",
    "    lf_indices = search_frames[:,0] #[0, 2, 7, 101]  # Replace with list of labeled frame indices (NOT the same as video indices)\n",
    "    \n",
    "    # Create a new `Labels` object containing only the matched `LabeledFrame`s\n",
    "    labels_keep = labels.extract(lf_indices, copy=True)\n",
    "\n",
    "    # Loop through matched `LabeledFrame`s\n",
    "    ctr=0\n",
    "    for lf, track_to_keep in zip(labels_keep.labeled_frames, tracks_to_keep):\n",
    "        \n",
    "        #\n",
    "        for inst_idx, inst in enumerate(lf.predicted_instances):\n",
    "            \n",
    "            # get the predicted name\n",
    "            name_predicted = lf.predicted_instances[inst_idx].track.name\n",
    "\n",
    "            #  see if it matches the track to keep name \n",
    "            if name_predicted!=track_to_keep:\n",
    "                \n",
    "                del labels_keep.labeled_frames[ctr].predicted_instances[inst_idx]   #<-------------these functions don'tseem to work\n",
    "                labels_keep.labeled_frames[ctr].predicted_instances.remove(inst)    #  i.e. the saved file has all the tracks still\n",
    "        ctr+=1\n",
    "        \n",
    "# Save new slp\n",
    "new_slp_path = fname[:-4]+\"_deleted.slp\"\n",
    "labels_keep.save_file(labels_keep, new_slp_path)\n",
    "sleap.Labels.save_file(labels_keep, new_slp_path[:-4]+\"_2.slp\")"
   ]
  },
  {
   "cell_type": "code",
   "execution_count": null,
   "metadata": {},
   "outputs": [],
   "source": []
  },
  {
   "cell_type": "code",
   "execution_count": null,
   "metadata": {},
   "outputs": [],
   "source": []
  },
  {
   "cell_type": "code",
   "execution_count": null,
   "metadata": {},
   "outputs": [],
   "source": []
  },
  {
   "cell_type": "code",
   "execution_count": 8,
   "metadata": {},
   "outputs": [
    {
     "name": "stderr",
     "output_type": "stream",
     "text": [
      " 33%|███▎      | 4/12 [00:00<00:00, 25.63it/s]"
     ]
    },
    {
     "name": "stdout",
     "output_type": "stream",
     "text": [
      "127\n",
      "205\n",
      "173\n",
      "359\n",
      "287\n"
     ]
    },
    {
     "name": "stderr",
     "output_type": "stream",
     "text": [
      " 58%|█████▊    | 7/12 [00:00<00:00, 17.16it/s]"
     ]
    },
    {
     "name": "stdout",
     "output_type": "stream",
     "text": [
      "464\n",
      "512\n",
      "306\n"
     ]
    },
    {
     "name": "stderr",
     "output_type": "stream",
     "text": [
      " 92%|█████████▏| 11/12 [00:00<00:00, 15.17it/s]"
     ]
    },
    {
     "name": "stdout",
     "output_type": "stream",
     "text": [
      "590\n",
      "354\n",
      "377\n"
     ]
    },
    {
     "name": "stderr",
     "output_type": "stream",
     "text": [
      "100%|██████████| 12/12 [00:01<00:00, 11.81it/s]"
     ]
    },
    {
     "name": "stdout",
     "output_type": "stream",
     "text": [
      "504\n",
      "4258\n",
      "locs:  (25548, 2)\n"
     ]
    },
    {
     "name": "stderr",
     "output_type": "stream",
     "text": [
      "\n"
     ]
    }
   ],
   "source": [
    "####################################################\n",
    "############ VISUALIZE DELETED TRACKS ##############\n",
    "####################################################\n",
    "\n",
    "fname = \"/media/cat/256GB/dan/testing_track_cleanup_code/cohort2_night_1000/videos/cohort2_night.1000_deleted.slp\"\n",
    "labels = sleap.load_file(fname)\n",
    "\n",
    "labels.videos  # Use in ipython to print list of videos in the labels object\n",
    "n_videos = len(labels.videos)\n",
    "\n",
    "#\n",
    "locs = []\n",
    "for video_idx in trange(n_videos):\n",
    "    #video_idx =   # Change this select the video of interest from the labels.video list\n",
    "    video = labels.videos[video_idx]\n",
    "    labeled_frames_from_video = labels.get(video)\n",
    "\n",
    "    # Loop through all labeled frames (from a specific video)\n",
    "    n_frames = 0\n",
    "    for ctr1, lf in enumerate(labeled_frames_from_video):\n",
    "\n",
    "        # Loop through all user instances in the current labeled frame\n",
    "        for ctr2, inst in enumerate(lf.user_instances):\n",
    "\n",
    "            #\n",
    "            remove_inst = False\n",
    "            points_array = inst.points_array  # Returns a (num_nodes, 2) np.recarray\n",
    "            \n",
    "            #\n",
    "            #print (points_array[:,0])\n",
    "            #print (points_array[:,1])\n",
    "            idx1 = np.where(points_array[:,0]<200)[0]\n",
    "            idx2 = np.where(points_array[:,1]<200)[0]\n",
    "            \n",
    "            inter = list(set(idx1) & set(idx2))\n",
    "            locs.append(points_array)\n",
    "            \n",
    "            n_all+=1\n",
    "            n_frames+=1\n",
    "    print (n_frames)\n",
    "    \n",
    "print (n_all)\n",
    "locs = np.vstack(locs)\n",
    "print (\"locs: \", locs.shape)\n",
    "\n",
    "#\n",
    "plt.figure()\n",
    "plt.scatter(locs[:,0],\n",
    "            locs[:,1])\n",
    "plt.xlim(0,900)\n",
    "plt.ylim(0,700)\n",
    "plt.show()\n"
   ]
  },
  {
   "cell_type": "code",
   "execution_count": null,
   "metadata": {},
   "outputs": [],
   "source": []
  },
  {
   "cell_type": "code",
   "execution_count": null,
   "metadata": {},
   "outputs": [],
   "source": []
  },
  {
   "cell_type": "code",
   "execution_count": null,
   "metadata": {},
   "outputs": [],
   "source": []
  },
  {
   "cell_type": "code",
   "execution_count": null,
   "metadata": {},
   "outputs": [],
   "source": []
  },
  {
   "cell_type": "code",
   "execution_count": null,
   "metadata": {},
   "outputs": [],
   "source": []
  },
  {
   "cell_type": "code",
   "execution_count": null,
   "metadata": {},
   "outputs": [],
   "source": []
  },
  {
   "cell_type": "code",
   "execution_count": null,
   "metadata": {},
   "outputs": [],
   "source": []
  },
  {
   "cell_type": "code",
   "execution_count": null,
   "metadata": {},
   "outputs": [],
   "source": []
  }
 ],
 "metadata": {
  "kernelspec": {
   "display_name": "Python 3",
   "language": "python",
   "name": "python3"
  },
  "language_info": {
   "codemirror_mode": {
    "name": "ipython",
    "version": 3
   },
   "file_extension": ".py",
   "mimetype": "text/x-python",
   "name": "python",
   "nbconvert_exporter": "python",
   "pygments_lexer": "ipython3",
   "version": "3.7.0"
  }
 },
 "nbformat": 4,
 "nbformat_minor": 4
}
