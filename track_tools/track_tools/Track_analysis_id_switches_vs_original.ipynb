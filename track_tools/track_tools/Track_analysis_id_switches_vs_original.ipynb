{
 "cells": [
  {
   "cell_type": "code",
   "execution_count": 2,
   "metadata": {},
   "outputs": [
    {
     "name": "stdout",
     "output_type": "stream",
     "text": [
      "The autoreload extension is already loaded. To reload it, use:\n",
      "  %reload_ext autoreload\n"
     ]
    },
    {
     "data": {
      "application/javascript": [
       "IPython.notebook.set_autosave_interval(180000)"
      ]
     },
     "metadata": {},
     "output_type": "display_data"
    },
    {
     "name": "stdout",
     "output_type": "stream",
     "text": [
      "Autosaving every 180 seconds\n"
     ]
    }
   ],
   "source": [
    "%load_ext autoreload\n",
    "%autoreload 2\n",
    "\n",
    "import matplotlib\n",
    "import matplotlib.pyplot as plt\n",
    "#matplotlib.use('Agg')\n",
    "%matplotlib tk\n",
    "%autosave 180\n",
    "\n",
    "import sys\n",
    "sys.path.append('/home/cat/code/gerbil/utils/')\n",
    "\n",
    "#\n",
    "import numpy as np\n",
    "\n",
    "#\n",
    "#from visualize import visualize\n",
    "from track import track as Track\n"
   ]
  },
  {
   "cell_type": "code",
   "execution_count": 6,
   "metadata": {},
   "outputs": [
    {
     "ename": "KeyboardInterrupt",
     "evalue": "",
     "output_type": "error",
     "traceback": [
      "\u001b[0;31m---------------------------------------------------------------------------\u001b[0m",
      "\u001b[0;31mKeyboardInterrupt\u001b[0m                         Traceback (most recent call last)",
      "Cell \u001b[0;32mIn[6], line 26\u001b[0m\n\u001b[1;32m     23\u001b[0m track\u001b[38;5;241m.\u001b[39mcentroid_body_id \u001b[38;5;241m=\u001b[39m [\u001b[38;5;241m2\u001b[39m]         \u001b[38;5;66;03m# if centroid flag is False; we use this body part instead\u001b[39;00m\n\u001b[1;32m     25\u001b[0m \u001b[38;5;66;03m##### run track fixer #######\u001b[39;00m\n\u001b[0;32m---> 26\u001b[0m \u001b[43mtrack\u001b[49m\u001b[38;5;241;43m.\u001b[39;49m\u001b[43mfix_all_tracks\u001b[49m\u001b[43m(\u001b[49m\u001b[43m)\u001b[49m\n\u001b[1;32m     28\u001b[0m \u001b[38;5;66;03m##### join spatially close but temporally distant chunks #####\u001b[39;00m\n\u001b[1;32m     29\u001b[0m \u001b[38;5;28;01mif\u001b[39;00m \u001b[38;5;28;01mTrue\u001b[39;00m:\n\u001b[1;32m     30\u001b[0m     \u001b[38;5;66;03m#\u001b[39;00m\n",
      "File \u001b[0;32m~/code/gerbil/utils/track/track.py:412\u001b[0m, in \u001b[0;36mTrack.fix_all_tracks\u001b[0;34m(self)\u001b[0m\n\u001b[1;32m    406\u001b[0m \u001b[38;5;28mself\u001b[39m\u001b[38;5;241m.\u001b[39mreallocate_track_segments()\n\u001b[1;32m    408\u001b[0m \u001b[38;5;66;03m#############################################\u001b[39;00m\n\u001b[1;32m    409\u001b[0m \u001b[38;5;66;03m########## RERUN TRACK CLEANUP ##############\u001b[39;00m\n\u001b[1;32m    410\u001b[0m \u001b[38;5;66;03m#############################################\u001b[39;00m\n\u001b[1;32m    411\u001b[0m \u001b[38;5;66;03m#\u001b[39;00m\n\u001b[0;32m--> 412\u001b[0m \u001b[38;5;28;43mself\u001b[39;49m\u001b[38;5;241;43m.\u001b[39;49m\u001b[43mclean_tracks_spine\u001b[49m\u001b[43m(\u001b[49m\u001b[43mmax_jump_allowed\u001b[49m\u001b[43m,\u001b[49m\n\u001b[1;32m    413\u001b[0m \u001b[43m                        \u001b[49m\u001b[43mmax_dist_to_join\u001b[49m\u001b[43m,\u001b[49m\n\u001b[1;32m    414\u001b[0m \u001b[43m                        \u001b[49m\u001b[43mmin_chunk_len\u001b[49m\u001b[43m)\u001b[49m\n",
      "File \u001b[0;32m~/code/gerbil/utils/track/track.py:218\u001b[0m, in \u001b[0;36mTrack.clean_tracks_spine\u001b[0;34m(self, max_jump_allowed, max_dist_to_join, min_chunk_len)\u001b[0m\n\u001b[1;32m    213\u001b[0m \u001b[38;5;66;03m########################################\u001b[39;00m\n\u001b[1;32m    214\u001b[0m \u001b[38;5;66;03m###########  Delete big jumps ##########\u001b[39;00m\n\u001b[1;32m    215\u001b[0m \u001b[38;5;66;03m########################################\u001b[39;00m\n\u001b[1;32m    216\u001b[0m \u001b[38;5;66;03m#for k in trange(1,track_xy1.shape[0]-1,1, desc='setting big jumps to nans'):\u001b[39;00m\n\u001b[1;32m    217\u001b[0m \u001b[38;5;28;01mfor\u001b[39;00m k \u001b[38;5;129;01min\u001b[39;00m \u001b[38;5;28mrange\u001b[39m(\u001b[38;5;241m1\u001b[39m,track_xy1\u001b[38;5;241m.\u001b[39mshape[\u001b[38;5;241m0\u001b[39m]\u001b[38;5;241m-\u001b[39m\u001b[38;5;241m1\u001b[39m,\u001b[38;5;241m1\u001b[39m):\n\u001b[0;32m--> 218\u001b[0m     \u001b[38;5;28;01mif\u001b[39;00m \u001b[43mnp\u001b[49m\u001b[38;5;241;43m.\u001b[39;49m\u001b[43mlinalg\u001b[49m\u001b[38;5;241;43m.\u001b[39;49m\u001b[43mnorm\u001b[49m\u001b[43m(\u001b[49m\u001b[43mtrack_xy1\u001b[49m\u001b[43m[\u001b[49m\u001b[43mk\u001b[49m\u001b[43m]\u001b[49m\u001b[38;5;241;43m-\u001b[39;49m\u001b[43mtrack_xy1\u001b[49m\u001b[43m[\u001b[49m\u001b[43mk\u001b[49m\u001b[38;5;241;43m-\u001b[39;49m\u001b[38;5;241;43m1\u001b[39;49m\u001b[43m]\u001b[49m\u001b[43m)\u001b[49m\u001b[38;5;241m>\u001b[39mmax_jump_allowed:\n\u001b[1;32m    219\u001b[0m         track_xy1[k]\u001b[38;5;241m=\u001b[39mnp\u001b[38;5;241m.\u001b[39mnan\n\u001b[1;32m    221\u001b[0m \u001b[38;5;66;03m########################################\u001b[39;00m\n\u001b[1;32m    222\u001b[0m \u001b[38;5;66;03m##### Join segments that are close #####\u001b[39;00m\n\u001b[1;32m    223\u001b[0m \u001b[38;5;66;03m########################################\u001b[39;00m\n\u001b[1;32m    224\u001b[0m \u001b[38;5;66;03m#\u001b[39;00m\n",
      "File \u001b[0;32m<__array_function__ internals>:5\u001b[0m, in \u001b[0;36mnorm\u001b[0;34m(*args, **kwargs)\u001b[0m\n",
      "File \u001b[0;32m/usr/lib/python3/dist-packages/numpy/linalg/linalg.py:2531\u001b[0m, in \u001b[0;36mnorm\u001b[0;34m(x, ord, axis, keepdims)\u001b[0m\n\u001b[1;32m   2529\u001b[0m \u001b[38;5;28;01melse\u001b[39;00m:\n\u001b[1;32m   2530\u001b[0m     sqnorm \u001b[38;5;241m=\u001b[39m dot(x, x)\n\u001b[0;32m-> 2531\u001b[0m ret \u001b[38;5;241m=\u001b[39m \u001b[43msqrt\u001b[49m\u001b[43m(\u001b[49m\u001b[43msqnorm\u001b[49m\u001b[43m)\u001b[49m\n\u001b[1;32m   2532\u001b[0m \u001b[38;5;28;01mif\u001b[39;00m keepdims:\n\u001b[1;32m   2533\u001b[0m     ret \u001b[38;5;241m=\u001b[39m ret\u001b[38;5;241m.\u001b[39mreshape(ndim\u001b[38;5;241m*\u001b[39m[\u001b[38;5;241m1\u001b[39m])\n",
      "\u001b[0;31mKeyboardInterrupt\u001b[0m: "
     ]
    }
   ],
   "source": [
    "######################################################## \n",
    "################ GENERATE FIXED TRACK ##################\n",
    "########################################################\n",
    "\n",
    "# STEP 1: Convert both .slp files (before and after Id-swtch) to .npy files and fix them\n",
    "# RUN: this cell 2 x\n",
    "\n",
    "# \n",
    "fnames_slp = [\n",
    "    '/home/cat/data/dan/id_switch/post_fix_metrics/2020_07_30_19_25_43_717047_compressed_Day.slp',\n",
    "    '/home/cat/data/dan/id_switch/post_fix_metrics/2020_07_30_14_11_50_567584_compressed_Day.slp'\n",
    "]\n",
    "\n",
    "for fname_slp in fnames_slp:\n",
    "    track = Track.Track  (fname_slp)\n",
    "    track.track_type = 'features'\n",
    "\n",
    "    ###### parameters for computing body centroid #######\n",
    "    track.use_dynamic_centroid = True   # True: alg. serches for the first non-nan value in this body order [2,3,1,0,4,5]\n",
    "                                         # - advantage: much more robust to lost features\n",
    "                                         # False: we fix the centroid to a specific body part\n",
    "                                         # - advantage less jitter for some applications\n",
    "    track.centroid_body_id = [2]         # if centroid flag is False; we use this body part instead\n",
    "\n",
    "    ##### run track fixer #######\n",
    "    track.fix_all_tracks()\n",
    "\n",
    "    ##### join spatially close but temporally distant chunks #####\n",
    "    if True:\n",
    "        #\n",
    "        track.memory_interpolate_tracks_spine()\n",
    "\n",
    "    ##### save the fixed spines will overwrite the previous/defatul spine values####\n",
    "    track.save_centroid()\n",
    "\n",
    "    #\n",
    "    print (\"Done...\")"
   ]
  },
  {
   "cell_type": "code",
   "execution_count": 8,
   "metadata": {},
   "outputs": [],
   "source": [
    "####################################################\n",
    "########## MAKE PLOTS OF SPINE CENTRES #############\n",
    "####################################################\n",
    "\n",
    "# OPTIONAL VISUALIZE TRACKS\n",
    "def plot_track(track, animal_id):\n",
    "    \n",
    "    #\n",
    "    plt.plot(track[:,animal_id,0],\n",
    "             track[:,animal_id,1],\n",
    "             #label=str(k),\n",
    "\n",
    "            )\n",
    "\n",
    "    plt.xlim(0,1000)\n",
    "    plt.ylim(0,800)\n",
    "\n",
    "#\n",
    "animal_id = 0\n",
    "    \n",
    "#    \n",
    "track = np.load(fnames_slp[0].replace('.slp','_spine.npy'))\n",
    "plot_track(track, animal_id)\n",
    "\n",
    "#    \n",
    "track = np.load(fnames_slp[1].replace('.slp','_spine.npy'))\n",
    "plot_track(track, animal_id)\n"
   ]
  },
  {
   "cell_type": "code",
   "execution_count": 44,
   "metadata": {},
   "outputs": [
    {
     "name": "stdout",
     "output_type": "stream",
     "text": [
      "processing animal:  0\n"
     ]
    },
    {
     "name": "stderr",
     "output_type": "stream",
     "text": [
      "100%|██████████████████████████████████| 28800/28800 [00:00<00:00, 63203.15it/s]\n",
      "100%|██████████████████████████████████| 28800/28800 [00:00<00:00, 65361.67it/s]\n"
     ]
    },
    {
     "name": "stdout",
     "output_type": "stream",
     "text": [
      "processing animal:  1\n"
     ]
    },
    {
     "name": "stderr",
     "output_type": "stream",
     "text": [
      "100%|██████████████████████████████████| 28800/28800 [00:00<00:00, 65913.56it/s]\n",
      "100%|██████████████████████████████████| 28800/28800 [00:00<00:00, 62162.68it/s]\n"
     ]
    },
    {
     "name": "stdout",
     "output_type": "stream",
     "text": [
      "processing animal:  2\n"
     ]
    },
    {
     "name": "stderr",
     "output_type": "stream",
     "text": [
      "100%|██████████████████████████████████| 28800/28800 [00:00<00:00, 54805.41it/s]\n",
      "100%|██████████████████████████████████| 28800/28800 [00:00<00:00, 62804.29it/s]\n"
     ]
    },
    {
     "name": "stdout",
     "output_type": "stream",
     "text": [
      "processing animal:  3\n"
     ]
    },
    {
     "name": "stderr",
     "output_type": "stream",
     "text": [
      "100%|██████████████████████████████████| 28800/28800 [00:00<00:00, 63119.17it/s]\n",
      "100%|██████████████████████████████████| 28800/28800 [00:00<00:00, 61684.25it/s]\n"
     ]
    },
    {
     "name": "stdout",
     "output_type": "stream",
     "text": [
      "processing animal:  4\n"
     ]
    },
    {
     "name": "stderr",
     "output_type": "stream",
     "text": [
      "100%|██████████████████████████████████| 28800/28800 [00:00<00:00, 61637.73it/s]\n",
      "100%|██████████████████████████████████| 28800/28800 [00:00<00:00, 59888.45it/s]\n"
     ]
    },
    {
     "name": "stdout",
     "output_type": "stream",
     "text": [
      "processing animal:  5\n"
     ]
    },
    {
     "name": "stderr",
     "output_type": "stream",
     "text": [
      "100%|██████████████████████████████████| 28800/28800 [00:00<00:00, 57411.33it/s]\n",
      "100%|██████████████████████████████████| 28800/28800 [00:00<00:00, 60250.06it/s]\n"
     ]
    }
   ],
   "source": [
    "###########################################################\n",
    "###########################################################\n",
    "###########################################################\n",
    "def check_switch(tracks, track, animal_id, threshold=10):\n",
    "    \n",
    "    #\n",
    "    tracks = np.delete(tracks,animal_id, axis=0)\n",
    "\n",
    "    #\n",
    "    dists = np.linalg.norm(tracks-track, axis=1)\n",
    "    if np.nanmin(dists)<threshold:\n",
    "        return True\n",
    "    \n",
    "    return False\n",
    "    \n",
    "    \n",
    "#\n",
    "def find_bouts(track,animal_id):\n",
    "    from tqdm import trange\n",
    "    bouts = []\n",
    "    track1 = track[:,animal_id]\n",
    "    \n",
    "    starts = []\n",
    "    ends = []\n",
    "    switches=0\n",
    "    if np.isnan(track1[0,0])==False:\n",
    "        starts.append(0)\n",
    "    #\n",
    "    for k in trange(1,track1.shape[0]-1,1):\n",
    "        if np.isnan(track1[k,0]) and np.isnan(track1[k+1,0])==False:\n",
    "            starts.append(k)\n",
    "        #\n",
    "        elif np.isnan(track1[k,0])==False and np.isnan(track1[k+1,0])==True:\n",
    "            ends.append(k)\n",
    "            \n",
    "            # also check if the next frame is a switch\n",
    "            res = check_switch(track[k+1], track1[k], animal_id)\n",
    "            \n",
    "            if res:\n",
    "                switches+=1\n",
    "            \n",
    "    if len(starts)!=len(ends):\n",
    "        starts=starts[:-1]\n",
    "    \n",
    "    bouts = np.vstack((starts,ends)).T\n",
    "    #print (\"bouts: \", bouts)\n",
    "    \n",
    "    return bouts, switches\n",
    "\n",
    "\n",
    "\n",
    "def get_n_frames(track, animal_id):\n",
    "    \n",
    "    # get # of frames with animal detected\n",
    "    #print (track.shape)\n",
    "    s = track[:,animal_id].sum(1)\n",
    "    \n",
    "    idx = np.where(np.isnan(s)==False)[0]\n",
    "    #print (s.shape, idx.shape)\n",
    "    \n",
    "    n_frames = idx.shape[0]\n",
    "    \n",
    "    return n_frames\n",
    "    \n",
    "def get_ave_features(full_track, animal_id):\n",
    "    # get average # of detected frames\n",
    "    \n",
    "    #\n",
    "    full_track = full_track[:,animal_id].sum(2)\n",
    "    \n",
    "    # find non-nan values \n",
    "    idx2 = np.where(np.isnan(full_track)==False)\n",
    "\n",
    "    # make an array\n",
    "    idx2 = np.array(idx2)[0]\n",
    "    #print (idx2)\n",
    "    \n",
    "    # for each frame count the # of non-nan features\n",
    "    n_unique, counts = np.unique(idx2, return_counts=True)\n",
    " \n",
    "    # make empty list to start\n",
    "    n_feats=np.zeros(full_track.shape[0])\n",
    " \n",
    "    return np.mean(counts)\n",
    "\n",
    "\n",
    "##########################################\n",
    "##########################################\n",
    "##########################################\n",
    "animal_ids = np.arange(6)\n",
    "plt.figure()\n",
    "\n",
    "# \n",
    "for ctr, animal_id in enumerate(animal_ids):\n",
    "    print (\"processing animal: \", animal_id)\n",
    "    #\n",
    "    track = np.load(fnames_slp[0].replace('.slp','_spine.npy'))\n",
    "    bouts1,switches1 = find_bouts(track, animal_id)\n",
    "\n",
    "    track = np.load(fnames_slp[1].replace('.slp','_spine.npy'))\n",
    "    bouts2,switches2 = find_bouts(track, animal_id)\n",
    "    \n",
    "    #\n",
    "    spine_track = np.load(fnames_slp[0].replace('.slp','_spine.npy'))\n",
    "    n_frames1 = get_n_frames(spine_track, animal_id)\n",
    "    spine_track = np.load(fnames_slp[1].replace('.slp','_spine.npy'))\n",
    "    n_frames2 = get_n_frames(spine_track, animal_id)\n",
    "    \n",
    "    #\n",
    "    full_track = np.load(fnames_slp[0].replace('.slp','.npy'))\n",
    "    ave_feats1 = get_ave_features(full_track, animal_id)\n",
    "    full_track = np.load(fnames_slp[1].replace('.slp','.npy'))\n",
    "    ave_feats2 = get_ave_features(full_track, animal_id)\n",
    "    #print (\"averages: \", ave_feats1, ave_feats2)\n",
    "\n",
    "    # \n",
    "    ax=plt.subplot(2,3,1)\n",
    "    \n",
    "    if ctr==0:\n",
    "        plt.bar(ctr, bouts1.shape[0], 0.4, color='black', label='original')\n",
    "        plt.bar(ctr+0.4, bouts2.shape[0], 0.4, color='blue', label='350fixed')\n",
    "    else:\n",
    "        plt.bar(ctr, bouts1.shape[0], 0.4, color='black')\n",
    "        plt.bar(ctr+0.4, bouts2.shape[0], 0.4, color='blue')\n",
    "    plt.legend()\n",
    "    plt.ylabel(\"# of segments\")\n",
    "    \n",
    "    #\n",
    "    ax2=plt.subplot(2,3,2)\n",
    "    max_ = 1800\n",
    "    plt.title(\"350fixed - original\")\n",
    "    #plt.semilogy()\n",
    "    diffs1 = bouts1[:,1]-bouts1[:,0]\n",
    "    y1= np.histogram(diffs1, bins=np.arange(0,max_,10))\n",
    "    \n",
    "    #\n",
    "    diffs2 = bouts2[:,1]-bouts2[:,0]\n",
    "    y2= np.histogram(diffs2, bins=np.arange(0,max_,10))\n",
    "    \n",
    "    plt.plot(y1[1][:-1],y2[0]-y1[0], label=str(ctr))\n",
    "    plt.plot([0,max_],[0,0],'--',c='grey')\n",
    "    plt.xlabel(\"duration of bout\")\n",
    "    plt.ylabel(\"# of bouts\")\n",
    "    plt.legend()\n",
    "    \n",
    "    #\n",
    "    ax3=plt.subplot(2,3,3)\n",
    "    plt.bar(ctr, diffs1.sum()/track.shape[0], 0.4, color='black')\n",
    "    plt.bar(ctr+0.4, diffs2.sum()/track.shape[0], 0.4, color='blue')  \n",
    "    plt.ylabel(\"total duration of tracked bouts \")\n",
    "    plt.xlabel(\"animal id\")\n",
    "    \n",
    "    ax3=plt.subplot(2,3,4)\n",
    "    plt.bar(ctr, switches1, 0.4, color='black')\n",
    "    plt.bar(ctr+0.4, switches2, 0.4, color='blue')  \n",
    "    plt.ylabel(\"Likely ID switches\")\n",
    "    plt.xlabel(\"animal id\")\n",
    "    \n",
    "    ax4=plt.subplot(2,3,5)\n",
    "    plt.bar(ctr, n_frames1, 0.4, color='black')\n",
    "    plt.bar(ctr+0.4, n_frames2, 0.4, color='blue')  \n",
    "    plt.ylabel(\"n_frames detected\")\n",
    "    plt.xlabel(\"animal id\")\n",
    "    \n",
    "    ax4=plt.subplot(2,3,6)\n",
    "    plt.bar(ctr, ave_feats1, 0.4, color='black')\n",
    "    plt.bar(ctr+0.4, ave_feats2, 0.4, color='blue')  \n",
    "    plt.ylabel(\"ave # of features/frame\")\n",
    "    plt.xlabel(\"animal id\")\n",
    "    \n",
    "#\n",
    "plt.show()\n",
    "\n"
   ]
  },
  {
   "cell_type": "code",
   "execution_count": null,
   "metadata": {},
   "outputs": [],
   "source": []
  },
  {
   "cell_type": "code",
   "execution_count": null,
   "metadata": {},
   "outputs": [],
   "source": []
  },
  {
   "cell_type": "code",
   "execution_count": null,
   "metadata": {},
   "outputs": [],
   "source": []
  },
  {
   "cell_type": "code",
   "execution_count": null,
   "metadata": {},
   "outputs": [],
   "source": []
  },
  {
   "cell_type": "code",
   "execution_count": null,
   "metadata": {},
   "outputs": [],
   "source": []
  },
  {
   "cell_type": "code",
   "execution_count": null,
   "metadata": {},
   "outputs": [],
   "source": []
  },
  {
   "cell_type": "code",
   "execution_count": null,
   "metadata": {},
   "outputs": [],
   "source": []
  },
  {
   "cell_type": "code",
   "execution_count": null,
   "metadata": {},
   "outputs": [],
   "source": []
  }
 ],
 "metadata": {
  "kernelspec": {
   "display_name": "Python 3 (ipykernel)",
   "language": "python",
   "name": "python3"
  },
  "language_info": {
   "codemirror_mode": {
    "name": "ipython",
    "version": 3
   },
   "file_extension": ".py",
   "mimetype": "text/x-python",
   "name": "python",
   "nbconvert_exporter": "python",
   "pygments_lexer": "ipython3",
   "version": "3.10.6"
  }
 },
 "nbformat": 4,
 "nbformat_minor": 4
}
