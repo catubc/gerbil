{
 "cells": [
  {
   "cell_type": "code",
   "execution_count": 112,
   "metadata": {},
   "outputs": [
    {
     "name": "stdout",
     "output_type": "stream",
     "text": [
      "The autoreload extension is already loaded. To reload it, use:\n",
      "  %reload_ext autoreload\n"
     ]
    },
    {
     "data": {
      "application/javascript": [
       "IPython.notebook.set_autosave_interval(180000)"
      ]
     },
     "metadata": {},
     "output_type": "display_data"
    },
    {
     "name": "stdout",
     "output_type": "stream",
     "text": [
      "Autosaving every 180 seconds\n"
     ]
    }
   ],
   "source": [
    "%load_ext autoreload\n",
    "%autoreload 2\n",
    "\n",
    "import matplotlib\n",
    "import matplotlib.pyplot as plt\n",
    "#matplotlib.use('Agg')\n",
    "#%matplotlib tk\n",
    "%autosave 180\n",
    "\n",
    "import sys\n",
    "sys.path.append('/home/cat/code/gerbil/utils/')\n",
    "#\n",
    "import numpy as np\n",
    "from tqdm import trange\n",
    "\n",
    "#\n",
    "#from visualize import Visualize\n",
    "\n",
    "\n",
    "#\n",
    "import sleap\n",
    "\n",
    "#\n",
    "import cv2\n",
    "import os\n",
    "\n",
    "#\n",
    "from tqdm import tqdm\n",
    "import parmap\n",
    "\n",
    "#\n",
    "import pandas as pd\n",
    "\n",
    "#\n",
    "from track.track import make_human_label_only_slp, make_human_label_only_video"
   ]
  },
  {
   "cell_type": "code",
   "execution_count": 114,
   "metadata": {},
   "outputs": [
    {
     "name": "stderr",
     "output_type": "stream",
     "text": [
      "334it [00:00, 8056.83it/s]"
     ]
    },
    {
     "name": "stdout",
     "output_type": "stream",
     "text": [
      "\n",
      "recomputing id switches parallel\n"
     ]
    },
    {
     "name": "stderr",
     "output_type": "stream",
     "text": [
      "\n",
      "100%|██████████████████████████████████████| 114/114 [00:00<00:00, 13412.74it/s]\n"
     ]
    },
    {
     "name": "stdout",
     "output_type": "stream",
     "text": [
      "\n",
      "done running .slp preprocessing and id_switch detection ..., # files:  114\n",
      "\n",
      "making shortened id_switch .slp files...\n",
      "ALL SLP VIDS:  [['/mnt/b3a68699-495d-4ebb-9ab1-ac74f11c68c5/id_switch/cohort4/input_dir/2020_09_22_17_30_03_197326_compressed_Day_deleted.slp']\n",
      " ['/mnt/b3a68699-495d-4ebb-9ab1-ac74f11c68c5/id_switch/cohort4/input_dir/2020_09_22_18_36_53_237550_compressed_Day_deleted.slp']\n",
      " ['/mnt/b3a68699-495d-4ebb-9ab1-ac74f11c68c5/id_switch/cohort4/input_dir/2020_09_23_10_13_20_935110_compressed_Day_deleted.slp']\n",
      " ['/mnt/b3a68699-495d-4ebb-9ab1-ac74f11c68c5/id_switch/cohort4/input_dir/2020_09_23_11_20_15_845479_compressed_Day_deleted.slp']\n",
      " ['/mnt/b3a68699-495d-4ebb-9ab1-ac74f11c68c5/id_switch/cohort4/input_dir/2020_09_23_12_27_11_709516_compressed_Day_deleted.slp']\n",
      " ['/mnt/b3a68699-495d-4ebb-9ab1-ac74f11c68c5/id_switch/cohort4/input_dir/2020_09_23_16_55_36_033685_compressed_Day_deleted.slp']\n",
      " ['/mnt/b3a68699-495d-4ebb-9ab1-ac74f11c68c5/id_switch/cohort4/input_dir/2020_09_24_08_36_41_908228_compressed_Day_deleted.slp']\n",
      " ['/mnt/b3a68699-495d-4ebb-9ab1-ac74f11c68c5/id_switch/cohort4/input_dir/2020_09_24_09_44_00_711699_compressed_Day_deleted.slp']\n",
      " ['/mnt/b3a68699-495d-4ebb-9ab1-ac74f11c68c5/id_switch/cohort4/input_dir/2020_09_24_10_51_16_845571_compressed_Day_deleted.slp']\n",
      " ['/mnt/b3a68699-495d-4ebb-9ab1-ac74f11c68c5/id_switch/cohort4/input_dir/2020_09_24_13_05_55_273341_compressed_Day_deleted.slp']]\n",
      "\n",
      "making shortened id_switch video file...\n",
      "    movie already generated... exiting\n",
      " # of slps found:  114\n",
      " # of vids found:  114\n",
      "    hybrid file already exists...exiting\n",
      "cleaning human slp file...\n",
      "... making human label only slp...\n",
      "merged_video:  Video(filename=/mnt/b3a68699-495d-4ebb-9ab1-ac74f11c68c5/id_switch/cohort4/Day_human_labels.avi, shape=(None, None, None, None), backend=MediaVideo)\n",
      "Loading master manual file:  /mnt/b3a68699-495d-4ebb-9ab1-ac74f11c68c5/id_switch/cohort4/human_labels/cohort4_day.1000.slp\n",
      "Number of frames loaded:  1600\n",
      " ... making human only label video...\n",
      "Fname hybrid movie:  /mnt/b3a68699-495d-4ebb-9ab1-ac74f11c68c5/id_switch/cohort4/Day_human_labels.avi\n"
     ]
    },
    {
     "name": "stderr",
     "output_type": "stream",
     "text": [
      "total frames: 1600: 1600it [05:42,  4.67it/s]\n"
     ]
    },
    {
     "name": "stdout",
     "output_type": "stream",
     "text": [
      "# of images saved  1600\n",
      "Video(filename=/mnt/b3a68699-495d-4ebb-9ab1-ac74f11c68c5/id_switch/cohort4/Day_merged.avi, shape=(None, None, None, None), backend=MediaVideo)\n",
      "slp ctrl:  0\n",
      "slp ctrl:  1000\n",
      "slp ctrl:  2000\n",
      "slp ctrl:  3000\n",
      "slp ctrl:  4000\n",
      "slp ctrl:  5000\n",
      "slp ctrl:  6000\n",
      "slp ctrl:  7000\n",
      "Loaded video sizes: width, height:  1160.0 830.0\n",
      "processing:  /mnt/b3a68699-495d-4ebb-9ab1-ac74f11c68c5/id_switch/cohort4/Day_human_labels.avi\n",
      "processing:  /mnt/b3a68699-495d-4ebb-9ab1-ac74f11c68c5/id_switch/cohort4/Day_id_switches_cropped.mp4\n",
      "done...\n",
      "DONE...\n"
     ]
    }
   ],
   "source": [
    "################################################################\n",
    "########### SET FNAMES FOR HUMAN AND ID SWITCH FILES ###########\n",
    "################################################################\n",
    "from track.track import DatabaseLoader\n",
    "\n",
    "#\n",
    "#root_dir = '/mnt/b3a68699-495d-4ebb-9ab1-ac74f11c68c5/id_switch/'\n",
    "root_dir = '/mnt/b3a68699-495d-4ebb-9ab1-ac74f11c68c5/id_switch/cohort4/'\n",
    "fname_database = 'database.xlsx'\n",
    "human_slp_dir = 'human_labels'\n",
    "input_dir = 'input_dir'\n",
    "n_cores = 16\n",
    "network_type = \"Day\"   # \"Day\" or \"Night\"\n",
    "\n",
    "# load database class\n",
    "d = DatabaseLoader(root_dir + fname_database,\n",
    "                   network_type)\n",
    "d.nn_type = network_type\n",
    "d.root_dir = root_dir\n",
    "d.human_slp_dir = human_slp_dir\n",
    "d.input_dir = input_dir\n",
    "d.n_cores = n_cores\n",
    "d.network_type = network_type\n",
    "d.track_type = 'feature'\n",
    "d.recompute_spine_centres = False\n",
    "d.skip_id_switch_make = False\n",
    "\n",
    "# make id switch files over all files in /input_dir/ and database.xlsx \n",
    "d.make_id_switch_files()\n",
    "\n",
    "# process the human labeled .slp file to short version\n",
    "d.fname_slp_human_labels = 'cohort4_day.1000.slp'\n",
    "d.clean_human_slp()\n",
    "\n",
    "# merge the id switch and human files\n",
    "\n",
    "d.subsample=2\n",
    "d.merge_human_and_id_switches()\n",
    "\n",
    "#\n",
    "print (\"DONE...\")\n"
   ]
  },
  {
   "cell_type": "code",
   "execution_count": 14,
   "metadata": {},
   "outputs": [
    {
     "name": "stdout",
     "output_type": "stream",
     "text": [
      "(86407, 6, 6, 2)\n",
      "4.457507133483887\n",
      "1172.404296875\n",
      "2.651884078979492\n",
      "825.70654296875\n"
     ]
    }
   ],
   "source": [
    "d = np.load('/mnt/b3a68699-495d-4ebb-9ab1-ac74f11c68c5/id_switch/cohort4/input_dir/2020_09_22_16_23_20_653413_compressed_Day.npy')\n",
    "\n",
    "print (d.shape)\n",
    "\n",
    "print (np.nanmin(d[:,:,:,0]))\n",
    "print (np.nanmax(d[:,:,:,0]))\n",
    "       \n",
    "print (np.nanmin(d[:,:,:,1]))\n",
    "print (np.nanmax(d[:,:,:,1]))\n",
    "    \n",
    "    "
   ]
  },
  {
   "cell_type": "code",
   "execution_count": 96,
   "metadata": {},
   "outputs": [
    {
     "name": "stdout",
     "output_type": "stream",
     "text": [
      "['/mnt/b3a68699-495d-4ebb-9ab1-ac74f11c68c5/id_switch/cohort4/input_dir/2020_09_27_17_48_48_476256_compressed_Day_deleted.slp'\n",
      " '0']\n",
      "['/mnt/b3a68699-495d-4ebb-9ab1-ac74f11c68c5/id_switch/cohort4/input_dir/2020_09_27_17_48_48_476256_compressed_Day_deleted.slp'\n",
      " '42']\n"
     ]
    }
   ],
   "source": [
    "\n",
    "slps = np.load('/home/cat/meta_data_slp.npy',allow_pickle=True)\n",
    "vids = np.load('/home/cat/meta_data.npy', allow_pickle=True)\n",
    "\n",
    "for k in range(len(slps)):\n",
    "    #print ('')\n",
    "    temp = slps[k]\n",
    "    temp2 = vids[k]\n",
    "    if temp[1]!=temp2[1]:\n",
    "        print (temp)\n",
    "        print (temp2)\n",
    "\n"
   ]
  },
  {
   "cell_type": "code",
   "execution_count": 111,
   "metadata": {},
   "outputs": [
    {
     "name": "stdout",
     "output_type": "stream",
     "text": [
      "(1600,)\n",
      "(1600,)\n"
     ]
    }
   ],
   "source": [
    "d = np.load('/mnt/b3a68699-495d-4ebb-9ab1-ac74f11c68c5/id_switch/cohort4/Day_human_fnames.npy')\n",
    "print (d.shape)\n",
    "\n",
    "didx = np.load('/mnt/b3a68699-495d-4ebb-9ab1-ac74f11c68c5/id_switch/cohort4/Day_human_frames_idx.npy')\n",
    "print (didx.shape)\n"
   ]
  },
  {
   "cell_type": "code",
   "execution_count": null,
   "metadata": {},
   "outputs": [],
   "source": []
  },
  {
   "cell_type": "code",
   "execution_count": null,
   "metadata": {},
   "outputs": [],
   "source": []
  },
  {
   "cell_type": "code",
   "execution_count": null,
   "metadata": {},
   "outputs": [],
   "source": []
  },
  {
   "cell_type": "code",
   "execution_count": null,
   "metadata": {},
   "outputs": [],
   "source": []
  },
  {
   "cell_type": "code",
   "execution_count": null,
   "metadata": {},
   "outputs": [],
   "source": []
  },
  {
   "cell_type": "code",
   "execution_count": null,
   "metadata": {},
   "outputs": [],
   "source": []
  },
  {
   "cell_type": "code",
   "execution_count": null,
   "metadata": {},
   "outputs": [],
   "source": []
  },
  {
   "cell_type": "code",
   "execution_count": null,
   "metadata": {},
   "outputs": [],
   "source": []
  }
 ],
 "metadata": {
  "kernelspec": {
   "display_name": "Python 3 (ipykernel)",
   "language": "python",
   "name": "python3"
  },
  "language_info": {
   "codemirror_mode": {
    "name": "ipython",
    "version": 3
   },
   "file_extension": ".py",
   "mimetype": "text/x-python",
   "name": "python",
   "nbconvert_exporter": "python",
   "pygments_lexer": "ipython3",
   "version": "3.7.12"
  }
 },
 "nbformat": 4,
 "nbformat_minor": 4
}
