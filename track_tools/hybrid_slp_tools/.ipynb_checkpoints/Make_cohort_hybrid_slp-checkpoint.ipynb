{
 "cells": [
  {
   "cell_type": "code",
   "execution_count": 1,
   "metadata": {},
   "outputs": [
    {
     "data": {
      "application/javascript": [
       "IPython.notebook.set_autosave_interval(180000)"
      ]
     },
     "metadata": {},
     "output_type": "display_data"
    },
    {
     "name": "stdout",
     "output_type": "stream",
     "text": [
      "Autosaving every 180 seconds\n"
     ]
    },
    {
     "name": "stderr",
     "output_type": "stream",
     "text": [
      "/home/cat/miniconda3/envs/sleap_new/lib/python3.7/site-packages/tqdm/auto.py:21: TqdmWarning: IProgress not found. Please update jupyter and ipywidgets. See https://ipywidgets.readthedocs.io/en/stable/user_install.html\n",
      "  from .autonotebook import tqdm as notebook_tqdm\n"
     ]
    }
   ],
   "source": [
    "%load_ext autoreload\n",
    "%autoreload 2\n",
    "\n",
    "import matplotlib\n",
    "import matplotlib.pyplot as plt\n",
    "#matplotlib.use('Agg')\n",
    "#%matplotlib tk\n",
    "%autosave 180\n",
    "\n",
    "import sys\n",
    "sys.path.append('/home/cat/code/gerbil/utils/')\n",
    "#\n",
    "import numpy as np\n",
    "from tqdm import trange\n",
    "\n",
    "#\n",
    "#from visualize import Visualize\n",
    "\n",
    "\n",
    "#\n",
    "import sleap\n",
    "\n",
    "#\n",
    "import cv2\n",
    "import os\n",
    "\n",
    "#\n",
    "from tqdm import tqdm\n",
    "import parmap\n",
    "\n",
    "#\n",
    "import pandas as pd\n",
    "\n",
    "#\n",
    "from track.track import make_human_label_only_slp, make_human_label_only_video"
   ]
  },
  {
   "cell_type": "code",
   "execution_count": null,
   "metadata": {},
   "outputs": [
    {
     "name": "stdout",
     "output_type": "stream",
     "text": [
      "Making dleted .slp files\n"
     ]
    },
    {
     "name": "stderr",
     "output_type": "stream",
     "text": [
      "334it [00:00, 9232.71it/s]"
     ]
    },
    {
     "name": "stdout",
     "output_type": "stream",
     "text": [
      " ...   recomputing id switches parallel\n"
     ]
    },
    {
     "name": "stderr",
     "output_type": "stream",
     "text": [
      "\n",
      "100%|█████████████████████████████████████████████████████████████████████████| 140/140 [00:00<00:00, 53513.40it/s]"
     ]
    },
    {
     "name": "stdout",
     "output_type": "stream",
     "text": [
      "    ... done running .slp preprocessing and id_switch detection ..., # files:  140\n",
      "     ...making shortened id_switch .slp files...\n"
     ]
    },
    {
     "name": "stderr",
     "output_type": "stream",
     "text": [
      "\n",
      "100%|████████████████████████████████████████████████████████████████████████████| 140/140 [00:18<00:00,  7.44it/s]\n",
      "334it [00:00, 7215.43it/s]\n"
     ]
    },
    {
     "name": "stdout",
     "output_type": "stream",
     "text": [
      "ALL SLP VIDS:  [['/mnt/b3a68699-495d-4ebb-9ab1-ac74f11c68c5/id_switch/cohort4/input_dir/2020_09_22_20_50_33_472153_compressed_Night_deleted.slp']\n",
      " ['/mnt/b3a68699-495d-4ebb-9ab1-ac74f11c68c5/id_switch/cohort4/input_dir/2020_09_22_21_57_28_031303_compressed_Night_deleted.slp']\n",
      " ['/mnt/b3a68699-495d-4ebb-9ab1-ac74f11c68c5/id_switch/cohort4/input_dir/2020_09_22_23_04_17_922045_compressed_Night_deleted.slp']\n",
      " ['/mnt/b3a68699-495d-4ebb-9ab1-ac74f11c68c5/id_switch/cohort4/input_dir/2020_09_23_00_11_09_854170_compressed_Night_deleted.slp']\n",
      " ['/mnt/b3a68699-495d-4ebb-9ab1-ac74f11c68c5/id_switch/cohort4/input_dir/2020_09_23_01_18_01_760467_compressed_Night_deleted.slp']\n",
      " ['/mnt/b3a68699-495d-4ebb-9ab1-ac74f11c68c5/id_switch/cohort4/input_dir/2020_09_23_02_24_56_195811_compressed_Night_deleted.slp']\n",
      " ['/mnt/b3a68699-495d-4ebb-9ab1-ac74f11c68c5/id_switch/cohort4/input_dir/2020_09_23_03_31_49_946989_compressed_Night_deleted.slp']\n",
      " ['/mnt/b3a68699-495d-4ebb-9ab1-ac74f11c68c5/id_switch/cohort4/input_dir/2020_09_23_04_38_44_286057_compressed_Night_deleted.slp']\n",
      " ['/mnt/b3a68699-495d-4ebb-9ab1-ac74f11c68c5/id_switch/cohort4/input_dir/2020_09_23_05_45_38_085550_compressed_Night_deleted.slp']\n",
      " ['/mnt/b3a68699-495d-4ebb-9ab1-ac74f11c68c5/id_switch/cohort4/input_dir/2020_09_23_06_52_33_224214_compressed_Night_deleted.slp']]\n",
      "\n",
      "making shortened id_switch video file...\n",
      "    movie already generated... exiting\n",
      " # of slps found:  140\n",
      " # of vids found:  140\n",
      "slp file:  /mnt/b3a68699-495d-4ebb-9ab1-ac74f11c68c5/id_switch/cohort4/input_dir/2020_09_22_20_50_33_472153_compressed_Night_deleted.slp\n",
      "slp file:  /mnt/b3a68699-495d-4ebb-9ab1-ac74f11c68c5/id_switch/cohort4/input_dir/2020_09_22_21_57_28_031303_compressed_Night_deleted.slp\n",
      "slp file:  /mnt/b3a68699-495d-4ebb-9ab1-ac74f11c68c5/id_switch/cohort4/input_dir/2020_09_22_23_04_17_922045_compressed_Night_deleted.slp\n",
      "slp file:  /mnt/b3a68699-495d-4ebb-9ab1-ac74f11c68c5/id_switch/cohort4/input_dir/2020_09_23_00_11_09_854170_compressed_Night_deleted.slp\n",
      "slp file:  /mnt/b3a68699-495d-4ebb-9ab1-ac74f11c68c5/id_switch/cohort4/input_dir/2020_09_23_01_18_01_760467_compressed_Night_deleted.slp\n",
      "slp file:  /mnt/b3a68699-495d-4ebb-9ab1-ac74f11c68c5/id_switch/cohort4/input_dir/2020_09_23_02_24_56_195811_compressed_Night_deleted.slp\n",
      "slp file:  /mnt/b3a68699-495d-4ebb-9ab1-ac74f11c68c5/id_switch/cohort4/input_dir/2020_09_23_03_31_49_946989_compressed_Night_deleted.slp\n",
      "slp file:  /mnt/b3a68699-495d-4ebb-9ab1-ac74f11c68c5/id_switch/cohort4/input_dir/2020_09_23_04_38_44_286057_compressed_Night_deleted.slp\n",
      "slp file:  /mnt/b3a68699-495d-4ebb-9ab1-ac74f11c68c5/id_switch/cohort4/input_dir/2020_09_23_05_45_38_085550_compressed_Night_deleted.slp\n",
      "slp file:  /mnt/b3a68699-495d-4ebb-9ab1-ac74f11c68c5/id_switch/cohort4/input_dir/2020_09_23_06_52_33_224214_compressed_Night_deleted.slp\n",
      "slp file:  /mnt/b3a68699-495d-4ebb-9ab1-ac74f11c68c5/id_switch/cohort4/input_dir/2020_09_23_20_17_06_044237_compressed_Night_deleted.slp\n",
      "slp file:  /mnt/b3a68699-495d-4ebb-9ab1-ac74f11c68c5/id_switch/cohort4/input_dir/2020_09_23_21_24_14_216975_compressed_Night_deleted.slp\n",
      "slp file:  /mnt/b3a68699-495d-4ebb-9ab1-ac74f11c68c5/id_switch/cohort4/input_dir/2020_09_23_22_31_26_256034_compressed_Night_deleted.slp\n",
      "slp file:  /mnt/b3a68699-495d-4ebb-9ab1-ac74f11c68c5/id_switch/cohort4/input_dir/2020_09_23_23_38_36_658845_compressed_Night_deleted.slp\n",
      "slp file:  /mnt/b3a68699-495d-4ebb-9ab1-ac74f11c68c5/id_switch/cohort4/input_dir/2020_09_24_00_45_47_467760_compressed_Night_deleted.slp\n",
      "slp file:  /mnt/b3a68699-495d-4ebb-9ab1-ac74f11c68c5/id_switch/cohort4/input_dir/2020_09_24_01_53_00_374955_compressed_Night_deleted.slp\n",
      "slp file:  /mnt/b3a68699-495d-4ebb-9ab1-ac74f11c68c5/id_switch/cohort4/input_dir/2020_09_24_03_00_14_589275_compressed_Night_deleted.slp\n",
      "slp file:  /mnt/b3a68699-495d-4ebb-9ab1-ac74f11c68c5/id_switch/cohort4/input_dir/2020_09_24_04_07_32_269021_compressed_Night_deleted.slp\n",
      "slp file:  /mnt/b3a68699-495d-4ebb-9ab1-ac74f11c68c5/id_switch/cohort4/input_dir/2020_09_24_05_14_50_214738_compressed_Night_deleted.slp\n",
      "slp file:  /mnt/b3a68699-495d-4ebb-9ab1-ac74f11c68c5/id_switch/cohort4/input_dir/2020_09_24_06_22_05_978465_compressed_Night_deleted.slp\n",
      "slp file:  /mnt/b3a68699-495d-4ebb-9ab1-ac74f11c68c5/id_switch/cohort4/input_dir/2020_09_25_20_33_37_466883_compressed_Night_deleted.slp\n",
      "slp file:  /mnt/b3a68699-495d-4ebb-9ab1-ac74f11c68c5/id_switch/cohort4/input_dir/2020_09_25_21_39_48_159388_compressed_Night_deleted.slp\n",
      "slp file:  /mnt/b3a68699-495d-4ebb-9ab1-ac74f11c68c5/id_switch/cohort4/input_dir/2020_09_25_22_45_58_927859_compressed_Night_deleted.slp\n",
      "slp file:  /mnt/b3a68699-495d-4ebb-9ab1-ac74f11c68c5/id_switch/cohort4/input_dir/2020_09_25_23_52_09_485601_compressed_Night_deleted.slp\n",
      "slp file:  /mnt/b3a68699-495d-4ebb-9ab1-ac74f11c68c5/id_switch/cohort4/input_dir/2020_09_26_00_58_21_402295_compressed_Night_deleted.slp\n",
      "slp file:  /mnt/b3a68699-495d-4ebb-9ab1-ac74f11c68c5/id_switch/cohort4/input_dir/2020_09_26_02_04_37_446313_compressed_Night_deleted.slp\n",
      "slp file:  /mnt/b3a68699-495d-4ebb-9ab1-ac74f11c68c5/id_switch/cohort4/input_dir/2020_09_26_03_10_48_927858_compressed_Night_deleted.slp\n",
      "slp file:  /mnt/b3a68699-495d-4ebb-9ab1-ac74f11c68c5/id_switch/cohort4/input_dir/2020_09_26_04_17_08_153353_compressed_Night_deleted.slp\n",
      "slp file:  /mnt/b3a68699-495d-4ebb-9ab1-ac74f11c68c5/id_switch/cohort4/input_dir/2020_09_26_05_23_20_869315_compressed_Night_deleted.slp\n",
      "slp file:  /mnt/b3a68699-495d-4ebb-9ab1-ac74f11c68c5/id_switch/cohort4/input_dir/2020_09_26_06_29_33_470454_compressed_Night_deleted.slp\n",
      "slp file:  /mnt/b3a68699-495d-4ebb-9ab1-ac74f11c68c5/id_switch/cohort4/input_dir/2020_09_26_20_50_10_896094_compressed_Night_deleted.slp\n",
      "slp file:  /mnt/b3a68699-495d-4ebb-9ab1-ac74f11c68c5/id_switch/cohort4/input_dir/2020_09_26_21_56_23_560464_compressed_Night_deleted.slp\n",
      "slp file:  /mnt/b3a68699-495d-4ebb-9ab1-ac74f11c68c5/id_switch/cohort4/input_dir/2020_09_26_23_02_37_338609_compressed_Night_deleted.slp\n",
      "slp file:  /mnt/b3a68699-495d-4ebb-9ab1-ac74f11c68c5/id_switch/cohort4/input_dir/2020_09_27_00_08_46_791373_compressed_Night_deleted.slp\n",
      "slp file:  /mnt/b3a68699-495d-4ebb-9ab1-ac74f11c68c5/id_switch/cohort4/input_dir/2020_09_27_01_15_02_360483_compressed_Night_deleted.slp\n",
      "slp file:  /mnt/b3a68699-495d-4ebb-9ab1-ac74f11c68c5/id_switch/cohort4/input_dir/2020_09_27_02_21_16_475103_compressed_Night_deleted.slp\n",
      "slp file:  /mnt/b3a68699-495d-4ebb-9ab1-ac74f11c68c5/id_switch/cohort4/input_dir/2020_09_27_03_27_29_678938_compressed_Night_deleted.slp\n",
      "slp file:  /mnt/b3a68699-495d-4ebb-9ab1-ac74f11c68c5/id_switch/cohort4/input_dir/2020_09_27_04_33_46_698190_compressed_Night_deleted.slp\n",
      "slp file:  /mnt/b3a68699-495d-4ebb-9ab1-ac74f11c68c5/id_switch/cohort4/input_dir/2020_09_27_05_40_07_246346_compressed_Night_deleted.slp\n",
      "slp file:  /mnt/b3a68699-495d-4ebb-9ab1-ac74f11c68c5/id_switch/cohort4/input_dir/2020_09_27_06_46_21_115598_compressed_Night_deleted.slp\n",
      "slp file:  /mnt/b3a68699-495d-4ebb-9ab1-ac74f11c68c5/id_switch/cohort4/input_dir/2020_09_27_21_07_37_547004_compressed_Night_deleted.slp\n",
      "slp file:  /mnt/b3a68699-495d-4ebb-9ab1-ac74f11c68c5/id_switch/cohort4/input_dir/2020_09_27_22_13_53_545305_compressed_Night_deleted.slp\n",
      "slp file:  /mnt/b3a68699-495d-4ebb-9ab1-ac74f11c68c5/id_switch/cohort4/input_dir/2020_09_27_23_20_09_233112_compressed_Night_deleted.slp\n",
      "slp file:  /mnt/b3a68699-495d-4ebb-9ab1-ac74f11c68c5/id_switch/cohort4/input_dir/2020_09_28_00_26_28_567791_compressed_Night_deleted.slp\n",
      "slp file:  /mnt/b3a68699-495d-4ebb-9ab1-ac74f11c68c5/id_switch/cohort4/input_dir/2020_09_28_01_32_45_973047_compressed_Night_deleted.slp\n",
      "slp file:  /mnt/b3a68699-495d-4ebb-9ab1-ac74f11c68c5/id_switch/cohort4/input_dir/2020_09_28_02_39_03_207110_compressed_Night_deleted.slp\n",
      "slp file:  /mnt/b3a68699-495d-4ebb-9ab1-ac74f11c68c5/id_switch/cohort4/input_dir/2020_09_28_03_45_22_955410_compressed_Night_deleted.slp\n",
      "slp file:  /mnt/b3a68699-495d-4ebb-9ab1-ac74f11c68c5/id_switch/cohort4/input_dir/2020_09_28_04_51_41_529483_compressed_Night_deleted.slp\n",
      "slp file:  /mnt/b3a68699-495d-4ebb-9ab1-ac74f11c68c5/id_switch/cohort4/input_dir/2020_09_28_05_58_00_697961_compressed_Night_deleted.slp\n",
      "slp file:  /mnt/b3a68699-495d-4ebb-9ab1-ac74f11c68c5/id_switch/cohort4/input_dir/2020_09_28_07_04_17_920916_compressed_Night_deleted.slp\n",
      "slp file:  /mnt/b3a68699-495d-4ebb-9ab1-ac74f11c68c5/id_switch/cohort4/input_dir/2020_09_28_20_19_52_650638_compressed_Night_deleted.slp\n",
      "slp file:  /mnt/b3a68699-495d-4ebb-9ab1-ac74f11c68c5/id_switch/cohort4/input_dir/2020_09_28_21_26_12_162208_compressed_Night_deleted.slp\n",
      "slp file:  /mnt/b3a68699-495d-4ebb-9ab1-ac74f11c68c5/id_switch/cohort4/input_dir/2020_09_28_22_32_30_052918_compressed_Night_deleted.slp\n",
      "slp file:  /mnt/b3a68699-495d-4ebb-9ab1-ac74f11c68c5/id_switch/cohort4/input_dir/2020_09_28_23_38_49_329618_compressed_Night_deleted.slp\n",
      "slp file:  /mnt/b3a68699-495d-4ebb-9ab1-ac74f11c68c5/id_switch/cohort4/input_dir/2020_09_29_00_45_07_257170_compressed_Night_deleted.slp\n",
      "slp file:  /mnt/b3a68699-495d-4ebb-9ab1-ac74f11c68c5/id_switch/cohort4/input_dir/2020_09_29_01_51_31_832439_compressed_Night_deleted.slp\n",
      "slp file:  /mnt/b3a68699-495d-4ebb-9ab1-ac74f11c68c5/id_switch/cohort4/input_dir/2020_09_29_02_57_52_976340_compressed_Night_deleted.slp\n",
      "slp file:  /mnt/b3a68699-495d-4ebb-9ab1-ac74f11c68c5/id_switch/cohort4/input_dir/2020_09_29_04_04_14_010169_compressed_Night_deleted.slp\n",
      "slp file:  /mnt/b3a68699-495d-4ebb-9ab1-ac74f11c68c5/id_switch/cohort4/input_dir/2020_09_29_05_10_33_841137_compressed_Night_deleted.slp\n",
      "slp file:  /mnt/b3a68699-495d-4ebb-9ab1-ac74f11c68c5/id_switch/cohort4/input_dir/2020_09_29_06_16_54_017889_compressed_Night_deleted.slp\n",
      "slp file:  /mnt/b3a68699-495d-4ebb-9ab1-ac74f11c68c5/id_switch/cohort4/input_dir/2020_09_29_20_36_34_375564_compressed_Night_deleted.slp\n",
      "slp file:  /mnt/b3a68699-495d-4ebb-9ab1-ac74f11c68c5/id_switch/cohort4/input_dir/2020_09_29_21_42_39_407070_compressed_Night_deleted.slp\n",
      "slp file:  /mnt/b3a68699-495d-4ebb-9ab1-ac74f11c68c5/id_switch/cohort4/input_dir/2020_09_29_22_48_44_025626_compressed_Night_deleted.slp\n",
      "slp file:  /mnt/b3a68699-495d-4ebb-9ab1-ac74f11c68c5/id_switch/cohort4/input_dir/2020_09_29_23_54_44_646844_compressed_Night_deleted.slp\n",
      "slp file:  /mnt/b3a68699-495d-4ebb-9ab1-ac74f11c68c5/id_switch/cohort4/input_dir/2020_09_30_01_00_47_168295_compressed_Night_deleted.slp\n",
      "slp file:  /mnt/b3a68699-495d-4ebb-9ab1-ac74f11c68c5/id_switch/cohort4/input_dir/2020_09_30_02_06_47_753448_compressed_Night_deleted.slp\n",
      "slp file:  /mnt/b3a68699-495d-4ebb-9ab1-ac74f11c68c5/id_switch/cohort4/input_dir/2020_09_30_03_12_50_247087_compressed_Night_deleted.slp\n",
      "slp file:  /mnt/b3a68699-495d-4ebb-9ab1-ac74f11c68c5/id_switch/cohort4/input_dir/2020_09_30_04_18_51_408925_compressed_Night_deleted.slp\n",
      "slp file:  /mnt/b3a68699-495d-4ebb-9ab1-ac74f11c68c5/id_switch/cohort4/input_dir/2020_09_30_05_24_51_546952_compressed_Night_deleted.slp\n",
      "slp file:  /mnt/b3a68699-495d-4ebb-9ab1-ac74f11c68c5/id_switch/cohort4/input_dir/2020_09_30_06_30_51_786475_compressed_Night_deleted.slp\n",
      "slp file:  /mnt/b3a68699-495d-4ebb-9ab1-ac74f11c68c5/id_switch/cohort4/input_dir/2020_09_30_20_49_08_333051_compressed_Night_deleted.slp\n",
      "slp file:  /mnt/b3a68699-495d-4ebb-9ab1-ac74f11c68c5/id_switch/cohort4/input_dir/2020_09_30_21_55_13_686467_compressed_Night_deleted.slp\n",
      "slp file:  /mnt/b3a68699-495d-4ebb-9ab1-ac74f11c68c5/id_switch/cohort4/input_dir/2020_09_30_23_01_18_531536_compressed_Night_deleted.slp\n",
      "slp file:  /mnt/b3a68699-495d-4ebb-9ab1-ac74f11c68c5/id_switch/cohort4/input_dir/2020_10_01_00_07_22_778008_compressed_Night_deleted.slp\n",
      "slp file:  /mnt/b3a68699-495d-4ebb-9ab1-ac74f11c68c5/id_switch/cohort4/input_dir/2020_10_01_01_13_25_690487_compressed_Night_deleted.slp\n",
      "slp file:  /mnt/b3a68699-495d-4ebb-9ab1-ac74f11c68c5/id_switch/cohort4/input_dir/2020_10_01_02_19_28_125254_compressed_Night_deleted.slp\n",
      "slp file:  /mnt/b3a68699-495d-4ebb-9ab1-ac74f11c68c5/id_switch/cohort4/input_dir/2020_10_01_03_25_31_281879_compressed_Night_deleted.slp\n",
      "slp file:  /mnt/b3a68699-495d-4ebb-9ab1-ac74f11c68c5/id_switch/cohort4/input_dir/2020_10_01_04_31_32_990741_compressed_Night_deleted.slp\n",
      "slp file:  /mnt/b3a68699-495d-4ebb-9ab1-ac74f11c68c5/id_switch/cohort4/input_dir/2020_10_01_05_37_35_578065_compressed_Night_deleted.slp\n",
      "slp file:  /mnt/b3a68699-495d-4ebb-9ab1-ac74f11c68c5/id_switch/cohort4/input_dir/2020_10_01_06_43_39_339547_compressed_Night_deleted.slp\n",
      "slp file:  /mnt/b3a68699-495d-4ebb-9ab1-ac74f11c68c5/id_switch/cohort4/input_dir/2020_10_01_21_02_24_818687_compressed_Night_deleted.slp\n",
      "slp file:  /mnt/b3a68699-495d-4ebb-9ab1-ac74f11c68c5/id_switch/cohort4/input_dir/2020_10_01_22_08_26_897995_compressed_Night_deleted.slp\n",
      "slp file:  /mnt/b3a68699-495d-4ebb-9ab1-ac74f11c68c5/id_switch/cohort4/input_dir/2020_10_01_23_14_29_288743_compressed_Night_deleted.slp\n",
      "slp file:  /mnt/b3a68699-495d-4ebb-9ab1-ac74f11c68c5/id_switch/cohort4/input_dir/2020_10_02_00_20_30_440021_compressed_Night_deleted.slp\n",
      "slp file:  /mnt/b3a68699-495d-4ebb-9ab1-ac74f11c68c5/id_switch/cohort4/input_dir/2020_10_02_01_26_34_174348_compressed_Night_deleted.slp\n",
      "slp file:  /mnt/b3a68699-495d-4ebb-9ab1-ac74f11c68c5/id_switch/cohort4/input_dir/2020_10_02_02_32_36_811104_compressed_Night_deleted.slp\n",
      "slp file:  /mnt/b3a68699-495d-4ebb-9ab1-ac74f11c68c5/id_switch/cohort4/input_dir/2020_10_02_03_38_41_538377_compressed_Night_deleted.slp\n",
      "slp file:  /mnt/b3a68699-495d-4ebb-9ab1-ac74f11c68c5/id_switch/cohort4/input_dir/2020_10_02_04_44_43_900778_compressed_Night_deleted.slp\n",
      "slp file:  /mnt/b3a68699-495d-4ebb-9ab1-ac74f11c68c5/id_switch/cohort4/input_dir/2020_10_02_05_50_50_059118_compressed_Night_deleted.slp\n",
      "slp file:  /mnt/b3a68699-495d-4ebb-9ab1-ac74f11c68c5/id_switch/cohort4/input_dir/2020_10_02_06_56_59_108501_compressed_Night_deleted.slp\n",
      "slp file:  /mnt/b3a68699-495d-4ebb-9ab1-ac74f11c68c5/id_switch/cohort4/input_dir/2020_10_02_20_09_42_358949_compressed_Night_deleted.slp\n",
      "slp file:  /mnt/b3a68699-495d-4ebb-9ab1-ac74f11c68c5/id_switch/cohort4/input_dir/2020_10_02_21_15_46_515199_compressed_Night_deleted.slp\n",
      "slp file:  /mnt/b3a68699-495d-4ebb-9ab1-ac74f11c68c5/id_switch/cohort4/input_dir/2020_10_02_22_21_50_055165_compressed_Night_deleted.slp\n",
      "slp file:  /mnt/b3a68699-495d-4ebb-9ab1-ac74f11c68c5/id_switch/cohort4/input_dir/2020_10_02_23_27_57_884608_compressed_Night_deleted.slp\n",
      "slp file:  /mnt/b3a68699-495d-4ebb-9ab1-ac74f11c68c5/id_switch/cohort4/input_dir/2020_10_03_00_33_58_191190_compressed_Night_deleted.slp\n",
      "slp file:  /mnt/b3a68699-495d-4ebb-9ab1-ac74f11c68c5/id_switch/cohort4/input_dir/2020_10_03_01_40_07_620919_compressed_Night_deleted.slp\n",
      "slp file:  /mnt/b3a68699-495d-4ebb-9ab1-ac74f11c68c5/id_switch/cohort4/input_dir/2020_10_03_02_46_13_608455_compressed_Night_deleted.slp\n",
      "slp file:  /mnt/b3a68699-495d-4ebb-9ab1-ac74f11c68c5/id_switch/cohort4/input_dir/2020_10_03_03_52_15_053999_compressed_Night_deleted.slp\n",
      "slp file:  /mnt/b3a68699-495d-4ebb-9ab1-ac74f11c68c5/id_switch/cohort4/input_dir/2020_10_03_04_58_13_999369_compressed_Night_deleted.slp\n",
      "slp file:  /mnt/b3a68699-495d-4ebb-9ab1-ac74f11c68c5/id_switch/cohort4/input_dir/2020_10_03_06_04_21_479563_compressed_Night_deleted.slp\n",
      "slp file:  /mnt/b3a68699-495d-4ebb-9ab1-ac74f11c68c5/id_switch/cohort4/input_dir/2020_10_03_20_22_17_417196_compressed_Night_deleted.slp\n",
      "slp file:  /mnt/b3a68699-495d-4ebb-9ab1-ac74f11c68c5/id_switch/cohort4/input_dir/2020_10_03_21_28_15_790215_compressed_Night_deleted.slp\n",
      "slp file:  /mnt/b3a68699-495d-4ebb-9ab1-ac74f11c68c5/id_switch/cohort4/input_dir/2020_10_03_22_34_13_194457_compressed_Night_deleted.slp\n",
      "slp file:  /mnt/b3a68699-495d-4ebb-9ab1-ac74f11c68c5/id_switch/cohort4/input_dir/2020_10_03_23_40_24_246399_compressed_Night_deleted.slp\n",
      "slp file:  /mnt/b3a68699-495d-4ebb-9ab1-ac74f11c68c5/id_switch/cohort4/input_dir/2020_10_04_00_46_34_188545_compressed_Night_deleted.slp\n",
      "slp file:  /mnt/b3a68699-495d-4ebb-9ab1-ac74f11c68c5/id_switch/cohort4/input_dir/2020_10_04_01_52_43_579019_compressed_Night_deleted.slp\n",
      "slp file:  /mnt/b3a68699-495d-4ebb-9ab1-ac74f11c68c5/id_switch/cohort4/input_dir/2020_10_04_02_58_56_233127_compressed_Night_deleted.slp\n",
      "slp file:  /mnt/b3a68699-495d-4ebb-9ab1-ac74f11c68c5/id_switch/cohort4/input_dir/2020_10_04_04_05_06_023066_compressed_Night_deleted.slp\n",
      "slp file:  /mnt/b3a68699-495d-4ebb-9ab1-ac74f11c68c5/id_switch/cohort4/input_dir/2020_10_04_05_11_04_833236_compressed_Night_deleted.slp\n",
      "slp file:  /mnt/b3a68699-495d-4ebb-9ab1-ac74f11c68c5/id_switch/cohort4/input_dir/2020_10_04_06_17_03_168805_compressed_Night_deleted.slp\n",
      "slp file:  /mnt/b3a68699-495d-4ebb-9ab1-ac74f11c68c5/id_switch/cohort4/input_dir/2020_10_04_20_34_53_329350_compressed_Night_deleted.slp\n",
      "slp file:  /mnt/b3a68699-495d-4ebb-9ab1-ac74f11c68c5/id_switch/cohort4/input_dir/2020_10_04_21_40_53_066150_compressed_Night_deleted.slp\n",
      "slp file:  /mnt/b3a68699-495d-4ebb-9ab1-ac74f11c68c5/id_switch/cohort4/input_dir/2020_10_04_22_47_00_003696_compressed_Night_deleted.slp\n",
      "slp file:  /mnt/b3a68699-495d-4ebb-9ab1-ac74f11c68c5/id_switch/cohort4/input_dir/2020_10_04_23_53_03_155670_compressed_Night_deleted.slp\n",
      "slp file:  /mnt/b3a68699-495d-4ebb-9ab1-ac74f11c68c5/id_switch/cohort4/input_dir/2020_10_05_00_59_08_742458_compressed_Night_deleted.slp\n",
      "slp file:  /mnt/b3a68699-495d-4ebb-9ab1-ac74f11c68c5/id_switch/cohort4/input_dir/2020_10_05_02_05_11_593158_compressed_Night_deleted.slp\n",
      "slp file:  /mnt/b3a68699-495d-4ebb-9ab1-ac74f11c68c5/id_switch/cohort4/input_dir/2020_10_05_03_11_17_862528_compressed_Night_deleted.slp\n",
      "slp file:  /mnt/b3a68699-495d-4ebb-9ab1-ac74f11c68c5/id_switch/cohort4/input_dir/2020_10_05_04_17_20_703726_compressed_Night_deleted.slp\n",
      "slp file:  /mnt/b3a68699-495d-4ebb-9ab1-ac74f11c68c5/id_switch/cohort4/input_dir/2020_10_05_05_23_20_880220_compressed_Night_deleted.slp\n",
      "slp file:  /mnt/b3a68699-495d-4ebb-9ab1-ac74f11c68c5/id_switch/cohort4/input_dir/2020_10_05_06_29_25_895299_compressed_Night_deleted.slp\n",
      "slp file:  /mnt/b3a68699-495d-4ebb-9ab1-ac74f11c68c5/id_switch/cohort4/input_dir/2020_10_05_20_46_46_525458_compressed_Night_deleted.slp\n",
      "slp file:  /mnt/b3a68699-495d-4ebb-9ab1-ac74f11c68c5/id_switch/cohort4/input_dir/2020_10_05_21_52_43_203906_compressed_Night_deleted.slp\n",
      "slp file:  /mnt/b3a68699-495d-4ebb-9ab1-ac74f11c68c5/id_switch/cohort4/input_dir/2020_10_05_22_58_41_934310_compressed_Night_deleted.slp\n",
      "slp file:  /mnt/b3a68699-495d-4ebb-9ab1-ac74f11c68c5/id_switch/cohort4/input_dir/2020_10_06_00_04_39_009680_compressed_Night_deleted.slp\n",
      "slp file:  /mnt/b3a68699-495d-4ebb-9ab1-ac74f11c68c5/id_switch/cohort4/input_dir/2020_10_06_01_10_41_261162_compressed_Night_deleted.slp\n",
      "slp file:  /mnt/b3a68699-495d-4ebb-9ab1-ac74f11c68c5/id_switch/cohort4/input_dir/2020_10_06_02_16_42_932270_compressed_Night_deleted.slp\n",
      "slp file:  /mnt/b3a68699-495d-4ebb-9ab1-ac74f11c68c5/id_switch/cohort4/input_dir/2020_10_06_03_22_46_339544_compressed_Night_deleted.slp\n",
      "slp file:  /mnt/b3a68699-495d-4ebb-9ab1-ac74f11c68c5/id_switch/cohort4/input_dir/2020_10_06_04_28_48_494014_compressed_Night_deleted.slp\n",
      "slp file:  /mnt/b3a68699-495d-4ebb-9ab1-ac74f11c68c5/id_switch/cohort4/input_dir/2020_10_06_05_34_52_058017_compressed_Night_deleted.slp\n",
      "slp file:  /mnt/b3a68699-495d-4ebb-9ab1-ac74f11c68c5/id_switch/cohort4/input_dir/2020_10_06_06_40_53_832010_compressed_Night_deleted.slp\n",
      "slp file:  /mnt/b3a68699-495d-4ebb-9ab1-ac74f11c68c5/id_switch/cohort4/input_dir/2020_10_06_20_59_02_636578_compressed_Night_deleted.slp\n",
      "slp file:  /mnt/b3a68699-495d-4ebb-9ab1-ac74f11c68c5/id_switch/cohort4/input_dir/2020_10_06_22_05_05_304260_compressed_Night_deleted.slp\n",
      "slp file:  /mnt/b3a68699-495d-4ebb-9ab1-ac74f11c68c5/id_switch/cohort4/input_dir/2020_10_06_23_11_11_555079_compressed_Night_deleted.slp\n",
      "slp file:  /mnt/b3a68699-495d-4ebb-9ab1-ac74f11c68c5/id_switch/cohort4/input_dir/2020_10_07_00_17_15_509493_compressed_Night_deleted.slp\n",
      "slp file:  /mnt/b3a68699-495d-4ebb-9ab1-ac74f11c68c5/id_switch/cohort4/input_dir/2020_10_07_01_23_21_237024_compressed_Night_deleted.slp\n",
      "slp file:  /mnt/b3a68699-495d-4ebb-9ab1-ac74f11c68c5/id_switch/cohort4/input_dir/2020_10_07_02_29_24_574494_compressed_Night_deleted.slp\n",
      "slp file:  /mnt/b3a68699-495d-4ebb-9ab1-ac74f11c68c5/id_switch/cohort4/input_dir/2020_10_07_03_35_31_607330_compressed_Night_deleted.slp\n",
      "slp file:  /mnt/b3a68699-495d-4ebb-9ab1-ac74f11c68c5/id_switch/cohort4/input_dir/2020_10_07_04_41_36_761548_compressed_Night_deleted.slp\n",
      "slp file:  /mnt/b3a68699-495d-4ebb-9ab1-ac74f11c68c5/id_switch/cohort4/input_dir/2020_10_07_05_47_40_453867_compressed_Night_deleted.slp\n",
      "slp file:  /mnt/b3a68699-495d-4ebb-9ab1-ac74f11c68c5/id_switch/cohort4/input_dir/2020_10_07_06_53_46_229376_compressed_Night_deleted.slp\n",
      "total nfrmeas:  0\n",
      "DONE...\n",
      "cleaning human slp file...\n",
      "... making human label only slp...\n",
      "merged_video:  Video(filename=/mnt/b3a68699-495d-4ebb-9ab1-ac74f11c68c5/id_switch/cohort4/Night_human_labels.avi, shape=(None, None, None, None), backend=MediaVideo)\n",
      "Loading master manual file:  /mnt/b3a68699-495d-4ebb-9ab1-ac74f11c68c5/id_switch/cohort4/human_labels/cohort4_night.1000.slp\n",
      "Number of frames loaded:  1000\n",
      " ... making human only label video...\n",
      "Fname hybrid movie:  /mnt/b3a68699-495d-4ebb-9ab1-ac74f11c68c5/id_switch/cohort4/Night_human_labels.avi\n"
     ]
    },
    {
     "name": "stderr",
     "output_type": "stream",
     "text": [
      "total frames: 1000: 26it [00:06,  3.85it/s]"
     ]
    }
   ],
   "source": [
    "################################################################\n",
    "########### SET FNAMES FOR HUMAN AND ID SWITCH FILES ###########\n",
    "################################################################\n",
    "from track.track import DatabaseLoader\n",
    "\n",
    "#\n",
    "#root_dir = '/mnt/b3a68699-495d-4ebb-9ab1-ac74f11c68c5/id_switch/'\n",
    "root_dir = '/mnt/b3a68699-495d-4ebb-9ab1-ac74f11c68c5/id_switch/cohort4/'\n",
    "fname_database = 'database.xlsx'\n",
    "human_slp_dir = 'human_labels'\n",
    "input_dir = 'input_dir'\n",
    "n_cores = 32\n",
    "network_type = \"Night\"   # \"Day\" or \"Night\"\n",
    "\n",
    "# load database class\n",
    "d = DatabaseLoader(root_dir + fname_database,\n",
    "                   network_type)\n",
    "d.nn_type = network_type\n",
    "d.root_dir = root_dir\n",
    "d.human_slp_dir = human_slp_dir\n",
    "d.input_dir = input_dir\n",
    "d.n_cores = n_cores\n",
    "d.network_type = network_type\n",
    "d.track_type = 'feature'\n",
    "d.recompute_spine_centres = False\n",
    "d.skip_id_switch_make = True\n",
    "\n",
    "# hard code the # of animals and features for now\n",
    "d.n_animals = 6\n",
    "d.n_features = 6\n",
    "\n",
    "\n",
    "# make id switch files over all files in /input_dir/ and database.xlsx \n",
    "d.make_id_switch_files()\n",
    "\n",
    "# process the human labeled .slp file to short version\n",
    "d.fname_slp_human_labels = 'cohort4_night.1000.slp'\n",
    "d.clean_human_slp()\n",
    "\n",
    "# merge the id switch and human files\n",
    "\n",
    "d.subsample=2\n",
    "d.merge_human_and_id_switches()\n",
    "\n",
    "#\n",
    "print (\"DONE...\")\n"
   ]
  },
  {
   "cell_type": "code",
   "execution_count": 14,
   "metadata": {},
   "outputs": [
    {
     "name": "stdout",
     "output_type": "stream",
     "text": [
      "(86407, 6, 6, 2)\n",
      "4.457507133483887\n",
      "1172.404296875\n",
      "2.651884078979492\n",
      "825.70654296875\n"
     ]
    }
   ],
   "source": [
    "d = np.load('/mnt/b3a68699-495d-4ebb-9ab1-ac74f11c68c5/id_switch/cohort4/input_dir/2020_09_22_16_23_20_653413_compressed_Day.npy')\n",
    "\n",
    "print (d.shape)\n",
    "\n",
    "print (np.nanmin(d[:,:,:,0]))\n",
    "print (np.nanmax(d[:,:,:,0]))\n",
    "       \n",
    "print (np.nanmin(d[:,:,:,1]))\n",
    "print (np.nanmax(d[:,:,:,1]))\n",
    "    \n",
    "    "
   ]
  },
  {
   "cell_type": "code",
   "execution_count": 96,
   "metadata": {},
   "outputs": [
    {
     "name": "stdout",
     "output_type": "stream",
     "text": [
      "['/mnt/b3a68699-495d-4ebb-9ab1-ac74f11c68c5/id_switch/cohort4/input_dir/2020_09_27_17_48_48_476256_compressed_Day_deleted.slp'\n",
      " '0']\n",
      "['/mnt/b3a68699-495d-4ebb-9ab1-ac74f11c68c5/id_switch/cohort4/input_dir/2020_09_27_17_48_48_476256_compressed_Day_deleted.slp'\n",
      " '42']\n"
     ]
    }
   ],
   "source": [
    "\n",
    "slps = np.load('/home/cat/meta_data_slp.npy',allow_pickle=True)\n",
    "vids = np.load('/home/cat/meta_data.npy', allow_pickle=True)\n",
    "\n",
    "for k in range(len(slps)):\n",
    "    #print ('')\n",
    "    temp = slps[k]\n",
    "    temp2 = vids[k]\n",
    "    if temp[1]!=temp2[1]:\n",
    "        print (temp)\n",
    "        print (temp2)\n",
    "\n"
   ]
  },
  {
   "cell_type": "code",
   "execution_count": 6,
   "metadata": {},
   "outputs": [
    {
     "data": {
      "text/plain": [
       "Labels(labeled_frames=26, videos=1, skeletons=1, tracks=6)"
      ]
     },
     "execution_count": 6,
     "metadata": {},
     "output_type": "execute_result"
    }
   ],
   "source": [
    "\n",
    "fname = '/mnt/b3a68699-495d-4ebb-9ab1-ac74f11c68c5/id_switch/cohort4/input_dir/2020_09_23_22_31_26_256034_compressed_Night_deleted.slp'\n",
    "\n",
    "sleap.load_file(fname)\n",
    "\n"
   ]
  },
  {
   "cell_type": "code",
   "execution_count": null,
   "metadata": {},
   "outputs": [],
   "source": []
  },
  {
   "cell_type": "code",
   "execution_count": null,
   "metadata": {},
   "outputs": [],
   "source": []
  },
  {
   "cell_type": "code",
   "execution_count": null,
   "metadata": {},
   "outputs": [],
   "source": []
  },
  {
   "cell_type": "code",
   "execution_count": null,
   "metadata": {},
   "outputs": [],
   "source": []
  },
  {
   "cell_type": "code",
   "execution_count": null,
   "metadata": {},
   "outputs": [],
   "source": []
  },
  {
   "cell_type": "code",
   "execution_count": null,
   "metadata": {},
   "outputs": [],
   "source": []
  },
  {
   "cell_type": "code",
   "execution_count": null,
   "metadata": {},
   "outputs": [],
   "source": []
  },
  {
   "cell_type": "code",
   "execution_count": null,
   "metadata": {},
   "outputs": [],
   "source": []
  }
 ],
 "metadata": {
  "kernelspec": {
   "display_name": "Python 3 (ipykernel)",
   "language": "python",
   "name": "python3"
  },
  "language_info": {
   "codemirror_mode": {
    "name": "ipython",
    "version": 3
   },
   "file_extension": ".py",
   "mimetype": "text/x-python",
   "name": "python",
   "nbconvert_exporter": "python",
   "pygments_lexer": "ipython3",
   "version": "3.7.12"
  }
 },
 "nbformat": 4,
 "nbformat_minor": 4
}
