{
 "cells": [
  {
   "cell_type": "code",
   "execution_count": 25,
   "metadata": {},
   "outputs": [
    {
     "name": "stdout",
     "output_type": "stream",
     "text": [
      "The autoreload extension is already loaded. To reload it, use:\n",
      "  %reload_ext autoreload\n"
     ]
    },
    {
     "data": {
      "application/javascript": [
       "IPython.notebook.set_autosave_interval(180000)"
      ]
     },
     "metadata": {},
     "output_type": "display_data"
    },
    {
     "name": "stdout",
     "output_type": "stream",
     "text": [
      "Autosaving every 180 seconds\n"
     ]
    }
   ],
   "source": [
    "%load_ext autoreload\n",
    "%autoreload 2\n",
    "\n",
    "import matplotlib\n",
    "import matplotlib.pyplot as plt\n",
    "#matplotlib.use('Agg')\n",
    "#%matplotlib tk\n",
    "%autosave 180\n",
    "\n",
    "#\n",
    "import numpy as np\n",
    "from tqdm import trange\n",
    "\n",
    "#\n",
    "import sys\n",
    "sys.path.append('/home/cat/code/gerbil/')\n",
    "\n",
    "#\n",
    "import sleap\n",
    "\n",
    "#\n",
    "import cv2\n",
    "import os\n",
    "\n",
    "#\n",
    "from tqdm import tqdm\n",
    "import parmap\n",
    "\n",
    "#\n",
    "import pandas as pd\n",
    "\n",
    "#\n",
    "from utils.track import track\n",
    "# from track.track import make_human_label_only_slp, make_human_label_only_video"
   ]
  },
  {
   "cell_type": "code",
   "execution_count": 36,
   "metadata": {},
   "outputs": [
    {
     "name": "stdout",
     "output_type": "stream",
     "text": [
      "\n",
      "running .slp preprocessing and id_switch detection ...\n"
     ]
    },
    {
     "data": {
      "application/vnd.jupyter.widget-view+json": {
       "model_id": "ea243ea5ad3d4d61983537b9d1156892",
       "version_major": 2,
       "version_minor": 0
      },
      "text/plain": [
       "  0%|          | 0/136 [00:00<?, ?it/s]"
      ]
     },
     "metadata": {},
     "output_type": "display_data"
    },
    {
     "name": "stdout",
     "output_type": "stream",
     "text": [
      "\n",
      "done running .slp preprocessing and id_switch detection ...\n",
      "\n",
      "making shortened id_switch .slp files...\n"
     ]
    },
    {
     "data": {
      "application/vnd.jupyter.widget-view+json": {
       "model_id": "821b695ec5414fe2a793f8583c3afaa5",
       "version_major": 2,
       "version_minor": 0
      },
      "text/plain": [
       "  0%|          | 0/136 [00:00<?, ?it/s]"
      ]
     },
     "metadata": {},
     "output_type": "display_data"
    },
    {
     "name": "stdout",
     "output_type": "stream",
     "text": [
      "\n",
      "making shortened id_switch video file...\n",
      "    movie already generated... exiting\n",
      "    hybrid file already exists...exiting\n",
      "cleaning human slp file...\n",
      "... making human label only slp...\n"
     ]
    },
    {
     "data": {
      "application/vnd.jupyter.widget-view+json": {
       "model_id": "07c583a4e04341a5be1a93347d45c11c",
       "version_major": 2,
       "version_minor": 0
      },
      "text/plain": [
       "making human label slp:   0%|          | 0/2055 [00:00<?, ?it/s]"
      ]
     },
     "metadata": {},
     "output_type": "display_data"
    },
    {
     "name": "stdout",
     "output_type": "stream",
     "text": [
      " ... making human only label video...\n",
      "Fname hybrid movie:  /mnt/b3a68699-495d-4ebb-9ab1-ac74f11c68c5/id_switch/cohort3/Night_human_labels.avi\n",
      "output human label vieo:  [1160  830]\n"
     ]
    },
    {
     "data": {
      "application/vnd.jupyter.widget-view+json": {
       "model_id": "612213b85a25479eb0584641e0ef0941",
       "version_major": 2,
       "version_minor": 0
      },
      "text/plain": [
       "making human labeled vid; # frames: 1050: 0it [00:00, ?it/s]"
      ]
     },
     "metadata": {},
     "output_type": "display_data"
    },
    {
     "name": "stdout",
     "output_type": "stream",
     "text": [
      "# of images saved  1050\n",
      "Video(filename=/mnt/b3a68699-495d-4ebb-9ab1-ac74f11c68c5/id_switch/cohort3/Night_merged.avi, shape=(None, None, None, None), backend=MediaVideo)\n",
      "slp ctrl:  0\n",
      "slp ctrl:  1000\n",
      "slp ctrl:  2000\n",
      "slp ctrl:  3000\n",
      "slp ctrl:  4000\n",
      "Loaded video sizes: width, height:  1160.0 830.0\n",
      "processing:  /mnt/b3a68699-495d-4ebb-9ab1-ac74f11c68c5/id_switch/cohort3/Night_human_labels.avi\n",
      "processing:  /mnt/b3a68699-495d-4ebb-9ab1-ac74f11c68c5/id_switch/cohort3/Night_id_switches_cropped.mp4\n",
      "done...\n",
      "DONE...\n"
     ]
    }
   ],
   "source": [
    "################################################################\n",
    "########### SET FNAMES FOR HUMAN AND ID SWITCH FILES ###########\n",
    "################################################################\n",
    "# from track import DatabaseLoader\n",
    "\n",
    "#\n",
    "#root_dir = '/mnt/b3a68699-495d-4ebb-9ab1-ac74f11c68c5/id_switch/'\n",
    "root_dir = '/mnt/b3a68699-495d-4ebb-9ab1-ac74f11c68c5/id_switch/cohort3/'\n",
    "fname_database = 'database.xlsx'\n",
    "human_slp_dir = 'human_labels'\n",
    "input_dir = 'input_dir'\n",
    "n_cores = 16\n",
    "network_type = \"Night\"   # \"Day\" or \"Night\"\n",
    "\n",
    "\n",
    "# load database class\n",
    "d = track.DatabaseLoader(root_dir + fname_database,\n",
    "                   network_type)\n",
    "d.cohort_id = 3                                      #<---------------------- please enter cohort number here\n",
    "d.nn_type = network_type\n",
    "d.root_dir = root_dir\n",
    "d.human_slp_dir = human_slp_dir\n",
    "d.input_dir = input_dir\n",
    "d.n_cores = n_cores\n",
    "d.network_type = network_type\n",
    "\n",
    "# make id switch files over all files in /input_dir/ and database.xlsx \n",
    "d.make_id_switch_files()\n",
    "\n",
    "# process the human labeled .slp file to short version\n",
    "d.fname_slp_human_labels = 'cohort3_night.1000.slp'\n",
    "d.clean_human_slp()\n",
    "\n",
    "# merge the id switch and human files\n",
    "\n",
    "d.subsample=4\n",
    "d.merge_human_and_id_switches()\n",
    "\n",
    "#\n",
    "print (\"DONE...\")\n"
   ]
  },
  {
   "cell_type": "code",
   "execution_count": null,
   "metadata": {},
   "outputs": [],
   "source": [
    "/mnt/b3a68699-495d-4ebb-9ab1-ac74f11c68c5/id_switch/cohort3/human_labels/2020_08_23_20_25_43_834844_compressed_shrink_cropped.mp4\n",
    "/mnt/b3a68699-495d-4ebb-9ab1-ac74f11c68c5/id_switch/cohort3/input_dir/2020_08_23_20_25_43_834844_compressed_shrink_cropped.mp4\n",
    "\n"
   ]
  },
  {
   "cell_type": "code",
   "execution_count": 13,
   "metadata": {},
   "outputs": [
    {
     "name": "stdout",
     "output_type": "stream",
     "text": [
      "['/mnt/b3a68699-495d-4ebb-9ab1-ac74f11c68c5/id_switch/cohort3/human_labels/2020_08_23_20_25_43_834844_compressed_cropped.mp4'\n",
      " '/mnt/b3a68699-495d-4ebb-9ab1-ac74f11c68c5/id_switch/cohort3/human_labels/2020_08_23_20_25_43_834844_compressed_cropped.mp4'\n",
      " '/mnt/b3a68699-495d-4ebb-9ab1-ac74f11c68c5/id_switch/cohort3/human_labels/2020_08_23_20_25_43_834844_compressed_cropped.mp4'\n",
      " ...\n",
      " '/mnt/b3a68699-495d-4ebb-9ab1-ac74f11c68c5/id_switch/cohort3/human_labels/2020_09_07_06_45_47_719700_compressed_cropped.mp4'\n",
      " '/mnt/b3a68699-495d-4ebb-9ab1-ac74f11c68c5/id_switch/cohort3/human_labels/2020_09_07_06_45_47_719700_compressed_cropped.mp4'\n",
      " '/mnt/b3a68699-495d-4ebb-9ab1-ac74f11c68c5/id_switch/cohort3/human_labels/2020_09_07_06_45_47_719700_compressed_cropped.mp4']\n"
     ]
    }
   ],
   "source": [
    "d = np.load('/mnt/b3a68699-495d-4ebb-9ab1-ac74f11c68c5/id_switch/cohort3/Night_human_fnames.npy')\n",
    "print (d)"
   ]
  },
  {
   "cell_type": "code",
   "execution_count": null,
   "metadata": {},
   "outputs": [],
   "source": []
  },
  {
   "cell_type": "code",
   "execution_count": null,
   "metadata": {},
   "outputs": [],
   "source": []
  },
  {
   "cell_type": "code",
   "execution_count": null,
   "metadata": {},
   "outputs": [],
   "source": []
  },
  {
   "cell_type": "code",
   "execution_count": null,
   "metadata": {},
   "outputs": [],
   "source": []
  },
  {
   "cell_type": "code",
   "execution_count": null,
   "metadata": {},
   "outputs": [],
   "source": []
  },
  {
   "cell_type": "code",
   "execution_count": null,
   "metadata": {},
   "outputs": [],
   "source": []
  },
  {
   "cell_type": "code",
   "execution_count": null,
   "metadata": {},
   "outputs": [],
   "source": []
  },
  {
   "cell_type": "code",
   "execution_count": null,
   "metadata": {},
   "outputs": [],
   "source": []
  },
  {
   "cell_type": "code",
   "execution_count": null,
   "metadata": {},
   "outputs": [],
   "source": []
  },
  {
   "cell_type": "code",
   "execution_count": null,
   "metadata": {},
   "outputs": [],
   "source": []
  }
 ],
 "metadata": {
  "kernelspec": {
   "display_name": "Python 3 (ipykernel)",
   "language": "python",
   "name": "python3"
  },
  "language_info": {
   "codemirror_mode": {
    "name": "ipython",
    "version": 3
   },
   "file_extension": ".py",
   "mimetype": "text/x-python",
   "name": "python",
   "nbconvert_exporter": "python",
   "pygments_lexer": "ipython3",
   "version": "3.7.12"
  }
 },
 "nbformat": 4,
 "nbformat_minor": 4
}
