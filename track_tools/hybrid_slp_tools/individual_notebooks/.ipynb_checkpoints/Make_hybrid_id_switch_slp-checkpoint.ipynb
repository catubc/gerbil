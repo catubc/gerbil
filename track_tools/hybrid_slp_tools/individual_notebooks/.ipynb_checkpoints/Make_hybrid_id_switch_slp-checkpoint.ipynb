{
 "cells": [
  {
   "cell_type": "code",
   "execution_count": 2,
   "metadata": {},
   "outputs": [
    {
     "name": "stdout",
     "output_type": "stream",
     "text": [
      "The autoreload extension is already loaded. To reload it, use:\n",
      "  %reload_ext autoreload\n"
     ]
    },
    {
     "data": {
      "application/javascript": [
       "IPython.notebook.set_autosave_interval(180000)"
      ]
     },
     "metadata": {},
     "output_type": "display_data"
    },
    {
     "name": "stdout",
     "output_type": "stream",
     "text": [
      "Autosaving every 180 seconds\n"
     ]
    }
   ],
   "source": [
    "%load_ext autoreload\n",
    "%autoreload 2\n",
    "\n",
    "import matplotlib\n",
    "import matplotlib.pyplot as plt\n",
    "#matplotlib.use('Agg')\n",
    "#%matplotlib tk\n",
    "%autosave 180\n",
    "\n",
    "import sys\n",
    "sys.path.append('/home/cat/code/gerbil/utils/')\n",
    "\n",
    "#\n",
    "import numpy as np\n",
    "from tqdm import trange\n",
    "\n",
    "#\n",
    "from visualize import Visualize\n",
    "from track import (Track, detect_id_switch_parallel, \n",
    "                   find_id_switches, make_deleted_slp_files, \n",
    "                   make_hybrid_video, make_hybrid_slp,\n",
    "                   )\n",
    "\n",
    "#\n",
    "import sleap\n",
    "\n",
    "#\n",
    "import cv2\n",
    "import os\n",
    "\n",
    "#\n",
    "from tqdm import tqdm\n",
    "import parmap"
   ]
  },
  {
   "cell_type": "code",
   "execution_count": 15,
   "metadata": {},
   "outputs": [
    {
     "name": "stdout",
     "output_type": "stream",
     "text": [
      "DONE...\n"
     ]
    }
   ],
   "source": [
    "######################################################## \n",
    "######### FIND ID SWTICHES IN PARALLEL AND SAVE ########\n",
    "########################################################\n",
    "\n",
    "#\n",
    "#fnames_slp_list = '/home/cat/data/dan/id_switch/night/fnames.txt'\n",
    "fnames_slp_list = '/media/cat/4TB/dan/id_switch/day/fnames.txt'\n",
    "\n",
    "#\n",
    "find_id_switches(fnames_slp_list)\n",
    "print (\"DONE...\")\n"
   ]
  },
  {
   "cell_type": "code",
   "execution_count": 20,
   "metadata": {
    "tags": []
   },
   "outputs": [
    {
     "name": "stdout",
     "output_type": "stream",
     "text": [
      "Fname hybrid movie:  /media/cat/4TB/dan/id_switch/day/hybrid_cropped.mp4\n",
      "fname found:  /media/cat/4TB/dan/id_switch/day/2020_07_30_07_58_21_812233_compressed_defished_shrink_cropped.mp4\n"
     ]
    },
    {
     "name": "stderr",
     "output_type": "stream",
     "text": [
      "adding frames to movies: 100%|██████████| 10/10 [00:01<00:00,  8.43it/s]\n"
     ]
    },
    {
     "name": "stdout",
     "output_type": "stream",
     "text": [
      "fname found:  /media/cat/4TB/dan/id_switch/day/2020_07_30_11_06_03_274369_compressed_defished_shrink_cropped.mp4\n"
     ]
    },
    {
     "name": "stderr",
     "output_type": "stream",
     "text": [
      "adding frames to movies: 100%|██████████| 67/67 [00:07<00:00,  9.09it/s]\n"
     ]
    },
    {
     "name": "stdout",
     "output_type": "stream",
     "text": [
      "fname found:  /media/cat/4TB/dan/id_switch/day/2020_07_30_14_11_50_567584_compressed_defished_shrink_cropped.mp4\n"
     ]
    },
    {
     "name": "stderr",
     "output_type": "stream",
     "text": [
      "adding frames to movies: 100%|██████████| 97/97 [00:10<00:00,  9.00it/s]\n"
     ]
    },
    {
     "name": "stdout",
     "output_type": "stream",
     "text": [
      "fname found:  /media/cat/4TB/dan/id_switch/day/2020_07_30_17_34_43_625922_compressed_defished_shrink_cropped.mp4\n"
     ]
    },
    {
     "name": "stderr",
     "output_type": "stream",
     "text": [
      "adding frames to movies: 100%|██████████| 41/41 [00:04<00:00,  8.67it/s]\n"
     ]
    },
    {
     "name": "stdout",
     "output_type": "stream",
     "text": [
      "fname found:  /media/cat/4TB/dan/id_switch/day/2020_07_30_19_25_43_717047_compressed_defished_shrink_cropped.mp4\n"
     ]
    },
    {
     "name": "stderr",
     "output_type": "stream",
     "text": [
      "adding frames to movies: 100%|██████████| 53/53 [00:05<00:00,  9.29it/s]"
     ]
    },
    {
     "name": "stdout",
     "output_type": "stream",
     "text": [
      "DONE...\n"
     ]
    },
    {
     "name": "stderr",
     "output_type": "stream",
     "text": [
      "\n"
     ]
    }
   ],
   "source": [
    "###################################################\n",
    "############ MAKE THE HYBRID VIDEO ################\n",
    "###################################################\n",
    "\n",
    "# make hybrid video\n",
    "make_hybrid_video(fnames_slp_list)"
   ]
  },
  {
   "cell_type": "code",
   "execution_count": 13,
   "metadata": {},
   "outputs": [
    {
     "name": "stderr",
     "output_type": "stream",
     "text": [
      "making deleted .slp file:  20%|██        | 1/5 [00:03<00:15,  3.84s/it]"
     ]
    },
    {
     "name": "stdout",
     "output_type": "stream",
     "text": [
      "Done...\n"
     ]
    },
    {
     "name": "stderr",
     "output_type": "stream",
     "text": [
      "making deleted .slp file:  40%|████      | 2/5 [00:09<00:14,  4.99s/it]"
     ]
    },
    {
     "name": "stdout",
     "output_type": "stream",
     "text": [
      "Done...\n"
     ]
    },
    {
     "name": "stderr",
     "output_type": "stream",
     "text": [
      "making deleted .slp file:  60%|██████    | 3/5 [00:14<00:09,  4.96s/it]"
     ]
    },
    {
     "name": "stdout",
     "output_type": "stream",
     "text": [
      "Done...\n"
     ]
    },
    {
     "name": "stderr",
     "output_type": "stream",
     "text": [
      "making deleted .slp file:  80%|████████  | 4/5 [00:19<00:04,  4.76s/it]"
     ]
    },
    {
     "name": "stdout",
     "output_type": "stream",
     "text": [
      "Done...\n"
     ]
    },
    {
     "name": "stderr",
     "output_type": "stream",
     "text": [
      "making deleted .slp file: 100%|██████████| 5/5 [00:24<00:00,  4.91s/it]"
     ]
    },
    {
     "name": "stdout",
     "output_type": "stream",
     "text": [
      "Done...\n"
     ]
    },
    {
     "name": "stderr",
     "output_type": "stream",
     "text": [
      "\n"
     ]
    }
   ],
   "source": [
    "##############################################################\n",
    "################# CLEAN UP .SLP FILES ########################\n",
    "##############################################################\n",
    "\n",
    "#\n",
    "make_deleted_slp_files(fnames_slp_list)"
   ]
  },
  {
   "cell_type": "code",
   "execution_count": 23,
   "metadata": {},
   "outputs": [
    {
     "name": "stdout",
     "output_type": "stream",
     "text": [
      "Video(filename=/media/cat/4TB/dan/id_switch/day/hybrid_cropped.mp4, shape=(536, 700, 900, 3), backend=MediaVideo)\n",
      "DONE...\n"
     ]
    }
   ],
   "source": [
    "##############################################################\n",
    "################# MAKE HYBRID .SLP FILE ######################\n",
    "##############################################################\n",
    "\n",
    "#\n",
    "fname_hybrid_video = os.path.split(fnames_slp_list)[0]+'/hybrid_cropped.mp4'\n",
    "make_hybrid_slp(fnames_slp_list,\n",
    "                fname_hybrid_video)\n"
   ]
  },
  {
   "cell_type": "code",
   "execution_count": 7,
   "metadata": {},
   "outputs": [
    {
     "name": "stdout",
     "output_type": "stream",
     "text": [
      "Video(filename=/home/cat/data/dan/merge_hybrid_slp/movie_hybrid.mp4, shape=(None, None, None, None), backend=MediaVideo)\n",
      "DONE...\n"
     ]
    }
   ],
   "source": [
    "#\n",
    "#merged_video = sleap.load_video(fname_hybrid_video)\n",
    "merged_video = sleap.load_video('/home/cat/data/dan/merge_hybrid_slp/movie_hybrid.mp4')\n",
    "\n",
    "#   \n",
    "print(merged_video)\n",
    "\n",
    "#\n",
    "slp_file = '/home/cat/data/dan/merge_hybrid_slp/cohort2_night.1000.slp'\n",
    "\n",
    "slp_filename_out = slp_file[:-4]+\"_deleted.slp\"\n",
    "\n",
    "n_frames = 0\n",
    "all_frames = []\n",
    "reference_tracks = {}\n",
    "\n",
    "first_labels = None\n",
    "\n",
    "# Load saved labels.\n",
    "labels = sleap.load_file(slp_file, match_to=first_labels)\n",
    "if first_labels is None:\n",
    "    first_labels = labels\n",
    "\n",
    "new_frames = []\n",
    "for i, lf in enumerate(labels):\n",
    "\n",
    "    # Update reference to merged video.\n",
    "    lf.video = merged_video\n",
    "\n",
    "    # Update frame index to the frame number within the merged video.\n",
    "    lf.frame_idx = n_frames + i\n",
    "\n",
    "    # Update the track reference to use the reference tracks to prevent duplication.\n",
    "    for instance in lf:\n",
    "        if instance.track is not None:\n",
    "            if instance.track.name in reference_tracks:\n",
    "                instance.track = reference_tracks[instance.track.name]\n",
    "            else:\n",
    "                reference_tracks[instance.track.name] = instance.track\n",
    "\n",
    "    # Append the labeled frame to the list of frames we're keeping from these labels.\n",
    "    new_frames.append(lf)\n",
    "\n",
    "all_frames.extend(new_frames)\n",
    "n_frames += len(new_frames)\n",
    "\n",
    "merged_labels = sleap.Labels(all_frames)\n",
    "\n",
    "# save stuff\n",
    "merged_labels.save(slp_filename_out)\n",
    "\n",
    "print(\"DONE...\")"
   ]
  },
  {
   "cell_type": "code",
   "execution_count": null,
   "metadata": {},
   "outputs": [],
   "source": []
  },
  {
   "cell_type": "code",
   "execution_count": null,
   "metadata": {},
   "outputs": [],
   "source": []
  },
  {
   "cell_type": "code",
   "execution_count": null,
   "metadata": {},
   "outputs": [],
   "source": []
  },
  {
   "cell_type": "code",
   "execution_count": null,
   "metadata": {},
   "outputs": [],
   "source": []
  },
  {
   "cell_type": "code",
   "execution_count": null,
   "metadata": {},
   "outputs": [],
   "source": []
  },
  {
   "cell_type": "code",
   "execution_count": null,
   "metadata": {},
   "outputs": [],
   "source": []
  },
  {
   "cell_type": "code",
   "execution_count": null,
   "metadata": {},
   "outputs": [],
   "source": []
  },
  {
   "cell_type": "code",
   "execution_count": null,
   "metadata": {},
   "outputs": [],
   "source": []
  },
  {
   "cell_type": "code",
   "execution_count": null,
   "metadata": {},
   "outputs": [],
   "source": []
  },
  {
   "cell_type": "code",
   "execution_count": null,
   "metadata": {},
   "outputs": [],
   "source": []
  },
  {
   "cell_type": "code",
   "execution_count": null,
   "metadata": {},
   "outputs": [],
   "source": []
  }
 ],
 "metadata": {
  "kernelspec": {
   "display_name": "Python 3 (ipykernel)",
   "language": "python",
   "name": "python3"
  },
  "language_info": {
   "codemirror_mode": {
    "name": "ipython",
    "version": 3
   },
   "file_extension": ".py",
   "mimetype": "text/x-python",
   "name": "python",
   "nbconvert_exporter": "python",
   "pygments_lexer": "ipython3",
   "version": "3.10.6"
  }
 },
 "nbformat": 4,
 "nbformat_minor": 4
}
