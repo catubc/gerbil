{
 "cells": [
  {
   "cell_type": "code",
   "execution_count": 1,
   "metadata": {},
   "outputs": [
    {
     "data": {
      "application/javascript": [
       "IPython.notebook.set_autosave_interval(180000)"
      ]
     },
     "metadata": {},
     "output_type": "display_data"
    },
    {
     "name": "stdout",
     "output_type": "stream",
     "text": [
      "Autosaving every 180 seconds\n"
     ]
    },
    {
     "name": "stderr",
     "output_type": "stream",
     "text": [
      "2022-12-23 17:31:20.810303: W tensorflow/stream_executor/platform/default/dso_loader.cc:64] Could not load dynamic library 'libcudart.so.11.0'; dlerror: libcudart.so.11.0: cannot open shared object file: No such file or directory; LD_LIBRARY_PATH: /home/cat/.local/lib/python3.10/site-packages/cv2/../../lib64:\n",
      "2022-12-23 17:31:20.810342: I tensorflow/stream_executor/cuda/cudart_stub.cc:29] Ignore above cudart dlerror if you do not have a GPU set up on your machine.\n"
     ]
    }
   ],
   "source": [
    "%load_ext autoreload\n",
    "%autoreload 2\n",
    "\n",
    "import matplotlib\n",
    "import matplotlib.pyplot as plt\n",
    "#matplotlib.use('Agg')\n",
    "#%matplotlib tk\n",
    "%autosave 180\n",
    "\n",
    "import sys\n",
    "sys.path.append('/home/cat/code/gerbil/utils/')\n",
    "\n",
    "#\n",
    "import numpy as np\n",
    "from tqdm import trange\n",
    "\n",
    "#\n",
    "from visualize import Visualize\n",
    "from track import (Track, detect_id_switch_parallel, \n",
    "                   find_id_switches, make_deleted_slp_files, \n",
    "                   make_hybrid_video, make_hybrid_slp,\n",
    "                   )\n",
    "\n",
    "#\n",
    "import sleap\n",
    "\n",
    "#\n",
    "import cv2\n",
    "import os\n",
    "\n",
    "#\n",
    "from tqdm import tqdm\n",
    "import parmap"
   ]
  },
  {
   "cell_type": "code",
   "execution_count": 2,
   "metadata": {},
   "outputs": [
    {
     "name": "stdout",
     "output_type": "stream",
     "text": [
      "filename completed:  /home/cat/data/dan/id_switch/day/2020_07_30_07_58_21_812233_compressed_Day.slp\n",
      "all frames:  (10, 4)\n",
      "filename completed:  /home/cat/data/dan/id_switch/day/2020_07_30_11_06_03_274369_compressed_Day.slp\n",
      "all frames:  (67, 4)\n",
      "filename completed:  /home/cat/data/dan/id_switch/day/2020_07_30_14_11_50_567584_compressed_Day.slp\n",
      "all frames:  (97, 4)\n",
      "filename completed:  /home/cat/data/dan/id_switch/day/2020_07_30_17_34_43_625922_compressed_Day.slp\n",
      "all frames:  (41, 4)\n",
      "filename completed:  /home/cat/data/dan/id_switch/day/2020_07_30_19_25_43_717047_compressed_Day.slp\n",
      "all frames:  (53, 4)\n",
      "DONE...\n"
     ]
    }
   ],
   "source": [
    "######################################################## \n",
    "######### FIND ID SWTICHES IN PARALLEL AND SAVE ########\n",
    "########################################################\n",
    "\n",
    "#\n",
    "fnames_slp_list = '/home/cat/data/dan/id_switch/day/fnames_day.txt'\n",
    "#fnames_slp_list = '/media/cat/4TB/dan/id_switch/day/fnames.txt'\n",
    "\n",
    "#\n",
    "find_id_switches(fnames_slp_list)\n",
    "print (\"DONE...\")\n"
   ]
  },
  {
   "cell_type": "code",
   "execution_count": 3,
   "metadata": {
    "tags": []
   },
   "outputs": [
    {
     "name": "stdout",
     "output_type": "stream",
     "text": [
      "Fname hybrid movie:  /home/cat/data/dan/id_switch/day/hybrid_cropped.mp4\n",
      "/home/cat/data/dan/id_switch/day/2020_07_30_07_58_21_812233_*cropped*.mp4\n",
      "fname found:  /home/cat/data/dan/id_switch/day/2020_07_30_07_58_21_812233_compressed_defished_shrink_cropped.mp4\n"
     ]
    },
    {
     "name": "stderr",
     "output_type": "stream",
     "text": [
      "OpenCV: FFMPEG: tag 0x44495658/'XVID' is not supported with codec id 12 and format 'mp4 / MP4 (MPEG-4 Part 14)'\n",
      "OpenCV: FFMPEG: fallback to use tag 0x7634706d/'mp4v'\n",
      "adding frames to movies: 100%|██████████████████████████████| 10/10 [00:01<00:00,  5.46it/s]\n"
     ]
    },
    {
     "name": "stdout",
     "output_type": "stream",
     "text": [
      "/home/cat/data/dan/id_switch/day/2020_07_30_11_06_03_274369_*cropped*.mp4\n",
      "fname found:  /home/cat/data/dan/id_switch/day/2020_07_30_11_06_03_274369_compressed_defished_shrink_cropped.mp4\n"
     ]
    },
    {
     "name": "stderr",
     "output_type": "stream",
     "text": [
      "adding frames to movies: 100%|██████████████████████████████| 67/67 [00:11<00:00,  5.95it/s]\n"
     ]
    },
    {
     "name": "stdout",
     "output_type": "stream",
     "text": [
      "/home/cat/data/dan/id_switch/day/2020_07_30_14_11_50_567584_*cropped*.mp4\n",
      "fname found:  /home/cat/data/dan/id_switch/day/2020_07_30_14_11_50_567584_compressed_defished_shrink_cropped.mp4\n"
     ]
    },
    {
     "name": "stderr",
     "output_type": "stream",
     "text": [
      "adding frames to movies: 100%|██████████████████████████████| 97/97 [00:16<00:00,  6.04it/s]\n"
     ]
    },
    {
     "name": "stdout",
     "output_type": "stream",
     "text": [
      "/home/cat/data/dan/id_switch/day/2020_07_30_17_34_43_625922_*cropped*.mp4\n",
      "fname found:  /home/cat/data/dan/id_switch/day/2020_07_30_17_34_43_625922_compressed_defished_shrink_cropped.mp4\n"
     ]
    },
    {
     "name": "stderr",
     "output_type": "stream",
     "text": [
      "adding frames to movies: 100%|██████████████████████████████| 41/41 [00:07<00:00,  5.62it/s]\n"
     ]
    },
    {
     "name": "stdout",
     "output_type": "stream",
     "text": [
      "/home/cat/data/dan/id_switch/day/2020_07_30_19_25_43_717047_*cropped*.mp4\n",
      "fname found:  /home/cat/data/dan/id_switch/day/2020_07_30_19_25_43_717047_compressed_defished_shrink_cropped.mp4\n"
     ]
    },
    {
     "name": "stderr",
     "output_type": "stream",
     "text": [
      "adding frames to movies: 100%|██████████████████████████████| 53/53 [00:08<00:00,  6.22it/s]"
     ]
    },
    {
     "name": "stdout",
     "output_type": "stream",
     "text": [
      "DONE...\n"
     ]
    },
    {
     "name": "stderr",
     "output_type": "stream",
     "text": [
      "\n"
     ]
    }
   ],
   "source": [
    "###################################################\n",
    "############ MAKE THE HYBRID VIDEO ################\n",
    "###################################################\n",
    "\n",
    "# make hybrid video\n",
    "make_hybrid_video(fnames_slp_list)"
   ]
  },
  {
   "cell_type": "code",
   "execution_count": 4,
   "metadata": {},
   "outputs": [
    {
     "name": "stderr",
     "output_type": "stream",
     "text": [
      "making deleted .slp file: 100%|███████████████████████████████| 5/5 [00:20<00:00,  4.18s/it]"
     ]
    },
    {
     "name": "stdout",
     "output_type": "stream",
     "text": [
      "Done...\n"
     ]
    },
    {
     "name": "stderr",
     "output_type": "stream",
     "text": [
      "\n"
     ]
    }
   ],
   "source": [
    "##############################################################\n",
    "################# CLEAN UP .SLP FILES ########################\n",
    "##############################################################\n",
    "\n",
    "#\n",
    "make_deleted_slp_files(fnames_slp_list)"
   ]
  },
  {
   "cell_type": "code",
   "execution_count": 5,
   "metadata": {},
   "outputs": [
    {
     "name": "stdout",
     "output_type": "stream",
     "text": [
      "Video(filename=/home/cat/data/dan/id_switch/day/hybrid_cropped.mp4, shape=(536, 700, 900, 3), backend=MediaVideo)\n",
      "DONE...\n"
     ]
    }
   ],
   "source": [
    "##############################################################\n",
    "################# MAKE HYBRID .SLP FILE ######################\n",
    "##############################################################\n",
    "\n",
    "#\n",
    "fname_hybrid_video = os.path.split(fnames_slp_list)[0]+'/hybrid_cropped.mp4'\n",
    "make_hybrid_slp(fnames_slp_list,\n",
    "                fname_hybrid_video)\n"
   ]
  },
  {
   "cell_type": "code",
   "execution_count": null,
   "metadata": {},
   "outputs": [],
   "source": []
  },
  {
   "cell_type": "code",
   "execution_count": null,
   "metadata": {},
   "outputs": [],
   "source": []
  },
  {
   "cell_type": "code",
   "execution_count": null,
   "metadata": {},
   "outputs": [],
   "source": []
  },
  {
   "cell_type": "code",
   "execution_count": 13,
   "metadata": {},
   "outputs": [
    {
     "name": "stdout",
     "output_type": "stream",
     "text": [
      "Video(filename=/home/cat/data/dan/merge_hybrid_slp/movie_hybrid.mp4, shape=(None, None, None, None), backend=MediaVideo)\n"
     ]
    },
    {
     "ename": "FileNotFoundError",
     "evalue": "Could not find /home/cat/data/dan/merge_hybrid_slp/cohort2_day.1000.slp",
     "output_type": "error",
     "traceback": [
      "\u001b[0;31m---------------------------------------------------------------------------\u001b[0m",
      "\u001b[0;31mFileNotFoundError\u001b[0m                         Traceback (most recent call last)",
      "Cell \u001b[0;32mIn[13], line 20\u001b[0m\n\u001b[1;32m     17\u001b[0m first_labels \u001b[38;5;241m=\u001b[39m \u001b[38;5;28;01mNone\u001b[39;00m\n\u001b[1;32m     19\u001b[0m \u001b[38;5;66;03m# Load saved labels.\u001b[39;00m\n\u001b[0;32m---> 20\u001b[0m labels \u001b[38;5;241m=\u001b[39m \u001b[43msleap\u001b[49m\u001b[38;5;241;43m.\u001b[39;49m\u001b[43mload_file\u001b[49m\u001b[43m(\u001b[49m\u001b[43mslp_file\u001b[49m\u001b[43m,\u001b[49m\u001b[43m \u001b[49m\u001b[43mmatch_to\u001b[49m\u001b[38;5;241;43m=\u001b[39;49m\u001b[43mfirst_labels\u001b[49m\u001b[43m)\u001b[49m\n\u001b[1;32m     21\u001b[0m \u001b[38;5;28;01mif\u001b[39;00m first_labels \u001b[38;5;129;01mis\u001b[39;00m \u001b[38;5;28;01mNone\u001b[39;00m:\n\u001b[1;32m     22\u001b[0m     first_labels \u001b[38;5;241m=\u001b[39m labels\n",
      "File \u001b[0;32m~/.local/lib/python3.10/site-packages/sleap/io/dataset.py:2681\u001b[0m, in \u001b[0;36mload_file\u001b[0;34m(filename, detect_videos, search_paths, match_to)\u001b[0m\n\u001b[1;32m   2679\u001b[0m     \u001b[38;5;28;01mif\u001b[39;00m search_paths \u001b[38;5;129;01mis\u001b[39;00m \u001b[38;5;28;01mNone\u001b[39;00m:\n\u001b[1;32m   2680\u001b[0m         search_paths \u001b[38;5;241m=\u001b[39m os\u001b[38;5;241m.\u001b[39mpath\u001b[38;5;241m.\u001b[39mdirname(filename)\n\u001b[0;32m-> 2681\u001b[0m     \u001b[38;5;28;01mreturn\u001b[39;00m \u001b[43mLabels\u001b[49m\u001b[38;5;241;43m.\u001b[39;49m\u001b[43mload_file\u001b[49m\u001b[43m(\u001b[49m\u001b[43mfilename\u001b[49m\u001b[43m,\u001b[49m\u001b[43m \u001b[49m\u001b[43msearch_paths\u001b[49m\u001b[43m,\u001b[49m\u001b[43m \u001b[49m\u001b[43mmatch_to\u001b[49m\u001b[38;5;241;43m=\u001b[39;49m\u001b[43mmatch_to\u001b[49m\u001b[43m)\u001b[49m\n\u001b[1;32m   2682\u001b[0m \u001b[38;5;28;01melse\u001b[39;00m:\n\u001b[1;32m   2683\u001b[0m     \u001b[38;5;28;01mreturn\u001b[39;00m Labels\u001b[38;5;241m.\u001b[39mload_file(filename, match_to\u001b[38;5;241m=\u001b[39mmatch_to)\n",
      "File \u001b[0;32m~/.local/lib/python3.10/site-packages/sleap/io/dataset.py:1949\u001b[0m, in \u001b[0;36mLabels.load_file\u001b[0;34m(cls, filename, video_search, *args, **kwargs)\u001b[0m\n\u001b[1;32m   1946\u001b[0m \u001b[38;5;124;03m\"\"\"Load file, detecting format from filename.\"\"\"\u001b[39;00m\n\u001b[1;32m   1947\u001b[0m \u001b[38;5;28;01mfrom\u001b[39;00m \u001b[38;5;21;01m.\u001b[39;00m\u001b[38;5;21;01mformat\u001b[39;00m \u001b[38;5;28;01mimport\u001b[39;00m read\n\u001b[0;32m-> 1949\u001b[0m \u001b[38;5;28;01mreturn\u001b[39;00m \u001b[43mread\u001b[49m\u001b[43m(\u001b[49m\n\u001b[1;32m   1950\u001b[0m \u001b[43m    \u001b[49m\u001b[43mfilename\u001b[49m\u001b[43m,\u001b[49m\u001b[43m \u001b[49m\u001b[43mfor_object\u001b[49m\u001b[38;5;241;43m=\u001b[39;49m\u001b[38;5;124;43m\"\u001b[39;49m\u001b[38;5;124;43mlabels\u001b[39;49m\u001b[38;5;124;43m\"\u001b[39;49m\u001b[43m,\u001b[49m\u001b[43m \u001b[49m\u001b[43mvideo_search\u001b[49m\u001b[38;5;241;43m=\u001b[39;49m\u001b[43mvideo_search\u001b[49m\u001b[43m,\u001b[49m\u001b[43m \u001b[49m\u001b[38;5;241;43m*\u001b[39;49m\u001b[43margs\u001b[49m\u001b[43m,\u001b[49m\u001b[43m \u001b[49m\u001b[38;5;241;43m*\u001b[39;49m\u001b[38;5;241;43m*\u001b[39;49m\u001b[43mkwargs\u001b[49m\n\u001b[1;32m   1951\u001b[0m \u001b[43m\u001b[49m\u001b[43m)\u001b[49m\n",
      "File \u001b[0;32m~/.local/lib/python3.10/site-packages/sleap/io/format/main.py:113\u001b[0m, in \u001b[0;36mread\u001b[0;34m(filename, for_object, as_format, *args, **kwargs)\u001b[0m\n\u001b[1;32m    109\u001b[0m             \u001b[38;5;66;03m# print(f\"[registering format adaptor for {format_name}]\")\u001b[39;00m\n\u001b[1;32m    110\u001b[0m     \u001b[38;5;28;01melse\u001b[39;00m:\n\u001b[1;32m    111\u001b[0m         disp\u001b[38;5;241m.\u001b[39mregister_list(default_labels_adaptors)\n\u001b[0;32m--> 113\u001b[0m     \u001b[38;5;28;01mreturn\u001b[39;00m \u001b[43mdisp\u001b[49m\u001b[38;5;241;43m.\u001b[39;49m\u001b[43mread\u001b[49m\u001b[43m(\u001b[49m\u001b[43mfilename\u001b[49m\u001b[43m,\u001b[49m\u001b[43m \u001b[49m\u001b[38;5;241;43m*\u001b[39;49m\u001b[43margs\u001b[49m\u001b[43m,\u001b[49m\u001b[43m \u001b[49m\u001b[38;5;241;43m*\u001b[39;49m\u001b[38;5;241;43m*\u001b[39;49m\u001b[43mkwargs\u001b[49m\u001b[43m)\u001b[49m\n\u001b[1;32m    115\u001b[0m \u001b[38;5;28;01mraise\u001b[39;00m \u001b[38;5;167;01mNotImplementedError\u001b[39;00m(\u001b[38;5;124m\"\u001b[39m\u001b[38;5;124mNo adaptors for this object type.\u001b[39m\u001b[38;5;124m\"\u001b[39m)\n",
      "File \u001b[0;32m~/.local/lib/python3.10/site-packages/sleap/io/format/dispatch.py:53\u001b[0m, in \u001b[0;36mDispatch.read\u001b[0;34m(self, filename, *args, **kwargs)\u001b[0m\n\u001b[1;32m     50\u001b[0m \u001b[38;5;28;01mdef\u001b[39;00m \u001b[38;5;21mread\u001b[39m(\u001b[38;5;28mself\u001b[39m, filename: \u001b[38;5;28mstr\u001b[39m, \u001b[38;5;241m*\u001b[39margs, \u001b[38;5;241m*\u001b[39m\u001b[38;5;241m*\u001b[39mkwargs) \u001b[38;5;241m-\u001b[39m\u001b[38;5;241m>\u001b[39m \u001b[38;5;28mobject\u001b[39m:\n\u001b[1;32m     51\u001b[0m     \u001b[38;5;124;03m\"\"\"Reads file and returns the deserialized object.\"\"\"\u001b[39;00m\n\u001b[0;32m---> 53\u001b[0m     \u001b[38;5;28;01mwith\u001b[39;00m \u001b[38;5;28mself\u001b[39m\u001b[38;5;241m.\u001b[39mopen(filename) \u001b[38;5;28;01mas\u001b[39;00m file:\n\u001b[1;32m     54\u001b[0m         \u001b[38;5;28;01mfor\u001b[39;00m adaptor \u001b[38;5;129;01min\u001b[39;00m \u001b[38;5;28mself\u001b[39m\u001b[38;5;241m.\u001b[39m_adaptors:\n\u001b[1;32m     55\u001b[0m             \u001b[38;5;28;01mif\u001b[39;00m adaptor\u001b[38;5;241m.\u001b[39mcan_read_file(file):\n",
      "File \u001b[0;32m~/.local/lib/python3.10/site-packages/sleap/io/format/filehandle.py:30\u001b[0m, in \u001b[0;36mFileHandle.__enter__\u001b[0;34m(self)\u001b[0m\n\u001b[1;32m     29\u001b[0m \u001b[38;5;28;01mdef\u001b[39;00m \u001b[38;5;21m__enter__\u001b[39m(\u001b[38;5;28mself\u001b[39m):\n\u001b[0;32m---> 30\u001b[0m     \u001b[38;5;28;43mself\u001b[39;49m\u001b[38;5;241;43m.\u001b[39;49m\u001b[43mopen\u001b[49m\u001b[43m(\u001b[49m\u001b[43m)\u001b[49m\n\u001b[1;32m     31\u001b[0m     \u001b[38;5;28;01mreturn\u001b[39;00m \u001b[38;5;28mself\u001b[39m\n",
      "File \u001b[0;32m~/.local/lib/python3.10/site-packages/sleap/io/format/filehandle.py:39\u001b[0m, in \u001b[0;36mFileHandle.open\u001b[0;34m(self)\u001b[0m\n\u001b[1;32m     37\u001b[0m \u001b[38;5;124;03m\"\"\"Opens the file (if it's not already open).\"\"\"\u001b[39;00m\n\u001b[1;32m     38\u001b[0m \u001b[38;5;28;01mif\u001b[39;00m \u001b[38;5;129;01mnot\u001b[39;00m os\u001b[38;5;241m.\u001b[39mpath\u001b[38;5;241m.\u001b[39mexists(\u001b[38;5;28mself\u001b[39m\u001b[38;5;241m.\u001b[39mfilename):\n\u001b[0;32m---> 39\u001b[0m     \u001b[38;5;28;01mraise\u001b[39;00m \u001b[38;5;167;01mFileNotFoundError\u001b[39;00m(\u001b[38;5;124mf\u001b[39m\u001b[38;5;124m\"\u001b[39m\u001b[38;5;124mCould not find \u001b[39m\u001b[38;5;132;01m{\u001b[39;00m\u001b[38;5;28mself\u001b[39m\u001b[38;5;241m.\u001b[39mfilename\u001b[38;5;132;01m}\u001b[39;00m\u001b[38;5;124m\"\u001b[39m)\n\u001b[1;32m     41\u001b[0m \u001b[38;5;28;01mif\u001b[39;00m \u001b[38;5;28mself\u001b[39m\u001b[38;5;241m.\u001b[39m_file \u001b[38;5;129;01mis\u001b[39;00m \u001b[38;5;28;01mNone\u001b[39;00m:\n\u001b[1;32m     42\u001b[0m     \u001b[38;5;28;01mtry\u001b[39;00m:\n",
      "\u001b[0;31mFileNotFoundError\u001b[0m: Could not find /home/cat/data/dan/merge_hybrid_slp/cohort2_day.1000.slp"
     ]
    }
   ],
   "source": [
    "#\n",
    "#merged_video = sleap.load_video(fname_hybrid_video)\n",
    "merged_video = sleap.load_video('/home/cat/data/dan/merge_hybrid_slp/movie_hybrid.mp4')\n",
    "merged_video = sleap.load_video('/home/cat/data/dan/id_switch/day/hybrid_cropped.mp4')\n",
    "#   \n",
    "print(merged_video)\n",
    "\n",
    "#\n",
    "slp_file = '/home/cat/data/dan/merge_hybrid_slp/cohort2_day.1000.slp'\n",
    "\n",
    "slp_filename_out = slp_file[:-4]+\"_deleted.slp\"\n",
    "\n",
    "n_frames = 0\n",
    "all_frames = []\n",
    "reference_tracks = {}\n",
    "\n",
    "first_labels = None\n",
    "\n",
    "# Load saved labels.\n",
    "labels = sleap.load_file(slp_file, match_to=first_labels)\n",
    "if first_labels is None:\n",
    "    first_labels = labels\n",
    "\n",
    "new_frames = []\n",
    "for i, lf in enumerate(labels):\n",
    "\n",
    "    # Update reference to merged video.\n",
    "    lf.video = merged_video\n",
    "\n",
    "    # Update frame index to the frame number within the merged video.\n",
    "    lf.frame_idx = n_frames + i\n",
    "\n",
    "    # Update the track reference to use the reference tracks to prevent duplication.\n",
    "    for instance in lf:\n",
    "        if instance.track is not None:\n",
    "            if instance.track.name in reference_tracks:\n",
    "                instance.track = reference_tracks[instance.track.name]\n",
    "            else:\n",
    "                reference_tracks[instance.track.name] = instance.track\n",
    "\n",
    "    # Append the labeled frame to the list of frames we're keeping from these labels.\n",
    "    new_frames.append(lf)\n",
    "\n",
    "all_frames.extend(new_frames)\n",
    "n_frames += len(new_frames)\n",
    "\n",
    "merged_labels = sleap.Labels(all_frames)\n",
    "\n",
    "# save stuff\n",
    "merged_labels.save(slp_filename_out)\n",
    "\n",
    "print(\"DONE...\")"
   ]
  },
  {
   "cell_type": "code",
   "execution_count": null,
   "metadata": {},
   "outputs": [],
   "source": []
  },
  {
   "cell_type": "code",
   "execution_count": null,
   "metadata": {},
   "outputs": [],
   "source": []
  },
  {
   "cell_type": "code",
   "execution_count": null,
   "metadata": {},
   "outputs": [],
   "source": []
  },
  {
   "cell_type": "code",
   "execution_count": null,
   "metadata": {},
   "outputs": [],
   "source": []
  },
  {
   "cell_type": "code",
   "execution_count": null,
   "metadata": {},
   "outputs": [],
   "source": []
  },
  {
   "cell_type": "code",
   "execution_count": null,
   "metadata": {},
   "outputs": [],
   "source": []
  },
  {
   "cell_type": "code",
   "execution_count": null,
   "metadata": {},
   "outputs": [],
   "source": []
  },
  {
   "cell_type": "code",
   "execution_count": null,
   "metadata": {},
   "outputs": [],
   "source": []
  },
  {
   "cell_type": "code",
   "execution_count": null,
   "metadata": {},
   "outputs": [],
   "source": []
  },
  {
   "cell_type": "code",
   "execution_count": null,
   "metadata": {},
   "outputs": [],
   "source": []
  },
  {
   "cell_type": "code",
   "execution_count": null,
   "metadata": {},
   "outputs": [],
   "source": []
  }
 ],
 "metadata": {
  "kernelspec": {
   "display_name": "Python 3",
   "language": "python",
   "name": "python3"
  },
  "language_info": {
   "codemirror_mode": {
    "name": "ipython",
    "version": 3
   },
   "file_extension": ".py",
   "mimetype": "text/x-python",
   "name": "python",
   "nbconvert_exporter": "python",
   "pygments_lexer": "ipython3",
   "version": "3.7.0"
  }
 },
 "nbformat": 4,
 "nbformat_minor": 4
}
