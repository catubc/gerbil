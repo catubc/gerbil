{
 "cells": [
  {
   "cell_type": "code",
   "execution_count": 9,
   "metadata": {},
   "outputs": [
    {
     "name": "stdout",
     "output_type": "stream",
     "text": [
      "The autoreload extension is already loaded. To reload it, use:\n",
      "  %reload_ext autoreload\n"
     ]
    },
    {
     "data": {
      "application/javascript": [
       "IPython.notebook.set_autosave_interval(180000)"
      ]
     },
     "metadata": {},
     "output_type": "display_data"
    },
    {
     "name": "stdout",
     "output_type": "stream",
     "text": [
      "Autosaving every 180 seconds\n"
     ]
    }
   ],
   "source": [
    "%load_ext autoreload\n",
    "%autoreload 2\n",
    "\n",
    "import matplotlib\n",
    "import matplotlib.pyplot as plt\n",
    "#matplotlib.use('Agg')\n",
    "#%matplotlib tk\n",
    "%autosave 180\n",
    "\n",
    "import sys\n",
    "sys.path.append('/home/cat/code/gerbil/utils/')\n",
    "\n",
    "#\n",
    "import numpy as np\n",
    "from tqdm import trange\n",
    "\n",
    "#\n",
    "from visualize import Visualize\n",
    "from track import (Track, detect_id_switch_parallel, \n",
    "                   find_id_switches, make_deleted_slp_files,\n",
    "                   make_hybrid_video, make_hybrid_slp,\n",
    "                   make_deleted_slp_files_human_labels)\n",
    "\n",
    "#\n",
    "import sleap\n",
    "\n",
    "#\n",
    "import cv2\n",
    "import os\n",
    "\n",
    "#\n",
    "from tqdm import tqdm\n",
    "import parmap\n",
    "\n",
    "#\n",
    "from track import make_human_label_only_slp, make_human_label_only_video"
   ]
  },
  {
   "cell_type": "code",
   "execution_count": 99,
   "metadata": {},
   "outputs": [
    {
     "name": "stdout",
     "output_type": "stream",
     "text": [
      "Video(filename=/home/cat/data/dan/merge_hybrid_slp/hybrid.avi, shape=(1001, 700, 900, 3), backend=MediaVideo)\n",
      "Labels:  Labels(labeled_frames=2402, videos=12, skeletons=1, tracks=6)\n",
      "...done...\n"
     ]
    }
   ],
   "source": [
    "################################################################\n",
    "######## MAKE SHORTENED .SLP FILE FROM HUMAN LABEL .SLP ########\n",
    "################################################################\n",
    "\n",
    "# load hybrid video (or placeholder until video is made)\n",
    "fname_merged_video = '/home/cat/data/dan/merge_hybrid_slp/hybrid.avi'\n",
    "\n",
    "# slp filename\n",
    "fname_slp = '/home/cat/data/dan/merge_hybrid_slp/cohort2_day.1000.slp'\n",
    "\n",
    "#\n",
    "make_human_label_only_slp(fname_merged_video,\n",
    "                          fname_slp)\n",
    "    "
   ]
  },
  {
   "cell_type": "code",
   "execution_count": 19,
   "metadata": {},
   "outputs": [
    {
     "name": "stdout",
     "output_type": "stream",
     "text": [
      "Fname hybrid movie:  /media/cat/4TBSSD/dan/id_switch/human_slp.avi\n"
     ]
    },
    {
     "name": "stderr",
     "output_type": "stream",
     "text": [
      "1001it [00:00, 15479.08it/s]"
     ]
    },
    {
     "name": "stdout",
     "output_type": "stream",
     "text": [
      "# of images saved  1001\n"
     ]
    },
    {
     "name": "stderr",
     "output_type": "stream",
     "text": [
      "\n"
     ]
    }
   ],
   "source": [
    "#############################################################\n",
    "############ MAKE HYBRID HUMAN LABELED VIDEO ################\n",
    "#############################################################\n",
    "\n",
    "#\n",
    "fname_idx = np.load('/media/cat/4TBSSD/dan/id_switch/human_frames_idx.npy')\n",
    "fnames_videos = np.load('/media/cat/4TBSSD/dan/id_switch/human_fnames.npy')\n",
    "\n",
    "# make hybrid video from indexes\n",
    "make_human_label_only_video(fname_idx, \n",
    "                            fnames_videos,\n",
    "                           '/media/cat/4TBSSD/dan/id_switch/human_slp.avi')\n",
    "\n",
    "# \n",
    "\n"
   ]
  },
  {
   "cell_type": "code",
   "execution_count": null,
   "metadata": {},
   "outputs": [],
   "source": []
  },
  {
   "cell_type": "code",
   "execution_count": null,
   "metadata": {},
   "outputs": [],
   "source": []
  },
  {
   "cell_type": "code",
   "execution_count": null,
   "metadata": {},
   "outputs": [],
   "source": []
  },
  {
   "cell_type": "code",
   "execution_count": null,
   "metadata": {},
   "outputs": [],
   "source": []
  },
  {
   "cell_type": "code",
   "execution_count": null,
   "metadata": {},
   "outputs": [],
   "source": []
  },
  {
   "cell_type": "code",
   "execution_count": null,
   "metadata": {},
   "outputs": [],
   "source": []
  },
  {
   "cell_type": "code",
   "execution_count": null,
   "metadata": {},
   "outputs": [],
   "source": []
  },
  {
   "cell_type": "code",
   "execution_count": null,
   "metadata": {},
   "outputs": [],
   "source": []
  },
  {
   "cell_type": "code",
   "execution_count": 7,
   "metadata": {},
   "outputs": [
    {
     "name": "stdout",
     "output_type": "stream",
     "text": [
      "(1001,)\n"
     ]
    }
   ],
   "source": [
    "d = np.load('/home/cat/data/dan/merge_hybrid_slp/cohort2_day.1000_deleted_fnames.npy')\n",
    "print (d.shape)"
   ]
  },
  {
   "cell_type": "code",
   "execution_count": 80,
   "metadata": {},
   "outputs": [
    {
     "name": "stdout",
     "output_type": "stream",
     "text": [
      "[Video(backend=MediaVideo(filename='/home/cat/data/dan/merge_hybrid_slp/2020_07_21_11_26_07_855478_compressed_corrected.mp4', grayscale=False, bgr=True, dataset='', input_format='')), Video(backend=MediaVideo(filename='/home/cat/data/dan/merge_hybrid_slp/2020_07_22_11_26_41_511545_compressed_corrected.mp4', grayscale=False, bgr=True, dataset='', input_format='')), Video(backend=MediaVideo(filename='/home/cat/data/dan/merge_hybrid_slp/2020_07_23_12_34_43_379948_compressed_corrected.mp4', grayscale=False, bgr=True, dataset='', input_format='')), Video(backend=MediaVideo(filename='/home/cat/data/dan/merge_hybrid_slp/2020_07_24_11_07_26_770344_compressed_corrected.mp4', grayscale=False, bgr=True, dataset='', input_format='')), Video(backend=MediaVideo(filename='/home/cat/data/dan/merge_hybrid_slp/2020_07_25_11_53_43_289403_compressed_corrected.mp4', grayscale=False, bgr=True, dataset='', input_format='')), Video(backend=MediaVideo(filename='/home/cat/data/dan/merge_hybrid_slp/2020_07_26_11_33_46_565149_compressed_corrected.mp4', grayscale=False, bgr=True, dataset='', input_format='')), Video(backend=MediaVideo(filename='/home/cat/data/dan/merge_hybrid_slp/2020_07_27_19_21_59_379709_compressed_corrected.mp4', grayscale=False, bgr=True, dataset='', input_format='')), Video(backend=MediaVideo(filename='/home/cat/data/dan/merge_hybrid_slp/2020_07_28_11_38_02_143208_compressed_corrected.mp4', grayscale=False, bgr=True, dataset='', input_format='')), Video(backend=MediaVideo(filename='/home/cat/data/dan/merge_hybrid_slp/2020_07_29_11_36_24_541088_compressed_corrected.mp4', grayscale=False, bgr=True, dataset='', input_format='')), Video(backend=MediaVideo(filename='/home/cat/data/dan/merge_hybrid_slp/2020_07_30_11_30_11_732262_compressed_corrected.mp4', grayscale=False, bgr=True, dataset='', input_format='')), Video(backend=MediaVideo(filename='/home/cat/data/dan/merge_hybrid_slp/2020_07_31_11_22_34_209876_compressed_corrected.mp4', grayscale=False, bgr=True, dataset='', input_format='')), Video(backend=MediaVideo(filename='/home/cat/data/dan/merge_hybrid_slp/2020_08_01_11_27_15_857870_compressed_corrected.mp4', grayscale=False, bgr=True, dataset='', input_format=''))]\n"
     ]
    }
   ],
   "source": [
    "labels = sleap.load_file('/home/cat/data/dan/merge_hybrid_slp/cohort2_day.1000.slp')\n",
    "print (labels.videos)"
   ]
  },
  {
   "cell_type": "code",
   "execution_count": 81,
   "metadata": {},
   "outputs": [
    {
     "name": "stdout",
     "output_type": "stream",
     "text": [
      "['/home/cat/data/dan/merge_hybrid_slp/2020_07_29_11_36_24_541088_compressed_corrected.mp4'\n",
      " '/home/cat/data/dan/merge_hybrid_slp/2020_07_29_11_36_24_541088_compressed_corrected.mp4'\n",
      " '/home/cat/data/dan/merge_hybrid_slp/2020_07_29_11_36_24_541088_compressed_corrected.mp4'\n",
      " '/home/cat/data/dan/merge_hybrid_slp/2020_07_29_11_36_24_541088_compressed_corrected.mp4'\n",
      " '/home/cat/data/dan/merge_hybrid_slp/2020_07_29_11_36_24_541088_compressed_corrected.mp4'\n",
      " '/home/cat/data/dan/merge_hybrid_slp/2020_07_29_11_36_24_541088_compressed_corrected.mp4'\n",
      " '/home/cat/data/dan/merge_hybrid_slp/2020_07_29_11_36_24_541088_compressed_corrected.mp4'\n",
      " '/home/cat/data/dan/merge_hybrid_slp/2020_07_29_11_36_24_541088_compressed_corrected.mp4'\n",
      " '/home/cat/data/dan/merge_hybrid_slp/2020_07_30_11_30_11_732262_compressed_corrected.mp4'\n",
      " '/home/cat/data/dan/merge_hybrid_slp/2020_07_30_11_30_11_732262_compressed_corrected.mp4'\n",
      " '/home/cat/data/dan/merge_hybrid_slp/2020_07_30_11_30_11_732262_compressed_corrected.mp4'\n",
      " '/home/cat/data/dan/merge_hybrid_slp/2020_07_30_11_30_11_732262_compressed_corrected.mp4'\n",
      " '/home/cat/data/dan/merge_hybrid_slp/2020_07_30_11_30_11_732262_compressed_corrected.mp4'\n",
      " '/home/cat/data/dan/merge_hybrid_slp/2020_07_31_11_22_34_209876_compressed_corrected.mp4'\n",
      " '/home/cat/data/dan/merge_hybrid_slp/2020_07_31_11_22_34_209876_compressed_corrected.mp4'\n",
      " '/home/cat/data/dan/merge_hybrid_slp/2020_07_31_11_22_34_209876_compressed_corrected.mp4'\n",
      " '/home/cat/data/dan/merge_hybrid_slp/2020_07_31_11_22_34_209876_compressed_corrected.mp4'\n",
      " '/home/cat/data/dan/merge_hybrid_slp/2020_07_31_11_22_34_209876_compressed_corrected.mp4'\n",
      " '/home/cat/data/dan/merge_hybrid_slp/2020_07_31_11_22_34_209876_compressed_corrected.mp4'\n",
      " '/home/cat/data/dan/merge_hybrid_slp/2020_07_31_11_22_34_209876_compressed_corrected.mp4'\n",
      " '/home/cat/data/dan/merge_hybrid_slp/2020_07_31_11_22_34_209876_compressed_corrected.mp4'\n",
      " '/home/cat/data/dan/merge_hybrid_slp/2020_08_01_11_27_15_857870_compressed_corrected.mp4'\n",
      " '/home/cat/data/dan/merge_hybrid_slp/2020_08_01_11_27_15_857870_compressed_corrected.mp4'\n",
      " '/home/cat/data/dan/merge_hybrid_slp/2020_08_01_11_27_15_857870_compressed_corrected.mp4'\n",
      " '/home/cat/data/dan/merge_hybrid_slp/2020_08_01_11_27_15_857870_compressed_corrected.mp4']\n"
     ]
    }
   ],
   "source": [
    "d = np.load('/home/cat/data/dan/merge_hybrid_slp/hybrid_fnames.npy')\n",
    "print (d[:25])"
   ]
  },
  {
   "cell_type": "code",
   "execution_count": null,
   "metadata": {},
   "outputs": [],
   "source": []
  },
  {
   "cell_type": "code",
   "execution_count": null,
   "metadata": {},
   "outputs": [],
   "source": []
  },
  {
   "cell_type": "code",
   "execution_count": null,
   "metadata": {},
   "outputs": [],
   "source": []
  },
  {
   "cell_type": "code",
   "execution_count": 21,
   "metadata": {},
   "outputs": [
    {
     "data": {
      "text/plain": [
       "[Instance(video=Video(filename=/home/cat/code/sleap/cohort2/day/2020_07_29_11_36_24_541088_compressed_corrected.mp4, shape=(None, None, None, None), backend=MediaVideo), frame_idx=0, points=[nose: (408.9, 343.6), spine1: (431.6, 357.6), spine2: (459.1, 362.0), spine3: (489.8, 362.6), spine4: (520.0, 361.8), spine5: (546.6, 362.7)], track=Track(spawned_on=0, name='male')),\n",
       " Instance(video=Video(filename=/home/cat/code/sleap/cohort2/day/2020_07_29_11_36_24_541088_compressed_corrected.mp4, shape=(None, None, None, None), backend=MediaVideo), frame_idx=0, points=[nose: (703.2, 511.3), spine1: (739.6, 528.7), spine2: (766.3, 542.4), spine3: (789.6, 545.7), spine4: (803.2, 531.5), spine5: (802.1, 510.7)], track=Track(spawned_on=0, name='female')),\n",
       " Instance(video=Video(filename=/home/cat/code/sleap/cohort2/day/2020_07_29_11_36_24_541088_compressed_corrected.mp4, shape=(None, None, None, None), backend=MediaVideo), frame_idx=0, points=[nose: (632.9, 318.0), spine1: (655.7, 296.2), spine2: (669.7, 281.9), spine3: (686.9, 270.3), spine4: (704.9, 268.2), spine5: (719.7, 278.5)], track=Track(spawned_on=0, name='pup3')),\n",
       " Instance(video=Video(filename=/home/cat/code/sleap/cohort2/day/2020_07_29_11_36_24_541088_compressed_corrected.mp4, shape=(None, None, None, None), backend=MediaVideo), frame_idx=0, points=[nose: (739.2, 262.4), spine1: (733.4, 227.3), spine2: (727.6, 211.5), spine3: (717.7, 195.1), spine4: (705.7, 181.0), spine5: (689.5, 171.5)], track=Track(spawned_on=0, name='pup1')),\n",
       " Instance(video=Video(filename=/home/cat/code/sleap/cohort2/day/2020_07_29_11_36_24_541088_compressed_corrected.mp4, shape=(None, None, None, None), backend=MediaVideo), frame_idx=0, points=[nose: (876.0, 281.6), spine1: (866.3, 303.0), spine2: (855.3, 324.4), spine3: (832.8, 339.6), spine4: (803.2, 343.3), spine5: (780.0, 321.6)], track=Track(spawned_on=0, name='pup4')),\n",
       " Instance(video=Video(filename=/home/cat/code/sleap/cohort2/day/2020_07_29_11_36_24_541088_compressed_corrected.mp4, shape=(None, None, None, None), backend=MediaVideo), frame_idx=0, points=[nose: (731.9, 150.8), spine1: (765.0, 170.0), spine2: (773.6, 179.7), spine3: (779.5, 193.8), spine4: (784.9, 212.2), spine5: (784.2, 237.5)], track=Track(spawned_on=0, name='pup2'))]"
      ]
     },
     "execution_count": 21,
     "metadata": {},
     "output_type": "execute_result"
    }
   ],
   "source": [
    "lf.user_instances"
   ]
  },
  {
   "cell_type": "code",
   "execution_count": null,
   "metadata": {},
   "outputs": [],
   "source": []
  },
  {
   "cell_type": "code",
   "execution_count": null,
   "metadata": {},
   "outputs": [],
   "source": []
  },
  {
   "cell_type": "code",
   "execution_count": null,
   "metadata": {},
   "outputs": [],
   "source": []
  },
  {
   "cell_type": "code",
   "execution_count": null,
   "metadata": {},
   "outputs": [],
   "source": []
  },
  {
   "cell_type": "code",
   "execution_count": null,
   "metadata": {},
   "outputs": [],
   "source": [
    "\n",
    "fname = \"/media/cat/256GB/dan/testing_track_cleanup_code/cohort2_night_1000/videos/cohort2_night.1000.slp\"\n",
    "labels = sleap.load_file(fname)\n",
    "\n",
    "labels.videos  # Use in ipython to print list of videos in the labels object\n",
    "n_videos = len(labels.videos)\n",
    "\n",
    "#\n",
    "#huddle_location = np.array([150,150])\n",
    "#min_dist = 100\n",
    "huddle_block = np.array([200,\n",
    "                         200])\n",
    "\n",
    "\n",
    "#\n",
    "n_all=0\n",
    "for video_idx in trange(n_videos):\n",
    "    #video_idx =   # Change this select the video of interest from the labels.video list\n",
    "    video = labels.videos[video_idx]\n",
    "    labeled_frames_from_video = labels.get(video)\n",
    "\n",
    "    # Loop through all labeled frames (from a specific video)\n",
    "    n_frames = 0\n",
    "    for ctr1, lf in enumerate(labeled_frames_from_video):\n",
    "\n",
    "        # Loop through all user instances in the current labeled frame\n",
    "        for ctr2, inst in enumerate(lf.user_instances):\n",
    "\n",
    "            #\n",
    "            remove_inst = False\n",
    "            points_array = inst.points_array  # Returns a (num_nodes, 2) np.recarray\n",
    "\n",
    "            # SQUARE EXCLUDE this checks for any features at all in the exclusion radius\n",
    "            if True:\n",
    "                idx = np.where(np.isnan(points_array.sum(1))==False)[0]\n",
    "                points_array = points_array[idx]\n",
    "                \n",
    "                # check the x and y locatoins\n",
    "                idx1 = np.where(points_array[:,0]<huddle_block[0])[0]\n",
    "                idx2 = np.where(points_array[:,1]<huddle_block[1])[0]\n",
    "                \n",
    "                # if any point is in both lists then it's in the huddle zone\n",
    "                if set(idx1) & set(idx2):\n",
    "                    lf.instances.remove(inst)\n",
    "                    #\n",
    "                #dist = np.linalg.norm(points_array-huddle_location, axis=1)\n",
    "                #dist = np.min(dist)\n",
    "\n",
    "\n",
    "            #print ('')\n",
    "\n",
    "# Save the modified slp\n",
    "new_filename = fname[:-4]+\"_deleted.slp\"  # Use a different path from the current slp to be safe\n",
    "labels.save_file(labels, new_filename)\n",
    "            "
   ]
  },
  {
   "cell_type": "code",
   "execution_count": null,
   "metadata": {},
   "outputs": [],
   "source": []
  },
  {
   "cell_type": "code",
   "execution_count": null,
   "metadata": {},
   "outputs": [],
   "source": []
  },
  {
   "cell_type": "code",
   "execution_count": null,
   "metadata": {},
   "outputs": [],
   "source": []
  },
  {
   "cell_type": "code",
   "execution_count": null,
   "metadata": {},
   "outputs": [],
   "source": []
  },
  {
   "cell_type": "code",
   "execution_count": 20,
   "metadata": {
    "tags": []
   },
   "outputs": [
    {
     "name": "stdout",
     "output_type": "stream",
     "text": [
      "Fname hybrid movie:  /media/cat/4TB/dan/id_switch/day/hybrid_cropped.mp4\n",
      "fname found:  /media/cat/4TB/dan/id_switch/day/2020_07_30_07_58_21_812233_compressed_defished_shrink_cropped.mp4\n"
     ]
    },
    {
     "name": "stderr",
     "output_type": "stream",
     "text": [
      "adding frames to movies: 100%|██████████| 10/10 [00:01<00:00,  8.43it/s]\n"
     ]
    },
    {
     "name": "stdout",
     "output_type": "stream",
     "text": [
      "fname found:  /media/cat/4TB/dan/id_switch/day/2020_07_30_11_06_03_274369_compressed_defished_shrink_cropped.mp4\n"
     ]
    },
    {
     "name": "stderr",
     "output_type": "stream",
     "text": [
      "adding frames to movies: 100%|██████████| 67/67 [00:07<00:00,  9.09it/s]\n"
     ]
    },
    {
     "name": "stdout",
     "output_type": "stream",
     "text": [
      "fname found:  /media/cat/4TB/dan/id_switch/day/2020_07_30_14_11_50_567584_compressed_defished_shrink_cropped.mp4\n"
     ]
    },
    {
     "name": "stderr",
     "output_type": "stream",
     "text": [
      "adding frames to movies: 100%|██████████| 97/97 [00:10<00:00,  9.00it/s]\n"
     ]
    },
    {
     "name": "stdout",
     "output_type": "stream",
     "text": [
      "fname found:  /media/cat/4TB/dan/id_switch/day/2020_07_30_17_34_43_625922_compressed_defished_shrink_cropped.mp4\n"
     ]
    },
    {
     "name": "stderr",
     "output_type": "stream",
     "text": [
      "adding frames to movies: 100%|██████████| 41/41 [00:04<00:00,  8.67it/s]\n"
     ]
    },
    {
     "name": "stdout",
     "output_type": "stream",
     "text": [
      "fname found:  /media/cat/4TB/dan/id_switch/day/2020_07_30_19_25_43_717047_compressed_defished_shrink_cropped.mp4\n"
     ]
    },
    {
     "name": "stderr",
     "output_type": "stream",
     "text": [
      "adding frames to movies: 100%|██████████| 53/53 [00:05<00:00,  9.29it/s]"
     ]
    },
    {
     "name": "stdout",
     "output_type": "stream",
     "text": [
      "DONE...\n"
     ]
    },
    {
     "name": "stderr",
     "output_type": "stream",
     "text": [
      "\n"
     ]
    }
   ],
   "source": [
    "###################################################\n",
    "############ MAKE THE HYBRID VIDEO ################\n",
    "###################################################\n",
    "\n",
    "# make hybrid video\n",
    "make_hybrid_video(fnames_slp_list)"
   ]
  },
  {
   "cell_type": "code",
   "execution_count": 13,
   "metadata": {},
   "outputs": [
    {
     "name": "stderr",
     "output_type": "stream",
     "text": [
      "making deleted .slp file:  20%|██        | 1/5 [00:03<00:15,  3.84s/it]"
     ]
    },
    {
     "name": "stdout",
     "output_type": "stream",
     "text": [
      "Done...\n"
     ]
    },
    {
     "name": "stderr",
     "output_type": "stream",
     "text": [
      "making deleted .slp file:  40%|████      | 2/5 [00:09<00:14,  4.99s/it]"
     ]
    },
    {
     "name": "stdout",
     "output_type": "stream",
     "text": [
      "Done...\n"
     ]
    },
    {
     "name": "stderr",
     "output_type": "stream",
     "text": [
      "making deleted .slp file:  60%|██████    | 3/5 [00:14<00:09,  4.96s/it]"
     ]
    },
    {
     "name": "stdout",
     "output_type": "stream",
     "text": [
      "Done...\n"
     ]
    },
    {
     "name": "stderr",
     "output_type": "stream",
     "text": [
      "making deleted .slp file:  80%|████████  | 4/5 [00:19<00:04,  4.76s/it]"
     ]
    },
    {
     "name": "stdout",
     "output_type": "stream",
     "text": [
      "Done...\n"
     ]
    },
    {
     "name": "stderr",
     "output_type": "stream",
     "text": [
      "making deleted .slp file: 100%|██████████| 5/5 [00:24<00:00,  4.91s/it]"
     ]
    },
    {
     "name": "stdout",
     "output_type": "stream",
     "text": [
      "Done...\n"
     ]
    },
    {
     "name": "stderr",
     "output_type": "stream",
     "text": [
      "\n"
     ]
    }
   ],
   "source": [
    "##############################################################\n",
    "################# CLEAN UP .SLP FILES ########################\n",
    "##############################################################\n",
    "\n",
    "#\n",
    "make_deleted_slp_files(fnames_slp_list)"
   ]
  },
  {
   "cell_type": "code",
   "execution_count": 23,
   "metadata": {},
   "outputs": [
    {
     "name": "stdout",
     "output_type": "stream",
     "text": [
      "Video(filename=/media/cat/4TB/dan/id_switch/day/hybrid_cropped.mp4, shape=(536, 700, 900, 3), backend=MediaVideo)\n",
      "DONE...\n"
     ]
    }
   ],
   "source": [
    "##############################################################\n",
    "################# MAKE HYBRID .SLP FILE ######################\n",
    "##############################################################\n",
    "\n",
    "#\n",
    "fname_hybrid_video = os.path.split(fnames_slp_list)[0]+'/hybrid_cropped.mp4'\n",
    "make_hybrid_slp(fnames_slp_list,\n",
    "                fname_hybrid_video)\n"
   ]
  },
  {
   "cell_type": "code",
   "execution_count": null,
   "metadata": {},
   "outputs": [],
   "source": []
  },
  {
   "cell_type": "code",
   "execution_count": null,
   "metadata": {},
   "outputs": [],
   "source": []
  },
  {
   "cell_type": "code",
   "execution_count": null,
   "metadata": {},
   "outputs": [],
   "source": []
  },
  {
   "cell_type": "code",
   "execution_count": null,
   "metadata": {},
   "outputs": [],
   "source": []
  },
  {
   "cell_type": "code",
   "execution_count": null,
   "metadata": {},
   "outputs": [],
   "source": []
  },
  {
   "cell_type": "code",
   "execution_count": null,
   "metadata": {},
   "outputs": [],
   "source": []
  },
  {
   "cell_type": "code",
   "execution_count": null,
   "metadata": {},
   "outputs": [],
   "source": []
  },
  {
   "cell_type": "code",
   "execution_count": null,
   "metadata": {},
   "outputs": [],
   "source": []
  },
  {
   "cell_type": "code",
   "execution_count": null,
   "metadata": {},
   "outputs": [],
   "source": []
  },
  {
   "cell_type": "code",
   "execution_count": null,
   "metadata": {},
   "outputs": [],
   "source": []
  },
  {
   "cell_type": "code",
   "execution_count": null,
   "metadata": {},
   "outputs": [],
   "source": []
  },
  {
   "cell_type": "code",
   "execution_count": null,
   "metadata": {},
   "outputs": [],
   "source": []
  }
 ],
 "metadata": {
  "kernelspec": {
   "display_name": "Python 3",
   "language": "python",
   "name": "python3"
  },
  "language_info": {
   "codemirror_mode": {
    "name": "ipython",
    "version": 3
   },
   "file_extension": ".py",
   "mimetype": "text/x-python",
   "name": "python",
   "nbconvert_exporter": "python",
   "pygments_lexer": "ipython3",
   "version": "3.7.0"
  }
 },
 "nbformat": 4,
 "nbformat_minor": 4
}
