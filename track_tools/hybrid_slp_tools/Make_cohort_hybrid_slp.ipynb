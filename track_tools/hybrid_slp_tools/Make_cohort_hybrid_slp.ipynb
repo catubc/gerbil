{
 "cells": [
  {
   "cell_type": "code",
   "execution_count": 1,
   "metadata": {},
   "outputs": [
    {
     "data": {
      "application/javascript": [
       "IPython.notebook.set_autosave_interval(180000)"
      ]
     },
     "metadata": {},
     "output_type": "display_data"
    },
    {
     "name": "stdout",
     "output_type": "stream",
     "text": [
      "Autosaving every 180 seconds\n"
     ]
    }
   ],
   "source": [
    "%load_ext autoreload\n",
    "%autoreload 2\n",
    "\n",
    "import matplotlib\n",
    "import matplotlib.pyplot as plt\n",
    "#matplotlib.use('Agg')\n",
    "#%matplotlib tk\n",
    "%autosave 180\n",
    "\n",
    "import sys\n",
    "sys.path.append('/home/cat/code/gerbil/utils/')\n",
    "\n",
    "#\n",
    "import numpy as np\n",
    "from tqdm import trange\n",
    "\n",
    "#\n",
    "from visualize import Visualize\n",
    "\n",
    "\n",
    "#\n",
    "import sleap\n",
    "\n",
    "#\n",
    "import cv2\n",
    "import os\n",
    "\n",
    "#\n",
    "from tqdm import tqdm\n",
    "import parmap\n",
    "\n",
    "#\n",
    "import pandas as pd\n",
    "\n",
    "#\n",
    "from track import make_human_label_only_slp, make_human_label_only_video"
   ]
  },
  {
   "cell_type": "code",
   "execution_count": 13,
   "metadata": {},
   "outputs": [
    {
     "name": "stdout",
     "output_type": "stream",
     "text": [
      "\n",
      "running .slp preprocessing and id_switch detection ...\n"
     ]
    },
    {
     "name": "stderr",
     "output_type": "stream",
     "text": [
      "100%|██████████| 5/5 [00:00<00:00, 14523.21it/s]"
     ]
    },
    {
     "name": "stdout",
     "output_type": "stream",
     "text": [
      "\n",
      "making shortened id_switch .slp files...\n"
     ]
    },
    {
     "name": "stderr",
     "output_type": "stream",
     "text": [
      "\n",
      "100%|██████████| 5/5 [00:00<00:00, 39199.10it/s]\n"
     ]
    },
    {
     "name": "stdout",
     "output_type": "stream",
     "text": [
      "\n",
      "making shortened id_switch video file...\n",
      "    movie already generated... exiting\n",
      "    hybrid file already exists...exiting\n",
      "   video already exists ... exiting\n",
      "Video(filename=/media/cat/4TBSSD/dan/id_switch/merged.avi, shape=(1045, 700, 900, 3), backend=MediaVideo)\n",
      "slp ctrl:  0\n",
      "slp ctrl:  1\n",
      "slp ctrl:  10\n",
      "slp ctrl:  11\n",
      "slp ctrl:  20\n",
      "slp ctrl:  21\n",
      "slp ctrl:  30\n",
      "slp ctrl:  31\n",
      "slp ctrl:  40\n",
      "slp ctrl:  41\n",
      "slp ctrl:  50\n",
      "slp ctrl:  51\n",
      "slp ctrl:  60\n",
      "slp ctrl:  61\n",
      "slp ctrl:  70\n",
      "slp ctrl:  71\n",
      "slp ctrl:  80\n",
      "slp ctrl:  81\n",
      "slp ctrl:  90\n",
      "slp ctrl:  91\n",
      "slp ctrl:  100\n",
      "slp ctrl:  101\n",
      "slp ctrl:  110\n",
      "slp ctrl:  111\n",
      "slp ctrl:  120\n",
      "slp ctrl:  121\n",
      "slp ctrl:  130\n",
      "slp ctrl:  131\n",
      "slp ctrl:  140\n",
      "slp ctrl:  141\n",
      "slp ctrl:  150\n",
      "slp ctrl:  151\n",
      "slp ctrl:  160\n",
      "slp ctrl:  161\n",
      "slp ctrl:  170\n",
      "slp ctrl:  171\n",
      "slp ctrl:  180\n",
      "slp ctrl:  181\n",
      "slp ctrl:  190\n",
      "slp ctrl:  191\n",
      "slp ctrl:  200\n",
      "slp ctrl:  201\n",
      "slp ctrl:  210\n",
      "slp ctrl:  211\n",
      "processing:  /media/cat/4TBSSD/dan/id_switch/human_labels.avi\n",
      "processing:  /media/cat/4TBSSD/dan/id_switch/id_switches_cropped.mp4\n",
      "done...\n",
      "DONE...\n"
     ]
    }
   ],
   "source": [
    "################################################################\n",
    "########### SET FNAMES FOR HUMAN AND ID SWITCH FILES ###########\n",
    "################################################################\n",
    "from track import DatabaseLoader\n",
    "\n",
    "#\n",
    "root_dir = '/media/cat/4TBSSD/dan/id_switch/'\n",
    "fname_database = 'database.xlsx'\n",
    "human_slp_dir = 'human_labels'\n",
    "input_dir = 'input_dir'\n",
    "n_cores = 5\n",
    "network_type = \"Day\"   # \"Day\" or \"Night\"\n",
    "\n",
    "# load database class\n",
    "d = DatabaseLoader(root_dir + fname_database,\n",
    "                   network_type )\n",
    "d.root_dir = root_dir\n",
    "d.human_slp_dir = human_slp_dir\n",
    "d.input_dir = input_dir\n",
    "d.n_cores = n_cores\n",
    "\n",
    "# make id switch files over all files in /input_dir/ and database.xlsx \n",
    "d.make_id_switch_files()\n",
    "\n",
    "# process the human labeled .slp file to short version\n",
    "d.fname_slp_human_labels = 'cohort2_day.1000.slp'\n",
    "d.clean_human_slp()\n",
    "\n",
    "# merge the id switch and human files\n",
    "d.subsample=10\n",
    "d.merge_human_and_id_switches()\n",
    "\n",
    "print (\"DONE...\")\n"
   ]
  },
  {
   "cell_type": "code",
   "execution_count": null,
   "metadata": {},
   "outputs": [],
   "source": []
  },
  {
   "cell_type": "code",
   "execution_count": null,
   "metadata": {},
   "outputs": [],
   "source": []
  },
  {
   "cell_type": "code",
   "execution_count": null,
   "metadata": {},
   "outputs": [],
   "source": []
  },
  {
   "cell_type": "code",
   "execution_count": null,
   "metadata": {},
   "outputs": [],
   "source": []
  },
  {
   "cell_type": "code",
   "execution_count": null,
   "metadata": {},
   "outputs": [],
   "source": []
  },
  {
   "cell_type": "code",
   "execution_count": null,
   "metadata": {},
   "outputs": [],
   "source": []
  },
  {
   "cell_type": "code",
   "execution_count": null,
   "metadata": {},
   "outputs": [],
   "source": []
  },
  {
   "cell_type": "code",
   "execution_count": null,
   "metadata": {},
   "outputs": [],
   "source": []
  },
  {
   "cell_type": "code",
   "execution_count": null,
   "metadata": {},
   "outputs": [],
   "source": []
  },
  {
   "cell_type": "code",
   "execution_count": null,
   "metadata": {},
   "outputs": [],
   "source": []
  },
  {
   "cell_type": "code",
   "execution_count": null,
   "metadata": {},
   "outputs": [],
   "source": []
  },
  {
   "cell_type": "code",
   "execution_count": null,
   "metadata": {},
   "outputs": [],
   "source": []
  },
  {
   "cell_type": "code",
   "execution_count": null,
   "metadata": {},
   "outputs": [],
   "source": []
  }
 ],
 "metadata": {
  "kernelspec": {
   "display_name": "Python 3",
   "language": "python",
   "name": "python3"
  },
  "language_info": {
   "codemirror_mode": {
    "name": "ipython",
    "version": 3
   },
   "file_extension": ".py",
   "mimetype": "text/x-python",
   "name": "python",
   "nbconvert_exporter": "python",
   "pygments_lexer": "ipython3",
   "version": "3.7.0"
  }
 },
 "nbformat": 4,
 "nbformat_minor": 4
}
