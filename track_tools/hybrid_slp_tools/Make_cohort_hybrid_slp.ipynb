{
 "cells": [
  {
   "cell_type": "code",
   "execution_count": 37,
   "metadata": {},
   "outputs": [
    {
     "name": "stdout",
     "output_type": "stream",
     "text": [
      "The autoreload extension is already loaded. To reload it, use:\n",
      "  %reload_ext autoreload\n"
     ]
    },
    {
     "data": {
      "application/javascript": [
       "IPython.notebook.set_autosave_interval(180000)"
      ]
     },
     "metadata": {},
     "output_type": "display_data"
    },
    {
     "name": "stdout",
     "output_type": "stream",
     "text": [
      "Autosaving every 180 seconds\n"
     ]
    }
   ],
   "source": [
    "%load_ext autoreload\n",
    "%autoreload 2\n",
    "\n",
    "import matplotlib\n",
    "import matplotlib.pyplot as plt\n",
    "#matplotlib.use('Agg')\n",
    "#%matplotlib tk\n",
    "%autosave 180\n",
    "\n",
    "import sys\n",
    "sys.path.append('/home/cat/code/gerbil_project/utils/')\n",
    "#\n",
    "import numpy as np\n",
    "from tqdm import trange\n",
    "\n",
    "#\n",
    "#from visualize import Visualize\n",
    "\n",
    "\n",
    "#\n",
    "import sleap\n",
    "\n",
    "#\n",
    "import cv2\n",
    "import os\n",
    "\n",
    "#\n",
    "from tqdm import tqdm\n",
    "import parmap\n",
    "\n",
    "#\n",
    "import pandas as pd\n",
    "\n",
    "#\n",
    "from track.track import make_human_label_only_slp, make_human_label_only_video"
   ]
  },
  {
   "cell_type": "code",
   "execution_count": null,
   "metadata": {},
   "outputs": [
    {
     "name": "stdout",
     "output_type": "stream",
     "text": [
      "\n",
      "running .slp preprocessing and id_switch detection ...\n"
     ]
    },
    {
     "name": "stderr",
     "output_type": "stream",
     "text": [
      "100%|█████████████████████████████████████████████████████████████████████████████████████████████████████████████████| 139/139 [00:00<00:00, 66621.90it/s]"
     ]
    },
    {
     "name": "stdout",
     "output_type": "stream",
     "text": [
      "\n",
      "done running .slp preprocessing and id_switch detection ...\n",
      "\n",
      "making shortened id_switch .slp files...\n"
     ]
    },
    {
     "name": "stderr",
     "output_type": "stream",
     "text": [
      "\n",
      "100%|████████████████████████████████████████████████████████████████████████████████████████████████████████████████| 139/139 [00:00<00:00, 223118.35it/s]\n",
      "OpenCV: FFMPEG: tag 0x44495658/'XVID' is not supported with codec id 12 and format 'mp4 / MP4 (MPEG-4 Part 14)'\n",
      "OpenCV: FFMPEG: fallback to use tag 0x7634706d/'mp4v'\n"
     ]
    },
    {
     "name": "stdout",
     "output_type": "stream",
     "text": [
      "\n",
      "making shortened id_switch video file...\n"
     ]
    },
    {
     "name": "stderr",
     "output_type": "stream",
     "text": [
      "making hybrid movie:  48%|██████████████████████████████████████████████▎                                                 | 67/139 [05:52<07:18,  6.10s/it]"
     ]
    }
   ],
   "source": [
    "################################################################\n",
    "########### SET FNAMES FOR HUMAN AND ID SWITCH FILES ###########\n",
    "################################################################\n",
    "from track.track import DatabaseLoader\n",
    "\n",
    "#\n",
    "#root_dir = '/mnt/b3a68699-495d-4ebb-9ab1-ac74f11c68c5/id_switch/'\n",
    "root_dir = '/mnt/b3a68699-495d-4ebb-9ab1-ac74f11c68c5/id_switch/cohort3/'\n",
    "fname_database = 'database.xlsx'\n",
    "human_slp_dir = 'human_labels'\n",
    "input_dir = 'input_dir'\n",
    "n_cores = 16\n",
    "network_type = \"Day\"   # \"Day\" or \"Night\"\n",
    "\n",
    "# load database class\n",
    "d = DatabaseLoader(root_dir + fname_database,\n",
    "                   network_type)\n",
    "d.nn_type = network_type\n",
    "d.root_dir = root_dir\n",
    "d.human_slp_dir = human_slp_dir\n",
    "d.input_dir = input_dir\n",
    "d.n_cores = n_cores\n",
    "d.network_type = network_type\n",
    "\n",
    "# make id switch files over all files in /input_dir/ and database.xlsx \n",
    "d.make_id_switch_files()\n",
    "\n",
    "# process the human labeled .slp file to short version\n",
    "d.fname_slp_human_labels = 'cohort3_day.1000.slp'\n",
    "d.clean_human_slp()\n",
    "\n",
    "# merge the id switch and human files\n",
    "\n",
    "d.subsample=4\n",
    "d.merge_human_and_id_switches()\n",
    "\n",
    "#\n",
    "print (\"DONE...\")\n"
   ]
  },
  {
   "cell_type": "code",
   "execution_count": null,
   "metadata": {},
   "outputs": [],
   "source": []
  },
  {
   "cell_type": "code",
   "execution_count": null,
   "metadata": {},
   "outputs": [],
   "source": []
  },
  {
   "cell_type": "code",
   "execution_count": null,
   "metadata": {},
   "outputs": [],
   "source": []
  },
  {
   "cell_type": "code",
   "execution_count": null,
   "metadata": {},
   "outputs": [],
   "source": []
  },
  {
   "cell_type": "code",
   "execution_count": null,
   "metadata": {},
   "outputs": [],
   "source": []
  },
  {
   "cell_type": "code",
   "execution_count": null,
   "metadata": {},
   "outputs": [],
   "source": []
  },
  {
   "cell_type": "code",
   "execution_count": null,
   "metadata": {},
   "outputs": [],
   "source": []
  },
  {
   "cell_type": "code",
   "execution_count": null,
   "metadata": {},
   "outputs": [],
   "source": []
  },
  {
   "cell_type": "code",
   "execution_count": null,
   "metadata": {},
   "outputs": [],
   "source": []
  },
  {
   "cell_type": "code",
   "execution_count": null,
   "metadata": {},
   "outputs": [],
   "source": []
  },
  {
   "cell_type": "code",
   "execution_count": null,
   "metadata": {},
   "outputs": [],
   "source": []
  }
 ],
 "metadata": {
  "kernelspec": {
   "display_name": "Python 3 (ipykernel)",
   "language": "python",
   "name": "python3"
  },
  "language_info": {
   "codemirror_mode": {
    "name": "ipython",
    "version": 3
   },
   "file_extension": ".py",
   "mimetype": "text/x-python",
   "name": "python",
   "nbconvert_exporter": "python",
   "pygments_lexer": "ipython3",
   "version": "3.7.12"
  }
 },
 "nbformat": 4,
 "nbformat_minor": 4
}
