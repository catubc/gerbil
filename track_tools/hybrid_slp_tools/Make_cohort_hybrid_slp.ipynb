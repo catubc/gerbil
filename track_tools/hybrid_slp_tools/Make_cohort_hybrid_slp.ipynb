{
 "cells": [
  {
   "cell_type": "code",
   "execution_count": 1,
   "metadata": {},
   "outputs": [
    {
     "data": {
      "application/javascript": [
       "IPython.notebook.set_autosave_interval(180000)"
      ]
     },
     "metadata": {},
     "output_type": "display_data"
    },
    {
     "name": "stdout",
     "output_type": "stream",
     "text": [
      "Autosaving every 180 seconds\n"
     ]
    },
    {
     "name": "stderr",
     "output_type": "stream",
     "text": [
      "/home/cat/miniconda3/envs/sleap_new/lib/python3.7/site-packages/tqdm/auto.py:21: TqdmWarning: IProgress not found. Please update jupyter and ipywidgets. See https://ipywidgets.readthedocs.io/en/stable/user_install.html\n",
      "  from .autonotebook import tqdm as notebook_tqdm\n"
     ]
    }
   ],
   "source": [
    "%load_ext autoreload\n",
    "%autoreload 2\n",
    "\n",
    "import matplotlib\n",
    "import matplotlib.pyplot as plt\n",
    "#matplotlib.use('Agg')\n",
    "#%matplotlib tk\n",
    "%autosave 180\n",
    "\n",
    "import sys\n",
    "sys.path.append('/home/cat/code/gerbil/utils/')\n",
    "#\n",
    "import numpy as np\n",
    "from tqdm import trange\n",
    "\n",
    "#\n",
    "#from visualize import Visualize\n",
    "\n",
    "\n",
    "#\n",
    "import sleap\n",
    "\n",
    "#\n",
    "import cv2\n",
    "import os\n",
    "\n",
    "#\n",
    "from tqdm import tqdm\n",
    "import parmap\n",
    "\n",
    "#\n",
    "import pandas as pd\n",
    "\n",
    "#\n",
    "from track.track import make_human_label_only_slp, make_human_label_only_video"
   ]
  },
  {
   "cell_type": "code",
   "execution_count": 8,
   "metadata": {},
   "outputs": [
    {
     "name": "stderr",
     "output_type": "stream",
     "text": [
      "334it [00:00, 8517.23it/s]\n",
      "OpenCV: FFMPEG: tag 0x44495658/'XVID' is not supported with codec id 12 and format 'mp4 / MP4 (MPEG-4 Part 14)'\n",
      "OpenCV: FFMPEG: fallback to use tag 0x7634706d/'mp4v'\n"
     ]
    },
    {
     "name": "stdout",
     "output_type": "stream",
     "text": [
      "ALL SLP VIDS:  [['/mnt/b3a68699-495d-4ebb-9ab1-ac74f11c68c5/id_switch/cohort4/input_dir/2020_09_22_20_50_33_472153_compressed_Night_deleted.slp']\n",
      " ['/mnt/b3a68699-495d-4ebb-9ab1-ac74f11c68c5/id_switch/cohort4/input_dir/2020_09_22_21_57_28_031303_compressed_Night_deleted.slp']\n",
      " ['/mnt/b3a68699-495d-4ebb-9ab1-ac74f11c68c5/id_switch/cohort4/input_dir/2020_09_22_23_04_17_922045_compressed_Night_deleted.slp']\n",
      " ['/mnt/b3a68699-495d-4ebb-9ab1-ac74f11c68c5/id_switch/cohort4/input_dir/2020_09_23_00_11_09_854170_compressed_Night_deleted.slp']\n",
      " ['/mnt/b3a68699-495d-4ebb-9ab1-ac74f11c68c5/id_switch/cohort4/input_dir/2020_09_23_01_18_01_760467_compressed_Night_deleted.slp']\n",
      " ['/mnt/b3a68699-495d-4ebb-9ab1-ac74f11c68c5/id_switch/cohort4/input_dir/2020_09_23_02_24_56_195811_compressed_Night_deleted.slp']\n",
      " ['/mnt/b3a68699-495d-4ebb-9ab1-ac74f11c68c5/id_switch/cohort4/input_dir/2020_09_23_03_31_49_946989_compressed_Night_deleted.slp']\n",
      " ['/mnt/b3a68699-495d-4ebb-9ab1-ac74f11c68c5/id_switch/cohort4/input_dir/2020_09_23_04_38_44_286057_compressed_Night_deleted.slp']\n",
      " ['/mnt/b3a68699-495d-4ebb-9ab1-ac74f11c68c5/id_switch/cohort4/input_dir/2020_09_23_05_45_38_085550_compressed_Night_deleted.slp']\n",
      " ['/mnt/b3a68699-495d-4ebb-9ab1-ac74f11c68c5/id_switch/cohort4/input_dir/2020_09_23_06_52_33_224214_compressed_Night_deleted.slp']]\n",
      "\n",
      "making shortened id_switch video file...\n"
     ]
    },
    {
     "name": "stderr",
     "output_type": "stream",
     "text": [
      "making hybrid movie:   6%|███▍                                                      | 2/34 [00:05<01:12,  2.27s/it]"
     ]
    },
    {
     "name": "stdout",
     "output_type": "stream",
     "text": [
      "video has no switch frames, :  /mnt/b3a68699-495d-4ebb-9ab1-ac74f11c68c5/id_switch/cohort4/input_dir/2020_09_22_23_04_17_922045_compressed.mp4\n"
     ]
    },
    {
     "name": "stderr",
     "output_type": "stream",
     "text": [
      "making hybrid movie:  18%|██████████▏                                               | 6/34 [00:11<00:45,  1.61s/it]"
     ]
    },
    {
     "name": "stdout",
     "output_type": "stream",
     "text": [
      "video has no switch frames, :  /mnt/b3a68699-495d-4ebb-9ab1-ac74f11c68c5/id_switch/cohort4/input_dir/2020_09_23_03_31_49_946989_compressed.mp4\n",
      "video has no switch frames, :  /mnt/b3a68699-495d-4ebb-9ab1-ac74f11c68c5/id_switch/cohort4/input_dir/2020_09_23_04_38_44_286057_compressed.mp4\n"
     ]
    },
    {
     "name": "stderr",
     "output_type": "stream",
     "text": [
      "making hybrid movie:  38%|█████████████████████▊                                   | 13/34 [00:16<00:14,  1.42it/s]"
     ]
    },
    {
     "name": "stdout",
     "output_type": "stream",
     "text": [
      "video has no switch frames, :  /mnt/b3a68699-495d-4ebb-9ab1-ac74f11c68c5/id_switch/cohort4/input_dir/2020_09_23_21_24_14_216975_compressed.mp4\n",
      "video has no switch frames, :  /mnt/b3a68699-495d-4ebb-9ab1-ac74f11c68c5/id_switch/cohort4/input_dir/2020_09_23_23_38_36_658845_compressed.mp4\n",
      "video has no switch frames, :  /mnt/b3a68699-495d-4ebb-9ab1-ac74f11c68c5/id_switch/cohort4/input_dir/2020_09_24_00_45_47_467760_compressed.mp4\n",
      "video has no switch frames, :  /mnt/b3a68699-495d-4ebb-9ab1-ac74f11c68c5/id_switch/cohort4/input_dir/2020_09_24_01_53_00_374955_compressed.mp4\n",
      "video has no switch frames, :  /mnt/b3a68699-495d-4ebb-9ab1-ac74f11c68c5/id_switch/cohort4/input_dir/2020_09_25_21_39_48_159388_compressed.mp4\n"
     ]
    },
    {
     "name": "stderr",
     "output_type": "stream",
     "text": [
      "making hybrid movie:  56%|███████████████████████████████▊                         | 19/34 [00:16<00:03,  3.89it/s]"
     ]
    },
    {
     "name": "stdout",
     "output_type": "stream",
     "text": [
      "video has no switch frames, :  /mnt/b3a68699-495d-4ebb-9ab1-ac74f11c68c5/id_switch/cohort4/input_dir/2020_09_25_22_45_58_927859_compressed.mp4\n",
      "video has no switch frames, :  /mnt/b3a68699-495d-4ebb-9ab1-ac74f11c68c5/id_switch/cohort4/input_dir/2020_09_26_03_10_48_927858_compressed.mp4\n",
      "video has no switch frames, :  /mnt/b3a68699-495d-4ebb-9ab1-ac74f11c68c5/id_switch/cohort4/input_dir/2020_09_26_06_29_33_470454_compressed.mp4\n",
      "video has no switch frames, :  /mnt/b3a68699-495d-4ebb-9ab1-ac74f11c68c5/id_switch/cohort4/input_dir/2020_09_26_21_56_23_560464_compressed.mp4\n",
      "video has no switch frames, :  /mnt/b3a68699-495d-4ebb-9ab1-ac74f11c68c5/id_switch/cohort4/input_dir/2020_09_26_23_02_37_338609_compressed.mp4\n"
     ]
    },
    {
     "name": "stderr",
     "output_type": "stream",
     "text": [
      "making hybrid movie:  74%|█████████████████████████████████████████▉               | 25/34 [00:16<00:01,  7.46it/s]"
     ]
    },
    {
     "name": "stdout",
     "output_type": "stream",
     "text": [
      "video has no switch frames, :  /mnt/b3a68699-495d-4ebb-9ab1-ac74f11c68c5/id_switch/cohort4/input_dir/2020_09_27_02_21_16_475103_compressed.mp4\n",
      "video has no switch frames, :  /mnt/b3a68699-495d-4ebb-9ab1-ac74f11c68c5/id_switch/cohort4/input_dir/2020_09_28_01_32_45_973047_compressed.mp4\n",
      "video has no switch frames, :  /mnt/b3a68699-495d-4ebb-9ab1-ac74f11c68c5/id_switch/cohort4/input_dir/2020_09_28_04_51_41_529483_compressed.mp4\n",
      "video has no switch frames, :  /mnt/b3a68699-495d-4ebb-9ab1-ac74f11c68c5/id_switch/cohort4/input_dir/2020_09_29_06_16_54_017889_compressed.mp4\n",
      "video has no switch frames, :  /mnt/b3a68699-495d-4ebb-9ab1-ac74f11c68c5/id_switch/cohort4/input_dir/2020_09_30_21_55_13_686467_compressed.mp4\n"
     ]
    },
    {
     "name": "stderr",
     "output_type": "stream",
     "text": [
      "making hybrid movie:  88%|██████████████████████████████████████████████████▎      | 30/34 [00:17<00:00, 11.14it/s]"
     ]
    },
    {
     "name": "stdout",
     "output_type": "stream",
     "text": [
      "video has no switch frames, :  /mnt/b3a68699-495d-4ebb-9ab1-ac74f11c68c5/id_switch/cohort4/input_dir/2020_09_30_23_01_18_531536_compressed.mp4\n",
      "video has no switch frames, :  /mnt/b3a68699-495d-4ebb-9ab1-ac74f11c68c5/id_switch/cohort4/input_dir/2020_10_01_01_13_25_690487_compressed.mp4\n",
      "video has no switch frames, :  /mnt/b3a68699-495d-4ebb-9ab1-ac74f11c68c5/id_switch/cohort4/input_dir/2020_10_01_23_14_29_288743_compressed.mp4\n",
      "video has no switch frames, :  /mnt/b3a68699-495d-4ebb-9ab1-ac74f11c68c5/id_switch/cohort4/input_dir/2020_10_02_23_27_57_884608_compressed.mp4\n",
      "video has no switch frames, :  /mnt/b3a68699-495d-4ebb-9ab1-ac74f11c68c5/id_switch/cohort4/input_dir/2020_10_03_06_04_21_479563_compressed.mp4\n"
     ]
    },
    {
     "name": "stderr",
     "output_type": "stream",
     "text": [
      "making hybrid movie: 100%|█████████████████████████████████████████████████████████| 34/34 [00:17<00:00,  1.97it/s]\n"
     ]
    },
    {
     "name": "stdout",
     "output_type": "stream",
     "text": [
      "video has no switch frames, :  /mnt/b3a68699-495d-4ebb-9ab1-ac74f11c68c5/id_switch/cohort4/input_dir/2020_10_04_23_53_03_155670_compressed.mp4\n",
      "video has no switch frames, :  /mnt/b3a68699-495d-4ebb-9ab1-ac74f11c68c5/id_switch/cohort4/input_dir/2020_10_05_02_05_11_593158_compressed.mp4\n",
      "video has no switch frames, :  /mnt/b3a68699-495d-4ebb-9ab1-ac74f11c68c5/id_switch/cohort4/input_dir/2020_10_06_23_11_11_555079_compressed.mp4\n",
      "Video nframes:  190\n",
      " # of slps found:  34\n",
      " # of vids found:  34\n",
      "slp file:  /mnt/b3a68699-495d-4ebb-9ab1-ac74f11c68c5/id_switch/cohort4/input_dir/2020_09_22_20_50_33_472153_compressed_Night_deleted.slp\n",
      "slp file:  /mnt/b3a68699-495d-4ebb-9ab1-ac74f11c68c5/id_switch/cohort4/input_dir/2020_09_22_21_57_28_031303_compressed_Night_deleted.slp\n",
      "slp file:  /mnt/b3a68699-495d-4ebb-9ab1-ac74f11c68c5/id_switch/cohort4/input_dir/2020_09_22_23_04_17_922045_compressed_Night_deleted.slp\n",
      "slp file:  /mnt/b3a68699-495d-4ebb-9ab1-ac74f11c68c5/id_switch/cohort4/input_dir/2020_09_23_00_11_09_854170_compressed_Night_deleted.slp\n",
      "slp file:  /mnt/b3a68699-495d-4ebb-9ab1-ac74f11c68c5/id_switch/cohort4/input_dir/2020_09_23_01_18_01_760467_compressed_Night_deleted.slp\n",
      "slp file:  /mnt/b3a68699-495d-4ebb-9ab1-ac74f11c68c5/id_switch/cohort4/input_dir/2020_09_23_02_24_56_195811_compressed_Night_deleted.slp\n",
      "slp file:  /mnt/b3a68699-495d-4ebb-9ab1-ac74f11c68c5/id_switch/cohort4/input_dir/2020_09_23_03_31_49_946989_compressed_Night_deleted.slp\n",
      "slp file:  /mnt/b3a68699-495d-4ebb-9ab1-ac74f11c68c5/id_switch/cohort4/input_dir/2020_09_23_04_38_44_286057_compressed_Night_deleted.slp\n",
      "slp file:  /mnt/b3a68699-495d-4ebb-9ab1-ac74f11c68c5/id_switch/cohort4/input_dir/2020_09_23_05_45_38_085550_compressed_Night_deleted.slp\n",
      "slp file:  /mnt/b3a68699-495d-4ebb-9ab1-ac74f11c68c5/id_switch/cohort4/input_dir/2020_09_23_06_52_33_224214_compressed_Night_deleted.slp\n",
      "slp file:  /mnt/b3a68699-495d-4ebb-9ab1-ac74f11c68c5/id_switch/cohort4/input_dir/2020_09_23_20_17_06_044237_compressed_Night_deleted.slp\n",
      "slp file:  /mnt/b3a68699-495d-4ebb-9ab1-ac74f11c68c5/id_switch/cohort4/input_dir/2020_09_23_21_24_14_216975_compressed_Night_deleted.slp\n",
      "slp file:  /mnt/b3a68699-495d-4ebb-9ab1-ac74f11c68c5/id_switch/cohort4/input_dir/2020_09_23_23_38_36_658845_compressed_Night_deleted.slp\n",
      "slp file:  /mnt/b3a68699-495d-4ebb-9ab1-ac74f11c68c5/id_switch/cohort4/input_dir/2020_09_24_00_45_47_467760_compressed_Night_deleted.slp\n",
      "slp file:  /mnt/b3a68699-495d-4ebb-9ab1-ac74f11c68c5/id_switch/cohort4/input_dir/2020_09_24_01_53_00_374955_compressed_Night_deleted.slp\n",
      "slp file:  /mnt/b3a68699-495d-4ebb-9ab1-ac74f11c68c5/id_switch/cohort4/input_dir/2020_09_25_21_39_48_159388_compressed_Night_deleted.slp\n",
      "slp file:  /mnt/b3a68699-495d-4ebb-9ab1-ac74f11c68c5/id_switch/cohort4/input_dir/2020_09_25_22_45_58_927859_compressed_Night_deleted.slp\n",
      "slp file:  /mnt/b3a68699-495d-4ebb-9ab1-ac74f11c68c5/id_switch/cohort4/input_dir/2020_09_26_03_10_48_927858_compressed_Night_deleted.slp\n",
      "slp file:  /mnt/b3a68699-495d-4ebb-9ab1-ac74f11c68c5/id_switch/cohort4/input_dir/2020_09_26_06_29_33_470454_compressed_Night_deleted.slp\n",
      "slp file:  /mnt/b3a68699-495d-4ebb-9ab1-ac74f11c68c5/id_switch/cohort4/input_dir/2020_09_26_21_56_23_560464_compressed_Night_deleted.slp\n",
      "slp file:  /mnt/b3a68699-495d-4ebb-9ab1-ac74f11c68c5/id_switch/cohort4/input_dir/2020_09_26_23_02_37_338609_compressed_Night_deleted.slp\n",
      "slp file:  /mnt/b3a68699-495d-4ebb-9ab1-ac74f11c68c5/id_switch/cohort4/input_dir/2020_09_27_02_21_16_475103_compressed_Night_deleted.slp\n",
      "slp file:  /mnt/b3a68699-495d-4ebb-9ab1-ac74f11c68c5/id_switch/cohort4/input_dir/2020_09_28_01_32_45_973047_compressed_Night_deleted.slp\n",
      "slp file:  /mnt/b3a68699-495d-4ebb-9ab1-ac74f11c68c5/id_switch/cohort4/input_dir/2020_09_28_04_51_41_529483_compressed_Night_deleted.slp\n",
      "slp file:  /mnt/b3a68699-495d-4ebb-9ab1-ac74f11c68c5/id_switch/cohort4/input_dir/2020_09_29_06_16_54_017889_compressed_Night_deleted.slp\n",
      "slp file:  /mnt/b3a68699-495d-4ebb-9ab1-ac74f11c68c5/id_switch/cohort4/input_dir/2020_09_30_21_55_13_686467_compressed_Night_deleted.slp\n",
      "slp file:  /mnt/b3a68699-495d-4ebb-9ab1-ac74f11c68c5/id_switch/cohort4/input_dir/2020_09_30_23_01_18_531536_compressed_Night_deleted.slp\n",
      "slp file:  /mnt/b3a68699-495d-4ebb-9ab1-ac74f11c68c5/id_switch/cohort4/input_dir/2020_10_01_01_13_25_690487_compressed_Night_deleted.slp\n",
      "slp file:  /mnt/b3a68699-495d-4ebb-9ab1-ac74f11c68c5/id_switch/cohort4/input_dir/2020_10_01_23_14_29_288743_compressed_Night_deleted.slp\n",
      "slp file:  /mnt/b3a68699-495d-4ebb-9ab1-ac74f11c68c5/id_switch/cohort4/input_dir/2020_10_02_23_27_57_884608_compressed_Night_deleted.slp\n",
      "slp file:  /mnt/b3a68699-495d-4ebb-9ab1-ac74f11c68c5/id_switch/cohort4/input_dir/2020_10_03_06_04_21_479563_compressed_Night_deleted.slp\n",
      "slp file:  /mnt/b3a68699-495d-4ebb-9ab1-ac74f11c68c5/id_switch/cohort4/input_dir/2020_10_04_23_53_03_155670_compressed_Night_deleted.slp\n",
      "slp file:  /mnt/b3a68699-495d-4ebb-9ab1-ac74f11c68c5/id_switch/cohort4/input_dir/2020_10_05_02_05_11_593158_compressed_Night_deleted.slp\n",
      "slp file:  /mnt/b3a68699-495d-4ebb-9ab1-ac74f11c68c5/id_switch/cohort4/input_dir/2020_10_06_23_11_11_555079_compressed_Night_deleted.slp\n",
      "total nfrmeas:  190\n",
      "DONE...\n",
      "cleaning human slp file...\n",
      "... making human label only slp...\n",
      "merged_video:  Video(filename=/mnt/b3a68699-495d-4ebb-9ab1-ac74f11c68c5/id_switch/cohort4/Night_human_labels.avi, shape=(None, None, None, None), backend=MediaVideo)\n",
      "Loading master manual file:  /mnt/b3a68699-495d-4ebb-9ab1-ac74f11c68c5/id_switch/cohort4/human_labels/cohort4_night.1000.slp\n",
      "Number of frames loaded:  1000\n",
      " ... making human only label video...\n",
      "Fname hybrid movie:  /mnt/b3a68699-495d-4ebb-9ab1-ac74f11c68c5/id_switch/cohort4/Night_human_labels.avi\n"
     ]
    },
    {
     "name": "stderr",
     "output_type": "stream",
     "text": [
      "total frames: 1000: 1000it [03:43,  4.48it/s]\n"
     ]
    },
    {
     "name": "stdout",
     "output_type": "stream",
     "text": [
      "# of images saved  1000\n",
      "Video(filename=/mnt/b3a68699-495d-4ebb-9ab1-ac74f11c68c5/id_switch/cohort4/Night_merged.avi, shape=(None, None, None, None), backend=MediaVideo)\n",
      "slp ctrl:  0\n",
      "Loaded video sizes: width, height:  1160.0 830.0\n",
      "processing:  /mnt/b3a68699-495d-4ebb-9ab1-ac74f11c68c5/id_switch/cohort4/Night_human_labels.avi\n",
      "processing:  /mnt/b3a68699-495d-4ebb-9ab1-ac74f11c68c5/id_switch/cohort4/Night_id_switches_cropped.mp4\n",
      "done...\n",
      "DONE...\n"
     ]
    }
   ],
   "source": [
    "################################################################\n",
    "########### SET FNAMES FOR HUMAN AND ID SWITCH FILES ###########\n",
    "################################################################\n",
    "from track.track import DatabaseLoader\n",
    "\n",
    "#\n",
    "#root_dir = '/mnt/b3a68699-495d-4ebb-9ab1-ac74f11c68c5/id_switch/'\n",
    "root_dir = '/mnt/b3a68699-495d-4ebb-9ab1-ac74f11c68c5/id_switch/cohort4/'\n",
    "fname_database = 'database.xlsx'\n",
    "human_slp_dir = 'human_labels'\n",
    "input_dir = 'input_dir'\n",
    "n_cores = 32\n",
    "network_type = \"Night\"   # \"Day\" or \"Night\"\n",
    "\n",
    "# load database class\n",
    "d = DatabaseLoader(root_dir + fname_database,\n",
    "                   network_type)\n",
    "d.nn_type = network_type\n",
    "d.root_dir = root_dir\n",
    "d.human_slp_dir = human_slp_dir\n",
    "d.input_dir = input_dir\n",
    "d.n_cores = n_cores\n",
    "d.network_type = network_type\n",
    "d.track_type = 'feature'\n",
    "d.recompute_spine_centres = False\n",
    "d.skip_id_switch_make = True\n",
    "\n",
    "# hard code the # of animals and features for now\n",
    "d.n_animals = 6\n",
    "d.n_features = 6\n",
    "\n",
    "\n",
    "# make id switch files over all files in /input_dir/ and database.xlsx \n",
    "d.make_id_switch_files()\n",
    "\n",
    "# process the human labeled .slp file to short version\n",
    "d.fname_slp_human_labels = 'cohort4_night.1000.slp'\n",
    "d.clean_human_slp()\n",
    "\n",
    "# merge the id switch and human files\n",
    "\n",
    "d.subsample=2\n",
    "d.merge_human_and_id_switches()\n",
    "\n",
    "#\n",
    "print (\"DONE...\")\n"
   ]
  },
  {
   "cell_type": "code",
   "execution_count": 14,
   "metadata": {},
   "outputs": [
    {
     "name": "stdout",
     "output_type": "stream",
     "text": [
      "(86407, 6, 6, 2)\n",
      "4.457507133483887\n",
      "1172.404296875\n",
      "2.651884078979492\n",
      "825.70654296875\n"
     ]
    }
   ],
   "source": [
    "d = np.load('/mnt/b3a68699-495d-4ebb-9ab1-ac74f11c68c5/id_switch/cohort4/input_dir/2020_09_22_16_23_20_653413_compressed_Day.npy')\n",
    "\n",
    "print (d.shape)\n",
    "\n",
    "print (np.nanmin(d[:,:,:,0]))\n",
    "print (np.nanmax(d[:,:,:,0]))\n",
    "       \n",
    "print (np.nanmin(d[:,:,:,1]))\n",
    "print (np.nanmax(d[:,:,:,1]))\n",
    "    \n",
    "    "
   ]
  },
  {
   "cell_type": "code",
   "execution_count": 96,
   "metadata": {},
   "outputs": [
    {
     "name": "stdout",
     "output_type": "stream",
     "text": [
      "['/mnt/b3a68699-495d-4ebb-9ab1-ac74f11c68c5/id_switch/cohort4/input_dir/2020_09_27_17_48_48_476256_compressed_Day_deleted.slp'\n",
      " '0']\n",
      "['/mnt/b3a68699-495d-4ebb-9ab1-ac74f11c68c5/id_switch/cohort4/input_dir/2020_09_27_17_48_48_476256_compressed_Day_deleted.slp'\n",
      " '42']\n"
     ]
    }
   ],
   "source": [
    "\n",
    "slps = np.load('/home/cat/meta_data_slp.npy',allow_pickle=True)\n",
    "vids = np.load('/home/cat/meta_data.npy', allow_pickle=True)\n",
    "\n",
    "for k in range(len(slps)):\n",
    "    #print ('')\n",
    "    temp = slps[k]\n",
    "    temp2 = vids[k]\n",
    "    if temp[1]!=temp2[1]:\n",
    "        print (temp)\n",
    "        print (temp2)\n",
    "\n"
   ]
  },
  {
   "cell_type": "code",
   "execution_count": 6,
   "metadata": {},
   "outputs": [
    {
     "data": {
      "text/plain": [
       "Labels(labeled_frames=26, videos=1, skeletons=1, tracks=6)"
      ]
     },
     "execution_count": 6,
     "metadata": {},
     "output_type": "execute_result"
    }
   ],
   "source": [
    "\n",
    "fname = '/mnt/b3a68699-495d-4ebb-9ab1-ac74f11c68c5/id_switch/cohort4/input_dir/2020_09_23_22_31_26_256034_compressed_Night_deleted.slp'\n",
    "\n",
    "sleap.load_file(fname)\n",
    "\n"
   ]
  },
  {
   "cell_type": "code",
   "execution_count": null,
   "metadata": {},
   "outputs": [],
   "source": []
  },
  {
   "cell_type": "code",
   "execution_count": null,
   "metadata": {},
   "outputs": [],
   "source": []
  },
  {
   "cell_type": "code",
   "execution_count": null,
   "metadata": {},
   "outputs": [],
   "source": []
  },
  {
   "cell_type": "code",
   "execution_count": null,
   "metadata": {},
   "outputs": [],
   "source": []
  },
  {
   "cell_type": "code",
   "execution_count": null,
   "metadata": {},
   "outputs": [],
   "source": []
  },
  {
   "cell_type": "code",
   "execution_count": null,
   "metadata": {},
   "outputs": [],
   "source": []
  },
  {
   "cell_type": "code",
   "execution_count": null,
   "metadata": {},
   "outputs": [],
   "source": []
  },
  {
   "cell_type": "code",
   "execution_count": null,
   "metadata": {},
   "outputs": [],
   "source": []
  }
 ],
 "metadata": {
  "kernelspec": {
   "display_name": "Python 3 (ipykernel)",
   "language": "python",
   "name": "python3"
  },
  "language_info": {
   "codemirror_mode": {
    "name": "ipython",
    "version": 3
   },
   "file_extension": ".py",
   "mimetype": "text/x-python",
   "name": "python",
   "nbconvert_exporter": "python",
   "pygments_lexer": "ipython3",
   "version": "3.7.12"
  }
 },
 "nbformat": 4,
 "nbformat_minor": 4
}
