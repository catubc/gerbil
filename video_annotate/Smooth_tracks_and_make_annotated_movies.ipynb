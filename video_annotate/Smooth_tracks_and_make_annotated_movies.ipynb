{
 "cells": [
  {
   "cell_type": "code",
   "execution_count": 4,
   "metadata": {},
   "outputs": [
    {
     "name": "stdout",
     "output_type": "stream",
     "text": [
      "The autoreload extension is already loaded. To reload it, use:\n",
      "  %reload_ext autoreload\n"
     ]
    },
    {
     "data": {
      "application/javascript": [
       "IPython.notebook.set_autosave_interval(180000)"
      ]
     },
     "metadata": {},
     "output_type": "display_data"
    },
    {
     "name": "stdout",
     "output_type": "stream",
     "text": [
      "Autosaving every 180 seconds\n"
     ]
    },
    {
     "data": {
      "text/html": [
       "<style>.container { width:100% !important; }</style>"
      ],
      "text/plain": [
       "<IPython.core.display.HTML object>"
      ]
     },
     "metadata": {},
     "output_type": "display_data"
    }
   ],
   "source": [
    "%load_ext autoreload\n",
    "%autoreload 2\n",
    "\n",
    "import matplotlib\n",
    "#matplotlib.use('Agg')\n",
    "%matplotlib tk\n",
    "%autosave 180\n",
    "\n",
    "#\n",
    "import matplotlib.pyplot as plt\n",
    "from IPython.core.display import display, HTML\n",
    "display(HTML(\"<style>.container { width:100% !important; }</style>\"))\n",
    "\n",
    "import matplotlib.cm as cm\n",
    "from matplotlib import gridspec\n",
    "from scipy import signal\n",
    "\n",
    "import numpy as np\n",
    "import pandas as pd\n",
    "import os\n",
    "import shutil\n",
    "import cv2\n",
    "from tqdm import trange\n",
    "\n",
    "#import glob2\n",
    "\n",
    "from scipy.io import loadmat\n",
    "import scipy\n",
    "import h5py\n",
    "#import hdf5storage\n",
    "import csv\n",
    "import sleap\n",
    "\n",
    "from visualize import Visualize\n",
    "from track import Track\n"
   ]
  },
  {
   "cell_type": "code",
   "execution_count": 2,
   "metadata": {},
   "outputs": [],
   "source": [
    "###################################################\n",
    "###################################################\n",
    "###################################################\n",
    "# \n",
    "def save_two_animal_slp(animal_ids, fname_slp):\n",
    "    # select first to animals\n",
    "    labels = sleap.load_file(fname_slp)\n",
    "\n",
    "    # Change this to specify which pair of tracks to save:\n",
    "    keep_tracks = [labels.tracks[animal_ids[0]], labels.tracks[animal_ids[1]]]\n",
    "\n",
    "    # Remove instances that aren't in keep_tracks\n",
    "    for lf in labels:\n",
    "        lf.instances = [inst for inst in lf.instances if inst.track in keep_tracks]\n",
    "\n",
    "    # Keep only those tracks in the labels\n",
    "    labels.tracks = keep_tracks\n",
    "\n",
    "    # Remove frames that are now empty due to the track filtering\n",
    "    labels.remove_empty_frames()\n",
    "\n",
    "    # Save the result with the specified tracks in the filename\n",
    "    labels.save(fname_slp[:-4] + \"_\"+str(animal_ids[0])+\"_\"+str(animal_ids[1])+\".slp\")\n",
    "    \n",
    "#\n",
    "fname_slp = '/media/cat/256GB/dan/simba/2020_07_31_20_15_17_668937_compressed_defished_shrink_cropped.slp'\n",
    "fname_vid = '/media/cat/256GB/dan/simba/2020_07_31_20_15_17_668937_compressed_defished_shrink_cropped.mp4'\n",
    "\n",
    "#\n",
    "animal_ids = [0,1]\n",
    "save_two_animal_slp(animal_ids, fname_slp)\n",
    "\n",
    "#\n",
    "print (\"DONE...\")"
   ]
  },
  {
   "cell_type": "code",
   "execution_count": 3,
   "metadata": {},
   "outputs": [
    {
     "name": "stdout",
     "output_type": "stream",
     "text": [
      "... Making tracks chunks...\n",
      "Deleting chunks <  8\n",
      "... Fixing tracks...\n"
     ]
    },
    {
     "name": "stderr",
     "output_type": "stream",
     "text": [
      "  0%|          | 9/5000 [00:00<01:01, 80.91it/s]"
     ]
    },
    {
     "name": "stdout",
     "output_type": "stream",
     "text": [
      "UPDATING TRACKS\n",
      "width, heigh:  900.0 700.0\n",
      "Histories:  (6, 5, 2)\n"
     ]
    },
    {
     "name": "stderr",
     "output_type": "stream",
     "text": [
      "100%|██████████| 5000/5000 [01:00<00:00, 83.25it/s]"
     ]
    },
    {
     "name": "stdout",
     "output_type": "stream",
     "text": [
      "DONE...\n"
     ]
    },
    {
     "name": "stderr",
     "output_type": "stream",
     "text": [
      "\n"
     ]
    }
   ],
   "source": [
    "######################################################## \n",
    "############## GENERATE FIXED TRACK MOVIE ##############\n",
    "########################################################\n",
    "#\n",
    "#fps = 25\n",
    "shrink = 1 # shrink image factor\n",
    "fname_video_out = 'fixed'\n",
    "fname_video = '/media/cat/256GB/dan/simba/2020_07_31_20_15_17_668937_compressed_defished_shrink_cropped.mp4'\n",
    "\n",
    "# \n",
    "fname_slp = '/media/cat/256GB/dan/simba/2020_07_31_20_15_17_668937_compressed_Night.slp'\n",
    "#fname_slp = '/media/cat/256GB/dan/simba/2020_07_31_20_15_17_668937_compressed_defished_shrink_cropped_0_1.slp'\n",
    "\n",
    "#\n",
    "track = Track(fname_slp)\n",
    "track.animal_ids = [0,1,2,3,4,5]\n",
    "track.tracks_names = ['female','male','pup1','pup2','pup3','pup4']\n",
    "track.recompute_spine_centres=True\n",
    "track.verbose = True                         # gives additional printouts\n",
    "track.n_animals = len(track.animal_ids)      # number of animals\n",
    "track.filter_width = 10                      # this is the median filter width in frames; e.g. 10 ~=0.4 seconds\n",
    "                                             # higher values provide more stability, but less temporally precise locations\n",
    "# \n",
    "track.load_tracks()\n",
    "\n",
    "####################################################\n",
    "### OPTIONAL - MEDIAN FILTER ALL TRACKS ############\n",
    "####################################################\n",
    "if True:\n",
    "    track.filter_tracks()\n",
    "    #track.filter_tracks_spines()\n",
    "            \n",
    "####################################################\n",
    "### OPTIONAL - ALGORITHM TO REASSIGN CHUNKING ######\n",
    "####################################################\n",
    "if True:\n",
    "\n",
    "    # makes scores based on .slp output? (to check)\n",
    "    track.get_scores()\n",
    "\n",
    "    # uses track_spines to break up all the data into continuous chunks\n",
    "    track.max_jump_single_frame = 30  # max distance in pixels (?) that an animal can move in a single frame\n",
    "    track.make_tracks_chunks()        \n",
    "\n",
    "    # deletig very short chunks of track that are orphaned..\n",
    "    min_chunk_len = 8\n",
    "    track.del_short_chunks(min_chunk_len)\n",
    "\n",
    "    ############## FIX TRACKS PARAMS #############\n",
    "    track.time_threshold = 25       # window to search for nearest chunks, about 1sec seems fair...\n",
    "    track.safe_chunk_length = 15    # chunks this long will not change id\n",
    "    track.min_chunk_len = 4         # min length of chukn to be used for anchoring/correcting\n",
    "    track.max_distance_merge = 75   # max pix diff allowed for merging when using model; not just for neighbouring frames\n",
    "    # track.memory_length = 25      # how many frames back is it ok to remember a prev animal\n",
    "    track.verbose = False\n",
    "    track.update_tracks = True\n",
    "    \n",
    "    # parameters for fixing track chunking\n",
    "    track.max_time_automerge = 3      # time to automerget chunks from same animal ???\n",
    "    track.max_dist_automerge = 25     # distance to auto merge chunks from same animal separated by single time skip\n",
    "\n",
    "\n",
    "    track.fix_tracks()\n",
    "\n",
    "else:\n",
    "    # recompute spine centres from scratch\n",
    "    track.get_track_spine_centers()\n",
    "    \n",
    "####################################################\n",
    "### OPTIONAL - MEDIAN FILTER SPINE CENTRES #########\n",
    "####################################################\n",
    "#if True:\n",
    "#    track.filter_tracks_spines() \n",
    "    \n",
    "####################################################\n",
    "########## MAKE MOVIES OF SPINE CENTRES ############\n",
    "####################################################\n",
    "vis = Visualize()\n",
    "start = 0   # frame to start\n",
    "end = 5000   # frame to end\n",
    "fps = 25\n",
    "\n",
    "vis.make_video_centroid(track.tracks_spine,                # visualize centres locations\n",
    "                        fname_video,\n",
    "                        fname_video_out,\n",
    "                        start,\n",
    "                        end,\n",
    "                        fps,\n",
    "                        shrink) \n",
    "\n",
    "# \n",
    "print (\"DONE...\")"
   ]
  },
  {
   "cell_type": "code",
   "execution_count": null,
   "metadata": {},
   "outputs": [],
   "source": []
  },
  {
   "cell_type": "code",
   "execution_count": 28,
   "metadata": {},
   "outputs": [
    {
     "name": "stderr",
     "output_type": "stream",
     "text": [
      "  0%|          | 0/89987 [00:00<?, ?it/s]"
     ]
    },
    {
     "name": "stdout",
     "output_type": "stream",
     "text": [
      "# of lableed frames:  (292353,)\n",
      "Lenght of tracessx:  (89988, 70)\n"
     ]
    },
    {
     "name": "stderr",
     "output_type": "stream",
     "text": [
      "100%|██████████| 89987/89987 [49:17<00:00, 30.43it/s]  \n"
     ]
    }
   ],
   "source": [
    "#################################################################\n",
    "###### MAKE HUNGARIAN ALGORITHM ASSEMBLED ANIMAL VIDEOS #########\n",
    "#################################################################\n",
    "\n",
    "#\n",
    "fname_traces_inferences = '/media/cat/4TBSSD/dan/march_2/madeline_dlc/march_16/2020-3-16_12_54_07_193951_compressed/2020-3-16_12_54_07_193951_compressedDLC_resnet50_madeline_july2Jul2shuffle1_100000_full_traces_inferences_0_89988.npz'\n",
    "reassembled = np.load(fname_traces_inferences)\n",
    "#reassembled = np.load('/media/cat/4TBSSD/dan/march_2/madeline_dlc/march_16/2020-3-16_12_57_12_418305_compressed/pickle/2020-3-16_12_57_12_418305_compressedDLC_resnet50_madeline_july2Jul2shuffle1_100000_full_traces_inferences.npz')\n",
    "tracesx_re = reassembled['tracesx'].T\n",
    "tracesy_re = reassembled['tracesy'].T\n",
    "print (\"Lenght of tracessx: \", tracesx_re.shape)\n",
    "\n",
    "# OPTIONAL MAKE VIDEO TO REVIEW ASSEMBLED VS. INFERENCE LABELS (PRE-FIX)\n",
    "# colors have weird inversion; red is blue and cyan is yellow\n",
    "#colors_4 = ['blue','red','cyan','green','pink','orange']\n",
    "\n",
    "#          pup1     pup2    female  male\n",
    "colors_4= ['orange','green', 'blue', 'red', 'cyan']\n",
    "colors_5= ['red','blue', 'cyan', 'green', 'yellow']\n",
    "\n",
    "video_name = '/media/cat/4TBSSD/dan/march_2/madeline_dlc/march_16/2020-3-16_12_54_07_193951_compressed/2020-3-16_12_54_07_193951_compressed.avi'\n",
    "#video_name = '/media/cat/4TBSSD/dan/march_2/madeline_dlc/march_16/2020-3-16_12_57_12_418305_compressed/2020-3-16_12_57_12_418305_compressed.avi'\n",
    "original_vid = cv2.VideoCapture(video_name)\n",
    "\n",
    "# video sizes\n",
    "size_vid = np.array([1280,1024])\n",
    "scale = 1\n",
    "dot_size = 8//scale\n",
    "dot_size2 = 4//scale\n",
    "\n",
    "#\n",
    "\n",
    "#dot_size = 10//scale\n",
    "# setup cutoff \n",
    "pcutoff = 0.01\n",
    "\n",
    "# go through first videos\n",
    "from tqdm import trange\n",
    "\n",
    "start = 1\n",
    "end = tracesx_re.shape[0]\n",
    "#end = 1001\n",
    "n_networks = 5\n",
    "comments=False\n",
    "\n",
    "out_dir = '/media/cat/4TBSSD/dan/march_2/madeline_dlc/2020-3-9_08_18_49_128168/'\n",
    "fname_out = video_name[:-4]+\"_CNN_\"+str(start)+\"_\"+str(end)+\".mp4\"\n",
    "fourcc = cv2.VideoWriter_fourcc('M','P','E','G')\n",
    "video_out = cv2.VideoWriter(fname_out,fourcc, 25, (size_vid[0]//scale,size_vid[1]//scale), True)\n",
    "original_vid.set(cv2.CAP_PROP_POS_FRAMES, start)\n",
    "\n",
    "# LOOP \n",
    "font = cv2.FONT_HERSHEY_PLAIN\n",
    "for n in trange(start,end, 1):\n",
    "    ret, frame = original_vid.read()\n",
    "    #print (n, frame.shape)\n",
    "    cv2.putText(frame, str(n), (50, 100), font, 5, (255, 255, 0), 5)\n",
    "    frame = frame[::scale, ::scale]\n",
    "        \n",
    "    animal_ids, animal_ids2, dirs = get_animal_ids(n,\n",
    "                                chain_ids,\n",
    "                                vals,\n",
    "                                classes,\n",
    "                                comments)\n",
    "    shift=20\n",
    "    #titles = np.zeros(n_networks)\n",
    "    for k in range(0, 14*n_networks,14):\n",
    "    #for k in range(14*n_networks):\n",
    "        y = tracesx_re[n,k:k+14]\n",
    "        x = tracesy_re[n,k:k+14]\n",
    "        \n",
    "        #if animal_ids[k//14]==None:\n",
    "        #    continue\n",
    "            \n",
    "        idx = np.where(np.isnan(x))[0]\n",
    "        x = np.delete(x,idx,0)\n",
    "        y = np.delete(y,idx,0)\n",
    "        idx = np.where(x==0)[0]\n",
    "        x = np.delete(x,idx,0)\n",
    "        y = np.delete(y,idx,0)\n",
    "        \n",
    "        #if np.isnan(x) or np.isnan(y):\n",
    "        #    continue\n",
    "        \n",
    "        if x.shape[0]==0:\n",
    "            continue\n",
    "        #print (x)\n",
    "        x1=np.int32(x)//scale\n",
    "        y1=np.int32(y)//scale\n",
    "        \n",
    "        flag=True\n",
    "        for x, y in zip(x1,y1):\n",
    "            if animal_ids[k//14]==1E10:\n",
    "                continue\n",
    "                \n",
    "            if animal_ids[k//14]!= None:\n",
    "                frame[x-dot_size:x+dot_size,y-dot_size:y+dot_size]= (np.float32(\n",
    "                    #matplotlib.colors.to_rgb(colors_4[k//14]))*255.).astype('uint8')\n",
    "                    #matplotlib.colors.to_rgb('white'))*255.).astype('uint8')\n",
    "                    matplotlib.colors.to_rgb(colors_5[animal_ids[k//14]]))*255.).astype('uint8')\n",
    "\n",
    "            if animal_ids2[k//14]!= None:\n",
    "                frame[x-dot_size2+shift:x+shift+dot_size2,y-dot_size2:y+dot_size2]= (np.float32(\n",
    "                    #matplotlib.colors.to_rgb(colors_4[k//14]))*255.).astype('uint8')\n",
    "                    #matplotlib.colors.to_rgb('white'))*255.).astype('uint8')\n",
    "                    matplotlib.colors.to_rgb(colors_5[animal_ids2[k//14]]))*255.).astype('uint8')\n",
    "        \n",
    "        #print (colors_4[k])\n",
    "        #frame[y-dot_size:y+dot_size,x-dot_size:x+dot_size]= (np.float32(\n",
    "        #    matplotlib.colors.to_rgb(colors_4[z//14]))*255.).astype('uint8')\n",
    "\n",
    "        #if titles[k//14]==0:\n",
    "            if flag:\n",
    "                cv2.putText(frame, str(dirs[k//14]), (y, x), font, 2, (255, 255, 0), 5)\n",
    "                flag=False\n",
    "    #print (\"\")\n",
    "    video_out.write(frame)\n",
    "\n",
    "    #print (\"\")\n",
    "\n",
    "video_out.release()\n",
    "original_vid.release()\n",
    "#cv2.destroyAllWindows()\n"
   ]
  },
  {
   "cell_type": "code",
   "execution_count": null,
   "metadata": {},
   "outputs": [],
   "source": []
  },
  {
   "cell_type": "code",
   "execution_count": null,
   "metadata": {},
   "outputs": [],
   "source": []
  },
  {
   "cell_type": "code",
   "execution_count": 21,
   "metadata": {},
   "outputs": [],
   "source": []
  },
  {
   "cell_type": "code",
   "execution_count": null,
   "metadata": {},
   "outputs": [],
   "source": []
  },
  {
   "cell_type": "code",
   "execution_count": null,
   "metadata": {},
   "outputs": [],
   "source": []
  }
 ],
 "metadata": {
  "kernelspec": {
   "display_name": "Python 3",
   "language": "python",
   "name": "python3"
  },
  "language_info": {
   "codemirror_mode": {
    "name": "ipython",
    "version": 3
   },
   "file_extension": ".py",
   "mimetype": "text/x-python",
   "name": "python",
   "nbconvert_exporter": "python",
   "pygments_lexer": "ipython3",
   "version": "3.7.0"
  }
 },
 "nbformat": 4,
 "nbformat_minor": 4
}
