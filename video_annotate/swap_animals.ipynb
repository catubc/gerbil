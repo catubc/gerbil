{
 "cells": [
  {
   "cell_type": "code",
   "execution_count": 8,
   "id": "81c56dc4-7a8f-40de-9edc-362ed205c20e",
   "metadata": {
    "tags": []
   },
   "outputs": [],
   "source": [
    "import glob\n",
    "import numpy as np\n",
    "import os\n",
    "import re"
   ]
  },
  {
   "cell_type": "code",
   "execution_count": 3,
   "id": "11ae6d2d-4cca-4103-9229-3aae4635b821",
   "metadata": {
    "tags": []
   },
   "outputs": [
    {
     "name": "stdout",
     "output_type": "stream",
     "text": [
      "/home/cat/Downloads/2020_07_30_11_06_03_274369/2020_07_30_11_06_03_274369_compressed_Day_1_3_cleaned.npy\n",
      "/home/cat/Downloads/2020_07_30_11_06_03_274369/2020_07_30_11_06_03_274369_compressed_Day_0_2_cleaned.npy\n",
      "/home/cat/Downloads/2020_07_30_11_06_03_274369/2020_07_30_11_06_03_274369_compressed_Day_0_1_cleaned.npy\n",
      "/home/cat/Downloads/2020_07_30_11_06_03_274369/2020_07_30_11_06_03_274369_compressed_Day_4_5_cleaned.npy\n",
      "DONE\n"
     ]
    }
   ],
   "source": [
    "# specify the directory you want to use\n",
    "directory = '/mnt/b3a68699-495d-4ebb-9ab1-ac74f11c68c5/gerbil/cohort2/features/2020_08_03_17_21_57_889061_compressed_Day_4_5_cleaned.npy'\n",
    "\n",
    "# get list of all .npy files in the specified directory\n",
    "files = glob.glob(os.path.join(directory, '*_cleaned.npy'))\n",
    "\n",
    "for file in files:\n",
    "    # load the array from file\n",
    "    video = np.load(file)\n",
    "    print(file)\n",
    "\n",
    "    # change the order of the animals\n",
    "    video_reordered = video[:, [1, 0], :]\n",
    "\n",
    "    # extract the animal numbers from the file name\n",
    "    match = re.search(r'(.*_Day_)(\\d+)_(\\d+)(_cleaned.npy)', os.path.basename(file))\n",
    "    if match:\n",
    "        prefix, animal1, animal2, suffix = match.groups()\n",
    "\n",
    "        # form the new filename\n",
    "        new_file = f'{prefix}{animal2}_{animal1}{suffix}'\n",
    "        new_file_path = os.path.join(directory, new_file)\n",
    "\n",
    "        # save the reordered array to a new file\n",
    "        np.save(new_file_path, video_reordered)\n",
    "    \n",
    "print('DONE')\n"
   ]
  }
 ],
 "metadata": {
  "kernelspec": {
   "display_name": "sleap_new",
   "language": "python",
   "name": "sleap_new"
  },
  "language_info": {
   "codemirror_mode": {
    "name": "ipython",
    "version": 3
   },
   "file_extension": ".py",
   "mimetype": "text/x-python",
   "name": "python",
   "nbconvert_exporter": "python",
   "pygments_lexer": "ipython3",
   "version": "3.7.12"
  }
 },
 "nbformat": 4,
 "nbformat_minor": 5
}
