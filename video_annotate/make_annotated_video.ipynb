{
 "cells": [
  {
   "cell_type": "code",
   "execution_count": 2,
   "metadata": {
    "tags": []
   },
   "outputs": [
    {
     "data": {
      "application/javascript": [
       "IPython.notebook.set_autosave_interval(180000)"
      ]
     },
     "metadata": {},
     "output_type": "display_data"
    },
    {
     "name": "stdout",
     "output_type": "stream",
     "text": [
      "Autosaving every 180 seconds\n"
     ]
    },
    {
     "data": {
      "text/html": [
       "<style>.container { width:100% !important; }</style>"
      ],
      "text/plain": [
       "<IPython.core.display.HTML object>"
      ]
     },
     "metadata": {},
     "output_type": "display_data"
    }
   ],
   "source": [
    "%load_ext autoreload\n",
    "%autoreload 2\n",
    "\n",
    "import matplotlib\n",
    "#matplotlib.use('Agg')\n",
    "%matplotlib tk\n",
    "%autosave 180\n",
    "\n",
    "#\n",
    "import matplotlib.pyplot as plt\n",
    "from IPython.core.display import display, HTML\n",
    "display(HTML(\"<style>.container { width:100% !important; }</style>\"))\n",
    "\n",
    "import matplotlib.cm as cm\n",
    "from matplotlib import gridspec\n",
    "from scipy import signal\n",
    "\n",
    "import numpy as np\n",
    "import pandas as pd\n",
    "import os\n",
    "import shutil\n",
    "import cv2\n",
    "from tqdm import trange\n",
    "\n",
    "#import glob2\n",
    "\n",
    "from scipy.io import loadmat\n",
    "import scipy\n",
    "import h5py\n",
    "#import hdf5storage\n",
    "import csv\n",
    "import sleap\n",
    "\n",
    "#from visualize import Visualize\n",
    "#from track import Track\n"
   ]
  },
  {
   "cell_type": "code",
   "execution_count": null,
   "metadata": {
    "tags": []
   },
   "outputs": [
    {
     "name": "stderr",
     "output_type": "stream",
     "text": [
      "OpenCV: FFMPEG: tag 0x4745504d/'MPEG' is not supported with codec id 2 and format 'mp4 / MP4 (MPEG-4 Part 14)'\n",
      "OpenCV: FFMPEG: fallback to use tag 0x7634706d/'mp4v'\n"
     ]
    },
    {
     "name": "stdout",
     "output_type": "stream",
     "text": [
      "width, height:  900.0 700.0\n"
     ]
    },
    {
     "name": "stderr",
     "output_type": "stream",
     "text": [
      "  1%|█                                                                                      | 304/26000 [00:04<05:40, 75.36it/s]"
     ]
    }
   ],
   "source": [
    "import cv2\n",
    "from tqdm import tqdm, trange\n",
    "\n",
    "\n",
    "def make_video_centroid(\n",
    "                    tracks_huddles,\n",
    "                    tracks_features,\n",
    "                    tracks_huddle_ethogram,\n",
    "                    fname_video,\n",
    "                    fname_video_out,\n",
    "                    start,\n",
    "                    end,\n",
    "                    fps,\n",
    "                    shrink,):\n",
    "    # colors:\n",
    "    colors = [\n",
    "      (0,0,255),\n",
    "      (255,0,0),\n",
    "      (0,255,255),\n",
    "      (139,0,139),\n",
    "      (0,255,0),\n",
    "      (255,255,0),\n",
    "      (125,125,0),\n",
    "    ]\n",
    "    #\n",
    "    names = ['female', 'male', 'pup1', 'pup2', 'pup3','pup4']\n",
    "    clrs = ['royalblue', 'firebrick', 'goldenrod', 'seagreen', 'rebeccapurple','lightskyblue']\n",
    "    if start is None:\n",
    "        start = 0\n",
    "    if end is None:\n",
    "        end = tracks.shape[0]\n",
    "    # load and videos\n",
    "    video_name = fname_video\n",
    "    fname_out = (video_name[:-4] + '_' + str(start) + \"_\" + str(end) + '_'+ fname_video_out+'.mp4')\n",
    "    if False:  # os.path.exists(fname_out):\n",
    "        print(\"fname: exists\", fname_out)\n",
    "        return\n",
    "\n",
    "    # rescale tracks\n",
    "    tracks= tracks_huddles/shrink\n",
    "    # load original vid\n",
    "    original_vid = cv2.VideoCapture(video_name)\n",
    "    width = original_vid.get(cv2.CAP_PROP_FRAME_WIDTH )\n",
    "    height = original_vid.get(cv2.CAP_PROP_FRAME_HEIGHT )\n",
    "    fps_out =  fps\n",
    "    print (\"width, height: \", width,height)\n",
    "    # video settings\n",
    "    size_vid = np.int32(np.array([width, height])/shrink)\n",
    "    dot_size = int(12/shrink)\n",
    "    thickness = -1\n",
    "    #print (\"size vid: \", size_vid)\n",
    "    # make new video\n",
    "    fourcc = cv2.VideoWriter_fourcc('M', 'P', 'E', 'G')\n",
    "    video_out = cv2.VideoWriter(fname_out, fourcc, fps_out, (size_vid[0], size_vid[1]), True)\n",
    "    # set frames to new ones\n",
    "    original_vid.set(cv2.CAP_PROP_POS_FRAMES, start)\n",
    "    font = cv2.FONT_HERSHEY_PLAIN\n",
    "\n",
    "    #\n",
    "    for n in trange(start, end, 1):\n",
    "        #\n",
    "        ret, frame = original_vid.read()\n",
    "        # scale frame\n",
    "        shrink_ratio = 1/shrink\n",
    "        frame = cv2.resize(frame, # original image\n",
    "                  (0,0), # set fx and fy, not the final size\n",
    "                  fx=shrink_ratio,\n",
    "                  fy=shrink_ratio,\n",
    "                  interpolation=cv2.INTER_NEAREST)\n",
    "        \n",
    "        # plot huddles\n",
    "        #if False:\n",
    "        for i in range(tracks_huddles.shape[1]):\n",
    "            color = colors[6]\n",
    "            # for f in range(tracks.shape[2]):\n",
    "            x = tracks_huddles[n, i, 0]\n",
    "            y = tracks_huddles[n, i, 1]\n",
    "            if np.isnan(x):\n",
    "                continue\n",
    "            center_coordinates_huddle = (int(x), int(y))\n",
    "            radius = int(dot_size/2)\n",
    "            ######## IF HUDDLE #######\n",
    "            radius = 100\n",
    "            if False:\n",
    "                frame = cv2.circle(frame,\n",
    "                                center_coordinates_huddle,\n",
    "                                radius,\n",
    "                                color,\n",
    "                                thickness)\n",
    "\n",
    "                    \n",
    "        # plot huddle ethogram markers\n",
    "        x = [-1,0,1,-1,0,1]\n",
    "        y = [0,0,0,1,1,1]\n",
    "        for i in range(tracks_huddle_ethogram.shape[1]):\n",
    "            color = colors[i]\n",
    "            # for f in range(tracks.shape[2]):\n",
    "            idx = tracks_huddle_ethogram[n//fps, i]\n",
    "            if idx==0:\n",
    "                continue\n",
    "            #print (center_coordinates_huddle[0]+int(x)*5)\n",
    "            center_coordinates = (center_coordinates_huddle[0]+int(x[i])*75, \n",
    "                                  center_coordinates_huddle[1] + int(y[i])*75)\n",
    "            radius = int(dot_size/2)\n",
    "            ######## IF HUDDLE #######\n",
    "            radius = 30\n",
    "            frame = cv2.circle(frame,\n",
    "                                center_coordinates,\n",
    "                                radius,\n",
    "                                color,\n",
    "                                thickness)\n",
    "            \n",
    "                    \n",
    "        # plot tracks\n",
    "        for i in range(tracks_features.shape[1]):\n",
    "            color = colors[i]\n",
    "            # for f in range(tracks.shape[2]):\n",
    "            x = tracks_features[n, i, 0]\n",
    "            y = tracks_features[n, i, 1]\n",
    "            if np.isnan(x):\n",
    "                continue\n",
    "            center_coordinates = (int(x), int(y))\n",
    "            radius = int(dot_size/2)\n",
    "            ######## IF HUDDLE #######\n",
    "            radius = 12\n",
    "            frame = cv2.circle(frame,\n",
    "                                center_coordinates,\n",
    "                                radius,\n",
    "                                color,\n",
    "                                thickness)\n",
    "        #\n",
    "        video_out.write(frame)\n",
    "    video_out.release()\n",
    "\n",
    "#\n",
    "shrink = 1 # shrink image factor\n",
    "fname_video_out = 'final'\n",
    "fname_video = '/home/cat/Downloads/2020_08_01_07_21_02_430892_compressed_defished_shrink_cropped.mp4'\n",
    "#features_huddles = np.load('/mnt/b3a68699-495d-4ebb-9ab1-ac74f11c68c5/gerbil/cohort2/huddles/2020_08_01_20_04_11_490071_compressed_Both_huddle_spine_fixed_interpolated.npy')\n",
    "#features_tracks = np.load('/mnt/b3a68699-495d-4ebb-9ab1-ac74f11c68c5/gerbil/cohort2/features/2020_08_01_20_04_11_490071_compressed_Both_spine_nohuddle.npy')\n",
    "features_tracks = np.load('/mnt/b3a68699-495d-4ebb-9ab1-ac74f11c68c5/gerbil/cohort2/features/2020_08_01_07_21_02_430892_compressed_Night_spine_nohuddle.npy')\n",
    "features_huddles = np.load('/mnt/b3a68699-495d-4ebb-9ab1-ac74f11c68c5/gerbil/cohort2/huddles/2020_08_01_07_21_02_430892_compressed_Night_huddle_spine_fixed_interpolated.npy')\n",
    "features_huddle_ethogram = np.load('/mnt/b3a68699-495d-4ebb-9ab1-ac74f11c68c5/gerbil/cohort2/features/2020_08_01_07_21_02_430892_compressed_Night_spine_nohuddle_huddle_ethogram.npy').T\n",
    "#\n",
    "####################################################\n",
    "########## MAKE MOVIES OF SPINE CENTRES ############\n",
    "####################################################\n",
    "start = 0\n",
    "end = 26000\n",
    "fps = 24\n",
    "scale = 1\n",
    "\n",
    "#\n",
    "make_video_centroid(features_huddles, \n",
    "                    features_tracks, \n",
    "                    features_huddle_ethogram,\n",
    "                    fname_video, \n",
    "                    fname_video_out, \n",
    "                    start, \n",
    "                    end, \n",
    "                    fps, \n",
    "                    scale)\n",
    "                    \n",
    "  "
   ]
  },
  {
   "cell_type": "code",
   "execution_count": 13,
   "metadata": {},
   "outputs": [],
   "source": [
    "features_huddle_ethogram = np.load('/mnt/b3a68699-495d-4ebb-9ab1-ac74f11c68c5/gerbil/cohort2/features/2020_08_01_07_21_02_430892_compressed_Night_spine_nohuddle_huddle_ethogram.npy')\n",
    "\n"
   ]
  },
  {
   "cell_type": "code",
   "execution_count": 14,
   "metadata": {},
   "outputs": [
    {
     "name": "stdout",
     "output_type": "stream",
     "text": [
      "(6, 1201)\n"
     ]
    }
   ],
   "source": [
    "print (features_huddle_ethogram.shape)"
   ]
  },
  {
   "cell_type": "code",
   "execution_count": null,
   "metadata": {},
   "outputs": [],
   "source": []
  },
  {
   "cell_type": "code",
   "execution_count": null,
   "metadata": {},
   "outputs": [],
   "source": []
  },
  {
   "cell_type": "code",
   "execution_count": null,
   "metadata": {},
   "outputs": [],
   "source": []
  },
  {
   "cell_type": "code",
   "execution_count": null,
   "metadata": {},
   "outputs": [],
   "source": []
  },
  {
   "cell_type": "code",
   "execution_count": null,
   "metadata": {},
   "outputs": [],
   "source": []
  },
  {
   "cell_type": "code",
   "execution_count": null,
   "metadata": {},
   "outputs": [],
   "source": []
  },
  {
   "cell_type": "code",
   "execution_count": null,
   "metadata": {},
   "outputs": [],
   "source": []
  },
  {
   "cell_type": "code",
   "execution_count": null,
   "metadata": {},
   "outputs": [],
   "source": []
  },
  {
   "cell_type": "code",
   "execution_count": null,
   "metadata": {},
   "outputs": [],
   "source": []
  },
  {
   "cell_type": "code",
   "execution_count": null,
   "metadata": {},
   "outputs": [],
   "source": []
  },
  {
   "cell_type": "code",
   "execution_count": null,
   "metadata": {},
   "outputs": [],
   "source": []
  },
  {
   "cell_type": "code",
   "execution_count": null,
   "metadata": {},
   "outputs": [],
   "source": []
  },
  {
   "cell_type": "code",
   "execution_count": null,
   "metadata": {},
   "outputs": [],
   "source": []
  },
  {
   "cell_type": "code",
   "execution_count": null,
   "metadata": {},
   "outputs": [],
   "source": []
  },
  {
   "cell_type": "code",
   "execution_count": null,
   "metadata": {},
   "outputs": [],
   "source": []
  },
  {
   "cell_type": "code",
   "execution_count": null,
   "metadata": {},
   "outputs": [],
   "source": []
  },
  {
   "cell_type": "code",
   "execution_count": null,
   "metadata": {},
   "outputs": [],
   "source": []
  },
  {
   "cell_type": "code",
   "execution_count": null,
   "metadata": {},
   "outputs": [],
   "source": []
  },
  {
   "cell_type": "code",
   "execution_count": null,
   "metadata": {},
   "outputs": [],
   "source": []
  },
  {
   "cell_type": "code",
   "execution_count": null,
   "metadata": {},
   "outputs": [],
   "source": []
  }
 ],
 "metadata": {
  "kernelspec": {
   "display_name": "Python 3",
   "language": "python",
   "name": "python3"
  },
  "language_info": {
   "codemirror_mode": {
    "name": "ipython",
    "version": 3
   },
   "file_extension": ".py",
   "mimetype": "text/x-python",
   "name": "python",
   "nbconvert_exporter": "python",
   "pygments_lexer": "ipython3",
   "version": "3.7.0"
  }
 },
 "nbformat": 4,
 "nbformat_minor": 4
}
