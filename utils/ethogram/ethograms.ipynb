{
 "cells": [
  {
   "cell_type": "code",
   "execution_count": 3,
   "id": "7aba41e7-b903-43bf-a68b-acbed1061ad7",
   "metadata": {},
   "outputs": [
    {
     "data": {
      "application/javascript": [
       "IPython.notebook.set_autosave_interval(180000)"
      ]
     },
     "metadata": {},
     "output_type": "display_data"
    },
    {
     "name": "stdout",
     "output_type": "stream",
     "text": [
      "Autosaving every 180 seconds\n",
      "The autoreload extension is already loaded. To reload it, use:\n",
      "  %reload_ext autoreload\n"
     ]
    },
    {
     "data": {
      "text/html": [
       "<style>.container { width:100% !important; }</style>"
      ],
      "text/plain": [
       "<IPython.core.display.HTML object>"
      ]
     },
     "metadata": {},
     "output_type": "display_data"
    }
   ],
   "source": [
    "import matplotlib\n",
    "#matplotlib.use('Agg')\n",
    "%matplotlib tk\n",
    "%autosave 180\n",
    "\n",
    "%load_ext autoreload\n",
    "%autoreload 2\n",
    "\n",
    "import matplotlib.pyplot as plt\n",
    "from IPython.core.display import display, HTML\n",
    "display(HTML(\"<style>.container { width:100% !important; }</style>\"))\n",
    "\n",
    "import matplotlib.cm as cm\n",
    "from matplotlib import gridspec\n",
    "from scipy import signal\n",
    "from itertools import combinations\n",
    "import matplotlib.patches as mpatches\n",
    "\n",
    "import numpy as np\n",
    "import os\n",
    "import shutil\n",
    "\n",
    "\n",
    "from tqdm import trange, tqdm\n",
    "\n",
    "# \n",
    "from scipy import signal\n",
    "\n",
    "#    \n",
    "from scipy.io import loadmat\n",
    "import scipy\n",
    "\n",
    "# \n",
    "import csv\n",
    "\n",
    "#\n",
    "from ethogram import make_random_data, plot_ethogram_hourly"
   ]
  },
  {
   "cell_type": "code",
   "execution_count": 5,
   "id": "864877a3-8173-415a-a2a3-db770d3c22d8",
   "metadata": {},
   "outputs": [
    {
     "name": "stdout",
     "output_type": "stream",
     "text": [
      "[[15.  0. nan]\n",
      " [15.  1. nan]\n",
      " [15.  2. nan]\n",
      " ...\n",
      " [29. 21. nan]\n",
      " [29. 22. nan]\n",
      " [29. 23. nan]]\n"
     ]
    }
   ],
   "source": [
    "#################################################\n",
    "########## OPTIONAL: Make fake data #############\n",
    "#################################################\n",
    "# generate fake data for 15 days and using hourly partitions\n",
    "n_days = 15\n",
    "n_partitions = 24 #*60  # hours or minutes break down of the data;\n",
    "\n",
    "#\n",
    "data = make_random_data(n_days, n_partitions)\n",
    "print (data)\n"
   ]
  },
  {
   "cell_type": "code",
   "execution_count": 6,
   "id": "6b5f88a7-0d90-4efb-9d6b-07d4395690f1",
   "metadata": {},
   "outputs": [
    {
     "name": "stdout",
     "output_type": "stream",
     "text": [
      "Each row of this array or list should have 3 entries\n",
      "            [Post-natal day, hour of day /   minute of day, value]\n",
      "example:             21.0                    1.0                 197.0\n",
      "start day:  15.0\n",
      "start time:  0.0\n"
     ]
    }
   ],
   "source": [
    "#################################################\n",
    "########## OPTIONAL: Make fake data #############\n",
    "#################################################\n",
    "\n",
    "print (\"Each row of this array or list should have 3 entries\")\n",
    "print (\"            [Post-natal day, hour of day /   minute of day, value]\")\n",
    "print (\"example:            \",  data[145][0],\n",
    "       \"                  \", data[145][1], \n",
    "       \"               \", data[145][2])\n",
    "\n",
    "#\n",
    "#plt.figure(figsize=(5,10))\n",
    "plot_ethogram_hourly(n_days, n_partitions, data)\n",
    "\n",
    "#\n",
    "\n",
    "\n"
   ]
  },
  {
   "cell_type": "code",
   "execution_count": 9,
   "id": "c7d3a5ed-5d2a-461a-8321-6336d1f7015a",
   "metadata": {},
   "outputs": [
    {
     "name": "stdout",
     "output_type": "stream",
     "text": [
      "15\n",
      "24\n",
      "[[15.  0. nan]\n",
      " [15.  1. nan]\n",
      " [15.  2. nan]\n",
      " ...\n",
      " [29. 21. nan]\n",
      " [29. 22. nan]\n",
      " [29. 23. nan]]\n"
     ]
    }
   ],
   "source": [
    "print (n_days)\n",
    "\n",
    "print (n_partitions)\n",
    "\n",
    "print (data)\n",
    "\n"
   ]
  },
  {
   "cell_type": "code",
   "execution_count": null,
   "id": "9230fa4d-f876-4e29-aa26-3c7c6bf23d3b",
   "metadata": {},
   "outputs": [],
   "source": []
  },
  {
   "cell_type": "code",
   "execution_count": null,
   "id": "1a066870-f5c5-455f-8939-6ea7fe84f646",
   "metadata": {},
   "outputs": [],
   "source": []
  },
  {
   "cell_type": "code",
   "execution_count": null,
   "id": "d38c1501-6948-4ef7-bb6e-8f522724e839",
   "metadata": {},
   "outputs": [],
   "source": []
  },
  {
   "cell_type": "code",
   "execution_count": null,
   "id": "13ff494f-fb5d-487e-80bc-7bdc22807325",
   "metadata": {},
   "outputs": [],
   "source": []
  },
  {
   "cell_type": "code",
   "execution_count": null,
   "id": "3f2dbb4d-ec23-4fc0-8d86-cdf0cb0da026",
   "metadata": {},
   "outputs": [],
   "source": []
  },
  {
   "cell_type": "code",
   "execution_count": null,
   "id": "1e6d721f-60ba-429c-b169-e124be14d9e8",
   "metadata": {},
   "outputs": [],
   "source": []
  },
  {
   "cell_type": "code",
   "execution_count": null,
   "id": "bef2fe79-c8e3-422b-8796-c5e9df7e8051",
   "metadata": {},
   "outputs": [],
   "source": []
  },
  {
   "cell_type": "code",
   "execution_count": null,
   "id": "e07e24bb-9cf9-496b-bdc7-2b95b4478e23",
   "metadata": {},
   "outputs": [],
   "source": []
  },
  {
   "cell_type": "code",
   "execution_count": null,
   "id": "214ef90d-9540-4a08-a4d0-b60ec487af71",
   "metadata": {},
   "outputs": [],
   "source": []
  },
  {
   "cell_type": "code",
   "execution_count": null,
   "id": "3c008605-4815-48ba-862b-ea8151d1bfde",
   "metadata": {},
   "outputs": [],
   "source": []
  },
  {
   "cell_type": "code",
   "execution_count": null,
   "id": "67e67837-00f1-4f65-a1dd-e03d45152e74",
   "metadata": {},
   "outputs": [],
   "source": []
  }
 ],
 "metadata": {
  "kernelspec": {
   "display_name": "Python 3",
   "language": "python",
   "name": "python3"
  },
  "language_info": {
   "codemirror_mode": {
    "name": "ipython",
    "version": 3
   },
   "file_extension": ".py",
   "mimetype": "text/x-python",
   "name": "python",
   "nbconvert_exporter": "python",
   "pygments_lexer": "ipython3",
   "version": "3.7.0"
  }
 },
 "nbformat": 4,
 "nbformat_minor": 5
}
