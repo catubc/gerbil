{
 "cells": [
  {
   "cell_type": "code",
   "execution_count": 1,
   "id": "cd21b64a-e61c-4fd8-8856-632f7c42357a",
   "metadata": {
    "tags": []
   },
   "outputs": [
    {
     "data": {
      "application/javascript": [
       "IPython.notebook.set_autosave_interval(180000)"
      ]
     },
     "metadata": {},
     "output_type": "display_data"
    },
    {
     "name": "stdout",
     "output_type": "stream",
     "text": [
      "Autosaving every 180 seconds\n"
     ]
    },
    {
     "data": {
      "text/html": [
       "<style>.container { width:100% !important; }</style>"
      ],
      "text/plain": [
       "<IPython.core.display.HTML object>"
      ]
     },
     "metadata": {},
     "output_type": "display_data"
    }
   ],
   "source": [
    "import matplotlib\n",
    "%matplotlib tk\n",
    "%autosave 180\n",
    "%load_ext autoreload\n",
    "%autoreload 2\n",
    "\n",
    "import nest_asyncio\n",
    "\n",
    "%config Completer.use_jedi = False\n",
    "\n",
    "#\n",
    "import matplotlib.pyplot as plt\n",
    "from IPython.core.display import display, HTML\n",
    "display(HTML(\"<style>.container { width:100% !important; }</style>\"))\n",
    "\n",
    "# \n",
    "import matplotlib.cm as cm\n",
    "import numpy as np\n",
    "import os\n",
    "from tqdm import tqdm\n",
    "import pandas as pd\n",
    "\n",
    "#\n",
    "import sys\n",
    "sys.path.append('/home/cat/code/gerbil/')\n",
    "\n",
    "# \n",
    "from utils.track import track\n",
    "from utils.convert import convert\n",
    "from utils.ethogram import ethogram\n",
    "from utils.cohort import cohort\n",
    "from utils.cohort.cohort import CohortProcessor"
   ]
  },
  {
   "cell_type": "code",
   "execution_count": 2,
   "id": "01b1e0f5",
   "metadata": {
    "tags": []
   },
   "outputs": [
    {
     "name": "stdout",
     "output_type": "stream",
     "text": [
      "DF:     Unnamed: 0  Cohort NN Type                                   Filename Dev Day  # of Gerbils Time of Light Switch  Shaved?  Predicted?                                   Slp filename Start time\n",
      "0           0       2     Day  2020_07_20_09_53_59_813912_compressed.mp4     P15             6                  NaN        1           1  2020_07_20_09_53_59_813912_compressed_Day.slp   09:53:59\n",
      "1           1       2     Day  2020_07_20_10_16_08_629297_compressed.mp4     P15             6                  NaN        1           1  2020_07_20_10_16_08_629297_compressed_Day.slp   10:16:08\n",
      "2           2       2     Day  2020_07_20_10_38_20_043555_compressed.mp4     P15             6                  NaN        1           1  2020_07_20_10_38_20_043555_compressed_Day.slp   10:38:20\n",
      "3           3       2     Day  2020_07_20_11_00_31_566455_compressed.mp4     P15             6                  NaN        1           1  2020_07_20_11_00_31_566455_compressed_Day.slp   11:00:31\n",
      "4           4       2     Day  2020_07_20_11_22_36_823934_compressed.mp4     P15             6                  NaN        1           1  2020_07_20_11_22_36_823934_compressed_Day.slp   11:22:36\n",
      "Loading only recordings with 6 animals...\n",
      " ... total # :  991  /  991\n",
      "['index', 'timestamp', 'onset', 'offset', 'hour_of_day', 'date', 'spectral_flatness', 'latent_mean_umap', 'audio_filename', 'cohort', 'dt_start', 'cluster_hand', 'latent_means', 'watershed10', 'latent_mean_proj', 'cohort_int', 'z_50', 'z_60', 'z_70', 'prob_z_50', 'prob_z_60', 'prob_z_70']\n",
      "(185414, 22)\n",
      "(185414,)\n",
      "unique fnames:  (1123,)\n",
      "['2020_07_19_16_32_55_857727_merged.wav'\n",
      " '2020_07_19_16_55_03_088011_merged.wav'\n",
      " '2020_07_19_17_17_10_780055_merged.wav' ...\n",
      " '2020_08_06_21_38_40_073129_merged.wav'\n",
      " '2020_08_07_04_18_52_750734_merged.wav'\n",
      " '2020_08_07_08_23_23_221039_merged.wav']\n",
      "(185414,) (185414,)\n",
      "[ 6.8567   7.14957 12.27162]\n"
     ]
    }
   ],
   "source": [
    "######################################################\n",
    "############# LOAD ANIMAL DATABASE ###################\n",
    "######################################################\n",
    "fname_spreadsheet = '/mnt/b3a68699-495d-4ebb-9ab1-ac74f11c68c5/gerbil/cohort2/database.xlsx'\n",
    "\n",
    "#\n",
    "cohort = CohortProcessor(fname_spreadsheet)\n",
    "cohort.load_database()\n",
    "\n",
    "#\n",
    "cohort.ethogram = ethogram\n",
    "\n",
    "# load vocalization database\n",
    "fname = '/mnt/b3a68699-495d-4ebb-9ab1-ac74f11c68c5/gerbil/mixed_membership_assignments_df.feather'\n",
    "\n",
    "df = pd.read_feather(fname)\n",
    "\n",
    "# Get and print the column names\n",
    "column_names = df.columns.tolist()\n",
    "print(column_names)\n",
    "\n",
    "# Filter rows where the \"cohort\" column has the value \"c2\"\n",
    "cohort.voc = df[df['cohort'] == 'c2']\n",
    "print(cohort.voc.shape)\n",
    "\n",
    "#\n",
    "cohort.fnames_voc = cohort.voc['audio_filename']\n",
    "print (cohort.fnames_voc.shape)\n",
    "\n",
    "fnames_unique = np.unique(cohort.fnames_voc)\n",
    "print (\"unique fnames: \", fnames_unique.shape)\n",
    "print (fnames_unique)\n",
    "\n",
    "#\n",
    "starts = np.array(cohort.voc['onset'])\n",
    "ends = np.array(cohort.voc['offset'])\n",
    "print (starts.shape, ends.shape)\n",
    "\n",
    "print (starts[:3])"
   ]
  },
  {
   "cell_type": "code",
   "execution_count": 3,
   "id": "710073fb-c998-46a7-b97d-591c8cccab11",
   "metadata": {
    "tags": []
   },
   "outputs": [
    {
     "name": "stdout",
     "output_type": "stream",
     "text": [
      "(991,)\n",
      "2020_07_20_09_53_59_813912\n"
     ]
    }
   ],
   "source": [
    "\n"
   ]
  },
  {
   "cell_type": "code",
   "execution_count": 11,
   "id": "0b81a4ca-7d8e-4316-b330-7adc8480704c",
   "metadata": {
    "tags": []
   },
   "outputs": [
    {
     "name": "stdout",
     "output_type": "stream",
     "text": [
      "Matches:  (166596, 2)\n",
      "...DONE...\n"
     ]
    }
   ],
   "source": [
    "###########################################\n",
    "###########################################\n",
    "###########################################\n",
    "\n",
    "#\n",
    "cohort.find_voc_to_slp_match()\n",
    "\n",
    "#\n",
    "print (\"...DONE...\")\n",
    "\n",
    "\n"
   ]
  },
  {
   "cell_type": "code",
   "execution_count": null,
   "id": "70410f05-7a44-4a52-ac31-45c896c82ee6",
   "metadata": {},
   "outputs": [],
   "source": [
    "###############################\n",
    "\n",
    "# load the formatted time stamps for each track\n",
    "def load_feature_tracks(self):\n",
    "    #\n",
    "    self.root_dir_features = os.path.join(os.path.split(self.fname_spreadsheet)[0],\n",
    "                                          'features')\n",
    "\n",
    "    #\n",
    "    self.tracks_features = []\n",
    "    self.tracks_features_pdays = []\n",
    "    self.tracks_features_start_times_absolute_mins = []\n",
    "    self.tracks_features_start_times_absolute_sec = []\n",
    "    self.tracks_features_fnames = []\n",
    "    missing =0\n",
    "    for k in range(self.fnames_slp.shape[0]):\n",
    "        fname = os.path.join(self.root_dir_features,self.fnames_slp[k][0]).replace(\n",
    "                                '.mp4','_'+self.NN_type[k][0])+\".slp\"\n",
    "        if self.use_nohuddle:\n",
    "            self.fname_spine_saved = fname[:-4]+\"_spine_nohuddle.npy\"\n",
    "        else:\n",
    "            self.fname_spine_saved = fname[:-4]+\"_spine.npy\"\n",
    "\n",
    "        if os.path.exists(self.fname_spine_saved)==False:\n",
    "            continue\n",
    "\n",
    "        #\n",
    "        try:\n",
    "            self.tracks_features_fnames.append(self.fname_spine_saved)\n",
    "            self.tracks_features.append(np.load(self.fname_spine_saved))\n",
    "            self.tracks_features_pdays.append(self.PDays[k])\n",
    "            self.tracks_features_start_times_absolute_mins.append(self.start_times_absolute_minute[k])\n",
    "            self.tracks_features_start_times_absolute_sec.append(self.start_times_absolute_sec[k])\n",
    "        except:\n",
    "            #print (\"missing fname: \", fname)\n",
    "            missing+=1\n",
    "    #\n",
    "    print (\"# of feature tracks: \", len(self.tracks_features), \", missing: \", missing)"
   ]
  },
  {
   "cell_type": "code",
   "execution_count": 19,
   "id": "ec1c9bcf-0122-467d-8ca0-0e7e6aaeebf4",
   "metadata": {
    "tags": []
   },
   "outputs": [
    {
     "name": "stdout",
     "output_type": "stream",
     "text": [
      "size of img:  (86400, 96)  size of flatten image:  (1382400, 6)\n"
     ]
    },
    {
     "ename": "AttributeError",
     "evalue": "'CohortProcessor' object has no attribute 'tracks_features_start_times_absolute_sec'",
     "output_type": "error",
     "traceback": [
      "\u001b[0;31m---------------------------------------------------------------------------\u001b[0m",
      "\u001b[0;31mAttributeError\u001b[0m                            Traceback (most recent call last)",
      "\u001b[0;32m/tmp/ipykernel_10945/2331059522.py\u001b[0m in \u001b[0;36m<module>\u001b[0;34m\u001b[0m\n\u001b[1;32m     12\u001b[0m \u001b[0;34m\u001b[0m\u001b[0m\n\u001b[1;32m     13\u001b[0m \u001b[0;31m# loop over every recording\u001b[0m\u001b[0;34m\u001b[0m\u001b[0;34m\u001b[0m\u001b[0;34m\u001b[0m\u001b[0m\n\u001b[0;32m---> 14\u001b[0;31m \u001b[0;32mfor\u001b[0m \u001b[0mctr\u001b[0m\u001b[0;34m,\u001b[0m\u001b[0mstart\u001b[0m \u001b[0;32min\u001b[0m \u001b[0menumerate\u001b[0m\u001b[0;34m(\u001b[0m\u001b[0mtqdm\u001b[0m\u001b[0;34m(\u001b[0m\u001b[0mcohort\u001b[0m\u001b[0;34m.\u001b[0m\u001b[0mtracks_features_start_times_absolute_sec\u001b[0m\u001b[0;34m)\u001b[0m\u001b[0;34m)\u001b[0m\u001b[0;34m:\u001b[0m\u001b[0;34m\u001b[0m\u001b[0;34m\u001b[0m\u001b[0m\n\u001b[0m\u001b[1;32m     15\u001b[0m \u001b[0;34m\u001b[0m\u001b[0m\n\u001b[1;32m     16\u001b[0m     \u001b[0;31m#\u001b[0m\u001b[0;34m\u001b[0m\u001b[0;34m\u001b[0m\u001b[0;34m\u001b[0m\u001b[0m\n",
      "\u001b[0;31mAttributeError\u001b[0m: 'CohortProcessor' object has no attribute 'tracks_features_start_times_absolute_sec'"
     ]
    }
   ],
   "source": [
    "############################################################\n",
    "############################################################\n",
    "############################################################\n",
    "#\n",
    "d = np.load('/mnt/b3a68699-495d-4ebb-9ab1-ac74f11c68c5/gerbil/cohort2/huddle_composition_ethogram.npy', allow_pickle=True)\n",
    "\n",
    "# image setup\n",
    "img_width = int(24*60*60*24/24)\n",
    "img = np.zeros((img_width,16*6))\n",
    "img_flattened = np.zeros((img_width*16,6))\n",
    "print (\"size of img: \", img.shape, \" size of flatten image: \", img_flattened.shape)\n",
    "\n",
    "# loop over every recording\n",
    "for ctr,start in enumerate(tqdm(cohort.tracks_features_start_times_absolute_sec)):\n",
    "\n",
    "    #\n",
    "    start_frames = start*cohort.video_frame_rate//cohort.n_frames_per_bin\n",
    "    start_col_flatten = start_frames #%(img_width)\n",
    "\n",
    "    # loop over animals\n",
    "    for k in range(len(cohort.huddle_comps_binned[0])):\n",
    "        start_row_flatten = k\n",
    "        try:\n",
    "            temp = cohort.huddle_comps_binned[ctr][k].squeeze()\n",
    "        except:\n",
    "            continue\n",
    "        idx = np.where(temp==1)[0]\n",
    "        temp[idx] = k+1\n",
    "        len_ = temp.shape[0]\n",
    "        img_flattened[start_col_flatten:start_col_flatten+len_,start_row_flatten] = temp[:len_]\n",
    "\n",
    "# remake non-flattened images\n",
    "ctr=0\n",
    "for k in range(0, img_flattened.shape[0], img_width):\n",
    "    temp = img_flattened[k:k+img_width]\n",
    "    #print (ctr, int(ctr*6), int((ctr+1)*6), k, k+img_width)\n",
    "    img[:,int(ctr*6):int((ctr+1)*6)] = temp\n",
    "    ctr+=1\n",
    "\n",
    "#\n",
    "img = np.array(img)\n",
    "#print (\"img.sha: \", img.shape)\n"
   ]
  },
  {
   "cell_type": "code",
   "execution_count": null,
   "id": "7b56a4a9-db4d-45a0-bb36-749beda6e345",
   "metadata": {},
   "outputs": [],
   "source": []
  },
  {
   "cell_type": "code",
   "execution_count": null,
   "id": "47c69f79-7caf-4754-a4cc-0a6ea79dfec7",
   "metadata": {},
   "outputs": [],
   "source": []
  },
  {
   "cell_type": "code",
   "execution_count": null,
   "id": "d6d8a5cb-4f4e-4807-b352-c0d8728d353d",
   "metadata": {},
   "outputs": [],
   "source": []
  },
  {
   "cell_type": "code",
   "execution_count": null,
   "id": "cca7a0a8-13e1-4aab-a338-2479fe861519",
   "metadata": {},
   "outputs": [],
   "source": []
  },
  {
   "cell_type": "code",
   "execution_count": null,
   "id": "e36c6309-dc30-4b94-b775-ab0cfbfe6fc0",
   "metadata": {},
   "outputs": [],
   "source": []
  },
  {
   "cell_type": "code",
   "execution_count": null,
   "id": "83d0b7a9-7dad-46bb-8892-115f5c822c03",
   "metadata": {},
   "outputs": [],
   "source": []
  },
  {
   "cell_type": "code",
   "execution_count": null,
   "id": "b32b9eb2-3d18-4b2d-8197-a9016914804e",
   "metadata": {},
   "outputs": [],
   "source": []
  },
  {
   "cell_type": "code",
   "execution_count": null,
   "id": "35d50e6e",
   "metadata": {},
   "outputs": [],
   "source": []
  },
  {
   "cell_type": "code",
   "execution_count": null,
   "id": "f22bd93b",
   "metadata": {},
   "outputs": [],
   "source": []
  },
  {
   "cell_type": "code",
   "execution_count": null,
   "id": "044807ea",
   "metadata": {},
   "outputs": [],
   "source": []
  },
  {
   "cell_type": "code",
   "execution_count": null,
   "id": "cc6ceda5",
   "metadata": {},
   "outputs": [],
   "source": []
  },
  {
   "cell_type": "code",
   "execution_count": null,
   "id": "ddea933c",
   "metadata": {},
   "outputs": [],
   "source": []
  },
  {
   "cell_type": "code",
   "execution_count": null,
   "id": "51f18d3a",
   "metadata": {},
   "outputs": [],
   "source": []
  }
 ],
 "metadata": {
  "kernelspec": {
   "display_name": "sleap_new",
   "language": "python",
   "name": "sleap_new"
  },
  "language_info": {
   "codemirror_mode": {
    "name": "ipython",
    "version": 3
   },
   "file_extension": ".py",
   "mimetype": "text/x-python",
   "name": "python",
   "nbconvert_exporter": "python",
   "pygments_lexer": "ipython3",
   "version": "3.7.12"
  }
 },
 "nbformat": 4,
 "nbformat_minor": 5
}
