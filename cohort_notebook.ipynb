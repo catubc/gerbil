{
 "cells": [
  {
   "cell_type": "code",
   "execution_count": 1,
   "id": "e45fb356",
   "metadata": {},
   "outputs": [
    {
     "data": {
      "application/javascript": [
       "IPython.notebook.set_autosave_interval(180000)"
      ]
     },
     "metadata": {},
     "output_type": "display_data"
    },
    {
     "name": "stdout",
     "output_type": "stream",
     "text": [
      "Autosaving every 180 seconds\n"
     ]
    },
    {
     "data": {
      "text/html": [
       "<style>.container { width:100% !important; }</style>"
      ],
      "text/plain": [
       "<IPython.core.display.HTML object>"
      ]
     },
     "metadata": {},
     "output_type": "display_data"
    }
   ],
   "source": [
    "import matplotlib\n",
    "%matplotlib tk\n",
    "%autosave 180\n",
    "%load_ext autoreload\n",
    "%autoreload 2\n",
    "\n",
    "import nest_asyncio\n",
    "\n",
    "%config Completer.use_jedi = False\n",
    "\n",
    "#\n",
    "import matplotlib.pyplot as plt\n",
    "from IPython.core.display import display, HTML\n",
    "display(HTML(\"<style>.container { width:100% !important; }</style>\"))\n",
    "\n",
    "# \n",
    "import matplotlib.cm as cm\n",
    "\n",
    "# \n",
    "import numpy as np\n",
    "import os\n",
    "from tqdm import trange\n",
    "import parmap\n",
    "import glob\n",
    "from sklearn.decomposition import PCA\n",
    "\n",
    "# \n",
    "from tqdm import tqdm\n",
    "import sleap\n",
    "\n",
    "import sklearn.experimental\n",
    "from sklearn.experimental import enable_iterative_imputer\n",
    "from sklearn.impute import IterativeImputer\n",
    "\n",
    "# \n",
    "from scipy.io import loadmat\n",
    "import scipy\n",
    "import scipy.ndimage\n",
    "\n",
    "#\n",
    "import parmap\n",
    "\n",
    "import sys\n",
    "sys.path.append('/home/cat/code/gerbil/')\n",
    "\n",
    "# \n",
    "from utils.track import track\n",
    "from utils.convert import convert\n",
    "from utils.ethogram import ethogram\n",
    "from utils.database import database"
   ]
  },
  {
   "cell_type": "code",
   "execution_count": 2,
   "id": "3ee229ca",
   "metadata": {},
   "outputs": [
    {
     "name": "stdout",
     "output_type": "stream",
     "text": [
      "DF:     Unnamed: 0  Cohort NN Type                                   Filename Dev Day  # of Gerbils Time of Light Switch  Shaved?  Predicted?                                   Slp filename\n",
      "0         0.0     2.0     Day  2020_07_20_09_53_59_813912_compressed.mp4     P15           6.0                  NaN      1.0         1.0  2020_07_20_09_53_59_813912_compressed_Day.slp\n",
      "1         1.0     2.0     Day  2020_07_20_10_16_08_629297_compressed.mp4     P15           6.0                  NaN      1.0         1.0  2020_07_20_10_16_08_629297_compressed_Day.slp\n",
      "2         2.0     2.0     Day  2020_07_20_10_38_20_043555_compressed.mp4     P15           6.0                  NaN      1.0         1.0  2020_07_20_10_38_20_043555_compressed_Day.slp\n",
      "3         3.0     2.0     Day  2020_07_20_11_00_31_566455_compressed.mp4     P15           6.0                  NaN      1.0         1.0  2020_07_20_11_00_31_566455_compressed_Day.slp\n",
      "4         4.0     2.0     Day  2020_07_20_11_22_36_823934_compressed.mp4     P15           6.0                  NaN      1.0         1.0  2020_07_20_11_22_36_823934_compressed_Day.slp\n",
      "Loading only recordings with 6 animals...\n",
      " ... total # :  991  /  992\n"
     ]
    }
   ],
   "source": [
    "######################################################\n",
    "############# LOAD ANIMAL DATABASE ###################\n",
    "######################################################\n",
    "cohort = database.CohortProcessor()\n",
    "cohort.fname_spreadsheet = '/media/cat/4TBSSD/dan/cohort2/P21_P28/database.xlsx'\n",
    "cohort.load_database()\n"
   ]
  },
  {
   "cell_type": "code",
   "execution_count": 21,
   "id": "80f91d93",
   "metadata": {
    "tags": []
   },
   "outputs": [
    {
     "name": "stderr",
     "output_type": "stream",
     "text": [
      "100%|██████████| 126/126 [00:00<00:00, 3307.29it/s]\n"
     ]
    }
   ],
   "source": [
    "######################################################\n",
    "############# PREPROCESS FEATURE TRACKS ##############\n",
    "######################################################\n",
    "cohort.n_cores = 30\n",
    "cohort.parallel = True\n",
    "cohort.preprocess_feature_tracks()\n",
    "\n"
   ]
  },
  {
   "cell_type": "code",
   "execution_count": 24,
   "id": "855fb0c1",
   "metadata": {
    "tags": []
   },
   "outputs": [
    {
     "name": "stderr",
     "output_type": "stream",
     "text": [
      "100%|██████████| 126/126 [00:15<00:00,  7.99it/s]\n"
     ]
    }
   ],
   "source": [
    "#################################################################\n",
    "###################### PREPROCESS HUDDLES #######################\n",
    "#################################################################\n",
    "\n",
    "# \n",
    "cohort.parallel = True\n",
    "cohort.preprocess_huddle_tracks()\n",
    "\n"
   ]
  },
  {
   "cell_type": "code",
   "execution_count": null,
   "id": "e3132a8c",
   "metadata": {},
   "outputs": [],
   "source": [
    "######################################################\n",
    "############# PREPROCESS FEATURE TRACKS ##############\n",
    "######################################################\n",
    "cohort.n_cores = 30\n",
    "\n"
   ]
  },
  {
   "cell_type": "code",
   "execution_count": 67,
   "id": "6864711f",
   "metadata": {},
   "outputs": [
    {
     "name": "stdout",
     "output_type": "stream",
     "text": [
      "res:  (991, 6, 6)\n"
     ]
    }
   ],
   "source": [
    "#\n",
    "res=[]\n",
    "for k in range(0,991,1):\n",
    "    cohort.track_id = k\n",
    "    track = cohort.load_single_feature_spines()\n",
    "\n",
    "    #\n",
    "    if track is None:\n",
    "        res.append(np.zeros((6,6)))\n",
    "        continue\n",
    "        \n",
    "    #\n",
    "    cohort.symmetric_matrices=False\n",
    "    cohort.plotting=False\n",
    "    res.append(cohort.compute_pairwise_interactions(track))\n",
    "    \n",
    "res = np.array(res)\n",
    "print (\"res: \", res.shape)"
   ]
  },
  {
   "cell_type": "code",
   "execution_count": 78,
   "id": "9bd6b26c",
   "metadata": {},
   "outputs": [],
   "source": [
    "names=['female','male','pup1','pup2','pup3','pup4']\n",
    "from itertools import combinations\n",
    "\n",
    "pairs = list(combinations(np.arange(6),2))\n",
    "\n",
    "#\n",
    "Pstart = 15\n",
    "plt.figure()\n",
    "t = np.arange(res.shape[0])/3./24+Pstart\n",
    "pairs=[[0,1]]\n",
    "for pair in pairs:\n",
    "    plt.plot(t,res[:,pair[0],pair[1]], label = str(names[pair[0]])+ \" and \" +str(names[pair[1]]))\n",
    "\n",
    "plt.xlabel(\"Time (~days)\")\n",
    "plt.title(\"Time spent together\")\n",
    "plt.legend()\n",
    "#plt.label(\"% of total time\")\n",
    "plt.ylim(bottom=0)\n",
    "plt.xlim(t[0],t[-1])\n",
    "\n",
    "plt.show()"
   ]
  },
  {
   "cell_type": "code",
   "execution_count": null,
   "id": "790a5750",
   "metadata": {},
   "outputs": [],
   "source": []
  },
  {
   "cell_type": "code",
   "execution_count": null,
   "id": "dec24944",
   "metadata": {},
   "outputs": [],
   "source": []
  },
  {
   "cell_type": "code",
   "execution_count": null,
   "id": "4e70d8d0",
   "metadata": {},
   "outputs": [],
   "source": []
  }
 ],
 "metadata": {
  "kernelspec": {
   "display_name": "Python 3",
   "language": "python",
   "name": "python3"
  },
  "language_info": {
   "codemirror_mode": {
    "name": "ipython",
    "version": 3
   },
   "file_extension": ".py",
   "mimetype": "text/x-python",
   "name": "python",
   "nbconvert_exporter": "python",
   "pygments_lexer": "ipython3",
   "version": "3.7.0"
  }
 },
 "nbformat": 4,
 "nbformat_minor": 5
}
